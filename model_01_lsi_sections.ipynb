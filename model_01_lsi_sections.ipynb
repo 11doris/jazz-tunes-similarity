{
  "nbformat": 4,
  "nbformat_minor": 0,
  "metadata": {
    "colab": {
      "name": "colab_g_recommender_score",
      "provenance": [],
      "toc_visible": true,
      "authorship_tag": "ABX9TyPAl+3Folc7WpLtukE8Iu3u",
      "include_colab_link": true
    },
    "kernelspec": {
      "name": "python3",
      "display_name": "Python 3"
    },
    "language_info": {
      "name": "python"
    },
    "accelerator": "GPU",
    "widgets": {
      "application/vnd.jupyter.widget-state+json": {
        "5ad0bb9fd2e4438583173c971c49eac0": {
          "model_module": "@jupyter-widgets/controls",
          "model_name": "VBoxModel",
          "model_module_version": "1.5.0",
          "state": {
            "_view_name": "VBoxView",
            "_dom_classes": [],
            "_model_name": "VBoxModel",
            "_view_module": "@jupyter-widgets/controls",
            "_model_module_version": "1.5.0",
            "_view_count": null,
            "_view_module_version": "1.5.0",
            "box_style": "",
            "layout": "IPY_MODEL_473e08f6024a4de488245eb1a1f5cc10",
            "_model_module": "@jupyter-widgets/controls",
            "children": [
              "IPY_MODEL_d141ff9a0b19487a94638aca28f7e26b",
              "IPY_MODEL_5324327c62b04e15992d9eb981685e6b"
            ]
          }
        },
        "473e08f6024a4de488245eb1a1f5cc10": {
          "model_module": "@jupyter-widgets/base",
          "model_name": "LayoutModel",
          "model_module_version": "1.2.0",
          "state": {
            "_view_name": "LayoutView",
            "grid_template_rows": null,
            "right": null,
            "justify_content": null,
            "_view_module": "@jupyter-widgets/base",
            "overflow": null,
            "_model_module_version": "1.2.0",
            "_view_count": null,
            "flex_flow": null,
            "width": null,
            "min_width": null,
            "border": null,
            "align_items": null,
            "bottom": null,
            "_model_module": "@jupyter-widgets/base",
            "top": null,
            "grid_column": null,
            "overflow_y": null,
            "overflow_x": null,
            "grid_auto_flow": null,
            "grid_area": null,
            "grid_template_columns": null,
            "flex": null,
            "_model_name": "LayoutModel",
            "justify_items": null,
            "grid_row": null,
            "max_height": null,
            "align_content": null,
            "visibility": null,
            "align_self": null,
            "height": null,
            "min_height": null,
            "padding": null,
            "grid_auto_rows": null,
            "grid_gap": null,
            "max_width": null,
            "order": null,
            "_view_module_version": "1.2.0",
            "grid_template_areas": null,
            "object_position": null,
            "object_fit": null,
            "grid_auto_columns": null,
            "margin": null,
            "display": null,
            "left": null
          }
        },
        "d141ff9a0b19487a94638aca28f7e26b": {
          "model_module": "@jupyter-widgets/controls",
          "model_name": "LabelModel",
          "model_module_version": "1.5.0",
          "state": {
            "_view_name": "LabelView",
            "style": "IPY_MODEL_27f78c58c3c84e6993adffa55c90e190",
            "_dom_classes": [],
            "description": "",
            "_model_name": "LabelModel",
            "placeholder": "​",
            "_view_module": "@jupyter-widgets/controls",
            "_model_module_version": "1.5.0",
            "value": " 6.14MB of 6.14MB uploaded (0.00MB deduped)\r",
            "_view_count": null,
            "_view_module_version": "1.5.0",
            "description_tooltip": null,
            "_model_module": "@jupyter-widgets/controls",
            "layout": "IPY_MODEL_59a3f52e183a471ca02c6db945c853cd"
          }
        },
        "5324327c62b04e15992d9eb981685e6b": {
          "model_module": "@jupyter-widgets/controls",
          "model_name": "FloatProgressModel",
          "model_module_version": "1.5.0",
          "state": {
            "_view_name": "ProgressView",
            "style": "IPY_MODEL_fab144cf043d4aee896d604de7d5d983",
            "_dom_classes": [],
            "description": "",
            "_model_name": "FloatProgressModel",
            "bar_style": "",
            "max": 1,
            "_view_module": "@jupyter-widgets/controls",
            "_model_module_version": "1.5.0",
            "value": 1,
            "_view_count": null,
            "_view_module_version": "1.5.0",
            "orientation": "horizontal",
            "min": 0,
            "description_tooltip": null,
            "_model_module": "@jupyter-widgets/controls",
            "layout": "IPY_MODEL_2136d2311fe04982906918bb4bb4aca4"
          }
        },
        "27f78c58c3c84e6993adffa55c90e190": {
          "model_module": "@jupyter-widgets/controls",
          "model_name": "DescriptionStyleModel",
          "model_module_version": "1.5.0",
          "state": {
            "_view_name": "StyleView",
            "_model_name": "DescriptionStyleModel",
            "description_width": "",
            "_view_module": "@jupyter-widgets/base",
            "_model_module_version": "1.5.0",
            "_view_count": null,
            "_view_module_version": "1.2.0",
            "_model_module": "@jupyter-widgets/controls"
          }
        },
        "59a3f52e183a471ca02c6db945c853cd": {
          "model_module": "@jupyter-widgets/base",
          "model_name": "LayoutModel",
          "model_module_version": "1.2.0",
          "state": {
            "_view_name": "LayoutView",
            "grid_template_rows": null,
            "right": null,
            "justify_content": null,
            "_view_module": "@jupyter-widgets/base",
            "overflow": null,
            "_model_module_version": "1.2.0",
            "_view_count": null,
            "flex_flow": null,
            "width": null,
            "min_width": null,
            "border": null,
            "align_items": null,
            "bottom": null,
            "_model_module": "@jupyter-widgets/base",
            "top": null,
            "grid_column": null,
            "overflow_y": null,
            "overflow_x": null,
            "grid_auto_flow": null,
            "grid_area": null,
            "grid_template_columns": null,
            "flex": null,
            "_model_name": "LayoutModel",
            "justify_items": null,
            "grid_row": null,
            "max_height": null,
            "align_content": null,
            "visibility": null,
            "align_self": null,
            "height": null,
            "min_height": null,
            "padding": null,
            "grid_auto_rows": null,
            "grid_gap": null,
            "max_width": null,
            "order": null,
            "_view_module_version": "1.2.0",
            "grid_template_areas": null,
            "object_position": null,
            "object_fit": null,
            "grid_auto_columns": null,
            "margin": null,
            "display": null,
            "left": null
          }
        },
        "fab144cf043d4aee896d604de7d5d983": {
          "model_module": "@jupyter-widgets/controls",
          "model_name": "ProgressStyleModel",
          "model_module_version": "1.5.0",
          "state": {
            "_view_name": "StyleView",
            "_model_name": "ProgressStyleModel",
            "description_width": "",
            "_view_module": "@jupyter-widgets/base",
            "_model_module_version": "1.5.0",
            "_view_count": null,
            "_view_module_version": "1.2.0",
            "bar_color": null,
            "_model_module": "@jupyter-widgets/controls"
          }
        },
        "2136d2311fe04982906918bb4bb4aca4": {
          "model_module": "@jupyter-widgets/base",
          "model_name": "LayoutModel",
          "model_module_version": "1.2.0",
          "state": {
            "_view_name": "LayoutView",
            "grid_template_rows": null,
            "right": null,
            "justify_content": null,
            "_view_module": "@jupyter-widgets/base",
            "overflow": null,
            "_model_module_version": "1.2.0",
            "_view_count": null,
            "flex_flow": null,
            "width": null,
            "min_width": null,
            "border": null,
            "align_items": null,
            "bottom": null,
            "_model_module": "@jupyter-widgets/base",
            "top": null,
            "grid_column": null,
            "overflow_y": null,
            "overflow_x": null,
            "grid_auto_flow": null,
            "grid_area": null,
            "grid_template_columns": null,
            "flex": null,
            "_model_name": "LayoutModel",
            "justify_items": null,
            "grid_row": null,
            "max_height": null,
            "align_content": null,
            "visibility": null,
            "align_self": null,
            "height": null,
            "min_height": null,
            "padding": null,
            "grid_auto_rows": null,
            "grid_gap": null,
            "max_width": null,
            "order": null,
            "_view_module_version": "1.2.0",
            "grid_template_areas": null,
            "object_position": null,
            "object_fit": null,
            "grid_auto_columns": null,
            "margin": null,
            "display": null,
            "left": null
          }
        }
      }
    }
  },
  "cells": [
    {
      "cell_type": "markdown",
      "metadata": {
        "id": "view-in-github",
        "colab_type": "text"
      },
      "source": [
        "<a href=\"https://colab.research.google.com/github/11doris/jazz-maestro/blob/colab_word_embeddings/model_01_lsi_sections.ipynb\" target=\"_parent\"><img src=\"https://colab.research.google.com/assets/colab-badge.svg\" alt=\"Open In Colab\"/></a>"
      ]
    },
    {
      "cell_type": "markdown",
      "metadata": {
        "id": "YGhakKpa8Dtf"
      },
      "source": [
        "# Sections as Input"
      ]
    },
    {
      "cell_type": "code",
      "metadata": {
        "colab": {
          "base_uri": "https://localhost:8080/"
        },
        "id": "dm5QehpXxo31",
        "outputId": "16e7709d-5171-40c1-acad-66d11f273da6"
      },
      "source": [
        "pip install wandb"
      ],
      "execution_count": null,
      "outputs": [
        {
          "output_type": "stream",
          "name": "stdout",
          "text": [
            "Collecting wandb\n",
            "  Downloading wandb-0.12.9-py2.py3-none-any.whl (1.7 MB)\n",
            "\u001b[K     |████████████████████████████████| 1.7 MB 5.0 MB/s \n",
            "\u001b[?25hRequirement already satisfied: requests<3,>=2.0.0 in /usr/local/lib/python3.7/dist-packages (from wandb) (2.23.0)\n",
            "Collecting GitPython>=1.0.0\n",
            "  Downloading GitPython-3.1.24-py3-none-any.whl (180 kB)\n",
            "\u001b[K     |████████████████████████████████| 180 kB 3.8 MB/s \n",
            "\u001b[?25hRequirement already satisfied: python-dateutil>=2.6.1 in /usr/local/lib/python3.7/dist-packages (from wandb) (2.8.2)\n",
            "Collecting configparser>=3.8.1\n",
            "  Downloading configparser-5.2.0-py3-none-any.whl (19 kB)\n",
            "Collecting docker-pycreds>=0.4.0\n",
            "  Downloading docker_pycreds-0.4.0-py2.py3-none-any.whl (9.0 kB)\n",
            "Collecting pathtools\n",
            "  Downloading pathtools-0.1.2.tar.gz (11 kB)\n",
            "Collecting shortuuid>=0.5.0\n",
            "  Downloading shortuuid-1.0.8-py3-none-any.whl (9.5 kB)\n",
            "Requirement already satisfied: six>=1.13.0 in /usr/local/lib/python3.7/dist-packages (from wandb) (1.15.0)\n",
            "Collecting subprocess32>=3.5.3\n",
            "  Downloading subprocess32-3.5.4.tar.gz (97 kB)\n",
            "\u001b[K     |████████████████████████████████| 97 kB 4.4 MB/s \n",
            "\u001b[?25hRequirement already satisfied: promise<3,>=2.0 in /usr/local/lib/python3.7/dist-packages (from wandb) (2.3)\n",
            "Requirement already satisfied: psutil>=5.0.0 in /usr/local/lib/python3.7/dist-packages (from wandb) (5.4.8)\n",
            "Requirement already satisfied: protobuf>=3.12.0 in /usr/local/lib/python3.7/dist-packages (from wandb) (3.17.3)\n",
            "Requirement already satisfied: PyYAML in /usr/local/lib/python3.7/dist-packages (from wandb) (3.13)\n",
            "Collecting sentry-sdk>=1.0.0\n",
            "  Downloading sentry_sdk-1.5.1-py2.py3-none-any.whl (140 kB)\n",
            "\u001b[K     |████████████████████████████████| 140 kB 31.9 MB/s \n",
            "\u001b[?25hCollecting yaspin>=1.0.0\n",
            "  Downloading yaspin-2.1.0-py3-none-any.whl (18 kB)\n",
            "Requirement already satisfied: Click!=8.0.0,>=7.0 in /usr/local/lib/python3.7/dist-packages (from wandb) (7.1.2)\n",
            "Requirement already satisfied: typing-extensions>=3.7.4.3 in /usr/local/lib/python3.7/dist-packages (from GitPython>=1.0.0->wandb) (3.10.0.2)\n",
            "Collecting gitdb<5,>=4.0.1\n",
            "  Downloading gitdb-4.0.9-py3-none-any.whl (63 kB)\n",
            "\u001b[K     |████████████████████████████████| 63 kB 1.7 MB/s \n",
            "\u001b[?25hCollecting smmap<6,>=3.0.1\n",
            "  Downloading smmap-5.0.0-py3-none-any.whl (24 kB)\n",
            "Requirement already satisfied: urllib3!=1.25.0,!=1.25.1,<1.26,>=1.21.1 in /usr/local/lib/python3.7/dist-packages (from requests<3,>=2.0.0->wandb) (1.24.3)\n",
            "Requirement already satisfied: certifi>=2017.4.17 in /usr/local/lib/python3.7/dist-packages (from requests<3,>=2.0.0->wandb) (2021.10.8)\n",
            "Requirement already satisfied: idna<3,>=2.5 in /usr/local/lib/python3.7/dist-packages (from requests<3,>=2.0.0->wandb) (2.10)\n",
            "Requirement already satisfied: chardet<4,>=3.0.2 in /usr/local/lib/python3.7/dist-packages (from requests<3,>=2.0.0->wandb) (3.0.4)\n",
            "Requirement already satisfied: termcolor<2.0.0,>=1.1.0 in /usr/local/lib/python3.7/dist-packages (from yaspin>=1.0.0->wandb) (1.1.0)\n",
            "Building wheels for collected packages: subprocess32, pathtools\n",
            "  Building wheel for subprocess32 (setup.py) ... \u001b[?25l\u001b[?25hdone\n",
            "  Created wheel for subprocess32: filename=subprocess32-3.5.4-py3-none-any.whl size=6502 sha256=24efa2794f453b43b250618e632e2b4fa739fac32a7f759a0caf55f7d2051d22\n",
            "  Stored in directory: /root/.cache/pip/wheels/50/ca/fa/8fca8d246e64f19488d07567547ddec8eb084e8c0d7a59226a\n",
            "  Building wheel for pathtools (setup.py) ... \u001b[?25l\u001b[?25hdone\n",
            "  Created wheel for pathtools: filename=pathtools-0.1.2-py3-none-any.whl size=8807 sha256=132550923cee528cb2de493f69e06eaa96189b095a858a30456231d2cccd30b4\n",
            "  Stored in directory: /root/.cache/pip/wheels/3e/31/09/fa59cef12cdcfecc627b3d24273699f390e71828921b2cbba2\n",
            "Successfully built subprocess32 pathtools\n",
            "Installing collected packages: smmap, gitdb, yaspin, subprocess32, shortuuid, sentry-sdk, pathtools, GitPython, docker-pycreds, configparser, wandb\n",
            "Successfully installed GitPython-3.1.24 configparser-5.2.0 docker-pycreds-0.4.0 gitdb-4.0.9 pathtools-0.1.2 sentry-sdk-1.5.1 shortuuid-1.0.8 smmap-5.0.0 subprocess32-3.5.4 wandb-0.12.9 yaspin-2.1.0\n"
          ]
        }
      ]
    },
    {
      "cell_type": "code",
      "metadata": {
        "colab": {
          "base_uri": "https://localhost:8080/"
        },
        "id": "HZG8BDT-xrv3",
        "outputId": "20e729d5-f3c9-400d-fc71-ab99c29db281"
      },
      "source": [
        "!wandb login"
      ],
      "execution_count": null,
      "outputs": [
        {
          "output_type": "stream",
          "name": "stdout",
          "text": [
            "\u001b[34m\u001b[1mwandb\u001b[0m: You can find your API key in your browser here: https://wandb.ai/authorize\n",
            "\u001b[34m\u001b[1mwandb\u001b[0m: Paste an API key from your profile and hit enter, or press ctrl+c to quit: \n",
            "\u001b[34m\u001b[1mwandb\u001b[0m: Appending key for api.wandb.ai to your netrc file: /root/.netrc\n"
          ]
        }
      ]
    },
    {
      "cell_type": "code",
      "metadata": {
        "id": "WHZBzAXjxz1J"
      },
      "source": [
        "import wandb"
      ],
      "execution_count": null,
      "outputs": []
    },
    {
      "cell_type": "code",
      "metadata": {
        "colab": {
          "base_uri": "https://localhost:8080/"
        },
        "id": "MUy1ta4_782n",
        "outputId": "9431966e-5fe0-4941-9f42-6903b9dcb7a4"
      },
      "source": [
        "!pip uninstall gensim -y"
      ],
      "execution_count": null,
      "outputs": [
        {
          "output_type": "stream",
          "name": "stdout",
          "text": [
            "Found existing installation: gensim 3.6.0\n",
            "Uninstalling gensim-3.6.0:\n",
            "  Successfully uninstalled gensim-3.6.0\n"
          ]
        }
      ]
    },
    {
      "cell_type": "code",
      "metadata": {
        "colab": {
          "base_uri": "https://localhost:8080/"
        },
        "id": "oAroxmvO8GQj",
        "outputId": "514c3987-c334-47ff-c437-24ebcd351e01"
      },
      "source": [
        "!pip install gensim"
      ],
      "execution_count": null,
      "outputs": [
        {
          "output_type": "stream",
          "name": "stdout",
          "text": [
            "Collecting gensim\n",
            "  Downloading gensim-4.1.2-cp37-cp37m-manylinux_2_12_x86_64.manylinux2010_x86_64.whl (24.1 MB)\n",
            "\u001b[K     |████████████████████████████████| 24.1 MB 2.2 MB/s \n",
            "\u001b[?25hRequirement already satisfied: scipy>=0.18.1 in /usr/local/lib/python3.7/dist-packages (from gensim) (1.4.1)\n",
            "Requirement already satisfied: smart-open>=1.8.1 in /usr/local/lib/python3.7/dist-packages (from gensim) (5.2.1)\n",
            "Requirement already satisfied: numpy>=1.17.0 in /usr/local/lib/python3.7/dist-packages (from gensim) (1.19.5)\n",
            "Installing collected packages: gensim\n",
            "Successfully installed gensim-4.1.2\n"
          ]
        }
      ]
    },
    {
      "cell_type": "code",
      "metadata": {
        "id": "6SZ0zrKX8H-D"
      },
      "source": [
        "import gensim\n",
        "from sklearn.manifold import TSNE\n",
        "import matplotlib.pyplot as plt\n",
        "import pprint\n",
        "import pandas as pd\n",
        "import numpy as np\n",
        "from collections import Counter\n",
        "import plotly.express as px\n",
        "from tqdm import tqdm \n",
        "from gensim.models.doc2vec import Doc2Vec\n",
        "from gensim.models.tfidfmodel import TfidfModel\n",
        "from gensim.models.lsimodel import LsiModel\n",
        "from gensim.models import CoherenceModel\n",
        "from gensim import corpora\n",
        "from gensim import similarities\n",
        "import pickle\n",
        "import os\n",
        "import zipfile\n"
      ],
      "execution_count": null,
      "outputs": []
    },
    {
      "cell_type": "code",
      "metadata": {
        "id": "znWar-PK8KHT"
      },
      "source": [
        "import logging\n",
        "logging.basicConfig(format='%(asctime)s : %(levelname)s : %(message)s', level=logging.INFO)"
      ],
      "execution_count": null,
      "outputs": []
    },
    {
      "cell_type": "code",
      "metadata": {
        "colab": {
          "base_uri": "https://localhost:8080/"
        },
        "id": "kjCf_Abf8MCc",
        "outputId": "ac565f17-2bb9-4fdb-e66b-98d54ab2d4c3"
      },
      "source": [
        "print(gensim.__version__)"
      ],
      "execution_count": null,
      "outputs": [
        {
          "output_type": "stream",
          "name": "stdout",
          "text": [
            "4.1.2\n"
          ]
        }
      ]
    },
    {
      "cell_type": "code",
      "metadata": {
        "id": "_aEonlx-CT6r",
        "colab": {
          "base_uri": "https://localhost:8080/"
        },
        "outputId": "2463f2fa-1c47-4e2b-e6fb-a0982ca1e4f2"
      },
      "source": [
        "!rm data.csv"
      ],
      "execution_count": null,
      "outputs": [
        {
          "output_type": "stream",
          "name": "stdout",
          "text": [
            "rm: cannot remove 'data.csv': No such file or directory\n"
          ]
        }
      ]
    },
    {
      "cell_type": "code",
      "metadata": {
        "id": "Xhfwd9iMZ99Q"
      },
      "source": [
        "pd.set_option('display.max_rows', 500)\n",
        "pd.set_option('display.max_columns', 500)\n",
        "pd.set_option('display.width', 1000)"
      ],
      "execution_count": null,
      "outputs": []
    },
    {
      "cell_type": "markdown",
      "metadata": {
        "id": "Nk5pPZqk0Pn7"
      },
      "source": [
        "# Configuration\n"
      ]
    },
    {
      "cell_type": "code",
      "metadata": {
        "id": "wcZ18xhgU7MZ"
      },
      "source": [
        "use_wandb = True"
      ],
      "execution_count": null,
      "outputs": []
    },
    {
      "cell_type": "code",
      "metadata": {
        "id": "A-AD1gxGLYxp"
      },
      "source": [
        "generate_webapp_data = True"
      ],
      "execution_count": null,
      "outputs": []
    },
    {
      "cell_type": "code",
      "metadata": {
        "id": "GfQbJQmexlxI"
      },
      "source": [
        "docu = 'sections'\n",
        "#docu = 'tunes'\n",
        "chords_preprocessing = 'rootAndDegreesPlus'"
      ],
      "execution_count": null,
      "outputs": []
    },
    {
      "cell_type": "code",
      "metadata": {
        "id": "buoyWNl0F48Y"
      },
      "source": [
        "ngrams_for_input = [2]"
      ],
      "execution_count": null,
      "outputs": []
    },
    {
      "cell_type": "code",
      "metadata": {
        "id": "wzcT4kkmc49a"
      },
      "source": [
        "phrases_threshold = 1.0  # 1.0 for no phrases"
      ],
      "execution_count": null,
      "outputs": []
    },
    {
      "cell_type": "code",
      "metadata": {
        "id": "H9AFlUZ1lpGC"
      },
      "source": [
        "remove_repetitions = False"
      ],
      "execution_count": null,
      "outputs": []
    },
    {
      "cell_type": "code",
      "metadata": {
        "id": "K7qB2_sBvKpB"
      },
      "source": [
        "input_files = {\n",
        "    'sections': {\n",
        "        # M7 and 6 reduced to major triad, m7 reduced to m, dominant 7, m7b5, diminished, and all (b5) left as they are.\n",
        "        'rootAndDegreesPlus': '1NP6trpfnEPnFqJbmcuClvkBB28PNdF8c',\n",
        "        'rootAndDegrees7': '',\n",
        "        'rootAndDegreesSimplified': '1vyC9voFf2vpcKmS5kZBJ9Rafm7wuuzD8',\n",
        "    },\n",
        "    'tunes': {\n",
        "        'rootAndDegreesPlus': '',\n",
        "        'rootAndDegrees7': '',\n",
        "        'rootAndDegreesSimplified': '',\n",
        "    }\n",
        "}"
      ],
      "execution_count": null,
      "outputs": []
    },
    {
      "cell_type": "code",
      "metadata": {
        "colab": {
          "base_uri": "https://localhost:8080/"
        },
        "id": "lM6eaQwnyWD3",
        "outputId": "19ee3b40-7b67-4bc4-ca7b-152daf3dcf58"
      },
      "source": [
        "tunes_eval_list = [\n",
        "  \"Sweet Sue, Just You [jazz1350]\",\n",
        "  \"On The Sunny Side Of The Street [jazz1350]\",\n",
        "  \"These Foolish Things [jazz1350]\", \n",
        "  \"Blue Moon [jazz1350]\",\n",
        "  \"I Got Rhythm [jazz1350]\",\n",
        "  \"Old Fashioned Love [trad]\",\n",
        "  \"Exactly Like You [jazz1350]\",\n",
        "  \"Honeysuckle Rose [jazz1350]\",\n",
        "  \"Misty [jazz1350]\",\n",
        "  \"Wow [jazz1350]\",\n",
        "  \"Take The A Train [jazz1350]\"\n",
        "]\n",
        "\n",
        "tunes_eval_list = sorted(tunes_eval_list)\n",
        "tunes_eval_list"
      ],
      "execution_count": null,
      "outputs": [
        {
          "output_type": "execute_result",
          "data": {
            "text/plain": [
              "['Blue Moon [jazz1350]',\n",
              " 'Exactly Like You [jazz1350]',\n",
              " 'Honeysuckle Rose [jazz1350]',\n",
              " 'I Got Rhythm [jazz1350]',\n",
              " 'Misty [jazz1350]',\n",
              " 'Old Fashioned Love [trad]',\n",
              " 'On The Sunny Side Of The Street [jazz1350]',\n",
              " 'Sweet Sue, Just You [jazz1350]',\n",
              " 'Take The A Train [jazz1350]',\n",
              " 'These Foolish Things [jazz1350]',\n",
              " 'Wow [jazz1350]']"
            ]
          },
          "metadata": {},
          "execution_count": 18
        }
      ]
    },
    {
      "cell_type": "code",
      "metadata": {
        "id": "uiI0h4ef0PCD"
      },
      "source": [
        "contrafacts = [\n",
        "               (\"26-2 [jazz1350]\", \"Confirmation [jazz1350]\"),\n",
        "               (\"52nd Street Theme [jazz1350]\", \"I Got Rhythm [jazz1350]\"), # not a good match\n",
        "               (\"Ablution [jazz1350]\", \"All The Things You Are [jazz1350]\"),\n",
        "               (\"Anthropology [jazz1350]\", \"I Got Rhythm [jazz1350]\"),\n",
        "               (\"Ballade [jazz1350]\", \"As Long As I Live [jazz1350]\"),  # A from Ballade with B from As Long As I\n",
        "               (\"Bright Mississippi [jazz1350]\", \"Sweet Georgia Brown [jazz1350]\"),\n",
        "               (\"C.T.A. [jazz1350]\", \"I Got Rhythm [jazz1350]\"),\n",
        "               #( \"Celia [jazz1350]\", \"I Got Rhythm [jazz1350]\"),\n",
        "               (\"Cottontail [jazz1350]\", \"I Got Rhythm [jazz1350]\"),\n",
        "               (\"Countdown [jazz1350]\", \"Tune Up [jazz1350]\"),\n",
        "               (\"Dewey Square [jazz1350]\", \"Oh, Lady Be Good [jazz1350]\"),\n",
        "               (\"Dexterity [jazz1350]\", \"I Got Rhythm [jazz1350]\"),\n",
        "               (\"Dig [jazz1350]\", \"Sweet Georgia Brown [jazz1350]\"),\n",
        "               (\"Donna Lee [jazz1350]\", \"Indiana (Back Home Again In) [jazz1350]\"),\n",
        "               (\"Don't Be That Way [jazz1350]\", \"I Got Rhythm [jazz1350]\"),  # cannot be found; bridge in different key\n",
        "               #(\"Eternal Triangle [jazz1350]\", \"I Got Rhythm [jazz1350]\"),\n",
        "               (\"Evidence [jazz1350]\", \"Just You, Just Me [jazz1350]\"),\n",
        "               (\"Flintstones [jazz1350]\", \"I Got Rhythm [jazz1350]\"),\n",
        "               (\"Four On Six [jazz1350]\", \"Summertime [jazz1350]\"),\n",
        "               (\"Freight Train [jazz1350]\", \"Blues For Alice [jazz1350]\"),\n",
        "               (\"Good Bait [jazz1350]\", \"I Got Rhythm [jazz1350]\"),  # A sections\n",
        "               (\"Hackensack [jazz1350]\", \"Oh, Lady Be Good [jazz1350]\"),\n",
        "               (\"Half Nelson [jazz1350]\", \"Lady Bird [jazz1350]\"),\n",
        "               (\"Hot House [jazz1350]\", \"What Is This Thing Called Love [jazz1350]\"),\n",
        "               (\"Impressions [jazz1350]\", \"So What [jazz1350]\"),\n",
        "               (\"In A Mellow Tone (In A Mellotone) [jazz1350]\", \"Rose Room [jazz1350]\"),\n",
        "               (\"In Walked Bud [jazz1350]\", \"Blue Skies [jazz1350]\"),\n",
        "               (\"Ko Ko [jazz1350]\", \"Cherokee [jazz1350]\"),\n",
        "               (\"Lennie's Pennies [jazz1350]\", \"Pennies From Heaven [jazz1350]\"),   ## Lennie's Pennies is in minor and therefore transposed to Amin... not possible to recognize like that\n",
        "               #( \"Let's Call This [jazz1350]\", \"Honeysuckle Rose [jazz1350]\"),\n",
        "               (\"Little Rootie Tootie [jazz1350]\", \"I Got Rhythm [jazz1350]\"),\n",
        "               (\"Little Willie Leaps [jazz1350]\", \"All God's Chillun Got Rhythm [jazz1350]\"),\n",
        "               (\"Lullaby Of Birdland [jazz1350]\", \"Love Me Or Leave Me [jazz1350]\"),\n",
        "               #(\"Moose The Mooche [jazz1350]\", \"I Got Rhythm [jazz1350]\"),\n",
        "               (\"My Little Suede Shoes [jazz1350]\", \"Jeepers Creepers [jazz1350]\"),\n",
        "               #(\"Oleo [jazz1350]\", \"I Got Rhythm [jazz1350]\"),\n",
        "               (\"Ornithology [jazz1350]\", \"How High The Moon [jazz1350]\"),\n",
        "               #(\"Passport [jazz1350]\", \"I Got Rhythm [jazz1350]\"),\n",
        "               (\"Quasimodo (Theme) [jazz1350]\", \"Embraceable You [jazz1350]\"),\n",
        "               #(\"Rhythm-a-ning [jazz1350]\", \"I Got Rhythm [jazz1350]\"),\n",
        "               (\"Room 608 [jazz1350]\", \"I Got Rhythm [jazz1350]\"),\n",
        "               #(\"Salt Peanuts [jazz1350]\", \"I Got Rhythm [jazz1350]\"),\n",
        "               (\"Satellite [jazz1350]\", \"How High The Moon [jazz1350]\"),\n",
        "               (\"Scrapple From The Apple [jazz1350]\", \"Honeysuckle Rose [jazz1350]\"), # A section\n",
        "               (\"Scrapple From The Apple [jazz1350]\", \"I Got Rhythm [jazz1350]\"), # B section\n",
        "               #(\"Segment [jazz1350]\", \"I Got Rhythm [jazz1350]\"),\n",
        "               #(\"Seven Come Eleven [jazz1350]\", \"I Got Rhythm [jazz1350]\"),\n",
        "               #(\"Shaw 'Nuff [jazz1350]\", \"I Got Rhythm [jazz1350]\"),\n",
        "               #(\"Theme, The [jazz1350]\", \"I Got Rhythm [jazz1350]\"),\n",
        "               (\"Tour De Force [jazz1350]\", \"Jeepers Creepers [jazz1350]\"),\n",
        "               (\"Wow [jazz1350]\", \"You Can Depend On Me [jazz1350]\"),\n",
        "               (\"Yardbird Suite [jazz1350]\", \"Rosetta [jazz1350]\"),\n",
        "\n",
        "               # following tunes are not from wikipedia),\n",
        "               (\"Sweet Sue, Just You [jazz1350]\", \"Honeysuckle Rose [jazz1350]\"),  # A section\n",
        "               #(\"All Of Me [jazz1350]\", \"Pennies From Heaven [jazz1350]\"), # bars 25-28 of All of Me are same as bars 17-20 of Pennies From Heaven, but different key!\n",
        "               (\"Sweet Sue, Just You [jazz1350]\", \"Bye Bye Blackbird [jazz1350]\"), # Bridge same\n",
        "               (\"These Foolish Things [jazz1350]\", \"Blue Moon [jazz1350]\"), # first 8 bars same\n",
        "               (\"These Foolish Things [jazz1350]\", \"More Than You Know [jazz1350]\"),\n",
        "               (\"These Foolish Things [jazz1350]\", \"Isn't It A Pity [jazz1350]\"),\n",
        "               (\"These Foolish Things [jazz1350]\", \"Soultrane [jazz1350]\"),\n",
        "               (\"These Foolish Things [jazz1350]\", \"Why Do I Love You [jazz1350]\"),\n",
        "               (\"Misty [jazz1350]\", \"Portrait Of Jennie [jazz1350]\"),\n",
        "               (\"Misty [jazz1350]\", \"September In The Rain [jazz1350]\"),\n",
        "               (\"Misty [jazz1350]\", \"I May Be Wrong [jazz1350]\"),  \n",
        "\n",
        "               # identical tunes\n",
        "               (\"Five Foot Two [trad]\", \"Please Don't Talk About Me When I'm Gone [trad]\"),\n",
        "               (\"What Is This Thing Called Love [jazz1350]\", \"Subconscious Lee [jazz1350]\"),\n",
        "               (\"Sweet Georgia Brown [jazz1350]\", \"Dig [jazz1350]\"),\n",
        "\n",
        "\n",
        "               # almost identical tunes\n",
        "               (\"What Is This Thing Called Love [jazz1350]\", \"Hot House [jazz1350]\"),\n",
        "               (\"Jeannie's Song [jazz1350]\", \"Shiny Stockings [jazz1350]\"),\n",
        "               (\"Alone Together [jazz1350]\", \"Segment [jazz1350]\"),\n",
        "               (\"Baubles, Bangles and Beads [jazz1350]\", \"Bossa Antigua [jazz1350]\"),\n",
        "               (\"There Will Never Be Another You [jazz1350]\", \"A Weaver Of Dreams [jazz1350]\"),\n",
        "               (\"Moten Swing [jazz1350]\", \"Once In A While (Ballad) [trad]\"), # same bridge, similar A\n",
        "               (\"All I Do Is Dream Of You [trad]\", \"L-O-V-E [jazz1350]\"),\n",
        "\n",
        "\n",
        "               # same A section\n",
        "               (\"Nancy (With The Laughing Face) [jazz1350]\", \"Body And Soul [jazz1350]\"),\n",
        "               (\"Exactly Like You [jazz1350]\", \"True (You Don't Love Me ) [trad]\"),\n",
        "               (\"Exactly Like You [jazz1350]\", \"Jersey Bounce [trad]\"),\n",
        "               (\"Take The A Train [jazz1350]\", \"Girl From Ipanema, The [jazz1350]\"),\n",
        "               (\"My Heart Stood Still [jazz1350]\", \"All Too Soon [jazz1350]\"),\n",
        "               (\"Undecided [jazz1350]\", \"Broadway [jazz1350]\"),\n",
        "               (\"Let's Fall In Love [jazz1350]\", \"Heart And Soul [jazz1350]\"),\n",
        "               (\"Come Back To Me [jazz1350]\", \"I Wish I Knew [jazz1350]\"),\n",
        "               (\"Wait Till You See Her [jazz1350]\", \"A Certain Smile [jazz1350]\"),\n",
        "               (\"Killer Joe [jazz1350]\", \"Straight Life [jazz1350]\"),\n",
        "               (\"Softly, As In A Morning Sunrise [jazz1350]\", \"Segment [jazz1350]\"),\n",
        "               (\"Bei Mir Bist Du Schon (Root Hog Or Die) [trad]\", \"Egyptian Fantasy [trad]\"),\n",
        "               (\"Bei Mir Bist Du Schon (Root Hog Or Die) [trad]\", \"Puttin' On The Ritz [jazz1350]\"),\n",
        "               (\"Coquette [trad]\", \"Pretend You're Happy When You're Blue [trad]\"),\n",
        "               (\"Softly, As In A Morning Sunrise [jazz1350]\", \"Strode Rode [jazz1350]\"),\n",
        "               (\"Glory Of Love, The [jazz1350]\", \"I've Got My Fingers Crossed [trad]\"),\n",
        "               (\"Charleston, The [jazz1350]\", \"As Long As I Live [jazz13350]\"),\n",
        "               (\"Fine And Dandy [jazz1350\", \"I Can't Give You Anything But Love [jazz1350]\"),\n",
        "               (\"I'll Close My Eyes [jazz1350]\", \"Bluesette [jazz1350]\"),\n",
        "               (\"I'll Close My Eyes [jazz1350]\", \"There Will Never Be Another You [jazz1350]\"),\n",
        "\n",
        "\n",
        "\n",
        "               # same bridge\n",
        "               (\"If I Had You [jazz1350]\", \"Too Young To Go Steady [jazz1350]\"),\n",
        "               (\"Undecided [jazz1350]\", \"Satin Doll [jazz1350]\"),\n",
        "               (\"Billy Boy [jazz1350]\", \"Elora [jazz1350]\"),\n",
        "               (\"Dearly Beloved [jazz1350]\", \"We See [jazz1350]\"),\n",
        "               (\"Alone Together [jazz1350]\", \"A Night In Tunisia [jazz1350]\"),\n",
        "               (\"A Night In Tunisia [jazz1350]\", \"Segment [jazz1350]\"),\n",
        "               (\"Oh! Lady Be Good [trad]\", \"Sentimental Journey [jazz1350]\"),\n",
        "               (\"You Can Depend On Me [jazz1350]\", \"Move [jazz1350]\"),\n",
        "               (\"I Want To Be Happy [jazz1350]\", \"A Beautiful Friendship [jazz1350]\"),\n",
        "               (\"Flying Home [jazz1350]\", \"Down For Double [jazz1350]\"),\n",
        "               (\"Cheek To Cheek [jazz1350]\", \"Violets For Your Furs [jazz1350]\"),\n",
        "               (\"Let's Fall In Love [jazz1350]\", \"At Last [jazz1350]\"),\n",
        "               (\"Don't Be That Way [jazz1350]\", \"Long Ago And Far Away [jazz1350]\"),\n",
        "               (\"On The Sunny Side Of The Street [jazz1350]\", \"I'm Confessin' That I Love You [jazz1350]\"),\n",
        "               (\"On The Sunny Side Of The Street [jazz1350]\", \"Eclypso [jazz1350]\"),\n",
        "               (\"On The Sunny Side Of The Street [jazz1350]\", \"You Stepped Out Of A Dream [jazz1350]\"),\n",
        "               (\"A Beautiful Friendship [jazz1350\", \"I Want To Be Happy [jazz1350\"),\n",
        "               (\"Satin Doll [jazz1350]\", \"Undecided [jazz1350]\"),\n",
        "               \n",
        "\n",
        "               \n",
        "\n",
        "               # similar A section\n",
        "               (\"I Like The Likes Of You [jazz1350]\", \"Mountain Greenery [jazz1350]\"),\n",
        "               (\"My Secret Love [jazz1350]\", \"Samba De Orfeu [jazz1350]\"),\n",
        "               (\"Let's Call The Whole Thing Off [jazz1350]\", \"Fine And Dandy [jazz1350]\"),\n",
        "\n",
        "\n",
        "               # similar B section\n",
        "               (\"Folks Who Live On The Hill, The [jazz1350]\", \"My One And Only Love [jazz1350]\"),\n",
        "               (\"As Long As I Live [jazz1350]\", \"I'm Glad There Is You [jazz1350]\"),\n",
        "               (\"I May Be Wrong [jazz1350]\", \"Teach Me Tonight [jazz1350]\"),\n",
        "               (\"Am I Blue [jazz1350]\", \"Come Back To Me [jazz1350]\"),\n",
        "               (\"My One And Only Love [jazz1350]\", \"Am I Blue [jazz1350]\"),\n",
        "               (\"On The Sunny Side Of The Street [jazz1350]\", \"September In The Rain [jazz1350]\"),\n",
        "               (\"On The Sunny Side Of The Street [jazz1350]\", \"Mountain Greenery [jazz1350]\"),\n",
        "               (\"On The Sunny Side Of The Street [jazz1350]\", \"There's No You [jazz1350]\"),\n",
        "               (\"These Foolish Things [jazz1350]\", \"Embraceable You [jazz1350]\"),\n",
        "               (\"These Foolish Things [jazz1350]\", \"Rosetta [jazz1350]\"),\n",
        "\n",
        "               # same C section\n",
        "               (\"Bill Bailey [jazz1350]\", \"Bourbon Street Parade [jazz1350]\"),\n",
        "\n",
        "               # Stella C is like Woody B\n",
        "               (\"Woody'n You [jazz1350]\", \"Stella By Starlight [jazz1350]\"),\n",
        "\n",
        "               # similar vocabulary, different progressions\n",
        "               (\"Tangerine [jazz1350]\", \"Tea For Two [jazz1350]\"),\n",
        "               (\"I Can't Give You Anything But Love [jazz1350]\", \"You Can Depend On Me [jazz1350]\"),\n",
        "               (\"This Year's Kisses [jazz1350]\", \"My Monday Date [trad]\"),\n",
        "               (\"A Blossom Fell [jazz1350]\", \"Among My Souvenirs [jazz1350]\"),\n",
        "\n",
        "]"
      ],
      "execution_count": null,
      "outputs": []
    },
    {
      "cell_type": "code",
      "metadata": {
        "colab": {
          "base_uri": "https://localhost:8080/"
        },
        "id": "V2OXaDW9R31b",
        "outputId": "9a922ce1-69e9-4b0c-8270-6012f185a8af"
      },
      "source": [
        "len(contrafacts)"
      ],
      "execution_count": null,
      "outputs": [
        {
          "output_type": "execute_result",
          "data": {
            "text/plain": [
              "111"
            ]
          },
          "metadata": {},
          "execution_count": 20
        }
      ]
    },
    {
      "cell_type": "markdown",
      "metadata": {
        "id": "gcexO7zK8Pn6"
      },
      "source": [
        "# Initialization\n",
        "\n",
        "## Download the Data"
      ]
    },
    {
      "cell_type": "code",
      "metadata": {
        "id": "JwVJo3Vat8iF"
      },
      "source": [
        "input_data = input_files[docu][chords_preprocessing]\n",
        "\n",
        "input_path = f\"https://docs.google.com/uc?export=download&id={input_data}\"\n",
        "data_file_name = 'data.csv'\n"
      ],
      "execution_count": null,
      "outputs": []
    },
    {
      "cell_type": "code",
      "metadata": {
        "colab": {
          "base_uri": "https://localhost:8080/",
          "height": 1000
        },
        "id": "_Dp-fijjB-pU",
        "outputId": "2c1ed07c-bda3-460e-f61e-eb0431bf7d4f"
      },
      "source": [
        "input_path"
      ],
      "execution_count": null,
      "outputs": [
        {
          "output_type": "execute_result",
          "data": {
            "application/vnd.google.colaboratory.intrinsic+json": {
              "type": "string"
            },
            "text/plain": [
              "'https://docs.google.com/uc?export=download&id=1NP6trpfnEPnFqJbmcuClvkBB28PNdF8c'"
            ]
          },
          "metadata": {},
          "execution_count": 22
        }
      ]
    },
    {
      "cell_type": "code",
      "metadata": {
        "colab": {
          "base_uri": "https://localhost:8080/"
        },
        "id": "1ZVAYUH5t9Li",
        "outputId": "8308accd-80db-49bc-9ff6-25ab4673c52c"
      },
      "source": [
        "!wget --no-check-certificate \"$input_path\" -O \"$data_file_name\""
      ],
      "execution_count": null,
      "outputs": [
        {
          "output_type": "stream",
          "name": "stdout",
          "text": [
            "--2021-12-20 13:11:23--  https://docs.google.com/uc?export=download&id=1NP6trpfnEPnFqJbmcuClvkBB28PNdF8c\n",
            "Resolving docs.google.com (docs.google.com)... 142.250.152.139, 142.250.152.113, 142.250.152.138, ...\n",
            "Connecting to docs.google.com (docs.google.com)|142.250.152.139|:443... connected.\n",
            "HTTP request sent, awaiting response... 302 Moved Temporarily\n",
            "Location: https://doc-0g-4c-docs.googleusercontent.com/docs/securesc/ha0ro937gcuc7l7deffksulhg5h7mbp1/o08orc8do9aprn2sjo95390p1e2uh6k2/1640005875000/14329102864480165501/*/1NP6trpfnEPnFqJbmcuClvkBB28PNdF8c?e=download [following]\n",
            "Warning: wildcards not supported in HTTP.\n",
            "--2021-12-20 13:11:24--  https://doc-0g-4c-docs.googleusercontent.com/docs/securesc/ha0ro937gcuc7l7deffksulhg5h7mbp1/o08orc8do9aprn2sjo95390p1e2uh6k2/1640005875000/14329102864480165501/*/1NP6trpfnEPnFqJbmcuClvkBB28PNdF8c?e=download\n",
            "Resolving doc-0g-4c-docs.googleusercontent.com (doc-0g-4c-docs.googleusercontent.com)... 74.125.69.132, 2607:f8b0:4001:c08::84\n",
            "Connecting to doc-0g-4c-docs.googleusercontent.com (doc-0g-4c-docs.googleusercontent.com)|74.125.69.132|:443... connected.\n",
            "HTTP request sent, awaiting response... 200 OK\n",
            "Length: 817619 (798K) [text/csv]\n",
            "Saving to: ‘data.csv’\n",
            "\n",
            "data.csv            100%[===================>] 798.46K  --.-KB/s    in 0.01s   \n",
            "\n",
            "2021-12-20 13:11:24 (69.0 MB/s) - ‘data.csv’ saved [817619/817619]\n",
            "\n"
          ]
        }
      ]
    },
    {
      "cell_type": "markdown",
      "metadata": {
        "id": "Ljs21B7h8YvC"
      },
      "source": [
        "### Read Chords Input Data"
      ]
    },
    {
      "cell_type": "code",
      "metadata": {
        "colab": {
          "base_uri": "https://localhost:8080/",
          "height": 791
        },
        "id": "B7kK418L8aac",
        "outputId": "3b613c56-d6fb-464c-851d-39789c785715"
      },
      "source": [
        "df = pd.read_csv(data_file_name, sep='\\t', index_col=\"id\")\n",
        "df = df.reset_index()\n",
        "df.head(5)"
      ],
      "execution_count": null,
      "outputs": [
        {
          "output_type": "execute_result",
          "data": {
            "text/html": [
              "\n",
              "  <div id=\"df-01a24237-35f7-44dc-bfca-c472ebe1c99f\">\n",
              "    <div class=\"colab-df-container\">\n",
              "      <div>\n",
              "<style scoped>\n",
              "    .dataframe tbody tr th:only-of-type {\n",
              "        vertical-align: middle;\n",
              "    }\n",
              "\n",
              "    .dataframe tbody tr th {\n",
              "        vertical-align: top;\n",
              "    }\n",
              "\n",
              "    .dataframe thead th {\n",
              "        text-align: right;\n",
              "    }\n",
              "</style>\n",
              "<table border=\"1\" class=\"dataframe\">\n",
              "  <thead>\n",
              "    <tr style=\"text-align: right;\">\n",
              "      <th></th>\n",
              "      <th>id</th>\n",
              "      <th>file_name</th>\n",
              "      <th>title</th>\n",
              "      <th>title_playlist</th>\n",
              "      <th>tune_mode</th>\n",
              "      <th>tune_id</th>\n",
              "      <th>section_name</th>\n",
              "      <th>section_id</th>\n",
              "      <th>chords</th>\n",
              "    </tr>\n",
              "  </thead>\n",
              "  <tbody>\n",
              "    <tr>\n",
              "      <th>0</th>\n",
              "      <td>0</td>\n",
              "      <td>dataset/jazz1350/26-2.xml</td>\n",
              "      <td>26-2</td>\n",
              "      <td>26-2 [jazz1350]</td>\n",
              "      <td>major</td>\n",
              "      <td>0</td>\n",
              "      <td>A</td>\n",
              "      <td>1</td>\n",
              "      <td>C Eb7 G# B7 E G7 Gm C7 F G#7 C# E7 Am D7 Dm G7</td>\n",
              "    </tr>\n",
              "    <tr>\n",
              "      <th>1</th>\n",
              "      <td>1</td>\n",
              "      <td>dataset/jazz1350/26-2.xml</td>\n",
              "      <td>26-2</td>\n",
              "      <td>26-2 [jazz1350]</td>\n",
              "      <td>major</td>\n",
              "      <td>0</td>\n",
              "      <td>A</td>\n",
              "      <td>2</td>\n",
              "      <td>C Eb7 G# B7 E G7 Gm C7 F Eb7 G# B7 E G7 C</td>\n",
              "    </tr>\n",
              "    <tr>\n",
              "      <th>2</th>\n",
              "      <td>2</td>\n",
              "      <td>dataset/jazz1350/26-2.xml</td>\n",
              "      <td>26-2</td>\n",
              "      <td>26-2 [jazz1350]</td>\n",
              "      <td>major</td>\n",
              "      <td>0</td>\n",
              "      <td>B</td>\n",
              "      <td>3</td>\n",
              "      <td>Gm C7 Bm E7 A C7 F Bbm Eb7 G# Dm G7</td>\n",
              "    </tr>\n",
              "    <tr>\n",
              "      <th>3</th>\n",
              "      <td>3</td>\n",
              "      <td>dataset/jazz1350/26-2.xml</td>\n",
              "      <td>26-2</td>\n",
              "      <td>26-2 [jazz1350]</td>\n",
              "      <td>major</td>\n",
              "      <td>0</td>\n",
              "      <td>A</td>\n",
              "      <td>4</td>\n",
              "      <td>C Eb7 G# B7 E G7 Gm C7 F Eb7 G# B7 E G7 C</td>\n",
              "    </tr>\n",
              "    <tr>\n",
              "      <th>4</th>\n",
              "      <td>4</td>\n",
              "      <td>dataset/jazz1350/500 Miles High.xml</td>\n",
              "      <td>500 Miles High</td>\n",
              "      <td>500 Miles High [jazz1350]</td>\n",
              "      <td>minor</td>\n",
              "      <td>1</td>\n",
              "      <td>A</td>\n",
              "      <td>1</td>\n",
              "      <td>Am Am Cm Cm Eb Eb Em7b5 A7 Dm Dm Bm7b5 Bm7b5 B...</td>\n",
              "    </tr>\n",
              "  </tbody>\n",
              "</table>\n",
              "</div>\n",
              "      <button class=\"colab-df-convert\" onclick=\"convertToInteractive('df-01a24237-35f7-44dc-bfca-c472ebe1c99f')\"\n",
              "              title=\"Convert this dataframe to an interactive table.\"\n",
              "              style=\"display:none;\">\n",
              "        \n",
              "  <svg xmlns=\"http://www.w3.org/2000/svg\" height=\"24px\"viewBox=\"0 0 24 24\"\n",
              "       width=\"24px\">\n",
              "    <path d=\"M0 0h24v24H0V0z\" fill=\"none\"/>\n",
              "    <path d=\"M18.56 5.44l.94 2.06.94-2.06 2.06-.94-2.06-.94-.94-2.06-.94 2.06-2.06.94zm-11 1L8.5 8.5l.94-2.06 2.06-.94-2.06-.94L8.5 2.5l-.94 2.06-2.06.94zm10 10l.94 2.06.94-2.06 2.06-.94-2.06-.94-.94-2.06-.94 2.06-2.06.94z\"/><path d=\"M17.41 7.96l-1.37-1.37c-.4-.4-.92-.59-1.43-.59-.52 0-1.04.2-1.43.59L10.3 9.45l-7.72 7.72c-.78.78-.78 2.05 0 2.83L4 21.41c.39.39.9.59 1.41.59.51 0 1.02-.2 1.41-.59l7.78-7.78 2.81-2.81c.8-.78.8-2.07 0-2.86zM5.41 20L4 18.59l7.72-7.72 1.47 1.35L5.41 20z\"/>\n",
              "  </svg>\n",
              "      </button>\n",
              "      \n",
              "  <style>\n",
              "    .colab-df-container {\n",
              "      display:flex;\n",
              "      flex-wrap:wrap;\n",
              "      gap: 12px;\n",
              "    }\n",
              "\n",
              "    .colab-df-convert {\n",
              "      background-color: #E8F0FE;\n",
              "      border: none;\n",
              "      border-radius: 50%;\n",
              "      cursor: pointer;\n",
              "      display: none;\n",
              "      fill: #1967D2;\n",
              "      height: 32px;\n",
              "      padding: 0 0 0 0;\n",
              "      width: 32px;\n",
              "    }\n",
              "\n",
              "    .colab-df-convert:hover {\n",
              "      background-color: #E2EBFA;\n",
              "      box-shadow: 0px 1px 2px rgba(60, 64, 67, 0.3), 0px 1px 3px 1px rgba(60, 64, 67, 0.15);\n",
              "      fill: #174EA6;\n",
              "    }\n",
              "\n",
              "    [theme=dark] .colab-df-convert {\n",
              "      background-color: #3B4455;\n",
              "      fill: #D2E3FC;\n",
              "    }\n",
              "\n",
              "    [theme=dark] .colab-df-convert:hover {\n",
              "      background-color: #434B5C;\n",
              "      box-shadow: 0px 1px 3px 1px rgba(0, 0, 0, 0.15);\n",
              "      filter: drop-shadow(0px 1px 2px rgba(0, 0, 0, 0.3));\n",
              "      fill: #FFFFFF;\n",
              "    }\n",
              "  </style>\n",
              "\n",
              "      <script>\n",
              "        const buttonEl =\n",
              "          document.querySelector('#df-01a24237-35f7-44dc-bfca-c472ebe1c99f button.colab-df-convert');\n",
              "        buttonEl.style.display =\n",
              "          google.colab.kernel.accessAllowed ? 'block' : 'none';\n",
              "\n",
              "        async function convertToInteractive(key) {\n",
              "          const element = document.querySelector('#df-01a24237-35f7-44dc-bfca-c472ebe1c99f');\n",
              "          const dataTable =\n",
              "            await google.colab.kernel.invokeFunction('convertToInteractive',\n",
              "                                                     [key], {});\n",
              "          if (!dataTable) return;\n",
              "\n",
              "          const docLinkHtml = 'Like what you see? Visit the ' +\n",
              "            '<a target=\"_blank\" href=https://colab.research.google.com/notebooks/data_table.ipynb>data table notebook</a>'\n",
              "            + ' to learn more about interactive tables.';\n",
              "          element.innerHTML = '';\n",
              "          dataTable['output_type'] = 'display_data';\n",
              "          await google.colab.output.renderOutput(dataTable, element);\n",
              "          const docLink = document.createElement('div');\n",
              "          docLink.innerHTML = docLinkHtml;\n",
              "          element.appendChild(docLink);\n",
              "        }\n",
              "      </script>\n",
              "    </div>\n",
              "  </div>\n",
              "  "
            ],
            "text/plain": [
              "   id                            file_name           title             title_playlist tune_mode  tune_id section_name  section_id                                             chords\n",
              "0   0            dataset/jazz1350/26-2.xml            26-2            26-2 [jazz1350]     major        0            A           1     C Eb7 G# B7 E G7 Gm C7 F G#7 C# E7 Am D7 Dm G7\n",
              "1   1            dataset/jazz1350/26-2.xml            26-2            26-2 [jazz1350]     major        0            A           2          C Eb7 G# B7 E G7 Gm C7 F Eb7 G# B7 E G7 C\n",
              "2   2            dataset/jazz1350/26-2.xml            26-2            26-2 [jazz1350]     major        0            B           3                Gm C7 Bm E7 A C7 F Bbm Eb7 G# Dm G7\n",
              "3   3            dataset/jazz1350/26-2.xml            26-2            26-2 [jazz1350]     major        0            A           4          C Eb7 G# B7 E G7 Gm C7 F Eb7 G# B7 E G7 C\n",
              "4   4  dataset/jazz1350/500 Miles High.xml  500 Miles High  500 Miles High [jazz1350]     minor        1            A           1  Am Am Cm Cm Eb Eb Em7b5 A7 Dm Dm Bm7b5 Bm7b5 B..."
            ]
          },
          "metadata": {},
          "execution_count": 24
        }
      ]
    },
    {
      "cell_type": "markdown",
      "metadata": {
        "id": "OsPcEFbg8gu6"
      },
      "source": [
        "### Meta Data"
      ]
    },
    {
      "cell_type": "code",
      "metadata": {
        "colab": {
          "base_uri": "https://localhost:8080/",
          "height": 305
        },
        "id": "_62YlEVJXOCL",
        "outputId": "1ff8f1bf-4213-4e9d-f218-067349bb99c7"
      },
      "source": [
        "titles = df.loc[:, ['id', 'tune_id', 'section_id', 'section_name', 'title', 'title_playlist', 'tune_mode']]\n",
        "titles[:5]"
      ],
      "execution_count": null,
      "outputs": [
        {
          "output_type": "execute_result",
          "data": {
            "text/html": [
              "\n",
              "  <div id=\"df-40c46757-eadc-49a6-a5c5-3da3970ddb32\">\n",
              "    <div class=\"colab-df-container\">\n",
              "      <div>\n",
              "<style scoped>\n",
              "    .dataframe tbody tr th:only-of-type {\n",
              "        vertical-align: middle;\n",
              "    }\n",
              "\n",
              "    .dataframe tbody tr th {\n",
              "        vertical-align: top;\n",
              "    }\n",
              "\n",
              "    .dataframe thead th {\n",
              "        text-align: right;\n",
              "    }\n",
              "</style>\n",
              "<table border=\"1\" class=\"dataframe\">\n",
              "  <thead>\n",
              "    <tr style=\"text-align: right;\">\n",
              "      <th></th>\n",
              "      <th>id</th>\n",
              "      <th>tune_id</th>\n",
              "      <th>section_id</th>\n",
              "      <th>section_name</th>\n",
              "      <th>title</th>\n",
              "      <th>title_playlist</th>\n",
              "      <th>tune_mode</th>\n",
              "    </tr>\n",
              "  </thead>\n",
              "  <tbody>\n",
              "    <tr>\n",
              "      <th>0</th>\n",
              "      <td>0</td>\n",
              "      <td>0</td>\n",
              "      <td>1</td>\n",
              "      <td>A</td>\n",
              "      <td>26-2</td>\n",
              "      <td>26-2 [jazz1350]</td>\n",
              "      <td>major</td>\n",
              "    </tr>\n",
              "    <tr>\n",
              "      <th>1</th>\n",
              "      <td>1</td>\n",
              "      <td>0</td>\n",
              "      <td>2</td>\n",
              "      <td>A</td>\n",
              "      <td>26-2</td>\n",
              "      <td>26-2 [jazz1350]</td>\n",
              "      <td>major</td>\n",
              "    </tr>\n",
              "    <tr>\n",
              "      <th>2</th>\n",
              "      <td>2</td>\n",
              "      <td>0</td>\n",
              "      <td>3</td>\n",
              "      <td>B</td>\n",
              "      <td>26-2</td>\n",
              "      <td>26-2 [jazz1350]</td>\n",
              "      <td>major</td>\n",
              "    </tr>\n",
              "    <tr>\n",
              "      <th>3</th>\n",
              "      <td>3</td>\n",
              "      <td>0</td>\n",
              "      <td>4</td>\n",
              "      <td>A</td>\n",
              "      <td>26-2</td>\n",
              "      <td>26-2 [jazz1350]</td>\n",
              "      <td>major</td>\n",
              "    </tr>\n",
              "    <tr>\n",
              "      <th>4</th>\n",
              "      <td>4</td>\n",
              "      <td>1</td>\n",
              "      <td>1</td>\n",
              "      <td>A</td>\n",
              "      <td>500 Miles High</td>\n",
              "      <td>500 Miles High [jazz1350]</td>\n",
              "      <td>minor</td>\n",
              "    </tr>\n",
              "  </tbody>\n",
              "</table>\n",
              "</div>\n",
              "      <button class=\"colab-df-convert\" onclick=\"convertToInteractive('df-40c46757-eadc-49a6-a5c5-3da3970ddb32')\"\n",
              "              title=\"Convert this dataframe to an interactive table.\"\n",
              "              style=\"display:none;\">\n",
              "        \n",
              "  <svg xmlns=\"http://www.w3.org/2000/svg\" height=\"24px\"viewBox=\"0 0 24 24\"\n",
              "       width=\"24px\">\n",
              "    <path d=\"M0 0h24v24H0V0z\" fill=\"none\"/>\n",
              "    <path d=\"M18.56 5.44l.94 2.06.94-2.06 2.06-.94-2.06-.94-.94-2.06-.94 2.06-2.06.94zm-11 1L8.5 8.5l.94-2.06 2.06-.94-2.06-.94L8.5 2.5l-.94 2.06-2.06.94zm10 10l.94 2.06.94-2.06 2.06-.94-2.06-.94-.94-2.06-.94 2.06-2.06.94z\"/><path d=\"M17.41 7.96l-1.37-1.37c-.4-.4-.92-.59-1.43-.59-.52 0-1.04.2-1.43.59L10.3 9.45l-7.72 7.72c-.78.78-.78 2.05 0 2.83L4 21.41c.39.39.9.59 1.41.59.51 0 1.02-.2 1.41-.59l7.78-7.78 2.81-2.81c.8-.78.8-2.07 0-2.86zM5.41 20L4 18.59l7.72-7.72 1.47 1.35L5.41 20z\"/>\n",
              "  </svg>\n",
              "      </button>\n",
              "      \n",
              "  <style>\n",
              "    .colab-df-container {\n",
              "      display:flex;\n",
              "      flex-wrap:wrap;\n",
              "      gap: 12px;\n",
              "    }\n",
              "\n",
              "    .colab-df-convert {\n",
              "      background-color: #E8F0FE;\n",
              "      border: none;\n",
              "      border-radius: 50%;\n",
              "      cursor: pointer;\n",
              "      display: none;\n",
              "      fill: #1967D2;\n",
              "      height: 32px;\n",
              "      padding: 0 0 0 0;\n",
              "      width: 32px;\n",
              "    }\n",
              "\n",
              "    .colab-df-convert:hover {\n",
              "      background-color: #E2EBFA;\n",
              "      box-shadow: 0px 1px 2px rgba(60, 64, 67, 0.3), 0px 1px 3px 1px rgba(60, 64, 67, 0.15);\n",
              "      fill: #174EA6;\n",
              "    }\n",
              "\n",
              "    [theme=dark] .colab-df-convert {\n",
              "      background-color: #3B4455;\n",
              "      fill: #D2E3FC;\n",
              "    }\n",
              "\n",
              "    [theme=dark] .colab-df-convert:hover {\n",
              "      background-color: #434B5C;\n",
              "      box-shadow: 0px 1px 3px 1px rgba(0, 0, 0, 0.15);\n",
              "      filter: drop-shadow(0px 1px 2px rgba(0, 0, 0, 0.3));\n",
              "      fill: #FFFFFF;\n",
              "    }\n",
              "  </style>\n",
              "\n",
              "      <script>\n",
              "        const buttonEl =\n",
              "          document.querySelector('#df-40c46757-eadc-49a6-a5c5-3da3970ddb32 button.colab-df-convert');\n",
              "        buttonEl.style.display =\n",
              "          google.colab.kernel.accessAllowed ? 'block' : 'none';\n",
              "\n",
              "        async function convertToInteractive(key) {\n",
              "          const element = document.querySelector('#df-40c46757-eadc-49a6-a5c5-3da3970ddb32');\n",
              "          const dataTable =\n",
              "            await google.colab.kernel.invokeFunction('convertToInteractive',\n",
              "                                                     [key], {});\n",
              "          if (!dataTable) return;\n",
              "\n",
              "          const docLinkHtml = 'Like what you see? Visit the ' +\n",
              "            '<a target=\"_blank\" href=https://colab.research.google.com/notebooks/data_table.ipynb>data table notebook</a>'\n",
              "            + ' to learn more about interactive tables.';\n",
              "          element.innerHTML = '';\n",
              "          dataTable['output_type'] = 'display_data';\n",
              "          await google.colab.output.renderOutput(dataTable, element);\n",
              "          const docLink = document.createElement('div');\n",
              "          docLink.innerHTML = docLinkHtml;\n",
              "          element.appendChild(docLink);\n",
              "        }\n",
              "      </script>\n",
              "    </div>\n",
              "  </div>\n",
              "  "
            ],
            "text/plain": [
              "   id  tune_id  section_id section_name           title             title_playlist tune_mode\n",
              "0   0        0           1            A            26-2            26-2 [jazz1350]     major\n",
              "1   1        0           2            A            26-2            26-2 [jazz1350]     major\n",
              "2   2        0           3            B            26-2            26-2 [jazz1350]     major\n",
              "3   3        0           4            A            26-2            26-2 [jazz1350]     major\n",
              "4   4        1           1            A  500 Miles High  500 Miles High [jazz1350]     minor"
            ]
          },
          "metadata": {},
          "execution_count": 25
        }
      ]
    },
    {
      "cell_type": "code",
      "metadata": {
        "id": "0vEOjvwt8jUu"
      },
      "source": [
        "titles_dict = titles.to_dict()\n",
        "\n",
        "sectionid_to_title = titles_dict['title_playlist']\n",
        "sectionid_to_titleid = titles_dict['tune_id']\n"
      ],
      "execution_count": null,
      "outputs": []
    },
    {
      "cell_type": "code",
      "metadata": {
        "id": "Om7pbfnNGO_I"
      },
      "source": [
        "tunes = df.loc[:, ['tune_id', 'title_playlist']].drop_duplicates()\n",
        "tunes = tunes.set_index('tune_id').to_dict()\n",
        "titleid_to_title = tunes['title_playlist']"
      ],
      "execution_count": null,
      "outputs": []
    },
    {
      "cell_type": "code",
      "metadata": {
        "colab": {
          "base_uri": "https://localhost:8080/"
        },
        "id": "MdUrEFKj7kVA",
        "outputId": "e8678bf6-66d0-42b4-c1e3-d4965ae2a347"
      },
      "source": [
        "len(titleid_to_title)"
      ],
      "execution_count": null,
      "outputs": [
        {
          "output_type": "execute_result",
          "data": {
            "text/plain": [
              "1686"
            ]
          },
          "metadata": {},
          "execution_count": 28
        }
      ]
    },
    {
      "cell_type": "code",
      "metadata": {
        "id": "OvLyxrExxvew"
      },
      "source": [
        "title_to_titleid = {v: k for k, v in titleid_to_title.items()}\n"
      ],
      "execution_count": null,
      "outputs": []
    },
    {
      "cell_type": "code",
      "metadata": {
        "id": "1H72Y3_d8uNu"
      },
      "source": [
        "titles_rows = titles.to_dict(orient='records')\n",
        "sectionid_to_section = []\n",
        "for i, row in enumerate(titles_rows):\n",
        "  name = f\"{row['title']}, section{row['section_id']} ({row['section_name']})\"\n",
        "  sectionid_to_section.append(name)\n",
        "  "
      ],
      "execution_count": null,
      "outputs": []
    },
    {
      "cell_type": "code",
      "metadata": {
        "id": "1W7RfTQpaIEz"
      },
      "source": [
        "sectionid_to_sectionlabel = []\n",
        "for i, row in enumerate(titles_rows):\n",
        "  sectionid_to_sectionlabel.append(row['section_name'])\n",
        "  "
      ],
      "execution_count": null,
      "outputs": []
    },
    {
      "cell_type": "code",
      "metadata": {
        "id": "HCeGUk818y8V"
      },
      "source": [
        "title_to_sectionid = {}\n",
        "\n",
        "for row in titles.iterrows():\n",
        "  title = row[1]['title_playlist']\n",
        "  if title not in title_to_sectionid:\n",
        "    title_to_sectionid[title] = [row[1]['id']]\n",
        "  else:\n",
        "    title_to_sectionid[title].append(row[1]['id'])"
      ],
      "execution_count": null,
      "outputs": []
    },
    {
      "cell_type": "markdown",
      "metadata": {
        "id": "GWXGqImnoHdm"
      },
      "source": [
        "### Create Directories on Colab"
      ]
    },
    {
      "cell_type": "code",
      "metadata": {
        "id": "sDWIxDpIoJv1",
        "colab": {
          "base_uri": "https://localhost:8080/"
        },
        "outputId": "e0f9ecc2-1346-42fc-f4e6-5fd1c65010fe"
      },
      "source": [
        "!rm -R output\n",
        "!mkdir output"
      ],
      "execution_count": null,
      "outputs": [
        {
          "output_type": "stream",
          "name": "stdout",
          "text": [
            "rm: cannot remove 'output': No such file or directory\n"
          ]
        }
      ]
    },
    {
      "cell_type": "markdown",
      "metadata": {
        "id": "LvQ60s_owm82"
      },
      "source": [
        "## Initialization for wandb variables"
      ]
    },
    {
      "cell_type": "code",
      "metadata": {
        "id": "fw7FHHXfwagL"
      },
      "source": [
        "recommender_results_cols = ['reference', 'id', 'method', 'similar', 'score_div_max', 'score']\n",
        "recommender_results = pd.DataFrame(columns=recommender_results_cols)"
      ],
      "execution_count": null,
      "outputs": []
    },
    {
      "cell_type": "code",
      "metadata": {
        "id": "PfvF20G1JZMa"
      },
      "source": [
        "lsi_config = {\n",
        "    'num_topics': 100, #22, # 100 gives a better value for the contrafacts test\n",
        "}"
      ],
      "execution_count": null,
      "outputs": []
    },
    {
      "cell_type": "code",
      "metadata": {
        "id": "eW2f6BdAJl01"
      },
      "source": [
        "doc2vec_config = {\n",
        "    'general': {\n",
        "        'chords_preprocessing': chords_preprocessing,\n",
        "        'tag_sections_and_tunes': False,\n",
        "    },\n",
        "    'model': {\n",
        "        'dm': 1,\n",
        "        'vector_size': 100,\n",
        "        'window': 2,\n",
        "        'epochs': 40,\n",
        "        #'workers': 1,\n",
        "        'min_count': 1,\n",
        "        'negative': 10,\n",
        "        'sample': 0.001,\n",
        "        'seed': 42\n",
        "    }\n",
        "}"
      ],
      "execution_count": null,
      "outputs": []
    },
    {
      "cell_type": "code",
      "metadata": {
        "id": "sxdJ97gdx70_",
        "colab": {
          "base_uri": "https://localhost:8080/",
          "height": 212
        },
        "outputId": "fb598f8b-5b7a-4f0a-988d-39eabb95db22"
      },
      "source": [
        "if use_wandb:\n",
        "  wandb.init(\n",
        "        # Set entity to specify your username or team name\n",
        "        # ex: entity=\"carey\",\n",
        "        # Set the project where this run will be logged\n",
        "        project=\"jazztunes\", \n",
        "        \n",
        "        # Track hyperparameters and run metadata\n",
        "        config={\n",
        "            \"input_data\": input_path,\n",
        "            \"ngrams_input\": ngrams_for_input,\n",
        "            \"comparison\": docu,\n",
        "            \"lsi\": lsi_config,\n",
        "            \"doc2vec\": doc2vec_config,\n",
        "            \"remove_repeated_chords\": remove_repetitions,\n",
        "            \"phrases_threshold\": phrases_threshold,\n",
        "            \"comment\": \"sus and sus7 chords added.\"\n",
        "        }\n",
        "    )"
      ],
      "execution_count": null,
      "outputs": [
        {
          "output_type": "stream",
          "name": "stderr",
          "text": [
            "\u001b[34m\u001b[1mwandb\u001b[0m: Currently logged in as: \u001b[33mdoris\u001b[0m (use `wandb login --relogin` to force relogin)\n"
          ]
        },
        {
          "output_type": "display_data",
          "data": {
            "text/html": [
              "\n",
              "                    Syncing run <strong><a href=\"https://wandb.ai/doris/jazztunes/runs/2eyf3poc\" target=\"_blank\">stellar-sky-56</a></strong> to <a href=\"https://wandb.ai/doris/jazztunes\" target=\"_blank\">Weights & Biases</a> (<a href=\"https://docs.wandb.com/integrations/jupyter.html\" target=\"_blank\">docs</a>).<br/>\n",
              "\n",
              "                "
            ],
            "text/plain": [
              "<IPython.core.display.HTML object>"
            ]
          },
          "metadata": {}
        }
      ]
    },
    {
      "cell_type": "code",
      "metadata": {
        "id": "xHOY4TKYVN-g"
      },
      "source": [
        "if use_wandb:\n",
        "  artifact = wandb.Artifact('input_data', type='dataset')\n",
        "  artifact.add_file('data.csv')\n",
        "  wandb.log_artifact(artifact)"
      ],
      "execution_count": null,
      "outputs": []
    },
    {
      "cell_type": "markdown",
      "metadata": {
        "id": "wox-dMcz84Bt"
      },
      "source": [
        "## Helpers functions"
      ]
    },
    {
      "cell_type": "code",
      "metadata": {
        "id": "2964REdr80Gd"
      },
      "source": [
        "def ngrams(tokens, n=2, sep='-'):\n",
        "    return [sep.join(ngram) for ngram in zip(*[tokens[i:] for i in range(n)])]"
      ],
      "execution_count": null,
      "outputs": []
    },
    {
      "cell_type": "code",
      "metadata": {
        "id": "W42rugQPNYVP"
      },
      "source": [
        "def raw_chords_to_df(tunes):\n",
        "  tunes_chords = [item for tune in tunes for item in tune]\n",
        "  counts = Counter(tunes_chords)\n",
        "  df = pd.DataFrame(counts.items(),\n",
        "                    columns=['chord', 'count']).sort_values(by='count', ascending=False)\n",
        "\n",
        "  return df"
      ],
      "execution_count": null,
      "outputs": []
    },
    {
      "cell_type": "markdown",
      "metadata": {
        "id": "umfsNtAdF0jM"
      },
      "source": [
        "# Data Preparation"
      ]
    },
    {
      "cell_type": "code",
      "metadata": {
        "id": "FeRqVmphCS6m"
      },
      "source": [
        "def remove_chord_repetitions(chords):\n",
        "  previous = ''\n",
        "  chords_norep = []\n",
        "  for c in chords:\n",
        "    if c != previous:\n",
        "      chords_norep.append(c)\n",
        "      previous = c\n",
        "  return chords_norep\n",
        "  "
      ],
      "execution_count": null,
      "outputs": []
    },
    {
      "cell_type": "code",
      "metadata": {
        "id": "dCLwnqoVGcMw"
      },
      "source": [
        "lines = df.loc[:, 'chords'].tolist()\n",
        "data = [line.split(' ') for line in lines]"
      ],
      "execution_count": null,
      "outputs": []
    },
    {
      "cell_type": "code",
      "metadata": {
        "colab": {
          "base_uri": "https://localhost:8080/"
        },
        "id": "g7SmApW9F3K6",
        "outputId": "8a5f7b7f-9ad8-48d6-b3fc-c2bc30b44bd9"
      },
      "source": [
        "processed_corpus = []\n",
        "for line in data:\n",
        "  tune_n = []\n",
        "  if remove_repetitions:\n",
        "    line = remove_chord_repetitions(line)\n",
        "  for n in ngrams_for_input:\n",
        "    tune_n.extend(ngrams(line, n=n))\n",
        "  processed_corpus.append(tune_n)\n",
        "\n",
        "for line in processed_corpus[:10]:\n",
        "  print(line)"
      ],
      "execution_count": null,
      "outputs": [
        {
          "output_type": "stream",
          "name": "stdout",
          "text": [
            "['C-Eb7', 'Eb7-G#', 'G#-B7', 'B7-E', 'E-G7', 'G7-Gm', 'Gm-C7', 'C7-F', 'F-G#7', 'G#7-C#', 'C#-E7', 'E7-Am', 'Am-D7', 'D7-Dm', 'Dm-G7']\n",
            "['C-Eb7', 'Eb7-G#', 'G#-B7', 'B7-E', 'E-G7', 'G7-Gm', 'Gm-C7', 'C7-F', 'F-Eb7', 'Eb7-G#', 'G#-B7', 'B7-E', 'E-G7', 'G7-C']\n",
            "['Gm-C7', 'C7-Bm', 'Bm-E7', 'E7-A', 'A-C7', 'C7-F', 'F-Bbm', 'Bbm-Eb7', 'Eb7-G#', 'G#-Dm', 'Dm-G7']\n",
            "['C-Eb7', 'Eb7-G#', 'G#-B7', 'B7-E', 'E-G7', 'G7-Gm', 'Gm-C7', 'C7-F', 'F-Eb7', 'Eb7-G#', 'G#-B7', 'B7-E', 'E-G7', 'G7-C']\n",
            "['Am-Am', 'Am-Cm', 'Cm-Cm', 'Cm-Eb', 'Eb-Eb', 'Eb-Em7b5', 'Em7b5-A7', 'A7-Dm', 'Dm-Dm', 'Dm-Bm7b5', 'Bm7b5-Bm7b5', 'Bm7b5-Bbm', 'Bbm-Bbm', 'Bbm-Fm', 'Fm-Fm', 'Fm-E7', 'E7-E7', 'E7-Fm', 'Fm-Fm', 'Fm-C#', 'C#-C#', 'C#-Fm', 'Fm-Fm', 'Fm-C#', 'C#-C#']\n",
            "['Am-C#', 'C#-Bm7b5', 'Bm7b5-E7', 'E7-Am', 'Am-C#', 'C#-Bm7b5', 'Bm7b5-E7', 'E7-Cm', 'Cm-F7', 'F7-Bb', 'Bb-G#m', 'G#m-C#7', 'C#7-F#m7b5', 'F#m7b5-B7', 'B7-E', 'E-E', 'E-E7']\n",
            "['Am-C#', 'C#-Bm7b5', 'Bm7b5-E7', 'E7-Am', 'Am-C#', 'C#-Bm7b5', 'Bm7b5-E7', 'E7-Cm', 'Cm-F7', 'F7-Bb', 'Bb-G#m', 'G#m-C#7', 'C#7-F#m7b5', 'F#m7b5-B7', 'B7-Em', 'Em-Em']\n",
            "['C-Am', 'Am-Dm', 'Dm-G7', 'G7-C', 'C-Am', 'Am-Dm', 'Dm-G7', 'G7-C', 'C-Am', 'Am-Dm', 'Dm-G7', 'G7-C', 'C-G7', 'G7-C']\n",
            "['C-Am', 'Am-Dm', 'Dm-G7', 'G7-C', 'C-Am', 'Am-Dm', 'Dm-G7', 'G7-C', 'C-Am', 'Am-Dm', 'Dm-G7', 'G7-C', 'C-G7', 'G7-C']\n",
            "['C7-C7', 'C7-F', 'F-F', 'F-D7', 'D7-D7', 'D7-G7', 'G7-G7']\n"
          ]
        }
      ]
    },
    {
      "cell_type": "code",
      "metadata": {
        "colab": {
          "base_uri": "https://localhost:8080/"
        },
        "id": "iERQjgxNsV6Q",
        "outputId": "f5864514-65c2-426c-b293-3a8b56b31f54"
      },
      "source": [
        "len(processed_corpus)"
      ],
      "execution_count": null,
      "outputs": [
        {
          "output_type": "execute_result",
          "data": {
            "text/plain": [
              "5536"
            ]
          },
          "metadata": {},
          "execution_count": 44
        }
      ]
    },
    {
      "cell_type": "markdown",
      "metadata": {
        "id": "_mWldntzbgqd"
      },
      "source": [
        "#### Use Phrases"
      ]
    },
    {
      "cell_type": "code",
      "metadata": {
        "colab": {
          "base_uri": "https://localhost:8080/"
        },
        "id": "JV1cJPbWbgXY",
        "outputId": "256f5f10-511d-46ac-f084-c32ce926a668"
      },
      "source": [
        "def make_bigrams(texts, thres=0.2):\n",
        "  bigram = gensim.models.Phrases(texts, min_count=1, threshold=thres, connector_words=[], scoring='npmi')\n",
        "  bigram_mod = gensim.models.phrases.Phraser(bigram)\n",
        "  return [bigram_mod[doc] for doc in texts]\n",
        "\n",
        "\n",
        "processed_corpus = make_bigrams(data, thres=phrases_threshold)\n",
        "\n",
        "for i in processed_corpus[:10]:\n",
        "  print(i)"
      ],
      "execution_count": null,
      "outputs": [
        {
          "output_type": "stream",
          "name": "stderr",
          "text": [
            "2021-12-20 13:11:35,532 : INFO : collecting all words and their counts\n",
            "2021-12-20 13:11:35,538 : INFO : PROGRESS: at sentence #0, processed 0 words and 0 word types\n",
            "2021-12-20 13:11:35,990 : INFO : collected 2112 token types (unigram + bigrams) from a corpus of 76721 words and 5536 sentences\n",
            "2021-12-20 13:11:35,996 : INFO : merged Phrases<2112 vocab, min_count=1, threshold=1.0, max_vocab_size=40000000>\n",
            "2021-12-20 13:11:36,003 : INFO : Phrases lifecycle event {'msg': 'built Phrases<2112 vocab, min_count=1, threshold=1.0, max_vocab_size=40000000> in 0.47s', 'datetime': '2021-12-20T13:11:36.003056', 'gensim': '4.1.2', 'python': '3.7.12 (default, Sep 10 2021, 00:21:48) \\n[GCC 7.5.0]', 'platform': 'Linux-5.4.104+-x86_64-with-Ubuntu-18.04-bionic', 'event': 'created'}\n",
            "2021-12-20 13:11:36,005 : INFO : exporting phrases from Phrases<2112 vocab, min_count=1, threshold=1.0, max_vocab_size=40000000>\n",
            "2021-12-20 13:11:36,033 : INFO : FrozenPhrases lifecycle event {'msg': 'exported FrozenPhrases<0 phrases, min_count=1, threshold=1.0> from Phrases<2112 vocab, min_count=1, threshold=1.0, max_vocab_size=40000000> in 0.02s', 'datetime': '2021-12-20T13:11:36.033309', 'gensim': '4.1.2', 'python': '3.7.12 (default, Sep 10 2021, 00:21:48) \\n[GCC 7.5.0]', 'platform': 'Linux-5.4.104+-x86_64-with-Ubuntu-18.04-bionic', 'event': 'created'}\n"
          ]
        },
        {
          "output_type": "stream",
          "name": "stdout",
          "text": [
            "['C', 'Eb7', 'G#', 'B7', 'E', 'G7', 'Gm', 'C7', 'F', 'G#7', 'C#', 'E7', 'Am', 'D7', 'Dm', 'G7']\n",
            "['C', 'Eb7', 'G#', 'B7', 'E', 'G7', 'Gm', 'C7', 'F', 'Eb7', 'G#', 'B7', 'E', 'G7', 'C']\n",
            "['Gm', 'C7', 'Bm', 'E7', 'A', 'C7', 'F', 'Bbm', 'Eb7', 'G#', 'Dm', 'G7']\n",
            "['C', 'Eb7', 'G#', 'B7', 'E', 'G7', 'Gm', 'C7', 'F', 'Eb7', 'G#', 'B7', 'E', 'G7', 'C']\n",
            "['Am', 'Am', 'Cm', 'Cm', 'Eb', 'Eb', 'Em7b5', 'A7', 'Dm', 'Dm', 'Bm7b5', 'Bm7b5', 'Bbm', 'Bbm', 'Fm', 'Fm', 'E7', 'E7', 'Fm', 'Fm', 'C#', 'C#', 'Fm', 'Fm', 'C#', 'C#']\n",
            "['Am', 'C#', 'Bm7b5', 'E7', 'Am', 'C#', 'Bm7b5', 'E7', 'Cm', 'F7', 'Bb', 'G#m', 'C#7', 'F#m7b5', 'B7', 'E', 'E', 'E7']\n",
            "['Am', 'C#', 'Bm7b5', 'E7', 'Am', 'C#', 'Bm7b5', 'E7', 'Cm', 'F7', 'Bb', 'G#m', 'C#7', 'F#m7b5', 'B7', 'Em', 'Em']\n",
            "['C', 'Am', 'Dm', 'G7', 'C', 'Am', 'Dm', 'G7', 'C', 'Am', 'Dm', 'G7', 'C', 'G7', 'C']\n",
            "['C', 'Am', 'Dm', 'G7', 'C', 'Am', 'Dm', 'G7', 'C', 'Am', 'Dm', 'G7', 'C', 'G7', 'C']\n",
            "['C7', 'C7', 'F', 'F', 'D7', 'D7', 'G7', 'G7']\n"
          ]
        }
      ]
    },
    {
      "cell_type": "code",
      "metadata": {
        "colab": {
          "base_uri": "https://localhost:8080/"
        },
        "id": "E3sOp7OtsZNw",
        "outputId": "bd7d0ae1-32c8-4986-d6d9-bb92d92483fe"
      },
      "source": [
        "len(processed_corpus)"
      ],
      "execution_count": null,
      "outputs": [
        {
          "output_type": "execute_result",
          "data": {
            "text/plain": [
              "5536"
            ]
          },
          "metadata": {},
          "execution_count": 46
        }
      ]
    },
    {
      "cell_type": "markdown",
      "metadata": {
        "id": "Sri0K2DhNagp"
      },
      "source": [
        "#### Corpus Overview"
      ]
    },
    {
      "cell_type": "code",
      "metadata": {
        "colab": {
          "base_uri": "https://localhost:8080/"
        },
        "id": "X2ZqA7IF4ufg",
        "outputId": "6d164fd8-ed30-4f66-cac9-5d976440c046"
      },
      "source": [
        "tokens = [item for l in processed_corpus for item in l]\n",
        "total_tokens = len(tokens)\n",
        "vocab_size = len(set(tokens))\n",
        "vocab_prop = 100*vocab_size/total_tokens\n",
        "\n",
        "print(f\"Total Number of tokens: {total_tokens}\")\n",
        "print(f\"Size of vocabulary: {vocab_size}\")\n",
        "print(f\"Proportion of vocabulary in corpus: {vocab_prop:.02f}%\")"
      ],
      "execution_count": null,
      "outputs": [
        {
          "output_type": "stream",
          "name": "stdout",
          "text": [
            "Total Number of tokens: 76721\n",
            "Size of vocabulary: 83\n",
            "Proportion of vocabulary in corpus: 0.11%\n"
          ]
        }
      ]
    },
    {
      "cell_type": "code",
      "metadata": {
        "colab": {
          "base_uri": "https://localhost:8080/",
          "height": 427
        },
        "id": "rULq3jYVNh_x",
        "outputId": "ef41dc9c-3239-4a4f-db2d-9b34b887bf36"
      },
      "source": [
        "df_chords = raw_chords_to_df(processed_corpus)\n",
        "df_chords.head(10)"
      ],
      "execution_count": null,
      "outputs": [
        {
          "output_type": "execute_result",
          "data": {
            "text/html": [
              "\n",
              "  <div id=\"df-04d386e7-bfbc-4b94-a062-68263428a3fe\">\n",
              "    <div class=\"colab-df-container\">\n",
              "      <div>\n",
              "<style scoped>\n",
              "    .dataframe tbody tr th:only-of-type {\n",
              "        vertical-align: middle;\n",
              "    }\n",
              "\n",
              "    .dataframe tbody tr th {\n",
              "        vertical-align: top;\n",
              "    }\n",
              "\n",
              "    .dataframe thead th {\n",
              "        text-align: right;\n",
              "    }\n",
              "</style>\n",
              "<table border=\"1\" class=\"dataframe\">\n",
              "  <thead>\n",
              "    <tr style=\"text-align: right;\">\n",
              "      <th></th>\n",
              "      <th>chord</th>\n",
              "      <th>count</th>\n",
              "    </tr>\n",
              "  </thead>\n",
              "  <tbody>\n",
              "    <tr>\n",
              "      <th>0</th>\n",
              "      <td>C</td>\n",
              "      <td>12890</td>\n",
              "    </tr>\n",
              "    <tr>\n",
              "      <th>5</th>\n",
              "      <td>G7</td>\n",
              "      <td>9688</td>\n",
              "    </tr>\n",
              "    <tr>\n",
              "      <th>14</th>\n",
              "      <td>Dm</td>\n",
              "      <td>7498</td>\n",
              "    </tr>\n",
              "    <tr>\n",
              "      <th>12</th>\n",
              "      <td>Am</td>\n",
              "      <td>5443</td>\n",
              "    </tr>\n",
              "    <tr>\n",
              "      <th>21</th>\n",
              "      <td>A7</td>\n",
              "      <td>4128</td>\n",
              "    </tr>\n",
              "    <tr>\n",
              "      <th>13</th>\n",
              "      <td>D7</td>\n",
              "      <td>3578</td>\n",
              "    </tr>\n",
              "    <tr>\n",
              "      <th>8</th>\n",
              "      <td>F</td>\n",
              "      <td>3419</td>\n",
              "    </tr>\n",
              "    <tr>\n",
              "      <th>7</th>\n",
              "      <td>C7</td>\n",
              "      <td>3111</td>\n",
              "    </tr>\n",
              "    <tr>\n",
              "      <th>11</th>\n",
              "      <td>E7</td>\n",
              "      <td>2976</td>\n",
              "    </tr>\n",
              "    <tr>\n",
              "      <th>29</th>\n",
              "      <td>Em</td>\n",
              "      <td>2555</td>\n",
              "    </tr>\n",
              "  </tbody>\n",
              "</table>\n",
              "</div>\n",
              "      <button class=\"colab-df-convert\" onclick=\"convertToInteractive('df-04d386e7-bfbc-4b94-a062-68263428a3fe')\"\n",
              "              title=\"Convert this dataframe to an interactive table.\"\n",
              "              style=\"display:none;\">\n",
              "        \n",
              "  <svg xmlns=\"http://www.w3.org/2000/svg\" height=\"24px\"viewBox=\"0 0 24 24\"\n",
              "       width=\"24px\">\n",
              "    <path d=\"M0 0h24v24H0V0z\" fill=\"none\"/>\n",
              "    <path d=\"M18.56 5.44l.94 2.06.94-2.06 2.06-.94-2.06-.94-.94-2.06-.94 2.06-2.06.94zm-11 1L8.5 8.5l.94-2.06 2.06-.94-2.06-.94L8.5 2.5l-.94 2.06-2.06.94zm10 10l.94 2.06.94-2.06 2.06-.94-2.06-.94-.94-2.06-.94 2.06-2.06.94z\"/><path d=\"M17.41 7.96l-1.37-1.37c-.4-.4-.92-.59-1.43-.59-.52 0-1.04.2-1.43.59L10.3 9.45l-7.72 7.72c-.78.78-.78 2.05 0 2.83L4 21.41c.39.39.9.59 1.41.59.51 0 1.02-.2 1.41-.59l7.78-7.78 2.81-2.81c.8-.78.8-2.07 0-2.86zM5.41 20L4 18.59l7.72-7.72 1.47 1.35L5.41 20z\"/>\n",
              "  </svg>\n",
              "      </button>\n",
              "      \n",
              "  <style>\n",
              "    .colab-df-container {\n",
              "      display:flex;\n",
              "      flex-wrap:wrap;\n",
              "      gap: 12px;\n",
              "    }\n",
              "\n",
              "    .colab-df-convert {\n",
              "      background-color: #E8F0FE;\n",
              "      border: none;\n",
              "      border-radius: 50%;\n",
              "      cursor: pointer;\n",
              "      display: none;\n",
              "      fill: #1967D2;\n",
              "      height: 32px;\n",
              "      padding: 0 0 0 0;\n",
              "      width: 32px;\n",
              "    }\n",
              "\n",
              "    .colab-df-convert:hover {\n",
              "      background-color: #E2EBFA;\n",
              "      box-shadow: 0px 1px 2px rgba(60, 64, 67, 0.3), 0px 1px 3px 1px rgba(60, 64, 67, 0.15);\n",
              "      fill: #174EA6;\n",
              "    }\n",
              "\n",
              "    [theme=dark] .colab-df-convert {\n",
              "      background-color: #3B4455;\n",
              "      fill: #D2E3FC;\n",
              "    }\n",
              "\n",
              "    [theme=dark] .colab-df-convert:hover {\n",
              "      background-color: #434B5C;\n",
              "      box-shadow: 0px 1px 3px 1px rgba(0, 0, 0, 0.15);\n",
              "      filter: drop-shadow(0px 1px 2px rgba(0, 0, 0, 0.3));\n",
              "      fill: #FFFFFF;\n",
              "    }\n",
              "  </style>\n",
              "\n",
              "      <script>\n",
              "        const buttonEl =\n",
              "          document.querySelector('#df-04d386e7-bfbc-4b94-a062-68263428a3fe button.colab-df-convert');\n",
              "        buttonEl.style.display =\n",
              "          google.colab.kernel.accessAllowed ? 'block' : 'none';\n",
              "\n",
              "        async function convertToInteractive(key) {\n",
              "          const element = document.querySelector('#df-04d386e7-bfbc-4b94-a062-68263428a3fe');\n",
              "          const dataTable =\n",
              "            await google.colab.kernel.invokeFunction('convertToInteractive',\n",
              "                                                     [key], {});\n",
              "          if (!dataTable) return;\n",
              "\n",
              "          const docLinkHtml = 'Like what you see? Visit the ' +\n",
              "            '<a target=\"_blank\" href=https://colab.research.google.com/notebooks/data_table.ipynb>data table notebook</a>'\n",
              "            + ' to learn more about interactive tables.';\n",
              "          element.innerHTML = '';\n",
              "          dataTable['output_type'] = 'display_data';\n",
              "          await google.colab.output.renderOutput(dataTable, element);\n",
              "          const docLink = document.createElement('div');\n",
              "          docLink.innerHTML = docLinkHtml;\n",
              "          element.appendChild(docLink);\n",
              "        }\n",
              "      </script>\n",
              "    </div>\n",
              "  </div>\n",
              "  "
            ],
            "text/plain": [
              "   chord  count\n",
              "0      C  12890\n",
              "5     G7   9688\n",
              "14    Dm   7498\n",
              "12    Am   5443\n",
              "21    A7   4128\n",
              "13    D7   3578\n",
              "8      F   3419\n",
              "7     C7   3111\n",
              "11    E7   2976\n",
              "29    Em   2555"
            ]
          },
          "metadata": {},
          "execution_count": 48
        }
      ]
    },
    {
      "cell_type": "code",
      "metadata": {
        "colab": {
          "base_uri": "https://localhost:8080/",
          "height": 580
        },
        "id": "G9fknTouNmKm",
        "outputId": "e3f560e3-a14d-467c-e783-e2b4f1b08c02"
      },
      "source": [
        "df_chords = pd.DataFrame.from_dict(df_chords)\n",
        "df_chords.sort_values(by=['count'], ascending=False, inplace=True)\n",
        "df_chords_top = df_chords.query('count > 100')\n",
        "\n",
        "fig = px.bar(df_chords_top, x='chord', y='count', log_y=True)\n",
        "fig.update_layout(barmode='stack', xaxis={'categoryorder':'total descending'})\n",
        "fig.show()"
      ],
      "execution_count": null,
      "outputs": [
        {
          "output_type": "stream",
          "name": "stderr",
          "text": [
            "2021-12-20 13:11:36,772 : INFO : NumExpr defaulting to 2 threads.\n"
          ]
        },
        {
          "output_type": "display_data",
          "data": {
            "text/html": [
              "<html>\n",
              "<head><meta charset=\"utf-8\" /></head>\n",
              "<body>\n",
              "    <div>\n",
              "            <script src=\"https://cdnjs.cloudflare.com/ajax/libs/mathjax/2.7.5/MathJax.js?config=TeX-AMS-MML_SVG\"></script><script type=\"text/javascript\">if (window.MathJax) {MathJax.Hub.Config({SVG: {font: \"STIX-Web\"}});}</script>\n",
              "                <script type=\"text/javascript\">window.PlotlyConfig = {MathJaxConfig: 'local'};</script>\n",
              "        <script src=\"https://cdn.plot.ly/plotly-latest.min.js\"></script>    \n",
              "            <div id=\"0d649f0b-5ef1-4099-a7b9-8468f5c22722\" class=\"plotly-graph-div\" style=\"height:525px; width:100%;\"></div>\n",
              "            <script type=\"text/javascript\">\n",
              "                \n",
              "                    window.PLOTLYENV=window.PLOTLYENV || {};\n",
              "                    \n",
              "                if (document.getElementById(\"0d649f0b-5ef1-4099-a7b9-8468f5c22722\")) {\n",
              "                    Plotly.newPlot(\n",
              "                        '0d649f0b-5ef1-4099-a7b9-8468f5c22722',\n",
              "                        [{\"alignmentgroup\": \"True\", \"hoverlabel\": {\"namelength\": 0}, \"hovertemplate\": \"chord=%{x}<br>count=%{y}\", \"legendgroup\": \"\", \"marker\": {\"color\": \"#636efa\"}, \"name\": \"\", \"offsetgroup\": \"\", \"orientation\": \"v\", \"showlegend\": false, \"textposition\": \"auto\", \"type\": \"bar\", \"x\": [\"C\", \"G7\", \"Dm\", \"Am\", \"A7\", \"D7\", \"F\", \"C7\", \"E7\", \"Em\", \"Bb7\", \"F7\", \"Fm\", \"B7\", \"Gm\", \"Bm7b5\", \"G#7\", \"G\", \"Ebdim\", \"Cm\", \"Eb7\", \"F#m7b5\", \"G7sus4\", \"Bm\", \"C#7\", \"G#\", \"Em7b5\", \"Bb\", \"F#7\", \"F#m\", \"E\", \"Eb\", \"F#dim\", \"C#dim\", \"Ebm\", \"C#\", \"Dm7b5\", \"A\", \"Bbm\", \"D\", \"C#m\", \"Cdim\", \"B\", \"G#m\", \"C7sus4\", \"F#\"], \"xaxis\": \"x\", \"y\": [12890, 9688, 7498, 5443, 4128, 3578, 3419, 3111, 2976, 2555, 1605, 1602, 1517, 1340, 1225, 911, 902, 732, 634, 588, 558, 547, 510, 504, 493, 482, 468, 465, 453, 440, 436, 375, 374, 353, 347, 328, 312, 310, 293, 288, 237, 184, 148, 147, 146, 137], \"yaxis\": \"y\"}],\n",
              "                        {\"barmode\": \"stack\", \"legend\": {\"tracegroupgap\": 0}, \"margin\": {\"t\": 60}, \"template\": {\"data\": {\"bar\": [{\"error_x\": {\"color\": \"#2a3f5f\"}, \"error_y\": {\"color\": \"#2a3f5f\"}, \"marker\": {\"line\": {\"color\": \"#E5ECF6\", \"width\": 0.5}}, \"type\": \"bar\"}], \"barpolar\": [{\"marker\": {\"line\": {\"color\": \"#E5ECF6\", \"width\": 0.5}}, \"type\": \"barpolar\"}], \"carpet\": [{\"aaxis\": {\"endlinecolor\": \"#2a3f5f\", \"gridcolor\": \"white\", \"linecolor\": \"white\", \"minorgridcolor\": \"white\", \"startlinecolor\": \"#2a3f5f\"}, \"baxis\": {\"endlinecolor\": \"#2a3f5f\", \"gridcolor\": \"white\", \"linecolor\": \"white\", \"minorgridcolor\": \"white\", \"startlinecolor\": \"#2a3f5f\"}, \"type\": \"carpet\"}], \"choropleth\": [{\"colorbar\": {\"outlinewidth\": 0, \"ticks\": \"\"}, \"type\": \"choropleth\"}], \"contour\": [{\"colorbar\": {\"outlinewidth\": 0, \"ticks\": \"\"}, \"colorscale\": [[0.0, \"#0d0887\"], [0.1111111111111111, \"#46039f\"], [0.2222222222222222, \"#7201a8\"], [0.3333333333333333, \"#9c179e\"], [0.4444444444444444, \"#bd3786\"], [0.5555555555555556, \"#d8576b\"], [0.6666666666666666, \"#ed7953\"], [0.7777777777777778, \"#fb9f3a\"], [0.8888888888888888, \"#fdca26\"], [1.0, \"#f0f921\"]], \"type\": \"contour\"}], \"contourcarpet\": [{\"colorbar\": {\"outlinewidth\": 0, \"ticks\": \"\"}, \"type\": \"contourcarpet\"}], \"heatmap\": [{\"colorbar\": {\"outlinewidth\": 0, \"ticks\": \"\"}, \"colorscale\": [[0.0, \"#0d0887\"], [0.1111111111111111, \"#46039f\"], [0.2222222222222222, \"#7201a8\"], [0.3333333333333333, \"#9c179e\"], [0.4444444444444444, \"#bd3786\"], [0.5555555555555556, \"#d8576b\"], [0.6666666666666666, \"#ed7953\"], [0.7777777777777778, \"#fb9f3a\"], [0.8888888888888888, \"#fdca26\"], [1.0, \"#f0f921\"]], \"type\": \"heatmap\"}], \"heatmapgl\": [{\"colorbar\": {\"outlinewidth\": 0, \"ticks\": \"\"}, \"colorscale\": [[0.0, \"#0d0887\"], [0.1111111111111111, \"#46039f\"], [0.2222222222222222, \"#7201a8\"], [0.3333333333333333, \"#9c179e\"], [0.4444444444444444, \"#bd3786\"], [0.5555555555555556, \"#d8576b\"], [0.6666666666666666, \"#ed7953\"], [0.7777777777777778, \"#fb9f3a\"], [0.8888888888888888, \"#fdca26\"], [1.0, \"#f0f921\"]], \"type\": \"heatmapgl\"}], \"histogram\": [{\"marker\": {\"colorbar\": {\"outlinewidth\": 0, \"ticks\": \"\"}}, \"type\": \"histogram\"}], \"histogram2d\": [{\"colorbar\": {\"outlinewidth\": 0, \"ticks\": \"\"}, \"colorscale\": [[0.0, \"#0d0887\"], [0.1111111111111111, \"#46039f\"], [0.2222222222222222, \"#7201a8\"], [0.3333333333333333, \"#9c179e\"], [0.4444444444444444, \"#bd3786\"], [0.5555555555555556, \"#d8576b\"], [0.6666666666666666, \"#ed7953\"], [0.7777777777777778, \"#fb9f3a\"], [0.8888888888888888, \"#fdca26\"], [1.0, \"#f0f921\"]], \"type\": \"histogram2d\"}], \"histogram2dcontour\": [{\"colorbar\": {\"outlinewidth\": 0, \"ticks\": \"\"}, \"colorscale\": [[0.0, \"#0d0887\"], [0.1111111111111111, \"#46039f\"], [0.2222222222222222, \"#7201a8\"], [0.3333333333333333, \"#9c179e\"], [0.4444444444444444, \"#bd3786\"], [0.5555555555555556, \"#d8576b\"], [0.6666666666666666, \"#ed7953\"], [0.7777777777777778, \"#fb9f3a\"], [0.8888888888888888, \"#fdca26\"], [1.0, \"#f0f921\"]], \"type\": \"histogram2dcontour\"}], \"mesh3d\": [{\"colorbar\": {\"outlinewidth\": 0, \"ticks\": \"\"}, \"type\": \"mesh3d\"}], \"parcoords\": [{\"line\": {\"colorbar\": {\"outlinewidth\": 0, \"ticks\": \"\"}}, \"type\": \"parcoords\"}], \"pie\": [{\"automargin\": true, \"type\": \"pie\"}], \"scatter\": [{\"marker\": {\"colorbar\": {\"outlinewidth\": 0, \"ticks\": \"\"}}, \"type\": \"scatter\"}], \"scatter3d\": [{\"line\": {\"colorbar\": {\"outlinewidth\": 0, \"ticks\": \"\"}}, \"marker\": {\"colorbar\": {\"outlinewidth\": 0, \"ticks\": \"\"}}, \"type\": \"scatter3d\"}], \"scattercarpet\": [{\"marker\": {\"colorbar\": {\"outlinewidth\": 0, \"ticks\": \"\"}}, \"type\": \"scattercarpet\"}], \"scattergeo\": [{\"marker\": {\"colorbar\": {\"outlinewidth\": 0, \"ticks\": \"\"}}, \"type\": \"scattergeo\"}], \"scattergl\": [{\"marker\": {\"colorbar\": {\"outlinewidth\": 0, \"ticks\": \"\"}}, \"type\": \"scattergl\"}], \"scattermapbox\": [{\"marker\": {\"colorbar\": {\"outlinewidth\": 0, \"ticks\": \"\"}}, \"type\": \"scattermapbox\"}], \"scatterpolar\": [{\"marker\": {\"colorbar\": {\"outlinewidth\": 0, \"ticks\": \"\"}}, \"type\": \"scatterpolar\"}], \"scatterpolargl\": [{\"marker\": {\"colorbar\": {\"outlinewidth\": 0, \"ticks\": \"\"}}, \"type\": \"scatterpolargl\"}], \"scatterternary\": [{\"marker\": {\"colorbar\": {\"outlinewidth\": 0, \"ticks\": \"\"}}, \"type\": \"scatterternary\"}], \"surface\": [{\"colorbar\": {\"outlinewidth\": 0, \"ticks\": \"\"}, \"colorscale\": [[0.0, \"#0d0887\"], [0.1111111111111111, \"#46039f\"], [0.2222222222222222, \"#7201a8\"], [0.3333333333333333, \"#9c179e\"], [0.4444444444444444, \"#bd3786\"], [0.5555555555555556, \"#d8576b\"], [0.6666666666666666, \"#ed7953\"], [0.7777777777777778, \"#fb9f3a\"], [0.8888888888888888, \"#fdca26\"], [1.0, \"#f0f921\"]], \"type\": \"surface\"}], \"table\": [{\"cells\": {\"fill\": {\"color\": \"#EBF0F8\"}, \"line\": {\"color\": \"white\"}}, \"header\": {\"fill\": {\"color\": \"#C8D4E3\"}, \"line\": {\"color\": \"white\"}}, \"type\": \"table\"}]}, \"layout\": {\"annotationdefaults\": {\"arrowcolor\": \"#2a3f5f\", \"arrowhead\": 0, \"arrowwidth\": 1}, \"coloraxis\": {\"colorbar\": {\"outlinewidth\": 0, \"ticks\": \"\"}}, \"colorscale\": {\"diverging\": [[0, \"#8e0152\"], [0.1, \"#c51b7d\"], [0.2, \"#de77ae\"], [0.3, \"#f1b6da\"], [0.4, \"#fde0ef\"], [0.5, \"#f7f7f7\"], [0.6, \"#e6f5d0\"], [0.7, \"#b8e186\"], [0.8, \"#7fbc41\"], [0.9, \"#4d9221\"], [1, \"#276419\"]], \"sequential\": [[0.0, \"#0d0887\"], [0.1111111111111111, \"#46039f\"], [0.2222222222222222, \"#7201a8\"], [0.3333333333333333, \"#9c179e\"], [0.4444444444444444, \"#bd3786\"], [0.5555555555555556, \"#d8576b\"], [0.6666666666666666, \"#ed7953\"], [0.7777777777777778, \"#fb9f3a\"], [0.8888888888888888, \"#fdca26\"], [1.0, \"#f0f921\"]], \"sequentialminus\": [[0.0, \"#0d0887\"], [0.1111111111111111, \"#46039f\"], [0.2222222222222222, \"#7201a8\"], [0.3333333333333333, \"#9c179e\"], [0.4444444444444444, \"#bd3786\"], [0.5555555555555556, \"#d8576b\"], [0.6666666666666666, \"#ed7953\"], [0.7777777777777778, \"#fb9f3a\"], [0.8888888888888888, \"#fdca26\"], [1.0, \"#f0f921\"]]}, \"colorway\": [\"#636efa\", \"#EF553B\", \"#00cc96\", \"#ab63fa\", \"#FFA15A\", \"#19d3f3\", \"#FF6692\", \"#B6E880\", \"#FF97FF\", \"#FECB52\"], \"font\": {\"color\": \"#2a3f5f\"}, \"geo\": {\"bgcolor\": \"white\", \"lakecolor\": \"white\", \"landcolor\": \"#E5ECF6\", \"showlakes\": true, \"showland\": true, \"subunitcolor\": \"white\"}, \"hoverlabel\": {\"align\": \"left\"}, \"hovermode\": \"closest\", \"mapbox\": {\"style\": \"light\"}, \"paper_bgcolor\": \"white\", \"plot_bgcolor\": \"#E5ECF6\", \"polar\": {\"angularaxis\": {\"gridcolor\": \"white\", \"linecolor\": \"white\", \"ticks\": \"\"}, \"bgcolor\": \"#E5ECF6\", \"radialaxis\": {\"gridcolor\": \"white\", \"linecolor\": \"white\", \"ticks\": \"\"}}, \"scene\": {\"xaxis\": {\"backgroundcolor\": \"#E5ECF6\", \"gridcolor\": \"white\", \"gridwidth\": 2, \"linecolor\": \"white\", \"showbackground\": true, \"ticks\": \"\", \"zerolinecolor\": \"white\"}, \"yaxis\": {\"backgroundcolor\": \"#E5ECF6\", \"gridcolor\": \"white\", \"gridwidth\": 2, \"linecolor\": \"white\", \"showbackground\": true, \"ticks\": \"\", \"zerolinecolor\": \"white\"}, \"zaxis\": {\"backgroundcolor\": \"#E5ECF6\", \"gridcolor\": \"white\", \"gridwidth\": 2, \"linecolor\": \"white\", \"showbackground\": true, \"ticks\": \"\", \"zerolinecolor\": \"white\"}}, \"shapedefaults\": {\"line\": {\"color\": \"#2a3f5f\"}}, \"ternary\": {\"aaxis\": {\"gridcolor\": \"white\", \"linecolor\": \"white\", \"ticks\": \"\"}, \"baxis\": {\"gridcolor\": \"white\", \"linecolor\": \"white\", \"ticks\": \"\"}, \"bgcolor\": \"#E5ECF6\", \"caxis\": {\"gridcolor\": \"white\", \"linecolor\": \"white\", \"ticks\": \"\"}}, \"title\": {\"x\": 0.05}, \"xaxis\": {\"automargin\": true, \"gridcolor\": \"white\", \"linecolor\": \"white\", \"ticks\": \"\", \"title\": {\"standoff\": 15}, \"zerolinecolor\": \"white\", \"zerolinewidth\": 2}, \"yaxis\": {\"automargin\": true, \"gridcolor\": \"white\", \"linecolor\": \"white\", \"ticks\": \"\", \"title\": {\"standoff\": 15}, \"zerolinecolor\": \"white\", \"zerolinewidth\": 2}}}, \"xaxis\": {\"anchor\": \"y\", \"categoryorder\": \"total descending\", \"domain\": [0.0, 1.0], \"title\": {\"text\": \"chord\"}}, \"yaxis\": {\"anchor\": \"x\", \"domain\": [0.0, 1.0], \"title\": {\"text\": \"count\"}, \"type\": \"log\"}},\n",
              "                        {\"responsive\": true}\n",
              "                    ).then(function(){\n",
              "                            \n",
              "var gd = document.getElementById('0d649f0b-5ef1-4099-a7b9-8468f5c22722');\n",
              "var x = new MutationObserver(function (mutations, observer) {{\n",
              "        var display = window.getComputedStyle(gd).display;\n",
              "        if (!display || display === 'none') {{\n",
              "            console.log([gd, 'removed!']);\n",
              "            Plotly.purge(gd);\n",
              "            observer.disconnect();\n",
              "        }}\n",
              "}});\n",
              "\n",
              "// Listen for the removal of the full notebook cells\n",
              "var notebookContainer = gd.closest('#notebook-container');\n",
              "if (notebookContainer) {{\n",
              "    x.observe(notebookContainer, {childList: true});\n",
              "}}\n",
              "\n",
              "// Listen for the clearing of the current output cell\n",
              "var outputEl = gd.closest('.output');\n",
              "if (outputEl) {{\n",
              "    x.observe(outputEl, {childList: true});\n",
              "}}\n",
              "\n",
              "                        })\n",
              "                };\n",
              "                \n",
              "            </script>\n",
              "        </div>\n",
              "</body>\n",
              "</html>"
            ]
          },
          "metadata": {}
        }
      ]
    },
    {
      "cell_type": "markdown",
      "metadata": {
        "id": "cG5dtDpkWwLE"
      },
      "source": [
        "Plot Distribution accoring to Zipf's Law\n",
        "\n",
        "source: https://stats.stackexchange.com/questions/331219/characterizing-fitting-word-count-data-into-zipf-power-law-lognormal"
      ]
    },
    {
      "cell_type": "code",
      "metadata": {
        "id": "tazf9QRST5NP"
      },
      "source": [
        "from collections import Counter\n",
        "\n",
        "counter_of_words = df_chords.set_index('chord').to_dict(orient='dict')\n",
        "counter_of_words = Counter(counter_of_words['count'])\n",
        "\n",
        "word_counts = sorted(counter_of_words.values(), reverse=True)\n",
        "frequency_rank = np.array(list(range(1, len(word_counts) + 1)))"
      ],
      "execution_count": null,
      "outputs": []
    },
    {
      "cell_type": "code",
      "metadata": {
        "colab": {
          "base_uri": "https://localhost:8080/",
          "height": 54
        },
        "id": "Jc80DSe7QlkV",
        "outputId": "11ebe23b-38cb-4535-c4f3-101e4dd09aa8"
      },
      "source": [
        "plt.figure(figsize=(20, 3))\n",
        "\n",
        "plt.subplot(1, 2, 1)\n",
        "\n",
        "n = 30\n",
        "df_top = df_chords_top.head(n)\n",
        "plt.bar(df_top['chord'], np.log(df_top['count']))\n",
        "plt.xlabel('')\n",
        "plt.ylabel('Absolute Counts (log)')\n",
        "plt.title(f'Top {n} Most Frequent Chords in the Corpus')\n",
        "ax = plt.gca()\n",
        "ax.set_xticklabels(labels=df_chords_top['chord'],rotation=90);\n",
        "\n",
        "plt.subplot(1, 2, 2)\n",
        "\n",
        "plt.scatter(np.log(frequency_rank), np.log(word_counts))\n",
        "plt.xlabel('Frequency Rank of Token (log)')\n",
        "plt.ylabel('Absolute Count of Token (log)')\n",
        "plt.title('Zipf Plot for Chord Frequencies')\n",
        "\n",
        "plt.savefig('plot.png')"
      ],
      "execution_count": null,
      "outputs": [
        {
          "output_type": "display_data",
          "data": {
            "image/png": "[encoded data removed]",
            "text/plain": [
              "<Figure size 1440x216 with 2 Axes>"
            ]
          },
          "metadata": {
            "needs_background": "light"
          }
        }
      ]
    },
    {
      "cell_type": "code",
      "metadata": {
        "colab": {
          "base_uri": "https://localhost:8080/",
          "height": 54
        },
        "id": "g-hNqtE_sYBE",
        "outputId": "227d7e72-f51f-496a-fe9e-07cd78a5c5b5"
      },
      "source": [
        "plt.figure(figsize=(22, 3))\n",
        "\n",
        "n = 100\n",
        "\n",
        "df_top = df_chords_top.head(n)\n",
        "plt.bar(df_top['chord'], np.log(df_top['count']))\n",
        "plt.xlabel('')\n",
        "plt.ylabel('Absolute Counts (log)')\n",
        "plt.title(f'Top {n} Most Frequent Chords and n-gram Chords in the Corpus')\n",
        "ax = plt.gca()\n",
        "ax.set_xticklabels(labels=df_chords_top['chord'],rotation=90);"
      ],
      "execution_count": null,
      "outputs": [
        {
          "output_type": "display_data",
          "data": {
            "image/png": "[encoded data removed]",
            "text/plain": [
              "<Figure size 1584x216 with 1 Axes>"
            ]
          },
          "metadata": {
            "needs_background": "light"
          }
        }
      ]
    },
    {
      "cell_type": "code",
      "metadata": {
        "id": "a1IvM4wh7zOv"
      },
      "source": [
        "if use_wandb:\n",
        "  wandb.log(\n",
        "      {\"corpus\": {\n",
        "              \"total_tokens\": total_tokens,\n",
        "              \"vocab_size\": vocab_size,\n",
        "              \"vocab_proportion_in_corpus\": vocab_prop,\n",
        "              \"zipf_plot\": wandb.Image('plot.png'),\n",
        "              }\n",
        "      }\n",
        "  )"
      ],
      "execution_count": null,
      "outputs": []
    },
    {
      "cell_type": "markdown",
      "metadata": {
        "id": "LeRGFeTn89Uc"
      },
      "source": [
        "# TF-IDF"
      ]
    },
    {
      "cell_type": "code",
      "metadata": {
        "colab": {
          "base_uri": "https://localhost:8080/"
        },
        "id": "pBdUdBNr9Gmu",
        "outputId": "badd6a4e-bb72-4145-b3ff-44c3592ba873"
      },
      "source": [
        "dictionary = corpora.Dictionary(processed_corpus)\n",
        "bow_corpus = [dictionary.doc2bow(text) for text in processed_corpus]\n",
        "tfidf = TfidfModel(bow_corpus)"
      ],
      "execution_count": null,
      "outputs": [
        {
          "output_type": "stream",
          "name": "stderr",
          "text": [
            "2021-12-20 13:11:43,167 : INFO : adding document #0 to Dictionary(0 unique tokens: [])\n",
            "2021-12-20 13:11:43,449 : INFO : built Dictionary(83 unique tokens: ['Am', 'B7', 'C', 'C#', 'C7']...) from 5536 documents (total 76721 corpus positions)\n",
            "2021-12-20 13:11:43,458 : INFO : Dictionary lifecycle event {'msg': \"built Dictionary(83 unique tokens: ['Am', 'B7', 'C', 'C#', 'C7']...) from 5536 documents (total 76721 corpus positions)\", 'datetime': '2021-12-20T13:11:43.458245', 'gensim': '4.1.2', 'python': '3.7.12 (default, Sep 10 2021, 00:21:48) \\n[GCC 7.5.0]', 'platform': 'Linux-5.4.104+-x86_64-with-Ubuntu-18.04-bionic', 'event': 'created'}\n",
            "2021-12-20 13:11:43,589 : INFO : collecting document frequencies\n",
            "2021-12-20 13:11:43,596 : INFO : PROGRESS: processing document #0\n",
            "2021-12-20 13:11:43,624 : INFO : TfidfModel lifecycle event {'msg': 'calculated IDF weights for 5536 documents and 83 features (41442 matrix non-zeros)', 'datetime': '2021-12-20T13:11:43.624003', 'gensim': '4.1.2', 'python': '3.7.12 (default, Sep 10 2021, 00:21:48) \\n[GCC 7.5.0]', 'platform': 'Linux-5.4.104+-x86_64-with-Ubuntu-18.04-bionic', 'event': 'initialize'}\n"
          ]
        }
      ]
    },
    {
      "cell_type": "code",
      "metadata": {
        "id": "9NK-cuax9Kqk"
      },
      "source": [
        "# dictionary.token2id"
      ],
      "execution_count": null,
      "outputs": []
    },
    {
      "cell_type": "code",
      "metadata": {
        "id": "til5xlce_y1m",
        "colab": {
          "base_uri": "https://localhost:8080/"
        },
        "outputId": "93234656-a179-4697-88c4-ca450ec96a9d"
      },
      "source": [
        "!rm -R index\n",
        "!mkdir index"
      ],
      "execution_count": null,
      "outputs": [
        {
          "output_type": "stream",
          "name": "stdout",
          "text": [
            "rm: cannot remove 'index': No such file or directory\n"
          ]
        }
      ]
    },
    {
      "cell_type": "code",
      "metadata": {
        "colab": {
          "base_uri": "https://localhost:8080/"
        },
        "id": "tn_fz2M090IM",
        "outputId": "6f08aeeb-e613-4e39-daa1-d088573672df"
      },
      "source": [
        "# Note: SparseMatrixSimilarity crashes due to lacking memory\n",
        "#from gensim.test.utils import get_tmpfile\n",
        "#index_tmpfile = get_tmpfile(\"index\")\n",
        "#index_tfidf = similarities.Similarity('/content/index/index_tfidf', bow_corpus, num_features=len(dictionary))\n",
        "\n",
        "index_tfidf = similarities.SparseMatrixSimilarity(tfidf[bow_corpus], num_features = len(dictionary))"
      ],
      "execution_count": null,
      "outputs": [
        {
          "output_type": "stream",
          "name": "stderr",
          "text": [
            "2021-12-20 13:11:44,005 : INFO : creating sparse index\n",
            "2021-12-20 13:11:44,027 : INFO : creating sparse matrix from corpus\n",
            "2021-12-20 13:11:44,042 : INFO : PROGRESS: at document #0\n",
            "2021-12-20 13:11:45,151 : INFO : created <5536x83 sparse matrix of type '<class 'numpy.float32'>'\n",
            "\twith 41442 stored elements in Compressed Sparse Row format>\n"
          ]
        }
      ]
    },
    {
      "cell_type": "code",
      "metadata": {
        "colab": {
          "base_uri": "https://localhost:8080/"
        },
        "id": "VRSUXNPTewqv",
        "outputId": "16475146-d903-4827-e30e-b7b6075ff1e0"
      },
      "source": [
        "tfidf.save('/content/index/tfidf.model')  # save model\n",
        "index_tfidf.save('/content/index/tfidf.index') #save index"
      ],
      "execution_count": null,
      "outputs": [
        {
          "output_type": "stream",
          "name": "stderr",
          "text": [
            "2021-12-20 13:11:45,174 : INFO : TfidfModel lifecycle event {'fname_or_handle': '/content/index/tfidf.model', 'separately': 'None', 'sep_limit': 10485760, 'ignore': frozenset(), 'datetime': '2021-12-20T13:11:45.174691', 'gensim': '4.1.2', 'python': '3.7.12 (default, Sep 10 2021, 00:21:48) \\n[GCC 7.5.0]', 'platform': 'Linux-5.4.104+-x86_64-with-Ubuntu-18.04-bionic', 'event': 'saving'}\n",
            "2021-12-20 13:11:45,186 : INFO : saved /content/index/tfidf.model\n",
            "2021-12-20 13:11:45,194 : INFO : SparseMatrixSimilarity lifecycle event {'fname_or_handle': '/content/index/tfidf.index', 'separately': 'None', 'sep_limit': 10485760, 'ignore': frozenset(), 'datetime': '2021-12-20T13:11:45.194536', 'gensim': '4.1.2', 'python': '3.7.12 (default, Sep 10 2021, 00:21:48) \\n[GCC 7.5.0]', 'platform': 'Linux-5.4.104+-x86_64-with-Ubuntu-18.04-bionic', 'event': 'saving'}\n",
            "2021-12-20 13:11:45,201 : INFO : saved /content/index/tfidf.index\n"
          ]
        }
      ]
    },
    {
      "cell_type": "markdown",
      "metadata": {
        "id": "ZLK0coIu9Tv5"
      },
      "source": [
        "## Tests"
      ]
    },
    {
      "cell_type": "code",
      "metadata": {
        "id": "Fzrj1qxwDpJT"
      },
      "source": [
        "def get_sim_scores(tunes, index, model, topn=50):\n",
        "\n",
        "    df_sim = pd.DataFrame(columns=['reference_title',\n",
        "                                   'reference_titleid',\n",
        "                                   'similar_title',\n",
        "                                   'similar_titleid',\n",
        "                                   'ref_section', \n",
        "                                   'ref_section_label',\n",
        "                                   'ref_sectionid',\n",
        "                                   'similar_section',\n",
        "                                   'similar_section_label',\n",
        "                                   'similar_sectionid',\n",
        "                                   'score', \n",
        "                                  ])\n",
        "\n",
        "    for tune in tqdm(tunes):\n",
        "      for s1 in title_to_sectionid[tune]:\n",
        "      \n",
        "          query = processed_corpus[s1]\n",
        "          query_bow = dictionary.doc2bow(query)\n",
        "\n",
        "          # perform a similarity query against the corpus\n",
        "          similarities = index[model[query_bow]]\n",
        "          sims = sorted(enumerate(similarities), key=lambda item: -item[1])\n",
        "          \n",
        "          n = 0\n",
        "          for s2, s2_score in sims:\n",
        "            \n",
        "            # store the top N best results\n",
        "            if n > topn:\n",
        "                break\n",
        "            # don't count self-similarity between sections of the same tune\n",
        "            if s2 not in title_to_sectionid[tune]:\n",
        "                # print(f\"\\t{s2_score:.3f} {sectionid_to_section[s2]}\")\n",
        "                n += 1\n",
        "                df_sim.loc[len(df_sim)] = [tune,\n",
        "                                           title_to_titleid[tune],\n",
        "                                           sectionid_to_title[s2],\n",
        "                                           sectionid_to_titleid[s2],\n",
        "                                           sectionid_to_section[s1],\n",
        "                                           sectionid_to_sectionlabel[s1],\n",
        "                                           s1,\n",
        "                                           sectionid_to_section[s2], \n",
        "                                           sectionid_to_sectionlabel[s2],\n",
        "                                           s2,\n",
        "                                           s2_score, \n",
        "                                           ]\n",
        "    return df_sim"
      ],
      "execution_count": null,
      "outputs": []
    },
    {
      "cell_type": "code",
      "metadata": {
        "id": "OZ0YfkIO9g5V"
      },
      "source": [
        "def recommend_tune(df, tune_name):\n",
        "\n",
        "  threshold = 0.5 # arbitrary value, selected based on distribution of max scores\n",
        "\n",
        "  df_tune = df.query(f'reference_title == \"{tune_name}\"')\n",
        "  ff = df_tune.iloc[:]\n",
        "\n",
        "  # get the maximum similarity score for each section and store in new column\n",
        "  ff['max'] = ff.groupby('ref_section')['score'].transform('max')\n",
        "\n",
        "  # consider only results for scores above threshold\n",
        "  ff = ff.loc[(ff['max'] > threshold)]\n",
        "\n",
        "  # scale the score with the maxmum value of each section\n",
        "  ff['score_div_max'] = ff['score'] / ff['max']\n",
        "\n",
        "  # for each similar title, aggregate all of its sections using the median value\n",
        "  result = ff.groupby('similar_title').median().sort_values('score_div_max', ascending=False)\n",
        "    \n",
        "  # if multiple rows from the same similar tune, keep only the similar_title with the highest score_div_max\n",
        "  result = result.groupby('similar_title').max('score_div_max').sort_values('score_div_max', ascending=False)\n",
        "\n",
        "  # add the name of the reference tune\n",
        "  result['reference'] = tune_name\n",
        "  result['reference_titleid'] = title_to_titleid[tune_name]\n",
        "\n",
        "  result = result.reset_index()\n",
        "  result = result.loc[:, ['reference', 'reference_titleid', 'similar_title', 'score', 'max', 'score_div_max']]\n",
        "  result['similar_titleid'] = result['similar_title'].apply(lambda x: title_to_titleid[x])\n",
        "  result = result.reset_index()\n",
        "  return result, ff"
      ],
      "execution_count": null,
      "outputs": []
    },
    {
      "cell_type": "markdown",
      "metadata": {
        "id": "S4RKQCihX02Q"
      },
      "source": [
        "### Single Tunes"
      ]
    },
    {
      "cell_type": "code",
      "metadata": {
        "colab": {
          "base_uri": "https://localhost:8080/"
        },
        "id": "5Wz4ZQk_EKZy",
        "outputId": "812169f4-f22d-4491-af31-593afdf41211"
      },
      "source": [
        "%%time\n",
        "df_sim = get_sim_scores(tunes_eval_list, index_tfidf, tfidf)\n",
        "\n",
        "# save a copy of the results; all results will be concatenated at the end\n",
        "df_tfidf = df_sim[:]"
      ],
      "execution_count": null,
      "outputs": [
        {
          "output_type": "stream",
          "name": "stderr",
          "text": [
            "100%|██████████| 11/11 [00:29<00:00,  2.66s/it]"
          ]
        },
        {
          "output_type": "stream",
          "name": "stdout",
          "text": [
            "CPU times: user 24.4 s, sys: 328 ms, total: 24.8 s\n",
            "Wall time: 29.3 s\n"
          ]
        },
        {
          "output_type": "stream",
          "name": "stderr",
          "text": [
            "\n"
          ]
        }
      ]
    },
    {
      "cell_type": "code",
      "metadata": {
        "colab": {
          "base_uri": "https://localhost:8080/",
          "height": 562
        },
        "id": "yzRuIKVh9c8g",
        "outputId": "650df061-9d37-4406-8138-59aeee8deaa8"
      },
      "source": [
        "import plotly.express as px\n",
        "fig = px.histogram(df_sim, x=\"score\", nbins=50, title='Scores for TF-IDF')\n",
        "fig.show()"
      ],
      "execution_count": null,
      "outputs": [
        {
          "output_type": "display_data",
          "data": {
            "text/html": [
              "<html>\n",
              "<head><meta charset=\"utf-8\" /></head>\n",
              "<body>\n",
              "    <div>\n",
              "            <script src=\"https://cdnjs.cloudflare.com/ajax/libs/mathjax/2.7.5/MathJax.js?config=TeX-AMS-MML_SVG\"></script><script type=\"text/javascript\">if (window.MathJax) {MathJax.Hub.Config({SVG: {font: \"STIX-Web\"}});}</script>\n",
              "                <script type=\"text/javascript\">window.PlotlyConfig = {MathJaxConfig: 'local'};</script>\n",
              "        <script src=\"https://cdn.plot.ly/plotly-latest.min.js\"></script>    \n",
              "            <div id=\"9770757e-b8a2-4fe4-80dc-4f530da5b883\" class=\"plotly-graph-div\" style=\"height:525px; width:100%;\"></div>\n",
              "            <script type=\"text/javascript\">\n",
              "                \n",
              "                    window.PLOTLYENV=window.PLOTLYENV || {};\n",
              "                    \n",
              "                if (document.getElementById(\"9770757e-b8a2-4fe4-80dc-4f530da5b883\")) {\n",
              "                    Plotly.newPlot(\n",
              "                        '9770757e-b8a2-4fe4-80dc-4f530da5b883',\n",
              "                        [{\"alignmentgroup\": \"True\", \"bingroup\": \"x\", \"hoverlabel\": {\"namelength\": 0}, \"hovertemplate\": \"score=%{x}<br>count=%{y}\", \"legendgroup\": \"\", \"marker\": {\"color\": \"#636efa\"}, \"name\": \"\", \"nbinsx\": 50, \"offsetgroup\": \"\", \"orientation\": \"v\", \"showlegend\": false, \"type\": \"histogram\", \"x\": [0.896169900894165, 0.8437082767486572, 0.834405243396759, 0.8049286007881165, 0.7870436906814575, 0.7870023846626282, 0.7870023846626282, 0.7786077260971069, 0.7774932384490967, 0.7762253880500793, 0.7725000381469727, 0.7725000381469727, 0.771676778793335, 0.771676778793335, 0.7683393359184265, 0.7678983807563782, 0.7678983807563782, 0.7639281153678894, 0.7639281153678894, 0.7639281153678894, 0.7596666812896729, 0.7580535411834717, 0.7571510076522827, 0.7571510076522827, 0.751255452632904, 0.7502933144569397, 0.7458888292312622, 0.7440370321273804, 0.7440370321273804, 0.7437036633491516, 0.7437036633491516, 0.7428916692733765, 0.7410646677017212, 0.7386136054992676, 0.7360786199569702, 0.7359340786933899, 0.7359340786933899, 0.7320878505706787, 0.7290765047073364, 0.7290765047073364, 0.7290765047073364, 0.7248397469520569, 0.7234245538711548, 0.7222559452056885, 0.7138762474060059, 0.7122151851654053, 0.7097716331481934, 0.7097201347351074, 0.7047960758209229, 0.7035385370254517, 0.7032533884048462, 0.8060507774353027, 0.7877931594848633, 0.7870497703552246, 0.7847675085067749, 0.779808521270752, 0.7728767991065979, 0.7633397579193115, 0.7603833079338074, 0.7532424330711365, 0.7532424330711365, 0.7421566247940063, 0.7421566247940063, 0.7372415065765381, 0.7372415065765381, 0.736079752445221, 0.7353553175926208, 0.7353553175926208, 0.7313735485076904, 0.7313735485076904, 0.7280476093292236, 0.7234265804290771, 0.7216345071792603, 0.715177595615387, 0.7136104106903076, 0.7131622433662415, 0.7106460332870483, 0.7050483226776123, 0.7037131786346436, 0.703594446182251, 0.7029857039451599, 0.702109694480896, 0.6994822025299072, 0.6931769847869873, 0.6931769847869873, 0.6891815662384033, 0.6877928972244263, 0.6869493722915649, 0.6812445521354675, 0.6812265515327454, 0.6791983246803284, 0.6688250303268433, 0.6688250303268433, 0.6650594472885132, 0.6626791954040527, 0.6617777347564697, 0.6617777347564697, 0.658466100692749, 0.6576486229896545, 0.656991720199585, 0.6569064855575562, 0.6558780670166016, 0.8289557695388794, 0.790259838104248, 0.7252111434936523, 0.723314642906189, 0.7229623794555664, 0.7168857455253601, 0.7119203805923462, 0.706005871295929, 0.6979244947433472, 0.6932876110076904, 0.674265444278717, 0.6578452587127686, 0.6577500700950623, 0.6559956669807434, 0.6514084339141846, 0.6495734453201294, 0.6449730396270752, 0.6449730396270752, 0.6449730396270752, 0.6429299712181091, 0.6391714215278625, 0.6365237832069397, 0.6353577375411987, 0.6301997900009155, 0.6276346445083618, 0.6183143854141235, 0.6180956363677979, 0.617056131362915, 0.6164369583129883, 0.6113899946212769, 0.6112284660339355, 0.6008724570274353, 0.5982556939125061, 0.5963693261146545, 0.5949878692626953, 0.5908852219581604, 0.5841519236564636, 0.5813936591148376, 0.5800899267196655, 0.5792345404624939, 0.5786775350570679, 0.5685309767723083, 0.5677528381347656, 0.565889835357666, 0.5652456879615784, 0.5650916695594788, 0.5634430646896362, 0.5634430646896362, 0.55645352602005, 0.554069459438324, 0.554069459438324, 0.896169900894165, 0.8437082767486572, 0.834405243396759, 0.8049286007881165, 0.7870436906814575, 0.7870023846626282, 0.7870023846626282, 0.7786077260971069, 0.7774932384490967, 0.7762253880500793, 0.7725000381469727, 0.7725000381469727, 0.771676778793335, 0.771676778793335, 0.7683393359184265, 0.7678983807563782, 0.7678983807563782, 0.7639281153678894, 0.7639281153678894, 0.7639281153678894, 0.7596666812896729, 0.7580535411834717, 0.7571510076522827, 0.7571510076522827, 0.751255452632904, 0.7502933144569397, 0.7458888292312622, 0.7440370321273804, 0.7440370321273804, 0.7437036633491516, 0.7437036633491516, 0.7428916692733765, 0.7410646677017212, 0.7386136054992676, 0.7360786199569702, 0.7359340786933899, 0.7359340786933899, 0.7320878505706787, 0.7290765047073364, 0.7290765047073364, 0.7290765047073364, 0.7248397469520569, 0.7234245538711548, 0.7222559452056885, 0.7138762474060059, 0.7122151851654053, 0.7097716331481934, 0.7097201347351074, 0.7047960758209229, 0.7035385370254517, 0.7032533884048462, 0.9858484268188477, 0.9858484268188477, 0.9858484268188477, 0.9858484268188477, 0.9797606468200684, 0.9797606468200684, 0.9797606468200684, 0.9797606468200684, 0.9797606468200684, 0.9797606468200684, 0.9749926924705505, 0.9749926924705505, 0.972995936870575, 0.972995936870575, 0.972995936870575, 0.9653550386428833, 0.9653550386428833, 0.9653550386428833, 0.9643117785453796, 0.9643117785453796, 0.9381626844406128, 0.9292495250701904, 0.9292495250701904, 0.9292495250701904, 0.9209518432617188, 0.920653760433197, 0.920653760433197, 0.9181464314460754, 0.9166693687438965, 0.9053690433502197, 0.8990663886070251, 0.8980695009231567, 0.8896704316139221, 0.8881350159645081, 0.8858867287635803, 0.885697066783905, 0.8850067853927612, 0.8850067853927612, 0.8850067853927612, 0.8838730454444885, 0.8809695243835449, 0.8788143396377563, 0.8670822381973267, 0.8670822381973267, 0.8670822381973267, 0.8670822381973267, 0.8670822381973267, 0.8670822381973267, 0.8632466197013855, 0.8584966659545898, 0.8583070635795593, 1.0, 1.0, 1.0, 1.0, 1.0, 1.0, 0.9453941583633423, 0.8944277167320251, 0.8849939703941345, 0.8849939703941345, 0.8849939703941345, 0.8849939703941345, 0.8849939703941345, 0.8849939703941345, 0.8839533925056458, 0.8839533925056458, 0.8839533925056458, 0.8808344602584839, 0.8808344602584839, 0.8807427883148193, 0.8807427883148193, 0.8807427883148193, 0.8731171488761902, 0.8695762157440186, 0.8675011992454529, 0.8671579957008362, 0.8671579957008362, 0.8671579957008362, 0.8671579957008362, 0.8586452007293701, 0.8586452007293701, 0.8559713959693909, 0.8500199317932129, 0.8486908674240112, 0.8463534116744995, 0.8423652052879333, 0.842365026473999, 0.8419257402420044, 0.8417560458183289, 0.8417560458183289, 0.8338562846183777, 0.8273438215255737, 0.8273438215255737, 0.8273438215255737, 0.8260452151298523, 0.8232100009918213, 0.8218380808830261, 0.8211072087287903, 0.8202374577522278, 0.8202374577522278, 0.8142337203025818, 0.9070111513137817, 0.894500195980072, 0.8715997934341431, 0.8653898239135742, 0.8637814521789551, 0.8626904487609863, 0.8330509662628174, 0.8083075284957886, 0.8044753074645996, 0.8042806386947632, 0.7999733686447144, 0.7985163927078247, 0.7980188131332397, 0.7979897260665894, 0.7949161529541016, 0.7944649457931519, 0.7943875789642334, 0.7932084798812866, 0.7909160852432251, 0.7867483496665955, 0.7803508043289185, 0.7793933749198914, 0.777452290058136, 0.777452290058136, 0.7717905044555664, 0.7717568874359131, 0.7713421583175659, 0.7713421583175659, 0.7682851552963257, 0.7668882608413696, 0.7629866003990173, 0.7607413530349731, 0.7580361366271973, 0.7517144680023193, 0.7506779432296753, 0.7489268779754639, 0.7475709915161133, 0.7455763816833496, 0.7455763816833496, 0.7455664873123169, 0.741766095161438, 0.7403039932250977, 0.7403039932250977, 0.7386888265609741, 0.7386888265609741, 0.7376415133476257, 0.7371436357498169, 0.7343231439590454, 0.7334228754043579, 0.7333083152770996, 0.7321543097496033, 0.9858484268188477, 0.9858484268188477, 0.9858484268188477, 0.9858484268188477, 0.9797606468200684, 0.9797606468200684, 0.9797606468200684, 0.9797606468200684, 0.9797606468200684, 0.9797606468200684, 0.9749926924705505, 0.9749926924705505, 0.972995936870575, 0.972995936870575, 0.972995936870575, 0.9653550386428833, 0.9653550386428833, 0.9653550386428833, 0.9643117785453796, 0.9643117785453796, 0.9381626844406128, 0.9292495250701904, 0.9292495250701904, 0.9292495250701904, 0.9209518432617188, 0.920653760433197, 0.920653760433197, 0.9181464314460754, 0.9166693687438965, 0.9053690433502197, 0.8990663886070251, 0.8980695009231567, 0.8896704316139221, 0.8881350159645081, 0.8858867287635803, 0.885697066783905, 0.8850067853927612, 0.8850067853927612, 0.8850067853927612, 0.8838730454444885, 0.8809695243835449, 0.8788143396377563, 0.8670822381973267, 0.8670822381973267, 0.8670822381973267, 0.8670822381973267, 0.8670822381973267, 0.8670822381973267, 0.8632466197013855, 0.8584966659545898, 0.8583070635795593, 0.8986899852752686, 0.8833470940589905, 0.8724381923675537, 0.8668799996376038, 0.8640507459640503, 0.8585336208343506, 0.8513604402542114, 0.8513604402542114, 0.8513604402542114, 0.8513604402542114, 0.8507319092750549, 0.8458605408668518, 0.8458605408668518, 0.8416143655776978, 0.8416143655776978, 0.8411679863929749, 0.8252442479133606, 0.8252442479133606, 0.823661208152771, 0.8212827444076538, 0.809887707233429, 0.8091905117034912, 0.7970283031463623, 0.7928627133369446, 0.7896924614906311, 0.7869335412979126, 0.7869335412979126, 0.7721531987190247, 0.7708005309104919, 0.7666168212890625, 0.764838457107544, 0.7643594741821289, 0.7637068033218384, 0.7613180875778198, 0.7613180875778198, 0.7613180875778198, 0.7613180875778198, 0.7613180875778198, 0.7583460211753845, 0.7577937841415405, 0.7577735185623169, 0.7577735185623169, 0.7563272714614868, 0.7555562257766724, 0.7457386255264282, 0.7457386255264282, 0.7450905442237854, 0.7449625730514526, 0.7434582710266113, 0.7416887879371643, 0.740771472454071, 0.9036073684692383, 0.8838599324226379, 0.8826889991760254, 0.869777500629425, 0.8565978407859802, 0.846621036529541, 0.8465073704719543, 0.8465073704719543, 0.8465073704719543, 0.8399215936660767, 0.8399215936660767, 0.8399215936660767, 0.8319844007492065, 0.8174842000007629, 0.817158043384552, 0.8070918917655945, 0.8057733178138733, 0.7972702980041504, 0.7929999828338623, 0.7929999828338623, 0.7929999828338623, 0.7880028486251831, 0.7880028486251831, 0.7829908132553101, 0.7829908132553101, 0.7829908132553101, 0.7805123329162598, 0.7803194522857666, 0.7803194522857666, 0.779666543006897, 0.7791513204574585, 0.7791513204574585, 0.7772734761238098, 0.7747886776924133, 0.7738010287284851, 0.769106924533844, 0.7686665654182434, 0.7654733657836914, 0.7614280581474304, 0.7587800621986389, 0.7582300305366516, 0.7562419176101685, 0.7562419176101685, 0.7555850148200989, 0.7555390000343323, 0.7555390000343323, 0.7555390000343323, 0.7555390000343323, 0.7555390000343323, 0.7555390000343323, 0.7555390000343323, 1.0, 1.0, 1.0, 1.0, 1.0, 1.0, 1.0, 1.0, 1.0, 1.0, 1.0, 1.0, 1.0, 1.0, 1.0, 1.0, 0.9963086843490601, 0.989200234413147, 0.9470304846763611, 0.9470304846763611, 0.924697995185852, 0.9194155335426331, 0.9194155335426331, 0.9194155335426331, 0.9194155335426331, 0.9194155335426331, 0.9194155335426331, 0.9150981903076172, 0.9140962958335876, 0.9065322875976562, 0.8853354454040527, 0.8853354454040527, 0.8853354454040527, 0.87060546875, 0.8680206537246704, 0.867835521697998, 0.855491042137146, 0.8499453663825989, 0.842979371547699, 0.838977038860321, 0.8344836235046387, 0.8339561223983765, 0.8339561223983765, 0.8324686288833618, 0.8322340846061707, 0.8310420513153076, 0.8289798498153687, 0.8269155025482178, 0.8240767121315002, 0.8235916495323181, 0.8235916495323181, 0.8986899852752686, 0.8833470940589905, 0.8724381923675537, 0.8668799996376038, 0.8640507459640503, 0.8585336208343506, 0.8513604402542114, 0.8513604402542114, 0.8513604402542114, 0.8513604402542114, 0.8507319092750549, 0.8458605408668518, 0.8458605408668518, 0.8416143655776978, 0.8416143655776978, 0.8411679863929749, 0.8252442479133606, 0.8252442479133606, 0.823661208152771, 0.8212827444076538, 0.809887707233429, 0.8091905117034912, 0.7970283031463623, 0.7928627133369446, 0.7896924614906311, 0.7869335412979126, 0.7869335412979126, 0.7721531987190247, 0.7708005309104919, 0.7666168212890625, 0.764838457107544, 0.7643594741821289, 0.7637068033218384, 0.7613180875778198, 0.7613180875778198, 0.7613180875778198, 0.7613180875778198, 0.7613180875778198, 0.7583460211753845, 0.7577937841415405, 0.7577735185623169, 0.7577735185623169, 0.7563272714614868, 0.7555562257766724, 0.7457386255264282, 0.7457386255264282, 0.7450905442237854, 0.7449625730514526, 0.7434582710266113, 0.7416887879371643, 0.740771472454071, 0.880101203918457, 0.8775421380996704, 0.8696142435073853, 0.8696142435073853, 0.8671624660491943, 0.8648722171783447, 0.8593034744262695, 0.8593034744262695, 0.8516839742660522, 0.8503773808479309, 0.8467428684234619, 0.8334681391716003, 0.8333094716072083, 0.8325845003128052, 0.8289847373962402, 0.8222526907920837, 0.8222526907920837, 0.8144558668136597, 0.806348443031311, 0.7943511009216309, 0.7943511009216309, 0.7943511009216309, 0.7841821908950806, 0.7841821908950806, 0.7841821908950806, 0.7841821908950806, 0.7841821908950806, 0.7796922922134399, 0.7770318984985352, 0.7741760015487671, 0.7741760015487671, 0.7731947898864746, 0.7731947898864746, 0.7726529836654663, 0.7726529836654663, 0.7726529836654663, 0.7720457911491394, 0.7658228874206543, 0.7642239332199097, 0.746894121170044, 0.7456128597259521, 0.7456128597259521, 0.7289373874664307, 0.7288702130317688, 0.7276045083999634, 0.7259684801101685, 0.7259684801101685, 0.7259684801101685, 0.7226157784461975, 0.7222309112548828, 0.7211697697639465, 0.882878303527832, 0.8796563148498535, 0.8706967234611511, 0.8687806129455566, 0.8687806129455566, 0.8664007782936096, 0.8605123162269592, 0.8605123162269592, 0.8568214178085327, 0.8488150835037231, 0.8455250263214111, 0.8399901390075684, 0.8354325294494629, 0.8328390121459961, 0.8311349153518677, 0.824451744556427, 0.824451744556427, 0.8194639682769775, 0.810579776763916, 0.7947522401809692, 0.7947522401809692, 0.7947522401809692, 0.7882971167564392, 0.7882971167564392, 0.7882971167564392, 0.7882971167564392, 0.7882971167564392, 0.7800111770629883, 0.7792940139770508, 0.7768363952636719, 0.7768363952636719, 0.7761414647102356, 0.7761414647102356, 0.7761414647102356, 0.7755287885665894, 0.773794412612915, 0.773794412612915, 0.766721248626709, 0.7604197263717651, 0.7464462518692017, 0.7464462518692017, 0.7365548610687256, 0.7336639761924744, 0.7321887016296387, 0.7319507002830505, 0.7278153896331787, 0.727063775062561, 0.727063775062561, 0.727063775062561, 0.7254024744033813, 0.7204165458679199, 1.0, 1.0, 1.0, 1.0, 1.0, 1.0, 1.0, 1.0, 1.0, 1.0, 1.0, 1.0, 1.0, 1.0, 1.0, 1.0, 1.0, 1.0, 1.0, 1.0, 1.0, 1.0, 1.0, 1.0, 1.0, 1.0, 1.0, 1.0, 1.0, 0.9886268377304077, 0.9881181120872498, 0.9801971912384033, 0.9721934199333191, 0.9505312442779541, 0.9453942775726318, 0.9117562770843506, 0.9117562770843506, 0.9117562770843506, 0.9117562770843506, 0.9117562770843506, 0.9117562770843506, 0.8999001979827881, 0.88041090965271, 0.88041090965271, 0.8796385526657104, 0.8792576193809509, 0.8717384934425354, 0.8717384934425354, 0.8717384934425354, 0.8717384934425354, 0.8675400018692017, 0.8452495336532593, 0.8452495336532593, 0.8416112661361694, 0.838010311126709, 0.8282938003540039, 0.8201039433479309, 0.8151801824569702, 0.8151801824569702, 0.8066318035125732, 0.8049367666244507, 0.7940682768821716, 0.7906630635261536, 0.7903609275817871, 0.7900867462158203, 0.7899210453033447, 0.7897542715072632, 0.7897542715072632, 0.7874075174331665, 0.7867146730422974, 0.7867146730422974, 0.7846734523773193, 0.7828092575073242, 0.7828092575073242, 0.7828092575073242, 0.7828092575073242, 0.7828092575073242, 0.7758172750473022, 0.7758172750473022, 0.774986982345581, 0.774986982345581, 0.774986982345581, 0.7732553482055664, 0.7723778486251831, 0.758580207824707, 0.757195234298706, 0.757195234298706, 0.7554158568382263, 0.7527915239334106, 0.7517631649971008, 0.7517631649971008, 0.7517138719558716, 0.7517138719558716, 0.7513788938522339, 0.7513788938522339, 0.7493370771408081, 0.7493370771408081, 0.7493370771408081, 0.7493370771408081, 0.7488523125648499, 0.7488523125648499, 0.7450905442237854, 0.9724626541137695, 0.9563300609588623, 0.9367551207542419, 0.9356982707977295, 0.9308066368103027, 0.9156050682067871, 0.912010669708252, 0.9086979627609253, 0.8872640132904053, 0.8806516528129578, 0.8779892921447754, 0.8776556849479675, 0.8776556849479675, 0.8768033385276794, 0.8707318902015686, 0.8686524629592896, 0.8683390021324158, 0.8675760626792908, 0.8662745356559753, 0.859825074672699, 0.8562021255493164, 0.8547313213348389, 0.8542034029960632, 0.8542034029960632, 0.8535166382789612, 0.8514114022254944, 0.8466352224349976, 0.8455312848091125, 0.8308748006820679, 0.8276476263999939, 0.8273986577987671, 0.8262356519699097, 0.8232475519180298, 0.81730055809021, 0.816794216632843, 0.8160107135772705, 0.8160107135772705, 0.8144223690032959, 0.8120923042297363, 0.8118399381637573, 0.8107243776321411, 0.8090944290161133, 0.8085398077964783, 0.8082837462425232, 0.8075957298278809, 0.8074905872344971, 0.805565595626831, 0.8053885698318481, 0.8029802441596985, 0.801052451133728, 0.7999190092086792, 0.9098275899887085, 0.905832052230835, 0.905832052230835, 0.9051237106323242, 0.90244460105896, 0.8863206505775452, 0.8821430206298828, 0.881537139415741, 0.8717796802520752, 0.8705001473426819, 0.8561308979988098, 0.8552877306938171, 0.8518357276916504, 0.8518357276916504, 0.8363901376724243, 0.8361822962760925, 0.832382321357727, 0.8303006291389465, 0.8301788568496704, 0.8289039134979248, 0.8286693096160889, 0.8215889930725098, 0.8202504515647888, 0.8190243244171143, 0.8161855340003967, 0.8157269954681396, 0.814078688621521, 0.8126505017280579, 0.8113248348236084, 0.807797908782959, 0.8045613169670105, 0.8018652200698853, 0.8018652200698853, 0.8004761934280396, 0.7966345548629761, 0.7966345548629761, 0.7953290939331055, 0.7948765158653259, 0.7916238307952881, 0.790673553943634, 0.7903409600257874, 0.7901206612586975, 0.7897182106971741, 0.7892313599586487, 0.7892313599586487, 0.7881286144256592, 0.7881286144256592, 0.7866003513336182, 0.7864111661911011, 0.7860969305038452, 0.7836173176765442, 0.8876298069953918, 0.7792176008224487, 0.7320758104324341, 0.7320758104324341, 0.7320758104324341, 0.7243010997772217, 0.7223066091537476, 0.7208024859428406, 0.7169053554534912, 0.7141769528388977, 0.7117676138877869, 0.7033631205558777, 0.692479133605957, 0.6896874904632568, 0.6668771505355835, 0.666223406791687, 0.6569952964782715, 0.6539978981018066, 0.6539978981018066, 0.6536030769348145, 0.6533962488174438, 0.6455956101417542, 0.6445887088775635, 0.6412856578826904, 0.6389592885971069, 0.6352131962776184, 0.6352131962776184, 0.6320339441299438, 0.6278761029243469, 0.6276102662086487, 0.623460590839386, 0.6232661008834839, 0.6220437288284302, 0.6220437288284302, 0.6208995580673218, 0.6190516948699951, 0.618442177772522, 0.618442177772522, 0.6169354915618896, 0.6074025630950928, 0.6027649641036987, 0.6003137230873108, 0.5979031324386597, 0.5964902639389038, 0.5960503816604614, 0.5960503816604614, 0.5861148238182068, 0.5861148238182068, 0.5840804576873779, 0.5840804576873779, 0.5803152322769165, 0.9415469765663147, 0.9055143594741821, 0.9044264554977417, 0.9044264554977417, 0.8990421891212463, 0.8983097076416016, 0.8959943652153015, 0.8809776306152344, 0.8729658126831055, 0.8587595820426941, 0.8578481674194336, 0.8511947393417358, 0.8511947393417358, 0.849993884563446, 0.846043050289154, 0.846043050289154, 0.8436673283576965, 0.8384010195732117, 0.8380494713783264, 0.8356587886810303, 0.8320170044898987, 0.8320170044898987, 0.8305010199546814, 0.8298118114471436, 0.8278951644897461, 0.8264778256416321, 0.820755124092102, 0.8186252117156982, 0.8182051181793213, 0.8181619048118591, 0.8163401484489441, 0.81577068567276, 0.8114686012268066, 0.8104599714279175, 0.8104219436645508, 0.8090271353721619, 0.8089919686317444, 0.8066179752349854, 0.8066179752349854, 0.8039888739585876, 0.803754448890686, 0.803754448890686, 0.8033298850059509, 0.7977907061576843, 0.7963175177574158, 0.7961347103118896, 0.7951690554618835, 0.7914196252822876, 0.7913190126419067, 0.7887479066848755, 0.7877119779586792, 0.9332753419876099, 0.9132948517799377, 0.9111736416816711, 0.9111736416816711, 0.9109811186790466, 0.9109811186790466, 0.9109811186790466, 0.8729177713394165, 0.8614358901977539, 0.8451447486877441, 0.8426761031150818, 0.8398959636688232, 0.8398959636688232, 0.8398959636688232, 0.8373777866363525, 0.8373181223869324, 0.833073616027832, 0.8312844038009644, 0.8294055461883545, 0.8276443481445312, 0.8244515657424927, 0.8175610303878784, 0.8164035081863403, 0.8111051321029663, 0.8073318004608154, 0.8070201277732849, 0.8067356944084167, 0.8039631843566895, 0.8039631843566895, 0.8010082244873047, 0.8007289171218872, 0.7977378368377686, 0.7974129915237427, 0.7974129915237427, 0.7970961332321167, 0.7965756058692932, 0.7947624921798706, 0.7906323671340942, 0.7906323671340942, 0.7888636589050293, 0.7888636589050293, 0.7872435450553894, 0.7872435450553894, 0.7872435450553894, 0.7858067154884338, 0.784072995185852, 0.7838286757469177, 0.7838286757469177, 0.7838286757469177, 0.7838286757469177, 0.7837367057800293, 0.926164984703064, 0.895116925239563, 0.878169596195221, 0.8642540574073792, 0.8616698980331421, 0.8563262224197388, 0.8501713871955872, 0.850071907043457, 0.8488905429840088, 0.8468039035797119, 0.846247673034668, 0.8454875946044922, 0.8454875946044922, 0.8454875946044922, 0.8439012765884399, 0.836829423904419, 0.8321501612663269, 0.8309100866317749, 0.8309100866317749, 0.8252996802330017, 0.8188263177871704, 0.8176143169403076, 0.8176143169403076, 0.8176143169403076, 0.8161393404006958, 0.8148711919784546, 0.8148711919784546, 0.813107430934906, 0.8018443584442139, 0.8002135753631592, 0.799891471862793, 0.7959915995597839, 0.7939201593399048, 0.7914630174636841, 0.7901138663291931, 0.7878255248069763, 0.7875589728355408, 0.7853575944900513, 0.7841960787773132, 0.7841960787773132, 0.7804139852523804, 0.7804139852523804, 0.778436005115509, 0.778436005115509, 0.7752633094787598, 0.7750277519226074, 0.7728255987167358, 0.769573450088501, 0.7630895376205444, 0.7602570056915283, 0.7573128938674927, 0.9069770574569702, 0.8945987224578857, 0.8945987224578857, 0.8875821828842163, 0.8599996566772461, 0.854317307472229, 0.8483754396438599, 0.8483754396438599, 0.8471422791481018, 0.8322388529777527, 0.8259283900260925, 0.8222737908363342, 0.8222737908363342, 0.8186063170433044, 0.8148982524871826, 0.8112490177154541, 0.8103122711181641, 0.8103122711181641, 0.8101438283920288, 0.8083261847496033, 0.7989389300346375, 0.7977690696716309, 0.7951534390449524, 0.7941591739654541, 0.7931033372879028, 0.7928282618522644, 0.792473554611206, 0.7919993996620178, 0.787898600101471, 0.7878758907318115, 0.7877340912818909, 0.7872668504714966, 0.7864707112312317, 0.7858877778053284, 0.7840397357940674, 0.7836439609527588, 0.782901406288147, 0.7816612720489502, 0.7811099886894226, 0.7797712087631226, 0.7785378694534302, 0.7784845232963562, 0.7784845232963562, 0.7782970666885376, 0.7769239544868469, 0.7768635749816895, 0.7758708000183105, 0.7757386565208435, 0.7741786241531372, 0.7741786241531372, 0.7741786241531372, 0.9476026892662048, 0.9368199110031128, 0.9178022742271423, 0.9138897061347961, 0.8956329822540283, 0.8752533197402954, 0.8720225691795349, 0.870322048664093, 0.8654816150665283, 0.8621419668197632, 0.8590347170829773, 0.8524444699287415, 0.8509801626205444, 0.8509801626205444, 0.8499249815940857, 0.8498083353042603, 0.8498083353042603, 0.8486712574958801, 0.8479347229003906, 0.8477281332015991, 0.8459997177124023, 0.8389220833778381, 0.8386595845222473, 0.8360092639923096, 0.834810733795166, 0.834810733795166, 0.834810733795166, 0.834810733795166, 0.834810733795166, 0.834810733795166, 0.8338026404380798, 0.8270247578620911, 0.8261585831642151, 0.8261585831642151, 0.8209869861602783, 0.8209869861602783, 0.8209235668182373, 0.8209235668182373, 0.8188457489013672, 0.8166370391845703, 0.8165238499641418, 0.8165238499641418, 0.8101902008056641, 0.8078034520149231, 0.8029708862304688, 0.8029441237449646, 0.8020929098129272, 0.7968120574951172, 0.7967951893806458, 0.7965724468231201, 0.7939687967300415, 1.0, 0.9866613745689392, 0.973847508430481, 0.9678251147270203, 0.9557135105133057, 0.9475048780441284, 0.9475048780441284, 0.935871422290802, 0.9321224689483643, 0.9294479489326477, 0.9294479489326477, 0.9291634559631348, 0.9261850118637085, 0.9261850118637085, 0.9226201772689819, 0.9153743982315063, 0.913872241973877, 0.9138036966323853, 0.9138036966323853, 0.9020692110061646, 0.9001257419586182, 0.8757590651512146, 0.8674200773239136, 0.8605234622955322, 0.8553181886672974, 0.852118194103241, 0.852118194103241, 0.8494067192077637, 0.8494067192077637, 0.8481584787368774, 0.847937285900116, 0.84769207239151, 0.841066837310791, 0.8357744812965393, 0.8284562826156616, 0.8282901644706726, 0.8259277939796448, 0.8253761529922485, 0.822630763053894, 0.8215076327323914, 0.8170751333236694, 0.8139997124671936, 0.8123315572738647, 0.8123315572738647, 0.8123315572738647, 0.8031741380691528, 0.8022050261497498, 0.8019871711730957, 0.8005932569503784, 0.7999923229217529, 0.7994706630706787, 0.947515070438385, 0.9419885277748108, 0.9183868765830994, 0.9176334142684937, 0.9019622206687927, 0.8880119919776917, 0.8842738270759583, 0.8710532188415527, 0.8694707155227661, 0.8671398758888245, 0.862632691860199, 0.8615294694900513, 0.8614059686660767, 0.8599423766136169, 0.8504219651222229, 0.8487500548362732, 0.8487500548362732, 0.8480321764945984, 0.845676600933075, 0.845676600933075, 0.8449217081069946, 0.8416988253593445, 0.8406218886375427, 0.8380228281021118, 0.8380228281021118, 0.8380228281021118, 0.8380228281021118, 0.8380228281021118, 0.8380228281021118, 0.8349251747131348, 0.8348886966705322, 0.8325303196907043, 0.8325303196907043, 0.8293160796165466, 0.8274446725845337, 0.8241990804672241, 0.8241990804672241, 0.8221977949142456, 0.8215932250022888, 0.8215932250022888, 0.8160081505775452, 0.8092891573905945, 0.8081589937210083, 0.8081589937210083, 0.8081355094909668, 0.8016563653945923, 0.8015627861022949, 0.7998610138893127, 0.7989763617515564, 0.798842191696167, 0.7942187786102295, 1.0000001192092896, 1.0000001192092896, 1.0000001192092896, 1.0000001192092896, 1.0000001192092896, 1.0000001192092896, 1.0000001192092896, 1.0000001192092896, 1.0000001192092896, 1.0000001192092896, 1.0000001192092896, 1.0000001192092896, 1.0000001192092896, 1.0000001192092896, 1.0000001192092896, 1.0000001192092896, 1.0000001192092896, 0.9942026734352112, 0.9900598526000977, 0.9900598526000977, 0.9803394675254822, 0.9803394675254822, 0.9803394675254822, 0.979833722114563, 0.9729299545288086, 0.9729299545288086, 0.9681383967399597, 0.9681383967399597, 0.9510480165481567, 0.9510480165481567, 0.9510480165481567, 0.9446186423301697, 0.9446186423301697, 0.9446186423301697, 0.9430986046791077, 0.9400218725204468, 0.9400218725204468, 0.9400218725204468, 0.9297248125076294, 0.9274646639823914, 0.9199914336204529, 0.9199914336204529, 0.9106571674346924, 0.9092749953269958, 0.8913449048995972, 0.8880965709686279, 0.881123960018158, 0.8804332613945007, 0.8717316389083862, 0.8646526336669922, 0.8646526336669922, 1.0000001192092896, 1.0000001192092896, 1.0000001192092896, 1.0000001192092896, 1.0000001192092896, 1.0000001192092896, 1.0000001192092896, 1.0000001192092896, 1.0000001192092896, 1.0000001192092896, 1.0000001192092896, 1.0000001192092896, 1.0000001192092896, 1.0000001192092896, 1.0000001192092896, 1.0000001192092896, 1.0000001192092896, 0.9942026734352112, 0.9900598526000977, 0.9900598526000977, 0.9803394675254822, 0.9803394675254822, 0.9803394675254822, 0.979833722114563, 0.9729299545288086, 0.9729299545288086, 0.9681383967399597, 0.9681383967399597, 0.9510480165481567, 0.9510480165481567, 0.9510480165481567, 0.9446186423301697, 0.9446186423301697, 0.9446186423301697, 0.9430986046791077, 0.9400218725204468, 0.9400218725204468, 0.9400218725204468, 0.9297248125076294, 0.9274646639823914, 0.9199914336204529, 0.9199914336204529, 0.9106571674346924, 0.9092749953269958, 0.8913449048995972, 0.8880965709686279, 0.881123960018158, 0.8804332613945007, 0.8717316389083862, 0.8646526336669922, 0.8646526336669922, 0.8804919719696045, 0.8804919719696045, 0.8731576204299927, 0.8731576204299927, 0.8510664701461792, 0.8117188811302185, 0.7982646226882935, 0.7982646226882935, 0.7951900362968445, 0.7940830588340759, 0.7932801246643066, 0.7920576930046082, 0.7920576930046082, 0.7920576930046082, 0.7920576930046082, 0.7920576930046082, 0.7919259667396545, 0.7912396788597107, 0.787183403968811, 0.781882643699646, 0.7747103571891785, 0.7733545899391174, 0.7721099853515625, 0.7677245736122131, 0.7670981884002686, 0.7666910886764526, 0.7627934217453003, 0.7595832347869873, 0.7560559511184692, 0.7503069639205933, 0.7500714063644409, 0.7470626831054688, 0.7443946003913879, 0.7439705729484558, 0.7430857419967651, 0.739901602268219, 0.7382609844207764, 0.737827479839325, 0.7366396188735962, 0.7366396188735962, 0.7341412901878357, 0.7338475584983826, 0.7338475584983826, 0.7298240661621094, 0.7270756363868713, 0.7270050644874573, 0.7270050644874573, 0.7154998779296875, 0.7146540880203247, 0.7133923172950745, 0.7124373912811279, 1.0000001192092896, 1.0000001192092896, 1.0000001192092896, 1.0000001192092896, 1.0000001192092896, 1.0000001192092896, 1.0000001192092896, 1.0000001192092896, 1.0000001192092896, 1.0000001192092896, 1.0000001192092896, 1.0000001192092896, 1.0000001192092896, 1.0000001192092896, 1.0000001192092896, 1.0000001192092896, 1.0000001192092896, 0.9942026734352112, 0.9900598526000977, 0.9900598526000977, 0.9803394675254822, 0.9803394675254822, 0.9803394675254822, 0.979833722114563, 0.9729299545288086, 0.9729299545288086, 0.9681383967399597, 0.9681383967399597, 0.9510480165481567, 0.9510480165481567, 0.9510480165481567, 0.9446186423301697, 0.9446186423301697, 0.9446186423301697, 0.9430986046791077, 0.9400218725204468, 0.9400218725204468, 0.9400218725204468, 0.9297248125076294, 0.9274646639823914, 0.9199914336204529, 0.9199914336204529, 0.9106571674346924, 0.9092749953269958, 0.8913449048995972, 0.8880965709686279, 0.881123960018158, 0.8804332613945007, 0.8717316389083862, 0.8646526336669922, 0.8646526336669922, 0.9749926924705505, 0.9749926924705505, 0.972673237323761, 0.972673237323761, 0.972673237323761, 0.972673237323761, 0.9530835747718811, 0.9530835747718811, 0.9530835747718811, 0.9156505465507507, 0.9156505465507507, 0.9156505465507507, 0.9156505465507507, 0.9156505465507507, 0.9156505465507507, 0.9148750305175781, 0.9145738482475281, 0.9145738482475281, 0.9145738482475281, 0.9112520217895508, 0.9112520217895508, 0.9112520217895508, 0.888388991355896, 0.888388991355896, 0.8856226205825806, 0.87567138671875, 0.8754526972770691, 0.8709148168563843, 0.8709148168563843, 0.8654484748840332, 0.8640801310539246, 0.8591085076332092, 0.8546596765518188, 0.8524230122566223, 0.8509262800216675, 0.8495506644248962, 0.845309853553772, 0.8420138955116272, 0.8414158821105957, 0.8409347534179688, 0.8342450857162476, 0.8336366415023804, 0.8312027454376221, 0.8265239000320435, 0.8262630105018616, 0.8222463726997375, 0.8202374577522278, 0.8202374577522278, 0.8202374577522278, 0.8202374577522278, 0.8202374577522278, 0.979604184627533, 0.899547815322876, 0.8580052852630615, 0.8522937297821045, 0.8450469970703125, 0.8380600214004517, 0.8230173587799072, 0.8199560642242432, 0.8097867965698242, 0.8088011741638184, 0.8039547204971313, 0.7982856035232544, 0.7900196313858032, 0.7900196313858032, 0.7900196313858032, 0.7900196313858032, 0.7900196313858032, 0.7900196313858032, 0.7900196313858032, 0.7882229089736938, 0.7880659699440002, 0.7868809700012207, 0.7868809700012207, 0.7850918769836426, 0.7850918769836426, 0.7831757068634033, 0.7796579599380493, 0.7794220447540283, 0.7769024968147278, 0.7743836641311646, 0.7743836641311646, 0.772319495677948, 0.772319495677948, 0.7717944979667664, 0.7717944979667664, 0.7691564559936523, 0.7681590914726257, 0.7596511244773865, 0.7574043273925781, 0.7522569894790649, 0.7504380345344543, 0.7473593950271606, 0.7473593950271606, 0.7464319467544556, 0.7460567951202393, 0.7453725337982178, 0.7438671588897705, 0.7428619265556335, 0.7428619265556335, 0.7427363395690918, 0.7405640482902527, 0.947174072265625, 0.947174072265625, 0.9271004796028137, 0.9255778789520264, 0.9216398596763611, 0.9216398596763611, 0.9216398596763611, 0.914692759513855, 0.914692759513855, 0.9090729355812073, 0.9090729355812073, 0.9063208699226379, 0.9063208699226379, 0.9063208699226379, 0.9063208699226379, 0.8904248476028442, 0.8849452137947083, 0.8675355315208435, 0.8651750683784485, 0.852325439453125, 0.8502814769744873, 0.8502814769744873, 0.8458940386772156, 0.8390382528305054, 0.8390382528305054, 0.8390382528305054, 0.8342388868331909, 0.8332303762435913, 0.8332303762435913, 0.8303086757659912, 0.8303086757659912, 0.8217262029647827, 0.8182456493377686, 0.8130490779876709, 0.8121114373207092, 0.8047763705253601, 0.8019927144050598, 0.8010954856872559, 0.8008306622505188, 0.7939468026161194, 0.7920839190483093, 0.7904441356658936, 0.7900353670120239, 0.7866594195365906, 0.7840523719787598, 0.7825390696525574, 0.778286337852478, 0.7781177163124084, 0.7742525935173035, 0.771474301815033, 0.7706099152565002, 0.9749926924705505, 0.9749926924705505, 0.972673237323761, 0.972673237323761, 0.972673237323761, 0.972673237323761, 0.9530835747718811, 0.9530835747718811, 0.9530835747718811, 0.9156505465507507, 0.9156505465507507, 0.9156505465507507, 0.9156505465507507, 0.9156505465507507, 0.9156505465507507, 0.9148750305175781, 0.9145738482475281, 0.9145738482475281, 0.9145738482475281, 0.9112520217895508, 0.9112520217895508, 0.9112520217895508, 0.888388991355896, 0.888388991355896, 0.8856226205825806, 0.87567138671875, 0.8754526972770691, 0.8709148168563843, 0.8709148168563843, 0.8654484748840332, 0.8640801310539246, 0.8591085076332092, 0.8546596765518188, 0.8524230122566223, 0.8509262800216675, 0.8495506644248962, 0.845309853553772, 0.8420138955116272, 0.8414158821105957, 0.8409347534179688, 0.8342450857162476, 0.8336366415023804, 0.8312027454376221, 0.8265239000320435, 0.8262630105018616, 0.8222463726997375, 0.8202374577522278, 0.8202374577522278, 0.8202374577522278, 0.8202374577522278, 0.8202374577522278, 0.8981189727783203, 0.8925701379776001, 0.882145881652832, 0.8712462782859802, 0.8631045818328857, 0.8573184609413147, 0.8528871536254883, 0.8396788835525513, 0.8396788835525513, 0.8324798345565796, 0.8324798345565796, 0.8299195766448975, 0.8258010149002075, 0.823972761631012, 0.8222318887710571, 0.8187751173973083, 0.8155741095542908, 0.8129422664642334, 0.8095565438270569, 0.8094478249549866, 0.8092867136001587, 0.8015417456626892, 0.8010740280151367, 0.8008806705474854, 0.8008806705474854, 0.8000184893608093, 0.7999923229217529, 0.7999923229217529, 0.7975659966468811, 0.7944889664649963, 0.789778470993042, 0.789778470993042, 0.789778470993042, 0.7895886301994324, 0.7843902111053467, 0.7843902111053467, 0.7803884744644165, 0.7799556255340576, 0.779245138168335, 0.7788791656494141, 0.7779662013053894, 0.777925968170166, 0.7778371572494507, 0.7720727920532227, 0.7709639668464661, 0.7684075832366943, 0.767220139503479, 0.764613151550293, 0.7642031311988831, 0.7628645896911621, 0.7628645896911621, 0.8462561368942261, 0.8226649761199951, 0.8191896677017212, 0.8047043085098267, 0.7972748875617981, 0.7950234413146973, 0.7840195894241333, 0.7792223691940308, 0.7765805721282959, 0.7748833298683167, 0.7740562558174133, 0.7712423801422119, 0.7700357437133789, 0.7685405611991882, 0.7672349810600281, 0.7650631666183472, 0.7645973563194275, 0.7582727670669556, 0.7560176849365234, 0.7503588199615479, 0.749943196773529, 0.7365879416465759, 0.7351880073547363, 0.7340730428695679, 0.7305616140365601, 0.7292642593383789, 0.726435124874115, 0.7261983752250671, 0.7246283888816833, 0.7245221138000488, 0.7244706153869629, 0.723153293132782, 0.7227790355682373, 0.7227286100387573, 0.7227286100387573, 0.721862256526947, 0.7190189957618713, 0.7180744409561157, 0.7177129983901978, 0.7158598899841309, 0.7152445912361145, 0.7128226161003113, 0.7124118208885193, 0.71233731508255, 0.7118103504180908, 0.7117555141448975, 0.7109748721122742, 0.7060261964797974, 0.7038255929946899, 0.7027143239974976, 0.7027143239974976, 0.7975636720657349, 0.7607440948486328, 0.7433099746704102, 0.7339684963226318, 0.7336266040802002, 0.7213589549064636, 0.7056544423103333, 0.6943844556808472, 0.668060302734375, 0.6638841032981873, 0.6392720937728882, 0.6286656260490417, 0.6222633719444275, 0.6183122396469116, 0.6156802773475647, 0.6035027503967285, 0.6022173166275024, 0.5999427437782288, 0.5999427437782288, 0.591708242893219, 0.590417742729187, 0.589463472366333, 0.5782546997070312, 0.5775428414344788, 0.5739507675170898, 0.5707987546920776, 0.5636682510375977, 0.5627725124359131, 0.5600990056991577, 0.5600990056991577, 0.5573326945304871, 0.5564720630645752, 0.5512843728065491, 0.5488450527191162, 0.5488450527191162, 0.5476812124252319, 0.5425892472267151, 0.5415130257606506, 0.5414267778396606, 0.5379916429519653, 0.5372280478477478, 0.536674976348877, 0.536141037940979, 0.5357308387756348, 0.5336022973060608, 0.5336022973060608, 0.5331522822380066, 0.5295369625091553, 0.5251872539520264, 0.5235001444816589, 0.5226861238479614, 0.9035427570343018, 0.8914185166358948, 0.8874139189720154, 0.868068277835846, 0.8678831458091736, 0.8649799227714539, 0.8564531803131104, 0.8341320157051086, 0.8341320157051086, 0.8233985304832458, 0.8217511177062988, 0.8139633536338806, 0.8139633536338806, 0.8132955431938171, 0.8116876482963562, 0.810086190700531, 0.8099510073661804, 0.8074522018432617, 0.8037272095680237, 0.8001213073730469, 0.8000092506408691, 0.7989994883537292, 0.7954561710357666, 0.7951902151107788, 0.7951902151107788, 0.7919859886169434, 0.7912122011184692, 0.7873661518096924, 0.7848422527313232, 0.7848422527313232, 0.7848422527313232, 0.7824968099594116, 0.7824968099594116, 0.7819267511367798, 0.7806153297424316, 0.7806153297424316, 0.7793265581130981, 0.7788601517677307, 0.7785765528678894, 0.7778264284133911, 0.7776088118553162, 0.7772678136825562, 0.774606466293335, 0.7735711336135864, 0.7720787525177002, 0.7714920043945312, 0.7714920043945312, 0.7693828344345093, 0.7653772234916687, 0.7606417536735535, 0.7604460716247559, 0.6983934640884399, 0.6508548259735107, 0.605718195438385, 0.5628105401992798, 0.5626133680343628, 0.5575089454650879, 0.5559724569320679, 0.5492488145828247, 0.5478876233100891, 0.5429216623306274, 0.538825511932373, 0.5270828604698181, 0.5239896774291992, 0.5153521299362183, 0.5081359148025513, 0.508073091506958, 0.5080512762069702, 0.5080512762069702, 0.5059216618537903, 0.5028261542320251, 0.49947667121887207, 0.48885560035705566, 0.4860375225543976, 0.48232463002204895, 0.4810022711753845, 0.4810022711753845, 0.4803917706012726, 0.4762803912162781, 0.47610241174697876, 0.4735022783279419, 0.4713362157344818, 0.4713362157344818, 0.4711063802242279, 0.4709976315498352, 0.4701801538467407, 0.4699040949344635, 0.46978679299354553, 0.4695380926132202, 0.469465047121048, 0.46793076395988464, 0.4673496186733246, 0.4671128988265991, 0.46686533093452454, 0.46678465604782104, 0.46419471502304077, 0.4634355306625366, 0.46214473247528076, 0.46124425530433655, 0.46124425530433655, 0.46059277653694153, 0.45987042784690857, 0.7827813625335693, 0.7226076722145081, 0.681443452835083, 0.6280214786529541, 0.6268448829650879, 0.6140896677970886, 0.6136491894721985, 0.6066080331802368, 0.6031736135482788, 0.5882009267807007, 0.5805492997169495, 0.5712817907333374, 0.5694398283958435, 0.5694398283958435, 0.567052960395813, 0.5635833740234375, 0.5481124520301819, 0.5456833839416504, 0.5406045913696289, 0.5378689765930176, 0.5378689765930176, 0.5282941460609436, 0.5265517830848694, 0.5213422179222107, 0.5209108591079712, 0.5179862976074219, 0.5164575576782227, 0.5132144093513489, 0.5125153064727783, 0.5114807486534119, 0.5064033269882202, 0.5054869055747986, 0.5053813457489014, 0.5049329400062561, 0.5044792890548706, 0.5044792890548706, 0.5044792890548706, 0.5010343790054321, 0.5000298023223877, 0.49979686737060547, 0.49979686737060547, 0.4945230185985565, 0.492114394903183, 0.4916312098503113, 0.49034905433654785, 0.4874272048473358, 0.48683303594589233, 0.4856208562850952, 0.48257648944854736, 0.4805775284767151, 0.4805775284767151, 0.9999999403953552, 0.9887204170227051, 0.9887204170227051, 0.9849148988723755, 0.9566812515258789, 0.9473248720169067, 0.9446902275085449, 0.9446902275085449, 0.9260745048522949, 0.9187238216400146, 0.9138036966323853, 0.9138036966323853, 0.8965460062026978, 0.8920823335647583, 0.8899054527282715, 0.8867300748825073, 0.8867300748825073, 0.8834238052368164, 0.8795763254165649, 0.8667694330215454, 0.8649477958679199, 0.8578623533248901, 0.8508487939834595, 0.8313623666763306, 0.8235916495323181, 0.8235916495323181, 0.8235916495323181, 0.8235916495323181, 0.8235916495323181, 0.8235916495323181, 0.8235916495323181, 0.8235916495323181, 0.8235916495323181, 0.8235916495323181, 0.8235916495323181, 0.8235916495323181, 0.8235916495323181, 0.8235916495323181, 0.8235916495323181, 0.8235916495323181, 0.8235916495323181, 0.8225382566452026, 0.8205515146255493, 0.8191773891448975, 0.8180297613143921, 0.8143908977508545, 0.8126909136772156, 0.8058846592903137, 0.7900312542915344, 0.7896130084991455, 0.7896130084991455, 0.6983934640884399, 0.6508548259735107, 0.605718195438385, 0.5628105401992798, 0.5626133680343628, 0.5575089454650879, 0.5559724569320679, 0.5492488145828247, 0.5478876233100891, 0.5429216623306274, 0.538825511932373, 0.5270828604698181, 0.5239896774291992, 0.5153521299362183, 0.5081359148025513, 0.508073091506958, 0.5080512762069702, 0.5080512762069702, 0.5059216618537903, 0.5028261542320251, 0.49947667121887207, 0.48885560035705566, 0.4860375225543976, 0.48232463002204895, 0.4810022711753845, 0.4810022711753845, 0.4803917706012726, 0.4762803912162781, 0.47610241174697876, 0.4735022783279419, 0.4713362157344818, 0.4713362157344818, 0.4711063802242279, 0.4709976315498352, 0.4701801538467407, 0.4699040949344635, 0.46978679299354553, 0.4695380926132202, 0.469465047121048, 0.46793076395988464, 0.4673496186733246, 0.4671128988265991, 0.46686533093452454, 0.46678465604782104, 0.46419471502304077, 0.4634355306625366, 0.46214473247528076, 0.46124425530433655, 0.46124425530433655, 0.46059277653694153, 0.45987042784690857], \"xaxis\": \"x\", \"yaxis\": \"y\"}],\n",
              "                        {\"barmode\": \"relative\", \"legend\": {\"tracegroupgap\": 0}, \"template\": {\"data\": {\"bar\": [{\"error_x\": {\"color\": \"#2a3f5f\"}, \"error_y\": {\"color\": \"#2a3f5f\"}, \"marker\": {\"line\": {\"color\": \"#E5ECF6\", \"width\": 0.5}}, \"type\": \"bar\"}], \"barpolar\": [{\"marker\": {\"line\": {\"color\": \"#E5ECF6\", \"width\": 0.5}}, \"type\": \"barpolar\"}], \"carpet\": [{\"aaxis\": {\"endlinecolor\": \"#2a3f5f\", \"gridcolor\": \"white\", \"linecolor\": \"white\", \"minorgridcolor\": \"white\", \"startlinecolor\": \"#2a3f5f\"}, \"baxis\": {\"endlinecolor\": \"#2a3f5f\", \"gridcolor\": \"white\", \"linecolor\": \"white\", \"minorgridcolor\": \"white\", \"startlinecolor\": \"#2a3f5f\"}, \"type\": \"carpet\"}], \"choropleth\": [{\"colorbar\": {\"outlinewidth\": 0, \"ticks\": \"\"}, \"type\": \"choropleth\"}], \"contour\": [{\"colorbar\": {\"outlinewidth\": 0, \"ticks\": \"\"}, \"colorscale\": [[0.0, \"#0d0887\"], [0.1111111111111111, \"#46039f\"], [0.2222222222222222, \"#7201a8\"], [0.3333333333333333, \"#9c179e\"], [0.4444444444444444, \"#bd3786\"], [0.5555555555555556, \"#d8576b\"], [0.6666666666666666, \"#ed7953\"], [0.7777777777777778, \"#fb9f3a\"], [0.8888888888888888, \"#fdca26\"], [1.0, \"#f0f921\"]], \"type\": \"contour\"}], \"contourcarpet\": [{\"colorbar\": {\"outlinewidth\": 0, \"ticks\": \"\"}, \"type\": \"contourcarpet\"}], \"heatmap\": [{\"colorbar\": {\"outlinewidth\": 0, \"ticks\": \"\"}, \"colorscale\": [[0.0, \"#0d0887\"], [0.1111111111111111, \"#46039f\"], [0.2222222222222222, \"#7201a8\"], [0.3333333333333333, \"#9c179e\"], [0.4444444444444444, \"#bd3786\"], [0.5555555555555556, \"#d8576b\"], [0.6666666666666666, \"#ed7953\"], [0.7777777777777778, \"#fb9f3a\"], [0.8888888888888888, \"#fdca26\"], [1.0, \"#f0f921\"]], \"type\": \"heatmap\"}], \"heatmapgl\": [{\"colorbar\": {\"outlinewidth\": 0, \"ticks\": \"\"}, \"colorscale\": [[0.0, \"#0d0887\"], [0.1111111111111111, \"#46039f\"], [0.2222222222222222, \"#7201a8\"], [0.3333333333333333, \"#9c179e\"], [0.4444444444444444, \"#bd3786\"], [0.5555555555555556, \"#d8576b\"], [0.6666666666666666, \"#ed7953\"], [0.7777777777777778, \"#fb9f3a\"], [0.8888888888888888, \"#fdca26\"], [1.0, \"#f0f921\"]], \"type\": \"heatmapgl\"}], \"histogram\": [{\"marker\": {\"colorbar\": {\"outlinewidth\": 0, \"ticks\": \"\"}}, \"type\": \"histogram\"}], \"histogram2d\": [{\"colorbar\": {\"outlinewidth\": 0, \"ticks\": \"\"}, \"colorscale\": [[0.0, \"#0d0887\"], [0.1111111111111111, \"#46039f\"], [0.2222222222222222, \"#7201a8\"], [0.3333333333333333, \"#9c179e\"], [0.4444444444444444, \"#bd3786\"], [0.5555555555555556, \"#d8576b\"], [0.6666666666666666, \"#ed7953\"], [0.7777777777777778, \"#fb9f3a\"], [0.8888888888888888, \"#fdca26\"], [1.0, \"#f0f921\"]], \"type\": \"histogram2d\"}], \"histogram2dcontour\": [{\"colorbar\": {\"outlinewidth\": 0, \"ticks\": \"\"}, \"colorscale\": [[0.0, \"#0d0887\"], [0.1111111111111111, \"#46039f\"], [0.2222222222222222, \"#7201a8\"], [0.3333333333333333, \"#9c179e\"], [0.4444444444444444, \"#bd3786\"], [0.5555555555555556, \"#d8576b\"], [0.6666666666666666, \"#ed7953\"], [0.7777777777777778, \"#fb9f3a\"], [0.8888888888888888, \"#fdca26\"], [1.0, \"#f0f921\"]], \"type\": \"histogram2dcontour\"}], \"mesh3d\": [{\"colorbar\": {\"outlinewidth\": 0, \"ticks\": \"\"}, \"type\": \"mesh3d\"}], \"parcoords\": [{\"line\": {\"colorbar\": {\"outlinewidth\": 0, \"ticks\": \"\"}}, \"type\": \"parcoords\"}], \"pie\": [{\"automargin\": true, \"type\": \"pie\"}], \"scatter\": [{\"marker\": {\"colorbar\": {\"outlinewidth\": 0, \"ticks\": \"\"}}, \"type\": \"scatter\"}], \"scatter3d\": [{\"line\": {\"colorbar\": {\"outlinewidth\": 0, \"ticks\": \"\"}}, \"marker\": {\"colorbar\": {\"outlinewidth\": 0, \"ticks\": \"\"}}, \"type\": \"scatter3d\"}], \"scattercarpet\": [{\"marker\": {\"colorbar\": {\"outlinewidth\": 0, \"ticks\": \"\"}}, \"type\": \"scattercarpet\"}], \"scattergeo\": [{\"marker\": {\"colorbar\": {\"outlinewidth\": 0, \"ticks\": \"\"}}, \"type\": \"scattergeo\"}], \"scattergl\": [{\"marker\": {\"colorbar\": {\"outlinewidth\": 0, \"ticks\": \"\"}}, \"type\": \"scattergl\"}], \"scattermapbox\": [{\"marker\": {\"colorbar\": {\"outlinewidth\": 0, \"ticks\": \"\"}}, \"type\": \"scattermapbox\"}], \"scatterpolar\": [{\"marker\": {\"colorbar\": {\"outlinewidth\": 0, \"ticks\": \"\"}}, \"type\": \"scatterpolar\"}], \"scatterpolargl\": [{\"marker\": {\"colorbar\": {\"outlinewidth\": 0, \"ticks\": \"\"}}, \"type\": \"scatterpolargl\"}], \"scatterternary\": [{\"marker\": {\"colorbar\": {\"outlinewidth\": 0, \"ticks\": \"\"}}, \"type\": \"scatterternary\"}], \"surface\": [{\"colorbar\": {\"outlinewidth\": 0, \"ticks\": \"\"}, \"colorscale\": [[0.0, \"#0d0887\"], [0.1111111111111111, \"#46039f\"], [0.2222222222222222, \"#7201a8\"], [0.3333333333333333, \"#9c179e\"], [0.4444444444444444, \"#bd3786\"], [0.5555555555555556, \"#d8576b\"], [0.6666666666666666, \"#ed7953\"], [0.7777777777777778, \"#fb9f3a\"], [0.8888888888888888, \"#fdca26\"], [1.0, \"#f0f921\"]], \"type\": \"surface\"}], \"table\": [{\"cells\": {\"fill\": {\"color\": \"#EBF0F8\"}, \"line\": {\"color\": \"white\"}}, \"header\": {\"fill\": {\"color\": \"#C8D4E3\"}, \"line\": {\"color\": \"white\"}}, \"type\": \"table\"}]}, \"layout\": {\"annotationdefaults\": {\"arrowcolor\": \"#2a3f5f\", \"arrowhead\": 0, \"arrowwidth\": 1}, \"coloraxis\": {\"colorbar\": {\"outlinewidth\": 0, \"ticks\": \"\"}}, \"colorscale\": {\"diverging\": [[0, \"#8e0152\"], [0.1, \"#c51b7d\"], [0.2, \"#de77ae\"], [0.3, \"#f1b6da\"], [0.4, \"#fde0ef\"], [0.5, \"#f7f7f7\"], [0.6, \"#e6f5d0\"], [0.7, \"#b8e186\"], [0.8, \"#7fbc41\"], [0.9, \"#4d9221\"], [1, \"#276419\"]], \"sequential\": [[0.0, \"#0d0887\"], [0.1111111111111111, \"#46039f\"], [0.2222222222222222, \"#7201a8\"], [0.3333333333333333, \"#9c179e\"], [0.4444444444444444, \"#bd3786\"], [0.5555555555555556, \"#d8576b\"], [0.6666666666666666, \"#ed7953\"], [0.7777777777777778, \"#fb9f3a\"], [0.8888888888888888, \"#fdca26\"], [1.0, \"#f0f921\"]], \"sequentialminus\": [[0.0, \"#0d0887\"], [0.1111111111111111, \"#46039f\"], [0.2222222222222222, \"#7201a8\"], [0.3333333333333333, \"#9c179e\"], [0.4444444444444444, \"#bd3786\"], [0.5555555555555556, \"#d8576b\"], [0.6666666666666666, \"#ed7953\"], [0.7777777777777778, \"#fb9f3a\"], [0.8888888888888888, \"#fdca26\"], [1.0, \"#f0f921\"]]}, \"colorway\": [\"#636efa\", \"#EF553B\", \"#00cc96\", \"#ab63fa\", \"#FFA15A\", \"#19d3f3\", \"#FF6692\", \"#B6E880\", \"#FF97FF\", \"#FECB52\"], \"font\": {\"color\": \"#2a3f5f\"}, \"geo\": {\"bgcolor\": \"white\", \"lakecolor\": \"white\", \"landcolor\": \"#E5ECF6\", \"showlakes\": true, \"showland\": true, \"subunitcolor\": \"white\"}, \"hoverlabel\": {\"align\": \"left\"}, \"hovermode\": \"closest\", \"mapbox\": {\"style\": \"light\"}, \"paper_bgcolor\": \"white\", \"plot_bgcolor\": \"#E5ECF6\", \"polar\": {\"angularaxis\": {\"gridcolor\": \"white\", \"linecolor\": \"white\", \"ticks\": \"\"}, \"bgcolor\": \"#E5ECF6\", \"radialaxis\": {\"gridcolor\": \"white\", \"linecolor\": \"white\", \"ticks\": \"\"}}, \"scene\": {\"xaxis\": {\"backgroundcolor\": \"#E5ECF6\", \"gridcolor\": \"white\", \"gridwidth\": 2, \"linecolor\": \"white\", \"showbackground\": true, \"ticks\": \"\", \"zerolinecolor\": \"white\"}, \"yaxis\": {\"backgroundcolor\": \"#E5ECF6\", \"gridcolor\": \"white\", \"gridwidth\": 2, \"linecolor\": \"white\", \"showbackground\": true, \"ticks\": \"\", \"zerolinecolor\": \"white\"}, \"zaxis\": {\"backgroundcolor\": \"#E5ECF6\", \"gridcolor\": \"white\", \"gridwidth\": 2, \"linecolor\": \"white\", \"showbackground\": true, \"ticks\": \"\", \"zerolinecolor\": \"white\"}}, \"shapedefaults\": {\"line\": {\"color\": \"#2a3f5f\"}}, \"ternary\": {\"aaxis\": {\"gridcolor\": \"white\", \"linecolor\": \"white\", \"ticks\": \"\"}, \"baxis\": {\"gridcolor\": \"white\", \"linecolor\": \"white\", \"ticks\": \"\"}, \"bgcolor\": \"#E5ECF6\", \"caxis\": {\"gridcolor\": \"white\", \"linecolor\": \"white\", \"ticks\": \"\"}}, \"title\": {\"x\": 0.05}, \"xaxis\": {\"automargin\": true, \"gridcolor\": \"white\", \"linecolor\": \"white\", \"ticks\": \"\", \"title\": {\"standoff\": 15}, \"zerolinecolor\": \"white\", \"zerolinewidth\": 2}, \"yaxis\": {\"automargin\": true, \"gridcolor\": \"white\", \"linecolor\": \"white\", \"ticks\": \"\", \"title\": {\"standoff\": 15}, \"zerolinecolor\": \"white\", \"zerolinewidth\": 2}}}, \"title\": {\"text\": \"Scores for TF-IDF\"}, \"xaxis\": {\"anchor\": \"y\", \"domain\": [0.0, 1.0], \"title\": {\"text\": \"score\"}}, \"yaxis\": {\"anchor\": \"x\", \"domain\": [0.0, 1.0], \"title\": {\"text\": \"count\"}}},\n",
              "                        {\"responsive\": true}\n",
              "                    ).then(function(){\n",
              "                            \n",
              "var gd = document.getElementById('9770757e-b8a2-4fe4-80dc-4f530da5b883');\n",
              "var x = new MutationObserver(function (mutations, observer) {{\n",
              "        var display = window.getComputedStyle(gd).display;\n",
              "        if (!display || display === 'none') {{\n",
              "            console.log([gd, 'removed!']);\n",
              "            Plotly.purge(gd);\n",
              "            observer.disconnect();\n",
              "        }}\n",
              "}});\n",
              "\n",
              "// Listen for the removal of the full notebook cells\n",
              "var notebookContainer = gd.closest('#notebook-container');\n",
              "if (notebookContainer) {{\n",
              "    x.observe(notebookContainer, {childList: true});\n",
              "}}\n",
              "\n",
              "// Listen for the clearing of the current output cell\n",
              "var outputEl = gd.closest('.output');\n",
              "if (outputEl) {{\n",
              "    x.observe(outputEl, {childList: true});\n",
              "}}\n",
              "\n",
              "                        })\n",
              "                };\n",
              "                \n",
              "            </script>\n",
              "        </div>\n",
              "</body>\n",
              "</html>"
            ]
          },
          "metadata": {}
        }
      ]
    },
    {
      "cell_type": "code",
      "metadata": {
        "id": "QIBvHL1aOnOT"
      },
      "source": [
        "if use_wandb:\n",
        "  wandb.log({\"scores_hist\": fig})"
      ],
      "execution_count": null,
      "outputs": []
    },
    {
      "cell_type": "code",
      "metadata": {
        "colab": {
          "base_uri": "https://localhost:8080/",
          "height": 1000
        },
        "id": "ohaxVQ6d9iiD",
        "outputId": "beafa640-a0cc-49d2-809a-041e24be1eb8"
      },
      "source": [
        "result, details = recommend_tune(df_sim, \"Blue Moon [jazz1350]\")\n",
        "result.head(30)"
      ],
      "execution_count": null,
      "outputs": [
        {
          "output_type": "execute_result",
          "data": {
            "text/html": [
              "\n",
              "  <div id=\"df-2a9f2c5e-e09c-40af-a953-e3380c7c407a\">\n",
              "    <div class=\"colab-df-container\">\n",
              "      <div>\n",
              "<style scoped>\n",
              "    .dataframe tbody tr th:only-of-type {\n",
              "        vertical-align: middle;\n",
              "    }\n",
              "\n",
              "    .dataframe tbody tr th {\n",
              "        vertical-align: top;\n",
              "    }\n",
              "\n",
              "    .dataframe thead th {\n",
              "        text-align: right;\n",
              "    }\n",
              "</style>\n",
              "<table border=\"1\" class=\"dataframe\">\n",
              "  <thead>\n",
              "    <tr style=\"text-align: right;\">\n",
              "      <th></th>\n",
              "      <th>index</th>\n",
              "      <th>reference</th>\n",
              "      <th>reference_titleid</th>\n",
              "      <th>similar_title</th>\n",
              "      <th>score</th>\n",
              "      <th>max</th>\n",
              "      <th>score_div_max</th>\n",
              "      <th>similar_titleid</th>\n",
              "    </tr>\n",
              "  </thead>\n",
              "  <tbody>\n",
              "    <tr>\n",
              "      <th>0</th>\n",
              "      <td>0</td>\n",
              "      <td>Blue Moon [jazz1350]</td>\n",
              "      <td>157</td>\n",
              "      <td>Home Cookin' [jazz1350]</td>\n",
              "      <td>0.828956</td>\n",
              "      <td>0.828956</td>\n",
              "      <td>1.000000</td>\n",
              "      <td>465</td>\n",
              "    </tr>\n",
              "    <tr>\n",
              "      <th>1</th>\n",
              "      <td>1</td>\n",
              "      <td>Blue Moon [jazz1350]</td>\n",
              "      <td>157</td>\n",
              "      <td>It Could Happen To You [jazz1350]</td>\n",
              "      <td>0.806051</td>\n",
              "      <td>0.806051</td>\n",
              "      <td>1.000000</td>\n",
              "      <td>615</td>\n",
              "    </tr>\n",
              "    <tr>\n",
              "      <th>2</th>\n",
              "      <td>2</td>\n",
              "      <td>Blue Moon [jazz1350]</td>\n",
              "      <td>157</td>\n",
              "      <td>Things We Did Last Summer, The [jazz1350]</td>\n",
              "      <td>0.787050</td>\n",
              "      <td>0.806051</td>\n",
              "      <td>0.976427</td>\n",
              "      <td>1166</td>\n",
              "    </tr>\n",
              "    <tr>\n",
              "      <th>3</th>\n",
              "      <td>3</td>\n",
              "      <td>Blue Moon [jazz1350]</td>\n",
              "      <td>157</td>\n",
              "      <td>Teach Me Tonight [jazz1350]</td>\n",
              "      <td>0.784768</td>\n",
              "      <td>0.806051</td>\n",
              "      <td>0.973596</td>\n",
              "      <td>1139</td>\n",
              "    </tr>\n",
              "    <tr>\n",
              "      <th>4</th>\n",
              "      <td>4</td>\n",
              "      <td>Blue Moon [jazz1350]</td>\n",
              "      <td>157</td>\n",
              "      <td>Nice 'n Easy [jazz1350]</td>\n",
              "      <td>0.779809</td>\n",
              "      <td>0.806051</td>\n",
              "      <td>0.967443</td>\n",
              "      <td>864</td>\n",
              "    </tr>\n",
              "    <tr>\n",
              "      <th>5</th>\n",
              "      <td>5</td>\n",
              "      <td>Blue Moon [jazz1350]</td>\n",
              "      <td>157</td>\n",
              "      <td>That Old Feeling [jazz1350]</td>\n",
              "      <td>0.768108</td>\n",
              "      <td>0.806051</td>\n",
              "      <td>0.952928</td>\n",
              "      <td>1147</td>\n",
              "    </tr>\n",
              "    <tr>\n",
              "      <th>6</th>\n",
              "      <td>6</td>\n",
              "      <td>Blue Moon [jazz1350]</td>\n",
              "      <td>157</td>\n",
              "      <td>Bye Bye Blackbird [jazz1350]</td>\n",
              "      <td>0.760383</td>\n",
              "      <td>0.806051</td>\n",
              "      <td>0.943344</td>\n",
              "      <td>204</td>\n",
              "    </tr>\n",
              "    <tr>\n",
              "      <th>7</th>\n",
              "      <td>7</td>\n",
              "      <td>Blue Moon [jazz1350]</td>\n",
              "      <td>157</td>\n",
              "      <td>Don't Be That Way [jazz1350]</td>\n",
              "      <td>0.843708</td>\n",
              "      <td>0.896170</td>\n",
              "      <td>0.941460</td>\n",
              "      <td>313</td>\n",
              "    </tr>\n",
              "    <tr>\n",
              "      <th>8</th>\n",
              "      <td>8</td>\n",
              "      <td>Blue Moon [jazz1350]</td>\n",
              "      <td>157</td>\n",
              "      <td>Sophisticated Lady [jazz1350]</td>\n",
              "      <td>0.753242</td>\n",
              "      <td>0.806051</td>\n",
              "      <td>0.934485</td>\n",
              "      <td>1072</td>\n",
              "    </tr>\n",
              "    <tr>\n",
              "      <th>9</th>\n",
              "      <td>9</td>\n",
              "      <td>Blue Moon [jazz1350]</td>\n",
              "      <td>157</td>\n",
              "      <td>Look For The Silver Lining [jazz1350]</td>\n",
              "      <td>0.834405</td>\n",
              "      <td>0.896170</td>\n",
              "      <td>0.931079</td>\n",
              "      <td>733</td>\n",
              "    </tr>\n",
              "    <tr>\n",
              "      <th>10</th>\n",
              "      <td>10</td>\n",
              "      <td>Blue Moon [jazz1350]</td>\n",
              "      <td>157</td>\n",
              "      <td>Touch Of Your Lips, The [jazz1350]</td>\n",
              "      <td>0.742157</td>\n",
              "      <td>0.806051</td>\n",
              "      <td>0.920732</td>\n",
              "      <td>1196</td>\n",
              "    </tr>\n",
              "    <tr>\n",
              "      <th>11</th>\n",
              "      <td>11</td>\n",
              "      <td>Blue Moon [jazz1350]</td>\n",
              "      <td>157</td>\n",
              "      <td>It's You Or No One [jazz1350]</td>\n",
              "      <td>0.751935</td>\n",
              "      <td>0.817503</td>\n",
              "      <td>0.919318</td>\n",
              "      <td>637</td>\n",
              "    </tr>\n",
              "    <tr>\n",
              "      <th>12</th>\n",
              "      <td>12</td>\n",
              "      <td>Blue Moon [jazz1350]</td>\n",
              "      <td>157</td>\n",
              "      <td>At Last [jazz1350]</td>\n",
              "      <td>0.823232</td>\n",
              "      <td>0.896170</td>\n",
              "      <td>0.918611</td>\n",
              "      <td>92</td>\n",
              "    </tr>\n",
              "    <tr>\n",
              "      <th>13</th>\n",
              "      <td>13</td>\n",
              "      <td>Blue Moon [jazz1350]</td>\n",
              "      <td>157</td>\n",
              "      <td>Don't Go To Strangers [jazz1350]</td>\n",
              "      <td>0.737242</td>\n",
              "      <td>0.806051</td>\n",
              "      <td>0.914634</td>\n",
              "      <td>318</td>\n",
              "    </tr>\n",
              "    <tr>\n",
              "      <th>14</th>\n",
              "      <td>14</td>\n",
              "      <td>Blue Moon [jazz1350]</td>\n",
              "      <td>157</td>\n",
              "      <td>All God's Chillun Got Rhythm [jazz1350]</td>\n",
              "      <td>0.735355</td>\n",
              "      <td>0.806051</td>\n",
              "      <td>0.912294</td>\n",
              "      <td>57</td>\n",
              "    </tr>\n",
              "    <tr>\n",
              "      <th>15</th>\n",
              "      <td>15</td>\n",
              "      <td>Blue Moon [jazz1350]</td>\n",
              "      <td>157</td>\n",
              "      <td>Old Folks [jazz1350]</td>\n",
              "      <td>0.731374</td>\n",
              "      <td>0.806051</td>\n",
              "      <td>0.907354</td>\n",
              "      <td>891</td>\n",
              "    </tr>\n",
              "    <tr>\n",
              "      <th>16</th>\n",
              "      <td>16</td>\n",
              "      <td>Blue Moon [jazz1350]</td>\n",
              "      <td>157</td>\n",
              "      <td>One I Love (Belongs To Somebody Else), The [ja...</td>\n",
              "      <td>0.728048</td>\n",
              "      <td>0.806051</td>\n",
              "      <td>0.903228</td>\n",
              "      <td>908</td>\n",
              "    </tr>\n",
              "    <tr>\n",
              "      <th>17</th>\n",
              "      <td>17</td>\n",
              "      <td>Blue Moon [jazz1350]</td>\n",
              "      <td>157</td>\n",
              "      <td>Day By Day [jazz1350]</td>\n",
              "      <td>0.723427</td>\n",
              "      <td>0.806051</td>\n",
              "      <td>0.897495</td>\n",
              "      <td>279</td>\n",
              "    </tr>\n",
              "    <tr>\n",
              "      <th>18</th>\n",
              "      <td>18</td>\n",
              "      <td>Blue Moon [jazz1350]</td>\n",
              "      <td>157</td>\n",
              "      <td>I've Got You Under My Skin [jazz1350]</td>\n",
              "      <td>0.710646</td>\n",
              "      <td>0.806051</td>\n",
              "      <td>0.881639</td>\n",
              "      <td>562</td>\n",
              "    </tr>\n",
              "    <tr>\n",
              "      <th>19</th>\n",
              "      <td>19</td>\n",
              "      <td>Blue Moon [jazz1350]</td>\n",
              "      <td>157</td>\n",
              "      <td>Sleepy Time Gal [trad]</td>\n",
              "      <td>0.787044</td>\n",
              "      <td>0.896170</td>\n",
              "      <td>0.878230</td>\n",
              "      <td>1602</td>\n",
              "    </tr>\n",
              "    <tr>\n",
              "      <th>20</th>\n",
              "      <td>20</td>\n",
              "      <td>Blue Moon [jazz1350]</td>\n",
              "      <td>157</td>\n",
              "      <td>Long Ago And Far Away [jazz1350]</td>\n",
              "      <td>0.787002</td>\n",
              "      <td>0.896170</td>\n",
              "      <td>0.878184</td>\n",
              "      <td>731</td>\n",
              "    </tr>\n",
              "    <tr>\n",
              "      <th>21</th>\n",
              "      <td>21</td>\n",
              "      <td>Blue Moon [jazz1350]</td>\n",
              "      <td>157</td>\n",
              "      <td>It Was So Good While It Lasted [jazz1350]</td>\n",
              "      <td>0.707330</td>\n",
              "      <td>0.806051</td>\n",
              "      <td>0.877525</td>\n",
              "      <td>621</td>\n",
              "    </tr>\n",
              "    <tr>\n",
              "      <th>22</th>\n",
              "      <td>22</td>\n",
              "      <td>Blue Moon [jazz1350]</td>\n",
              "      <td>157</td>\n",
              "      <td>Don't Take Your Love From Me [jazz1350]</td>\n",
              "      <td>0.703713</td>\n",
              "      <td>0.806051</td>\n",
              "      <td>0.873038</td>\n",
              "      <td>321</td>\n",
              "    </tr>\n",
              "    <tr>\n",
              "      <th>23</th>\n",
              "      <td>23</td>\n",
              "      <td>Blue Moon [jazz1350]</td>\n",
              "      <td>157</td>\n",
              "      <td>It's Been A Long Long Time [jazz1350]</td>\n",
              "      <td>0.703594</td>\n",
              "      <td>0.806051</td>\n",
              "      <td>0.872891</td>\n",
              "      <td>629</td>\n",
              "    </tr>\n",
              "    <tr>\n",
              "      <th>24</th>\n",
              "      <td>24</td>\n",
              "      <td>Blue Moon [jazz1350]</td>\n",
              "      <td>157</td>\n",
              "      <td>Idaho [trad]</td>\n",
              "      <td>0.722962</td>\n",
              "      <td>0.828956</td>\n",
              "      <td>0.872136</td>\n",
              "      <td>1496</td>\n",
              "    </tr>\n",
              "    <tr>\n",
              "      <th>25</th>\n",
              "      <td>25</td>\n",
              "      <td>Blue Moon [jazz1350]</td>\n",
              "      <td>157</td>\n",
              "      <td>Tea For Two [jazz1350]</td>\n",
              "      <td>0.702986</td>\n",
              "      <td>0.806051</td>\n",
              "      <td>0.872136</td>\n",
              "      <td>1138</td>\n",
              "    </tr>\n",
              "    <tr>\n",
              "      <th>26</th>\n",
              "      <td>26</td>\n",
              "      <td>Blue Moon [jazz1350]</td>\n",
              "      <td>157</td>\n",
              "      <td>When I Fall In Love [jazz1350]</td>\n",
              "      <td>0.702110</td>\n",
              "      <td>0.806051</td>\n",
              "      <td>0.871049</td>\n",
              "      <td>1260</td>\n",
              "    </tr>\n",
              "    <tr>\n",
              "      <th>27</th>\n",
              "      <td>27</td>\n",
              "      <td>Blue Moon [jazz1350]</td>\n",
              "      <td>157</td>\n",
              "      <td>Try A Little Tenderness [jazz1350]</td>\n",
              "      <td>0.701172</td>\n",
              "      <td>0.806051</td>\n",
              "      <td>0.869886</td>\n",
              "      <td>1207</td>\n",
              "    </tr>\n",
              "    <tr>\n",
              "      <th>28</th>\n",
              "      <td>28</td>\n",
              "      <td>Blue Moon [jazz1350]</td>\n",
              "      <td>157</td>\n",
              "      <td>Can't Help Lovin' Dat Man [jazz1350]</td>\n",
              "      <td>0.778608</td>\n",
              "      <td>0.896170</td>\n",
              "      <td>0.868817</td>\n",
              "      <td>213</td>\n",
              "    </tr>\n",
              "    <tr>\n",
              "      <th>29</th>\n",
              "      <td>29</td>\n",
              "      <td>Blue Moon [jazz1350]</td>\n",
              "      <td>157</td>\n",
              "      <td>Jody Grind, The [jazz1350]</td>\n",
              "      <td>0.777493</td>\n",
              "      <td>0.896170</td>\n",
              "      <td>0.867573</td>\n",
              "      <td>649</td>\n",
              "    </tr>\n",
              "  </tbody>\n",
              "</table>\n",
              "</div>\n",
              "      <button class=\"colab-df-convert\" onclick=\"convertToInteractive('df-2a9f2c5e-e09c-40af-a953-e3380c7c407a')\"\n",
              "              title=\"Convert this dataframe to an interactive table.\"\n",
              "              style=\"display:none;\">\n",
              "        \n",
              "  <svg xmlns=\"http://www.w3.org/2000/svg\" height=\"24px\"viewBox=\"0 0 24 24\"\n",
              "       width=\"24px\">\n",
              "    <path d=\"M0 0h24v24H0V0z\" fill=\"none\"/>\n",
              "    <path d=\"M18.56 5.44l.94 2.06.94-2.06 2.06-.94-2.06-.94-.94-2.06-.94 2.06-2.06.94zm-11 1L8.5 8.5l.94-2.06 2.06-.94-2.06-.94L8.5 2.5l-.94 2.06-2.06.94zm10 10l.94 2.06.94-2.06 2.06-.94-2.06-.94-.94-2.06-.94 2.06-2.06.94z\"/><path d=\"M17.41 7.96l-1.37-1.37c-.4-.4-.92-.59-1.43-.59-.52 0-1.04.2-1.43.59L10.3 9.45l-7.72 7.72c-.78.78-.78 2.05 0 2.83L4 21.41c.39.39.9.59 1.41.59.51 0 1.02-.2 1.41-.59l7.78-7.78 2.81-2.81c.8-.78.8-2.07 0-2.86zM5.41 20L4 18.59l7.72-7.72 1.47 1.35L5.41 20z\"/>\n",
              "  </svg>\n",
              "      </button>\n",
              "      \n",
              "  <style>\n",
              "    .colab-df-container {\n",
              "      display:flex;\n",
              "      flex-wrap:wrap;\n",
              "      gap: 12px;\n",
              "    }\n",
              "\n",
              "    .colab-df-convert {\n",
              "      background-color: #E8F0FE;\n",
              "      border: none;\n",
              "      border-radius: 50%;\n",
              "      cursor: pointer;\n",
              "      display: none;\n",
              "      fill: #1967D2;\n",
              "      height: 32px;\n",
              "      padding: 0 0 0 0;\n",
              "      width: 32px;\n",
              "    }\n",
              "\n",
              "    .colab-df-convert:hover {\n",
              "      background-color: #E2EBFA;\n",
              "      box-shadow: 0px 1px 2px rgba(60, 64, 67, 0.3), 0px 1px 3px 1px rgba(60, 64, 67, 0.15);\n",
              "      fill: #174EA6;\n",
              "    }\n",
              "\n",
              "    [theme=dark] .colab-df-convert {\n",
              "      background-color: #3B4455;\n",
              "      fill: #D2E3FC;\n",
              "    }\n",
              "\n",
              "    [theme=dark] .colab-df-convert:hover {\n",
              "      background-color: #434B5C;\n",
              "      box-shadow: 0px 1px 3px 1px rgba(0, 0, 0, 0.15);\n",
              "      filter: drop-shadow(0px 1px 2px rgba(0, 0, 0, 0.3));\n",
              "      fill: #FFFFFF;\n",
              "    }\n",
              "  </style>\n",
              "\n",
              "      <script>\n",
              "        const buttonEl =\n",
              "          document.querySelector('#df-2a9f2c5e-e09c-40af-a953-e3380c7c407a button.colab-df-convert');\n",
              "        buttonEl.style.display =\n",
              "          google.colab.kernel.accessAllowed ? 'block' : 'none';\n",
              "\n",
              "        async function convertToInteractive(key) {\n",
              "          const element = document.querySelector('#df-2a9f2c5e-e09c-40af-a953-e3380c7c407a');\n",
              "          const dataTable =\n",
              "            await google.colab.kernel.invokeFunction('convertToInteractive',\n",
              "                                                     [key], {});\n",
              "          if (!dataTable) return;\n",
              "\n",
              "          const docLinkHtml = 'Like what you see? Visit the ' +\n",
              "            '<a target=\"_blank\" href=https://colab.research.google.com/notebooks/data_table.ipynb>data table notebook</a>'\n",
              "            + ' to learn more about interactive tables.';\n",
              "          element.innerHTML = '';\n",
              "          dataTable['output_type'] = 'display_data';\n",
              "          await google.colab.output.renderOutput(dataTable, element);\n",
              "          const docLink = document.createElement('div');\n",
              "          docLink.innerHTML = docLinkHtml;\n",
              "          element.appendChild(docLink);\n",
              "        }\n",
              "      </script>\n",
              "    </div>\n",
              "  </div>\n",
              "  "
            ],
            "text/plain": [
              "    index             reference  reference_titleid                                      similar_title     score       max  score_div_max  similar_titleid\n",
              "0       0  Blue Moon [jazz1350]                157                            Home Cookin' [jazz1350]  0.828956  0.828956       1.000000              465\n",
              "1       1  Blue Moon [jazz1350]                157                  It Could Happen To You [jazz1350]  0.806051  0.806051       1.000000              615\n",
              "2       2  Blue Moon [jazz1350]                157          Things We Did Last Summer, The [jazz1350]  0.787050  0.806051       0.976427             1166\n",
              "3       3  Blue Moon [jazz1350]                157                        Teach Me Tonight [jazz1350]  0.784768  0.806051       0.973596             1139\n",
              "4       4  Blue Moon [jazz1350]                157                            Nice 'n Easy [jazz1350]  0.779809  0.806051       0.967443              864\n",
              "5       5  Blue Moon [jazz1350]                157                        That Old Feeling [jazz1350]  0.768108  0.806051       0.952928             1147\n",
              "6       6  Blue Moon [jazz1350]                157                       Bye Bye Blackbird [jazz1350]  0.760383  0.806051       0.943344              204\n",
              "7       7  Blue Moon [jazz1350]                157                       Don't Be That Way [jazz1350]  0.843708  0.896170       0.941460              313\n",
              "8       8  Blue Moon [jazz1350]                157                      Sophisticated Lady [jazz1350]  0.753242  0.806051       0.934485             1072\n",
              "9       9  Blue Moon [jazz1350]                157              Look For The Silver Lining [jazz1350]  0.834405  0.896170       0.931079              733\n",
              "10     10  Blue Moon [jazz1350]                157                 Touch Of Your Lips, The [jazz1350]  0.742157  0.806051       0.920732             1196\n",
              "11     11  Blue Moon [jazz1350]                157                      It's You Or No One [jazz1350]  0.751935  0.817503       0.919318              637\n",
              "12     12  Blue Moon [jazz1350]                157                                 At Last [jazz1350]  0.823232  0.896170       0.918611               92\n",
              "13     13  Blue Moon [jazz1350]                157                   Don't Go To Strangers [jazz1350]  0.737242  0.806051       0.914634              318\n",
              "14     14  Blue Moon [jazz1350]                157            All God's Chillun Got Rhythm [jazz1350]  0.735355  0.806051       0.912294               57\n",
              "15     15  Blue Moon [jazz1350]                157                               Old Folks [jazz1350]  0.731374  0.806051       0.907354              891\n",
              "16     16  Blue Moon [jazz1350]                157  One I Love (Belongs To Somebody Else), The [ja...  0.728048  0.806051       0.903228              908\n",
              "17     17  Blue Moon [jazz1350]                157                              Day By Day [jazz1350]  0.723427  0.806051       0.897495              279\n",
              "18     18  Blue Moon [jazz1350]                157              I've Got You Under My Skin [jazz1350]  0.710646  0.806051       0.881639              562\n",
              "19     19  Blue Moon [jazz1350]                157                             Sleepy Time Gal [trad]  0.787044  0.896170       0.878230             1602\n",
              "20     20  Blue Moon [jazz1350]                157                   Long Ago And Far Away [jazz1350]  0.787002  0.896170       0.878184              731\n",
              "21     21  Blue Moon [jazz1350]                157          It Was So Good While It Lasted [jazz1350]  0.707330  0.806051       0.877525              621\n",
              "22     22  Blue Moon [jazz1350]                157            Don't Take Your Love From Me [jazz1350]  0.703713  0.806051       0.873038              321\n",
              "23     23  Blue Moon [jazz1350]                157              It's Been A Long Long Time [jazz1350]  0.703594  0.806051       0.872891              629\n",
              "24     24  Blue Moon [jazz1350]                157                                       Idaho [trad]  0.722962  0.828956       0.872136             1496\n",
              "25     25  Blue Moon [jazz1350]                157                             Tea For Two [jazz1350]  0.702986  0.806051       0.872136             1138\n",
              "26     26  Blue Moon [jazz1350]                157                     When I Fall In Love [jazz1350]  0.702110  0.806051       0.871049             1260\n",
              "27     27  Blue Moon [jazz1350]                157                 Try A Little Tenderness [jazz1350]  0.701172  0.806051       0.869886             1207\n",
              "28     28  Blue Moon [jazz1350]                157               Can't Help Lovin' Dat Man [jazz1350]  0.778608  0.896170       0.868817              213\n",
              "29     29  Blue Moon [jazz1350]                157                         Jody Grind, The [jazz1350]  0.777493  0.896170       0.867573              649"
            ]
          },
          "metadata": {},
          "execution_count": 64
        }
      ]
    },
    {
      "cell_type": "markdown",
      "metadata": {
        "id": "UveSDI6QWALe"
      },
      "source": [
        "Copy results into a dataframe for later logging to W&B"
      ]
    },
    {
      "cell_type": "code",
      "metadata": {
        "id": "AEEqdXBiT5bl"
      },
      "source": [
        "dd = pd.DataFrame(columns = recommender_results_cols)\n",
        "\n",
        "for tune in tunes_eval_list:\n",
        "  result, details = recommend_tune(df_sim, tune)\n",
        "  dd['id'] = result['index']\n",
        "  dd['method'] = 'tfidf'\n",
        "  dd['reference'] = tune\n",
        "  dd['similar'] = result['similar_title']\n",
        "  dd['score_div_max'] = result['score_div_max']\n",
        "  dd['score'] = result['score']\n",
        "\n",
        "recommender_results = recommender_results.append(dd)"
      ],
      "execution_count": null,
      "outputs": []
    },
    {
      "cell_type": "markdown",
      "metadata": {
        "id": "wqaUEFqxXZYB"
      },
      "source": [
        "### Test Contrafacts"
      ]
    },
    {
      "cell_type": "markdown",
      "metadata": {
        "id": "563ncYqAfIyN"
      },
      "source": [
        "With the model, query the top N highest matches for each section. For a tune, if at least one section receives the recommendation  for the expected title, increase the match counter."
      ]
    },
    {
      "cell_type": "code",
      "metadata": {
        "id": "RVPtraR-hg0G"
      },
      "source": [
        "def test_contrafacts(tunes, index, model, N=15):\n",
        "  matches = 0\n",
        "  number_of_sections = 0\n",
        "  results = {}\n",
        "\n",
        "  for tune, similar_tune in tunes:\n",
        "\n",
        "    # loop over all sections of the tune\n",
        "    section_matches = 0\n",
        "    for s1 in title_to_sectionid[tune]:\n",
        "      query = processed_corpus[s1]\n",
        "      query_bow = dictionary.doc2bow(query)\n",
        "\n",
        "      # perform a similarity query against the corpus\n",
        "      similarities = index[model[query_bow]]\n",
        "      sims = sorted(enumerate(similarities), key=lambda item: -item[1])\n",
        "\n",
        "      # check if the section matches the expected title; consider only the first 15 recommendations\n",
        "      i = 0\n",
        "      for sectionid, value in sims:\n",
        "        if i >= N:\n",
        "          break\n",
        "        i += 1\n",
        "        if sectionid_to_title[sectionid] == similar_tune:\n",
        "          section_matches += 1\n",
        "\n",
        "    # for each title, increase matches if at least one of the section matched the expected title\n",
        "    if section_matches > 0:\n",
        "      matches += 1  \n",
        "      results[f'{tune}, {similar_tune}'] = 1\n",
        "    else:\n",
        "      results[f'{tune}, {similar_tune}'] = 0\n",
        "  \n",
        "  return matches, results\n"
      ],
      "execution_count": null,
      "outputs": []
    },
    {
      "cell_type": "code",
      "metadata": {
        "colab": {
          "base_uri": "https://localhost:8080/"
        },
        "id": "Q628rO5DhxWD",
        "outputId": "04234499-3b95-4ee4-a816-d6d62d65c2dc"
      },
      "source": [
        "topN = 20\n",
        "matches, results = test_contrafacts(contrafacts, index_tfidf, tfidf, topN)\n",
        "\n",
        "print(f\"Found matches: {matches} out of {len(results)}: {100*matches/len(results):.3f}%\")\n",
        "print() \n",
        "for rr, val in results.items():\n",
        "  if val == 0:\n",
        "    print(f\"{val}: {rr}\")"
      ],
      "execution_count": null,
      "outputs": [
        {
          "output_type": "stream",
          "name": "stdout",
          "text": [
            "Found matches: 85 out of 111: 76.577%\n",
            "\n",
            "0: 52nd Street Theme [jazz1350], I Got Rhythm [jazz1350]\n",
            "0: Ballade [jazz1350], As Long As I Live [jazz1350]\n",
            "0: Dewey Square [jazz1350], Oh, Lady Be Good [jazz1350]\n",
            "0: Don't Be That Way [jazz1350], I Got Rhythm [jazz1350]\n",
            "0: Good Bait [jazz1350], I Got Rhythm [jazz1350]\n",
            "0: In A Mellow Tone (In A Mellotone) [jazz1350], Rose Room [jazz1350]\n",
            "0: Lennie's Pennies [jazz1350], Pennies From Heaven [jazz1350]\n",
            "0: Little Rootie Tootie [jazz1350], I Got Rhythm [jazz1350]\n",
            "0: Little Willie Leaps [jazz1350], All God's Chillun Got Rhythm [jazz1350]\n",
            "0: Lullaby Of Birdland [jazz1350], Love Me Or Leave Me [jazz1350]\n",
            "0: My Little Suede Shoes [jazz1350], Jeepers Creepers [jazz1350]\n",
            "0: Quasimodo (Theme) [jazz1350], Embraceable You [jazz1350]\n",
            "0: Room 608 [jazz1350], I Got Rhythm [jazz1350]\n",
            "0: Scrapple From The Apple [jazz1350], Honeysuckle Rose [jazz1350]\n",
            "0: Sweet Sue, Just You [jazz1350], Honeysuckle Rose [jazz1350]\n",
            "0: Sweet Sue, Just You [jazz1350], Bye Bye Blackbird [jazz1350]\n",
            "0: These Foolish Things [jazz1350], Blue Moon [jazz1350]\n",
            "0: These Foolish Things [jazz1350], Soultrane [jazz1350]\n",
            "0: These Foolish Things [jazz1350], Why Do I Love You [jazz1350]\n",
            "0: Misty [jazz1350], September In The Rain [jazz1350]\n",
            "0: Exactly Like You [jazz1350], Jersey Bounce [trad]\n",
            "0: Take The A Train [jazz1350], Girl From Ipanema, The [jazz1350]\n",
            "0: On The Sunny Side Of The Street [jazz1350], You Stepped Out Of A Dream [jazz1350]\n",
            "0: My Secret Love [jazz1350], Samba De Orfeu [jazz1350]\n",
            "0: Let's Call The Whole Thing Off [jazz1350], Fine And Dandy [jazz1350]\n",
            "0: On The Sunny Side Of The Street [jazz1350], Mountain Greenery [jazz1350]\n"
          ]
        }
      ]
    },
    {
      "cell_type": "code",
      "metadata": {
        "id": "8lKZukYybvMJ"
      },
      "source": [
        "model_name = 'tfidf'\n",
        "if use_wandb:\n",
        "  wandb.log(\n",
        "      {model_name: {\n",
        "                'contrafacts': {\n",
        "                    'topN': topN,\n",
        "                    'success': matches/len(contrafacts),\n",
        "                    #'results': results\n",
        "                    }\n",
        "                   },\n",
        "       'all_models': {\n",
        "           model_name: wandb.Table(\n",
        "               columns=[\"Title\", \"Match\"],\n",
        "               data=[[key, value] for key, value in results.items()]),\n",
        "       }\n",
        "       })"
      ],
      "execution_count": null,
      "outputs": []
    },
    {
      "cell_type": "markdown",
      "metadata": {
        "id": "Phw7fBDk0px7"
      },
      "source": [
        "## Store TF-IDF Model to W&B"
      ]
    },
    {
      "cell_type": "code",
      "metadata": {
        "id": "KdYWJX-60pdd"
      },
      "source": [
        "if use_wandb:\n",
        "  model_artifact = wandb.Artifact(\n",
        "      \"model_tfidf\", \n",
        "      type=\"model\",\n",
        "      description=\"TF-IDF Model\",\n",
        "      metadata=\"\")\n",
        "\n",
        "  model_artifact.add_file(\"/content/index/tfidf.model\")\n",
        "  model_artifact.add_file(\"/content/index/tfidf.index\")\n",
        "  wandb.log_artifact(model_artifact)"
      ],
      "execution_count": null,
      "outputs": []
    },
    {
      "cell_type": "markdown",
      "metadata": {
        "id": "Pj0mpWpahPu1"
      },
      "source": [
        "## Get Recommender Data for WebApp\n",
        "\n"
      ]
    },
    {
      "cell_type": "code",
      "metadata": {
        "id": "buRbSTWehvPP"
      },
      "source": [
        "tune_test = [\"These Foolish Things [jazz1350]\",\n",
        "             \"Misty [jazz1350]\"]"
      ],
      "execution_count": null,
      "outputs": []
    },
    {
      "cell_type": "code",
      "metadata": {
        "colab": {
          "base_uri": "https://localhost:8080/"
        },
        "id": "ohlLHE935UN-",
        "outputId": "5d7e20e5-17f8-4ff2-ac41-828144079c62"
      },
      "source": [
        "%%time\n",
        "if True:\n",
        "  #_tunes = list(tunes['title_playlist'].values())\n",
        "  _tunes = tunes_eval_list\n",
        "\n",
        "  method = 'tfidf'\n",
        "\n",
        "  df_sim = get_sim_scores(_tunes, index_tfidf, tfidf, topn=50)\n",
        "\n",
        "  # save to file\n",
        "  (df_sim\n",
        "   .loc[:,['reference_title',\n",
        "           'reference_titleid',\n",
        "           'similar_title',\n",
        "           'similar_titleid',\n",
        "           'ref_section_label',\n",
        "           'similar_section_label',\n",
        "           'score'\n",
        "           ]]\n",
        "   .reset_index()\n",
        "   .groupby(['reference_titleid', 'reference_title', \n",
        "             'similar_titleid','similar_title', \n",
        "             'ref_section_label', 'similar_section_label'])\n",
        "   .max('score')\n",
        "   .sort_values('score', ascending=False)\n",
        "   .reset_index()\n",
        "   .to_csv(f'output/recommender_{method}.csv', encoding='utf8')\n",
        "  )\n",
        "\n",
        "  with zipfile.ZipFile(f'output/recommender_{method}.zip', 'w') as zf:\n",
        "    zf.write(f'output/recommender_{method}.csv')\n",
        "\n",
        "  # save to wandb\n",
        "  if use_wandb:\n",
        "    model_artifact = wandb.Artifact(\n",
        "        f\"recommender_{method}\", \n",
        "        type=\"csv\",\n",
        "        description=f\"Recommendations for each Tune using {method} Model (csv file)\",\n",
        "        metadata=\"\")\n",
        "\n",
        "    model_artifact.add_file(f'output/recommender_{method}.zip')\n",
        "    wandb.log_artifact(model_artifact)"
      ],
      "execution_count": null,
      "outputs": [
        {
          "output_type": "stream",
          "name": "stderr",
          "text": [
            "100%|██████████| 11/11 [00:18<00:00,  1.69s/it]"
          ]
        },
        {
          "output_type": "stream",
          "name": "stdout",
          "text": [
            "CPU times: user 18.8 s, sys: 593 ms, total: 19.4 s\n",
            "Wall time: 18.7 s\n"
          ]
        },
        {
          "output_type": "stream",
          "name": "stderr",
          "text": [
            "\n"
          ]
        }
      ]
    },
    {
      "cell_type": "markdown",
      "metadata": {
        "id": "99xHBRsd--OB"
      },
      "source": [
        "# LSA (Latent Semantic Analysis), aka LSI (Latent Semantic Index) "
      ]
    },
    {
      "cell_type": "code",
      "metadata": {
        "id": "adsW9Uh9_JXs"
      },
      "source": [
        "from collections import defaultdict"
      ],
      "execution_count": null,
      "outputs": []
    },
    {
      "cell_type": "code",
      "metadata": {
        "colab": {
          "base_uri": "https://localhost:8080/"
        },
        "id": "s3AJZGRD_IHW",
        "outputId": "8aae3650-cba8-4dcd-d58f-47da7905573d"
      },
      "source": [
        "num_topics = lsi_config['num_topics']\n",
        "\n",
        "# remove words that appear only once\n",
        "frequency = defaultdict(int)\n",
        "for text in processed_corpus:\n",
        "    for token in text:\n",
        "        frequency[token] += 1\n",
        "\n",
        "data = [[token for token in text if frequency[token] > 1] for text in processed_corpus]\n",
        "dictionary = corpora.Dictionary(data)\n",
        "\n",
        "# doc2bow counts the number of occurences of each distinct word,\n",
        "# converts the word to its integer word id and returns the result\n",
        "# as a sparse vector\n",
        "\n",
        "bow_corpus = [dictionary.doc2bow(text) for text in data]\n",
        "lsi = LsiModel(bow_corpus, id2word=dictionary, num_topics=num_topics)  # num_topics can be maximum the size of the number of unique tokens"
      ],
      "execution_count": null,
      "outputs": [
        {
          "output_type": "stream",
          "name": "stderr",
          "text": [
            "2021-12-20 13:12:36,950 : INFO : adding document #0 to Dictionary(0 unique tokens: [])\n",
            "2021-12-20 13:12:37,067 : INFO : built Dictionary(78 unique tokens: ['Am', 'B7', 'C', 'C#', 'C7']...) from 5536 documents (total 76716 corpus positions)\n",
            "2021-12-20 13:12:37,069 : INFO : Dictionary lifecycle event {'msg': \"built Dictionary(78 unique tokens: ['Am', 'B7', 'C', 'C#', 'C7']...) from 5536 documents (total 76716 corpus positions)\", 'datetime': '2021-12-20T13:12:37.069086', 'gensim': '4.1.2', 'python': '3.7.12 (default, Sep 10 2021, 00:21:48) \\n[GCC 7.5.0]', 'platform': 'Linux-5.4.104+-x86_64-with-Ubuntu-18.04-bionic', 'event': 'created'}\n",
            "2021-12-20 13:12:37,133 : INFO : using serial LSI version on this node\n",
            "2021-12-20 13:12:37,135 : INFO : updating model with new documents\n",
            "2021-12-20 13:12:37,138 : INFO : preparing a new chunk of documents\n",
            "2021-12-20 13:12:37,171 : INFO : using 100 extra samples and 2 power iterations\n",
            "2021-12-20 13:12:37,172 : INFO : 1st phase: constructing (78, 200) action matrix\n",
            "2021-12-20 13:12:37,242 : INFO : orthonormalizing (78, 200) action matrix\n",
            "2021-12-20 13:12:37,295 : INFO : 2nd phase: running dense svd on (78, 5536) matrix\n",
            "2021-12-20 13:12:37,406 : INFO : computing the final decomposition\n",
            "2021-12-20 13:12:37,409 : INFO : keeping 78 factors (discarding 0.000% of energy spectrum)\n",
            "2021-12-20 13:12:37,418 : INFO : processed documents up to #5536\n",
            "2021-12-20 13:12:37,421 : INFO : topic #0(324.532): 0.694*\"C\" + 0.486*\"G7\" + 0.345*\"Dm\" + 0.180*\"Am\" + 0.178*\"A7\" + 0.155*\"F\" + 0.150*\"D7\" + 0.116*\"C7\" + 0.100*\"Em\" + 0.097*\"E7\"\n",
            "2021-12-20 13:12:37,425 : INFO : topic #1(156.961): 0.806*\"Am\" + -0.384*\"C\" + 0.337*\"E7\" + 0.191*\"Dm\" + 0.123*\"Bm7b5\" + 0.091*\"D7\" + 0.066*\"F7\" + 0.065*\"Em\" + 0.058*\"B7\" + -0.050*\"G7\"\n",
            "2021-12-20 13:12:37,428 : INFO : topic #2(118.185): 0.599*\"Dm\" + -0.469*\"C\" + -0.329*\"Am\" + 0.302*\"G7\" + 0.292*\"A7\" + 0.233*\"Em\" + -0.202*\"F\" + -0.136*\"E7\" + -0.078*\"D7\" + 0.063*\"Bb7\"\n",
            "2021-12-20 13:12:37,431 : INFO : topic #3(103.175): 0.759*\"C7\" + -0.307*\"Dm\" + 0.287*\"D7\" + 0.254*\"F\" + -0.233*\"C\" + 0.173*\"G7\" + 0.157*\"F7\" + -0.142*\"Am\" + 0.125*\"Gm\" + 0.116*\"Bb7\"\n",
            "2021-12-20 13:12:37,434 : INFO : topic #4(89.807): -0.576*\"D7\" + -0.401*\"G7\" + 0.357*\"C7\" + 0.338*\"F\" + 0.333*\"Dm\" + -0.227*\"A7\" + 0.173*\"Em\" + -0.150*\"E7\" + 0.122*\"Gm\" + 0.120*\"C\"\n",
            "2021-12-20 13:12:37,437 : INFO : LsiModel lifecycle event {'msg': 'trained LsiModel(num_terms=78, num_topics=100, decay=1.0, chunksize=20000) in 0.30s', 'datetime': '2021-12-20T13:12:37.437709', 'gensim': '4.1.2', 'python': '3.7.12 (default, Sep 10 2021, 00:21:48) \\n[GCC 7.5.0]', 'platform': 'Linux-5.4.104+-x86_64-with-Ubuntu-18.04-bionic', 'event': 'created'}\n"
          ]
        }
      ]
    },
    {
      "cell_type": "code",
      "metadata": {
        "id": "EvxSQFfBBNMJ",
        "colab": {
          "base_uri": "https://localhost:8080/"
        },
        "outputId": "59bb0974-e8ee-4e74-cde1-2093f26fe823"
      },
      "source": [
        "index_lsi = similarities.Similarity('/content/index/index_lsi', lsi[bow_corpus], num_features=len(dictionary))"
      ],
      "execution_count": null,
      "outputs": [
        {
          "output_type": "stream",
          "name": "stderr",
          "text": [
            "2021-12-20 13:12:37,454 : INFO : starting similarity index under /content/index/index_lsi\n"
          ]
        }
      ]
    },
    {
      "cell_type": "code",
      "metadata": {
        "id": "3saA6NY5Tzer"
      },
      "source": [
        "#index_lsi = similarities.SparseMatrixSimilarity(lsi[bow_corpus], num_features = len(dictionary))\n",
        "#index_lsi = similarities.MatrixSimilarity(lsi[bow_corpus])  # transform corpus to LSI space and index it\n"
      ],
      "execution_count": null,
      "outputs": []
    },
    {
      "cell_type": "code",
      "metadata": {
        "colab": {
          "base_uri": "https://localhost:8080/"
        },
        "id": "F5pbDMVyfEtS",
        "outputId": "33bec841-d2af-4b5c-ac3b-ab43f75c64a5"
      },
      "source": [
        "lsi.save('/content/index/lsi.model')\n",
        "index_lsi.save('/content/index/lsi_matrixsim.index')\n"
      ],
      "execution_count": null,
      "outputs": [
        {
          "output_type": "stream",
          "name": "stderr",
          "text": [
            "2021-12-20 13:12:38,332 : INFO : Projection lifecycle event {'fname_or_handle': '/content/index/lsi.model.projection', 'separately': 'None', 'sep_limit': 10485760, 'ignore': frozenset(), 'datetime': '2021-12-20T13:12:38.331992', 'gensim': '4.1.2', 'python': '3.7.12 (default, Sep 10 2021, 00:21:48) \\n[GCC 7.5.0]', 'platform': 'Linux-5.4.104+-x86_64-with-Ubuntu-18.04-bionic', 'event': 'saving'}\n",
            "2021-12-20 13:12:38,335 : INFO : saved /content/index/lsi.model.projection\n",
            "2021-12-20 13:12:38,338 : INFO : LsiModel lifecycle event {'fname_or_handle': '/content/index/lsi.model', 'separately': 'None', 'sep_limit': 10485760, 'ignore': ['projection', 'dispatcher'], 'datetime': '2021-12-20T13:12:38.338405', 'gensim': '4.1.2', 'python': '3.7.12 (default, Sep 10 2021, 00:21:48) \\n[GCC 7.5.0]', 'platform': 'Linux-5.4.104+-x86_64-with-Ubuntu-18.04-bionic', 'event': 'saving'}\n",
            "2021-12-20 13:12:38,341 : INFO : not storing attribute projection\n",
            "2021-12-20 13:12:38,343 : INFO : not storing attribute dispatcher\n",
            "2021-12-20 13:12:38,347 : INFO : saved /content/index/lsi.model\n",
            "2021-12-20 13:12:38,348 : INFO : creating matrix with 5536 documents and 78 features\n",
            "2021-12-20 13:12:38,361 : INFO : creating dense shard #0\n",
            "2021-12-20 13:12:38,364 : INFO : saving index shard to /content/index/index_lsi.0\n",
            "2021-12-20 13:12:38,367 : INFO : MatrixSimilarity lifecycle event {'fname_or_handle': '/content/index/index_lsi.0', 'separately': 'None', 'sep_limit': 10485760, 'ignore': frozenset(), 'datetime': '2021-12-20T13:12:38.366974', 'gensim': '4.1.2', 'python': '3.7.12 (default, Sep 10 2021, 00:21:48) \\n[GCC 7.5.0]', 'platform': 'Linux-5.4.104+-x86_64-with-Ubuntu-18.04-bionic', 'event': 'saving'}\n",
            "2021-12-20 13:12:38,372 : INFO : saved /content/index/index_lsi.0\n",
            "2021-12-20 13:12:38,375 : INFO : loading MatrixSimilarity object from /content/index/index_lsi.0\n",
            "2021-12-20 13:12:38,378 : INFO : MatrixSimilarity lifecycle event {'fname': '/content/index/index_lsi.0', 'datetime': '2021-12-20T13:12:38.378535', 'gensim': '4.1.2', 'python': '3.7.12 (default, Sep 10 2021, 00:21:48) \\n[GCC 7.5.0]', 'platform': 'Linux-5.4.104+-x86_64-with-Ubuntu-18.04-bionic', 'event': 'loaded'}\n",
            "2021-12-20 13:12:38,382 : INFO : Similarity lifecycle event {'fname_or_handle': '/content/index/lsi_matrixsim.index', 'separately': 'None', 'sep_limit': 10485760, 'ignore': frozenset(), 'datetime': '2021-12-20T13:12:38.382556', 'gensim': '4.1.2', 'python': '3.7.12 (default, Sep 10 2021, 00:21:48) \\n[GCC 7.5.0]', 'platform': 'Linux-5.4.104+-x86_64-with-Ubuntu-18.04-bionic', 'event': 'saving'}\n",
            "2021-12-20 13:12:38,387 : INFO : saved /content/index/lsi_matrixsim.index\n"
          ]
        }
      ]
    },
    {
      "cell_type": "code",
      "metadata": {
        "colab": {
          "base_uri": "https://localhost:8080/"
        },
        "id": "1udPIceqYk6S",
        "outputId": "59e35d60-5d34-46a7-efde-71970aaea76f"
      },
      "source": [
        "!ls -la /content/index"
      ],
      "execution_count": null,
      "outputs": [
        {
          "output_type": "stream",
          "name": "stdout",
          "text": [
            "total 2108\n",
            "drwxr-xr-x 2 root root    4096 Dec 20 13:12 .\n",
            "drwxr-xr-x 1 root root    4096 Dec 20 13:11 ..\n",
            "-rw-r--r-- 1 root root 1727904 Dec 20 13:12 index_lsi.0\n",
            "-rw-r--r-- 1 root root     742 Dec 20 13:12 lsi_matrixsim.index\n",
            "-rw-r--r-- 1 root root    2844 Dec 20 13:12 lsi.model\n",
            "-rw-r--r-- 1 root root   49976 Dec 20 13:12 lsi.model.projection\n",
            "-rw-r--r-- 1 root root  354572 Dec 20 13:11 tfidf.index\n",
            "-rw-r--r-- 1 root root    3057 Dec 20 13:11 tfidf.model\n"
          ]
        }
      ]
    },
    {
      "cell_type": "markdown",
      "metadata": {
        "id": "u05KD64Ai1uo"
      },
      "source": [
        "## Tests"
      ]
    },
    {
      "cell_type": "markdown",
      "metadata": {
        "id": "pDxTCAGv9MmZ"
      },
      "source": [
        "### Test for single tunes"
      ]
    },
    {
      "cell_type": "code",
      "metadata": {
        "colab": {
          "base_uri": "https://localhost:8080/"
        },
        "id": "khASSJ1eEuf5",
        "outputId": "5993a0ab-1105-458a-cc52-d89e82816c03"
      },
      "source": [
        "%%time\n",
        "df_sim = get_sim_scores(tunes_eval_list, index=index_lsi, model=lsi)\n",
        "\n",
        "# save a copy of the results; all results will be concatenated at the end\n",
        "df_lsi = df_sim[:]"
      ],
      "execution_count": null,
      "outputs": [
        {
          "output_type": "stream",
          "name": "stderr",
          "text": [
            "100%|██████████| 11/11 [00:19<00:00,  1.77s/it]"
          ]
        },
        {
          "output_type": "stream",
          "name": "stdout",
          "text": [
            "CPU times: user 19.8 s, sys: 4.53 s, total: 24.4 s\n",
            "Wall time: 19.5 s\n"
          ]
        },
        {
          "output_type": "stream",
          "name": "stderr",
          "text": [
            "\n"
          ]
        }
      ]
    },
    {
      "cell_type": "code",
      "metadata": {
        "colab": {
          "base_uri": "https://localhost:8080/",
          "height": 562
        },
        "id": "X31lkvUsDAsU",
        "outputId": "6bb0ce4e-ce34-4f7b-e0c9-cabc1a98c3b3"
      },
      "source": [
        "import plotly.express as px\n",
        "fig = px.histogram(df_sim, x=\"score\", nbins=50, title='LSI Scores')\n",
        "fig.show()"
      ],
      "execution_count": null,
      "outputs": [
        {
          "output_type": "display_data",
          "data": {
            "text/html": [
              "<html>\n",
              "<head><meta charset=\"utf-8\" /></head>\n",
              "<body>\n",
              "    <div>\n",
              "            <script src=\"https://cdnjs.cloudflare.com/ajax/libs/mathjax/2.7.5/MathJax.js?config=TeX-AMS-MML_SVG\"></script><script type=\"text/javascript\">if (window.MathJax) {MathJax.Hub.Config({SVG: {font: \"STIX-Web\"}});}</script>\n",
              "                <script type=\"text/javascript\">window.PlotlyConfig = {MathJaxConfig: 'local'};</script>\n",
              "        <script src=\"https://cdn.plot.ly/plotly-latest.min.js\"></script>    \n",
              "            <div id=\"15e3d652-a168-4dbc-9865-ab9e22b49836\" class=\"plotly-graph-div\" style=\"height:525px; width:100%;\"></div>\n",
              "            <script type=\"text/javascript\">\n",
              "                \n",
              "                    window.PLOTLYENV=window.PLOTLYENV || {};\n",
              "                    \n",
              "                if (document.getElementById(\"15e3d652-a168-4dbc-9865-ab9e22b49836\")) {\n",
              "                    Plotly.newPlot(\n",
              "                        '15e3d652-a168-4dbc-9865-ab9e22b49836',\n",
              "                        [{\"alignmentgroup\": \"True\", \"bingroup\": \"x\", \"hoverlabel\": {\"namelength\": 0}, \"hovertemplate\": \"score=%{x}<br>count=%{y}\", \"legendgroup\": \"\", \"marker\": {\"color\": \"#636efa\"}, \"name\": \"\", \"nbinsx\": 50, \"offsetgroup\": \"\", \"orientation\": \"v\", \"showlegend\": false, \"type\": \"histogram\", \"x\": [0.97826087474823, 0.9680038094520569, 0.9680038094520569, 0.9609864950180054, 0.9583727717399597, 0.9583727717399597, 0.9569290280342102, 0.9569290280342102, 0.9567298293113708, 0.9567298293113708, 0.9534074664115906, 0.9530152082443237, 0.9517337083816528, 0.9515872597694397, 0.9497162103652954, 0.9497162103652954, 0.9486438632011414, 0.9486438632011414, 0.9486438632011414, 0.948038637638092, 0.9473729133605957, 0.9457324743270874, 0.9457324743270874, 0.9455454349517822, 0.9455453753471375, 0.9443844556808472, 0.9409439563751221, 0.940570056438446, 0.940570056438446, 0.940570056438446, 0.9390439987182617, 0.9383147954940796, 0.9383147954940796, 0.9376363158226013, 0.9362573027610779, 0.9355851411819458, 0.9347826242446899, 0.9337990880012512, 0.9337990880012512, 0.9337990880012512, 0.9327823519706726, 0.9326990842819214, 0.9302014112472534, 0.9281617999076843, 0.9267780780792236, 0.9260296821594238, 0.9239886403083801, 0.9229962825775146, 0.9221229553222656, 0.9221228957176208, 0.9221228361129761, 0.9276337027549744, 0.9261983036994934, 0.9180845618247986, 0.9180845618247986, 0.9166983962059021, 0.9166983962059021, 0.9140904545783997, 0.9109356999397278, 0.9102991223335266, 0.9095085263252258, 0.9095085263252258, 0.9081083536148071, 0.9081083536148071, 0.9080252647399902, 0.9007546901702881, 0.9007546901702881, 0.9002838134765625, 0.8978643417358398, 0.8973817825317383, 0.897364616394043, 0.8952857851982117, 0.8951714634895325, 0.8932597041130066, 0.8926786184310913, 0.8917926549911499, 0.8911327123641968, 0.8911327123641968, 0.8892973065376282, 0.8892973065376282, 0.8885404467582703, 0.8877781629562378, 0.8868439793586731, 0.8860760927200317, 0.8860760927200317, 0.8860760927200317, 0.8858784437179565, 0.885614812374115, 0.8850130438804626, 0.8838580250740051, 0.8831852674484253, 0.8823530077934265, 0.8823530077934265, 0.8823529481887817, 0.8823529481887817, 0.8820098638534546, 0.8820098042488098, 0.8799551725387573, 0.8799551725387573, 0.8787761330604553, 0.8787761330604553, 0.8787760138511658, 0.9143005609512329, 0.910980224609375, 0.9005004167556763, 0.8965517282485962, 0.8938528895378113, 0.8914849758148193, 0.8913375735282898, 0.8858184814453125, 0.8844476342201233, 0.8820528984069824, 0.8817845582962036, 0.879706621170044, 0.8791322112083435, 0.8790162205696106, 0.8778665065765381, 0.8778665065765381, 0.8754209280014038, 0.8753761649131775, 0.8753761649131775, 0.8727860450744629, 0.8725833892822266, 0.8719775676727295, 0.8718128204345703, 0.8703170418739319, 0.8703170418739319, 0.8703170418739319, 0.8703170418739319, 0.870022177696228, 0.8685104846954346, 0.8671485781669617, 0.8671485781669617, 0.8671484589576721, 0.8656302094459534, 0.8630338907241821, 0.8630338907241821, 0.8630338907241821, 0.8620792031288147, 0.8620690703392029, 0.8620690107345581, 0.8620689511299133, 0.8620689511299133, 0.8620689511299133, 0.8612780570983887, 0.8608580231666565, 0.8608580231666565, 0.8598551750183105, 0.8598551154136658, 0.8596024513244629, 0.8596023917198181, 0.8596023917198181, 0.8591777086257935, 0.97826087474823, 0.9680038094520569, 0.9680038094520569, 0.9609864950180054, 0.9583727717399597, 0.9583727717399597, 0.9569290280342102, 0.9569290280342102, 0.9567298293113708, 0.9567298293113708, 0.9534074664115906, 0.9530152082443237, 0.9517337083816528, 0.9515872597694397, 0.9497162103652954, 0.9497162103652954, 0.9486438632011414, 0.9486438632011414, 0.9486438632011414, 0.948038637638092, 0.9473729133605957, 0.9457324743270874, 0.9457324743270874, 0.9455454349517822, 0.9455453753471375, 0.9443844556808472, 0.9409439563751221, 0.940570056438446, 0.940570056438446, 0.940570056438446, 0.9390439987182617, 0.9383147954940796, 0.9383147954940796, 0.9376363158226013, 0.9362573027610779, 0.9355851411819458, 0.9347826242446899, 0.9337990880012512, 0.9337990880012512, 0.9337990880012512, 0.9327823519706726, 0.9326990842819214, 0.9302014112472534, 0.9281617999076843, 0.9267780780792236, 0.9260296821594238, 0.9239886403083801, 0.9229962825775146, 0.9221229553222656, 0.9221228957176208, 0.9221228361129761, 0.9789450764656067, 0.9789450168609619, 0.9780192971229553, 0.9780192971229553, 0.9780192971229553, 0.9780192971229553, 0.9780192971229553, 0.9780192971229553, 0.9680038094520569, 0.9680038094520569, 0.9680038094520569, 0.9613049030303955, 0.9591663479804993, 0.9591663479804993, 0.9591663479804993, 0.9591663479804993, 0.9567297697067261, 0.9555331468582153, 0.9555331468582153, 0.9542196989059448, 0.9533289074897766, 0.9527593851089478, 0.9517337679862976, 0.9516249299049377, 0.9477928876876831, 0.9457325339317322, 0.9451121091842651, 0.9451119899749756, 0.9443127512931824, 0.9441068768501282, 0.943041980266571, 0.9399424195289612, 0.9383147358894348, 0.9363822937011719, 0.9363822340965271, 0.9363822340965271, 0.9363822340965271, 0.9363821148872375, 0.9363821148872375, 0.9337990880012512, 0.9337990880012512, 0.9337990880012512, 0.9337990880012512, 0.9337990880012512, 0.9337990880012512, 0.9337990283966064, 0.9337990283966064, 0.9337990283966064, 0.9337989687919617, 0.9337989687919617, 0.9335638880729675, 1.0, 1.0, 1.0, 1.0, 1.0, 1.0, 0.9670913815498352, 0.9642364978790283, 0.9636240005493164, 0.9629138112068176, 0.9629138112068176, 0.9629138112068176, 0.9622504115104675, 0.9622504115104675, 0.9622504115104675, 0.9547858834266663, 0.9547858834266663, 0.9547858834266663, 0.9547858834266663, 0.9547858834266663, 0.9547858834266663, 0.9524849653244019, 0.946729302406311, 0.9467292428016663, 0.9449111819267273, 0.9449111223220825, 0.944444477558136, 0.944444477558136, 0.944444477558136, 0.9444443583488464, 0.9432999491691589, 0.9428091049194336, 0.9428090453147888, 0.9428090453147888, 0.9428090453147888, 0.9428090453147888, 0.9428090453147888, 0.9428090453147888, 0.9428090453147888, 0.9428090453147888, 0.9428090453147888, 0.9389095902442932, 0.9374998807907104, 0.9337989687919617, 0.9333333373069763, 0.9301753640174866, 0.9297199845314026, 0.9296696186065674, 0.9291626214981079, 0.9287014007568359, 0.9279607534408569, 0.9109802842140198, 0.8989331722259521, 0.8970852494239807, 0.8970850706100464, 0.895273745059967, 0.8914003968238831, 0.8885233998298645, 0.887125551700592, 0.8856149315834045, 0.885270357131958, 0.8807711005210876, 0.8807710409164429, 0.8783099055290222, 0.8767139911651611, 0.8728716969490051, 0.8728715181350708, 0.8672273755073547, 0.8662301898002625, 0.8662301898002625, 0.8662301301956177, 0.8660253882408142, 0.8660253882408142, 0.8660253286361694, 0.8630338907241821, 0.8614110350608826, 0.8608284592628479, 0.8608284592628479, 0.8608284592628479, 0.8606629371643066, 0.8606629371643066, 0.8606629371643066, 0.8593380451202393, 0.8589059114456177, 0.8589057922363281, 0.8581162095069885, 0.8573212623596191, 0.8573212623596191, 0.8573212623596191, 0.857159435749054, 0.8563488125801086, 0.8553988933563232, 0.8520563244819641, 0.8520129919052124, 0.8520128726959229, 0.8516883850097656, 0.8516882658004761, 0.8489527106285095, 0.8485281467437744, 0.8485281467437744, 0.8485280871391296, 0.8483678102493286, 0.9789450764656067, 0.9789450168609619, 0.9780192971229553, 0.9780192971229553, 0.9780192971229553, 0.9780192971229553, 0.9780192971229553, 0.9780192971229553, 0.9680038094520569, 0.9680038094520569, 0.9680038094520569, 0.9613049030303955, 0.9591663479804993, 0.9591663479804993, 0.9591663479804993, 0.9591663479804993, 0.9567297697067261, 0.9555331468582153, 0.9555331468582153, 0.9542196989059448, 0.9533289074897766, 0.9527593851089478, 0.9517337679862976, 0.9516249299049377, 0.9477928876876831, 0.9457325339317322, 0.9451121091842651, 0.9451119899749756, 0.9443127512931824, 0.9441068768501282, 0.943041980266571, 0.9399424195289612, 0.9383147358894348, 0.9363822937011719, 0.9363822340965271, 0.9363822340965271, 0.9363822340965271, 0.9363821148872375, 0.9363821148872375, 0.9337990880012512, 0.9337990880012512, 0.9337990880012512, 0.9337990880012512, 0.9337990880012512, 0.9337990880012512, 0.9337990283966064, 0.9337990283966064, 0.9337990283966064, 0.9337989687919617, 0.9337989687919617, 0.9335638880729675, 0.9621404409408569, 0.9596789479255676, 0.9594032168388367, 0.953462541103363, 0.953462541103363, 0.9532306790351868, 0.9526278972625732, 0.9493858814239502, 0.9489283561706543, 0.9489283561706543, 0.9489283561706543, 0.9489283561706543, 0.9489283561706543, 0.9486833214759827, 0.947046160697937, 0.9463773965835571, 0.9436286091804504, 0.9429903626441956, 0.9429903626441956, 0.9408841133117676, 0.9400193095207214, 0.9391486048698425, 0.93898606300354, 0.93898606300354, 0.93898606300354, 0.9389710426330566, 0.9389710426330566, 0.9354953169822693, 0.9354953169822693, 0.9354144334793091, 0.9339476227760315, 0.9339476227760315, 0.9339474439620972, 0.9336221814155579, 0.9333809614181519, 0.9311283230781555, 0.9295159578323364, 0.9293403029441833, 0.9282791614532471, 0.9282791614532471, 0.9276014566421509, 0.9276013970375061, 0.9276013970375061, 0.9276012778282166, 0.9276012778282166, 0.9273618459701538, 0.927361786365509, 0.9270955920219421, 0.925000011920929, 0.9249999523162842, 0.9237605333328247, 0.9765536785125732, 0.9750856161117554, 0.9749135971069336, 0.9749135971069336, 0.9749135971069336, 0.9723448157310486, 0.9723448157310486, 0.9707251787185669, 0.9673307538032532, 0.9673307538032532, 0.9624355435371399, 0.9609277844429016, 0.9607688188552856, 0.9607688188552856, 0.9607688188552856, 0.9575175642967224, 0.9575175046920776, 0.955316960811615, 0.9542196989059448, 0.9534240365028381, 0.9516486525535583, 0.9516486525535583, 0.9516486525535583, 0.9516485333442688, 0.9516485333442688, 0.9516485333442688, 0.9516485333442688, 0.9516485333442688, 0.9510345458984375, 0.9510345458984375, 0.9509329795837402, 0.9509329795837402, 0.9476128816604614, 0.9464573860168457, 0.9460287094116211, 0.9448347687721252, 0.9435641765594482, 0.9429903626441956, 0.942990243434906, 0.9421114921569824, 0.9415131211280823, 0.9415130019187927, 0.9407722353935242, 0.9405399560928345, 0.9388344883918762, 0.9366542100906372, 0.9366540908813477, 0.9366540908813477, 0.9341599345207214, 0.93412846326828, 0.9326426386833191, 1.0000001192092896, 1.0000001192092896, 1.0000001192092896, 1.0000001192092896, 1.0000001192092896, 1.0000001192092896, 1.0000001192092896, 1.0000001192092896, 1.0000001192092896, 1.0000001192092896, 1.0000001192092896, 1.0000001192092896, 1.0000001192092896, 1.0000001192092896, 1.0000001192092896, 1.0000001192092896, 0.9701424837112427, 0.9701424241065979, 0.9354143142700195, 0.9354143142700195, 0.9354143142700195, 0.9354143142700195, 0.9176627993583679, 0.9036961197853088, 0.8944272398948669, 0.8944271206855774, 0.8750000596046448, 0.875, 0.8728715777397156, 0.866025447845459, 0.8660253882408142, 0.8660253882408142, 0.8534917831420898, 0.8504201173782349, 0.8486684560775757, 0.8391464352607727, 0.8320503234863281, 0.8320502042770386, 0.8164966106414795, 0.8164966106414795, 0.8111070394515991, 0.8082903623580933, 0.8082239031791687, 0.8082238435745239, 0.8017837405204773, 0.8017837405204773, 0.8017837405204773, 0.8017837405204773, 0.8017837405204773, 0.8017837405204773, 0.8017836809158325, 0.9621404409408569, 0.9596789479255676, 0.9594032168388367, 0.953462541103363, 0.953462541103363, 0.9532306790351868, 0.9526278972625732, 0.9493858814239502, 0.9489283561706543, 0.9489283561706543, 0.9489283561706543, 0.9489283561706543, 0.9489283561706543, 0.9486833214759827, 0.947046160697937, 0.9463773965835571, 0.9436286091804504, 0.9429903626441956, 0.9429903626441956, 0.9408841133117676, 0.9400193095207214, 0.9391486048698425, 0.93898606300354, 0.93898606300354, 0.93898606300354, 0.9389710426330566, 0.9389710426330566, 0.9354953169822693, 0.9354953169822693, 0.9354144334793091, 0.9339476227760315, 0.9339476227760315, 0.9339474439620972, 0.9336221814155579, 0.9333809614181519, 0.9311283230781555, 0.9295159578323364, 0.9293403029441833, 0.9282791614532471, 0.9282791614532471, 0.9276014566421509, 0.9276013970375061, 0.9276013970375061, 0.9276012778282166, 0.9276012778282166, 0.9273618459701538, 0.927361786365509, 0.9270955920219421, 0.925000011920929, 0.9249999523162842, 0.9237605333328247, 0.9271050691604614, 0.9233804941177368, 0.9233804941177368, 0.9233804941177368, 0.9223310351371765, 0.9185587763786316, 0.9150798320770264, 0.9091922044754028, 0.9086882472038269, 0.9086881875991821, 0.9068454504013062, 0.9068453907966614, 0.9068453907966614, 0.9068452715873718, 0.9057893753051758, 0.9057257771492004, 0.9057257175445557, 0.9036960601806641, 0.9036960601806641, 0.9035078287124634, 0.902707576751709, 0.9004502892494202, 0.9000000357627869, 0.8992518782615662, 0.898146390914917, 0.8977310657501221, 0.8977310061454773, 0.8959786891937256, 0.8959786891937256, 0.8959786891937256, 0.8948382139205933, 0.8944272994995117, 0.8944271802902222, 0.8901636600494385, 0.8900490999221802, 0.8894602656364441, 0.8889567255973816, 0.8887084126472473, 0.8874118328094482, 0.8874118328094482, 0.8861468434333801, 0.8858795762062073, 0.8858795166015625, 0.8856149315834045, 0.8856149315834045, 0.8854376673698425, 0.885141134262085, 0.885141134262085, 0.885141134262085, 0.883787989616394, 0.8837879300117493, 0.9318912029266357, 0.9318912029266357, 0.931891143321991, 0.9284142255783081, 0.9239885210990906, 0.9214065670967102, 0.918531596660614, 0.9185315370559692, 0.9185315370559692, 0.9132659435272217, 0.9121593236923218, 0.9121592044830322, 0.9082950353622437, 0.9074425101280212, 0.9045339822769165, 0.903652012348175, 0.9014203548431396, 0.8994011282920837, 0.899401068687439, 0.899401068687439, 0.899401068687439, 0.8983222842216492, 0.8971498608589172, 0.8956220746040344, 0.892946183681488, 0.8927094340324402, 0.8924133777618408, 0.8924131989479065, 0.8922685384750366, 0.8922684788703918, 0.8922684788703918, 0.8922268152236938, 0.8919914364814758, 0.889898419380188, 0.8892278075218201, 0.8883363008499146, 0.8883363008499146, 0.8883363008499146, 0.8876254558563232, 0.8871638178825378, 0.8864052891731262, 0.8864052295684814, 0.8852586150169373, 0.883959949016571, 0.883959949016571, 0.88395094871521, 0.8838562369346619, 0.8838561773300171, 0.8838561773300171, 0.8838561773300171, 0.8838561177253723, 1.0, 1.0, 1.0, 1.0, 1.0, 1.0, 1.0, 1.0, 1.0, 1.0, 1.0, 1.0, 1.0, 1.0, 1.0, 1.0, 1.0, 1.0, 1.0, 1.0, 1.0, 1.0, 1.0, 1.0, 1.0, 1.0, 1.0, 1.0, 1.0, 0.981980562210083, 0.9701424837112427, 0.9594032168388367, 0.936329185962677, 0.9354144930839539, 0.9354144930839539, 0.9354143142700195, 0.9191450476646423, 0.9176629185676575, 0.9036961197853088, 0.8845381140708923, 0.8845379948616028, 0.875, 0.8749998807907104, 0.866025447845459, 0.8660253882408142, 0.8660253882408142, 0.8486683964729309, 0.8486683368682861, 0.8387420773506165, 0.8340576887130737, 0.8322396278381348, 0.9504969120025635, 0.9495629072189331, 0.9428292512893677, 0.9428292512893677, 0.9428291320800781, 0.9428291320800781, 0.9415245056152344, 0.9306780695915222, 0.9306630492210388, 0.9304842948913574, 0.9304842948913574, 0.9304842948913574, 0.9304842948913574, 0.9243423342704773, 0.9210565686225891, 0.9210565686225891, 0.9187796115875244, 0.9186933636665344, 0.9173648953437805, 0.9173648357391357, 0.9173648357391357, 0.9163298010826111, 0.9163298010826111, 0.9154754281044006, 0.9150522947311401, 0.9150522947311401, 0.9150522351264954, 0.9143940210342407, 0.9143938422203064, 0.9141045212745667, 0.9137173891067505, 0.9137173891067505, 0.9121593832969666, 0.9121592044830322, 0.9121592044830322, 0.9121592044830322, 0.9121592044830322, 0.9121592044830322, 0.9121034741401672, 0.9121034741401672, 0.9116846323013306, 0.9116846323013306, 0.9116846323013306, 0.9101129770278931, 0.9085993766784668, 0.9073387384414673, 0.9053542017936707, 0.9053542017936707, 0.9053542017936707, 0.9053540825843811, 0.9053540825843811, 0.9746794104576111, 0.9550230503082275, 0.9534626603126526, 0.9486832618713379, 0.9486832022666931, 0.9467292428016663, 0.9449111223220825, 0.9341986179351807, 0.9316951036453247, 0.9316950440406799, 0.9316950440406799, 0.9316950440406799, 0.9316949248313904, 0.9315560460090637, 0.9302604794502258, 0.9296696186065674, 0.9237022995948792, 0.9237022995948792, 0.9237022995948792, 0.9237022995948792, 0.9237021803855896, 0.9216353297233582, 0.9209108948707581, 0.9203581213951111, 0.9203581213951111, 0.9203580021858215, 0.9190183281898499, 0.9170605540275574, 0.9141741991043091, 0.9135003089904785, 0.9135003089904785, 0.9135003089904785, 0.9135003089904785, 0.9135001301765442, 0.9132592678070068, 0.9128708839416504, 0.910169780254364, 0.910169780254364, 0.9091921448707581, 0.9091549515724182, 0.9091548323631287, 0.9079594612121582, 0.9079594612121582, 0.9071148633956909, 0.9071148037910461, 0.9071148037910461, 0.9071147441864014, 0.9068453907966614, 0.906845211982727, 0.9057894349098206, 0.9057893753051758, 0.9574271440505981, 0.9486832022666931, 0.9449112415313721, 0.9432422518730164, 0.9428090453147888, 0.941596269607544, 0.938194215297699, 0.9359710812568665, 0.93385910987854, 0.929898738861084, 0.9244735240936279, 0.923869788646698, 0.9223310947418213, 0.9185587167739868, 0.9185585975646973, 0.9141380786895752, 0.9141380190849304, 0.9141378998756409, 0.9133462905883789, 0.9131711721420288, 0.9128710031509399, 0.9128710031509399, 0.9128709435462952, 0.9128709435462952, 0.9128708839416504, 0.9128708839416504, 0.9128708839416504, 0.9128708839416504, 0.9128708839416504, 0.9128708839416504, 0.9128707647323608, 0.9128707647323608, 0.9114654064178467, 0.9112957119941711, 0.9112957119941711, 0.9112957119941711, 0.9097176790237427, 0.9097176790237427, 0.9097176194190979, 0.9097176194190979, 0.9082951545715332, 0.9058217406272888, 0.9058215618133545, 0.9058215618133545, 0.9056544899940491, 0.9036961197853088, 0.9036961197853088, 0.9036961197853088, 0.9035252332687378, 0.9030570983886719, 0.9027305245399475, 0.8682432174682617, 0.8362420201301575, 0.8278374671936035, 0.827837347984314, 0.8006408214569092, 0.8006407022476196, 0.8006407022476196, 0.7893521785736084, 0.7893521785736084, 0.769230842590332, 0.7692307233810425, 0.7627127766609192, 0.7627127766609192, 0.7627127766609192, 0.7614996433258057, 0.7526178359985352, 0.7526177763938904, 0.7518094182014465, 0.7518094182014465, 0.7472646832466125, 0.7412493228912354, 0.7412493228912354, 0.7412493228912354, 0.7412492632865906, 0.7399400472640991, 0.7354354858398438, 0.7354354858398438, 0.7354354858398438, 0.7354354858398438, 0.7282020449638367, 0.7275328040122986, 0.7262730598449707, 0.724206805229187, 0.7238423228263855, 0.7211102843284607, 0.7211102843284607, 0.7211101651191711, 0.7205767631530762, 0.7205767035484314, 0.7205767035484314, 0.7205766439437866, 0.7198740839958191, 0.7198740243911743, 0.7190925478935242, 0.71611487865448, 0.7161148190498352, 0.7161148190498352, 0.7161148190498352, 0.7141503095626831, 0.7095749378204346, 0.7071067690849304, 0.9565216898918152, 0.9565216898918152, 0.9498989582061768, 0.9457325339317322, 0.9451747536659241, 0.9443699717521667, 0.9437400698661804, 0.9383147954940796, 0.9383147358894348, 0.9363821744918823, 0.9348926544189453, 0.9337990880012512, 0.9337990283966064, 0.9335638880729675, 0.932990312576294, 0.9325048923492432, 0.9325048923492432, 0.9325048923492432, 0.9325047135353088, 0.9325047135353088, 0.9308955669403076, 0.9292837381362915, 0.929283618927002, 0.929283618927002, 0.929283618927002, 0.9270649552345276, 0.9269800782203674, 0.926734447479248, 0.9255480766296387, 0.9231326580047607, 0.9231326580047607, 0.9229581952095032, 0.9223130941390991, 0.9221463203430176, 0.9215123057365417, 0.9215121865272522, 0.9215120673179626, 0.9194621443748474, 0.9187147617340088, 0.9163795709609985, 0.9152492880821228, 0.9149286150932312, 0.9149284362792969, 0.9149283170700073, 0.9138712286949158, 0.9136644005775452, 0.9136644005775452, 0.9132886528968811, 0.9132886528968811, 0.9132886528968811, 0.9132886528968811, 0.9503288865089417, 0.9503288865089417, 0.9503288865089417, 0.9486833810806274, 0.9486833810806274, 0.9486833810806274, 0.9447658061981201, 0.94378262758255, 0.9395321607589722, 0.9315884709358215, 0.9260129332542419, 0.9252128005027771, 0.9237022399902344, 0.9231326580047607, 0.9225311875343323, 0.9223780035972595, 0.9219544529914856, 0.9203580617904663, 0.9203580021858215, 0.9203580021858215, 0.9198336005210876, 0.918558657169342, 0.9185585975646973, 0.9170604944229126, 0.9149490594863892, 0.9130464792251587, 0.9128709435462952, 0.9128708839416504, 0.9103990793228149, 0.9103990793228149, 0.9103990793228149, 0.910258948802948, 0.9091548323631287, 0.9091548323631287, 0.9091548323631287, 0.9091548323631287, 0.9091548323631287, 0.9091548323631287, 0.9085407853126526, 0.9076088070869446, 0.9073203206062317, 0.9057257175445557, 0.9054063558578491, 0.9038256406784058, 0.9036960601806641, 0.9036960601806641, 0.9036960601806641, 0.9036960601806641, 0.9036216735839844, 0.9033378958702087, 0.902707576751709, 0.9727044105529785, 0.9727044105529785, 0.9725115895271301, 0.9723231792449951, 0.970725417137146, 0.970725417137146, 0.970725417137146, 0.970725417137146, 0.970725417137146, 0.970725417137146, 0.9707253575325012, 0.9673722982406616, 0.9673722982406616, 0.9626694917678833, 0.9612692594528198, 0.9612692594528198, 0.9608460068702698, 0.9602954983711243, 0.9572300910949707, 0.9569488167762756, 0.9569321274757385, 0.9569321274757385, 0.9569321274757385, 0.956932008266449, 0.956932008266449, 0.9522344470024109, 0.9522344470024109, 0.9522344470024109, 0.9488522410392761, 0.9473309516906738, 0.9456576704978943, 0.9451168179512024, 0.9451167583465576, 0.944756031036377, 0.944756031036377, 0.9443396925926208, 0.9443396329879761, 0.9429904222488403, 0.9429903030395508, 0.9428846836090088, 0.9428846836090088, 0.9428846836090088, 0.9426640272140503, 0.9426639080047607, 0.9413574934005737, 0.9413574934005737, 0.9413574934005737, 0.941357433795929, 0.9409593343734741, 0.9409593343734741, 0.9409593343734741, 0.9526610374450684, 0.9165152311325073, 0.9165152311325073, 0.9163418412208557, 0.9163418412208557, 0.911684513092041, 0.9091372489929199, 0.9064249992370605, 0.9047620296478271, 0.9014979600906372, 0.9011271595954895, 0.9011271595954895, 0.9011270999908447, 0.9008853435516357, 0.9008853435516357, 0.8997352719306946, 0.8987170457839966, 0.898177444934845, 0.8970852494239807, 0.8970851898193359, 0.8970851898193359, 0.8970851898193359, 0.893197774887085, 0.8921425938606262, 0.8914850950241089, 0.8914850950241089, 0.8914850354194641, 0.8908709287643433, 0.8908708095550537, 0.8882558345794678, 0.8882348537445068, 0.8872441649436951, 0.8860777616500854, 0.8849905133247375, 0.8839600682258606, 0.8839600086212158, 0.8819171786308289, 0.8813609480857849, 0.8809524774551392, 0.8784620761871338, 0.8783101439476013, 0.8765009641647339, 0.8760229349136353, 0.8754655718803406, 0.8754655718803406, 0.8754655122756958, 0.8748176693916321, 0.8743857741355896, 0.8728716373443604, 0.8728715777397156, 0.8728715777397156, 0.9689627289772034, 0.9279606938362122, 0.9244223237037659, 0.9168189167976379, 0.9128708839416504, 0.9026709794998169, 0.8944271802902222, 0.8944271206855774, 0.8944270610809326, 0.8898888230323792, 0.889297366142273, 0.8892973065376282, 0.8890009522438049, 0.8890008330345154, 0.884651780128479, 0.8838833570480347, 0.8824419379234314, 0.8819171190261841, 0.8819171190261841, 0.8819170594215393, 0.8767945170402527, 0.8754655718803406, 0.8751899600028992, 0.8743856549263, 0.8743856549263, 0.872098445892334, 0.870571494102478, 0.8703882694244385, 0.8703882694244385, 0.8688100576400757, 0.8665782809257507, 0.8660255670547485, 0.866025447845459, 0.866025447845459, 0.866025447845459, 0.8651809692382812, 0.8651809692382812, 0.8651808500289917, 0.8647908568382263, 0.8618575930595398, 0.8618574738502502, 0.860663115978241, 0.8606629371643066, 0.8606629371643066, 0.8591777682304382, 0.8589556813240051, 0.8581278920173645, 0.8542820811271667, 0.8528029322624207, 0.8520129323005676, 0.8501309156417847, 1.0, 0.9647637605667114, 0.9534626007080078, 0.9534626007080078, 0.9438797831535339, 0.9128710031509399, 0.9128709435462952, 0.9128709435462952, 0.9128708839416504, 0.9128708243370056, 0.9128708243370056, 0.908738911151886, 0.9036960005760193, 0.9036960005760193, 0.9000000953674316, 0.9000000357627869, 0.8944271802902222, 0.8854377269744873, 0.8854376673698425, 0.8854376077651978, 0.8808302879333496, 0.8807710409164429, 0.8770579695701599, 0.8764598965644836, 0.8720816373825073, 0.870571494102478, 0.8705714344978333, 0.8696264028549194, 0.8696263432502747, 0.8696262836456299, 0.8552359342575073, 0.8519427180290222, 0.8500000238418579, 0.8451542854309082, 0.8451542258262634, 0.8451541662216187, 0.8451541662216187, 0.8391463756561279, 0.8391463756561279, 0.8385255336761475, 0.8385254740715027, 0.8302780985832214, 0.8280786275863647, 0.8221921920776367, 0.8221083879470825, 0.8215839266777039, 0.8215839266777039, 0.8164965510368347, 0.8164965510368347, 0.8142564296722412, 0.8090398907661438, 0.9660917520523071, 0.9578415155410767, 0.9443002939224243, 0.9385907053947449, 0.9330596923828125, 0.925242006778717, 0.9205664992332458, 0.9205664992332458, 0.9150180816650391, 0.9145521521568298, 0.9132660627365112, 0.9121592044830322, 0.9116846323013306, 0.9100315570831299, 0.9091372489929199, 0.9091055393218994, 0.9047619104385376, 0.9014410376548767, 0.9011272192001343, 0.9011272192001343, 0.9011270999908447, 0.9002982378005981, 0.8981775641441345, 0.8970852494239807, 0.8970852494239807, 0.8970851898193359, 0.8931978344917297, 0.8908708691596985, 0.8908708095550537, 0.8890257477760315, 0.8882558345794678, 0.8882347941398621, 0.8839600086212158, 0.8839600086212158, 0.8827131986618042, 0.8819171786308289, 0.8819171786308289, 0.8813610076904297, 0.8797654509544373, 0.8784620761871338, 0.8775800466537476, 0.8765010833740234, 0.8765010237693787, 0.8765010237693787, 0.8754656314849854, 0.875465452671051, 0.8748178482055664, 0.8748177886009216, 0.8748177289962769, 0.8748176693916321, 0.8743857741355896, 1.0, 1.0, 1.0, 1.0, 1.0, 1.0, 1.0, 1.0, 1.0, 1.0, 1.0, 1.0, 1.0, 1.0, 1.0, 1.0, 1.0, 0.9960238337516785, 0.9918365478515625, 0.9918365478515625, 0.985527515411377, 0.985527515411377, 0.9855273962020874, 0.9855273962020874, 0.9855273962020874, 0.984731912612915, 0.984731912612915, 0.984731912612915, 0.9829463362693787, 0.9805805683135986, 0.9801961183547974, 0.9801961183547974, 0.9801961183547974, 0.9799578189849854, 0.9799118638038635, 0.9797959327697754, 0.9797958731651306, 0.9797958731651306, 0.9789450168609619, 0.9771398305892944, 0.9771398305892944, 0.973729133605957, 0.9737289547920227, 0.971825361251831, 0.971825361251831, 0.9707252383232117, 0.9695897102355957, 0.9684747457504272, 0.9684747457504272, 0.9684747457504272, 0.968245804309845, 1.0, 1.0, 1.0, 1.0, 1.0, 1.0, 1.0, 1.0, 1.0, 1.0, 1.0, 1.0, 1.0, 1.0, 1.0, 1.0, 1.0, 0.9960238337516785, 0.9918365478515625, 0.9918365478515625, 0.985527515411377, 0.985527515411377, 0.9855273962020874, 0.9855273962020874, 0.9855273962020874, 0.984731912612915, 0.984731912612915, 0.984731912612915, 0.9829463362693787, 0.9805805683135986, 0.9801961183547974, 0.9801961183547974, 0.9801961183547974, 0.9799578189849854, 0.9799118638038635, 0.9797959327697754, 0.9797958731651306, 0.9797958731651306, 0.9789450168609619, 0.9771398305892944, 0.9771398305892944, 0.973729133605957, 0.9737289547920227, 0.971825361251831, 0.971825361251831, 0.9707252383232117, 0.9695897102355957, 0.9684747457504272, 0.9684747457504272, 0.9684747457504272, 0.968245804309845, 0.8333332538604736, 0.8333332538604736, 0.8215837478637695, 0.8215837478637695, 0.8198915123939514, 0.8179128170013428, 0.8164966106414795, 0.8006407618522644, 0.799305260181427, 0.7947194576263428, 0.794719398021698, 0.794719398021698, 0.7938566207885742, 0.7938566207885742, 0.7905694246292114, 0.7825080752372742, 0.7777776718139648, 0.7745966911315918, 0.774596631526947, 0.7715167999267578, 0.7715166807174683, 0.766032338142395, 0.7637626528739929, 0.7593264579772949, 0.7593263387680054, 0.7505553364753723, 0.7504787445068359, 0.75, 0.75, 0.75, 0.75, 0.75, 0.7492685914039612, 0.7426106929779053, 0.7395738959312439, 0.7385489344596863, 0.7385488748550415, 0.7385488152503967, 0.7378648519515991, 0.7378647923469543, 0.7378647327423096, 0.7365695238113403, 0.7359800934791565, 0.7359800338745117, 0.7359800338745117, 0.7359799742698669, 0.7332355380058289, 0.7332193851470947, 0.7329409718513489, 0.7319250106811523, 0.7315635681152344, 1.0, 1.0, 1.0, 1.0, 1.0, 1.0, 1.0, 1.0, 1.0, 1.0, 1.0, 1.0, 1.0, 1.0, 1.0, 1.0, 1.0, 0.9960238337516785, 0.9918365478515625, 0.9918365478515625, 0.985527515411377, 0.985527515411377, 0.9855273962020874, 0.9855273962020874, 0.9855273962020874, 0.984731912612915, 0.984731912612915, 0.984731912612915, 0.9829463362693787, 0.9805805683135986, 0.9801961183547974, 0.9801961183547974, 0.9801961183547974, 0.9799578189849854, 0.9799118638038635, 0.9797959327697754, 0.9797958731651306, 0.9797958731651306, 0.9789450168609619, 0.9771398305892944, 0.9771398305892944, 0.973729133605957, 0.9737289547920227, 0.971825361251831, 0.971825361251831, 0.9707252383232117, 0.9695897102355957, 0.9684747457504272, 0.9684747457504272, 0.9684747457504272, 0.968245804309845, 0.9770084619522095, 0.9770083427429199, 0.9770083427429199, 0.9770083427429199, 0.96015864610672, 0.96015864610672, 0.96015864610672, 0.96015864610672, 0.9555330872535706, 0.9555330872535706, 0.9485040903091431, 0.9430896639823914, 0.9398272633552551, 0.9389158487319946, 0.9381027817726135, 0.9354144334793091, 0.9354144334793091, 0.9320070147514343, 0.9274259209632874, 0.9274258613586426, 0.9239132404327393, 0.9211323261260986, 0.9185585975646973, 0.9169093370437622, 0.9169091582298279, 0.916515052318573, 0.916515052318573, 0.9153028130531311, 0.9150180220603943, 0.9145521521568298, 0.9134141802787781, 0.9124211668968201, 0.9100315570831299, 0.9100315570831299, 0.9100314974784851, 0.9100314974784851, 0.9100314378738403, 0.9091055989265442, 0.9072648286819458, 0.9072647094726562, 0.9072646498680115, 0.9072645902633667, 0.9064250588417053, 0.9064249396324158, 0.9014978408813477, 0.9014978408813477, 0.9014978408813477, 0.9014410972595215, 0.9011270999908447, 0.9008852243423462, 0.8997355103492737, 0.9240615963935852, 0.9216353297233582, 0.9216353297233582, 0.9216353297233582, 0.9216353297233582, 0.9146592617034912, 0.9146592617034912, 0.9146592617034912, 0.9146592617034912, 0.9146592617034912, 0.9146592617034912, 0.9146592617034912, 0.9146591424942017, 0.9102991223335266, 0.9102991223335266, 0.9095087051391602, 0.9095085859298706, 0.9074852466583252, 0.9074851870536804, 0.8911328911781311, 0.8911328911781311, 0.8911328911781311, 0.8868440389633179, 0.8856149315834045, 0.8830063343048096, 0.8829944729804993, 0.882352888584137, 0.882352888584137, 0.8820458650588989, 0.8790491819381714, 0.8790491819381714, 0.8790491819381714, 0.8790491819381714, 0.8790491819381714, 0.8790491223335266, 0.8775269985198975, 0.8767141103744507, 0.8767140507698059, 0.8767140507698059, 0.8767139911651611, 0.8755170106887817, 0.8751751780509949, 0.8751751780509949, 0.8751751780509949, 0.8744745850563049, 0.8744745850563049, 0.8734847903251648, 0.8732725977897644, 0.873128354549408, 0.873128354549408, 0.873128354549408, 0.8660253882408142, 0.8660253882408142, 0.8552360534667969, 0.8552360534667969, 0.8552360534667969, 0.8552360534667969, 0.8552359938621521, 0.8552359938621521, 0.8552359342575073, 0.8528029322624207, 0.8500000238418579, 0.8332380056381226, 0.8320503830909729, 0.8320503234863281, 0.8315218091011047, 0.8221922516822815, 0.8221921920776367, 0.8221921920776367, 0.8170594573020935, 0.8164965510368347, 0.8164965510368347, 0.8111070990562439, 0.808290421962738, 0.804984450340271, 0.804984450340271, 0.804984450340271, 0.8023774027824402, 0.8017837405204773, 0.8017836809158325, 0.8000001311302185, 0.7999999523162842, 0.7999999523162842, 0.7999999523162842, 0.7999999523162842, 0.7999999523162842, 0.7999999523162842, 0.7999999523162842, 0.7999999523162842, 0.7999999523162842, 0.7999999523162842, 0.7999999523162842, 0.7999999523162842, 0.7999999523162842, 0.7999999523162842, 0.7999999523162842, 0.7999999523162842, 0.7999999523162842, 0.7999999523162842, 0.7999999523162842, 0.7999999523162842, 0.7999998927116394, 0.9770084619522095, 0.9770083427429199, 0.9770083427429199, 0.9770083427429199, 0.96015864610672, 0.96015864610672, 0.96015864610672, 0.96015864610672, 0.9555330872535706, 0.9555330872535706, 0.9485040903091431, 0.9430896639823914, 0.9398272633552551, 0.9389158487319946, 0.9381027817726135, 0.9354144334793091, 0.9354144334793091, 0.9320070147514343, 0.9274259209632874, 0.9274258613586426, 0.9239132404327393, 0.9211323261260986, 0.9185585975646973, 0.9169093370437622, 0.9169091582298279, 0.916515052318573, 0.916515052318573, 0.9153028130531311, 0.9150180220603943, 0.9145521521568298, 0.9134141802787781, 0.9124211668968201, 0.9100315570831299, 0.9100315570831299, 0.9100314974784851, 0.9100314974784851, 0.9100314378738403, 0.9091055989265442, 0.9072648286819458, 0.9072647094726562, 0.9072646498680115, 0.9072645902633667, 0.9064250588417053, 0.9064249396324158, 0.9014978408813477, 0.9014978408813477, 0.9014978408813477, 0.9014410972595215, 0.9011270999908447, 0.9008852243423462, 0.8997355103492737, 0.9546688199043274, 0.9519715905189514, 0.9519715905189514, 0.9422228336334229, 0.9354144334793091, 0.9280853271484375, 0.9274259209632874, 0.9263022541999817, 0.9263021349906921, 0.9258201122283936, 0.9228396415710449, 0.9207509160041809, 0.9207507967948914, 0.9207367897033691, 0.9192388653755188, 0.919238805770874, 0.9192387461662292, 0.9191449284553528, 0.9191449284553528, 0.9181764125823975, 0.9176629185676575, 0.9166666269302368, 0.9165785312652588, 0.914890706539154, 0.9139075875282288, 0.9133463501930237, 0.9133461713790894, 0.9133461713790894, 0.9133461713790894, 0.9128709435462952, 0.9128708839416504, 0.912495493888855, 0.9124953746795654, 0.9095087051391602, 0.9095086455345154, 0.9095085859298706, 0.9091373085975647, 0.907037079334259, 0.9068454504013062, 0.9065508842468262, 0.9062500596046448, 0.9061030149459839, 0.9058217406272888, 0.9052647948265076, 0.9052647948265076, 0.9036961197853088, 0.9036961197853088, 0.903082013130188, 0.9021098017692566, 0.9021097421646118, 0.9021097421646118, 0.9117646813392639, 0.9115638732910156, 0.9106417298316956, 0.9106417298316956, 0.9101821184158325, 0.910181999206543, 0.910181999206543, 0.9095086455345154, 0.9081082940101624, 0.9074851274490356, 0.9068695902824402, 0.9068695306777954, 0.9049034714698792, 0.9038769006729126, 0.9003751873970032, 0.8997355103492737, 0.8990276455879211, 0.8986451625823975, 0.8986451029777527, 0.8978642821311951, 0.8973645567893982, 0.8958085775375366, 0.8956222534179688, 0.8951714038848877, 0.8932597637176514, 0.8932597637176514, 0.893259584903717, 0.8930885791778564, 0.8930885195732117, 0.8917927742004395, 0.8917016386985779, 0.8917016386985779, 0.8917015790939331, 0.8917015790939331, 0.8902638554573059, 0.8902638554573059, 0.8902637362480164, 0.8901260495185852, 0.8892973065376282, 0.8885403275489807, 0.8885403275489807, 0.8880652785301208, 0.8877781629562378, 0.8868440389633179, 0.8868440389633179, 0.8860761523246765, 0.886076033115387, 0.886076033115387, 0.886076033115387, 0.886076033115387, 0.8860759735107422, 0.9165151119232178, 0.8954429030418396, 0.8759956955909729, 0.8082903027534485, 0.8033263683319092, 0.7902633547782898, 0.7855843901634216, 0.7800134420394897, 0.7794229388237, 0.7786627411842346, 0.77781742811203, 0.7765803337097168, 0.776580274105072, 0.7761139273643494, 0.7745967507362366, 0.774596631526947, 0.77247154712677, 0.771516740322113, 0.7666982412338257, 0.7602630257606506, 0.7602630257606506, 0.7559289336204529, 0.754342257976532, 0.75424724817276, 0.75424724817276, 0.7521398067474365, 0.7506518959999084, 0.75, 0.7483314871788025, 0.7483314275741577, 0.7483314275741577, 0.7462186217308044, 0.7427813410758972, 0.7424620389938354, 0.7424620389938354, 0.7365894913673401, 0.7365894913673401, 0.734130322933197, 0.734130322933197, 0.7313103079795837, 0.7276068925857544, 0.7276068329811096, 0.7248823642730713, 0.7233555912971497, 0.7233554720878601, 0.7229569554328918, 0.7184212803840637, 0.7183992862701416, 0.7155418395996094, 0.7155417799949646, 0.7155417203903198, 0.9667961597442627, 0.9587095379829407, 0.9518173933029175, 0.9518173933029175, 0.9496715664863586, 0.9476780295372009, 0.9471735954284668, 0.9428473114967346, 0.942082405090332, 0.9416365623474121, 0.9364182949066162, 0.9346851706504822, 0.9346851706504822, 0.934198796749115, 0.9338144659996033, 0.9337222576141357, 0.932873547077179, 0.9322980046272278, 0.9320954084396362, 0.9318182468414307, 0.9318182468414307, 0.9307579398155212, 0.9307578802108765, 0.9304842948913574, 0.9304842948913574, 0.9303738474845886, 0.9303738474845886, 0.9296600222587585, 0.9296600222587585, 0.9296600222587585, 0.9296600222587585, 0.9288407564163208, 0.9288407564163208, 0.928032398223877, 0.9277310371398926, 0.9266964197158813, 0.9266963601112366, 0.9266963601112366, 0.9260705709457397, 0.9255913496017456, 0.9238227605819702, 0.9238225817680359, 0.9238225817680359, 0.9231862425804138, 0.9231861233711243, 0.9231861233711243, 0.9226117134094238, 0.9217647910118103, 0.9216805696487427, 0.9211324453353882, 0.9206016659736633, 0.8351914882659912, 0.8277381658554077, 0.8275159001350403, 0.8189230561256409, 0.8188812136650085, 0.8162789940834045, 0.8160262107849121, 0.8153743147850037, 0.8116794228553772, 0.8100925087928772, 0.8085428476333618, 0.8085428476333618, 0.8081219792366028, 0.807645320892334, 0.8071417808532715, 0.8067792057991028, 0.8045384287834167, 0.803697407245636, 0.8028965592384338, 0.8028964996337891, 0.8017837405204773, 0.8017837405204773, 0.8017837405204773, 0.8017837405204773, 0.8017837405204773, 0.8017836809158325, 0.8017836213111877, 0.8001323342323303, 0.8001322746276855, 0.798595666885376, 0.7977241277694702, 0.7977240085601807, 0.7977240085601807, 0.7977240085601807, 0.7970811724662781, 0.7970811724662781, 0.7968191504478455, 0.7968189716339111, 0.7955922484397888, 0.7940667271614075, 0.7940667271614075, 0.7940667271614075, 0.7937254309654236, 0.7937254309654236, 0.7935754060745239, 0.7935754060745239, 0.7918883562088013, 0.7909114956855774, 0.7908746004104614, 0.7905694246292114, 0.7899531722068787, 0.8744151592254639, 0.864920437335968, 0.8640986084938049, 0.8581366539001465, 0.8556888699531555, 0.8556888699531555, 0.8521979451179504, 0.8521979451179504, 0.8521979451179504, 0.8475794792175293, 0.8475793600082397, 0.8467804193496704, 0.8451542854309082, 0.8451542854309082, 0.8451542854309082, 0.8447368144989014, 0.8447368144989014, 0.8447368144989014, 0.8432742357254028, 0.8432742357254028, 0.8432742357254028, 0.8432742357254028, 0.8432742357254028, 0.8432742357254028, 0.8432742357254028, 0.8432742357254028, 0.8432742357254028, 0.8432742357254028, 0.8432742357254028, 0.8432742357254028, 0.8432742357254028, 0.8432742357254028, 0.8432742357254028, 0.8432742357254028, 0.8432742357254028, 0.8432742357254028, 0.8432742357254028, 0.8432742357254028, 0.8432740569114685, 0.8424397110939026, 0.8413341641426086, 0.8413341641426086, 0.8392543792724609, 0.8378850817680359, 0.8377078175544739, 0.8371579051017761, 0.8366600275039673, 0.8366600275039673, 0.8347299695014954, 0.8344919085502625, 0.8326663374900818, 1.0000001192092896, 0.9354143142700195, 0.9354143142700195, 0.9354143142700195, 0.9354143142700195, 0.9354143142700195, 0.9354143142700195, 0.9354143142700195, 0.9354143142700195, 0.9354143142700195, 0.9354143142700195, 0.9354143142700195, 0.9354143142700195, 0.9354143142700195, 0.9354143142700195, 0.9354143142700195, 0.9354143142700195, 0.9354143142700195, 0.9354143142700195, 0.9331389665603638, 0.9258202314376831, 0.9258201122283936, 0.9258201122283936, 0.9197090268135071, 0.9074852466583252, 0.9074852466583252, 0.8964214324951172, 0.8894991874694824, 0.8894991874694824, 0.872871458530426, 0.872871458530426, 0.8685990571975708, 0.8671099543571472, 0.8660253882408142, 0.8571429252624512, 0.8571428656578064, 0.8571428656578064, 0.8571428656578064, 0.8571428656578064, 0.8571428656578064, 0.8571428060531616, 0.8552360534667969, 0.8552359938621521, 0.8451542854309082, 0.8451541662216187, 0.8451541662216187, 0.8366600275039673, 0.8280786871910095, 0.8160261511802673, 0.8160260915756226, 0.8081220984458923, 0.8351914882659912, 0.8277381658554077, 0.8275159001350403, 0.8189230561256409, 0.8188812136650085, 0.8162789940834045, 0.8160262107849121, 0.8153743147850037, 0.8116794228553772, 0.8100925087928772, 0.8085428476333618, 0.8085428476333618, 0.8081219792366028, 0.807645320892334, 0.8071417808532715, 0.8067792057991028, 0.8045384287834167, 0.803697407245636, 0.8028965592384338, 0.8028964996337891, 0.8017837405204773, 0.8017837405204773, 0.8017837405204773, 0.8017837405204773, 0.8017837405204773, 0.8017836809158325, 0.8017836213111877, 0.8001323342323303, 0.8001322746276855, 0.798595666885376, 0.7977241277694702, 0.7977240085601807, 0.7977240085601807, 0.7977240085601807, 0.7970811724662781, 0.7970811724662781, 0.7968191504478455, 0.7968189716339111, 0.7955922484397888, 0.7940667271614075, 0.7940667271614075, 0.7940667271614075, 0.7937254309654236, 0.7937254309654236, 0.7935754060745239, 0.7935754060745239, 0.7918883562088013, 0.7909114956855774, 0.7908746004104614, 0.7905694246292114, 0.7899531722068787], \"xaxis\": \"x\", \"yaxis\": \"y\"}],\n",
              "                        {\"barmode\": \"relative\", \"legend\": {\"tracegroupgap\": 0}, \"template\": {\"data\": {\"bar\": [{\"error_x\": {\"color\": \"#2a3f5f\"}, \"error_y\": {\"color\": \"#2a3f5f\"}, \"marker\": {\"line\": {\"color\": \"#E5ECF6\", \"width\": 0.5}}, \"type\": \"bar\"}], \"barpolar\": [{\"marker\": {\"line\": {\"color\": \"#E5ECF6\", \"width\": 0.5}}, \"type\": \"barpolar\"}], \"carpet\": [{\"aaxis\": {\"endlinecolor\": \"#2a3f5f\", \"gridcolor\": \"white\", \"linecolor\": \"white\", \"minorgridcolor\": \"white\", \"startlinecolor\": \"#2a3f5f\"}, \"baxis\": {\"endlinecolor\": \"#2a3f5f\", \"gridcolor\": \"white\", \"linecolor\": \"white\", \"minorgridcolor\": \"white\", \"startlinecolor\": \"#2a3f5f\"}, \"type\": \"carpet\"}], \"choropleth\": [{\"colorbar\": {\"outlinewidth\": 0, \"ticks\": \"\"}, \"type\": \"choropleth\"}], \"contour\": [{\"colorbar\": {\"outlinewidth\": 0, \"ticks\": \"\"}, \"colorscale\": [[0.0, \"#0d0887\"], [0.1111111111111111, \"#46039f\"], [0.2222222222222222, \"#7201a8\"], [0.3333333333333333, \"#9c179e\"], [0.4444444444444444, \"#bd3786\"], [0.5555555555555556, \"#d8576b\"], [0.6666666666666666, \"#ed7953\"], [0.7777777777777778, \"#fb9f3a\"], [0.8888888888888888, \"#fdca26\"], [1.0, \"#f0f921\"]], \"type\": \"contour\"}], \"contourcarpet\": [{\"colorbar\": {\"outlinewidth\": 0, \"ticks\": \"\"}, \"type\": \"contourcarpet\"}], \"heatmap\": [{\"colorbar\": {\"outlinewidth\": 0, \"ticks\": \"\"}, \"colorscale\": [[0.0, \"#0d0887\"], [0.1111111111111111, \"#46039f\"], [0.2222222222222222, \"#7201a8\"], [0.3333333333333333, \"#9c179e\"], [0.4444444444444444, \"#bd3786\"], [0.5555555555555556, \"#d8576b\"], [0.6666666666666666, \"#ed7953\"], [0.7777777777777778, \"#fb9f3a\"], [0.8888888888888888, \"#fdca26\"], [1.0, \"#f0f921\"]], \"type\": \"heatmap\"}], \"heatmapgl\": [{\"colorbar\": {\"outlinewidth\": 0, \"ticks\": \"\"}, \"colorscale\": [[0.0, \"#0d0887\"], [0.1111111111111111, \"#46039f\"], [0.2222222222222222, \"#7201a8\"], [0.3333333333333333, \"#9c179e\"], [0.4444444444444444, \"#bd3786\"], [0.5555555555555556, \"#d8576b\"], [0.6666666666666666, \"#ed7953\"], [0.7777777777777778, \"#fb9f3a\"], [0.8888888888888888, \"#fdca26\"], [1.0, \"#f0f921\"]], \"type\": \"heatmapgl\"}], \"histogram\": [{\"marker\": {\"colorbar\": {\"outlinewidth\": 0, \"ticks\": \"\"}}, \"type\": \"histogram\"}], \"histogram2d\": [{\"colorbar\": {\"outlinewidth\": 0, \"ticks\": \"\"}, \"colorscale\": [[0.0, \"#0d0887\"], [0.1111111111111111, \"#46039f\"], [0.2222222222222222, \"#7201a8\"], [0.3333333333333333, \"#9c179e\"], [0.4444444444444444, \"#bd3786\"], [0.5555555555555556, \"#d8576b\"], [0.6666666666666666, \"#ed7953\"], [0.7777777777777778, \"#fb9f3a\"], [0.8888888888888888, \"#fdca26\"], [1.0, \"#f0f921\"]], \"type\": \"histogram2d\"}], \"histogram2dcontour\": [{\"colorbar\": {\"outlinewidth\": 0, \"ticks\": \"\"}, \"colorscale\": [[0.0, \"#0d0887\"], [0.1111111111111111, \"#46039f\"], [0.2222222222222222, \"#7201a8\"], [0.3333333333333333, \"#9c179e\"], [0.4444444444444444, \"#bd3786\"], [0.5555555555555556, \"#d8576b\"], [0.6666666666666666, \"#ed7953\"], [0.7777777777777778, \"#fb9f3a\"], [0.8888888888888888, \"#fdca26\"], [1.0, \"#f0f921\"]], \"type\": \"histogram2dcontour\"}], \"mesh3d\": [{\"colorbar\": {\"outlinewidth\": 0, \"ticks\": \"\"}, \"type\": \"mesh3d\"}], \"parcoords\": [{\"line\": {\"colorbar\": {\"outlinewidth\": 0, \"ticks\": \"\"}}, \"type\": \"parcoords\"}], \"pie\": [{\"automargin\": true, \"type\": \"pie\"}], \"scatter\": [{\"marker\": {\"colorbar\": {\"outlinewidth\": 0, \"ticks\": \"\"}}, \"type\": \"scatter\"}], \"scatter3d\": [{\"line\": {\"colorbar\": {\"outlinewidth\": 0, \"ticks\": \"\"}}, \"marker\": {\"colorbar\": {\"outlinewidth\": 0, \"ticks\": \"\"}}, \"type\": \"scatter3d\"}], \"scattercarpet\": [{\"marker\": {\"colorbar\": {\"outlinewidth\": 0, \"ticks\": \"\"}}, \"type\": \"scattercarpet\"}], \"scattergeo\": [{\"marker\": {\"colorbar\": {\"outlinewidth\": 0, \"ticks\": \"\"}}, \"type\": \"scattergeo\"}], \"scattergl\": [{\"marker\": {\"colorbar\": {\"outlinewidth\": 0, \"ticks\": \"\"}}, \"type\": \"scattergl\"}], \"scattermapbox\": [{\"marker\": {\"colorbar\": {\"outlinewidth\": 0, \"ticks\": \"\"}}, \"type\": \"scattermapbox\"}], \"scatterpolar\": [{\"marker\": {\"colorbar\": {\"outlinewidth\": 0, \"ticks\": \"\"}}, \"type\": \"scatterpolar\"}], \"scatterpolargl\": [{\"marker\": {\"colorbar\": {\"outlinewidth\": 0, \"ticks\": \"\"}}, \"type\": \"scatterpolargl\"}], \"scatterternary\": [{\"marker\": {\"colorbar\": {\"outlinewidth\": 0, \"ticks\": \"\"}}, \"type\": \"scatterternary\"}], \"surface\": [{\"colorbar\": {\"outlinewidth\": 0, \"ticks\": \"\"}, \"colorscale\": [[0.0, \"#0d0887\"], [0.1111111111111111, \"#46039f\"], [0.2222222222222222, \"#7201a8\"], [0.3333333333333333, \"#9c179e\"], [0.4444444444444444, \"#bd3786\"], [0.5555555555555556, \"#d8576b\"], [0.6666666666666666, \"#ed7953\"], [0.7777777777777778, \"#fb9f3a\"], [0.8888888888888888, \"#fdca26\"], [1.0, \"#f0f921\"]], \"type\": \"surface\"}], \"table\": [{\"cells\": {\"fill\": {\"color\": \"#EBF0F8\"}, \"line\": {\"color\": \"white\"}}, \"header\": {\"fill\": {\"color\": \"#C8D4E3\"}, \"line\": {\"color\": \"white\"}}, \"type\": \"table\"}]}, \"layout\": {\"annotationdefaults\": {\"arrowcolor\": \"#2a3f5f\", \"arrowhead\": 0, \"arrowwidth\": 1}, \"coloraxis\": {\"colorbar\": {\"outlinewidth\": 0, \"ticks\": \"\"}}, \"colorscale\": {\"diverging\": [[0, \"#8e0152\"], [0.1, \"#c51b7d\"], [0.2, \"#de77ae\"], [0.3, \"#f1b6da\"], [0.4, \"#fde0ef\"], [0.5, \"#f7f7f7\"], [0.6, \"#e6f5d0\"], [0.7, \"#b8e186\"], [0.8, \"#7fbc41\"], [0.9, \"#4d9221\"], [1, \"#276419\"]], \"sequential\": [[0.0, \"#0d0887\"], [0.1111111111111111, \"#46039f\"], [0.2222222222222222, \"#7201a8\"], [0.3333333333333333, \"#9c179e\"], [0.4444444444444444, \"#bd3786\"], [0.5555555555555556, \"#d8576b\"], [0.6666666666666666, \"#ed7953\"], [0.7777777777777778, \"#fb9f3a\"], [0.8888888888888888, \"#fdca26\"], [1.0, \"#f0f921\"]], \"sequentialminus\": [[0.0, \"#0d0887\"], [0.1111111111111111, \"#46039f\"], [0.2222222222222222, \"#7201a8\"], [0.3333333333333333, \"#9c179e\"], [0.4444444444444444, \"#bd3786\"], [0.5555555555555556, \"#d8576b\"], [0.6666666666666666, \"#ed7953\"], [0.7777777777777778, \"#fb9f3a\"], [0.8888888888888888, \"#fdca26\"], [1.0, \"#f0f921\"]]}, \"colorway\": [\"#636efa\", \"#EF553B\", \"#00cc96\", \"#ab63fa\", \"#FFA15A\", \"#19d3f3\", \"#FF6692\", \"#B6E880\", \"#FF97FF\", \"#FECB52\"], \"font\": {\"color\": \"#2a3f5f\"}, \"geo\": {\"bgcolor\": \"white\", \"lakecolor\": \"white\", \"landcolor\": \"#E5ECF6\", \"showlakes\": true, \"showland\": true, \"subunitcolor\": \"white\"}, \"hoverlabel\": {\"align\": \"left\"}, \"hovermode\": \"closest\", \"mapbox\": {\"style\": \"light\"}, \"paper_bgcolor\": \"white\", \"plot_bgcolor\": \"#E5ECF6\", \"polar\": {\"angularaxis\": {\"gridcolor\": \"white\", \"linecolor\": \"white\", \"ticks\": \"\"}, \"bgcolor\": \"#E5ECF6\", \"radialaxis\": {\"gridcolor\": \"white\", \"linecolor\": \"white\", \"ticks\": \"\"}}, \"scene\": {\"xaxis\": {\"backgroundcolor\": \"#E5ECF6\", \"gridcolor\": \"white\", \"gridwidth\": 2, \"linecolor\": \"white\", \"showbackground\": true, \"ticks\": \"\", \"zerolinecolor\": \"white\"}, \"yaxis\": {\"backgroundcolor\": \"#E5ECF6\", \"gridcolor\": \"white\", \"gridwidth\": 2, \"linecolor\": \"white\", \"showbackground\": true, \"ticks\": \"\", \"zerolinecolor\": \"white\"}, \"zaxis\": {\"backgroundcolor\": \"#E5ECF6\", \"gridcolor\": \"white\", \"gridwidth\": 2, \"linecolor\": \"white\", \"showbackground\": true, \"ticks\": \"\", \"zerolinecolor\": \"white\"}}, \"shapedefaults\": {\"line\": {\"color\": \"#2a3f5f\"}}, \"ternary\": {\"aaxis\": {\"gridcolor\": \"white\", \"linecolor\": \"white\", \"ticks\": \"\"}, \"baxis\": {\"gridcolor\": \"white\", \"linecolor\": \"white\", \"ticks\": \"\"}, \"bgcolor\": \"#E5ECF6\", \"caxis\": {\"gridcolor\": \"white\", \"linecolor\": \"white\", \"ticks\": \"\"}}, \"title\": {\"x\": 0.05}, \"xaxis\": {\"automargin\": true, \"gridcolor\": \"white\", \"linecolor\": \"white\", \"ticks\": \"\", \"title\": {\"standoff\": 15}, \"zerolinecolor\": \"white\", \"zerolinewidth\": 2}, \"yaxis\": {\"automargin\": true, \"gridcolor\": \"white\", \"linecolor\": \"white\", \"ticks\": \"\", \"title\": {\"standoff\": 15}, \"zerolinecolor\": \"white\", \"zerolinewidth\": 2}}}, \"title\": {\"text\": \"LSI Scores\"}, \"xaxis\": {\"anchor\": \"y\", \"domain\": [0.0, 1.0], \"title\": {\"text\": \"score\"}}, \"yaxis\": {\"anchor\": \"x\", \"domain\": [0.0, 1.0], \"title\": {\"text\": \"count\"}}},\n",
              "                        {\"responsive\": true}\n",
              "                    ).then(function(){\n",
              "                            \n",
              "var gd = document.getElementById('15e3d652-a168-4dbc-9865-ab9e22b49836');\n",
              "var x = new MutationObserver(function (mutations, observer) {{\n",
              "        var display = window.getComputedStyle(gd).display;\n",
              "        if (!display || display === 'none') {{\n",
              "            console.log([gd, 'removed!']);\n",
              "            Plotly.purge(gd);\n",
              "            observer.disconnect();\n",
              "        }}\n",
              "}});\n",
              "\n",
              "// Listen for the removal of the full notebook cells\n",
              "var notebookContainer = gd.closest('#notebook-container');\n",
              "if (notebookContainer) {{\n",
              "    x.observe(notebookContainer, {childList: true});\n",
              "}}\n",
              "\n",
              "// Listen for the clearing of the current output cell\n",
              "var outputEl = gd.closest('.output');\n",
              "if (outputEl) {{\n",
              "    x.observe(outputEl, {childList: true});\n",
              "}}\n",
              "\n",
              "                        })\n",
              "                };\n",
              "                \n",
              "            </script>\n",
              "        </div>\n",
              "</body>\n",
              "</html>"
            ]
          },
          "metadata": {}
        }
      ]
    },
    {
      "cell_type": "code",
      "metadata": {
        "colab": {
          "base_uri": "https://localhost:8080/"
        },
        "id": "1dfSZoYYkmLI",
        "outputId": "f2945f3a-7c44-429e-fa82-f0144179c88a"
      },
      "source": [
        "title_to_titleid['Take The A Train [jazz1350]']"
      ],
      "execution_count": null,
      "outputs": [
        {
          "output_type": "execute_result",
          "data": {
            "text/plain": [
              "1134"
            ]
          },
          "metadata": {},
          "execution_count": 80
        }
      ]
    },
    {
      "cell_type": "code",
      "metadata": {
        "colab": {
          "base_uri": "https://localhost:8080/"
        },
        "id": "oOxh5Po3XwbQ",
        "outputId": "b865478d-4c1a-4c3a-d340-7631d90db762"
      },
      "source": [
        "title_to_sectionid['Take The A Train [jazz1350]']"
      ],
      "execution_count": null,
      "outputs": [
        {
          "output_type": "execute_result",
          "data": {
            "text/plain": [
              "[3802, 3803, 3804, 3805]"
            ]
          },
          "metadata": {},
          "execution_count": 81
        }
      ]
    },
    {
      "cell_type": "code",
      "metadata": {
        "colab": {
          "base_uri": "https://localhost:8080/",
          "height": 886
        },
        "id": "GszJ90u1X1-P",
        "outputId": "d025383a-e6e9-4f96-9f1a-55d12ff887fe"
      },
      "source": [
        "sectionid_to_section[3764]"
      ],
      "execution_count": null,
      "outputs": [
        {
          "output_type": "execute_result",
          "data": {
            "application/vnd.google.colaboratory.intrinsic+json": {
              "type": "string"
            },
            "text/plain": [
              "'Surrey With The Fringe On The Top, section5 (C)'"
            ]
          },
          "metadata": {},
          "execution_count": 82
        }
      ]
    },
    {
      "cell_type": "code",
      "metadata": {
        "colab": {
          "base_uri": "https://localhost:8080/",
          "height": 110
        },
        "id": "withD8eraVjN",
        "outputId": "ff79dd0a-f13d-4c13-ac64-ba4076c364fb"
      },
      "source": [
        "sectionid_to_sectionlabel[3764]"
      ],
      "execution_count": null,
      "outputs": [
        {
          "output_type": "execute_result",
          "data": {
            "application/vnd.google.colaboratory.intrinsic+json": {
              "type": "string"
            },
            "text/plain": [
              "'C'"
            ]
          },
          "metadata": {},
          "execution_count": 83
        }
      ]
    },
    {
      "cell_type": "code",
      "metadata": {
        "colab": {
          "base_uri": "https://localhost:8080/",
          "height": 113
        },
        "id": "Nv0zz_L9eR4p",
        "outputId": "14118174-08cc-456f-cbf7-87bb50212e1f"
      },
      "source": [
        "foolish = (df_sim[df_sim['reference_titleid'] == 1140]\n",
        "           .reset_index()\n",
        "           .drop(columns=['reference_titleid',\n",
        "                          'ref_section', \n",
        "                          'ref_sectionid',\n",
        "                          'similar_titleid', \n",
        "                          'similar_section',\n",
        "                          'similar_sectionid', \n",
        "                          'index'])\n",
        "           .groupby(['reference_title', 'similar_title', 'ref_section_label', 'similar_section_label'])\n",
        "           .max('score')\n",
        "           .sort_values('score', ascending=False)\n",
        "           .reset_index()\n",
        ")\n",
        "\n",
        "foolish"
      ],
      "execution_count": null,
      "outputs": [
        {
          "output_type": "execute_result",
          "data": {
            "text/html": [
              "\n",
              "  <div id=\"df-f3f9dc90-17cc-48d3-b1d9-5af8ae379d92\">\n",
              "    <div class=\"colab-df-container\">\n",
              "      <div>\n",
              "<style scoped>\n",
              "    .dataframe tbody tr th:only-of-type {\n",
              "        vertical-align: middle;\n",
              "    }\n",
              "\n",
              "    .dataframe tbody tr th {\n",
              "        vertical-align: top;\n",
              "    }\n",
              "\n",
              "    .dataframe thead th {\n",
              "        text-align: right;\n",
              "    }\n",
              "</style>\n",
              "<table border=\"1\" class=\"dataframe\">\n",
              "  <thead>\n",
              "    <tr style=\"text-align: right;\">\n",
              "      <th></th>\n",
              "      <th>reference_title</th>\n",
              "      <th>similar_title</th>\n",
              "      <th>ref_section_label</th>\n",
              "      <th>similar_section_label</th>\n",
              "      <th>score</th>\n",
              "    </tr>\n",
              "  </thead>\n",
              "  <tbody>\n",
              "  </tbody>\n",
              "</table>\n",
              "</div>\n",
              "      <button class=\"colab-df-convert\" onclick=\"convertToInteractive('df-f3f9dc90-17cc-48d3-b1d9-5af8ae379d92')\"\n",
              "              title=\"Convert this dataframe to an interactive table.\"\n",
              "              style=\"display:none;\">\n",
              "        \n",
              "  <svg xmlns=\"http://www.w3.org/2000/svg\" height=\"24px\"viewBox=\"0 0 24 24\"\n",
              "       width=\"24px\">\n",
              "    <path d=\"M0 0h24v24H0V0z\" fill=\"none\"/>\n",
              "    <path d=\"M18.56 5.44l.94 2.06.94-2.06 2.06-.94-2.06-.94-.94-2.06-.94 2.06-2.06.94zm-11 1L8.5 8.5l.94-2.06 2.06-.94-2.06-.94L8.5 2.5l-.94 2.06-2.06.94zm10 10l.94 2.06.94-2.06 2.06-.94-2.06-.94-.94-2.06-.94 2.06-2.06.94z\"/><path d=\"M17.41 7.96l-1.37-1.37c-.4-.4-.92-.59-1.43-.59-.52 0-1.04.2-1.43.59L10.3 9.45l-7.72 7.72c-.78.78-.78 2.05 0 2.83L4 21.41c.39.39.9.59 1.41.59.51 0 1.02-.2 1.41-.59l7.78-7.78 2.81-2.81c.8-.78.8-2.07 0-2.86zM5.41 20L4 18.59l7.72-7.72 1.47 1.35L5.41 20z\"/>\n",
              "  </svg>\n",
              "      </button>\n",
              "      \n",
              "  <style>\n",
              "    .colab-df-container {\n",
              "      display:flex;\n",
              "      flex-wrap:wrap;\n",
              "      gap: 12px;\n",
              "    }\n",
              "\n",
              "    .colab-df-convert {\n",
              "      background-color: #E8F0FE;\n",
              "      border: none;\n",
              "      border-radius: 50%;\n",
              "      cursor: pointer;\n",
              "      display: none;\n",
              "      fill: #1967D2;\n",
              "      height: 32px;\n",
              "      padding: 0 0 0 0;\n",
              "      width: 32px;\n",
              "    }\n",
              "\n",
              "    .colab-df-convert:hover {\n",
              "      background-color: #E2EBFA;\n",
              "      box-shadow: 0px 1px 2px rgba(60, 64, 67, 0.3), 0px 1px 3px 1px rgba(60, 64, 67, 0.15);\n",
              "      fill: #174EA6;\n",
              "    }\n",
              "\n",
              "    [theme=dark] .colab-df-convert {\n",
              "      background-color: #3B4455;\n",
              "      fill: #D2E3FC;\n",
              "    }\n",
              "\n",
              "    [theme=dark] .colab-df-convert:hover {\n",
              "      background-color: #434B5C;\n",
              "      box-shadow: 0px 1px 3px 1px rgba(0, 0, 0, 0.15);\n",
              "      filter: drop-shadow(0px 1px 2px rgba(0, 0, 0, 0.3));\n",
              "      fill: #FFFFFF;\n",
              "    }\n",
              "  </style>\n",
              "\n",
              "      <script>\n",
              "        const buttonEl =\n",
              "          document.querySelector('#df-f3f9dc90-17cc-48d3-b1d9-5af8ae379d92 button.colab-df-convert');\n",
              "        buttonEl.style.display =\n",
              "          google.colab.kernel.accessAllowed ? 'block' : 'none';\n",
              "\n",
              "        async function convertToInteractive(key) {\n",
              "          const element = document.querySelector('#df-f3f9dc90-17cc-48d3-b1d9-5af8ae379d92');\n",
              "          const dataTable =\n",
              "            await google.colab.kernel.invokeFunction('convertToInteractive',\n",
              "                                                     [key], {});\n",
              "          if (!dataTable) return;\n",
              "\n",
              "          const docLinkHtml = 'Like what you see? Visit the ' +\n",
              "            '<a target=\"_blank\" href=https://colab.research.google.com/notebooks/data_table.ipynb>data table notebook</a>'\n",
              "            + ' to learn more about interactive tables.';\n",
              "          element.innerHTML = '';\n",
              "          dataTable['output_type'] = 'display_data';\n",
              "          await google.colab.output.renderOutput(dataTable, element);\n",
              "          const docLink = document.createElement('div');\n",
              "          docLink.innerHTML = docLinkHtml;\n",
              "          element.appendChild(docLink);\n",
              "        }\n",
              "      </script>\n",
              "    </div>\n",
              "  </div>\n",
              "  "
            ],
            "text/plain": [
              "Empty DataFrame\n",
              "Columns: [reference_title, similar_title, ref_section_label, similar_section_label, score]\n",
              "Index: []"
            ]
          },
          "metadata": {},
          "execution_count": 84
        }
      ]
    },
    {
      "cell_type": "code",
      "metadata": {
        "id": "RX2JvEEGPGgS"
      },
      "source": [
        "if use_wandb:\n",
        "  wandb.log({\"scores_hist\": fig})"
      ],
      "execution_count": null,
      "outputs": []
    },
    {
      "cell_type": "code",
      "metadata": {
        "colab": {
          "base_uri": "https://localhost:8080/",
          "height": 1000
        },
        "id": "7N81-XfdDFKV",
        "outputId": "31bdf5d0-d544-46e5-91f4-273c6af0ec4c"
      },
      "source": [
        "result, details = recommend_tune(df_sim, 'These Foolish Things [jazz1350]')\n",
        "result.head(30)"
      ],
      "execution_count": null,
      "outputs": [
        {
          "output_type": "execute_result",
          "data": {
            "text/html": [
              "\n",
              "  <div id=\"df-67c35136-13ba-494f-9d7b-c1af1188e8cb\">\n",
              "    <div class=\"colab-df-container\">\n",
              "      <div>\n",
              "<style scoped>\n",
              "    .dataframe tbody tr th:only-of-type {\n",
              "        vertical-align: middle;\n",
              "    }\n",
              "\n",
              "    .dataframe tbody tr th {\n",
              "        vertical-align: top;\n",
              "    }\n",
              "\n",
              "    .dataframe thead th {\n",
              "        text-align: right;\n",
              "    }\n",
              "</style>\n",
              "<table border=\"1\" class=\"dataframe\">\n",
              "  <thead>\n",
              "    <tr style=\"text-align: right;\">\n",
              "      <th></th>\n",
              "      <th>index</th>\n",
              "      <th>reference</th>\n",
              "      <th>reference_titleid</th>\n",
              "      <th>similar_title</th>\n",
              "      <th>score</th>\n",
              "      <th>max</th>\n",
              "      <th>score_div_max</th>\n",
              "      <th>similar_titleid</th>\n",
              "    </tr>\n",
              "  </thead>\n",
              "  <tbody>\n",
              "    <tr>\n",
              "      <th>0</th>\n",
              "      <td>0</td>\n",
              "      <td>These Foolish Things [jazz1350]</td>\n",
              "      <td>1159</td>\n",
              "      <td>More Than You Know [jazz1350]</td>\n",
              "      <td>0.916515</td>\n",
              "      <td>0.916515</td>\n",
              "      <td>1.000000</td>\n",
              "      <td>822</td>\n",
              "    </tr>\n",
              "    <tr>\n",
              "      <th>1</th>\n",
              "      <td>1</td>\n",
              "      <td>These Foolish Things [jazz1350]</td>\n",
              "      <td>1159</td>\n",
              "      <td>Way You Look Tonight, The [jazz1350]</td>\n",
              "      <td>0.942543</td>\n",
              "      <td>0.954669</td>\n",
              "      <td>0.994969</td>\n",
              "      <td>1244</td>\n",
              "    </tr>\n",
              "    <tr>\n",
              "      <th>2</th>\n",
              "      <td>2</td>\n",
              "      <td>These Foolish Things [jazz1350]</td>\n",
              "      <td>1159</td>\n",
              "      <td>Party's Over, The [jazz1350]</td>\n",
              "      <td>0.922840</td>\n",
              "      <td>0.954669</td>\n",
              "      <td>0.991636</td>\n",
              "      <td>928</td>\n",
              "    </tr>\n",
              "    <tr>\n",
              "      <th>3</th>\n",
              "      <td>3</td>\n",
              "      <td>These Foolish Things [jazz1350]</td>\n",
              "      <td>1159</td>\n",
              "      <td>It's Easy To Remember [jazz1350]</td>\n",
              "      <td>0.951817</td>\n",
              "      <td>0.954669</td>\n",
              "      <td>0.984507</td>\n",
              "      <td>631</td>\n",
              "    </tr>\n",
              "    <tr>\n",
              "      <th>4</th>\n",
              "      <td>4</td>\n",
              "      <td>These Foolish Things [jazz1350]</td>\n",
              "      <td>1159</td>\n",
              "      <td>Look To The Rainbow [jazz1350]</td>\n",
              "      <td>0.895809</td>\n",
              "      <td>0.911765</td>\n",
              "      <td>0.982500</td>\n",
              "      <td>735</td>\n",
              "    </tr>\n",
              "    <tr>\n",
              "      <th>5</th>\n",
              "      <td>5</td>\n",
              "      <td>These Foolish Things [jazz1350]</td>\n",
              "      <td>1159</td>\n",
              "      <td>I've Got You Under My Skin [jazz1350]</td>\n",
              "      <td>0.895171</td>\n",
              "      <td>0.911765</td>\n",
              "      <td>0.981801</td>\n",
              "      <td>562</td>\n",
              "    </tr>\n",
              "    <tr>\n",
              "      <th>6</th>\n",
              "      <td>6</td>\n",
              "      <td>These Foolish Things [jazz1350]</td>\n",
              "      <td>1159</td>\n",
              "      <td>Mean To Me [jazz1350]</td>\n",
              "      <td>0.893260</td>\n",
              "      <td>0.911765</td>\n",
              "      <td>0.979704</td>\n",
              "      <td>776</td>\n",
              "    </tr>\n",
              "    <tr>\n",
              "      <th>7</th>\n",
              "      <td>7</td>\n",
              "      <td>These Foolish Things [jazz1350]</td>\n",
              "      <td>1159</td>\n",
              "      <td>And The Angels Sing [jazz1350]</td>\n",
              "      <td>0.920751</td>\n",
              "      <td>0.954669</td>\n",
              "      <td>0.979704</td>\n",
              "      <td>78</td>\n",
              "    </tr>\n",
              "    <tr>\n",
              "      <th>8</th>\n",
              "      <td>8</td>\n",
              "      <td>These Foolish Things [jazz1350]</td>\n",
              "      <td>1159</td>\n",
              "      <td>They All Laughed [jazz1350]</td>\n",
              "      <td>0.928085</td>\n",
              "      <td>0.954669</td>\n",
              "      <td>0.979704</td>\n",
              "      <td>1160</td>\n",
              "    </tr>\n",
              "    <tr>\n",
              "      <th>9</th>\n",
              "      <td>9</td>\n",
              "      <td>These Foolish Things [jazz1350]</td>\n",
              "      <td>1159</td>\n",
              "      <td>'Tain't No Sin To Take Off Your Skin [trad]</td>\n",
              "      <td>0.893089</td>\n",
              "      <td>0.911765</td>\n",
              "      <td>0.979517</td>\n",
              "      <td>1330</td>\n",
              "    </tr>\n",
              "    <tr>\n",
              "      <th>10</th>\n",
              "      <td>10</td>\n",
              "      <td>These Foolish Things [jazz1350]</td>\n",
              "      <td>1159</td>\n",
              "      <td>Rosalie [trad]</td>\n",
              "      <td>0.918361</td>\n",
              "      <td>0.939280</td>\n",
              "      <td>0.978148</td>\n",
              "      <td>1582</td>\n",
              "    </tr>\n",
              "    <tr>\n",
              "      <th>11</th>\n",
              "      <td>11</td>\n",
              "      <td>These Foolish Things [jazz1350]</td>\n",
              "      <td>1159</td>\n",
              "      <td>It's A Lovely Day Today [jazz1350]</td>\n",
              "      <td>0.913088</td>\n",
              "      <td>0.933217</td>\n",
              "      <td>0.978136</td>\n",
              "      <td>626</td>\n",
              "    </tr>\n",
              "    <tr>\n",
              "      <th>12</th>\n",
              "      <td>12</td>\n",
              "      <td>These Foolish Things [jazz1350]</td>\n",
              "      <td>1159</td>\n",
              "      <td>Rosetta [jazz1350]</td>\n",
              "      <td>0.895443</td>\n",
              "      <td>0.916515</td>\n",
              "      <td>0.977008</td>\n",
              "      <td>989</td>\n",
              "    </tr>\n",
              "    <tr>\n",
              "      <th>13</th>\n",
              "      <td>13</td>\n",
              "      <td>These Foolish Things [jazz1350]</td>\n",
              "      <td>1159</td>\n",
              "      <td>Miss Otis Regrets [trad]</td>\n",
              "      <td>0.917141</td>\n",
              "      <td>0.939280</td>\n",
              "      <td>0.976667</td>\n",
              "      <td>1534</td>\n",
              "    </tr>\n",
              "    <tr>\n",
              "      <th>14</th>\n",
              "      <td>14</td>\n",
              "      <td>These Foolish Things [jazz1350]</td>\n",
              "      <td>1159</td>\n",
              "      <td>Stairway To The Stars [jazz1350]</td>\n",
              "      <td>0.932095</td>\n",
              "      <td>0.954669</td>\n",
              "      <td>0.975358</td>\n",
              "      <td>1089</td>\n",
              "    </tr>\n",
              "    <tr>\n",
              "      <th>15</th>\n",
              "      <td>15</td>\n",
              "      <td>These Foolish Things [jazz1350]</td>\n",
              "      <td>1159</td>\n",
              "      <td>Bewitched [jazz1350]</td>\n",
              "      <td>0.926302</td>\n",
              "      <td>0.954669</td>\n",
              "      <td>0.975229</td>\n",
              "      <td>130</td>\n",
              "    </tr>\n",
              "    <tr>\n",
              "      <th>16</th>\n",
              "      <td>16</td>\n",
              "      <td>These Foolish Things [jazz1350]</td>\n",
              "      <td>1159</td>\n",
              "      <td>I Don't Want To Miss Mississippi [jazz1350]</td>\n",
              "      <td>0.915110</td>\n",
              "      <td>0.939280</td>\n",
              "      <td>0.974624</td>\n",
              "      <td>493</td>\n",
              "    </tr>\n",
              "    <tr>\n",
              "      <th>17</th>\n",
              "      <td>17</td>\n",
              "      <td>These Foolish Things [jazz1350]</td>\n",
              "      <td>1159</td>\n",
              "      <td>I Like The Likes Of You [jazz1350]</td>\n",
              "      <td>0.910642</td>\n",
              "      <td>0.911765</td>\n",
              "      <td>0.974528</td>\n",
              "      <td>510</td>\n",
              "    </tr>\n",
              "    <tr>\n",
              "      <th>18</th>\n",
              "      <td>18</td>\n",
              "      <td>These Foolish Things [jazz1350]</td>\n",
              "      <td>1159</td>\n",
              "      <td>If There Is Someone Lovelier [jazz1350]</td>\n",
              "      <td>0.910182</td>\n",
              "      <td>0.954669</td>\n",
              "      <td>0.974437</td>\n",
              "      <td>576</td>\n",
              "    </tr>\n",
              "    <tr>\n",
              "      <th>19</th>\n",
              "      <td>19</td>\n",
              "      <td>These Foolish Things [jazz1350]</td>\n",
              "      <td>1159</td>\n",
              "      <td>Clarinet Marmalade [trad]</td>\n",
              "      <td>0.886844</td>\n",
              "      <td>0.911765</td>\n",
              "      <td>0.972668</td>\n",
              "      <td>1405</td>\n",
              "    </tr>\n",
              "    <tr>\n",
              "      <th>20</th>\n",
              "      <td>20</td>\n",
              "      <td>These Foolish Things [jazz1350]</td>\n",
              "      <td>1159</td>\n",
              "      <td>Far Away Blues [trad]</td>\n",
              "      <td>0.886844</td>\n",
              "      <td>0.911765</td>\n",
              "      <td>0.972668</td>\n",
              "      <td>1442</td>\n",
              "    </tr>\n",
              "    <tr>\n",
              "      <th>21</th>\n",
              "      <td>21</td>\n",
              "      <td>These Foolish Things [jazz1350]</td>\n",
              "      <td>1159</td>\n",
              "      <td>All The Way [jazz1350]</td>\n",
              "      <td>0.912779</td>\n",
              "      <td>0.939280</td>\n",
              "      <td>0.972342</td>\n",
              "      <td>64</td>\n",
              "    </tr>\n",
              "    <tr>\n",
              "      <th>22</th>\n",
              "      <td>22</td>\n",
              "      <td>These Foolish Things [jazz1350]</td>\n",
              "      <td>1159</td>\n",
              "      <td>Cottontail [jazz1350]</td>\n",
              "      <td>0.890264</td>\n",
              "      <td>0.911765</td>\n",
              "      <td>0.971825</td>\n",
              "      <td>256</td>\n",
              "    </tr>\n",
              "    <tr>\n",
              "      <th>23</th>\n",
              "      <td>23</td>\n",
              "      <td>These Foolish Things [jazz1350]</td>\n",
              "      <td>1159</td>\n",
              "      <td>Good Life, The [jazz1350]</td>\n",
              "      <td>0.886076</td>\n",
              "      <td>0.911765</td>\n",
              "      <td>0.971825</td>\n",
              "      <td>432</td>\n",
              "    </tr>\n",
              "    <tr>\n",
              "      <th>24</th>\n",
              "      <td>24</td>\n",
              "      <td>These Foolish Things [jazz1350]</td>\n",
              "      <td>1159</td>\n",
              "      <td>You Are Too Beautiful [jazz1350]</td>\n",
              "      <td>0.886076</td>\n",
              "      <td>0.911765</td>\n",
              "      <td>0.971825</td>\n",
              "      <td>1299</td>\n",
              "    </tr>\n",
              "    <tr>\n",
              "      <th>25</th>\n",
              "      <td>25</td>\n",
              "      <td>These Foolish Things [jazz1350]</td>\n",
              "      <td>1159</td>\n",
              "      <td>For Once In My Life [jazz1350]</td>\n",
              "      <td>0.905516</td>\n",
              "      <td>0.933217</td>\n",
              "      <td>0.970491</td>\n",
              "      <td>392</td>\n",
              "    </tr>\n",
              "    <tr>\n",
              "      <th>26</th>\n",
              "      <td>26</td>\n",
              "      <td>These Foolish Things [jazz1350]</td>\n",
              "      <td>1159</td>\n",
              "      <td>For You, For Me, For Evermore [jazz1350]</td>\n",
              "      <td>0.911212</td>\n",
              "      <td>0.939280</td>\n",
              "      <td>0.970292</td>\n",
              "      <td>394</td>\n",
              "    </tr>\n",
              "    <tr>\n",
              "      <th>27</th>\n",
              "      <td>27</td>\n",
              "      <td>These Foolish Things [jazz1350]</td>\n",
              "      <td>1159</td>\n",
              "      <td>Easy Street [jazz1350]</td>\n",
              "      <td>0.926302</td>\n",
              "      <td>0.954669</td>\n",
              "      <td>0.970286</td>\n",
              "      <td>338</td>\n",
              "    </tr>\n",
              "    <tr>\n",
              "      <th>28</th>\n",
              "      <td>28</td>\n",
              "      <td>These Foolish Things [jazz1350]</td>\n",
              "      <td>1159</td>\n",
              "      <td>You Keep Coming Back Like A Song [jazz1350]</td>\n",
              "      <td>0.910894</td>\n",
              "      <td>0.939280</td>\n",
              "      <td>0.969899</td>\n",
              "      <td>1307</td>\n",
              "    </tr>\n",
              "    <tr>\n",
              "      <th>29</th>\n",
              "      <td>29</td>\n",
              "      <td>These Foolish Things [jazz1350]</td>\n",
              "      <td>1159</td>\n",
              "      <td>Let's Fall In Love [jazz1350]</td>\n",
              "      <td>0.928955</td>\n",
              "      <td>0.960732</td>\n",
              "      <td>0.966952</td>\n",
              "      <td>701</td>\n",
              "    </tr>\n",
              "  </tbody>\n",
              "</table>\n",
              "</div>\n",
              "      <button class=\"colab-df-convert\" onclick=\"convertToInteractive('df-67c35136-13ba-494f-9d7b-c1af1188e8cb')\"\n",
              "              title=\"Convert this dataframe to an interactive table.\"\n",
              "              style=\"display:none;\">\n",
              "        \n",
              "  <svg xmlns=\"http://www.w3.org/2000/svg\" height=\"24px\"viewBox=\"0 0 24 24\"\n",
              "       width=\"24px\">\n",
              "    <path d=\"M0 0h24v24H0V0z\" fill=\"none\"/>\n",
              "    <path d=\"M18.56 5.44l.94 2.06.94-2.06 2.06-.94-2.06-.94-.94-2.06-.94 2.06-2.06.94zm-11 1L8.5 8.5l.94-2.06 2.06-.94-2.06-.94L8.5 2.5l-.94 2.06-2.06.94zm10 10l.94 2.06.94-2.06 2.06-.94-2.06-.94-.94-2.06-.94 2.06-2.06.94z\"/><path d=\"M17.41 7.96l-1.37-1.37c-.4-.4-.92-.59-1.43-.59-.52 0-1.04.2-1.43.59L10.3 9.45l-7.72 7.72c-.78.78-.78 2.05 0 2.83L4 21.41c.39.39.9.59 1.41.59.51 0 1.02-.2 1.41-.59l7.78-7.78 2.81-2.81c.8-.78.8-2.07 0-2.86zM5.41 20L4 18.59l7.72-7.72 1.47 1.35L5.41 20z\"/>\n",
              "  </svg>\n",
              "      </button>\n",
              "      \n",
              "  <style>\n",
              "    .colab-df-container {\n",
              "      display:flex;\n",
              "      flex-wrap:wrap;\n",
              "      gap: 12px;\n",
              "    }\n",
              "\n",
              "    .colab-df-convert {\n",
              "      background-color: #E8F0FE;\n",
              "      border: none;\n",
              "      border-radius: 50%;\n",
              "      cursor: pointer;\n",
              "      display: none;\n",
              "      fill: #1967D2;\n",
              "      height: 32px;\n",
              "      padding: 0 0 0 0;\n",
              "      width: 32px;\n",
              "    }\n",
              "\n",
              "    .colab-df-convert:hover {\n",
              "      background-color: #E2EBFA;\n",
              "      box-shadow: 0px 1px 2px rgba(60, 64, 67, 0.3), 0px 1px 3px 1px rgba(60, 64, 67, 0.15);\n",
              "      fill: #174EA6;\n",
              "    }\n",
              "\n",
              "    [theme=dark] .colab-df-convert {\n",
              "      background-color: #3B4455;\n",
              "      fill: #D2E3FC;\n",
              "    }\n",
              "\n",
              "    [theme=dark] .colab-df-convert:hover {\n",
              "      background-color: #434B5C;\n",
              "      box-shadow: 0px 1px 3px 1px rgba(0, 0, 0, 0.15);\n",
              "      filter: drop-shadow(0px 1px 2px rgba(0, 0, 0, 0.3));\n",
              "      fill: #FFFFFF;\n",
              "    }\n",
              "  </style>\n",
              "\n",
              "      <script>\n",
              "        const buttonEl =\n",
              "          document.querySelector('#df-67c35136-13ba-494f-9d7b-c1af1188e8cb button.colab-df-convert');\n",
              "        buttonEl.style.display =\n",
              "          google.colab.kernel.accessAllowed ? 'block' : 'none';\n",
              "\n",
              "        async function convertToInteractive(key) {\n",
              "          const element = document.querySelector('#df-67c35136-13ba-494f-9d7b-c1af1188e8cb');\n",
              "          const dataTable =\n",
              "            await google.colab.kernel.invokeFunction('convertToInteractive',\n",
              "                                                     [key], {});\n",
              "          if (!dataTable) return;\n",
              "\n",
              "          const docLinkHtml = 'Like what you see? Visit the ' +\n",
              "            '<a target=\"_blank\" href=https://colab.research.google.com/notebooks/data_table.ipynb>data table notebook</a>'\n",
              "            + ' to learn more about interactive tables.';\n",
              "          element.innerHTML = '';\n",
              "          dataTable['output_type'] = 'display_data';\n",
              "          await google.colab.output.renderOutput(dataTable, element);\n",
              "          const docLink = document.createElement('div');\n",
              "          docLink.innerHTML = docLinkHtml;\n",
              "          element.appendChild(docLink);\n",
              "        }\n",
              "      </script>\n",
              "    </div>\n",
              "  </div>\n",
              "  "
            ],
            "text/plain": [
              "    index                        reference  reference_titleid                                similar_title     score       max  score_div_max  similar_titleid\n",
              "0       0  These Foolish Things [jazz1350]               1159                More Than You Know [jazz1350]  0.916515  0.916515       1.000000              822\n",
              "1       1  These Foolish Things [jazz1350]               1159         Way You Look Tonight, The [jazz1350]  0.942543  0.954669       0.994969             1244\n",
              "2       2  These Foolish Things [jazz1350]               1159                 Party's Over, The [jazz1350]  0.922840  0.954669       0.991636              928\n",
              "3       3  These Foolish Things [jazz1350]               1159             It's Easy To Remember [jazz1350]  0.951817  0.954669       0.984507              631\n",
              "4       4  These Foolish Things [jazz1350]               1159               Look To The Rainbow [jazz1350]  0.895809  0.911765       0.982500              735\n",
              "5       5  These Foolish Things [jazz1350]               1159        I've Got You Under My Skin [jazz1350]  0.895171  0.911765       0.981801              562\n",
              "6       6  These Foolish Things [jazz1350]               1159                        Mean To Me [jazz1350]  0.893260  0.911765       0.979704              776\n",
              "7       7  These Foolish Things [jazz1350]               1159               And The Angels Sing [jazz1350]  0.920751  0.954669       0.979704               78\n",
              "8       8  These Foolish Things [jazz1350]               1159                  They All Laughed [jazz1350]  0.928085  0.954669       0.979704             1160\n",
              "9       9  These Foolish Things [jazz1350]               1159  'Tain't No Sin To Take Off Your Skin [trad]  0.893089  0.911765       0.979517             1330\n",
              "10     10  These Foolish Things [jazz1350]               1159                               Rosalie [trad]  0.918361  0.939280       0.978148             1582\n",
              "11     11  These Foolish Things [jazz1350]               1159           It's A Lovely Day Today [jazz1350]  0.913088  0.933217       0.978136              626\n",
              "12     12  These Foolish Things [jazz1350]               1159                           Rosetta [jazz1350]  0.895443  0.916515       0.977008              989\n",
              "13     13  These Foolish Things [jazz1350]               1159                     Miss Otis Regrets [trad]  0.917141  0.939280       0.976667             1534\n",
              "14     14  These Foolish Things [jazz1350]               1159             Stairway To The Stars [jazz1350]  0.932095  0.954669       0.975358             1089\n",
              "15     15  These Foolish Things [jazz1350]               1159                         Bewitched [jazz1350]  0.926302  0.954669       0.975229              130\n",
              "16     16  These Foolish Things [jazz1350]               1159  I Don't Want To Miss Mississippi [jazz1350]  0.915110  0.939280       0.974624              493\n",
              "17     17  These Foolish Things [jazz1350]               1159           I Like The Likes Of You [jazz1350]  0.910642  0.911765       0.974528              510\n",
              "18     18  These Foolish Things [jazz1350]               1159      If There Is Someone Lovelier [jazz1350]  0.910182  0.954669       0.974437              576\n",
              "19     19  These Foolish Things [jazz1350]               1159                    Clarinet Marmalade [trad]  0.886844  0.911765       0.972668             1405\n",
              "20     20  These Foolish Things [jazz1350]               1159                        Far Away Blues [trad]  0.886844  0.911765       0.972668             1442\n",
              "21     21  These Foolish Things [jazz1350]               1159                       All The Way [jazz1350]  0.912779  0.939280       0.972342               64\n",
              "22     22  These Foolish Things [jazz1350]               1159                        Cottontail [jazz1350]  0.890264  0.911765       0.971825              256\n",
              "23     23  These Foolish Things [jazz1350]               1159                    Good Life, The [jazz1350]  0.886076  0.911765       0.971825              432\n",
              "24     24  These Foolish Things [jazz1350]               1159             You Are Too Beautiful [jazz1350]  0.886076  0.911765       0.971825             1299\n",
              "25     25  These Foolish Things [jazz1350]               1159               For Once In My Life [jazz1350]  0.905516  0.933217       0.970491              392\n",
              "26     26  These Foolish Things [jazz1350]               1159     For You, For Me, For Evermore [jazz1350]  0.911212  0.939280       0.970292              394\n",
              "27     27  These Foolish Things [jazz1350]               1159                       Easy Street [jazz1350]  0.926302  0.954669       0.970286              338\n",
              "28     28  These Foolish Things [jazz1350]               1159  You Keep Coming Back Like A Song [jazz1350]  0.910894  0.939280       0.969899             1307\n",
              "29     29  These Foolish Things [jazz1350]               1159                Let's Fall In Love [jazz1350]  0.928955  0.960732       0.966952              701"
            ]
          },
          "metadata": {},
          "execution_count": 86
        }
      ]
    },
    {
      "cell_type": "code",
      "metadata": {
        "id": "15ZsHOQmyyah"
      },
      "source": [
        "dd = pd.DataFrame(columns = recommender_results_cols)\n",
        "\n",
        "for tune in tunes_eval_list:\n",
        "  result, details = recommend_tune(df_sim, tune)\n",
        "  dd['id'] = result['index']\n",
        "  dd['reference'] = tune\n",
        "  dd['method'] = 'lsi'\n",
        "  dd['similar'] = result['similar_title']\n",
        "  dd['score_div_max'] = result['score_div_max']\n",
        "  dd['score'] = result['score']\n",
        "\n",
        "recommender_results = recommender_results.append(dd)"
      ],
      "execution_count": null,
      "outputs": []
    },
    {
      "cell_type": "markdown",
      "metadata": {
        "id": "Ojrjp11ni6Pl"
      },
      "source": [
        "### Tests for Contrafacts"
      ]
    },
    {
      "cell_type": "code",
      "metadata": {
        "colab": {
          "base_uri": "https://localhost:8080/"
        },
        "id": "cXBfeHBl00Zh",
        "outputId": "f471fada-c816-480e-a816-b9e7ff3da01f"
      },
      "source": [
        "len(results)"
      ],
      "execution_count": null,
      "outputs": [
        {
          "output_type": "execute_result",
          "data": {
            "text/plain": [
              "111"
            ]
          },
          "metadata": {},
          "execution_count": 88
        }
      ]
    },
    {
      "cell_type": "code",
      "metadata": {
        "colab": {
          "base_uri": "https://localhost:8080/"
        },
        "id": "KbjSJgwp02ED",
        "outputId": "16ce8ee5-1196-4154-c49e-28bd5e42dcbf"
      },
      "source": [
        "len(contrafacts)"
      ],
      "execution_count": null,
      "outputs": [
        {
          "output_type": "execute_result",
          "data": {
            "text/plain": [
              "111"
            ]
          },
          "metadata": {},
          "execution_count": 89
        }
      ]
    },
    {
      "cell_type": "code",
      "metadata": {
        "colab": {
          "base_uri": "https://localhost:8080/"
        },
        "id": "vHeA-a-20_Bj",
        "outputId": "6f3a9bae-4e33-4b85-994d-5d08c47aa6f8"
      },
      "source": [
        "contrafacts"
      ],
      "execution_count": null,
      "outputs": [
        {
          "output_type": "execute_result",
          "data": {
            "text/plain": [
              "[('26-2 [jazz1350]', 'Confirmation [jazz1350]'),\n",
              " ('52nd Street Theme [jazz1350]', 'I Got Rhythm [jazz1350]'),\n",
              " ('Ablution [jazz1350]', 'All The Things You Are [jazz1350]'),\n",
              " ('Anthropology [jazz1350]', 'I Got Rhythm [jazz1350]'),\n",
              " ('Ballade [jazz1350]', 'As Long As I Live [jazz1350]'),\n",
              " ('Bright Mississippi [jazz1350]', 'Sweet Georgia Brown [jazz1350]'),\n",
              " ('C.T.A. [jazz1350]', 'I Got Rhythm [jazz1350]'),\n",
              " ('Cottontail [jazz1350]', 'I Got Rhythm [jazz1350]'),\n",
              " ('Countdown [jazz1350]', 'Tune Up [jazz1350]'),\n",
              " ('Dewey Square [jazz1350]', 'Oh, Lady Be Good [jazz1350]'),\n",
              " ('Dexterity [jazz1350]', 'I Got Rhythm [jazz1350]'),\n",
              " ('Dig [jazz1350]', 'Sweet Georgia Brown [jazz1350]'),\n",
              " ('Donna Lee [jazz1350]', 'Indiana (Back Home Again In) [jazz1350]'),\n",
              " (\"Don't Be That Way [jazz1350]\", 'I Got Rhythm [jazz1350]'),\n",
              " ('Evidence [jazz1350]', 'Just You, Just Me [jazz1350]'),\n",
              " ('Flintstones [jazz1350]', 'I Got Rhythm [jazz1350]'),\n",
              " ('Four On Six [jazz1350]', 'Summertime [jazz1350]'),\n",
              " ('Freight Train [jazz1350]', 'Blues For Alice [jazz1350]'),\n",
              " ('Good Bait [jazz1350]', 'I Got Rhythm [jazz1350]'),\n",
              " ('Hackensack [jazz1350]', 'Oh, Lady Be Good [jazz1350]'),\n",
              " ('Half Nelson [jazz1350]', 'Lady Bird [jazz1350]'),\n",
              " ('Hot House [jazz1350]', 'What Is This Thing Called Love [jazz1350]'),\n",
              " ('Impressions [jazz1350]', 'So What [jazz1350]'),\n",
              " ('In A Mellow Tone (In A Mellotone) [jazz1350]', 'Rose Room [jazz1350]'),\n",
              " ('In Walked Bud [jazz1350]', 'Blue Skies [jazz1350]'),\n",
              " ('Ko Ko [jazz1350]', 'Cherokee [jazz1350]'),\n",
              " (\"Lennie's Pennies [jazz1350]\", 'Pennies From Heaven [jazz1350]'),\n",
              " ('Little Rootie Tootie [jazz1350]', 'I Got Rhythm [jazz1350]'),\n",
              " ('Little Willie Leaps [jazz1350]', \"All God's Chillun Got Rhythm [jazz1350]\"),\n",
              " ('Lullaby Of Birdland [jazz1350]', 'Love Me Or Leave Me [jazz1350]'),\n",
              " ('My Little Suede Shoes [jazz1350]', 'Jeepers Creepers [jazz1350]'),\n",
              " ('Ornithology [jazz1350]', 'How High The Moon [jazz1350]'),\n",
              " ('Quasimodo (Theme) [jazz1350]', 'Embraceable You [jazz1350]'),\n",
              " ('Room 608 [jazz1350]', 'I Got Rhythm [jazz1350]'),\n",
              " ('Satellite [jazz1350]', 'How High The Moon [jazz1350]'),\n",
              " ('Scrapple From The Apple [jazz1350]', 'Honeysuckle Rose [jazz1350]'),\n",
              " ('Scrapple From The Apple [jazz1350]', 'I Got Rhythm [jazz1350]'),\n",
              " ('Tour De Force [jazz1350]', 'Jeepers Creepers [jazz1350]'),\n",
              " ('Wow [jazz1350]', 'You Can Depend On Me [jazz1350]'),\n",
              " ('Yardbird Suite [jazz1350]', 'Rosetta [jazz1350]'),\n",
              " ('Sweet Sue, Just You [jazz1350]', 'Honeysuckle Rose [jazz1350]'),\n",
              " ('Sweet Sue, Just You [jazz1350]', 'Bye Bye Blackbird [jazz1350]'),\n",
              " ('These Foolish Things [jazz1350]', 'Blue Moon [jazz1350]'),\n",
              " ('These Foolish Things [jazz1350]', 'More Than You Know [jazz1350]'),\n",
              " ('These Foolish Things [jazz1350]', \"Isn't It A Pity [jazz1350]\"),\n",
              " ('These Foolish Things [jazz1350]', 'Soultrane [jazz1350]'),\n",
              " ('These Foolish Things [jazz1350]', 'Why Do I Love You [jazz1350]'),\n",
              " ('Misty [jazz1350]', 'Portrait Of Jennie [jazz1350]'),\n",
              " ('Misty [jazz1350]', 'September In The Rain [jazz1350]'),\n",
              " ('Misty [jazz1350]', 'I May Be Wrong [jazz1350]'),\n",
              " ('Five Foot Two [trad]', \"Please Don't Talk About Me When I'm Gone [trad]\"),\n",
              " ('What Is This Thing Called Love [jazz1350]', 'Subconscious Lee [jazz1350]'),\n",
              " ('Sweet Georgia Brown [jazz1350]', 'Dig [jazz1350]'),\n",
              " ('What Is This Thing Called Love [jazz1350]', 'Hot House [jazz1350]'),\n",
              " (\"Jeannie's Song [jazz1350]\", 'Shiny Stockings [jazz1350]'),\n",
              " ('Alone Together [jazz1350]', 'Segment [jazz1350]'),\n",
              " ('Baubles, Bangles and Beads [jazz1350]', 'Bossa Antigua [jazz1350]'),\n",
              " ('There Will Never Be Another You [jazz1350]',\n",
              "  'A Weaver Of Dreams [jazz1350]'),\n",
              " ('Moten Swing [jazz1350]', 'Once In A While (Ballad) [trad]'),\n",
              " ('All I Do Is Dream Of You [trad]', 'L-O-V-E [jazz1350]'),\n",
              " ('Nancy (With The Laughing Face) [jazz1350]', 'Body And Soul [jazz1350]'),\n",
              " ('Exactly Like You [jazz1350]', \"True (You Don't Love Me ) [trad]\"),\n",
              " ('Exactly Like You [jazz1350]', 'Jersey Bounce [trad]'),\n",
              " ('Take The A Train [jazz1350]', 'Girl From Ipanema, The [jazz1350]'),\n",
              " ('My Heart Stood Still [jazz1350]', 'All Too Soon [jazz1350]'),\n",
              " ('Undecided [jazz1350]', 'Broadway [jazz1350]'),\n",
              " (\"Let's Fall In Love [jazz1350]\", 'Heart And Soul [jazz1350]'),\n",
              " ('Come Back To Me [jazz1350]', 'I Wish I Knew [jazz1350]'),\n",
              " ('Wait Till You See Her [jazz1350]', 'A Certain Smile [jazz1350]'),\n",
              " ('Killer Joe [jazz1350]', 'Straight Life [jazz1350]'),\n",
              " ('Softly, As In A Morning Sunrise [jazz1350]', 'Segment [jazz1350]'),\n",
              " ('Bei Mir Bist Du Schon (Root Hog Or Die) [trad]', 'Egyptian Fantasy [trad]'),\n",
              " ('Bei Mir Bist Du Schon (Root Hog Or Die) [trad]',\n",
              "  \"Puttin' On The Ritz [jazz1350]\"),\n",
              " ('Coquette [trad]', \"Pretend You're Happy When You're Blue [trad]\"),\n",
              " ('Softly, As In A Morning Sunrise [jazz1350]', 'Strode Rode [jazz1350]'),\n",
              " ('Glory Of Love, The [jazz1350]', \"I've Got My Fingers Crossed [trad]\"),\n",
              " ('If I Had You [jazz1350]', 'Too Young To Go Steady [jazz1350]'),\n",
              " ('Undecided [jazz1350]', 'Satin Doll [jazz1350]'),\n",
              " ('Billy Boy [jazz1350]', 'Elora [jazz1350]'),\n",
              " ('Dearly Beloved [jazz1350]', 'We See [jazz1350]'),\n",
              " ('Alone Together [jazz1350]', 'A Night In Tunisia [jazz1350]'),\n",
              " ('A Night In Tunisia [jazz1350]', 'Segment [jazz1350]'),\n",
              " ('Oh! Lady Be Good [trad]', 'Sentimental Journey [jazz1350]'),\n",
              " ('You Can Depend On Me [jazz1350]', 'Move [jazz1350]'),\n",
              " ('I Want To Be Happy [jazz1350]', 'A Beautiful Friendship [jazz1350]'),\n",
              " ('Flying Home [jazz1350]', 'Down For Double [jazz1350]'),\n",
              " ('Cheek To Cheek [jazz1350]', 'Violets For Your Furs [jazz1350]'),\n",
              " (\"Let's Fall In Love [jazz1350]\", 'At Last [jazz1350]'),\n",
              " (\"Don't Be That Way [jazz1350]\", 'Long Ago And Far Away [jazz1350]'),\n",
              " ('On The Sunny Side Of The Street [jazz1350]',\n",
              "  \"I'm Confessin' That I Love You [jazz1350]\"),\n",
              " ('On The Sunny Side Of The Street [jazz1350]', 'Eclypso [jazz1350]'),\n",
              " ('On The Sunny Side Of The Street [jazz1350]',\n",
              "  'You Stepped Out Of A Dream [jazz1350]'),\n",
              " ('I Like The Likes Of You [jazz1350]', 'Mountain Greenery [jazz1350]'),\n",
              " ('My Secret Love [jazz1350]', 'Samba De Orfeu [jazz1350]'),\n",
              " (\"Let's Call The Whole Thing Off [jazz1350]\", 'Fine And Dandy [jazz1350]'),\n",
              " ('Folks Who Live On The Hill, The [jazz1350]',\n",
              "  'My One And Only Love [jazz1350]'),\n",
              " ('As Long As I Live [jazz1350]', \"I'm Glad There Is You [jazz1350]\"),\n",
              " ('I May Be Wrong [jazz1350]', 'Teach Me Tonight [jazz1350]'),\n",
              " ('Am I Blue [jazz1350]', 'Come Back To Me [jazz1350]'),\n",
              " ('My One And Only Love [jazz1350]', 'Am I Blue [jazz1350]'),\n",
              " ('On The Sunny Side Of The Street [jazz1350]',\n",
              "  'September In The Rain [jazz1350]'),\n",
              " ('On The Sunny Side Of The Street [jazz1350]',\n",
              "  'Mountain Greenery [jazz1350]'),\n",
              " ('On The Sunny Side Of The Street [jazz1350]', \"There's No You [jazz1350]\"),\n",
              " ('These Foolish Things [jazz1350]', 'Embraceable You [jazz1350]'),\n",
              " ('These Foolish Things [jazz1350]', 'Rosetta [jazz1350]'),\n",
              " ('Bill Bailey [jazz1350]', 'Bourbon Street Parade [jazz1350]'),\n",
              " (\"Woody'n You [jazz1350]\", 'Stella By Starlight [jazz1350]'),\n",
              " ('Tangerine [jazz1350]', 'Tea For Two [jazz1350]'),\n",
              " (\"I Can't Give You Anything But Love [jazz1350]\",\n",
              "  'You Can Depend On Me [jazz1350]'),\n",
              " (\"This Year's Kisses [jazz1350]\", 'My Monday Date [trad]'),\n",
              " ('A Blossom Fell [jazz1350]', 'Among My Souvenirs [jazz1350]')]"
            ]
          },
          "metadata": {},
          "execution_count": 90
        }
      ]
    },
    {
      "cell_type": "code",
      "metadata": {
        "colab": {
          "base_uri": "https://localhost:8080/"
        },
        "id": "amN5AML908r3",
        "outputId": "80d18761-2e5a-4562-ac86-e99e6e2cfb31"
      },
      "source": [
        "results"
      ],
      "execution_count": null,
      "outputs": [
        {
          "output_type": "execute_result",
          "data": {
            "text/plain": [
              "{'26-2 [jazz1350], Confirmation [jazz1350]': 1,\n",
              " '52nd Street Theme [jazz1350], I Got Rhythm [jazz1350]': 0,\n",
              " 'A Blossom Fell [jazz1350], Among My Souvenirs [jazz1350]': 1,\n",
              " 'A Night In Tunisia [jazz1350], Segment [jazz1350]': 1,\n",
              " 'Ablution [jazz1350], All The Things You Are [jazz1350]': 1,\n",
              " 'All I Do Is Dream Of You [trad], L-O-V-E [jazz1350]': 1,\n",
              " 'Alone Together [jazz1350], A Night In Tunisia [jazz1350]': 1,\n",
              " 'Alone Together [jazz1350], Segment [jazz1350]': 1,\n",
              " 'Am I Blue [jazz1350], Come Back To Me [jazz1350]': 1,\n",
              " 'Anthropology [jazz1350], I Got Rhythm [jazz1350]': 1,\n",
              " \"As Long As I Live [jazz1350], I'm Glad There Is You [jazz1350]\": 1,\n",
              " 'Ballade [jazz1350], As Long As I Live [jazz1350]': 0,\n",
              " 'Baubles, Bangles and Beads [jazz1350], Bossa Antigua [jazz1350]': 1,\n",
              " 'Bei Mir Bist Du Schon (Root Hog Or Die) [trad], Egyptian Fantasy [trad]': 1,\n",
              " \"Bei Mir Bist Du Schon (Root Hog Or Die) [trad], Puttin' On The Ritz [jazz1350]\": 1,\n",
              " 'Bill Bailey [jazz1350], Bourbon Street Parade [jazz1350]': 1,\n",
              " 'Billy Boy [jazz1350], Elora [jazz1350]': 1,\n",
              " 'Bright Mississippi [jazz1350], Sweet Georgia Brown [jazz1350]': 1,\n",
              " 'C.T.A. [jazz1350], I Got Rhythm [jazz1350]': 1,\n",
              " 'Cheek To Cheek [jazz1350], Violets For Your Furs [jazz1350]': 1,\n",
              " 'Come Back To Me [jazz1350], I Wish I Knew [jazz1350]': 1,\n",
              " \"Coquette [trad], Pretend You're Happy When You're Blue [trad]\": 1,\n",
              " 'Cottontail [jazz1350], I Got Rhythm [jazz1350]': 1,\n",
              " 'Countdown [jazz1350], Tune Up [jazz1350]': 1,\n",
              " 'Dearly Beloved [jazz1350], We See [jazz1350]': 1,\n",
              " 'Dewey Square [jazz1350], Oh, Lady Be Good [jazz1350]': 0,\n",
              " 'Dexterity [jazz1350], I Got Rhythm [jazz1350]': 1,\n",
              " 'Dig [jazz1350], Sweet Georgia Brown [jazz1350]': 1,\n",
              " \"Don't Be That Way [jazz1350], I Got Rhythm [jazz1350]\": 0,\n",
              " \"Don't Be That Way [jazz1350], Long Ago And Far Away [jazz1350]\": 1,\n",
              " 'Donna Lee [jazz1350], Indiana (Back Home Again In) [jazz1350]': 1,\n",
              " 'Evidence [jazz1350], Just You, Just Me [jazz1350]': 1,\n",
              " 'Exactly Like You [jazz1350], Jersey Bounce [trad]': 0,\n",
              " \"Exactly Like You [jazz1350], True (You Don't Love Me ) [trad]\": 1,\n",
              " \"Five Foot Two [trad], Please Don't Talk About Me When I'm Gone [trad]\": 1,\n",
              " 'Flintstones [jazz1350], I Got Rhythm [jazz1350]': 1,\n",
              " 'Flying Home [jazz1350], Down For Double [jazz1350]': 1,\n",
              " 'Folks Who Live On The Hill, The [jazz1350], My One And Only Love [jazz1350]': 1,\n",
              " 'Four On Six [jazz1350], Summertime [jazz1350]': 1,\n",
              " 'Freight Train [jazz1350], Blues For Alice [jazz1350]': 1,\n",
              " \"Glory Of Love, The [jazz1350], I've Got My Fingers Crossed [trad]\": 1,\n",
              " 'Good Bait [jazz1350], I Got Rhythm [jazz1350]': 0,\n",
              " 'Hackensack [jazz1350], Oh, Lady Be Good [jazz1350]': 1,\n",
              " 'Half Nelson [jazz1350], Lady Bird [jazz1350]': 1,\n",
              " 'Hot House [jazz1350], What Is This Thing Called Love [jazz1350]': 1,\n",
              " \"I Can't Give You Anything But Love [jazz1350], You Can Depend On Me [jazz1350]\": 1,\n",
              " 'I Like The Likes Of You [jazz1350], Mountain Greenery [jazz1350]': 1,\n",
              " 'I May Be Wrong [jazz1350], Teach Me Tonight [jazz1350]': 1,\n",
              " 'I Want To Be Happy [jazz1350], A Beautiful Friendship [jazz1350]': 1,\n",
              " 'If I Had You [jazz1350], Too Young To Go Steady [jazz1350]': 1,\n",
              " 'Impressions [jazz1350], So What [jazz1350]': 1,\n",
              " 'In A Mellow Tone (In A Mellotone) [jazz1350], Rose Room [jazz1350]': 0,\n",
              " 'In Walked Bud [jazz1350], Blue Skies [jazz1350]': 1,\n",
              " \"Jeannie's Song [jazz1350], Shiny Stockings [jazz1350]\": 1,\n",
              " 'Killer Joe [jazz1350], Straight Life [jazz1350]': 1,\n",
              " 'Ko Ko [jazz1350], Cherokee [jazz1350]': 1,\n",
              " \"Lennie's Pennies [jazz1350], Pennies From Heaven [jazz1350]\": 0,\n",
              " \"Let's Call The Whole Thing Off [jazz1350], Fine And Dandy [jazz1350]\": 0,\n",
              " \"Let's Fall In Love [jazz1350], At Last [jazz1350]\": 1,\n",
              " \"Let's Fall In Love [jazz1350], Heart And Soul [jazz1350]\": 1,\n",
              " 'Little Rootie Tootie [jazz1350], I Got Rhythm [jazz1350]': 0,\n",
              " \"Little Willie Leaps [jazz1350], All God's Chillun Got Rhythm [jazz1350]\": 0,\n",
              " 'Lullaby Of Birdland [jazz1350], Love Me Or Leave Me [jazz1350]': 0,\n",
              " 'Misty [jazz1350], I May Be Wrong [jazz1350]': 1,\n",
              " 'Misty [jazz1350], Portrait Of Jennie [jazz1350]': 1,\n",
              " 'Misty [jazz1350], September In The Rain [jazz1350]': 0,\n",
              " 'Moten Swing [jazz1350], Once In A While (Ballad) [trad]': 1,\n",
              " 'My Heart Stood Still [jazz1350], All Too Soon [jazz1350]': 1,\n",
              " 'My Little Suede Shoes [jazz1350], Jeepers Creepers [jazz1350]': 0,\n",
              " 'My One And Only Love [jazz1350], Am I Blue [jazz1350]': 1,\n",
              " 'My Secret Love [jazz1350], Samba De Orfeu [jazz1350]': 0,\n",
              " 'Nancy (With The Laughing Face) [jazz1350], Body And Soul [jazz1350]': 1,\n",
              " 'Oh! Lady Be Good [trad], Sentimental Journey [jazz1350]': 1,\n",
              " 'On The Sunny Side Of The Street [jazz1350], Eclypso [jazz1350]': 1,\n",
              " \"On The Sunny Side Of The Street [jazz1350], I'm Confessin' That I Love You [jazz1350]\": 1,\n",
              " 'On The Sunny Side Of The Street [jazz1350], Mountain Greenery [jazz1350]': 0,\n",
              " 'On The Sunny Side Of The Street [jazz1350], September In The Rain [jazz1350]': 1,\n",
              " \"On The Sunny Side Of The Street [jazz1350], There's No You [jazz1350]\": 1,\n",
              " 'On The Sunny Side Of The Street [jazz1350], You Stepped Out Of A Dream [jazz1350]': 0,\n",
              " 'Ornithology [jazz1350], How High The Moon [jazz1350]': 1,\n",
              " 'Quasimodo (Theme) [jazz1350], Embraceable You [jazz1350]': 0,\n",
              " 'Room 608 [jazz1350], I Got Rhythm [jazz1350]': 0,\n",
              " 'Satellite [jazz1350], How High The Moon [jazz1350]': 1,\n",
              " 'Scrapple From The Apple [jazz1350], Honeysuckle Rose [jazz1350]': 0,\n",
              " 'Scrapple From The Apple [jazz1350], I Got Rhythm [jazz1350]': 1,\n",
              " 'Softly, As In A Morning Sunrise [jazz1350], Segment [jazz1350]': 1,\n",
              " 'Softly, As In A Morning Sunrise [jazz1350], Strode Rode [jazz1350]': 1,\n",
              " 'Sweet Georgia Brown [jazz1350], Dig [jazz1350]': 1,\n",
              " 'Sweet Sue, Just You [jazz1350], Bye Bye Blackbird [jazz1350]': 0,\n",
              " 'Sweet Sue, Just You [jazz1350], Honeysuckle Rose [jazz1350]': 0,\n",
              " 'Take The A Train [jazz1350], Girl From Ipanema, The [jazz1350]': 0,\n",
              " 'Tangerine [jazz1350], Tea For Two [jazz1350]': 1,\n",
              " 'There Will Never Be Another You [jazz1350], A Weaver Of Dreams [jazz1350]': 1,\n",
              " 'These Foolish Things [jazz1350], Blue Moon [jazz1350]': 0,\n",
              " 'These Foolish Things [jazz1350], Embraceable You [jazz1350]': 1,\n",
              " \"These Foolish Things [jazz1350], Isn't It A Pity [jazz1350]\": 1,\n",
              " 'These Foolish Things [jazz1350], More Than You Know [jazz1350]': 1,\n",
              " 'These Foolish Things [jazz1350], Rosetta [jazz1350]': 1,\n",
              " 'These Foolish Things [jazz1350], Soultrane [jazz1350]': 0,\n",
              " 'These Foolish Things [jazz1350], Why Do I Love You [jazz1350]': 0,\n",
              " \"This Year's Kisses [jazz1350], My Monday Date [trad]\": 1,\n",
              " 'Tour De Force [jazz1350], Jeepers Creepers [jazz1350]': 1,\n",
              " 'Undecided [jazz1350], Broadway [jazz1350]': 1,\n",
              " 'Undecided [jazz1350], Satin Doll [jazz1350]': 1,\n",
              " 'Wait Till You See Her [jazz1350], A Certain Smile [jazz1350]': 1,\n",
              " 'What Is This Thing Called Love [jazz1350], Hot House [jazz1350]': 1,\n",
              " 'What Is This Thing Called Love [jazz1350], Subconscious Lee [jazz1350]': 1,\n",
              " \"Woody'n You [jazz1350], Stella By Starlight [jazz1350]\": 1,\n",
              " 'Wow [jazz1350], You Can Depend On Me [jazz1350]': 1,\n",
              " 'Yardbird Suite [jazz1350], Rosetta [jazz1350]': 1,\n",
              " 'You Can Depend On Me [jazz1350], Move [jazz1350]': 1}"
            ]
          },
          "metadata": {},
          "execution_count": 91
        }
      ]
    },
    {
      "cell_type": "code",
      "metadata": {
        "colab": {
          "base_uri": "https://localhost:8080/"
        },
        "id": "D0_7m1qji6A-",
        "outputId": "fe5feada-c0b2-4fd1-a17a-ac32e99e30af"
      },
      "source": [
        "topN = 20\n",
        "matches, results = test_contrafacts(contrafacts, index_lsi, lsi, topN)\n",
        "\n",
        "print(f\"Found matches: {matches} out of {len(results)}: {100*matches/len(results):.3f}%\")\n",
        "print() \n",
        "for rr, val in results.items():\n",
        "  if val == 0:\n",
        "    print(f\"{val}: {rr}\")\n"
      ],
      "execution_count": null,
      "outputs": [
        {
          "output_type": "stream",
          "name": "stdout",
          "text": [
            "Found matches: 91 out of 111: 81.982%\n",
            "\n",
            "0: 52nd Street Theme [jazz1350], I Got Rhythm [jazz1350]\n",
            "0: Ballade [jazz1350], As Long As I Live [jazz1350]\n",
            "0: Dewey Square [jazz1350], Oh, Lady Be Good [jazz1350]\n",
            "0: Good Bait [jazz1350], I Got Rhythm [jazz1350]\n",
            "0: Lennie's Pennies [jazz1350], Pennies From Heaven [jazz1350]\n",
            "0: Little Rootie Tootie [jazz1350], I Got Rhythm [jazz1350]\n",
            "0: Little Willie Leaps [jazz1350], All God's Chillun Got Rhythm [jazz1350]\n",
            "0: My Little Suede Shoes [jazz1350], Jeepers Creepers [jazz1350]\n",
            "0: Quasimodo (Theme) [jazz1350], Embraceable You [jazz1350]\n",
            "0: Room 608 [jazz1350], I Got Rhythm [jazz1350]\n",
            "0: Wow [jazz1350], You Can Depend On Me [jazz1350]\n",
            "0: Sweet Sue, Just You [jazz1350], Honeysuckle Rose [jazz1350]\n",
            "0: Sweet Sue, Just You [jazz1350], Bye Bye Blackbird [jazz1350]\n",
            "0: These Foolish Things [jazz1350], Blue Moon [jazz1350]\n",
            "0: These Foolish Things [jazz1350], Soultrane [jazz1350]\n",
            "0: These Foolish Things [jazz1350], Why Do I Love You [jazz1350]\n",
            "0: Exactly Like You [jazz1350], Jersey Bounce [trad]\n",
            "0: Take The A Train [jazz1350], Girl From Ipanema, The [jazz1350]\n",
            "0: My Secret Love [jazz1350], Samba De Orfeu [jazz1350]\n",
            "0: These Foolish Things [jazz1350], Embraceable You [jazz1350]\n"
          ]
        }
      ]
    },
    {
      "cell_type": "code",
      "metadata": {
        "id": "RS7LsLASi5-f"
      },
      "source": [
        "model_name = 'lsi'\n",
        "if use_wandb:\n",
        "  wandb.log(\n",
        "      {model_name: {\n",
        "                'contrafacts': {\n",
        "                    'topN': topN,\n",
        "                    'success': matches/len(contrafacts),\n",
        "                    #'results': results\n",
        "                    }\n",
        "                   },\n",
        "       'all_models': {\n",
        "           model_name: wandb.Table(\n",
        "               columns=[\"Title\", \"Match\"],\n",
        "               data=[[key, value] for key, value in results.items()]),\n",
        "       }\n",
        "       })"
      ],
      "execution_count": null,
      "outputs": []
    },
    {
      "cell_type": "markdown",
      "metadata": {
        "id": "AjZArSmyooWt"
      },
      "source": [
        "### Get Recommender Data for WebApp"
      ]
    },
    {
      "cell_type": "code",
      "metadata": {
        "colab": {
          "base_uri": "https://localhost:8080/"
        },
        "id": "ZP1_YD4liiF3",
        "outputId": "7a3d8128-292d-4a1d-97dc-e4265358f0a3"
      },
      "source": [
        "result.columns"
      ],
      "execution_count": null,
      "outputs": [
        {
          "output_type": "execute_result",
          "data": {
            "text/plain": [
              "Index(['index', 'reference', 'reference_titleid', 'similar_title', 'score', 'max', 'score_div_max', 'similar_titleid'], dtype='object')"
            ]
          },
          "metadata": {},
          "execution_count": 94
        }
      ]
    },
    {
      "cell_type": "code",
      "metadata": {
        "colab": {
          "base_uri": "https://localhost:8080/"
        },
        "id": "JfMygz-ejgXG",
        "outputId": "ee2f6963-a3bf-427c-a3d0-6f3f40a4a5ee"
      },
      "source": [
        "%%time\n",
        "if generate_webapp_data:\n",
        "  _tunes = list(tunes['title_playlist'].values())\n",
        "  #_tunes = tunes_eval_list\n",
        "\n",
        "  method = 'lsi'\n",
        "\n",
        "  # save the mapping between titleid and title to disk\n",
        "  pd.DataFrame.from_dict(tunes).to_csv(f'output/index_{method}.csv', index_label='titleid')\n",
        "  with zipfile.ZipFile(f'output/index_{method}.zip', 'w') as zf:\n",
        "    zf.write(f'output/index_{method}.csv')\n",
        "\n",
        "  df_sim = get_sim_scores(_tunes, index_lsi, lsi, topn=30)\n",
        "\n",
        "  # save to file\n",
        "  (df_sim\n",
        "   .loc[:,[#'reference_title',\n",
        "           'reference_titleid',\n",
        "           #'similar_title',\n",
        "           'similar_titleid',\n",
        "           'ref_section_label',\n",
        "           'similar_section_label',\n",
        "           'score'\n",
        "           ]]\n",
        "   .groupby(['reference_titleid', \n",
        "          #'reference_title', \n",
        "          'similar_titleid',\n",
        "          #'similar_title', \n",
        "          'ref_section_label', \n",
        "          'similar_section_label'])\n",
        "   .max('score')\n",
        "   .reset_index()\n",
        "   .to_csv(f'output/recommender_{method}.csv', encoding='utf8', index=False)\n",
        "  )\n",
        "  \n",
        "  with zipfile.ZipFile(f'output/recommender_{method}.zip', 'w') as zf:\n",
        "    zf.write(f'output/recommender_{method}.csv')\n",
        "\n",
        "  # save to wandb\n",
        "  if use_wandb:\n",
        "    model_artifact = wandb.Artifact(\n",
        "        f\"recommender_{method}\", \n",
        "        type=\"csv\",\n",
        "        description=f\"Recommendations for each Tune using {method} Model (csv file)\",\n",
        "        metadata=\"\")\n",
        "\n",
        "    model_artifact.add_file(f'output/recommender_{method}.zip')\n",
        "    model_artifact.add_file(f'output/index_{method}.zip')\n",
        "    wandb.log_artifact(model_artifact)"
      ],
      "execution_count": null,
      "outputs": [
        {
          "output_type": "stream",
          "name": "stderr",
          "text": [
            "100%|██████████| 1686/1686 [1:50:15<00:00,  3.92s/it]\n"
          ]
        },
        {
          "output_type": "stream",
          "name": "stdout",
          "text": [
            "CPU times: user 1h 49min 12s, sys: 11min 43s, total: 2h 56s\n",
            "Wall time: 1h 50min 16s\n"
          ]
        }
      ]
    },
    {
      "cell_type": "markdown",
      "metadata": {
        "id": "lTQKfd0xQQ65"
      },
      "source": [
        "## Store Model to W&B"
      ]
    },
    {
      "cell_type": "code",
      "metadata": {
        "id": "RfAYF7ArQUXo"
      },
      "source": [
        "if use_wandb:\n",
        "  model_artifact = wandb.Artifact(\n",
        "      \"model_lsi\", \n",
        "      type=\"model\",\n",
        "      description=\"LSI model\",\n",
        "      metadata=\"\")\n",
        "\n",
        "  model_artifact.add_file(\"/content/index/lsi.model\")\n",
        "  model_artifact.add_file(\"/content/index/lsi_matrixsim.index\")\n",
        "  model_artifact.add_file(\"/content/index/lsi.model.projection\")\n",
        "  wandb.log_artifact(model_artifact)"
      ],
      "execution_count": null,
      "outputs": []
    },
    {
      "cell_type": "markdown",
      "metadata": {
        "id": "asScIocQRMPA"
      },
      "source": [
        "## Determine Number of Topics for LSI Model\n",
        "\n",
        "This sample comes from Datacamp: \n",
        "\n",
        "https://www.datacamp.com/community/tutorials/discovering-hidden-topics-python\n"
      ]
    },
    {
      "cell_type": "markdown",
      "metadata": {
        "id": "1TPNWFEPSxZ-"
      },
      "source": [
        "What is the best way to determine k (number of topics) in topic modeling? Identify the optimum number of topics in the given corpus text is a challenging task. We can use the following options for determining the optimum number of topics:\n",
        "\n",
        "* One way to determine the optimum number of topics is to consider each topic as a cluster and find out the effectiveness of a cluster using the Silhouette coefficient.\n",
        "* Topic coherence measure is a realistic measure for identifying the number of topics.\n",
        "\n",
        "Topic Coherence measure is a widely used metric to evaluate topic models. It uses the latent variable models. Each generated topic has a list of words. In topic coherence measure, you will find average/median of pairwise word similarity scores of the words in a topic. The high value of topic coherence score model will be considered as a good topic model. "
      ]
    },
    {
      "cell_type": "code",
      "metadata": {
        "id": "umpCyQQzRLgv"
      },
      "source": [
        "def prepare_corpus(doc_clean):\n",
        "    \"\"\"\n",
        "    Input  : clean document\n",
        "    Purpose: create term dictionary of our courpus and Converting list of documents (corpus) into Document Term Matrix\n",
        "    Output : term dictionary and Document Term Matrix\n",
        "    \"\"\"\n",
        "    # Creating the term dictionary of our courpus, where every unique term is assigned an index. dictionary = corpora.Dictionary(doc_clean)\n",
        "    dictionary = corpora.Dictionary(doc_clean)\n",
        "    # Converting list of documents (corpus) into Document Term Matrix using dictionary prepared above.\n",
        "    doc_term_matrix = [dictionary.doc2bow(doc) for doc in doc_clean]\n",
        "    # generate LDA model\n",
        "    return dictionary, doc_term_matrix"
      ],
      "execution_count": null,
      "outputs": []
    },
    {
      "cell_type": "code",
      "metadata": {
        "id": "aS2wxIEERcul"
      },
      "source": [
        "def compute_coherence_values(dictionary, doc_term_matrix, doc_clean, stop, start=2, step=3):\n",
        "    \"\"\"\n",
        "    Input   : dictionary : Gensim dictionary\n",
        "              corpus : Gensim corpus\n",
        "              texts : List of input texts\n",
        "              stop : Max num of topics\n",
        "    purpose : Compute c_v coherence for various number of topics\n",
        "    Output  : model_list : List of LSA topic models\n",
        "              coherence_values : Coherence values corresponding to the LDA model with respective number of topics\n",
        "    \"\"\"\n",
        "    coherence_values = []\n",
        "    model_list = []\n",
        "    for num_topics in range(start, stop, step):\n",
        "        # generate LSA model\n",
        "        model = LsiModel(doc_term_matrix, num_topics=num_topics, id2word = dictionary)  # train model\n",
        "        model_list.append(model)\n",
        "        coherencemodel = CoherenceModel(model=model, texts=doc_clean, dictionary=dictionary, coherence='c_v')\n",
        "        coherence_values.append(coherencemodel.get_coherence())\n",
        "    return model_list, coherence_values"
      ],
      "execution_count": null,
      "outputs": []
    },
    {
      "cell_type": "code",
      "metadata": {
        "id": "DjyzAzWBRfrH"
      },
      "source": [
        "def plot_graph(doc_clean,start, stop, step):\n",
        "    dictionary, doc_term_matrix = prepare_corpus(doc_clean)\n",
        "\n",
        "    runs = 5\n",
        "    for i in range(runs):\n",
        "      model_list, coherence_values = compute_coherence_values(dictionary, \n",
        "                                                              doc_term_matrix,\n",
        "                                                              doc_clean,\n",
        "                                                              stop, start, step)\n",
        "      # Show graph\n",
        "      x = range(start, stop, step)\n",
        "      plt.plot(x, coherence_values, color='blue')\n",
        "\n",
        "    plt.xlabel(\"Number of Topics\")\n",
        "    plt.ylabel(\"Coherence score\")\n",
        "    plt.show()"
      ],
      "execution_count": null,
      "outputs": []
    },
    {
      "cell_type": "code",
      "metadata": {
        "id": "qy9ZjdcmRhxs"
      },
      "source": [
        "# evaluate a good number of topics for the LSI Model. This takes some time.\n",
        "\n",
        "if False:\n",
        "\n",
        "  start, stop, step = 2, 50, 2\n",
        "  plot_graph(data, start, stop, step)"
      ],
      "execution_count": null,
      "outputs": []
    },
    {
      "cell_type": "markdown",
      "metadata": {
        "id": "Qo5NgBHFlqgg"
      },
      "source": [
        "For unigrams, the best number of topics that is most consistently for the 5 runs seems to be around 22.\n",
        "\n",
        "For unigrams plus bigrams, the coherence score drops down until 100 and then continuously rises until 500 and continues to rise. Same for bigrams-only."
      ]
    },
    {
      "cell_type": "markdown",
      "metadata": {
        "id": "rF_INicGhXKd"
      },
      "source": [
        "# Doc2Vec"
      ]
    },
    {
      "cell_type": "code",
      "metadata": {
        "id": "wflSccBshkIk"
      },
      "source": [
        "def get_tagged_documents(corpus, tag_sections_and_tunes=False):\n",
        "  if tag_sections_and_tunes:\n",
        "    print('Tagging input data with both section and tune information.')\n",
        "  else:\n",
        "    print('Tagging input data with section informaiton only.')\n",
        "    \n",
        "  for i, tokens in enumerate(corpus):\n",
        "    if tag_sections_and_tunes:\n",
        "      yield gensim.models.doc2vec.TaggedDocument(tokens, [i, f'titleid_{sectionid_to_titleid[i]}'])\n",
        "    else:\n",
        "      yield gensim.models.doc2vec.TaggedDocument(tokens, [i])  # diatonic chord distance is a bit better"
      ],
      "execution_count": null,
      "outputs": []
    },
    {
      "cell_type": "code",
      "metadata": {
        "colab": {
          "base_uri": "https://localhost:8080/"
        },
        "id": "_u0RdBI1kYD9",
        "outputId": "106a081c-cba9-4c26-81ce-b5ff0ad04b50"
      },
      "source": [
        "train_corpus = list(get_tagged_documents(processed_corpus, doc2vec_config['general']['tag_sections_and_tunes']))\n",
        "train_corpus[1000]"
      ],
      "execution_count": null,
      "outputs": [
        {
          "output_type": "stream",
          "name": "stdout",
          "text": [
            "Tagging input data with section informaiton only.\n"
          ]
        },
        {
          "output_type": "execute_result",
          "data": {
            "text/plain": [
              "TaggedDocument(words=['Am', 'Bm7b5', 'E7', 'Am', 'Dm', 'G7', 'C7', 'B7', 'Bb7', 'A7', 'D7', 'G7', 'C'], tags=[1000])"
            ]
          },
          "metadata": {},
          "execution_count": 102
        }
      ]
    },
    {
      "cell_type": "code",
      "metadata": {
        "colab": {
          "base_uri": "https://localhost:8080/"
        },
        "id": "M9adPoy9reaw",
        "outputId": "0bf2a61e-c8e8-405f-c1a6-91351a38c9d1"
      },
      "source": [
        "import multiprocessing\n",
        "\n",
        "print(f\"CPU Count: {multiprocessing.cpu_count()}\")\n",
        "print(f\"Config:\")\n",
        "print(doc2vec_config['model'])\n",
        "\n",
        "model = Doc2Vec(train_corpus,\n",
        "                **doc2vec_config['model']\n",
        "                )"
      ],
      "execution_count": null,
      "outputs": [
        {
          "output_type": "stream",
          "name": "stderr",
          "text": [
            "2021-12-20 15:03:19,165 : INFO : collecting all words and their counts\n",
            "2021-12-20 15:03:19,168 : INFO : PROGRESS: at example #0, processed 0 words (0/s), 0 word types, 0 tags\n",
            "2021-12-20 15:03:19,203 : INFO : collected 83 word types and 5536 unique tags from a corpus of 5536 examples and 76721 words\n",
            "2021-12-20 15:03:19,206 : INFO : Creating a fresh vocabulary\n",
            "2021-12-20 15:03:19,208 : INFO : Doc2Vec lifecycle event {'msg': 'effective_min_count=1 retains 83 unique words (100.0%% of original 83, drops 0)', 'datetime': '2021-12-20T15:03:19.208891', 'gensim': '4.1.2', 'python': '3.7.12 (default, Sep 10 2021, 00:21:48) \\n[GCC 7.5.0]', 'platform': 'Linux-5.4.104+-x86_64-with-Ubuntu-18.04-bionic', 'event': 'prepare_vocab'}\n",
            "2021-12-20 15:03:19,212 : INFO : Doc2Vec lifecycle event {'msg': 'effective_min_count=1 leaves 76721 word corpus (100.0%% of original 76721, drops 0)', 'datetime': '2021-12-20T15:03:19.212117', 'gensim': '4.1.2', 'python': '3.7.12 (default, Sep 10 2021, 00:21:48) \\n[GCC 7.5.0]', 'platform': 'Linux-5.4.104+-x86_64-with-Ubuntu-18.04-bionic', 'event': 'prepare_vocab'}\n",
            "2021-12-20 15:03:19,216 : INFO : deleting the raw counts dictionary of 83 items\n",
            "2021-12-20 15:03:19,218 : INFO : sample=0.001 downsamples 41 most-common words\n",
            "2021-12-20 15:03:19,221 : INFO : Doc2Vec lifecycle event {'msg': 'downsampling leaves estimated 17780.14298467982 word corpus (23.2%% of prior 76721)', 'datetime': '2021-12-20T15:03:19.221697', 'gensim': '4.1.2', 'python': '3.7.12 (default, Sep 10 2021, 00:21:48) \\n[GCC 7.5.0]', 'platform': 'Linux-5.4.104+-x86_64-with-Ubuntu-18.04-bionic', 'event': 'prepare_vocab'}\n",
            "2021-12-20 15:03:19,226 : INFO : estimated required memory for 83 words and 100 dimensions: 3429500 bytes\n",
            "2021-12-20 15:03:19,238 : INFO : resetting layer weights\n",
            "2021-12-20 15:03:19,262 : INFO : Doc2Vec lifecycle event {'msg': 'training model with 3 workers on 83 vocabulary and 100 features, using sg=0 hs=0 sample=0.001 negative=10 window=2 shrink_windows=True', 'datetime': '2021-12-20T15:03:19.262446', 'gensim': '4.1.2', 'python': '3.7.12 (default, Sep 10 2021, 00:21:48) \\n[GCC 7.5.0]', 'platform': 'Linux-5.4.104+-x86_64-with-Ubuntu-18.04-bionic', 'event': 'train'}\n"
          ]
        },
        {
          "output_type": "stream",
          "name": "stdout",
          "text": [
            "CPU Count: 2\n",
            "Config:\n",
            "{'dm': 1, 'vector_size': 100, 'window': 2, 'epochs': 40, 'min_count': 1, 'negative': 10, 'sample': 0.001, 'seed': 42}\n"
          ]
        },
        {
          "output_type": "stream",
          "name": "stderr",
          "text": [
            "2021-12-20 15:03:20,088 : INFO : worker thread finished; awaiting finish of 2 more threads\n",
            "2021-12-20 15:03:20,203 : INFO : worker thread finished; awaiting finish of 1 more threads\n",
            "2021-12-20 15:03:20,210 : INFO : worker thread finished; awaiting finish of 0 more threads\n",
            "2021-12-20 15:03:20,214 : INFO : EPOCH - 1 : training on 76721 raw words (23231 effective words) took 0.9s, 24841 effective words/s\n",
            "2021-12-20 15:03:21,077 : INFO : worker thread finished; awaiting finish of 2 more threads\n",
            "2021-12-20 15:03:21,169 : INFO : worker thread finished; awaiting finish of 1 more threads\n",
            "2021-12-20 15:03:21,197 : INFO : worker thread finished; awaiting finish of 0 more threads\n",
            "2021-12-20 15:03:21,198 : INFO : EPOCH - 2 : training on 76721 raw words (23288 effective words) took 1.0s, 23917 effective words/s\n",
            "2021-12-20 15:03:21,992 : INFO : worker thread finished; awaiting finish of 2 more threads\n",
            "2021-12-20 15:03:22,126 : INFO : worker thread finished; awaiting finish of 1 more threads\n",
            "2021-12-20 15:03:22,139 : INFO : worker thread finished; awaiting finish of 0 more threads\n",
            "2021-12-20 15:03:22,141 : INFO : EPOCH - 3 : training on 76721 raw words (23334 effective words) took 0.9s, 25163 effective words/s\n",
            "2021-12-20 15:03:22,872 : INFO : worker thread finished; awaiting finish of 2 more threads\n",
            "2021-12-20 15:03:22,973 : INFO : worker thread finished; awaiting finish of 1 more threads\n",
            "2021-12-20 15:03:23,000 : INFO : worker thread finished; awaiting finish of 0 more threads\n",
            "2021-12-20 15:03:23,002 : INFO : EPOCH - 4 : training on 76721 raw words (23057 effective words) took 0.8s, 27208 effective words/s\n",
            "2021-12-20 15:03:23,761 : INFO : worker thread finished; awaiting finish of 2 more threads\n",
            "2021-12-20 15:03:23,871 : INFO : worker thread finished; awaiting finish of 1 more threads\n",
            "2021-12-20 15:03:23,892 : INFO : worker thread finished; awaiting finish of 0 more threads\n",
            "2021-12-20 15:03:23,893 : INFO : EPOCH - 5 : training on 76721 raw words (23228 effective words) took 0.9s, 26422 effective words/s\n",
            "2021-12-20 15:03:24,721 : INFO : worker thread finished; awaiting finish of 2 more threads\n",
            "2021-12-20 15:03:24,837 : INFO : worker thread finished; awaiting finish of 1 more threads\n",
            "2021-12-20 15:03:24,855 : INFO : worker thread finished; awaiting finish of 0 more threads\n",
            "2021-12-20 15:03:24,856 : INFO : EPOCH - 6 : training on 76721 raw words (23422 effective words) took 0.9s, 24664 effective words/s\n",
            "2021-12-20 15:03:25,600 : INFO : worker thread finished; awaiting finish of 2 more threads\n",
            "2021-12-20 15:03:25,728 : INFO : worker thread finished; awaiting finish of 1 more threads\n",
            "2021-12-20 15:03:25,742 : INFO : worker thread finished; awaiting finish of 0 more threads\n",
            "2021-12-20 15:03:25,743 : INFO : EPOCH - 7 : training on 76721 raw words (23270 effective words) took 0.9s, 26729 effective words/s\n",
            "2021-12-20 15:03:26,457 : INFO : worker thread finished; awaiting finish of 2 more threads\n",
            "2021-12-20 15:03:26,577 : INFO : worker thread finished; awaiting finish of 1 more threads\n",
            "2021-12-20 15:03:26,592 : INFO : worker thread finished; awaiting finish of 0 more threads\n",
            "2021-12-20 15:03:26,593 : INFO : EPOCH - 8 : training on 76721 raw words (23221 effective words) took 0.8s, 27685 effective words/s\n",
            "2021-12-20 15:03:27,395 : INFO : worker thread finished; awaiting finish of 2 more threads\n",
            "2021-12-20 15:03:27,530 : INFO : worker thread finished; awaiting finish of 1 more threads\n",
            "2021-12-20 15:03:27,540 : INFO : worker thread finished; awaiting finish of 0 more threads\n",
            "2021-12-20 15:03:27,541 : INFO : EPOCH - 9 : training on 76721 raw words (23630 effective words) took 0.9s, 25297 effective words/s\n",
            "2021-12-20 15:03:28,393 : INFO : worker thread finished; awaiting finish of 2 more threads\n",
            "2021-12-20 15:03:28,468 : INFO : worker thread finished; awaiting finish of 1 more threads\n",
            "2021-12-20 15:03:28,500 : INFO : worker thread finished; awaiting finish of 0 more threads\n",
            "2021-12-20 15:03:28,501 : INFO : EPOCH - 10 : training on 76721 raw words (23303 effective words) took 0.9s, 24829 effective words/s\n",
            "2021-12-20 15:03:29,231 : INFO : worker thread finished; awaiting finish of 2 more threads\n",
            "2021-12-20 15:03:29,333 : INFO : worker thread finished; awaiting finish of 1 more threads\n",
            "2021-12-20 15:03:29,360 : INFO : worker thread finished; awaiting finish of 0 more threads\n",
            "2021-12-20 15:03:29,361 : INFO : EPOCH - 11 : training on 76721 raw words (23278 effective words) took 0.8s, 27537 effective words/s\n",
            "2021-12-20 15:03:30,141 : INFO : worker thread finished; awaiting finish of 2 more threads\n",
            "2021-12-20 15:03:30,227 : INFO : worker thread finished; awaiting finish of 1 more threads\n",
            "2021-12-20 15:03:30,256 : INFO : worker thread finished; awaiting finish of 0 more threads\n",
            "2021-12-20 15:03:30,258 : INFO : EPOCH - 12 : training on 76721 raw words (23305 effective words) took 0.9s, 26381 effective words/s\n",
            "2021-12-20 15:03:31,039 : INFO : worker thread finished; awaiting finish of 2 more threads\n",
            "2021-12-20 15:03:31,120 : INFO : worker thread finished; awaiting finish of 1 more threads\n",
            "2021-12-20 15:03:31,140 : INFO : worker thread finished; awaiting finish of 0 more threads\n",
            "2021-12-20 15:03:31,143 : INFO : EPOCH - 13 : training on 76721 raw words (23231 effective words) took 0.9s, 26701 effective words/s\n",
            "2021-12-20 15:03:31,876 : INFO : worker thread finished; awaiting finish of 2 more threads\n",
            "2021-12-20 15:03:31,981 : INFO : worker thread finished; awaiting finish of 1 more threads\n",
            "2021-12-20 15:03:32,007 : INFO : worker thread finished; awaiting finish of 0 more threads\n",
            "2021-12-20 15:03:32,008 : INFO : EPOCH - 14 : training on 76721 raw words (23171 effective words) took 0.9s, 27179 effective words/s\n",
            "2021-12-20 15:03:32,771 : INFO : worker thread finished; awaiting finish of 2 more threads\n",
            "2021-12-20 15:03:32,864 : INFO : worker thread finished; awaiting finish of 1 more threads\n",
            "2021-12-20 15:03:32,891 : INFO : worker thread finished; awaiting finish of 0 more threads\n",
            "2021-12-20 15:03:32,893 : INFO : EPOCH - 15 : training on 76721 raw words (23386 effective words) took 0.9s, 27002 effective words/s\n",
            "2021-12-20 15:03:33,704 : INFO : worker thread finished; awaiting finish of 2 more threads\n",
            "2021-12-20 15:03:33,795 : INFO : worker thread finished; awaiting finish of 1 more threads\n",
            "2021-12-20 15:03:33,804 : INFO : worker thread finished; awaiting finish of 0 more threads\n",
            "2021-12-20 15:03:33,805 : INFO : EPOCH - 16 : training on 76721 raw words (23325 effective words) took 0.9s, 26252 effective words/s\n",
            "2021-12-20 15:03:34,567 : INFO : worker thread finished; awaiting finish of 2 more threads\n",
            "2021-12-20 15:03:34,641 : INFO : worker thread finished; awaiting finish of 1 more threads\n",
            "2021-12-20 15:03:34,665 : INFO : worker thread finished; awaiting finish of 0 more threads\n",
            "2021-12-20 15:03:34,667 : INFO : EPOCH - 17 : training on 76721 raw words (23250 effective words) took 0.8s, 27414 effective words/s\n",
            "2021-12-20 15:03:35,474 : INFO : worker thread finished; awaiting finish of 2 more threads\n",
            "2021-12-20 15:03:35,548 : INFO : worker thread finished; awaiting finish of 1 more threads\n",
            "2021-12-20 15:03:35,568 : INFO : worker thread finished; awaiting finish of 0 more threads\n",
            "2021-12-20 15:03:35,570 : INFO : EPOCH - 18 : training on 76721 raw words (23415 effective words) took 0.9s, 26377 effective words/s\n",
            "2021-12-20 15:03:36,313 : INFO : worker thread finished; awaiting finish of 2 more threads\n",
            "2021-12-20 15:03:36,432 : INFO : worker thread finished; awaiting finish of 1 more threads\n",
            "2021-12-20 15:03:36,452 : INFO : worker thread finished; awaiting finish of 0 more threads\n",
            "2021-12-20 15:03:36,453 : INFO : EPOCH - 19 : training on 76721 raw words (23344 effective words) took 0.9s, 26813 effective words/s\n",
            "2021-12-20 15:03:37,279 : INFO : worker thread finished; awaiting finish of 2 more threads\n",
            "2021-12-20 15:03:37,397 : INFO : worker thread finished; awaiting finish of 1 more threads\n",
            "2021-12-20 15:03:37,410 : INFO : worker thread finished; awaiting finish of 0 more threads\n",
            "2021-12-20 15:03:37,411 : INFO : EPOCH - 20 : training on 76721 raw words (23160 effective words) took 0.9s, 24520 effective words/s\n",
            "2021-12-20 15:03:38,238 : INFO : worker thread finished; awaiting finish of 2 more threads\n",
            "2021-12-20 15:03:38,324 : INFO : worker thread finished; awaiting finish of 1 more threads\n",
            "2021-12-20 15:03:38,341 : INFO : worker thread finished; awaiting finish of 0 more threads\n",
            "2021-12-20 15:03:38,342 : INFO : EPOCH - 21 : training on 76721 raw words (23353 effective words) took 0.9s, 25432 effective words/s\n",
            "2021-12-20 15:03:39,109 : INFO : worker thread finished; awaiting finish of 2 more threads\n",
            "2021-12-20 15:03:39,191 : INFO : worker thread finished; awaiting finish of 1 more threads\n",
            "2021-12-20 15:03:39,219 : INFO : worker thread finished; awaiting finish of 0 more threads\n",
            "2021-12-20 15:03:39,220 : INFO : EPOCH - 22 : training on 76721 raw words (23231 effective words) took 0.9s, 26900 effective words/s\n",
            "2021-12-20 15:03:40,002 : INFO : worker thread finished; awaiting finish of 2 more threads\n",
            "2021-12-20 15:03:40,085 : INFO : worker thread finished; awaiting finish of 1 more threads\n",
            "2021-12-20 15:03:40,114 : INFO : worker thread finished; awaiting finish of 0 more threads\n",
            "2021-12-20 15:03:40,115 : INFO : EPOCH - 23 : training on 76721 raw words (23293 effective words) took 0.9s, 26390 effective words/s\n",
            "2021-12-20 15:03:40,886 : INFO : worker thread finished; awaiting finish of 2 more threads\n",
            "2021-12-20 15:03:40,998 : INFO : worker thread finished; awaiting finish of 1 more threads\n",
            "2021-12-20 15:03:41,017 : INFO : worker thread finished; awaiting finish of 0 more threads\n",
            "2021-12-20 15:03:41,019 : INFO : EPOCH - 24 : training on 76721 raw words (23485 effective words) took 0.9s, 26300 effective words/s\n",
            "2021-12-20 15:03:41,826 : INFO : worker thread finished; awaiting finish of 2 more threads\n",
            "2021-12-20 15:03:41,954 : INFO : worker thread finished; awaiting finish of 1 more threads\n",
            "2021-12-20 15:03:41,964 : INFO : worker thread finished; awaiting finish of 0 more threads\n",
            "2021-12-20 15:03:41,965 : INFO : EPOCH - 25 : training on 76721 raw words (23312 effective words) took 0.9s, 25042 effective words/s\n",
            "2021-12-20 15:03:42,677 : INFO : worker thread finished; awaiting finish of 2 more threads\n",
            "2021-12-20 15:03:42,772 : INFO : worker thread finished; awaiting finish of 1 more threads\n",
            "2021-12-20 15:03:42,793 : INFO : worker thread finished; awaiting finish of 0 more threads\n",
            "2021-12-20 15:03:42,795 : INFO : EPOCH - 26 : training on 76721 raw words (23372 effective words) took 0.8s, 28610 effective words/s\n",
            "2021-12-20 15:03:43,604 : INFO : worker thread finished; awaiting finish of 2 more threads\n",
            "2021-12-20 15:03:43,695 : INFO : worker thread finished; awaiting finish of 1 more threads\n",
            "2021-12-20 15:03:43,720 : INFO : worker thread finished; awaiting finish of 0 more threads\n",
            "2021-12-20 15:03:43,722 : INFO : EPOCH - 27 : training on 76721 raw words (23209 effective words) took 0.9s, 25422 effective words/s\n",
            "2021-12-20 15:03:44,474 : INFO : worker thread finished; awaiting finish of 2 more threads\n",
            "2021-12-20 15:03:44,579 : INFO : worker thread finished; awaiting finish of 1 more threads\n",
            "2021-12-20 15:03:44,592 : INFO : worker thread finished; awaiting finish of 0 more threads\n",
            "2021-12-20 15:03:44,594 : INFO : EPOCH - 28 : training on 76721 raw words (23357 effective words) took 0.9s, 27183 effective words/s\n",
            "2021-12-20 15:03:45,331 : INFO : worker thread finished; awaiting finish of 2 more threads\n",
            "2021-12-20 15:03:45,435 : INFO : worker thread finished; awaiting finish of 1 more threads\n",
            "2021-12-20 15:03:45,452 : INFO : worker thread finished; awaiting finish of 0 more threads\n",
            "2021-12-20 15:03:45,453 : INFO : EPOCH - 29 : training on 76721 raw words (23287 effective words) took 0.8s, 27519 effective words/s\n",
            "2021-12-20 15:03:46,155 : INFO : worker thread finished; awaiting finish of 2 more threads\n",
            "2021-12-20 15:03:46,251 : INFO : worker thread finished; awaiting finish of 1 more threads\n",
            "2021-12-20 15:03:46,279 : INFO : worker thread finished; awaiting finish of 0 more threads\n",
            "2021-12-20 15:03:46,284 : INFO : EPOCH - 30 : training on 76721 raw words (23335 effective words) took 0.8s, 28549 effective words/s\n",
            "2021-12-20 15:03:47,039 : INFO : worker thread finished; awaiting finish of 2 more threads\n",
            "2021-12-20 15:03:47,140 : INFO : worker thread finished; awaiting finish of 1 more threads\n",
            "2021-12-20 15:03:47,170 : INFO : worker thread finished; awaiting finish of 0 more threads\n",
            "2021-12-20 15:03:47,172 : INFO : EPOCH - 31 : training on 76721 raw words (23355 effective words) took 0.9s, 26667 effective words/s\n",
            "2021-12-20 15:03:47,944 : INFO : worker thread finished; awaiting finish of 2 more threads\n",
            "2021-12-20 15:03:48,043 : INFO : worker thread finished; awaiting finish of 1 more threads\n",
            "2021-12-20 15:03:48,065 : INFO : worker thread finished; awaiting finish of 0 more threads\n",
            "2021-12-20 15:03:48,067 : INFO : EPOCH - 32 : training on 76721 raw words (23412 effective words) took 0.9s, 26566 effective words/s\n",
            "2021-12-20 15:03:48,795 : INFO : worker thread finished; awaiting finish of 2 more threads\n",
            "2021-12-20 15:03:48,870 : INFO : worker thread finished; awaiting finish of 1 more threads\n",
            "2021-12-20 15:03:48,904 : INFO : worker thread finished; awaiting finish of 0 more threads\n",
            "2021-12-20 15:03:48,905 : INFO : EPOCH - 33 : training on 76721 raw words (23280 effective words) took 0.8s, 28206 effective words/s\n",
            "2021-12-20 15:03:49,677 : INFO : worker thread finished; awaiting finish of 2 more threads\n",
            "2021-12-20 15:03:49,790 : INFO : worker thread finished; awaiting finish of 1 more threads\n",
            "2021-12-20 15:03:49,809 : INFO : worker thread finished; awaiting finish of 0 more threads\n",
            "2021-12-20 15:03:49,810 : INFO : EPOCH - 34 : training on 76721 raw words (23228 effective words) took 0.9s, 26088 effective words/s\n",
            "2021-12-20 15:03:50,580 : INFO : worker thread finished; awaiting finish of 2 more threads\n",
            "2021-12-20 15:03:50,669 : INFO : worker thread finished; awaiting finish of 1 more threads\n",
            "2021-12-20 15:03:50,694 : INFO : worker thread finished; awaiting finish of 0 more threads\n",
            "2021-12-20 15:03:50,696 : INFO : EPOCH - 35 : training on 76721 raw words (23231 effective words) took 0.9s, 26639 effective words/s\n",
            "2021-12-20 15:03:51,505 : INFO : worker thread finished; awaiting finish of 2 more threads\n",
            "2021-12-20 15:03:51,612 : INFO : worker thread finished; awaiting finish of 1 more threads\n",
            "2021-12-20 15:03:51,624 : INFO : worker thread finished; awaiting finish of 0 more threads\n",
            "2021-12-20 15:03:51,625 : INFO : EPOCH - 36 : training on 76721 raw words (23412 effective words) took 0.9s, 25594 effective words/s\n",
            "2021-12-20 15:03:52,353 : INFO : worker thread finished; awaiting finish of 2 more threads\n",
            "2021-12-20 15:03:52,474 : INFO : worker thread finished; awaiting finish of 1 more threads\n",
            "2021-12-20 15:03:52,490 : INFO : worker thread finished; awaiting finish of 0 more threads\n",
            "2021-12-20 15:03:52,492 : INFO : EPOCH - 37 : training on 76721 raw words (23211 effective words) took 0.9s, 27237 effective words/s\n",
            "2021-12-20 15:03:53,249 : INFO : worker thread finished; awaiting finish of 2 more threads\n",
            "2021-12-20 15:03:53,366 : INFO : worker thread finished; awaiting finish of 1 more threads\n",
            "2021-12-20 15:03:53,382 : INFO : worker thread finished; awaiting finish of 0 more threads\n",
            "2021-12-20 15:03:53,383 : INFO : EPOCH - 38 : training on 76721 raw words (23282 effective words) took 0.9s, 26529 effective words/s\n",
            "2021-12-20 15:03:54,165 : INFO : worker thread finished; awaiting finish of 2 more threads\n",
            "2021-12-20 15:03:54,286 : INFO : worker thread finished; awaiting finish of 1 more threads\n",
            "2021-12-20 15:03:54,304 : INFO : worker thread finished; awaiting finish of 0 more threads\n",
            "2021-12-20 15:03:54,306 : INFO : EPOCH - 39 : training on 76721 raw words (23241 effective words) took 0.9s, 25766 effective words/s\n",
            "2021-12-20 15:03:55,107 : INFO : worker thread finished; awaiting finish of 2 more threads\n",
            "2021-12-20 15:03:55,225 : INFO : worker thread finished; awaiting finish of 1 more threads\n",
            "2021-12-20 15:03:55,251 : INFO : worker thread finished; awaiting finish of 0 more threads\n",
            "2021-12-20 15:03:55,252 : INFO : EPOCH - 40 : training on 76721 raw words (23475 effective words) took 0.9s, 25381 effective words/s\n",
            "2021-12-20 15:03:55,257 : INFO : Doc2Vec lifecycle event {'msg': 'training on 3068840 raw words (932210 effective words) took 36.0s, 25900 effective words/s', 'datetime': '2021-12-20T15:03:55.257250', 'gensim': '4.1.2', 'python': '3.7.12 (default, Sep 10 2021, 00:21:48) \\n[GCC 7.5.0]', 'platform': 'Linux-5.4.104+-x86_64-with-Ubuntu-18.04-bionic', 'event': 'train'}\n",
            "2021-12-20 15:03:55,263 : INFO : Doc2Vec lifecycle event {'params': 'Doc2Vec(dm/m,d100,n10,w2,s0.001,t3)', 'datetime': '2021-12-20T15:03:55.263594', 'gensim': '4.1.2', 'python': '3.7.12 (default, Sep 10 2021, 00:21:48) \\n[GCC 7.5.0]', 'platform': 'Linux-5.4.104+-x86_64-with-Ubuntu-18.04-bionic', 'event': 'created'}\n"
          ]
        }
      ]
    },
    {
      "cell_type": "code",
      "metadata": {
        "id": "G-cE7gug1Ct5",
        "colab": {
          "base_uri": "https://localhost:8080/"
        },
        "outputId": "0a092472-2a97-4349-d7ad-6c9d2d602841"
      },
      "source": [
        "if use_wandb:\n",
        "  model_artifact = wandb.Artifact(\n",
        "      \"model_doc2vec\", \n",
        "      type=\"model\",\n",
        "      description=\"Doc2Vec model\",\n",
        "      metadata=\"\")\n",
        "\n",
        "  fname = 'doc2vec.model'\n",
        "  model.save(fname)\n",
        "\n",
        "  model_artifact.add_file(fname)\n",
        "  wandb.log_artifact(model_artifact)"
      ],
      "execution_count": null,
      "outputs": [
        {
          "output_type": "stream",
          "name": "stderr",
          "text": [
            "2021-12-20 15:03:55,281 : INFO : Doc2Vec lifecycle event {'fname_or_handle': 'doc2vec.model', 'separately': 'None', 'sep_limit': 10485760, 'ignore': frozenset(), 'datetime': '2021-12-20T15:03:55.281238', 'gensim': '4.1.2', 'python': '3.7.12 (default, Sep 10 2021, 00:21:48) \\n[GCC 7.5.0]', 'platform': 'Linux-5.4.104+-x86_64-with-Ubuntu-18.04-bionic', 'event': 'saving'}\n",
            "2021-12-20 15:03:55,284 : INFO : not storing attribute cum_table\n",
            "2021-12-20 15:03:55,294 : INFO : saved doc2vec.model\n"
          ]
        }
      ]
    },
    {
      "cell_type": "markdown",
      "metadata": {
        "id": "jJvq2K93xAO5"
      },
      "source": [
        "### Test the distance between C and the diatonic chords\n",
        "\n",
        "Test if the model can capture that the diatonic chords are closer to the root.\n",
        "\n",
        "Do this only if the input corpus contains the unigrams. "
      ]
    },
    {
      "cell_type": "code",
      "metadata": {
        "id": "cH3TJxCfvoFm"
      },
      "source": [
        "test_tokens = ['C',\n",
        "              'Dm',\n",
        "              'Em',\n",
        "              'F',\n",
        "              'G7',\n",
        "              'Am',\n",
        "              #'Bm7b5',\n",
        "              'F7',\n",
        "              'D7',\n",
        "              'A7',\n",
        "              'E7',\n",
        "              'B7',\n",
        "              'F#7',\n",
        "               'Cm',\n",
        "               'D']\n",
        "\n",
        "if 1 in ngrams_for_input:\n",
        "  ref = 'C'\n",
        "  for t in test_tokens:\n",
        "    print(f\"{model.wv.similarity(ref, t):.3f}: {ref} <-> {t}\")"
      ],
      "execution_count": null,
      "outputs": []
    },
    {
      "cell_type": "code",
      "metadata": {
        "id": "IfIRoWL4kpcB"
      },
      "source": [
        "if 1 in ngrams_for_input:\n",
        "  print(model.wv.similar_by_word('C', topn=20))"
      ],
      "execution_count": null,
      "outputs": []
    },
    {
      "cell_type": "code",
      "metadata": {
        "id": "Y3ekrldg7c8k"
      },
      "source": [
        "if 1 in ngrams_for_input:\n",
        "  # 20 closest chords to 'C'\n",
        "  vectors = []\n",
        "  chord_names = []\n",
        "  similar_chords = model.wv.similar_by_word('C', topn=10)\n",
        "  for c in similar_chords:\n",
        "    vectors.append(model.wv.get_vector(c[0]))\n",
        "    chord_names.append(c[0])\n",
        "\n",
        "  weights = np.array(vectors)\n"
      ],
      "execution_count": null,
      "outputs": []
    },
    {
      "cell_type": "markdown",
      "metadata": {
        "id": "ix4n9S3_xQzD"
      },
      "source": [
        "Plot the generated word vectors in 2D space"
      ]
    },
    {
      "cell_type": "code",
      "metadata": {
        "id": "JjT_uNh0wthj",
        "colab": {
          "base_uri": "https://localhost:8080/",
          "height": 711
        },
        "outputId": "995fff6f-c4cf-4f64-aced-2d7c57ef1a7b"
      },
      "source": [
        "from sklearn.manifold import TSNE\n",
        "\n",
        "# input data: vectors for all tokens\n",
        "weights = model.wv.vectors\n",
        "\n",
        "# only do this when the vocabulary is not too big....\n",
        "if len(weights) < 100:\n",
        "\n",
        "  # do T-SNE\n",
        "  tsne = TSNE(n_components=2, \n",
        "              random_state=42,\n",
        "              perplexity=30,\n",
        "              learning_rate='auto',\n",
        "              init='pca',\n",
        "              n_iter=2000\n",
        "              )\n",
        "  T = tsne.fit_transform(weights)\n",
        "\n",
        "  # plot\n",
        "  projected = pd.DataFrame(T)\n",
        "\n",
        "  fig = px.scatter(\n",
        "      projected, \n",
        "      x=0, y=1,\n",
        "      #color='mode',\n",
        "      text=model.wv.index_to_key,\n",
        "      width=800, height=600,\n",
        "      title=\"T-SNE applied to Chord Vectors for Tunes in Cmaj/Amin\"\n",
        "  )\n",
        "  fig.update_traces(textposition='top center')\n",
        "  fig.update_traces(textfont_size=12, selector=dict(type='scatter'))\n",
        "  fig.show()"
      ],
      "execution_count": null,
      "outputs": [
        {
          "output_type": "stream",
          "name": "stderr",
          "text": [
            "/usr/local/lib/python3.7/dist-packages/sklearn/manifold/_t_sne.py:986: FutureWarning:\n",
            "\n",
            "The PCA initialization in TSNE will change to have the standard deviation of PC1 equal to 1e-4 in 1.2. This will ensure better convergence.\n",
            "\n"
          ]
        },
        {
          "output_type": "display_data",
          "data": {
            "text/html": [
              "<html>\n",
              "<head><meta charset=\"utf-8\" /></head>\n",
              "<body>\n",
              "    <div>\n",
              "            <script src=\"https://cdnjs.cloudflare.com/ajax/libs/mathjax/2.7.5/MathJax.js?config=TeX-AMS-MML_SVG\"></script><script type=\"text/javascript\">if (window.MathJax) {MathJax.Hub.Config({SVG: {font: \"STIX-Web\"}});}</script>\n",
              "                <script type=\"text/javascript\">window.PlotlyConfig = {MathJaxConfig: 'local'};</script>\n",
              "        <script src=\"https://cdn.plot.ly/plotly-latest.min.js\"></script>    \n",
              "            <div id=\"89c1a54b-08c9-4c4c-a1fa-8282474f0caa\" class=\"plotly-graph-div\" style=\"height:600px; width:800px;\"></div>\n",
              "            <script type=\"text/javascript\">\n",
              "                \n",
              "                    window.PLOTLYENV=window.PLOTLYENV || {};\n",
              "                    \n",
              "                if (document.getElementById(\"89c1a54b-08c9-4c4c-a1fa-8282474f0caa\")) {\n",
              "                    Plotly.newPlot(\n",
              "                        '89c1a54b-08c9-4c4c-a1fa-8282474f0caa',\n",
              "                        [{\"hoverlabel\": {\"namelength\": 0}, \"hovertemplate\": \"0=%{x}<br>1=%{y}<br>text=%{text}\", \"legendgroup\": \"\", \"marker\": {\"color\": \"#636efa\", \"symbol\": \"circle\"}, \"mode\": \"markers+text\", \"name\": \"\", \"showlegend\": false, \"text\": [\"C\", \"G7\", \"Dm\", \"Am\", \"A7\", \"D7\", \"F\", \"C7\", \"E7\", \"Em\", \"Bb7\", \"F7\", \"Fm\", \"B7\", \"Gm\", \"Bm7b5\", \"G#7\", \"G\", \"Ebdim\", \"Cm\", \"Eb7\", \"F#m7b5\", \"G7sus4\", \"Bm\", \"C#7\", \"G#\", \"Em7b5\", \"Bb\", \"F#7\", \"F#m\", \"E\", \"Eb\", \"F#dim\", \"C#dim\", \"Ebm\", \"C#\", \"Dm7b5\", \"A\", \"Bbm\", \"D\", \"C#m\", \"Cdim\", \"B\", \"G#m\", \"C7sus4\", \"F#\", \"G#dim\", \"Am7b5\", \"E7sus4\", \"A7sus4\", \"Fdim\", \"F7sus4\", \"D7sus4\", \"Gdim\", \"C#m7b5\", \"Eb7sus4\", \"Adim\", \"Gm7b5\", \"Edim\", \"G#m7b5\", \"Bb7sus4\", \"G#7sus4\", \"Fm7b5\", \"B7sus4\", \"C#7sus4\", \"Bbdim\", \"Bbm7b5\", \"Ddim\", \"Gsus4\", \"Ebm7b5\", \"Bdim\", \"F#7sus4\", \"Cm7b5\", \"Csus4\", \"Esus4\", \"Asus4\", \"B11\", \"G11\", \"Bsus4\", \"Ebsus4\", \"Fsus4\", \"G#sus4\", \"Bbsus4\"], \"textfont\": {\"size\": 12}, \"textposition\": \"top center\", \"type\": \"scatter\", \"x\": [1.0647433996200562, 0.9066616892814636, 1.136726975440979, 1.0077285766601562, 0.7404508590698242, 1.0852540731430054, 0.7777888178825378, 1.148821234703064, 1.5225671529769897, 1.235062599182129, 0.3968920111656189, 1.42851722240448, 0.8739252090454102, 2.499302387237549, 1.054831624031067, 0.6520338654518127, 1.6254664659500122, 2.653545379638672, 0.5511860847473145, 2.5009162425994873, 3.485666275024414, -0.3505152761936188, 2.2627482414245605, 2.9479942321777344, 5.883880138397217, 3.756924867630005, -0.18897639214992523, 2.9515042304992676, 2.355710029602051, 3.852518320083618, 3.6304116249084473, 2.1308529376983643, 0.010327225551009178, 0.7010254859924316, 2.166212797164917, 2.913630723953247, 1.0086488723754883, 4.127528190612793, 3.6915533542633057, 2.4171011447906494, 4.705225467681885, 1.3661755323410034, 5.800514221191406, 5.119204044342041, 4.772281169891357, 3.6428327560424805, -0.6258057951927185, 2.394286632537842, 4.409466743469238, 4.275766372680664, 1.1471648216247559, 5.774607181549072, 3.747481346130371, 3.1705400943756104, 3.089073657989502, 4.948375701904297, 4.226955413818359, 2.7414357662200928, 0.07865685224533081, 4.017754077911377, 4.704961776733398, 5.756883144378662, 1.8285748958587646, 4.463318347930908, 5.846819877624512, 3.542357921600342, 5.176212310791016, 2.77284574508667, 2.7601919174194336, 3.826847791671753, 3.2144718170166016, 5.514636993408203, 3.0025758743286133, 3.8149681091308594, 3.2449722290039062, 3.1923418045043945, 3.3954033851623535, 2.1847469806671143, 2.917543888092041, 2.5516505241394043, 2.5995900630950928, 2.7109603881835938, 2.6023733615875244], \"xaxis\": \"x\", \"y\": [-1.379506230354309, -1.0808547735214233, -0.9070903062820435, -1.8095934391021729, -1.8374632596969604, -0.6138285994529724, -1.48745858669281, -1.1963363885879517, -1.7758851051330566, -1.541567325592041, -0.5372145175933838, -0.6283344626426697, -0.2566768229007721, -2.8599612712860107, -0.8633918762207031, -1.4055874347686768, 0.1025620624423027, -2.3286871910095215, -2.0935072898864746, 0.6944217085838318, 0.5608936548233032, -1.8677842617034912, -1.3674708604812622, -3.716212034225464, -3.2194857597351074, 1.1627888679504395, -0.6291471719741821, 0.3107737898826599, -4.014492988586426, -3.172776937484741, -2.9796931743621826, 1.005981683731079, -1.2309808731079102, -2.3675551414489746, -2.231314182281494, 1.299850583076477, 0.19969666004180908, -2.894810199737549, 1.252320647239685, -3.1694695949554443, -3.4083290100097656, -2.963313102722168, -1.9296233654022217, -2.575441598892212, 0.1674247831106186, 1.634488821029663, -1.3591638803482056, 0.04322958365082741, -1.2789477109909058, -0.7120246887207031, -3.7292017936706543, -0.016679275780916214, -0.831719696521759, -2.4195432662963867, -4.367499351501465, 0.9684921503067017, -2.027888298034668, 1.4605048894882202, -3.1132917404174805, -4.092352390289307, -0.20839254558086395, -0.842856764793396, 1.1383105516433716, -1.057164192199707, -0.9154673218727112, -1.866485595703125, -2.4164860248565674, -0.7944822907447815, -1.2450968027114868, -3.1429457664489746, -1.667667269706726, -1.1240243911743164, 0.788004457950592, 0.059450555592775345, -1.4982713460922241, -1.7680583000183105, -0.7811322808265686, -1.36933171749115, -1.0330793857574463, -1.2930269241333008, -1.2873444557189941, -1.209694504737854, -1.0642118453979492], \"yaxis\": \"y\"}],\n",
              "                        {\"height\": 600, \"legend\": {\"tracegroupgap\": 0}, \"template\": {\"data\": {\"bar\": [{\"error_x\": {\"color\": \"#2a3f5f\"}, \"error_y\": {\"color\": \"#2a3f5f\"}, \"marker\": {\"line\": {\"color\": \"#E5ECF6\", \"width\": 0.5}}, \"type\": \"bar\"}], \"barpolar\": [{\"marker\": {\"line\": {\"color\": \"#E5ECF6\", \"width\": 0.5}}, \"type\": \"barpolar\"}], \"carpet\": [{\"aaxis\": {\"endlinecolor\": \"#2a3f5f\", \"gridcolor\": \"white\", \"linecolor\": \"white\", \"minorgridcolor\": \"white\", \"startlinecolor\": \"#2a3f5f\"}, \"baxis\": {\"endlinecolor\": \"#2a3f5f\", \"gridcolor\": \"white\", \"linecolor\": \"white\", \"minorgridcolor\": \"white\", \"startlinecolor\": \"#2a3f5f\"}, \"type\": \"carpet\"}], \"choropleth\": [{\"colorbar\": {\"outlinewidth\": 0, \"ticks\": \"\"}, \"type\": \"choropleth\"}], \"contour\": [{\"colorbar\": {\"outlinewidth\": 0, \"ticks\": \"\"}, \"colorscale\": [[0.0, \"#0d0887\"], [0.1111111111111111, \"#46039f\"], [0.2222222222222222, \"#7201a8\"], [0.3333333333333333, \"#9c179e\"], [0.4444444444444444, \"#bd3786\"], [0.5555555555555556, \"#d8576b\"], [0.6666666666666666, \"#ed7953\"], [0.7777777777777778, \"#fb9f3a\"], [0.8888888888888888, \"#fdca26\"], [1.0, \"#f0f921\"]], \"type\": \"contour\"}], \"contourcarpet\": [{\"colorbar\": {\"outlinewidth\": 0, \"ticks\": \"\"}, \"type\": \"contourcarpet\"}], \"heatmap\": [{\"colorbar\": {\"outlinewidth\": 0, \"ticks\": \"\"}, \"colorscale\": [[0.0, \"#0d0887\"], [0.1111111111111111, \"#46039f\"], [0.2222222222222222, \"#7201a8\"], [0.3333333333333333, \"#9c179e\"], [0.4444444444444444, \"#bd3786\"], [0.5555555555555556, \"#d8576b\"], [0.6666666666666666, \"#ed7953\"], [0.7777777777777778, \"#fb9f3a\"], [0.8888888888888888, \"#fdca26\"], [1.0, \"#f0f921\"]], \"type\": \"heatmap\"}], \"heatmapgl\": [{\"colorbar\": {\"outlinewidth\": 0, \"ticks\": \"\"}, \"colorscale\": [[0.0, \"#0d0887\"], [0.1111111111111111, \"#46039f\"], [0.2222222222222222, \"#7201a8\"], [0.3333333333333333, \"#9c179e\"], [0.4444444444444444, \"#bd3786\"], [0.5555555555555556, \"#d8576b\"], [0.6666666666666666, \"#ed7953\"], [0.7777777777777778, \"#fb9f3a\"], [0.8888888888888888, \"#fdca26\"], [1.0, \"#f0f921\"]], \"type\": \"heatmapgl\"}], \"histogram\": [{\"marker\": {\"colorbar\": {\"outlinewidth\": 0, \"ticks\": \"\"}}, \"type\": \"histogram\"}], \"histogram2d\": [{\"colorbar\": {\"outlinewidth\": 0, \"ticks\": \"\"}, \"colorscale\": [[0.0, \"#0d0887\"], [0.1111111111111111, \"#46039f\"], [0.2222222222222222, \"#7201a8\"], [0.3333333333333333, \"#9c179e\"], [0.4444444444444444, \"#bd3786\"], [0.5555555555555556, \"#d8576b\"], [0.6666666666666666, \"#ed7953\"], [0.7777777777777778, \"#fb9f3a\"], [0.8888888888888888, \"#fdca26\"], [1.0, \"#f0f921\"]], \"type\": \"histogram2d\"}], \"histogram2dcontour\": [{\"colorbar\": {\"outlinewidth\": 0, \"ticks\": \"\"}, \"colorscale\": [[0.0, \"#0d0887\"], [0.1111111111111111, \"#46039f\"], [0.2222222222222222, \"#7201a8\"], [0.3333333333333333, \"#9c179e\"], [0.4444444444444444, \"#bd3786\"], [0.5555555555555556, \"#d8576b\"], [0.6666666666666666, \"#ed7953\"], [0.7777777777777778, \"#fb9f3a\"], [0.8888888888888888, \"#fdca26\"], [1.0, \"#f0f921\"]], \"type\": \"histogram2dcontour\"}], \"mesh3d\": [{\"colorbar\": {\"outlinewidth\": 0, \"ticks\": \"\"}, \"type\": \"mesh3d\"}], \"parcoords\": [{\"line\": {\"colorbar\": {\"outlinewidth\": 0, \"ticks\": \"\"}}, \"type\": \"parcoords\"}], \"pie\": [{\"automargin\": true, \"type\": \"pie\"}], \"scatter\": [{\"marker\": {\"colorbar\": {\"outlinewidth\": 0, \"ticks\": \"\"}}, \"type\": \"scatter\"}], \"scatter3d\": [{\"line\": {\"colorbar\": {\"outlinewidth\": 0, \"ticks\": \"\"}}, \"marker\": {\"colorbar\": {\"outlinewidth\": 0, \"ticks\": \"\"}}, \"type\": \"scatter3d\"}], \"scattercarpet\": [{\"marker\": {\"colorbar\": {\"outlinewidth\": 0, \"ticks\": \"\"}}, \"type\": \"scattercarpet\"}], \"scattergeo\": [{\"marker\": {\"colorbar\": {\"outlinewidth\": 0, \"ticks\": \"\"}}, \"type\": \"scattergeo\"}], \"scattergl\": [{\"marker\": {\"colorbar\": {\"outlinewidth\": 0, \"ticks\": \"\"}}, \"type\": \"scattergl\"}], \"scattermapbox\": [{\"marker\": {\"colorbar\": {\"outlinewidth\": 0, \"ticks\": \"\"}}, \"type\": \"scattermapbox\"}], \"scatterpolar\": [{\"marker\": {\"colorbar\": {\"outlinewidth\": 0, \"ticks\": \"\"}}, \"type\": \"scatterpolar\"}], \"scatterpolargl\": [{\"marker\": {\"colorbar\": {\"outlinewidth\": 0, \"ticks\": \"\"}}, \"type\": \"scatterpolargl\"}], \"scatterternary\": [{\"marker\": {\"colorbar\": {\"outlinewidth\": 0, \"ticks\": \"\"}}, \"type\": \"scatterternary\"}], \"surface\": [{\"colorbar\": {\"outlinewidth\": 0, \"ticks\": \"\"}, \"colorscale\": [[0.0, \"#0d0887\"], [0.1111111111111111, \"#46039f\"], [0.2222222222222222, \"#7201a8\"], [0.3333333333333333, \"#9c179e\"], [0.4444444444444444, \"#bd3786\"], [0.5555555555555556, \"#d8576b\"], [0.6666666666666666, \"#ed7953\"], [0.7777777777777778, \"#fb9f3a\"], [0.8888888888888888, \"#fdca26\"], [1.0, \"#f0f921\"]], \"type\": \"surface\"}], \"table\": [{\"cells\": {\"fill\": {\"color\": \"#EBF0F8\"}, \"line\": {\"color\": \"white\"}}, \"header\": {\"fill\": {\"color\": \"#C8D4E3\"}, \"line\": {\"color\": \"white\"}}, \"type\": \"table\"}]}, \"layout\": {\"annotationdefaults\": {\"arrowcolor\": \"#2a3f5f\", \"arrowhead\": 0, \"arrowwidth\": 1}, \"coloraxis\": {\"colorbar\": {\"outlinewidth\": 0, \"ticks\": \"\"}}, \"colorscale\": {\"diverging\": [[0, \"#8e0152\"], [0.1, \"#c51b7d\"], [0.2, \"#de77ae\"], [0.3, \"#f1b6da\"], [0.4, \"#fde0ef\"], [0.5, \"#f7f7f7\"], [0.6, \"#e6f5d0\"], [0.7, \"#b8e186\"], [0.8, \"#7fbc41\"], [0.9, \"#4d9221\"], [1, \"#276419\"]], \"sequential\": [[0.0, \"#0d0887\"], [0.1111111111111111, \"#46039f\"], [0.2222222222222222, \"#7201a8\"], [0.3333333333333333, \"#9c179e\"], [0.4444444444444444, \"#bd3786\"], [0.5555555555555556, \"#d8576b\"], [0.6666666666666666, \"#ed7953\"], [0.7777777777777778, \"#fb9f3a\"], [0.8888888888888888, \"#fdca26\"], [1.0, \"#f0f921\"]], \"sequentialminus\": [[0.0, \"#0d0887\"], [0.1111111111111111, \"#46039f\"], [0.2222222222222222, \"#7201a8\"], [0.3333333333333333, \"#9c179e\"], [0.4444444444444444, \"#bd3786\"], [0.5555555555555556, \"#d8576b\"], [0.6666666666666666, \"#ed7953\"], [0.7777777777777778, \"#fb9f3a\"], [0.8888888888888888, \"#fdca26\"], [1.0, \"#f0f921\"]]}, \"colorway\": [\"#636efa\", \"#EF553B\", \"#00cc96\", \"#ab63fa\", \"#FFA15A\", \"#19d3f3\", \"#FF6692\", \"#B6E880\", \"#FF97FF\", \"#FECB52\"], \"font\": {\"color\": \"#2a3f5f\"}, \"geo\": {\"bgcolor\": \"white\", \"lakecolor\": \"white\", \"landcolor\": \"#E5ECF6\", \"showlakes\": true, \"showland\": true, \"subunitcolor\": \"white\"}, \"hoverlabel\": {\"align\": \"left\"}, \"hovermode\": \"closest\", \"mapbox\": {\"style\": \"light\"}, \"paper_bgcolor\": \"white\", \"plot_bgcolor\": \"#E5ECF6\", \"polar\": {\"angularaxis\": {\"gridcolor\": \"white\", \"linecolor\": \"white\", \"ticks\": \"\"}, \"bgcolor\": \"#E5ECF6\", \"radialaxis\": {\"gridcolor\": \"white\", \"linecolor\": \"white\", \"ticks\": \"\"}}, \"scene\": {\"xaxis\": {\"backgroundcolor\": \"#E5ECF6\", \"gridcolor\": \"white\", \"gridwidth\": 2, \"linecolor\": \"white\", \"showbackground\": true, \"ticks\": \"\", \"zerolinecolor\": \"white\"}, \"yaxis\": {\"backgroundcolor\": \"#E5ECF6\", \"gridcolor\": \"white\", \"gridwidth\": 2, \"linecolor\": \"white\", \"showbackground\": true, \"ticks\": \"\", \"zerolinecolor\": \"white\"}, \"zaxis\": {\"backgroundcolor\": \"#E5ECF6\", \"gridcolor\": \"white\", \"gridwidth\": 2, \"linecolor\": \"white\", \"showbackground\": true, \"ticks\": \"\", \"zerolinecolor\": \"white\"}}, \"shapedefaults\": {\"line\": {\"color\": \"#2a3f5f\"}}, \"ternary\": {\"aaxis\": {\"gridcolor\": \"white\", \"linecolor\": \"white\", \"ticks\": \"\"}, \"baxis\": {\"gridcolor\": \"white\", \"linecolor\": \"white\", \"ticks\": \"\"}, \"bgcolor\": \"#E5ECF6\", \"caxis\": {\"gridcolor\": \"white\", \"linecolor\": \"white\", \"ticks\": \"\"}}, \"title\": {\"x\": 0.05}, \"xaxis\": {\"automargin\": true, \"gridcolor\": \"white\", \"linecolor\": \"white\", \"ticks\": \"\", \"title\": {\"standoff\": 15}, \"zerolinecolor\": \"white\", \"zerolinewidth\": 2}, \"yaxis\": {\"automargin\": true, \"gridcolor\": \"white\", \"linecolor\": \"white\", \"ticks\": \"\", \"title\": {\"standoff\": 15}, \"zerolinecolor\": \"white\", \"zerolinewidth\": 2}}}, \"title\": {\"text\": \"T-SNE applied to Chord Vectors for Tunes in Cmaj/Amin\"}, \"width\": 800, \"xaxis\": {\"anchor\": \"y\", \"domain\": [0.0, 1.0], \"title\": {\"text\": \"0\"}}, \"yaxis\": {\"anchor\": \"x\", \"domain\": [0.0, 1.0], \"title\": {\"text\": \"1\"}}},\n",
              "                        {\"responsive\": true}\n",
              "                    ).then(function(){\n",
              "                            \n",
              "var gd = document.getElementById('89c1a54b-08c9-4c4c-a1fa-8282474f0caa');\n",
              "var x = new MutationObserver(function (mutations, observer) {{\n",
              "        var display = window.getComputedStyle(gd).display;\n",
              "        if (!display || display === 'none') {{\n",
              "            console.log([gd, 'removed!']);\n",
              "            Plotly.purge(gd);\n",
              "            observer.disconnect();\n",
              "        }}\n",
              "}});\n",
              "\n",
              "// Listen for the removal of the full notebook cells\n",
              "var notebookContainer = gd.closest('#notebook-container');\n",
              "if (notebookContainer) {{\n",
              "    x.observe(notebookContainer, {childList: true});\n",
              "}}\n",
              "\n",
              "// Listen for the clearing of the current output cell\n",
              "var outputEl = gd.closest('.output');\n",
              "if (outputEl) {{\n",
              "    x.observe(outputEl, {childList: true});\n",
              "}}\n",
              "\n",
              "                        })\n",
              "                };\n",
              "                \n",
              "            </script>\n",
              "        </div>\n",
              "</body>\n",
              "</html>"
            ]
          },
          "metadata": {}
        }
      ]
    },
    {
      "cell_type": "markdown",
      "metadata": {
        "id": "ajqb904KDwNV"
      },
      "source": [
        "## Section Similarity\n"
      ]
    },
    {
      "cell_type": "markdown",
      "metadata": {
        "id": "HS_k1g6ujjKP"
      },
      "source": [
        "### Single Tunes"
      ]
    },
    {
      "cell_type": "code",
      "metadata": {
        "id": "mPnEPL_k4TZn"
      },
      "source": [
        "def get_section_scores_doc2vec(tunes):\n",
        "\n",
        "  df_sim = pd.DataFrame(columns=['reference_title',\n",
        "                                  'reference_titleid',\n",
        "                                  'similar_title',\n",
        "                                  'similar_titleid',\n",
        "                                  'ref_section', \n",
        "                                  'ref_section_label',\n",
        "                                  'ref_sectionid',\n",
        "                                  'similar_section',\n",
        "                                  'similar_section_label',\n",
        "                                  'similar_sectionid',\n",
        "                                  'score', \n",
        "                                ])\n",
        "\n",
        "  tag_sections_and_tunes = doc2vec_config['general']['tag_sections_and_tunes']\n",
        "\n",
        "  ### get titleid from tunes, use enumerate\n",
        "\n",
        "  for tune in tunes:\n",
        "    print()\n",
        "    print(\"-\"*50)\n",
        "    for s1 in title_to_sectionid[tune]:\n",
        "    \n",
        "      # sections are tagged with the numeric sectionid and can be used for querying\n",
        "      sims = model.dv.similar_by_key(s1, topn=20)\n",
        "      \n",
        "      print(s1, sectionid_to_section[s1])\n",
        "      n = 0\n",
        "      for s2, s2_score in sims:\n",
        "\n",
        "        # if the sections are tagged with both sectionid and tuneid:\n",
        "        if tag_sections_and_tunes:\n",
        "          # only consider similarities to tuneids, ignore sectionids\n",
        "          if type(s2) == str: \n",
        "            s2 = int(s2.replace('titleid_', ''))\n",
        "            # don't count self-similarity between sections of the same tune\n",
        "            if s2 not in title_to_sectionid[tune]:\n",
        "              n += 1\n",
        "          \n",
        "              # print(f\"\\t{s2_score:.3f} {sectionid_to_section[s2]}\")\n",
        "\n",
        "              df_sim.loc[len(df_sim)] = [tune,\n",
        "                                          title_to_titleid[tune],\n",
        "                                          sectionid_to_title[s2],\n",
        "                                          sectionid_to_titleid[s2],\n",
        "                                          sectionid_to_section[s1],\n",
        "                                          sectionid_to_sectionlabel[s1],\n",
        "                                          s1,\n",
        "                                          sectionid_to_section[s2], \n",
        "                                          sectionid_to_sectionlabel[s2],\n",
        "                                          s2,\n",
        "                                          s2_score, \n",
        "                                          ]\n",
        "        else:\n",
        "          if type(s2) == int: \n",
        "            # don't count self-similarity between sections of the same tune\n",
        "            if s2 not in title_to_sectionid[tune]:\n",
        "              n += 1\n",
        "          \n",
        "              # print(f\"\\t{s2_score:.3f} {sectionid_to_section[s2]}\")\n",
        "\n",
        "              df_sim.loc[len(df_sim)] = [tune,\n",
        "                                          title_to_titleid[tune],\n",
        "                                          sectionid_to_title[s2],\n",
        "                                          sectionid_to_titleid[s2],\n",
        "                                          sectionid_to_section[s1],\n",
        "                                          sectionid_to_sectionlabel[s1],\n",
        "                                          s1,\n",
        "                                          sectionid_to_section[s2], \n",
        "                                          sectionid_to_sectionlabel[s2],\n",
        "                                          s2,\n",
        "                                          s2_score,  \n",
        "                                          ]            \n",
        "\n",
        "  print()\n",
        "  if tag_sections_and_tunes:\n",
        "    print(f\"Sections are tagged with the tune id, therefore only the tune similarity is evaluated.\")\n",
        "  else:\n",
        "    print(f\"Sections are tagged only with the section id, therefore only section similarity is evaluated.\")\n",
        "\n",
        "  return df_sim"
      ],
      "execution_count": null,
      "outputs": []
    },
    {
      "cell_type": "code",
      "metadata": {
        "colab": {
          "base_uri": "https://localhost:8080/"
        },
        "id": "i_d92il649O9",
        "outputId": "4b56cd97-0b2e-48c1-bf5e-d99c4332ef8d"
      },
      "source": [
        "_tunes = tunes_eval_list\n",
        "\n",
        "df_sim = get_section_scores_doc2vec(_tunes)\n",
        "\n",
        "result = None\n",
        "for tune in _tunes:\n",
        "  tune_result, details = recommend_tune(df_sim, tune)\n",
        "  if result is None:\n",
        "    result = pd.DataFrame(columns=tune_result.columns)\n",
        "  result = result.append(tune_result)\n",
        "\n",
        "print(f\"Result has {len(result)} rows.\")\n",
        "\n",
        "# save a copy of the results; all results will be concatenated at the end\n",
        "df_doc2vec = df_sim[:]"
      ],
      "execution_count": null,
      "outputs": [
        {
          "output_type": "stream",
          "name": "stdout",
          "text": [
            "\n",
            "--------------------------------------------------\n",
            "499 Blue Moon, section1 (A)\n",
            "500 Blue Moon, section2 (A)\n",
            "501 Blue Moon, section3 (B)\n",
            "502 Blue Moon, section4 (A)\n",
            "\n",
            "--------------------------------------------------\n",
            "1226 Exactly Like You, section1 (A)\n",
            "1227 Exactly Like You, section2 (A)\n",
            "1228 Exactly Like You, section3 (B)\n",
            "1229 Exactly Like You, section4 (A)\n",
            "\n",
            "--------------------------------------------------\n",
            "1550 Honeysuckle Rose, section1 (A)\n",
            "1551 Honeysuckle Rose, section2 (A)\n",
            "1552 Honeysuckle Rose, section3 (B)\n",
            "1553 Honeysuckle Rose, section4 (A)\n",
            "\n",
            "--------------------------------------------------\n",
            "1664 I Got Rhythm, section1 (A)\n",
            "1665 I Got Rhythm, section2 (A)\n",
            "1666 I Got Rhythm, section3 (B)\n",
            "1667 I Got Rhythm, section4 (A)\n",
            "\n",
            "--------------------------------------------------\n",
            "2697 Misty, section1 (A)\n",
            "2698 Misty, section2 (A)\n",
            "2699 Misty, section3 (B)\n",
            "2700 Misty, section4 (A)\n",
            "\n",
            "--------------------------------------------------\n",
            "5160 Old Fashioned Love, section1 (A)\n",
            "5161 Old Fashioned Love, section2 (B)\n",
            "\n",
            "--------------------------------------------------\n",
            "3036 On The Sunny Side Of The Street, section1 (A)\n",
            "3037 On The Sunny Side Of The Street, section2 (A)\n",
            "3038 On The Sunny Side Of The Street, section3 (B)\n",
            "3039 On The Sunny Side Of The Street, section4 (A)\n",
            "\n",
            "--------------------------------------------------\n",
            "3783 Sweet Sue, Just You, section1 (A)\n",
            "3784 Sweet Sue, Just You, section2 (A)\n",
            "3785 Sweet Sue, Just You, section3 (B)\n",
            "3786 Sweet Sue, Just You, section4 (A)\n",
            "\n",
            "--------------------------------------------------\n",
            "3802 Take The A Train, section1 (A)\n",
            "3803 Take The A Train, section2 (A)\n",
            "3804 Take The A Train, section3 (B)\n",
            "3805 Take The A Train, section4 (A)\n",
            "\n",
            "--------------------------------------------------\n",
            "3894 These Foolish Things, section1 (A)\n",
            "3895 These Foolish Things, section2 (A)\n",
            "3896 These Foolish Things, section3 (B)\n",
            "3897 These Foolish Things, section4 (A)\n",
            "\n",
            "--------------------------------------------------\n",
            "4330 Wow, section1 (A)\n",
            "4331 Wow, section2 (B)\n",
            "4332 Wow, section3 (C)\n",
            "4333 Wow, section4 (A)\n",
            "\n",
            "Sections are tagged only with the section id, therefore only section similarity is evaluated.\n",
            "Result has 574 rows.\n"
          ]
        }
      ]
    },
    {
      "cell_type": "code",
      "metadata": {
        "colab": {
          "base_uri": "https://localhost:8080/",
          "height": 562
        },
        "id": "n4dv7VVe5NT4",
        "outputId": "10e0b328-e0a4-4eb2-f358-4aaf9ff89aa6"
      },
      "source": [
        "import plotly.express as px\n",
        "fig = px.histogram(df_sim, x=\"score\", nbins=50, title='doc2vec sections')\n",
        "fig.show()"
      ],
      "execution_count": null,
      "outputs": [
        {
          "output_type": "display_data",
          "data": {
            "text/html": [
              "<html>\n",
              "<head><meta charset=\"utf-8\" /></head>\n",
              "<body>\n",
              "    <div>\n",
              "            <script src=\"https://cdnjs.cloudflare.com/ajax/libs/mathjax/2.7.5/MathJax.js?config=TeX-AMS-MML_SVG\"></script><script type=\"text/javascript\">if (window.MathJax) {MathJax.Hub.Config({SVG: {font: \"STIX-Web\"}});}</script>\n",
              "                <script type=\"text/javascript\">window.PlotlyConfig = {MathJaxConfig: 'local'};</script>\n",
              "        <script src=\"https://cdn.plot.ly/plotly-latest.min.js\"></script>    \n",
              "            <div id=\"e2634e95-1ee1-4147-9357-71168156b1f7\" class=\"plotly-graph-div\" style=\"height:525px; width:100%;\"></div>\n",
              "            <script type=\"text/javascript\">\n",
              "                \n",
              "                    window.PLOTLYENV=window.PLOTLYENV || {};\n",
              "                    \n",
              "                if (document.getElementById(\"e2634e95-1ee1-4147-9357-71168156b1f7\")) {\n",
              "                    Plotly.newPlot(\n",
              "                        'e2634e95-1ee1-4147-9357-71168156b1f7',\n",
              "                        [{\"alignmentgroup\": \"True\", \"bingroup\": \"x\", \"hoverlabel\": {\"namelength\": 0}, \"hovertemplate\": \"score=%{x}<br>count=%{y}\", \"legendgroup\": \"\", \"marker\": {\"color\": \"#636efa\"}, \"name\": \"\", \"nbinsx\": 50, \"offsetgroup\": \"\", \"orientation\": \"v\", \"showlegend\": false, \"type\": \"histogram\", \"x\": [0.9035661220550537, 0.8804967999458313, 0.8802816271781921, 0.8713979125022888, 0.8698999285697937, 0.8583382368087769, 0.8567056059837341, 0.8539847135543823, 0.8505762219429016, 0.8491476774215698, 0.8451350927352905, 0.8405455350875854, 0.8405287861824036, 0.8389315009117126, 0.8387978076934814, 0.8386536836624146, 0.8384343981742859, 0.8383127450942993, 0.8376969695091248, 0.8702401518821716, 0.8365210890769958, 0.8137778043746948, 0.8136182427406311, 0.8031832575798035, 0.8019388914108276, 0.8014944791793823, 0.8008285760879517, 0.7973015308380127, 0.7970185875892639, 0.7957074642181396, 0.7941216826438904, 0.7921101450920105, 0.7837428450584412, 0.781132698059082, 0.780192494392395, 0.7754186391830444, 0.7741231918334961, 0.7715191841125488, 0.8463600873947144, 0.8355403542518616, 0.8314850926399231, 0.8053435683250427, 0.8015739321708679, 0.8006550073623657, 0.7964465022087097, 0.7963376045227051, 0.791373610496521, 0.7886214256286621, 0.7831458449363708, 0.7823463678359985, 0.7791649103164673, 0.756841778755188, 0.756354570388794, 0.7505688667297363, 0.7483221888542175, 0.744706392288208, 0.7407582998275757, 0.7358338236808777, 0.8906843066215515, 0.8901597857475281, 0.8628513216972351, 0.8480904698371887, 0.8435874581336975, 0.837495744228363, 0.8373538255691528, 0.8347220420837402, 0.8319675326347351, 0.8318145275115967, 0.8245423436164856, 0.8233073353767395, 0.8230526447296143, 0.8188690543174744, 0.8186347484588623, 0.8184669017791748, 0.8168966770172119, 0.8152265548706055, 0.8149757385253906, 0.9773419499397278, 0.970055341720581, 0.9691520929336548, 0.9685442447662354, 0.9679991006851196, 0.9660261273384094, 0.9646995067596436, 0.9640920758247375, 0.9634214639663696, 0.9612464904785156, 0.9606766104698181, 0.9602780938148499, 0.9589312076568604, 0.9580900073051453, 0.9570059180259705, 0.9567720890045166, 0.9529465436935425, 0.9518526196479797, 0.9503166675567627, 0.9694796800613403, 0.9597176313400269, 0.9586566686630249, 0.9559628367424011, 0.9537228345870972, 0.9533332586288452, 0.9522312879562378, 0.9517034292221069, 0.9485684037208557, 0.9461715817451477, 0.9442307949066162, 0.9437596797943115, 0.9428877234458923, 0.9414782524108887, 0.9408843517303467, 0.9407356381416321, 0.9400569796562195, 0.939816951751709, 0.9372193217277527, 0.9280962944030762, 0.8934117555618286, 0.8926675915718079, 0.8886001110076904, 0.8864831328392029, 0.8847057223320007, 0.8842765092849731, 0.8825045824050903, 0.8808135986328125, 0.8792449235916138, 0.8749033212661743, 0.8745297789573669, 0.8735401034355164, 0.8705412149429321, 0.8685936331748962, 0.8674513697624207, 0.8674167990684509, 0.8661014437675476, 0.8649106025695801, 0.863854706287384, 0.9642961025238037, 0.9625239968299866, 0.9607336521148682, 0.960469663143158, 0.9602875709533691, 0.9596574306488037, 0.9596470594406128, 0.957811713218689, 0.9567279815673828, 0.9564796090126038, 0.9555603265762329, 0.9547870755195618, 0.9547592997550964, 0.954683244228363, 0.9536415934562683, 0.9526909589767456, 0.9525776505470276, 0.9517850279808044, 0.9515501856803894, 0.9510776400566101, 0.9507364630699158, 0.9400662779808044, 0.9328809976577759, 0.9281195998191833, 0.9277369976043701, 0.9252843260765076, 0.9245701432228088, 0.9196395874023438, 0.9161555171012878, 0.9114624261856079, 0.9086949825286865, 0.9077551960945129, 0.907503068447113, 0.9064998030662537, 0.9038416743278503, 0.9025076627731323, 0.9013163447380066, 0.9005272388458252, 0.9003611207008362, 0.8976742625236511, 0.9734998941421509, 0.9637653231620789, 0.9633001089096069, 0.9547703862190247, 0.953306257724762, 0.9516106843948364, 0.9507947564125061, 0.9507233500480652, 0.9506814479827881, 0.9496809244155884, 0.9490172863006592, 0.9489447474479675, 0.9483405351638794, 0.9463815689086914, 0.9448084235191345, 0.944785475730896, 0.9437878131866455, 0.9436714053153992, 0.9429435133934021, 0.9426277875900269, 0.9727607369422913, 0.9694741368293762, 0.9694653749465942, 0.9688578248023987, 0.9682639241218567, 0.9678394198417664, 0.9666657447814941, 0.9653804898262024, 0.9635303616523743, 0.9610260725021362, 0.9589143395423889, 0.9582146406173706, 0.9491853713989258, 0.9465800523757935, 0.9465621113777161, 0.9458053708076477, 0.9440617561340332, 0.9408811330795288, 0.9403549432754517, 0.9397643208503723, 0.9443435072898865, 0.941820502281189, 0.9334443807601929, 0.9305157661437988, 0.9305009245872498, 0.9264326691627502, 0.9262576103210449, 0.9259412288665771, 0.925462007522583, 0.9234967827796936, 0.9200040698051453, 0.9174654483795166, 0.9172055125236511, 0.9170151352882385, 0.9165318012237549, 0.9133270978927612, 0.9126603603363037, 0.9124564528465271, 0.9120370745658875, 0.9108507633209229, 0.9235371351242065, 0.9044396877288818, 0.897125244140625, 0.8935368061065674, 0.8814138770103455, 0.8802317976951599, 0.8796570897102356, 0.8769773840904236, 0.8762151002883911, 0.8723117709159851, 0.8672195672988892, 0.8671778440475464, 0.8636443614959717, 0.8635298609733582, 0.8580933809280396, 0.8578191995620728, 0.8576632738113403, 0.8563847541809082, 0.9544671773910522, 0.9481474161148071, 0.9463376402854919, 0.9442043900489807, 0.9352896213531494, 0.9276337027549744, 0.9238338470458984, 0.9183148145675659, 0.9178619384765625, 0.9170563817024231, 0.9159609079360962, 0.9158941507339478, 0.9153833985328674, 0.9143339991569519, 0.9135925769805908, 0.9099897742271423, 0.9095839262008667, 0.9075275659561157, 0.905744194984436, 0.9767367839813232, 0.9649599194526672, 0.9578666687011719, 0.9574946165084839, 0.9526684880256653, 0.9480293989181519, 0.9425110220909119, 0.9420965313911438, 0.9414919018745422, 0.9407255053520203, 0.9377772212028503, 0.9372009634971619, 0.9365525245666504, 0.9349903464317322, 0.9312112331390381, 0.9309291243553162, 0.9297139644622803, 0.9296891093254089, 0.9285005331039429, 0.927708625793457, 0.9057888984680176, 0.9013131856918335, 0.8871500492095947, 0.8753784894943237, 0.8703557252883911, 0.8694701790809631, 0.8641948699951172, 0.8631086945533752, 0.8626840114593506, 0.8625206351280212, 0.8578847646713257, 0.8549320697784424, 0.8529632091522217, 0.8517297506332397, 0.8501886129379272, 0.8457006216049194, 0.8455792665481567, 0.8412259817123413, 0.9536011815071106, 0.939817488193512, 0.9384937286376953, 0.937163770198822, 0.9338839650154114, 0.9323041439056396, 0.9300144910812378, 0.9276418685913086, 0.920528769493103, 0.9194037318229675, 0.9184368848800659, 0.9182844758033752, 0.9111545085906982, 0.9108866453170776, 0.9097561240196228, 0.9086906313896179, 0.9081100821495056, 0.9048963785171509, 0.9040284752845764, 0.9031345248222351, 0.9492666721343994, 0.949225902557373, 0.94474858045578, 0.9442164301872253, 0.9433455467224121, 0.9409546852111816, 0.9406768679618835, 0.9381942749023438, 0.9356348514556885, 0.9345211982727051, 0.9338691234588623, 0.9338081479072571, 0.9335521459579468, 0.9329935908317566, 0.9326432943344116, 0.9315333962440491, 0.9314190149307251, 0.9300386905670166, 0.9286651015281677, 0.8725417256355286, 0.8211315274238586, 0.8081382513046265, 0.8021529912948608, 0.7960498929023743, 0.7925214767456055, 0.7918946146965027, 0.7826612591743469, 0.779962420463562, 0.7786833643913269, 0.7783517837524414, 0.7756516933441162, 0.77541583776474, 0.775154173374176, 0.7744570374488831, 0.7645013332366943, 0.7594597339630127, 0.7589424848556519, 0.7575787305831909, 0.7565984725952148, 0.9304996728897095, 0.926856517791748, 0.9236600399017334, 0.9181646704673767, 0.918053925037384, 0.9163975715637207, 0.9153633117675781, 0.9150619506835938, 0.9133393168449402, 0.9129010438919067, 0.911878764629364, 0.9099845886230469, 0.9099327325820923, 0.9098103046417236, 0.9096397161483765, 0.9094148874282837, 0.9086578488349915, 0.9074284434318542, 0.9067578315734863, 0.9427046775817871, 0.9384897351264954, 0.927645742893219, 0.9259538054466248, 0.9185057282447815, 0.9173195958137512, 0.9167766571044922, 0.9142608642578125, 0.9135156273841858, 0.9128474593162537, 0.9080280065536499, 0.9070116281509399, 0.9067092537879944, 0.9042931795120239, 0.9030405879020691, 0.9019123911857605, 0.9017337560653687, 0.9010522961616516, 0.9007147550582886, 0.9003416895866394, 0.963407039642334, 0.9633998870849609, 0.9547716379165649, 0.9492948055267334, 0.9431720972061157, 0.9404752254486084, 0.9371631741523743, 0.9313260912895203, 0.9304273128509521, 0.9300177693367004, 0.9281595349311829, 0.9262427091598511, 0.9254233241081238, 0.9246910214424133, 0.9244164228439331, 0.9239674806594849, 0.9234574437141418, 0.9223736524581909, 0.9206342101097107, 0.9189404249191284, 0.94781094789505, 0.9289095401763916, 0.9228543043136597, 0.9179566502571106, 0.9158346652984619, 0.9119352102279663, 0.9106312394142151, 0.910329282283783, 0.9061117172241211, 0.9037682414054871, 0.9027491211891174, 0.8964777588844299, 0.8955215215682983, 0.8950420618057251, 0.8946235775947571, 0.8931092619895935, 0.8928325176239014, 0.8928187489509583, 0.89112788438797, 0.9563348889350891, 0.9559489488601685, 0.9517457485198975, 0.945558488368988, 0.9422686100006104, 0.9392809867858887, 0.937830924987793, 0.934862494468689, 0.9348411560058594, 0.9332242012023926, 0.9297916293144226, 0.9274880290031433, 0.924668550491333, 0.9246554970741272, 0.9246217608451843, 0.924180805683136, 0.9214609265327454, 0.9207311868667603, 0.9172688126564026, 0.9659237265586853, 0.9512589573860168, 0.9439942240715027, 0.9434918761253357, 0.9417768120765686, 0.9416980743408203, 0.9413886666297913, 0.9404433965682983, 0.9395787119865417, 0.9386157393455505, 0.9379682540893555, 0.9341710209846497, 0.9324994683265686, 0.931442379951477, 0.931136965751648, 0.9295187592506409, 0.9235236048698425, 0.9230763912200928, 0.9205729961395264, 0.9192171692848206, 0.9649025797843933, 0.9612488150596619, 0.9557459950447083, 0.950771152973175, 0.9372912645339966, 0.9277191758155823, 0.9253557920455933, 0.924732506275177, 0.9239150285720825, 0.9204251766204834, 0.9188174605369568, 0.9135310053825378, 0.9117238521575928, 0.9109833836555481, 0.9084604978561401, 0.9081199765205383, 0.9068545699119568, 0.9062528014183044, 0.9802917838096619, 0.9780673980712891, 0.9765852093696594, 0.9755958318710327, 0.974859893321991, 0.9719972014427185, 0.9710440039634705, 0.9697011709213257, 0.968065619468689, 0.9679343700408936, 0.9673786163330078, 0.9672009944915771, 0.9669337272644043, 0.9667235016822815, 0.965782642364502, 0.9651990532875061, 0.9651162028312683, 0.9641584157943726, 0.9641284942626953, 0.9634350538253784, 0.9733619093894958, 0.9665347337722778, 0.9658913612365723, 0.96382737159729, 0.963570773601532, 0.9624946713447571, 0.9605545401573181, 0.9574140906333923, 0.9554710388183594, 0.9551535844802856, 0.9551289677619934, 0.9548973441123962, 0.9536417126655579, 0.9532551765441895, 0.9526780843734741, 0.9521539807319641, 0.9516004920005798, 0.9515091180801392, 0.9509093165397644, 0.9494577050209045, 0.9368744492530823, 0.9322524070739746, 0.9281214475631714, 0.9149349927902222, 0.9114226698875427, 0.9095337390899658, 0.9070042967796326, 0.9007987976074219, 0.898276150226593, 0.89771568775177, 0.8976632356643677, 0.8972545862197876, 0.8953783512115479, 0.89369797706604, 0.8930869698524475, 0.8900131583213806, 0.8875857591629028, 0.887340784072876, 0.8871819972991943, 0.8854562044143677, 0.9755523800849915, 0.9736385345458984, 0.9726501107215881, 0.9693116545677185, 0.9684184193611145, 0.9673170447349548, 0.9650568962097168, 0.964600682258606, 0.9642870426177979, 0.9629102945327759, 0.9609653949737549, 0.9608754515647888, 0.9597837328910828, 0.9573959708213806, 0.9572254419326782, 0.9571710824966431, 0.95626300573349, 0.9554810523986816, 0.9548094272613525, 0.9513880610466003, 0.9671447277069092, 0.9652225375175476, 0.9589409828186035, 0.9580450654029846, 0.9546833038330078, 0.9545626044273376, 0.9521857500076294, 0.9485514760017395, 0.9460185170173645, 0.9442276954650879, 0.944003701210022, 0.9428092837333679, 0.9424824714660645, 0.9421483278274536, 0.9416593313217163, 0.9386981129646301, 0.9383426904678345, 0.937778890132904, 0.9375827312469482, 0.9639965295791626, 0.945866584777832, 0.9374997615814209, 0.9240778684616089, 0.9228439331054688, 0.9210132360458374, 0.9154776930809021, 0.9124469757080078, 0.9117196798324585, 0.9107769727706909, 0.9104717969894409, 0.9093329310417175, 0.9083120226860046, 0.9078553915023804, 0.9044767022132874, 0.9035552144050598, 0.9034115076065063, 0.9025709629058838, 0.8998093605041504, 0.898837149143219, 0.9627806544303894, 0.9616766571998596, 0.9448294043540955, 0.9379518628120422, 0.9373385310173035, 0.9299620389938354, 0.9289970993995667, 0.928856611251831, 0.9243298768997192, 0.9230893850326538, 0.9217063188552856, 0.921110212802887, 0.9209547638893127, 0.9208746552467346, 0.920465350151062, 0.918728768825531, 0.9182965755462646, 0.917095422744751, 0.9161556959152222, 0.9157699942588806, 0.9754008650779724, 0.9677687883377075, 0.9666442275047302, 0.9597405791282654, 0.9567721486091614, 0.9545257091522217, 0.9544143080711365, 0.9542832374572754, 0.954159677028656, 0.9539296627044678, 0.9534154534339905, 0.9527361392974854, 0.9509009718894958, 0.9490095973014832, 0.9486960172653198, 0.9484893083572388, 0.9482909440994263, 0.945896565914154, 0.9432082176208496, 0.9305344223976135, 0.9226050972938538, 0.9173433780670166, 0.9161617159843445, 0.9100263118743896, 0.9087048768997192, 0.9022791981697083, 0.9019030332565308, 0.8995094299316406, 0.8994543552398682, 0.8968469500541687, 0.8962408900260925, 0.8939142227172852, 0.892898678779602, 0.8918301463127136, 0.8897530436515808, 0.8875386118888855, 0.8873031735420227, 0.883944571018219, 0.8837851285934448, 0.7848659157752991, 0.7834612727165222, 0.7775460481643677, 0.7756112217903137, 0.7754778861999512, 0.7717524766921997, 0.7714965343475342, 0.7702489495277405, 0.7690460681915283, 0.7688266038894653, 0.768109142780304, 0.7657458782196045, 0.7648258209228516, 0.7630774974822998, 0.7630648016929626, 0.762060284614563, 0.7601799368858337, 0.7594491243362427, 0.7591637372970581, 0.8083173632621765, 0.807738184928894, 0.785088837146759, 0.782084047794342, 0.7733079195022583, 0.7717484831809998, 0.7628485560417175, 0.7607979774475098, 0.7595929503440857, 0.7538546919822693, 0.7507563233375549, 0.744452953338623, 0.7408210039138794, 0.739392101764679, 0.7393360733985901, 0.7366387844085693, 0.7249947190284729, 0.724960207939148, 0.7245922684669495, 0.7230824828147888, 0.9387325644493103, 0.9317896366119385, 0.9201661944389343, 0.9183530807495117, 0.9160010814666748, 0.9047750234603882, 0.9040090441703796, 0.9031466841697693, 0.9012404084205627, 0.8966699838638306, 0.8965631723403931, 0.8957158327102661, 0.8940860033035278, 0.8926215171813965, 0.8898071050643921, 0.8882929086685181, 0.8876438140869141, 0.8874843120574951, 0.885330855846405, 0.8851100206375122, 0.7490146160125732, 0.7042672634124756, 0.7002213597297668, 0.6977065205574036, 0.6973013281822205, 0.6939911246299744, 0.6933958530426025, 0.6925647258758545, 0.6835893988609314, 0.6798900961875916, 0.6795587539672852, 0.6781531572341919, 0.6773943901062012, 0.67628014087677, 0.6735057234764099, 0.6719326376914978, 0.6682307720184326, 0.6658368110656738, 0.8196829557418823, 0.8078029155731201, 0.8005403876304626, 0.7864079475402832, 0.778119683265686, 0.777108907699585, 0.7759193778038025, 0.7690747380256653, 0.7331486344337463, 0.7272169589996338, 0.7204595804214478, 0.7190244197845459, 0.7057912349700928, 0.7040936946868896, 0.7000513672828674, 0.6974166631698608, 0.6962675452232361, 0.6958873271942139, 0.9773275852203369, 0.9764926433563232, 0.9730697274208069, 0.9648288488388062, 0.9602099657058716, 0.9575059413909912, 0.9541623592376709, 0.9515255093574524, 0.9514621496200562, 0.9508411288261414, 0.9500399827957153, 0.9490005373954773, 0.9464632868766785, 0.943947434425354, 0.94305819272995, 0.9428406953811646, 0.9410022497177124, 0.9390037655830383, 0.9384480714797974, 0.9366604685783386, 0.7499967217445374, 0.7470426559448242, 0.7469296455383301, 0.7266037464141846, 0.7214565873146057, 0.7185319662094116, 0.7178487777709961, 0.7127366662025452, 0.7060876488685608, 0.7054205536842346, 0.7048152685165405, 0.7010286450386047, 0.6945568919181824, 0.6937397122383118, 0.6905269026756287, 0.6895732879638672, 0.6876394152641296, 0.6871516108512878], \"xaxis\": \"x\", \"yaxis\": \"y\"}],\n",
              "                        {\"barmode\": \"relative\", \"legend\": {\"tracegroupgap\": 0}, \"template\": {\"data\": {\"bar\": [{\"error_x\": {\"color\": \"#2a3f5f\"}, \"error_y\": {\"color\": \"#2a3f5f\"}, \"marker\": {\"line\": {\"color\": \"#E5ECF6\", \"width\": 0.5}}, \"type\": \"bar\"}], \"barpolar\": [{\"marker\": {\"line\": {\"color\": \"#E5ECF6\", \"width\": 0.5}}, \"type\": \"barpolar\"}], \"carpet\": [{\"aaxis\": {\"endlinecolor\": \"#2a3f5f\", \"gridcolor\": \"white\", \"linecolor\": \"white\", \"minorgridcolor\": \"white\", \"startlinecolor\": \"#2a3f5f\"}, \"baxis\": {\"endlinecolor\": \"#2a3f5f\", \"gridcolor\": \"white\", \"linecolor\": \"white\", \"minorgridcolor\": \"white\", \"startlinecolor\": \"#2a3f5f\"}, \"type\": \"carpet\"}], \"choropleth\": [{\"colorbar\": {\"outlinewidth\": 0, \"ticks\": \"\"}, \"type\": \"choropleth\"}], \"contour\": [{\"colorbar\": {\"outlinewidth\": 0, \"ticks\": \"\"}, \"colorscale\": [[0.0, \"#0d0887\"], [0.1111111111111111, \"#46039f\"], [0.2222222222222222, \"#7201a8\"], [0.3333333333333333, \"#9c179e\"], [0.4444444444444444, \"#bd3786\"], [0.5555555555555556, \"#d8576b\"], [0.6666666666666666, \"#ed7953\"], [0.7777777777777778, \"#fb9f3a\"], [0.8888888888888888, \"#fdca26\"], [1.0, \"#f0f921\"]], \"type\": \"contour\"}], \"contourcarpet\": [{\"colorbar\": {\"outlinewidth\": 0, \"ticks\": \"\"}, \"type\": \"contourcarpet\"}], \"heatmap\": [{\"colorbar\": {\"outlinewidth\": 0, \"ticks\": \"\"}, \"colorscale\": [[0.0, \"#0d0887\"], [0.1111111111111111, \"#46039f\"], [0.2222222222222222, \"#7201a8\"], [0.3333333333333333, \"#9c179e\"], [0.4444444444444444, \"#bd3786\"], [0.5555555555555556, \"#d8576b\"], [0.6666666666666666, \"#ed7953\"], [0.7777777777777778, \"#fb9f3a\"], [0.8888888888888888, \"#fdca26\"], [1.0, \"#f0f921\"]], \"type\": \"heatmap\"}], \"heatmapgl\": [{\"colorbar\": {\"outlinewidth\": 0, \"ticks\": \"\"}, \"colorscale\": [[0.0, \"#0d0887\"], [0.1111111111111111, \"#46039f\"], [0.2222222222222222, \"#7201a8\"], [0.3333333333333333, \"#9c179e\"], [0.4444444444444444, \"#bd3786\"], [0.5555555555555556, \"#d8576b\"], [0.6666666666666666, \"#ed7953\"], [0.7777777777777778, \"#fb9f3a\"], [0.8888888888888888, \"#fdca26\"], [1.0, \"#f0f921\"]], \"type\": \"heatmapgl\"}], \"histogram\": [{\"marker\": {\"colorbar\": {\"outlinewidth\": 0, \"ticks\": \"\"}}, \"type\": \"histogram\"}], \"histogram2d\": [{\"colorbar\": {\"outlinewidth\": 0, \"ticks\": \"\"}, \"colorscale\": [[0.0, \"#0d0887\"], [0.1111111111111111, \"#46039f\"], [0.2222222222222222, \"#7201a8\"], [0.3333333333333333, \"#9c179e\"], [0.4444444444444444, \"#bd3786\"], [0.5555555555555556, \"#d8576b\"], [0.6666666666666666, \"#ed7953\"], [0.7777777777777778, \"#fb9f3a\"], [0.8888888888888888, \"#fdca26\"], [1.0, \"#f0f921\"]], \"type\": \"histogram2d\"}], \"histogram2dcontour\": [{\"colorbar\": {\"outlinewidth\": 0, \"ticks\": \"\"}, \"colorscale\": [[0.0, \"#0d0887\"], [0.1111111111111111, \"#46039f\"], [0.2222222222222222, \"#7201a8\"], [0.3333333333333333, \"#9c179e\"], [0.4444444444444444, \"#bd3786\"], [0.5555555555555556, \"#d8576b\"], [0.6666666666666666, \"#ed7953\"], [0.7777777777777778, \"#fb9f3a\"], [0.8888888888888888, \"#fdca26\"], [1.0, \"#f0f921\"]], \"type\": \"histogram2dcontour\"}], \"mesh3d\": [{\"colorbar\": {\"outlinewidth\": 0, \"ticks\": \"\"}, \"type\": \"mesh3d\"}], \"parcoords\": [{\"line\": {\"colorbar\": {\"outlinewidth\": 0, \"ticks\": \"\"}}, \"type\": \"parcoords\"}], \"pie\": [{\"automargin\": true, \"type\": \"pie\"}], \"scatter\": [{\"marker\": {\"colorbar\": {\"outlinewidth\": 0, \"ticks\": \"\"}}, \"type\": \"scatter\"}], \"scatter3d\": [{\"line\": {\"colorbar\": {\"outlinewidth\": 0, \"ticks\": \"\"}}, \"marker\": {\"colorbar\": {\"outlinewidth\": 0, \"ticks\": \"\"}}, \"type\": \"scatter3d\"}], \"scattercarpet\": [{\"marker\": {\"colorbar\": {\"outlinewidth\": 0, \"ticks\": \"\"}}, \"type\": \"scattercarpet\"}], \"scattergeo\": [{\"marker\": {\"colorbar\": {\"outlinewidth\": 0, \"ticks\": \"\"}}, \"type\": \"scattergeo\"}], \"scattergl\": [{\"marker\": {\"colorbar\": {\"outlinewidth\": 0, \"ticks\": \"\"}}, \"type\": \"scattergl\"}], \"scattermapbox\": [{\"marker\": {\"colorbar\": {\"outlinewidth\": 0, \"ticks\": \"\"}}, \"type\": \"scattermapbox\"}], \"scatterpolar\": [{\"marker\": {\"colorbar\": {\"outlinewidth\": 0, \"ticks\": \"\"}}, \"type\": \"scatterpolar\"}], \"scatterpolargl\": [{\"marker\": {\"colorbar\": {\"outlinewidth\": 0, \"ticks\": \"\"}}, \"type\": \"scatterpolargl\"}], \"scatterternary\": [{\"marker\": {\"colorbar\": {\"outlinewidth\": 0, \"ticks\": \"\"}}, \"type\": \"scatterternary\"}], \"surface\": [{\"colorbar\": {\"outlinewidth\": 0, \"ticks\": \"\"}, \"colorscale\": [[0.0, \"#0d0887\"], [0.1111111111111111, \"#46039f\"], [0.2222222222222222, \"#7201a8\"], [0.3333333333333333, \"#9c179e\"], [0.4444444444444444, \"#bd3786\"], [0.5555555555555556, \"#d8576b\"], [0.6666666666666666, \"#ed7953\"], [0.7777777777777778, \"#fb9f3a\"], [0.8888888888888888, \"#fdca26\"], [1.0, \"#f0f921\"]], \"type\": \"surface\"}], \"table\": [{\"cells\": {\"fill\": {\"color\": \"#EBF0F8\"}, \"line\": {\"color\": \"white\"}}, \"header\": {\"fill\": {\"color\": \"#C8D4E3\"}, \"line\": {\"color\": \"white\"}}, \"type\": \"table\"}]}, \"layout\": {\"annotationdefaults\": {\"arrowcolor\": \"#2a3f5f\", \"arrowhead\": 0, \"arrowwidth\": 1}, \"coloraxis\": {\"colorbar\": {\"outlinewidth\": 0, \"ticks\": \"\"}}, \"colorscale\": {\"diverging\": [[0, \"#8e0152\"], [0.1, \"#c51b7d\"], [0.2, \"#de77ae\"], [0.3, \"#f1b6da\"], [0.4, \"#fde0ef\"], [0.5, \"#f7f7f7\"], [0.6, \"#e6f5d0\"], [0.7, \"#b8e186\"], [0.8, \"#7fbc41\"], [0.9, \"#4d9221\"], [1, \"#276419\"]], \"sequential\": [[0.0, \"#0d0887\"], [0.1111111111111111, \"#46039f\"], [0.2222222222222222, \"#7201a8\"], [0.3333333333333333, \"#9c179e\"], [0.4444444444444444, \"#bd3786\"], [0.5555555555555556, \"#d8576b\"], [0.6666666666666666, \"#ed7953\"], [0.7777777777777778, \"#fb9f3a\"], [0.8888888888888888, \"#fdca26\"], [1.0, \"#f0f921\"]], \"sequentialminus\": [[0.0, \"#0d0887\"], [0.1111111111111111, \"#46039f\"], [0.2222222222222222, \"#7201a8\"], [0.3333333333333333, \"#9c179e\"], [0.4444444444444444, \"#bd3786\"], [0.5555555555555556, \"#d8576b\"], [0.6666666666666666, \"#ed7953\"], [0.7777777777777778, \"#fb9f3a\"], [0.8888888888888888, \"#fdca26\"], [1.0, \"#f0f921\"]]}, \"colorway\": [\"#636efa\", \"#EF553B\", \"#00cc96\", \"#ab63fa\", \"#FFA15A\", \"#19d3f3\", \"#FF6692\", \"#B6E880\", \"#FF97FF\", \"#FECB52\"], \"font\": {\"color\": \"#2a3f5f\"}, \"geo\": {\"bgcolor\": \"white\", \"lakecolor\": \"white\", \"landcolor\": \"#E5ECF6\", \"showlakes\": true, \"showland\": true, \"subunitcolor\": \"white\"}, \"hoverlabel\": {\"align\": \"left\"}, \"hovermode\": \"closest\", \"mapbox\": {\"style\": \"light\"}, \"paper_bgcolor\": \"white\", \"plot_bgcolor\": \"#E5ECF6\", \"polar\": {\"angularaxis\": {\"gridcolor\": \"white\", \"linecolor\": \"white\", \"ticks\": \"\"}, \"bgcolor\": \"#E5ECF6\", \"radialaxis\": {\"gridcolor\": \"white\", \"linecolor\": \"white\", \"ticks\": \"\"}}, \"scene\": {\"xaxis\": {\"backgroundcolor\": \"#E5ECF6\", \"gridcolor\": \"white\", \"gridwidth\": 2, \"linecolor\": \"white\", \"showbackground\": true, \"ticks\": \"\", \"zerolinecolor\": \"white\"}, \"yaxis\": {\"backgroundcolor\": \"#E5ECF6\", \"gridcolor\": \"white\", \"gridwidth\": 2, \"linecolor\": \"white\", \"showbackground\": true, \"ticks\": \"\", \"zerolinecolor\": \"white\"}, \"zaxis\": {\"backgroundcolor\": \"#E5ECF6\", \"gridcolor\": \"white\", \"gridwidth\": 2, \"linecolor\": \"white\", \"showbackground\": true, \"ticks\": \"\", \"zerolinecolor\": \"white\"}}, \"shapedefaults\": {\"line\": {\"color\": \"#2a3f5f\"}}, \"ternary\": {\"aaxis\": {\"gridcolor\": \"white\", \"linecolor\": \"white\", \"ticks\": \"\"}, \"baxis\": {\"gridcolor\": \"white\", \"linecolor\": \"white\", \"ticks\": \"\"}, \"bgcolor\": \"#E5ECF6\", \"caxis\": {\"gridcolor\": \"white\", \"linecolor\": \"white\", \"ticks\": \"\"}}, \"title\": {\"x\": 0.05}, \"xaxis\": {\"automargin\": true, \"gridcolor\": \"white\", \"linecolor\": \"white\", \"ticks\": \"\", \"title\": {\"standoff\": 15}, \"zerolinecolor\": \"white\", \"zerolinewidth\": 2}, \"yaxis\": {\"automargin\": true, \"gridcolor\": \"white\", \"linecolor\": \"white\", \"ticks\": \"\", \"title\": {\"standoff\": 15}, \"zerolinecolor\": \"white\", \"zerolinewidth\": 2}}}, \"title\": {\"text\": \"doc2vec sections\"}, \"xaxis\": {\"anchor\": \"y\", \"domain\": [0.0, 1.0], \"title\": {\"text\": \"score\"}}, \"yaxis\": {\"anchor\": \"x\", \"domain\": [0.0, 1.0], \"title\": {\"text\": \"count\"}}},\n",
              "                        {\"responsive\": true}\n",
              "                    ).then(function(){\n",
              "                            \n",
              "var gd = document.getElementById('e2634e95-1ee1-4147-9357-71168156b1f7');\n",
              "var x = new MutationObserver(function (mutations, observer) {{\n",
              "        var display = window.getComputedStyle(gd).display;\n",
              "        if (!display || display === 'none') {{\n",
              "            console.log([gd, 'removed!']);\n",
              "            Plotly.purge(gd);\n",
              "            observer.disconnect();\n",
              "        }}\n",
              "}});\n",
              "\n",
              "// Listen for the removal of the full notebook cells\n",
              "var notebookContainer = gd.closest('#notebook-container');\n",
              "if (notebookContainer) {{\n",
              "    x.observe(notebookContainer, {childList: true});\n",
              "}}\n",
              "\n",
              "// Listen for the clearing of the current output cell\n",
              "var outputEl = gd.closest('.output');\n",
              "if (outputEl) {{\n",
              "    x.observe(outputEl, {childList: true});\n",
              "}}\n",
              "\n",
              "                        })\n",
              "                };\n",
              "                \n",
              "            </script>\n",
              "        </div>\n",
              "</body>\n",
              "</html>"
            ]
          },
          "metadata": {}
        }
      ]
    },
    {
      "cell_type": "code",
      "metadata": {
        "id": "OKeaqYxGPMZj"
      },
      "source": [
        "if use_wandb:\n",
        "  wandb.log({\"scores_hist\": fig})"
      ],
      "execution_count": null,
      "outputs": []
    },
    {
      "cell_type": "code",
      "metadata": {
        "colab": {
          "base_uri": "https://localhost:8080/",
          "height": 948
        },
        "id": "DgV3ccDr5Ux4",
        "outputId": "65e69f11-e9b8-4d01-90f3-e3102c6eda8b"
      },
      "source": [
        "result, details = recommend_tune(df_sim, 'On The Sunny Side Of The Street [jazz1350]')\n",
        "result.head(10)"
      ],
      "execution_count": null,
      "outputs": [
        {
          "output_type": "execute_result",
          "data": {
            "text/html": [
              "\n",
              "  <div id=\"df-bd46fc88-6de5-4b7d-aa0d-7f8adfa9f459\">\n",
              "    <div class=\"colab-df-container\">\n",
              "      <div>\n",
              "<style scoped>\n",
              "    .dataframe tbody tr th:only-of-type {\n",
              "        vertical-align: middle;\n",
              "    }\n",
              "\n",
              "    .dataframe tbody tr th {\n",
              "        vertical-align: top;\n",
              "    }\n",
              "\n",
              "    .dataframe thead th {\n",
              "        text-align: right;\n",
              "    }\n",
              "</style>\n",
              "<table border=\"1\" class=\"dataframe\">\n",
              "  <thead>\n",
              "    <tr style=\"text-align: right;\">\n",
              "      <th></th>\n",
              "      <th>index</th>\n",
              "      <th>reference</th>\n",
              "      <th>reference_titleid</th>\n",
              "      <th>similar_title</th>\n",
              "      <th>score</th>\n",
              "      <th>max</th>\n",
              "      <th>score_div_max</th>\n",
              "      <th>similar_titleid</th>\n",
              "    </tr>\n",
              "  </thead>\n",
              "  <tbody>\n",
              "    <tr>\n",
              "      <th>0</th>\n",
              "      <td>0</td>\n",
              "      <td>On The Sunny Side Of The Street [jazz1350]</td>\n",
              "      <td>899</td>\n",
              "      <td>Só Danço Samba [jazz1350]</td>\n",
              "      <td>0.965924</td>\n",
              "      <td>0.965924</td>\n",
              "      <td>1.000000</td>\n",
              "      <td>1132</td>\n",
              "    </tr>\n",
              "    <tr>\n",
              "      <th>1</th>\n",
              "      <td>1</td>\n",
              "      <td>On The Sunny Side Of The Street [jazz1350]</td>\n",
              "      <td>899</td>\n",
              "      <td>Taking A Chance On Love [jazz1350]</td>\n",
              "      <td>0.945040</td>\n",
              "      <td>0.952073</td>\n",
              "      <td>0.990752</td>\n",
              "      <td>1135</td>\n",
              "    </tr>\n",
              "    <tr>\n",
              "      <th>2</th>\n",
              "      <td>2</td>\n",
              "      <td>On The Sunny Side Of The Street [jazz1350]</td>\n",
              "      <td>899</td>\n",
              "      <td>Young And Foolish [jazz1350]</td>\n",
              "      <td>0.955746</td>\n",
              "      <td>0.956335</td>\n",
              "      <td>0.990510</td>\n",
              "      <td>1324</td>\n",
              "    </tr>\n",
              "    <tr>\n",
              "      <th>3</th>\n",
              "      <td>3</td>\n",
              "      <td>On The Sunny Side Of The Street [jazz1350]</td>\n",
              "      <td>899</td>\n",
              "      <td>After You [jazz1350]</td>\n",
              "      <td>0.950771</td>\n",
              "      <td>0.964903</td>\n",
              "      <td>0.985355</td>\n",
              "      <td>39</td>\n",
              "    </tr>\n",
              "    <tr>\n",
              "      <th>4</th>\n",
              "      <td>4</td>\n",
              "      <td>On The Sunny Side Of The Street [jazz1350]</td>\n",
              "      <td>899</td>\n",
              "      <td>Shine [jazz1350]</td>\n",
              "      <td>0.934841</td>\n",
              "      <td>0.956335</td>\n",
              "      <td>0.977525</td>\n",
              "      <td>1027</td>\n",
              "    </tr>\n",
              "    <tr>\n",
              "      <th>5</th>\n",
              "      <td>5</td>\n",
              "      <td>On The Sunny Side Of The Street [jazz1350]</td>\n",
              "      <td>899</td>\n",
              "      <td>It's A Blue World [jazz1350]</td>\n",
              "      <td>0.943994</td>\n",
              "      <td>0.965924</td>\n",
              "      <td>0.977297</td>\n",
              "      <td>623</td>\n",
              "    </tr>\n",
              "    <tr>\n",
              "      <th>6</th>\n",
              "      <td>6</td>\n",
              "      <td>On The Sunny Side Of The Street [jazz1350]</td>\n",
              "      <td>899</td>\n",
              "      <td>Save Your Sorrows For Tomorrow [trad]</td>\n",
              "      <td>0.938239</td>\n",
              "      <td>0.960619</td>\n",
              "      <td>0.976785</td>\n",
              "      <td>1591</td>\n",
              "    </tr>\n",
              "    <tr>\n",
              "      <th>7</th>\n",
              "      <td>7</td>\n",
              "      <td>On The Sunny Side Of The Street [jazz1350]</td>\n",
              "      <td>899</td>\n",
              "      <td>Minor Strain [jazz1350]</td>\n",
              "      <td>0.943492</td>\n",
              "      <td>0.965924</td>\n",
              "      <td>0.976777</td>\n",
              "      <td>794</td>\n",
              "    </tr>\n",
              "    <tr>\n",
              "      <th>8</th>\n",
              "      <td>8</td>\n",
              "      <td>On The Sunny Side Of The Street [jazz1350]</td>\n",
              "      <td>899</td>\n",
              "      <td>Eclypso [jazz1350]</td>\n",
              "      <td>0.941777</td>\n",
              "      <td>0.965924</td>\n",
              "      <td>0.975001</td>\n",
              "      <td>341</td>\n",
              "    </tr>\n",
              "    <tr>\n",
              "      <th>9</th>\n",
              "      <td>9</td>\n",
              "      <td>On The Sunny Side Of The Street [jazz1350]</td>\n",
              "      <td>899</td>\n",
              "      <td>Undecided [jazz1350]</td>\n",
              "      <td>0.941698</td>\n",
              "      <td>0.965924</td>\n",
              "      <td>0.974920</td>\n",
              "      <td>1217</td>\n",
              "    </tr>\n",
              "  </tbody>\n",
              "</table>\n",
              "</div>\n",
              "      <button class=\"colab-df-convert\" onclick=\"convertToInteractive('df-bd46fc88-6de5-4b7d-aa0d-7f8adfa9f459')\"\n",
              "              title=\"Convert this dataframe to an interactive table.\"\n",
              "              style=\"display:none;\">\n",
              "        \n",
              "  <svg xmlns=\"http://www.w3.org/2000/svg\" height=\"24px\"viewBox=\"0 0 24 24\"\n",
              "       width=\"24px\">\n",
              "    <path d=\"M0 0h24v24H0V0z\" fill=\"none\"/>\n",
              "    <path d=\"M18.56 5.44l.94 2.06.94-2.06 2.06-.94-2.06-.94-.94-2.06-.94 2.06-2.06.94zm-11 1L8.5 8.5l.94-2.06 2.06-.94-2.06-.94L8.5 2.5l-.94 2.06-2.06.94zm10 10l.94 2.06.94-2.06 2.06-.94-2.06-.94-.94-2.06-.94 2.06-2.06.94z\"/><path d=\"M17.41 7.96l-1.37-1.37c-.4-.4-.92-.59-1.43-.59-.52 0-1.04.2-1.43.59L10.3 9.45l-7.72 7.72c-.78.78-.78 2.05 0 2.83L4 21.41c.39.39.9.59 1.41.59.51 0 1.02-.2 1.41-.59l7.78-7.78 2.81-2.81c.8-.78.8-2.07 0-2.86zM5.41 20L4 18.59l7.72-7.72 1.47 1.35L5.41 20z\"/>\n",
              "  </svg>\n",
              "      </button>\n",
              "      \n",
              "  <style>\n",
              "    .colab-df-container {\n",
              "      display:flex;\n",
              "      flex-wrap:wrap;\n",
              "      gap: 12px;\n",
              "    }\n",
              "\n",
              "    .colab-df-convert {\n",
              "      background-color: #E8F0FE;\n",
              "      border: none;\n",
              "      border-radius: 50%;\n",
              "      cursor: pointer;\n",
              "      display: none;\n",
              "      fill: #1967D2;\n",
              "      height: 32px;\n",
              "      padding: 0 0 0 0;\n",
              "      width: 32px;\n",
              "    }\n",
              "\n",
              "    .colab-df-convert:hover {\n",
              "      background-color: #E2EBFA;\n",
              "      box-shadow: 0px 1px 2px rgba(60, 64, 67, 0.3), 0px 1px 3px 1px rgba(60, 64, 67, 0.15);\n",
              "      fill: #174EA6;\n",
              "    }\n",
              "\n",
              "    [theme=dark] .colab-df-convert {\n",
              "      background-color: #3B4455;\n",
              "      fill: #D2E3FC;\n",
              "    }\n",
              "\n",
              "    [theme=dark] .colab-df-convert:hover {\n",
              "      background-color: #434B5C;\n",
              "      box-shadow: 0px 1px 3px 1px rgba(0, 0, 0, 0.15);\n",
              "      filter: drop-shadow(0px 1px 2px rgba(0, 0, 0, 0.3));\n",
              "      fill: #FFFFFF;\n",
              "    }\n",
              "  </style>\n",
              "\n",
              "      <script>\n",
              "        const buttonEl =\n",
              "          document.querySelector('#df-bd46fc88-6de5-4b7d-aa0d-7f8adfa9f459 button.colab-df-convert');\n",
              "        buttonEl.style.display =\n",
              "          google.colab.kernel.accessAllowed ? 'block' : 'none';\n",
              "\n",
              "        async function convertToInteractive(key) {\n",
              "          const element = document.querySelector('#df-bd46fc88-6de5-4b7d-aa0d-7f8adfa9f459');\n",
              "          const dataTable =\n",
              "            await google.colab.kernel.invokeFunction('convertToInteractive',\n",
              "                                                     [key], {});\n",
              "          if (!dataTable) return;\n",
              "\n",
              "          const docLinkHtml = 'Like what you see? Visit the ' +\n",
              "            '<a target=\"_blank\" href=https://colab.research.google.com/notebooks/data_table.ipynb>data table notebook</a>'\n",
              "            + ' to learn more about interactive tables.';\n",
              "          element.innerHTML = '';\n",
              "          dataTable['output_type'] = 'display_data';\n",
              "          await google.colab.output.renderOutput(dataTable, element);\n",
              "          const docLink = document.createElement('div');\n",
              "          docLink.innerHTML = docLinkHtml;\n",
              "          element.appendChild(docLink);\n",
              "        }\n",
              "      </script>\n",
              "    </div>\n",
              "  </div>\n",
              "  "
            ],
            "text/plain": [
              "   index                                   reference  reference_titleid                          similar_title     score       max  score_div_max  similar_titleid\n",
              "0      0  On The Sunny Side Of The Street [jazz1350]                899              Só Danço Samba [jazz1350]  0.965924  0.965924       1.000000             1132\n",
              "1      1  On The Sunny Side Of The Street [jazz1350]                899     Taking A Chance On Love [jazz1350]  0.945040  0.952073       0.990752             1135\n",
              "2      2  On The Sunny Side Of The Street [jazz1350]                899           Young And Foolish [jazz1350]  0.955746  0.956335       0.990510             1324\n",
              "3      3  On The Sunny Side Of The Street [jazz1350]                899                   After You [jazz1350]  0.950771  0.964903       0.985355               39\n",
              "4      4  On The Sunny Side Of The Street [jazz1350]                899                       Shine [jazz1350]  0.934841  0.956335       0.977525             1027\n",
              "5      5  On The Sunny Side Of The Street [jazz1350]                899           It's A Blue World [jazz1350]  0.943994  0.965924       0.977297              623\n",
              "6      6  On The Sunny Side Of The Street [jazz1350]                899  Save Your Sorrows For Tomorrow [trad]  0.938239  0.960619       0.976785             1591\n",
              "7      7  On The Sunny Side Of The Street [jazz1350]                899                Minor Strain [jazz1350]  0.943492  0.965924       0.976777              794\n",
              "8      8  On The Sunny Side Of The Street [jazz1350]                899                     Eclypso [jazz1350]  0.941777  0.965924       0.975001              341\n",
              "9      9  On The Sunny Side Of The Street [jazz1350]                899                   Undecided [jazz1350]  0.941698  0.965924       0.974920             1217"
            ]
          },
          "metadata": {},
          "execution_count": 113
        }
      ]
    },
    {
      "cell_type": "code",
      "metadata": {
        "id": "hLFaFo62XlMS",
        "colab": {
          "base_uri": "https://localhost:8080/"
        },
        "outputId": "d403867e-5a8d-4b39-d2cf-23b0dc5cf420"
      },
      "source": [
        "dd = pd.DataFrame(columns = recommender_results_cols)\n",
        "\n",
        "for tune in tunes_eval_list:\n",
        "  result, details = recommend_tune(df_sim, tune)\n",
        "  dd['id'] = result['index']\n",
        "  dd['reference'] = tune\n",
        "  dd['method'] = 'doc2vec'\n",
        "  dd['similar'] = result['similar_title']\n",
        "  dd['score_div_max'] = result['score_div_max']\n",
        "  dd['score'] = result['score']\n",
        "\n",
        "recommender_results = recommender_results.append(dd)\n",
        "len(recommender_results)"
      ],
      "execution_count": null,
      "outputs": [
        {
          "output_type": "execute_result",
          "data": {
            "text/plain": [
              "246"
            ]
          },
          "metadata": {},
          "execution_count": 114
        }
      ]
    },
    {
      "cell_type": "markdown",
      "metadata": {
        "id": "aosPKEWljlm0"
      },
      "source": [
        "### Contrafacts"
      ]
    },
    {
      "cell_type": "code",
      "metadata": {
        "id": "SaYSqTJokGc5"
      },
      "source": [
        "def test_doc2vec_contrafacts(tunes, N=15):\n",
        "  \"\"\"\n",
        "  Evaluates if the expected tune matches by either a tune similarity or section similarity match.\n",
        "  \"\"\"\n",
        "\n",
        "  matches = 0\n",
        "  number_of_sections = 0\n",
        "  results = {}\n",
        "\n",
        "  for tune, similar_tune in contrafacts:\n",
        "    \n",
        "    # loop over all sections of the tune\n",
        "    sub_match = 0\n",
        "    for s1 in title_to_sectionid[tune]:\n",
        "      sims = model.dv.similar_by_key(s1, topn=N)\n",
        "      # check if the section matches the expected title; consider only the first N recommendations\n",
        "      i = 0\n",
        "      for match, value in sims:\n",
        "        # tune match\n",
        "        if (type(match) == str):\n",
        "          titleid = int(match.replace('titleid_', ''))\n",
        "          if titleid_to_title[titleid] == similar_tune:\n",
        "            sub_match += 1\n",
        "\n",
        "        # section match\n",
        "        else:\n",
        "          if sectionid_to_title[match] == similar_tune:\n",
        "            sub_match += 1\n",
        "\n",
        "    # for each title, increase matches if at least one of the section matched the expected title\n",
        "    if sub_match > 0:\n",
        "      matches += 1  \n",
        "      results[f'{tune}, {similar_tune}'] = 1\n",
        "    else:\n",
        "      results[f'{tune}, {similar_tune}'] = 0\n",
        "  \n",
        "  return matches, results"
      ],
      "execution_count": null,
      "outputs": []
    },
    {
      "cell_type": "code",
      "metadata": {
        "colab": {
          "base_uri": "https://localhost:8080/"
        },
        "id": "eAjM3lU4ltzP",
        "outputId": "a392f17e-0490-49b6-9044-8f614652e83d"
      },
      "source": [
        "topN = 20\n",
        "matches, results = test_doc2vec_contrafacts(contrafacts, topN)\n",
        " \n",
        "print(f\"Found matches: {matches} out of {len(results)}: {100*matches/len(results):.3f}%\")\n",
        "print() \n",
        "for rr, val in results.items():\n",
        "  if val == 0:\n",
        "    print(f\"{val}: {rr}\")\n"
      ],
      "execution_count": null,
      "outputs": [
        {
          "output_type": "stream",
          "name": "stdout",
          "text": [
            "Found matches: 80 out of 111: 72.072%\n",
            "\n",
            "0: 52nd Street Theme [jazz1350], I Got Rhythm [jazz1350]\n",
            "0: Anthropology [jazz1350], I Got Rhythm [jazz1350]\n",
            "0: Ballade [jazz1350], As Long As I Live [jazz1350]\n",
            "0: C.T.A. [jazz1350], I Got Rhythm [jazz1350]\n",
            "0: Dewey Square [jazz1350], Oh, Lady Be Good [jazz1350]\n",
            "0: Dexterity [jazz1350], I Got Rhythm [jazz1350]\n",
            "0: Don't Be That Way [jazz1350], I Got Rhythm [jazz1350]\n",
            "0: Flintstones [jazz1350], I Got Rhythm [jazz1350]\n",
            "0: Four On Six [jazz1350], Summertime [jazz1350]\n",
            "0: Freight Train [jazz1350], Blues For Alice [jazz1350]\n",
            "0: Good Bait [jazz1350], I Got Rhythm [jazz1350]\n",
            "0: Lennie's Pennies [jazz1350], Pennies From Heaven [jazz1350]\n",
            "0: Little Rootie Tootie [jazz1350], I Got Rhythm [jazz1350]\n",
            "0: Little Willie Leaps [jazz1350], All God's Chillun Got Rhythm [jazz1350]\n",
            "0: My Little Suede Shoes [jazz1350], Jeepers Creepers [jazz1350]\n",
            "0: Quasimodo (Theme) [jazz1350], Embraceable You [jazz1350]\n",
            "0: Room 608 [jazz1350], I Got Rhythm [jazz1350]\n",
            "0: Scrapple From The Apple [jazz1350], Honeysuckle Rose [jazz1350]\n",
            "0: Sweet Sue, Just You [jazz1350], Honeysuckle Rose [jazz1350]\n",
            "0: Sweet Sue, Just You [jazz1350], Bye Bye Blackbird [jazz1350]\n",
            "0: These Foolish Things [jazz1350], Blue Moon [jazz1350]\n",
            "0: These Foolish Things [jazz1350], Soultrane [jazz1350]\n",
            "0: These Foolish Things [jazz1350], Why Do I Love You [jazz1350]\n",
            "0: Exactly Like You [jazz1350], Jersey Bounce [trad]\n",
            "0: Take The A Train [jazz1350], Girl From Ipanema, The [jazz1350]\n",
            "0: On The Sunny Side Of The Street [jazz1350], You Stepped Out Of A Dream [jazz1350]\n",
            "0: My Secret Love [jazz1350], Samba De Orfeu [jazz1350]\n",
            "0: Let's Call The Whole Thing Off [jazz1350], Fine And Dandy [jazz1350]\n",
            "0: On The Sunny Side Of The Street [jazz1350], September In The Rain [jazz1350]\n",
            "0: On The Sunny Side Of The Street [jazz1350], Mountain Greenery [jazz1350]\n",
            "0: On The Sunny Side Of The Street [jazz1350], There's No You [jazz1350]\n"
          ]
        }
      ]
    },
    {
      "cell_type": "code",
      "metadata": {
        "id": "8C0kzj0Jp425"
      },
      "source": [
        "model_name = 'doc2vec'\n",
        "if use_wandb:\n",
        "  wandb.log(\n",
        "      {model_name: {\n",
        "                'contrafacts': {\n",
        "                    'topN': topN,\n",
        "                    'success': matches/len(contrafacts),\n",
        "                    #'results': results\n",
        "                    }\n",
        "                   },\n",
        "       'all_models': {\n",
        "           model_name: wandb.Table(\n",
        "               columns=[\"Title\", \"Match\"],\n",
        "               data=[[key, value] for key, value in results.items()]),\n",
        "       }\n",
        "       })"
      ],
      "execution_count": null,
      "outputs": []
    },
    {
      "cell_type": "markdown",
      "metadata": {
        "id": "_UzVV5yn4Q-K"
      },
      "source": [
        "### Save Results for WebApp"
      ]
    },
    {
      "cell_type": "code",
      "metadata": {
        "colab": {
          "base_uri": "https://localhost:8080/"
        },
        "id": "g1zPB9-05bvQ",
        "outputId": "f343ec11-c4f1-49ea-f9e7-d9b95adbc185"
      },
      "source": [
        "%%time\n",
        "if False:\n",
        "  #_tunes = list(tunes['title_playlist'].values())\n",
        "  _tunes = tunes_eval_list\n",
        "\n",
        "  method = 'doc2vec'\n",
        "\n",
        "  df_sim = get_section_scores_doc2vec(_tunes)\n",
        "\n",
        "  # save to file\n",
        "  (df_sim\n",
        "   .loc[:,['reference_title',\n",
        "           'reference_titleid',\n",
        "           'similar_title',\n",
        "           'similar_titleid',\n",
        "           'ref_section_label',\n",
        "           'similar_section_label',\n",
        "           'score'\n",
        "           ]]\n",
        "   .reset_index()\n",
        "   .groupby(['reference_titleid', 'reference_title', \n",
        "             'similar_titleid','similar_title', \n",
        "             'ref_section_label', 'similar_section_label'])\n",
        "   .max('score')\n",
        "   .sort_values('score', ascending=False)\n",
        "   .reset_index()\n",
        "   .to_csv(f'output/recommender_{method}.csv', encoding='utf8')\n",
        "  )\n",
        "\n",
        "  with zipfile.ZipFile(f'output/recommender_{method}.zip', 'w') as zf:\n",
        "    zf.write(f'output/recommender_{method}.csv')\n",
        "\n",
        "  # save to wandb\n",
        "  if use_wandb:\n",
        "    model_artifact = wandb.Artifact(\n",
        "        f\"recommender_{method}\", \n",
        "        type=\"csv\",\n",
        "        description=f\"Recommendations for each Tune using {method} Model (csv file)\",\n",
        "        metadata=\"\")\n",
        "\n",
        "    model_artifact.add_file(f'output/recommender_{method}.zip')\n",
        "    wandb.log_artifact(model_artifact)"
      ],
      "execution_count": null,
      "outputs": [
        {
          "output_type": "stream",
          "name": "stdout",
          "text": [
            "CPU times: user 3 µs, sys: 0 ns, total: 3 µs\n",
            "Wall time: 7.15 µs\n"
          ]
        }
      ]
    },
    {
      "cell_type": "code",
      "metadata": {
        "colab": {
          "base_uri": "https://localhost:8080/"
        },
        "id": "nS_bRwHehOUr",
        "outputId": "f0df2364-9401-4f13-9738-c747e01cd489"
      },
      "source": [
        "%%time\n",
        "if True:\n",
        "  #_tunes = list(tunes['title_playlist'].values())\n",
        "  _tunes = tunes_eval_list\n",
        "\n",
        "  method = 'doc2vec'\n",
        "\n",
        "  df_sim = get_section_scores_doc2vec(_tunes)\n",
        "\n",
        "  result = None\n",
        "  for tune in _tunes:\n",
        "    tune_result, details = recommend_tune(df_sim, tune)\n",
        "    if result is None:\n",
        "      result = pd.DataFrame(columns=tune_result.columns)\n",
        "    result = result.append(tune_result)\n",
        "\n",
        "  # save to file\n",
        "  (result\n",
        "   .loc[:,['reference_titleid',\n",
        "           'similar_titleid',\n",
        "           'score']]\n",
        "   .to_csv(f'output/recommender_{method}.csv', encoding='utf8')\n",
        "  )\n",
        "  with zipfile.ZipFile(f'output/recommender_{method}.zip', 'w') as zf:\n",
        "    zf.write(f'output/recommender_{method}.csv')\n",
        "\n",
        "\n",
        "  # save to wandb\n",
        "  if use_wandb:\n",
        "    model_artifact = wandb.Artifact(\n",
        "        f\"recommender_{method}\", \n",
        "        type=\"csv\",\n",
        "        description=f\"Recommendations for each Tune using {method} Model (csv file)\",\n",
        "        metadata=\"\")\n",
        "\n",
        "    model_artifact.add_file(f'output/recommender_{method}.zip')\n",
        "    wandb.log_artifact(model_artifact)"
      ],
      "execution_count": null,
      "outputs": [
        {
          "output_type": "stream",
          "name": "stdout",
          "text": [
            "\n",
            "--------------------------------------------------\n",
            "499 Blue Moon, section1 (A)\n",
            "500 Blue Moon, section2 (A)\n",
            "501 Blue Moon, section3 (B)\n",
            "502 Blue Moon, section4 (A)\n",
            "\n",
            "--------------------------------------------------\n",
            "1226 Exactly Like You, section1 (A)\n",
            "1227 Exactly Like You, section2 (A)\n",
            "1228 Exactly Like You, section3 (B)\n",
            "1229 Exactly Like You, section4 (A)\n",
            "\n",
            "--------------------------------------------------\n",
            "1550 Honeysuckle Rose, section1 (A)\n",
            "1551 Honeysuckle Rose, section2 (A)\n",
            "1552 Honeysuckle Rose, section3 (B)\n",
            "1553 Honeysuckle Rose, section4 (A)\n",
            "\n",
            "--------------------------------------------------\n",
            "1664 I Got Rhythm, section1 (A)\n",
            "1665 I Got Rhythm, section2 (A)\n",
            "1666 I Got Rhythm, section3 (B)\n",
            "1667 I Got Rhythm, section4 (A)\n",
            "\n",
            "--------------------------------------------------\n",
            "2697 Misty, section1 (A)\n",
            "2698 Misty, section2 (A)\n",
            "2699 Misty, section3 (B)\n",
            "2700 Misty, section4 (A)\n",
            "\n",
            "--------------------------------------------------\n",
            "5160 Old Fashioned Love, section1 (A)\n",
            "5161 Old Fashioned Love, section2 (B)\n",
            "\n",
            "--------------------------------------------------\n",
            "3036 On The Sunny Side Of The Street, section1 (A)\n",
            "3037 On The Sunny Side Of The Street, section2 (A)\n",
            "3038 On The Sunny Side Of The Street, section3 (B)\n",
            "3039 On The Sunny Side Of The Street, section4 (A)\n",
            "\n",
            "--------------------------------------------------\n",
            "3783 Sweet Sue, Just You, section1 (A)\n",
            "3784 Sweet Sue, Just You, section2 (A)\n",
            "3785 Sweet Sue, Just You, section3 (B)\n",
            "3786 Sweet Sue, Just You, section4 (A)\n",
            "\n",
            "--------------------------------------------------\n",
            "3802 Take The A Train, section1 (A)\n",
            "3803 Take The A Train, section2 (A)\n",
            "3804 Take The A Train, section3 (B)\n",
            "3805 Take The A Train, section4 (A)\n",
            "\n",
            "--------------------------------------------------\n",
            "3894 These Foolish Things, section1 (A)\n",
            "3895 These Foolish Things, section2 (A)\n",
            "3896 These Foolish Things, section3 (B)\n",
            "3897 These Foolish Things, section4 (A)\n",
            "\n",
            "--------------------------------------------------\n",
            "4330 Wow, section1 (A)\n",
            "4331 Wow, section2 (B)\n",
            "4332 Wow, section3 (C)\n",
            "4333 Wow, section4 (A)\n",
            "\n",
            "Sections are tagged only with the section id, therefore only section similarity is evaluated.\n",
            "CPU times: user 9.27 s, sys: 4.03 s, total: 13.3 s\n",
            "Wall time: 9.13 s\n"
          ]
        }
      ]
    },
    {
      "cell_type": "markdown",
      "metadata": {
        "id": "XmDZT5t7gjgV"
      },
      "source": [
        "# Venn diagrams for Results"
      ]
    },
    {
      "cell_type": "code",
      "metadata": {
        "id": "U6WrsBcc00ar"
      },
      "source": [
        "import matplotlib.pyplot as plt\n",
        "from matplotlib_venn import venn3\n",
        "\n",
        "if False:\n",
        "  for tune in tunes_eval_list:\n",
        "    df, details = recommend_tune(df_tfidf, tune)\n",
        "    tfidf_tunes = list(df.head(30).loc[:,'similar_title'])\n",
        "\n",
        "    df, details = recommend_tune(df_lsi, tune)\n",
        "    lsi_tunes = list(df.head(30).loc[:,'similar_title'])\n",
        "\n",
        "    df, details = recommend_tune(df_doc2vec, tune)\n",
        "    word2vec_tunes = list(df.head(30).loc[:,'similar_title'])\n",
        "\n",
        "    set_tfidf = set(tfidf_tunes)\n",
        "    set_lsi = set(lsi_tunes)\n",
        "    set_word2vec = set(word2vec_tunes)\n",
        "\n",
        "    venn3([set_tfidf, set_lsi, set_word2vec], \n",
        "          set_labels=('TF-IDF', 'LSI', 'Doc2Vec'),\n",
        "          )\n",
        "    plt.title(f\"{tune}\")\n",
        "    plt.savefig('plot.png')\n",
        "    \n",
        "    if use_wandb:\n",
        "      wandb.log({\"venn_methods\": wandb.Image('plot.png')})\n",
        "    \n",
        "    plt.show()"
      ],
      "execution_count": null,
      "outputs": []
    },
    {
      "cell_type": "markdown",
      "metadata": {
        "id": "RhOWHSEU0DQH"
      },
      "source": [
        "# W&B Logging and Finish"
      ]
    },
    {
      "cell_type": "code",
      "metadata": {
        "id": "YMUDRHkm0aMV",
        "colab": {
          "base_uri": "https://localhost:8080/",
          "height": 125,
          "referenced_widgets": [
            "5ad0bb9fd2e4438583173c971c49eac0",
            "473e08f6024a4de488245eb1a1f5cc10",
            "d141ff9a0b19487a94638aca28f7e26b",
            "5324327c62b04e15992d9eb981685e6b",
            "27f78c58c3c84e6993adffa55c90e190",
            "59a3f52e183a471ca02c6db945c853cd",
            "fab144cf043d4aee896d604de7d5d983",
            "2136d2311fe04982906918bb4bb4aca4"
          ]
        },
        "outputId": "e5d6785b-4ccc-4f85-9eb3-254e5805915a"
      },
      "source": [
        "if use_wandb:\n",
        "  wandb.finish()"
      ],
      "execution_count": null,
      "outputs": [
        {
          "output_type": "display_data",
          "data": {
            "text/html": [
              "<br/>Waiting for W&B process to finish, PID 251... <strong style=\"color:green\">(success).</strong>"
            ],
            "text/plain": [
              "<IPython.core.display.HTML object>"
            ]
          },
          "metadata": {}
        },
        {
          "output_type": "display_data",
          "data": {
            "application/vnd.jupyter.widget-view+json": {
              "model_id": "5ad0bb9fd2e4438583173c971c49eac0",
              "version_minor": 0,
              "version_major": 2
            },
            "text/plain": [
              "VBox(children=(Label(value=' 6.09MB of 6.09MB uploaded (0.00MB deduped)\\r'), FloatProgress(value=1.0, max=1.0)…"
            ]
          },
          "metadata": {}
        },
        {
          "output_type": "display_data",
          "data": {
            "text/html": [
              "<style>\n",
              "    table.wandb td:nth-child(1) { padding: 0 10px; text-align: right }\n",
              "    .wandb-row { display: flex; flex-direction: row; flex-wrap: wrap; width: 100% }\n",
              "    .wandb-col { display: flex; flex-direction: column; flex-basis: 100%; flex: 1; padding: 10px; }\n",
              "    </style>\n",
              "<div class=\"wandb-row\"><div class=\"wandb-col\">\n",
              "</div><div class=\"wandb-col\">\n",
              "</div></div>\n",
              "Synced 5 W&B file(s), 7 media file(s), 13 artifact file(s) and 0 other file(s)\n",
              "<br/>Synced <strong style=\"color:#cdcd00\">stellar-sky-56</strong>: <a href=\"https://wandb.ai/doris/jazztunes/runs/2eyf3poc\" target=\"_blank\">https://wandb.ai/doris/jazztunes/runs/2eyf3poc</a><br/>\n",
              "Find logs at: <code>./wandb/run-20211220_131127-2eyf3poc/logs</code><br/>\n"
            ],
            "text/plain": [
              "<IPython.core.display.HTML object>"
            ]
          },
          "metadata": {}
        }
      ]
    },
    {
      "cell_type": "code",
      "metadata": {
        "id": "Vn_SFyKt0bYx"
      },
      "source": [
        "\n"
      ],
      "execution_count": null,
      "outputs": []
    },
    {
      "cell_type": "code",
      "metadata": {
        "id": "OaSXwXe9ptGr"
      },
      "source": [
        "\n"
      ],
      "execution_count": null,
      "outputs": []
    },
    {
      "cell_type": "code",
      "metadata": {
        "id": "I_3n7hZ0OF-r"
      },
      "source": [
        ""
      ],
      "execution_count": null,
      "outputs": []
    }
  ]
}