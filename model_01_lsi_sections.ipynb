{
  "nbformat": 4,
  "nbformat_minor": 0,
  "metadata": {
    "colab": {
      "name": "colab_g_recommender_score",
      "provenance": [],
      "toc_visible": true,
      "authorship_tag": "ABX9TyOhxMgR+RusQurKwlWaCqmm",
      "include_colab_link": true
    },
    "kernelspec": {
      "name": "python3",
      "display_name": "Python 3"
    },
    "language_info": {
      "name": "python"
    },
    "widgets": {
      "application/vnd.jupyter.widget-state+json": {
        "2f50721df0fd4e759e8ee2fac3e3d04e": {
          "model_module": "@jupyter-widgets/controls",
          "model_name": "VBoxModel",
          "model_module_version": "1.5.0",
          "state": {
            "_view_name": "VBoxView",
            "_dom_classes": [],
            "_model_name": "VBoxModel",
            "_view_module": "@jupyter-widgets/controls",
            "_model_module_version": "1.5.0",
            "_view_count": null,
            "_view_module_version": "1.5.0",
            "box_style": "",
            "layout": "IPY_MODEL_68d990d2cdf748cd92403bd45cdd9955",
            "_model_module": "@jupyter-widgets/controls",
            "children": [
              "IPY_MODEL_7b248e1e5ba744a7b3587413d048e2f5",
              "IPY_MODEL_cd507623d3424ad483ee52a2d5bff9b9"
            ]
          }
        },
        "68d990d2cdf748cd92403bd45cdd9955": {
          "model_module": "@jupyter-widgets/base",
          "model_name": "LayoutModel",
          "model_module_version": "1.2.0",
          "state": {
            "_view_name": "LayoutView",
            "grid_template_rows": null,
            "right": null,
            "justify_content": null,
            "_view_module": "@jupyter-widgets/base",
            "overflow": null,
            "_model_module_version": "1.2.0",
            "_view_count": null,
            "flex_flow": null,
            "width": null,
            "min_width": null,
            "border": null,
            "align_items": null,
            "bottom": null,
            "_model_module": "@jupyter-widgets/base",
            "top": null,
            "grid_column": null,
            "overflow_y": null,
            "overflow_x": null,
            "grid_auto_flow": null,
            "grid_area": null,
            "grid_template_columns": null,
            "flex": null,
            "_model_name": "LayoutModel",
            "justify_items": null,
            "grid_row": null,
            "max_height": null,
            "align_content": null,
            "visibility": null,
            "align_self": null,
            "height": null,
            "min_height": null,
            "padding": null,
            "grid_auto_rows": null,
            "grid_gap": null,
            "max_width": null,
            "order": null,
            "_view_module_version": "1.2.0",
            "grid_template_areas": null,
            "object_position": null,
            "object_fit": null,
            "grid_auto_columns": null,
            "margin": null,
            "display": null,
            "left": null
          }
        },
        "7b248e1e5ba744a7b3587413d048e2f5": {
          "model_module": "@jupyter-widgets/controls",
          "model_name": "LabelModel",
          "model_module_version": "1.5.0",
          "state": {
            "_view_name": "LabelView",
            "style": "IPY_MODEL_4ac7ec4033194523ba164236da892913",
            "_dom_classes": [],
            "description": "",
            "_model_name": "LabelModel",
            "placeholder": "​",
            "_view_module": "@jupyter-widgets/controls",
            "_model_module_version": "1.5.0",
            "value": " 1.76MB of 1.76MB uploaded (0.00MB deduped)\r",
            "_view_count": null,
            "_view_module_version": "1.5.0",
            "description_tooltip": null,
            "_model_module": "@jupyter-widgets/controls",
            "layout": "IPY_MODEL_1950f3c98dee4d2db0a06ffa0aa22ae2"
          }
        },
        "cd507623d3424ad483ee52a2d5bff9b9": {
          "model_module": "@jupyter-widgets/controls",
          "model_name": "FloatProgressModel",
          "model_module_version": "1.5.0",
          "state": {
            "_view_name": "ProgressView",
            "style": "IPY_MODEL_fabc7dc4c8c1450a87f7f8c3c3e195e9",
            "_dom_classes": [],
            "description": "",
            "_model_name": "FloatProgressModel",
            "bar_style": "",
            "max": 1,
            "_view_module": "@jupyter-widgets/controls",
            "_model_module_version": "1.5.0",
            "value": 1,
            "_view_count": null,
            "_view_module_version": "1.5.0",
            "orientation": "horizontal",
            "min": 0,
            "description_tooltip": null,
            "_model_module": "@jupyter-widgets/controls",
            "layout": "IPY_MODEL_2be3d09d6f6047568f192ce9e9f06277"
          }
        },
        "4ac7ec4033194523ba164236da892913": {
          "model_module": "@jupyter-widgets/controls",
          "model_name": "DescriptionStyleModel",
          "model_module_version": "1.5.0",
          "state": {
            "_view_name": "StyleView",
            "_model_name": "DescriptionStyleModel",
            "description_width": "",
            "_view_module": "@jupyter-widgets/base",
            "_model_module_version": "1.5.0",
            "_view_count": null,
            "_view_module_version": "1.2.0",
            "_model_module": "@jupyter-widgets/controls"
          }
        },
        "1950f3c98dee4d2db0a06ffa0aa22ae2": {
          "model_module": "@jupyter-widgets/base",
          "model_name": "LayoutModel",
          "model_module_version": "1.2.0",
          "state": {
            "_view_name": "LayoutView",
            "grid_template_rows": null,
            "right": null,
            "justify_content": null,
            "_view_module": "@jupyter-widgets/base",
            "overflow": null,
            "_model_module_version": "1.2.0",
            "_view_count": null,
            "flex_flow": null,
            "width": null,
            "min_width": null,
            "border": null,
            "align_items": null,
            "bottom": null,
            "_model_module": "@jupyter-widgets/base",
            "top": null,
            "grid_column": null,
            "overflow_y": null,
            "overflow_x": null,
            "grid_auto_flow": null,
            "grid_area": null,
            "grid_template_columns": null,
            "flex": null,
            "_model_name": "LayoutModel",
            "justify_items": null,
            "grid_row": null,
            "max_height": null,
            "align_content": null,
            "visibility": null,
            "align_self": null,
            "height": null,
            "min_height": null,
            "padding": null,
            "grid_auto_rows": null,
            "grid_gap": null,
            "max_width": null,
            "order": null,
            "_view_module_version": "1.2.0",
            "grid_template_areas": null,
            "object_position": null,
            "object_fit": null,
            "grid_auto_columns": null,
            "margin": null,
            "display": null,
            "left": null
          }
        },
        "fabc7dc4c8c1450a87f7f8c3c3e195e9": {
          "model_module": "@jupyter-widgets/controls",
          "model_name": "ProgressStyleModel",
          "model_module_version": "1.5.0",
          "state": {
            "_view_name": "StyleView",
            "_model_name": "ProgressStyleModel",
            "description_width": "",
            "_view_module": "@jupyter-widgets/base",
            "_model_module_version": "1.5.0",
            "_view_count": null,
            "_view_module_version": "1.2.0",
            "bar_color": null,
            "_model_module": "@jupyter-widgets/controls"
          }
        },
        "2be3d09d6f6047568f192ce9e9f06277": {
          "model_module": "@jupyter-widgets/base",
          "model_name": "LayoutModel",
          "model_module_version": "1.2.0",
          "state": {
            "_view_name": "LayoutView",
            "grid_template_rows": null,
            "right": null,
            "justify_content": null,
            "_view_module": "@jupyter-widgets/base",
            "overflow": null,
            "_model_module_version": "1.2.0",
            "_view_count": null,
            "flex_flow": null,
            "width": null,
            "min_width": null,
            "border": null,
            "align_items": null,
            "bottom": null,
            "_model_module": "@jupyter-widgets/base",
            "top": null,
            "grid_column": null,
            "overflow_y": null,
            "overflow_x": null,
            "grid_auto_flow": null,
            "grid_area": null,
            "grid_template_columns": null,
            "flex": null,
            "_model_name": "LayoutModel",
            "justify_items": null,
            "grid_row": null,
            "max_height": null,
            "align_content": null,
            "visibility": null,
            "align_self": null,
            "height": null,
            "min_height": null,
            "padding": null,
            "grid_auto_rows": null,
            "grid_gap": null,
            "max_width": null,
            "order": null,
            "_view_module_version": "1.2.0",
            "grid_template_areas": null,
            "object_position": null,
            "object_fit": null,
            "grid_auto_columns": null,
            "margin": null,
            "display": null,
            "left": null
          }
        }
      }
    }
  },
  "cells": [
    {
      "cell_type": "markdown",
      "metadata": {
        "id": "view-in-github",
        "colab_type": "text"
      },
      "source": [
        "<a href=\"https://colab.research.google.com/github/11doris/jazz-maestro/blob/colab_word_embeddings/model_01_lsi_sections.ipynb\" target=\"_parent\"><img src=\"https://colab.research.google.com/assets/colab-badge.svg\" alt=\"Open In Colab\"/></a>"
      ]
    },
    {
      "cell_type": "markdown",
      "metadata": {
        "id": "YGhakKpa8Dtf"
      },
      "source": [
        "# Sections as Input"
      ]
    },
    {
      "cell_type": "code",
      "metadata": {
        "colab": {
          "base_uri": "https://localhost:8080/"
        },
        "id": "dm5QehpXxo31",
        "outputId": "9e823eb4-9432-4c41-a86e-81755ff50868"
      },
      "source": [
        "pip install wandb"
      ],
      "execution_count": 1,
      "outputs": [
        {
          "output_type": "stream",
          "name": "stdout",
          "text": [
            "Requirement already satisfied: wandb in /usr/local/lib/python3.7/dist-packages (0.12.9)\n",
            "Requirement already satisfied: docker-pycreds>=0.4.0 in /usr/local/lib/python3.7/dist-packages (from wandb) (0.4.0)\n",
            "Requirement already satisfied: six>=1.13.0 in /usr/local/lib/python3.7/dist-packages (from wandb) (1.15.0)\n",
            "Requirement already satisfied: python-dateutil>=2.6.1 in /usr/local/lib/python3.7/dist-packages (from wandb) (2.8.2)\n",
            "Requirement already satisfied: yaspin>=1.0.0 in /usr/local/lib/python3.7/dist-packages (from wandb) (2.1.0)\n",
            "Requirement already satisfied: protobuf>=3.12.0 in /usr/local/lib/python3.7/dist-packages (from wandb) (3.17.3)\n",
            "Requirement already satisfied: psutil>=5.0.0 in /usr/local/lib/python3.7/dist-packages (from wandb) (5.4.8)\n",
            "Requirement already satisfied: pathtools in /usr/local/lib/python3.7/dist-packages (from wandb) (0.1.2)\n",
            "Requirement already satisfied: Click!=8.0.0,>=7.0 in /usr/local/lib/python3.7/dist-packages (from wandb) (7.1.2)\n",
            "Requirement already satisfied: requests<3,>=2.0.0 in /usr/local/lib/python3.7/dist-packages (from wandb) (2.23.0)\n",
            "Requirement already satisfied: shortuuid>=0.5.0 in /usr/local/lib/python3.7/dist-packages (from wandb) (1.0.8)\n",
            "Requirement already satisfied: GitPython>=1.0.0 in /usr/local/lib/python3.7/dist-packages (from wandb) (3.1.24)\n",
            "Requirement already satisfied: configparser>=3.8.1 in /usr/local/lib/python3.7/dist-packages (from wandb) (5.2.0)\n",
            "Requirement already satisfied: PyYAML in /usr/local/lib/python3.7/dist-packages (from wandb) (3.13)\n",
            "Requirement already satisfied: promise<3,>=2.0 in /usr/local/lib/python3.7/dist-packages (from wandb) (2.3)\n",
            "Requirement already satisfied: subprocess32>=3.5.3 in /usr/local/lib/python3.7/dist-packages (from wandb) (3.5.4)\n",
            "Requirement already satisfied: sentry-sdk>=1.0.0 in /usr/local/lib/python3.7/dist-packages (from wandb) (1.5.1)\n",
            "Requirement already satisfied: gitdb<5,>=4.0.1 in /usr/local/lib/python3.7/dist-packages (from GitPython>=1.0.0->wandb) (4.0.9)\n",
            "Requirement already satisfied: typing-extensions>=3.7.4.3 in /usr/local/lib/python3.7/dist-packages (from GitPython>=1.0.0->wandb) (3.10.0.2)\n",
            "Requirement already satisfied: smmap<6,>=3.0.1 in /usr/local/lib/python3.7/dist-packages (from gitdb<5,>=4.0.1->GitPython>=1.0.0->wandb) (5.0.0)\n",
            "Requirement already satisfied: certifi>=2017.4.17 in /usr/local/lib/python3.7/dist-packages (from requests<3,>=2.0.0->wandb) (2021.10.8)\n",
            "Requirement already satisfied: urllib3!=1.25.0,!=1.25.1,<1.26,>=1.21.1 in /usr/local/lib/python3.7/dist-packages (from requests<3,>=2.0.0->wandb) (1.24.3)\n",
            "Requirement already satisfied: idna<3,>=2.5 in /usr/local/lib/python3.7/dist-packages (from requests<3,>=2.0.0->wandb) (2.10)\n",
            "Requirement already satisfied: chardet<4,>=3.0.2 in /usr/local/lib/python3.7/dist-packages (from requests<3,>=2.0.0->wandb) (3.0.4)\n",
            "Requirement already satisfied: termcolor<2.0.0,>=1.1.0 in /usr/local/lib/python3.7/dist-packages (from yaspin>=1.0.0->wandb) (1.1.0)\n"
          ]
        }
      ]
    },
    {
      "cell_type": "code",
      "metadata": {
        "colab": {
          "base_uri": "https://localhost:8080/"
        },
        "id": "HZG8BDT-xrv3",
        "outputId": "d33a8588-5438-4a40-a0be-db57784672ad"
      },
      "source": [
        "!wandb login"
      ],
      "execution_count": 2,
      "outputs": [
        {
          "output_type": "stream",
          "name": "stdout",
          "text": [
            "\u001b[34m\u001b[1mwandb\u001b[0m: Currently logged in as: \u001b[33mdoris\u001b[0m (use `wandb login --relogin` to force relogin)\n"
          ]
        }
      ]
    },
    {
      "cell_type": "code",
      "metadata": {
        "id": "WHZBzAXjxz1J"
      },
      "source": [
        "import wandb"
      ],
      "execution_count": 3,
      "outputs": []
    },
    {
      "cell_type": "code",
      "metadata": {
        "colab": {
          "base_uri": "https://localhost:8080/"
        },
        "id": "MUy1ta4_782n",
        "outputId": "5b249984-b659-4f71-89e6-7d3330a40c3b"
      },
      "source": [
        "!pip uninstall gensim -y"
      ],
      "execution_count": 4,
      "outputs": [
        {
          "output_type": "stream",
          "name": "stdout",
          "text": [
            "Found existing installation: gensim 4.1.2\n",
            "Uninstalling gensim-4.1.2:\n",
            "  Successfully uninstalled gensim-4.1.2\n"
          ]
        }
      ]
    },
    {
      "cell_type": "code",
      "metadata": {
        "colab": {
          "base_uri": "https://localhost:8080/"
        },
        "id": "oAroxmvO8GQj",
        "outputId": "24871750-e465-4370-c6ad-c10b07ee9098"
      },
      "source": [
        "!pip install gensim"
      ],
      "execution_count": 5,
      "outputs": [
        {
          "output_type": "stream",
          "name": "stdout",
          "text": [
            "Collecting gensim\n",
            "  Using cached gensim-4.1.2-cp37-cp37m-manylinux_2_12_x86_64.manylinux2010_x86_64.whl (24.1 MB)\n",
            "Requirement already satisfied: numpy>=1.17.0 in /usr/local/lib/python3.7/dist-packages (from gensim) (1.19.5)\n",
            "Requirement already satisfied: smart-open>=1.8.1 in /usr/local/lib/python3.7/dist-packages (from gensim) (5.2.1)\n",
            "Requirement already satisfied: scipy>=0.18.1 in /usr/local/lib/python3.7/dist-packages (from gensim) (1.4.1)\n",
            "Installing collected packages: gensim\n",
            "Successfully installed gensim-4.1.2\n"
          ]
        }
      ]
    },
    {
      "cell_type": "code",
      "metadata": {
        "id": "6SZ0zrKX8H-D"
      },
      "source": [
        "import gensim\n",
        "from sklearn.manifold import TSNE\n",
        "import matplotlib.pyplot as plt\n",
        "import seaborn as sns\n",
        "import pprint\n",
        "import pandas as pd\n",
        "import numpy as np\n",
        "from collections import Counter\n",
        "import plotly.express as px\n",
        "from tqdm import tqdm \n",
        "from gensim.models.doc2vec import Doc2Vec\n",
        "from gensim.models.tfidfmodel import TfidfModel\n",
        "from gensim.models.lsimodel import LsiModel\n",
        "from gensim.models import CoherenceModel\n",
        "from gensim import corpora\n",
        "from gensim import similarities\n",
        "import pickle\n",
        "import os\n",
        "import zipfile\n"
      ],
      "execution_count": 6,
      "outputs": []
    },
    {
      "cell_type": "code",
      "metadata": {
        "id": "znWar-PK8KHT"
      },
      "source": [
        "import logging\n",
        "logging.basicConfig(format='%(asctime)s : %(levelname)s : %(message)s', level=logging.INFO)"
      ],
      "execution_count": 7,
      "outputs": []
    },
    {
      "cell_type": "code",
      "metadata": {
        "colab": {
          "base_uri": "https://localhost:8080/"
        },
        "id": "kjCf_Abf8MCc",
        "outputId": "5b6221ea-3884-4eee-9889-8879750c3050"
      },
      "source": [
        "print(gensim.__version__)"
      ],
      "execution_count": 8,
      "outputs": [
        {
          "output_type": "stream",
          "name": "stdout",
          "text": [
            "4.1.2\n"
          ]
        }
      ]
    },
    {
      "cell_type": "code",
      "metadata": {
        "id": "_aEonlx-CT6r"
      },
      "source": [
        "!rm data.csv"
      ],
      "execution_count": 9,
      "outputs": []
    },
    {
      "cell_type": "code",
      "metadata": {
        "id": "Xhfwd9iMZ99Q"
      },
      "source": [
        "pd.set_option('display.max_rows', 500)\n",
        "pd.set_option('display.max_columns', 500)\n",
        "pd.set_option('display.width', 1000)"
      ],
      "execution_count": 10,
      "outputs": []
    },
    {
      "cell_type": "markdown",
      "metadata": {
        "id": "Nk5pPZqk0Pn7"
      },
      "source": [
        "# Configuration\n"
      ]
    },
    {
      "cell_type": "code",
      "metadata": {
        "id": "wcZ18xhgU7MZ"
      },
      "source": [
        "use_wandb = True"
      ],
      "execution_count": 11,
      "outputs": []
    },
    {
      "cell_type": "code",
      "metadata": {
        "id": "A-AD1gxGLYxp"
      },
      "source": [
        "generate_webapp_data = False"
      ],
      "execution_count": 12,
      "outputs": []
    },
    {
      "cell_type": "code",
      "metadata": {
        "id": "GfQbJQmexlxI"
      },
      "source": [
        "docu = 'sections'\n",
        "chords_preprocessing = 'rootAndDegreesPlus'"
      ],
      "execution_count": 13,
      "outputs": []
    },
    {
      "cell_type": "code",
      "metadata": {
        "id": "buoyWNl0F48Y"
      },
      "source": [
        "ngrams_for_input = [1, 2]"
      ],
      "execution_count": 14,
      "outputs": []
    },
    {
      "cell_type": "code",
      "metadata": {
        "id": "H9AFlUZ1lpGC"
      },
      "source": [
        "remove_repetitions = False"
      ],
      "execution_count": 15,
      "outputs": []
    },
    {
      "cell_type": "code",
      "metadata": {
        "id": "K7qB2_sBvKpB"
      },
      "source": [
        "input_files = {\n",
        "    'sections': {\n",
        "        # M7 and 6 reduced to major triad, m7 reduced to m, dominant 7, m7b5, diminished, and all (b5) left as they are.\n",
        "        'rootAndDegreesPlus': '1NP6trpfnEPnFqJbmcuClvkBB28PNdF8c',\n",
        "        'rootAndDegrees7': '',\n",
        "        'rootAndDegreesSimplified': '1vyC9voFf2vpcKmS5kZBJ9Rafm7wuuzD8',\n",
        "    },\n",
        "}"
      ],
      "execution_count": 16,
      "outputs": []
    },
    {
      "cell_type": "code",
      "metadata": {
        "id": "uiI0h4ef0PCD"
      },
      "source": [
        "contrafacts = [\n",
        "               (\"26-2 [jazz1350]\", \"Confirmation [jazz1350]\"),\n",
        "               (\"52nd Street Theme [jazz1350]\", \"I Got Rhythm [jazz1350]\"), # not a good match\n",
        "               (\"Ablution [jazz1350]\", \"All The Things You Are [jazz1350]\"),\n",
        "               (\"Anthropology [jazz1350]\", \"I Got Rhythm [jazz1350]\"),\n",
        "               (\"Bright Mississippi [jazz1350]\", \"Sweet Georgia Brown [jazz1350]\"),\n",
        "               (\"C.T.A. [jazz1350]\", \"I Got Rhythm [jazz1350]\"),\n",
        "               #( \"Celia [jazz1350]\", \"I Got Rhythm [jazz1350]\"),\n",
        "               (\"Cottontail [jazz1350]\", \"I Got Rhythm [jazz1350]\"),\n",
        "               (\"Countdown [jazz1350]\", \"Tune Up [jazz1350]\"),\n",
        "               (\"Dewey Square [jazz1350]\", \"Oh, Lady Be Good [jazz1350]\"),\n",
        "               (\"Dexterity [jazz1350]\", \"I Got Rhythm [jazz1350]\"),\n",
        "               (\"Dig [jazz1350]\", \"Sweet Georgia Brown [jazz1350]\"),\n",
        "               (\"Donna Lee [jazz1350]\", \"Indiana (Back Home Again In) [jazz1350]\"),\n",
        "               (\"Don't Be That Way [jazz1350]\", \"I Got Rhythm [jazz1350]\"),  # cannot be found; bridge in different key\n",
        "               #(\"Eternal Triangle [jazz1350]\", \"I Got Rhythm [jazz1350]\"),\n",
        "               (\"Evidence [jazz1350]\", \"Just You, Just Me [jazz1350]\"),\n",
        "               (\"Flintstones [jazz1350]\", \"I Got Rhythm [jazz1350]\"),\n",
        "               (\"Four On Six [jazz1350]\", \"Summertime [jazz1350]\"),\n",
        "               (\"Freight Train [jazz1350]\", \"Blues For Alice [jazz1350]\"),\n",
        "               (\"Good Bait [jazz1350]\", \"I Got Rhythm [jazz1350]\"),  # A sections\n",
        "               (\"Hackensack [jazz1350]\", \"Oh, Lady Be Good [jazz1350]\"),\n",
        "               (\"Half Nelson [jazz1350]\", \"Lady Bird [jazz1350]\"),\n",
        "               (\"Hot House [jazz1350]\", \"What Is This Thing Called Love [jazz1350]\"),\n",
        "               (\"Impressions [jazz1350]\", \"So What [jazz1350]\"),\n",
        "               (\"In A Mellow Tone (In A Mellotone) [jazz1350]\", \"Rose Room [jazz1350]\"),\n",
        "               (\"In Walked Bud [jazz1350]\", \"Blue Skies [jazz1350]\"),\n",
        "               (\"Ko Ko [jazz1350]\", \"Cherokee [jazz1350]\"),\n",
        "               (\"Lennie's Pennies [jazz1350]\", \"Pennies From Heaven [jazz1350]\"),   ## Lennie's Pennies is in minor and therefore transposed to Amin... not possible to recognize like that\n",
        "               #( \"Let's Call This [jazz1350]\", \"Honeysuckle Rose [jazz1350]\"),\n",
        "               (\"Little Rootie Tootie [jazz1350]\", \"I Got Rhythm [jazz1350]\"),\n",
        "               (\"Little Willie Leaps [jazz1350]\", \"All God's Chillun Got Rhythm [jazz1350]\"),\n",
        "               (\"Lullaby Of Birdland [jazz1350]\", \"Love Me Or Leave Me [jazz1350]\"),\n",
        "               #(\"Moose The Mooche [jazz1350]\", \"I Got Rhythm [jazz1350]\"),\n",
        "               (\"My Little Suede Shoes [jazz1350]\", \"Jeepers Creepers [jazz1350]\"),\n",
        "               #(\"Oleo [jazz1350]\", \"I Got Rhythm [jazz1350]\"),\n",
        "               (\"Ornithology [jazz1350]\", \"How High The Moon [jazz1350]\"),\n",
        "               #(\"Passport [jazz1350]\", \"I Got Rhythm [jazz1350]\"),\n",
        "               (\"Quasimodo (Theme) [jazz1350]\", \"Embraceable You [jazz1350]\"),\n",
        "               #(\"Rhythm-a-ning [jazz1350]\", \"I Got Rhythm [jazz1350]\"),\n",
        "               (\"Room 608 [jazz1350]\", \"I Got Rhythm [jazz1350]\"),\n",
        "               #(\"Salt Peanuts [jazz1350]\", \"I Got Rhythm [jazz1350]\"),\n",
        "               (\"Satellite [jazz1350]\", \"How High The Moon [jazz1350]\"),\n",
        "               (\"Scrapple From The Apple [jazz1350]\", \"Honeysuckle Rose [jazz1350]\"), # A section\n",
        "               (\"Scrapple From The Apple [jazz1350]\", \"I Got Rhythm [jazz1350]\"), # B section\n",
        "               #(\"Segment [jazz1350]\", \"I Got Rhythm [jazz1350]\"),\n",
        "               #(\"Seven Come Eleven [jazz1350]\", \"I Got Rhythm [jazz1350]\"),\n",
        "               #(\"Shaw 'Nuff [jazz1350]\", \"I Got Rhythm [jazz1350]\"),\n",
        "               #(\"Theme, The [jazz1350]\", \"I Got Rhythm [jazz1350]\"),\n",
        "               (\"Tour De Force [jazz1350]\", \"Jeepers Creepers [jazz1350]\"),\n",
        "               (\"Wow [jazz1350]\", \"You Can Depend On Me [jazz1350]\"),\n",
        "               (\"Yardbird Suite [jazz1350]\", \"Rosetta [jazz1350]\"),\n",
        "\n",
        "               # following tunes are not from wikipedia),\n",
        "               (\"Sweet Sue, Just You [jazz1350]\", \"Honeysuckle Rose [jazz1350]\"),  # A section\n",
        "               #(\"All Of Me [jazz1350]\", \"Pennies From Heaven [jazz1350]\"), # bars 25-28 of All of Me are same as bars 17-20 of Pennies From Heaven, but different key!\n",
        "               (\"Sweet Sue, Just You [jazz1350]\", \"Bye Bye Blackbird [jazz1350]\"), # Bridge same\n",
        "               (\"These Foolish Things [jazz1350]\", \"Blue Moon [jazz1350]\"), # first 8 bars same\n",
        "               (\"These Foolish Things [jazz1350]\", \"More Than You Know [jazz1350]\"),\n",
        "               (\"These Foolish Things [jazz1350]\", \"Isn't It A Pity [jazz1350]\"),\n",
        "               (\"These Foolish Things [jazz1350]\", \"Soultrane [jazz1350]\"),\n",
        "               (\"These Foolish Things [jazz1350]\", \"Why Do I Love You [jazz1350]\"),\n",
        "               (\"Misty [jazz1350]\", \"Portrait Of Jennie [jazz1350]\"),\n",
        "               (\"Misty [jazz1350]\", \"September In The Rain [jazz1350]\"),\n",
        "               (\"Misty [jazz1350]\", \"I May Be Wrong [jazz1350]\"),  \n",
        "\n",
        "               # identical tunes\n",
        "               (\"Five Foot Two [trad]\", \"Please Don't Talk About Me When I'm Gone [trad]\"),\n",
        "               (\"What Is This Thing Called Love [jazz1350]\", \"Subconscious Lee [jazz1350]\"),\n",
        "               (\"Sweet Georgia Brown [jazz1350]\", \"Dig [jazz1350]\"),\n",
        "\n",
        "\n",
        "               # almost identical tunes\n",
        "               (\"What Is This Thing Called Love [jazz1350]\", \"Hot House [jazz1350]\"),\n",
        "               (\"Jeannie's Song [jazz1350]\", \"Shiny Stockings [jazz1350]\"),\n",
        "               (\"Alone Together [jazz1350]\", \"Segment [jazz1350]\"),\n",
        "               (\"Baubles, Bangles and Beads [jazz1350]\", \"Bossa Antigua [jazz1350]\"),\n",
        "               (\"There Will Never Be Another You [jazz1350]\", \"A Weaver Of Dreams [jazz1350]\"),\n",
        "               (\"Moten Swing [jazz1350]\", \"Once In A While (Ballad) [trad]\"), # same bridge, similar A\n",
        "               (\"All I Do Is Dream Of You [trad]\", \"L-O-V-E [jazz1350]\"),\n",
        "\n",
        "\n",
        "               # same A section\n",
        "               (\"Nancy (With The Laughing Face) [jazz1350]\", \"Body And Soul [jazz1350]\"),\n",
        "               (\"Exactly Like You [jazz1350]\", \"True (You Don't Love Me ) [trad]\"),\n",
        "               (\"Exactly Like You [jazz1350]\", \"Jersey Bounce [jazz1350]\"),\n",
        "               (\"Take The A Train [jazz1350]\", \"Girl From Ipanema, The [jazz1350]\"),\n",
        "               (\"My Heart Stood Still [jazz1350]\", \"All Too Soon [jazz1350]\"),\n",
        "               (\"Undecided [jazz1350]\", \"Broadway [jazz1350]\"),\n",
        "               (\"Let's Fall In Love [jazz1350]\", \"Heart And Soul [jazz1350]\"),\n",
        "               (\"Come Back To Me [jazz1350]\", \"I Wish I Knew [jazz1350]\"),\n",
        "               (\"Wait Till You See Her [jazz1350]\", \"A Certain Smile [jazz1350]\"),\n",
        "               (\"Killer Joe [jazz1350]\", \"Straight Life [jazz1350]\"),\n",
        "               (\"Softly, As In A Morning Sunrise [jazz1350]\", \"Segment [jazz1350]\"),\n",
        "               (\"Bei Mir Bist Du Schon (Root Hog Or Die) [trad]\", \"Egyptian Fantasy [trad]\"),\n",
        "               (\"Bei Mir Bist Du Schon (Root Hog Or Die) [trad]\", \"Puttin' On The Ritz [jazz1350]\"),\n",
        "               (\"Coquette [trad]\", \"Pretend You're Happy When You're Blue [trad]\"),\n",
        "               (\"Softly, As In A Morning Sunrise [jazz1350]\", \"Strode Rode [jazz1350]\"),\n",
        "               (\"Glory Of Love, The [jazz1350]\", \"I've Got My Fingers Crossed [trad]\"),\n",
        "               (\"Charleston, The [jazz1350]\", \"As Long As I Live [trad]\"),\n",
        "               (\"Fine And Dandy [jazz1350]\", \"I Can't Give You Anything But Love [jazz1350]\"),\n",
        "               (\"I'll Close My Eyes [jazz1350]\", \"Bluesette [jazz1350]\"),\n",
        "               (\"I'll Close My Eyes [jazz1350]\", \"There Will Never Be Another You [jazz1350]\"),\n",
        "\n",
        "\n",
        "\n",
        "               # same bridge\n",
        "               (\"If I Had You [jazz1350]\", \"Too Young To Go Steady [jazz1350]\"),\n",
        "               (\"Undecided [jazz1350]\", \"Satin Doll [jazz1350]\"),\n",
        "               (\"Billy Boy [jazz1350]\", \"Elora [jazz1350]\"),\n",
        "               (\"Dearly Beloved [jazz1350]\", \"We See [jazz1350]\"),\n",
        "               (\"Alone Together [jazz1350]\", \"A Night In Tunisia [jazz1350]\"),\n",
        "               (\"A Night In Tunisia [jazz1350]\", \"Segment [jazz1350]\"),\n",
        "               (\"Oh! Lady Be Good [trad]\", \"Sentimental Journey [jazz1350]\"),\n",
        "               (\"You Can Depend On Me [jazz1350]\", \"Move [jazz1350]\"),\n",
        "               (\"I Want To Be Happy [jazz1350]\", \"A Beautiful Friendship [jazz1350]\"),\n",
        "               (\"Flying Home [jazz1350]\", \"Down For Double [jazz1350]\"),\n",
        "               (\"Cheek To Cheek [jazz1350]\", \"Violets For Your Furs [jazz1350]\"),\n",
        "               (\"Let's Fall In Love [jazz1350]\", \"At Last [jazz1350]\"),\n",
        "               (\"Don't Be That Way [jazz1350]\", \"Long Ago And Far Away [jazz1350]\"),\n",
        "               (\"On The Sunny Side Of The Street [jazz1350]\", \"I'm Confessin' That I Love You [jazz1350]\"),\n",
        "               (\"On The Sunny Side Of The Street [jazz1350]\", \"Eclypso [jazz1350]\"),\n",
        "               (\"On The Sunny Side Of The Street [jazz1350]\", \"You Stepped Out Of A Dream [jazz1350]\"),\n",
        "               (\"Satin Doll [jazz1350]\", \"Undecided [jazz1350]\"),\n",
        "               \n",
        "\n",
        "               \n",
        "\n",
        "               # similar A section\n",
        "               (\"I Like The Likes Of You [jazz1350]\", \"Mountain Greenery [jazz1350]\"),\n",
        "               (\"My Secret Love [jazz1350]\", \"Samba De Orfeu [jazz1350]\"),\n",
        "               (\"Let's Call The Whole Thing Off [jazz1350]\", \"Fine And Dandy [jazz1350]\"),\n",
        "\n",
        "\n",
        "               # similar B section\n",
        "               (\"Folks Who Live On The Hill, The [jazz1350]\", \"My One And Only Love [jazz1350]\"),\n",
        "               (\"As Long As I Live [trad]\", \"I'm Glad There Is You [jazz1350]\"),\n",
        "               (\"I May Be Wrong [jazz1350]\", \"Teach Me Tonight [jazz1350]\"),\n",
        "               (\"Am I Blue [jazz1350]\", \"Come Back To Me [jazz1350]\"),\n",
        "               (\"My One And Only Love [jazz1350]\", \"Am I Blue [jazz1350]\"),\n",
        "               (\"On The Sunny Side Of The Street [jazz1350]\", \"September In The Rain [jazz1350]\"),\n",
        "               (\"On The Sunny Side Of The Street [jazz1350]\", \"Mountain Greenery [jazz1350]\"),\n",
        "               (\"On The Sunny Side Of The Street [jazz1350]\", \"There's No You [jazz1350]\"),\n",
        "               (\"These Foolish Things [jazz1350]\", \"Embraceable You [jazz1350]\"),\n",
        "               (\"These Foolish Things [jazz1350]\", \"Rosetta [jazz1350]\"),\n",
        "\n",
        "               # same C section\n",
        "               (\"Bill Bailey [jazz1350]\", \"Bourbon Street Parade [jazz1350]\"),\n",
        "\n",
        "               # Stella C is like Woody B\n",
        "               (\"Woody'n You [jazz1350]\", \"Stella By Starlight [jazz1350]\"),\n",
        "\n",
        "               # similar vocabulary, different progressions\n",
        "               (\"Tangerine [jazz1350]\", \"Tea For Two [jazz1350]\"),\n",
        "               (\"I Can't Give You Anything But Love [jazz1350]\", \"You Can Depend On Me [jazz1350]\"),\n",
        "               (\"This Year's Kisses [jazz1350]\", \"My Monday Date [trad]\"),\n",
        "               (\"A Blossom Fell [jazz1350]\", \"Among My Souvenirs [jazz1350]\"),\n",
        "\n",
        "]"
      ],
      "execution_count": 17,
      "outputs": []
    },
    {
      "cell_type": "code",
      "source": [
        "test_tunes = []\n",
        "for ref, sim in contrafacts:\n",
        "  if ref not in test_tunes:\n",
        "    test_tunes.append(ref)\n",
        "  if sim not in test_tunes:\n",
        "    test_tunes.append(sim)\n",
        "\n",
        "test_tunes.sort()\n",
        "len(test_tunes)"
      ],
      "metadata": {
        "colab": {
          "base_uri": "https://localhost:8080/"
        },
        "id": "0z7wMyZhEfCv",
        "outputId": "4084dfc8-ec78-4976-bb42-36312d074b38"
      },
      "execution_count": 18,
      "outputs": [
        {
          "output_type": "execute_result",
          "data": {
            "text/plain": [
              "168"
            ]
          },
          "metadata": {},
          "execution_count": 18
        }
      ]
    },
    {
      "cell_type": "code",
      "source": [
        "test_contrafacts = [\n",
        "               (\"These Foolish Things [jazz1350]\", \"Why Do I Love You [jazz1350]\"),\n",
        "]"
      ],
      "metadata": {
        "id": "DgYe9Rscvg_o"
      },
      "execution_count": 19,
      "outputs": []
    },
    {
      "cell_type": "code",
      "metadata": {
        "colab": {
          "base_uri": "https://localhost:8080/"
        },
        "id": "V2OXaDW9R31b",
        "outputId": "e9863196-d422-4791-e646-39a281761dc6"
      },
      "source": [
        "len(contrafacts)"
      ],
      "execution_count": 20,
      "outputs": [
        {
          "output_type": "execute_result",
          "data": {
            "text/plain": [
              "115"
            ]
          },
          "metadata": {},
          "execution_count": 20
        }
      ]
    },
    {
      "cell_type": "markdown",
      "metadata": {
        "id": "gcexO7zK8Pn6"
      },
      "source": [
        "# Initialization\n",
        "\n",
        "## Download the Data"
      ]
    },
    {
      "cell_type": "code",
      "metadata": {
        "id": "JwVJo3Vat8iF"
      },
      "source": [
        "input_data = input_files['sections'][chords_preprocessing]\n",
        "\n",
        "input_path = f\"https://docs.google.com/uc?export=download&id={input_data}\"\n",
        "data_file_name = 'data.csv'\n"
      ],
      "execution_count": 21,
      "outputs": []
    },
    {
      "cell_type": "code",
      "metadata": {
        "colab": {
          "base_uri": "https://localhost:8080/",
          "height": 1000
        },
        "id": "_Dp-fijjB-pU",
        "outputId": "ef9a1c12-f440-43c5-a592-ecc3b8e61511"
      },
      "source": [
        "input_path"
      ],
      "execution_count": 22,
      "outputs": [
        {
          "output_type": "execute_result",
          "data": {
            "application/vnd.google.colaboratory.intrinsic+json": {
              "type": "string"
            },
            "text/plain": [
              "'https://docs.google.com/uc?export=download&id=1NP6trpfnEPnFqJbmcuClvkBB28PNdF8c'"
            ]
          },
          "metadata": {},
          "execution_count": 22
        }
      ]
    },
    {
      "cell_type": "code",
      "metadata": {
        "colab": {
          "base_uri": "https://localhost:8080/"
        },
        "id": "1ZVAYUH5t9Li",
        "outputId": "5021ae08-5077-48da-9fae-8c7426eb24cf"
      },
      "source": [
        "!wget --no-check-certificate \"$input_path\" -O \"$data_file_name\""
      ],
      "execution_count": 23,
      "outputs": [
        {
          "output_type": "stream",
          "name": "stdout",
          "text": [
            "--2021-12-27 15:03:51--  https://docs.google.com/uc?export=download&id=1NP6trpfnEPnFqJbmcuClvkBB28PNdF8c\n",
            "Resolving docs.google.com (docs.google.com)... 108.177.125.100, 108.177.125.113, 108.177.125.138, ...\n",
            "Connecting to docs.google.com (docs.google.com)|108.177.125.100|:443... connected.\n",
            "HTTP request sent, awaiting response... 302 Moved Temporarily\n",
            "Location: https://doc-0g-4c-docs.googleusercontent.com/docs/securesc/ha0ro937gcuc7l7deffksulhg5h7mbp1/hujh0kgoibnros5mn2ka2li5vjnu9eg7/1640617425000/14329102864480165501/*/1NP6trpfnEPnFqJbmcuClvkBB28PNdF8c?e=download [following]\n",
            "Warning: wildcards not supported in HTTP.\n",
            "--2021-12-27 15:03:51--  https://doc-0g-4c-docs.googleusercontent.com/docs/securesc/ha0ro937gcuc7l7deffksulhg5h7mbp1/hujh0kgoibnros5mn2ka2li5vjnu9eg7/1640617425000/14329102864480165501/*/1NP6trpfnEPnFqJbmcuClvkBB28PNdF8c?e=download\n",
            "Resolving doc-0g-4c-docs.googleusercontent.com (doc-0g-4c-docs.googleusercontent.com)... 74.125.204.132, 2404:6800:4008:c04::84\n",
            "Connecting to doc-0g-4c-docs.googleusercontent.com (doc-0g-4c-docs.googleusercontent.com)|74.125.204.132|:443... connected.\n",
            "HTTP request sent, awaiting response... 200 OK\n",
            "Length: 817619 (798K) [text/csv]\n",
            "Saving to: ‘data.csv’\n",
            "\n",
            "data.csv            100%[===================>] 798.46K  --.-KB/s    in 0.009s  \n",
            "\n",
            "2021-12-27 15:03:52 (89.7 MB/s) - ‘data.csv’ saved [817619/817619]\n",
            "\n"
          ]
        }
      ]
    },
    {
      "cell_type": "markdown",
      "metadata": {
        "id": "Ljs21B7h8YvC"
      },
      "source": [
        "### Read Chords Input Data"
      ]
    },
    {
      "cell_type": "code",
      "metadata": {
        "colab": {
          "base_uri": "https://localhost:8080/",
          "height": 791
        },
        "id": "B7kK418L8aac",
        "outputId": "0ef0267b-94a9-4aff-fa33-0d35e4aed1fa"
      },
      "source": [
        "df = pd.read_csv(data_file_name, sep='\\t', index_col=\"id\")\n",
        "df = df.reset_index()\n",
        "df.head(5)"
      ],
      "execution_count": 24,
      "outputs": [
        {
          "output_type": "execute_result",
          "data": {
            "text/html": [
              "\n",
              "  <div id=\"df-8451423b-710e-4cb9-a955-8ba5cf1b9fc6\">\n",
              "    <div class=\"colab-df-container\">\n",
              "      <div>\n",
              "<style scoped>\n",
              "    .dataframe tbody tr th:only-of-type {\n",
              "        vertical-align: middle;\n",
              "    }\n",
              "\n",
              "    .dataframe tbody tr th {\n",
              "        vertical-align: top;\n",
              "    }\n",
              "\n",
              "    .dataframe thead th {\n",
              "        text-align: right;\n",
              "    }\n",
              "</style>\n",
              "<table border=\"1\" class=\"dataframe\">\n",
              "  <thead>\n",
              "    <tr style=\"text-align: right;\">\n",
              "      <th></th>\n",
              "      <th>id</th>\n",
              "      <th>file_name</th>\n",
              "      <th>title</th>\n",
              "      <th>title_playlist</th>\n",
              "      <th>tune_mode</th>\n",
              "      <th>tune_id</th>\n",
              "      <th>section_name</th>\n",
              "      <th>section_id</th>\n",
              "      <th>chords</th>\n",
              "    </tr>\n",
              "  </thead>\n",
              "  <tbody>\n",
              "    <tr>\n",
              "      <th>0</th>\n",
              "      <td>0</td>\n",
              "      <td>dataset/jazz1350/26-2.xml</td>\n",
              "      <td>26-2</td>\n",
              "      <td>26-2 [jazz1350]</td>\n",
              "      <td>major</td>\n",
              "      <td>0</td>\n",
              "      <td>A</td>\n",
              "      <td>1</td>\n",
              "      <td>C Eb7 G# B7 E G7 Gm C7 F G#7 C# E7 Am D7 Dm G7</td>\n",
              "    </tr>\n",
              "    <tr>\n",
              "      <th>1</th>\n",
              "      <td>1</td>\n",
              "      <td>dataset/jazz1350/26-2.xml</td>\n",
              "      <td>26-2</td>\n",
              "      <td>26-2 [jazz1350]</td>\n",
              "      <td>major</td>\n",
              "      <td>0</td>\n",
              "      <td>A</td>\n",
              "      <td>2</td>\n",
              "      <td>C Eb7 G# B7 E G7 Gm C7 F Eb7 G# B7 E G7 C</td>\n",
              "    </tr>\n",
              "    <tr>\n",
              "      <th>2</th>\n",
              "      <td>2</td>\n",
              "      <td>dataset/jazz1350/26-2.xml</td>\n",
              "      <td>26-2</td>\n",
              "      <td>26-2 [jazz1350]</td>\n",
              "      <td>major</td>\n",
              "      <td>0</td>\n",
              "      <td>B</td>\n",
              "      <td>3</td>\n",
              "      <td>Gm C7 Bm E7 A C7 F Bbm Eb7 G# Dm G7</td>\n",
              "    </tr>\n",
              "    <tr>\n",
              "      <th>3</th>\n",
              "      <td>3</td>\n",
              "      <td>dataset/jazz1350/26-2.xml</td>\n",
              "      <td>26-2</td>\n",
              "      <td>26-2 [jazz1350]</td>\n",
              "      <td>major</td>\n",
              "      <td>0</td>\n",
              "      <td>A</td>\n",
              "      <td>4</td>\n",
              "      <td>C Eb7 G# B7 E G7 Gm C7 F Eb7 G# B7 E G7 C</td>\n",
              "    </tr>\n",
              "    <tr>\n",
              "      <th>4</th>\n",
              "      <td>4</td>\n",
              "      <td>dataset/jazz1350/500 Miles High.xml</td>\n",
              "      <td>500 Miles High</td>\n",
              "      <td>500 Miles High [jazz1350]</td>\n",
              "      <td>minor</td>\n",
              "      <td>1</td>\n",
              "      <td>A</td>\n",
              "      <td>1</td>\n",
              "      <td>Am Am Cm Cm Eb Eb Em7b5 A7 Dm Dm Bm7b5 Bm7b5 B...</td>\n",
              "    </tr>\n",
              "  </tbody>\n",
              "</table>\n",
              "</div>\n",
              "      <button class=\"colab-df-convert\" onclick=\"convertToInteractive('df-8451423b-710e-4cb9-a955-8ba5cf1b9fc6')\"\n",
              "              title=\"Convert this dataframe to an interactive table.\"\n",
              "              style=\"display:none;\">\n",
              "        \n",
              "  <svg xmlns=\"http://www.w3.org/2000/svg\" height=\"24px\"viewBox=\"0 0 24 24\"\n",
              "       width=\"24px\">\n",
              "    <path d=\"M0 0h24v24H0V0z\" fill=\"none\"/>\n",
              "    <path d=\"M18.56 5.44l.94 2.06.94-2.06 2.06-.94-2.06-.94-.94-2.06-.94 2.06-2.06.94zm-11 1L8.5 8.5l.94-2.06 2.06-.94-2.06-.94L8.5 2.5l-.94 2.06-2.06.94zm10 10l.94 2.06.94-2.06 2.06-.94-2.06-.94-.94-2.06-.94 2.06-2.06.94z\"/><path d=\"M17.41 7.96l-1.37-1.37c-.4-.4-.92-.59-1.43-.59-.52 0-1.04.2-1.43.59L10.3 9.45l-7.72 7.72c-.78.78-.78 2.05 0 2.83L4 21.41c.39.39.9.59 1.41.59.51 0 1.02-.2 1.41-.59l7.78-7.78 2.81-2.81c.8-.78.8-2.07 0-2.86zM5.41 20L4 18.59l7.72-7.72 1.47 1.35L5.41 20z\"/>\n",
              "  </svg>\n",
              "      </button>\n",
              "      \n",
              "  <style>\n",
              "    .colab-df-container {\n",
              "      display:flex;\n",
              "      flex-wrap:wrap;\n",
              "      gap: 12px;\n",
              "    }\n",
              "\n",
              "    .colab-df-convert {\n",
              "      background-color: #E8F0FE;\n",
              "      border: none;\n",
              "      border-radius: 50%;\n",
              "      cursor: pointer;\n",
              "      display: none;\n",
              "      fill: #1967D2;\n",
              "      height: 32px;\n",
              "      padding: 0 0 0 0;\n",
              "      width: 32px;\n",
              "    }\n",
              "\n",
              "    .colab-df-convert:hover {\n",
              "      background-color: #E2EBFA;\n",
              "      box-shadow: 0px 1px 2px rgba(60, 64, 67, 0.3), 0px 1px 3px 1px rgba(60, 64, 67, 0.15);\n",
              "      fill: #174EA6;\n",
              "    }\n",
              "\n",
              "    [theme=dark] .colab-df-convert {\n",
              "      background-color: #3B4455;\n",
              "      fill: #D2E3FC;\n",
              "    }\n",
              "\n",
              "    [theme=dark] .colab-df-convert:hover {\n",
              "      background-color: #434B5C;\n",
              "      box-shadow: 0px 1px 3px 1px rgba(0, 0, 0, 0.15);\n",
              "      filter: drop-shadow(0px 1px 2px rgba(0, 0, 0, 0.3));\n",
              "      fill: #FFFFFF;\n",
              "    }\n",
              "  </style>\n",
              "\n",
              "      <script>\n",
              "        const buttonEl =\n",
              "          document.querySelector('#df-8451423b-710e-4cb9-a955-8ba5cf1b9fc6 button.colab-df-convert');\n",
              "        buttonEl.style.display =\n",
              "          google.colab.kernel.accessAllowed ? 'block' : 'none';\n",
              "\n",
              "        async function convertToInteractive(key) {\n",
              "          const element = document.querySelector('#df-8451423b-710e-4cb9-a955-8ba5cf1b9fc6');\n",
              "          const dataTable =\n",
              "            await google.colab.kernel.invokeFunction('convertToInteractive',\n",
              "                                                     [key], {});\n",
              "          if (!dataTable) return;\n",
              "\n",
              "          const docLinkHtml = 'Like what you see? Visit the ' +\n",
              "            '<a target=\"_blank\" href=https://colab.research.google.com/notebooks/data_table.ipynb>data table notebook</a>'\n",
              "            + ' to learn more about interactive tables.';\n",
              "          element.innerHTML = '';\n",
              "          dataTable['output_type'] = 'display_data';\n",
              "          await google.colab.output.renderOutput(dataTable, element);\n",
              "          const docLink = document.createElement('div');\n",
              "          docLink.innerHTML = docLinkHtml;\n",
              "          element.appendChild(docLink);\n",
              "        }\n",
              "      </script>\n",
              "    </div>\n",
              "  </div>\n",
              "  "
            ],
            "text/plain": [
              "   id                            file_name           title             title_playlist tune_mode  tune_id section_name  section_id                                             chords\n",
              "0   0            dataset/jazz1350/26-2.xml            26-2            26-2 [jazz1350]     major        0            A           1     C Eb7 G# B7 E G7 Gm C7 F G#7 C# E7 Am D7 Dm G7\n",
              "1   1            dataset/jazz1350/26-2.xml            26-2            26-2 [jazz1350]     major        0            A           2          C Eb7 G# B7 E G7 Gm C7 F Eb7 G# B7 E G7 C\n",
              "2   2            dataset/jazz1350/26-2.xml            26-2            26-2 [jazz1350]     major        0            B           3                Gm C7 Bm E7 A C7 F Bbm Eb7 G# Dm G7\n",
              "3   3            dataset/jazz1350/26-2.xml            26-2            26-2 [jazz1350]     major        0            A           4          C Eb7 G# B7 E G7 Gm C7 F Eb7 G# B7 E G7 C\n",
              "4   4  dataset/jazz1350/500 Miles High.xml  500 Miles High  500 Miles High [jazz1350]     minor        1            A           1  Am Am Cm Cm Eb Eb Em7b5 A7 Dm Dm Bm7b5 Bm7b5 B..."
            ]
          },
          "metadata": {},
          "execution_count": 24
        }
      ]
    },
    {
      "cell_type": "markdown",
      "metadata": {
        "id": "OsPcEFbg8gu6"
      },
      "source": [
        "### Meta Data"
      ]
    },
    {
      "cell_type": "code",
      "metadata": {
        "colab": {
          "base_uri": "https://localhost:8080/",
          "height": 305
        },
        "id": "_62YlEVJXOCL",
        "outputId": "a784f011-67b4-45d4-8a2f-b3f0903f634e"
      },
      "source": [
        "titles = df.loc[:, ['id', 'tune_id', 'section_id', 'section_name', 'title', 'title_playlist', 'tune_mode']]\n",
        "titles[:5]"
      ],
      "execution_count": 25,
      "outputs": [
        {
          "output_type": "execute_result",
          "data": {
            "text/html": [
              "\n",
              "  <div id=\"df-5881fc97-c117-4a00-9864-b1c0d05ee1fb\">\n",
              "    <div class=\"colab-df-container\">\n",
              "      <div>\n",
              "<style scoped>\n",
              "    .dataframe tbody tr th:only-of-type {\n",
              "        vertical-align: middle;\n",
              "    }\n",
              "\n",
              "    .dataframe tbody tr th {\n",
              "        vertical-align: top;\n",
              "    }\n",
              "\n",
              "    .dataframe thead th {\n",
              "        text-align: right;\n",
              "    }\n",
              "</style>\n",
              "<table border=\"1\" class=\"dataframe\">\n",
              "  <thead>\n",
              "    <tr style=\"text-align: right;\">\n",
              "      <th></th>\n",
              "      <th>id</th>\n",
              "      <th>tune_id</th>\n",
              "      <th>section_id</th>\n",
              "      <th>section_name</th>\n",
              "      <th>title</th>\n",
              "      <th>title_playlist</th>\n",
              "      <th>tune_mode</th>\n",
              "    </tr>\n",
              "  </thead>\n",
              "  <tbody>\n",
              "    <tr>\n",
              "      <th>0</th>\n",
              "      <td>0</td>\n",
              "      <td>0</td>\n",
              "      <td>1</td>\n",
              "      <td>A</td>\n",
              "      <td>26-2</td>\n",
              "      <td>26-2 [jazz1350]</td>\n",
              "      <td>major</td>\n",
              "    </tr>\n",
              "    <tr>\n",
              "      <th>1</th>\n",
              "      <td>1</td>\n",
              "      <td>0</td>\n",
              "      <td>2</td>\n",
              "      <td>A</td>\n",
              "      <td>26-2</td>\n",
              "      <td>26-2 [jazz1350]</td>\n",
              "      <td>major</td>\n",
              "    </tr>\n",
              "    <tr>\n",
              "      <th>2</th>\n",
              "      <td>2</td>\n",
              "      <td>0</td>\n",
              "      <td>3</td>\n",
              "      <td>B</td>\n",
              "      <td>26-2</td>\n",
              "      <td>26-2 [jazz1350]</td>\n",
              "      <td>major</td>\n",
              "    </tr>\n",
              "    <tr>\n",
              "      <th>3</th>\n",
              "      <td>3</td>\n",
              "      <td>0</td>\n",
              "      <td>4</td>\n",
              "      <td>A</td>\n",
              "      <td>26-2</td>\n",
              "      <td>26-2 [jazz1350]</td>\n",
              "      <td>major</td>\n",
              "    </tr>\n",
              "    <tr>\n",
              "      <th>4</th>\n",
              "      <td>4</td>\n",
              "      <td>1</td>\n",
              "      <td>1</td>\n",
              "      <td>A</td>\n",
              "      <td>500 Miles High</td>\n",
              "      <td>500 Miles High [jazz1350]</td>\n",
              "      <td>minor</td>\n",
              "    </tr>\n",
              "  </tbody>\n",
              "</table>\n",
              "</div>\n",
              "      <button class=\"colab-df-convert\" onclick=\"convertToInteractive('df-5881fc97-c117-4a00-9864-b1c0d05ee1fb')\"\n",
              "              title=\"Convert this dataframe to an interactive table.\"\n",
              "              style=\"display:none;\">\n",
              "        \n",
              "  <svg xmlns=\"http://www.w3.org/2000/svg\" height=\"24px\"viewBox=\"0 0 24 24\"\n",
              "       width=\"24px\">\n",
              "    <path d=\"M0 0h24v24H0V0z\" fill=\"none\"/>\n",
              "    <path d=\"M18.56 5.44l.94 2.06.94-2.06 2.06-.94-2.06-.94-.94-2.06-.94 2.06-2.06.94zm-11 1L8.5 8.5l.94-2.06 2.06-.94-2.06-.94L8.5 2.5l-.94 2.06-2.06.94zm10 10l.94 2.06.94-2.06 2.06-.94-2.06-.94-.94-2.06-.94 2.06-2.06.94z\"/><path d=\"M17.41 7.96l-1.37-1.37c-.4-.4-.92-.59-1.43-.59-.52 0-1.04.2-1.43.59L10.3 9.45l-7.72 7.72c-.78.78-.78 2.05 0 2.83L4 21.41c.39.39.9.59 1.41.59.51 0 1.02-.2 1.41-.59l7.78-7.78 2.81-2.81c.8-.78.8-2.07 0-2.86zM5.41 20L4 18.59l7.72-7.72 1.47 1.35L5.41 20z\"/>\n",
              "  </svg>\n",
              "      </button>\n",
              "      \n",
              "  <style>\n",
              "    .colab-df-container {\n",
              "      display:flex;\n",
              "      flex-wrap:wrap;\n",
              "      gap: 12px;\n",
              "    }\n",
              "\n",
              "    .colab-df-convert {\n",
              "      background-color: #E8F0FE;\n",
              "      border: none;\n",
              "      border-radius: 50%;\n",
              "      cursor: pointer;\n",
              "      display: none;\n",
              "      fill: #1967D2;\n",
              "      height: 32px;\n",
              "      padding: 0 0 0 0;\n",
              "      width: 32px;\n",
              "    }\n",
              "\n",
              "    .colab-df-convert:hover {\n",
              "      background-color: #E2EBFA;\n",
              "      box-shadow: 0px 1px 2px rgba(60, 64, 67, 0.3), 0px 1px 3px 1px rgba(60, 64, 67, 0.15);\n",
              "      fill: #174EA6;\n",
              "    }\n",
              "\n",
              "    [theme=dark] .colab-df-convert {\n",
              "      background-color: #3B4455;\n",
              "      fill: #D2E3FC;\n",
              "    }\n",
              "\n",
              "    [theme=dark] .colab-df-convert:hover {\n",
              "      background-color: #434B5C;\n",
              "      box-shadow: 0px 1px 3px 1px rgba(0, 0, 0, 0.15);\n",
              "      filter: drop-shadow(0px 1px 2px rgba(0, 0, 0, 0.3));\n",
              "      fill: #FFFFFF;\n",
              "    }\n",
              "  </style>\n",
              "\n",
              "      <script>\n",
              "        const buttonEl =\n",
              "          document.querySelector('#df-5881fc97-c117-4a00-9864-b1c0d05ee1fb button.colab-df-convert');\n",
              "        buttonEl.style.display =\n",
              "          google.colab.kernel.accessAllowed ? 'block' : 'none';\n",
              "\n",
              "        async function convertToInteractive(key) {\n",
              "          const element = document.querySelector('#df-5881fc97-c117-4a00-9864-b1c0d05ee1fb');\n",
              "          const dataTable =\n",
              "            await google.colab.kernel.invokeFunction('convertToInteractive',\n",
              "                                                     [key], {});\n",
              "          if (!dataTable) return;\n",
              "\n",
              "          const docLinkHtml = 'Like what you see? Visit the ' +\n",
              "            '<a target=\"_blank\" href=https://colab.research.google.com/notebooks/data_table.ipynb>data table notebook</a>'\n",
              "            + ' to learn more about interactive tables.';\n",
              "          element.innerHTML = '';\n",
              "          dataTable['output_type'] = 'display_data';\n",
              "          await google.colab.output.renderOutput(dataTable, element);\n",
              "          const docLink = document.createElement('div');\n",
              "          docLink.innerHTML = docLinkHtml;\n",
              "          element.appendChild(docLink);\n",
              "        }\n",
              "      </script>\n",
              "    </div>\n",
              "  </div>\n",
              "  "
            ],
            "text/plain": [
              "   id  tune_id  section_id section_name           title             title_playlist tune_mode\n",
              "0   0        0           1            A            26-2            26-2 [jazz1350]     major\n",
              "1   1        0           2            A            26-2            26-2 [jazz1350]     major\n",
              "2   2        0           3            B            26-2            26-2 [jazz1350]     major\n",
              "3   3        0           4            A            26-2            26-2 [jazz1350]     major\n",
              "4   4        1           1            A  500 Miles High  500 Miles High [jazz1350]     minor"
            ]
          },
          "metadata": {},
          "execution_count": 25
        }
      ]
    },
    {
      "cell_type": "code",
      "metadata": {
        "id": "0vEOjvwt8jUu"
      },
      "source": [
        "titles_dict = titles.to_dict()\n",
        "\n",
        "sectionid_to_title = titles_dict['title_playlist']\n",
        "sectionid_to_titleid = titles_dict['tune_id']\n"
      ],
      "execution_count": 26,
      "outputs": []
    },
    {
      "cell_type": "code",
      "metadata": {
        "id": "Om7pbfnNGO_I"
      },
      "source": [
        "tunes = df.loc[:, ['tune_id', 'title_playlist']].drop_duplicates()\n",
        "tunes = tunes.set_index('tune_id').to_dict()\n",
        "titleid_to_title = tunes['title_playlist']"
      ],
      "execution_count": 27,
      "outputs": []
    },
    {
      "cell_type": "code",
      "metadata": {
        "colab": {
          "base_uri": "https://localhost:8080/"
        },
        "id": "MdUrEFKj7kVA",
        "outputId": "5afa3a94-0cfa-43f6-a8ae-ec34068be4c1"
      },
      "source": [
        "len(titleid_to_title)"
      ],
      "execution_count": 28,
      "outputs": [
        {
          "output_type": "execute_result",
          "data": {
            "text/plain": [
              "1686"
            ]
          },
          "metadata": {},
          "execution_count": 28
        }
      ]
    },
    {
      "cell_type": "code",
      "metadata": {
        "id": "OvLyxrExxvew"
      },
      "source": [
        "title_to_titleid = {v: k for k, v in titleid_to_title.items()}\n"
      ],
      "execution_count": 29,
      "outputs": []
    },
    {
      "cell_type": "code",
      "metadata": {
        "id": "1H72Y3_d8uNu"
      },
      "source": [
        "titles_rows = titles.to_dict(orient='records')\n",
        "sectionid_to_section = []\n",
        "for i, row in enumerate(titles_rows):\n",
        "  name = f\"{row['title']}, section{row['section_id']} ({row['section_name']})\"\n",
        "  sectionid_to_section.append(name)\n",
        "  "
      ],
      "execution_count": 30,
      "outputs": []
    },
    {
      "cell_type": "code",
      "metadata": {
        "id": "1W7RfTQpaIEz"
      },
      "source": [
        "sectionid_to_sectionlabel = []\n",
        "for i, row in enumerate(titles_rows):\n",
        "  sectionid_to_sectionlabel.append(row['section_name'])\n",
        "  "
      ],
      "execution_count": 31,
      "outputs": []
    },
    {
      "cell_type": "code",
      "metadata": {
        "id": "HCeGUk818y8V"
      },
      "source": [
        "title_to_sectionid = {}\n",
        "\n",
        "for row in titles.iterrows():\n",
        "  title = row[1]['title_playlist']\n",
        "  if title not in title_to_sectionid:\n",
        "    title_to_sectionid[title] = [row[1]['id']]\n",
        "  else:\n",
        "    title_to_sectionid[title].append(row[1]['id'])"
      ],
      "execution_count": 32,
      "outputs": []
    },
    {
      "cell_type": "markdown",
      "metadata": {
        "id": "GWXGqImnoHdm"
      },
      "source": [
        "### Create Directories on Colab"
      ]
    },
    {
      "cell_type": "code",
      "metadata": {
        "id": "sDWIxDpIoJv1"
      },
      "source": [
        "!rm -R output\n",
        "!mkdir output"
      ],
      "execution_count": 33,
      "outputs": []
    },
    {
      "cell_type": "markdown",
      "metadata": {
        "id": "LvQ60s_owm82"
      },
      "source": [
        "## Initialization for wandb variables"
      ]
    },
    {
      "cell_type": "code",
      "metadata": {
        "id": "fw7FHHXfwagL"
      },
      "source": [
        "recommender_results_cols = ['reference', 'id', 'method', 'similar', 'score_div_max', 'score']\n",
        "recommender_results = pd.DataFrame(columns=recommender_results_cols)"
      ],
      "execution_count": 34,
      "outputs": []
    },
    {
      "cell_type": "code",
      "metadata": {
        "id": "PfvF20G1JZMa"
      },
      "source": [
        "lsi_config = {\n",
        "    'num_topics': 100, #22, # 100 gives a better value for the contrafacts test\n",
        "}"
      ],
      "execution_count": 35,
      "outputs": []
    },
    {
      "cell_type": "code",
      "metadata": {
        "id": "sxdJ97gdx70_",
        "colab": {
          "base_uri": "https://localhost:8080/",
          "height": 212
        },
        "outputId": "ac6e1f60-621c-41cb-e1d6-f55253daaf97"
      },
      "source": [
        "if use_wandb:\n",
        "  wandb.init(\n",
        "        # Set entity to specify your username or team name\n",
        "        # ex: entity=\"carey\",\n",
        "        # Set the project where this run will be logged\n",
        "        project=\"lsi_model\", \n",
        "        \n",
        "        # Track hyperparameters and run metadata\n",
        "        config={\n",
        "            \"input_data\": input_path,\n",
        "            \"ngrams_input\": ngrams_for_input,\n",
        "            \"comparison\": docu,\n",
        "            \"lsi\": lsi_config,\n",
        "            \"remove_repeated_chords\": remove_repetitions,\n",
        "            \"comment\": \"\"\n",
        "        }\n",
        "    )"
      ],
      "execution_count": 36,
      "outputs": [
        {
          "output_type": "stream",
          "name": "stderr",
          "text": [
            "\u001b[34m\u001b[1mwandb\u001b[0m: Currently logged in as: \u001b[33mdoris\u001b[0m (use `wandb login --relogin` to force relogin)\n"
          ]
        },
        {
          "output_type": "display_data",
          "data": {
            "text/html": [
              "\n",
              "                    Syncing run <strong><a href=\"https://wandb.ai/doris/lsi_model/runs/2wwyro8n\" target=\"_blank\">radiant-smoke-18</a></strong> to <a href=\"https://wandb.ai/doris/lsi_model\" target=\"_blank\">Weights & Biases</a> (<a href=\"https://docs.wandb.com/integrations/jupyter.html\" target=\"_blank\">docs</a>).<br/>\n",
              "\n",
              "                "
            ],
            "text/plain": [
              "<IPython.core.display.HTML object>"
            ]
          },
          "metadata": {}
        }
      ]
    },
    {
      "cell_type": "code",
      "metadata": {
        "id": "xHOY4TKYVN-g"
      },
      "source": [
        "if use_wandb:\n",
        "  artifact = wandb.Artifact('input_data', type='dataset')\n",
        "  artifact.add_file('data.csv')\n",
        "  wandb.log_artifact(artifact)"
      ],
      "execution_count": 37,
      "outputs": []
    },
    {
      "cell_type": "markdown",
      "metadata": {
        "id": "wox-dMcz84Bt"
      },
      "source": [
        "## Helpers functions"
      ]
    },
    {
      "cell_type": "code",
      "metadata": {
        "id": "2964REdr80Gd"
      },
      "source": [
        "def ngrams(tokens, n=2, sep='-'):\n",
        "    return [sep.join(ngram) for ngram in zip(*[tokens[i:] for i in range(n)])]"
      ],
      "execution_count": 38,
      "outputs": []
    },
    {
      "cell_type": "code",
      "metadata": {
        "id": "W42rugQPNYVP"
      },
      "source": [
        "def raw_chords_to_df(tunes):\n",
        "  tunes_chords = [item for tune in tunes for item in tune]\n",
        "  counts = Counter(tunes_chords)\n",
        "  df = pd.DataFrame(counts.items(),\n",
        "                    columns=['chord', 'count']).sort_values(by='count', ascending=False)\n",
        "\n",
        "  return df"
      ],
      "execution_count": 39,
      "outputs": []
    },
    {
      "cell_type": "markdown",
      "metadata": {
        "id": "umfsNtAdF0jM"
      },
      "source": [
        "# Data Preparation"
      ]
    },
    {
      "cell_type": "code",
      "metadata": {
        "id": "FeRqVmphCS6m"
      },
      "source": [
        "def remove_chord_repetitions(chords):\n",
        "  previous = ''\n",
        "  chords_norep = []\n",
        "  for c in chords:\n",
        "    if c != previous:\n",
        "      chords_norep.append(c)\n",
        "      previous = c\n",
        "  return chords_norep\n",
        "  "
      ],
      "execution_count": 40,
      "outputs": []
    },
    {
      "cell_type": "code",
      "metadata": {
        "id": "dCLwnqoVGcMw"
      },
      "source": [
        "lines = df.loc[:, 'chords'].tolist()\n",
        "data = [line.split(' ') for line in lines]"
      ],
      "execution_count": 41,
      "outputs": []
    },
    {
      "cell_type": "code",
      "source": [
        "test_tunes[:5]"
      ],
      "metadata": {
        "colab": {
          "base_uri": "https://localhost:8080/"
        },
        "id": "AAe9lyH2FtDU",
        "outputId": "ebc740c3-cd16-488e-d405-d6977a5585a6"
      },
      "execution_count": 42,
      "outputs": [
        {
          "output_type": "execute_result",
          "data": {
            "text/plain": [
              "['26-2 [jazz1350]',\n",
              " '52nd Street Theme [jazz1350]',\n",
              " 'A Beautiful Friendship [jazz1350]',\n",
              " 'A Blossom Fell [jazz1350]',\n",
              " 'A Certain Smile [jazz1350]']"
            ]
          },
          "metadata": {},
          "execution_count": 42
        }
      ]
    },
    {
      "cell_type": "code",
      "source": [
        "test_tune_sectionid = []\n",
        "for title in test_tunes:\n",
        "  test_tune_sectionid.extend(title_to_sectionid[title])\n",
        "\n",
        "test_tune_sectionid[:10]"
      ],
      "metadata": {
        "colab": {
          "base_uri": "https://localhost:8080/"
        },
        "id": "Nuy2POFOFwBZ",
        "outputId": "6f3ce16c-ed64-47fa-a018-e608d1fad99f"
      },
      "execution_count": 43,
      "outputs": [
        {
          "output_type": "execute_result",
          "data": {
            "text/plain": [
              "[0, 1, 2, 3, 7, 8, 9, 10, 19, 20]"
            ]
          },
          "metadata": {},
          "execution_count": 43
        }
      ]
    },
    {
      "cell_type": "code",
      "source": [
        "len(data)"
      ],
      "metadata": {
        "colab": {
          "base_uri": "https://localhost:8080/"
        },
        "id": "c1t9d9F3F8Gz",
        "outputId": "3a1a6026-4595-4bd4-9baf-05baccc02727"
      },
      "execution_count": 44,
      "outputs": [
        {
          "output_type": "execute_result",
          "data": {
            "text/plain": [
              "5536"
            ]
          },
          "metadata": {},
          "execution_count": 44
        }
      ]
    },
    {
      "cell_type": "code",
      "metadata": {
        "colab": {
          "base_uri": "https://localhost:8080/"
        },
        "id": "g7SmApW9F3K6",
        "outputId": "24d64f65-583d-451a-bca0-88ea66c54639"
      },
      "source": [
        "processed_corpus = []\n",
        "test_corpus = []\n",
        "\n",
        "#for line in data:\n",
        "for id, line in enumerate(data):  \n",
        "  tune_n = []\n",
        "  if remove_repetitions:\n",
        "    line = remove_chord_repetitions(line)\n",
        "  for n in ngrams_for_input:\n",
        "    tune_n.extend(ngrams(line, n=n))\n",
        "  processed_corpus.append(tune_n)\n",
        "  if id not in test_tune_sectionid:\n",
        "    test_corpus.append(tune_n)\n",
        "\n",
        "for line in processed_corpus[:10]:\n",
        "  print(line)"
      ],
      "execution_count": 45,
      "outputs": [
        {
          "output_type": "stream",
          "name": "stdout",
          "text": [
            "['C', 'Eb7', 'G#', 'B7', 'E', 'G7', 'Gm', 'C7', 'F', 'G#7', 'C#', 'E7', 'Am', 'D7', 'Dm', 'G7', 'C-Eb7', 'Eb7-G#', 'G#-B7', 'B7-E', 'E-G7', 'G7-Gm', 'Gm-C7', 'C7-F', 'F-G#7', 'G#7-C#', 'C#-E7', 'E7-Am', 'Am-D7', 'D7-Dm', 'Dm-G7']\n",
            "['C', 'Eb7', 'G#', 'B7', 'E', 'G7', 'Gm', 'C7', 'F', 'Eb7', 'G#', 'B7', 'E', 'G7', 'C', 'C-Eb7', 'Eb7-G#', 'G#-B7', 'B7-E', 'E-G7', 'G7-Gm', 'Gm-C7', 'C7-F', 'F-Eb7', 'Eb7-G#', 'G#-B7', 'B7-E', 'E-G7', 'G7-C']\n",
            "['Gm', 'C7', 'Bm', 'E7', 'A', 'C7', 'F', 'Bbm', 'Eb7', 'G#', 'Dm', 'G7', 'Gm-C7', 'C7-Bm', 'Bm-E7', 'E7-A', 'A-C7', 'C7-F', 'F-Bbm', 'Bbm-Eb7', 'Eb7-G#', 'G#-Dm', 'Dm-G7']\n",
            "['C', 'Eb7', 'G#', 'B7', 'E', 'G7', 'Gm', 'C7', 'F', 'Eb7', 'G#', 'B7', 'E', 'G7', 'C', 'C-Eb7', 'Eb7-G#', 'G#-B7', 'B7-E', 'E-G7', 'G7-Gm', 'Gm-C7', 'C7-F', 'F-Eb7', 'Eb7-G#', 'G#-B7', 'B7-E', 'E-G7', 'G7-C']\n",
            "['Am', 'Am', 'Cm', 'Cm', 'Eb', 'Eb', 'Em7b5', 'A7', 'Dm', 'Dm', 'Bm7b5', 'Bm7b5', 'Bbm', 'Bbm', 'Fm', 'Fm', 'E7', 'E7', 'Fm', 'Fm', 'C#', 'C#', 'Fm', 'Fm', 'C#', 'C#', 'Am-Am', 'Am-Cm', 'Cm-Cm', 'Cm-Eb', 'Eb-Eb', 'Eb-Em7b5', 'Em7b5-A7', 'A7-Dm', 'Dm-Dm', 'Dm-Bm7b5', 'Bm7b5-Bm7b5', 'Bm7b5-Bbm', 'Bbm-Bbm', 'Bbm-Fm', 'Fm-Fm', 'Fm-E7', 'E7-E7', 'E7-Fm', 'Fm-Fm', 'Fm-C#', 'C#-C#', 'C#-Fm', 'Fm-Fm', 'Fm-C#', 'C#-C#']\n",
            "['Am', 'C#', 'Bm7b5', 'E7', 'Am', 'C#', 'Bm7b5', 'E7', 'Cm', 'F7', 'Bb', 'G#m', 'C#7', 'F#m7b5', 'B7', 'E', 'E', 'E7', 'Am-C#', 'C#-Bm7b5', 'Bm7b5-E7', 'E7-Am', 'Am-C#', 'C#-Bm7b5', 'Bm7b5-E7', 'E7-Cm', 'Cm-F7', 'F7-Bb', 'Bb-G#m', 'G#m-C#7', 'C#7-F#m7b5', 'F#m7b5-B7', 'B7-E', 'E-E', 'E-E7']\n",
            "['Am', 'C#', 'Bm7b5', 'E7', 'Am', 'C#', 'Bm7b5', 'E7', 'Cm', 'F7', 'Bb', 'G#m', 'C#7', 'F#m7b5', 'B7', 'Em', 'Em', 'Am-C#', 'C#-Bm7b5', 'Bm7b5-E7', 'E7-Am', 'Am-C#', 'C#-Bm7b5', 'Bm7b5-E7', 'E7-Cm', 'Cm-F7', 'F7-Bb', 'Bb-G#m', 'G#m-C#7', 'C#7-F#m7b5', 'F#m7b5-B7', 'B7-Em', 'Em-Em']\n",
            "['C', 'Am', 'Dm', 'G7', 'C', 'Am', 'Dm', 'G7', 'C', 'Am', 'Dm', 'G7', 'C', 'G7', 'C', 'C-Am', 'Am-Dm', 'Dm-G7', 'G7-C', 'C-Am', 'Am-Dm', 'Dm-G7', 'G7-C', 'C-Am', 'Am-Dm', 'Dm-G7', 'G7-C', 'C-G7', 'G7-C']\n",
            "['C', 'Am', 'Dm', 'G7', 'C', 'Am', 'Dm', 'G7', 'C', 'Am', 'Dm', 'G7', 'C', 'G7', 'C', 'C-Am', 'Am-Dm', 'Dm-G7', 'G7-C', 'C-Am', 'Am-Dm', 'Dm-G7', 'G7-C', 'C-Am', 'Am-Dm', 'Dm-G7', 'G7-C', 'C-G7', 'G7-C']\n",
            "['C7', 'C7', 'F', 'F', 'D7', 'D7', 'G7', 'G7', 'C7-C7', 'C7-F', 'F-F', 'F-D7', 'D7-D7', 'D7-G7', 'G7-G7']\n"
          ]
        }
      ]
    },
    {
      "cell_type": "code",
      "metadata": {
        "colab": {
          "base_uri": "https://localhost:8080/"
        },
        "id": "iERQjgxNsV6Q",
        "outputId": "79d2a18c-4e69-4cd0-cd70-9a40794de51d"
      },
      "source": [
        "len(processed_corpus)"
      ],
      "execution_count": 46,
      "outputs": [
        {
          "output_type": "execute_result",
          "data": {
            "text/plain": [
              "5536"
            ]
          },
          "metadata": {},
          "execution_count": 46
        }
      ]
    },
    {
      "cell_type": "markdown",
      "metadata": {
        "id": "Sri0K2DhNagp"
      },
      "source": [
        "#### Corpus Overview"
      ]
    },
    {
      "cell_type": "code",
      "metadata": {
        "colab": {
          "base_uri": "https://localhost:8080/"
        },
        "id": "X2ZqA7IF4ufg",
        "outputId": "0f43c2d8-64b0-4e2c-a5a0-eed9b53b428f"
      },
      "source": [
        "tokens = [item for l in processed_corpus for item in l]\n",
        "total_tokens = len(tokens)\n",
        "vocab_size = len(set(tokens))\n",
        "vocab_prop = 100*vocab_size/total_tokens\n",
        "\n",
        "print(f\"Total Number of tokens: {total_tokens}\")\n",
        "print(f\"Size of vocabulary: {vocab_size}\")\n",
        "print(f\"Proportion of vocabulary in corpus: {vocab_prop:.02f}%\")"
      ],
      "execution_count": 47,
      "outputs": [
        {
          "output_type": "stream",
          "name": "stdout",
          "text": [
            "Total Number of tokens: 147906\n",
            "Size of vocabulary: 2112\n",
            "Proportion of vocabulary in corpus: 1.43%\n"
          ]
        }
      ]
    },
    {
      "cell_type": "code",
      "metadata": {
        "colab": {
          "base_uri": "https://localhost:8080/",
          "height": 363
        },
        "id": "rULq3jYVNh_x",
        "outputId": "22a7ec98-b516-4abc-9c93-ff84414db735"
      },
      "source": [
        "df_chords = raw_chords_to_df(processed_corpus)\n",
        "df_chords.head(10)"
      ],
      "execution_count": 48,
      "outputs": [
        {
          "output_type": "execute_result",
          "data": {
            "text/html": [
              "\n",
              "  <div id=\"df-e5b08b0f-c1e1-42e3-8e54-1963017bf2f2\">\n",
              "    <div class=\"colab-df-container\">\n",
              "      <div>\n",
              "<style scoped>\n",
              "    .dataframe tbody tr th:only-of-type {\n",
              "        vertical-align: middle;\n",
              "    }\n",
              "\n",
              "    .dataframe tbody tr th {\n",
              "        vertical-align: top;\n",
              "    }\n",
              "\n",
              "    .dataframe thead th {\n",
              "        text-align: right;\n",
              "    }\n",
              "</style>\n",
              "<table border=\"1\" class=\"dataframe\">\n",
              "  <thead>\n",
              "    <tr style=\"text-align: right;\">\n",
              "      <th></th>\n",
              "      <th>chord</th>\n",
              "      <th>count</th>\n",
              "    </tr>\n",
              "  </thead>\n",
              "  <tbody>\n",
              "    <tr>\n",
              "      <th>0</th>\n",
              "      <td>C</td>\n",
              "      <td>12890</td>\n",
              "    </tr>\n",
              "    <tr>\n",
              "      <th>5</th>\n",
              "      <td>G7</td>\n",
              "      <td>9688</td>\n",
              "    </tr>\n",
              "    <tr>\n",
              "      <th>14</th>\n",
              "      <td>Dm</td>\n",
              "      <td>7498</td>\n",
              "    </tr>\n",
              "    <tr>\n",
              "      <th>12</th>\n",
              "      <td>Am</td>\n",
              "      <td>5443</td>\n",
              "    </tr>\n",
              "    <tr>\n",
              "      <th>29</th>\n",
              "      <td>Dm-G7</td>\n",
              "      <td>4888</td>\n",
              "    </tr>\n",
              "    <tr>\n",
              "      <th>31</th>\n",
              "      <td>G7-C</td>\n",
              "      <td>4374</td>\n",
              "    </tr>\n",
              "    <tr>\n",
              "      <th>45</th>\n",
              "      <td>A7</td>\n",
              "      <td>4128</td>\n",
              "    </tr>\n",
              "    <tr>\n",
              "      <th>13</th>\n",
              "      <td>D7</td>\n",
              "      <td>3578</td>\n",
              "    </tr>\n",
              "    <tr>\n",
              "      <th>8</th>\n",
              "      <td>F</td>\n",
              "      <td>3419</td>\n",
              "    </tr>\n",
              "    <tr>\n",
              "      <th>7</th>\n",
              "      <td>C7</td>\n",
              "      <td>3111</td>\n",
              "    </tr>\n",
              "  </tbody>\n",
              "</table>\n",
              "</div>\n",
              "      <button class=\"colab-df-convert\" onclick=\"convertToInteractive('df-e5b08b0f-c1e1-42e3-8e54-1963017bf2f2')\"\n",
              "              title=\"Convert this dataframe to an interactive table.\"\n",
              "              style=\"display:none;\">\n",
              "        \n",
              "  <svg xmlns=\"http://www.w3.org/2000/svg\" height=\"24px\"viewBox=\"0 0 24 24\"\n",
              "       width=\"24px\">\n",
              "    <path d=\"M0 0h24v24H0V0z\" fill=\"none\"/>\n",
              "    <path d=\"M18.56 5.44l.94 2.06.94-2.06 2.06-.94-2.06-.94-.94-2.06-.94 2.06-2.06.94zm-11 1L8.5 8.5l.94-2.06 2.06-.94-2.06-.94L8.5 2.5l-.94 2.06-2.06.94zm10 10l.94 2.06.94-2.06 2.06-.94-2.06-.94-.94-2.06-.94 2.06-2.06.94z\"/><path d=\"M17.41 7.96l-1.37-1.37c-.4-.4-.92-.59-1.43-.59-.52 0-1.04.2-1.43.59L10.3 9.45l-7.72 7.72c-.78.78-.78 2.05 0 2.83L4 21.41c.39.39.9.59 1.41.59.51 0 1.02-.2 1.41-.59l7.78-7.78 2.81-2.81c.8-.78.8-2.07 0-2.86zM5.41 20L4 18.59l7.72-7.72 1.47 1.35L5.41 20z\"/>\n",
              "  </svg>\n",
              "      </button>\n",
              "      \n",
              "  <style>\n",
              "    .colab-df-container {\n",
              "      display:flex;\n",
              "      flex-wrap:wrap;\n",
              "      gap: 12px;\n",
              "    }\n",
              "\n",
              "    .colab-df-convert {\n",
              "      background-color: #E8F0FE;\n",
              "      border: none;\n",
              "      border-radius: 50%;\n",
              "      cursor: pointer;\n",
              "      display: none;\n",
              "      fill: #1967D2;\n",
              "      height: 32px;\n",
              "      padding: 0 0 0 0;\n",
              "      width: 32px;\n",
              "    }\n",
              "\n",
              "    .colab-df-convert:hover {\n",
              "      background-color: #E2EBFA;\n",
              "      box-shadow: 0px 1px 2px rgba(60, 64, 67, 0.3), 0px 1px 3px 1px rgba(60, 64, 67, 0.15);\n",
              "      fill: #174EA6;\n",
              "    }\n",
              "\n",
              "    [theme=dark] .colab-df-convert {\n",
              "      background-color: #3B4455;\n",
              "      fill: #D2E3FC;\n",
              "    }\n",
              "\n",
              "    [theme=dark] .colab-df-convert:hover {\n",
              "      background-color: #434B5C;\n",
              "      box-shadow: 0px 1px 3px 1px rgba(0, 0, 0, 0.15);\n",
              "      filter: drop-shadow(0px 1px 2px rgba(0, 0, 0, 0.3));\n",
              "      fill: #FFFFFF;\n",
              "    }\n",
              "  </style>\n",
              "\n",
              "      <script>\n",
              "        const buttonEl =\n",
              "          document.querySelector('#df-e5b08b0f-c1e1-42e3-8e54-1963017bf2f2 button.colab-df-convert');\n",
              "        buttonEl.style.display =\n",
              "          google.colab.kernel.accessAllowed ? 'block' : 'none';\n",
              "\n",
              "        async function convertToInteractive(key) {\n",
              "          const element = document.querySelector('#df-e5b08b0f-c1e1-42e3-8e54-1963017bf2f2');\n",
              "          const dataTable =\n",
              "            await google.colab.kernel.invokeFunction('convertToInteractive',\n",
              "                                                     [key], {});\n",
              "          if (!dataTable) return;\n",
              "\n",
              "          const docLinkHtml = 'Like what you see? Visit the ' +\n",
              "            '<a target=\"_blank\" href=https://colab.research.google.com/notebooks/data_table.ipynb>data table notebook</a>'\n",
              "            + ' to learn more about interactive tables.';\n",
              "          element.innerHTML = '';\n",
              "          dataTable['output_type'] = 'display_data';\n",
              "          await google.colab.output.renderOutput(dataTable, element);\n",
              "          const docLink = document.createElement('div');\n",
              "          docLink.innerHTML = docLinkHtml;\n",
              "          element.appendChild(docLink);\n",
              "        }\n",
              "      </script>\n",
              "    </div>\n",
              "  </div>\n",
              "  "
            ],
            "text/plain": [
              "    chord  count\n",
              "0       C  12890\n",
              "5      G7   9688\n",
              "14     Dm   7498\n",
              "12     Am   5443\n",
              "29  Dm-G7   4888\n",
              "31   G7-C   4374\n",
              "45     A7   4128\n",
              "13     D7   3578\n",
              "8       F   3419\n",
              "7      C7   3111"
            ]
          },
          "metadata": {},
          "execution_count": 48
        }
      ]
    },
    {
      "cell_type": "code",
      "metadata": {
        "colab": {
          "base_uri": "https://localhost:8080/",
          "height": 560
        },
        "id": "G9fknTouNmKm",
        "outputId": "15b5d6b8-2dc4-4553-a4da-0dec985e41fc"
      },
      "source": [
        "df_chords = pd.DataFrame.from_dict(df_chords)\n",
        "df_chords.sort_values(by=['count'], ascending=False, inplace=True)\n",
        "df_chords_top = df_chords.query('count > 100')\n",
        "\n",
        "fig = px.bar(df_chords_top, x='chord', y='count', log_y=True)\n",
        "fig.update_layout(barmode='stack', xaxis={'categoryorder':'total descending'})\n",
        "fig.show()"
      ],
      "execution_count": 49,
      "outputs": [
        {
          "output_type": "stream",
          "name": "stderr",
          "text": [
            "2021-12-27 15:04:05,855 : INFO : NumExpr defaulting to 2 threads.\n"
          ]
        },
        {
          "output_type": "display_data",
          "data": {
            "text/html": [
              "<html>\n",
              "<head><meta charset=\"utf-8\" /></head>\n",
              "<body>\n",
              "    <div>\n",
              "            <script src=\"https://cdnjs.cloudflare.com/ajax/libs/mathjax/2.7.5/MathJax.js?config=TeX-AMS-MML_SVG\"></script><script type=\"text/javascript\">if (window.MathJax) {MathJax.Hub.Config({SVG: {font: \"STIX-Web\"}});}</script>\n",
              "                <script type=\"text/javascript\">window.PlotlyConfig = {MathJaxConfig: 'local'};</script>\n",
              "        <script src=\"https://cdn.plot.ly/plotly-latest.min.js\"></script>    \n",
              "            <div id=\"3eff1441-0742-4ad8-b536-4517a8230192\" class=\"plotly-graph-div\" style=\"height:525px; width:100%;\"></div>\n",
              "            <script type=\"text/javascript\">\n",
              "                \n",
              "                    window.PLOTLYENV=window.PLOTLYENV || {};\n",
              "                    \n",
              "                if (document.getElementById(\"3eff1441-0742-4ad8-b536-4517a8230192\")) {\n",
              "                    Plotly.newPlot(\n",
              "                        '3eff1441-0742-4ad8-b536-4517a8230192',\n",
              "                        [{\"alignmentgroup\": \"True\", \"hoverlabel\": {\"namelength\": 0}, \"hovertemplate\": \"chord=%{x}<br>count=%{y}\", \"legendgroup\": \"\", \"marker\": {\"color\": \"#636efa\"}, \"name\": \"\", \"offsetgroup\": \"\", \"orientation\": \"v\", \"showlegend\": false, \"textposition\": \"auto\", \"type\": \"bar\", \"x\": [\"C\", \"G7\", \"Dm\", \"Am\", \"Dm-G7\", \"G7-C\", \"A7\", \"D7\", \"F\", \"C7\", \"C-C\", \"E7\", \"Em\", \"A7-Dm\", \"Bb7\", \"F7\", \"Fm\", \"E7-Am\", \"B7\", \"Am-Am\", \"D7-G7\", \"Gm\", \"Em-A7\", \"C7-F\", \"G7-G7\", \"Am-D7\", \"A7-D7\", \"Bm7b5\", \"G#7\", \"Am-Dm\", \"Gm-C7\", \"C-G7\", \"C-A7\", \"C-Dm\", \"Bm7b5-E7\", \"C-Am\", \"G\", \"D7-D7\", \"C-C7\", \"Ebdim\", \"D7-Dm\", \"F-F\", \"Cm\", \"Dm-Dm\", \"Eb7\", \"F#m7b5\", \"C-F\", \"G7sus4\", \"C7-C7\", \"Bm\", \"C#7\", \"G#\", \"Em7b5\", \"Bb\", \"F-C\", \"F#7\", \"Fm-C\", \"Fm-Bb7\", \"F#m\", \"F-Fm\", \"E\", \"Em7b5-A7\", \"G7-Dm\", \"G7-Em\", \"C-F7\", \"Ebdim-Dm\", \"Eb\", \"F#dim\", \"C-E7\", \"C#dim\", \"Ebm\", \"E7-A7\", \"A7-A7\", \"C#\", \"Dm7b5\", \"G#7-G7\", \"F#m7b5-B7\", \"A\", \"C-Gm\", \"B7-Em\", \"G7-C7\", \"Bbm\", \"E7-E7\", \"D\", \"Em-Am\", \"Bb7-C\", \"C-C#dim\", \"C#dim-Dm\", \"C-D7\", \"C7-F7\", \"Bb7-A7\", \"F#m-B7\", \"F-Bb7\", \"F-F#dim\", \"C-Ebdim\", \"Am-E7\", \"F#dim-C\", \"C#m\", \"Dm-Em\", \"F7-E7\", \"C-Em\", \"Dm7b5-G7\", \"Am-Bm7b5\", \"Bm-E7\", \"F7-F7\", \"Bb7-Em\", \"F7-Em\", \"Ebm-G#7\", \"Am-F#m7b5\", \"B7-E7\", \"Dm-A7\", \"Cdim\", \"C-B7\", \"C-Bm7b5\", \"G7sus4-C\", \"Cm-F7\", \"F-Em\", \"G-C\", \"F7-C\", \"B7-E\", \"Em-Ebdim\", \"Dm-Fm\", \"G7-Gm\", \"Dm-C\", \"Bb7-Eb\", \"G#7-Dm\", \"Eb7-G#\", \"D7-G\", \"B\", \"Bbm-Eb7\", \"G#m\", \"Bb7-Am\", \"C7sus4\", \"C-Fm\", \"Fm-Fm\", \"F-G7\", \"D7-Am\", \"F#\", \"Dm-G7sus4\", \"Dm-Ebdim\", \"Fm-Em\", \"C#7-C\", \"C-Bb7\", \"Cm-Cm\", \"B7-Bb7\", \"C-G\", \"Em-Em\", \"Em-F\", \"G7-Cm\", \"F-Dm\", \"G7sus4-G7\", \"Dm-E7\", \"F-E7\", \"Dm-Am\", \"E7-F\", \"F7-C7\", \"Em-Dm\", \"Dm-Bm7b5\", \"C-G7sus4\", \"Am-F7\", \"Eb7-Dm\", \"B7-B7\", \"C-F#m7b5\", \"F7-Bb7\"], \"xaxis\": \"x\", \"y\": [12890, 9688, 7498, 5443, 4888, 4374, 4128, 3578, 3419, 3111, 3026, 2976, 2555, 1964, 1605, 1602, 1517, 1394, 1340, 1301, 1293, 1225, 1213, 1201, 1066, 1004, 944, 911, 902, 886, 852, 850, 831, 831, 816, 791, 732, 670, 659, 634, 616, 601, 588, 565, 558, 547, 525, 510, 506, 504, 493, 482, 468, 465, 461, 453, 448, 442, 440, 437, 436, 427, 416, 405, 399, 388, 375, 374, 356, 353, 347, 347, 345, 328, 312, 311, 310, 310, 305, 301, 296, 293, 292, 288, 288, 278, 273, 269, 267, 266, 265, 261, 259, 257, 255, 255, 249, 237, 236, 235, 233, 232, 226, 224, 214, 207, 206, 198, 195, 187, 185, 184, 180, 180, 177, 174, 171, 166, 166, 164, 163, 159, 156, 155, 153, 153, 152, 150, 148, 148, 147, 147, 146, 141, 139, 139, 138, 137, 137, 136, 135, 132, 132, 124, 122, 119, 117, 115, 114, 113, 113, 112, 112, 111, 110, 108, 107, 107, 105, 103, 103, 102, 101, 101], \"yaxis\": \"y\"}],\n",
              "                        {\"barmode\": \"stack\", \"legend\": {\"tracegroupgap\": 0}, \"margin\": {\"t\": 60}, \"template\": {\"data\": {\"bar\": [{\"error_x\": {\"color\": \"#2a3f5f\"}, \"error_y\": {\"color\": \"#2a3f5f\"}, \"marker\": {\"line\": {\"color\": \"#E5ECF6\", \"width\": 0.5}}, \"type\": \"bar\"}], \"barpolar\": [{\"marker\": {\"line\": {\"color\": \"#E5ECF6\", \"width\": 0.5}}, \"type\": \"barpolar\"}], \"carpet\": [{\"aaxis\": {\"endlinecolor\": \"#2a3f5f\", \"gridcolor\": \"white\", \"linecolor\": \"white\", \"minorgridcolor\": \"white\", \"startlinecolor\": \"#2a3f5f\"}, \"baxis\": {\"endlinecolor\": \"#2a3f5f\", \"gridcolor\": \"white\", \"linecolor\": \"white\", \"minorgridcolor\": \"white\", \"startlinecolor\": \"#2a3f5f\"}, \"type\": \"carpet\"}], \"choropleth\": [{\"colorbar\": {\"outlinewidth\": 0, \"ticks\": \"\"}, \"type\": \"choropleth\"}], \"contour\": [{\"colorbar\": {\"outlinewidth\": 0, \"ticks\": \"\"}, \"colorscale\": [[0.0, \"#0d0887\"], [0.1111111111111111, \"#46039f\"], [0.2222222222222222, \"#7201a8\"], [0.3333333333333333, \"#9c179e\"], [0.4444444444444444, \"#bd3786\"], [0.5555555555555556, \"#d8576b\"], [0.6666666666666666, \"#ed7953\"], [0.7777777777777778, \"#fb9f3a\"], [0.8888888888888888, \"#fdca26\"], [1.0, \"#f0f921\"]], \"type\": \"contour\"}], \"contourcarpet\": [{\"colorbar\": {\"outlinewidth\": 0, \"ticks\": \"\"}, \"type\": \"contourcarpet\"}], \"heatmap\": [{\"colorbar\": {\"outlinewidth\": 0, \"ticks\": \"\"}, \"colorscale\": [[0.0, \"#0d0887\"], [0.1111111111111111, \"#46039f\"], [0.2222222222222222, \"#7201a8\"], [0.3333333333333333, \"#9c179e\"], [0.4444444444444444, \"#bd3786\"], [0.5555555555555556, \"#d8576b\"], [0.6666666666666666, \"#ed7953\"], [0.7777777777777778, \"#fb9f3a\"], [0.8888888888888888, \"#fdca26\"], [1.0, \"#f0f921\"]], \"type\": \"heatmap\"}], \"heatmapgl\": [{\"colorbar\": {\"outlinewidth\": 0, \"ticks\": \"\"}, \"colorscale\": [[0.0, \"#0d0887\"], [0.1111111111111111, \"#46039f\"], [0.2222222222222222, \"#7201a8\"], [0.3333333333333333, \"#9c179e\"], [0.4444444444444444, \"#bd3786\"], [0.5555555555555556, \"#d8576b\"], [0.6666666666666666, \"#ed7953\"], [0.7777777777777778, \"#fb9f3a\"], [0.8888888888888888, \"#fdca26\"], [1.0, \"#f0f921\"]], \"type\": \"heatmapgl\"}], \"histogram\": [{\"marker\": {\"colorbar\": {\"outlinewidth\": 0, \"ticks\": \"\"}}, \"type\": \"histogram\"}], \"histogram2d\": [{\"colorbar\": {\"outlinewidth\": 0, \"ticks\": \"\"}, \"colorscale\": [[0.0, \"#0d0887\"], [0.1111111111111111, \"#46039f\"], [0.2222222222222222, \"#7201a8\"], [0.3333333333333333, \"#9c179e\"], [0.4444444444444444, \"#bd3786\"], [0.5555555555555556, \"#d8576b\"], [0.6666666666666666, \"#ed7953\"], [0.7777777777777778, \"#fb9f3a\"], [0.8888888888888888, \"#fdca26\"], [1.0, \"#f0f921\"]], \"type\": \"histogram2d\"}], \"histogram2dcontour\": [{\"colorbar\": {\"outlinewidth\": 0, \"ticks\": \"\"}, \"colorscale\": [[0.0, \"#0d0887\"], [0.1111111111111111, \"#46039f\"], [0.2222222222222222, \"#7201a8\"], [0.3333333333333333, \"#9c179e\"], [0.4444444444444444, \"#bd3786\"], [0.5555555555555556, \"#d8576b\"], [0.6666666666666666, \"#ed7953\"], [0.7777777777777778, \"#fb9f3a\"], [0.8888888888888888, \"#fdca26\"], [1.0, \"#f0f921\"]], \"type\": \"histogram2dcontour\"}], \"mesh3d\": [{\"colorbar\": {\"outlinewidth\": 0, \"ticks\": \"\"}, \"type\": \"mesh3d\"}], \"parcoords\": [{\"line\": {\"colorbar\": {\"outlinewidth\": 0, \"ticks\": \"\"}}, \"type\": \"parcoords\"}], \"pie\": [{\"automargin\": true, \"type\": \"pie\"}], \"scatter\": [{\"marker\": {\"colorbar\": {\"outlinewidth\": 0, \"ticks\": \"\"}}, \"type\": \"scatter\"}], \"scatter3d\": [{\"line\": {\"colorbar\": {\"outlinewidth\": 0, \"ticks\": \"\"}}, \"marker\": {\"colorbar\": {\"outlinewidth\": 0, \"ticks\": \"\"}}, \"type\": \"scatter3d\"}], \"scattercarpet\": [{\"marker\": {\"colorbar\": {\"outlinewidth\": 0, \"ticks\": \"\"}}, \"type\": \"scattercarpet\"}], \"scattergeo\": [{\"marker\": {\"colorbar\": {\"outlinewidth\": 0, \"ticks\": \"\"}}, \"type\": \"scattergeo\"}], \"scattergl\": [{\"marker\": {\"colorbar\": {\"outlinewidth\": 0, \"ticks\": \"\"}}, \"type\": \"scattergl\"}], \"scattermapbox\": [{\"marker\": {\"colorbar\": {\"outlinewidth\": 0, \"ticks\": \"\"}}, \"type\": \"scattermapbox\"}], \"scatterpolar\": [{\"marker\": {\"colorbar\": {\"outlinewidth\": 0, \"ticks\": \"\"}}, \"type\": \"scatterpolar\"}], \"scatterpolargl\": [{\"marker\": {\"colorbar\": {\"outlinewidth\": 0, \"ticks\": \"\"}}, \"type\": \"scatterpolargl\"}], \"scatterternary\": [{\"marker\": {\"colorbar\": {\"outlinewidth\": 0, \"ticks\": \"\"}}, \"type\": \"scatterternary\"}], \"surface\": [{\"colorbar\": {\"outlinewidth\": 0, \"ticks\": \"\"}, \"colorscale\": [[0.0, \"#0d0887\"], [0.1111111111111111, \"#46039f\"], [0.2222222222222222, \"#7201a8\"], [0.3333333333333333, \"#9c179e\"], [0.4444444444444444, \"#bd3786\"], [0.5555555555555556, \"#d8576b\"], [0.6666666666666666, \"#ed7953\"], [0.7777777777777778, \"#fb9f3a\"], [0.8888888888888888, \"#fdca26\"], [1.0, \"#f0f921\"]], \"type\": \"surface\"}], \"table\": [{\"cells\": {\"fill\": {\"color\": \"#EBF0F8\"}, \"line\": {\"color\": \"white\"}}, \"header\": {\"fill\": {\"color\": \"#C8D4E3\"}, \"line\": {\"color\": \"white\"}}, \"type\": \"table\"}]}, \"layout\": {\"annotationdefaults\": {\"arrowcolor\": \"#2a3f5f\", \"arrowhead\": 0, \"arrowwidth\": 1}, \"coloraxis\": {\"colorbar\": {\"outlinewidth\": 0, \"ticks\": \"\"}}, \"colorscale\": {\"diverging\": [[0, \"#8e0152\"], [0.1, \"#c51b7d\"], [0.2, \"#de77ae\"], [0.3, \"#f1b6da\"], [0.4, \"#fde0ef\"], [0.5, \"#f7f7f7\"], [0.6, \"#e6f5d0\"], [0.7, \"#b8e186\"], [0.8, \"#7fbc41\"], [0.9, \"#4d9221\"], [1, \"#276419\"]], \"sequential\": [[0.0, \"#0d0887\"], [0.1111111111111111, \"#46039f\"], [0.2222222222222222, \"#7201a8\"], [0.3333333333333333, \"#9c179e\"], [0.4444444444444444, \"#bd3786\"], [0.5555555555555556, \"#d8576b\"], [0.6666666666666666, \"#ed7953\"], [0.7777777777777778, \"#fb9f3a\"], [0.8888888888888888, \"#fdca26\"], [1.0, \"#f0f921\"]], \"sequentialminus\": [[0.0, \"#0d0887\"], [0.1111111111111111, \"#46039f\"], [0.2222222222222222, \"#7201a8\"], [0.3333333333333333, \"#9c179e\"], [0.4444444444444444, \"#bd3786\"], [0.5555555555555556, \"#d8576b\"], [0.6666666666666666, \"#ed7953\"], [0.7777777777777778, \"#fb9f3a\"], [0.8888888888888888, \"#fdca26\"], [1.0, \"#f0f921\"]]}, \"colorway\": [\"#636efa\", \"#EF553B\", \"#00cc96\", \"#ab63fa\", \"#FFA15A\", \"#19d3f3\", \"#FF6692\", \"#B6E880\", \"#FF97FF\", \"#FECB52\"], \"font\": {\"color\": \"#2a3f5f\"}, \"geo\": {\"bgcolor\": \"white\", \"lakecolor\": \"white\", \"landcolor\": \"#E5ECF6\", \"showlakes\": true, \"showland\": true, \"subunitcolor\": \"white\"}, \"hoverlabel\": {\"align\": \"left\"}, \"hovermode\": \"closest\", \"mapbox\": {\"style\": \"light\"}, \"paper_bgcolor\": \"white\", \"plot_bgcolor\": \"#E5ECF6\", \"polar\": {\"angularaxis\": {\"gridcolor\": \"white\", \"linecolor\": \"white\", \"ticks\": \"\"}, \"bgcolor\": \"#E5ECF6\", \"radialaxis\": {\"gridcolor\": \"white\", \"linecolor\": \"white\", \"ticks\": \"\"}}, \"scene\": {\"xaxis\": {\"backgroundcolor\": \"#E5ECF6\", \"gridcolor\": \"white\", \"gridwidth\": 2, \"linecolor\": \"white\", \"showbackground\": true, \"ticks\": \"\", \"zerolinecolor\": \"white\"}, \"yaxis\": {\"backgroundcolor\": \"#E5ECF6\", \"gridcolor\": \"white\", \"gridwidth\": 2, \"linecolor\": \"white\", \"showbackground\": true, \"ticks\": \"\", \"zerolinecolor\": \"white\"}, \"zaxis\": {\"backgroundcolor\": \"#E5ECF6\", \"gridcolor\": \"white\", \"gridwidth\": 2, \"linecolor\": \"white\", \"showbackground\": true, \"ticks\": \"\", \"zerolinecolor\": \"white\"}}, \"shapedefaults\": {\"line\": {\"color\": \"#2a3f5f\"}}, \"ternary\": {\"aaxis\": {\"gridcolor\": \"white\", \"linecolor\": \"white\", \"ticks\": \"\"}, \"baxis\": {\"gridcolor\": \"white\", \"linecolor\": \"white\", \"ticks\": \"\"}, \"bgcolor\": \"#E5ECF6\", \"caxis\": {\"gridcolor\": \"white\", \"linecolor\": \"white\", \"ticks\": \"\"}}, \"title\": {\"x\": 0.05}, \"xaxis\": {\"automargin\": true, \"gridcolor\": \"white\", \"linecolor\": \"white\", \"ticks\": \"\", \"title\": {\"standoff\": 15}, \"zerolinecolor\": \"white\", \"zerolinewidth\": 2}, \"yaxis\": {\"automargin\": true, \"gridcolor\": \"white\", \"linecolor\": \"white\", \"ticks\": \"\", \"title\": {\"standoff\": 15}, \"zerolinecolor\": \"white\", \"zerolinewidth\": 2}}}, \"xaxis\": {\"anchor\": \"y\", \"categoryorder\": \"total descending\", \"domain\": [0.0, 1.0], \"title\": {\"text\": \"chord\"}}, \"yaxis\": {\"anchor\": \"x\", \"domain\": [0.0, 1.0], \"title\": {\"text\": \"count\"}, \"type\": \"log\"}},\n",
              "                        {\"responsive\": true}\n",
              "                    ).then(function(){\n",
              "                            \n",
              "var gd = document.getElementById('3eff1441-0742-4ad8-b536-4517a8230192');\n",
              "var x = new MutationObserver(function (mutations, observer) {{\n",
              "        var display = window.getComputedStyle(gd).display;\n",
              "        if (!display || display === 'none') {{\n",
              "            console.log([gd, 'removed!']);\n",
              "            Plotly.purge(gd);\n",
              "            observer.disconnect();\n",
              "        }}\n",
              "}});\n",
              "\n",
              "// Listen for the removal of the full notebook cells\n",
              "var notebookContainer = gd.closest('#notebook-container');\n",
              "if (notebookContainer) {{\n",
              "    x.observe(notebookContainer, {childList: true});\n",
              "}}\n",
              "\n",
              "// Listen for the clearing of the current output cell\n",
              "var outputEl = gd.closest('.output');\n",
              "if (outputEl) {{\n",
              "    x.observe(outputEl, {childList: true});\n",
              "}}\n",
              "\n",
              "                        })\n",
              "                };\n",
              "                \n",
              "            </script>\n",
              "        </div>\n",
              "</body>\n",
              "</html>"
            ]
          },
          "metadata": {}
        }
      ]
    },
    {
      "cell_type": "markdown",
      "metadata": {
        "id": "cG5dtDpkWwLE"
      },
      "source": [
        "Plot Distribution accoring to Zipf's Law\n",
        "\n",
        "source: https://stats.stackexchange.com/questions/331219/characterizing-fitting-word-count-data-into-zipf-power-law-lognormal"
      ]
    },
    {
      "cell_type": "code",
      "metadata": {
        "id": "tazf9QRST5NP"
      },
      "source": [
        "from collections import Counter\n",
        "\n",
        "counter_of_words = df_chords.set_index('chord').to_dict(orient='dict')\n",
        "counter_of_words = Counter(counter_of_words['count'])\n",
        "\n",
        "word_counts = sorted(counter_of_words.values(), reverse=True)\n",
        "frequency_rank = np.array(list(range(1, len(word_counts) + 1)))"
      ],
      "execution_count": 50,
      "outputs": []
    },
    {
      "cell_type": "code",
      "metadata": {
        "colab": {
          "base_uri": "https://localhost:8080/",
          "height": 218
        },
        "id": "Jc80DSe7QlkV",
        "outputId": "67b9e49e-3177-483d-af04-a48ee76151e4"
      },
      "source": [
        "plt.figure(figsize=(20, 3))\n",
        "\n",
        "plt.subplot(1, 2, 1)\n",
        "\n",
        "n = 30\n",
        "df_top = df_chords_top.head(n)\n",
        "plt.bar(df_top['chord'], np.log(df_top['count']))\n",
        "plt.xlabel('')\n",
        "plt.ylabel('Absolute Counts (log)')\n",
        "plt.title(f'Top {n} Most Frequent Chords in the Corpus')\n",
        "ax = plt.gca()\n",
        "ax.set_xticklabels(labels=df_chords_top['chord'],rotation=90);\n",
        "\n",
        "plt.subplot(1, 2, 2)\n",
        "\n",
        "plt.scatter(np.log(frequency_rank), np.log(word_counts))\n",
        "plt.xlabel('Frequency Rank of Token (log)')\n",
        "plt.ylabel('Absolute Count of Token (log)')\n",
        "plt.title('Zipf Plot for Chord Frequencies')\n",
        "\n",
        "plt.savefig('plot.png')"
      ],
      "execution_count": 51,
      "outputs": [
        {
          "output_type": "display_data",
          "data": {
            "image/png": "[encoded data removed]",
            "text/plain": [
              "<Figure size 1440x216 with 2 Axes>"
            ]
          },
          "metadata": {
            "needs_background": "light"
          }
        }
      ]
    },
    {
      "cell_type": "code",
      "metadata": {
        "colab": {
          "base_uri": "https://localhost:8080/",
          "height": 217
        },
        "id": "g-hNqtE_sYBE",
        "outputId": "10a9ffa3-3487-4670-e781-9066433bad1b"
      },
      "source": [
        "plt.figure(figsize=(22, 3))\n",
        "\n",
        "n = 100\n",
        "\n",
        "df_top = df_chords_top.head(n)\n",
        "plt.bar(df_top['chord'], np.log(df_top['count']))\n",
        "plt.xlabel('')\n",
        "plt.ylabel('Absolute Counts (log)')\n",
        "plt.title(f'Top {n} Most Frequent Chords and n-gram Chords in the Corpus')\n",
        "ax = plt.gca()\n",
        "ax.set_xticklabels(labels=df_chords_top['chord'],rotation=90);"
      ],
      "execution_count": 52,
      "outputs": [
        {
          "output_type": "display_data",
          "data": {
            "image/png": "[encoded data removed]",
            "text/plain": [
              "<Figure size 1584x216 with 1 Axes>"
            ]
          },
          "metadata": {
            "needs_background": "light"
          }
        }
      ]
    },
    {
      "cell_type": "code",
      "metadata": {
        "id": "a1IvM4wh7zOv"
      },
      "source": [
        "if use_wandb:\n",
        "  wandb.log(\n",
        "      {\"corpus\": {\n",
        "              \"total_tokens\": total_tokens,\n",
        "              \"vocab_size\": vocab_size,\n",
        "              \"vocab_proportion_in_corpus\": vocab_prop,\n",
        "              \"zipf_plot\": wandb.Image('plot.png'),\n",
        "              }\n",
        "      }\n",
        "  )"
      ],
      "execution_count": 53,
      "outputs": []
    },
    {
      "cell_type": "code",
      "metadata": {
        "id": "til5xlce_y1m"
      },
      "source": [
        "!rm -R index\n",
        "!mkdir index"
      ],
      "execution_count": 55,
      "outputs": []
    },
    {
      "cell_type": "markdown",
      "metadata": {
        "id": "ZLK0coIu9Tv5"
      },
      "source": [
        "## Test Functions\n"
      ]
    },
    {
      "cell_type": "code",
      "metadata": {
        "id": "Fzrj1qxwDpJT"
      },
      "source": [
        "def get_sim_scores(tunes, index, model, topn=50):\n",
        "\n",
        "    df_sim = pd.DataFrame(columns=['reference_title',\n",
        "                                   'reference_titleid',\n",
        "                                   'similar_title',\n",
        "                                   'similar_titleid',\n",
        "                                   'ref_section', \n",
        "                                   'ref_section_label',\n",
        "                                   'ref_sectionid',\n",
        "                                   'similar_section',\n",
        "                                   'similar_section_label',\n",
        "                                   'similar_sectionid',\n",
        "                                   'score', \n",
        "                                  ])\n",
        "\n",
        "    for tune in tqdm(tunes):\n",
        "      for s1 in title_to_sectionid[tune]:\n",
        "      \n",
        "          query = processed_corpus[s1]\n",
        "          query_bow = dictionary.doc2bow(query)\n",
        "\n",
        "          # perform a similarity query against the corpus\n",
        "          similarities = index[model[query_bow]]\n",
        "          sims = sorted(enumerate(similarities), key=lambda item: -item[1])\n",
        "          \n",
        "          n = 0\n",
        "          for s2, s2_score in sims:\n",
        "            \n",
        "            # store the top N best results\n",
        "            if n > topn:\n",
        "                break\n",
        "            # don't count self-similarity between sections of the same tune\n",
        "            if s2 not in title_to_sectionid[tune]:\n",
        "                # print(f\"\\t{s2_score:.3f} {sectionid_to_section[s2]}\")\n",
        "                n += 1\n",
        "                df_sim.loc[len(df_sim)] = [tune,\n",
        "                                           title_to_titleid[tune],\n",
        "                                           sectionid_to_title[s2],\n",
        "                                           sectionid_to_titleid[s2],\n",
        "                                           sectionid_to_section[s1],\n",
        "                                           sectionid_to_sectionlabel[s1],\n",
        "                                           s1,\n",
        "                                           sectionid_to_section[s2], \n",
        "                                           sectionid_to_sectionlabel[s2],\n",
        "                                           s2,\n",
        "                                           s2_score, \n",
        "                                           ]\n",
        "    return df_sim"
      ],
      "execution_count": 56,
      "outputs": []
    },
    {
      "cell_type": "markdown",
      "metadata": {
        "id": "wqaUEFqxXZYB"
      },
      "source": [
        "## Test Contrafacts"
      ]
    },
    {
      "cell_type": "markdown",
      "metadata": {
        "id": "563ncYqAfIyN"
      },
      "source": [
        "With the model, query the top N highest matches for each section. For a tune, if at least one section receives the recommendation  for the expected title, increase the match counter."
      ]
    },
    {
      "cell_type": "code",
      "metadata": {
        "id": "RVPtraR-hg0G"
      },
      "source": [
        "def test_contrafacts(tunes, index, model, N=15):\n",
        "  matches = 0\n",
        "  number_of_sections = 0\n",
        "  results = {}\n",
        "\n",
        "  for tune, similar_tune in tunes:\n",
        "\n",
        "    # loop over all sections of the tune\n",
        "    section_matches = 0\n",
        "    rank = 0\n",
        "    score = 0\n",
        "\n",
        "    for s1 in title_to_sectionid[tune]:\n",
        "      query = processed_corpus[s1]\n",
        "      query_bow = dictionary.doc2bow(query)\n",
        "\n",
        "      # perform a similarity query against the corpus\n",
        "      similarities = index[model[query_bow]]\n",
        "      sims = sorted(enumerate(similarities), key=lambda item: -item[1])\n",
        "      #print(f\"s1: {s1}\")\n",
        "      #print(f\"similar_tune: {similar_tune}, {title_to_sectionid[similar_tune]}\")\n",
        "      #print(sims)\n",
        "      #print(len(sims))\n",
        "      \n",
        "      # check if the section matches the expected title; consider only the first N recommendations\n",
        "      i = 0\n",
        "      for sectionid, value in sims:\n",
        "        if i >= N:\n",
        "          break\n",
        "        if sectionid_to_title[sectionid] == similar_tune:\n",
        "          section_matches += 1\n",
        "          print(f\"Found {tune} - {similar_tune} {sectionid_to_sectionlabel[sectionid]} with value {value}\")\n",
        "          if value > score:\n",
        "            rank = i\n",
        "            score = value\n",
        "          break\n",
        "        i += 1\n",
        "\n",
        "    # for each title, increase matches if at least one of the section matched the expected title\n",
        "    if section_matches > 0:\n",
        "      matches += 1  \n",
        "      results[f'{tune}, {similar_tune}'] = {'found': 1,\n",
        "                                            'score': score,\n",
        "                                            'rank': rank}\n",
        "    else:\n",
        "      score = 0\n",
        "      for sectionid in title_to_sectionid[similar_tune]:\n",
        "        sim_value = similarities[sectionid]\n",
        "        score = sim_value if sim_value > score else score\n",
        "\n",
        "      results[f'{tune}, {similar_tune}'] = {'found': 0,\n",
        "                                            'score': score,\n",
        "                                            'rank': rank}\n",
        "  \n",
        "  return matches, results\n"
      ],
      "execution_count": 57,
      "outputs": []
    },
    {
      "cell_type": "markdown",
      "metadata": {
        "id": "99xHBRsd--OB"
      },
      "source": [
        "# LSA (Latent Semantic Analysis), aka LSI (Latent Semantic Index) "
      ]
    },
    {
      "cell_type": "code",
      "metadata": {
        "id": "adsW9Uh9_JXs"
      },
      "source": [
        "from collections import defaultdict"
      ],
      "execution_count": 58,
      "outputs": []
    },
    {
      "cell_type": "code",
      "source": [
        "if False:\n",
        "  num_topics = lsi_config['num_topics']\n",
        "\n",
        "  # remove words that appear only once\n",
        "  frequency = defaultdict(int)\n",
        "  for text in processed_corpus:\n",
        "      for token in text:\n",
        "          frequency[token] += 1\n",
        "\n",
        "  data = [[token for token in text if frequency[token] > 1] for text in processed_corpus]\n",
        "  dictionary = corpora.Dictionary(data)\n",
        "\n",
        "  # doc2bow counts the number of occurences of each distinct word,\n",
        "  # converts the word to its integer word id and returns the result\n",
        "  # as a sparse vector\n",
        "  bow_corpus = [dictionary.doc2bow(text) for text in data]\n",
        "  lsi = LsiModel(bow_corpus, id2word=dictionary, num_topics=num_topics)  # num_topics can be maximum the size of the number of unique tokens\n",
        "\n"
      ],
      "metadata": {
        "id": "WJjeL31LNxY_"
      },
      "execution_count": 59,
      "outputs": []
    },
    {
      "cell_type": "markdown",
      "source": [
        "Use the Test Corpus to train the LSI Model."
      ],
      "metadata": {
        "id": "O_DVEF-hP0he"
      }
    },
    {
      "cell_type": "code",
      "source": [
        "dictionary = corpora.Dictionary(processed_corpus)\n",
        "bow_corpus = [dictionary.doc2bow(text) for text in processed_corpus]"
      ],
      "metadata": {
        "id": "A9ddieQTbHGD"
      },
      "execution_count": null,
      "outputs": []
    },
    {
      "cell_type": "code",
      "source": [
        "for doc in bow_corpus[:5]:\n",
        "   print([[dictionary[id], freq] for id, freq in doc])"
      ],
      "metadata": {
        "id": "VJiStgTYbahs",
        "outputId": "178b6e9e-ad2e-4375-d619-e5f0f959d096",
        "colab": {
          "base_uri": "https://localhost:8080/"
        }
      },
      "execution_count": 81,
      "outputs": [
        {
          "output_type": "stream",
          "name": "stdout",
          "text": [
            "[['Am', 1], ['Am-D7', 1], ['B7', 1], ['B7-E', 1], ['C', 1], ['C#', 1], ['C#-E7', 1], ['C-Eb7', 1], ['C7', 1], ['C7-F', 1], ['D7', 1], ['D7-Dm', 1], ['Dm', 1], ['Dm-G7', 1], ['E', 1], ['E-G7', 1], ['E7', 1], ['E7-Am', 1], ['Eb7', 1], ['Eb7-G#', 1], ['F', 1], ['F-G#7', 1], ['G#', 1], ['G#-B7', 1], ['G#7', 1], ['G#7-C#', 1], ['G7', 2], ['G7-Gm', 1], ['Gm', 1], ['Gm-C7', 1]]\n",
            "[['B7', 2], ['B7-E', 2], ['C', 2], ['C-Eb7', 1], ['C7', 1], ['C7-F', 1], ['E', 2], ['E-G7', 2], ['Eb7', 2], ['Eb7-G#', 2], ['F', 1], ['G#', 2], ['G#-B7', 2], ['G7', 2], ['G7-Gm', 1], ['Gm', 1], ['Gm-C7', 1], ['F-Eb7', 1], ['G7-C', 1]]\n",
            "[['C7', 2], ['C7-F', 1], ['Dm', 1], ['Dm-G7', 1], ['E7', 1], ['Eb7', 1], ['Eb7-G#', 1], ['F', 1], ['G#', 1], ['G7', 1], ['Gm', 1], ['Gm-C7', 1], ['A', 1], ['A-C7', 1], ['Bbm', 1], ['Bbm-Eb7', 1], ['Bm', 1], ['Bm-E7', 1], ['C7-Bm', 1], ['E7-A', 1], ['F-Bbm', 1], ['G#-Dm', 1]]\n",
            "[['B7', 2], ['B7-E', 2], ['C', 2], ['C-Eb7', 1], ['C7', 1], ['C7-F', 1], ['E', 2], ['E-G7', 2], ['Eb7', 2], ['Eb7-G#', 2], ['F', 1], ['G#', 2], ['G#-B7', 2], ['G7', 2], ['G7-Gm', 1], ['Gm', 1], ['Gm-C7', 1], ['F-Eb7', 1], ['G7-C', 1]]\n",
            "[['Am', 2], ['C#', 4], ['Dm', 2], ['E7', 2], ['Bbm', 2], ['A7', 1], ['A7-Dm', 1], ['Am-Am', 1], ['Am-Cm', 1], ['Bbm-Bbm', 1], ['Bbm-Fm', 1], ['Bm7b5', 2], ['Bm7b5-Bbm', 1], ['Bm7b5-Bm7b5', 1], ['C#-C#', 2], ['C#-Fm', 1], ['Cm', 2], ['Cm-Cm', 1], ['Cm-Eb', 1], ['Dm-Bm7b5', 1], ['Dm-Dm', 1], ['E7-E7', 1], ['E7-Fm', 1], ['Eb', 2], ['Eb-Eb', 1], ['Eb-Em7b5', 1], ['Em7b5', 1], ['Em7b5-A7', 1], ['Fm', 6], ['Fm-C#', 2], ['Fm-E7', 1], ['Fm-Fm', 3]]\n"
          ]
        }
      ]
    },
    {
      "cell_type": "code",
      "source": [
        "#dictionary.token2id"
      ],
      "metadata": {
        "id": "Qk4me7Ogbl7H"
      },
      "execution_count": 83,
      "outputs": []
    },
    {
      "cell_type": "code",
      "source": [
        "test_dictionary = corpora.Dictionary(test_corpus)\n",
        "test_bow_corpus = [dictionary.doc2bow(text) for text in test_corpus]"
      ],
      "metadata": {
        "id": "FjVs226FbJCR"
      },
      "execution_count": null,
      "outputs": []
    },
    {
      "cell_type": "code",
      "metadata": {
        "colab": {
          "base_uri": "https://localhost:8080/"
        },
        "id": "s3AJZGRD_IHW",
        "outputId": "5dc9ac2e-1a13-45ba-903f-c908594e7278"
      },
      "source": [
        "num_topics = lsi_config['num_topics']\n",
        "\n",
        "lsi = LsiModel(test_bow_corpus, \n",
        "               id2word=test_dictionary, \n",
        "               num_topics=num_topics)"
      ],
      "execution_count": 60,
      "outputs": [
        {
          "output_type": "stream",
          "name": "stderr",
          "text": [
            "2021-12-27 15:04:22,201 : INFO : adding document #0 to Dictionary(0 unique tokens: [])\n",
            "2021-12-27 15:04:23,396 : INFO : built Dictionary(2112 unique tokens: ['Am', 'Am-D7', 'B7', 'B7-E', 'C']...) from 5536 documents (total 147906 corpus positions)\n",
            "2021-12-27 15:04:23,408 : INFO : Dictionary lifecycle event {'msg': \"built Dictionary(2112 unique tokens: ['Am', 'Am-D7', 'B7', 'B7-E', 'C']...) from 5536 documents (total 147906 corpus positions)\", 'datetime': '2021-12-27T15:04:23.408187', 'gensim': '4.1.2', 'python': '3.7.12 (default, Sep 10 2021, 00:21:48) \\n[GCC 7.5.0]', 'platform': 'Linux-5.4.144+-x86_64-with-Ubuntu-18.04-bionic', 'event': 'created'}\n",
            "2021-12-27 15:04:23,943 : INFO : adding document #0 to Dictionary(0 unique tokens: [])\n",
            "2021-12-27 15:04:24,936 : INFO : built Dictionary(2090 unique tokens: ['A7', 'A7-Dm', 'Am', 'Am-Am', 'Am-Cm']...) from 4915 documents (total 133317 corpus positions)\n",
            "2021-12-27 15:04:24,940 : INFO : Dictionary lifecycle event {'msg': \"built Dictionary(2090 unique tokens: ['A7', 'A7-Dm', 'Am', 'Am-Am', 'Am-Cm']...) from 4915 documents (total 133317 corpus positions)\", 'datetime': '2021-12-27T15:04:24.940539', 'gensim': '4.1.2', 'python': '3.7.12 (default, Sep 10 2021, 00:21:48) \\n[GCC 7.5.0]', 'platform': 'Linux-5.4.144+-x86_64-with-Ubuntu-18.04-bionic', 'event': 'created'}\n",
            "2021-12-27 15:04:25,335 : INFO : using serial LSI version on this node\n",
            "2021-12-27 15:04:25,343 : INFO : updating model with new documents\n",
            "2021-12-27 15:04:25,350 : INFO : preparing a new chunk of documents\n",
            "2021-12-27 15:04:25,606 : INFO : using 100 extra samples and 2 power iterations\n",
            "2021-12-27 15:04:25,624 : INFO : 1st phase: constructing (2090, 200) action matrix\n",
            "2021-12-27 15:04:25,893 : INFO : orthonormalizing (2090, 200) action matrix\n",
            "2021-12-27 15:04:26,573 : INFO : 2nd phase: running dense svd on (200, 4915) matrix\n",
            "2021-12-27 15:04:27,594 : INFO : computing the final decomposition\n",
            "2021-12-27 15:04:27,605 : INFO : keeping 100 factors (discarding 3.983% of energy spectrum)\n",
            "2021-12-27 15:04:27,642 : INFO : processed documents up to #4915\n",
            "2021-12-27 15:04:27,658 : INFO : topic #0(338.268): 0.641*\"Am-Cm\" + 0.439*\"Em7b5\" + 0.306*\"C#-C#\" + 0.225*\"Fm-Fm\" + 0.204*\"C#-Fm\" + 0.176*\"C-C7\" + 0.161*\"E\" + 0.156*\"A7\" + 0.145*\"E7\" + 0.137*\"Bm7b5-Bm7b5\"\n",
            "2021-12-27 15:04:27,669 : INFO : topic #1(167.327): -0.709*\"A7\" + 0.350*\"Am-Cm\" + -0.297*\"Cm-Eb\" + -0.259*\"E-E7\" + -0.209*\"C#-C#\" + 0.193*\"C-C7\" + -0.191*\"Dm\" + -0.104*\"F#m7b5-B7\" + -0.093*\"G7-C7\" + -0.081*\"Bm7b5-Bm7b5\"\n",
            "2021-12-27 15:04:27,678 : INFO : topic #2(134.780): -0.485*\"C#-C#\" + -0.379*\"C#-Fm\" + 0.359*\"Am-Cm\" + 0.329*\"A7\" + 0.254*\"C-C7\" + -0.208*\"E\" + -0.202*\"Em7b5\" + -0.186*\"E-E\" + -0.178*\"A7-Gm7b5\" + 0.163*\"E7\"\n",
            "2021-12-27 15:04:27,692 : INFO : topic #3(111.089): -0.659*\"Bm7b5\" + -0.295*\"Bm7b5-Bm7b5\" + 0.249*\"C#-C#\" + -0.234*\"C-C#m\" + 0.222*\"Am-Cm\" + -0.211*\"Em7b5\" + -0.191*\"E7\" + 0.174*\"C-C7\" + 0.146*\"A7\" + -0.137*\"C\"\n",
            "2021-12-27 15:04:27,698 : INFO : topic #4(99.091): -0.462*\"Bm7b5-Bm7b5\" + 0.402*\"Bm7b5\" + -0.334*\"Em7b5\" + 0.323*\"E7\" + -0.218*\"E\" + -0.204*\"Em-A7\" + 0.203*\"C#-C#\" + -0.169*\"C-C\" + -0.138*\"Dm-G7\" + -0.136*\"Fm-Fm\"\n",
            "2021-12-27 15:04:27,714 : INFO : LsiModel lifecycle event {'msg': 'trained LsiModel(num_terms=2090, num_topics=100, decay=1.0, chunksize=20000) in 2.37s', 'datetime': '2021-12-27T15:04:27.714103', 'gensim': '4.1.2', 'python': '3.7.12 (default, Sep 10 2021, 00:21:48) \\n[GCC 7.5.0]', 'platform': 'Linux-5.4.144+-x86_64-with-Ubuntu-18.04-bionic', 'event': 'created'}\n"
          ]
        }
      ]
    },
    {
      "cell_type": "markdown",
      "source": [
        "Use the Full Corpus to calculate the similarity matrix."
      ],
      "metadata": {
        "id": "06b4OxcWP40s"
      }
    },
    {
      "cell_type": "code",
      "metadata": {
        "id": "EvxSQFfBBNMJ",
        "colab": {
          "base_uri": "https://localhost:8080/"
        },
        "outputId": "6046e250-599d-40f5-b803-d286bb6fd058"
      },
      "source": [
        "index_lsi = similarities.Similarity('/content/index/index_lsi', lsi[bow_corpus], num_features=len(dictionary))"
      ],
      "execution_count": 61,
      "outputs": [
        {
          "output_type": "stream",
          "name": "stderr",
          "text": [
            "2021-12-27 15:04:27,755 : INFO : starting similarity index under /content/index/index_lsi\n"
          ]
        }
      ]
    },
    {
      "cell_type": "code",
      "metadata": {
        "id": "3saA6NY5Tzer"
      },
      "source": [
        "#index_lsi = similarities.SparseMatrixSimilarity(lsi[bow_corpus], num_features = len(dictionary))\n",
        "#index_lsi = similarities.MatrixSimilarity(lsi[bow_corpus])  # transform corpus to LSI space and index it\n"
      ],
      "execution_count": 62,
      "outputs": []
    },
    {
      "cell_type": "code",
      "metadata": {
        "colab": {
          "base_uri": "https://localhost:8080/"
        },
        "id": "F5pbDMVyfEtS",
        "outputId": "b8d2dd6b-e033-4580-dc1c-f1fa4a83ab4b"
      },
      "source": [
        "lsi.save('/content/index/lsi.model')\n",
        "index_lsi.save('/content/index/lsi_matrixsim.index')\n"
      ],
      "execution_count": 63,
      "outputs": [
        {
          "output_type": "stream",
          "name": "stderr",
          "text": [
            "2021-12-27 15:04:36,730 : INFO : Projection lifecycle event {'fname_or_handle': '/content/index/lsi.model.projection', 'separately': 'None', 'sep_limit': 10485760, 'ignore': frozenset(), 'datetime': '2021-12-27T15:04:36.729999', 'gensim': '4.1.2', 'python': '3.7.12 (default, Sep 10 2021, 00:21:48) \\n[GCC 7.5.0]', 'platform': 'Linux-5.4.144+-x86_64-with-Ubuntu-18.04-bionic', 'event': 'saving'}\n",
            "2021-12-27 15:04:36,745 : INFO : saved /content/index/lsi.model.projection\n",
            "2021-12-27 15:04:36,752 : INFO : LsiModel lifecycle event {'fname_or_handle': '/content/index/lsi.model', 'separately': 'None', 'sep_limit': 10485760, 'ignore': ['projection', 'dispatcher'], 'datetime': '2021-12-27T15:04:36.752839', 'gensim': '4.1.2', 'python': '3.7.12 (default, Sep 10 2021, 00:21:48) \\n[GCC 7.5.0]', 'platform': 'Linux-5.4.144+-x86_64-with-Ubuntu-18.04-bionic', 'event': 'saving'}\n",
            "2021-12-27 15:04:36,761 : INFO : not storing attribute projection\n",
            "2021-12-27 15:04:36,776 : INFO : not storing attribute dispatcher\n",
            "2021-12-27 15:04:36,787 : INFO : saved /content/index/lsi.model\n",
            "2021-12-27 15:04:36,819 : INFO : creating sparse index\n",
            "2021-12-27 15:04:36,823 : INFO : creating sparse matrix from corpus\n",
            "2021-12-27 15:04:36,843 : INFO : PROGRESS: at document #0/5536\n",
            "2021-12-27 15:04:44,487 : INFO : created <5536x2112 sparse matrix of type '<class 'numpy.float32'>'\n",
            "\twith 553600 stored elements in Compressed Sparse Row format>\n",
            "2021-12-27 15:04:44,505 : INFO : creating sparse shard #0\n",
            "2021-12-27 15:04:44,513 : INFO : saving index shard to /content/index/index_lsi.0\n",
            "2021-12-27 15:04:44,520 : INFO : SparseMatrixSimilarity lifecycle event {'fname_or_handle': '/content/index/index_lsi.0', 'separately': 'None', 'sep_limit': 10485760, 'ignore': frozenset(), 'datetime': '2021-12-27T15:04:44.520444', 'gensim': '4.1.2', 'python': '3.7.12 (default, Sep 10 2021, 00:21:48) \\n[GCC 7.5.0]', 'platform': 'Linux-5.4.144+-x86_64-with-Ubuntu-18.04-bionic', 'event': 'saving'}\n",
            "2021-12-27 15:04:44,551 : INFO : saved /content/index/index_lsi.0\n",
            "2021-12-27 15:04:44,554 : INFO : loading SparseMatrixSimilarity object from /content/index/index_lsi.0\n",
            "2021-12-27 15:04:44,576 : INFO : SparseMatrixSimilarity lifecycle event {'fname': '/content/index/index_lsi.0', 'datetime': '2021-12-27T15:04:44.576351', 'gensim': '4.1.2', 'python': '3.7.12 (default, Sep 10 2021, 00:21:48) \\n[GCC 7.5.0]', 'platform': 'Linux-5.4.144+-x86_64-with-Ubuntu-18.04-bionic', 'event': 'loaded'}\n",
            "2021-12-27 15:04:44,620 : INFO : Similarity lifecycle event {'fname_or_handle': '/content/index/lsi_matrixsim.index', 'separately': 'None', 'sep_limit': 10485760, 'ignore': frozenset(), 'datetime': '2021-12-27T15:04:44.619989', 'gensim': '4.1.2', 'python': '3.7.12 (default, Sep 10 2021, 00:21:48) \\n[GCC 7.5.0]', 'platform': 'Linux-5.4.144+-x86_64-with-Ubuntu-18.04-bionic', 'event': 'saving'}\n",
            "2021-12-27 15:04:44,629 : INFO : saved /content/index/lsi_matrixsim.index\n"
          ]
        }
      ]
    },
    {
      "cell_type": "code",
      "metadata": {
        "colab": {
          "base_uri": "https://localhost:8080/"
        },
        "id": "1udPIceqYk6S",
        "outputId": "23bf5837-381b-41fa-b1cd-187544cee67f"
      },
      "source": [
        "!ls -la /content/index"
      ],
      "execution_count": 64,
      "outputs": [
        {
          "output_type": "stream",
          "name": "stdout",
          "text": [
            "total 6060\n",
            "drwxr-xr-x 2 root root    4096 Dec 27 15:04 .\n",
            "drwxr-xr-x 1 root root    4096 Dec 27 15:04 ..\n",
            "-rw-r--r-- 1 root root 4451841 Dec 27 15:04 index_lsi.0\n",
            "-rw-r--r-- 1 root root     749 Dec 27 15:04 lsi_matrixsim.index\n",
            "-rw-r--r-- 1 root root   63769 Dec 27 15:04 lsi.model\n",
            "-rw-r--r-- 1 root root 1673491 Dec 27 15:04 lsi.model.projection\n"
          ]
        }
      ]
    },
    {
      "cell_type": "markdown",
      "metadata": {
        "id": "u05KD64Ai1uo"
      },
      "source": [
        "## Tests"
      ]
    },
    {
      "cell_type": "markdown",
      "metadata": {
        "id": "Ojrjp11ni6Pl"
      },
      "source": [
        "### Tests for Contrafacts"
      ]
    },
    {
      "cell_type": "code",
      "metadata": {
        "colab": {
          "base_uri": "https://localhost:8080/"
        },
        "id": "KbjSJgwp02ED",
        "outputId": "40a05575-cb30-40ca-b25b-5e1f7b995d47"
      },
      "source": [
        "len(contrafacts)"
      ],
      "execution_count": 65,
      "outputs": [
        {
          "output_type": "execute_result",
          "data": {
            "text/plain": [
              "115"
            ]
          },
          "metadata": {},
          "execution_count": 65
        }
      ]
    },
    {
      "cell_type": "code",
      "metadata": {
        "colab": {
          "base_uri": "https://localhost:8080/"
        },
        "id": "D0_7m1qji6A-",
        "outputId": "3dfcd366-b3ce-4e58-ef7c-b5fa11c6e232"
      },
      "source": [
        "topN = 30\n",
        "matches, results = test_contrafacts(contrafacts, index_lsi, lsi, topN)\n",
        "\n",
        "print(f\"Found matches: {matches} out of {len(results)}: {100*matches/len(results):.3f}%\")\n",
        "print() \n",
        "for rr, val in results.items():\n",
        "  if val == 0:\n",
        "    print(f\"{val}: {rr}\")\n"
      ],
      "execution_count": 66,
      "outputs": [
        {
          "output_type": "stream",
          "name": "stdout",
          "text": [
            "Found 26-2 [jazz1350] - Confirmation [jazz1350] B with value 0.5740386247634888\n",
            "Found 26-2 [jazz1350] - Confirmation [jazz1350] B with value 0.8028646111488342\n",
            "Found 26-2 [jazz1350] - Confirmation [jazz1350] B with value 0.5740386247634888\n",
            "Found Ablution [jazz1350] - All The Things You Are [jazz1350] A with value 0.948975145816803\n",
            "Found Ablution [jazz1350] - All The Things You Are [jazz1350] B with value 0.7544373869895935\n",
            "Found Ablution [jazz1350] - All The Things You Are [jazz1350] C with value 0.932321310043335\n",
            "Found Ablution [jazz1350] - All The Things You Are [jazz1350] D with value 0.8053835034370422\n",
            "Found Anthropology [jazz1350] - I Got Rhythm [jazz1350] B with value 1.0\n",
            "Found Bright Mississippi [jazz1350] - Sweet Georgia Brown [jazz1350] A with value 0.8425291180610657\n",
            "Found C.T.A. [jazz1350] - I Got Rhythm [jazz1350] B with value 1.0\n",
            "Found Cottontail [jazz1350] - I Got Rhythm [jazz1350] A with value 0.8815502524375916\n",
            "Found Cottontail [jazz1350] - I Got Rhythm [jazz1350] B with value 1.0\n",
            "Found Cottontail [jazz1350] - I Got Rhythm [jazz1350] A with value 0.8815502524375916\n",
            "Found Countdown [jazz1350] - Tune Up [jazz1350] A with value 0.8052096366882324\n",
            "Found Dexterity [jazz1350] - I Got Rhythm [jazz1350] B with value 1.0\n",
            "Found Dig [jazz1350] - Sweet Georgia Brown [jazz1350] A with value 0.9999999403953552\n",
            "Found Dig [jazz1350] - Sweet Georgia Brown [jazz1350] C with value 1.0\n",
            "Found Donna Lee [jazz1350] - Indiana (Back Home Again In) [jazz1350] A with value 0.9510552287101746\n",
            "Found Donna Lee [jazz1350] - Indiana (Back Home Again In) [jazz1350] B with value 0.8470178842544556\n",
            "Found Don't Be That Way [jazz1350] - I Got Rhythm [jazz1350] B with value 0.6521932482719421\n",
            "Found Evidence [jazz1350] - Just You, Just Me [jazz1350] B with value 0.8198733329772949\n",
            "Found Flintstones [jazz1350] - I Got Rhythm [jazz1350] B with value 1.0\n",
            "Found Freight Train [jazz1350] - Blues For Alice [jazz1350] A with value 0.870594322681427\n",
            "Found Hackensack [jazz1350] - Oh, Lady Be Good [jazz1350] A with value 0.8854966163635254\n",
            "Found Hackensack [jazz1350] - Oh, Lady Be Good [jazz1350] A with value 0.8561239838600159\n",
            "Found Hackensack [jazz1350] - Oh, Lady Be Good [jazz1350] A with value 0.8854966163635254\n",
            "Found Half Nelson [jazz1350] - Lady Bird [jazz1350] A with value 0.9733182787895203\n",
            "Found Hot House [jazz1350] - What Is This Thing Called Love [jazz1350] A with value 0.9999998807907104\n",
            "Found Hot House [jazz1350] - What Is This Thing Called Love [jazz1350] A with value 0.9999998807907104\n",
            "Found Hot House [jazz1350] - What Is This Thing Called Love [jazz1350] B with value 0.870681643486023\n",
            "Found Hot House [jazz1350] - What Is This Thing Called Love [jazz1350] A with value 0.9999998807907104\n",
            "Found Impressions [jazz1350] - So What [jazz1350] A with value 0.9999997615814209\n",
            "Found Impressions [jazz1350] - So What [jazz1350] A with value 0.9999997615814209\n",
            "Found Impressions [jazz1350] - So What [jazz1350] B with value 0.9999999403953552\n",
            "Found Impressions [jazz1350] - So What [jazz1350] A with value 0.9999997615814209\n",
            "Found In A Mellow Tone (In A Mellotone) [jazz1350] - Rose Room [jazz1350] A with value 0.8550052046775818\n",
            "Found In A Mellow Tone (In A Mellotone) [jazz1350] - Rose Room [jazz1350] A with value 0.8550052046775818\n",
            "Found In Walked Bud [jazz1350] - Blue Skies [jazz1350] A with value 0.9095306396484375\n",
            "Found In Walked Bud [jazz1350] - Blue Skies [jazz1350] A with value 0.9154563546180725\n",
            "Found In Walked Bud [jazz1350] - Blue Skies [jazz1350] A with value 0.9095306396484375\n",
            "Found Ko Ko [jazz1350] - Cherokee [jazz1350] A with value 0.9999998807907104\n",
            "Found Ko Ko [jazz1350] - Cherokee [jazz1350] A with value 1.000000238418579\n",
            "Found Ko Ko [jazz1350] - Cherokee [jazz1350] B with value 0.9999998807907104\n",
            "Found Lullaby Of Birdland [jazz1350] - Love Me Or Leave Me [jazz1350] A with value 0.8201479315757751\n",
            "Found Lullaby Of Birdland [jazz1350] - Love Me Or Leave Me [jazz1350] A with value 0.843446671962738\n",
            "Found Lullaby Of Birdland [jazz1350] - Love Me Or Leave Me [jazz1350] A with value 0.8360386490821838\n",
            "Found Ornithology [jazz1350] - How High The Moon [jazz1350] A with value 1.0000001192092896\n",
            "Found Ornithology [jazz1350] - How High The Moon [jazz1350] B with value 0.8886759877204895\n",
            "Found Ornithology [jazz1350] - How High The Moon [jazz1350] A with value 1.0000001192092896\n",
            "Found Ornithology [jazz1350] - How High The Moon [jazz1350] C with value 1.000000238418579\n",
            "Found Satellite [jazz1350] - How High The Moon [jazz1350] A with value 0.663920521736145\n",
            "Found Satellite [jazz1350] - How High The Moon [jazz1350] B with value 0.7859381437301636\n",
            "Found Satellite [jazz1350] - How High The Moon [jazz1350] A with value 0.663920521736145\n",
            "Found Scrapple From The Apple [jazz1350] - Honeysuckle Rose [jazz1350] A with value 0.8565816283226013\n",
            "Found Scrapple From The Apple [jazz1350] - Honeysuckle Rose [jazz1350] A with value 0.8910041451454163\n",
            "Found Scrapple From The Apple [jazz1350] - Honeysuckle Rose [jazz1350] A with value 0.8565816283226013\n",
            "Found Scrapple From The Apple [jazz1350] - I Got Rhythm [jazz1350] B with value 1.0\n",
            "Found Tour De Force [jazz1350] - Jeepers Creepers [jazz1350] B with value 0.8314177989959717\n",
            "Found Wow [jazz1350] - You Can Depend On Me [jazz1350] A with value 0.840363085269928\n",
            "Found Wow [jazz1350] - You Can Depend On Me [jazz1350] B with value 0.8453867435455322\n",
            "Found Yardbird Suite [jazz1350] - Rosetta [jazz1350] A with value 0.8474915027618408\n",
            "Found Yardbird Suite [jazz1350] - Rosetta [jazz1350] A with value 0.8168677687644958\n",
            "Found Yardbird Suite [jazz1350] - Rosetta [jazz1350] A with value 0.8356542587280273\n",
            "Found These Foolish Things [jazz1350] - More Than You Know [jazz1350] B with value 0.8677803874015808\n",
            "Found These Foolish Things [jazz1350] - Isn't It A Pity [jazz1350] A with value 0.8717769980430603\n",
            "Found These Foolish Things [jazz1350] - Isn't It A Pity [jazz1350] B with value 0.735953152179718\n",
            "Found These Foolish Things [jazz1350] - Soultrane [jazz1350] B with value 0.7207914590835571\n",
            "Found Misty [jazz1350] - Portrait Of Jennie [jazz1350] A with value 0.8625710606575012\n",
            "Found Misty [jazz1350] - Portrait Of Jennie [jazz1350] A with value 0.9041240215301514\n",
            "Found Misty [jazz1350] - September In The Rain [jazz1350] A with value 0.848208487033844\n",
            "Found Misty [jazz1350] - September In The Rain [jazz1350] A with value 0.689347505569458\n",
            "Found Misty [jazz1350] - I May Be Wrong [jazz1350] A with value 0.8280934691429138\n",
            "Found Five Foot Two [trad] - Please Don't Talk About Me When I'm Gone [trad] A with value 0.9999997615814209\n",
            "Found Five Foot Two [trad] - Please Don't Talk About Me When I'm Gone [trad] A with value 0.9999997615814209\n",
            "Found Five Foot Two [trad] - Please Don't Talk About Me When I'm Gone [trad] B with value 1.0\n",
            "Found Five Foot Two [trad] - Please Don't Talk About Me When I'm Gone [trad] A with value 0.9999997615814209\n",
            "Found What Is This Thing Called Love [jazz1350] - Subconscious Lee [jazz1350] A with value 0.9999998807907104\n",
            "Found What Is This Thing Called Love [jazz1350] - Subconscious Lee [jazz1350] A with value 0.9999998807907104\n",
            "Found What Is This Thing Called Love [jazz1350] - Subconscious Lee [jazz1350] B with value 0.870681643486023\n",
            "Found What Is This Thing Called Love [jazz1350] - Subconscious Lee [jazz1350] A with value 0.9999998807907104\n",
            "Found Sweet Georgia Brown [jazz1350] - Dig [jazz1350] A with value 0.9999999403953552\n",
            "Found Sweet Georgia Brown [jazz1350] - Dig [jazz1350] A with value 0.9999999403953552\n",
            "Found Sweet Georgia Brown [jazz1350] - Dig [jazz1350] C with value 1.0\n",
            "Found What Is This Thing Called Love [jazz1350] - Hot House [jazz1350] A with value 0.9999998807907104\n",
            "Found What Is This Thing Called Love [jazz1350] - Hot House [jazz1350] A with value 0.9999998807907104\n",
            "Found What Is This Thing Called Love [jazz1350] - Hot House [jazz1350] B with value 0.870681643486023\n",
            "Found What Is This Thing Called Love [jazz1350] - Hot House [jazz1350] A with value 0.9999998807907104\n",
            "Found Jeannie's Song [jazz1350] - Shiny Stockings [jazz1350] A with value 0.9999998807907104\n",
            "Found Jeannie's Song [jazz1350] - Shiny Stockings [jazz1350] A with value 0.9999998807907104\n",
            "Found Jeannie's Song [jazz1350] - Shiny Stockings [jazz1350] C with value 0.9560104012489319\n",
            "Found Alone Together [jazz1350] - Segment [jazz1350] B with value 1.0\n",
            "Found Alone Together [jazz1350] - Segment [jazz1350] A with value 0.9601810574531555\n",
            "Found Baubles, Bangles and Beads [jazz1350] - Bossa Antigua [jazz1350] A with value 1.0000001192092896\n",
            "Found Baubles, Bangles and Beads [jazz1350] - Bossa Antigua [jazz1350] C with value 0.7536557912826538\n",
            "Found There Will Never Be Another You [jazz1350] - A Weaver Of Dreams [jazz1350] A with value 0.9999998807907104\n",
            "Found There Will Never Be Another You [jazz1350] - A Weaver Of Dreams [jazz1350] B with value 0.7309308052062988\n",
            "Found There Will Never Be Another You [jazz1350] - A Weaver Of Dreams [jazz1350] A with value 0.9999998807907104\n",
            "Found All I Do Is Dream Of You [trad] - L-O-V-E [jazz1350] A with value 0.9689133167266846\n",
            "Found All I Do Is Dream Of You [trad] - L-O-V-E [jazz1350] A with value 0.9397939443588257\n",
            "Found Nancy (With The Laughing Face) [jazz1350] - Body And Soul [jazz1350] A with value 0.9056268930435181\n",
            "Found Nancy (With The Laughing Face) [jazz1350] - Body And Soul [jazz1350] A with value 0.8970098495483398\n",
            "Found Nancy (With The Laughing Face) [jazz1350] - Body And Soul [jazz1350] A with value 0.906850278377533\n",
            "Found Exactly Like You [jazz1350] - True (You Don't Love Me ) [trad] A with value 0.9338235259056091\n",
            "Found Exactly Like You [jazz1350] - True (You Don't Love Me ) [trad] A with value 0.9999999403953552\n",
            "Found Exactly Like You [jazz1350] - True (You Don't Love Me ) [trad] A with value 0.9338235259056091\n",
            "Found My Heart Stood Still [jazz1350] - All Too Soon [jazz1350] A with value 1.0000003576278687\n",
            "Found My Heart Stood Still [jazz1350] - All Too Soon [jazz1350] A with value 0.9565738439559937\n",
            "Found My Heart Stood Still [jazz1350] - All Too Soon [jazz1350] A with value 0.9999997019767761\n",
            "Found Undecided [jazz1350] - Broadway [jazz1350] A with value 0.9736617207527161\n",
            "Found Undecided [jazz1350] - Broadway [jazz1350] A with value 0.9719979166984558\n",
            "Found Undecided [jazz1350] - Broadway [jazz1350] A with value 0.9719979166984558\n",
            "Found Let's Fall In Love [jazz1350] - Heart And Soul [jazz1350] A with value 0.9634787440299988\n",
            "Found Let's Fall In Love [jazz1350] - Heart And Soul [jazz1350] A with value 0.9119114279747009\n",
            "Found Let's Fall In Love [jazz1350] - Heart And Soul [jazz1350] A with value 0.9999998807907104\n",
            "Found Come Back To Me [jazz1350] - I Wish I Knew [jazz1350] A with value 0.8559926748275757\n",
            "Found Come Back To Me [jazz1350] - I Wish I Knew [jazz1350] C with value 0.9999998211860657\n",
            "Found Wait Till You See Her [jazz1350] - A Certain Smile [jazz1350] A with value 0.9999997615814209\n",
            "Found Wait Till You See Her [jazz1350] - A Certain Smile [jazz1350] A with value 0.7831501960754395\n",
            "Found Wait Till You See Her [jazz1350] - A Certain Smile [jazz1350] A with value 0.8052994012832642\n",
            "Found Killer Joe [jazz1350] - Straight Life [jazz1350] A with value 1.0\n",
            "Found Killer Joe [jazz1350] - Straight Life [jazz1350] A with value 1.0\n",
            "Found Killer Joe [jazz1350] - Straight Life [jazz1350] A with value 1.0\n",
            "Found Softly, As In A Morning Sunrise [jazz1350] - Segment [jazz1350] A with value 0.9999998807907104\n",
            "Found Softly, As In A Morning Sunrise [jazz1350] - Segment [jazz1350] A with value 0.9606732726097107\n",
            "Found Softly, As In A Morning Sunrise [jazz1350] - Segment [jazz1350] A with value 0.9999998807907104\n",
            "Found Bei Mir Bist Du Schon (Root Hog Or Die) [trad] - Egyptian Fantasy [trad] A with value 0.9693250060081482\n",
            "Found Bei Mir Bist Du Schon (Root Hog Or Die) [trad] - Egyptian Fantasy [trad] A with value 0.9682018756866455\n",
            "Found Bei Mir Bist Du Schon (Root Hog Or Die) [trad] - Egyptian Fantasy [trad] A with value 1.0000001192092896\n",
            "Found Bei Mir Bist Du Schon (Root Hog Or Die) [trad] - Puttin' On The Ritz [jazz1350] A with value 0.966208279132843\n",
            "Found Bei Mir Bist Du Schon (Root Hog Or Die) [trad] - Puttin' On The Ritz [jazz1350] A with value 0.9612099528312683\n",
            "Found Bei Mir Bist Du Schon (Root Hog Or Die) [trad] - Puttin' On The Ritz [jazz1350] A with value 0.9927485585212708\n",
            "Found Coquette [trad] - Pretend You're Happy When You're Blue [trad] A with value 0.9590187072753906\n",
            "Found Coquette [trad] - Pretend You're Happy When You're Blue [trad] A with value 0.9575149416923523\n",
            "Found Coquette [trad] - Pretend You're Happy When You're Blue [trad] A with value 0.988013505935669\n",
            "Found Softly, As In A Morning Sunrise [jazz1350] - Strode Rode [jazz1350] A with value 0.9880930185317993\n",
            "Found Softly, As In A Morning Sunrise [jazz1350] - Strode Rode [jazz1350] A with value 0.9627730846405029\n",
            "Found Softly, As In A Morning Sunrise [jazz1350] - Strode Rode [jazz1350] A with value 0.9880930185317993\n",
            "Found Glory Of Love, The [jazz1350] - I've Got My Fingers Crossed [trad] A with value 0.970757246017456\n",
            "Found Glory Of Love, The [jazz1350] - I've Got My Fingers Crossed [trad] A with value 0.9347903728485107\n",
            "Found Glory Of Love, The [jazz1350] - I've Got My Fingers Crossed [trad] A with value 0.9351465106010437\n",
            "Found Charleston, The [jazz1350] - As Long As I Live [trad] A with value 1.0000003576278687\n",
            "Found Charleston, The [jazz1350] - As Long As I Live [trad] A with value 1.0000003576278687\n",
            "Found Fine And Dandy [jazz1350] - I Can't Give You Anything But Love [jazz1350] A with value 1.0\n",
            "Found Fine And Dandy [jazz1350] - I Can't Give You Anything But Love [jazz1350] A with value 1.0\n",
            "Found I'll Close My Eyes [jazz1350] - Bluesette [jazz1350] A with value 1.0000001192092896\n",
            "Found I'll Close My Eyes [jazz1350] - Bluesette [jazz1350] A with value 1.0000001192092896\n",
            "Found I'll Close My Eyes [jazz1350] - There Will Never Be Another You [jazz1350] A with value 0.8802643418312073\n",
            "Found I'll Close My Eyes [jazz1350] - There Will Never Be Another You [jazz1350] C with value 0.7841556668281555\n",
            "Found I'll Close My Eyes [jazz1350] - There Will Never Be Another You [jazz1350] A with value 0.8802643418312073\n",
            "Found If I Had You [jazz1350] - Too Young To Go Steady [jazz1350] B with value 0.9996756315231323\n",
            "Found Undecided [jazz1350] - Satin Doll [jazz1350] B with value 1.0000001192092896\n",
            "Found Billy Boy [jazz1350] - Elora [jazz1350] B with value 1.0000001192092896\n",
            "Found Dearly Beloved [jazz1350] - We See [jazz1350] B with value 0.9999999403953552\n",
            "Found Dearly Beloved [jazz1350] - We See [jazz1350] B with value 0.9999999403953552\n",
            "Found Alone Together [jazz1350] - A Night In Tunisia [jazz1350] B with value 1.0\n",
            "Found A Night In Tunisia [jazz1350] - Segment [jazz1350] B with value 1.0\n",
            "Found Oh! Lady Be Good [trad] - Sentimental Journey [jazz1350] B with value 1.000000238418579\n",
            "Found You Can Depend On Me [jazz1350] - Move [jazz1350] B with value 0.9999999403953552\n",
            "Found I Want To Be Happy [jazz1350] - A Beautiful Friendship [jazz1350] B with value 0.9999997019767761\n",
            "Found Flying Home [jazz1350] - Down For Double [jazz1350] B with value 1.0000003576278687\n",
            "Found Cheek To Cheek [jazz1350] - Violets For Your Furs [jazz1350] B with value 0.9736347794532776\n",
            "Found Let's Fall In Love [jazz1350] - At Last [jazz1350] A with value 0.9293399453163147\n",
            "Found Let's Fall In Love [jazz1350] - At Last [jazz1350] A with value 0.8768616914749146\n",
            "Found Let's Fall In Love [jazz1350] - At Last [jazz1350] A with value 0.9721817970275879\n",
            "Found Don't Be That Way [jazz1350] - Long Ago And Far Away [jazz1350] A with value 0.9716020226478577\n",
            "Found Don't Be That Way [jazz1350] - Long Ago And Far Away [jazz1350] A with value 0.9527076482772827\n",
            "Found Don't Be That Way [jazz1350] - Long Ago And Far Away [jazz1350] A with value 0.9560096859931946\n",
            "Found On The Sunny Side Of The Street [jazz1350] - I'm Confessin' That I Love You [jazz1350] B with value 1.0\n",
            "Found On The Sunny Side Of The Street [jazz1350] - Eclypso [jazz1350] B with value 0.9746614694595337\n",
            "Found On The Sunny Side Of The Street [jazz1350] - You Stepped Out Of A Dream [jazz1350] B with value 0.8755370378494263\n",
            "Found Satin Doll [jazz1350] - Undecided [jazz1350] B with value 1.0000001192092896\n",
            "Found I Like The Likes Of You [jazz1350] - Mountain Greenery [jazz1350] A with value 0.9580369591712952\n",
            "Found I Like The Likes Of You [jazz1350] - Mountain Greenery [jazz1350] A with value 0.9814890027046204\n",
            "Found I Like The Likes Of You [jazz1350] - Mountain Greenery [jazz1350] A with value 0.9580369591712952\n",
            "Found My Secret Love [jazz1350] - Samba De Orfeu [jazz1350] A with value 0.9594796895980835\n",
            "Found My Secret Love [jazz1350] - Samba De Orfeu [jazz1350] A with value 0.9804140329360962\n",
            "Found Let's Call The Whole Thing Off [jazz1350] - Fine And Dandy [jazz1350] A with value 0.8463559746742249\n",
            "Found Let's Call The Whole Thing Off [jazz1350] - Fine And Dandy [jazz1350] A with value 0.9217869639396667\n",
            "Found Let's Call The Whole Thing Off [jazz1350] - Fine And Dandy [jazz1350] A with value 0.8737800717353821\n",
            "Found Folks Who Live On The Hill, The [jazz1350] - My One And Only Love [jazz1350] B with value 0.8864959478378296\n",
            "Found Folks Who Live On The Hill, The [jazz1350] - My One And Only Love [jazz1350] A with value 0.8931663036346436\n",
            "Found I May Be Wrong [jazz1350] - Teach Me Tonight [jazz1350] B with value 0.9800683259963989\n",
            "Found Am I Blue [jazz1350] - Come Back To Me [jazz1350] B with value 0.9772056341171265\n",
            "Found My One And Only Love [jazz1350] - Am I Blue [jazz1350] B with value 0.9569348692893982\n",
            "Found On The Sunny Side Of The Street [jazz1350] - September In The Rain [jazz1350] B with value 0.9291372895240784\n",
            "Found On The Sunny Side Of The Street [jazz1350] - Mountain Greenery [jazz1350] B with value 0.9173978567123413\n",
            "Found On The Sunny Side Of The Street [jazz1350] - There's No You [jazz1350] B with value 0.890310525894165\n",
            "Found These Foolish Things [jazz1350] - Embraceable You [jazz1350] B with value 0.7331201434135437\n",
            "Found These Foolish Things [jazz1350] - Rosetta [jazz1350] B with value 0.8466288447380066\n",
            "Found Bill Bailey [jazz1350] - Bourbon Street Parade [jazz1350] B with value 0.8122888207435608\n",
            "Found Bill Bailey [jazz1350] - Bourbon Street Parade [jazz1350] A with value 0.8725844621658325\n",
            "Found Bill Bailey [jazz1350] - Bourbon Street Parade [jazz1350] C with value 1.0\n",
            "Found Woody'n You [jazz1350] - Stella By Starlight [jazz1350] C with value 0.9999999403953552\n",
            "Found Woody'n You [jazz1350] - Stella By Starlight [jazz1350] C with value 0.9999999403953552\n",
            "Found Woody'n You [jazz1350] - Stella By Starlight [jazz1350] C with value 0.9999999403953552\n",
            "Found Tangerine [jazz1350] - Tea For Two [jazz1350] A with value 0.9581332206726074\n",
            "Found Tangerine [jazz1350] - Tea For Two [jazz1350] A with value 0.9506093859672546\n",
            "Found I Can't Give You Anything But Love [jazz1350] - You Can Depend On Me [jazz1350] A with value 0.8494737148284912\n",
            "Found I Can't Give You Anything But Love [jazz1350] - You Can Depend On Me [jazz1350] B with value 0.9561185240745544\n",
            "Found This Year's Kisses [jazz1350] - My Monday Date [trad] B with value 0.7408376336097717\n",
            "Found A Blossom Fell [jazz1350] - Among My Souvenirs [jazz1350] A with value 0.9603815674781799\n",
            "Found A Blossom Fell [jazz1350] - Among My Souvenirs [jazz1350] A with value 0.8840604424476624\n",
            "Found matches: 97 out of 115: 84.348%\n",
            "\n"
          ]
        }
      ]
    },
    {
      "cell_type": "code",
      "source": [
        "results"
      ],
      "metadata": {
        "colab": {
          "base_uri": "https://localhost:8080/"
        },
        "id": "Vyk8bhN0lBdX",
        "outputId": "551dcc77-6551-42e0-b76c-dbfc6fe2fe6c"
      },
      "execution_count": 67,
      "outputs": [
        {
          "output_type": "execute_result",
          "data": {
            "text/plain": [
              "{'26-2 [jazz1350], Confirmation [jazz1350]': {'found': 1,\n",
              "  'rank': 1,\n",
              "  'score': 0.8028646},\n",
              " '52nd Street Theme [jazz1350], I Got Rhythm [jazz1350]': {'found': 0,\n",
              "  'rank': 0,\n",
              "  'score': 0.8544318},\n",
              " 'A Blossom Fell [jazz1350], Among My Souvenirs [jazz1350]': {'found': 1,\n",
              "  'rank': 1,\n",
              "  'score': 0.96038157},\n",
              " 'A Night In Tunisia [jazz1350], Segment [jazz1350]': {'found': 1,\n",
              "  'rank': 2,\n",
              "  'score': 1.0},\n",
              " 'Ablution [jazz1350], All The Things You Are [jazz1350]': {'found': 1,\n",
              "  'rank': 1,\n",
              "  'score': 0.94897515},\n",
              " 'All I Do Is Dream Of You [trad], L-O-V-E [jazz1350]': {'found': 1,\n",
              "  'rank': 2,\n",
              "  'score': 0.9689133},\n",
              " 'Alone Together [jazz1350], A Night In Tunisia [jazz1350]': {'found': 1,\n",
              "  'rank': 0,\n",
              "  'score': 1.0},\n",
              " 'Alone Together [jazz1350], Segment [jazz1350]': {'found': 1,\n",
              "  'rank': 2,\n",
              "  'score': 1.0},\n",
              " 'Am I Blue [jazz1350], Come Back To Me [jazz1350]': {'found': 1,\n",
              "  'rank': 1,\n",
              "  'score': 0.97720563},\n",
              " 'Anthropology [jazz1350], I Got Rhythm [jazz1350]': {'found': 1,\n",
              "  'rank': 5,\n",
              "  'score': 1.0},\n",
              " \"As Long As I Live [trad], I'm Glad There Is You [jazz1350]\": {'found': 0,\n",
              "  'rank': 0,\n",
              "  'score': 0.5053104},\n",
              " 'Baubles, Bangles and Beads [jazz1350], Bossa Antigua [jazz1350]': {'found': 1,\n",
              "  'rank': 1,\n",
              "  'score': 1.0000001},\n",
              " 'Bei Mir Bist Du Schon (Root Hog Or Die) [trad], Egyptian Fantasy [trad]': {'found': 1,\n",
              "  'rank': 1,\n",
              "  'score': 1.0000001},\n",
              " \"Bei Mir Bist Du Schon (Root Hog Or Die) [trad], Puttin' On The Ritz [jazz1350]\": {'found': 1,\n",
              "  'rank': 2,\n",
              "  'score': 0.99274856},\n",
              " 'Bill Bailey [jazz1350], Bourbon Street Parade [jazz1350]': {'found': 1,\n",
              "  'rank': 1,\n",
              "  'score': 1.0},\n",
              " 'Billy Boy [jazz1350], Elora [jazz1350]': {'found': 1,\n",
              "  'rank': 1,\n",
              "  'score': 1.0000001},\n",
              " 'Bright Mississippi [jazz1350], Sweet Georgia Brown [jazz1350]': {'found': 1,\n",
              "  'rank': 3,\n",
              "  'score': 0.8425291},\n",
              " 'C.T.A. [jazz1350], I Got Rhythm [jazz1350]': {'found': 1,\n",
              "  'rank': 5,\n",
              "  'score': 1.0},\n",
              " 'Charleston, The [jazz1350], As Long As I Live [trad]': {'found': 1,\n",
              "  'rank': 2,\n",
              "  'score': 1.0000004},\n",
              " 'Cheek To Cheek [jazz1350], Violets For Your Furs [jazz1350]': {'found': 1,\n",
              "  'rank': 3,\n",
              "  'score': 0.9736348},\n",
              " 'Come Back To Me [jazz1350], I Wish I Knew [jazz1350]': {'found': 1,\n",
              "  'rank': 1,\n",
              "  'score': 0.9999998},\n",
              " \"Coquette [trad], Pretend You're Happy When You're Blue [trad]\": {'found': 1,\n",
              "  'rank': 4,\n",
              "  'score': 0.9880135},\n",
              " 'Cottontail [jazz1350], I Got Rhythm [jazz1350]': {'found': 1,\n",
              "  'rank': 5,\n",
              "  'score': 1.0},\n",
              " 'Countdown [jazz1350], Tune Up [jazz1350]': {'found': 1,\n",
              "  'rank': 2,\n",
              "  'score': 0.80520964},\n",
              " 'Dearly Beloved [jazz1350], We See [jazz1350]': {'found': 1,\n",
              "  'rank': 2,\n",
              "  'score': 0.99999994},\n",
              " 'Dewey Square [jazz1350], Oh, Lady Be Good [jazz1350]': {'found': 0,\n",
              "  'rank': 0,\n",
              "  'score': 0.64532405},\n",
              " 'Dexterity [jazz1350], I Got Rhythm [jazz1350]': {'found': 1,\n",
              "  'rank': 5,\n",
              "  'score': 1.0},\n",
              " 'Dig [jazz1350], Sweet Georgia Brown [jazz1350]': {'found': 1,\n",
              "  'rank': 1,\n",
              "  'score': 1.0},\n",
              " \"Don't Be That Way [jazz1350], I Got Rhythm [jazz1350]\": {'found': 1,\n",
              "  'rank': 24,\n",
              "  'score': 0.65219325},\n",
              " \"Don't Be That Way [jazz1350], Long Ago And Far Away [jazz1350]\": {'found': 1,\n",
              "  'rank': 4,\n",
              "  'score': 0.971602},\n",
              " 'Donna Lee [jazz1350], Indiana (Back Home Again In) [jazz1350]': {'found': 1,\n",
              "  'rank': 1,\n",
              "  'score': 0.9510552},\n",
              " 'Evidence [jazz1350], Just You, Just Me [jazz1350]': {'found': 1,\n",
              "  'rank': 1,\n",
              "  'score': 0.81987333},\n",
              " 'Exactly Like You [jazz1350], Jersey Bounce [jazz1350]': {'found': 0,\n",
              "  'rank': 0,\n",
              "  'score': 0.84582794},\n",
              " \"Exactly Like You [jazz1350], True (You Don't Love Me ) [trad]\": {'found': 1,\n",
              "  'rank': 6,\n",
              "  'score': 0.99999994},\n",
              " \"Fine And Dandy [jazz1350], I Can't Give You Anything But Love [jazz1350]\": {'found': 1,\n",
              "  'rank': 2,\n",
              "  'score': 1.0},\n",
              " \"Five Foot Two [trad], Please Don't Talk About Me When I'm Gone [trad]\": {'found': 1,\n",
              "  'rank': 25,\n",
              "  'score': 1.0},\n",
              " 'Flintstones [jazz1350], I Got Rhythm [jazz1350]': {'found': 1,\n",
              "  'rank': 5,\n",
              "  'score': 1.0},\n",
              " 'Flying Home [jazz1350], Down For Double [jazz1350]': {'found': 1,\n",
              "  'rank': 0,\n",
              "  'score': 1.0000004},\n",
              " 'Folks Who Live On The Hill, The [jazz1350], My One And Only Love [jazz1350]': {'found': 1,\n",
              "  'rank': 24,\n",
              "  'score': 0.8931663},\n",
              " 'Four On Six [jazz1350], Summertime [jazz1350]': {'found': 0,\n",
              "  'rank': 0,\n",
              "  'score': 0.84088665},\n",
              " 'Freight Train [jazz1350], Blues For Alice [jazz1350]': {'found': 1,\n",
              "  'rank': 2,\n",
              "  'score': 0.8705943},\n",
              " \"Glory Of Love, The [jazz1350], I've Got My Fingers Crossed [trad]\": {'found': 1,\n",
              "  'rank': 2,\n",
              "  'score': 0.97075725},\n",
              " 'Good Bait [jazz1350], I Got Rhythm [jazz1350]': {'found': 0,\n",
              "  'rank': 0,\n",
              "  'score': 0.83547413},\n",
              " 'Hackensack [jazz1350], Oh, Lady Be Good [jazz1350]': {'found': 1,\n",
              "  'rank': 15,\n",
              "  'score': 0.8854966},\n",
              " 'Half Nelson [jazz1350], Lady Bird [jazz1350]': {'found': 1,\n",
              "  'rank': 1,\n",
              "  'score': 0.9733183},\n",
              " 'Hot House [jazz1350], What Is This Thing Called Love [jazz1350]': {'found': 1,\n",
              "  'rank': 6,\n",
              "  'score': 0.9999999},\n",
              " \"I Can't Give You Anything But Love [jazz1350], You Can Depend On Me [jazz1350]\": {'found': 1,\n",
              "  'rank': 2,\n",
              "  'score': 0.9561185},\n",
              " 'I Like The Likes Of You [jazz1350], Mountain Greenery [jazz1350]': {'found': 1,\n",
              "  'rank': 1,\n",
              "  'score': 0.981489},\n",
              " 'I May Be Wrong [jazz1350], Teach Me Tonight [jazz1350]': {'found': 1,\n",
              "  'rank': 1,\n",
              "  'score': 0.9800683},\n",
              " 'I Want To Be Happy [jazz1350], A Beautiful Friendship [jazz1350]': {'found': 1,\n",
              "  'rank': 0,\n",
              "  'score': 0.9999997},\n",
              " \"I'll Close My Eyes [jazz1350], Bluesette [jazz1350]\": {'found': 1,\n",
              "  'rank': 0,\n",
              "  'score': 1.0000001},\n",
              " \"I'll Close My Eyes [jazz1350], There Will Never Be Another You [jazz1350]\": {'found': 1,\n",
              "  'rank': 5,\n",
              "  'score': 0.88026434},\n",
              " 'If I Had You [jazz1350], Too Young To Go Steady [jazz1350]': {'found': 1,\n",
              "  'rank': 1,\n",
              "  'score': 0.99967563},\n",
              " 'Impressions [jazz1350], So What [jazz1350]': {'found': 1,\n",
              "  'rank': 1,\n",
              "  'score': 0.99999994},\n",
              " 'In A Mellow Tone (In A Mellotone) [jazz1350], Rose Room [jazz1350]': {'found': 1,\n",
              "  'rank': 3,\n",
              "  'score': 0.8550052},\n",
              " 'In Walked Bud [jazz1350], Blue Skies [jazz1350]': {'found': 1,\n",
              "  'rank': 3,\n",
              "  'score': 0.91545635},\n",
              " \"Jeannie's Song [jazz1350], Shiny Stockings [jazz1350]\": {'found': 1,\n",
              "  'rank': 2,\n",
              "  'score': 0.9999999},\n",
              " 'Killer Joe [jazz1350], Straight Life [jazz1350]': {'found': 1,\n",
              "  'rank': 3,\n",
              "  'score': 1.0},\n",
              " 'Ko Ko [jazz1350], Cherokee [jazz1350]': {'found': 1,\n",
              "  'rank': 0,\n",
              "  'score': 1.0000002},\n",
              " \"Lennie's Pennies [jazz1350], Pennies From Heaven [jazz1350]\": {'found': 0,\n",
              "  'rank': 0,\n",
              "  'score': 0.23320097},\n",
              " \"Let's Call The Whole Thing Off [jazz1350], Fine And Dandy [jazz1350]\": {'found': 1,\n",
              "  'rank': 5,\n",
              "  'score': 0.92178696},\n",
              " \"Let's Fall In Love [jazz1350], At Last [jazz1350]\": {'found': 1,\n",
              "  'rank': 5,\n",
              "  'score': 0.9721818},\n",
              " \"Let's Fall In Love [jazz1350], Heart And Soul [jazz1350]\": {'found': 1,\n",
              "  'rank': 0,\n",
              "  'score': 0.9999999},\n",
              " 'Little Rootie Tootie [jazz1350], I Got Rhythm [jazz1350]': {'found': 0,\n",
              "  'rank': 0,\n",
              "  'score': 0.7964229},\n",
              " \"Little Willie Leaps [jazz1350], All God's Chillun Got Rhythm [jazz1350]\": {'found': 0,\n",
              "  'rank': 0,\n",
              "  'score': 0.8558964},\n",
              " 'Lullaby Of Birdland [jazz1350], Love Me Or Leave Me [jazz1350]': {'found': 1,\n",
              "  'rank': 21,\n",
              "  'score': 0.8434467},\n",
              " 'Misty [jazz1350], I May Be Wrong [jazz1350]': {'found': 1,\n",
              "  'rank': 26,\n",
              "  'score': 0.82809347},\n",
              " 'Misty [jazz1350], Portrait Of Jennie [jazz1350]': {'found': 1,\n",
              "  'rank': 2,\n",
              "  'score': 0.904124},\n",
              " 'Misty [jazz1350], September In The Rain [jazz1350]': {'found': 1,\n",
              "  'rank': 11,\n",
              "  'score': 0.8482085},\n",
              " 'Moten Swing [jazz1350], Once In A While (Ballad) [trad]': {'found': 0,\n",
              "  'rank': 0,\n",
              "  'score': 0.69728434},\n",
              " 'My Heart Stood Still [jazz1350], All Too Soon [jazz1350]': {'found': 1,\n",
              "  'rank': 0,\n",
              "  'score': 1.0000004},\n",
              " 'My Little Suede Shoes [jazz1350], Jeepers Creepers [jazz1350]': {'found': 0,\n",
              "  'rank': 0,\n",
              "  'score': 0.8940231},\n",
              " 'My One And Only Love [jazz1350], Am I Blue [jazz1350]': {'found': 1,\n",
              "  'rank': 1,\n",
              "  'score': 0.95693487},\n",
              " 'My Secret Love [jazz1350], Samba De Orfeu [jazz1350]': {'found': 1,\n",
              "  'rank': 1,\n",
              "  'score': 0.98041403},\n",
              " 'Nancy (With The Laughing Face) [jazz1350], Body And Soul [jazz1350]': {'found': 1,\n",
              "  'rank': 3,\n",
              "  'score': 0.9068503},\n",
              " 'Oh! Lady Be Good [trad], Sentimental Journey [jazz1350]': {'found': 1,\n",
              "  'rank': 0,\n",
              "  'score': 1.0000002},\n",
              " 'On The Sunny Side Of The Street [jazz1350], Eclypso [jazz1350]': {'found': 1,\n",
              "  'rank': 2,\n",
              "  'score': 0.97466147},\n",
              " \"On The Sunny Side Of The Street [jazz1350], I'm Confessin' That I Love You [jazz1350]\": {'found': 1,\n",
              "  'rank': 0,\n",
              "  'score': 1.0},\n",
              " 'On The Sunny Side Of The Street [jazz1350], Mountain Greenery [jazz1350]': {'found': 1,\n",
              "  'rank': 5,\n",
              "  'score': 0.91739786},\n",
              " 'On The Sunny Side Of The Street [jazz1350], September In The Rain [jazz1350]': {'found': 1,\n",
              "  'rank': 4,\n",
              "  'score': 0.9291373},\n",
              " \"On The Sunny Side Of The Street [jazz1350], There's No You [jazz1350]\": {'found': 1,\n",
              "  'rank': 7,\n",
              "  'score': 0.8903105},\n",
              " 'On The Sunny Side Of The Street [jazz1350], You Stepped Out Of A Dream [jazz1350]': {'found': 1,\n",
              "  'rank': 11,\n",
              "  'score': 0.87553704},\n",
              " 'Ornithology [jazz1350], How High The Moon [jazz1350]': {'found': 1,\n",
              "  'rank': 0,\n",
              "  'score': 1.0000002},\n",
              " 'Quasimodo (Theme) [jazz1350], Embraceable You [jazz1350]': {'found': 0,\n",
              "  'rank': 0,\n",
              "  'score': 0.6872724},\n",
              " 'Room 608 [jazz1350], I Got Rhythm [jazz1350]': {'found': 0,\n",
              "  'rank': 0,\n",
              "  'score': 0.6730101},\n",
              " 'Satellite [jazz1350], How High The Moon [jazz1350]': {'found': 1,\n",
              "  'rank': 5,\n",
              "  'score': 0.78593814},\n",
              " 'Satin Doll [jazz1350], Undecided [jazz1350]': {'found': 1,\n",
              "  'rank': 1,\n",
              "  'score': 1.0000001},\n",
              " 'Scrapple From The Apple [jazz1350], Honeysuckle Rose [jazz1350]': {'found': 1,\n",
              "  'rank': 5,\n",
              "  'score': 0.89100415},\n",
              " 'Scrapple From The Apple [jazz1350], I Got Rhythm [jazz1350]': {'found': 1,\n",
              "  'rank': 5,\n",
              "  'score': 1.0},\n",
              " 'Softly, As In A Morning Sunrise [jazz1350], Segment [jazz1350]': {'found': 1,\n",
              "  'rank': 0,\n",
              "  'score': 0.9999999},\n",
              " 'Softly, As In A Morning Sunrise [jazz1350], Strode Rode [jazz1350]': {'found': 1,\n",
              "  'rank': 7,\n",
              "  'score': 0.988093},\n",
              " 'Sweet Georgia Brown [jazz1350], Dig [jazz1350]': {'found': 1,\n",
              "  'rank': 0,\n",
              "  'score': 1.0},\n",
              " 'Sweet Sue, Just You [jazz1350], Bye Bye Blackbird [jazz1350]': {'found': 0,\n",
              "  'rank': 0,\n",
              "  'score': 0.81316584},\n",
              " 'Sweet Sue, Just You [jazz1350], Honeysuckle Rose [jazz1350]': {'found': 0,\n",
              "  'rank': 0,\n",
              "  'score': 0.802808},\n",
              " 'Take The A Train [jazz1350], Girl From Ipanema, The [jazz1350]': {'found': 0,\n",
              "  'rank': 0,\n",
              "  'score': 0.7523497},\n",
              " 'Tangerine [jazz1350], Tea For Two [jazz1350]': {'found': 1,\n",
              "  'rank': 2,\n",
              "  'score': 0.9581332},\n",
              " 'There Will Never Be Another You [jazz1350], A Weaver Of Dreams [jazz1350]': {'found': 1,\n",
              "  'rank': 0,\n",
              "  'score': 0.9999999},\n",
              " 'These Foolish Things [jazz1350], Blue Moon [jazz1350]': {'found': 0,\n",
              "  'rank': 0,\n",
              "  'score': 0.8808811},\n",
              " 'These Foolish Things [jazz1350], Embraceable You [jazz1350]': {'found': 1,\n",
              "  'rank': 13,\n",
              "  'score': 0.73312014},\n",
              " \"These Foolish Things [jazz1350], Isn't It A Pity [jazz1350]\": {'found': 1,\n",
              "  'rank': 10,\n",
              "  'score': 0.871777},\n",
              " 'These Foolish Things [jazz1350], More Than You Know [jazz1350]': {'found': 1,\n",
              "  'rank': 1,\n",
              "  'score': 0.8677804},\n",
              " 'These Foolish Things [jazz1350], Rosetta [jazz1350]': {'found': 1,\n",
              "  'rank': 2,\n",
              "  'score': 0.84662884},\n",
              " 'These Foolish Things [jazz1350], Soultrane [jazz1350]': {'found': 1,\n",
              "  'rank': 17,\n",
              "  'score': 0.72079146},\n",
              " 'These Foolish Things [jazz1350], Why Do I Love You [jazz1350]': {'found': 0,\n",
              "  'rank': 0,\n",
              "  'score': 0.8674871},\n",
              " \"This Year's Kisses [jazz1350], My Monday Date [trad]\": {'found': 1,\n",
              "  'rank': 7,\n",
              "  'score': 0.74083763},\n",
              " 'Tour De Force [jazz1350], Jeepers Creepers [jazz1350]': {'found': 1,\n",
              "  'rank': 6,\n",
              "  'score': 0.8314178},\n",
              " 'Undecided [jazz1350], Broadway [jazz1350]': {'found': 1,\n",
              "  'rank': 1,\n",
              "  'score': 0.9736617},\n",
              " 'Undecided [jazz1350], Satin Doll [jazz1350]': {'found': 1,\n",
              "  'rank': 0,\n",
              "  'score': 1.0000001},\n",
              " 'Wait Till You See Her [jazz1350], A Certain Smile [jazz1350]': {'found': 1,\n",
              "  'rank': 0,\n",
              "  'score': 0.99999976},\n",
              " 'What Is This Thing Called Love [jazz1350], Hot House [jazz1350]': {'found': 1,\n",
              "  'rank': 0,\n",
              "  'score': 0.9999999},\n",
              " 'What Is This Thing Called Love [jazz1350], Subconscious Lee [jazz1350]': {'found': 1,\n",
              "  'rank': 3,\n",
              "  'score': 0.9999999},\n",
              " \"Woody'n You [jazz1350], Stella By Starlight [jazz1350]\": {'found': 1,\n",
              "  'rank': 0,\n",
              "  'score': 0.99999994},\n",
              " 'Wow [jazz1350], You Can Depend On Me [jazz1350]': {'found': 1,\n",
              "  'rank': 27,\n",
              "  'score': 0.84538674},\n",
              " 'Yardbird Suite [jazz1350], Rosetta [jazz1350]': {'found': 1,\n",
              "  'rank': 2,\n",
              "  'score': 0.8474915},\n",
              " 'You Can Depend On Me [jazz1350], Move [jazz1350]': {'found': 1,\n",
              "  'rank': 0,\n",
              "  'score': 0.99999994}}"
            ]
          },
          "metadata": {},
          "execution_count": 67
        }
      ]
    },
    {
      "cell_type": "code",
      "source": [
        "df_sim = pd.DataFrame.from_dict(results, orient='index')\n",
        "df_sim = df_sim.reset_index()\n",
        "df_sim.sort_values('index')\n",
        "print(df_sim)"
      ],
      "metadata": {
        "colab": {
          "base_uri": "https://localhost:8080/"
        },
        "id": "3TThAb70rqtu",
        "outputId": "db026cc7-8184-40c2-cbbd-a1eabb6cfe68"
      },
      "execution_count": 68,
      "outputs": [
        {
          "output_type": "stream",
          "name": "stdout",
          "text": [
            "                                                 index  found     score  rank\n",
            "0             26-2 [jazz1350], Confirmation [jazz1350]      1  0.802865     1\n",
            "1    52nd Street Theme [jazz1350], I Got Rhythm [ja...      0  0.854432     0\n",
            "2    Ablution [jazz1350], All The Things You Are [j...      1  0.948975     1\n",
            "3     Anthropology [jazz1350], I Got Rhythm [jazz1350]      1  1.000000     5\n",
            "4    Bright Mississippi [jazz1350], Sweet Georgia B...      1  0.842529     3\n",
            "5           C.T.A. [jazz1350], I Got Rhythm [jazz1350]      1  1.000000     5\n",
            "6       Cottontail [jazz1350], I Got Rhythm [jazz1350]      1  1.000000     5\n",
            "7             Countdown [jazz1350], Tune Up [jazz1350]      1  0.805210     2\n",
            "8    Dewey Square [jazz1350], Oh, Lady Be Good [jaz...      0  0.645324     0\n",
            "9        Dexterity [jazz1350], I Got Rhythm [jazz1350]      1  1.000000     5\n",
            "10      Dig [jazz1350], Sweet Georgia Brown [jazz1350]      1  1.000000     1\n",
            "11   Donna Lee [jazz1350], Indiana (Back Home Again...      1  0.951055     1\n",
            "12   Don't Be That Way [jazz1350], I Got Rhythm [ja...      1  0.652193    24\n",
            "13   Evidence [jazz1350], Just You, Just Me [jazz1350]      1  0.819873     1\n",
            "14     Flintstones [jazz1350], I Got Rhythm [jazz1350]      1  1.000000     5\n",
            "15       Four On Six [jazz1350], Summertime [jazz1350]      0  0.840887     0\n",
            "16   Freight Train [jazz1350], Blues For Alice [jaz...      1  0.870594     2\n",
            "17       Good Bait [jazz1350], I Got Rhythm [jazz1350]      0  0.835474     0\n",
            "18   Hackensack [jazz1350], Oh, Lady Be Good [jazz1...      1  0.885497    15\n",
            "19        Half Nelson [jazz1350], Lady Bird [jazz1350]      1  0.973318     1\n",
            "20   Hot House [jazz1350], What Is This Thing Calle...      1  1.000000     6\n",
            "21          Impressions [jazz1350], So What [jazz1350]      1  1.000000     1\n",
            "22   In A Mellow Tone (In A Mellotone) [jazz1350], ...      1  0.855005     3\n",
            "23     In Walked Bud [jazz1350], Blue Skies [jazz1350]      1  0.915456     3\n",
            "24               Ko Ko [jazz1350], Cherokee [jazz1350]      1  1.000000     0\n",
            "25   Lennie's Pennies [jazz1350], Pennies From Heav...      0  0.233201     0\n",
            "26   Little Rootie Tootie [jazz1350], I Got Rhythm ...      0  0.796423     0\n",
            "27   Little Willie Leaps [jazz1350], All God's Chil...      0  0.855896     0\n",
            "28   Lullaby Of Birdland [jazz1350], Love Me Or Lea...      1  0.843447    21\n",
            "29   My Little Suede Shoes [jazz1350], Jeepers Cree...      0  0.894023     0\n",
            "30   Ornithology [jazz1350], How High The Moon [jaz...      1  1.000000     0\n",
            "31   Quasimodo (Theme) [jazz1350], Embraceable You ...      0  0.687272     0\n",
            "32        Room 608 [jazz1350], I Got Rhythm [jazz1350]      0  0.673010     0\n",
            "33   Satellite [jazz1350], How High The Moon [jazz1...      1  0.785938     5\n",
            "34   Scrapple From The Apple [jazz1350], Honeysuckl...      1  0.891004     5\n",
            "35   Scrapple From The Apple [jazz1350], I Got Rhyt...      1  1.000000     5\n",
            "36   Tour De Force [jazz1350], Jeepers Creepers [ja...      1  0.831418     6\n",
            "37     Wow [jazz1350], You Can Depend On Me [jazz1350]      1  0.845387    27\n",
            "38       Yardbird Suite [jazz1350], Rosetta [jazz1350]      1  0.847492     2\n",
            "39   Sweet Sue, Just You [jazz1350], Honeysuckle Ro...      0  0.802808     0\n",
            "40   Sweet Sue, Just You [jazz1350], Bye Bye Blackb...      0  0.813166     0\n",
            "41   These Foolish Things [jazz1350], Blue Moon [ja...      0  0.880881     0\n",
            "42   These Foolish Things [jazz1350], More Than You...      1  0.867780     1\n",
            "43   These Foolish Things [jazz1350], Isn't It A Pi...      1  0.871777    10\n",
            "44   These Foolish Things [jazz1350], Soultrane [ja...      1  0.720791    17\n",
            "45   These Foolish Things [jazz1350], Why Do I Love...      0  0.867487     0\n",
            "46     Misty [jazz1350], Portrait Of Jennie [jazz1350]      1  0.904124     2\n",
            "47   Misty [jazz1350], September In The Rain [jazz1...      1  0.848208    11\n",
            "48         Misty [jazz1350], I May Be Wrong [jazz1350]      1  0.828093    26\n",
            "49   Five Foot Two [trad], Please Don't Talk About ...      1  1.000000    25\n",
            "50   What Is This Thing Called Love [jazz1350], Sub...      1  1.000000     3\n",
            "51      Sweet Georgia Brown [jazz1350], Dig [jazz1350]      1  1.000000     0\n",
            "52   What Is This Thing Called Love [jazz1350], Hot...      1  1.000000     0\n",
            "53   Jeannie's Song [jazz1350], Shiny Stockings [ja...      1  1.000000     2\n",
            "54       Alone Together [jazz1350], Segment [jazz1350]      1  1.000000     2\n",
            "55   Baubles, Bangles and Beads [jazz1350], Bossa A...      1  1.000000     1\n",
            "56   There Will Never Be Another You [jazz1350], A ...      1  1.000000     0\n",
            "57   Moten Swing [jazz1350], Once In A While (Balla...      0  0.697284     0\n",
            "58   All I Do Is Dream Of You [trad], L-O-V-E [jazz...      1  0.968913     2\n",
            "59   Nancy (With The Laughing Face) [jazz1350], Bod...      1  0.906850     3\n",
            "60   Exactly Like You [jazz1350], True (You Don't L...      1  1.000000     6\n",
            "61   Exactly Like You [jazz1350], Jersey Bounce [ja...      0  0.845828     0\n",
            "62   Take The A Train [jazz1350], Girl From Ipanema...      0  0.752350     0\n",
            "63   My Heart Stood Still [jazz1350], All Too Soon ...      1  1.000000     0\n",
            "64           Undecided [jazz1350], Broadway [jazz1350]      1  0.973662     1\n",
            "65   Let's Fall In Love [jazz1350], Heart And Soul ...      1  1.000000     0\n",
            "66   Come Back To Me [jazz1350], I Wish I Knew [jaz...      1  1.000000     1\n",
            "67   Wait Till You See Her [jazz1350], A Certain Sm...      1  1.000000     0\n",
            "68     Killer Joe [jazz1350], Straight Life [jazz1350]      1  1.000000     3\n",
            "69   Softly, As In A Morning Sunrise [jazz1350], Se...      1  1.000000     0\n",
            "70   Bei Mir Bist Du Schon (Root Hog Or Die) [trad]...      1  1.000000     1\n",
            "71   Bei Mir Bist Du Schon (Root Hog Or Die) [trad]...      1  0.992749     2\n",
            "72   Coquette [trad], Pretend You're Happy When You...      1  0.988014     4\n",
            "73   Softly, As In A Morning Sunrise [jazz1350], St...      1  0.988093     7\n",
            "74   Glory Of Love, The [jazz1350], I've Got My Fin...      1  0.970757     2\n",
            "75   Charleston, The [jazz1350], As Long As I Live ...      1  1.000000     2\n",
            "76   Fine And Dandy [jazz1350], I Can't Give You An...      1  1.000000     2\n",
            "77   I'll Close My Eyes [jazz1350], Bluesette [jazz...      1  1.000000     0\n",
            "78   I'll Close My Eyes [jazz1350], There Will Neve...      1  0.880264     5\n",
            "79   If I Had You [jazz1350], Too Young To Go Stead...      1  0.999676     1\n",
            "80         Undecided [jazz1350], Satin Doll [jazz1350]      1  1.000000     0\n",
            "81              Billy Boy [jazz1350], Elora [jazz1350]      1  1.000000     1\n",
            "82        Dearly Beloved [jazz1350], We See [jazz1350]      1  1.000000     2\n",
            "83   Alone Together [jazz1350], A Night In Tunisia ...      1  1.000000     0\n",
            "84   A Night In Tunisia [jazz1350], Segment [jazz1350]      1  1.000000     2\n",
            "85   Oh! Lady Be Good [trad], Sentimental Journey [...      1  1.000000     0\n",
            "86    You Can Depend On Me [jazz1350], Move [jazz1350]      1  1.000000     0\n",
            "87   I Want To Be Happy [jazz1350], A Beautiful Fri...      1  1.000000     0\n",
            "88   Flying Home [jazz1350], Down For Double [jazz1...      1  1.000000     0\n",
            "89   Cheek To Cheek [jazz1350], Violets For Your Fu...      1  0.973635     3\n",
            "90   Let's Fall In Love [jazz1350], At Last [jazz1350]      1  0.972182     5\n",
            "91   Don't Be That Way [jazz1350], Long Ago And Far...      1  0.971602     4\n",
            "92   On The Sunny Side Of The Street [jazz1350], I'...      1  1.000000     0\n",
            "93   On The Sunny Side Of The Street [jazz1350], Ec...      1  0.974661     2\n",
            "94   On The Sunny Side Of The Street [jazz1350], Yo...      1  0.875537    11\n",
            "95         Satin Doll [jazz1350], Undecided [jazz1350]      1  1.000000     1\n",
            "96   I Like The Likes Of You [jazz1350], Mountain G...      1  0.981489     1\n",
            "97   My Secret Love [jazz1350], Samba De Orfeu [jaz...      1  0.980414     1\n",
            "98   Let's Call The Whole Thing Off [jazz1350], Fin...      1  0.921787     5\n",
            "99   Folks Who Live On The Hill, The [jazz1350], My...      1  0.893166    24\n",
            "100  As Long As I Live [trad], I'm Glad There Is Yo...      0  0.505310     0\n",
            "101  I May Be Wrong [jazz1350], Teach Me Tonight [j...      1  0.980068     1\n",
            "102   Am I Blue [jazz1350], Come Back To Me [jazz1350]      1  0.977206     1\n",
            "103  My One And Only Love [jazz1350], Am I Blue [ja...      1  0.956935     1\n",
            "104  On The Sunny Side Of The Street [jazz1350], Se...      1  0.929137     4\n",
            "105  On The Sunny Side Of The Street [jazz1350], Mo...      1  0.917398     5\n",
            "106  On The Sunny Side Of The Street [jazz1350], Th...      1  0.890311     7\n",
            "107  These Foolish Things [jazz1350], Embraceable Y...      1  0.733120    13\n",
            "108  These Foolish Things [jazz1350], Rosetta [jazz...      1  0.846629     2\n",
            "109  Bill Bailey [jazz1350], Bourbon Street Parade ...      1  1.000000     1\n",
            "110  Woody'n You [jazz1350], Stella By Starlight [j...      1  1.000000     0\n",
            "111       Tangerine [jazz1350], Tea For Two [jazz1350]      1  0.958133     2\n",
            "112  I Can't Give You Anything But Love [jazz1350],...      1  0.956119     2\n",
            "113  This Year's Kisses [jazz1350], My Monday Date ...      1  0.740838     7\n",
            "114  A Blossom Fell [jazz1350], Among My Souvenirs ...      1  0.960382     1\n"
          ]
        }
      ]
    },
    {
      "cell_type": "code",
      "source": [
        "fig, ax = plt.subplots(nrows=1, ncols=2, figsize=(12, 5))\n",
        "sns.histplot(ax=ax[0],\n",
        "             data=df_sim, \n",
        "             x='score', \n",
        "             hue='found', \n",
        "             stat='count', \n",
        "             edgecolor=None)\n",
        "ax[0].set_title('LSI Scores for Contrafact Tunes')\n",
        "\n",
        "sns.histplot(ax=ax[1],\n",
        "             data=df_sim[df_sim.found==1], \n",
        "             x='rank', \n",
        "             stat='count', \n",
        "             edgecolor=None)\n",
        "ax[1].set_title('Rank for found tunes')\n",
        "\n",
        "plt.savefig('plot.png')"
      ],
      "metadata": {
        "colab": {
          "base_uri": "https://localhost:8080/",
          "height": 350
        },
        "id": "oYymnpdv_BJ1",
        "outputId": "61377f31-c4f6-454e-a2e5-7f73d5fdb3aa"
      },
      "execution_count": 69,
      "outputs": [
        {
          "output_type": "display_data",
          "data": {
            "image/png": "[encoded data removed]",
            "text/plain": [
              "<Figure size 864x360 with 2 Axes>"
            ]
          },
          "metadata": {
            "needs_background": "light"
          }
        }
      ]
    },
    {
      "cell_type": "code",
      "source": [
        "fig = px.histogram(df_sim, x=\"score\", color='found', title='LSI Scores for found tunes')\n",
        "fig.show()\n"
      ],
      "metadata": {
        "colab": {
          "base_uri": "https://localhost:8080/",
          "height": 542
        },
        "id": "m8LFrXRpqJQ5",
        "outputId": "f90c2860-e7f4-4703-814a-b720d9f1b384"
      },
      "execution_count": 70,
      "outputs": [
        {
          "output_type": "display_data",
          "data": {
            "text/html": [
              "<html>\n",
              "<head><meta charset=\"utf-8\" /></head>\n",
              "<body>\n",
              "    <div>\n",
              "            <script src=\"https://cdnjs.cloudflare.com/ajax/libs/mathjax/2.7.5/MathJax.js?config=TeX-AMS-MML_SVG\"></script><script type=\"text/javascript\">if (window.MathJax) {MathJax.Hub.Config({SVG: {font: \"STIX-Web\"}});}</script>\n",
              "                <script type=\"text/javascript\">window.PlotlyConfig = {MathJaxConfig: 'local'};</script>\n",
              "        <script src=\"https://cdn.plot.ly/plotly-latest.min.js\"></script>    \n",
              "            <div id=\"edc51fcc-e78a-4a7d-a99d-903e087fb66c\" class=\"plotly-graph-div\" style=\"height:525px; width:100%;\"></div>\n",
              "            <script type=\"text/javascript\">\n",
              "                \n",
              "                    window.PLOTLYENV=window.PLOTLYENV || {};\n",
              "                    \n",
              "                if (document.getElementById(\"edc51fcc-e78a-4a7d-a99d-903e087fb66c\")) {\n",
              "                    Plotly.newPlot(\n",
              "                        'edc51fcc-e78a-4a7d-a99d-903e087fb66c',\n",
              "                        [{\"alignmentgroup\": \"True\", \"bingroup\": \"x\", \"hoverlabel\": {\"namelength\": 0}, \"hovertemplate\": \"found=1<br>score=%{x}<br>count=%{y}\", \"legendgroup\": \"found=1\", \"marker\": {\"color\": \"#636efa\"}, \"name\": \"found=1\", \"offsetgroup\": \"found=1\", \"orientation\": \"v\", \"showlegend\": true, \"type\": \"histogram\", \"x\": [0.8028646111488342, 0.948975145816803, 1.0, 0.8425291180610657, 1.0, 1.0, 0.8052096366882324, 1.0, 1.0, 0.9510552287101746, 0.6521932482719421, 0.8198733329772949, 1.0, 0.870594322681427, 0.8854966163635254, 0.9733182787895203, 0.9999998807907104, 0.9999999403953552, 0.8550052046775818, 0.9154563546180725, 1.000000238418579, 0.843446671962738, 1.000000238418579, 0.7859381437301636, 0.8910041451454163, 1.0, 0.8314177989959717, 0.8453867435455322, 0.8474915027618408, 0.8677803874015808, 0.8717769980430603, 0.7207914590835571, 0.9041240215301514, 0.848208487033844, 0.8280934691429138, 1.0, 0.9999998807907104, 1.0, 0.9999998807907104, 0.9999998807907104, 1.0, 1.0000001192092896, 0.9999998807907104, 0.9689133167266846, 0.906850278377533, 0.9999999403953552, 1.0000003576278687, 0.9736617207527161, 0.9999998807907104, 0.9999998211860657, 0.9999997615814209, 1.0, 0.9999998807907104, 1.0000001192092896, 0.9927485585212708, 0.988013505935669, 0.9880930185317993, 0.970757246017456, 1.0000003576278687, 1.0, 1.0000001192092896, 0.8802643418312073, 0.9996756315231323, 1.0000001192092896, 1.0000001192092896, 0.9999999403953552, 1.0, 1.0, 1.000000238418579, 0.9999999403953552, 0.9999997019767761, 1.0000003576278687, 0.9736347794532776, 0.9721817970275879, 0.9716020226478577, 1.0, 0.9746614694595337, 0.8755370378494263, 1.0000001192092896, 0.9814890027046204, 0.9804140329360962, 0.9217869639396667, 0.8931663036346436, 0.9800683259963989, 0.9772056341171265, 0.9569348692893982, 0.9291372895240784, 0.9173978567123413, 0.890310525894165, 0.7331201434135437, 0.8466288447380066, 1.0, 0.9999999403953552, 0.9581332206726074, 0.9561185240745544, 0.7408376336097717, 0.9603815674781799], \"xaxis\": \"x\", \"yaxis\": \"y\"}, {\"alignmentgroup\": \"True\", \"bingroup\": \"x\", \"hoverlabel\": {\"namelength\": 0}, \"hovertemplate\": \"found=0<br>score=%{x}<br>count=%{y}\", \"legendgroup\": \"found=0\", \"marker\": {\"color\": \"#EF553B\"}, \"name\": \"found=0\", \"offsetgroup\": \"found=0\", \"orientation\": \"v\", \"showlegend\": true, \"type\": \"histogram\", \"x\": [0.8544318079948425, 0.6453240513801575, 0.840886652469635, 0.8354741334915161, 0.23320096731185913, 0.7964228987693787, 0.8558964133262634, 0.8940231204032898, 0.6872724294662476, 0.6730101108551025, 0.8028079867362976, 0.8131658434867859, 0.8808810710906982, 0.8674870729446411, 0.6972843408584595, 0.8458279371261597, 0.7523496747016907, 0.5053104162216187], \"xaxis\": \"x\", \"yaxis\": \"y\"}],\n",
              "                        {\"barmode\": \"relative\", \"legend\": {\"tracegroupgap\": 0}, \"template\": {\"data\": {\"bar\": [{\"error_x\": {\"color\": \"#2a3f5f\"}, \"error_y\": {\"color\": \"#2a3f5f\"}, \"marker\": {\"line\": {\"color\": \"#E5ECF6\", \"width\": 0.5}}, \"type\": \"bar\"}], \"barpolar\": [{\"marker\": {\"line\": {\"color\": \"#E5ECF6\", \"width\": 0.5}}, \"type\": \"barpolar\"}], \"carpet\": [{\"aaxis\": {\"endlinecolor\": \"#2a3f5f\", \"gridcolor\": \"white\", \"linecolor\": \"white\", \"minorgridcolor\": \"white\", \"startlinecolor\": \"#2a3f5f\"}, \"baxis\": {\"endlinecolor\": \"#2a3f5f\", \"gridcolor\": \"white\", \"linecolor\": \"white\", \"minorgridcolor\": \"white\", \"startlinecolor\": \"#2a3f5f\"}, \"type\": \"carpet\"}], \"choropleth\": [{\"colorbar\": {\"outlinewidth\": 0, \"ticks\": \"\"}, \"type\": \"choropleth\"}], \"contour\": [{\"colorbar\": {\"outlinewidth\": 0, \"ticks\": \"\"}, \"colorscale\": [[0.0, \"#0d0887\"], [0.1111111111111111, \"#46039f\"], [0.2222222222222222, \"#7201a8\"], [0.3333333333333333, \"#9c179e\"], [0.4444444444444444, \"#bd3786\"], [0.5555555555555556, \"#d8576b\"], [0.6666666666666666, \"#ed7953\"], [0.7777777777777778, \"#fb9f3a\"], [0.8888888888888888, \"#fdca26\"], [1.0, \"#f0f921\"]], \"type\": \"contour\"}], \"contourcarpet\": [{\"colorbar\": {\"outlinewidth\": 0, \"ticks\": \"\"}, \"type\": \"contourcarpet\"}], \"heatmap\": [{\"colorbar\": {\"outlinewidth\": 0, \"ticks\": \"\"}, \"colorscale\": [[0.0, \"#0d0887\"], [0.1111111111111111, \"#46039f\"], [0.2222222222222222, \"#7201a8\"], [0.3333333333333333, \"#9c179e\"], [0.4444444444444444, \"#bd3786\"], [0.5555555555555556, \"#d8576b\"], [0.6666666666666666, \"#ed7953\"], [0.7777777777777778, \"#fb9f3a\"], [0.8888888888888888, \"#fdca26\"], [1.0, \"#f0f921\"]], \"type\": \"heatmap\"}], \"heatmapgl\": [{\"colorbar\": {\"outlinewidth\": 0, \"ticks\": \"\"}, \"colorscale\": [[0.0, \"#0d0887\"], [0.1111111111111111, \"#46039f\"], [0.2222222222222222, \"#7201a8\"], [0.3333333333333333, \"#9c179e\"], [0.4444444444444444, \"#bd3786\"], [0.5555555555555556, \"#d8576b\"], [0.6666666666666666, \"#ed7953\"], [0.7777777777777778, \"#fb9f3a\"], [0.8888888888888888, \"#fdca26\"], [1.0, \"#f0f921\"]], \"type\": \"heatmapgl\"}], \"histogram\": [{\"marker\": {\"colorbar\": {\"outlinewidth\": 0, \"ticks\": \"\"}}, \"type\": \"histogram\"}], \"histogram2d\": [{\"colorbar\": {\"outlinewidth\": 0, \"ticks\": \"\"}, \"colorscale\": [[0.0, \"#0d0887\"], [0.1111111111111111, \"#46039f\"], [0.2222222222222222, \"#7201a8\"], [0.3333333333333333, \"#9c179e\"], [0.4444444444444444, \"#bd3786\"], [0.5555555555555556, \"#d8576b\"], [0.6666666666666666, \"#ed7953\"], [0.7777777777777778, \"#fb9f3a\"], [0.8888888888888888, \"#fdca26\"], [1.0, \"#f0f921\"]], \"type\": \"histogram2d\"}], \"histogram2dcontour\": [{\"colorbar\": {\"outlinewidth\": 0, \"ticks\": \"\"}, \"colorscale\": [[0.0, \"#0d0887\"], [0.1111111111111111, \"#46039f\"], [0.2222222222222222, \"#7201a8\"], [0.3333333333333333, \"#9c179e\"], [0.4444444444444444, \"#bd3786\"], [0.5555555555555556, \"#d8576b\"], [0.6666666666666666, \"#ed7953\"], [0.7777777777777778, \"#fb9f3a\"], [0.8888888888888888, \"#fdca26\"], [1.0, \"#f0f921\"]], \"type\": \"histogram2dcontour\"}], \"mesh3d\": [{\"colorbar\": {\"outlinewidth\": 0, \"ticks\": \"\"}, \"type\": \"mesh3d\"}], \"parcoords\": [{\"line\": {\"colorbar\": {\"outlinewidth\": 0, \"ticks\": \"\"}}, \"type\": \"parcoords\"}], \"pie\": [{\"automargin\": true, \"type\": \"pie\"}], \"scatter\": [{\"marker\": {\"colorbar\": {\"outlinewidth\": 0, \"ticks\": \"\"}}, \"type\": \"scatter\"}], \"scatter3d\": [{\"line\": {\"colorbar\": {\"outlinewidth\": 0, \"ticks\": \"\"}}, \"marker\": {\"colorbar\": {\"outlinewidth\": 0, \"ticks\": \"\"}}, \"type\": \"scatter3d\"}], \"scattercarpet\": [{\"marker\": {\"colorbar\": {\"outlinewidth\": 0, \"ticks\": \"\"}}, \"type\": \"scattercarpet\"}], \"scattergeo\": [{\"marker\": {\"colorbar\": {\"outlinewidth\": 0, \"ticks\": \"\"}}, \"type\": \"scattergeo\"}], \"scattergl\": [{\"marker\": {\"colorbar\": {\"outlinewidth\": 0, \"ticks\": \"\"}}, \"type\": \"scattergl\"}], \"scattermapbox\": [{\"marker\": {\"colorbar\": {\"outlinewidth\": 0, \"ticks\": \"\"}}, \"type\": \"scattermapbox\"}], \"scatterpolar\": [{\"marker\": {\"colorbar\": {\"outlinewidth\": 0, \"ticks\": \"\"}}, \"type\": \"scatterpolar\"}], \"scatterpolargl\": [{\"marker\": {\"colorbar\": {\"outlinewidth\": 0, \"ticks\": \"\"}}, \"type\": \"scatterpolargl\"}], \"scatterternary\": [{\"marker\": {\"colorbar\": {\"outlinewidth\": 0, \"ticks\": \"\"}}, \"type\": \"scatterternary\"}], \"surface\": [{\"colorbar\": {\"outlinewidth\": 0, \"ticks\": \"\"}, \"colorscale\": [[0.0, \"#0d0887\"], [0.1111111111111111, \"#46039f\"], [0.2222222222222222, \"#7201a8\"], [0.3333333333333333, \"#9c179e\"], [0.4444444444444444, \"#bd3786\"], [0.5555555555555556, \"#d8576b\"], [0.6666666666666666, \"#ed7953\"], [0.7777777777777778, \"#fb9f3a\"], [0.8888888888888888, \"#fdca26\"], [1.0, \"#f0f921\"]], \"type\": \"surface\"}], \"table\": [{\"cells\": {\"fill\": {\"color\": \"#EBF0F8\"}, \"line\": {\"color\": \"white\"}}, \"header\": {\"fill\": {\"color\": \"#C8D4E3\"}, \"line\": {\"color\": \"white\"}}, \"type\": \"table\"}]}, \"layout\": {\"annotationdefaults\": {\"arrowcolor\": \"#2a3f5f\", \"arrowhead\": 0, \"arrowwidth\": 1}, \"coloraxis\": {\"colorbar\": {\"outlinewidth\": 0, \"ticks\": \"\"}}, \"colorscale\": {\"diverging\": [[0, \"#8e0152\"], [0.1, \"#c51b7d\"], [0.2, \"#de77ae\"], [0.3, \"#f1b6da\"], [0.4, \"#fde0ef\"], [0.5, \"#f7f7f7\"], [0.6, \"#e6f5d0\"], [0.7, \"#b8e186\"], [0.8, \"#7fbc41\"], [0.9, \"#4d9221\"], [1, \"#276419\"]], \"sequential\": [[0.0, \"#0d0887\"], [0.1111111111111111, \"#46039f\"], [0.2222222222222222, \"#7201a8\"], [0.3333333333333333, \"#9c179e\"], [0.4444444444444444, \"#bd3786\"], [0.5555555555555556, \"#d8576b\"], [0.6666666666666666, \"#ed7953\"], [0.7777777777777778, \"#fb9f3a\"], [0.8888888888888888, \"#fdca26\"], [1.0, \"#f0f921\"]], \"sequentialminus\": [[0.0, \"#0d0887\"], [0.1111111111111111, \"#46039f\"], [0.2222222222222222, \"#7201a8\"], [0.3333333333333333, \"#9c179e\"], [0.4444444444444444, \"#bd3786\"], [0.5555555555555556, \"#d8576b\"], [0.6666666666666666, \"#ed7953\"], [0.7777777777777778, \"#fb9f3a\"], [0.8888888888888888, \"#fdca26\"], [1.0, \"#f0f921\"]]}, \"colorway\": [\"#636efa\", \"#EF553B\", \"#00cc96\", \"#ab63fa\", \"#FFA15A\", \"#19d3f3\", \"#FF6692\", \"#B6E880\", \"#FF97FF\", \"#FECB52\"], \"font\": {\"color\": \"#2a3f5f\"}, \"geo\": {\"bgcolor\": \"white\", \"lakecolor\": \"white\", \"landcolor\": \"#E5ECF6\", \"showlakes\": true, \"showland\": true, \"subunitcolor\": \"white\"}, \"hoverlabel\": {\"align\": \"left\"}, \"hovermode\": \"closest\", \"mapbox\": {\"style\": \"light\"}, \"paper_bgcolor\": \"white\", \"plot_bgcolor\": \"#E5ECF6\", \"polar\": {\"angularaxis\": {\"gridcolor\": \"white\", \"linecolor\": \"white\", \"ticks\": \"\"}, \"bgcolor\": \"#E5ECF6\", \"radialaxis\": {\"gridcolor\": \"white\", \"linecolor\": \"white\", \"ticks\": \"\"}}, \"scene\": {\"xaxis\": {\"backgroundcolor\": \"#E5ECF6\", \"gridcolor\": \"white\", \"gridwidth\": 2, \"linecolor\": \"white\", \"showbackground\": true, \"ticks\": \"\", \"zerolinecolor\": \"white\"}, \"yaxis\": {\"backgroundcolor\": \"#E5ECF6\", \"gridcolor\": \"white\", \"gridwidth\": 2, \"linecolor\": \"white\", \"showbackground\": true, \"ticks\": \"\", \"zerolinecolor\": \"white\"}, \"zaxis\": {\"backgroundcolor\": \"#E5ECF6\", \"gridcolor\": \"white\", \"gridwidth\": 2, \"linecolor\": \"white\", \"showbackground\": true, \"ticks\": \"\", \"zerolinecolor\": \"white\"}}, \"shapedefaults\": {\"line\": {\"color\": \"#2a3f5f\"}}, \"ternary\": {\"aaxis\": {\"gridcolor\": \"white\", \"linecolor\": \"white\", \"ticks\": \"\"}, \"baxis\": {\"gridcolor\": \"white\", \"linecolor\": \"white\", \"ticks\": \"\"}, \"bgcolor\": \"#E5ECF6\", \"caxis\": {\"gridcolor\": \"white\", \"linecolor\": \"white\", \"ticks\": \"\"}}, \"title\": {\"x\": 0.05}, \"xaxis\": {\"automargin\": true, \"gridcolor\": \"white\", \"linecolor\": \"white\", \"ticks\": \"\", \"title\": {\"standoff\": 15}, \"zerolinecolor\": \"white\", \"zerolinewidth\": 2}, \"yaxis\": {\"automargin\": true, \"gridcolor\": \"white\", \"linecolor\": \"white\", \"ticks\": \"\", \"title\": {\"standoff\": 15}, \"zerolinecolor\": \"white\", \"zerolinewidth\": 2}}}, \"title\": {\"text\": \"LSI Scores for found tunes\"}, \"xaxis\": {\"anchor\": \"y\", \"domain\": [0.0, 1.0], \"title\": {\"text\": \"score\"}}, \"yaxis\": {\"anchor\": \"x\", \"domain\": [0.0, 1.0], \"title\": {\"text\": \"count\"}}},\n",
              "                        {\"responsive\": true}\n",
              "                    ).then(function(){\n",
              "                            \n",
              "var gd = document.getElementById('edc51fcc-e78a-4a7d-a99d-903e087fb66c');\n",
              "var x = new MutationObserver(function (mutations, observer) {{\n",
              "        var display = window.getComputedStyle(gd).display;\n",
              "        if (!display || display === 'none') {{\n",
              "            console.log([gd, 'removed!']);\n",
              "            Plotly.purge(gd);\n",
              "            observer.disconnect();\n",
              "        }}\n",
              "}});\n",
              "\n",
              "// Listen for the removal of the full notebook cells\n",
              "var notebookContainer = gd.closest('#notebook-container');\n",
              "if (notebookContainer) {{\n",
              "    x.observe(notebookContainer, {childList: true});\n",
              "}}\n",
              "\n",
              "// Listen for the clearing of the current output cell\n",
              "var outputEl = gd.closest('.output');\n",
              "if (outputEl) {{\n",
              "    x.observe(outputEl, {childList: true});\n",
              "}}\n",
              "\n",
              "                        })\n",
              "                };\n",
              "                \n",
              "            </script>\n",
              "        </div>\n",
              "</body>\n",
              "</html>"
            ]
          },
          "metadata": {}
        }
      ]
    },
    {
      "cell_type": "code",
      "source": [
        "fig = px.histogram(df_sim[df_sim.found==1], x=\"rank\", title='Rank on which tune is found')\n",
        "fig.show()"
      ],
      "metadata": {
        "colab": {
          "base_uri": "https://localhost:8080/",
          "height": 542
        },
        "id": "jXXXdqlWsSxp",
        "outputId": "d66c9ae6-695c-4309-e15c-7735e5f232fa"
      },
      "execution_count": 71,
      "outputs": [
        {
          "output_type": "display_data",
          "data": {
            "text/html": [
              "<html>\n",
              "<head><meta charset=\"utf-8\" /></head>\n",
              "<body>\n",
              "    <div>\n",
              "            <script src=\"https://cdnjs.cloudflare.com/ajax/libs/mathjax/2.7.5/MathJax.js?config=TeX-AMS-MML_SVG\"></script><script type=\"text/javascript\">if (window.MathJax) {MathJax.Hub.Config({SVG: {font: \"STIX-Web\"}});}</script>\n",
              "                <script type=\"text/javascript\">window.PlotlyConfig = {MathJaxConfig: 'local'};</script>\n",
              "        <script src=\"https://cdn.plot.ly/plotly-latest.min.js\"></script>    \n",
              "            <div id=\"c095b63c-a3e9-4ea9-b7cd-bec3c8dfc065\" class=\"plotly-graph-div\" style=\"height:525px; width:100%;\"></div>\n",
              "            <script type=\"text/javascript\">\n",
              "                \n",
              "                    window.PLOTLYENV=window.PLOTLYENV || {};\n",
              "                    \n",
              "                if (document.getElementById(\"c095b63c-a3e9-4ea9-b7cd-bec3c8dfc065\")) {\n",
              "                    Plotly.newPlot(\n",
              "                        'c095b63c-a3e9-4ea9-b7cd-bec3c8dfc065',\n",
              "                        [{\"alignmentgroup\": \"True\", \"bingroup\": \"x\", \"hoverlabel\": {\"namelength\": 0}, \"hovertemplate\": \"rank=%{x}<br>count=%{y}\", \"legendgroup\": \"\", \"marker\": {\"color\": \"#636efa\"}, \"name\": \"\", \"offsetgroup\": \"\", \"orientation\": \"v\", \"showlegend\": false, \"type\": \"histogram\", \"x\": [1, 1, 5, 3, 5, 5, 2, 5, 1, 1, 24, 1, 5, 2, 15, 1, 6, 1, 3, 3, 0, 21, 0, 5, 5, 5, 6, 27, 2, 1, 10, 17, 2, 11, 26, 25, 3, 0, 0, 2, 2, 1, 0, 2, 3, 6, 0, 1, 0, 1, 0, 3, 0, 1, 2, 4, 7, 2, 2, 2, 0, 5, 1, 0, 1, 2, 0, 2, 0, 0, 0, 0, 3, 5, 4, 0, 2, 11, 1, 1, 1, 5, 24, 1, 1, 1, 4, 5, 7, 13, 2, 1, 0, 2, 2, 7, 1], \"xaxis\": \"x\", \"yaxis\": \"y\"}],\n",
              "                        {\"barmode\": \"relative\", \"legend\": {\"tracegroupgap\": 0}, \"template\": {\"data\": {\"bar\": [{\"error_x\": {\"color\": \"#2a3f5f\"}, \"error_y\": {\"color\": \"#2a3f5f\"}, \"marker\": {\"line\": {\"color\": \"#E5ECF6\", \"width\": 0.5}}, \"type\": \"bar\"}], \"barpolar\": [{\"marker\": {\"line\": {\"color\": \"#E5ECF6\", \"width\": 0.5}}, \"type\": \"barpolar\"}], \"carpet\": [{\"aaxis\": {\"endlinecolor\": \"#2a3f5f\", \"gridcolor\": \"white\", \"linecolor\": \"white\", \"minorgridcolor\": \"white\", \"startlinecolor\": \"#2a3f5f\"}, \"baxis\": {\"endlinecolor\": \"#2a3f5f\", \"gridcolor\": \"white\", \"linecolor\": \"white\", \"minorgridcolor\": \"white\", \"startlinecolor\": \"#2a3f5f\"}, \"type\": \"carpet\"}], \"choropleth\": [{\"colorbar\": {\"outlinewidth\": 0, \"ticks\": \"\"}, \"type\": \"choropleth\"}], \"contour\": [{\"colorbar\": {\"outlinewidth\": 0, \"ticks\": \"\"}, \"colorscale\": [[0.0, \"#0d0887\"], [0.1111111111111111, \"#46039f\"], [0.2222222222222222, \"#7201a8\"], [0.3333333333333333, \"#9c179e\"], [0.4444444444444444, \"#bd3786\"], [0.5555555555555556, \"#d8576b\"], [0.6666666666666666, \"#ed7953\"], [0.7777777777777778, \"#fb9f3a\"], [0.8888888888888888, \"#fdca26\"], [1.0, \"#f0f921\"]], \"type\": \"contour\"}], \"contourcarpet\": [{\"colorbar\": {\"outlinewidth\": 0, \"ticks\": \"\"}, \"type\": \"contourcarpet\"}], \"heatmap\": [{\"colorbar\": {\"outlinewidth\": 0, \"ticks\": \"\"}, \"colorscale\": [[0.0, \"#0d0887\"], [0.1111111111111111, \"#46039f\"], [0.2222222222222222, \"#7201a8\"], [0.3333333333333333, \"#9c179e\"], [0.4444444444444444, \"#bd3786\"], [0.5555555555555556, \"#d8576b\"], [0.6666666666666666, \"#ed7953\"], [0.7777777777777778, \"#fb9f3a\"], [0.8888888888888888, \"#fdca26\"], [1.0, \"#f0f921\"]], \"type\": \"heatmap\"}], \"heatmapgl\": [{\"colorbar\": {\"outlinewidth\": 0, \"ticks\": \"\"}, \"colorscale\": [[0.0, \"#0d0887\"], [0.1111111111111111, \"#46039f\"], [0.2222222222222222, \"#7201a8\"], [0.3333333333333333, \"#9c179e\"], [0.4444444444444444, \"#bd3786\"], [0.5555555555555556, \"#d8576b\"], [0.6666666666666666, \"#ed7953\"], [0.7777777777777778, \"#fb9f3a\"], [0.8888888888888888, \"#fdca26\"], [1.0, \"#f0f921\"]], \"type\": \"heatmapgl\"}], \"histogram\": [{\"marker\": {\"colorbar\": {\"outlinewidth\": 0, \"ticks\": \"\"}}, \"type\": \"histogram\"}], \"histogram2d\": [{\"colorbar\": {\"outlinewidth\": 0, \"ticks\": \"\"}, \"colorscale\": [[0.0, \"#0d0887\"], [0.1111111111111111, \"#46039f\"], [0.2222222222222222, \"#7201a8\"], [0.3333333333333333, \"#9c179e\"], [0.4444444444444444, \"#bd3786\"], [0.5555555555555556, \"#d8576b\"], [0.6666666666666666, \"#ed7953\"], [0.7777777777777778, \"#fb9f3a\"], [0.8888888888888888, \"#fdca26\"], [1.0, \"#f0f921\"]], \"type\": \"histogram2d\"}], \"histogram2dcontour\": [{\"colorbar\": {\"outlinewidth\": 0, \"ticks\": \"\"}, \"colorscale\": [[0.0, \"#0d0887\"], [0.1111111111111111, \"#46039f\"], [0.2222222222222222, \"#7201a8\"], [0.3333333333333333, \"#9c179e\"], [0.4444444444444444, \"#bd3786\"], [0.5555555555555556, \"#d8576b\"], [0.6666666666666666, \"#ed7953\"], [0.7777777777777778, \"#fb9f3a\"], [0.8888888888888888, \"#fdca26\"], [1.0, \"#f0f921\"]], \"type\": \"histogram2dcontour\"}], \"mesh3d\": [{\"colorbar\": {\"outlinewidth\": 0, \"ticks\": \"\"}, \"type\": \"mesh3d\"}], \"parcoords\": [{\"line\": {\"colorbar\": {\"outlinewidth\": 0, \"ticks\": \"\"}}, \"type\": \"parcoords\"}], \"pie\": [{\"automargin\": true, \"type\": \"pie\"}], \"scatter\": [{\"marker\": {\"colorbar\": {\"outlinewidth\": 0, \"ticks\": \"\"}}, \"type\": \"scatter\"}], \"scatter3d\": [{\"line\": {\"colorbar\": {\"outlinewidth\": 0, \"ticks\": \"\"}}, \"marker\": {\"colorbar\": {\"outlinewidth\": 0, \"ticks\": \"\"}}, \"type\": \"scatter3d\"}], \"scattercarpet\": [{\"marker\": {\"colorbar\": {\"outlinewidth\": 0, \"ticks\": \"\"}}, \"type\": \"scattercarpet\"}], \"scattergeo\": [{\"marker\": {\"colorbar\": {\"outlinewidth\": 0, \"ticks\": \"\"}}, \"type\": \"scattergeo\"}], \"scattergl\": [{\"marker\": {\"colorbar\": {\"outlinewidth\": 0, \"ticks\": \"\"}}, \"type\": \"scattergl\"}], \"scattermapbox\": [{\"marker\": {\"colorbar\": {\"outlinewidth\": 0, \"ticks\": \"\"}}, \"type\": \"scattermapbox\"}], \"scatterpolar\": [{\"marker\": {\"colorbar\": {\"outlinewidth\": 0, \"ticks\": \"\"}}, \"type\": \"scatterpolar\"}], \"scatterpolargl\": [{\"marker\": {\"colorbar\": {\"outlinewidth\": 0, \"ticks\": \"\"}}, \"type\": \"scatterpolargl\"}], \"scatterternary\": [{\"marker\": {\"colorbar\": {\"outlinewidth\": 0, \"ticks\": \"\"}}, \"type\": \"scatterternary\"}], \"surface\": [{\"colorbar\": {\"outlinewidth\": 0, \"ticks\": \"\"}, \"colorscale\": [[0.0, \"#0d0887\"], [0.1111111111111111, \"#46039f\"], [0.2222222222222222, \"#7201a8\"], [0.3333333333333333, \"#9c179e\"], [0.4444444444444444, \"#bd3786\"], [0.5555555555555556, \"#d8576b\"], [0.6666666666666666, \"#ed7953\"], [0.7777777777777778, \"#fb9f3a\"], [0.8888888888888888, \"#fdca26\"], [1.0, \"#f0f921\"]], \"type\": \"surface\"}], \"table\": [{\"cells\": {\"fill\": {\"color\": \"#EBF0F8\"}, \"line\": {\"color\": \"white\"}}, \"header\": {\"fill\": {\"color\": \"#C8D4E3\"}, \"line\": {\"color\": \"white\"}}, \"type\": \"table\"}]}, \"layout\": {\"annotationdefaults\": {\"arrowcolor\": \"#2a3f5f\", \"arrowhead\": 0, \"arrowwidth\": 1}, \"coloraxis\": {\"colorbar\": {\"outlinewidth\": 0, \"ticks\": \"\"}}, \"colorscale\": {\"diverging\": [[0, \"#8e0152\"], [0.1, \"#c51b7d\"], [0.2, \"#de77ae\"], [0.3, \"#f1b6da\"], [0.4, \"#fde0ef\"], [0.5, \"#f7f7f7\"], [0.6, \"#e6f5d0\"], [0.7, \"#b8e186\"], [0.8, \"#7fbc41\"], [0.9, \"#4d9221\"], [1, \"#276419\"]], \"sequential\": [[0.0, \"#0d0887\"], [0.1111111111111111, \"#46039f\"], [0.2222222222222222, \"#7201a8\"], [0.3333333333333333, \"#9c179e\"], [0.4444444444444444, \"#bd3786\"], [0.5555555555555556, \"#d8576b\"], [0.6666666666666666, \"#ed7953\"], [0.7777777777777778, \"#fb9f3a\"], [0.8888888888888888, \"#fdca26\"], [1.0, \"#f0f921\"]], \"sequentialminus\": [[0.0, \"#0d0887\"], [0.1111111111111111, \"#46039f\"], [0.2222222222222222, \"#7201a8\"], [0.3333333333333333, \"#9c179e\"], [0.4444444444444444, \"#bd3786\"], [0.5555555555555556, \"#d8576b\"], [0.6666666666666666, \"#ed7953\"], [0.7777777777777778, \"#fb9f3a\"], [0.8888888888888888, \"#fdca26\"], [1.0, \"#f0f921\"]]}, \"colorway\": [\"#636efa\", \"#EF553B\", \"#00cc96\", \"#ab63fa\", \"#FFA15A\", \"#19d3f3\", \"#FF6692\", \"#B6E880\", \"#FF97FF\", \"#FECB52\"], \"font\": {\"color\": \"#2a3f5f\"}, \"geo\": {\"bgcolor\": \"white\", \"lakecolor\": \"white\", \"landcolor\": \"#E5ECF6\", \"showlakes\": true, \"showland\": true, \"subunitcolor\": \"white\"}, \"hoverlabel\": {\"align\": \"left\"}, \"hovermode\": \"closest\", \"mapbox\": {\"style\": \"light\"}, \"paper_bgcolor\": \"white\", \"plot_bgcolor\": \"#E5ECF6\", \"polar\": {\"angularaxis\": {\"gridcolor\": \"white\", \"linecolor\": \"white\", \"ticks\": \"\"}, \"bgcolor\": \"#E5ECF6\", \"radialaxis\": {\"gridcolor\": \"white\", \"linecolor\": \"white\", \"ticks\": \"\"}}, \"scene\": {\"xaxis\": {\"backgroundcolor\": \"#E5ECF6\", \"gridcolor\": \"white\", \"gridwidth\": 2, \"linecolor\": \"white\", \"showbackground\": true, \"ticks\": \"\", \"zerolinecolor\": \"white\"}, \"yaxis\": {\"backgroundcolor\": \"#E5ECF6\", \"gridcolor\": \"white\", \"gridwidth\": 2, \"linecolor\": \"white\", \"showbackground\": true, \"ticks\": \"\", \"zerolinecolor\": \"white\"}, \"zaxis\": {\"backgroundcolor\": \"#E5ECF6\", \"gridcolor\": \"white\", \"gridwidth\": 2, \"linecolor\": \"white\", \"showbackground\": true, \"ticks\": \"\", \"zerolinecolor\": \"white\"}}, \"shapedefaults\": {\"line\": {\"color\": \"#2a3f5f\"}}, \"ternary\": {\"aaxis\": {\"gridcolor\": \"white\", \"linecolor\": \"white\", \"ticks\": \"\"}, \"baxis\": {\"gridcolor\": \"white\", \"linecolor\": \"white\", \"ticks\": \"\"}, \"bgcolor\": \"#E5ECF6\", \"caxis\": {\"gridcolor\": \"white\", \"linecolor\": \"white\", \"ticks\": \"\"}}, \"title\": {\"x\": 0.05}, \"xaxis\": {\"automargin\": true, \"gridcolor\": \"white\", \"linecolor\": \"white\", \"ticks\": \"\", \"title\": {\"standoff\": 15}, \"zerolinecolor\": \"white\", \"zerolinewidth\": 2}, \"yaxis\": {\"automargin\": true, \"gridcolor\": \"white\", \"linecolor\": \"white\", \"ticks\": \"\", \"title\": {\"standoff\": 15}, \"zerolinecolor\": \"white\", \"zerolinewidth\": 2}}}, \"title\": {\"text\": \"Rank on which tune is found\"}, \"xaxis\": {\"anchor\": \"y\", \"domain\": [0.0, 1.0], \"title\": {\"text\": \"rank\"}}, \"yaxis\": {\"anchor\": \"x\", \"domain\": [0.0, 1.0], \"title\": {\"text\": \"count\"}}},\n",
              "                        {\"responsive\": true}\n",
              "                    ).then(function(){\n",
              "                            \n",
              "var gd = document.getElementById('c095b63c-a3e9-4ea9-b7cd-bec3c8dfc065');\n",
              "var x = new MutationObserver(function (mutations, observer) {{\n",
              "        var display = window.getComputedStyle(gd).display;\n",
              "        if (!display || display === 'none') {{\n",
              "            console.log([gd, 'removed!']);\n",
              "            Plotly.purge(gd);\n",
              "            observer.disconnect();\n",
              "        }}\n",
              "}});\n",
              "\n",
              "// Listen for the removal of the full notebook cells\n",
              "var notebookContainer = gd.closest('#notebook-container');\n",
              "if (notebookContainer) {{\n",
              "    x.observe(notebookContainer, {childList: true});\n",
              "}}\n",
              "\n",
              "// Listen for the clearing of the current output cell\n",
              "var outputEl = gd.closest('.output');\n",
              "if (outputEl) {{\n",
              "    x.observe(outputEl, {childList: true});\n",
              "}}\n",
              "\n",
              "                        })\n",
              "                };\n",
              "                \n",
              "            </script>\n",
              "        </div>\n",
              "</body>\n",
              "</html>"
            ]
          },
          "metadata": {}
        }
      ]
    },
    {
      "cell_type": "code",
      "metadata": {
        "id": "RS7LsLASi5-f"
      },
      "source": [
        "model_name = 'lsi'\n",
        "if use_wandb:\n",
        "  wandb.log(\n",
        "      {model_name: {\n",
        "                'contrafacts': {\n",
        "                    'topN': topN,\n",
        "                    'success': matches/len(contrafacts),\n",
        "                    'results': wandb.Table(data=df_sim),\n",
        "                    'score_histogram': wandb.Image('plot.png'),\n",
        "                    }\n",
        "                   },\n",
        "       })"
      ],
      "execution_count": 72,
      "outputs": []
    },
    {
      "cell_type": "markdown",
      "metadata": {
        "id": "AjZArSmyooWt"
      },
      "source": [
        "### Get Recommender Data for WebApp"
      ]
    },
    {
      "cell_type": "code",
      "source": [
        "test_data = [\n",
        "  \"Sweet Sue, Just You [jazz1350]\",\n",
        "  \"On The Sunny Side Of The Street [jazz1350]\",\n",
        "  \"These Foolish Things [jazz1350]\", \n",
        "  \"Blue Moon [jazz1350]\",\n",
        "  \"I Got Rhythm [jazz1350]\",\n",
        "  \"Old Fashioned Love [trad]\",\n",
        "  \"Exactly Like You [jazz1350]\",\n",
        "  \"Honeysuckle Rose [jazz1350]\",\n",
        "  \"Misty [jazz1350]\",\n",
        "  \"Wow [jazz1350]\",\n",
        "  \"Take The A Train [jazz1350]\"\n",
        "]\n",
        "\n",
        "test_data = sorted(test_data)"
      ],
      "metadata": {
        "id": "xk7UxddN8QkA"
      },
      "execution_count": 73,
      "outputs": []
    },
    {
      "cell_type": "code",
      "metadata": {
        "colab": {
          "base_uri": "https://localhost:8080/"
        },
        "id": "JfMygz-ejgXG",
        "outputId": "d2c8fd43-2e2e-40b1-8523-c7355cf3363c"
      },
      "source": [
        "%%time\n",
        "if False:\n",
        "  #_tunes = list(tunes['title_playlist'].values())\n",
        "  _tunes = test_data\n",
        "\n",
        "  method = 'lsi'\n",
        "\n",
        "  # save the mapping between titleid and title to disk\n",
        "  pd.DataFrame.from_dict(tunes).to_csv(f'output/index_{method}.csv', index_label='titleid')\n",
        "  with zipfile.ZipFile(f'output/index_{method}.zip', 'w') as zf:\n",
        "    zf.write(f'output/index_{method}.csv')\n",
        "\n",
        "  df_sim = get_sim_scores(_tunes, index_lsi, lsi, topn=30)\n",
        "\n",
        "  # save to file\n",
        "  (df_sim\n",
        "   .loc[:,[#'reference_title',\n",
        "           'reference_titleid',\n",
        "           #'similar_title',\n",
        "           'similar_titleid',\n",
        "           'ref_section_label',\n",
        "           'similar_section_label',\n",
        "           'score'\n",
        "           ]]\n",
        "   .groupby(['reference_titleid', \n",
        "          #'reference_title', \n",
        "          'similar_titleid',\n",
        "          #'similar_title', \n",
        "          'ref_section_label', \n",
        "          'similar_section_label'])\n",
        "   .max('score')\n",
        "   .reset_index()\n",
        "   .to_csv(f'output/recommender_{method}.csv', encoding='utf8', index=False)\n",
        "  )\n",
        "  \n",
        "  with zipfile.ZipFile(f'output/recommender_{method}.zip', 'w') as zf:\n",
        "    zf.write(f'output/recommender_{method}.csv')\n",
        "\n",
        "  # save to wandb\n",
        "  if use_wandb:\n",
        "    model_artifact = wandb.Artifact(\n",
        "        f\"recommender_{method}\", \n",
        "        type=\"csv\",\n",
        "        description=f\"Recommendations for each Tune using {method} Model (csv file)\",\n",
        "        metadata=\"\")\n",
        "\n",
        "    model_artifact.add_file(f'output/recommender_{method}.zip')\n",
        "    model_artifact.add_file(f'output/index_{method}.zip')\n",
        "    wandb.log_artifact(model_artifact)"
      ],
      "execution_count": 74,
      "outputs": [
        {
          "output_type": "stream",
          "name": "stdout",
          "text": [
            "CPU times: user 7 µs, sys: 0 ns, total: 7 µs\n",
            "Wall time: 12.6 µs\n"
          ]
        }
      ]
    },
    {
      "cell_type": "markdown",
      "metadata": {
        "id": "lTQKfd0xQQ65"
      },
      "source": [
        "## Store Model to W&B"
      ]
    },
    {
      "cell_type": "code",
      "metadata": {
        "id": "RfAYF7ArQUXo"
      },
      "source": [
        "if use_wandb:\n",
        "  model_artifact = wandb.Artifact(\n",
        "      \"model_lsi\", \n",
        "      type=\"model\",\n",
        "      description=\"LSI model\",\n",
        "      metadata=\"\")\n",
        "\n",
        "  model_artifact.add_file(\"/content/index/lsi.model\")\n",
        "  model_artifact.add_file(\"/content/index/lsi_matrixsim.index\")\n",
        "  model_artifact.add_file(\"/content/index/lsi.model.projection\")\n",
        "  wandb.log_artifact(model_artifact)"
      ],
      "execution_count": 75,
      "outputs": []
    },
    {
      "cell_type": "markdown",
      "metadata": {
        "id": "asScIocQRMPA"
      },
      "source": [
        "## Determine Number of Topics for LSI Model\n",
        "\n",
        "This sample comes from Datacamp: \n",
        "\n",
        "https://www.datacamp.com/community/tutorials/discovering-hidden-topics-python\n"
      ]
    },
    {
      "cell_type": "markdown",
      "metadata": {
        "id": "1TPNWFEPSxZ-"
      },
      "source": [
        "What is the best way to determine k (number of topics) in topic modeling? Identify the optimum number of topics in the given corpus text is a challenging task. We can use the following options for determining the optimum number of topics:\n",
        "\n",
        "* One way to determine the optimum number of topics is to consider each topic as a cluster and find out the effectiveness of a cluster using the Silhouette coefficient.\n",
        "* Topic coherence measure is a realistic measure for identifying the number of topics.\n",
        "\n",
        "Topic Coherence measure is a widely used metric to evaluate topic models. It uses the latent variable models. Each generated topic has a list of words. In topic coherence measure, you will find average/median of pairwise word similarity scores of the words in a topic. The high value of topic coherence score model will be considered as a good topic model. "
      ]
    },
    {
      "cell_type": "code",
      "metadata": {
        "id": "umpCyQQzRLgv"
      },
      "source": [
        "def prepare_corpus(doc_clean):\n",
        "    \"\"\"\n",
        "    Input  : clean document\n",
        "    Purpose: create term dictionary of our courpus and Converting list of documents (corpus) into Document Term Matrix\n",
        "    Output : term dictionary and Document Term Matrix\n",
        "    \"\"\"\n",
        "    # Creating the term dictionary of our courpus, where every unique term is assigned an index. dictionary = corpora.Dictionary(doc_clean)\n",
        "    dictionary = corpora.Dictionary(doc_clean)\n",
        "    # Converting list of documents (corpus) into Document Term Matrix using dictionary prepared above.\n",
        "    doc_term_matrix = [dictionary.doc2bow(doc) for doc in doc_clean]\n",
        "    # generate LDA model\n",
        "    return dictionary, doc_term_matrix"
      ],
      "execution_count": 76,
      "outputs": []
    },
    {
      "cell_type": "code",
      "metadata": {
        "id": "aS2wxIEERcul"
      },
      "source": [
        "def compute_coherence_values(dictionary, doc_term_matrix, doc_clean, stop, start=2, step=3):\n",
        "    \"\"\"\n",
        "    Input   : dictionary : Gensim dictionary\n",
        "              corpus : Gensim corpus\n",
        "              texts : List of input texts\n",
        "              stop : Max num of topics\n",
        "    purpose : Compute c_v coherence for various number of topics\n",
        "    Output  : model_list : List of LSA topic models\n",
        "              coherence_values : Coherence values corresponding to the LDA model with respective number of topics\n",
        "    \"\"\"\n",
        "    coherence_values = []\n",
        "    model_list = []\n",
        "    for num_topics in range(start, stop, step):\n",
        "        # generate LSA model\n",
        "        model = LsiModel(doc_term_matrix, num_topics=num_topics, id2word = dictionary)  # train model\n",
        "        model_list.append(model)\n",
        "        coherencemodel = CoherenceModel(model=model, texts=doc_clean, dictionary=dictionary, coherence='c_v')\n",
        "        coherence_values.append(coherencemodel.get_coherence())\n",
        "    return model_list, coherence_values"
      ],
      "execution_count": 77,
      "outputs": []
    },
    {
      "cell_type": "code",
      "metadata": {
        "id": "DjyzAzWBRfrH"
      },
      "source": [
        "def plot_graph(doc_clean,start, stop, step):\n",
        "    dictionary, doc_term_matrix = prepare_corpus(doc_clean)\n",
        "\n",
        "    runs = 5\n",
        "    for i in range(runs):\n",
        "      model_list, coherence_values = compute_coherence_values(dictionary, \n",
        "                                                              doc_term_matrix,\n",
        "                                                              doc_clean,\n",
        "                                                              stop, start, step)\n",
        "      # Show graph\n",
        "      x = range(start, stop, step)\n",
        "      plt.plot(x, coherence_values, color='blue')\n",
        "\n",
        "    plt.xlabel(\"Number of Topics\")\n",
        "    plt.ylabel(\"Coherence score\")\n",
        "    plt.show()"
      ],
      "execution_count": 78,
      "outputs": []
    },
    {
      "cell_type": "code",
      "metadata": {
        "id": "qy9ZjdcmRhxs"
      },
      "source": [
        "# evaluate a good number of topics for the LSI Model. This takes some time.\n",
        "\n",
        "if False:\n",
        "\n",
        "  start, stop, step = 2, 50, 2\n",
        "  plot_graph(data, start, stop, step)"
      ],
      "execution_count": 79,
      "outputs": []
    },
    {
      "cell_type": "markdown",
      "metadata": {
        "id": "Qo5NgBHFlqgg"
      },
      "source": [
        "For unigrams, the best number of topics that is most consistently for the 5 runs seems to be around 22.\n",
        "\n",
        "For unigrams plus bigrams, the coherence score drops down until 100 and then continuously rises until 500 and continues to rise. Same for bigrams-only."
      ]
    },
    {
      "cell_type": "markdown",
      "metadata": {
        "id": "RhOWHSEU0DQH"
      },
      "source": [
        "# W&B Logging and Finish"
      ]
    },
    {
      "cell_type": "code",
      "metadata": {
        "id": "YMUDRHkm0aMV",
        "colab": {
          "base_uri": "https://localhost:8080/",
          "height": 704,
          "referenced_widgets": [
            "2f50721df0fd4e759e8ee2fac3e3d04e",
            "68d990d2cdf748cd92403bd45cdd9955",
            "7b248e1e5ba744a7b3587413d048e2f5",
            "cd507623d3424ad483ee52a2d5bff9b9",
            "4ac7ec4033194523ba164236da892913",
            "1950f3c98dee4d2db0a06ffa0aa22ae2",
            "fabc7dc4c8c1450a87f7f8c3c3e195e9",
            "2be3d09d6f6047568f192ce9e9f06277"
          ]
        },
        "outputId": "7c959895-6328-432d-8963-27fc2098c3cf"
      },
      "source": [
        "if use_wandb:\n",
        "  wandb.finish()"
      ],
      "execution_count": 80,
      "outputs": [
        {
          "output_type": "display_data",
          "data": {
            "text/html": [
              "<br/>Waiting for W&B process to finish, PID 6107... <strong style=\"color:green\">(success).</strong>"
            ],
            "text/plain": [
              "<IPython.core.display.HTML object>"
            ]
          },
          "metadata": {}
        },
        {
          "output_type": "display_data",
          "data": {
            "application/vnd.jupyter.widget-view+json": {
              "model_id": "2f50721df0fd4e759e8ee2fac3e3d04e",
              "version_minor": 0,
              "version_major": 2
            },
            "text/plain": [
              "VBox(children=(Label(value=' 1.72MB of 1.72MB uploaded (0.00MB deduped)\\r'), FloatProgress(value=1.0, max=1.0)…"
            ]
          },
          "metadata": {}
        },
        {
          "output_type": "display_data",
          "data": {
            "text/html": [
              "<style>\n",
              "    table.wandb td:nth-child(1) { padding: 0 10px; text-align: right }\n",
              "    .wandb-row { display: flex; flex-direction: row; flex-wrap: wrap; width: 100% }\n",
              "    .wandb-col { display: flex; flex-direction: column; flex-basis: 100%; flex: 1; padding: 10px; }\n",
              "    </style>\n",
              "<div class=\"wandb-row\"><div class=\"wandb-col\">\n",
              "</div><div class=\"wandb-col\">\n",
              "</div></div>\n",
              "Synced 5 W&B file(s), 3 media file(s), 4 artifact file(s) and 0 other file(s)\n",
              "<br/>Synced <strong style=\"color:#cdcd00\">radiant-smoke-18</strong>: <a href=\"https://wandb.ai/doris/lsi_model/runs/2wwyro8n\" target=\"_blank\">https://wandb.ai/doris/lsi_model/runs/2wwyro8n</a><br/>\n",
              "Find logs at: <code>./wandb/run-20211227_150356-2wwyro8n/logs</code><br/>\n"
            ],
            "text/plain": [
              "<IPython.core.display.HTML object>"
            ]
          },
          "metadata": {}
        }
      ]
    },
    {
      "cell_type": "code",
      "metadata": {
        "id": "Vn_SFyKt0bYx"
      },
      "source": [
        "\n"
      ],
      "execution_count": 80,
      "outputs": []
    }
  ]
}