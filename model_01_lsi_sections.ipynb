{
  "nbformat": 4,
  "nbformat_minor": 0,
  "metadata": {
    "colab": {
      "name": "colab_g_recommender_score",
      "provenance": [],
      "toc_visible": true,
      "authorship_tag": "ABX9TyN+vz188ZmNCmD9XvnYoanY",
      "include_colab_link": true
    },
    "kernelspec": {
      "name": "python3",
      "display_name": "Python 3"
    },
    "language_info": {
      "name": "python"
    },
    "widgets": {
      "application/vnd.jupyter.widget-state+json": {
        "e4d3699a258a4ea9ab7981d1367640c8": {
          "model_module": "@jupyter-widgets/controls",
          "model_name": "VBoxModel",
          "model_module_version": "1.5.0",
          "state": {
            "_view_name": "VBoxView",
            "_dom_classes": [],
            "_model_name": "VBoxModel",
            "_view_module": "@jupyter-widgets/controls",
            "_model_module_version": "1.5.0",
            "_view_count": null,
            "_view_module_version": "1.5.0",
            "box_style": "",
            "layout": "IPY_MODEL_1884562661c74820b075bfe39627604f",
            "_model_module": "@jupyter-widgets/controls",
            "children": [
              "IPY_MODEL_06092f8b5f1d462eafc8110d678b5e65",
              "IPY_MODEL_8162921e75bf4b6b84f967caf2d3125b"
            ]
          }
        },
        "1884562661c74820b075bfe39627604f": {
          "model_module": "@jupyter-widgets/base",
          "model_name": "LayoutModel",
          "model_module_version": "1.2.0",
          "state": {
            "_view_name": "LayoutView",
            "grid_template_rows": null,
            "right": null,
            "justify_content": null,
            "_view_module": "@jupyter-widgets/base",
            "overflow": null,
            "_model_module_version": "1.2.0",
            "_view_count": null,
            "flex_flow": null,
            "width": null,
            "min_width": null,
            "border": null,
            "align_items": null,
            "bottom": null,
            "_model_module": "@jupyter-widgets/base",
            "top": null,
            "grid_column": null,
            "overflow_y": null,
            "overflow_x": null,
            "grid_auto_flow": null,
            "grid_area": null,
            "grid_template_columns": null,
            "flex": null,
            "_model_name": "LayoutModel",
            "justify_items": null,
            "grid_row": null,
            "max_height": null,
            "align_content": null,
            "visibility": null,
            "align_self": null,
            "height": null,
            "min_height": null,
            "padding": null,
            "grid_auto_rows": null,
            "grid_gap": null,
            "max_width": null,
            "order": null,
            "_view_module_version": "1.2.0",
            "grid_template_areas": null,
            "object_position": null,
            "object_fit": null,
            "grid_auto_columns": null,
            "margin": null,
            "display": null,
            "left": null
          }
        },
        "06092f8b5f1d462eafc8110d678b5e65": {
          "model_module": "@jupyter-widgets/controls",
          "model_name": "LabelModel",
          "model_module_version": "1.5.0",
          "state": {
            "_view_name": "LabelView",
            "style": "IPY_MODEL_7b26faa6f9994d2faebea250263c1088",
            "_dom_classes": [],
            "description": "",
            "_model_name": "LabelModel",
            "placeholder": "​",
            "_view_module": "@jupyter-widgets/controls",
            "_model_module_version": "1.5.0",
            "value": " 0.78MB of 0.78MB uploaded (0.00MB deduped)\r",
            "_view_count": null,
            "_view_module_version": "1.5.0",
            "description_tooltip": null,
            "_model_module": "@jupyter-widgets/controls",
            "layout": "IPY_MODEL_c617fba1e961454bb31d8497cfa97928"
          }
        },
        "8162921e75bf4b6b84f967caf2d3125b": {
          "model_module": "@jupyter-widgets/controls",
          "model_name": "FloatProgressModel",
          "model_module_version": "1.5.0",
          "state": {
            "_view_name": "ProgressView",
            "style": "IPY_MODEL_a35f39666eaf479ebebc1ea94a04f72a",
            "_dom_classes": [],
            "description": "",
            "_model_name": "FloatProgressModel",
            "bar_style": "",
            "max": 1,
            "_view_module": "@jupyter-widgets/controls",
            "_model_module_version": "1.5.0",
            "value": 1,
            "_view_count": null,
            "_view_module_version": "1.5.0",
            "orientation": "horizontal",
            "min": 0,
            "description_tooltip": null,
            "_model_module": "@jupyter-widgets/controls",
            "layout": "IPY_MODEL_ceee11fe360540e78a197f25232e4d37"
          }
        },
        "7b26faa6f9994d2faebea250263c1088": {
          "model_module": "@jupyter-widgets/controls",
          "model_name": "DescriptionStyleModel",
          "model_module_version": "1.5.0",
          "state": {
            "_view_name": "StyleView",
            "_model_name": "DescriptionStyleModel",
            "description_width": "",
            "_view_module": "@jupyter-widgets/base",
            "_model_module_version": "1.5.0",
            "_view_count": null,
            "_view_module_version": "1.2.0",
            "_model_module": "@jupyter-widgets/controls"
          }
        },
        "c617fba1e961454bb31d8497cfa97928": {
          "model_module": "@jupyter-widgets/base",
          "model_name": "LayoutModel",
          "model_module_version": "1.2.0",
          "state": {
            "_view_name": "LayoutView",
            "grid_template_rows": null,
            "right": null,
            "justify_content": null,
            "_view_module": "@jupyter-widgets/base",
            "overflow": null,
            "_model_module_version": "1.2.0",
            "_view_count": null,
            "flex_flow": null,
            "width": null,
            "min_width": null,
            "border": null,
            "align_items": null,
            "bottom": null,
            "_model_module": "@jupyter-widgets/base",
            "top": null,
            "grid_column": null,
            "overflow_y": null,
            "overflow_x": null,
            "grid_auto_flow": null,
            "grid_area": null,
            "grid_template_columns": null,
            "flex": null,
            "_model_name": "LayoutModel",
            "justify_items": null,
            "grid_row": null,
            "max_height": null,
            "align_content": null,
            "visibility": null,
            "align_self": null,
            "height": null,
            "min_height": null,
            "padding": null,
            "grid_auto_rows": null,
            "grid_gap": null,
            "max_width": null,
            "order": null,
            "_view_module_version": "1.2.0",
            "grid_template_areas": null,
            "object_position": null,
            "object_fit": null,
            "grid_auto_columns": null,
            "margin": null,
            "display": null,
            "left": null
          }
        },
        "a35f39666eaf479ebebc1ea94a04f72a": {
          "model_module": "@jupyter-widgets/controls",
          "model_name": "ProgressStyleModel",
          "model_module_version": "1.5.0",
          "state": {
            "_view_name": "StyleView",
            "_model_name": "ProgressStyleModel",
            "description_width": "",
            "_view_module": "@jupyter-widgets/base",
            "_model_module_version": "1.5.0",
            "_view_count": null,
            "_view_module_version": "1.2.0",
            "bar_color": null,
            "_model_module": "@jupyter-widgets/controls"
          }
        },
        "ceee11fe360540e78a197f25232e4d37": {
          "model_module": "@jupyter-widgets/base",
          "model_name": "LayoutModel",
          "model_module_version": "1.2.0",
          "state": {
            "_view_name": "LayoutView",
            "grid_template_rows": null,
            "right": null,
            "justify_content": null,
            "_view_module": "@jupyter-widgets/base",
            "overflow": null,
            "_model_module_version": "1.2.0",
            "_view_count": null,
            "flex_flow": null,
            "width": null,
            "min_width": null,
            "border": null,
            "align_items": null,
            "bottom": null,
            "_model_module": "@jupyter-widgets/base",
            "top": null,
            "grid_column": null,
            "overflow_y": null,
            "overflow_x": null,
            "grid_auto_flow": null,
            "grid_area": null,
            "grid_template_columns": null,
            "flex": null,
            "_model_name": "LayoutModel",
            "justify_items": null,
            "grid_row": null,
            "max_height": null,
            "align_content": null,
            "visibility": null,
            "align_self": null,
            "height": null,
            "min_height": null,
            "padding": null,
            "grid_auto_rows": null,
            "grid_gap": null,
            "max_width": null,
            "order": null,
            "_view_module_version": "1.2.0",
            "grid_template_areas": null,
            "object_position": null,
            "object_fit": null,
            "grid_auto_columns": null,
            "margin": null,
            "display": null,
            "left": null
          }
        }
      }
    }
  },
  "cells": [
    {
      "cell_type": "markdown",
      "metadata": {
        "id": "view-in-github",
        "colab_type": "text"
      },
      "source": [
        "<a href=\"https://colab.research.google.com/github/11doris/jazz-maestro/blob/colab_word_embeddings/model_01_lsi_sections.ipynb\" target=\"_parent\"><img src=\"https://colab.research.google.com/assets/colab-badge.svg\" alt=\"Open In Colab\"/></a>"
      ]
    },
    {
      "cell_type": "markdown",
      "metadata": {
        "id": "YGhakKpa8Dtf"
      },
      "source": [
        "# Sections as Input"
      ]
    },
    {
      "cell_type": "code",
      "metadata": {
        "colab": {
          "base_uri": "https://localhost:8080/"
        },
        "id": "dm5QehpXxo31",
        "outputId": "5a86662d-c118-465e-ebf5-21b924d4e63c"
      },
      "source": [
        "pip install wandb"
      ],
      "execution_count": 1,
      "outputs": [
        {
          "output_type": "stream",
          "name": "stdout",
          "text": [
            "Requirement already satisfied: wandb in /usr/local/lib/python3.7/dist-packages (0.12.9)\n",
            "Requirement already satisfied: requests<3,>=2.0.0 in /usr/local/lib/python3.7/dist-packages (from wandb) (2.23.0)\n",
            "Requirement already satisfied: yaspin>=1.0.0 in /usr/local/lib/python3.7/dist-packages (from wandb) (2.1.0)\n",
            "Requirement already satisfied: docker-pycreds>=0.4.0 in /usr/local/lib/python3.7/dist-packages (from wandb) (0.4.0)\n",
            "Requirement already satisfied: protobuf>=3.12.0 in /usr/local/lib/python3.7/dist-packages (from wandb) (3.17.3)\n",
            "Requirement already satisfied: psutil>=5.0.0 in /usr/local/lib/python3.7/dist-packages (from wandb) (5.4.8)\n",
            "Requirement already satisfied: shortuuid>=0.5.0 in /usr/local/lib/python3.7/dist-packages (from wandb) (1.0.8)\n",
            "Requirement already satisfied: six>=1.13.0 in /usr/local/lib/python3.7/dist-packages (from wandb) (1.15.0)\n",
            "Requirement already satisfied: promise<3,>=2.0 in /usr/local/lib/python3.7/dist-packages (from wandb) (2.3)\n",
            "Requirement already satisfied: python-dateutil>=2.6.1 in /usr/local/lib/python3.7/dist-packages (from wandb) (2.8.2)\n",
            "Requirement already satisfied: sentry-sdk>=1.0.0 in /usr/local/lib/python3.7/dist-packages (from wandb) (1.5.1)\n",
            "Requirement already satisfied: Click!=8.0.0,>=7.0 in /usr/local/lib/python3.7/dist-packages (from wandb) (7.1.2)\n",
            "Requirement already satisfied: subprocess32>=3.5.3 in /usr/local/lib/python3.7/dist-packages (from wandb) (3.5.4)\n",
            "Requirement already satisfied: configparser>=3.8.1 in /usr/local/lib/python3.7/dist-packages (from wandb) (5.2.0)\n",
            "Requirement already satisfied: GitPython>=1.0.0 in /usr/local/lib/python3.7/dist-packages (from wandb) (3.1.24)\n",
            "Requirement already satisfied: PyYAML in /usr/local/lib/python3.7/dist-packages (from wandb) (3.13)\n",
            "Requirement already satisfied: pathtools in /usr/local/lib/python3.7/dist-packages (from wandb) (0.1.2)\n",
            "Requirement already satisfied: gitdb<5,>=4.0.1 in /usr/local/lib/python3.7/dist-packages (from GitPython>=1.0.0->wandb) (4.0.9)\n",
            "Requirement already satisfied: typing-extensions>=3.7.4.3 in /usr/local/lib/python3.7/dist-packages (from GitPython>=1.0.0->wandb) (3.10.0.2)\n",
            "Requirement already satisfied: smmap<6,>=3.0.1 in /usr/local/lib/python3.7/dist-packages (from gitdb<5,>=4.0.1->GitPython>=1.0.0->wandb) (5.0.0)\n",
            "Requirement already satisfied: urllib3!=1.25.0,!=1.25.1,<1.26,>=1.21.1 in /usr/local/lib/python3.7/dist-packages (from requests<3,>=2.0.0->wandb) (1.24.3)\n",
            "Requirement already satisfied: idna<3,>=2.5 in /usr/local/lib/python3.7/dist-packages (from requests<3,>=2.0.0->wandb) (2.10)\n",
            "Requirement already satisfied: certifi>=2017.4.17 in /usr/local/lib/python3.7/dist-packages (from requests<3,>=2.0.0->wandb) (2021.10.8)\n",
            "Requirement already satisfied: chardet<4,>=3.0.2 in /usr/local/lib/python3.7/dist-packages (from requests<3,>=2.0.0->wandb) (3.0.4)\n",
            "Requirement already satisfied: termcolor<2.0.0,>=1.1.0 in /usr/local/lib/python3.7/dist-packages (from yaspin>=1.0.0->wandb) (1.1.0)\n"
          ]
        }
      ]
    },
    {
      "cell_type": "code",
      "metadata": {
        "colab": {
          "base_uri": "https://localhost:8080/"
        },
        "id": "HZG8BDT-xrv3",
        "outputId": "91e63d6b-303a-47bd-8ce9-bb68c6f637ce"
      },
      "source": [
        "!wandb login"
      ],
      "execution_count": 2,
      "outputs": [
        {
          "output_type": "stream",
          "name": "stdout",
          "text": [
            "\u001b[34m\u001b[1mwandb\u001b[0m: Currently logged in as: \u001b[33mdoris\u001b[0m (use `wandb login --relogin` to force relogin)\n"
          ]
        }
      ]
    },
    {
      "cell_type": "code",
      "metadata": {
        "id": "WHZBzAXjxz1J"
      },
      "source": [
        "import wandb"
      ],
      "execution_count": 3,
      "outputs": []
    },
    {
      "cell_type": "code",
      "metadata": {
        "colab": {
          "base_uri": "https://localhost:8080/"
        },
        "id": "MUy1ta4_782n",
        "outputId": "59880519-ce38-4de4-ebed-99e7ee661586"
      },
      "source": [
        "!pip uninstall gensim -y"
      ],
      "execution_count": 4,
      "outputs": [
        {
          "output_type": "stream",
          "name": "stdout",
          "text": [
            "Found existing installation: gensim 4.1.2\n",
            "Uninstalling gensim-4.1.2:\n",
            "  Successfully uninstalled gensim-4.1.2\n"
          ]
        }
      ]
    },
    {
      "cell_type": "code",
      "metadata": {
        "colab": {
          "base_uri": "https://localhost:8080/"
        },
        "id": "oAroxmvO8GQj",
        "outputId": "b27cba32-a45e-4140-a429-f365b5139c4b"
      },
      "source": [
        "!pip install gensim"
      ],
      "execution_count": 5,
      "outputs": [
        {
          "output_type": "stream",
          "name": "stdout",
          "text": [
            "Collecting gensim\n",
            "  Using cached gensim-4.1.2-cp37-cp37m-manylinux_2_12_x86_64.manylinux2010_x86_64.whl (24.1 MB)\n",
            "Requirement already satisfied: numpy>=1.17.0 in /usr/local/lib/python3.7/dist-packages (from gensim) (1.19.5)\n",
            "Requirement already satisfied: scipy>=0.18.1 in /usr/local/lib/python3.7/dist-packages (from gensim) (1.4.1)\n",
            "Requirement already satisfied: smart-open>=1.8.1 in /usr/local/lib/python3.7/dist-packages (from gensim) (5.2.1)\n",
            "Installing collected packages: gensim\n",
            "Successfully installed gensim-4.1.2\n"
          ]
        }
      ]
    },
    {
      "cell_type": "code",
      "source": [
        "!pip install hdbscan"
      ],
      "metadata": {
        "id": "HOomUWmdv20N",
        "outputId": "d0220c26-5861-4cb9-a487-70b9060944d7",
        "colab": {
          "base_uri": "https://localhost:8080/"
        }
      },
      "execution_count": 6,
      "outputs": [
        {
          "output_type": "stream",
          "name": "stdout",
          "text": [
            "Requirement already satisfied: hdbscan in /usr/local/lib/python3.7/dist-packages (0.8.27)\n",
            "Requirement already satisfied: joblib>=1.0 in /usr/local/lib/python3.7/dist-packages (from hdbscan) (1.1.0)\n",
            "Requirement already satisfied: numpy>=1.16 in /usr/local/lib/python3.7/dist-packages (from hdbscan) (1.19.5)\n",
            "Requirement already satisfied: six in /usr/local/lib/python3.7/dist-packages (from hdbscan) (1.15.0)\n",
            "Requirement already satisfied: scikit-learn>=0.20 in /usr/local/lib/python3.7/dist-packages (from hdbscan) (1.0.1)\n",
            "Requirement already satisfied: scipy>=1.0 in /usr/local/lib/python3.7/dist-packages (from hdbscan) (1.4.1)\n",
            "Requirement already satisfied: cython>=0.27 in /usr/local/lib/python3.7/dist-packages (from hdbscan) (0.29.24)\n",
            "Requirement already satisfied: threadpoolctl>=2.0.0 in /usr/local/lib/python3.7/dist-packages (from scikit-learn>=0.20->hdbscan) (3.0.0)\n"
          ]
        }
      ]
    },
    {
      "cell_type": "code",
      "source": [
        "import hdbscan"
      ],
      "metadata": {
        "id": "qdzTWmb9v5w_"
      },
      "execution_count": 7,
      "outputs": []
    },
    {
      "cell_type": "code",
      "source": [
        "!pip install umap-learn"
      ],
      "metadata": {
        "id": "nJcmRmECyYM7",
        "outputId": "9fc359f7-f1ef-403e-9669-73ab79c4150c",
        "colab": {
          "base_uri": "https://localhost:8080/"
        }
      },
      "execution_count": 8,
      "outputs": [
        {
          "output_type": "stream",
          "name": "stdout",
          "text": [
            "Requirement already satisfied: umap-learn in /usr/local/lib/python3.7/dist-packages (0.5.2)\n",
            "Requirement already satisfied: pynndescent>=0.5 in /usr/local/lib/python3.7/dist-packages (from umap-learn) (0.5.5)\n",
            "Requirement already satisfied: scipy>=1.0 in /usr/local/lib/python3.7/dist-packages (from umap-learn) (1.4.1)\n",
            "Requirement already satisfied: tqdm in /usr/local/lib/python3.7/dist-packages (from umap-learn) (4.62.3)\n",
            "Requirement already satisfied: numba>=0.49 in /usr/local/lib/python3.7/dist-packages (from umap-learn) (0.51.2)\n",
            "Requirement already satisfied: numpy>=1.17 in /usr/local/lib/python3.7/dist-packages (from umap-learn) (1.19.5)\n",
            "Requirement already satisfied: scikit-learn>=0.22 in /usr/local/lib/python3.7/dist-packages (from umap-learn) (1.0.1)\n",
            "Requirement already satisfied: llvmlite<0.35,>=0.34.0.dev0 in /usr/local/lib/python3.7/dist-packages (from numba>=0.49->umap-learn) (0.34.0)\n",
            "Requirement already satisfied: setuptools in /usr/local/lib/python3.7/dist-packages (from numba>=0.49->umap-learn) (57.4.0)\n",
            "Requirement already satisfied: joblib>=0.11 in /usr/local/lib/python3.7/dist-packages (from pynndescent>=0.5->umap-learn) (1.1.0)\n",
            "Requirement already satisfied: threadpoolctl>=2.0.0 in /usr/local/lib/python3.7/dist-packages (from scikit-learn>=0.22->umap-learn) (3.0.0)\n"
          ]
        }
      ]
    },
    {
      "cell_type": "code",
      "source": [
        "import umap"
      ],
      "metadata": {
        "id": "Wrcj97tFyZRC"
      },
      "execution_count": 9,
      "outputs": []
    },
    {
      "cell_type": "code",
      "metadata": {
        "id": "6SZ0zrKX8H-D"
      },
      "source": [
        "import gensim\n",
        "from sklearn.manifold import TSNE\n",
        "import matplotlib.pyplot as plt\n",
        "import seaborn as sns\n",
        "import pprint\n",
        "import pandas as pd\n",
        "import numpy as np\n",
        "from collections import Counter\n",
        "import plotly.express as px\n",
        "from tqdm import tqdm \n",
        "from gensim.models.doc2vec import Doc2Vec\n",
        "from gensim.models.tfidfmodel import TfidfModel\n",
        "from gensim.models.lsimodel import LsiModel\n",
        "from gensim.models import CoherenceModel\n",
        "from gensim import corpora\n",
        "from gensim import similarities\n",
        "import pickle\n",
        "import os\n",
        "import zipfile\n"
      ],
      "execution_count": 10,
      "outputs": []
    },
    {
      "cell_type": "code",
      "metadata": {
        "id": "znWar-PK8KHT"
      },
      "source": [
        "import logging\n",
        "logging.basicConfig(format='%(asctime)s : %(levelname)s : %(message)s', level=logging.INFO)"
      ],
      "execution_count": 11,
      "outputs": []
    },
    {
      "cell_type": "code",
      "metadata": {
        "colab": {
          "base_uri": "https://localhost:8080/"
        },
        "id": "kjCf_Abf8MCc",
        "outputId": "f0a9f85b-1c2b-47f3-9108-568124f16171"
      },
      "source": [
        "print(gensim.__version__)"
      ],
      "execution_count": 12,
      "outputs": [
        {
          "output_type": "stream",
          "name": "stdout",
          "text": [
            "4.1.2\n"
          ]
        }
      ]
    },
    {
      "cell_type": "code",
      "metadata": {
        "id": "_aEonlx-CT6r"
      },
      "source": [
        "!rm data.csv"
      ],
      "execution_count": 13,
      "outputs": []
    },
    {
      "cell_type": "code",
      "metadata": {
        "id": "Xhfwd9iMZ99Q"
      },
      "source": [
        "pd.set_option('display.max_rows', 500)\n",
        "pd.set_option('display.max_columns', 500)\n",
        "pd.set_option('display.width', 1000)"
      ],
      "execution_count": 14,
      "outputs": []
    },
    {
      "cell_type": "markdown",
      "metadata": {
        "id": "Nk5pPZqk0Pn7"
      },
      "source": [
        "# Configuration\n"
      ]
    },
    {
      "cell_type": "code",
      "metadata": {
        "id": "wcZ18xhgU7MZ"
      },
      "source": [
        "use_wandb = False"
      ],
      "execution_count": 15,
      "outputs": []
    },
    {
      "cell_type": "code",
      "metadata": {
        "id": "A-AD1gxGLYxp"
      },
      "source": [
        "generate_webapp_data = False"
      ],
      "execution_count": 16,
      "outputs": []
    },
    {
      "cell_type": "code",
      "metadata": {
        "id": "GfQbJQmexlxI"
      },
      "source": [
        "docu = 'sections'\n",
        "chords_preprocessing = 'rootAndDegreesPlus'"
      ],
      "execution_count": 17,
      "outputs": []
    },
    {
      "cell_type": "code",
      "metadata": {
        "id": "buoyWNl0F48Y"
      },
      "source": [
        "ngrams_for_input = [1,2]"
      ],
      "execution_count": 18,
      "outputs": []
    },
    {
      "cell_type": "code",
      "metadata": {
        "id": "H9AFlUZ1lpGC"
      },
      "source": [
        "remove_repetitions = False"
      ],
      "execution_count": 19,
      "outputs": []
    },
    {
      "cell_type": "code",
      "metadata": {
        "id": "K7qB2_sBvKpB"
      },
      "source": [
        "input_files = {\n",
        "    'sections': {\n",
        "        # M7 and 6 reduced to major triad, m7 reduced to m, dominant 7, m7b5, diminished, and all (b5) left as they are.\n",
        "        'rootAndDegreesPlus': '1NP6trpfnEPnFqJbmcuClvkBB28PNdF8c',\n",
        "        'rootAndDegrees7': '',\n",
        "        'rootAndDegreesSimplified': '1vyC9voFf2vpcKmS5kZBJ9Rafm7wuuzD8',\n",
        "    },\n",
        "}"
      ],
      "execution_count": 20,
      "outputs": []
    },
    {
      "cell_type": "code",
      "metadata": {
        "id": "uiI0h4ef0PCD"
      },
      "source": [
        "contrafacts = [\n",
        "               (\"26-2 [jazz1350]\", \"Confirmation [jazz1350]\"),\n",
        "               (\"52nd Street Theme [jazz1350]\", \"I Got Rhythm [jazz1350]\"), # not a good match\n",
        "               (\"Ablution [jazz1350]\", \"All The Things You Are [jazz1350]\"),\n",
        "               (\"Anthropology [jazz1350]\", \"I Got Rhythm [jazz1350]\"),\n",
        "               (\"Bright Mississippi [jazz1350]\", \"Sweet Georgia Brown [jazz1350]\"),\n",
        "               (\"C.T.A. [jazz1350]\", \"I Got Rhythm [jazz1350]\"),\n",
        "               #( \"Celia [jazz1350]\", \"I Got Rhythm [jazz1350]\"),\n",
        "               (\"Cottontail [jazz1350]\", \"I Got Rhythm [jazz1350]\"),\n",
        "               (\"Countdown [jazz1350]\", \"Tune Up [jazz1350]\"),\n",
        "               (\"Dewey Square [jazz1350]\", \"Oh, Lady Be Good [jazz1350]\"),\n",
        "               (\"Dexterity [jazz1350]\", \"I Got Rhythm [jazz1350]\"),\n",
        "               (\"Dig [jazz1350]\", \"Sweet Georgia Brown [jazz1350]\"),\n",
        "               (\"Donna Lee [jazz1350]\", \"Indiana (Back Home Again In) [jazz1350]\"),\n",
        "               (\"Don't Be That Way [jazz1350]\", \"I Got Rhythm [jazz1350]\"),  # cannot be found; bridge in different key\n",
        "               #(\"Eternal Triangle [jazz1350]\", \"I Got Rhythm [jazz1350]\"),\n",
        "               (\"Evidence [jazz1350]\", \"Just You, Just Me [jazz1350]\"),\n",
        "               (\"Flintstones [jazz1350]\", \"I Got Rhythm [jazz1350]\"),\n",
        "               (\"Four On Six [jazz1350]\", \"Summertime [jazz1350]\"),\n",
        "               (\"Freight Train [jazz1350]\", \"Blues For Alice [jazz1350]\"),\n",
        "               (\"Good Bait [jazz1350]\", \"I Got Rhythm [jazz1350]\"),  # A sections\n",
        "               (\"Hackensack [jazz1350]\", \"Oh, Lady Be Good [jazz1350]\"),\n",
        "               (\"Half Nelson [jazz1350]\", \"Lady Bird [jazz1350]\"),\n",
        "               (\"Hot House [jazz1350]\", \"What Is This Thing Called Love [jazz1350]\"),\n",
        "               (\"Impressions [jazz1350]\", \"So What [jazz1350]\"),\n",
        "               (\"In A Mellow Tone (In A Mellotone) [jazz1350]\", \"Rose Room [jazz1350]\"),\n",
        "               (\"In Walked Bud [jazz1350]\", \"Blue Skies [jazz1350]\"),\n",
        "               (\"Ko Ko [jazz1350]\", \"Cherokee [jazz1350]\"),\n",
        "               (\"Lennie's Pennies [jazz1350]\", \"Pennies From Heaven [jazz1350]\"),   ## Lennie's Pennies is in minor and therefore transposed to Amin... not possible to recognize like that\n",
        "               #( \"Let's Call This [jazz1350]\", \"Honeysuckle Rose [jazz1350]\"),\n",
        "               (\"Little Rootie Tootie [jazz1350]\", \"I Got Rhythm [jazz1350]\"),\n",
        "               (\"Little Willie Leaps [jazz1350]\", \"All God's Chillun Got Rhythm [jazz1350]\"),\n",
        "               (\"Lullaby Of Birdland [jazz1350]\", \"Love Me Or Leave Me [jazz1350]\"),\n",
        "               #(\"Moose The Mooche [jazz1350]\", \"I Got Rhythm [jazz1350]\"),\n",
        "               (\"My Little Suede Shoes [jazz1350]\", \"Jeepers Creepers [jazz1350]\"),\n",
        "               #(\"Oleo [jazz1350]\", \"I Got Rhythm [jazz1350]\"),\n",
        "               (\"Ornithology [jazz1350]\", \"How High The Moon [jazz1350]\"),\n",
        "               #(\"Passport [jazz1350]\", \"I Got Rhythm [jazz1350]\"),\n",
        "               (\"Quasimodo (Theme) [jazz1350]\", \"Embraceable You [jazz1350]\"),\n",
        "               #(\"Rhythm-a-ning [jazz1350]\", \"I Got Rhythm [jazz1350]\"),\n",
        "               (\"Room 608 [jazz1350]\", \"I Got Rhythm [jazz1350]\"),\n",
        "               #(\"Salt Peanuts [jazz1350]\", \"I Got Rhythm [jazz1350]\"),\n",
        "               (\"Satellite [jazz1350]\", \"How High The Moon [jazz1350]\"),\n",
        "               (\"Scrapple From The Apple [jazz1350]\", \"Honeysuckle Rose [jazz1350]\"), # A section\n",
        "               (\"Scrapple From The Apple [jazz1350]\", \"I Got Rhythm [jazz1350]\"), # B section\n",
        "               #(\"Segment [jazz1350]\", \"I Got Rhythm [jazz1350]\"),\n",
        "               #(\"Seven Come Eleven [jazz1350]\", \"I Got Rhythm [jazz1350]\"),\n",
        "               #(\"Shaw 'Nuff [jazz1350]\", \"I Got Rhythm [jazz1350]\"),\n",
        "               #(\"Theme, The [jazz1350]\", \"I Got Rhythm [jazz1350]\"),\n",
        "               (\"Tour De Force [jazz1350]\", \"Jeepers Creepers [jazz1350]\"),\n",
        "               (\"Wow [jazz1350]\", \"You Can Depend On Me [jazz1350]\"),\n",
        "               (\"Yardbird Suite [jazz1350]\", \"Rosetta [jazz1350]\"),\n",
        "\n",
        "               # following tunes are not from wikipedia),\n",
        "               (\"Sweet Sue, Just You [jazz1350]\", \"Honeysuckle Rose [jazz1350]\"),  # A section\n",
        "               #(\"All Of Me [jazz1350]\", \"Pennies From Heaven [jazz1350]\"), # bars 25-28 of All of Me are same as bars 17-20 of Pennies From Heaven, but different key!\n",
        "               (\"Sweet Sue, Just You [jazz1350]\", \"Bye Bye Blackbird [jazz1350]\"), # Bridge same\n",
        "               (\"These Foolish Things [jazz1350]\", \"Blue Moon [jazz1350]\"), # first 8 bars same\n",
        "               (\"These Foolish Things [jazz1350]\", \"More Than You Know [jazz1350]\"),\n",
        "               (\"These Foolish Things [jazz1350]\", \"Isn't It A Pity [jazz1350]\"),\n",
        "               (\"These Foolish Things [jazz1350]\", \"Soultrane [jazz1350]\"),\n",
        "               (\"These Foolish Things [jazz1350]\", \"Why Do I Love You [jazz1350]\"),\n",
        "               (\"Misty [jazz1350]\", \"Portrait Of Jennie [jazz1350]\"),\n",
        "               (\"Misty [jazz1350]\", \"September In The Rain [jazz1350]\"),\n",
        "               (\"Misty [jazz1350]\", \"I May Be Wrong [jazz1350]\"),  \n",
        "\n",
        "               # identical tunes\n",
        "               (\"Five Foot Two [trad]\", \"Please Don't Talk About Me When I'm Gone [trad]\"),\n",
        "               (\"What Is This Thing Called Love [jazz1350]\", \"Subconscious Lee [jazz1350]\"),\n",
        "               (\"Sweet Georgia Brown [jazz1350]\", \"Dig [jazz1350]\"),\n",
        "\n",
        "\n",
        "               # almost identical tunes\n",
        "               (\"What Is This Thing Called Love [jazz1350]\", \"Hot House [jazz1350]\"),\n",
        "               (\"Jeannie's Song [jazz1350]\", \"Shiny Stockings [jazz1350]\"),\n",
        "               (\"Alone Together [jazz1350]\", \"Segment [jazz1350]\"),\n",
        "               (\"Baubles, Bangles and Beads [jazz1350]\", \"Bossa Antigua [jazz1350]\"),\n",
        "               (\"There Will Never Be Another You [jazz1350]\", \"A Weaver Of Dreams [jazz1350]\"),\n",
        "               (\"Moten Swing [jazz1350]\", \"Once In A While (Ballad) [trad]\"), # same bridge, similar A\n",
        "               (\"All I Do Is Dream Of You [trad]\", \"L-O-V-E [jazz1350]\"),\n",
        "\n",
        "\n",
        "               # same A section\n",
        "               (\"Nancy (With The Laughing Face) [jazz1350]\", \"Body And Soul [jazz1350]\"),\n",
        "               (\"Exactly Like You [jazz1350]\", \"True (You Don't Love Me ) [trad]\"),\n",
        "               (\"Exactly Like You [jazz1350]\", \"Jersey Bounce [jazz1350]\"),\n",
        "               (\"Take The A Train [jazz1350]\", \"Girl From Ipanema, The [jazz1350]\"),\n",
        "               (\"My Heart Stood Still [jazz1350]\", \"All Too Soon [jazz1350]\"),\n",
        "               (\"Undecided [jazz1350]\", \"Broadway [jazz1350]\"),\n",
        "               (\"Let's Fall In Love [jazz1350]\", \"Heart And Soul [jazz1350]\"),\n",
        "               (\"Come Back To Me [jazz1350]\", \"I Wish I Knew [jazz1350]\"),\n",
        "               (\"Wait Till You See Her [jazz1350]\", \"A Certain Smile [jazz1350]\"),\n",
        "               (\"Killer Joe [jazz1350]\", \"Straight Life [jazz1350]\"),\n",
        "               (\"Softly, As In A Morning Sunrise [jazz1350]\", \"Segment [jazz1350]\"),\n",
        "               (\"Bei Mir Bist Du Schon (Root Hog Or Die) [trad]\", \"Egyptian Fantasy [trad]\"),\n",
        "               (\"Bei Mir Bist Du Schon (Root Hog Or Die) [trad]\", \"Puttin' On The Ritz [jazz1350]\"),\n",
        "               (\"Coquette [trad]\", \"Pretend You're Happy When You're Blue [trad]\"),\n",
        "               (\"Softly, As In A Morning Sunrise [jazz1350]\", \"Strode Rode [jazz1350]\"),\n",
        "               (\"Glory Of Love, The [jazz1350]\", \"I've Got My Fingers Crossed [trad]\"),\n",
        "               (\"Charleston, The [jazz1350]\", \"As Long As I Live [trad]\"),\n",
        "               (\"Fine And Dandy [jazz1350]\", \"I Can't Give You Anything But Love [jazz1350]\"),\n",
        "               (\"I'll Close My Eyes [jazz1350]\", \"Bluesette [jazz1350]\"),\n",
        "               (\"I'll Close My Eyes [jazz1350]\", \"There Will Never Be Another You [jazz1350]\"),\n",
        "\n",
        "\n",
        "\n",
        "               # same bridge\n",
        "               (\"If I Had You [jazz1350]\", \"Too Young To Go Steady [jazz1350]\"),\n",
        "               (\"Undecided [jazz1350]\", \"Satin Doll [jazz1350]\"),\n",
        "               (\"Billy Boy [jazz1350]\", \"Elora [jazz1350]\"),\n",
        "               (\"Dearly Beloved [jazz1350]\", \"We See [jazz1350]\"),\n",
        "               (\"Alone Together [jazz1350]\", \"A Night In Tunisia [jazz1350]\"),\n",
        "               (\"A Night In Tunisia [jazz1350]\", \"Segment [jazz1350]\"),\n",
        "               (\"Oh! Lady Be Good [trad]\", \"Sentimental Journey [jazz1350]\"),\n",
        "               (\"You Can Depend On Me [jazz1350]\", \"Move [jazz1350]\"),\n",
        "               (\"I Want To Be Happy [jazz1350]\", \"A Beautiful Friendship [jazz1350]\"),\n",
        "               (\"Flying Home [jazz1350]\", \"Down For Double [jazz1350]\"),\n",
        "               (\"Cheek To Cheek [jazz1350]\", \"Violets For Your Furs [jazz1350]\"),\n",
        "               (\"Let's Fall In Love [jazz1350]\", \"At Last [jazz1350]\"),\n",
        "               (\"Don't Be That Way [jazz1350]\", \"Long Ago And Far Away [jazz1350]\"),\n",
        "               (\"On The Sunny Side Of The Street [jazz1350]\", \"I'm Confessin' That I Love You [jazz1350]\"),\n",
        "               (\"On The Sunny Side Of The Street [jazz1350]\", \"Eclypso [jazz1350]\"),\n",
        "               (\"On The Sunny Side Of The Street [jazz1350]\", \"You Stepped Out Of A Dream [jazz1350]\"),\n",
        "               (\"Satin Doll [jazz1350]\", \"Undecided [jazz1350]\"),\n",
        "               \n",
        "\n",
        "               \n",
        "\n",
        "               # similar A section\n",
        "               (\"I Like The Likes Of You [jazz1350]\", \"Mountain Greenery [jazz1350]\"),\n",
        "               (\"My Secret Love [jazz1350]\", \"Samba De Orfeu [jazz1350]\"),\n",
        "               (\"Let's Call The Whole Thing Off [jazz1350]\", \"Fine And Dandy [jazz1350]\"),\n",
        "\n",
        "\n",
        "               # similar B section\n",
        "               (\"Folks Who Live On The Hill, The [jazz1350]\", \"My One And Only Love [jazz1350]\"),\n",
        "               (\"As Long As I Live [trad]\", \"I'm Glad There Is You [jazz1350]\"),\n",
        "               (\"I May Be Wrong [jazz1350]\", \"Teach Me Tonight [jazz1350]\"),\n",
        "               (\"Am I Blue [jazz1350]\", \"Come Back To Me [jazz1350]\"),\n",
        "               (\"My One And Only Love [jazz1350]\", \"Am I Blue [jazz1350]\"),\n",
        "               (\"On The Sunny Side Of The Street [jazz1350]\", \"September In The Rain [jazz1350]\"),\n",
        "               (\"On The Sunny Side Of The Street [jazz1350]\", \"Mountain Greenery [jazz1350]\"),\n",
        "               (\"On The Sunny Side Of The Street [jazz1350]\", \"There's No You [jazz1350]\"),\n",
        "               (\"These Foolish Things [jazz1350]\", \"Embraceable You [jazz1350]\"),\n",
        "               (\"These Foolish Things [jazz1350]\", \"Rosetta [jazz1350]\"),\n",
        "\n",
        "               # same C section\n",
        "               (\"Bill Bailey [jazz1350]\", \"Bourbon Street Parade [jazz1350]\"),\n",
        "\n",
        "               # Stella C is like Woody B\n",
        "               (\"Woody'n You [jazz1350]\", \"Stella By Starlight [jazz1350]\"),\n",
        "\n",
        "               # similar vocabulary, different progressions\n",
        "               (\"Tangerine [jazz1350]\", \"Tea For Two [jazz1350]\"),\n",
        "               (\"I Can't Give You Anything But Love [jazz1350]\", \"You Can Depend On Me [jazz1350]\"),\n",
        "               (\"This Year's Kisses [jazz1350]\", \"My Monday Date [trad]\"),\n",
        "               (\"A Blossom Fell [jazz1350]\", \"Among My Souvenirs [jazz1350]\"),\n",
        "\n",
        "]"
      ],
      "execution_count": 21,
      "outputs": []
    },
    {
      "cell_type": "code",
      "source": [
        "test_tunes = []\n",
        "for ref, sim in contrafacts:\n",
        "  if ref not in test_tunes:\n",
        "    test_tunes.append(ref)\n",
        "  if sim not in test_tunes:\n",
        "    test_tunes.append(sim)\n",
        "\n",
        "test_tunes.sort()\n",
        "len(test_tunes)"
      ],
      "metadata": {
        "colab": {
          "base_uri": "https://localhost:8080/"
        },
        "id": "0z7wMyZhEfCv",
        "outputId": "776005e3-eacb-4a65-bca6-0cf72e9b9294"
      },
      "execution_count": 22,
      "outputs": [
        {
          "output_type": "execute_result",
          "data": {
            "text/plain": [
              "168"
            ]
          },
          "metadata": {},
          "execution_count": 22
        }
      ]
    },
    {
      "cell_type": "code",
      "source": [
        "test_contrafacts = [\n",
        "               (\"These Foolish Things [jazz1350]\", \"Why Do I Love You [jazz1350]\"),\n",
        "]"
      ],
      "metadata": {
        "id": "DgYe9Rscvg_o"
      },
      "execution_count": 23,
      "outputs": []
    },
    {
      "cell_type": "code",
      "metadata": {
        "colab": {
          "base_uri": "https://localhost:8080/"
        },
        "id": "V2OXaDW9R31b",
        "outputId": "9c580443-785d-44a6-8828-5b46db77bc7b"
      },
      "source": [
        "len(contrafacts)"
      ],
      "execution_count": 24,
      "outputs": [
        {
          "output_type": "execute_result",
          "data": {
            "text/plain": [
              "115"
            ]
          },
          "metadata": {},
          "execution_count": 24
        }
      ]
    },
    {
      "cell_type": "markdown",
      "metadata": {
        "id": "gcexO7zK8Pn6"
      },
      "source": [
        "# Initialization\n",
        "\n",
        "## Download the Data"
      ]
    },
    {
      "cell_type": "code",
      "metadata": {
        "id": "JwVJo3Vat8iF"
      },
      "source": [
        "input_data = input_files['sections'][chords_preprocessing]\n",
        "\n",
        "input_path = f\"https://docs.google.com/uc?export=download&id={input_data}\"\n",
        "data_file_name = 'data.csv'\n"
      ],
      "execution_count": 25,
      "outputs": []
    },
    {
      "cell_type": "code",
      "metadata": {
        "colab": {
          "base_uri": "https://localhost:8080/",
          "height": 36
        },
        "id": "_Dp-fijjB-pU",
        "outputId": "1a63dd81-9d91-4ca4-c381-f05637009030"
      },
      "source": [
        "input_path"
      ],
      "execution_count": 26,
      "outputs": [
        {
          "output_type": "execute_result",
          "data": {
            "application/vnd.google.colaboratory.intrinsic+json": {
              "type": "string"
            },
            "text/plain": [
              "'https://docs.google.com/uc?export=download&id=1NP6trpfnEPnFqJbmcuClvkBB28PNdF8c'"
            ]
          },
          "metadata": {},
          "execution_count": 26
        }
      ]
    },
    {
      "cell_type": "code",
      "metadata": {
        "colab": {
          "base_uri": "https://localhost:8080/"
        },
        "id": "1ZVAYUH5t9Li",
        "outputId": "2d065a6d-990c-4cdf-a06a-bcd9f6cd1162"
      },
      "source": [
        "!wget --no-check-certificate \"$input_path\" -O \"$data_file_name\""
      ],
      "execution_count": 27,
      "outputs": [
        {
          "output_type": "stream",
          "name": "stdout",
          "text": [
            "--2021-12-27 21:29:43--  https://docs.google.com/uc?export=download&id=1NP6trpfnEPnFqJbmcuClvkBB28PNdF8c\n",
            "Resolving docs.google.com (docs.google.com)... 64.233.189.102, 64.233.189.138, 64.233.189.113, ...\n",
            "Connecting to docs.google.com (docs.google.com)|64.233.189.102|:443... connected.\n",
            "HTTP request sent, awaiting response... 302 Moved Temporarily\n",
            "Location: https://doc-0g-4c-docs.googleusercontent.com/docs/securesc/ha0ro937gcuc7l7deffksulhg5h7mbp1/gten3p9dbfivpaejj5dmq0suu6pllgor/1640640525000/14329102864480165501/*/1NP6trpfnEPnFqJbmcuClvkBB28PNdF8c?e=download [following]\n",
            "Warning: wildcards not supported in HTTP.\n",
            "--2021-12-27 21:29:44--  https://doc-0g-4c-docs.googleusercontent.com/docs/securesc/ha0ro937gcuc7l7deffksulhg5h7mbp1/gten3p9dbfivpaejj5dmq0suu6pllgor/1640640525000/14329102864480165501/*/1NP6trpfnEPnFqJbmcuClvkBB28PNdF8c?e=download\n",
            "Resolving doc-0g-4c-docs.googleusercontent.com (doc-0g-4c-docs.googleusercontent.com)... 74.125.204.132, 2404:6800:4008:c04::84\n",
            "Connecting to doc-0g-4c-docs.googleusercontent.com (doc-0g-4c-docs.googleusercontent.com)|74.125.204.132|:443... connected.\n",
            "HTTP request sent, awaiting response... 200 OK\n",
            "Length: 817619 (798K) [text/csv]\n",
            "Saving to: ‘data.csv’\n",
            "\n",
            "data.csv            100%[===================>] 798.46K  --.-KB/s    in 0.006s  \n",
            "\n",
            "2021-12-27 21:29:44 (132 MB/s) - ‘data.csv’ saved [817619/817619]\n",
            "\n"
          ]
        }
      ]
    },
    {
      "cell_type": "markdown",
      "metadata": {
        "id": "Ljs21B7h8YvC"
      },
      "source": [
        "### Read Chords Input Data"
      ]
    },
    {
      "cell_type": "code",
      "metadata": {
        "colab": {
          "base_uri": "https://localhost:8080/",
          "height": 354
        },
        "id": "B7kK418L8aac",
        "outputId": "00bb32f1-22f0-4eea-dbd2-9399d1b1bd7d"
      },
      "source": [
        "df = pd.read_csv(data_file_name, sep='\\t', index_col=\"id\")\n",
        "df = df.reset_index()\n",
        "df.head(5)"
      ],
      "execution_count": 28,
      "outputs": [
        {
          "output_type": "execute_result",
          "data": {
            "text/html": [
              "\n",
              "  <div id=\"df-6b0b6208-e6e9-40ee-831d-b220192e11e2\">\n",
              "    <div class=\"colab-df-container\">\n",
              "      <div>\n",
              "<style scoped>\n",
              "    .dataframe tbody tr th:only-of-type {\n",
              "        vertical-align: middle;\n",
              "    }\n",
              "\n",
              "    .dataframe tbody tr th {\n",
              "        vertical-align: top;\n",
              "    }\n",
              "\n",
              "    .dataframe thead th {\n",
              "        text-align: right;\n",
              "    }\n",
              "</style>\n",
              "<table border=\"1\" class=\"dataframe\">\n",
              "  <thead>\n",
              "    <tr style=\"text-align: right;\">\n",
              "      <th></th>\n",
              "      <th>id</th>\n",
              "      <th>file_name</th>\n",
              "      <th>title</th>\n",
              "      <th>title_playlist</th>\n",
              "      <th>tune_mode</th>\n",
              "      <th>tune_id</th>\n",
              "      <th>section_name</th>\n",
              "      <th>section_id</th>\n",
              "      <th>chords</th>\n",
              "    </tr>\n",
              "  </thead>\n",
              "  <tbody>\n",
              "    <tr>\n",
              "      <th>0</th>\n",
              "      <td>0</td>\n",
              "      <td>dataset/jazz1350/26-2.xml</td>\n",
              "      <td>26-2</td>\n",
              "      <td>26-2 [jazz1350]</td>\n",
              "      <td>major</td>\n",
              "      <td>0</td>\n",
              "      <td>A</td>\n",
              "      <td>1</td>\n",
              "      <td>C Eb7 G# B7 E G7 Gm C7 F G#7 C# E7 Am D7 Dm G7</td>\n",
              "    </tr>\n",
              "    <tr>\n",
              "      <th>1</th>\n",
              "      <td>1</td>\n",
              "      <td>dataset/jazz1350/26-2.xml</td>\n",
              "      <td>26-2</td>\n",
              "      <td>26-2 [jazz1350]</td>\n",
              "      <td>major</td>\n",
              "      <td>0</td>\n",
              "      <td>A</td>\n",
              "      <td>2</td>\n",
              "      <td>C Eb7 G# B7 E G7 Gm C7 F Eb7 G# B7 E G7 C</td>\n",
              "    </tr>\n",
              "    <tr>\n",
              "      <th>2</th>\n",
              "      <td>2</td>\n",
              "      <td>dataset/jazz1350/26-2.xml</td>\n",
              "      <td>26-2</td>\n",
              "      <td>26-2 [jazz1350]</td>\n",
              "      <td>major</td>\n",
              "      <td>0</td>\n",
              "      <td>B</td>\n",
              "      <td>3</td>\n",
              "      <td>Gm C7 Bm E7 A C7 F Bbm Eb7 G# Dm G7</td>\n",
              "    </tr>\n",
              "    <tr>\n",
              "      <th>3</th>\n",
              "      <td>3</td>\n",
              "      <td>dataset/jazz1350/26-2.xml</td>\n",
              "      <td>26-2</td>\n",
              "      <td>26-2 [jazz1350]</td>\n",
              "      <td>major</td>\n",
              "      <td>0</td>\n",
              "      <td>A</td>\n",
              "      <td>4</td>\n",
              "      <td>C Eb7 G# B7 E G7 Gm C7 F Eb7 G# B7 E G7 C</td>\n",
              "    </tr>\n",
              "    <tr>\n",
              "      <th>4</th>\n",
              "      <td>4</td>\n",
              "      <td>dataset/jazz1350/500 Miles High.xml</td>\n",
              "      <td>500 Miles High</td>\n",
              "      <td>500 Miles High [jazz1350]</td>\n",
              "      <td>minor</td>\n",
              "      <td>1</td>\n",
              "      <td>A</td>\n",
              "      <td>1</td>\n",
              "      <td>Am Am Cm Cm Eb Eb Em7b5 A7 Dm Dm Bm7b5 Bm7b5 B...</td>\n",
              "    </tr>\n",
              "  </tbody>\n",
              "</table>\n",
              "</div>\n",
              "      <button class=\"colab-df-convert\" onclick=\"convertToInteractive('df-6b0b6208-e6e9-40ee-831d-b220192e11e2')\"\n",
              "              title=\"Convert this dataframe to an interactive table.\"\n",
              "              style=\"display:none;\">\n",
              "        \n",
              "  <svg xmlns=\"http://www.w3.org/2000/svg\" height=\"24px\"viewBox=\"0 0 24 24\"\n",
              "       width=\"24px\">\n",
              "    <path d=\"M0 0h24v24H0V0z\" fill=\"none\"/>\n",
              "    <path d=\"M18.56 5.44l.94 2.06.94-2.06 2.06-.94-2.06-.94-.94-2.06-.94 2.06-2.06.94zm-11 1L8.5 8.5l.94-2.06 2.06-.94-2.06-.94L8.5 2.5l-.94 2.06-2.06.94zm10 10l.94 2.06.94-2.06 2.06-.94-2.06-.94-.94-2.06-.94 2.06-2.06.94z\"/><path d=\"M17.41 7.96l-1.37-1.37c-.4-.4-.92-.59-1.43-.59-.52 0-1.04.2-1.43.59L10.3 9.45l-7.72 7.72c-.78.78-.78 2.05 0 2.83L4 21.41c.39.39.9.59 1.41.59.51 0 1.02-.2 1.41-.59l7.78-7.78 2.81-2.81c.8-.78.8-2.07 0-2.86zM5.41 20L4 18.59l7.72-7.72 1.47 1.35L5.41 20z\"/>\n",
              "  </svg>\n",
              "      </button>\n",
              "      \n",
              "  <style>\n",
              "    .colab-df-container {\n",
              "      display:flex;\n",
              "      flex-wrap:wrap;\n",
              "      gap: 12px;\n",
              "    }\n",
              "\n",
              "    .colab-df-convert {\n",
              "      background-color: #E8F0FE;\n",
              "      border: none;\n",
              "      border-radius: 50%;\n",
              "      cursor: pointer;\n",
              "      display: none;\n",
              "      fill: #1967D2;\n",
              "      height: 32px;\n",
              "      padding: 0 0 0 0;\n",
              "      width: 32px;\n",
              "    }\n",
              "\n",
              "    .colab-df-convert:hover {\n",
              "      background-color: #E2EBFA;\n",
              "      box-shadow: 0px 1px 2px rgba(60, 64, 67, 0.3), 0px 1px 3px 1px rgba(60, 64, 67, 0.15);\n",
              "      fill: #174EA6;\n",
              "    }\n",
              "\n",
              "    [theme=dark] .colab-df-convert {\n",
              "      background-color: #3B4455;\n",
              "      fill: #D2E3FC;\n",
              "    }\n",
              "\n",
              "    [theme=dark] .colab-df-convert:hover {\n",
              "      background-color: #434B5C;\n",
              "      box-shadow: 0px 1px 3px 1px rgba(0, 0, 0, 0.15);\n",
              "      filter: drop-shadow(0px 1px 2px rgba(0, 0, 0, 0.3));\n",
              "      fill: #FFFFFF;\n",
              "    }\n",
              "  </style>\n",
              "\n",
              "      <script>\n",
              "        const buttonEl =\n",
              "          document.querySelector('#df-6b0b6208-e6e9-40ee-831d-b220192e11e2 button.colab-df-convert');\n",
              "        buttonEl.style.display =\n",
              "          google.colab.kernel.accessAllowed ? 'block' : 'none';\n",
              "\n",
              "        async function convertToInteractive(key) {\n",
              "          const element = document.querySelector('#df-6b0b6208-e6e9-40ee-831d-b220192e11e2');\n",
              "          const dataTable =\n",
              "            await google.colab.kernel.invokeFunction('convertToInteractive',\n",
              "                                                     [key], {});\n",
              "          if (!dataTable) return;\n",
              "\n",
              "          const docLinkHtml = 'Like what you see? Visit the ' +\n",
              "            '<a target=\"_blank\" href=https://colab.research.google.com/notebooks/data_table.ipynb>data table notebook</a>'\n",
              "            + ' to learn more about interactive tables.';\n",
              "          element.innerHTML = '';\n",
              "          dataTable['output_type'] = 'display_data';\n",
              "          await google.colab.output.renderOutput(dataTable, element);\n",
              "          const docLink = document.createElement('div');\n",
              "          docLink.innerHTML = docLinkHtml;\n",
              "          element.appendChild(docLink);\n",
              "        }\n",
              "      </script>\n",
              "    </div>\n",
              "  </div>\n",
              "  "
            ],
            "text/plain": [
              "   id                            file_name           title             title_playlist tune_mode  tune_id section_name  section_id                                             chords\n",
              "0   0            dataset/jazz1350/26-2.xml            26-2            26-2 [jazz1350]     major        0            A           1     C Eb7 G# B7 E G7 Gm C7 F G#7 C# E7 Am D7 Dm G7\n",
              "1   1            dataset/jazz1350/26-2.xml            26-2            26-2 [jazz1350]     major        0            A           2          C Eb7 G# B7 E G7 Gm C7 F Eb7 G# B7 E G7 C\n",
              "2   2            dataset/jazz1350/26-2.xml            26-2            26-2 [jazz1350]     major        0            B           3                Gm C7 Bm E7 A C7 F Bbm Eb7 G# Dm G7\n",
              "3   3            dataset/jazz1350/26-2.xml            26-2            26-2 [jazz1350]     major        0            A           4          C Eb7 G# B7 E G7 Gm C7 F Eb7 G# B7 E G7 C\n",
              "4   4  dataset/jazz1350/500 Miles High.xml  500 Miles High  500 Miles High [jazz1350]     minor        1            A           1  Am Am Cm Cm Eb Eb Em7b5 A7 Dm Dm Bm7b5 Bm7b5 B..."
            ]
          },
          "metadata": {},
          "execution_count": 28
        }
      ]
    },
    {
      "cell_type": "markdown",
      "metadata": {
        "id": "OsPcEFbg8gu6"
      },
      "source": [
        "### Meta Data"
      ]
    },
    {
      "cell_type": "code",
      "metadata": {
        "colab": {
          "base_uri": "https://localhost:8080/",
          "height": 206
        },
        "id": "_62YlEVJXOCL",
        "outputId": "78d30263-240a-4ffc-a7e2-ddd869ebaf57"
      },
      "source": [
        "titles = df.loc[:, ['id', 'tune_id', 'section_id', 'section_name', 'title', 'title_playlist', 'tune_mode']]\n",
        "titles[:5]"
      ],
      "execution_count": 29,
      "outputs": [
        {
          "output_type": "execute_result",
          "data": {
            "text/html": [
              "\n",
              "  <div id=\"df-a452b2d5-3970-41b8-8481-0cca36e1fdd2\">\n",
              "    <div class=\"colab-df-container\">\n",
              "      <div>\n",
              "<style scoped>\n",
              "    .dataframe tbody tr th:only-of-type {\n",
              "        vertical-align: middle;\n",
              "    }\n",
              "\n",
              "    .dataframe tbody tr th {\n",
              "        vertical-align: top;\n",
              "    }\n",
              "\n",
              "    .dataframe thead th {\n",
              "        text-align: right;\n",
              "    }\n",
              "</style>\n",
              "<table border=\"1\" class=\"dataframe\">\n",
              "  <thead>\n",
              "    <tr style=\"text-align: right;\">\n",
              "      <th></th>\n",
              "      <th>id</th>\n",
              "      <th>tune_id</th>\n",
              "      <th>section_id</th>\n",
              "      <th>section_name</th>\n",
              "      <th>title</th>\n",
              "      <th>title_playlist</th>\n",
              "      <th>tune_mode</th>\n",
              "    </tr>\n",
              "  </thead>\n",
              "  <tbody>\n",
              "    <tr>\n",
              "      <th>0</th>\n",
              "      <td>0</td>\n",
              "      <td>0</td>\n",
              "      <td>1</td>\n",
              "      <td>A</td>\n",
              "      <td>26-2</td>\n",
              "      <td>26-2 [jazz1350]</td>\n",
              "      <td>major</td>\n",
              "    </tr>\n",
              "    <tr>\n",
              "      <th>1</th>\n",
              "      <td>1</td>\n",
              "      <td>0</td>\n",
              "      <td>2</td>\n",
              "      <td>A</td>\n",
              "      <td>26-2</td>\n",
              "      <td>26-2 [jazz1350]</td>\n",
              "      <td>major</td>\n",
              "    </tr>\n",
              "    <tr>\n",
              "      <th>2</th>\n",
              "      <td>2</td>\n",
              "      <td>0</td>\n",
              "      <td>3</td>\n",
              "      <td>B</td>\n",
              "      <td>26-2</td>\n",
              "      <td>26-2 [jazz1350]</td>\n",
              "      <td>major</td>\n",
              "    </tr>\n",
              "    <tr>\n",
              "      <th>3</th>\n",
              "      <td>3</td>\n",
              "      <td>0</td>\n",
              "      <td>4</td>\n",
              "      <td>A</td>\n",
              "      <td>26-2</td>\n",
              "      <td>26-2 [jazz1350]</td>\n",
              "      <td>major</td>\n",
              "    </tr>\n",
              "    <tr>\n",
              "      <th>4</th>\n",
              "      <td>4</td>\n",
              "      <td>1</td>\n",
              "      <td>1</td>\n",
              "      <td>A</td>\n",
              "      <td>500 Miles High</td>\n",
              "      <td>500 Miles High [jazz1350]</td>\n",
              "      <td>minor</td>\n",
              "    </tr>\n",
              "  </tbody>\n",
              "</table>\n",
              "</div>\n",
              "      <button class=\"colab-df-convert\" onclick=\"convertToInteractive('df-a452b2d5-3970-41b8-8481-0cca36e1fdd2')\"\n",
              "              title=\"Convert this dataframe to an interactive table.\"\n",
              "              style=\"display:none;\">\n",
              "        \n",
              "  <svg xmlns=\"http://www.w3.org/2000/svg\" height=\"24px\"viewBox=\"0 0 24 24\"\n",
              "       width=\"24px\">\n",
              "    <path d=\"M0 0h24v24H0V0z\" fill=\"none\"/>\n",
              "    <path d=\"M18.56 5.44l.94 2.06.94-2.06 2.06-.94-2.06-.94-.94-2.06-.94 2.06-2.06.94zm-11 1L8.5 8.5l.94-2.06 2.06-.94-2.06-.94L8.5 2.5l-.94 2.06-2.06.94zm10 10l.94 2.06.94-2.06 2.06-.94-2.06-.94-.94-2.06-.94 2.06-2.06.94z\"/><path d=\"M17.41 7.96l-1.37-1.37c-.4-.4-.92-.59-1.43-.59-.52 0-1.04.2-1.43.59L10.3 9.45l-7.72 7.72c-.78.78-.78 2.05 0 2.83L4 21.41c.39.39.9.59 1.41.59.51 0 1.02-.2 1.41-.59l7.78-7.78 2.81-2.81c.8-.78.8-2.07 0-2.86zM5.41 20L4 18.59l7.72-7.72 1.47 1.35L5.41 20z\"/>\n",
              "  </svg>\n",
              "      </button>\n",
              "      \n",
              "  <style>\n",
              "    .colab-df-container {\n",
              "      display:flex;\n",
              "      flex-wrap:wrap;\n",
              "      gap: 12px;\n",
              "    }\n",
              "\n",
              "    .colab-df-convert {\n",
              "      background-color: #E8F0FE;\n",
              "      border: none;\n",
              "      border-radius: 50%;\n",
              "      cursor: pointer;\n",
              "      display: none;\n",
              "      fill: #1967D2;\n",
              "      height: 32px;\n",
              "      padding: 0 0 0 0;\n",
              "      width: 32px;\n",
              "    }\n",
              "\n",
              "    .colab-df-convert:hover {\n",
              "      background-color: #E2EBFA;\n",
              "      box-shadow: 0px 1px 2px rgba(60, 64, 67, 0.3), 0px 1px 3px 1px rgba(60, 64, 67, 0.15);\n",
              "      fill: #174EA6;\n",
              "    }\n",
              "\n",
              "    [theme=dark] .colab-df-convert {\n",
              "      background-color: #3B4455;\n",
              "      fill: #D2E3FC;\n",
              "    }\n",
              "\n",
              "    [theme=dark] .colab-df-convert:hover {\n",
              "      background-color: #434B5C;\n",
              "      box-shadow: 0px 1px 3px 1px rgba(0, 0, 0, 0.15);\n",
              "      filter: drop-shadow(0px 1px 2px rgba(0, 0, 0, 0.3));\n",
              "      fill: #FFFFFF;\n",
              "    }\n",
              "  </style>\n",
              "\n",
              "      <script>\n",
              "        const buttonEl =\n",
              "          document.querySelector('#df-a452b2d5-3970-41b8-8481-0cca36e1fdd2 button.colab-df-convert');\n",
              "        buttonEl.style.display =\n",
              "          google.colab.kernel.accessAllowed ? 'block' : 'none';\n",
              "\n",
              "        async function convertToInteractive(key) {\n",
              "          const element = document.querySelector('#df-a452b2d5-3970-41b8-8481-0cca36e1fdd2');\n",
              "          const dataTable =\n",
              "            await google.colab.kernel.invokeFunction('convertToInteractive',\n",
              "                                                     [key], {});\n",
              "          if (!dataTable) return;\n",
              "\n",
              "          const docLinkHtml = 'Like what you see? Visit the ' +\n",
              "            '<a target=\"_blank\" href=https://colab.research.google.com/notebooks/data_table.ipynb>data table notebook</a>'\n",
              "            + ' to learn more about interactive tables.';\n",
              "          element.innerHTML = '';\n",
              "          dataTable['output_type'] = 'display_data';\n",
              "          await google.colab.output.renderOutput(dataTable, element);\n",
              "          const docLink = document.createElement('div');\n",
              "          docLink.innerHTML = docLinkHtml;\n",
              "          element.appendChild(docLink);\n",
              "        }\n",
              "      </script>\n",
              "    </div>\n",
              "  </div>\n",
              "  "
            ],
            "text/plain": [
              "   id  tune_id  section_id section_name           title             title_playlist tune_mode\n",
              "0   0        0           1            A            26-2            26-2 [jazz1350]     major\n",
              "1   1        0           2            A            26-2            26-2 [jazz1350]     major\n",
              "2   2        0           3            B            26-2            26-2 [jazz1350]     major\n",
              "3   3        0           4            A            26-2            26-2 [jazz1350]     major\n",
              "4   4        1           1            A  500 Miles High  500 Miles High [jazz1350]     minor"
            ]
          },
          "metadata": {},
          "execution_count": 29
        }
      ]
    },
    {
      "cell_type": "code",
      "metadata": {
        "id": "0vEOjvwt8jUu"
      },
      "source": [
        "titles_dict = titles.to_dict()\n",
        "\n",
        "sectionid_to_title = titles_dict['title_playlist']\n",
        "sectionid_to_titleid = titles_dict['tune_id']\n"
      ],
      "execution_count": 30,
      "outputs": []
    },
    {
      "cell_type": "code",
      "metadata": {
        "id": "Om7pbfnNGO_I"
      },
      "source": [
        "tunes = df.loc[:, ['tune_id', 'title_playlist']].drop_duplicates()\n",
        "tunes = tunes.set_index('tune_id').to_dict()\n",
        "titleid_to_title = tunes['title_playlist']"
      ],
      "execution_count": 31,
      "outputs": []
    },
    {
      "cell_type": "code",
      "metadata": {
        "colab": {
          "base_uri": "https://localhost:8080/"
        },
        "id": "MdUrEFKj7kVA",
        "outputId": "5af862f5-728a-4d1e-fd1c-b1c79f2217b8"
      },
      "source": [
        "len(titleid_to_title)"
      ],
      "execution_count": 32,
      "outputs": [
        {
          "output_type": "execute_result",
          "data": {
            "text/plain": [
              "1686"
            ]
          },
          "metadata": {},
          "execution_count": 32
        }
      ]
    },
    {
      "cell_type": "code",
      "metadata": {
        "id": "OvLyxrExxvew"
      },
      "source": [
        "title_to_titleid = {v: k for k, v in titleid_to_title.items()}\n"
      ],
      "execution_count": 33,
      "outputs": []
    },
    {
      "cell_type": "code",
      "metadata": {
        "id": "1H72Y3_d8uNu"
      },
      "source": [
        "titles_rows = titles.to_dict(orient='records')\n",
        "sectionid_to_section = []\n",
        "for i, row in enumerate(titles_rows):\n",
        "  name = f\"{row['title']}, section{row['section_id']} ({row['section_name']})\"\n",
        "  sectionid_to_section.append(name)\n",
        "  "
      ],
      "execution_count": 34,
      "outputs": []
    },
    {
      "cell_type": "code",
      "metadata": {
        "id": "1W7RfTQpaIEz"
      },
      "source": [
        "sectionid_to_sectionlabel = []\n",
        "for i, row in enumerate(titles_rows):\n",
        "  sectionid_to_sectionlabel.append(row['section_name'])\n",
        "  "
      ],
      "execution_count": 35,
      "outputs": []
    },
    {
      "cell_type": "code",
      "metadata": {
        "id": "HCeGUk818y8V"
      },
      "source": [
        "title_to_sectionid = {}\n",
        "\n",
        "for row in titles.iterrows():\n",
        "  title = row[1]['title_playlist']\n",
        "  if title not in title_to_sectionid:\n",
        "    title_to_sectionid[title] = [row[1]['id']]\n",
        "  else:\n",
        "    title_to_sectionid[title].append(row[1]['id'])"
      ],
      "execution_count": 36,
      "outputs": []
    },
    {
      "cell_type": "markdown",
      "metadata": {
        "id": "GWXGqImnoHdm"
      },
      "source": [
        "### Create Directories on Colab"
      ]
    },
    {
      "cell_type": "code",
      "metadata": {
        "id": "sDWIxDpIoJv1"
      },
      "source": [
        "!rm -R output\n",
        "!mkdir output"
      ],
      "execution_count": 37,
      "outputs": []
    },
    {
      "cell_type": "markdown",
      "metadata": {
        "id": "LvQ60s_owm82"
      },
      "source": [
        "## Initialization for wandb variables"
      ]
    },
    {
      "cell_type": "code",
      "metadata": {
        "id": "fw7FHHXfwagL"
      },
      "source": [
        "recommender_results_cols = ['reference', 'id', 'method', 'similar', 'score_div_max', 'score']\n",
        "recommender_results = pd.DataFrame(columns=recommender_results_cols)"
      ],
      "execution_count": 38,
      "outputs": []
    },
    {
      "cell_type": "code",
      "metadata": {
        "id": "PfvF20G1JZMa"
      },
      "source": [
        "lsi_config = {\n",
        "    'num_topics': 100 #22, # 100 gives a better value for the contrafacts test\n",
        "}"
      ],
      "execution_count": 39,
      "outputs": []
    },
    {
      "cell_type": "code",
      "metadata": {
        "id": "sxdJ97gdx70_"
      },
      "source": [
        "if use_wandb:\n",
        "  wandb.init(\n",
        "        # Set entity to specify your username or team name\n",
        "        # ex: entity=\"carey\",\n",
        "        # Set the project where this run will be logged\n",
        "        project=\"lsi_model\", \n",
        "        \n",
        "        # Track hyperparameters and run metadata\n",
        "        config={\n",
        "            \"input_data\": input_path,\n",
        "            \"ngrams_input\": ngrams_for_input,\n",
        "            \"comparison\": docu,\n",
        "            \"lsi\": lsi_config,\n",
        "            \"remove_repeated_chords\": remove_repetitions,\n",
        "            \"comment\": \"\"\n",
        "        }\n",
        "    )"
      ],
      "execution_count": 40,
      "outputs": []
    },
    {
      "cell_type": "code",
      "metadata": {
        "id": "xHOY4TKYVN-g"
      },
      "source": [
        "if use_wandb:\n",
        "  artifact = wandb.Artifact('input_data', type='dataset')\n",
        "  artifact.add_file('data.csv')\n",
        "  wandb.log_artifact(artifact)"
      ],
      "execution_count": 41,
      "outputs": []
    },
    {
      "cell_type": "markdown",
      "metadata": {
        "id": "wox-dMcz84Bt"
      },
      "source": [
        "## Helpers functions"
      ]
    },
    {
      "cell_type": "code",
      "metadata": {
        "id": "2964REdr80Gd"
      },
      "source": [
        "def ngrams(tokens, n=2, sep='-'):\n",
        "    return [sep.join(ngram) for ngram in zip(*[tokens[i:] for i in range(n)])]"
      ],
      "execution_count": 42,
      "outputs": []
    },
    {
      "cell_type": "code",
      "metadata": {
        "id": "W42rugQPNYVP"
      },
      "source": [
        "def raw_chords_to_df(tunes):\n",
        "  tunes_chords = [item for tune in tunes for item in tune]\n",
        "  counts = Counter(tunes_chords)\n",
        "  df = pd.DataFrame(counts.items(),\n",
        "                    columns=['chord', 'count']).sort_values(by='count', ascending=False)\n",
        "\n",
        "  return df"
      ],
      "execution_count": 43,
      "outputs": []
    },
    {
      "cell_type": "markdown",
      "metadata": {
        "id": "umfsNtAdF0jM"
      },
      "source": [
        "# Data Preparation"
      ]
    },
    {
      "cell_type": "code",
      "metadata": {
        "id": "FeRqVmphCS6m"
      },
      "source": [
        "def remove_chord_repetitions(chords):\n",
        "  previous = ''\n",
        "  chords_norep = []\n",
        "  for c in chords:\n",
        "    if c != previous:\n",
        "      chords_norep.append(c)\n",
        "      previous = c\n",
        "  return chords_norep\n",
        "  "
      ],
      "execution_count": 44,
      "outputs": []
    },
    {
      "cell_type": "code",
      "metadata": {
        "id": "dCLwnqoVGcMw"
      },
      "source": [
        "lines = df.loc[:, 'chords'].tolist()\n",
        "data = [line.split(' ') for line in lines]"
      ],
      "execution_count": 45,
      "outputs": []
    },
    {
      "cell_type": "code",
      "source": [
        "test_tunes[:5]"
      ],
      "metadata": {
        "colab": {
          "base_uri": "https://localhost:8080/"
        },
        "id": "AAe9lyH2FtDU",
        "outputId": "2cc221fb-fe99-4c92-8b60-ef61f36ed8d1"
      },
      "execution_count": 46,
      "outputs": [
        {
          "output_type": "execute_result",
          "data": {
            "text/plain": [
              "['26-2 [jazz1350]',\n",
              " '52nd Street Theme [jazz1350]',\n",
              " 'A Beautiful Friendship [jazz1350]',\n",
              " 'A Blossom Fell [jazz1350]',\n",
              " 'A Certain Smile [jazz1350]']"
            ]
          },
          "metadata": {},
          "execution_count": 46
        }
      ]
    },
    {
      "cell_type": "code",
      "source": [
        "test_tune_sectionid = []\n",
        "for title in test_tunes:\n",
        "  test_tune_sectionid.extend(title_to_sectionid[title])\n",
        "\n",
        "test_tune_sectionid[:10]"
      ],
      "metadata": {
        "colab": {
          "base_uri": "https://localhost:8080/"
        },
        "id": "Nuy2POFOFwBZ",
        "outputId": "6ac990c3-ab8d-4b43-e89c-fff3f16ec799"
      },
      "execution_count": 47,
      "outputs": [
        {
          "output_type": "execute_result",
          "data": {
            "text/plain": [
              "[0, 1, 2, 3, 7, 8, 9, 10, 19, 20]"
            ]
          },
          "metadata": {},
          "execution_count": 47
        }
      ]
    },
    {
      "cell_type": "code",
      "source": [
        "len(data)"
      ],
      "metadata": {
        "colab": {
          "base_uri": "https://localhost:8080/"
        },
        "id": "c1t9d9F3F8Gz",
        "outputId": "0ea9d10c-8e83-42e9-8da5-99d615b594a4"
      },
      "execution_count": 48,
      "outputs": [
        {
          "output_type": "execute_result",
          "data": {
            "text/plain": [
              "5536"
            ]
          },
          "metadata": {},
          "execution_count": 48
        }
      ]
    },
    {
      "cell_type": "code",
      "metadata": {
        "colab": {
          "base_uri": "https://localhost:8080/"
        },
        "id": "g7SmApW9F3K6",
        "outputId": "1ce4163a-0d9b-44fe-ff14-3948229287ff"
      },
      "source": [
        "processed_corpus = []\n",
        "test_corpus = []\n",
        "\n",
        "#for line in data:\n",
        "for id, line in enumerate(data):  \n",
        "  tune_n = []\n",
        "  if remove_repetitions:\n",
        "    line = remove_chord_repetitions(line)\n",
        "  for n in ngrams_for_input:\n",
        "    tune_n.extend(ngrams(line, n=n))\n",
        "  processed_corpus.append(tune_n)\n",
        "  if id not in test_tune_sectionid:\n",
        "    test_corpus.append(tune_n)\n",
        "\n",
        "for line in processed_corpus[:10]:\n",
        "  print(line)"
      ],
      "execution_count": 49,
      "outputs": [
        {
          "output_type": "stream",
          "name": "stdout",
          "text": [
            "['C', 'Eb7', 'G#', 'B7', 'E', 'G7', 'Gm', 'C7', 'F', 'G#7', 'C#', 'E7', 'Am', 'D7', 'Dm', 'G7', 'C-Eb7', 'Eb7-G#', 'G#-B7', 'B7-E', 'E-G7', 'G7-Gm', 'Gm-C7', 'C7-F', 'F-G#7', 'G#7-C#', 'C#-E7', 'E7-Am', 'Am-D7', 'D7-Dm', 'Dm-G7']\n",
            "['C', 'Eb7', 'G#', 'B7', 'E', 'G7', 'Gm', 'C7', 'F', 'Eb7', 'G#', 'B7', 'E', 'G7', 'C', 'C-Eb7', 'Eb7-G#', 'G#-B7', 'B7-E', 'E-G7', 'G7-Gm', 'Gm-C7', 'C7-F', 'F-Eb7', 'Eb7-G#', 'G#-B7', 'B7-E', 'E-G7', 'G7-C']\n",
            "['Gm', 'C7', 'Bm', 'E7', 'A', 'C7', 'F', 'Bbm', 'Eb7', 'G#', 'Dm', 'G7', 'Gm-C7', 'C7-Bm', 'Bm-E7', 'E7-A', 'A-C7', 'C7-F', 'F-Bbm', 'Bbm-Eb7', 'Eb7-G#', 'G#-Dm', 'Dm-G7']\n",
            "['C', 'Eb7', 'G#', 'B7', 'E', 'G7', 'Gm', 'C7', 'F', 'Eb7', 'G#', 'B7', 'E', 'G7', 'C', 'C-Eb7', 'Eb7-G#', 'G#-B7', 'B7-E', 'E-G7', 'G7-Gm', 'Gm-C7', 'C7-F', 'F-Eb7', 'Eb7-G#', 'G#-B7', 'B7-E', 'E-G7', 'G7-C']\n",
            "['Am', 'Am', 'Cm', 'Cm', 'Eb', 'Eb', 'Em7b5', 'A7', 'Dm', 'Dm', 'Bm7b5', 'Bm7b5', 'Bbm', 'Bbm', 'Fm', 'Fm', 'E7', 'E7', 'Fm', 'Fm', 'C#', 'C#', 'Fm', 'Fm', 'C#', 'C#', 'Am-Am', 'Am-Cm', 'Cm-Cm', 'Cm-Eb', 'Eb-Eb', 'Eb-Em7b5', 'Em7b5-A7', 'A7-Dm', 'Dm-Dm', 'Dm-Bm7b5', 'Bm7b5-Bm7b5', 'Bm7b5-Bbm', 'Bbm-Bbm', 'Bbm-Fm', 'Fm-Fm', 'Fm-E7', 'E7-E7', 'E7-Fm', 'Fm-Fm', 'Fm-C#', 'C#-C#', 'C#-Fm', 'Fm-Fm', 'Fm-C#', 'C#-C#']\n",
            "['Am', 'C#', 'Bm7b5', 'E7', 'Am', 'C#', 'Bm7b5', 'E7', 'Cm', 'F7', 'Bb', 'G#m', 'C#7', 'F#m7b5', 'B7', 'E', 'E', 'E7', 'Am-C#', 'C#-Bm7b5', 'Bm7b5-E7', 'E7-Am', 'Am-C#', 'C#-Bm7b5', 'Bm7b5-E7', 'E7-Cm', 'Cm-F7', 'F7-Bb', 'Bb-G#m', 'G#m-C#7', 'C#7-F#m7b5', 'F#m7b5-B7', 'B7-E', 'E-E', 'E-E7']\n",
            "['Am', 'C#', 'Bm7b5', 'E7', 'Am', 'C#', 'Bm7b5', 'E7', 'Cm', 'F7', 'Bb', 'G#m', 'C#7', 'F#m7b5', 'B7', 'Em', 'Em', 'Am-C#', 'C#-Bm7b5', 'Bm7b5-E7', 'E7-Am', 'Am-C#', 'C#-Bm7b5', 'Bm7b5-E7', 'E7-Cm', 'Cm-F7', 'F7-Bb', 'Bb-G#m', 'G#m-C#7', 'C#7-F#m7b5', 'F#m7b5-B7', 'B7-Em', 'Em-Em']\n",
            "['C', 'Am', 'Dm', 'G7', 'C', 'Am', 'Dm', 'G7', 'C', 'Am', 'Dm', 'G7', 'C', 'G7', 'C', 'C-Am', 'Am-Dm', 'Dm-G7', 'G7-C', 'C-Am', 'Am-Dm', 'Dm-G7', 'G7-C', 'C-Am', 'Am-Dm', 'Dm-G7', 'G7-C', 'C-G7', 'G7-C']\n",
            "['C', 'Am', 'Dm', 'G7', 'C', 'Am', 'Dm', 'G7', 'C', 'Am', 'Dm', 'G7', 'C', 'G7', 'C', 'C-Am', 'Am-Dm', 'Dm-G7', 'G7-C', 'C-Am', 'Am-Dm', 'Dm-G7', 'G7-C', 'C-Am', 'Am-Dm', 'Dm-G7', 'G7-C', 'C-G7', 'G7-C']\n",
            "['C7', 'C7', 'F', 'F', 'D7', 'D7', 'G7', 'G7', 'C7-C7', 'C7-F', 'F-F', 'F-D7', 'D7-D7', 'D7-G7', 'G7-G7']\n"
          ]
        }
      ]
    },
    {
      "cell_type": "code",
      "metadata": {
        "colab": {
          "base_uri": "https://localhost:8080/"
        },
        "id": "iERQjgxNsV6Q",
        "outputId": "fa506a1f-a228-44c5-d6de-f90f629c90ad"
      },
      "source": [
        "len(processed_corpus)"
      ],
      "execution_count": 50,
      "outputs": [
        {
          "output_type": "execute_result",
          "data": {
            "text/plain": [
              "5536"
            ]
          },
          "metadata": {},
          "execution_count": 50
        }
      ]
    },
    {
      "cell_type": "markdown",
      "metadata": {
        "id": "Sri0K2DhNagp"
      },
      "source": [
        "#### Corpus Overview"
      ]
    },
    {
      "cell_type": "code",
      "metadata": {
        "colab": {
          "base_uri": "https://localhost:8080/"
        },
        "id": "X2ZqA7IF4ufg",
        "outputId": "d008e118-c147-4bf9-9a84-ced35c65c265"
      },
      "source": [
        "tokens = [item for l in processed_corpus for item in l]\n",
        "total_tokens = len(tokens)\n",
        "vocab_size = len(set(tokens))\n",
        "vocab_prop = 100*vocab_size/total_tokens\n",
        "\n",
        "print(f\"Total Number of tokens: {total_tokens}\")\n",
        "print(f\"Size of vocabulary: {vocab_size}\")\n",
        "print(f\"Proportion of vocabulary in corpus: {vocab_prop:.02f}%\")"
      ],
      "execution_count": 51,
      "outputs": [
        {
          "output_type": "stream",
          "name": "stdout",
          "text": [
            "Total Number of tokens: 147906\n",
            "Size of vocabulary: 2112\n",
            "Proportion of vocabulary in corpus: 1.43%\n"
          ]
        }
      ]
    },
    {
      "cell_type": "code",
      "metadata": {
        "colab": {
          "base_uri": "https://localhost:8080/",
          "height": 363
        },
        "id": "rULq3jYVNh_x",
        "outputId": "f3750f73-0dcf-49c9-c826-55a9fa66a84a"
      },
      "source": [
        "df_chords = raw_chords_to_df(processed_corpus)\n",
        "df_chords.head(10)"
      ],
      "execution_count": 52,
      "outputs": [
        {
          "output_type": "execute_result",
          "data": {
            "text/html": [
              "\n",
              "  <div id=\"df-1b4fe970-8fc5-43d3-9498-2ae896b19fd8\">\n",
              "    <div class=\"colab-df-container\">\n",
              "      <div>\n",
              "<style scoped>\n",
              "    .dataframe tbody tr th:only-of-type {\n",
              "        vertical-align: middle;\n",
              "    }\n",
              "\n",
              "    .dataframe tbody tr th {\n",
              "        vertical-align: top;\n",
              "    }\n",
              "\n",
              "    .dataframe thead th {\n",
              "        text-align: right;\n",
              "    }\n",
              "</style>\n",
              "<table border=\"1\" class=\"dataframe\">\n",
              "  <thead>\n",
              "    <tr style=\"text-align: right;\">\n",
              "      <th></th>\n",
              "      <th>chord</th>\n",
              "      <th>count</th>\n",
              "    </tr>\n",
              "  </thead>\n",
              "  <tbody>\n",
              "    <tr>\n",
              "      <th>0</th>\n",
              "      <td>C</td>\n",
              "      <td>12890</td>\n",
              "    </tr>\n",
              "    <tr>\n",
              "      <th>5</th>\n",
              "      <td>G7</td>\n",
              "      <td>9688</td>\n",
              "    </tr>\n",
              "    <tr>\n",
              "      <th>14</th>\n",
              "      <td>Dm</td>\n",
              "      <td>7498</td>\n",
              "    </tr>\n",
              "    <tr>\n",
              "      <th>12</th>\n",
              "      <td>Am</td>\n",
              "      <td>5443</td>\n",
              "    </tr>\n",
              "    <tr>\n",
              "      <th>29</th>\n",
              "      <td>Dm-G7</td>\n",
              "      <td>4888</td>\n",
              "    </tr>\n",
              "    <tr>\n",
              "      <th>31</th>\n",
              "      <td>G7-C</td>\n",
              "      <td>4374</td>\n",
              "    </tr>\n",
              "    <tr>\n",
              "      <th>45</th>\n",
              "      <td>A7</td>\n",
              "      <td>4128</td>\n",
              "    </tr>\n",
              "    <tr>\n",
              "      <th>13</th>\n",
              "      <td>D7</td>\n",
              "      <td>3578</td>\n",
              "    </tr>\n",
              "    <tr>\n",
              "      <th>8</th>\n",
              "      <td>F</td>\n",
              "      <td>3419</td>\n",
              "    </tr>\n",
              "    <tr>\n",
              "      <th>7</th>\n",
              "      <td>C7</td>\n",
              "      <td>3111</td>\n",
              "    </tr>\n",
              "  </tbody>\n",
              "</table>\n",
              "</div>\n",
              "      <button class=\"colab-df-convert\" onclick=\"convertToInteractive('df-1b4fe970-8fc5-43d3-9498-2ae896b19fd8')\"\n",
              "              title=\"Convert this dataframe to an interactive table.\"\n",
              "              style=\"display:none;\">\n",
              "        \n",
              "  <svg xmlns=\"http://www.w3.org/2000/svg\" height=\"24px\"viewBox=\"0 0 24 24\"\n",
              "       width=\"24px\">\n",
              "    <path d=\"M0 0h24v24H0V0z\" fill=\"none\"/>\n",
              "    <path d=\"M18.56 5.44l.94 2.06.94-2.06 2.06-.94-2.06-.94-.94-2.06-.94 2.06-2.06.94zm-11 1L8.5 8.5l.94-2.06 2.06-.94-2.06-.94L8.5 2.5l-.94 2.06-2.06.94zm10 10l.94 2.06.94-2.06 2.06-.94-2.06-.94-.94-2.06-.94 2.06-2.06.94z\"/><path d=\"M17.41 7.96l-1.37-1.37c-.4-.4-.92-.59-1.43-.59-.52 0-1.04.2-1.43.59L10.3 9.45l-7.72 7.72c-.78.78-.78 2.05 0 2.83L4 21.41c.39.39.9.59 1.41.59.51 0 1.02-.2 1.41-.59l7.78-7.78 2.81-2.81c.8-.78.8-2.07 0-2.86zM5.41 20L4 18.59l7.72-7.72 1.47 1.35L5.41 20z\"/>\n",
              "  </svg>\n",
              "      </button>\n",
              "      \n",
              "  <style>\n",
              "    .colab-df-container {\n",
              "      display:flex;\n",
              "      flex-wrap:wrap;\n",
              "      gap: 12px;\n",
              "    }\n",
              "\n",
              "    .colab-df-convert {\n",
              "      background-color: #E8F0FE;\n",
              "      border: none;\n",
              "      border-radius: 50%;\n",
              "      cursor: pointer;\n",
              "      display: none;\n",
              "      fill: #1967D2;\n",
              "      height: 32px;\n",
              "      padding: 0 0 0 0;\n",
              "      width: 32px;\n",
              "    }\n",
              "\n",
              "    .colab-df-convert:hover {\n",
              "      background-color: #E2EBFA;\n",
              "      box-shadow: 0px 1px 2px rgba(60, 64, 67, 0.3), 0px 1px 3px 1px rgba(60, 64, 67, 0.15);\n",
              "      fill: #174EA6;\n",
              "    }\n",
              "\n",
              "    [theme=dark] .colab-df-convert {\n",
              "      background-color: #3B4455;\n",
              "      fill: #D2E3FC;\n",
              "    }\n",
              "\n",
              "    [theme=dark] .colab-df-convert:hover {\n",
              "      background-color: #434B5C;\n",
              "      box-shadow: 0px 1px 3px 1px rgba(0, 0, 0, 0.15);\n",
              "      filter: drop-shadow(0px 1px 2px rgba(0, 0, 0, 0.3));\n",
              "      fill: #FFFFFF;\n",
              "    }\n",
              "  </style>\n",
              "\n",
              "      <script>\n",
              "        const buttonEl =\n",
              "          document.querySelector('#df-1b4fe970-8fc5-43d3-9498-2ae896b19fd8 button.colab-df-convert');\n",
              "        buttonEl.style.display =\n",
              "          google.colab.kernel.accessAllowed ? 'block' : 'none';\n",
              "\n",
              "        async function convertToInteractive(key) {\n",
              "          const element = document.querySelector('#df-1b4fe970-8fc5-43d3-9498-2ae896b19fd8');\n",
              "          const dataTable =\n",
              "            await google.colab.kernel.invokeFunction('convertToInteractive',\n",
              "                                                     [key], {});\n",
              "          if (!dataTable) return;\n",
              "\n",
              "          const docLinkHtml = 'Like what you see? Visit the ' +\n",
              "            '<a target=\"_blank\" href=https://colab.research.google.com/notebooks/data_table.ipynb>data table notebook</a>'\n",
              "            + ' to learn more about interactive tables.';\n",
              "          element.innerHTML = '';\n",
              "          dataTable['output_type'] = 'display_data';\n",
              "          await google.colab.output.renderOutput(dataTable, element);\n",
              "          const docLink = document.createElement('div');\n",
              "          docLink.innerHTML = docLinkHtml;\n",
              "          element.appendChild(docLink);\n",
              "        }\n",
              "      </script>\n",
              "    </div>\n",
              "  </div>\n",
              "  "
            ],
            "text/plain": [
              "    chord  count\n",
              "0       C  12890\n",
              "5      G7   9688\n",
              "14     Dm   7498\n",
              "12     Am   5443\n",
              "29  Dm-G7   4888\n",
              "31   G7-C   4374\n",
              "45     A7   4128\n",
              "13     D7   3578\n",
              "8       F   3419\n",
              "7      C7   3111"
            ]
          },
          "metadata": {},
          "execution_count": 52
        }
      ]
    },
    {
      "cell_type": "code",
      "metadata": {
        "colab": {
          "base_uri": "https://localhost:8080/",
          "height": 560
        },
        "id": "G9fknTouNmKm",
        "outputId": "e4d4802b-38c0-4fd4-d9a9-2908d6690218"
      },
      "source": [
        "df_chords = pd.DataFrame.from_dict(df_chords)\n",
        "df_chords.sort_values(by=['count'], ascending=False, inplace=True)\n",
        "df_chords_top = df_chords.query('count > 100')\n",
        "\n",
        "fig = px.bar(df_chords_top, x='chord', y='count', log_y=True)\n",
        "fig.update_layout(barmode='stack', xaxis={'categoryorder':'total descending'})\n",
        "fig.show()"
      ],
      "execution_count": 53,
      "outputs": [
        {
          "output_type": "stream",
          "name": "stderr",
          "text": [
            "2021-12-27 21:29:46,198 : INFO : NumExpr defaulting to 2 threads.\n"
          ]
        },
        {
          "output_type": "display_data",
          "data": {
            "text/html": [
              "<html>\n",
              "<head><meta charset=\"utf-8\" /></head>\n",
              "<body>\n",
              "    <div>\n",
              "            <script src=\"https://cdnjs.cloudflare.com/ajax/libs/mathjax/2.7.5/MathJax.js?config=TeX-AMS-MML_SVG\"></script><script type=\"text/javascript\">if (window.MathJax) {MathJax.Hub.Config({SVG: {font: \"STIX-Web\"}});}</script>\n",
              "                <script type=\"text/javascript\">window.PlotlyConfig = {MathJaxConfig: 'local'};</script>\n",
              "        <script src=\"https://cdn.plot.ly/plotly-latest.min.js\"></script>    \n",
              "            <div id=\"5c3deb80-d7cc-4c4d-a053-87fb693832ad\" class=\"plotly-graph-div\" style=\"height:525px; width:100%;\"></div>\n",
              "            <script type=\"text/javascript\">\n",
              "                \n",
              "                    window.PLOTLYENV=window.PLOTLYENV || {};\n",
              "                    \n",
              "                if (document.getElementById(\"5c3deb80-d7cc-4c4d-a053-87fb693832ad\")) {\n",
              "                    Plotly.newPlot(\n",
              "                        '5c3deb80-d7cc-4c4d-a053-87fb693832ad',\n",
              "                        [{\"alignmentgroup\": \"True\", \"hoverlabel\": {\"namelength\": 0}, \"hovertemplate\": \"chord=%{x}<br>count=%{y}\", \"legendgroup\": \"\", \"marker\": {\"color\": \"#636efa\"}, \"name\": \"\", \"offsetgroup\": \"\", \"orientation\": \"v\", \"showlegend\": false, \"textposition\": \"auto\", \"type\": \"bar\", \"x\": [\"C\", \"G7\", \"Dm\", \"Am\", \"Dm-G7\", \"G7-C\", \"A7\", \"D7\", \"F\", \"C7\", \"C-C\", \"E7\", \"Em\", \"A7-Dm\", \"Bb7\", \"F7\", \"Fm\", \"E7-Am\", \"B7\", \"Am-Am\", \"D7-G7\", \"Gm\", \"Em-A7\", \"C7-F\", \"G7-G7\", \"Am-D7\", \"A7-D7\", \"Bm7b5\", \"G#7\", \"Am-Dm\", \"Gm-C7\", \"C-G7\", \"C-A7\", \"C-Dm\", \"Bm7b5-E7\", \"C-Am\", \"G\", \"D7-D7\", \"C-C7\", \"Ebdim\", \"D7-Dm\", \"F-F\", \"Cm\", \"Dm-Dm\", \"Eb7\", \"F#m7b5\", \"C-F\", \"G7sus4\", \"C7-C7\", \"Bm\", \"C#7\", \"G#\", \"Em7b5\", \"Bb\", \"F-C\", \"F#7\", \"Fm-C\", \"Fm-Bb7\", \"F#m\", \"F-Fm\", \"E\", \"Em7b5-A7\", \"G7-Dm\", \"G7-Em\", \"C-F7\", \"Ebdim-Dm\", \"Eb\", \"F#dim\", \"C-E7\", \"C#dim\", \"Ebm\", \"E7-A7\", \"A7-A7\", \"C#\", \"Dm7b5\", \"G#7-G7\", \"F#m7b5-B7\", \"A\", \"C-Gm\", \"B7-Em\", \"G7-C7\", \"Bbm\", \"E7-E7\", \"D\", \"Em-Am\", \"Bb7-C\", \"C-C#dim\", \"C#dim-Dm\", \"C-D7\", \"C7-F7\", \"Bb7-A7\", \"F#m-B7\", \"F-Bb7\", \"F-F#dim\", \"C-Ebdim\", \"Am-E7\", \"F#dim-C\", \"C#m\", \"Dm-Em\", \"F7-E7\", \"C-Em\", \"Dm7b5-G7\", \"Am-Bm7b5\", \"Bm-E7\", \"F7-F7\", \"Bb7-Em\", \"F7-Em\", \"Ebm-G#7\", \"Am-F#m7b5\", \"B7-E7\", \"Dm-A7\", \"Cdim\", \"C-B7\", \"C-Bm7b5\", \"G7sus4-C\", \"Cm-F7\", \"F-Em\", \"G-C\", \"F7-C\", \"B7-E\", \"Em-Ebdim\", \"Dm-Fm\", \"G7-Gm\", \"Dm-C\", \"Bb7-Eb\", \"G#7-Dm\", \"Eb7-G#\", \"D7-G\", \"B\", \"Bbm-Eb7\", \"G#m\", \"Bb7-Am\", \"C7sus4\", \"C-Fm\", \"Fm-Fm\", \"F-G7\", \"D7-Am\", \"F#\", \"Dm-G7sus4\", \"Dm-Ebdim\", \"Fm-Em\", \"C#7-C\", \"C-Bb7\", \"Cm-Cm\", \"B7-Bb7\", \"C-G\", \"Em-Em\", \"Em-F\", \"G7-Cm\", \"F-Dm\", \"G7sus4-G7\", \"Dm-E7\", \"F-E7\", \"Dm-Am\", \"E7-F\", \"F7-C7\", \"Em-Dm\", \"Dm-Bm7b5\", \"C-G7sus4\", \"Am-F7\", \"Eb7-Dm\", \"B7-B7\", \"C-F#m7b5\", \"F7-Bb7\"], \"xaxis\": \"x\", \"y\": [12890, 9688, 7498, 5443, 4888, 4374, 4128, 3578, 3419, 3111, 3026, 2976, 2555, 1964, 1605, 1602, 1517, 1394, 1340, 1301, 1293, 1225, 1213, 1201, 1066, 1004, 944, 911, 902, 886, 852, 850, 831, 831, 816, 791, 732, 670, 659, 634, 616, 601, 588, 565, 558, 547, 525, 510, 506, 504, 493, 482, 468, 465, 461, 453, 448, 442, 440, 437, 436, 427, 416, 405, 399, 388, 375, 374, 356, 353, 347, 347, 345, 328, 312, 311, 310, 310, 305, 301, 296, 293, 292, 288, 288, 278, 273, 269, 267, 266, 265, 261, 259, 257, 255, 255, 249, 237, 236, 235, 233, 232, 226, 224, 214, 207, 206, 198, 195, 187, 185, 184, 180, 180, 177, 174, 171, 166, 166, 164, 163, 159, 156, 155, 153, 153, 152, 150, 148, 148, 147, 147, 146, 141, 139, 139, 138, 137, 137, 136, 135, 132, 132, 124, 122, 119, 117, 115, 114, 113, 113, 112, 112, 111, 110, 108, 107, 107, 105, 103, 103, 102, 101, 101], \"yaxis\": \"y\"}],\n",
              "                        {\"barmode\": \"stack\", \"legend\": {\"tracegroupgap\": 0}, \"margin\": {\"t\": 60}, \"template\": {\"data\": {\"bar\": [{\"error_x\": {\"color\": \"#2a3f5f\"}, \"error_y\": {\"color\": \"#2a3f5f\"}, \"marker\": {\"line\": {\"color\": \"#E5ECF6\", \"width\": 0.5}}, \"type\": \"bar\"}], \"barpolar\": [{\"marker\": {\"line\": {\"color\": \"#E5ECF6\", \"width\": 0.5}}, \"type\": \"barpolar\"}], \"carpet\": [{\"aaxis\": {\"endlinecolor\": \"#2a3f5f\", \"gridcolor\": \"white\", \"linecolor\": \"white\", \"minorgridcolor\": \"white\", \"startlinecolor\": \"#2a3f5f\"}, \"baxis\": {\"endlinecolor\": \"#2a3f5f\", \"gridcolor\": \"white\", \"linecolor\": \"white\", \"minorgridcolor\": \"white\", \"startlinecolor\": \"#2a3f5f\"}, \"type\": \"carpet\"}], \"choropleth\": [{\"colorbar\": {\"outlinewidth\": 0, \"ticks\": \"\"}, \"type\": \"choropleth\"}], \"contour\": [{\"colorbar\": {\"outlinewidth\": 0, \"ticks\": \"\"}, \"colorscale\": [[0.0, \"#0d0887\"], [0.1111111111111111, \"#46039f\"], [0.2222222222222222, \"#7201a8\"], [0.3333333333333333, \"#9c179e\"], [0.4444444444444444, \"#bd3786\"], [0.5555555555555556, \"#d8576b\"], [0.6666666666666666, \"#ed7953\"], [0.7777777777777778, \"#fb9f3a\"], [0.8888888888888888, \"#fdca26\"], [1.0, \"#f0f921\"]], \"type\": \"contour\"}], \"contourcarpet\": [{\"colorbar\": {\"outlinewidth\": 0, \"ticks\": \"\"}, \"type\": \"contourcarpet\"}], \"heatmap\": [{\"colorbar\": {\"outlinewidth\": 0, \"ticks\": \"\"}, \"colorscale\": [[0.0, \"#0d0887\"], [0.1111111111111111, \"#46039f\"], [0.2222222222222222, \"#7201a8\"], [0.3333333333333333, \"#9c179e\"], [0.4444444444444444, \"#bd3786\"], [0.5555555555555556, \"#d8576b\"], [0.6666666666666666, \"#ed7953\"], [0.7777777777777778, \"#fb9f3a\"], [0.8888888888888888, \"#fdca26\"], [1.0, \"#f0f921\"]], \"type\": \"heatmap\"}], \"heatmapgl\": [{\"colorbar\": {\"outlinewidth\": 0, \"ticks\": \"\"}, \"colorscale\": [[0.0, \"#0d0887\"], [0.1111111111111111, \"#46039f\"], [0.2222222222222222, \"#7201a8\"], [0.3333333333333333, \"#9c179e\"], [0.4444444444444444, \"#bd3786\"], [0.5555555555555556, \"#d8576b\"], [0.6666666666666666, \"#ed7953\"], [0.7777777777777778, \"#fb9f3a\"], [0.8888888888888888, \"#fdca26\"], [1.0, \"#f0f921\"]], \"type\": \"heatmapgl\"}], \"histogram\": [{\"marker\": {\"colorbar\": {\"outlinewidth\": 0, \"ticks\": \"\"}}, \"type\": \"histogram\"}], \"histogram2d\": [{\"colorbar\": {\"outlinewidth\": 0, \"ticks\": \"\"}, \"colorscale\": [[0.0, \"#0d0887\"], [0.1111111111111111, \"#46039f\"], [0.2222222222222222, \"#7201a8\"], [0.3333333333333333, \"#9c179e\"], [0.4444444444444444, \"#bd3786\"], [0.5555555555555556, \"#d8576b\"], [0.6666666666666666, \"#ed7953\"], [0.7777777777777778, \"#fb9f3a\"], [0.8888888888888888, \"#fdca26\"], [1.0, \"#f0f921\"]], \"type\": \"histogram2d\"}], \"histogram2dcontour\": [{\"colorbar\": {\"outlinewidth\": 0, \"ticks\": \"\"}, \"colorscale\": [[0.0, \"#0d0887\"], [0.1111111111111111, \"#46039f\"], [0.2222222222222222, \"#7201a8\"], [0.3333333333333333, \"#9c179e\"], [0.4444444444444444, \"#bd3786\"], [0.5555555555555556, \"#d8576b\"], [0.6666666666666666, \"#ed7953\"], [0.7777777777777778, \"#fb9f3a\"], [0.8888888888888888, \"#fdca26\"], [1.0, \"#f0f921\"]], \"type\": \"histogram2dcontour\"}], \"mesh3d\": [{\"colorbar\": {\"outlinewidth\": 0, \"ticks\": \"\"}, \"type\": \"mesh3d\"}], \"parcoords\": [{\"line\": {\"colorbar\": {\"outlinewidth\": 0, \"ticks\": \"\"}}, \"type\": \"parcoords\"}], \"pie\": [{\"automargin\": true, \"type\": \"pie\"}], \"scatter\": [{\"marker\": {\"colorbar\": {\"outlinewidth\": 0, \"ticks\": \"\"}}, \"type\": \"scatter\"}], \"scatter3d\": [{\"line\": {\"colorbar\": {\"outlinewidth\": 0, \"ticks\": \"\"}}, \"marker\": {\"colorbar\": {\"outlinewidth\": 0, \"ticks\": \"\"}}, \"type\": \"scatter3d\"}], \"scattercarpet\": [{\"marker\": {\"colorbar\": {\"outlinewidth\": 0, \"ticks\": \"\"}}, \"type\": \"scattercarpet\"}], \"scattergeo\": [{\"marker\": {\"colorbar\": {\"outlinewidth\": 0, \"ticks\": \"\"}}, \"type\": \"scattergeo\"}], \"scattergl\": [{\"marker\": {\"colorbar\": {\"outlinewidth\": 0, \"ticks\": \"\"}}, \"type\": \"scattergl\"}], \"scattermapbox\": [{\"marker\": {\"colorbar\": {\"outlinewidth\": 0, \"ticks\": \"\"}}, \"type\": \"scattermapbox\"}], \"scatterpolar\": [{\"marker\": {\"colorbar\": {\"outlinewidth\": 0, \"ticks\": \"\"}}, \"type\": \"scatterpolar\"}], \"scatterpolargl\": [{\"marker\": {\"colorbar\": {\"outlinewidth\": 0, \"ticks\": \"\"}}, \"type\": \"scatterpolargl\"}], \"scatterternary\": [{\"marker\": {\"colorbar\": {\"outlinewidth\": 0, \"ticks\": \"\"}}, \"type\": \"scatterternary\"}], \"surface\": [{\"colorbar\": {\"outlinewidth\": 0, \"ticks\": \"\"}, \"colorscale\": [[0.0, \"#0d0887\"], [0.1111111111111111, \"#46039f\"], [0.2222222222222222, \"#7201a8\"], [0.3333333333333333, \"#9c179e\"], [0.4444444444444444, \"#bd3786\"], [0.5555555555555556, \"#d8576b\"], [0.6666666666666666, \"#ed7953\"], [0.7777777777777778, \"#fb9f3a\"], [0.8888888888888888, \"#fdca26\"], [1.0, \"#f0f921\"]], \"type\": \"surface\"}], \"table\": [{\"cells\": {\"fill\": {\"color\": \"#EBF0F8\"}, \"line\": {\"color\": \"white\"}}, \"header\": {\"fill\": {\"color\": \"#C8D4E3\"}, \"line\": {\"color\": \"white\"}}, \"type\": \"table\"}]}, \"layout\": {\"annotationdefaults\": {\"arrowcolor\": \"#2a3f5f\", \"arrowhead\": 0, \"arrowwidth\": 1}, \"coloraxis\": {\"colorbar\": {\"outlinewidth\": 0, \"ticks\": \"\"}}, \"colorscale\": {\"diverging\": [[0, \"#8e0152\"], [0.1, \"#c51b7d\"], [0.2, \"#de77ae\"], [0.3, \"#f1b6da\"], [0.4, \"#fde0ef\"], [0.5, \"#f7f7f7\"], [0.6, \"#e6f5d0\"], [0.7, \"#b8e186\"], [0.8, \"#7fbc41\"], [0.9, \"#4d9221\"], [1, \"#276419\"]], \"sequential\": [[0.0, \"#0d0887\"], [0.1111111111111111, \"#46039f\"], [0.2222222222222222, \"#7201a8\"], [0.3333333333333333, \"#9c179e\"], [0.4444444444444444, \"#bd3786\"], [0.5555555555555556, \"#d8576b\"], [0.6666666666666666, \"#ed7953\"], [0.7777777777777778, \"#fb9f3a\"], [0.8888888888888888, \"#fdca26\"], [1.0, \"#f0f921\"]], \"sequentialminus\": [[0.0, \"#0d0887\"], [0.1111111111111111, \"#46039f\"], [0.2222222222222222, \"#7201a8\"], [0.3333333333333333, \"#9c179e\"], [0.4444444444444444, \"#bd3786\"], [0.5555555555555556, \"#d8576b\"], [0.6666666666666666, \"#ed7953\"], [0.7777777777777778, \"#fb9f3a\"], [0.8888888888888888, \"#fdca26\"], [1.0, \"#f0f921\"]]}, \"colorway\": [\"#636efa\", \"#EF553B\", \"#00cc96\", \"#ab63fa\", \"#FFA15A\", \"#19d3f3\", \"#FF6692\", \"#B6E880\", \"#FF97FF\", \"#FECB52\"], \"font\": {\"color\": \"#2a3f5f\"}, \"geo\": {\"bgcolor\": \"white\", \"lakecolor\": \"white\", \"landcolor\": \"#E5ECF6\", \"showlakes\": true, \"showland\": true, \"subunitcolor\": \"white\"}, \"hoverlabel\": {\"align\": \"left\"}, \"hovermode\": \"closest\", \"mapbox\": {\"style\": \"light\"}, \"paper_bgcolor\": \"white\", \"plot_bgcolor\": \"#E5ECF6\", \"polar\": {\"angularaxis\": {\"gridcolor\": \"white\", \"linecolor\": \"white\", \"ticks\": \"\"}, \"bgcolor\": \"#E5ECF6\", \"radialaxis\": {\"gridcolor\": \"white\", \"linecolor\": \"white\", \"ticks\": \"\"}}, \"scene\": {\"xaxis\": {\"backgroundcolor\": \"#E5ECF6\", \"gridcolor\": \"white\", \"gridwidth\": 2, \"linecolor\": \"white\", \"showbackground\": true, \"ticks\": \"\", \"zerolinecolor\": \"white\"}, \"yaxis\": {\"backgroundcolor\": \"#E5ECF6\", \"gridcolor\": \"white\", \"gridwidth\": 2, \"linecolor\": \"white\", \"showbackground\": true, \"ticks\": \"\", \"zerolinecolor\": \"white\"}, \"zaxis\": {\"backgroundcolor\": \"#E5ECF6\", \"gridcolor\": \"white\", \"gridwidth\": 2, \"linecolor\": \"white\", \"showbackground\": true, \"ticks\": \"\", \"zerolinecolor\": \"white\"}}, \"shapedefaults\": {\"line\": {\"color\": \"#2a3f5f\"}}, \"ternary\": {\"aaxis\": {\"gridcolor\": \"white\", \"linecolor\": \"white\", \"ticks\": \"\"}, \"baxis\": {\"gridcolor\": \"white\", \"linecolor\": \"white\", \"ticks\": \"\"}, \"bgcolor\": \"#E5ECF6\", \"caxis\": {\"gridcolor\": \"white\", \"linecolor\": \"white\", \"ticks\": \"\"}}, \"title\": {\"x\": 0.05}, \"xaxis\": {\"automargin\": true, \"gridcolor\": \"white\", \"linecolor\": \"white\", \"ticks\": \"\", \"title\": {\"standoff\": 15}, \"zerolinecolor\": \"white\", \"zerolinewidth\": 2}, \"yaxis\": {\"automargin\": true, \"gridcolor\": \"white\", \"linecolor\": \"white\", \"ticks\": \"\", \"title\": {\"standoff\": 15}, \"zerolinecolor\": \"white\", \"zerolinewidth\": 2}}}, \"xaxis\": {\"anchor\": \"y\", \"categoryorder\": \"total descending\", \"domain\": [0.0, 1.0], \"title\": {\"text\": \"chord\"}}, \"yaxis\": {\"anchor\": \"x\", \"domain\": [0.0, 1.0], \"title\": {\"text\": \"count\"}, \"type\": \"log\"}},\n",
              "                        {\"responsive\": true}\n",
              "                    ).then(function(){\n",
              "                            \n",
              "var gd = document.getElementById('5c3deb80-d7cc-4c4d-a053-87fb693832ad');\n",
              "var x = new MutationObserver(function (mutations, observer) {{\n",
              "        var display = window.getComputedStyle(gd).display;\n",
              "        if (!display || display === 'none') {{\n",
              "            console.log([gd, 'removed!']);\n",
              "            Plotly.purge(gd);\n",
              "            observer.disconnect();\n",
              "        }}\n",
              "}});\n",
              "\n",
              "// Listen for the removal of the full notebook cells\n",
              "var notebookContainer = gd.closest('#notebook-container');\n",
              "if (notebookContainer) {{\n",
              "    x.observe(notebookContainer, {childList: true});\n",
              "}}\n",
              "\n",
              "// Listen for the clearing of the current output cell\n",
              "var outputEl = gd.closest('.output');\n",
              "if (outputEl) {{\n",
              "    x.observe(outputEl, {childList: true});\n",
              "}}\n",
              "\n",
              "                        })\n",
              "                };\n",
              "                \n",
              "            </script>\n",
              "        </div>\n",
              "</body>\n",
              "</html>"
            ]
          },
          "metadata": {}
        }
      ]
    },
    {
      "cell_type": "markdown",
      "metadata": {
        "id": "cG5dtDpkWwLE"
      },
      "source": [
        "Plot Distribution accoring to Zipf's Law\n",
        "\n",
        "source: https://stats.stackexchange.com/questions/331219/characterizing-fitting-word-count-data-into-zipf-power-law-lognormal"
      ]
    },
    {
      "cell_type": "code",
      "metadata": {
        "id": "tazf9QRST5NP"
      },
      "source": [
        "from collections import Counter\n",
        "\n",
        "counter_of_words = df_chords.set_index('chord').to_dict(orient='dict')\n",
        "counter_of_words = Counter(counter_of_words['count'])\n",
        "\n",
        "word_counts = sorted(counter_of_words.values(), reverse=True)\n",
        "frequency_rank = np.array(list(range(1, len(word_counts) + 1)))"
      ],
      "execution_count": 54,
      "outputs": []
    },
    {
      "cell_type": "code",
      "metadata": {
        "colab": {
          "base_uri": "https://localhost:8080/",
          "height": 218
        },
        "id": "Jc80DSe7QlkV",
        "outputId": "fd3b4962-18f2-4ca3-d64d-3168be199c86"
      },
      "source": [
        "plt.figure(figsize=(20, 3))\n",
        "\n",
        "plt.subplot(1, 2, 1)\n",
        "\n",
        "n = 30\n",
        "df_top = df_chords_top.head(n)\n",
        "plt.bar(df_top['chord'], np.log(df_top['count']))\n",
        "plt.xlabel('')\n",
        "plt.ylabel('Absolute Counts (log)')\n",
        "plt.title(f'Top {n} Most Frequent Chords in the Corpus')\n",
        "ax = plt.gca()\n",
        "ax.set_xticklabels(labels=df_chords_top['chord'],rotation=90);\n",
        "\n",
        "plt.subplot(1, 2, 2)\n",
        "\n",
        "plt.scatter(np.log(frequency_rank), np.log(word_counts))\n",
        "plt.xlabel('Frequency Rank of Token (log)')\n",
        "plt.ylabel('Absolute Count of Token (log)')\n",
        "plt.title('Zipf Plot for Chord Frequencies')\n",
        "\n",
        "plt.savefig('plot.png')"
      ],
      "execution_count": 55,
      "outputs": [
        {
          "output_type": "display_data",
          "data": {
            "image/png": "[encoded data removed]",
            "text/plain": [
              "<Figure size 1440x216 with 2 Axes>"
            ]
          },
          "metadata": {
            "needs_background": "light"
          }
        }
      ]
    },
    {
      "cell_type": "code",
      "metadata": {
        "colab": {
          "base_uri": "https://localhost:8080/",
          "height": 217
        },
        "id": "g-hNqtE_sYBE",
        "outputId": "b5d35d0e-95d0-4344-9cfc-8eb4ad8a7e02"
      },
      "source": [
        "plt.figure(figsize=(22, 3))\n",
        "\n",
        "n = 100\n",
        "\n",
        "df_top = df_chords_top.head(n)\n",
        "plt.bar(df_top['chord'], np.log(df_top['count']))\n",
        "plt.xlabel('')\n",
        "plt.ylabel('Absolute Counts (log)')\n",
        "plt.title(f'Top {n} Most Frequent Chords and n-gram Chords in the Corpus')\n",
        "ax = plt.gca()\n",
        "ax.set_xticklabels(labels=df_chords_top['chord'],rotation=90);"
      ],
      "execution_count": 56,
      "outputs": [
        {
          "output_type": "display_data",
          "data": {
            "image/png": "[encoded data removed]",
            "text/plain": [
              "<Figure size 1584x216 with 1 Axes>"
            ]
          },
          "metadata": {
            "needs_background": "light"
          }
        }
      ]
    },
    {
      "cell_type": "code",
      "metadata": {
        "id": "a1IvM4wh7zOv"
      },
      "source": [
        "if use_wandb:\n",
        "  wandb.log(\n",
        "      {\"corpus\": {\n",
        "              \"total_tokens\": total_tokens,\n",
        "              \"vocab_size\": vocab_size,\n",
        "              \"vocab_proportion_in_corpus\": vocab_prop,\n",
        "              \"zipf_plot\": wandb.Image('plot.png'),\n",
        "              \"data_encoding\": \"bow\",\n",
        "              }\n",
        "      }\n",
        "  )"
      ],
      "execution_count": 57,
      "outputs": []
    },
    {
      "cell_type": "code",
      "metadata": {
        "id": "til5xlce_y1m"
      },
      "source": [
        "!rm -R index\n",
        "!mkdir index"
      ],
      "execution_count": 58,
      "outputs": []
    },
    {
      "cell_type": "markdown",
      "metadata": {
        "id": "ZLK0coIu9Tv5"
      },
      "source": [
        "## Test Functions\n"
      ]
    },
    {
      "cell_type": "code",
      "metadata": {
        "id": "Fzrj1qxwDpJT"
      },
      "source": [
        "def get_sim_scores(tunes, index, model, topn=50):\n",
        "\n",
        "    df_sim = pd.DataFrame(columns=['reference_title',\n",
        "                                   'reference_titleid',\n",
        "                                   'similar_title',\n",
        "                                   'similar_titleid',\n",
        "                                   'ref_section', \n",
        "                                   'ref_section_label',\n",
        "                                   'ref_sectionid',\n",
        "                                   'similar_section',\n",
        "                                   'similar_section_label',\n",
        "                                   'similar_sectionid',\n",
        "                                   'score', \n",
        "                                  ])\n",
        "\n",
        "    for tune in tqdm(tunes):\n",
        "      for s1 in title_to_sectionid[tune]:\n",
        "      \n",
        "          query = processed_corpus[s1]\n",
        "          query_bow = dictionary.doc2bow(query)\n",
        "\n",
        "          # perform a similarity query against the corpus\n",
        "          similarities = index[model[query_bow]]\n",
        "          sims = sorted(enumerate(similarities), key=lambda item: -item[1])\n",
        "          \n",
        "          n = 0\n",
        "          for s2, s2_score in sims:\n",
        "            \n",
        "            # store the top N best results\n",
        "            if n > topn:\n",
        "                break\n",
        "            # don't count self-similarity between sections of the same tune\n",
        "            if s2 not in title_to_sectionid[tune]:\n",
        "                # print(f\"\\t{s2_score:.3f} {sectionid_to_section[s2]}\")\n",
        "                n += 1\n",
        "                df_sim.loc[len(df_sim)] = [tune,\n",
        "                                           title_to_titleid[tune],\n",
        "                                           sectionid_to_title[s2],\n",
        "                                           sectionid_to_titleid[s2],\n",
        "                                           sectionid_to_section[s1],\n",
        "                                           sectionid_to_sectionlabel[s1],\n",
        "                                           s1,\n",
        "                                           sectionid_to_section[s2], \n",
        "                                           sectionid_to_sectionlabel[s2],\n",
        "                                           s2,\n",
        "                                           s2_score, \n",
        "                                           ]\n",
        "    return df_sim"
      ],
      "execution_count": 59,
      "outputs": []
    },
    {
      "cell_type": "markdown",
      "metadata": {
        "id": "wqaUEFqxXZYB"
      },
      "source": [
        "## Test Contrafacts"
      ]
    },
    {
      "cell_type": "markdown",
      "metadata": {
        "id": "563ncYqAfIyN"
      },
      "source": [
        "With the model, query the top N highest matches for each section. For a tune, if at least one section receives the recommendation  for the expected title, increase the match counter."
      ]
    },
    {
      "cell_type": "code",
      "metadata": {
        "id": "RVPtraR-hg0G"
      },
      "source": [
        "def test_contrafacts(tunes, index, model, N=15):\n",
        "  matches = 0\n",
        "  number_of_sections = 0\n",
        "  results = {}\n",
        "\n",
        "  for tune, similar_tune in tunes:\n",
        "\n",
        "    # loop over all sections of the tune\n",
        "    section_matches = 0\n",
        "    rank = 0\n",
        "    score = 0\n",
        "\n",
        "    for s1 in title_to_sectionid[tune]:\n",
        "      query = processed_corpus[s1]\n",
        "      query_bow = dictionary.doc2bow(query) \n",
        "\n",
        "      # perform a similarity query against the corpus\n",
        "      similarities = index[model[query_bow]]\n",
        "      sims = sorted(enumerate(similarities), key=lambda item: -item[1])\n",
        "      #print(f\"s1: {s1}\")\n",
        "      #print(f\"similar_tune: {similar_tune}, {title_to_sectionid[similar_tune]}\")\n",
        "      #print(sims)\n",
        "      #print(len(sims))\n",
        "      \n",
        "      # check if the section matches the expected title; consider only the first N recommendations\n",
        "      i = 0\n",
        "      for sectionid, value in sims:\n",
        "        if i >= N:\n",
        "          break\n",
        "        if sectionid_to_title[sectionid] == similar_tune:\n",
        "          section_matches += 1\n",
        "          print(f\"Found {tune} - {similar_tune} {sectionid_to_sectionlabel[sectionid]} with value {value}\")\n",
        "          if value > score:\n",
        "            rank = i\n",
        "            score = value\n",
        "          break\n",
        "        i += 1\n",
        "\n",
        "    # for each title, increase matches if at least one of the section matched the expected title\n",
        "    if section_matches > 0:\n",
        "      matches += 1  \n",
        "      results[f'{tune}, {similar_tune}'] = {'found': 1,\n",
        "                                            'score': score,\n",
        "                                            'rank': rank}\n",
        "    else:\n",
        "      score = 0\n",
        "      for sectionid in title_to_sectionid[similar_tune]:\n",
        "        sim_value = similarities[sectionid]\n",
        "        score = sim_value if sim_value > score else score\n",
        "\n",
        "      results[f'{tune}, {similar_tune}'] = {'found': 0,\n",
        "                                            'score': score,\n",
        "                                            'rank': rank}\n",
        "  \n",
        "  return matches, results\n"
      ],
      "execution_count": 60,
      "outputs": []
    },
    {
      "cell_type": "markdown",
      "metadata": {
        "id": "99xHBRsd--OB"
      },
      "source": [
        "# LSA (Latent Semantic Analysis), aka LSI (Latent Semantic Index) "
      ]
    },
    {
      "cell_type": "code",
      "metadata": {
        "id": "adsW9Uh9_JXs"
      },
      "source": [
        "from collections import defaultdict"
      ],
      "execution_count": 61,
      "outputs": []
    },
    {
      "cell_type": "markdown",
      "source": [
        "Use the Test Corpus to train the LSI Model."
      ],
      "metadata": {
        "id": "O_DVEF-hP0he"
      }
    },
    {
      "cell_type": "code",
      "source": [
        "no_below = 5"
      ],
      "metadata": {
        "id": "jYH6XfY8zmss"
      },
      "execution_count": 62,
      "outputs": []
    },
    {
      "cell_type": "code",
      "source": [
        "def prepare_corpus(doc_clean):\n",
        "    \"\"\"\n",
        "    Input  : cleaned tunes\n",
        "    Purpose: create term dictionary of our courpus and Converting list of documents (corpus) into Document Term Matrix\n",
        "    Output : term dictionary and Document Term Matrix\n",
        "    \"\"\"\n",
        "    # Creating the term dictionary of our courpus, where every unique term is assigned an index. dictionary = corpora.Dictionary(doc_clean)\n",
        "    dic = corpora.Dictionary(doc_clean)\n",
        "    # Filter out words that occur less than 20 documents.\n",
        "    dic.filter_extremes(no_below=no_below, no_above=1.0)\n",
        "    print(len(dic))\n",
        "\n",
        "    # Converting list of documents (corpus) into Document Term Matrix using dictionary prepared above.\n",
        "    doc_term_matrix = [dic.doc2bow(text) for text in doc_clean]\n",
        "\n",
        "    # generate LDA model\n",
        "    return dic, doc_term_matrix"
      ],
      "metadata": {
        "id": "oaXJYDsLDX8a"
      },
      "execution_count": 63,
      "outputs": []
    },
    {
      "cell_type": "code",
      "source": [
        "test_dictionary, test_bow_corpus = prepare_corpus(test_corpus)"
      ],
      "metadata": {
        "colab": {
          "base_uri": "https://localhost:8080/"
        },
        "id": "CQQxGXh5D-yC",
        "outputId": "dc23a405-a734-42a2-bf43-acc21fb14887"
      },
      "execution_count": 64,
      "outputs": [
        {
          "output_type": "stream",
          "name": "stderr",
          "text": [
            "2021-12-27 21:29:51,567 : INFO : adding document #0 to Dictionary(0 unique tokens: [])\n",
            "2021-12-27 21:29:52,175 : INFO : built Dictionary(2090 unique tokens: ['A7', 'A7-Dm', 'Am', 'Am-Am', 'Am-Cm']...) from 4915 documents (total 133317 corpus positions)\n",
            "2021-12-27 21:29:52,179 : INFO : Dictionary lifecycle event {'msg': \"built Dictionary(2090 unique tokens: ['A7', 'A7-Dm', 'Am', 'Am-Am', 'Am-Cm']...) from 4915 documents (total 133317 corpus positions)\", 'datetime': '2021-12-27T21:29:52.179438', 'gensim': '4.1.2', 'python': '3.7.12 (default, Sep 10 2021, 00:21:48) \\n[GCC 7.5.0]', 'platform': 'Linux-5.4.144+-x86_64-with-Ubuntu-18.04-bionic', 'event': 'created'}\n",
            "2021-12-27 21:29:52,191 : INFO : discarding 1191 tokens: [('Bm7b5-Bbm', 2), ('Cm-Eb', 1), ('E7-Fm', 3), ('Eb-Em7b5', 2), ('Am-C#', 2), ('Bb-G#m', 2), ('C#-Bm7b5', 3), ('C#7-F#m7b5', 3), ('C7-F#dim', 4), ('Ebm-Bb', 4)]...\n",
            "2021-12-27 21:29:52,195 : INFO : keeping 899 tokens which were in no less than 5 and no more than 4915 (=100.0%) documents\n",
            "2021-12-27 21:29:52,201 : INFO : resulting dictionary: Dictionary(899 unique tokens: ['A7', 'A7-Dm', 'Am', 'Am-Am', 'Am-Cm']...)\n"
          ]
        },
        {
          "output_type": "stream",
          "name": "stdout",
          "text": [
            "899\n"
          ]
        }
      ]
    },
    {
      "cell_type": "code",
      "source": [
        "dictionary, bow_corpus = prepare_corpus(processed_corpus)"
      ],
      "metadata": {
        "colab": {
          "base_uri": "https://localhost:8080/"
        },
        "id": "c-NTsr8aDn9J",
        "outputId": "3440fe8c-5195-484c-deea-bd3532583897"
      },
      "execution_count": 65,
      "outputs": [
        {
          "output_type": "stream",
          "name": "stderr",
          "text": [
            "2021-12-27 21:29:52,431 : INFO : adding document #0 to Dictionary(0 unique tokens: [])\n",
            "2021-12-27 21:29:52,957 : INFO : built Dictionary(2112 unique tokens: ['Am', 'Am-D7', 'B7', 'B7-E', 'C']...) from 5536 documents (total 147906 corpus positions)\n",
            "2021-12-27 21:29:52,959 : INFO : Dictionary lifecycle event {'msg': \"built Dictionary(2112 unique tokens: ['Am', 'Am-D7', 'B7', 'B7-E', 'C']...) from 5536 documents (total 147906 corpus positions)\", 'datetime': '2021-12-27T21:29:52.959028', 'gensim': '4.1.2', 'python': '3.7.12 (default, Sep 10 2021, 00:21:48) \\n[GCC 7.5.0]', 'platform': 'Linux-5.4.144+-x86_64-with-Ubuntu-18.04-bionic', 'event': 'created'}\n",
            "2021-12-27 21:29:52,971 : INFO : discarding 1197 tokens: [('A-C7', 2), ('Bm7b5-Bbm', 2), ('Cm-Eb', 1), ('E7-Fm', 4), ('Eb-Em7b5', 2), ('Am-C#', 2), ('Bb-G#m', 2), ('C#-Bm7b5', 3), ('C#7-F#m7b5', 4), ('C7-F#dim', 4)]...\n",
            "2021-12-27 21:29:52,974 : INFO : keeping 915 tokens which were in no less than 5 and no more than 5536 (=100.0%) documents\n",
            "2021-12-27 21:29:52,982 : INFO : resulting dictionary: Dictionary(915 unique tokens: ['Am', 'Am-D7', 'B7', 'B7-E', 'C']...)\n"
          ]
        },
        {
          "output_type": "stream",
          "name": "stdout",
          "text": [
            "915\n"
          ]
        }
      ]
    },
    {
      "cell_type": "code",
      "source": [
        "if False:\n",
        "  dictionary = corpora.Dictionary(processed_corpus)\n",
        "\n",
        "  # Filter out words that occur less than 20 documents, or more than 50% of the documents.\n",
        "  dictionary.filter_extremes(no_below=no_below, no_above=1.0)\n",
        "  print(len(dictionary))\n",
        "\n",
        "  bow_corpus = [dictionary.doc2bow(text) for text in processed_corpus]"
      ],
      "metadata": {
        "id": "A9ddieQTbHGD"
      },
      "execution_count": 66,
      "outputs": []
    },
    {
      "cell_type": "code",
      "source": [
        "if False:\n",
        "  test_dictionary = corpora.Dictionary(test_corpus)\n",
        "  print(len(test_dictionary))\n",
        "  # Filter out words that occur less than 20 documents, or more than 50% of the documents.\n",
        "  test_dictionary.filter_extremes(no_below=no_below, no_above=1.0)\n",
        "  print(len(test_dictionary))\n",
        "\n",
        "  ### here we're using the dictionary of the full dataset! Gives a bit better results!\n",
        "  test_bow_corpus = [dictionary.doc2bow(text) for text in test_corpus]"
      ],
      "metadata": {
        "id": "FjVs226FbJCR"
      },
      "execution_count": 67,
      "outputs": []
    },
    {
      "cell_type": "code",
      "metadata": {
        "colab": {
          "base_uri": "https://localhost:8080/"
        },
        "id": "s3AJZGRD_IHW",
        "outputId": "2be641ca-d10e-4ffb-ee72-e5c78f52c9aa"
      },
      "source": [
        "num_topics = lsi_config['num_topics']\n",
        "\n",
        "lsi = LsiModel(test_bow_corpus, \n",
        "               id2word=test_dictionary, \n",
        "               num_topics=num_topics)"
      ],
      "execution_count": 68,
      "outputs": [
        {
          "output_type": "stream",
          "name": "stderr",
          "text": [
            "2021-12-27 21:29:53,399 : INFO : using serial LSI version on this node\n",
            "2021-12-27 21:29:53,406 : INFO : updating model with new documents\n",
            "2021-12-27 21:29:53,408 : INFO : preparing a new chunk of documents\n",
            "2021-12-27 21:29:53,646 : INFO : using 100 extra samples and 2 power iterations\n",
            "2021-12-27 21:29:53,663 : INFO : 1st phase: constructing (899, 200) action matrix\n",
            "2021-12-27 21:29:53,823 : INFO : orthonormalizing (899, 200) action matrix\n",
            "2021-12-27 21:29:54,219 : INFO : 2nd phase: running dense svd on (200, 4915) matrix\n",
            "2021-12-27 21:29:54,765 : INFO : computing the final decomposition\n",
            "2021-12-27 21:29:54,769 : INFO : keeping 100 factors (discarding 3.926% of energy spectrum)\n",
            "2021-12-27 21:29:54,791 : INFO : processed documents up to #4915\n",
            "2021-12-27 21:29:54,795 : INFO : topic #0(338.266): 0.641*\"C\" + 0.439*\"G7\" + 0.306*\"Dm\" + 0.225*\"G7-C\" + 0.204*\"Dm-G7\" + 0.176*\"C-C\" + 0.161*\"A7\" + 0.156*\"Am\" + 0.145*\"F\" + 0.137*\"D7\"\n",
            "2021-12-27 21:29:54,799 : INFO : topic #1(167.324): 0.709*\"Am\" + -0.350*\"C\" + 0.297*\"E7\" + 0.259*\"Am-Am\" + 0.209*\"Dm\" + -0.193*\"C-C\" + 0.191*\"E7-Am\" + 0.104*\"Bm7b5\" + 0.093*\"Bm7b5-E7\" + 0.081*\"D7\"\n",
            "2021-12-27 21:29:54,803 : INFO : topic #2(134.774): 0.485*\"Dm\" + 0.379*\"Dm-G7\" + -0.359*\"C\" + -0.329*\"Am\" + -0.254*\"C-C\" + 0.208*\"A7\" + 0.202*\"G7\" + 0.186*\"A7-Dm\" + 0.178*\"Em\" + -0.163*\"F\"\n",
            "2021-12-27 21:29:54,808 : INFO : topic #3(111.066): -0.659*\"C7\" + -0.295*\"D7\" + 0.249*\"Dm\" + -0.234*\"C7-C7\" + 0.223*\"C\" + -0.211*\"G7\" + -0.191*\"F\" + 0.174*\"C-C\" + 0.146*\"Am\" + -0.137*\"F7\"\n",
            "2021-12-27 21:29:54,812 : INFO : topic #4(99.082): 0.461*\"D7\" + -0.402*\"C7\" + 0.334*\"G7\" + -0.323*\"F\" + 0.217*\"A7\" + 0.204*\"D7-G7\" + -0.202*\"Dm\" + 0.169*\"A7-D7\" + 0.138*\"D7-D7\" + 0.136*\"G7-C\"\n",
            "2021-12-27 21:29:54,824 : INFO : LsiModel lifecycle event {'msg': 'trained LsiModel(num_terms=899, num_topics=100, decay=1.0, chunksize=20000) in 1.42s', 'datetime': '2021-12-27T21:29:54.824620', 'gensim': '4.1.2', 'python': '3.7.12 (default, Sep 10 2021, 00:21:48) \\n[GCC 7.5.0]', 'platform': 'Linux-5.4.144+-x86_64-with-Ubuntu-18.04-bionic', 'event': 'created'}\n"
          ]
        }
      ]
    },
    {
      "cell_type": "code",
      "source": [
        "topics = lsi.get_topics()"
      ],
      "metadata": {
        "id": "8r36VkFvOwLb"
      },
      "execution_count": 69,
      "outputs": []
    },
    {
      "cell_type": "code",
      "source": [
        "fig = plt.figure()\n",
        "ax = fig.add_subplot(111)\n",
        "\n",
        "ax.imshow(topics, interpolation='nearest')\n",
        "ax.set_aspect(5)"
      ],
      "metadata": {
        "colab": {
          "base_uri": "https://localhost:8080/",
          "height": 237
        },
        "id": "UkWYpIhqLUea",
        "outputId": "20190f15-ca28-499f-a7d1-be51aeb0d38d"
      },
      "execution_count": 70,
      "outputs": [
        {
          "output_type": "display_data",
          "data": {
            "image/png": "[encoded data removed]",
            "text/plain": [
              "<Figure size 432x288 with 1 Axes>"
            ]
          },
          "metadata": {
            "needs_background": "light"
          }
        }
      ]
    },
    {
      "cell_type": "code",
      "source": [
        "processed_corpus[1]"
      ],
      "metadata": {
        "id": "-32xhVjGoKgY",
        "outputId": "507165b1-9e1f-4aee-9ba6-89ff7e97fb2f",
        "colab": {
          "base_uri": "https://localhost:8080/"
        }
      },
      "execution_count": 71,
      "outputs": [
        {
          "output_type": "execute_result",
          "data": {
            "text/plain": [
              "['C',\n",
              " 'Eb7',\n",
              " 'G#',\n",
              " 'B7',\n",
              " 'E',\n",
              " 'G7',\n",
              " 'Gm',\n",
              " 'C7',\n",
              " 'F',\n",
              " 'Eb7',\n",
              " 'G#',\n",
              " 'B7',\n",
              " 'E',\n",
              " 'G7',\n",
              " 'C',\n",
              " 'C-Eb7',\n",
              " 'Eb7-G#',\n",
              " 'G#-B7',\n",
              " 'B7-E',\n",
              " 'E-G7',\n",
              " 'G7-Gm',\n",
              " 'Gm-C7',\n",
              " 'C7-F',\n",
              " 'F-Eb7',\n",
              " 'Eb7-G#',\n",
              " 'G#-B7',\n",
              " 'B7-E',\n",
              " 'E-G7',\n",
              " 'G7-C']"
            ]
          },
          "metadata": {},
          "execution_count": 71
        }
      ]
    },
    {
      "cell_type": "code",
      "source": [
        "tunes_matrix = []\n",
        "for i in range(len(processed_corpus)):\n",
        "  query_bow = dictionary.doc2bow(processed_corpus[i])\n",
        "  V = gensim.matutils.sparse2full(lsi[query_bow], len(lsi.projection.s)).T / lsi.projection.s\n",
        "  tunes_matrix.append(V)\n",
        "\n",
        "df_matrix = pd.DataFrame(tunes_matrix)"
      ],
      "metadata": {
        "id": "maqYhTujn7zy"
      },
      "execution_count": 72,
      "outputs": []
    },
    {
      "cell_type": "code",
      "source": [
        "fig = plt.figure()\n",
        "ax = fig.add_subplot(111)\n",
        "\n",
        "ax.imshow(tunes_matrix, interpolation='nearest')\n",
        "ax.set_aspect(0.01)"
      ],
      "metadata": {
        "id": "J3whHIWut2rO",
        "outputId": "86836d99-2308-4613-d571-7103259c339a",
        "colab": {
          "base_uri": "https://localhost:8080/",
          "height": 237
        }
      },
      "execution_count": 96,
      "outputs": [
        {
          "output_type": "display_data",
          "data": {
            "image/png": "[encoded data removed]",
            "text/plain": [
              "<Figure size 432x288 with 1 Axes>"
            ]
          },
          "metadata": {
            "needs_background": "light"
          }
        }
      ]
    },
    {
      "cell_type": "code",
      "source": [
        "if False:\n",
        "  tsne = TSNE(n_components=2, \n",
        "              random_state=42,\n",
        "              perplexity = 30,\n",
        "              #learning_rate=100.0,\n",
        "              #n_iter_without_progress=200,\n",
        "              #n_iter=2000\n",
        "              )\n",
        "  #np.set_printoptions(suppress=True)\n",
        "  T = tsne.fit_transform(tunes_matrix)"
      ],
      "metadata": {
        "id": "g-szdEyyuL90"
      },
      "execution_count": 74,
      "outputs": []
    },
    {
      "cell_type": "code",
      "source": [
        "if False:\n",
        "  projected = pd.DataFrame(T)\n",
        "  #projected['tune'] = titles['title']\n",
        "  #projected['cluster'] = df_cluster['ClusterLabel'].astype(str)\n",
        "  #projected['mode'] = meta['tune_mode']\n",
        "\n",
        "  fig = px.scatter(\n",
        "      projected, \n",
        "      x=0, y=1,\n",
        "      #color='mode',\n",
        "      #hover_name='tune',\n",
        "      width=600, height=500\n",
        "  )\n",
        "  fig.update_traces(textposition='top center')\n",
        "  fig.update_traces(textfont_size=8, selector=dict(type='scatter'))\n",
        "  fig.show()"
      ],
      "metadata": {
        "id": "clMRl0GWvbBq"
      },
      "execution_count": 75,
      "outputs": []
    },
    {
      "cell_type": "code",
      "source": [
        ""
      ],
      "metadata": {
        "id": "2NtXs_ivvwu-"
      },
      "execution_count": 75,
      "outputs": []
    },
    {
      "cell_type": "code",
      "source": [
        "if False:\n",
        "  clusterer = hdbscan.HDBSCAN(min_cluster_size=6)\n",
        "  clusterer.fit(T)\n",
        "\n",
        "  clusterer.labels_\n",
        "\n",
        "\n",
        "  clust_proj = pd.DataFrame(T)\n",
        "  #clust_proj['tune'] = titles['title']\n",
        "  clust_proj['cluster'] = clusterer.labels_.astype(str)\n",
        "  #clust_proj['mode'] = titles['tune_mode']\n",
        "\n",
        "  fig = px.scatter(\n",
        "      clust_proj, \n",
        "      x=0, y=1,\n",
        "      color='cluster',\n",
        "      #hover_name='tune',\n",
        "      width=600, height=500\n",
        "  )\n",
        "  fig.update_traces(textposition='top center')\n",
        "  fig.update_traces(textfont_size=8, selector=dict(type='scatter'))\n",
        "  fig.show()"
      ],
      "metadata": {
        "id": "5vMcYuqSwFq2"
      },
      "execution_count": 76,
      "outputs": []
    },
    {
      "cell_type": "code",
      "source": [
        "from sklearn.preprocessing import StandardScaler\n",
        "\n",
        "umap_2d = umap.UMAP(n_components=2, \n",
        "                    init='random', \n",
        "                    random_state=0,\n",
        "                    n_neighbors=6,\n",
        "                    min_dist=0.05,\n",
        "                    #metric='jaccard',\n",
        "                    )\n",
        "scaled_data = StandardScaler().fit_transform(tunes_matrix)\n",
        "proj_2d = umap_2d.fit_transform(scaled_data)\n",
        "\n",
        "fig_2d = px.scatter(\n",
        "    proj_2d, x=0, y=1,\n",
        "    #color=df.species, labels={'color': 'species'}\n",
        ")\n",
        "\n",
        "fig_2d.show()"
      ],
      "metadata": {
        "id": "zq-jL66Lz8ag",
        "outputId": "13a5d1f5-39f7-4324-a486-5d50c9f26cf6",
        "colab": {
          "base_uri": "https://localhost:8080/",
          "height": 542
        }
      },
      "execution_count": 99,
      "outputs": [
        {
          "output_type": "display_data",
          "data": {
            "text/html": [
              "<html>\n",
              "<head><meta charset=\"utf-8\" /></head>\n",
              "<body>\n",
              "    <div>\n",
              "            <script src=\"https://cdnjs.cloudflare.com/ajax/libs/mathjax/2.7.5/MathJax.js?config=TeX-AMS-MML_SVG\"></script><script type=\"text/javascript\">if (window.MathJax) {MathJax.Hub.Config({SVG: {font: \"STIX-Web\"}});}</script>\n",
              "                <script type=\"text/javascript\">window.PlotlyConfig = {MathJaxConfig: 'local'};</script>\n",
              "        <script src=\"https://cdn.plot.ly/plotly-latest.min.js\"></script>    \n",
              "            <div id=\"b3d940ed-cb6d-4912-8195-c6c45d60852b\" class=\"plotly-graph-div\" style=\"height:525px; width:100%;\"></div>\n",
              "            <script type=\"text/javascript\">\n",
              "                \n",
              "                    window.PLOTLYENV=window.PLOTLYENV || {};\n",
              "                    \n",
              "                if (document.getElementById(\"b3d940ed-cb6d-4912-8195-c6c45d60852b\")) {\n",
              "                    Plotly.newPlot(\n",
              "                        'b3d940ed-cb6d-4912-8195-c6c45d60852b',\n",
              "                        [{\"hoverlabel\": {\"namelength\": 0}, \"hovertemplate\": \"0=%{x}<br>1=%{y}\", \"legendgroup\": \"\", \"marker\": {\"color\": \"#636efa\", \"symbol\": \"circle\"}, \"mode\": \"markers\", \"name\": \"\", \"showlegend\": false, \"type\": \"scattergl\", \"x\": [3.915029287338257, 2.3248848915100098, 2.838170051574707, 2.325185537338257, 2.5193376541137695, 7.805535316467285, 7.704916000366211, 8.627334594726562, 8.612874984741211, -4.9940505027771, 8.632553100585938, 5.349878787994385, 5.346362113952637, 2.3523616790771484, 5.358235836029053, 5.65069055557251, 5.833606719970703, 6.1734232902526855, 5.706521034240723, 3.6912243366241455, 3.6809887886047363, 4.461566925048828, 3.683224678039551, 0.8672326803207397, 0.9085747599601746, 9.687710762023926, 9.447783470153809, 9.701481819152832, 4.7377777099609375, 9.160953521728516, 3.3719284534454346, 7.611827373504639, 7.609583854675293, 8.496612548828125, 5.58872127532959, 8.074219703674316, 2.0692520141601562, 1.7092736959457397, 2.0878469944000244, 5.628373146057129, 6.440508842468262, 6.432693004608154, 2.215287685394287, 6.441720962524414, 2.101536512374878, 4.583301067352295, 2.098900556564331, 5.4677629470825195, 2.0350682735443115, 2.0230987071990967, 5.80731725692749, 2.037632942199707, 12.20950698852539, 12.218864440917969, 7.358999252319336, 12.200403213500977, 12.270773887634277, 6.1433515548706055, 5.6128339767456055, 5.619929313659668, 8.869073867797852, 5.607603549957275, 5.4038472175598145, 5.403017044067383, 3.7217679023742676, 5.34719705581665, 8.489055633544922, 8.536537170410156, 5.394195556640625, 8.491353988647461, -0.3227129280567169, 5.967266082763672, 4.060579299926758, 5.349340915679932, 4.057015419006348, 11.862566947937012, -0.9099961519241333, -0.9120638370513916, 6.721522808074951, -0.9123883843421936, 22.00930404663086, 3.8140273094177246, 2.7261240482330322, 2.4993906021118164, 2.480308771133423, 3.292954921722412, 2.468000888824463, 10.354233741760254, 9.68630313873291, 3.7463231086730957, 3.8074467182159424, 7.3443217277526855, 9.11388111114502, 0.28418710827827454, 0.21987278759479523, 1.7319972515106201, 0.2906630039215088, 8.228090286254883, 10.664827346801758, 8.24258041381836, 5.0626749992370605, 9.784549713134766, 9.78174877166748, 2.1789379119873047, 9.780263900756836, 5.477208137512207, 3.366867780685425, 3.372408390045166, 1.5287901163101196, 9.562926292419434, 9.563549995422363, 5.728006839752197, 9.55202579498291, -0.1879071444272995, -0.20605148375034332, 3.969606399536133, -0.20184919238090515, 17.39520263671875, 7.793554306030273, 7.873623371124268, 18.86832618713379, 5.417856693267822, 5.435274600982666, 5.423115253448486, 8.466994285583496, -1.3651964664459229, 4.760575771331787, 11.289631843566895, 4.766411304473877, 4.7502946853637695, -0.17296430468559265, 3.0661535263061523, 5.466115474700928, 1.9798948764801025, 2.010758876800537, 6.302735328674316, 1.9626896381378174, 5.841856479644775, 6.096561431884766, 4.247858047485352, 5.80744743347168, 9.276866912841797, 9.288248062133789, 9.757894515991211, 8.336377143859863, 9.289715766906738, 6.83635950088501, 6.004421710968018, 7.54394006729126, 7.45756721496582, 9.414738655090332, 7.527568817138672, 3.375614643096924, 3.3799688816070557, 5.419127941131592, 3.3897082805633545, 5.1630401611328125, 6.539283275604248, 5.188055515289307, 3.811544895172119, -2.158716917037964, -1.0316450595855713, -1.0327404737472534, 3.5620298385620117, 3.3286166191101074, 3.311389684677124, 2.518691301345825, 3.3092448711395264, 2.177560329437256, 10.81331729888916, 2.174628257751465, 0.9996598362922668, 8.824627876281738, 8.826178550720215, 6.020761966705322, 8.835175514221191, 5.80681848526001, 5.824924468994141, 4.239337921142578, 2.175015926361084, 8.012660026550293, 8.050631523132324, 5.749137878417969, 4.389426231384277, 4.071207046508789, -0.5584774613380432, 17.313331604003906, 7.268926620483398, 6.588619709014893, 4.1290411949157715, 4.1631903648376465, 8.213373184204102, 7.306976318359375, 8.191949844360352, 5.487053871154785, 1.9288241863250732, 1.9672869443893433, 8.287616729736328, 5.494500637054443, 4.048611640930176, -5.055022716522217, 6.990816116333008, 9.924115180969238, 6.966738224029541, 1.4663439989089966, 3.115088939666748, 5.395877838134766, 3.1219611167907715, 5.601681709289551, 8.542566299438477, 8.511469841003418, 1.7622920274734497, 5.404153823852539, 3.3945884704589844, 3.3604061603546143, 1.2703884840011597, 3.6139204502105713, 3.919477701187134, 9.725013732910156, 2.8663859367370605, 4.085116386413574, 6.511291980743408, 4.019213676452637, 7.353325843811035, 4.532295227050781, 4.1988725662231445, 6.585549354553223, 7.136604309082031, 3.7388625144958496, 7.181066989898682, 5.209649562835693, 5.749361991882324, 4.662296295166016, 5.185751914978027, 8.215679168701172, 8.207437515258789, 3.720684289932251, -5.093522548675537, 2.804015636444092, 0.3366861641407013, 8.787242889404297, 2.801044464111328, 2.133572816848755, 9.421173095703125, 9.106276512145996, 7.00734281539917, 6.918412685394287, 6.794842720031738, 1.8815518617630005, 6.361514091491699, 5.331056594848633, 4.361586570739746, 5.073400974273682, 6.663544178009033, 5.804355621337891, 6.422954559326172, 6.760219097137451, 0.8679335713386536, 0.8539279103279114, 8.834038734436035, 0.8896278738975525, 2.921337366104126, 3.2478466033935547, 6.763576984405518, 1.223774790763855, 12.23345947265625, 12.276994705200195, 8.87458610534668, 3.2225496768951416, 2.9100348949432373, 6.030567646026611, 6.033972263336182, 3.376556873321533, 6.030375957489014, -2.395346164703369, 2.301633596420288, 12.455021858215332, 2.284498453140259, 0.48037105798721313, 0.6036320328712463, 5.391158103942871, 0.4549022316932678, 0.6970451474189758, 7.5361714363098145, 7.850391864776611, 3.7924487590789795, 1.5399113893508911, 1.5457943677902222, 4.268714904785156, 7.358790397644043, -1.1566163301467896, 7.394007205963135, 2.911525249481201, -1.1565912961959839, 5.17471981048584, 5.845954895019531, 6.840954303741455, 9.291241645812988, 22.00934410095215, 6.9788360595703125, 3.5677874088287354, 9.037134170532227, 3.614628553390503, 7.77116060256958, 0.9098737239837646, 0.8022432923316956, 7.684504985809326, 7.123210906982422, 7.116417407989502, 11.103569984436035, 7.117838382720947, 8.363327026367188, 8.353894233703613, 7.363867282867432, 8.409928321838379, 8.153921127319336, 7.390986919403076, 5.279247283935547, 6.2380781173706055, 6.815140724182129, 5.471923351287842, 1.8849267959594727, 8.151549339294434, 8.140353202819824, 8.176206588745117, -4.697608470916748, 9.730817794799805, 9.744913101196289, 5.881275177001953, 2.202617645263672, 9.617982864379883, 6.140644073486328, 5.4815993309021, 9.727569580078125, 9.023716926574707, 5.284700393676758, 3.351243734359741, 7.0483222007751465, 9.2183256149292, 8.81008529663086, 5.2777485847473145, 4.059313774108887, 6.651607990264893, 4.055957794189453, 6.605554103851318, 3.456615924835205, 3.44899845123291, 2.2914321422576904, 10.70273208618164, 9.701713562011719, 9.713228225708008, 2.9048829078674316, 5.100739002227783, 5.330398082733154, 1.9717708826065063, 5.351639270782471, 8.054747581481934, 5.578361988067627, 8.060750007629395, 10.303916931152344, 7.629696846008301, 7.610569000244141, 7.993693828582764, 7.986064910888672, 3.4595649242401123, 7.996434688568115, 2.4068872928619385, 8.326421737670898, 7.966548442840576, 8.312690734863281, 6.081363677978516, 17.43765640258789, 5.467860698699951, 5.555895805358887, 9.5597562789917, 9.559608459472656, 1.9956762790679932, -0.0879795253276825, -1.6025317907333374, -0.07358438521623611, 6.232638359069824, 6.222350597381592, 9.59272575378418, 6.198421478271484, 2.2618908882141113, 3.1778244972229004, 3.1922366619110107, 3.3113620281219482, 3.208632707595825, 2.7389492988586426, 8.158782958984375, 8.084403038024902, 2.498669147491455, 8.059985160827637, 8.135287284851074, 7.598212242126465, 8.134916305541992, 2.7183423042297363, 2.0309550762176514, 2.720797061920166, 5.360310077667236, 5.354238510131836, 5.652694225311279, 5.764228820800781, 2.228886365890503, 5.824059963226318, 9.776141166687012, 3.849815607070923, 3.62520170211792, 2.1615233421325684, 3.7050180435180664, 16.96432876586914, 16.978700637817383, 5.434840679168701, 16.979652404785156, 7.45855188369751, 5.285242557525635, 5.288731575012207, 5.429073810577393, 5.2644524574279785, 7.556403160095215, 7.522768974304199, 1.1900306940078735, 7.794713497161865, 11.115436553955078, 4.6553168296813965, 8.601309776306152, 8.605965614318848, 5.606352806091309, 8.608596801757812, 5.8215227127075195, 4.6513991355896, 5.820695877075195, -0.19916753470897675, 3.3914287090301514, -1.0689611434936523, 7.349640846252441, 0.42363443970680237, 8.294936180114746, 5.279007911682129, 3.981205940246582, 3.958375930786133, 8.977119445800781, 3.9633514881134033, 8.07945728302002, 6.588100910186768, 6.575708866119385, 12.506743431091309, 6.576284408569336, 5.684797286987305, 5.649257183074951, 4.164340972900391, 5.648789882659912, 9.03062629699707, 4.4179816246032715, 4.460143089294434, 2.1143887042999268, 2.1142570972442627, 2.154689073562622, 2.1161067485809326, 6.342835426330566, -2.0984346866607666, 2.56559681892395, 4.2559967041015625, 5.279011249542236, 3.656163454055786, 4.28336763381958, 5.249546527862549, 6.199395179748535, 6.254692077636719, 6.172666072845459, 6.11742639541626, 2.0259387493133545, 8.06203556060791, 2.0271952152252197, 6.065766334533691, 4.06323766708374, 2.116284132003784, 5.337723731994629, 2.120192050933838, 2.284762144088745, 16.258508682250977, 0.760289192199707, 12.289602279663086, 11.499857902526855, 6.705437660217285, 11.473834991455078, 8.046892166137695, 0.5249371528625488, 0.5271241068840027, 9.348638534545898, 0.527898907661438, 9.835515975952148, 7.733893871307373, 4.787491798400879, 4.794833660125732, 10.102717399597168, 4.800866603851318, 5.316504001617432, 8.374117851257324, 3.807368755340576, 6.576354026794434, 8.374374389648438, 7.489103317260742, 7.149190425872803, 2.997352123260498, 7.08046817779541, 8.070873260498047, 8.167085647583008, 8.066720008850098, 8.009432792663574, 7.771472454071045, 3.0283660888671875, 7.989390850067139, 5.321478366851807, 4.428857803344727, 4.407527446746826, 2.920445680618286, 4.40771484375, -1.1013538837432861, 2.169948101043701, 0.6681791543960571, 2.309107542037964, 5.320912837982178, 5.277826309204102, 8.732256889343262, 8.620464324951172, 16.30194091796875, 5.438055038452148, 5.438841819763184, 7.0693769454956055, 11.921442985534668, 5.110784530639648, 5.116665363311768, 5.29252290725708, 5.11600399017334, 8.933713912963867, 2.7838423252105713, 5.296921730041504, 2.874202251434326, 2.8637876510620117, 2.302568197250366, 2.8740792274475098, -5.192485332489014, -5.168308258056641, 12.114500999450684, -5.169431686401367, -1.1556147336959839, -1.1558153629302979, 6.8261284828186035, -1.1556953191757202, 6.703723430633545, 2.4457833766937256, 2.4474987983703613, 2.692509889602661, 2.116743803024292, 4.291645050048828, 4.280632972717285, 2.9658772945404053, 4.291374683380127, 3.8495678901672363, 3.8541293144226074, 2.1152772903442383, 3.8351705074310303, 5.582826137542725, 5.44575834274292, 5.470096588134766, 5.0810465812683105, 2.1146788597106934, 2.116447925567627, 1.5533276796340942, 2.1486120223999023, 4.125099182128906, 1.5454599857330322, 7.931545734405518, 0.5346846580505371, 2.9223475456237793, 4.26190185546875, 7.335278511047363, 4.202783584594727, 4.161158084869385, 9.745604515075684, 9.627924919128418, 7.131614685058594, 5.6402153968811035, 9.634382247924805, 6.841813087463379, 2.6937127113342285, 5.121553421020508, 7.544042587280273, 3.5621728897094727, 3.5781798362731934, 11.43355655670166, -2.0008068084716797, -1.6122275590896606, 6.22721004486084, -0.8672969341278076, 5.041206359863281, 5.000359535217285, 5.539913177490234, 7.580438137054443, 12.201294898986816, 12.177911758422852, 2.183605194091797, 2.174957275390625, 2.327573776245117, 2.042800188064575, 3.8284153938293457, 5.3209028244018555, 5.0948920249938965, 5.327453136444092, 3.059591770172119, 3.0073297023773193, 3.02518630027771, 3.0048880577087402, 8.548751831054688, 8.561436653137207, 4.039836406707764, 8.549711227416992, 1.229785680770874, 4.663177490234375, 4.302212238311768, 4.301936626434326, 3.168471336364746, 5.556625843048096, 4.309711456298828, 6.670525550842285, 6.696870803833008, 5.328919410705566, 6.704329490661621, 6.635297775268555, 6.654856204986572, 2.9666495323181152, 6.634829521179199, 4.9419941902160645, 7.466728210449219, 4.9456892013549805, 7.48768949508667, 3.842135429382324, 5.037139415740967, 3.8352138996124268, 3.850576400756836, 6.475135803222656, 4.975688457489014, 4.959422588348389, 6.422030925750732, 6.09881591796875, 6.120992660522461, 3.135073184967041, 7.461076259613037, 7.47665548324585, 7.50501823425293, 7.4699506759643555, 8.904773712158203, 8.478837966918945, 8.489471435546875, 4.933250427246094, 5.31583833694458, 6.158301830291748, 5.994054794311523, 6.519462585449219, 7.525567054748535, 3.6228601932525635, 12.302494049072266, 12.820749282836914, 12.302578926086426, 11.094661712646484, 4.202597618103027, 4.176548957824707, 2.2341110706329346, 4.179042816162109, 3.3827691078186035, 3.473989248275757, 1.9598478078842163, 3.8996875286102295, 16.328397750854492, 5.318881988525391, 5.3334059715271, 12.466992378234863, 5.349251747131348, 3.7556467056274414, 2.027932643890381, 4.0923638343811035, 7.5784173011779785, 6.982780456542969, 4.020514965057373, 6.991353988647461, 3.739659070968628, 1.6731514930725098, 1.6594310998916626, 3.962862730026245, 1.6723816394805908, 5.578415393829346, 5.599365711212158, 6.709606170654297, 5.5950469970703125, 6.799256324768066, 5.055251121520996, 5.064285755157471, 6.830239772796631, 6.660160541534424, 1.6132676601409912, 1.6384409666061401, 7.09580135345459, 1.6597037315368652, 8.711440086364746, 8.206972122192383, 8.2052583694458, 12.198071479797363, 8.91914176940918, 8.927295684814453, 3.661851167678833, 8.923404693603516, 2.226363182067871, 2.2238662242889404, 4.88067626953125, 2.1733126640319824, 9.365623474121094, 5.8995842933654785, 5.05961799621582, 7.3817291259765625, 5.801534175872803, 3.744732141494751, 9.958467483520508, 9.93957233428955, 9.927016258239746, 9.933722496032715, 9.936245918273926, 0.6594796180725098, 0.6852788925170898, 7.210483074188232, 0.9547316431999207, 1.8167235851287842, 5.3504462242126465, 1.8256919384002686, 4.652296543121338, 2.999065399169922, 2.997713327407837, 7.2117791175842285, 2.9970359802246094, 5.51991605758667, 6.680046558380127, 0.4462542235851288, 7.6845879554748535, 4.211565017700195, 3.8543436527252197, 3.8152968883514404, -4.502612113952637, 3.817345142364502, -5.123173236846924, -5.136516094207764, 4.490391254425049, 7.536264419555664, 7.522898197174072, 7.080813884735107, 7.537240982055664, 6.632909297943115, 8.760534286499023, 9.28148365020752, 4.533386707305908, 4.770583152770996, -2.100144386291504, -2.0999300479888916, 7.383747100830078, -2.098637104034424, -0.3222215473651886, -0.3221665024757385, 2.4634127616882324, 16.302413940429688, 1.3820741176605225, 11.362195014953613, 6.334234714508057, 5.453327655792236, 8.459037780761719, 8.459197998046875, -5.1058268547058105, 8.820493698120117, 8.812627792358398, 5.100297451019287, 8.820545196533203, -4.714762210845947, 0.4167887270450592, 5.722492694854736, -4.717508316040039, 6.346055030822754, 5.215364933013916, 6.462372779846191, 6.679311752319336, 1.5447396039962769, 1.4801592826843262, 1.7117602825164795, 4.03557825088501, -4.752309799194336, 2.434868097305298, 2.4500365257263184, 9.909915924072266, 2.4427623748779297, 8.280333518981934, 7.997288227081299, 6.92686653137207, 7.813125133514404, -4.468400001525879, -4.466456890106201, 5.438150405883789, -4.466460227966309, 4.567325115203857, 4.583142280578613, 7.466939926147461, 4.582675457000732, -0.348112016916275, -0.33393943309783936, 3.309123992919922, -0.33072948455810547, 8.817671775817871, 8.796722412109375, 2.8208980560302734, 8.77983570098877, 9.282058715820312, -1.067558765411377, -1.3628028631210327, 3.4472458362579346, 5.49267053604126, 5.469583034515381, 4.003215789794922, 5.4884796142578125, 5.435544967651367, 5.4198737144470215, -0.8058300018310547, 5.451976776123047, 6.889066219329834, 8.246794700622559, 6.9890899658203125, 8.222413063049316, 5.341842174530029, 9.019987106323242, 1.5946323871612549, 1.6634820699691772, 11.562244415283203, 1.6312026977539062, 7.537360668182373, 7.53062105178833, 12.486186027526855, 7.52736759185791, 3.4116358757019043, 8.387959480285645, 3.399606466293335, 3.2402122020721436, 2.30993390083313, 1.6059767007827759, 1.6075042486190796, 1.8933472633361816, 1.6065622568130493, 16.977344512939453, 4.236453056335449, 4.161713123321533, 9.415473937988281, 4.184572696685791, 9.309789657592773, 9.406579971313477, 2.962951898574829, 11.054427146911621, -0.7557666301727295, -0.7062520980834961, -0.6400760412216187, -0.7089114189147949, 5.283931732177734, 5.275637626647949, 6.458136081695557, 5.279696941375732, 6.062588214874268, 6.059541702270508, 5.998924255371094, 6.007862567901611, 5.994653224945068, 4.113905429840088, 4.115983963012695, 3.2486460208892822, 4.1185760498046875, 7.366008281707764, 6.168929100036621, 3.5796732902526855, 7.359186172485352, 7.649924278259277, 7.652143955230713, 6.3987321853637695, 7.66734504699707, 7.027173042297363, 6.9640045166015625, 3.293311834335327, 7.037269115447998, 3.3854663372039795, 1.6986711025238037, 1.5536075830459595, 5.49492883682251, 0.9264259338378906, 2.005028009414673, 2.005437135696411, 2.965973138809204, 2.0187020301818848, 5.831054210662842, 5.83395528793335, 5.841520309448242, 4.809284687042236, 4.807435512542725, 7.236354351043701, 7.271914958953857, 4.83984375, 7.3343892097473145, -0.20079092681407928, 6.508445739746094, 8.16556167602539, 8.343855857849121, 8.362397193908691, 1.7849618196487427, 8.380054473876953, 8.810806274414062, 8.810800552368164, 8.765764236450195, 8.785670280456543, 3.9538707733154297, 9.621662139892578, 3.8084778785705566, 6.776550769805908, 4.065049171447754, 4.057871341705322, 6.539967060089111, 4.043089389801025, 1.502482533454895, 7.682762145996094, 1.4954817295074463, 4.723584175109863, 10.446159362792969, 5.652387619018555, 1.9759036302566528, 1.975710391998291, 2.0539045333862305, 1.9800307750701904, 6.512099742889404, 8.416204452514648, 6.4837646484375, 6.720170974731445, 10.282361030578613, -1.3488008975982666, 8.016057014465332, 8.022530555725098, 3.4872703552246094, 0.415101557970047, 3.9350035190582275, 9.476079940795898, 3.942086935043335, 11.090617179870605, -5.242557048797607, 3.7066102027893066, 3.7479543685913086, 5.90983772277832, 3.7396416664123535, 5.58241081237793, 5.568541049957275, 2.841144561767578, 5.496742248535156, 1.3530093431472778, 1.3388326168060303, 7.696612358093262, -0.11485233157873154, -0.11643651872873306, 7.733017921447754, 7.4845685958862305, 4.334920406341553, 12.009220123291016, 11.098665237426758, 5.986130714416504, 11.944356918334961, 11.981976509094238, 6.292879581451416, 6.024487018585205, 12.036325454711914, 3.711744785308838, 3.716590404510498, 5.504040718078613, 3.70732045173645, 9.14355754852295, 0.6425189971923828, 9.150362014770508, 6.506983280181885, 4.251864910125732, 10.512181282043457, 6.488005638122559, 6.940178394317627, 6.945914268493652, 12.521925926208496, 6.944029808044434, 6.1799774169921875, 5.23283052444458, 6.180650234222412, 5.626431941986084, 2.232158660888672, 1.8861838579177856, 2.001224994659424, 12.161699295043945, 12.210323333740234, 8.096219062805176, 7.4544501304626465, 7.5236077308654785, 9.467384338378906, 7.536215305328369, 4.061870098114014, 4.02679967880249, 3.8388991355895996, 4.008048057556152, 5.460501194000244, 3.7832906246185303, 5.096697807312012, 5.076176643371582, 5.343826770782471, 5.097869873046875, 4.898505210876465, 4.629130840301514, 6.089271068572998, 6.957067489624023, 5.314599514007568, 4.706626892089844, 4.712635517120361, 2.9536757469177246, 4.704394340515137, 6.672088146209717, 6.66981840133667, 2.01650333404541, 6.671246528625488, 2.1117937564849854, 2.1112475395202637, 2.291743516921997, 2.115145444869995, 2.2757010459899902, 3.5129001140594482, 9.287498474121094, 3.4074490070343018, 5.002655506134033, 3.318666458129883, 3.770510673522949, 3.7527265548706055, 2.3512821197509766, 4.212666034698486, 2.567754030227661, 2.4363183975219727, 8.283841133117676, 8.321206092834473, 7.644935131072998, 8.532450675964355, 8.366750717163086, 5.777917861938477, 8.623550415039062, 3.172244071960449, 3.1553807258605957, 9.361798286437988, 3.1651535034179688, 8.486838340759277, 8.475457191467285, 6.0308709144592285, 8.478608131408691, 9.76569652557373, 4.104861736297607, 2.02298903465271, 4.172861099243164, 5.420554161071777, 5.421344757080078, 1.960028886795044, 5.419548034667969, 4.022689342498779, 3.6918742656707764, 3.2685720920562744, 3.713634729385376, 8.15481185913086, 10.330599784851074, 10.328490257263184, 9.995868682861328, 10.327138900756836, 9.918278694152832, 10.327974319458008, 10.3270902633667, 5.636048793792725, 3.745718240737915, 1.3912638425827026, 6.14943265914917, 5.029626846313477, 1.6347219944000244, 1.0212113857269287, 3.5957422256469727, 0.9254328012466431, 7.719309329986572, 11.820324897766113, 9.039694786071777, -2.0808427333831787, -0.7951634526252747, 11.469063758850098, 11.473549842834473, 5.362503528594971, 11.47144889831543, 4.829878330230713, 4.804825305938721, 11.15428352355957, 11.43865966796875, 1.8454970121383667, 1.83467435836792, 2.1436588764190674, 1.8340376615524292, 2.5169737339019775, 2.5238142013549805, 7.059643268585205, 9.178565979003906, 6.3623833656311035, 10.872048377990723, 6.365929126739502, 5.3162994384765625, 3.558350086212158, 3.57450532913208, 4.981338024139404, 3.5517983436584473, 4.07802677154541, 4.035062789916992, 9.475568771362305, 7.461766719818115, 7.017626762390137, 7.014855861663818, 2.048872232437134, 7.011456489562988, 6.0474371910095215, 6.053718566894531, 5.577513694763184, 6.664272785186768, 0.9017961025238037, 6.181540012359619, 6.257471084594727, 9.07701301574707, 6.253724098205566, 8.390190124511719, 5.919485092163086, 5.865540504455566, 1.7311290502548218, 5.928214073181152, 6.263874053955078, 4.021524429321289, 2.971666097640991, 3.9812228679656982, 4.097813129425049, 6.745151519775391, 4.138648509979248, 1.0616832971572876, 5.4341535568237305, 5.401914596557617, 6.483443260192871, 11.999763488769531, 2.8704473972320557, 6.0198283195495605, 6.023867130279541, 3.3610260486602783, 6.013931751251221, 2.2433114051818848, 2.243093967437744, 3.267326831817627, 9.488860130310059, 2.2595460414886475, 3.661745071411133, 5.422066688537598, 3.9958655834198, 5.441000461578369, 11.20028305053711, 4.456255912780762, 6.3586273193359375, 5.528439998626709, 8.960128784179688, 6.359752178192139, 0.9949044585227966, 6.723111629486084, 1.5842782258987427, 7.987754821777344, 4.935127258300781, 4.716729640960693, 4.78556489944458, 5.392047882080078, 1.941359043121338, 1.9402130842208862, 9.980088233947754, 1.9495824575424194, 1.7359259128570557, 6.846770763397217, 11.029120445251465, 11.022895812988281, 3.1789369583129883, 11.02879524230957, 9.052620887756348, 6.150023937225342, 6.144509315490723, 5.3685736656188965, 6.146228313446045, 7.033271789550781, 7.037118434906006, 2.307047128677368, -2.3894217014312744, -2.3894996643066406, 5.122340679168701, -2.3860795497894287, 7.587488651275635, 7.609689712524414, 7.324984073638916, 6.90410852432251, 3.3492836952209473, 7.327447414398193, 2.9238226413726807, 6.337882995605469, 6.356550693511963, 3.408609390258789, 6.370385646820068, 9.100678443908691, 9.433390617370605, 4.440974712371826, 9.488214492797852, 5.6162495613098145, 5.713909149169922, -1.3700757026672363, -1.3715598583221436, 2.0042495727539062, -1.365485429763794, 6.93313455581665, 6.935092449188232, 3.60315203666687, 6.941529273986816, 11.092995643615723, 11.284398078918457, 1.4817618131637573, 11.091463088989258, 7.458034038543701, 5.460901737213135, 7.279782295227051, 4.7057929039001465, 5.964162349700928, 3.557805061340332, 4.195624828338623, 9.293717384338379, 3.5891244411468506, -2.085102081298828, -2.0775363445281982, 6.262202739715576, 2.4309728145599365, 2.430427074432373, 6.060226917266846, 6.056743144989014, 2.886531114578247, 3.0369067192077637, 2.891298294067383, 3.0544180870056152, 3.8289601802825928, 9.055839538574219, 9.06602668762207, 0.7299811244010925, 3.5423057079315186, 0.7523312568664551, 3.377717971801758, 8.468017578125, 7.490354537963867, 8.467737197875977, 6.046499252319336, 5.453826427459717, 2.6484105587005615, 0.275128573179245, 6.506322383880615, 6.984737873077393, 9.016952514648438, 0.6517804265022278, 5.314465522766113, 0.6367253661155701, 1.8749045133590698, 5.310603141784668, 5.301643371582031, 5.219604969024658, 6.172394275665283, 5.219189643859863, 6.249873638153076, 6.251165390014648, 7.434811115264893, 6.249020576477051, 2.1566271781921387, 2.1713333129882812, 12.4764986038208, 2.156309127807617, 8.359552383422852, 8.361494064331055, 9.681099891662598, 9.701102256774902, 5.385564804077148, 9.693621635437012, 7.2405500411987305, 7.225565433502197, 6.225597381591797, 7.298603057861328, 8.765129089355469, 8.230059623718262, 9.014341354370117, 11.118008613586426, 11.163479804992676, 1.7091411352157593, 1.725317358970642, 1.7777384519577026, 1.6994682550430298, 3.1144533157348633, 3.3751838207244873, 3.039682388305664, 4.902866363525391, 4.908902168273926, 0.15390771627426147, 7.452749252319336, 0.15221773087978363, 7.44884729385376, 6.852614879608154, 7.268127918243408, 7.63813591003418, 7.146892070770264, 6.286290168762207, 6.150269031524658, -1.220001220703125, -1.2210229635238647, 6.834519386291504, 4.326176166534424, 4.328644752502441, 12.504594802856445, 4.3305182456970215, 8.017032623291016, 8.048908233642578, 5.379266738891602, 8.036918640136719, 7.002938747406006, 7.031175136566162, 2.1402170658111572, 7.035362243652344, 9.049310684204102, 6.340872287750244, 9.106475830078125, 6.335069179534912, 5.060245037078857, 6.154647350311279, 6.158655166625977, 3.50641131401062, 0.6523776054382324, 16.98487663269043, 16.986230850219727, 8.314183235168457, 7.517390727996826, 7.522048473358154, 5.463441848754883, 7.520177841186523, 5.3331146240234375, 7.5037407875061035, 7.493949890136719, 3.3015692234039307, 7.495831489562988, 3.918327569961548, 3.8383021354675293, 4.674820899963379, 10.161117553710938, 10.136072158813477, 3.579371452331543, 10.126747131347656, 7.924623012542725, 7.862934589385986, 3.038648843765259, 7.877925395965576, 9.275032043457031, 3.855724573135376, 3.86374831199646, 4.7871527671813965, 3.871129274368286, 5.294348239898682, 5.300370216369629, 5.405418872833252, 5.4154052734375, 9.7268705368042, 6.751224517822266, 7.628304958343506, 3.454470634460449, 0.42883065342903137, 0.42339810729026794, 8.300325393676758, 8.316153526306152, 9.160383224487305, 8.304460525512695, 6.74861478805542, 2.413221597671509, 7.5749125480651855, 6.729897975921631, -2.078824520111084, -2.0789742469787598, 5.8080620765686035, 8.468777656555176, 7.9087443351745605, 2.3178799152374268, 10.934307098388672, 10.92751693725586, 5.283295631408691, 10.93642807006836, 5.488390922546387, 1.3710129261016846, 1.399893045425415, 8.510984420776367, 1.4064093828201294, 3.757268190383911, 6.699739933013916, 2.887784481048584, 4.1094584465026855, 6.469261646270752, 8.093827247619629, 7.86893892288208, 1.9351015090942383, 7.941421985626221, 2.826641321182251, 2.832674264907837, 8.907179832458496, 2.8244223594665527, 2.0327541828155518, 2.0424225330352783, 5.866400718688965, 2.0340142250061035, 6.043341159820557, 6.042304992675781, 4.312070369720459, 6.041932582855225, 7.516382694244385, 7.535337924957275, 7.169018745422363, 7.184743404388428, 2.460475444793701, 7.179267883300781, 8.944089889526367, 6.135188579559326, 6.631954193115234, 6.6272873878479, 4.941679000854492, 6.612786769866943, -4.4661712646484375, -4.466156005859375, 3.5683066844940186, -4.465640544891357, 4.261920928955078, 4.235202789306641, 6.444648742675781, 4.9185333251953125, 5.33603048324585, 5.332387924194336, 7.4732890129089355, 5.417383670806885, 3.9518628120422363, 3.931185007095337, 5.419003486633301, 3.934663772583008, 10.35865592956543, 10.351526260375977, 1.2328784465789795, 10.348953247070312, 2.056910991668701, 2.0671486854553223, 7.4334564208984375, 2.0509109497070312, 11.082334518432617, 11.105849266052246, 3.6858880519866943, 3.7436389923095703, 10.8158597946167, 3.676966905593872, 1.6748930215835571, 9.114692687988281, 9.114676475524902, 5.317065715789795, 9.114724159240723, 2.562220811843872, 2.5600082874298096, 6.501368045806885, 2.560112237930298, 4.220525741577148, 7.007961273193359, 0.13501454889774323, 4.729657173156738, 1.057429552078247, 1.9020037651062012, 3.146406650543213, 6.912606716156006, 5.071941375732422, 5.383566379547119, 5.51878547668457, 6.152091979980469, 7.460188388824463, 5.7603936195373535, 7.476696968078613, 4.362186431884766, 6.292762279510498, 6.268962383270264, 2.2044084072113037, 3.9319775104522705, 5.111748695373535, 5.0889201164245605, 7.113110542297363, 5.121561527252197, 8.430378913879395, 8.560625076293945, 5.348203659057617, 8.456646919250488, 7.066580772399902, 7.07833194732666, 2.4905593395233154, 7.074001312255859, 0.8224839568138123, 10.1488676071167, 4.995411396026611, 2.5333118438720703, 2.2501606941223145, 2.5083184242248535, 4.145634174346924, 4.1402716636657715, 3.600646495819092, 3.840135335922241, 1.9504852294921875, 1.9917845726013184, 2.291099786758423, 2.2858006954193115, 2.315547227859497, -0.8558422923088074, 2.2152466773986816, 5.941858768463135, 6.6743483543396, 5.488936424255371, 3.742492914199829, 6.72890043258667, 6.24925422668457, 3.113616704940796, 5.481365203857422, 4.263187885284424, 4.242911338806152, 5.039828300476074, 4.267027378082275, 2.0706167221069336, 0.859167218208313, 7.7786173820495605, 2.281675100326538, 2.28904390335083, 3.8983113765716553, 2.2863776683807373, 8.478517532348633, 8.294737815856934, 4.06763219833374, 5.459660053253174, 5.468981742858887, 6.909822940826416, 5.429131984710693, 3.6840293407440186, 7.499850749969482, -4.984661102294922, 3.707204818725586, 4.678584098815918, 4.701349258422852, 15.465967178344727, 15.467529296875, 4.288191795349121, 15.465775489807129, 5.335882186889648, 3.5514519214630127, 5.33638858795166, 2.778538942337036, 0.9084848165512085, 6.4923272132873535, 7.45571756362915, 7.544792175292969, 7.449161529541016, 4.57455587387085, 7.4409098625183105, 7.006893634796143, 2.0422749519348145, 4.626936435699463, 2.0440762042999268, 8.058050155639648, 7.073190689086914, 8.398088455200195, 3.555258274078369, 3.5953993797302246, 3.747809648513794, 1.4233150482177734, 1.442506194114685, 6.39339017868042, 1.3935487270355225, 6.441241264343262, 5.0810866355896, -1.1916234493255615, 6.435376167297363, 7.1773858070373535, 2.30149245262146, 5.938662052154541, 12.820647239685059, 5.938117027282715, 0.8274701237678528, 11.405080795288086, 12.053884506225586, 2.8784284591674805, 11.411677360534668, 5.943891525268555, 5.962852954864502, 6.189716339111328, 4.225135803222656, 4.187380790710449, 12.446813583374023, 4.1898040771484375, 8.710189819335938, 8.755088806152344, 1.774207353591919, 8.068671226501465, 0.6412611603736877, -4.531795501708984, 4.222137928009033, 7.556590557098389, 4.248946666717529, 1.6759216785430908, 3.9994215965270996, 6.649103164672852, 9.485540390014648, 3.3637189865112305, 5.86897611618042, 0.19088785350322723, 7.582772254943848, 7.212498188018799, 7.603004455566406, 5.811289310455322, 1.1455669403076172, 1.1210929155349731, 5.910560607910156, 1.1085680723190308, 6.792844295501709, 12.173338890075684, 7.0167436599731445, 3.5620832443237305, 3.5133767127990723, 2.995483636856079, 3.542665481567383, 9.18889331817627, 9.149356842041016, 8.898448944091797, 9.165292739868164, 11.236855506896973, 11.505293846130371, 11.275577545166016, 11.506037712097168, 4.312957763671875, 4.298005104064941, 9.986583709716797, 7.648946762084961, 8.435065269470215, 8.432066917419434, 8.472029685974121, 8.433858871459961, 6.6852898597717285, 6.674874305725098, 3.9085676670074463, 7.505021095275879, 7.396546363830566, 9.00986385345459, 7.469239711761475, 9.757018089294434, 9.739823341369629, 4.878188133239746, 9.742313385009766, 4.790380954742432, 4.716620922088623, 12.46915054321289, 4.767005920410156, 5.853692531585693, 5.854312896728516, 7.082240581512451, 5.853079795837402, 9.839122772216797, 9.84219741821289, 5.368432521820068, 5.383916854858398, 4.1795806884765625, 6.203373432159424, 7.504766464233398, 3.8689968585968018, 1.6075072288513184, 10.972650527954102, 0.03345552086830139, 3.608297109603882, 7.2285380363464355, 5.451737880706787, 8.822014808654785, 4.098172187805176, 4.236450672149658, 6.78426456451416, 4.109058380126953, 3.9175865650177, 3.919929027557373, 2.9804420471191406, 3.914170980453491, 1.4122934341430664, 6.045819282531738, 12.69398307800293, 3.475905656814575, 3.485499620437622, 6.360492706298828, 3.532127857208252, 8.727301597595215, 8.749951362609863, 3.964973211288452, 8.738245964050293, 5.288623809814453, 5.3044586181640625, 12.474104881286621, 5.303134918212891, 8.03057861328125, 4.596340656280518, 5.3432841300964355, 3.528926134109497, 8.171895027160645, 8.170833587646484, 6.427705764770508, 8.167167663574219, 4.315217971801758, 4.52152156829834, 5.7815752029418945, 4.3122406005859375, 6.455985069274902, 0.8492725491523743, 0.8495658040046692, 2.382981300354004, -0.05007065832614899, 3.647017240524292, 6.783671855926514, 5.564507484436035, 3.627246618270874, 2.8231260776519775, 6.898887634277344, 5.480805397033691, 7.633522987365723, 4.447513103485107, 5.047683238983154, 3.8768627643585205, 4.698694705963135, 5.209184169769287, 3.5449376106262207, 5.679033279418945, 3.533149242401123, 1.6761184930801392, 5.3963518142700195, 8.880757331848145, 5.475249767303467, 3.4626359939575195, 9.355743408203125, 9.354470252990723, 9.13824462890625, 9.356907844543457, 7.723630428314209, 7.749411582946777, 3.132246255874634, 7.747599124908447, 7.961780548095703, 4.925600051879883, 7.967071533203125, 5.006010055541992, 5.767599105834961, 8.261927604675293, 4.032400131225586, 2.997025489807129, 3.5113117694854736, 3.830284833908081, 4.473503112792969, 3.5284197330474854, 5.0888190269470215, 2.833022117614746, 2.9500560760498047, 5.2885661125183105, 0.4074547588825226, 0.40806281566619873, 11.280858993530273, 0.3916815519332886, 8.04382610321045, 8.03426456451416, 7.0634026527404785, 3.431476593017578, 3.7394726276397705, 8.016119956970215, 3.736323118209839, 6.675469875335693, 3.0300886631011963, 2.820331573486328, 5.4886860847473145, 3.02306866645813, 3.764254331588745, 4.086614608764648, 2.8713200092315674, 3.433257818222046, 6.9679388999938965, 2.8816468715667725, 8.590444564819336, 8.591206550598145, 3.892289876937866, 6.421341896057129, 6.44954776763916, 5.2187700271606445, 6.415014266967773, 8.279070854187012, 4.095423221588135, 8.934287071228027, 5.016937732696533, 8.940690040588379, 3.8550329208374023, 0.8708595633506775, 0.8580049276351929, 2.8843798637390137, 2.7372071743011475, 8.276762008666992, 2.026319980621338, 8.307720184326172, 6.04875373840332, -1.3708391189575195, 7.382674694061279, 1.8855969905853271, 11.281915664672852, 1.884846806526184, 3.6504743099212646, 2.005520820617676, 5.612332820892334, 1.9629545211791992, 8.018653869628906, 8.2133207321167, 8.337438583374023, 8.212090492248535, 4.677994728088379, 4.681924819946289, 5.102598667144775, 9.744489669799805, 11.157562255859375, 4.66285514831543, 11.553007125854492, 11.562554359436035, 11.10305404663086, 11.550292015075684, 4.690981864929199, 3.9444639682769775, 3.3963804244995117, 3.942263603210449, 4.505582332611084, 4.605055332183838, 5.585008144378662, 5.795931339263916, 5.662742614746094, 1.3694396018981934, 9.05399227142334, 5.5435051918029785, 2.063938617706299, 0.8656030297279358, -1.3678110837936401, 2.9423887729644775, 2.989809274673462, 5.728654861450195, 2.989311933517456, 5.329002380371094, 5.3286027908325195, 2.834303379058838, 5.341207027435303, 8.746545791625977, 2.1455142498016357, 8.453805923461914, 4.703855037689209, 1.2183020114898682, 3.823481798171997, 4.707376003265381, 7.432384967803955, 7.105604648590088, 9.536635398864746, 7.252726078033447, 6.518368244171143, 1.4907125234603882, 6.251076698303223, 1.490445613861084, 8.400067329406738, 8.407493591308594, 10.02382755279541, 8.411128044128418, 0.7247323393821716, 0.8231043219566345, 5.784094333648682, 5.778982162475586, 5.453441619873047, 5.771763324737549, 3.636782169342041, 3.6264638900756836, 11.312787055969238, 3.623955488204956, 7.688663005828857, 9.694891929626465, 0.2764921486377716, 5.591957092285156, 5.670045852661133, 5.486421585083008, 11.254399299621582, 9.739189147949219, 7.00647497177124, 5.19498348236084, 3.849500894546509, 3.5213065147399902, 8.982919692993164, 3.6052329540252686, 8.396651268005371, 8.41955280303955, 6.732177734375, 8.358248710632324, 10.357653617858887, 8.006778717041016, 3.981945753097534, 3.9525344371795654, 5.355782508850098, 3.9766886234283447, 0.4416891932487488, 10.003349304199219, 7.292274475097656, 12.20506763458252, 10.001313209533691, 10.502882957458496, 6.952279090881348, 0.6193690299987793, 1.8714003562927246, 6.424228191375732, 0.6183043122291565, 6.362645626068115, 2.4634361267089844, 8.118529319763184, 3.5739738941192627, 4.7704243659973145, 9.961092948913574, 10.111518859863281, 7.60208797454834, 9.61815071105957, 1.6158006191253662, 3.490429162979126, 8.91282844543457, 3.4922986030578613, 5.069662094116211, 7.073753356933594, 7.898159503936768, 7.065826416015625, 3.6490485668182373, 9.717406272888184, 9.396143913269043, 3.601370334625244, 3.3251938819885254, 3.352562427520752, 5.917032241821289, 3.3830409049987793, 3.956779718399048, 5.387960910797119, 5.306386470794678, 5.313155174255371, 4.030562877655029, 5.297544002532959, 3.691800355911255, 3.65608811378479, 6.4884538650512695, 3.712830066680908, 10.350682258605957, 10.358660697937012, 2.29520320892334, 10.350801467895508, 7.546966075897217, 7.105949401855469, 4.246029853820801, 10.407549858093262, 4.250853538513184, 5.621883392333984, 8.090956687927246, 8.084151268005371, 1.7784347534179688, 8.086753845214844, 11.270669937133789, 10.98415756225586, 11.236180305480957, 1.0314596891403198, 6.010405540466309, 6.030542373657227, -1.415845513343811, 5.668214321136475, 9.28988265991211, 5.4619975090026855, 2.5123682022094727, 3.717000961303711, 3.7276840209960938, 3.7336978912353516, 3.701941728591919, 4.206447124481201, 3.684622287750244, 4.634873390197754, -0.3169092833995819, 3.5941989421844482, 9.339190483093262, 3.589369058609009, 4.8638410568237305, -2.176114082336426, -2.1881141662597656, 9.569889068603516, 0.9083577394485474, 9.641514778137207, 9.70747184753418, 7.746739864349365, 9.632247924804688, 7.216564655303955, 7.215719223022461, 8.13320255279541, 7.215274333953857, 3.6652796268463135, 5.271828651428223, 5.848448276519775, 1.5855308771133423, 9.308290481567383, 1.5986510515213013, 5.100842475891113, 11.776959419250488, -5.131170272827148, 3.7589526176452637, 2.47409725189209, 3.746807813644409, 2.30120849609375, 4.890178203582764, 4.927069187164307, 3.802804470062256, 3.8075406551361084, 10.3484468460083, 9.0383882522583, 4.201221466064453, 5.502406597137451, 3.875667095184326, 1.5211918354034424, 6.213176727294922, 1.505651831626892, 1.8741159439086914, 3.2936923503875732, 9.459547996520996, 9.417776107788086, 9.19166088104248, 1.3331615924835205, 9.462950706481934, 5.1019158363342285, 11.31531810760498, 5.327744007110596, 11.304244995117188, 5.520383834838867, 1.5803618431091309, 2.064746856689453, 1.4712859392166138, 1.5886409282684326, 5.989839553833008, 5.99302339553833, 6.627921104431152, 6.085571765899658, 6.437326908111572, 3.5932650566101074, 6.456402778625488, 8.37173843383789, 5.073205471038818, 5.085577487945557, 5.092081069946289, 6.157284259796143, 10.002947807312012, 9.993355751037598, 4.362638473510742, 9.992027282714844, 2.028843879699707, 9.007966995239258, 2.0262746810913086, 3.8060646057128906, 9.464468002319336, 9.440272331237793, 3.2834205627441406, 9.453072547912598, 9.78472900390625, 9.204854011535645, 9.775802612304688, 5.5251145362854, 5.8897857666015625, 5.809161186218262, 5.8737568855285645, 9.564996719360352, -2.0831875801086426, 5.795842170715332, 9.649191856384277, 2.482320547103882, 2.0304439067840576, 6.488572120666504, 4.072210788726807, 4.09391975402832, 6.009948253631592, 4.048475742340088, 7.731195449829102, 7.727147102355957, 6.724116325378418, 7.727555751800537, 4.230506896972656, 1.665761947631836, 4.236085891723633, 3.9119656085968018, 6.85642147064209, 6.79022216796875, 5.092304229736328, -0.11585254967212677, 5.3900861740112305, 5.249304294586182, 1.5346243381500244, 8.805535316467285, 1.5313606262207031, 8.134821891784668, 5.341728210449219, 4.162318706512451, 5.294069290161133, 8.536211013793945, 8.492002487182617, 3.443575859069824, 9.638254165649414, 3.6931710243225098, 5.542928695678711, -0.18861718475818634, 3.0030035972595215, 9.754838943481445, 6.787520408630371, 6.734435081481934, 2.996401071548462, 6.743937015533447, 9.438674926757812, 9.458221435546875, 4.117945194244385, 4.116817951202393, 8.525802612304688, 8.611566543579102, 5.898445129394531, 1.7743816375732422, 3.030848979949951, 1.806685447692871, 8.387243270874023, 6.7414069175720215, 6.725821018218994, 6.736536502838135, 6.745030879974365, 1.4649708271026611, 1.4738117456436157, 9.715801239013672, 1.4637359380722046, 3.7941789627075195, 6.8268914222717285, 3.8883044719696045, 5.287328243255615, -2.1005401611328125, 3.7260611057281494, 2.9239249229431152, 7.563183784484863, 6.931360721588135, 1.778679609298706, 1.5545579195022583, 1.5567506551742554, 3.1556413173675537, 1.5629310607910156, 5.834035396575928, 6.062509536743164, 6.403468608856201, 7.563405990600586, 7.563424110412598, 6.733554840087891, 7.562954902648926, 4.108579158782959, 4.703254222869873, 4.102755069732666, 5.0755462646484375, 3.7691762447357178, 3.754915475845337, 4.688133716583252, 3.7657644748687744, 8.572137832641602, 8.5725736618042, 3.262826442718506, 8.546619415283203, 12.733682632446289, 11.103068351745605, 5.349200248718262, 11.103500366210938, 5.2755961418151855, 5.274252891540527, -2.1722846031188965, 12.073963165283203, -2.168994903564453, 12.08913803100586, 8.863847732543945, 6.910007953643799, 6.927452564239502, 3.4306716918945312, 9.301213264465332, 9.317112922668457, 5.38932466506958, 9.308174133300781, 5.0761189460754395, 2.2621994018554688, 4.42612886428833, 5.036171913146973, 17.43622589111328, 16.981813430786133, 6.069276809692383, 1.7514047622680664, 1.7758677005767822, 6.262535572052002, 1.7614049911499023, 2.560009717941284, 10.010198593139648, 2.5407845973968506, 9.095587730407715, 3.9840967655181885, 9.408781051635742, 4.173272132873535, 3.6321189403533936, 4.173523426055908, 2.4199233055114746, 9.646797180175781, 9.654891967773438, 3.749819278717041, 9.651471138000488, 7.927814483642578, 7.852102756500244, 8.853490829467773, 6.60508394241333, 6.5664381980896, -4.987978935241699, 6.608170509338379, 5.841122150421143, 5.7826032638549805, 3.5520706176757812, 5.805875301361084, 8.253454208374023, 8.255423545837402, 3.482269287109375, 8.250319480895996, 2.5018136501312256, 8.139047622680664, 3.9755728244781494, 17.437545776367188, 4.400311470031738, 4.406545162200928, 2.455573320388794, 4.390815734863281, 1.2299325466156006, 9.203113555908203, 9.184581756591797, 3.02901291847229, 7.848641395568848, 11.822855949401855, 11.822866439819336, 4.238050937652588, 11.822856903076172, -0.32213106751441956, -0.3228398561477661, 2.475510597229004, 3.890835762023926, -0.31584298610687256, 2.952312469482422, 2.8689355850219727, 6.442362308502197, 2.8640456199645996, 1.5973373651504517, 9.761251449584961, -1.3972439765930176, -1.3380732536315918, 9.7633056640625, -1.3929414749145508, -1.3501765727996826, 3.9064106941223145, 2.2662904262542725, 5.30029821395874, 4.921907901763916, 1.6795419454574585, 6.910965442657471, 5.426696300506592, 5.801324367523193, 7.864486217498779, 10.724527359008789, 10.750431060791016, 2.870398759841919, 10.720479965209961, 3.137625217437744, 3.1055426597595215, 7.080177307128906, 6.882090091705322, 1.5826013088226318, 4.0670905113220215, 2.6774966716766357, 4.076592445373535, 4.119564533233643, 3.8075203895568848, 3.424044370651245, 3.1289682388305664, 4.024162769317627, 3.8583340644836426, 3.8531882762908936, 11.079506874084473, 3.89274001121521, 0.056608930230140686, -0.007813360542058945, 9.422134399414062, 0.03146992623806, 6.017952919006348, 2.6523804664611816, 6.777916431427002, 9.333048820495605, 3.2545762062072754, 11.3910551071167, 3.246452569961548, 3.3795676231384277, 3.8805501461029053, 3.615424156188965, 9.905976295471191, 3.956305742263794, 3.7043557167053223, 9.921250343322754, 1.9472507238388062, 1.9658809900283813, 5.097566604614258, 1.9672616720199585, 11.273394584655762, 4.927065372467041, 2.824153423309326, 2.8258771896362305, 2.5478806495666504, 2.8303165435791016, 8.490062713623047, 3.1604602336883545, 3.1939046382904053, 4.335999011993408, 3.189635992050171, 9.29314136505127, 8.228574752807617, 1.9779614210128784, 3.632585048675537, 3.0499629974365234, 3.6174521446228027, 6.609560966491699, 5.992685794830322, 5.981677532196045, 7.370975017547607, 5.988465309143066, 0.6104665398597717, 0.6116706728935242, 6.438995838165283, 0.6013896465301514, 22.00925064086914, 22.009258270263672, 5.363710880279541, 22.009328842163086, 5.94040584564209, 5.943413734436035, -4.531522274017334, 5.939023971557617, 2.485487222671509, 2.5111334323883057, 2.9985885620117188, 6.43405818939209, 4.144721031188965, 3.7723464965820312, 1.8093217611312866, 8.354856491088867, 7.697850227355957, 9.39206600189209, 8.425987243652344, 6.909727096557617, 6.944551467895508, 7.381221294403076, 6.667722702026367, 4.931356430053711, 5.831424236297607, 4.925887107849121, 3.8845975399017334, 6.96310567855835, 3.9222307205200195, 6.971545219421387, 3.92792010307312, 2.429720401763916, 6.403151988983154, 0.27494388818740845, 0.27494576573371887, 6.696662425994873, 7.4673171043396, 4.684173107147217, 7.472931861877441, 6.363307476043701, 3.0641396045684814, 2.0479047298431396, 3.0551183223724365, -0.9776984453201294, 3.139669179916382, 3.071265697479248, 12.205276489257812, 12.200180053710938, 6.515296936035156, 6.514698028564453, 5.704145431518555, 6.481407642364502, -0.9788233637809753, 8.290185928344727, 0.9872020483016968, 5.979039192199707, 3.562453508377075, 8.551619529724121, 5.784256458282471, 6.986265659332275, 6.990283966064453, 5.360693454742432, 6.997567653656006, 3.6485018730163574, 4.384677886962891, 2.59653377532959, 4.396210670471191, 4.759496688842773, 3.9351842403411865, 3.6536829471588135, 4.36920690536499, 2.7630414962768555, 9.702071189880371, 9.802138328552246, 4.712194442749023, 9.686402320861816, 2.854210138320923, 9.047508239746094, 9.042561531066895, 3.7169480323791504, 7.7650041580200195, 9.048842430114746, 7.8236236572265625, 7.9520745277404785, 12.462793350219727, 7.924468040466309, 7.609193325042725, 7.527657508850098, 9.02637004852295, 7.526711940765381, 10.350621223449707, 10.350848197937012, 4.601891994476318, 10.359511375427246, 10.348029136657715, 4.626228332519531, 9.243246078491211, 4.64357852935791, 7.67954158782959, 5.798614025115967, 5.845193862915039, 6.518845558166504, 6.515730381011963, 3.051539182662964, 6.5252790451049805, 16.296802520751953, 16.303466796875, 5.343119144439697, 2.1252262592315674, 9.110342025756836, 9.10942268371582, 0.30527254939079285, 9.122882843017578, 0.6040215492248535, 0.6091544032096863, 6.412773609161377, 0.5989823937416077, 8.56822681427002, 6.811664581298828, 8.565397262573242, 1.5095711946487427, 6.392087459564209, 5.979457855224609, 7.590574741363525, -0.14635203778743744, 7.562339782714844, 2.2895493507385254, 2.3189444541931152, 7.562188625335693, 2.2801432609558105, 2.3293371200561523, 6.940000534057617, 7.551894664764404, 6.960305690765381, 7.599145889282227, 3.2411727905273438, 6.236955165863037, 6.109181880950928, 2.9423675537109375, 6.135491847991943, 7.460512161254883, 7.483976364135742, 6.641702175140381, 4.047524929046631, 4.08517599105835, 3.163933515548706, -5.018101215362549, -5.009504318237305, 1.7859135866165161, 3.947444200515747, 8.269306182861328, 8.223184585571289, 7.622311592102051, 11.472773551940918, 11.472167015075684, 9.65619945526123, 11.472256660461426, 9.325693130493164, 9.325942039489746, 1.6810482740402222, 9.325783729553223, -0.7526288032531738, -0.7554324865341187, 10.1541748046875, 6.205128192901611, 8.312971115112305, 10.30216121673584, 4.493755340576172, 10.301928520202637, 6.005537033081055, 9.717397689819336, 9.727086067199707, 6.210277557373047, 9.723758697509766, 9.454001426696777, 9.193344116210938, -5.129367828369141, 5.26281213760376, 5.21190071105957, 5.467669486999512, -1.4144537448883057, -1.4000505208969116, 0.6692692041397095, 0.625004768371582, 6.17002534866333, 2.5364019870758057, 2.161098003387451, 2.183790922164917, 9.071707725524902, 2.183037757873535, 7.617828369140625, 7.60744571685791, 3.622591018676758, 7.651605606079102, 7.669517517089844, 7.679452896118164, 4.369445323944092, 7.702643394470215, 4.946352958679199, 4.94564962387085, 6.702301502227783, 4.939570903778076, 2.291513681411743, 6.269047260284424, 2.0813305377960205, 5.41513204574585, 3.1662631034851074, 7.491002082824707, 3.1667234897613525, 7.376885414123535, 2.9057817459106445, 3.203157901763916, 9.649901390075684, 6.597596645355225, 6.597362518310547, 6.598382949829102, 1.6071263551712036, 3.1323390007019043, 6.5971479415893555, 9.974760055541992, 9.974757194519043, 6.493135452270508, 9.974757194519043, -1.0635077953338623, 7.678699970245361, 4.308183193206787, 4.292609691619873, 3.164130449295044, 4.2797136306762695, 7.725306034088135, 7.698596000671387, 6.854063987731934, 7.712014198303223, 2.8918066024780273, 3.679081678390503, 9.2430419921875, 3.8488590717315674, 3.4895803928375244, 9.50053596496582, 7.346103191375732, -5.233556270599365, 7.998530864715576, 3.051577568054199, 9.731922149658203, 3.0003461837768555, 7.094770908355713, -0.9877054691314697, -0.7140722274780273, 1.2240674495697021, 1.225150227546692, 17.44011116027832, 17.43975257873535, 1.9894691705703735, 17.438676834106445, 10.115631103515625, 9.161186218261719, 7.961146831512451, 9.16856861114502, 5.856832981109619, 5.807237148284912, 5.77358865737915, 4.022991180419922, 4.020939350128174, 8.511197090148926, 8.53537368774414, 4.555563926696777, 6.775251388549805, 6.734599590301514, 6.735877513885498, 9.940881729125977, 6.733151435852051, 7.7276835441589355, 8.01708984375, 5.763503551483154, 5.742398262023926, 4.108023643493652, 5.74902868270874, 8.879409790039062, 8.222708702087402, 8.882701873779297, 8.300934791564941, 5.643610954284668, 5.6498823165893555, 1.6023774147033691, 7.483804702758789, 1.8836005926132202, 5.854753494262695, 5.817822456359863, 9.660883903503418, 5.882874965667725, 5.3917341232299805, 1.6888130903244019, 6.47233247756958, 6.486156463623047, 5.073802947998047, 9.16419506072998, 6.379935264587402, 9.158674240112305, 6.384613037109375, 7.953186511993408, 5.11504602432251, 5.000856399536133, 4.810792922973633, 6.273019313812256, 6.218744277954102, 2.0173282623291016, 2.0247626304626465, 5.4299635887146, 2.0299575328826904, 7.6376142501831055, 7.496081829071045, 7.308935642242432, 7.661437511444092, 8.60876750946045, 9.452657699584961, 10.357274055480957, 10.35904312133789, 6.466940402984619, 10.349969863891602, 5.594455242156982, 3.462966203689575, 3.455751895904541, 3.462509870529175, 3.4520211219787598, 9.648777961730957, 0.5841750502586365, 5.440735816955566, 2.9145395755767822, 4.1888346672058105, 4.18064546585083, 4.409852504730225, 7.4038987159729, 9.190145492553711, 8.148231506347656, 6.755890846252441, 9.199676513671875, 9.294390678405762, 6.297375679016113, 5.3525214195251465, 9.314046859741211, -5.1279215812683105, 3.5646162033081055, 3.5381956100463867, 3.1234970092773438, 3.572401762008667, 4.556014060974121, 8.10482120513916, 0.8112549185752869, 3.820497989654541, 5.523746967315674, 4.992058753967285, 4.832943916320801, 3.377389430999756, 4.990845203399658, 6.5416579246521, 8.402790069580078, 8.401346206665039, 8.4843111038208, 9.34068775177002, 8.507468223571777, 8.487241744995117, 7.544820308685303, 7.574231147766113, -1.3945064544677734, -1.3366477489471436, 2.599320650100708, -1.3674290180206299, 9.59919548034668, -0.27855750918388367, 3.2985541820526123, 3.297820806503296, 17.436086654663086, 3.303621530532837, 3.394052028656006, 3.3895456790924072, 6.669268608093262, 3.399596691131592, 11.558756828308105, 11.47468090057373, -1.3753596544265747, -1.3680099248886108, 2.4350781440734863, -1.3712706565856934, 5.6063737869262695, 3.5013861656188965, 8.361288070678711, 5.383450984954834, 5.367456912994385, 3.9719018936157227, 3.4060757160186768, 9.551292419433594, 3.539363384246826, 5.211367130279541, 2.5052690505981445, 6.684887409210205, 2.5082271099090576, 6.843074321746826, 7.246607303619385, 6.399188995361328, 6.388458728790283, 7.480960369110107, 9.011022567749023, 10.318159103393555, 10.317774772644043, 11.303062438964844, 10.316925048828125, 6.605129241943359, 5.603893280029297, 8.79705810546875, 5.464302062988281, 7.068968296051025, 7.074197769165039, 5.303840637207031, 7.061805248260498, 0.6983069181442261, 0.6636825203895569, 5.394001483917236, 0.6648148894309998, -0.07196784019470215, -0.045204710215330124, 4.554795742034912, -0.044624947011470795, 2.8914051055908203, 2.913994312286377, 2.3144235610961914, 2.911194086074829, -2.395334005355835, 2.363616466522217, 12.492509841918945, 2.3797056674957275, 1.9749794006347656, 5.379324436187744, 4.2693023681640625, 4.290421485900879, 6.427222728729248, 4.249281406402588, 1.159272313117981, 2.125647783279419, 2.564594268798828, 8.90920352935791, 8.874794960021973, 2.9468817710876465, 8.907618522644043, 10.990411758422852, 6.411523818969727, 5.328693866729736, 10.990532875061035, 8.675326347351074, 8.714162826538086, 3.649731397628784, 8.589929580688477, 2.8444600105285645, 2.8414742946624756, -4.5370635986328125, 2.8450865745544434, 9.063451766967773, 2.0457119941711426, 9.006080627441406, 2.038722515106201, 5.040742874145508, 0.8479189872741699, 0.8521365523338318, 2.03348970413208, 2.020787477493286, 2.5097384452819824, 2.0319387912750244, 2.4794867038726807, 6.265926361083984, 3.6240150928497314, 6.3633246421813965, 6.494829177856445, 8.468884468078613, 8.873673439025879, 6.431492805480957, 8.472877502441406, 8.303335189819336, 8.293875694274902, 7.085700035095215, 0.41778695583343506, 6.592729568481445, 7.1061320304870605, 4.2057204246521, 7.166482925415039, 9.45536994934082, 3.9996912479400635, 3.0022342205047607, 2.9115703105926514, 5.440737247467041, 2.953993082046509, 4.994279861450195, 4.947938919067383, 7.361196041107178, 1.080046534538269, 8.063546180725098, 8.06668758392334, 6.757863998413086, 8.065281867980957, 2.995680809020996, 2.967041254043579, 7.463094234466553, 7.488813400268555, 2.856515645980835, 6.7526984214782715, 4.142397403717041, 6.627010822296143, 6.586414337158203, 7.468099594116211, 7.481993198394775, 7.485732555389404, 7.476500034332275, 7.7086286544799805, 7.563498020172119, 6.374248027801514, 7.613731384277344, 5.755366325378418, 4.067729949951172, 5.757427215576172, 7.530754566192627, 9.760619163513184, 9.754462242126465, 3.4334912300109863, 3.5315935611724854, -5.104337215423584, 0.6486514806747437, 6.426661968231201, 6.3976287841796875, 6.091250419616699, 2.578594207763672, 2.586106061935425, 2.260237216949463, 2.2639214992523193, 9.5696382522583, -0.3504835367202759, -0.7115387916564941, 2.1877217292785645, 9.355430603027344, 3.7883799076080322, 3.787987470626831, 6.742733001708984, 2.0594513416290283, 2.901261806488037, 2.927584409713745, 9.050025939941406, 2.9091813564300537, 2.66245436668396, 2.6476430892944336, 2.8654661178588867, 2.6462349891662598, 3.303912878036499, 3.3288538455963135, 3.3337440490722656, 8.123823165893555, 3.3087027072906494, 8.002638816833496, 7.662005424499512, 8.006291389465332, 7.854972839355469, 5.440714359283447, 5.4407219886779785, 3.7825047969818115, 2.4110212326049805, 9.71269702911377, 9.48697566986084, 1.5524978637695312, 5.208533763885498, 6.492937088012695, 1.8960751295089722, 1.8875393867492676, 3.0894925594329834, 1.8534307479858398, 3.0063488483428955, 4.812194347381592, 2.6967220306396484, 3.1726577281951904, 3.0096020698547363, 9.643129348754883, 0.5846967101097107, 5.68181037902832, -0.2739297151565552, 0.5644668340682983, 0.5797072052955627, 7.492494106292725, 8.080317497253418, 4.010790824890137, 4.0920000076293945, 9.703033447265625, 4.002920150756836, 3.28235125541687, 3.274662733078003, 3.073269844055176, 0.9913444519042969, 0.14766868948936462, 0.7157248258590698, 0.28148338198661804, 1.9884960651397705, 0.4941616356372833, -1.325790524482727, 6.205379009246826, 8.210790634155273, 8.227453231811523, 5.440726280212402, 8.216775894165039, -2.3953545093536377, 2.370356321334839, 12.514158248901367, 2.3637280464172363, 6.03429651260376, 6.021602630615234, 11.351082801818848, 6.022245407104492, -4.866705894470215, -4.850892066955566, 3.890916585922241, 4.048599720001221, 4.011580467224121, 5.453834056854248, 11.82287311553955, 7.54671573638916, 7.546347141265869, 9.014130592346191, 5.278959274291992, 10.0307035446167, 0.9361191987991333, 0.41504576802253723, 0.4230108857154846, 2.490919589996338, 0.4075535237789154, 9.007558822631836, 8.505187034606934, 8.148297309875488, 2.5375590324401855, 3.733226776123047, 8.128255844116211, 10.092671394348145, 10.050538063049316, 2.8698792457580566, 2.8565404415130615, 4.20486307144165, 2.8627541065216064, 9.523964881896973, 9.43684196472168, 7.887624740600586, 9.457833290100098, 3.3457746505737305, 3.230395555496216, 8.989383697509766, 3.347931385040283, -0.1189933717250824, -0.8881548643112183, -0.1125723347067833, -0.9434765577316284, 3.19234299659729, 3.2028892040252686, 6.36290979385376, 3.0740268230438232, 4.69220495223999, 4.645474910736084, 6.527257442474365, 4.709779262542725, 8.429553031921387, -4.708967685699463, 2.5410730838775635, 2.7385993003845215, 3.955854892730713, 3.9406046867370605, 8.934703826904297, 3.939770460128784, -2.395169973373413, 2.2831497192382812, 12.468533515930176, 2.2866334915161133, 6.210755348205566, 6.180267810821533, 3.2001636028289795, 3.38289213180542, 6.01863431930542, 3.6859116554260254, 10.258803367614746, 3.696490526199341, 6.502340316772461, 11.822989463806152, 4.167323112487793, 6.505441665649414, 4.167891979217529, 7.605144500732422, 8.062667846679688, 7.5414509773254395, 2.5867836475372314, 7.5422444343566895, 8.26571273803711, 8.150822639465332, 3.400524139404297, 8.158369064331055, 9.653682708740234, 2.128464937210083, 2.200352907180786, 4.304074764251709, 4.093742847442627, 5.323901176452637, 4.081777572631836, 2.675022840499878, 7.853238105773926, 4.887975692749023, 4.681761264801025, 4.731351375579834, -1.397438883781433, -1.4063081741333008, -4.744462490081787, 9.60348129272461, 7.2999773025512695, -4.764326572418213, 6.597105503082275, 5.346203804016113, 5.256208419799805, 6.565968990325928, 5.269677639007568, 7.730246543884277, 5.345247268676758, 4.482074737548828, 5.320802688598633, 11.140789031982422, 9.872519493103027, 11.077094078063965, 3.623291492462158, 6.159244537353516, 6.668315410614014, 9.986700057983398, 6.722387790679932, 2.2919962406158447, 6.209939956665039, 2.2915098667144775, 5.691660404205322, 6.235674858093262, 8.167388916015625, 6.211259365081787, 5.057644367218018, 3.050381660461426, 8.730788230895996, 9.139451026916504, 8.731826782226562, 6.0965352058410645, -4.552504539489746, 1.9145228862762451, 1.8770365715026855, 8.227149963378906, 1.902861475944519, 2.048511028289795, 4.744688034057617, 2.0518393516540527, 8.060667037963867, 12.876340866088867, 12.880279541015625, 2.704274892807007, 12.869061470031738, 3.908294200897217, 8.45860767364502, 3.8942019939422607, 5.676584243774414, 0.8447085022926331, 2.4353346824645996, 0.8460795879364014, 1.5449025630950928, 4.041952133178711, 4.06088924407959, 8.342390060424805, 8.604703903198242, 5.613165378570557, 5.600588321685791, 5.746953964233398, 5.562415599822998, 6.724863529205322, 6.707119941711426, 3.353342056274414, 6.702210903167725, 5.85245418548584, -4.573394298553467, 6.234521389007568, -4.466558933258057, -4.466541290283203, 4.219826698303223, -4.467814922332764, 11.42740535736084, 8.06096076965332, 8.069723129272461, 5.786707878112793, 8.060247421264648, 5.502270221710205, 7.465208053588867, 8.576356887817383, 3.6933131217956543, 3.702425718307495, 2.2928061485290527, 6.0576252937316895, 6.05804443359375, 2.3636891841888428, 6.058400630950928, -2.395360231399536, 2.365902900695801, 12.525919914245605, 2.3717472553253174, 9.1375093460083, 8.356328964233398, 8.33773136138916, -4.727301597595215, 8.359691619873047, 5.458491802215576, 5.540159225463867, 5.531361103057861, 6.789646148681641, 1.0502166748046875, 6.776011943817139, 2.003213882446289, 2.0463955402374268, 7.254795551300049, 9.63105297088623, 3.8844799995422363, 3.8455724716186523, 9.6218843460083, 3.617069959640503, 10.835399627685547, 10.819340705871582, 4.271966457366943, 10.91103458404541, 7.507492542266846, 9.418764114379883, 7.449656963348389, -0.6602529883384705, 6.654187202453613, 6.294200897216797, 12.466106414794922, 6.652101039886475, 6.094102382659912, 6.108409881591797, 4.5953545570373535, 6.092587471008301, 16.287450790405273, 4.006641387939453, 7.656477928161621, 8.18515682220459, 4.876119613647461, 4.8709001541137695, 5.278845310211182, 18.868335723876953, 18.86831283569336, 2.0036375522613525, 18.868310928344727, 8.47677230834961, 5.664159774780273, 9.28363037109375, 8.457582473754883, 6.024982452392578, 6.036743640899658, 6.401082515716553, 6.39002799987793, 1.9570629596710205, 8.745146751403809, 3.8619630336761475, 7.540833473205566, 2.1410624980926514, 3.6549808979034424, 2.1759815216064453, 22.00933837890625, 22.00934410095215, 0.6898505687713623, 22.009334564208984, 3.104774236679077, 0.7571555376052856, 7.739827632904053, 7.710235595703125, 5.262561321258545, 7.722176551818848, 5.287649631500244, 9.449652671813965, 5.317215442657471, 2.752861261367798, 5.1912641525268555, 5.122415542602539, 9.242796897888184, 5.216835975646973, 9.120100021362305, 6.8477702140808105, 6.826849460601807, 5.320457935333252, 6.855109691619873, 0.5294166207313538, 0.5303294062614441, 5.689314365386963, 3.175306558609009, 6.396824836730957, 2.518984317779541, 2.517058849334717, 2.563620090484619, 9.342859268188477, 2.5601587295532227, 3.3446950912475586, 5.458205699920654, 3.351350784301758, 3.671915054321289, 5.404336929321289, 5.829712867736816, 2.885711193084717, 6.822834014892578, 2.8380517959594727, 6.821432590484619, 7.349494457244873, 5.262056827545166, 8.539835929870605, 8.506282806396484, 3.719975471496582, 8.567131042480469, 8.288409233093262, 8.268599510192871, 9.506729125976562, 8.082779884338379, 2.4852895736694336, 2.481421947479248, 2.529651165008545, 6.601037979125977, 6.597504138946533, 9.096367835998535, 9.08068561553955, 6.724457263946533, 9.080167770385742, 9.12771224975586, 5.713819980621338, 5.862753868103027, 7.001287460327148, 5.996603012084961, 5.4834303855896, 5.500823974609375, 7.637253761291504, 1.5478689670562744, 5.285350322723389, 1.5470744371414185, 3.1146786212921143, 3.11366605758667, 8.216620445251465, 8.428930282592773, 5.790760040283203, 4.226498126983643, 3.7240936756134033, -2.094101667404175, -0.7718908786773682, 6.3708906173706055, 6.346317291259766, 9.45758056640625, 6.385989665985107, 5.284633636474609, 2.561176061630249, 2.5615577697753906, 2.5410995483398438, 2.558349370956421, 2.1481449604034424, 2.1529147624969482, 12.465665817260742, 2.151634693145752, 8.498302459716797, 8.49755573272705, 4.318078517913818, 8.497715950012207, 0.7562116384506226, 0.7892419695854187, 11.576664924621582, 0.8113473057746887, 11.499624252319336, 4.259840965270996, 5.089951992034912, 5.509199142456055, 6.995072841644287, 6.992530822753906, 2.4549927711486816, 7.002872467041016, 2.244264841079712, 10.45272159576416, 2.2223317623138428, 5.442949295043945, 5.560279369354248, 5.987510681152344, 6.629011154174805, 5.945026397705078, 7.9279375076293945, 8.341423034667969, 8.336305618286133, 4.888491630554199, 5.28379487991333, -10.866205215454102, -10.866205215454102, 5.424042701721191, 0.7811328172683716, 9.63985824584961, 9.323026657104492, 4.256834506988525, 4.038144588470459, 3.52535080909729, 3.5172369480133057, 4.392430782318115, 3.5201222896575928, 2.2592201232910156, 9.166211128234863, 3.5965383052825928, 2.3332855701446533, 2.49733567237854, 7.4416303634643555, 4.6063456535339355, 5.870167255401611, -2.395385265350342, 2.2844808101654053, 12.533705711364746, 2.2844419479370117, 9.763748168945312, 9.748723983764648, 2.982544183731079, 4.901682376861572, 4.92406702041626, 11.785931587219238, 4.880862236022949, 5.284672737121582, 2.014970064163208, 4.570615291595459, 2.0254318714141846, 22.009305953979492, 4.412143230438232, 4.432660102844238, 3.263129949569702, 4.417496204376221, 3.5526740550994873, 4.654698848724365, 6.251633167266846, 4.157586574554443, 7.533782482147217, 9.392630577087402, 9.41058349609375, 4.600536823272705, 9.407172203063965, 5.966940879821777, 3.100381851196289, 4.613426685333252, 3.4306795597076416, 6.40839958190918, 3.4380393028259277, 2.429877519607544, 4.836449146270752, 5.0384039878845215, 3.9715967178344727, 4.783927917480469, 6.568714618682861, 6.6190009117126465, 12.527341842651367, 6.569272041320801, 7.5538129806518555, 7.551646709442139, 7.550024509429932, 7.562485218048096, 6.8043646812438965, 7.551658630371094, 3.692706346511841, 2.0068700313568115, 5.758666038513184, 5.761083602905273, 2.2435569763183594, 5.78798770904541, 2.169503927230835, 0.9326562285423279, 3.7294321060180664, 3.684140205383301, 3.656045913696289, 3.486701250076294, 3.6636195182800293, -5.224941730499268, -5.233040809631348, 3.7254910469055176, -5.226863384246826, -4.553124904632568, -4.553111553192139, 3.976243734359741, -4.553080081939697, 4.957326889038086, 4.159213066101074, 3.258026599884033, 4.968047618865967, 4.0765533447265625, 4.090404033660889, 3.1136131286621094, 4.0793657302856445, -5.129449367523193, 8.42623519897461, 5.418753623962402, 5.286592483520508, 5.630066871643066, 5.411650657653809, 8.316699981689453, 2.326050281524658, 2.3109734058380127, -4.99208927154541, 2.306337833404541, -2.1606838703155518, -2.155529022216797, 6.433323383331299, -2.160620927810669, 11.822854995727539, 8.12839412689209, 8.130204200744629, 4.331798553466797, 8.129354476928711, 8.946972846984863, 6.982179164886475, -2.3952081203460693, 2.2843575477600098, 12.486481666564941, 2.370229482650757, 0.0002648890658747405, -0.07230041176080704, 3.062307119369507, -0.05710293725132942, 9.640764236450195, 10.01677131652832, 7.942060470581055, 5.084594249725342, 4.105981826782227, 4.076178550720215, 4.0987162590026855, 3.9733331203460693, 9.028562545776367, 8.728728294372559, 3.867902994155884, 5.451574802398682, 17.430330276489258, 6.8020758628845215, 3.062424421310425, 6.446928024291992, 6.635761737823486, 6.4515790939331055, 8.0702543258667, 8.075072288513184, 5.31433629989624, 8.078182220458984, 5.885085582733154, 5.887011528015137, 17.438777923583984, 17.428848266601562, 5.391289710998535, 17.435457229614258, 2.105891227722168, 2.154937505722046, 3.1835172176361084, -1.0420359373092651, 5.436675548553467, 5.383838653564453, 5.407554626464844, 11.273632049560547, 6.3924713134765625, 2.713378667831421, 3.07808780670166, 2.671931505203247, 6.315411567687988, 6.173712730407715, 5.850772380828857, 7.639001846313477, 7.667377471923828, 2.365161418914795, 7.615563869476318, -0.11509764194488525, 6.33961296081543, -0.11274801194667816, 6.361464023590088, 6.894675254821777, 7.015986919403076, 1.9991209506988525, 7.021812438964844, -0.1737528294324875, 4.960174560546875, 4.942108631134033, 4.6479902267456055, 5.16972017288208, 3.4223783016204834, 4.644021987915039, 8.423964500427246, 8.276065826416016, -0.11586520820856094, 6.156290054321289, 6.112101078033447, 5.3088250160217285, 5.07246208190918, 2.423178195953369, 8.3689546585083, 2.4060842990875244, 3.8242928981781006, 2.4320502281188965, 2.5578343868255615, 10.359203338623047, 10.350457191467285, 2.2925896644592285, 10.341750144958496, -5.235052585601807, -5.171205520629883, 5.868740558624268, -5.245274066925049, 6.689824104309082, 5.911181449890137, 4.238272666931152, 6.730196475982666, 0.2743525207042694, -0.6507205963134766, -0.6515119671821594, -0.18258562684059143, -0.6552651524543762, -0.14452289044857025, 5.314096450805664, 5.6613874435424805, 7.4482269287109375, 9.656761169433594, 5.521535873413086, 0.27349886298179626, 0.2738941013813019, 1.973591923713684, 0.2722470760345459, 3.719403028488159, 9.292655944824219, 3.6565301418304443, 5.754850387573242, 3.700286626815796, 5.7544074058532715, 6.931618690490723, 0.7822627425193787, 0.6618580222129822, 0.7982086539268494, 7.375860214233398, 6.358331680297852, 10.186197280883789, 6.364085674285889, 5.77454137802124, 5.440737247467041, 5.440733909606934, 1.920836329460144, 5.440734386444092, 0.2749265134334564, 9.931526184082031, 0.27491891384124756, 5.339993476867676, 7.715702056884766, 5.122090816497803, 7.712698936462402, 4.9667229652404785, 1.6089794635772705, 1.611156940460205, 3.040712594985962, 1.609634518623352, 2.463469982147217, 7.602546215057373, 7.602419376373291, 7.716970920562744, 4.048640251159668, 4.064516544342041, 9.878796577453613, 12.173264503479004, 6.409418106079102, 8.03317928314209, 5.33609676361084, 6.944901466369629, 5.536648273468018, 3.7177720069885254, 4.392391681671143, 3.720513105392456, 5.528185844421387, 11.181087493896484, 11.191338539123535, 3.3911068439483643, 11.170659065246582, 2.4816603660583496, 4.06370735168457, 6.556442737579346, 4.06705904006958, 4.279826641082764, 6.680229663848877, 6.657332420349121, 6.5680928230285645, 6.674131870269775, 5.222683429718018, 5.205986499786377, 2.7051570415496826, 5.615910053253174, 2.7100038528442383, 6.352601051330566, 2.028017282485962, 2.4383461475372314, 2.4414360523223877, 7.616966724395752, 7.588458061218262, 4.523955345153809, 6.2690558433532715, 6.259007930755615, 5.234520435333252, 6.275176525115967, 8.126091957092285, 8.125692367553711, 4.297847270965576, -5.169805526733398, 5.486033916473389, 5.4938578605651855, 3.83459734916687, 5.4743757247924805, 4.058973789215088, 9.404542922973633, 4.061733245849609, 5.839822769165039, 4.9048027992248535, 5.3493571281433105, 3.9399850368499756, 5.636913299560547, 5.07423734664917, 5.629491329193115, 4.12161922454834, 4.152424335479736, 6.124284744262695, 4.242130279541016, 3.8877265453338623, 4.769506454467773, 7.36331844329834, 4.770192623138428, 4.919857501983643, 4.584092617034912, 4.582382678985596, 2.889944553375244, 4.653271675109863, 7.48667049407959, 4.807062149047852, 9.96666145324707, 7.657322883605957, 7.54931640625, 1.472243309020996, 7.647637844085693, 4.91538143157959, 6.615403652191162, 4.171687126159668, 6.513260364532471, 6.507821559906006, 8.492488861083984, 4.233974933624268, 0.1421179324388504, 0.1517769992351532, 5.118747711181641, 0.19109314680099487, 0.3998517692089081, 0.403103232383728, 6.749432563781738, 0.39999377727508545, 11.822859764099121, 11.822854042053223, 11.822851181030273, 5.360001564025879, 6.450973987579346, 6.45163631439209, 2.3741343021392822, 6.4508233070373535, 3.273672342300415, 0.3337804675102234, 0.06835879385471344, 9.484285354614258, 0.16165916621685028, -0.1283368617296219, 2.9936413764953613, 3.860445737838745, -0.053248751908540726, 1.6806392669677734, 4.190832614898682, 6.01726770401001, 4.162360191345215, -10.866199493408203, 2.2742838859558105, 8.98779010772705, 3.6229286193847656, -5.164211273193359, -5.164855003356934, 4.3204665184021, -5.174469947814941, 0.5869401693344116, 7.312320709228516, 0.5869444012641907, 3.90682053565979, 12.178788185119629, -0.923426628112793, 15.465615272521973, 15.465760231018066, 4.275448799133301, 15.46626091003418, 9.189360618591309, 4.119877815246582, 4.037508010864258, -4.785676956176758, 2.934643507003784, 3.934692859649658, 4.707112789154053, 4.610727787017822, 3.60577130317688, 5.008730411529541, 2.4830758571624756, 8.342382431030273, 4.033168315887451, 2.8323895931243896, 4.073487281799316, 5.4891204833984375, 2.5252771377563477, 5.6741180419921875, 5.27590274810791, 7.9975175857543945, 4.36918830871582, 3.9387145042419434, 8.436202049255371, 20.999980926513672, 20.999980926513672, 20.99997329711914, 2.4708051681518555, 20.99996566772461, -11.51619815826416, -11.516214370727539, 3.2408246994018555, -11.51618766784668, 5.838511943817139, -4.7923150062561035, -4.802130699157715, 7.851276397705078, -4.783928394317627, 5.918220043182373, 5.2799835205078125, 5.27628231048584, 7.5363006591796875, 5.2792067527771, 11.82284927368164, 12.169899940490723, 3.484011173248291, 12.166482925415039, 8.104561805725098, 2.3761067390441895, 2.5243895053863525, 4.2161545753479, 2.539484739303589, 9.62017822265625, 9.606489181518555, 3.20035982131958, 9.614178657531738, -4.788867950439453, 3.4451723098754883, 9.97475814819336, 6.495372295379639, 9.974753379821777, 5.143075942993164, 12.331727981567383, 10.893587112426758, 10.969963073730469, 3.2718679904937744, 10.908631324768066, 3.641202688217163, 10.428509712219238, 3.6302502155303955, 7.031567573547363, 11.1493501663208, 11.271461486816406, 2.1580519676208496, 11.145889282226562, 8.656745910644531, 8.852596282958984, 2.98252534866333, 8.853055953979492, 3.5370841026306152, 5.298896312713623, 3.656057119369507, 9.369226455688477, 6.408838748931885, 5.754199028015137, 6.781197547912598, 6.411373615264893, 3.6833462715148926, 5.205263137817383, 3.8918890953063965, 1.527472972869873, 3.917360305786133, 3.825284957885742, 5.739884376525879, 3.864485025405884, 3.131531000137329, 3.0488412380218506, 6.073246002197266, 4.892865180969238, 4.889618873596191, 4.971858501434326, 4.889528274536133, 3.8333446979522705, 4.183387279510498, 3.829724073410034, 4.195436954498291, 5.508200645446777, 1.5275603532791138, 1.5284583568572998, 6.861505031585693, 1.5277073383331299, 9.763467788696289, -0.08909667283296585, 8.308623313903809, -0.32144102454185486, 2.0744364261627197, 2.11220121383667, 7.440560817718506, 2.139918804168701, 4.020978927612305, 4.003749847412109, 3.9294240474700928, 3.7551558017730713, 3.290449857711792, 3.750939130783081, 9.83741283416748, 9.893568992614746, -4.994424343109131, 9.917476654052734, 4.588222503662109, 4.58175802230835, 3.8020596504211426, 4.58115291595459, 12.182951927185059, 9.917888641357422, -0.954910397529602, 7.488621711730957, -2.3952066898345947, 2.3639705181121826, 12.52597427368164, 2.364781141281128, 10.813060760498047, 3.531621217727661, -5.118901252746582, 3.7215170860290527, 8.218563079833984, 10.288097381591797, 8.224905967712402, 4.009249687194824, 12.039129257202148, 11.792288780212402, 5.967228889465332, 5.9753546714782715, 1.9386615753173828, 5.987783908843994, -0.15203256905078888, -0.1584797352552414, 4.225109100341797, -0.15065546333789825, 1.065821647644043, 1.035636305809021, 3.2371082305908203, 1.0732172727584839, 7.569126605987549, 7.567387104034424, 6.492919921875, 7.56303596496582, 8.643533706665039, 3.9147024154663086, 8.289656639099121, 1.7056325674057007, 1.848416805267334, 6.376575469970703, 1.6529960632324219, 6.016322135925293, 8.273781776428223, 4.025421142578125, 4.016969680786133, 6.386151313781738, 3.611732244491577, 8.8335599899292, 8.333353996276855, 5.509746074676514, 3.907060384750366, 3.8618671894073486, 3.237830877304077, 3.8595504760742188, 2.4332501888275146, 2.4341678619384766, -4.608363151550293, 2.435748338699341, 3.0277252197265625, 3.0433905124664307, 4.958012104034424, 3.0250473022460938, 7.5026679039001465, 7.520872592926025, 2.8138084411621094, 5.924095153808594, 5.4842400550842285, 5.9280686378479, 5.616860389709473, 6.210339069366455, 5.7391157150268555, 6.239924907684326, 5.620560646057129, 9.626925468444824, 8.054887771606445, 9.938545227050781, 9.938796997070312, 8.868406295776367, 3.338380813598633, 6.382218837738037, 6.415694236755371, 1.8780310153961182, 6.439950466156006, 0.37622714042663574, 0.2730974555015564, 1.9221999645233154, 1.0368411540985107, 3.8695712089538574, 6.042175769805908, 3.8679723739624023, 5.389610767364502, 9.581958770751953, 9.577264785766602, 3.0144922733306885, 9.590826988220215, -5.118932247161865, -5.12097692489624, 8.344993591308594, -2.396071195602417, 2.343010425567627, 12.523741722106934, 2.3078713417053223, 5.179989814758301, 10.734514236450195, 5.184309959411621, 3.6282339096069336, 1.8891037702560425, 1.9107922315597534, 7.383527755737305, 1.8840299844741821, 7.691123008728027, 8.482568740844727, 3.264972448348999, 7.121455192565918, 2.4401133060455322, 5.848001956939697, 5.811859607696533, 5.368170261383057, 5.829270839691162, 7.549630165100098, 7.546578884124756, 5.160886287689209, 7.545278549194336, 7.205246448516846, 7.263532638549805, 3.266336441040039, 7.198863983154297, 5.415646076202393, 4.81595516204834, 2.018911123275757, 2.833217144012451, 2.010591506958008, 4.954395294189453, 5.428969860076904, 4.956233978271484, 7.03045654296875, -7.647390365600586, -7.647401809692383, 3.3042874336242676, -7.647374153137207, 6.791526794433594, 10.75362777709961, 3.6701276302337646, 3.648881196975708, 5.30231237411499, 3.645908832550049, 3.1090455055236816, 4.057415008544922, 3.9109737873077393, 3.618905544281006, 6.353837013244629, 8.653454780578613, 6.326349258422852, 6.408875465393066, 8.306036949157715, 5.964166164398193, 6.637857437133789, 8.229562759399414, 5.267986297607422, 8.238018035888672, 9.884931564331055, 2.015815019607544, 2.052311658859253, 3.2618913650512695, 2.058811902999878, 3.1348118782043457, 3.137655019760132, 3.986518383026123, 3.1250178813934326, 3.964395046234131, 7.60537576675415, 6.528357028961182, 6.522751808166504, 6.529221057891846, 5.517528533935547, 2.133620262145996, 2.1107115745544434, 1.6021723747253418, 1.8997647762298584, 7.622762680053711, 7.4858222007751465, 9.322630882263184, 7.49917459487915, 0.5395194888114929, 0.5396245718002319, 3.464582920074463, 0.5527681112289429, 6.176977157592773, 4.114614486694336, 0.8418298959732056, 0.823631763458252, 0.813823401927948, 3.9891231060028076, 3.6525371074676514, 8.405936241149902, 3.8259127140045166, 5.5017499923706055, 5.364424705505371, 8.39809513092041, 6.2034101486206055, 4.116104602813721, 5.381381511688232, 5.411594867706299, 7.013661861419678, 6.983490943908691, 12.02259635925293, 8.199545860290527, 3.2574689388275146, 8.206418991088867, 7.391396522521973, 5.811312675476074, 5.773950099945068, 12.462552070617676, 5.789716720581055, 5.875337600708008, 5.871785640716553, 5.70432186126709, 5.8763933181762695, 3.389174699783325, 3.388390302658081, 3.0640034675598145, 3.3619472980499268, 3.0597646236419678, 3.0401878356933594, 3.263073444366455, 3.02470326423645, 6.5707807540893555, 6.4780683517456055, 3.332787036895752, 6.49310302734375, 2.247164487838745, 3.5246832370758057, 2.2521567344665527, 3.6262524127960205, 5.47504186630249, 5.477055072784424, 6.230139255523682, 5.469965934753418, 8.463261604309082, 2.642547130584717, 5.449370384216309, 3.210951089859009, 9.615143775939941, 6.7965521812438965, 7.072750568389893, 7.2238993644714355, 3.0975069999694824, 3.017627239227295, 7.313713550567627, 5.348750591278076, 5.038838863372803, 3.6621503829956055, 3.6300628185272217, 5.450596332550049, 3.7762062549591064, 7.39660120010376, -4.466440677642822, -4.466434955596924, 2.494734048843384, 5.934000492095947, 7.438442707061768, 5.933811664581299, -11.516194343566895, 6.52741813659668, 7.689329147338867, 6.533946990966797, 5.181978702545166, 6.335557460784912, 3.800407648086548, 6.333319187164307, 8.23077392578125, 8.220148086547852, 5.118066310882568, 8.220643043518066, 9.686814308166504, 5.871894359588623, 9.36164379119873, 8.36444091796875, 2.9839563369750977, 17.438316345214844, 17.44964599609375, 2.0748538970947266, 12.293557167053223, 12.292373657226562, 5.676419734954834, 12.296395301818848, 2.454111099243164, 2.383617639541626, 9.478143692016602, 3.6716508865356445, 3.211926221847534, 3.2146854400634766, 22.009321212768555, 3.214878797531128, 5.278934001922607, 8.388402938842773, 8.284314155578613, 8.341934204101562, 3.533663272857666, 3.5584118366241455, 4.809631824493408, 3.5642988681793213, 3.538358449935913, 2.5811703205108643, 11.07225227355957, 5.5423197746276855, 2.5633866786956787, 16.975004196166992, 4.274806499481201, 4.27396821975708, 6.209273815155029, 4.272574424743652, 8.55493450164795, 8.572465896606445, 7.363709926605225, 7.030374050140381, 7.0271782875061035, 4.163829803466797, 4.1640095710754395, 3.919711112976074, 4.169203281402588, 8.506972312927246, 2.375699281692505, 2.355740785598755, 4.280677795410156, 2.358337640762329, 4.602748394012451, 4.613564491271973, 5.3954644203186035, 4.602663993835449, 2.0676701068878174, 2.068704843521118, 5.326892852783203, 2.0760462284088135, 1.125935435295105, 5.273995399475098, 16.985074996948242, 16.985057830810547, 5.289179801940918, 9.677790641784668, 3.9795608520507812, 7.39754581451416, 12.064373016357422, 6.215172290802002, 4.9282050132751465, 3.398711681365967, 3.4033398628234863, 6.2377095222473145, 3.391835927963257, 6.8786187171936035, 6.809990406036377, 4.065637111663818, 8.534481048583984, 15.466017723083496, 15.46630573272705, 4.308030605316162, 15.466242790222168, 7.5868659019470215, 7.54396390914917, 4.482526779174805, 7.579447269439697, 4.555800914764404, 4.565750598907471, 15.460460662841797, 4.5542826652526855, 8.063340187072754, 3.776756763458252, 8.061868667602539, 7.636659622192383, 4.266214847564697, 1.9467617273330688, 1.9364789724349976, 5.306949615478516, 1.9353138208389282, 5.4419403076171875, 5.443787574768066, 3.170699119567871, 5.4453535079956055, 7.597695350646973, 7.5956711769104, 9.431697845458984, 7.607677459716797, -1.1763081550598145, 1.4544366598129272, 1.4209188222885132, 4.999642372131348, 1.4480807781219482, 6.478755474090576, 3.05320405960083, 3.115844488143921, 9.726630210876465, 3.1155295372009277, 9.598904609680176, 0.05124562978744507, 3.022136688232422, 2.983530044555664, 3.630896806716919, 3.0083534717559814, -1.0608888864517212, -1.0603440999984741, 7.984135150909424, 6.5941691398620605, 8.421216011047363, 9.42431926727295, 8.415534019470215, 3.8544445037841797, 6.899843215942383, 6.911838531494141, 6.819453239440918, 6.904378414154053, 2.9352903366088867, 6.445693492889404, 2.937103509902954, 0.8202968835830688, 0.697509765625, 3.0340237617492676, 11.742779731750488, 5.44320821762085, 6.254499912261963, 8.405372619628906, 6.253445625305176, 5.174133777618408, 6.028342247009277, 6.042884349822998, 4.232376575469971, 9.637523651123047, 9.473976135253906, 2.4482171535491943, 3.2290592193603516, 3.232402801513672, 3.2199013233184814, 3.23445987701416, 6.59844446182251, 3.689465045928955, 4.598411560058594, 9.015822410583496, 2.3978707790374756, 3.831622838973999, 0.7626283168792725, 8.224129676818848, 6.75498104095459, 8.208589553833008, 7.522119045257568, 7.752636909484863, 7.761274814605713, 7.323028087615967, 7.751867771148682, 6.58428430557251, 5.042900562286377, 5.990185260772705, 6.150747299194336, 5.838743209838867, 6.127089977264404, 5.820059776306152, 9.365676879882812, 4.179648399353027, 4.199228286743164, 3.270632266998291, 4.170379638671875, 8.961034774780273, 5.390114784240723, 9.712264060974121, 7.08783483505249, 7.096412658691406, 6.305388927459717, 8.727945327758789, 5.153195858001709, 5.564510822296143, -4.527952194213867, 5.147359371185303, 7.481143474578857, 7.483897686004639, 9.90401554107666, 7.480729579925537, 6.741903305053711, 6.663278579711914, 5.792805194854736, 6.6738691329956055, -1.130225419998169, -1.1303067207336426, 15.423462867736816, 2.255479574203491, 1.9823869466781616, 2.2401845455169678, 0.27519676089286804, 8.584379196166992, 0.4200153052806854, 0.42060908675193787, 9.48424243927002, -5.102602005004883, 6.225560665130615, 5.812369346618652, 9.340340614318848, 6.041203498840332, 0.41174373030662537, 0.40102389454841614, 0.2535203695297241, 16.98361587524414, 16.9788875579834, 5.945800304412842, 5.917364597320557, 9.428654670715332, 11.56259536743164, 1.1335796117782593, 1.1180479526519775, -4.535791397094727, 1.1000611782073975, 11.208661079406738, 9.084630012512207, 5.74260950088501, 6.029510974884033, 6.019625663757324, 3.4326536655426025, 6.020201683044434, 5.057590484619141, 5.067696571350098, 5.182046890258789, 5.074676990509033, 6.452236652374268, 7.7563605308532715, 7.775318622589111, 11.514289855957031, 11.502243995666504, 0.9164319634437561, 0.9186906218528748, 8.395482063293457, 7.689288139343262, 8.32326602935791, 7.817561626434326, -4.466442584991455, 2.570446729660034, 3.436353921890259, 2.5475409030914307, 6.375682353973389, 6.70760440826416, 6.722928524017334, 9.804243087768555, 6.7198357582092285, 4.0893731117248535, 3.544207811355591, 5.08351469039917, 2.2944324016571045, 5.061256408691406, 4.957475662231445, 3.500211477279663, 7.885501384735107, 3.496242046356201, 3.4656436443328857, 1.8475029468536377, 2.833747386932373, 7.563132286071777, 2.824979066848755, 2.9845404624938965, 5.27923583984375, 3.3774216175079346, 5.238758563995361, 6.198475360870361, 6.836583137512207, 5.412611484527588, 1.754825472831726, 8.395025253295898, 6.424729347229004, 3.769469738006592, 3.7658274173736572, 6.466039657592773, 4.169300556182861, 6.907040596008301, 1.5044128894805908, 6.938356399536133, 6.566662788391113, 6.660793781280518, 7.564263343811035, 5.708584308624268, 7.573173522949219, 5.901068210601807, 4.554931640625, 4.535234451293945, 5.398235321044922, 4.5427656173706055, 3.662207841873169, 9.234834671020508, 3.656155824661255, 9.405815124511719, 0.7516111731529236, 4.045161724090576, 0.7715475559234619, 4.139682292938232, 7.889702320098877, 7.899862289428711, 7.04198694229126, 7.90657377243042, 3.1053028106689453, 7.024317264556885, -1.3732925653457642, -1.3748795986175537, 2.3570964336395264, -1.3739851713180542, -10.866196632385254, -10.866219520568848, -10.866181373596191, -0.15296898782253265, -0.2902529537677765, 3.0557034015655518, -0.15262675285339355, 1.0337262153625488, 2.0101535320281982, 2.008188009262085, 6.562036514282227, 2.0178141593933105, 11.270909309387207, 3.9802329540252686, -2.160158395767212, 10.790904998779297, -0.7700045108795166, 12.178627967834473, 3.9776241779327393, 5.658516883850098, 5.675416946411133, 9.098807334899902, 5.6587371826171875, 4.0966691970825195, 3.9828991889953613, 12.460783004760742, 3.9899072647094727, 12.201614379882812, 12.203765869140625, 9.413945198059082, 5.4407267570495605, 2.255302667617798, 2.2621853351593018, 12.054217338562012, 6.1945624351501465, 2.997143507003784, 7.498086452484131, -5.0028557777404785, 0.9611413478851318, 13.402143478393555, 7.972782135009766, 11.106851577758789, 7.338383674621582, 3.9128293991088867, 3.914592981338501, 0.801876425743103, 4.0423784255981445, 0.8056418299674988, 7.099411964416504, 7.351075172424316, 9.228014945983887, 7.3445820808410645, 0.9710698127746582, 10.080984115600586, 4.45529317855835, 2.402642250061035, 2.5145263671875, 9.56344985961914, 6.306417942047119, -1.010604977607727, 11.808354377746582, 3.8928914070129395, -1.547275424003601, 11.394200325012207, 10.491229057312012, 12.518160820007324, 11.426856994628906, -5.0493083000183105, -5.062503337860107, -0.132025346159935, 11.254851341247559, 5.864781379699707, 5.418979167938232, 6.814027309417725, 3.1452059745788574, -4.99920129776001, 11.084114074707031, 1.8362705707550049, 2.8364245891571045, 3.395167589187622, 2.8473124504089355, 12.114974975585938, 12.101709365844727, 8.845138549804688, 11.850025177001953, -2.027118444442749, 7.150546550750732, 0.6549733877182007, 2.9276113510131836, 2.8947598934173584, 2.914106607437134, 2.906562328338623, 12.21233081817627, 9.090458869934082, 11.92878532409668, 11.945061683654785, 5.20202112197876, 5.11234712600708, 12.045809745788574, 10.403498649597168, 2.8227808475494385, 6.934148788452148, -1.8064192533493042, 9.455275535583496, 9.406523704528809, 2.9914438724517822, 2.3270394802093506, 5.44071626663208, 2.3423585891723633, 2.0726990699768066, 0.10665810853242874, 12.30017375946045, 0.08323222398757935, 7.621057987213135, 0.08442917466163635, 7.3351545333862305, 8.458374977111816, 8.500117301940918, 7.058235168457031, 8.51311206817627, 5.440726280212402, 2.1836295127868652, -0.700946033000946, 7.528385162353516, 9.021761894226074, 6.979337692260742, 6.9873433113098145, 4.200770378112793, 6.987294673919678, 1.0363876819610596, 11.379203796386719, -0.07667995989322662, -0.9853399395942688, -1.142083764076233, 5.22892951965332, 4.5061936378479, 3.9718222618103027, 4.509115695953369, 3.1825437545776367, 3.1788294315338135, 10.867554664611816, 3.1856813430786133, 6.8452534675598145, 6.846641540527344, 2.906792163848877, 6.872579574584961, -1.431472659111023, -1.2457798719406128, 8.969888687133789, -2.0796549320220947, -1.1471192836761475, -1.1465275287628174, -0.7934759259223938, -1.7755978107452393, 7.024343490600586, 8.42354965209961, 6.709110736846924, 7.032328128814697, 2.99723482131958, 0.9378914833068848, 7.032392501831055, 7.292757987976074, 2.6805436611175537, 7.289951801300049, 3.8639700412750244, -0.28402069211006165, 1.9641153812408447, 6.73764181137085, 6.743022918701172, -2.133005142211914, -1.1379375457763672, 6.19258451461792, 6.9073262214660645, 9.22754192352295, 9.251410484313965, 3.124998092651367, 9.234037399291992, -0.8510982394218445, 0.9906337261199951, 1.0271955728530884, 3.9774389266967773, 0.9550294876098633, 5.359231472015381, 5.357720375061035, 8.163064956665039, 5.358284950256348, 2.95632004737854, 2.9314088821411133, -0.12418951094150543, 2.945676565170288, 6.828392028808594, 6.820194721221924, 12.462200164794922, 6.817185878753662, 3.9522500038146973, 12.180807113647461, -1.012455701828003, 8.204275131225586, 8.18443775177002, -4.994335174560547, 8.191771507263184, 9.464739799499512, 12.064803123474121, 7.054361343383789, 0.7758781909942627, 12.129310607910156, -1.2606135606765747, 9.111143112182617, -4.992877006530762, 9.694371223449707, 9.698555946350098, -0.2302246391773224, -1.2676126956939697, -1.2002520561218262, 2.8633408546447754, 6.891101360321045, 5.302207946777344, 2.8376519680023193, 2.8724205493927, 4.368939399719238, 4.1462578773498535, 9.747320175170898, -1.004380464553833, -1.3467463254928589, 2.1496405601501465, 2.1472129821777344, 10.044271469116211, -1.173853874206543, 0.04988159239292145, 1.037188172340393, -4.9918107986450195, -0.8507568836212158, -0.9951688051223755, -2.0946638584136963, 4.489130973815918, 10.7667818069458, -0.9726977348327637, -0.8960893154144287, 5.3643903732299805, 6.4600348472595215, 0.8424723744392395, 2.9286587238311768, 6.278796672821045, 0.8816722631454468, 2.865105628967285, 2.8451993465423584, -4.98556661605835, 2.865121841430664, 11.10766315460205, 7.4995880126953125, 6.5104660987854, -1.095427393913269, 5.774195194244385, 5.806750774383545, 2.8404555320739746, 5.795384883880615, 7.247004985809326, 4.907988548278809, 8.441049575805664, 8.391273498535156, 5.8585638999938965, 8.448620796203613, -1.145207166671753, -1.1469467878341675, 2.518728017807007, -1.1471556425094604, -0.617883563041687, -1.9580802917480469, 3.875767469406128, 5.626895427703857, 5.61644172668457, 12.489850997924805, 5.609209060668945, 5.459254264831543, 3.962007522583008, 3.998927116394043, 5.228814601898193, 5.229574680328369, 9.942801475524902, 5.228020191192627, 5.223507881164551, 0.36774179339408875, 10.558435440063477, 0.36773842573165894, 5.535640239715576, 12.11427116394043, 5.428708076477051, -1.1535594463348389, -1.1607593297958374, 10.011042594909668, -1.1521320343017578, 3.595813035964966, -1.1548337936401367, 13.402166366577148, 11.282783508300781, 3.972748041152954, 13.401711463928223, 2.1214723587036133, 2.1630024909973145, 11.292097091674805, -1.1465983390808105, -11.516195297241211, -11.51618766784668, 2.4472153186798096, -11.5161771774292, -1.2971800565719604, 9.259273529052734, 6.506936073303223, 6.452466011047363, -4.990489482879639, 6.462913513183594, 6.499481678009033, 8.524959564208984, 8.495903015136719, 10.551529884338379, -1.096129298210144, 8.48007583618164, 9.015585899353027, 0.6536455154418945, 0.6080964803695679, 5.44072151184082, -2.1132891178131104, 11.407508850097656, 7.471688747406006, 7.307917594909668, -1.086538553237915, 5.824748992919922, -1.1402853727340698, -1.1841109991073608, 17.425729751586914, 12.045234680175781, 7.043223857879639, 7.031319618225098, 5.706592082977295, 2.8645856380462646, 6.852607727050781, 12.46342945098877, 2.862661361694336, 0.8613165616989136, 0.8433627486228943, 2.053957223892212, 0.8728909492492676, 4.974294662475586, -0.9387637972831726, -0.8501912355422974, 10.194188117980957, 3.9500045776367188, 3.0309715270996094, 2.2450387477874756, 2.267939805984497, 7.506756782531738, 2.283639669418335, 4.009988307952881, 3.982574939727783, 3.9864094257354736, 4.005716800689697, 7.2454328536987305, 7.242259502410889, 2.92910099029541, 7.242471694946289, 0.6426249742507935, 1.0217769145965576, 10.012989044189453, 0.9999241232872009, -0.18870238959789276, -0.18432281911373138, 9.20421028137207, -0.17294161021709442, 12.180747032165527, -1.256073236465454, 0.9006598591804504, 0.6607486009597778, 12.527059555053711, 0.5881199240684509, 11.139344215393066, 11.144705772399902, 5.731479167938232, 11.144491195678711, 4.8372673988342285, 4.780301570892334, 11.872525215148926, 4.831447124481201, 0.1932348757982254, 0.1985693722963333, 3.970416784286499, 0.16652578115463257, 9.234484672546387, 4.932833194732666, -1.4447659254074097, -1.5233774185180664, -0.8680668473243713, 2.025230646133423, 6.022666931152344, 5.97382926940918, 3.109074831008911, 5.982572078704834, 2.8836679458618164, 6.743072986602783, -4.529134750366211, 2.872624635696411, 8.169034004211426, 8.183323860168457, 3.2642123699188232, 8.1958646774292, 5.440722465515137, 12.221309661865234, 2.904649019241333, 11.41864013671875, 5.715911388397217, 5.4722371101379395, -4.991440296173096, 12.292105674743652, 13.402121543884277, 11.262587547302246, 3.9703006744384766, 10.792749404907227, 12.191786766052246, 12.196276664733887, 1.0952932834625244, 7.622613430023193, 1.0987273454666138, 7.335868835449219, 12.183757781982422, 12.176861763000488, 1.7599459886550903, 5.655638217926025, 5.753493785858154, 1.8250540494918823, 4.656435012817383, 4.655105113983154, 6.369789123535156, 3.090207815170288, 9.366253852844238, 9.290571212768555, 9.14614200592041, 9.371219635009766, 5.463100433349609, 4.481675148010254, 4.480738639831543, 6.492070198059082, 10.16462516784668, 6.487905979156494, 5.446613788604736, -1.2282699346542358, -1.2295535802841187, 0.7959110140800476, 0.7270803451538086, 0.7968052625656128, 0.780067503452301, 0.8548610210418701, 11.200776100158691, 0.8555165529251099, 5.7862138748168945, 1.5212571620941162, 1.5378707647323608, 5.852938652038574, 1.5179152488708496, 0.9718056917190552, 1.2172017097473145, 3.048065423965454, 1.0125480890274048, -1.8774054050445557, 10.353758811950684, 10.415362358093262, -4.986050605773926, 10.90563678741455, 3.8036625385284424, 3.042668342590332, 7.32496452331543, 2.293804883956909, 9.166428565979004, 5.580694198608398, 5.583798885345459, -4.993562698364258, 5.583283424377441, 0.6803659200668335, 0.6810986995697021, 1.857674241065979, 0.6258026957511902, 0.8360548615455627, 9.537839889526367, 0.6063807606697083, 10.912545204162598, 10.765369415283203, 10.403319358825684, 2.8456571102142334, -1.1513121128082275, -1.1525079011917114, -0.801863431930542, 0.7079677581787109, 6.838033676147461, 6.750895977020264, 2.8899173736572266, 6.842162609100342, 2.9566943645477295, 0.9495652318000793, 3.2408971786499023, 0.8960071802139282, 8.19484806060791, 8.188923835754395, -4.9923553466796875, 8.186050415039062, 0.07393132895231247, 12.060612678527832, 0.07881444692611694, 11.643593788146973, -0.20099890232086182, -0.1689949333667755, 6.830655097961426, -0.17077146470546722, -1.3712518215179443, 9.905234336853027, -1.3729819059371948, 5.840036869049072, 4.957468509674072, 4.980217456817627, 12.833587646484375, -0.0988098606467247, 12.82540512084961, 6.725101947784424, 1.8167355060577393, 11.249892234802246, 10.401416778564453, 11.246016502380371, 5.773731708526611, -0.131839781999588, 9.979172706604004, 2.244689464569092, 3.0334808826446533, 10.378396034240723, 3.9739532470703125, 10.039448738098145, 1.0126559734344482, -2.0564045906066895, 2.9916090965270996, 12.486180305480957, 9.412164688110352, 11.994514465332031, 9.629761695861816, 12.032630920410156, 2.8533754348754883, 12.036489486694336, 0.8549190163612366, 11.190585136413574, 0.854291558265686, 3.092886209487915, 0.5663461089134216, 0.5641288161277771, 11.202316284179688, 0.5695753693580627, 0.6936362385749817, 11.990206718444824, 11.918904304504395, 5.758271217346191, 6.47848653793335, 1.8840546607971191, 9.635993003845215, -2.0932774543762207, -2.094524383544922, -4.986020088195801, -2.0983948707580566, -1.1501147747039795, 12.200092315673828, 12.200905799865723, 7.380023002624512, 12.190910339355469, 9.599600791931152, 9.604143142700195, -4.984630584716797, 9.60736083984375, 0.09741421043872833, 3.126917839050293, 1.8783961534500122, 0.09804667532444, 3.1230456829071045, -1.3944556713104248, -0.864952802658081, 0.582827091217041, 0.6033716797828674, 6.602869033813477, 0.6062425374984741, 8.34238052368164, 8.342384338378906, 10.609877586364746, 8.342386245727539, 4.923115253448486, 3.9015235900878906, 2.7217836380004883, 2.9059813022613525, 10.316372871398926, 10.320111274719238, 8.064526557922363, 10.323773384094238, 0.8978532552719116, 0.8500529527664185, 10.01853084564209, 0.8377788066864014, 2.635154962539673, -0.987419068813324, -1.0118777751922607, -0.1829889565706253, 6.701084136962891, -2.096911668777466, 6.455967903137207, 6.456969738006592, 9.363760948181152, 6.427813529968262, 4.172117710113525, 3.990830183029175, 2.4159417152404785, 4.111067295074463, 0.19913895428180695, 2.221040964126587, 0.37989097833633423, 8.219264030456543, 12.026823997497559, 12.054510116577148, -0.8879001140594482, -0.877891480922699, 2.4958953857421875, 6.61055850982666, 0.05264989659190178, 11.273860931396484, 3.9773378372192383, 11.274239540100098, 5.37074089050293, 12.074499130249023, 5.306987762451172, 7.531548500061035, 7.560693264007568, 7.7225022315979, 9.891067504882812, -1.402740478515625, 4.908112049102783, 8.959017753601074, 7.682055950164795, 7.458549499511719, 10.923791885375977, 6.52657413482666, -0.9976518750190735, -1.042957067489624, 3.1619675159454346, 9.65239429473877, 5.239932537078857, 3.1635499000549316, 1.844948410987854, 7.035256862640381, 3.2097854614257812, 2.43418288230896, -0.32150787115097046, 12.106706619262695, 0.6433285474777222, 5.529965877532959, 0.6220068335533142, -1.0563147068023682, 10.023418426513672, 2.8364956378936768, 5.412901401519775, 12.313769340515137, -4.9294843673706055, 12.312840461730957, 0.8425033688545227, -1.0150490999221802, -2.0397281646728516, 3.955359697341919, 3.6806788444519043, 4.003015995025635, 3.67952561378479, 6.655290603637695, 5.556524753570557, 5.53640604019165, 3.9728667736053467, 5.569975852966309, -0.5384870767593384, -0.6734238266944885, 0.6537416577339172, 0.5024096369743347, -4.9842119216918945, 0.499345988035202, 9.77606201171875, 12.210816383361816, 12.216135025024414, 12.244125366210938, 12.249347686767578, 12.219204902648926, 12.24811840057373, -1.031498670578003, 12.158833503723145, 12.217376708984375, 5.091989994049072, 5.093146324157715, -4.992778778076172, 5.078638553619385, 1.538812518119812, 1.524774432182312, 3.976602077484131, 1.4659417867660522, -1.0695582628250122, 4.722943305969238, 2.5978658199310303, -0.668874204158783, -0.9878318905830383, 0.5846173763275146, -1.0748687982559204, -0.9837457537651062, 2.997406005859375, 0.09157891571521759, -1.0855605602264404, 2.9973843097686768, 10.782045364379883, 10.691569328308105, 10.777652740478516, 8.34237289428711, 4.210308074951172, 4.09346866607666, 10.761395454406738, 10.793900489807129, 3.0246522426605225, 10.760183334350586, 6.185636520385742, 5.708681106567383, 5.319265365600586, 5.715960502624512, 3.7106242179870605, 3.7447283267974854, 12.181591987609863, 0.6113684177398682, 9.294349670410156, 9.286731719970703, -4.981865882873535, 9.272634506225586, 2.5731139183044434, 2.4793193340301514, 4.369349479675293, 4.123936176300049, -1.9431923627853394, 8.444291114807129, 0.2745729684829712, 0.054386936128139496, -0.04507775977253914, 12.80497932434082, 11.02008056640625, 12.820103645324707, 4.037685394287109, 2.8635125160217285, 6.8575358390808105, 12.467241287231445, 2.8739030361175537, 5.619627952575684, 10.166604995727539, 5.639089584350586, 0.43142661452293396, 5.707344055175781, 12.291629791259766, -4.959525108337402, 12.291277885437012, 2.8219361305236816, 2.8336546421051025, 2.9975078105926514, 2.9973573684692383, 7.623849868774414, 2.99739408493042, 3.9073667526245117, 1.018599271774292, 1.0251678228378296, 2.550835371017456, 1.0189337730407715, 8.14471435546875, -1.0972586870193481, 11.440995216369629, 4.385152816772461, 2.8196449279785156, 0.5314573049545288, 0.5320074558258057, 10.768011093139648, 0.7884048223495483, 5.6609954833984375, 11.392756462097168, 11.383070945739746, -1.035976767539978, -0.9768108129501343, 6.424267768859863, -0.8422583341598511, 5.627502918243408, 0.8816670775413513, 0.8258428573608398, 12.052840232849121, 0.8643723726272583, 0.8800148367881775, 12.021324157714844, 2.1608080863952637, 4.107261657714844, 1.7611618041992188, -0.4869970381259918, 0.9651589393615723, 5.412477016448975, 0.9640722274780273, 8.096879959106445, 12.1451997756958, 3.297935962677002, 12.1528959274292, 11.421854972839355, 3.7904233932495117, 3.185770273208618, -0.11267648637294769, 8.165207862854004, 8.1925630569458, 6.133969306945801, 5.22944450378418, 7.635630130767822, 7.635603904724121, 9.960968017578125, 7.6264495849609375, -1.1944255828857422, -2.0899267196655273, 3.8980233669281006, 8.96011734008789, 8.948308944702148, 4.975231647491455, 9.040251731872559, 3.9366440773010254, 1.0039910078048706, 9.570430755615234, 1.0061397552490234, 1.6055655479431152, 2.1483876705169678, 7.632665634155273, 2.0981569290161133, 7.3416924476623535, 7.3343186378479, 5.318021297454834, 7.3968915939331055, 6.922540187835693, 0.5348211526870728, 12.058585166931152, 7.939358711242676, 11.27943229675293, 4.988332748413086, 4.9798479080200195, 11.46931266784668, 10.189054489135742, -0.7551409006118774, 6.477144241333008, 6.450716972351074, 11.793129920959473, 3.9529757499694824, 12.212385177612305, -1.0984327793121338, 6.37067174911499, -5.019498825073242, 9.691187858581543, 3.7434804439544678, 6.0367255210876465, 5.046032905578613, 0.6970694661140442, 0.9599477648735046, 12.494429588317871, 0.9669944047927856, -1.1181190013885498, -1.1323903799057007, 5.779955863952637, -1.1120893955230713, -0.17794659733772278, -0.18987931311130524, 5.84179162979126, 1.8492671251296997, 3.0278072357177734, 3.0265259742736816, 1.8062258958816528, 1.7970737218856812, 1.6452308893203735, 1.7917848825454712, 3.608241081237793, 2.88096284866333, 2.877122163772583, 7.373565196990967, 2.876657724380493, 7.615537166595459, 7.616526126861572, 12.192656517028809, 12.208885192871094, 12.193486213684082, 8.034378051757812, 10.985943794250488, 2.983114242553711, 12.279890060424805, 3.786029577255249, 4.909923076629639, 5.760072231292725, 0.6453647017478943, 0.5113391876220703, 12.466314315795898, 0.503541111946106, 3.748128652572632, -1.4625760316848755, -0.801507294178009, -0.8394433856010437, -1.1206084489822388, -1.1215364933013916, -1.097377061843872, -1.0921623706817627, 9.784218788146973, 9.8433198928833, 9.747920989990234, 9.143799781799316, 11.935677528381348, 4.98406457901001, 4.92897891998291, 4.909151554107666, 11.241443634033203, 12.216448783874512, -0.707444429397583, 4.4156293869018555, 2.948556423187256, 12.32242488861084, 4.908260822296143, 12.165894508361816, 0.4359736144542694, 0.45930811762809753, 6.36644172668457, 0.4276709258556366, 1.9249743223190308, 1.895767331123352, 3.1337528228759766, 1.9155229330062866, -0.1328708976507187, -0.1403755098581314, 5.431816577911377, -0.13361813127994537, 9.64268970489502, 12.111806869506836, 0.5336454510688782, 0.513613760471344, 2.5627076625823975, 2.9493398666381836, 4.039490222930908, 4.0136847496032715, 13.402070045471191, 11.27829647064209, 3.027341842651367, 6.64466667175293, 6.625157833099365, 7.400691032409668, 6.637691020965576, 11.891660690307617, 5.538116931915283, 5.547399044036865, 5.269252300262451, 5.548920154571533, 11.38119125366211, 11.566388130187988, 1.4427926540374756, 0.9548789262771606, 5.473055839538574, 0.9570568203926086, 12.169265747070312, 7.440281867980957, 12.171743392944336, 8.342381477355957, 2.4018642902374268, -0.6985151171684265, 3.2156894207000732, -1.079310417175293, 9.954499244689941, -1.0911414623260498, 11.275032997131348, 7.030064105987549, -4.984776973724365, 7.026530742645264, -0.8493634462356567, 1.9855157136917114, 6.372621059417725, 6.388725280761719, 3.154900074005127, 6.38380765914917, 10.986982345581055, 7.545109748840332, -1.0864646434783936, -1.0427128076553345, 11.08828067779541, 6.797306060791016, 12.462209701538086, 7.358213901519775, -1.5128774642944336, -1.5673205852508545, 9.943419456481934, 9.956853866577148, 5.563528060913086, 9.94408130645752, 9.2531156539917, 0.9636240005493164, 1.0280555486679077, 2.331181764602661, 0.9609989523887634, 5.617280960083008, 3.9036552906036377, 10.807088851928711, 10.81450080871582, 6.67035436630249, 6.669607639312744, 2.2501816749572754, 6.673749923706055, 1.0321052074432373, 0.6277062892913818, 11.137627601623535, 0.6286991834640503, -1.010265827178955, -0.19141247868537903, 1.680898666381836, -2.092313528060913, 4.8995184898376465, 4.895435810089111, 0.17845258116722107, -1.1890771389007568, -2.1267049312591553, 9.078805923461914, -2.1111690998077393, 5.841235160827637, 5.865880966186523, 6.96389627456665, 5.866452693939209, -0.9690435528755188, -1.183766484260559, 2.174448251724243, -1.1939938068389893, -0.4845111072063446, 13.402063369750977, 11.016595840454102, 0.7457408905029297, 9.452744483947754, 9.442500114440918, 9.808768272399902, 9.455168724060059, 4.005895614624023, 3.912475347518921, 0.9649028778076172, 0.5995404124259949, 6.361208915710449, 0.5940524339675903, 0.09162930399179459, 2.195767879486084, 0.0653245598077774, 1.0374603271484375, -4.993940830230713, 2.9974045753479004, 0.07459209114313126, 6.563357353210449, -0.7319346070289612, 1.6418554782867432, -5.040023326873779, -1.2629379034042358, -7.647259712219238, -7.647165775299072, -4.984335422515869, -7.646852493286133, 0.5268051624298096, 0.5331411361694336, 10.024545669555664, 0.5350528359413147, 12.178398132324219, -1.2477554082870483, 7.322293281555176, 11.963418960571289, 11.930671691894531, 11.86923599243164, 10.555248260498047, 0.616733729839325, -0.016261519864201546, 6.651335716247559, 5.241297245025635, 0.5021436810493469, 12.162845611572266, 12.152921676635742, 6.059806823730469, 12.166601181030273], \"xaxis\": \"x\", \"y\": [2.2300045490264893, -0.46888986229896545, 8.140954971313477, -0.4675227999687195, 0.9597811698913574, 5.1113386154174805, 5.113005638122559, 7.525382995605469, 7.519579887390137, -1.037983775138855, 7.511505603790283, 0.5909152626991272, 0.5517833828926086, 8.119317054748535, 0.6367847323417664, 4.0516486167907715, 6.529587745666504, 0.8225412368774414, 4.1027655601501465, 6.303416728973389, 6.333073616027832, 7.6393022537231445, 6.280796527862549, 4.921999931335449, 5.006577968597412, 12.176910400390625, 3.107414722442627, 12.203187942504883, 7.081429481506348, 3.6851613521575928, 8.793373107910156, 5.621927261352539, 5.6172099113464355, -1.2102468013763428, 5.729618072509766, -1.3036457300186157, 4.634237289428711, 5.345351696014404, 4.61616325378418, 5.824706077575684, 2.0957679748535156, 2.0828938484191895, 1.2793872356414795, 2.1013123989105225, 4.494673728942871, 7.65825080871582, 4.50600004196167, 7.157867908477783, 5.7909345626831055, 5.784061908721924, 5.860206604003906, 5.7894463539123535, -2.9436495304107666, -2.952878475189209, 1.267234444618225, -2.935350179672241, 4.145070552825928, 4.571423530578613, 7.440439224243164, 7.45712423324585, 4.805171489715576, 7.461221218109131, -4.273945331573486, -4.274775505065918, 5.997929096221924, -4.319692611694336, 7.0008320808410645, 6.987237930297852, 3.3159115314483643, 7.001319885253906, -3.382962226867676, 7.443159580230713, 1.362816333770752, -1.7177555561065674, 1.3763095140457153, 1.5090582370758057, 7.236732482910156, 7.2357258796691895, 11.957395553588867, 7.238186359405518, 7.931286334991455, 1.8609046936035156, 8.06949520111084, 5.714992046356201, 5.718610763549805, 9.807615280151367, 5.724410533905029, -4.37255859375, 3.658554792404175, 2.3709025382995605, 2.3393709659576416, 4.904285907745361, 4.311945915222168, 7.566393852233887, 7.577602863311768, 8.57988452911377, 7.561291694641113, 5.017414093017578, 2.333955764770508, 4.997920036315918, 6.050586700439453, 11.022380828857422, 11.025252342224121, 9.99733829498291, 11.037030220031738, 2.969818592071533, 1.5679378509521484, 1.5705143213272095, 5.523624420166016, 10.408448219299316, 10.403860092163086, 9.742988586425781, 10.416035652160645, 3.2995834350585938, 3.3136236667633057, 11.504682540893555, 3.3370368480682373, 1.8816938400268555, -1.4109975099563599, -1.5872514247894287, -2.0789055824279785, -4.269394397735596, -4.251736164093018, -4.2501091957092285, -2.125072956085205, 8.191787719726562, 8.057392120361328, 3.027404308319092, 8.050896644592285, 8.608843803405762, 9.03475284576416, 8.967617988586426, 9.75083065032959, -0.6624711751937866, -0.6806424856185913, 9.110140800476074, -0.6496890187263489, 6.692255020141602, 7.288823127746582, 9.01771068572998, 6.675381183624268, 0.5225149989128113, 0.5368860960006714, 1.7589720487594604, 3.3680570125579834, 0.5389443039894104, 4.078807353973389, 4.516100883483887, 9.687994003295898, 9.737007141113281, 3.112820863723755, 9.714405059814453, 3.525409698486328, 3.464280605316162, -1.760210394859314, 3.5182621479034424, 2.4770169258117676, 1.1791095733642578, 2.4716761112213135, 6.00805139541626, 7.402567386627197, 7.328741550445557, 7.322136402130127, 1.941921353340149, 9.35266399383545, 9.37087345123291, 1.4147446155548096, 9.35068130493164, 10.022558212280273, 3.3135006427764893, 10.004210472106934, 8.158227920532227, -1.0700136423110962, -1.066868782043457, -3.3318557739257812, -1.0542926788330078, 4.931063175201416, 4.941096305847168, 1.1242666244506836, 4.826362609863281, 5.491930961608887, 5.427733421325684, 6.086385250091553, 5.998989105224609, 1.4008504152297974, 8.538474082946777, 1.8881150484085083, 5.830907344818115, 3.1962509155273438, 2.1959095001220703, 6.312415599822998, 6.99384069442749, 4.9399518966674805, 6.971698760986328, 5.757369518280029, 5.696691989898682, 5.7565813064575195, 5.81564998626709, 6.867889404296875, 10.223143577575684, -0.8065186142921448, 2.9710774421691895, 4.161740779876709, 2.942347526550293, 5.620941638946533, 0.610221266746521, 5.874037265777588, 0.6488603353500366, 5.74221658706665, -2.612722158432007, -2.5083794593811035, -0.3131144046783447, 3.072267532348633, 1.5719431638717651, 1.6061583757400513, 5.665836334228516, 8.084094047546387, 7.440520763397217, 5.163729667663574, 3.2273032665252686, 2.4544386863708496, 1.1867176294326782, 7.049078941345215, 1.2773993015289307, 0.038608696311712265, 7.189599514007568, 7.408679008483887, 7.605324745178223, 8.578656196594238, 7.566450119018555, 7.647097587585449, 5.023055076599121, 1.9231867790222168, 7.626736164093018, -1.053274393081665, -1.0437812805175781, 6.000892162322998, 5.182676792144775, 3.3420867919921875, 4.509928226470947, -2.8398795127868652, 3.3389925956726074, 1.2296618223190308, 2.979495048522949, 11.674606323242188, -0.714817464351654, 6.193383693695068, 0.9734159708023071, 8.677104949951172, 6.905974388122559, 3.2930691242218018, 7.583325386047363, 6.481036186218262, 5.7014594078063965, 4.891868591308594, 4.459749221801758, 5.673671722412109, 4.957143306732178, 4.923954963684082, 6.414302349090576, 4.961931228637695, 1.6919480562210083, 1.9025529623031616, 1.195075273513794, 8.750323295593262, 2.025245428085327, 2.0945937633514404, 6.368990898132324, 2.929980516433716, 9.726890563964844, -3.296987771987915, -3.29514217376709, 9.279051780700684, -3.2956814765930176, 15.158848762512207, -8.15639591217041, -0.005283772014081478, -8.174192428588867, 7.4871320724487305, 7.594499111175537, 3.3415722846984863, 7.510267734527588, 2.9440810680389404, 5.295732498168945, 5.181578636169434, 5.9858222007751465, 10.07302474975586, 10.088592529296875, 4.117518901824951, 1.2513798475265503, 13.473989486694336, 1.291038155555725, 2.7334234714508057, 13.473875045776367, 3.1808974742889404, 9.706838607788086, 11.596633911132812, 0.5483735799789429, 7.931301593780518, 3.333298444747925, 4.384683132171631, 4.716458797454834, 4.391024589538574, 9.003987312316895, 4.979093074798584, 11.154818534851074, 9.116106986999512, 1.9730215072631836, 1.985230803489685, 2.7907443046569824, 1.9817004203796387, 7.072108745574951, 6.9821882247924805, 4.9423441886901855, 7.058200836181641, 7.114790916442871, 7.814730167388916, -5.521611213684082, 6.104281902313232, 1.0090489387512207, 6.392278671264648, -0.4121813476085663, 5.259170055389404, 5.237484455108643, 5.3367156982421875, 5.1419596672058105, 3.657263994216919, 3.582882881164551, 3.1763336658477783, -1.4118186235427856, 11.149862289428711, 5.970728874206543, -2.203810453414917, 1.651367425918579, -2.960561990737915, -5.470455169677734, 9.722951889038086, 3.0050134658813477, 4.212124824523926, -2.996188163757324, -5.520113945007324, 1.387494444847107, 1.1191771030426025, 1.3927001953125, 1.1248055696487427, 3.765026330947876, 3.7410154342651367, 9.849502563476562, 3.4516282081604004, 12.225146293640137, 12.234162330627441, 11.332978248596191, 5.243068695068359, 3.2180376052856445, -0.11976328492164612, 5.843253135681152, 8.705977439880371, 2.1158225536346436, 8.700555801391602, 4.634531021118164, 5.062826156616211, 5.085617542266846, -2.9683871269226074, -2.981196641921997, 8.944706916809082, -2.966207265853882, 1.444071650505066, 5.3568902015686035, -0.7886030673980713, 5.322727680206299, -3.315521478652954, 1.871010661125183, 4.281580924987793, 4.252754211425781, 10.401387214660645, 10.405134201049805, -0.6977352499961853, 5.453834533691406, 8.128724098205566, 5.438320636749268, 2.5373733043670654, 2.5347511768341064, 4.04036283493042, 2.510291337966919, -1.6607240438461304, 0.9940013885498047, 1.010074496269226, 1.4498149156570435, 1.0352225303649902, 1.513319730758667, -0.9855989813804626, -0.9736900329589844, 9.723243713378906, -1.1349676847457886, -2.773301362991333, -1.316002368927002, -2.7727878093719482, 7.56786584854126, -0.4542050063610077, 7.574209213256836, 2.9975688457489014, -2.299069404602051, 5.378497123718262, 5.239681243896484, -0.002873466582968831, 5.338621616363525, 10.994160652160645, 10.82357406616211, 1.6833140850067139, 1.270646333694458, 1.7328673601150513, 1.8967090845108032, 1.9091358184814453, -2.0390286445617676, 1.9120067358016968, -1.1742583513259888, 8.087398529052734, 8.080429077148438, 3.2806670665740967, 8.06932544708252, 7.615016937255859, 7.6793622970581055, 5.784866809844971, 7.628979682922363, 2.3495051860809326, 6.927068710327148, 7.4767866134643555, 7.500704288482666, 3.253558874130249, 7.4995622634887695, 9.706205368041992, 1.9652674198150635, 9.704148292541504, 4.865951061248779, 2.6090495586395264, 7.41644287109375, 11.73719310760498, 0.7795497179031372, 5.321516036987305, -5.520589351654053, 5.1260786056518555, 5.082200527191162, 4.70608377456665, 5.1169257164001465, -2.885122537612915, 11.404549598693848, 11.379243850708008, 0.1532088965177536, 11.389005661010742, 8.677149772644043, 8.708322525024414, 0.051103606820106506, 8.708346366882324, -2.9829463958740234, 1.8690048456192017, 1.8807514905929565, -2.033069133758545, -2.018322706222534, 1.2844549417495728, -2.034823179244995, -0.2538895905017853, 3.3703458309173584, 1.4758234024047852, 0.8766745924949646, -4.352248191833496, 8.710346221923828, 0.9528020620346069, -4.3784637451171875, 6.1040143966674805, 6.13446044921875, 4.468964576721191, 6.195058822631836, 4.384606838226318, 5.367178916931152, 4.384002685546875, 7.238504409790039, 0.6228708028793335, -1.717405080795288, 0.8768569231033325, -1.7145376205444336, -1.0875636339187622, 1.6241998672485352, 5.443819999694824, 4.308903217315674, 1.1213443279266357, 11.920503616333008, 1.1272833347320557, -2.916106700897217, 6.157817363739014, 6.154313087463379, 4.099391460418701, 6.1539177894592285, 3.3588898181915283, 5.085860729217529, -0.017845027148723602, -0.03322787210345268, 3.1111867427825928, -0.026510337367653847, -2.3527960777282715, 7.156398773193359, 5.263442039489746, 1.189286470413208, 7.155760288238525, 6.379614353179932, 7.389992713928223, 5.09715461730957, 7.407526969909668, -2.3688805103302, 4.659057140350342, -2.3619513511657715, -2.373020887374878, -2.4862465858459473, 0.5252249836921692, -2.3646912574768066, -2.3489816188812256, 6.0460429191589355, 6.030841827392578, 10.27141284942627, 6.038301467895508, 7.633176803588867, 9.47312068939209, 7.578873157501221, 9.195737838745117, -2.3480098247528076, -2.3856289386749268, 5.2683820724487305, -2.600276470184326, 1.6268982887268066, -2.1138124465942383, -2.1224560737609863, 2.982386589050293, 1.6011135578155518, -2.476717710494995, -2.465641736984253, -5.4882307052612305, -2.4608874320983887, 4.852339267730713, 9.079496383666992, 5.514062881469727, 4.6067023277282715, 4.605745792388916, 1.2650187015533447, 4.625908374786377, 5.164245128631592, 5.190512657165527, 1.9004919528961182, 5.184507369995117, 13.472403526306152, 13.47280216217041, 0.678992509841919, 13.472503662109375, 0.853248655796051, -1.9214011430740356, -1.925564169883728, 7.991455078125, -1.7108561992645264, 8.747170448303223, 8.757086753845215, 9.106817245483398, 8.760093688964844, 0.622771143913269, 0.6157304048538208, -1.6443290710449219, 0.6061576008796692, 6.41552209854126, 3.389021873474121, 3.3875174522399902, 5.240714073181152, -1.710023283958435, -1.715521216392517, 5.65241813659668, -1.5994224548339844, -0.0075202458538115025, 5.7784247398376465, 3.943617343902588, 3.06594181060791, 2.5156867504119873, 9.061763763427734, 11.71667766571045, 0.9271873235702515, 0.963382363319397, 11.063488006591797, 11.856779098510742, 2.6509270668029785, 6.815635681152344, 11.864255905151367, -0.55027174949646, 7.743238925933838, 2.527043581008911, -2.622239589691162, 1.0725945234298706, 1.05648934841156, 1.1732665300369263, 6.743764877319336, 6.701396465301514, 8.814152717590332, 9.064796447753906, 6.429017543792725, 6.375252723693848, 3.0321855545043945, 1.6576862335205078, 1.6220492124557495, 1.664529800415039, 8.071141242980957, 8.171326637268066, 8.277600288391113, 8.281057357788086, 1.7346726655960083, 0.6237670183181763, 0.9188650250434875, 0.6173310875892639, 3.821986198425293, 3.8488380908966064, 8.993422508239746, 3.8518168926239014, -1.6204622983932495, -1.7365837097167969, 6.620016098022461, -1.7478814125061035, 8.7509765625, 4.009146690368652, 4.432233810424805, 4.431869983673096, 0.5720173120498657, 4.8585944175720215, 4.437946319580078, 5.454678535461426, 5.475225448608398, 6.776432037353516, 5.468664169311523, 11.492142677307129, 11.48944091796875, 9.06165599822998, 11.487608909606934, 5.75628137588501, 5.983602523803711, 5.758440971374512, 7.217295169830322, 4.353190898895264, 7.364254951477051, 4.349769592285156, 4.319401741027832, 4.832497596740723, 7.399238109588623, 7.419666290283203, 3.1894381046295166, 4.60224723815918, 4.5883073806762695, 0.6341647505760193, -1.1987565755844116, -1.2081397771835327, -1.2354549169540405, -1.201317548751831, -3.184903860092163, -0.6802012324333191, -0.6702998280525208, 5.766877174377441, 8.492775917053223, 7.147467136383057, 2.3584396839141846, 11.104453086853027, 8.893659591674805, 6.227548122406006, 4.286262035369873, 3.128159284591675, 4.286428451538086, 2.763213872909546, 8.650850296020508, 8.665596008300781, 1.279399037361145, 8.655991554260254, 4.477770805358887, 4.748401165008545, -0.08179137110710144, 5.117402076721191, 1.6378374099731445, 0.6633718013763428, 0.6402432918548584, 0.0048128943890333176, 0.6590333580970764, 1.7413275241851807, 4.445072650909424, 1.8953802585601807, -2.1300976276397705, 2.9548280239105225, 6.411190509796143, 2.9674673080444336, 6.607613563537598, -0.23505379259586334, -0.2251943200826645, 5.024716854095459, -0.23664894700050354, 7.618471622467041, 7.60335111618042, 11.563460350036621, 7.642827033996582, -0.5084578394889832, 4.786367893218994, 4.817044734954834, 2.508577585220337, 10.97600269317627, 5.80679178237915, 5.763110637664795, 5.355209827423096, 5.7968974113464355, -2.6781954765319824, -1.4777013063430786, -1.4684579372406006, 1.6279921531677246, -3.1205246448516846, -3.139855146408081, 6.030881404876709, -3.0986738204956055, -1.6753345727920532, -1.6469333171844482, 0.04580707103013992, -1.6819754838943481, 4.37548303604126, 0.8202407360076904, 6.433479309082031, 1.2771154642105103, 6.541463851928711, 6.650110721588135, 3.3483216762542725, 3.37874698638916, 3.3536694049835205, 3.3778011798858643, 3.3799517154693604, 6.051080703735352, 6.0300116539001465, 1.1848093271255493, 5.855738639831543, 5.158402442932129, 4.808440208435059, 5.1397576332092285, 4.056539058685303, 3.917354106903076, 3.9184494018554688, -0.9579166173934937, 3.9180104732513428, -2.2592570781707764, 7.372590065002441, 4.304952144622803, 9.697615623474121, 0.5187376737594604, 4.060635566711426, 4.095500469207764, -0.5623196959495544, 4.081603527069092, 5.143993854522705, 5.130295753479004, 0.8864697813987732, 12.094571113586426, 12.097947120666504, 5.304628849029541, 12.08502197265625, 11.475958824157715, -1.109397292137146, 0.5268046855926514, 2.215688943862915, 2.5826666355133057, 3.3700807094573975, 3.370147228240967, 1.3247990608215332, 3.370370388031006, -3.3820993900299072, -3.380924940109253, 1.404231309890747, 1.6264451742172241, 5.461349964141846, 1.825325846672058, 5.550419807434082, 8.139946937561035, -0.692000150680542, -0.6954281330108643, 5.129965782165527, 4.168776512145996, 4.163005352020264, 2.8862719535827637, 4.148009300231934, 5.1401591300964355, 0.7794932126998901, 4.337304592132568, 5.139734268188477, 6.899477958679199, 5.87319278717041, 4.5252366065979, 5.480884075164795, 4.681991100311279, 4.675201416015625, -0.14880411326885223, 6.881511211395264, 5.238442897796631, 7.47725248336792, 7.495001316070557, 4.127553462982178, 7.485449314117432, -1.0179884433746338, -0.9737956523895264, 2.708256244659424, -1.258301854133606, -7.166746139526367, -7.164676189422607, 3.024681329727173, -7.164676189422607, -0.8776749968528748, -0.8779454231262207, 1.4154858589172363, -0.8770092129707336, 9.1256742477417, 9.115161895751953, 9.341754913330078, 9.129819869995117, 5.16566801071167, 5.180536270141602, 8.130680084228516, 5.190637588500977, -3.2218973636627197, 7.380188941955566, 6.739993095397949, 1.0776578187942505, 6.344263076782227, 6.351215839385986, 5.9194841384887695, 6.322964668273926, 9.933094024658203, 9.917448997497559, 9.138818740844727, 9.92403793334961, 4.7764434814453125, 5.2753496170043945, 3.7136764526367188, 5.260523796081543, 6.773177623748779, -3.406001091003418, 8.684244155883789, 8.68443775177002, 1.7169408798217773, 8.657519340515137, 7.6429829597473145, 7.6802449226379395, 0.13925573229789734, 7.676938533782959, 9.39793872833252, 4.494054317474365, 9.423274993896484, 8.839356422424316, -0.4803285300731659, 9.891225814819336, 9.886940002441406, 9.66517162322998, 9.889294624328613, 1.9126436710357666, 4.815128803253174, 4.841305255889893, 3.0566256046295166, 4.812176704406738, 11.297759056091309, 11.348130226135254, 9.03684139251709, 2.3728058338165283, 8.093890190124512, 8.105215072631836, 8.655879020690918, 8.099933624267578, -1.0709826946258545, -1.064253330230713, 6.455635070800781, -1.061193823814392, 0.1443910002708435, 0.14438331127166748, 0.255693256855011, 0.2284913808107376, 0.26117292046546936, 0.0017536379164084792, 0.0008092086063697934, 2.9680845737457275, 0.0056055462919175625, 9.934443473815918, 9.35780143737793, 1.8946059942245483, 9.516464233398438, -2.6238489151000977, -2.6306028366088867, 4.415552139282227, -2.6289122104644775, 6.155569553375244, 6.328333854675293, 1.0587173700332642, 6.169677257537842, 0.9804727435112, 5.674972057342529, 5.7158308029174805, 5.647412300109863, 5.6091227531433105, -0.6659526228904724, -0.666509747505188, 9.068227767944336, -0.6795158386230469, 1.0423494577407837, 1.037021279335022, 1.026286005973816, -0.0008280841284431517, -0.009819545783102512, 9.658921241760254, 9.635758399963379, 8.53824520111084, 9.679585456848145, 7.711827278137207, 3.230332851409912, 7.791802883148193, 4.3758039474487305, 4.414787292480469, -0.37338924407958984, 4.41863489151001, -1.0710948705673218, -1.0727496147155762, -1.1029220819473267, -1.0706754922866821, 4.204314231872559, 3.173577308654785, 5.701223373413086, 3.7068350315093994, 0.7502111196517944, 0.783038854598999, 1.176345944404602, 0.7922738194465637, 5.48894739151001, -1.3759843111038208, 5.526654243469238, 7.575944423675537, 1.948974609375, 7.587892055511475, -0.08260402083396912, -0.07814217358827591, -0.7629712820053101, -0.06518015265464783, 2.272515296936035, 4.497167587280273, 2.280229330062866, 5.044648170471191, -4.310141563415527, 8.189287185668945, -2.932389974594116, -2.9354147911071777, 2.542349100112915, 0.780628502368927, 2.743581533432007, 11.874898910522461, 2.7242329120635986, 2.7635750770568848, 5.21536922454834, 4.126531600952148, 4.108558177947998, 3.1977691650390625, 4.1019439697265625, 7.619225025177002, 7.502187252044678, 11.336294174194336, 7.5156097412109375, 5.439777851104736, 5.432528972625732, 5.638658046722412, 5.485287666320801, 5.485140800476074, 8.23698902130127, -1.1991513967514038, 0.9633508920669556, 1.677540898323059, 2.510446071624756, 3.21976637840271, 1.98444402217865, 1.6538249254226685, 3.164581060409546, 3.2158405780792236, 1.8963427543640137, 8.913418769836426, 8.878619194030762, 3.577150821685791, 8.885725975036621, 0.20008723437786102, 5.355921268463135, 0.2198847383260727, 5.881073474884033, 8.71772289276123, 1.9902219772338867, 5.851649284362793, 8.57845687866211, 8.566779136657715, 0.18866321444511414, 8.564916610717773, 5.4062347412109375, 3.1904921531677246, 5.401076793670654, 5.758571147918701, 9.867668151855469, 8.685855865478516, 10.173733711242676, 1.6510854959487915, 1.6320194005966187, 4.73607873916626, 7.402451992034912, 7.331658840179443, 4.021251201629639, 7.3712687492370605, 1.897281527519226, 1.9410407543182373, 8.553943634033203, 1.9147957563400269, 6.371960639953613, 8.590097427368164, -3.1492347717285156, -3.15773606300354, 4.8986663818359375, -3.147385597229004, -3.2282843589782715, 5.8037614822387695, -3.261514902114868, 2.6395299434661865, -1.412093162536621, 8.632619857788086, 8.658167839050293, 1.418758511543274, 8.629470825195312, 10.704026222229004, 10.728376388549805, -0.0447286032140255, 10.733627319335938, -1.6642507314682007, -1.6527190208435059, -1.6667145490646362, -1.6581001281738281, -1.6694139242172241, 2.4763782024383545, 0.5337672829627991, 1.6923679113388062, 2.5888261795043945, 1.460637092590332, 1.7616225481033325, 1.8266838788986206, 7.936745643615723, 0.8776442408561707, -2.079225778579712, 7.433690547943115, -1.8389710187911987, -1.7731469869613647, 5.029415130615234, 7.284302234649658, 7.518850326538086, 3.6407320499420166, 7.459005832672119, 6.243712902069092, 6.247776508331299, 3.7708821296691895, 6.250273704528809, -0.6725386381149292, -0.6846272945404053, -3.3443567752838135, -0.6768782138824463, 11.050293922424316, 9.06329345703125, 10.159890174865723, 8.9660005569458, 6.111388206481934, 7.4940619468688965, 6.280433177947998, 6.086750507354736, 5.691161155700684, 5.647375106811523, 9.936493873596191, 5.662044048309326, 4.194077491760254, 5.567885398864746, 5.562998294830322, 3.388324022293091, 5.564737319946289, 3.430389881134033, 5.562849521636963, 5.557576656341553, 4.578789234161377, 5.597853660583496, 6.026535511016846, 2.463203191757202, 5.242710590362549, 5.53566837310791, 5.35560941696167, 6.107542037963867, 5.927468776702881, 8.22383975982666, 1.5278655290603638, 3.64540958404541, 7.702275276184082, 8.073456764221191, 0.35729119181632996, 0.3485480546951294, -1.753700613975525, 0.3540175259113312, -0.019268278032541275, -0.017172303050756454, 1.0429903268814087, 1.165447473526001, 8.871530532836914, 8.857933044433594, -0.031298279762268066, 8.870908737182617, 5.828135967254639, 5.82082986831665, 2.9492897987365723, 11.71269702911377, 9.754091262817383, 2.6758713722229004, 9.75700569152832, 8.545541763305664, 1.061955451965332, 1.0822910070419312, 5.75391960144043, 1.0721452236175537, 4.318175792694092, 4.335905075073242, 4.052807807922363, 9.3967866897583, 3.960653066635132, 3.931690216064453, -0.291607141494751, 3.9391536712646484, 0.15805931389331818, 0.15760819613933563, 8.693439483642578, 2.841697931289673, 5.414799213409424, 2.5177199840545654, 1.1196244955062866, 4.4207963943481445, 1.1271239519119263, 4.466506481170654, 7.409313678741455, 7.4575514793396, -0.2852354347705841, 7.430514812469482, 8.798837661743164, 4.3452839851379395, 9.021994590759277, 4.3095316886901855, 5.783350467681885, 7.285306453704834, 5.77769136428833, 5.390888214111328, 0.5100911259651184, 0.536563515663147, 1.1736022233963013, 1.3138062953948975, 8.14145565032959, 6.402356147766113, 6.386685371398926, 9.346460342407227, 6.381867408752441, -1.6709216833114624, -1.666242003440857, 9.230196952819824, 3.0382659435272217, -1.650228500366211, 1.9882761240005493, 0.9465664029121399, 2.2479960918426514, 0.939124584197998, 1.0696195363998413, 0.8609273433685303, 6.923088073730469, 7.519716739654541, 4.7203874588012695, 6.909183979034424, 5.5498456954956055, 4.779507637023926, 5.751355171203613, 5.340742588043213, 7.384798049926758, 1.9405275583267212, 7.164135456085205, 5.561842441558838, -0.6301494240760803, -0.6263460516929626, 3.306382417678833, -0.6571698188781738, 5.667543888092041, 6.317869663238525, 1.5125724077224731, 1.5134731531143188, 0.6170639991760254, 1.5144931077957153, -2.9909870624542236, 0.9042998552322388, 0.9163815975189209, -1.626628041267395, 0.915359377861023, 6.375174522399902, 6.380657196044922, 9.111528396606445, 15.152249336242676, 15.152389526367188, 2.083662271499634, 15.148819923400879, 1.6728438138961792, 1.749507188796997, 4.92097282409668, 4.844263553619385, 1.6191675662994385, 4.9140729904174805, 1.747828722000122, 7.41019344329834, 7.411408424377441, 9.207795143127441, 7.389976501464844, 11.680659294128418, 4.036893367767334, 8.618250846862793, 4.027503490447998, 6.748502254486084, 6.170123100280762, 6.56644868850708, 6.568704128265381, -0.3202301859855652, 6.571064472198486, 3.7667031288146973, 3.768519401550293, 8.778950691223145, 3.777465581893921, 2.769395112991333, 3.016730546951294, 5.573122024536133, 2.8091747760772705, -1.1834558248519897, 2.897991895675659, 6.505180835723877, 1.932068109512329, 4.954172134399414, 6.129777431488037, 6.005843639373779, 4.190225124359131, 6.1118011474609375, 7.7167205810546875, 7.725496292114258, 4.341013431549072, 7.426729679107666, 7.426359176635742, 4.82740592956543, 4.884430885314941, 1.779563307762146, 1.234714150428772, 1.777794599533081, 1.2173047065734863, 0.46074193716049194, 4.784007549285889, 4.808984756469727, 5.420044422149658, 1.930755853652954, 5.443215847015381, 2.9457218647003174, -2.133833169937134, -1.2113428115844727, -2.1337883472442627, -3.3199121952056885, -1.7968629598617554, 1.5448250770568848, -2.4702298641204834, 6.449238300323486, 6.332770347595215, -3.4033844470977783, 6.049739360809326, -1.430768609046936, 6.0678935050964355, 8.546844482421875, -2.351579427719116, 8.056961059570312, 8.056436538696289, 0.8658487796783447, 8.068523406982422, 8.814851760864258, 8.797005653381348, 1.3398892879486084, 8.815869331359863, -8.310089111328125, -8.2930326461792, 0.11614113301038742, -8.310359001159668, 5.316012859344482, 5.294657230377197, 11.704864501953125, 11.64870548248291, -1.7220641374588013, 11.698342323303223, 7.257696151733398, 7.278398513793945, 4.346002578735352, 7.254154205322266, 6.937055587768555, 7.001086235046387, -3.422870635986328, 2.4358010292053223, 1.0479023456573486, 5.712446212768555, 5.708784580230713, -0.35427188873291016, 5.715021133422852, 1.355457067489624, 1.2749906778335571, 1.08773934841156, -3.230448007583618, -3.230154275894165, 4.502859115600586, 5.992827892303467, 4.507913112640381, 6.188713073730469, 7.438777923583984, 7.616203308105469, 4.984228134155273, 7.574458122253418, 7.958229064941406, 7.7464752197265625, 6.474059581756592, 6.4765424728393555, 1.0624747276306152, 4.072196006774902, 4.073591709136963, 0.19833950698375702, 4.078450679779053, 9.756155014038086, 9.730454444885254, 3.231605052947998, 9.732748031616211, 2.98331880569458, 2.9952046871185303, -1.7252612113952637, 2.994403600692749, -2.962505578994751, 1.2015763521194458, 11.680827140808105, 1.2189419269561768, 5.263322830200195, 9.209877014160156, 9.187707901000977, 8.562821388244629, 6.0642523765563965, 1.9162324666976929, 1.9199237823486328, 5.7940144538879395, 8.865958213806152, 8.863869667053223, 2.902838706970215, 8.865189552307129, 0.6304010152816772, 12.151130676269531, 12.156266212463379, 9.885428428649902, 12.142130851745605, 8.639262199401855, 8.66723346710205, 9.924882888793945, 3.1867024898529053, 3.2079522609710693, 3.7013182640075684, 3.212157726287842, -0.7938287854194641, -0.83922278881073, 8.04707145690918, -0.828499436378479, 0.5175487399101257, 3.5866641998291016, 3.604203462600708, -0.046182144433259964, 3.590181350708008, -4.338433265686035, -4.330775260925293, -4.275862693786621, -4.258974075317383, 2.0664913654327393, 11.930253028869629, 5.287409782409668, 8.414044380187988, 0.7741008996963501, 0.7770960927009583, 5.806944370269775, 5.592290878295898, 3.623347282409668, 5.781226634979248, 10.768826484680176, 9.811299324035645, 1.6497784852981567, 10.834850311279297, 7.723435401916504, 7.72503137588501, 6.841833114624023, -2.4774770736694336, -2.5672619342803955, -0.47659754753112793, 3.45298171043396, 3.462033748626709, 5.523393154144287, 3.44691801071167, 6.8832244873046875, 6.08978271484375, 6.092382431030273, 4.61854887008667, 6.0969743728637695, 2.233948230743408, 11.769122123718262, 2.9195914268493652, 0.7946984767913818, 2.278092384338379, 7.5176682472229, 7.516244888305664, 8.689657211303711, 7.510461330413818, 9.471355438232422, 9.456674575805664, -3.110262393951416, 9.460419654846191, 5.789985179901123, 5.79308557510376, 3.1857173442840576, 5.78685188293457, -3.288400888442993, -3.289808511734009, 1.0403271913528442, -3.29730224609375, 9.134122848510742, 9.164012908935547, 7.60201358795166, 7.6075968742370605, 9.734405517578125, 7.612547397613525, 4.182105541229248, 8.791836738586426, 4.756455898284912, 4.748232364654541, 1.9196364879608154, 4.7684736251831055, -7.164350986480713, -7.164343357086182, 0.40518099069595337, -7.164056301116943, 0.26933470368385315, 0.23683807253837585, 1.1375144720077515, -3.200164556503296, -4.3247971534729, -4.323549270629883, 1.426121473312378, -4.262125492095947, 7.380941390991211, 7.397466659545898, -2.02974534034729, 7.401159286499023, -4.38309383392334, -4.370172023773193, 8.749621391296387, -4.3667893409729, -1.7721201181411743, -1.7631489038467407, 1.3477141857147217, -1.775230884552002, 2.825507402420044, 2.823744773864746, 4.139946460723877, 4.088784217834473, 2.218480110168457, 4.149016857147217, -0.18135301768779755, 11.32986068725586, 11.329837799072266, -1.6798657178878784, 11.329909324645996, -7.743456840515137, -7.746585369110107, 5.927741050720215, -7.746318817138672, 5.990518093109131, 6.0571160316467285, 8.92977523803711, 0.897525429725647, 8.918853759765625, 8.539834022521973, 2.998459815979004, 1.0317240953445435, 5.250738143920898, 5.903480529785156, 4.8843302726745605, 0.8480494022369385, 7.271233558654785, 5.54664945602417, 7.3167290687561035, 6.148744583129883, 8.71316909790039, 8.753791809082031, 1.2773303985595703, 4.952336311340332, 4.818225860595703, 4.78111457824707, 6.407689571380615, 4.791349411010742, 7.0310492515563965, 7.443022727966309, -1.7494423389434814, 7.035593509674072, 6.4725213050842285, 6.480831623077393, 9.676763534545898, 6.471343517303467, 5.910369396209717, 3.8208115100860596, 4.829893589019775, 4.899268627166748, 9.668054580688477, 5.681529521942139, 4.804287433624268, 4.794100761413574, 8.268404960632324, 4.638608932495117, -0.6712746620178223, -0.02905113808810711, 8.334488868713379, 8.320442199707031, 1.2863105535507202, 7.971258163452148, -1.6658827066421509, 6.739365577697754, 4.855924606323242, 2.9881815910339355, 1.8762518167495728, 4.8664870262146, 4.3548784255981445, 1.5664982795715332, 2.860407590866089, 4.112668991088867, 4.108314037322998, 5.233217716217041, 4.098402500152588, 4.387232780456543, 5.006783962249756, 7.812904357910156, -1.018729329109192, -1.0389809608459473, 7.085942268371582, -1.0987861156463623, 4.976722717285156, 5.0129899978637695, 0.567623496055603, 6.852078437805176, 6.833688259124756, 1.039565920829773, 6.813114166259766, 4.719884872436523, 8.752649307250977, -1.0228700637817383, 4.729236602783203, 0.8940038681030273, 0.9079563617706299, 3.786410093307495, 3.787705421447754, 0.35999152064323425, 3.7864761352539062, -4.325838088989258, 2.0353167057037354, -4.325629234313965, 5.158535480499268, 5.88841438293457, 5.493563175201416, 8.690375328063965, 7.9089579582214355, 4.983305931091309, -0.8405724763870239, 4.978698253631592, 3.8538591861724854, -0.7441889643669128, 0.0063506197184324265, -0.7393353581428528, 8.706703186035156, 6.368724346160889, -1.8874397277832031, 7.577646732330322, 7.5672478675842285, 8.873117446899414, 5.5898661613464355, 5.647867679595947, 4.379249572753906, 5.6043195724487305, 6.358946323394775, 2.7294106483459473, 6.444487571716309, 6.354730129241943, 5.08393669128418, 0.47946587204933167, 9.439213752746582, 3.12873911857605, 9.44070053100586, 5.413080215454102, 1.2385228872299194, 1.7844318151474, 10.339204788208008, 1.2398195266723633, 6.280645847320557, 6.2666449546813965, 0.8457235097885132, 8.715447425842285, 8.674299240112305, 0.2675768733024597, 8.672562599182129, 6.85054874420166, 6.856323719024658, 5.651219367980957, 9.759737968444824, 6.060472011566162, -0.5953500866889954, 9.02830982208252, 10.471659660339355, 0.5936443209648132, -0.19076545536518097, 10.456953048706055, 3.753582715988159, 11.329097747802734, 2.998090982437134, 3.1868488788604736, 7.582223415374756, 7.248449325561523, 5.115511417388916, 7.22217321395874, 7.452558994293213, 5.277740955352783, 5.286202430725098, 6.529815673828125, 5.301969528198242, 5.501184940338135, 1.6465092897415161, 5.393076419830322, 3.7734434604644775, 3.781468629837036, 9.079062461853027, 3.796053171157837, 4.226748943328857, 4.284512042999268, 4.691333293914795, 4.284493923187256, 1.1299772262573242, 1.145334243774414, 1.8390814065933228, 1.144945502281189, 10.468276977539062, 10.45251178741455, 4.235385894775391, 5.110167503356934, 3.562391757965088, 3.546229362487793, 3.5616073608398438, 3.54272198677063, 5.5601582527160645, 5.526661396026611, 6.958352088928223, 9.171698570251465, 9.033086776733398, 4.738387584686279, 9.05768871307373, 3.5366058349609375, 3.5304691791534424, 7.928610324859619, 3.544811248779297, 4.281162261962891, 4.181447982788086, 0.09520531445741653, 4.273462295532227, 9.935911178588867, 9.937807083129883, 5.352413654327393, 9.9362154006958, 3.332509756088257, 3.3433570861816406, 7.833446979522705, 7.780540943145752, 7.474084854125977, 6.243553161621094, 6.139601230621338, 8.574219703674316, 5.37778902053833, 2.906003713607788, 7.664764404296875, 1.9916683435440063, 5.713796138763428, 2.945962429046631, 3.7977311611175537, 5.9127092361450195, 5.932809352874756, 4.82852029800415, 5.911691665649414, 7.177574634552002, 7.172396183013916, 9.066240310668945, 7.149056911468506, 5.498807907104492, 4.769289016723633, 3.098318576812744, 4.383955478668213, 4.352312088012695, 1.1967875957489014, 4.341890335083008, 7.006253242492676, 7.021406650543213, 11.522897720336914, 7.001010894775391, -1.2778122425079346, -1.2725287675857544, 0.09653623402118683, -1.2731342315673828, -2.9470572471618652, 2.028473138809204, 3.117453098297119, 6.06317663192749, 4.1498565673828125, 4.147747993469238, 4.899399757385254, 4.149805068969727, 8.70756721496582, 8.653669357299805, 6.021528720855713, 8.698188781738281, 2.1721913814544678, 3.2490670680999756, 3.249997615814209, -1.612188458442688, 4.919114112854004, 4.334553241729736, 3.2116811275482178, 6.422922611236572, 4.798185348510742, 7.693901062011719, 4.83391809463501, 6.138124465942383, 5.086602687835693, 6.073902606964111, 7.343519687652588, 8.517066955566406, 1.955780267715454, 7.170566558837891, 7.570292949676514, 5.535497188568115, 7.584285259246826, 8.524740219116211, 5.570797443389893, 4.681303024291992, 5.505690574645996, 4.4437456130981445, 4.867310047149658, 4.80258846282959, 3.699336051940918, 4.847972869873047, 5.595000743865967, 5.553360939025879, 0.6224607825279236, 5.5752763748168945, -0.7433729767799377, 6.174705505371094, -0.7437624335289001, 6.620367050170898, 5.275487422943115, 5.349124431610107, 5.744787693023682, 3.9179229736328125, 4.667620658874512, 4.345411777496338, 7.640621185302734, 4.6544270515441895, 7.406469345092773, 9.02731990814209, 9.821136474609375, 7.3150954246521, 4.2604146003723145, 4.258783340454102, 1.730560064315796, 4.281085014343262, -2.8430800437927246, -2.795241117477417, -0.7335831522941589, 8.200299263000488, 4.106468200683594, 4.244180679321289, 4.109243869781494, 5.478478908538818, 4.3691840171813965, 4.244436264038086, 9.937549591064453, 4.075706481933594, 0.2494065761566162, 0.5590223670005798, 5.092135906219482, 2.9438016414642334, 3.724947929382324, 5.11795711517334, 7.490616321563721, 7.476136207580566, 2.2608859539031982, 6.848222732543945, 6.63649320602417, 8.050700187683105, 6.880064964294434, 5.350803852081299, 6.436608791351318, 4.84112024307251, 6.322523593902588, 4.828852653503418, 6.176607608795166, 11.199719429016113, 11.20362663269043, 9.880422592163086, 9.810962677001953, 5.011416912078857, 4.434349536895752, 4.990400314331055, 1.0612446069717407, 6.600831985473633, 1.25483238697052, 8.752947807312012, 1.8670939207077026, 8.725407600402832, 5.983779430389404, -0.02509462647140026, 5.639152526855469, -0.5686895847320557, -0.9056130051612854, -1.0546538829803467, 5.376716613769531, -1.064540147781372, 1.897263765335083, 1.8852823972702026, 5.483511447906494, 4.65235710144043, 2.34483003616333, 8.675224304199219, 1.1225523948669434, 1.1237279176712036, 2.6378962993621826, 1.1246082782745361, 4.5548858642578125, 4.065342903137207, 9.322093963623047, 4.050584316253662, 5.9590840339660645, 5.953972339630127, 3.6777451038360596, 5.55031681060791, 8.415570259094238, 5.502695083618164, 4.702364921569824, 8.259557723999023, 4.49265718460083, 11.21004581451416, 6.953548431396484, 5.118679523468018, 5.086141586303711, 5.788816928863525, 5.088820457458496, -1.7093321084976196, -1.7370917797088623, 3.7297253608703613, -1.6652923822402954, 6.664419174194336, 4.308200359344482, 7.027390003204346, 7.054571151733398, 8.804302215576172, 1.7566783428192139, 7.053847789764404, 6.028459072113037, 6.40119743347168, 4.0006208419799805, 5.951231002807617, 7.350956916809082, 5.513752460479736, 4.34330940246582, 5.519298553466797, 3.381417751312256, 3.4610862731933594, 4.184755802154541, 3.3968167304992676, 6.059449195861816, 6.077409744262695, 5.983137130737305, 5.964300632476807, 5.61135721206665, 5.977843761444092, 4.817219257354736, 4.759986400604248, 1.8629627227783203, 4.78798770904541, 9.715538024902344, 12.215699195861816, -2.468146800994873, 7.950695991516113, 6.069308757781982, 6.822629928588867, 1.80440092086792, 5.158630847930908, 2.9890999794006348, 1.039748191833496, 4.92828369140625, 4.625378608703613, 4.71940803527832, 4.78049898147583, 6.753621578216553, 6.646361351013184, 4.751825332641602, 6.6600189208984375, -4.381621837615967, -2.9803619384765625, 4.8770856857299805, 4.853727340698242, 3.281869888305664, 4.854288101196289, 4.265087127685547, 1.9126050472259521, 11.7578706741333, 2.0030879974365234, 4.2107768058776855, 3.502342462539673, 3.2361063957214355, 6.080325126647949, 6.358915328979492, 4.4655256271362305, 6.080866813659668, 6.905539512634277, 7.862256050109863, 4.7833075523376465, 6.141302585601807, 7.878424644470215, 3.935943365097046, 3.8997108936309814, 5.1117777824401855, 4.083658695220947, 8.67406940460205, 8.299480438232422, 4.680915355682373, 8.315256118774414, 5.201754093170166, 2.994551658630371, 5.140329360961914, 2.991856336593628, 5.96480131149292, 5.119199752807617, 4.830261707305908, 6.133364677429199, 4.335069179534912, 4.331314563751221, 3.217937707901001, 4.330018043518066, 10.619050025939941, -1.1704580783843994, -1.0801138877868652, -1.1567871570587158, 2.31420636177063, -1.0677106380462646, 6.550434112548828, 6.410612106323242, 4.870397567749023, 6.572317123413086, -4.36674165725708, -4.383349418640137, 0.4796633720397949, -4.366179466247559, 8.860572814941406, 2.7343339920043945, 9.051298141479492, 1.9783912897109985, 9.047682762145996, 8.735003471374512, -2.3687562942504883, -2.125579357147217, -0.348018616437912, -2.360466241836548, 1.8501135110855103, 2.2709178924560547, 1.8367305994033813, 8.87457275390625, 4.953418731689453, 4.947131156921387, 6.673224925994873, 6.332157611846924, 4.364869117736816, 6.335403919219971, 5.807849884033203, 1.9282095432281494, 1.903922200202942, 2.0247302055358887, 2.0012564659118652, 0.6007093191146851, 2.0185699462890625, 2.0186641216278076, 7.667840003967285, 8.321904182434082, 4.266193866729736, 8.346257209777832, 7.925926208496094, 7.39016056060791, 7.38643217086792, 11.528057098388672, 3.29833722114563, 4.671571254730225, 4.595986366271973, -1.249328374862671, 4.69225549697876, 5.131314277648926, 5.133823394775391, 4.774837493896484, 5.129709243774414, 1.9531188011169434, 3.2090675830841064, 5.544731616973877, 4.969239234924316, 4.299246311187744, 4.972922325134277, 5.353082180023193, 1.4518396854400635, 5.117976665496826, 1.8215157985687256, 1.5863081216812134, 1.8324428796768188, 7.98274040222168, 0.8938649892807007, 0.8912413120269775, 1.6912323236465454, 1.6975632905960083, -4.364018440246582, -2.9715797901153564, 0.45438122749328613, 3.6390154361724854, 4.1284871101379395, 5.513686180114746, 0.8341175317764282, 5.512912750244141, 5.62873649597168, 1.3817088603973389, 2.4489896297454834, 3.8966331481933594, 3.7668018341064453, 8.849876403808594, 3.9614005088806152, -3.1361403465270996, 1.635180115699768, 3.455451011657715, 1.5353631973266602, 8.614703178405762, 8.553509712219238, 4.496817111968994, 8.578521728515625, 8.473166465759277, 6.389071464538574, 6.383572578430176, 4.7920823097229, 6.333033084869385, 9.082552909851074, 8.214306831359863, 9.06414794921875, -1.3809022903442383, -2.433983325958252, -2.4293272495269775, -2.4252231121063232, -3.220282554626465, 3.301492929458618, 3.2933735847473145, 1.965803623199463, 3.290316343307495, 4.440763473510742, 4.700741767883301, 4.439270973205566, 5.229071617126465, 3.943607807159424, 3.9436981678009033, 9.30160903930664, 3.9650092124938965, 3.3454091548919678, 4.099875450134277, 3.3942575454711914, 8.781779289245605, 6.465205192565918, 6.852641582489014, 6.997818946838379, 11.477863311767578, 6.758335113525391, 5.684296131134033, 11.372086524963379, 5.663780212402344, 4.44315767288208, 5.48940372467041, 6.275405406951904, 6.186500549316406, 3.2509727478027344, 6.275886058807373, 8.242823600769043, 8.236544609069824, 6.471473693847656, 8.235487937927246, 9.032153129577637, 8.644731521606445, 9.035391807556152, 7.0979108810424805, 1.0208276510238647, 0.9680060148239136, 4.746318817138672, 5.49016809463501, 10.026162147521973, 5.2445969581604, 5.782583236694336, 6.564870357513428, 5.788609504699707, 7.492112636566162, -2.189387798309326, 0.1639120876789093, -1.8533214330673218, -2.539501428604126, -2.478715658187866, 9.326236724853516, 11.859222412109375, 5.892512321472168, 4.878303050994873, 4.848978042602539, 9.632367134094238, 11.05824089050293, 8.515755653381348, 8.491848945617676, 9.125699996948242, 8.49969482421875, 11.373067855834961, 11.389530181884766, 0.007061614654958248, 0.01025437656790018, -2.4566500186920166, -2.5454845428466797, 5.616522789001465, 5.204590320587158, 5.130187034606934, 5.201550483703613, 6.7391839027404785, 8.675603866577148, 8.667322158813477, 11.938100814819336, 8.672619819641113, 5.46580696105957, 5.486508846282959, 2.9790117740631104, 5.474058151245117, 4.474720001220703, 1.0249145030975342, 5.187542915344238, 6.712827205657959, 7.609992027282715, 1.8928167819976807, 2.463061571121216, -2.6194422245025635, 6.256462574005127, 9.634771347045898, 10.067164421081543, 10.066452026367188, 2.204153060913086, 10.07845687866211, 6.836536884307861, 6.757195949554443, 4.296534538269043, 10.497573852539062, 10.49714469909668, 11.933757781982422, 10.49820613861084, 4.179315567016602, 1.9360783100128174, 4.15482234954834, 5.247888088226318, 0.2475830614566803, 0.23288322985172272, 1.9433393478393555, 0.25313881039619446, 7.506504058837891, 7.511338710784912, 9.883562088012695, 7.618336200714111, 3.1010148525238037, 2.754985809326172, 0.6471947431564331, 2.746342420578003, -4.355616092681885, -4.356155872344971, 7.407712459564209, 1.8605413436889648, 7.399199962615967, 1.8741135597229004, -3.017756938934326, 8.583344459533691, 8.639667510986328, 9.299036026000977, 3.6262261867523193, 3.630734443664551, -1.7768352031707764, 3.633516550064087, 6.133014678955078, 1.256769061088562, 0.7866530418395996, 6.314143657684326, 1.871806025505066, 1.9144814014434814, 5.973590850830078, 10.315149307250977, 10.29499626159668, 4.34721565246582, 10.30733871459961, 9.051657676696777, 4.831219673156738, 9.06369400024414, 4.748682022094727, 10.860435485839844, 4.084685325622559, 0.5287961959838867, 2.2311930656433105, 0.5256534814834595, 7.8948163986206055, 11.770062446594238, 11.802947044372559, 6.358399868011475, 11.789118766784668, 5.399810314178467, 5.511962413787842, 4.6886796951293945, 7.142549514770508, 7.070010185241699, -1.0224806070327759, 7.145758152008057, 9.85795783996582, 9.780489921569824, 8.669271469116211, 9.841973304748535, -1.2477740049362183, -1.2648128271102905, 2.5290729999542236, -1.2392336130142212, 7.765100002288818, 5.054123878479004, 0.664267361164093, 1.87103271484375, 6.190298080444336, 6.2266011238098145, 0.8805840015411377, 6.285627365112305, 8.736358642578125, 3.6071059703826904, 3.6171507835388184, 8.730849266052246, -0.8160251975059509, 20.012617111206055, 20.01239013671875, 5.709689617156982, 20.012577056884766, -3.380763292312622, -3.3818275928497314, 1.405156135559082, 10.853414535522461, 7.729952812194824, 1.960442304611206, 2.054384231567383, 11.474003791809082, 2.072617769241333, 10.006950378417969, 11.061525344848633, 8.175888061523438, 6.788735866546631, 11.055156707763672, 8.167272567749023, 6.748513698577881, 4.159598350524902, -1.6356894969940186, 2.023953437805176, 0.07823958992958069, -0.18509924411773682, 8.583868026733398, 7.849165916442871, 6.584781646728516, 4.081974983215332, 3.4253957271575928, 3.3974525928497314, 9.72745418548584, 3.4029593467712402, 2.125771999359131, 2.196601390838623, 6.388258457183838, 6.342163562774658, 10.01085090637207, 1.857115387916565, 7.9462690353393555, 1.8349822759628296, 1.9306706190109253, 4.013816833496094, 3.7826011180877686, 8.788714408874512, 4.327381134033203, 3.94938063621521, 3.9467318058013916, 1.945231318473816, 3.955747365951538, 4.6570963859558105, 4.717337608337402, 3.118960380554199, 4.68035888671875, 5.004913330078125, 7.657803058624268, 6.436960220336914, 2.2479944229125977, 9.17181396484375, 2.048186779022217, 9.161581039428711, 8.781363487243652, 6.65233039855957, 8.823563575744629, 3.3954057693481445, 2.700073719024658, 4.482354640960693, 3.4070043563842773, -0.6884870529174805, -0.6685897707939148, 5.371232032775879, -0.6737345457077026, 1.3257797956466675, 10.894489288330078, 4.2645649909973145, 4.259417533874512, 8.622520446777344, 4.268820762634277, -2.039856433868408, 9.658863067626953, 9.608579635620117, 0.9554752111434937, 9.608080863952637, 0.5453932285308838, -1.2507621049880981, -0.06662379205226898, 5.904851913452148, 5.073630332946777, 5.968242645263672, 5.566015243530273, 2.2548725605010986, 2.2598824501037598, 11.722994804382324, 2.272348642349243, 6.093709468841553, 6.091217517852783, 4.60477876663208, 6.106775283813477, 7.9312663078308105, 7.931270599365234, -1.7068781852722168, 7.9312944412231445, 2.264409303665161, 2.2614192962646484, -0.5913658738136292, 2.264591932296753, 5.7251667976379395, 5.707066535949707, 9.033254623413086, 9.087660789489746, 0.4979510009288788, 0.2667330503463745, -0.3259727358818054, 6.9171953201293945, 7.175189018249512, 4.059964179992676, 7.033420562744141, 11.598490715026855, 11.630012512207031, 11.722430229187012, 11.445816040039062, 5.762033462524414, 5.688704967498779, 5.7605061531066895, 4.199526786804199, 5.72831916809082, 7.270079612731934, 5.732571125030518, 7.218196392059326, 8.81564712524414, 6.87876558303833, -2.4703056812286377, -2.470325231552124, 4.871453285217285, 4.923845291137695, 1.9424711465835571, 4.922910690307617, 6.950294017791748, 0.9657236933708191, -0.5426942706108093, 0.9868121147155762, 9.169454574584961, 4.181610107421875, 2.1040873527526855, 2.0126953125, 2.0034689903259277, 5.925456523895264, 5.882821559906006, 5.995725631713867, 5.912811279296875, 9.172443389892578, 3.3901705741882324, 3.343716859817505, 9.468658447265625, 1.0077521800994873, -2.532480478286743, 6.536483287811279, 9.33720874786377, 9.325983047485352, 0.7633439898490906, 9.334336280822754, 1.9385279417037964, 5.987631320953369, 9.012125968933105, 5.985983371734619, 8.05792236328125, 2.723008394241333, 1.9375879764556885, 5.985012054443359, 9.001108169555664, 12.200328826904297, 4.487192630767822, 8.63338851928711, 4.607849597930908, 3.1852502822875977, -2.9612250328063965, -2.9658780097961426, 1.9084337949752808, -1.4767541885375977, -2.9723494052886963, 9.730360984802246, 9.833517074584961, 0.0851885974407196, 9.801804542541504, 10.125738143920898, 10.30029582977295, 4.740941524505615, 10.300546646118164, -4.366617679595947, -4.366432189941406, 1.9919569492340088, -4.384594440460205, -4.366362571716309, 1.994084119796753, 0.4867877960205078, 5.7599406242370605, 5.122921466827393, 6.4246625900268555, 6.589386463165283, 11.182245254516602, 11.200435638427734, 8.738152503967285, 11.21158504486084, 1.620682716369629, 1.6270027160644531, 0.7197091579437256, -2.036954879760742, 11.679281234741211, 11.678524017333984, 4.536122798919678, 11.688262939453125, 9.09365177154541, 9.100272178649902, 4.462409973144531, 9.104022979736328, 7.532071590423584, 1.0414024591445923, 7.527901649475098, 5.787663459777832, -0.2770633101463318, -3.249161958694458, 6.256209373474121, 9.026808738708496, -2.609558582305908, 9.837733268737793, 8.344383239746094, -2.6086370944976807, 9.858235359191895, 8.340807914733887, 7.495436668395996, 7.7732062339782715, 7.507783889770508, 7.853392124176025, 3.89908504486084, 1.1430569887161255, 4.458991050720215, 8.339578628540039, 4.4331560134887695, 5.609879016876221, 5.626797676086426, 11.426514625549316, 5.989246845245361, 6.005092144012451, 6.247242450714111, -1.0326610803604126, -1.0374879837036133, -0.33541586995124817, 11.475018501281738, -2.353121280670166, -2.3483200073242188, 9.484516143798828, 0.35019639134407043, 0.3521883189678192, 3.8976919651031494, 0.3474045991897583, 0.6586712002754211, 0.6596658825874329, 5.545705318450928, 0.6592961549758911, 8.241464614868164, 8.116752624511719, 4.584219455718994, 4.373032093048096, 4.508452415466309, 4.636588096618652, 7.620765686035156, 4.6403045654296875, 7.08897590637207, 5.169595718383789, 5.169914722442627, 4.425576686859131, 5.167461395263672, 4.154477596282959, 4.325651168823242, 5.23799467086792, 6.751455783843994, 6.883040904998779, 3.2850515842437744, 6.690625190734863, 6.685722351074219, 7.589066982269287, 7.5740509033203125, 4.575220584869385, 1.678971529006958, 1.3173036575317383, 1.2958385944366455, 4.713413715362549, 1.2981928586959839, 5.116502285003662, 5.113206386566162, 6.009927749633789, 5.120927333831787, 5.08748722076416, 5.101698398590088, 1.8564373254776, 5.0930495262146, 10.89587688446045, 10.892894744873047, 11.901514053344727, 10.89543628692627, -1.6412599086761475, 4.362633228302002, -1.767303228378296, 0.5166003108024597, 8.88480281829834, 1.532212257385254, 8.905269622802734, 1.2871955633163452, 2.066218137741089, 2.0451226234436035, 11.760930061340332, -3.933403968811035, -3.933897018432617, -3.9311094284057617, 9.873502731323242, 8.905801773071289, -3.933779001235962, 20.979324340820312, 20.97932243347168, -0.19395585358142853, 20.979324340820312, 7.759186267852783, 8.170520782470703, 7.506983280181885, 7.496782302856445, 6.248829364776611, 7.496338844299316, 9.666729927062988, 9.619051933288574, 1.0200837850570679, 9.58031177520752, 11.40070915222168, 5.585886001586914, 0.4658433496952057, 4.446862697601318, 6.17720890045166, 11.476994514465332, 11.75180721282959, 5.211008071899414, -2.9721899032592773, 5.058801651000977, 5.162574768066406, 5.065366744995117, 3.8962929248809814, 8.87178897857666, 8.697443962097168, 8.75073528289795, 8.75614070892334, 1.8707079887390137, 1.870587944984436, -0.6295877695083618, 1.8709584474563599, 3.2171630859375, 3.6553075313568115, 4.068667888641357, 3.662769079208374, 7.417261600494385, 7.46259880065918, 6.106273651123047, 10.825244903564453, 10.844636917114258, -2.091776132583618, -2.2750658988952637, 2.144500732421875, -0.4990505278110504, -0.5078016519546509, -0.5076802968978882, 3.3717265129089355, -0.5037447214126587, -1.3939435482025146, -1.6281741857528687, 7.516476154327393, 7.4951701164245605, 8.176082611083984, 7.5116071701049805, -3.0849008560180664, -2.3852579593658447, -3.1007297039031982, -2.0988380908966064, 5.065922737121582, 5.050744533538818, 5.652897357940674, -1.2182037830352783, 8.693492889404297, 2.2196621894836426, 2.202888250350952, 3.7482213973999023, 2.2214572429656982, -2.253300189971924, 9.882475852966309, -0.2502664029598236, -0.2570088803768158, -3.1581451892852783, 3.919616937637329, -0.2750486731529236, 3.721444845199585, -0.27182817459106445, -0.8485503196716309, -3.1248972415924072, -3.18847918510437, 0.001384616713039577, 6.730406284332275, 6.899044990539551, -0.5684871673583984, -0.5640959143638611, 6.359935760498047, -0.5798904299736023, 7.648317813873291, 7.700601100921631, 5.883495330810547, 7.724476337432861, 4.912526607513428, 11.375751495361328, -4.3812456130981445, -4.383703231811523, -0.22150161862373352, -4.365978240966797, 8.704413414001465, 4.737332344055176, 4.748941421508789, 1.533586859703064, 4.740896701812744, 12.056180000305176, 3.026148796081543, 19.99972152709961, 3.2227330207824707, 0.8084024786949158, 0.813952624797821, 0.2873525619506836, 6.739284992218018, 4.3581953048706055, 5.252923488616943, 0.9618117809295654, 4.35999059677124, 0.5543457269668579, 4.41586446762085, 4.9299798011779785, 0.602902352809906, 5.270381927490234, 1.0201853513717651, 1.0250275135040283, 0.62459397315979, 1.0188111066818237, 0.832952082157135, -1.6005066633224487, 11.129981994628906, 2.117387056350708, -2.259737014770508, 7.483467102050781, 7.704225063323975, 9.301944732666016, 7.527764797210693, 1.1690479516983032, 6.9044647216796875, 6.918878078460693, 3.540679693222046, 0.6858416795730591, 3.53074049949646, 3.534173011779785, 1.520889163017273, 1.644005537033081, 6.86571741104126, 6.908838748931885, 8.608177185058594, 6.866964340209961, 11.93258285522461, 7.66948127746582, 4.34274435043335, 4.34183931350708, 1.8710949420928955, 4.343679428100586, 1.5557730197906494, 1.5811655521392822, 0.8898763656616211, 1.5406156778335571, 1.122483253479004, 0.40369147062301636, 6.622788429260254, 6.624854564666748, 1.0420724153518677, 6.609578609466553, 5.742853164672852, 8.905326843261719, -1.398657202720642, 4.550988674163818, 4.56014347076416, 11.500128746032715, 4.500112056732178, 11.843634605407715, 6.13599157333374, 3.1009645462036133, 7.9893412590026855, 6.045820713043213, 7.970571994781494, 6.350379467010498, -0.9876176118850708, -0.2849697470664978, -0.2737525701522827, -1.1956470012664795, -2.9815731048583984, 4.631656646728516, 4.612396240234375, 1.1695441007614136, 4.630537033081055, 7.3912506103515625, 7.515216827392578, 4.640201091766357, 5.980728626251221, 7.987651824951172, 7.988389492034912, 3.1914756298065186, 7.986464977264404, 6.059488296508789, 6.062364101409912, -1.7248618602752686, 6.063558578491211, 5.450956344604492, 5.428414344787598, 5.949528217315674, 5.428701400756836, 1.1541742086410522, 1.2046079635620117, 1.2779017686843872, 1.1938940286636353, 15.158843994140625, -8.089274406433105, 0.1581331491470337, -8.072531700134277, -0.06888975948095322, 7.1699628829956055, 5.830070972442627, 5.863933563232422, 4.785168170928955, 5.820752143859863, 8.237064361572266, 7.885875225067139, 1.6188337802886963, 3.7526602745056152, 3.7482409477233887, 2.6620304584503174, 3.752582550048828, 2.2851414680480957, 3.184908151626587, 3.274310350418091, 2.2851274013519287, 6.943914413452148, 7.023994445800781, 8.924905776977539, 7.494862079620361, 3.7283546924591064, 3.724637746810913, -0.5968061089515686, 3.724726915359497, -2.9878647327423096, 4.6216206550598145, 4.141156196594238, 4.632082462310791, 6.366321086883545, 4.907888889312744, 4.927052021026611, 10.146577835083008, 10.157251358032227, 7.95394229888916, 10.155852317810059, 8.014997482299805, 6.6385111808776855, 8.211170196533203, 6.4222941398620605, 5.935204982757568, -0.6142812967300415, 4.556613445281982, 6.26517915725708, -0.6816333532333374, -1.1789766550064087, -1.1966067552566528, -0.7415040135383606, 0.7789719104766846, 7.387750625610352, 7.588687419891357, 1.3980050086975098, 7.58795166015625, 4.793954849243164, 4.010136127471924, 5.078817367553711, 5.108288764953613, 19.99978256225586, 5.098228454589844, 6.373647689819336, 6.363447189331055, 1.2629536390304565, 8.83889102935791, 8.699410438537598, 8.699969291687012, 7.324659824371338, 8.697402000427246, 9.738049507141113, 9.74057388305664, -1.179519772529602, -1.1985827684402466, 7.545261383056641, 2.5287210941314697, 2.455099105834961, 2.4516053199768066, 11.380081176757812, 1.4014347791671753, 1.4228198528289795, 1.4246028661727905, 1.427771806716919, 6.4409260749816895, 6.318477153778076, 4.433433532714844, 6.360597610473633, 8.982285499572754, 8.476877212524414, 8.981107711791992, 7.3566083908081055, 11.063577651977539, 11.071779251098633, 8.944427490234375, 6.064269065856934, 5.102567672729492, 6.049633026123047, 5.909138202667236, 5.919763088226318, 6.277558326721191, 1.6583913564682007, 1.6688367128372192, 8.385403633117676, 8.350492477416992, 4.064882755279541, 7.715153694152832, 7.952418804168701, 9.981915473937988, 2.9422607421875, 1.778759479522705, 1.7884259223937988, 1.0301753282546997, -1.76323401927948, 4.568164348602295, 4.580482006072998, 4.1354756355285645, 4.559879302978516, 7.675697326660156, 7.683722972869873, 8.053680419921875, 7.697062969207764, 2.12113618850708, 2.130255937576294, 1.6313236951828003, 4.79537296295166, 2.113025426864624, -2.9617748260498047, 4.629288196563721, -2.9513297080993652, 4.992260456085205, 19.999773025512695, 19.999797821044922, 6.737969398498535, 7.938648223876953, 3.7349507808685303, 4.311299800872803, 10.025997161865234, 3.0888359546661377, 6.520794868469238, 5.165246486663818, 5.160419940948486, 9.802229881286621, 5.1721510887146, 0.513044536113739, 5.830881595611572, 8.065651893615723, 2.05037784576416, 0.5190821886062622, 12.048863410949707, 3.0246429443359375, 4.96763801574707, 7.666478157043457, 3.10296893119812, 3.135012626647949, -1.227602243423462, 4.238826751708984, 3.9992153644561768, 4.000735282897949, 3.625002861022949, 4.010822772979736, 1.2951327562332153, 1.2851293087005615, 1.6368504762649536, 9.318171501159668, 5.402474403381348, 5.468136310577393, 5.360477447509766, -0.5645239949226379, 7.51054048538208, 6.730986595153809, 0.831953763961792, 5.067893981933594, 5.039498805999756, 19.99974250793457, 5.063098907470703, 15.15882682800293, -8.082775115966797, 0.1698610484600067, -8.089269638061523, -3.334160327911377, -3.351029396057129, 1.6965974569320679, -3.3476662635803223, 5.2140607833862305, 5.214996337890625, 4.212296009063721, 2.1930971145629883, 4.272112846374512, 9.916747093200684, 20.012462615966797, -2.6351959705352783, -2.633496046066284, -3.4154415130615234, -5.520695686340332, 4.171439170837402, 9.372037887573242, 4.297065258026123, 4.282688140869141, 9.761648178100586, 4.278223514556885, -3.374777317047119, -2.5721259117126465, 4.915248870849609, 7.905356407165527, 6.0377373695373535, 5.0128092765808105, 3.2209067344665527, 3.263653516769409, 7.538580894470215, 7.551700592041016, 0.9471829533576965, 7.548222541809082, 2.1967296600341797, 2.2755777835845947, -0.8329623341560364, 2.258946418762207, 4.474365711212158, 4.47393798828125, 4.696013927459717, 4.464346408843994, 9.065391540527344, 9.006940841674805, 9.037396430969238, 8.997113227844238, 4.286702632904053, 4.304154872894287, 4.289648532867432, 3.9880707263946533, 8.588692665100098, 8.581686973571777, 11.235095024108887, 8.598847389221191, 3.541318655014038, 5.1556196212768555, 9.020753860473633, 8.988395690917969, 6.994121551513672, 7.016793251037598, 4.769515037536621, 7.013859272003174, 15.15864372253418, -8.175535202026367, 0.08870644867420197, -8.171875, 4.680596828460693, 4.739951133728027, 3.9230010509490967, 9.347262382507324, 5.978963375091553, 5.990145683288574, 1.940803050994873, 5.996336936950684, 5.858231544494629, 20.011934280395508, 0.8261977434158325, 1.1729049682617188, 0.8280121088027954, 5.101403713226318, 8.702807426452637, 8.849471092224121, 9.038251876831055, 8.849557876586914, 4.41496467590332, 4.294905662536621, 9.328408241271973, 4.296192646026611, 11.717323303222656, 4.696524620056152, 4.749743938446045, 4.739964008331299, 4.636955261230469, 3.269486665725708, 4.704961776733398, 7.6683549880981445, 5.064186096191406, 2.678760051727295, 1.8991395235061646, 2.4875729084014893, 6.680324554443359, 6.679327964782715, 5.237016677856445, 11.810233116149902, 4.912350177764893, 5.231302738189697, -3.9336442947387695, -1.2703526020050049, -1.644998550415039, 11.189094543457031, -1.6513737440109253, 8.24143123626709, 3.0208775997161865, 4.721353054046631, 3.05588698387146, 2.5915756225585938, 3.428072929382324, 2.5407042503356934, 6.076575756072998, 7.373008728027344, 8.627124786376953, 4.282039642333984, 8.658905029296875, -1.0696786642074585, 0.834770143032074, -1.0710363388061523, 7.32517147064209, 6.7403244972229, 5.040109157562256, 6.737253665924072, 7.588108539581299, 2.2674238681793213, 4.7703728675842285, 3.8150415420532227, 4.79065465927124, 6.847121715545654, 10.999476432800293, 4.802089691162109, 4.8180155754089355, -2.3687283992767334, 4.801689624786377, -0.7549433708190918, 0.0504099503159523, -0.7529167532920837, 8.705830574035645, 3.162285089492798, 3.164614200592041, 9.033659934997559, 3.1579408645629883, 3.911792755126953, 4.578823089599609, 3.8973302841186523, 6.26508092880249, 3.2491438388824463, 7.432981967926025, 3.2497622966766357, 5.666225433349609, 0.5612459778785706, 0.6536152958869934, -10.256410598754883, 7.51318883895874, 6.589469909667969, 6.58975076675415, 5.980175971984863, 6.525284767150879, 5.459262847900391, 5.468465328216553, 9.41868782043457, 5.4756293296813965, 9.419445991516113, -0.6399382948875427, 8.830166816711426, -7.164788246154785, -7.16477108001709, 8.723194122314453, -7.16615629196167, 2.737044334411621, 8.703301429748535, 8.704550743103027, 3.1961028575897217, 8.702342987060547, -2.255065679550171, 7.319168567657471, 7.525504112243652, 2.0185546875, 1.9979711771011353, 0.4722599983215332, 0.150973379611969, 0.1484127938747406, -1.8070430755615234, 0.14821453392505646, 15.15882396697998, -8.086837768554688, 0.19036735594272614, -8.081348419189453, 4.590307712554932, -1.3878251314163208, -1.4040427207946777, 5.136775016784668, -1.3969693183898926, 2.9004127979278564, -3.9724788665771484, -4.0092244148254395, 2.8475632667541504, 5.0419182777404785, 7.4050469398498535, -1.0760034322738647, -1.253706455230713, 1.1977689266204834, 11.846491813659668, 2.7593953609466553, 3.654033899307251, 3.915487766265869, 2.9307971000671387, 3.313699722290039, 3.370291233062744, 0.9030935764312744, 3.4623522758483887, 7.343527317047119, 3.064970016479492, 7.326058864593506, 8.185001373291016, 5.550295352935791, 5.416863918304443, 0.005596220027655363, 5.549378395080566, -3.260702610015869, -3.247483491897583, 1.9836704730987549, -3.264143705368042, 1.6257842779159546, 5.151823997497559, 4.6251068115234375, -1.436042308807373, -3.233259916305542, -3.2176246643066406, -5.522087097167969, -2.0789146423339844, -2.078896999359131, 10.168108940124512, -2.078897476196289, 4.584113121032715, 3.8702163696289062, 2.369654893875122, 4.606163501739502, 2.1716487407684326, 2.152174234390259, 2.0235373973846436, 1.9463590383529663, -0.6217212080955505, -2.7033255100250244, 0.2615143656730652, -1.2489689588546753, -1.6896798610687256, 1.9441556930541992, -1.6734461784362793, 7.931302070617676, 7.931310176849365, 2.9476335048675537, 7.931298732757568, 0.6301673650741577, 2.895371913909912, 7.146218776702881, 7.132122039794922, 3.19990873336792, 7.1472368240356445, 4.771359443664551, 4.380346775054932, 4.7612528800964355, 5.177554607391357, 7.306908130645752, 7.357961177825928, 4.205740928649902, 7.34070348739624, 11.329283714294434, 5.918537139892578, 5.911077976226807, 3.3574280738830566, 5.920571327209473, 3.0622453689575195, 3.062411308288574, 5.400900363922119, 3.013420581817627, 5.00152587890625, 1.5294654369354248, 1.4720203876495361, 1.5870559215545654, 4.522710800170898, 1.5811777114868164, 1.4879087209701538, 2.901468276977539, 1.5200129747390747, 1.9903079271316528, 2.8552825450897217, 5.518340110778809, 2.490417957305908, 7.39633846282959, 11.320789337158203, 7.397095203399658, 11.621023178100586, 3.2117674350738525, -2.517764091491699, -2.424868106842041, 5.55713415145874, -2.536266803741455, 5.807260990142822, 5.819308757781982, 4.550973892211914, 6.908124923706055, 1.6096410751342773, 1.5946135520935059, 1.662507176399231, -3.9280858039855957, -3.933332920074463, -3.0234742164611816, -3.008012056350708, 2.8035058975219727, -3.0075156688690186, 3.802877426147461, 4.3325605392456055, 2.219698667526245, 6.21381139755249, 0.2441176325082779, 8.938750267028809, 8.941874504089355, 8.095954895019531, 5.536426544189453, 3.205038070678711, 5.524752616882324, 8.023137092590332, 0.5613618493080139, -1.4401804208755493, -2.130711793899536, 3.6171035766601562, 0.4470903277397156, 1.6378034353256226, 3.3751955032348633, 8.020309448242188, 3.6985390186309814, 3.7198100090026855, 4.04732084274292, 3.682745933532715, -5.472997188568115, -2.0638601779937744, -2.0633974075317383, 9.042425155639648, -2.0608153343200684, -8.31967544555664, -8.314543724060059, 0.0025179374497383833, -8.315860748291016, -2.029507637023926, -2.0323147773742676, 0.9323071837425232, -2.0281407833099365, 5.753804683685303, 5.641441345214844, 1.6713792085647583, 5.663340091705322, 1.1503840684890747, 1.6056255102157593, 7.84904146194458, 6.36332368850708, 8.597546577453613, 8.597824096679688, 8.07995319366455, 8.601570129394531, 9.238202095031738, 1.9731675386428833, 9.259313583374023, 9.809794425964355, 4.6267476081848145, 2.2642948627471924, 4.781785488128662, 2.261385202407837, -0.7494761943817139, 6.429178237915039, 6.445158004760742, 6.06336784362793, -5.480471134185791, 0.2406570464372635, 0.24065381288528442, 3.310307264328003, 5.50503396987915, 12.04660415649414, 4.307842254638672, 8.779491424560547, 4.290383338928223, 8.184008598327637, 8.179920196533203, 0.9787734746932983, 8.180672645568848, 9.245823860168457, -3.1047189235687256, 0.9543542265892029, 1.2581287622451782, 0.9671326875686646, 5.868016242980957, 2.0143258571624756, 5.603307247161865, 15.1588716506958, -8.174184799194336, 0.20892415940761566, -8.174269676208496, 11.115337371826172, 11.119019508361816, 9.066993713378906, 5.779507160186768, 5.764091491699219, 1.8117272853851318, 5.809854984283447, -5.4706501960754395, -0.6479283571243286, -0.022861013188958168, -0.6330392360687256, 7.931288719177246, 4.8861894607543945, 4.906580924987793, 9.949591636657715, 4.895847320556641, 1.0866026878356934, 8.60009765625, 1.205889344215393, 0.0636589527130127, 1.638361930847168, 5.063516616821289, 5.000354290008545, 2.304727077484131, 5.007354259490967, 4.992344379425049, 1.2810070514678955, 2.0158605575561523, 1.7923964262008667, 6.5685834884643555, 1.7932084798812866, 7.885266304016113, 9.780662536621094, 7.766846179962158, 11.503534317016602, 9.83055305480957, 11.220516204833984, 11.214216232299805, 0.20857739448547363, 11.226689338684082, -2.628103494644165, -2.6277430057525635, -2.631040096282959, -2.6191859245300293, 6.277400016784668, -2.630126476287842, 1.9027128219604492, 10.179388999938965, 8.978228569030762, 8.981884956359863, 9.655439376831055, 9.062925338745117, 8.176546096801758, 5.584473133087158, 6.16348934173584, 4.702444076538086, 4.662364959716797, 8.859502792358398, 5.88623571395874, 5.216647148132324, 5.214638710021973, 5.99799108505249, 5.2183146476745605, 10.999910354614258, 10.999870300292969, 11.48965072631836, 10.999860763549805, 8.479997634887695, 8.905925750732422, 9.92977237701416, 8.47802448272705, 1.3970271348953247, 1.4108916521072388, 0.6241581439971924, 1.396394968032837, 5.151162624359131, 5.240787029266357, -4.271956920623779, -4.345631122589111, -3.829763412475586, -1.7466814517974854, 5.363795280456543, 8.456520080566406, 8.445068359375, -1.0308476686477661, 8.487771034240723, 7.389856338500977, 7.402965068817139, 3.0293469429016113, 7.37697696685791, 20.012516021728516, 4.787503719329834, 4.788904666900635, 0.6396516561508179, 4.786633491516113, 4.194498538970947, 3.8599629402160645, 15.158679962158203, -8.17431640625, 0.1357307881116867, -8.081306457519531, 9.068740844726562, 9.060063362121582, 0.5586766004562378, 9.061979293823242, 12.034991264343262, 4.190561294555664, 4.33941650390625, 8.488884925842285, 4.17258358001709, 5.720774173736572, 4.173957347869873, 4.416957855224609, -3.416454792022705, 5.260646343231201, 6.926202297210693, 8.20857048034668, 1.8729908466339111, -0.5048512816429138, 0.9303494691848755, -0.2799822688102722, 0.7486448884010315, -0.3199254870414734, 9.77182388305664, 9.773101806640625, -1.3600314855575562, 9.770983695983887, 0.9826306700706482, 0.9862303137779236, 1.871307134628296, 1.87363600730896, -1.734702229499817, 1.8715465068817139, 9.207121849060059, 9.230975151062012, 0.5735876560211182, 8.155912399291992, -1.1352218389511108, 0.5469859838485718, -1.268675446510315, 1.072377324104309, 6.91752815246582, 8.678897857666016, 8.771764755249023, 8.691970825195312, 5.919802188873291, 5.961126804351807, 3.1748578548431396, -1.3438735008239746, -1.359372615814209, 8.014214515686035, -1.3339037895202637, 5.329288482666016, 1.1817644834518433, 5.3416242599487305, 1.19981050491333, 7.427574157714844, 7.429494857788086, -0.6433920860290527, 7.428891181945801, 9.009245872497559, 2.476290464401245, 2.4518373012542725, 6.9132080078125, 2.49457049369812, 1.7630770206451416, 6.907547473907471, -1.2030125856399536, -1.2257801294326782, 5.485630512237549, 4.530916690826416, 4.526444435119629, 4.732270240783691, 5.244472026824951, 9.105451583862305, 4.537174224853516, 9.123128890991211, 4.052826404571533, 1.2617183923721313, 1.6086136102676392, -4.3840718269348145, -4.366136074066162, 0.4748493731021881, -4.3598432540893555, 5.207848072052002, 5.172596454620361, 9.3980073928833, 5.223142147064209, -0.47520989179611206, 2.307905435562134, 8.809342384338379, 11.930882453918457, 4.55377721786499, 8.189417839050293, 8.202065467834473, 9.088364601135254, 8.202993392944336, 9.046772003173828, 0.5671191215515137, 0.9451982378959656, 1.4592180252075195, 3.1524124145507812, 0.9485437273979187, -2.473353385925293, -2.4730217456817627, -0.3903995454311371, -2.4758949279785156, 4.753968238830566, 4.240132808685303, 4.741947174072266, 5.192218780517578, 4.851208209991455, 5.212725639343262, 3.787217855453491, 11.136306762695312, 6.049496173858643, 11.149009704589844, 11.69756031036377, 9.75325870513916, 4.612030029296875, 9.758517265319824, 9.427323341369629, 19.999723434448242, 19.999744415283203, 8.618683815002441, 19.99970817565918, -2.4706084728240967, 4.311710834503174, -2.4706058502197266, 5.855836391448975, 9.615093231201172, 7.691099643707275, 9.61131477355957, 8.488603591918945, 9.886068344116211, 9.87549877166748, 1.1541844606399536, 9.8783597946167, 7.968043804168701, -1.3087157011032104, -1.3058292865753174, -1.4182277917861938, 2.162147283554077, 2.159745693206787, 3.616602659225464, 3.788691759109497, 7.405362606048584, 9.905410766601562, 3.052539348602295, 8.552888870239258, -2.2836599349975586, 6.0094075202941895, 5.9803056716918945, 5.984437942504883, 7.507937908172607, 1.049714207649231, 1.062162160873413, 1.5697706937789917, 1.0447783470153809, 1.574906349182129, 6.430515289306641, 1.1890759468078613, 6.4303717613220215, 5.9820075035095215, 3.6495485305786133, 3.6032233238220215, 4.789289951324463, 3.6128861904144287, 8.060613632202148, 8.14021110534668, 7.573085784912109, 6.006271839141846, 7.5736188888549805, 4.969395160675049, 10.185218811035156, -1.5663052797317505, -1.453538179397583, 1.5828666687011719, 1.5939868688583374, 0.7481446266174316, -0.22697003185749054, -0.22186893224716187, 4.87977409362793, -0.23416921496391296, 5.234769821166992, 5.237554550170898, 1.096001386642456, 5.257665157318115, 6.8450703620910645, 6.852133274078369, 8.587310791015625, 6.879044532775879, 5.735450267791748, 3.9810996055603027, 5.744965076446533, 6.644255638122559, -3.2361676692962646, -2.3083293437957764, 4.823882579803467, 5.8340606689453125, 0.9992284178733826, 5.8197455406188965, 8.792717933654785, 8.753250122070312, 4.632959842681885, 8.740199089050293, 4.997196197509766, 8.051867485046387, 5.912259578704834, 8.048423767089844, 7.583037376403809, 0.8528130054473877, 0.8543461561203003, 9.060721397399902, 0.8725168108940125, 7.336961269378662, -0.012549466453492641, 1.8921669721603394, 9.619550704956055, 9.65022087097168, 6.121514797210693, 9.607925415039062, 6.099395751953125, 2.3708741664886475, 5.99589204788208, -0.21281328797340393, -0.21126574277877808, -2.4365506172180176, 0.8141406774520874, 4.558684349060059, 4.531746864318848, 1.0300401449203491, 4.518940448760986, 4.278928279876709, 4.2660346031188965, 11.943001747131348, 4.2771759033203125, 20.012531280517578, 20.012542724609375, 20.012535095214844, -2.3160781860351562, -0.32652589678764343, -0.32606446743011475, 0.04628695547580719, -0.32621830701828003, 3.5031330585479736, 7.562225341796875, 7.5805983543396, 3.0091795921325684, 7.582812786102295, 5.348451137542725, 2.755444049835205, 5.876316547393799, 5.306550979614258, 8.524504661560059, 0.21278393268585205, 7.743522644042969, 8.302160263061523, 0.24065622687339783, 9.929451942443848, 4.73114538192749, 6.050361633300781, 5.263482093811035, 5.2516937255859375, 0.9369247555732727, 5.2534565925598145, 3.020172595977783, 5.734241962432861, 3.0208940505981445, 4.836612224578857, 3.9484364986419678, 7.771173000335693, 3.7863261699676514, 3.7864012718200684, 0.37460875511169434, 3.7865774631500244, 4.656511306762695, 7.35028076171875, 6.472806453704834, 5.241065979003906, 1.6244227886199951, 2.2148780822753906, 1.8964494466781616, 2.019491672515869, 2.1944215297698975, 2.479903221130371, 1.419104814529419, -10.256423950195312, 1.3971173763275146, 1.5315114259719849, 1.3350732326507568, 2.913775682449341, 5.724564075469971, 3.8812882900238037, 3.1279900074005127, -2.9635374546051025, 4.0719757080078125, 0.7185081243515015, -0.8351449966430664, 3.800941228866577, 3.800945281982422, 3.8009445667266846, 7.99080228805542, 3.8009462356567383, 3.3997275829315186, 3.3997230529785156, 9.937023162841797, 3.399728298187256, 6.60330867767334, 5.243875026702881, 5.2546281814575195, 4.200108051300049, 5.246782302856445, 4.94991397857666, -1.293681263923645, -1.2676273584365845, 1.5003937482833862, -1.2805564403533936, 20.0124454498291, 1.6441524028778076, 2.5418570041656494, 1.6469051837921143, 4.736141204833984, -8.069170951843262, -7.796245574951172, 0.9211287498474121, -7.776979923248291, 11.87335205078125, 11.87822151184082, 0.9092497229576111, 11.866609573364258, 5.2402424812316895, 8.469494819641113, 20.979326248168945, 1.1657205820083618, 20.979307174682617, 6.308006286621094, 4.331549644470215, 2.6868600845336914, 2.7075040340423584, 9.315420150756836, 2.68208646774292, 6.294711589813232, 1.988250970840454, 6.2321457862854, 5.393661022186279, 2.722160816192627, 2.995673418045044, 10.02550220489502, 2.7237863540649414, 6.568114757537842, 6.410851955413818, 9.080506324768066, 6.41179084777832, 4.82670259475708, 3.2688686847686768, 4.811951637268066, 4.876871109008789, 6.899428844451904, 9.375542640686035, 0.9953749179840088, 6.891416072845459, 4.723628520965576, 3.100295066833496, 5.128606796264648, 14.582354545593262, 5.110660552978516, 5.0784406661987305, 6.096627235412598, 5.169660568237305, 2.1877691745758057, 2.253863573074341, 4.538360118865967, -3.2304189205169678, -3.231280565261841, 2.4709649085998535, -3.2316782474517822, 5.63950252532959, 2.351926326751709, 5.660062789916992, 2.459014654159546, -2.25003719329834, 14.582188606262207, 14.581263542175293, 1.0285842418670654, 14.582002639770508, 11.055904388427734, 5.273082256317139, 6.339285850524902, -3.3698253631591797, 4.942378044128418, 4.8442254066467285, 6.026676177978516, 4.830353736877441, 6.550108432769775, 6.677310943603516, 4.81488037109375, 4.780378818511963, 9.859602928161621, 4.795357704162598, 4.221320152282715, 4.237858772277832, -1.0408735275268555, 4.245108127593994, -0.8679040670394897, -0.8719135522842407, 1.7459050416946411, -0.8715788722038269, 3.975444793701172, 4.316520690917969, 7.487067222595215, 12.11421012878418, 15.158679008483887, -8.089550971984863, 0.19212797284126282, -8.090750694274902, 2.6048972606658936, 3.770798683166504, 5.111221790313721, 3.7573134899139404, 5.017714500427246, 4.62869930267334, 5.022583961486816, 4.32881498336792, 1.6896218061447144, 1.4287805557250977, 4.531991958618164, 4.539926052093506, -0.6269378066062927, 4.48770809173584, 5.08648681640625, 5.053432941436768, 7.427746295928955, 5.101379871368408, 5.4116644859313965, 5.39472770690918, 9.90965461730957, 5.415717124938965, 7.316353797912598, 7.326938629150391, 4.74928092956543, 7.336095809936523, 6.98173189163208, 6.563268184661865, 6.989884853363037, 5.834141254425049, 6.186313152313232, 4.283476829528809, 5.863196849822998, 6.3583526611328125, 8.109313011169434, 4.361480712890625, 4.4123125076293945, 4.486435413360596, 6.030239105224609, 6.506664752960205, 7.534621238708496, -2.260700225830078, 5.144998073577881, 5.162384510040283, 9.919898986816406, 5.1765947341918945, -1.5758779048919678, -1.5780800580978394, -0.6686619520187378, -1.5762206315994263, 3.945612907409668, 3.894749879837036, 2.5081303119659424, 3.869318962097168, 7.628101825714111, 7.6129608154296875, 9.730884552001953, 4.930960178375244, 5.673050403594971, 4.93784761428833, 5.77145528793335, 8.822396278381348, 4.392991542816162, 8.81762409210205, 5.791362762451172, 3.6485509872436523, -0.8898905515670776, 3.3732354640960693, 3.3812379837036133, -3.0734658241271973, 9.177041053771973, 3.586115837097168, 3.515333890914917, 5.593217849731445, 3.5041167736053467, 4.3778977394104, 4.546040058135986, 8.662870407104492, 5.025001525878906, 3.650453805923462, 7.389622211456299, 3.6572229862213135, 5.87363862991333, 11.954835891723633, 11.923169136047363, 8.750075340270996, 11.942034721374512, 5.107798099517822, 5.106362342834473, -1.1550567150115967, 15.159518241882324, -8.11143684387207, 0.18441951274871826, -8.149469375610352, 2.4762825965881348, 2.3225951194763184, 2.4756062030792236, 2.419485569000244, 5.678950786590576, 5.697439670562744, 11.755026817321777, 5.680798530578613, 7.096743106842041, 7.04543399810791, 1.2199088335037231, -0.8384477496147156, 0.830222487449646, 8.803159713745117, 8.856369972229004, -1.6232746839523315, 8.865046501159668, 10.483973503112793, 10.494059562683105, 1.9972864389419556, 10.52463436126709, 6.077571392059326, 6.01959753036499, 9.93392276763916, 6.071816921234131, -4.262945652008057, 0.002912308322265744, -0.444062203168869, 1.5842609405517578, -0.1803838461637497, 2.5438337326049805, 5.51257848739624, 2.5475807189941406, 3.9213783740997314, 1.4951826333999634, 1.4951741695404053, 9.460580825805664, 1.4951952695846558, 0.9968338012695312, 3.405487298965454, 5.933635711669922, 5.900176525115967, -1.2754884958267212, 5.910123348236084, 2.7950096130371094, 4.194402694702148, 3.48026967048645, 8.957439422607422, 3.595627784729004, 6.708792209625244, 6.217302322387695, 4.451775074005127, 7.304922580718994, 6.409331321716309, 5.477657794952393, 7.010577201843262, 3.1991302967071533, 6.987534046173096, 4.4094390869140625, 5.568965911865234, 5.543091773986816, 9.273896217346191, 5.55874490737915, 1.0061928033828735, 0.985666811466217, 2.1612515449523926, 0.9977403879165649, 1.080906867980957, -1.3116875886917114, 1.1852240562438965, 1.1887333393096924, 1.2005895376205444, -2.2534475326538086, 9.66952896118164, 9.657479286193848, 9.88133716583252, 9.897663116455078, 12.076130867004395, 12.155402183532715, 4.250794887542725, 12.1431884765625, 3.053920030593872, 3.0522913932800293, 9.200474739074707, 3.0407376289367676, 5.404036521911621, 0.7714492678642273, 5.632246017456055, 5.621395587921143, 5.654671669006348, 5.668519496917725, 6.194247722625732, 4.548439979553223, 5.956080913543701, 3.0720694065093994, 3.08841609954834, 6.5162458419799805, 2.5149099826812744, 0.001399243832565844, -2.3308727741241455, -1.729203701019287, 2.599099636077881, 2.622457981109619, 1.6960479021072388, 5.245323181152344, 9.955650329589844, 5.250520706176758, 5.891730785369873, 9.759052276611328, 9.762797355651855, -0.007075268309563398, 9.779596328735352, 6.5846476554870605, 6.579705238342285, 6.196051597595215, 6.576565265655518, 2.7843949794769287, 2.7884888648986816, 8.023066520690918, 2.792508125305176, 3.851254940032959, 3.8368470668792725, 9.941792488098145, 3.8521969318389893, 5.66677713394165, 5.446934700012207, 9.405244827270508, 5.459047317504883, 8.362256050109863, 8.818631172180176, 8.366634368896484, 8.906625747680664, -2.2679731845855713, -2.262662887573242, 9.002310752868652, -2.2567644119262695, -1.2009330987930298, 7.7086873054504395, 2.9122931957244873, 2.0270497798919678, 3.643109083175659, 4.918004035949707, 5.023225784301758, 5.780578136444092, 2.331617593765259, 2.4739267826080322, 5.84402322769165, 3.1327054500579834, 4.8061909675598145, 5.998414993286133, 6.100594997406006, 2.993435859680176, 5.924574851989746, 9.504495620727539, -7.164658069610596, -7.1646528244018555, 1.4229190349578857, 5.57291841506958, 5.053758144378662, 5.571100234985352, 3.399726629257202, 5.869563102722168, 9.68150806427002, 5.854254722595215, 8.568693161010742, 1.2330278158187866, 1.7694756984710693, 1.2752454280853271, -1.112289547920227, -1.2460870742797852, 2.1041319370269775, -1.1279735565185547, 12.175562858581543, 5.067111968994141, 2.808056116104126, 3.395138740539551, 2.7653486728668213, 1.8699225187301636, 1.8609352111816406, 4.503510475158691, 4.2658514976501465, 4.2653489112854, 4.425646781921387, 4.276210308074951, -1.3513046503067017, -1.4255924224853516, 3.999591112136841, 5.820689678192139, 2.044797420501709, 2.0545661449432373, 7.931296348571777, 2.053955078125, -5.520894527435303, 6.954571723937988, 4.443467617034912, 6.89044189453125, 5.857519149780273, 5.88391637802124, -0.0013472364516928792, 5.875046730041504, 5.855145454406738, 1.6079906225204468, 2.685722827911377, 2.9584224224090576, 1.6038392782211304, 1.9152170419692993, 0.9021685719490051, 0.8946604132652283, 0.8354225158691406, 0.9090006351470947, 7.557778358459473, 7.516788482666016, 1.2567956447601318, 6.372111797332764, 6.371438026428223, 8.300372123718262, 8.31067180633545, 2.736699104309082, 8.299731254577637, -2.0841963291168213, 0.15713651478290558, 0.09911169856786728, 0.32294297218322754, 0.10334348678588867, 4.095738410949707, 4.088743209838867, -1.7222278118133545, 4.091929912567139, -1.7630281448364258, -1.7549314498901367, 0.75112384557724, -1.7549831867218018, 6.059001445770264, 5.562445163726807, 1.9170000553131104, 1.916998267173767, -1.0466724634170532, 4.602338790893555, 4.856594562530518, 8.564492225646973, 1.7274352312088013, 5.40928316116333, 7.972897529602051, 8.800280570983887, 8.802328109741211, 4.382472991943359, 8.803285598754883, 6.34049129486084, 6.303763389587402, 1.8367923498153687, -1.156049132347107, 3.7868492603302, 3.786656141281128, 0.3587411046028137, 3.786625623703003, 1.6147656440734863, 1.6308387517929077, 7.693145751953125, 1.6069973707199097, -0.018904324620962143, -0.014490066096186638, 3.7844982147216797, -0.010977443307638168, 9.772541999816895, 5.88591194152832, 9.770258903503418, 9.600749015808105, 10.411848068237305, 8.690991401672363, 8.687522888183594, 3.1069958209991455, 8.68564510345459, 6.286868095397949, 6.281035900115967, 9.600543022155762, 6.294922351837158, 1.6129921674728394, 1.6128877401351929, 3.097289800643921, 1.6166118383407593, 8.931758880615234, 5.619565963745117, 5.637984752655029, 0.9960184693336487, 5.636921405792236, 11.643402099609375, 5.068385124206543, 5.016551494598389, 5.150698184967041, 5.018162727355957, 11.670967102050781, 7.674010276794434, 5.081544399261475, 5.076613903045654, 8.180074691772461, 5.104874610900879, 7.418271541595459, 7.4261860847473145, 4.717107772827148, 3.195662498474121, 4.4909987449646, 4.037652969360352, 4.488038063049316, 8.743413925170898, 4.833065509796143, 4.8443732261657715, 4.834713935852051, 4.825530052185059, 2.7514820098876953, 6.443577289581299, 2.7515509128570557, 5.850974082946777, 6.035154819488525, 4.307509899139404, 1.7856478691101074, 9.900242805480957, 8.81083869934082, 4.48361349105835, 8.814534187316895, 8.059932708740234, -3.3226425647735596, 2.385950803756714, 0.9399406909942627, 4.699942588806152, 4.077371597290039, 9.08381175994873, 4.465387344360352, 4.465851306915283, 0.5653930902481079, 4.465641021728516, 4.743777751922607, 1.965872883796692, 2.0544140338897705, -3.3959503173828125, 9.136905670166016, 4.114386081695557, 5.435644626617432, -1.1211069822311401, 6.143174171447754, -1.1399163007736206, 5.9418864250183105, 5.201229095458984, 5.2147111892700195, 5.013038158416748, 5.2149176597595215, 7.40171480178833, 7.7923736572265625, 6.320908069610596, 4.310115337371826, 3.5796854496002197, 4.308784484863281, 3.5818240642547607, 2.2504143714904785, 5.994143962860107, 5.978643417358398, 9.935291290283203, 5.992309093475342, -3.2530622482299805, -1.743084192276001, 4.60770320892334, 8.013489723205566, 8.038854598999023, 4.752063751220703, 7.028825283050537, 4.838756084442139, 4.898675441741943, -0.5879753232002258, 4.8411149978637695, 12.161813735961914, 12.157346725463867, 1.8521044254302979, 12.160468101501465, 3.677908182144165, 3.5834462642669678, 5.536096096038818, 3.6140248775482178, 7.240291118621826, 7.242918968200684, 3.7712008953094482, 4.764224052429199, -0.6623170971870422, 4.752453804016113, -2.4699981212615967, -1.2030612230300903, 0.7785001397132874, 0.77861487865448, 2.202078104019165, 5.142337322235107, 7.369816303253174, 7.487501621246338, 4.843021869659424, 7.446567058563232, 4.257018566131592, 4.306044578552246, 4.493612289428711, 1.9097307920455933, 1.9109760522842407, 2.264235019683838, 2.2709007263183594, 3.0221664905548096, 1.1971895694732666, 5.305107593536377, 5.309832572937012, -0.5956055521965027, 5.307456970214844, 2.2868356704711914, 11.681589126586914, 4.773682594299316, -3.324129343032837, -3.3407180309295654, 3.061276912689209, -3.338547468185425, 0.16837681829929352, 0.17531542479991913, 3.0765092372894287, 0.18717455863952637, 6.127621650695801, 7.787130355834961, 7.845064163208008, 2.6165733337402344, 2.687680244445801, 5.012760639190674, 5.014508247375488, 4.941337585449219, 9.6105318069458, 5.31991720199585, 4.948246002197266, -7.164658069610596, 1.6608463525772095, 9.312728881835938, 1.6456507444381714, 8.654301643371582, 7.404148578643799, 7.409165859222412, 1.7729928493499756, 7.404555320739746, 4.902071475982666, 9.624074935913086, 2.742363929748535, -1.6886926889419556, 2.7741219997406006, 2.455341100692749, 8.27927303314209, 5.057915687561035, 8.291874885559082, 2.5363807678222656, 4.99362850189209, 3.723630905151367, 1.6505422592163086, 3.722078323364258, 8.060929298400879, 1.110776662826538, 8.928351402282715, 1.234873652458191, 4.796329975128174, 1.0346413850784302, 4.803127765655518, 5.673703193664551, 4.450568675994873, 6.263934135437012, 2.387460470199585, 2.3709206581115723, 3.0234696865081787, 1.9395681619644165, 3.0033645629882812, 5.543709754943848, 2.644714593887329, 11.217110633850098, 7.331081867218018, -2.613706111907959, 5.7927021980285645, -2.609567165374756, 5.585965156555176, 5.9510579109191895, 5.9589762687683105, 9.923913955688477, 5.955432415008545, 6.19707727432251, 3.846968412399292, 6.181290626525879, 4.974857330322266, 5.4052653312683105, 6.501859188079834, 5.418922424316406, 6.3665947914123535, 6.247541427612305, 6.257439136505127, 5.895077228546143, 6.260970592498779, 8.654574394226074, 6.368103981018066, 6.660613536834717, 6.686384677886963, 8.05129337310791, 6.686699867248535, 0.2406584918498993, 0.24066376686096191, 0.2406628578901291, 9.015811920166016, 9.075125694274902, 8.217891693115234, 9.026028633117676, 8.900092124938965, 9.422598838806152, 9.443796157836914, 11.47494125366211, 9.432470321655273, 3.014518976211548, 11.522873878479004, 7.411884307861328, 3.3462071418762207, 8.560346603393555, 3.9352521896362305, 7.4607343673706055, 9.512007713317871, 9.570148468017578, 3.2775657176971436, 9.48021411895752, 10.440693855285645, 10.456908226013184, 0.07865113765001297, 10.468742370605469, 2.0129425525665283, 2.0049185752868652, 2.255192756652832, 19.999771118164062, 9.838006019592285, 9.874894142150879, 1.8004875183105469, 8.894503593444824, -5.886794567108154, 4.899066925048828, -1.0010610818862915, 9.379905700683594, -5.4098687171936035, 3.978821277618408, 2.7707679271698, 11.748896598815918, 10.87855339050293, 10.8718900680542, 11.147948265075684, 2.184458017349243, 11.14423942565918, 3.026047706604004, 11.75473403930664, 11.33759593963623, 11.752497673034668, 3.351100206375122, 3.4481048583984375, 4.731036186218262, 9.742242813110352, 9.693408012390137, 10.409984588623047, 2.479398488998413, 8.066704750061035, 1.5865684747695923, 10.869739532470703, 8.155896186828613, 1.4845257997512817, 1.9675288200378418, 0.20067144930362701, 1.7166011333465576, -0.813378632068634, -0.8050675988197327, 3.363269805908203, 1.844605565071106, 9.406160354614258, 9.906503677368164, 6.385521411895752, 3.014871120452881, -1.0433918237686157, 2.7626876831054688, 5.155287742614746, 11.320989608764648, 8.791666030883789, 11.334620475769043, 4.096832752227783, 4.046187400817871, -2.9981863498687744, 1.5534034967422485, 6.901124000549316, 2.6859867572784424, 6.050496578216553, 8.34887409210205, 8.384763717651367, 10.238981246948242, 8.36812686920166, 4.032289028167725, 11.31464958190918, 2.2819392681121826, 2.259981870651245, 1.01203453540802, -2.474108934402466, 1.7501493692398071, 1.9608465433120728, 11.291735649108887, 2.9345717430114746, 7.9401068687438965, 2.2579188346862793, 2.271735668182373, 3.9388623237609863, 9.828851699829102, 19.9997615814209, 9.818985939025879, 10.094217300415039, 4.353882789611816, 4.2849249839782715, 8.656261444091797, 12.070097923278809, 8.656278610229492, 11.747841835021973, -2.3032517433166504, -2.405684232711792, -0.7510802745819092, -2.4317233562469482, 19.99977684020996, 10.002620697021484, 8.580062866210938, -1.227148175239563, -3.0074894428253174, -0.6972541213035583, -0.7048078179359436, 0.1213436871767044, -0.7055089473724365, 8.870157241821289, 1.7171062231063843, 3.4956119060516357, 9.168245315551758, 8.368532180786133, 9.88464641571045, 10.354183197021484, 11.49565315246582, 10.354310035705566, 2.7877752780914307, 2.8023641109466553, 2.372631549835205, 2.774991989135742, 2.471489191055298, 2.486177921295166, 10.285123825073242, 2.47074818611145, 8.239874839782715, 8.349897384643555, -3.103071928024292, 6.749527454376221, 7.544975757598877, 7.541219711303711, 9.086681365966797, 7.97662353515625, 2.99165678024292, 3.3658971786499023, 11.909183502197266, 2.994553565979004, -5.887024879455566, 8.856742858886719, 3.0649173259735107, 3.15378737449646, 9.319146156311035, 3.1689295768737793, 10.830869674682617, 7.655496597290039, 10.19530200958252, 11.928437232971191, 11.92098617553711, 7.380453109741211, 8.333878517150879, 5.418988227844238, 6.40170431137085, 2.375232696533203, 2.3692455291748047, 1.0029737949371338, 2.3814430236816406, 9.117135047912598, 8.892908096313477, 8.873917579650879, 11.480072021484375, 9.389931678771973, 9.82882022857666, 9.825550079345703, 4.0363922119140625, 9.8252534866333, 2.7439303398132324, 2.756718873977661, 9.035058975219727, 2.7511117458343506, 2.4857497215270996, 2.5010244846343994, -0.0072645931504666805, 2.502171039581299, 2.1074399948120117, 2.1995999813079834, 8.161613464355469, 7.695614337921143, 7.690197944641113, -1.0409201383590698, 7.682596683502197, 11.300577163696289, 1.841109275817871, 1.122331142425537, 5.4529128074646, 3.886765241622925, 8.085076332092285, 4.798327922821045, -1.0391809940338135, 12.199353218078613, 12.208504676818848, 7.607824325561523, 8.862060546875, 8.257380485534668, 11.383813858032227, 2.9355950355529785, 3.0988988876342773, 11.324087142944336, 11.38740348815918, 10.597952842712402, 10.61993408203125, 4.598996639251709, 9.185370445251465, 8.551591873168945, 9.310250282287598, 9.489663124084473, 4.188692569732666, 7.55047082901001, 8.694096565246582, 8.224442481994629, -1.0337047576904297, 9.073365211486816, 9.177835464477539, 6.765823841094971, 10.391134262084961, 3.3799831867218018, 9.026226997375488, 9.100098609924316, 9.96541690826416, 11.676947593688965, 5.450839996337891, 2.568455219268799, 4.789030075073242, 3.2508575916290283, 11.355612754821777, 11.333640098571777, -1.025026559829712, 11.354447364807129, 2.769251823425293, 12.160653114318848, 11.671927452087402, 8.4036226272583, 9.599340438842773, 9.783808708190918, 11.301998138427734, 9.703577995300293, 11.740840911865234, -3.238938093185425, -2.1356499195098877, -2.160794734954834, 9.418107032775879, -2.124913454055786, 7.530933856964111, 7.550556182861328, 8.598917961120605, 7.547873020172119, 9.064760208129883, 6.7797770500183105, 10.619019508361816, 8.761885643005371, 8.74433708190918, 0.14178864657878876, 8.72050952911377, 9.74621295928955, 10.799681663513184, 10.847890853881836, 1.410408616065979, 1.4094988107681274, 4.216168403625488, 1.4058752059936523, 1.425181269645691, 3.15781569480896, 1.9582183361053467, 3.1617023944854736, 9.6998872756958, 2.106438636779785, 10.000572204589844, 7.560079097747803, 7.535062313079834, 4.181615352630615, 7.577132225036621, 1.0809569358825684, 8.480853080749512, -5.409862518310547, 3.021148920059204, 11.507583618164062, -5.408275127410889, 9.305610656738281, 9.512459754943848, 1.5511229038238525, 7.536962032318115, 3.399726390838623, 3.3997323513031006, 8.467606544494629, 3.3997340202331543, 8.60377311706543, 2.3773107528686523, 11.677366256713867, 11.693758964538574, -0.988764762878418, 11.685846328735352, 11.693330764770508, -2.4050850868225098, -2.4162371158599854, 3.505542755126953, 8.227376937866211, -2.04984974861145, -3.411234140396118, 5.3135151863098145, 5.256557941436768, 19.999759674072266, 7.233347415924072, 1.7009539604187012, 5.341763019561768, 11.716995239257812, 8.265877723693848, 9.146395683288574, 7.621098518371582, 8.972955703735352, 1.8733128309249878, 1.834577202796936, 2.601545810699463, 2.5744376182556152, 9.767269134521484, 11.378058433532715, 2.905221700668335, 0.08532176166772842, 11.377310752868652, 11.206032752990723, 11.197205543518066, 8.525824546813965, 11.158900260925293, 10.900877952575684, 7.949617862701416, 7.988331317901611, 3.901034116744995, 10.457978248596191, 0.5501937866210938, 3.982079029083252, 3.9458858966827393, -1.2321736812591553, 3.941401958465576, 10.386019706726074, 10.43909740447998, 11.479144096374512, 10.396456718444824, 2.4185962677001953, 2.419933557510376, 2.486760377883911, 2.421375036239624, 8.98495864868164, 8.877882957458496, 4.190999984741211, 8.891470909118652, 3.352022409439087, 3.343594789505005, 3.673438310623169, 3.329935073852539, 3.9630770683288574, 8.085338592529297, 7.834748268127441, 7.614540100097656, 0.2167178988456726, 7.811008453369141, 2.464054584503174, 2.4603633880615234, 5.955136299133301, 2.4464199542999268, 9.907332420349121, 9.980924606323242, 1.690883994102478, 9.902777671813965, 8.631855010986328, 8.632718086242676, 11.5068359375, 8.643709182739258, 2.3846023082733154, 10.903477668762207, 8.225577354431152, 8.225933074951172, 7.906172752380371, 10.147997856140137, 4.951484680175781, 4.9606475830078125, 0.7754225730895996, 4.966717720031738, 11.368669509887695, 2.8540661334991455, -0.5890539288520813, 11.358429908752441, 7.559429168701172, 7.549568176269531, 9.948695182800293, 7.582228660583496, 19.999744415283203, 2.0605597496032715, 10.315780639648438, 1.2420039176940918, 9.532042503356934, 9.719508171081543, -1.0350065231323242, 4.273797035217285, -5.409754753112793, 2.993790864944458, 11.501745223999023, 3.342542886734009, 2.1384055614471436, 2.229679822921753, 8.33617115020752, 12.0684175491333, 8.263219833374023, 11.746674537658691, 3.6898562908172607, 3.7852821350097656, 8.610299110412598, 9.868823051452637, 4.784480094909668, 8.597599029541016, 6.944918632507324, 6.942541122436523, 4.314296245574951, 0.9948685169219971, 4.852470397949219, 4.756842613220215, 3.6953134536743164, 4.852222919464111, 10.004095077514648, 10.414544105529785, 10.686687469482422, 3.020369291305542, 4.604057312011719, 3.022042751312256, 9.770487785339355, 8.51509952545166, 8.64869499206543, 11.14159107208252, 6.046947956085205, 11.141717910766602, 5.418275833129883, 11.217504501342773, 1.9654338359832764, 11.217233657836914, 9.413861274719238, 8.986284255981445, 8.983851432800293, 3.1776134967803955, 8.989860534667969, 8.882070541381836, 8.798399925231934, 0.5474511981010437, 9.312417030334473, 7.892471790313721, 1.9506466388702393, 1.9626719951629639, -1.0189578533172607, 2.19197416305542, 0.3623082637786865, 8.11954402923584, 5.8452277183532715, 9.004860877990723, 3.6442480087280273, 8.748546600341797, 8.754077911376953, -1.0358808040618896, 8.75067138671875, 8.979571342468262, 8.98166275024414, 8.722743034362793, 7.602229118347168, 7.7078857421875, 4.108372211456299, 7.782011032104492, 2.2157576084136963, 3.3913371562957764, 1.9599477052688599, 11.331656455993652, 7.544358253479004, 7.550568103790283, 8.070467948913574, 6.046813488006592, 2.4798197746276855, 2.6715896129608154, 10.244508743286133, 2.5626988410949707, 3.193546772003174, 3.316833257675171, 9.912618637084961, 3.276052236557007, 7.552217483520508, 7.694380760192871, -1.033523678779602, 7.665506362915039, 8.657552719116211, 1.732338547706604, 8.66073989868164, 1.709530234336853, 4.849365711212158, 4.843853950500488, 1.0351516008377075, 4.854401588439941, 6.902222633361816, 4.304360389709473, 6.892394542694092, 9.343938827514648, 10.88750171661377, 10.89490032196045, 3.134174346923828, 3.245478868484497, 3.1275382041931152, 6.452214241027832, 5.185089588165283, 1.8423391580581665, 1.9582232236862183, 1.8203777074813843, 9.426047325134277, 3.3632540702819824, 4.214529991149902, 9.274371147155762, 0.5411133170127869, 1.947137713432312, 11.507728576660156, 4.186774730682373, 8.186468124389648, 6.786310195922852, 2.731316566467285, 0.13112837076187134, 11.372003555297852, 1.7626855373382568, 3.9295146465301514, 1.7246111631393433, 7.7827253341674805, 1.8208284378051758, 11.218913078308105, 2.253866672515869, 11.218657493591309, 8.005058288574219, 5.30709981918335, 5.3073577880859375, 1.9625111818313599, 5.304096221923828, 6.0413994789123535, 2.2495362758636475, 2.2953078746795654, 9.471570014953613, 3.0302648544311523, 8.699556350708008, 4.053489685058594, 6.766016006469727, 6.766621112823486, -1.0239770412445068, 6.770216464996338, 13.463397026062012, -2.9341089725494385, -2.9356954097747803, 1.2852356433868408, -2.927264451980591, 11.940604209899902, 11.938567161560059, -1.0150307416915894, 11.945143699645996, 4.60788631439209, 7.96095609664917, 8.709623336791992, 4.611783027648926, 7.955896377563477, 8.187323570251465, 8.044490814208984, 9.08494758605957, 9.09033203125, 4.771082878112793, 9.074798583984375, -10.256415367126465, -10.256403923034668, 1.9369407892227173, -10.25639820098877, -3.2449283599853516, 10.864730834960938, 9.88255500793457, 8.354312896728516, 4.665835857391357, 4.671370506286621, 4.536203384399414, 4.679204940795898, 7.698113918304443, 7.673396587371826, 4.181257247924805, 7.661731719970703, 9.73874282836914, 9.19576644897461, 9.18058967590332, 3.362107515335083, 11.566365242004395, 6.763609409332275, 11.669533729553223, 11.6788969039917, 3.968302011489868, 11.705432891845703, 7.483521938323975, 7.497114658355713, 4.76789665222168, 7.471221446990967, 4.561469078063965, 4.730762004852295, 4.512088298797607, 6.914918899536133, 1.72930908203125, 1.73345148563385, 8.082202911376953, 7.995728015899658, 7.716177940368652, 2.883605480194092, 7.673193454742432, 3.0142133235931396, 11.50108528137207, 3.008704423904419, 9.861734390258789, 1.863436222076416, -1.7983038425445557, -1.220229983329773, -1.2415924072265625, -1.3591898679733276, 3.9548401832580566, 8.177532196044922, -3.2355902194976807, -3.189251184463501, 9.751152992248535, 7.4122467041015625, 2.0699973106384277, 2.93524432182312, 9.178825378417969, 8.006537437438965, 3.0880863666534424, 12.060040473937988, 3.171584129333496, 3.0840272903442383, 5.143104553222656, 3.0216166973114014, 9.14024829864502, 7.484621047973633, 9.083523750305176, -2.861616611480713, 7.5900959968566895, 8.8052396774292, 7.587664604187012, 7.316119194030762, 4.195658206939697, 7.656736850738525, 9.796340942382812, 4.301085472106934, -0.9661021828651428, 4.2986860275268555, 7.663851737976074, 8.960319519042969, 6.941218852996826, 10.558523178100586, 1.117379903793335, 2.1750545501708984, 1.1177141666412354, 11.474555969238281, 4.865902423858643, 4.871730804443359, 11.495534896850586, 4.900503635406494, 8.672788619995117, 8.657427787780762, 6.078250408172607, 5.258914470672607, -1.0149662494659424, 5.253208637237549, 1.7094048261642456, 1.1679948568344116, 1.1655478477478027, 1.1465957164764404, 1.141635537147522, 1.1626262664794922, 1.1444453001022339, 8.956330299377441, 1.9987540245056152, 2.291001319885254, 4.735011577606201, 4.753332138061523, -1.0221784114837646, 4.759369373321533, 4.917194843292236, 4.876346111297607, 11.480627059936523, 4.855661869049072, 8.946600914001465, 10.792628288269043, 8.611695289611816, 8.679705619812012, 9.164674758911133, 7.930572032928467, 7.384177207946777, 9.168962478637695, -5.887691020965576, 8.644976615905762, 7.432516098022461, -5.887531757354736, 3.310351610183716, 3.2353994846343994, 3.3368632793426514, -10.256416320800781, 10.640486717224121, 10.573936462402344, 3.3837053775787354, 3.338679313659668, 0.5349182486534119, 3.3827953338623047, 5.402738571166992, 4.962028503417969, 3.280881404876709, 5.004088401794434, 10.592061996459961, 10.591609954833984, 2.2496562004089355, 7.770328044891357, 2.3771727085113525, 2.3837273120880127, -1.0106652975082397, 2.3825535774230957, 8.603286743164062, 8.733558654785156, 10.590298652648926, 0.5990011096000671, 7.841412544250488, 7.003970146179199, 4.494474411010742, 7.523502349853516, 7.5684895515441895, 3.1246509552001953, 2.796269655227661, 3.127171039581299, 10.441065788269043, 11.384779930114746, 2.9366631507873535, -0.005680244881659746, 11.386466979980469, 2.898563861846924, 4.616762161254883, 2.905320644378662, 3.1219589710235596, 9.510838508605957, 4.273219585418701, -0.9877223372459412, 4.274394512176514, 10.447711944580078, 10.372100830078125, -5.886826038360596, -5.887170314788818, 4.695287704467773, -5.88742733001709, 10.895483016967773, 8.19633674621582, 8.218127250671387, 8.604649543762207, 8.211810111999512, 4.2141923904418945, 8.382227897644043, 1.2415796518325806, 1.7543940544128418, 8.459250450134277, 3.067746639251709, 3.0662484169006348, 3.3636064529418945, 5.393799304962158, 9.887024879455566, 2.6711225509643555, 2.7234413623809814, 7.335473537445068, 8.010860443115234, 3.0795857906341553, 9.126557350158691, 9.90363597869873, 7.6910810470581055, 7.651416301727295, 1.826470136642456, 7.682621002197266, 7.686922073364258, 1.828635811805725, 10.02591609954834, 10.580794334411621, 10.314830780029297, 9.080462455749512, 9.368900299072266, 6.077142715454102, 8.954503059387207, 4.149601936340332, -2.891707420349121, 2.9403672218322754, -2.89725399017334, 1.7030673027038574, 0.299701064825058, 0.5759326815605164, 9.045919418334961, 7.755057334899902, 7.744915008544922, 4.692020416259766, -1.6082707643508911, 9.505107879638672, 9.511126518249512, 4.191540718078613, 9.494912147521973, 8.976024627685547, 6.771354675292969, 10.867799758911133, -3.2798283100128174, -3.259850025177002, 2.4684441089630127, -3.0289735794067383, 10.55174446105957, 8.887822151184082, 3.871396064758301, 8.884604454040527, 5.6782026290893555, 9.313632011413574, 12.058424949645996, 9.275923728942871, 11.748040199279785, 1.2455347776412964, -1.4237905740737915, 1.309557557106018, 1.0899720191955566, 3.0680980682373047, 1.7530990839004517, 4.515068531036377, 3.0330889225006104, 10.894902229309082, 10.896768569946289, 0.35743388533592224, 3.9055325984954834, 8.112090110778809, 3.030564069747925, 4.736248016357422, 1.5852807760238647, 10.622797012329102, 2.276852607727051, 8.367698669433594, 4.2989912033081055, -1.0532231330871582, 12.184453964233398, 4.290126323699951, -3.3392391204833984, 5.232099533081055, 8.96661376953125, 9.383543968200684, 0.15138423442840576, 9.386542320251465, 8.217909812927246, 8.22747802734375, 9.519512176513672, 8.210843086242676, 3.3558804988861084, 3.3755528926849365, 9.892139434814453, 5.099086761474609, 0.5408990383148193, 0.5315962433815002, 8.713902473449707, 8.691555976867676, 9.88338565826416, 8.699166297912598, 6.0007500648498535, 4.070228576660156, 4.098560333251953, 1.275904893875122, 4.098012924194336, 7.829288005828857, 7.831141948699951, 2.1004838943481445, 2.267895221710205, 2.109315872192383, 9.892330169677734, 2.272639036178589, 9.912636756896973, 4.264407157897949, 10.563177108764648, -3.2382431030273438, 4.515870094299316, 6.060566425323486, 5.257814407348633, 0.0742599293589592, 5.24827766418457, 0.3315213918685913, 8.21005916595459, 8.378917694091797, 8.389215469360352, 7.685376167297363, 7.692515850067139, 8.381149291992188, 8.378602981567383, 2.033336639404297, 1.9916476011276245, 2.0547196865081787, 3.7031805515289307, 1.6108545064926147, 10.848774909973145, 10.92931079864502, 10.900399208068848, 1.9731537103652954, 1.1656577587127686, 8.626583099365234, 10.67899227142334, 3.9783577919006348, 4.31726598739624, -3.2394587993621826, 4.145794868469238, 4.285319805145264, 4.247570037841797, 4.307062149047852, 4.278527736663818, 8.547669410705566, 8.607331275939941, 0.9945787787437439, 8.597883224487305, 3.310551404953003, 3.3134024143218994, 9.935514450073242, 3.310019016265869, 11.754860877990723, 4.122999668121338, 3.060539722442627, 3.0332226753234863, 9.231348991394043, 3.7650349140167236, 10.783327102661133, 10.747496604919434, -5.409707546234131, 3.019090175628662, 0.5495766401290894, 11.49262523651123, 11.428088188171387, 1.3139195442199707, 11.490004539489746, 2.192812442779541, 8.79835033416748, 8.750046730041504, 3.1748788356781006, 8.79103946685791, 1.3680373430252075, 1.20148766040802, 8.575983047485352, 9.381322860717773, 2.937626361846924, 9.38044548034668, 3.869765281677246, 4.935879707336426, 3.8810646533966064, -10.25638484954834, 9.517478942871094, 8.635086059570312, 9.12466812133789, 8.303814888000488, 4.740411281585693, 7.830788612365723, 1.8762022256851196, 3.0069313049316406, -1.0189588069915771, 2.9987308979034424, 8.019120216369629, 10.177129745483398, 6.40681791305542, 6.409091949462891, 2.192134380340576, 6.4585862159729, 2.3071835041046143, 7.333204746246338, 8.194113731384277, 7.985148906707764, 2.906320333480835, 11.912766456604004, -0.005644787568598986, 11.739326477050781, 8.208962440490723, 8.15174388885498, 1.8837915658950806, 1.8896266222000122, 9.700127601623535, 1.888635516166687, 2.3782589435577393, 9.375462532043457, 8.878680229187012, 8.394840240478516, 9.378435134887695, 5.090153217315674, 10.68468952178955, 3.276170015335083, 3.2744297981262207, 10.936626434326172, 10.9397554397583, 9.942282676696777, 10.930889129638672, 8.196599960327148, 7.606862545013428, 2.867623805999756, 7.601223468780518, 9.172411918640137, 3.3721184730529785, 8.674043655395508, 6.766782760620117, -3.2306058406829834, -3.2292466163635254, 4.4974470138549805, 8.98416519165039, 6.793579578399658, 3.955167531967163, 6.788877964019775, 9.348504066467285, 9.689702987670898, 11.654742240905762, 9.359073638916016, 9.148211479187012, 8.961128234863281, 9.252820014953613, 8.957903861999512, 8.680329322814941, -5.40968656539917, 2.791886568069458, 7.632117748260498, 3.1200740337371826, 3.135270595550537, 1.7674188613891602, 3.1331403255462646, 10.92928409576416, 10.856222152709961, 8.220921516418457, 7.800523281097412, 4.345860004425049, 7.8046040534973145, 8.633155822753906, 9.773706436157227, 8.671905517578125, 8.227993965148926, -1.038068175315857, -5.887339115142822, 8.659629821777344, 2.8023977279663086, 8.151476860046387, 5.615428447723389, -0.85051429271698, 8.24486255645752, 1.4952733516693115, 1.4952460527420044, -1.0141561031341553, 1.4955285787582397, 3.056820869445801, 3.06524658203125, 4.19669771194458, 3.0643293857574463, 3.931323528289795, 8.081006050109863, 3.173164129257202, 1.7298946380615234, 1.6612327098846436, 1.623767614364624, 3.5651707649230957, 7.58624267578125, 3.2747859954833984, 2.9664082527160645, 3.1583688259124756, 3.047297716140747, -2.904679536819458, -2.897306442260742, 0.14476151764392853, -2.9095492362976074], \"yaxis\": \"y\"}],\n",
              "                        {\"legend\": {\"tracegroupgap\": 0}, \"margin\": {\"t\": 60}, \"template\": {\"data\": {\"bar\": [{\"error_x\": {\"color\": \"#2a3f5f\"}, \"error_y\": {\"color\": \"#2a3f5f\"}, \"marker\": {\"line\": {\"color\": \"#E5ECF6\", \"width\": 0.5}}, \"type\": \"bar\"}], \"barpolar\": [{\"marker\": {\"line\": {\"color\": \"#E5ECF6\", \"width\": 0.5}}, \"type\": \"barpolar\"}], \"carpet\": [{\"aaxis\": {\"endlinecolor\": \"#2a3f5f\", \"gridcolor\": \"white\", \"linecolor\": \"white\", \"minorgridcolor\": \"white\", \"startlinecolor\": \"#2a3f5f\"}, \"baxis\": {\"endlinecolor\": \"#2a3f5f\", \"gridcolor\": \"white\", \"linecolor\": \"white\", \"minorgridcolor\": \"white\", \"startlinecolor\": \"#2a3f5f\"}, \"type\": \"carpet\"}], \"choropleth\": [{\"colorbar\": {\"outlinewidth\": 0, \"ticks\": \"\"}, \"type\": \"choropleth\"}], \"contour\": [{\"colorbar\": {\"outlinewidth\": 0, \"ticks\": \"\"}, \"colorscale\": [[0.0, \"#0d0887\"], [0.1111111111111111, \"#46039f\"], [0.2222222222222222, \"#7201a8\"], [0.3333333333333333, \"#9c179e\"], [0.4444444444444444, \"#bd3786\"], [0.5555555555555556, \"#d8576b\"], [0.6666666666666666, \"#ed7953\"], [0.7777777777777778, \"#fb9f3a\"], [0.8888888888888888, \"#fdca26\"], [1.0, \"#f0f921\"]], \"type\": \"contour\"}], \"contourcarpet\": [{\"colorbar\": {\"outlinewidth\": 0, \"ticks\": \"\"}, \"type\": \"contourcarpet\"}], \"heatmap\": [{\"colorbar\": {\"outlinewidth\": 0, \"ticks\": \"\"}, \"colorscale\": [[0.0, \"#0d0887\"], [0.1111111111111111, \"#46039f\"], [0.2222222222222222, \"#7201a8\"], [0.3333333333333333, \"#9c179e\"], [0.4444444444444444, \"#bd3786\"], [0.5555555555555556, \"#d8576b\"], [0.6666666666666666, \"#ed7953\"], [0.7777777777777778, \"#fb9f3a\"], [0.8888888888888888, \"#fdca26\"], [1.0, \"#f0f921\"]], \"type\": \"heatmap\"}], \"heatmapgl\": [{\"colorbar\": {\"outlinewidth\": 0, \"ticks\": \"\"}, \"colorscale\": [[0.0, \"#0d0887\"], [0.1111111111111111, \"#46039f\"], [0.2222222222222222, \"#7201a8\"], [0.3333333333333333, \"#9c179e\"], [0.4444444444444444, \"#bd3786\"], [0.5555555555555556, \"#d8576b\"], [0.6666666666666666, \"#ed7953\"], [0.7777777777777778, \"#fb9f3a\"], [0.8888888888888888, \"#fdca26\"], [1.0, \"#f0f921\"]], \"type\": \"heatmapgl\"}], \"histogram\": [{\"marker\": {\"colorbar\": {\"outlinewidth\": 0, \"ticks\": \"\"}}, \"type\": \"histogram\"}], \"histogram2d\": [{\"colorbar\": {\"outlinewidth\": 0, \"ticks\": \"\"}, \"colorscale\": [[0.0, \"#0d0887\"], [0.1111111111111111, \"#46039f\"], [0.2222222222222222, \"#7201a8\"], [0.3333333333333333, \"#9c179e\"], [0.4444444444444444, \"#bd3786\"], [0.5555555555555556, \"#d8576b\"], [0.6666666666666666, \"#ed7953\"], [0.7777777777777778, \"#fb9f3a\"], [0.8888888888888888, \"#fdca26\"], [1.0, \"#f0f921\"]], \"type\": \"histogram2d\"}], \"histogram2dcontour\": [{\"colorbar\": {\"outlinewidth\": 0, \"ticks\": \"\"}, \"colorscale\": [[0.0, \"#0d0887\"], [0.1111111111111111, \"#46039f\"], [0.2222222222222222, \"#7201a8\"], [0.3333333333333333, \"#9c179e\"], [0.4444444444444444, \"#bd3786\"], [0.5555555555555556, \"#d8576b\"], [0.6666666666666666, \"#ed7953\"], [0.7777777777777778, \"#fb9f3a\"], [0.8888888888888888, \"#fdca26\"], [1.0, \"#f0f921\"]], \"type\": \"histogram2dcontour\"}], \"mesh3d\": [{\"colorbar\": {\"outlinewidth\": 0, \"ticks\": \"\"}, \"type\": \"mesh3d\"}], \"parcoords\": [{\"line\": {\"colorbar\": {\"outlinewidth\": 0, \"ticks\": \"\"}}, \"type\": \"parcoords\"}], \"pie\": [{\"automargin\": true, \"type\": \"pie\"}], \"scatter\": [{\"marker\": {\"colorbar\": {\"outlinewidth\": 0, \"ticks\": \"\"}}, \"type\": \"scatter\"}], \"scatter3d\": [{\"line\": {\"colorbar\": {\"outlinewidth\": 0, \"ticks\": \"\"}}, \"marker\": {\"colorbar\": {\"outlinewidth\": 0, \"ticks\": \"\"}}, \"type\": \"scatter3d\"}], \"scattercarpet\": [{\"marker\": {\"colorbar\": {\"outlinewidth\": 0, \"ticks\": \"\"}}, \"type\": \"scattercarpet\"}], \"scattergeo\": [{\"marker\": {\"colorbar\": {\"outlinewidth\": 0, \"ticks\": \"\"}}, \"type\": \"scattergeo\"}], \"scattergl\": [{\"marker\": {\"colorbar\": {\"outlinewidth\": 0, \"ticks\": \"\"}}, \"type\": \"scattergl\"}], \"scattermapbox\": [{\"marker\": {\"colorbar\": {\"outlinewidth\": 0, \"ticks\": \"\"}}, \"type\": \"scattermapbox\"}], \"scatterpolar\": [{\"marker\": {\"colorbar\": {\"outlinewidth\": 0, \"ticks\": \"\"}}, \"type\": \"scatterpolar\"}], \"scatterpolargl\": [{\"marker\": {\"colorbar\": {\"outlinewidth\": 0, \"ticks\": \"\"}}, \"type\": \"scatterpolargl\"}], \"scatterternary\": [{\"marker\": {\"colorbar\": {\"outlinewidth\": 0, \"ticks\": \"\"}}, \"type\": \"scatterternary\"}], \"surface\": [{\"colorbar\": {\"outlinewidth\": 0, \"ticks\": \"\"}, \"colorscale\": [[0.0, \"#0d0887\"], [0.1111111111111111, \"#46039f\"], [0.2222222222222222, \"#7201a8\"], [0.3333333333333333, \"#9c179e\"], [0.4444444444444444, \"#bd3786\"], [0.5555555555555556, \"#d8576b\"], [0.6666666666666666, \"#ed7953\"], [0.7777777777777778, \"#fb9f3a\"], [0.8888888888888888, \"#fdca26\"], [1.0, \"#f0f921\"]], \"type\": \"surface\"}], \"table\": [{\"cells\": {\"fill\": {\"color\": \"#EBF0F8\"}, \"line\": {\"color\": \"white\"}}, \"header\": {\"fill\": {\"color\": \"#C8D4E3\"}, \"line\": {\"color\": \"white\"}}, \"type\": \"table\"}]}, \"layout\": {\"annotationdefaults\": {\"arrowcolor\": \"#2a3f5f\", \"arrowhead\": 0, \"arrowwidth\": 1}, \"coloraxis\": {\"colorbar\": {\"outlinewidth\": 0, \"ticks\": \"\"}}, \"colorscale\": {\"diverging\": [[0, \"#8e0152\"], [0.1, \"#c51b7d\"], [0.2, \"#de77ae\"], [0.3, \"#f1b6da\"], [0.4, \"#fde0ef\"], [0.5, \"#f7f7f7\"], [0.6, \"#e6f5d0\"], [0.7, \"#b8e186\"], [0.8, \"#7fbc41\"], [0.9, \"#4d9221\"], [1, \"#276419\"]], \"sequential\": [[0.0, \"#0d0887\"], [0.1111111111111111, \"#46039f\"], [0.2222222222222222, \"#7201a8\"], [0.3333333333333333, \"#9c179e\"], [0.4444444444444444, \"#bd3786\"], [0.5555555555555556, \"#d8576b\"], [0.6666666666666666, \"#ed7953\"], [0.7777777777777778, \"#fb9f3a\"], [0.8888888888888888, \"#fdca26\"], [1.0, \"#f0f921\"]], \"sequentialminus\": [[0.0, \"#0d0887\"], [0.1111111111111111, \"#46039f\"], [0.2222222222222222, \"#7201a8\"], [0.3333333333333333, \"#9c179e\"], [0.4444444444444444, \"#bd3786\"], [0.5555555555555556, \"#d8576b\"], [0.6666666666666666, \"#ed7953\"], [0.7777777777777778, \"#fb9f3a\"], [0.8888888888888888, \"#fdca26\"], [1.0, \"#f0f921\"]]}, \"colorway\": [\"#636efa\", \"#EF553B\", \"#00cc96\", \"#ab63fa\", \"#FFA15A\", \"#19d3f3\", \"#FF6692\", \"#B6E880\", \"#FF97FF\", \"#FECB52\"], \"font\": {\"color\": \"#2a3f5f\"}, \"geo\": {\"bgcolor\": \"white\", \"lakecolor\": \"white\", \"landcolor\": \"#E5ECF6\", \"showlakes\": true, \"showland\": true, \"subunitcolor\": \"white\"}, \"hoverlabel\": {\"align\": \"left\"}, \"hovermode\": \"closest\", \"mapbox\": {\"style\": \"light\"}, \"paper_bgcolor\": \"white\", \"plot_bgcolor\": \"#E5ECF6\", \"polar\": {\"angularaxis\": {\"gridcolor\": \"white\", \"linecolor\": \"white\", \"ticks\": \"\"}, \"bgcolor\": \"#E5ECF6\", \"radialaxis\": {\"gridcolor\": \"white\", \"linecolor\": \"white\", \"ticks\": \"\"}}, \"scene\": {\"xaxis\": {\"backgroundcolor\": \"#E5ECF6\", \"gridcolor\": \"white\", \"gridwidth\": 2, \"linecolor\": \"white\", \"showbackground\": true, \"ticks\": \"\", \"zerolinecolor\": \"white\"}, \"yaxis\": {\"backgroundcolor\": \"#E5ECF6\", \"gridcolor\": \"white\", \"gridwidth\": 2, \"linecolor\": \"white\", \"showbackground\": true, \"ticks\": \"\", \"zerolinecolor\": \"white\"}, \"zaxis\": {\"backgroundcolor\": \"#E5ECF6\", \"gridcolor\": \"white\", \"gridwidth\": 2, \"linecolor\": \"white\", \"showbackground\": true, \"ticks\": \"\", \"zerolinecolor\": \"white\"}}, \"shapedefaults\": {\"line\": {\"color\": \"#2a3f5f\"}}, \"ternary\": {\"aaxis\": {\"gridcolor\": \"white\", \"linecolor\": \"white\", \"ticks\": \"\"}, \"baxis\": {\"gridcolor\": \"white\", \"linecolor\": \"white\", \"ticks\": \"\"}, \"bgcolor\": \"#E5ECF6\", \"caxis\": {\"gridcolor\": \"white\", \"linecolor\": \"white\", \"ticks\": \"\"}}, \"title\": {\"x\": 0.05}, \"xaxis\": {\"automargin\": true, \"gridcolor\": \"white\", \"linecolor\": \"white\", \"ticks\": \"\", \"title\": {\"standoff\": 15}, \"zerolinecolor\": \"white\", \"zerolinewidth\": 2}, \"yaxis\": {\"automargin\": true, \"gridcolor\": \"white\", \"linecolor\": \"white\", \"ticks\": \"\", \"title\": {\"standoff\": 15}, \"zerolinecolor\": \"white\", \"zerolinewidth\": 2}}}, \"xaxis\": {\"anchor\": \"y\", \"domain\": [0.0, 1.0], \"title\": {\"text\": \"0\"}}, \"yaxis\": {\"anchor\": \"x\", \"domain\": [0.0, 1.0], \"title\": {\"text\": \"1\"}}},\n",
              "                        {\"responsive\": true}\n",
              "                    ).then(function(){\n",
              "                            \n",
              "var gd = document.getElementById('b3d940ed-cb6d-4912-8195-c6c45d60852b');\n",
              "var x = new MutationObserver(function (mutations, observer) {{\n",
              "        var display = window.getComputedStyle(gd).display;\n",
              "        if (!display || display === 'none') {{\n",
              "            console.log([gd, 'removed!']);\n",
              "            Plotly.purge(gd);\n",
              "            observer.disconnect();\n",
              "        }}\n",
              "}});\n",
              "\n",
              "// Listen for the removal of the full notebook cells\n",
              "var notebookContainer = gd.closest('#notebook-container');\n",
              "if (notebookContainer) {{\n",
              "    x.observe(notebookContainer, {childList: true});\n",
              "}}\n",
              "\n",
              "// Listen for the clearing of the current output cell\n",
              "var outputEl = gd.closest('.output');\n",
              "if (outputEl) {{\n",
              "    x.observe(outputEl, {childList: true});\n",
              "}}\n",
              "\n",
              "                        })\n",
              "                };\n",
              "                \n",
              "            </script>\n",
              "        </div>\n",
              "</body>\n",
              "</html>"
            ]
          },
          "metadata": {}
        }
      ]
    },
    {
      "cell_type": "markdown",
      "source": [
        "Use the Full Corpus to calculate the similarity matrix."
      ],
      "metadata": {
        "id": "06b4OxcWP40s"
      }
    },
    {
      "cell_type": "code",
      "metadata": {
        "id": "EvxSQFfBBNMJ",
        "colab": {
          "base_uri": "https://localhost:8080/"
        },
        "outputId": "4bc2ef23-2061-405c-9cb9-94596f371755"
      },
      "source": [
        "index_lsi = similarities.Similarity('/content/index/index_lsi', lsi[bow_corpus], num_features=len(dictionary))"
      ],
      "execution_count": 68,
      "outputs": [
        {
          "output_type": "stream",
          "name": "stderr",
          "text": [
            "2021-12-27 20:31:53,635 : INFO : starting similarity index under /content/index/index_lsi\n"
          ]
        }
      ]
    },
    {
      "cell_type": "code",
      "metadata": {
        "id": "3saA6NY5Tzer"
      },
      "source": [
        "#index_lsi = similarities.SparseMatrixSimilarity(lsi[bow_corpus], num_features = len(dictionary))\n",
        "#index_lsi = similarities.MatrixSimilarity(lsi[bow_corpus])  # transform corpus to LSI space and index it\n"
      ],
      "execution_count": 69,
      "outputs": []
    },
    {
      "cell_type": "code",
      "metadata": {
        "colab": {
          "base_uri": "https://localhost:8080/"
        },
        "id": "F5pbDMVyfEtS",
        "outputId": "0459e7e1-3cd8-4d55-f505-55061ce33578"
      },
      "source": [
        "lsi.save('/content/index/lsi.model')\n",
        "index_lsi.save('/content/index/lsi_matrixsim.index')\n"
      ],
      "execution_count": 70,
      "outputs": [
        {
          "output_type": "stream",
          "name": "stderr",
          "text": [
            "2021-12-27 20:31:58,045 : INFO : Projection lifecycle event {'fname_or_handle': '/content/index/lsi.model.projection', 'separately': 'None', 'sep_limit': 10485760, 'ignore': frozenset(), 'datetime': '2021-12-27T20:31:58.044949', 'gensim': '4.1.2', 'python': '3.7.12 (default, Sep 10 2021, 00:21:48) \\n[GCC 7.5.0]', 'platform': 'Linux-5.4.144+-x86_64-with-Ubuntu-18.04-bionic', 'event': 'saving'}\n",
            "2021-12-27 20:31:58,061 : INFO : saved /content/index/lsi.model.projection\n",
            "2021-12-27 20:31:58,067 : INFO : LsiModel lifecycle event {'fname_or_handle': '/content/index/lsi.model', 'separately': 'None', 'sep_limit': 10485760, 'ignore': ['projection', 'dispatcher'], 'datetime': '2021-12-27T20:31:58.067621', 'gensim': '4.1.2', 'python': '3.7.12 (default, Sep 10 2021, 00:21:48) \\n[GCC 7.5.0]', 'platform': 'Linux-5.4.144+-x86_64-with-Ubuntu-18.04-bionic', 'event': 'saving'}\n",
            "2021-12-27 20:31:58,078 : INFO : not storing attribute projection\n",
            "2021-12-27 20:31:58,085 : INFO : not storing attribute dispatcher\n",
            "2021-12-27 20:31:58,092 : INFO : saved /content/index/lsi.model\n",
            "2021-12-27 20:31:58,098 : INFO : creating sparse index\n",
            "2021-12-27 20:31:58,107 : INFO : creating sparse matrix from corpus\n",
            "2021-12-27 20:31:58,109 : INFO : PROGRESS: at document #0/5536\n",
            "2021-12-27 20:32:02,252 : INFO : created <5536x863 sparse matrix of type '<class 'numpy.float32'>'\n",
            "\twith 551895 stored elements in Compressed Sparse Row format>\n",
            "2021-12-27 20:32:02,261 : INFO : creating sparse shard #0\n",
            "2021-12-27 20:32:02,263 : INFO : saving index shard to /content/index/index_lsi.0\n",
            "2021-12-27 20:32:02,267 : INFO : SparseMatrixSimilarity lifecycle event {'fname_or_handle': '/content/index/index_lsi.0', 'separately': 'None', 'sep_limit': 10485760, 'ignore': frozenset(), 'datetime': '2021-12-27T20:32:02.267081', 'gensim': '4.1.2', 'python': '3.7.12 (default, Sep 10 2021, 00:21:48) \\n[GCC 7.5.0]', 'platform': 'Linux-5.4.144+-x86_64-with-Ubuntu-18.04-bionic', 'event': 'saving'}\n",
            "2021-12-27 20:32:02,288 : INFO : saved /content/index/index_lsi.0\n",
            "2021-12-27 20:32:02,319 : INFO : loading SparseMatrixSimilarity object from /content/index/index_lsi.0\n",
            "2021-12-27 20:32:02,325 : INFO : SparseMatrixSimilarity lifecycle event {'fname': '/content/index/index_lsi.0', 'datetime': '2021-12-27T20:32:02.325587', 'gensim': '4.1.2', 'python': '3.7.12 (default, Sep 10 2021, 00:21:48) \\n[GCC 7.5.0]', 'platform': 'Linux-5.4.144+-x86_64-with-Ubuntu-18.04-bionic', 'event': 'loaded'}\n",
            "2021-12-27 20:32:02,357 : INFO : Similarity lifecycle event {'fname_or_handle': '/content/index/lsi_matrixsim.index', 'separately': 'None', 'sep_limit': 10485760, 'ignore': frozenset(), 'datetime': '2021-12-27T20:32:02.357654', 'gensim': '4.1.2', 'python': '3.7.12 (default, Sep 10 2021, 00:21:48) \\n[GCC 7.5.0]', 'platform': 'Linux-5.4.144+-x86_64-with-Ubuntu-18.04-bionic', 'event': 'saving'}\n",
            "2021-12-27 20:32:02,372 : INFO : saved /content/index/lsi_matrixsim.index\n"
          ]
        }
      ]
    },
    {
      "cell_type": "code",
      "metadata": {
        "colab": {
          "base_uri": "https://localhost:8080/"
        },
        "id": "1udPIceqYk6S",
        "outputId": "5fee8452-7377-4641-d9e6-862423cf61d6"
      },
      "source": [
        "!ls -la /content/index"
      ],
      "execution_count": 71,
      "outputs": [
        {
          "output_type": "stream",
          "name": "stdout",
          "text": [
            "total 5040\n",
            "drwxr-xr-x 2 root root    4096 Dec 27 20:32 .\n",
            "drwxr-xr-x 1 root root    4096 Dec 27 20:31 ..\n",
            "-rw-r--r-- 1 root root 4438201 Dec 27 20:32 index_lsi.0\n",
            "-rw-r--r-- 1 root root     749 Dec 27 20:32 lsi_matrixsim.index\n",
            "-rw-r--r-- 1 root root   24682 Dec 27 20:31 lsi.model\n",
            "-rw-r--r-- 1 root root  679091 Dec 27 20:31 lsi.model.projection\n"
          ]
        }
      ]
    },
    {
      "cell_type": "markdown",
      "metadata": {
        "id": "u05KD64Ai1uo"
      },
      "source": [
        "## Tests"
      ]
    },
    {
      "cell_type": "markdown",
      "metadata": {
        "id": "Ojrjp11ni6Pl"
      },
      "source": [
        "### Tests for Contrafacts"
      ]
    },
    {
      "cell_type": "code",
      "metadata": {
        "colab": {
          "base_uri": "https://localhost:8080/"
        },
        "id": "KbjSJgwp02ED",
        "outputId": "ad07cfc1-d02f-412a-c0f1-671a39ecaa6c"
      },
      "source": [
        "len(contrafacts)"
      ],
      "execution_count": 72,
      "outputs": [
        {
          "output_type": "execute_result",
          "data": {
            "text/plain": [
              "115"
            ]
          },
          "metadata": {},
          "execution_count": 72
        }
      ]
    },
    {
      "cell_type": "code",
      "metadata": {
        "colab": {
          "base_uri": "https://localhost:8080/"
        },
        "id": "D0_7m1qji6A-",
        "outputId": "fcb5d0fc-7a79-45b5-a481-d9e9679532ad"
      },
      "source": [
        "topN = 30\n",
        "matches, results = test_contrafacts(contrafacts, index_lsi, lsi, topN)\n",
        "\n",
        "print(f\"Found matches: {matches} out of {len(results)}: {100*matches/len(results):.3f}%\")\n",
        "print() \n",
        "for rr, val in results.items():\n",
        "  if val == 0:\n",
        "    print(f\"{val}: {rr}\")\n"
      ],
      "execution_count": 73,
      "outputs": [
        {
          "output_type": "stream",
          "name": "stdout",
          "text": [
            "Found 26-2 [jazz1350] - Confirmation [jazz1350] B with value 0.8577091693878174\n",
            "Found Ablution [jazz1350] - All The Things You Are [jazz1350] A with value 0.9208323955535889\n",
            "Found Ablution [jazz1350] - All The Things You Are [jazz1350] B with value 0.8037244081497192\n",
            "Found Ablution [jazz1350] - All The Things You Are [jazz1350] C with value 0.8992456793785095\n",
            "Found Ablution [jazz1350] - All The Things You Are [jazz1350] D with value 0.8601824045181274\n",
            "Found Anthropology [jazz1350] - I Got Rhythm [jazz1350] B with value 0.9999998211860657\n",
            "Found C.T.A. [jazz1350] - I Got Rhythm [jazz1350] B with value 0.9999998211860657\n",
            "Found Cottontail [jazz1350] - I Got Rhythm [jazz1350] B with value 0.9999998211860657\n",
            "Found Countdown [jazz1350] - Tune Up [jazz1350] A with value 0.8242987394332886\n",
            "Found Dexterity [jazz1350] - I Got Rhythm [jazz1350] B with value 0.9999998211860657\n",
            "Found Dig [jazz1350] - Sweet Georgia Brown [jazz1350] A with value 1.0000001192092896\n",
            "Found Dig [jazz1350] - Sweet Georgia Brown [jazz1350] B with value 0.884676992893219\n",
            "Found Dig [jazz1350] - Sweet Georgia Brown [jazz1350] C with value 0.9999998807907104\n",
            "Found Donna Lee [jazz1350] - Indiana (Back Home Again In) [jazz1350] A with value 0.9560290575027466\n",
            "Found Donna Lee [jazz1350] - Indiana (Back Home Again In) [jazz1350] B with value 0.8646702766418457\n",
            "Found Evidence [jazz1350] - Just You, Just Me [jazz1350] B with value 0.8054627180099487\n",
            "Found Flintstones [jazz1350] - I Got Rhythm [jazz1350] B with value 0.9999998211860657\n",
            "Found Freight Train [jazz1350] - Blues For Alice [jazz1350] A with value 0.8485412001609802\n",
            "Found Hackensack [jazz1350] - Oh, Lady Be Good [jazz1350] A with value 0.8741744756698608\n",
            "Found Hackensack [jazz1350] - Oh, Lady Be Good [jazz1350] A with value 0.903854250907898\n",
            "Found Hackensack [jazz1350] - Oh, Lady Be Good [jazz1350] A with value 0.8741744756698608\n",
            "Found Half Nelson [jazz1350] - Lady Bird [jazz1350] A with value 0.9410579204559326\n",
            "Found Hot House [jazz1350] - What Is This Thing Called Love [jazz1350] A with value 1.0\n",
            "Found Hot House [jazz1350] - What Is This Thing Called Love [jazz1350] A with value 1.0\n",
            "Found Hot House [jazz1350] - What Is This Thing Called Love [jazz1350] B with value 0.8819876909255981\n",
            "Found Hot House [jazz1350] - What Is This Thing Called Love [jazz1350] A with value 1.0\n",
            "Found Impressions [jazz1350] - So What [jazz1350] A with value 1.0\n",
            "Found Impressions [jazz1350] - So What [jazz1350] A with value 1.0\n",
            "Found Impressions [jazz1350] - So What [jazz1350] B with value 1.0\n",
            "Found Impressions [jazz1350] - So What [jazz1350] A with value 1.0\n",
            "Found In A Mellow Tone (In A Mellotone) [jazz1350] - Rose Room [jazz1350] A with value 0.9149228930473328\n",
            "Found In A Mellow Tone (In A Mellotone) [jazz1350] - Rose Room [jazz1350] A with value 0.9149228930473328\n",
            "Found In A Mellow Tone (In A Mellotone) [jazz1350] - Rose Room [jazz1350] C with value 0.929845929145813\n",
            "Found In Walked Bud [jazz1350] - Blue Skies [jazz1350] A with value 0.8566290736198425\n",
            "Found In Walked Bud [jazz1350] - Blue Skies [jazz1350] A with value 0.8566290736198425\n",
            "Found Ko Ko [jazz1350] - Cherokee [jazz1350] A with value 1.0000001192092896\n",
            "Found Ko Ko [jazz1350] - Cherokee [jazz1350] A with value 1.0000001192092896\n",
            "Found Ko Ko [jazz1350] - Cherokee [jazz1350] B with value 0.9999997615814209\n",
            "Found Lullaby Of Birdland [jazz1350] - Love Me Or Leave Me [jazz1350] A with value 0.8660855293273926\n",
            "Found Lullaby Of Birdland [jazz1350] - Love Me Or Leave Me [jazz1350] A with value 0.8837709426879883\n",
            "Found Ornithology [jazz1350] - How High The Moon [jazz1350] A with value 0.9999997019767761\n",
            "Found Ornithology [jazz1350] - How High The Moon [jazz1350] B with value 0.8010505437850952\n",
            "Found Ornithology [jazz1350] - How High The Moon [jazz1350] A with value 0.9999997019767761\n",
            "Found Ornithology [jazz1350] - How High The Moon [jazz1350] C with value 1.0000001192092896\n",
            "Found Satellite [jazz1350] - How High The Moon [jazz1350] A with value 0.6564789414405823\n",
            "Found Satellite [jazz1350] - How High The Moon [jazz1350] A with value 0.6564789414405823\n",
            "Found Scrapple From The Apple [jazz1350] - Honeysuckle Rose [jazz1350] A with value 0.9142009019851685\n",
            "Found Scrapple From The Apple [jazz1350] - Honeysuckle Rose [jazz1350] A with value 0.9142009019851685\n",
            "Found Scrapple From The Apple [jazz1350] - I Got Rhythm [jazz1350] B with value 0.9999998211860657\n",
            "Found Tour De Force [jazz1350] - Jeepers Creepers [jazz1350] B with value 0.777583122253418\n",
            "Found Wow [jazz1350] - You Can Depend On Me [jazz1350] A with value 0.819369912147522\n",
            "Found Wow [jazz1350] - You Can Depend On Me [jazz1350] B with value 0.8157234191894531\n",
            "Found Yardbird Suite [jazz1350] - Rosetta [jazz1350] A with value 0.8912767171859741\n",
            "Found Yardbird Suite [jazz1350] - Rosetta [jazz1350] A with value 0.8925273418426514\n",
            "Found Yardbird Suite [jazz1350] - Rosetta [jazz1350] A with value 0.8733583688735962\n",
            "Found Sweet Sue, Just You [jazz1350] - Honeysuckle Rose [jazz1350] A with value 0.9682852625846863\n",
            "Found Sweet Sue, Just You [jazz1350] - Honeysuckle Rose [jazz1350] A with value 0.9682852625846863\n",
            "Found Sweet Sue, Just You [jazz1350] - Honeysuckle Rose [jazz1350] A with value 0.9682852625846863\n",
            "Found These Foolish Things [jazz1350] - More Than You Know [jazz1350] B with value 0.9170424342155457\n",
            "Found These Foolish Things [jazz1350] - Isn't It A Pity [jazz1350] B with value 0.8772668838500977\n",
            "Found These Foolish Things [jazz1350] - Soultrane [jazz1350] B with value 0.7606785297393799\n",
            "Found Misty [jazz1350] - Portrait Of Jennie [jazz1350] A with value 0.887010395526886\n",
            "Found Misty [jazz1350] - Portrait Of Jennie [jazz1350] A with value 0.9079498648643494\n",
            "Found Five Foot Two [trad] - Please Don't Talk About Me When I'm Gone [trad] A with value 0.9999998807907104\n",
            "Found Five Foot Two [trad] - Please Don't Talk About Me When I'm Gone [trad] A with value 1.0\n",
            "Found Five Foot Two [trad] - Please Don't Talk About Me When I'm Gone [trad] B with value 0.9999998211860657\n",
            "Found Five Foot Two [trad] - Please Don't Talk About Me When I'm Gone [trad] A with value 0.9999998807907104\n",
            "Found What Is This Thing Called Love [jazz1350] - Subconscious Lee [jazz1350] A with value 1.0\n",
            "Found What Is This Thing Called Love [jazz1350] - Subconscious Lee [jazz1350] A with value 1.0\n",
            "Found What Is This Thing Called Love [jazz1350] - Subconscious Lee [jazz1350] B with value 0.8819876909255981\n",
            "Found What Is This Thing Called Love [jazz1350] - Subconscious Lee [jazz1350] A with value 1.0\n",
            "Found Sweet Georgia Brown [jazz1350] - Dig [jazz1350] A with value 1.0000001192092896\n",
            "Found Sweet Georgia Brown [jazz1350] - Dig [jazz1350] B with value 0.884676992893219\n",
            "Found Sweet Georgia Brown [jazz1350] - Dig [jazz1350] A with value 1.0000001192092896\n",
            "Found Sweet Georgia Brown [jazz1350] - Dig [jazz1350] C with value 0.9999998807907104\n",
            "Found What Is This Thing Called Love [jazz1350] - Hot House [jazz1350] A with value 1.0\n",
            "Found What Is This Thing Called Love [jazz1350] - Hot House [jazz1350] A with value 1.0\n",
            "Found What Is This Thing Called Love [jazz1350] - Hot House [jazz1350] B with value 0.8819876909255981\n",
            "Found What Is This Thing Called Love [jazz1350] - Hot House [jazz1350] A with value 1.0\n",
            "Found Jeannie's Song [jazz1350] - Shiny Stockings [jazz1350] A with value 0.9999998807907104\n",
            "Found Jeannie's Song [jazz1350] - Shiny Stockings [jazz1350] A with value 0.9999998807907104\n",
            "Found Alone Together [jazz1350] - Segment [jazz1350] B with value 1.0\n",
            "Found Alone Together [jazz1350] - Segment [jazz1350] A with value 0.9858133792877197\n",
            "Found Baubles, Bangles and Beads [jazz1350] - Bossa Antigua [jazz1350] A with value 0.9999998211860657\n",
            "Found Baubles, Bangles and Beads [jazz1350] - Bossa Antigua [jazz1350] C with value 0.9007641077041626\n",
            "Found There Will Never Be Another You [jazz1350] - A Weaver Of Dreams [jazz1350] A with value 1.0\n",
            "Found There Will Never Be Another You [jazz1350] - A Weaver Of Dreams [jazz1350] A with value 1.0\n",
            "Found Moten Swing [jazz1350] - Once In A While (Ballad) [trad] B with value 0.982672929763794\n",
            "Found Nancy (With The Laughing Face) [jazz1350] - Body And Soul [jazz1350] A with value 0.9025788903236389\n",
            "Found Nancy (With The Laughing Face) [jazz1350] - Body And Soul [jazz1350] A with value 0.8827387690544128\n",
            "Found Nancy (With The Laughing Face) [jazz1350] - Body And Soul [jazz1350] A with value 0.8923032879829407\n",
            "Found Exactly Like You [jazz1350] - True (You Don't Love Me ) [trad] A with value 0.9999998211860657\n",
            "Found Exactly Like You [jazz1350] - Jersey Bounce [jazz1350] A with value 0.957351565361023\n",
            "Found Exactly Like You [jazz1350] - Jersey Bounce [jazz1350] A with value 0.957351565361023\n",
            "Found My Heart Stood Still [jazz1350] - All Too Soon [jazz1350] A with value 1.0000001192092896\n",
            "Found My Heart Stood Still [jazz1350] - All Too Soon [jazz1350] A with value 0.9746067523956299\n",
            "Found My Heart Stood Still [jazz1350] - All Too Soon [jazz1350] A with value 1.0\n",
            "Found Undecided [jazz1350] - Broadway [jazz1350] A with value 0.9607894420623779\n",
            "Found Undecided [jazz1350] - Broadway [jazz1350] A with value 0.9237682819366455\n",
            "Found Undecided [jazz1350] - Broadway [jazz1350] A with value 0.9237682819366455\n",
            "Found Let's Fall In Love [jazz1350] - Heart And Soul [jazz1350] A with value 0.9686858654022217\n",
            "Found Let's Fall In Love [jazz1350] - Heart And Soul [jazz1350] A with value 0.9413148760795593\n",
            "Found Let's Fall In Love [jazz1350] - Heart And Soul [jazz1350] A with value 0.9999999403953552\n",
            "Found Come Back To Me [jazz1350] - I Wish I Knew [jazz1350] C with value 1.0\n",
            "Found Wait Till You See Her [jazz1350] - A Certain Smile [jazz1350] A with value 0.9999998807907104\n",
            "Found Killer Joe [jazz1350] - Straight Life [jazz1350] A with value 0.9999999403953552\n",
            "Found Killer Joe [jazz1350] - Straight Life [jazz1350] A with value 0.9999999403953552\n",
            "Found Killer Joe [jazz1350] - Straight Life [jazz1350] A with value 0.9999999403953552\n",
            "Found Softly, As In A Morning Sunrise [jazz1350] - Segment [jazz1350] A with value 0.9999999403953552\n",
            "Found Softly, As In A Morning Sunrise [jazz1350] - Segment [jazz1350] A with value 0.9557989835739136\n",
            "Found Softly, As In A Morning Sunrise [jazz1350] - Segment [jazz1350] A with value 0.9999999403953552\n",
            "Found Bei Mir Bist Du Schon (Root Hog Or Die) [trad] - Egyptian Fantasy [trad] A with value 0.943231463432312\n",
            "Found Bei Mir Bist Du Schon (Root Hog Or Die) [trad] - Egyptian Fantasy [trad] A with value 0.9075579047203064\n",
            "Found Bei Mir Bist Du Schon (Root Hog Or Die) [trad] - Egyptian Fantasy [trad] A with value 1.000000238418579\n",
            "Found Bei Mir Bist Du Schon (Root Hog Or Die) [trad] - Puttin' On The Ritz [jazz1350] A with value 0.9332336187362671\n",
            "Found Bei Mir Bist Du Schon (Root Hog Or Die) [trad] - Puttin' On The Ritz [jazz1350] A with value 0.9186510443687439\n",
            "Found Softly, As In A Morning Sunrise [jazz1350] - Strode Rode [jazz1350] A with value 0.9881250262260437\n",
            "Found Softly, As In A Morning Sunrise [jazz1350] - Strode Rode [jazz1350] A with value 0.9670257568359375\n",
            "Found Softly, As In A Morning Sunrise [jazz1350] - Strode Rode [jazz1350] A with value 0.9881250262260437\n",
            "Found Glory Of Love, The [jazz1350] - I've Got My Fingers Crossed [trad] A with value 0.9762639403343201\n",
            "Found Glory Of Love, The [jazz1350] - I've Got My Fingers Crossed [trad] A with value 0.9720309376716614\n",
            "Found Glory Of Love, The [jazz1350] - I've Got My Fingers Crossed [trad] A with value 0.9615253806114197\n",
            "Found Charleston, The [jazz1350] - As Long As I Live [trad] A with value 1.0\n",
            "Found Charleston, The [jazz1350] - As Long As I Live [trad] A with value 1.0\n",
            "Found Fine And Dandy [jazz1350] - I Can't Give You Anything But Love [jazz1350] A with value 0.9999999403953552\n",
            "Found Fine And Dandy [jazz1350] - I Can't Give You Anything But Love [jazz1350] A with value 0.9999999403953552\n",
            "Found Fine And Dandy [jazz1350] - I Can't Give You Anything But Love [jazz1350] B with value 0.8544796109199524\n",
            "Found I'll Close My Eyes [jazz1350] - Bluesette [jazz1350] A with value 1.0000001192092896\n",
            "Found I'll Close My Eyes [jazz1350] - Bluesette [jazz1350] A with value 1.0000001192092896\n",
            "Found If I Had You [jazz1350] - Too Young To Go Steady [jazz1350] B with value 0.9996612071990967\n",
            "Found Undecided [jazz1350] - Satin Doll [jazz1350] B with value 1.0\n",
            "Found Billy Boy [jazz1350] - Elora [jazz1350] B with value 0.9999999403953552\n",
            "Found Dearly Beloved [jazz1350] - We See [jazz1350] B with value 1.000000238418579\n",
            "Found Dearly Beloved [jazz1350] - We See [jazz1350] B with value 1.000000238418579\n",
            "Found Alone Together [jazz1350] - A Night In Tunisia [jazz1350] B with value 1.0\n",
            "Found A Night In Tunisia [jazz1350] - Segment [jazz1350] B with value 1.0\n",
            "Found Oh! Lady Be Good [trad] - Sentimental Journey [jazz1350] B with value 1.0000001192092896\n",
            "Found You Can Depend On Me [jazz1350] - Move [jazz1350] B with value 0.9999998807907104\n",
            "Found I Want To Be Happy [jazz1350] - A Beautiful Friendship [jazz1350] B with value 1.000000238418579\n",
            "Found Flying Home [jazz1350] - Down For Double [jazz1350] B with value 1.000000238418579\n",
            "Found Cheek To Cheek [jazz1350] - Violets For Your Furs [jazz1350] B with value 0.9763396382331848\n",
            "Found Let's Fall In Love [jazz1350] - At Last [jazz1350] A with value 0.9523711204528809\n",
            "Found Let's Fall In Love [jazz1350] - At Last [jazz1350] A with value 0.9105166792869568\n",
            "Found Let's Fall In Love [jazz1350] - At Last [jazz1350] B with value 0.8421059846878052\n",
            "Found Let's Fall In Love [jazz1350] - At Last [jazz1350] A with value 0.9823092222213745\n",
            "Found Don't Be That Way [jazz1350] - Long Ago And Far Away [jazz1350] A with value 0.9740506410598755\n",
            "Found Don't Be That Way [jazz1350] - Long Ago And Far Away [jazz1350] A with value 0.9659066796302795\n",
            "Found Don't Be That Way [jazz1350] - Long Ago And Far Away [jazz1350] A with value 0.965656042098999\n",
            "Found On The Sunny Side Of The Street [jazz1350] - I'm Confessin' That I Love You [jazz1350] B with value 1.0000003576278687\n",
            "Found On The Sunny Side Of The Street [jazz1350] - Eclypso [jazz1350] B with value 0.943000078201294\n",
            "Found On The Sunny Side Of The Street [jazz1350] - You Stepped Out Of A Dream [jazz1350] B with value 0.9137133359909058\n",
            "Found Satin Doll [jazz1350] - Undecided [jazz1350] B with value 1.0\n",
            "Found I Like The Likes Of You [jazz1350] - Mountain Greenery [jazz1350] A with value 0.9657244086265564\n",
            "Found I Like The Likes Of You [jazz1350] - Mountain Greenery [jazz1350] A with value 0.9707754254341125\n",
            "Found I Like The Likes Of You [jazz1350] - Mountain Greenery [jazz1350] A with value 0.9657244086265564\n",
            "Found My Secret Love [jazz1350] - Samba De Orfeu [jazz1350] A with value 0.9709022045135498\n",
            "Found My Secret Love [jazz1350] - Samba De Orfeu [jazz1350] A with value 0.973242998123169\n",
            "Found Let's Call The Whole Thing Off [jazz1350] - Fine And Dandy [jazz1350] A with value 0.8606216311454773\n",
            "Found Let's Call The Whole Thing Off [jazz1350] - Fine And Dandy [jazz1350] A with value 0.9378456473350525\n",
            "Found Let's Call The Whole Thing Off [jazz1350] - Fine And Dandy [jazz1350] A with value 0.9117584228515625\n",
            "Found Folks Who Live On The Hill, The [jazz1350] - My One And Only Love [jazz1350] B with value 0.881706178188324\n",
            "Found I May Be Wrong [jazz1350] - Teach Me Tonight [jazz1350] B with value 0.9610410928726196\n",
            "Found Am I Blue [jazz1350] - Come Back To Me [jazz1350] A with value 0.8852007389068604\n",
            "Found Am I Blue [jazz1350] - Come Back To Me [jazz1350] B with value 0.9793392419815063\n",
            "Found My One And Only Love [jazz1350] - Am I Blue [jazz1350] B with value 0.9622734785079956\n",
            "Found On The Sunny Side Of The Street [jazz1350] - September In The Rain [jazz1350] B with value 0.9241445660591125\n",
            "Found On The Sunny Side Of The Street [jazz1350] - Mountain Greenery [jazz1350] B with value 0.8984401822090149\n",
            "Found On The Sunny Side Of The Street [jazz1350] - There's No You [jazz1350] B with value 0.9301751852035522\n",
            "Found These Foolish Things [jazz1350] - Embraceable You [jazz1350] B with value 0.8070747256278992\n",
            "Found These Foolish Things [jazz1350] - Rosetta [jazz1350] B with value 0.8950533270835876\n",
            "Found Bill Bailey [jazz1350] - Bourbon Street Parade [jazz1350] C with value 1.0\n",
            "Found Woody'n You [jazz1350] - Stella By Starlight [jazz1350] C with value 1.000000238418579\n",
            "Found Woody'n You [jazz1350] - Stella By Starlight [jazz1350] C with value 1.000000238418579\n",
            "Found Woody'n You [jazz1350] - Stella By Starlight [jazz1350] C with value 1.000000238418579\n",
            "Found Tangerine [jazz1350] - Tea For Two [jazz1350] A with value 0.9574062824249268\n",
            "Found Tangerine [jazz1350] - Tea For Two [jazz1350] A with value 0.9488604068756104\n",
            "Found I Can't Give You Anything But Love [jazz1350] - You Can Depend On Me [jazz1350] B with value 0.926960825920105\n",
            "Found A Blossom Fell [jazz1350] - Among My Souvenirs [jazz1350] A with value 0.9657240509986877\n",
            "Found A Blossom Fell [jazz1350] - Among My Souvenirs [jazz1350] A with value 0.9205963611602783\n",
            "Found matches: 92 out of 115: 80.000%\n",
            "\n"
          ]
        }
      ]
    },
    {
      "cell_type": "code",
      "source": [
        "results"
      ],
      "metadata": {
        "colab": {
          "base_uri": "https://localhost:8080/"
        },
        "id": "Vyk8bhN0lBdX",
        "outputId": "0f989666-64de-4c29-b913-32dd923d7d3c"
      },
      "execution_count": 74,
      "outputs": [
        {
          "output_type": "execute_result",
          "data": {
            "text/plain": [
              "{'26-2 [jazz1350], Confirmation [jazz1350]': {'found': 1,\n",
              "  'rank': 1,\n",
              "  'score': 0.85770917},\n",
              " '52nd Street Theme [jazz1350], I Got Rhythm [jazz1350]': {'found': 0,\n",
              "  'rank': 0,\n",
              "  'score': 0.8963469},\n",
              " 'A Blossom Fell [jazz1350], Among My Souvenirs [jazz1350]': {'found': 1,\n",
              "  'rank': 1,\n",
              "  'score': 0.96572405},\n",
              " 'A Night In Tunisia [jazz1350], Segment [jazz1350]': {'found': 1,\n",
              "  'rank': 2,\n",
              "  'score': 1.0},\n",
              " 'Ablution [jazz1350], All The Things You Are [jazz1350]': {'found': 1,\n",
              "  'rank': 1,\n",
              "  'score': 0.9208324},\n",
              " 'All I Do Is Dream Of You [trad], L-O-V-E [jazz1350]': {'found': 0,\n",
              "  'rank': 0,\n",
              "  'score': 0.8457552},\n",
              " 'Alone Together [jazz1350], A Night In Tunisia [jazz1350]': {'found': 1,\n",
              "  'rank': 0,\n",
              "  'score': 1.0},\n",
              " 'Alone Together [jazz1350], Segment [jazz1350]': {'found': 1,\n",
              "  'rank': 2,\n",
              "  'score': 1.0},\n",
              " 'Am I Blue [jazz1350], Come Back To Me [jazz1350]': {'found': 1,\n",
              "  'rank': 1,\n",
              "  'score': 0.97933924},\n",
              " 'Anthropology [jazz1350], I Got Rhythm [jazz1350]': {'found': 1,\n",
              "  'rank': 5,\n",
              "  'score': 0.9999998},\n",
              " \"As Long As I Live [trad], I'm Glad There Is You [jazz1350]\": {'found': 0,\n",
              "  'rank': 0,\n",
              "  'score': 0.5045365},\n",
              " 'Baubles, Bangles and Beads [jazz1350], Bossa Antigua [jazz1350]': {'found': 1,\n",
              "  'rank': 1,\n",
              "  'score': 0.9999998},\n",
              " 'Bei Mir Bist Du Schon (Root Hog Or Die) [trad], Egyptian Fantasy [trad]': {'found': 1,\n",
              "  'rank': 4,\n",
              "  'score': 1.0000002},\n",
              " \"Bei Mir Bist Du Schon (Root Hog Or Die) [trad], Puttin' On The Ritz [jazz1350]\": {'found': 1,\n",
              "  'rank': 22,\n",
              "  'score': 0.9332336},\n",
              " 'Bill Bailey [jazz1350], Bourbon Street Parade [jazz1350]': {'found': 1,\n",
              "  'rank': 1,\n",
              "  'score': 1.0},\n",
              " 'Billy Boy [jazz1350], Elora [jazz1350]': {'found': 1,\n",
              "  'rank': 1,\n",
              "  'score': 0.99999994},\n",
              " 'Bright Mississippi [jazz1350], Sweet Georgia Brown [jazz1350]': {'found': 0,\n",
              "  'rank': 0,\n",
              "  'score': 0.71094704},\n",
              " 'C.T.A. [jazz1350], I Got Rhythm [jazz1350]': {'found': 1,\n",
              "  'rank': 5,\n",
              "  'score': 0.9999998},\n",
              " 'Charleston, The [jazz1350], As Long As I Live [trad]': {'found': 1,\n",
              "  'rank': 2,\n",
              "  'score': 1.0},\n",
              " 'Cheek To Cheek [jazz1350], Violets For Your Furs [jazz1350]': {'found': 1,\n",
              "  'rank': 3,\n",
              "  'score': 0.97633964},\n",
              " 'Come Back To Me [jazz1350], I Wish I Knew [jazz1350]': {'found': 1,\n",
              "  'rank': 1,\n",
              "  'score': 1.0},\n",
              " \"Coquette [trad], Pretend You're Happy When You're Blue [trad]\": {'found': 0,\n",
              "  'rank': 0,\n",
              "  'score': 0.9485868},\n",
              " 'Cottontail [jazz1350], I Got Rhythm [jazz1350]': {'found': 1,\n",
              "  'rank': 5,\n",
              "  'score': 0.9999998},\n",
              " 'Countdown [jazz1350], Tune Up [jazz1350]': {'found': 1,\n",
              "  'rank': 2,\n",
              "  'score': 0.82429874},\n",
              " 'Dearly Beloved [jazz1350], We See [jazz1350]': {'found': 1,\n",
              "  'rank': 2,\n",
              "  'score': 1.0000002},\n",
              " 'Dewey Square [jazz1350], Oh, Lady Be Good [jazz1350]': {'found': 0,\n",
              "  'rank': 0,\n",
              "  'score': 0.7079464},\n",
              " 'Dexterity [jazz1350], I Got Rhythm [jazz1350]': {'found': 1,\n",
              "  'rank': 5,\n",
              "  'score': 0.9999998},\n",
              " 'Dig [jazz1350], Sweet Georgia Brown [jazz1350]': {'found': 1,\n",
              "  'rank': 1,\n",
              "  'score': 1.0000001},\n",
              " \"Don't Be That Way [jazz1350], I Got Rhythm [jazz1350]\": {'found': 0,\n",
              "  'rank': 0,\n",
              "  'score': 0.9078906},\n",
              " \"Don't Be That Way [jazz1350], Long Ago And Far Away [jazz1350]\": {'found': 1,\n",
              "  'rank': 4,\n",
              "  'score': 0.97405064},\n",
              " 'Donna Lee [jazz1350], Indiana (Back Home Again In) [jazz1350]': {'found': 1,\n",
              "  'rank': 2,\n",
              "  'score': 0.95602906},\n",
              " 'Evidence [jazz1350], Just You, Just Me [jazz1350]': {'found': 1,\n",
              "  'rank': 1,\n",
              "  'score': 0.8054627},\n",
              " 'Exactly Like You [jazz1350], Jersey Bounce [jazz1350]': {'found': 1,\n",
              "  'rank': 8,\n",
              "  'score': 0.95735157},\n",
              " \"Exactly Like You [jazz1350], True (You Don't Love Me ) [trad]\": {'found': 1,\n",
              "  'rank': 6,\n",
              "  'score': 0.9999998},\n",
              " \"Fine And Dandy [jazz1350], I Can't Give You Anything But Love [jazz1350]\": {'found': 1,\n",
              "  'rank': 2,\n",
              "  'score': 0.99999994},\n",
              " \"Five Foot Two [trad], Please Don't Talk About Me When I'm Gone [trad]\": {'found': 1,\n",
              "  'rank': 2,\n",
              "  'score': 1.0},\n",
              " 'Flintstones [jazz1350], I Got Rhythm [jazz1350]': {'found': 1,\n",
              "  'rank': 5,\n",
              "  'score': 0.9999998},\n",
              " 'Flying Home [jazz1350], Down For Double [jazz1350]': {'found': 1,\n",
              "  'rank': 0,\n",
              "  'score': 1.0000002},\n",
              " 'Folks Who Live On The Hill, The [jazz1350], My One And Only Love [jazz1350]': {'found': 1,\n",
              "  'rank': 3,\n",
              "  'score': 0.8817062},\n",
              " 'Four On Six [jazz1350], Summertime [jazz1350]': {'found': 0,\n",
              "  'rank': 0,\n",
              "  'score': 0.77502},\n",
              " 'Freight Train [jazz1350], Blues For Alice [jazz1350]': {'found': 1,\n",
              "  'rank': 12,\n",
              "  'score': 0.8485412},\n",
              " \"Glory Of Love, The [jazz1350], I've Got My Fingers Crossed [trad]\": {'found': 1,\n",
              "  'rank': 2,\n",
              "  'score': 0.97626394},\n",
              " 'Good Bait [jazz1350], I Got Rhythm [jazz1350]': {'found': 0,\n",
              "  'rank': 0,\n",
              "  'score': 0.8909213},\n",
              " 'Hackensack [jazz1350], Oh, Lady Be Good [jazz1350]': {'found': 1,\n",
              "  'rank': 10,\n",
              "  'score': 0.90385425},\n",
              " 'Half Nelson [jazz1350], Lady Bird [jazz1350]': {'found': 1,\n",
              "  'rank': 1,\n",
              "  'score': 0.9410579},\n",
              " 'Hot House [jazz1350], What Is This Thing Called Love [jazz1350]': {'found': 1,\n",
              "  'rank': 6,\n",
              "  'score': 1.0},\n",
              " \"I Can't Give You Anything But Love [jazz1350], You Can Depend On Me [jazz1350]\": {'found': 1,\n",
              "  'rank': 3,\n",
              "  'score': 0.9269608},\n",
              " 'I Like The Likes Of You [jazz1350], Mountain Greenery [jazz1350]': {'found': 1,\n",
              "  'rank': 3,\n",
              "  'score': 0.9707754},\n",
              " 'I May Be Wrong [jazz1350], Teach Me Tonight [jazz1350]': {'found': 1,\n",
              "  'rank': 1,\n",
              "  'score': 0.9610411},\n",
              " 'I Want To Be Happy [jazz1350], A Beautiful Friendship [jazz1350]': {'found': 1,\n",
              "  'rank': 0,\n",
              "  'score': 1.0000002},\n",
              " \"I'll Close My Eyes [jazz1350], Bluesette [jazz1350]\": {'found': 1,\n",
              "  'rank': 0,\n",
              "  'score': 1.0000001},\n",
              " \"I'll Close My Eyes [jazz1350], There Will Never Be Another You [jazz1350]\": {'found': 0,\n",
              "  'rank': 0,\n",
              "  'score': 0.5691026},\n",
              " 'If I Had You [jazz1350], Too Young To Go Steady [jazz1350]': {'found': 1,\n",
              "  'rank': 1,\n",
              "  'score': 0.9996612},\n",
              " 'Impressions [jazz1350], So What [jazz1350]': {'found': 1,\n",
              "  'rank': 22,\n",
              "  'score': 1.0},\n",
              " 'In A Mellow Tone (In A Mellotone) [jazz1350], Rose Room [jazz1350]': {'found': 1,\n",
              "  'rank': 12,\n",
              "  'score': 0.9298459},\n",
              " 'In Walked Bud [jazz1350], Blue Skies [jazz1350]': {'found': 1,\n",
              "  'rank': 29,\n",
              "  'score': 0.8566291},\n",
              " \"Jeannie's Song [jazz1350], Shiny Stockings [jazz1350]\": {'found': 1,\n",
              "  'rank': 2,\n",
              "  'score': 0.9999999},\n",
              " 'Killer Joe [jazz1350], Straight Life [jazz1350]': {'found': 1,\n",
              "  'rank': 3,\n",
              "  'score': 0.99999994},\n",
              " 'Ko Ko [jazz1350], Cherokee [jazz1350]': {'found': 1,\n",
              "  'rank': 0,\n",
              "  'score': 1.0000001},\n",
              " \"Lennie's Pennies [jazz1350], Pennies From Heaven [jazz1350]\": {'found': 0,\n",
              "  'rank': 0,\n",
              "  'score': 0.19878106},\n",
              " \"Let's Call The Whole Thing Off [jazz1350], Fine And Dandy [jazz1350]\": {'found': 1,\n",
              "  'rank': 9,\n",
              "  'score': 0.93784565},\n",
              " \"Let's Fall In Love [jazz1350], At Last [jazz1350]\": {'found': 1,\n",
              "  'rank': 4,\n",
              "  'score': 0.9823092},\n",
              " \"Let's Fall In Love [jazz1350], Heart And Soul [jazz1350]\": {'found': 1,\n",
              "  'rank': 0,\n",
              "  'score': 0.99999994},\n",
              " 'Little Rootie Tootie [jazz1350], I Got Rhythm [jazz1350]': {'found': 0,\n",
              "  'rank': 0,\n",
              "  'score': 0.7772887},\n",
              " \"Little Willie Leaps [jazz1350], All God's Chillun Got Rhythm [jazz1350]\": {'found': 0,\n",
              "  'rank': 0,\n",
              "  'score': 0.89242923},\n",
              " 'Lullaby Of Birdland [jazz1350], Love Me Or Leave Me [jazz1350]': {'found': 1,\n",
              "  'rank': 13,\n",
              "  'score': 0.88377094},\n",
              " 'Misty [jazz1350], I May Be Wrong [jazz1350]': {'found': 0,\n",
              "  'rank': 0,\n",
              "  'score': 0.8089951},\n",
              " 'Misty [jazz1350], Portrait Of Jennie [jazz1350]': {'found': 1,\n",
              "  'rank': 22,\n",
              "  'score': 0.90794986},\n",
              " 'Misty [jazz1350], September In The Rain [jazz1350]': {'found': 0,\n",
              "  'rank': 0,\n",
              "  'score': 0.8688874},\n",
              " 'Moten Swing [jazz1350], Once In A While (Ballad) [trad]': {'found': 1,\n",
              "  'rank': 1,\n",
              "  'score': 0.9826729},\n",
              " 'My Heart Stood Still [jazz1350], All Too Soon [jazz1350]': {'found': 1,\n",
              "  'rank': 0,\n",
              "  'score': 1.0000001},\n",
              " 'My Little Suede Shoes [jazz1350], Jeepers Creepers [jazz1350]': {'found': 0,\n",
              "  'rank': 0,\n",
              "  'score': 0.91915303},\n",
              " 'My One And Only Love [jazz1350], Am I Blue [jazz1350]': {'found': 1,\n",
              "  'rank': 1,\n",
              "  'score': 0.9622735},\n",
              " 'My Secret Love [jazz1350], Samba De Orfeu [jazz1350]': {'found': 1,\n",
              "  'rank': 13,\n",
              "  'score': 0.973243},\n",
              " 'Nancy (With The Laughing Face) [jazz1350], Body And Soul [jazz1350]': {'found': 1,\n",
              "  'rank': 3,\n",
              "  'score': 0.9025789},\n",
              " 'Oh! Lady Be Good [trad], Sentimental Journey [jazz1350]': {'found': 1,\n",
              "  'rank': 0,\n",
              "  'score': 1.0000001},\n",
              " 'On The Sunny Side Of The Street [jazz1350], Eclypso [jazz1350]': {'found': 1,\n",
              "  'rank': 4,\n",
              "  'score': 0.9430001},\n",
              " \"On The Sunny Side Of The Street [jazz1350], I'm Confessin' That I Love You [jazz1350]\": {'found': 1,\n",
              "  'rank': 0,\n",
              "  'score': 1.0000004},\n",
              " 'On The Sunny Side Of The Street [jazz1350], Mountain Greenery [jazz1350]': {'found': 1,\n",
              "  'rank': 10,\n",
              "  'score': 0.8984402},\n",
              " 'On The Sunny Side Of The Street [jazz1350], September In The Rain [jazz1350]': {'found': 1,\n",
              "  'rank': 7,\n",
              "  'score': 0.92414457},\n",
              " \"On The Sunny Side Of The Street [jazz1350], There's No You [jazz1350]\": {'found': 1,\n",
              "  'rank': 5,\n",
              "  'score': 0.9301752},\n",
              " 'On The Sunny Side Of The Street [jazz1350], You Stepped Out Of A Dream [jazz1350]': {'found': 1,\n",
              "  'rank': 8,\n",
              "  'score': 0.91371334},\n",
              " 'Ornithology [jazz1350], How High The Moon [jazz1350]': {'found': 1,\n",
              "  'rank': 0,\n",
              "  'score': 1.0000001},\n",
              " 'Quasimodo (Theme) [jazz1350], Embraceable You [jazz1350]': {'found': 0,\n",
              "  'rank': 0,\n",
              "  'score': 0.73344046},\n",
              " 'Room 608 [jazz1350], I Got Rhythm [jazz1350]': {'found': 0,\n",
              "  'rank': 0,\n",
              "  'score': 0.60990405},\n",
              " 'Satellite [jazz1350], How High The Moon [jazz1350]': {'found': 1,\n",
              "  'rank': 5,\n",
              "  'score': 0.65647894},\n",
              " 'Satin Doll [jazz1350], Undecided [jazz1350]': {'found': 1,\n",
              "  'rank': 1,\n",
              "  'score': 1.0},\n",
              " 'Scrapple From The Apple [jazz1350], Honeysuckle Rose [jazz1350]': {'found': 1,\n",
              "  'rank': 16,\n",
              "  'score': 0.9142009},\n",
              " 'Scrapple From The Apple [jazz1350], I Got Rhythm [jazz1350]': {'found': 1,\n",
              "  'rank': 5,\n",
              "  'score': 0.9999998},\n",
              " 'Softly, As In A Morning Sunrise [jazz1350], Segment [jazz1350]': {'found': 1,\n",
              "  'rank': 0,\n",
              "  'score': 0.99999994},\n",
              " 'Softly, As In A Morning Sunrise [jazz1350], Strode Rode [jazz1350]': {'found': 1,\n",
              "  'rank': 9,\n",
              "  'score': 0.988125},\n",
              " 'Sweet Georgia Brown [jazz1350], Dig [jazz1350]': {'found': 1,\n",
              "  'rank': 0,\n",
              "  'score': 1.0000001},\n",
              " 'Sweet Sue, Just You [jazz1350], Bye Bye Blackbird [jazz1350]': {'found': 0,\n",
              "  'rank': 0,\n",
              "  'score': 0.9509054},\n",
              " 'Sweet Sue, Just You [jazz1350], Honeysuckle Rose [jazz1350]': {'found': 1,\n",
              "  'rank': 21,\n",
              "  'score': 0.96828526},\n",
              " 'Take The A Train [jazz1350], Girl From Ipanema, The [jazz1350]': {'found': 0,\n",
              "  'rank': 0,\n",
              "  'score': 0.7177982},\n",
              " 'Tangerine [jazz1350], Tea For Two [jazz1350]': {'found': 1,\n",
              "  'rank': 6,\n",
              "  'score': 0.9574063},\n",
              " 'There Will Never Be Another You [jazz1350], A Weaver Of Dreams [jazz1350]': {'found': 1,\n",
              "  'rank': 0,\n",
              "  'score': 1.0},\n",
              " 'These Foolish Things [jazz1350], Blue Moon [jazz1350]': {'found': 0,\n",
              "  'rank': 0,\n",
              "  'score': 0.8949733},\n",
              " 'These Foolish Things [jazz1350], Embraceable You [jazz1350]': {'found': 1,\n",
              "  'rank': 9,\n",
              "  'score': 0.8070747},\n",
              " \"These Foolish Things [jazz1350], Isn't It A Pity [jazz1350]\": {'found': 1,\n",
              "  'rank': 4,\n",
              "  'score': 0.8772669},\n",
              " 'These Foolish Things [jazz1350], More Than You Know [jazz1350]': {'found': 1,\n",
              "  'rank': 1,\n",
              "  'score': 0.91704243},\n",
              " 'These Foolish Things [jazz1350], Rosetta [jazz1350]': {'found': 1,\n",
              "  'rank': 2,\n",
              "  'score': 0.8950533},\n",
              " 'These Foolish Things [jazz1350], Soultrane [jazz1350]': {'found': 1,\n",
              "  'rank': 21,\n",
              "  'score': 0.7606785},\n",
              " 'These Foolish Things [jazz1350], Why Do I Love You [jazz1350]': {'found': 0,\n",
              "  'rank': 0,\n",
              "  'score': 0.9067893},\n",
              " \"This Year's Kisses [jazz1350], My Monday Date [trad]\": {'found': 0,\n",
              "  'rank': 0,\n",
              "  'score': 0.6533399},\n",
              " 'Tour De Force [jazz1350], Jeepers Creepers [jazz1350]': {'found': 1,\n",
              "  'rank': 16,\n",
              "  'score': 0.7775831},\n",
              " 'Undecided [jazz1350], Broadway [jazz1350]': {'found': 1,\n",
              "  'rank': 2,\n",
              "  'score': 0.96078944},\n",
              " 'Undecided [jazz1350], Satin Doll [jazz1350]': {'found': 1,\n",
              "  'rank': 0,\n",
              "  'score': 1.0},\n",
              " 'Wait Till You See Her [jazz1350], A Certain Smile [jazz1350]': {'found': 1,\n",
              "  'rank': 0,\n",
              "  'score': 0.9999999},\n",
              " 'What Is This Thing Called Love [jazz1350], Hot House [jazz1350]': {'found': 1,\n",
              "  'rank': 0,\n",
              "  'score': 1.0},\n",
              " 'What Is This Thing Called Love [jazz1350], Subconscious Lee [jazz1350]': {'found': 1,\n",
              "  'rank': 3,\n",
              "  'score': 1.0},\n",
              " \"Woody'n You [jazz1350], Stella By Starlight [jazz1350]\": {'found': 1,\n",
              "  'rank': 0,\n",
              "  'score': 1.0000002},\n",
              " 'Wow [jazz1350], You Can Depend On Me [jazz1350]': {'found': 1,\n",
              "  'rank': 14,\n",
              "  'score': 0.8193699},\n",
              " 'Yardbird Suite [jazz1350], Rosetta [jazz1350]': {'found': 1,\n",
              "  'rank': 1,\n",
              "  'score': 0.89252734},\n",
              " 'You Can Depend On Me [jazz1350], Move [jazz1350]': {'found': 1,\n",
              "  'rank': 0,\n",
              "  'score': 0.9999999}}"
            ]
          },
          "metadata": {},
          "execution_count": 74
        }
      ]
    },
    {
      "cell_type": "code",
      "source": [
        "df_sim = pd.DataFrame.from_dict(results, orient='index')\n",
        "df_sim = df_sim.reset_index()\n",
        "df_sim.sort_values('index')\n",
        "print(df_sim)"
      ],
      "metadata": {
        "colab": {
          "base_uri": "https://localhost:8080/"
        },
        "id": "3TThAb70rqtu",
        "outputId": "47722c46-eacd-48ed-ec63-5335910c3fff"
      },
      "execution_count": 75,
      "outputs": [
        {
          "output_type": "stream",
          "name": "stdout",
          "text": [
            "                                                 index  found     score  rank\n",
            "0             26-2 [jazz1350], Confirmation [jazz1350]      1  0.857709     1\n",
            "1    52nd Street Theme [jazz1350], I Got Rhythm [ja...      0  0.896347     0\n",
            "2    Ablution [jazz1350], All The Things You Are [j...      1  0.920832     1\n",
            "3     Anthropology [jazz1350], I Got Rhythm [jazz1350]      1  1.000000     5\n",
            "4    Bright Mississippi [jazz1350], Sweet Georgia B...      0  0.710947     0\n",
            "5           C.T.A. [jazz1350], I Got Rhythm [jazz1350]      1  1.000000     5\n",
            "6       Cottontail [jazz1350], I Got Rhythm [jazz1350]      1  1.000000     5\n",
            "7             Countdown [jazz1350], Tune Up [jazz1350]      1  0.824299     2\n",
            "8    Dewey Square [jazz1350], Oh, Lady Be Good [jaz...      0  0.707946     0\n",
            "9        Dexterity [jazz1350], I Got Rhythm [jazz1350]      1  1.000000     5\n",
            "10      Dig [jazz1350], Sweet Georgia Brown [jazz1350]      1  1.000000     1\n",
            "11   Donna Lee [jazz1350], Indiana (Back Home Again...      1  0.956029     2\n",
            "12   Don't Be That Way [jazz1350], I Got Rhythm [ja...      0  0.907891     0\n",
            "13   Evidence [jazz1350], Just You, Just Me [jazz1350]      1  0.805463     1\n",
            "14     Flintstones [jazz1350], I Got Rhythm [jazz1350]      1  1.000000     5\n",
            "15       Four On Six [jazz1350], Summertime [jazz1350]      0  0.775020     0\n",
            "16   Freight Train [jazz1350], Blues For Alice [jaz...      1  0.848541    12\n",
            "17       Good Bait [jazz1350], I Got Rhythm [jazz1350]      0  0.890921     0\n",
            "18   Hackensack [jazz1350], Oh, Lady Be Good [jazz1...      1  0.903854    10\n",
            "19        Half Nelson [jazz1350], Lady Bird [jazz1350]      1  0.941058     1\n",
            "20   Hot House [jazz1350], What Is This Thing Calle...      1  1.000000     6\n",
            "21          Impressions [jazz1350], So What [jazz1350]      1  1.000000    22\n",
            "22   In A Mellow Tone (In A Mellotone) [jazz1350], ...      1  0.929846    12\n",
            "23     In Walked Bud [jazz1350], Blue Skies [jazz1350]      1  0.856629    29\n",
            "24               Ko Ko [jazz1350], Cherokee [jazz1350]      1  1.000000     0\n",
            "25   Lennie's Pennies [jazz1350], Pennies From Heav...      0  0.198781     0\n",
            "26   Little Rootie Tootie [jazz1350], I Got Rhythm ...      0  0.777289     0\n",
            "27   Little Willie Leaps [jazz1350], All God's Chil...      0  0.892429     0\n",
            "28   Lullaby Of Birdland [jazz1350], Love Me Or Lea...      1  0.883771    13\n",
            "29   My Little Suede Shoes [jazz1350], Jeepers Cree...      0  0.919153     0\n",
            "30   Ornithology [jazz1350], How High The Moon [jaz...      1  1.000000     0\n",
            "31   Quasimodo (Theme) [jazz1350], Embraceable You ...      0  0.733440     0\n",
            "32        Room 608 [jazz1350], I Got Rhythm [jazz1350]      0  0.609904     0\n",
            "33   Satellite [jazz1350], How High The Moon [jazz1...      1  0.656479     5\n",
            "34   Scrapple From The Apple [jazz1350], Honeysuckl...      1  0.914201    16\n",
            "35   Scrapple From The Apple [jazz1350], I Got Rhyt...      1  1.000000     5\n",
            "36   Tour De Force [jazz1350], Jeepers Creepers [ja...      1  0.777583    16\n",
            "37     Wow [jazz1350], You Can Depend On Me [jazz1350]      1  0.819370    14\n",
            "38       Yardbird Suite [jazz1350], Rosetta [jazz1350]      1  0.892527     1\n",
            "39   Sweet Sue, Just You [jazz1350], Honeysuckle Ro...      1  0.968285    21\n",
            "40   Sweet Sue, Just You [jazz1350], Bye Bye Blackb...      0  0.950905     0\n",
            "41   These Foolish Things [jazz1350], Blue Moon [ja...      0  0.894973     0\n",
            "42   These Foolish Things [jazz1350], More Than You...      1  0.917042     1\n",
            "43   These Foolish Things [jazz1350], Isn't It A Pi...      1  0.877267     4\n",
            "44   These Foolish Things [jazz1350], Soultrane [ja...      1  0.760679    21\n",
            "45   These Foolish Things [jazz1350], Why Do I Love...      0  0.906789     0\n",
            "46     Misty [jazz1350], Portrait Of Jennie [jazz1350]      1  0.907950    22\n",
            "47   Misty [jazz1350], September In The Rain [jazz1...      0  0.868887     0\n",
            "48         Misty [jazz1350], I May Be Wrong [jazz1350]      0  0.808995     0\n",
            "49   Five Foot Two [trad], Please Don't Talk About ...      1  1.000000     2\n",
            "50   What Is This Thing Called Love [jazz1350], Sub...      1  1.000000     3\n",
            "51      Sweet Georgia Brown [jazz1350], Dig [jazz1350]      1  1.000000     0\n",
            "52   What Is This Thing Called Love [jazz1350], Hot...      1  1.000000     0\n",
            "53   Jeannie's Song [jazz1350], Shiny Stockings [ja...      1  1.000000     2\n",
            "54       Alone Together [jazz1350], Segment [jazz1350]      1  1.000000     2\n",
            "55   Baubles, Bangles and Beads [jazz1350], Bossa A...      1  1.000000     1\n",
            "56   There Will Never Be Another You [jazz1350], A ...      1  1.000000     0\n",
            "57   Moten Swing [jazz1350], Once In A While (Balla...      1  0.982673     1\n",
            "58   All I Do Is Dream Of You [trad], L-O-V-E [jazz...      0  0.845755     0\n",
            "59   Nancy (With The Laughing Face) [jazz1350], Bod...      1  0.902579     3\n",
            "60   Exactly Like You [jazz1350], True (You Don't L...      1  1.000000     6\n",
            "61   Exactly Like You [jazz1350], Jersey Bounce [ja...      1  0.957352     8\n",
            "62   Take The A Train [jazz1350], Girl From Ipanema...      0  0.717798     0\n",
            "63   My Heart Stood Still [jazz1350], All Too Soon ...      1  1.000000     0\n",
            "64           Undecided [jazz1350], Broadway [jazz1350]      1  0.960789     2\n",
            "65   Let's Fall In Love [jazz1350], Heart And Soul ...      1  1.000000     0\n",
            "66   Come Back To Me [jazz1350], I Wish I Knew [jaz...      1  1.000000     1\n",
            "67   Wait Till You See Her [jazz1350], A Certain Sm...      1  1.000000     0\n",
            "68     Killer Joe [jazz1350], Straight Life [jazz1350]      1  1.000000     3\n",
            "69   Softly, As In A Morning Sunrise [jazz1350], Se...      1  1.000000     0\n",
            "70   Bei Mir Bist Du Schon (Root Hog Or Die) [trad]...      1  1.000000     4\n",
            "71   Bei Mir Bist Du Schon (Root Hog Or Die) [trad]...      1  0.933234    22\n",
            "72   Coquette [trad], Pretend You're Happy When You...      0  0.948587     0\n",
            "73   Softly, As In A Morning Sunrise [jazz1350], St...      1  0.988125     9\n",
            "74   Glory Of Love, The [jazz1350], I've Got My Fin...      1  0.976264     2\n",
            "75   Charleston, The [jazz1350], As Long As I Live ...      1  1.000000     2\n",
            "76   Fine And Dandy [jazz1350], I Can't Give You An...      1  1.000000     2\n",
            "77   I'll Close My Eyes [jazz1350], Bluesette [jazz...      1  1.000000     0\n",
            "78   I'll Close My Eyes [jazz1350], There Will Neve...      0  0.569103     0\n",
            "79   If I Had You [jazz1350], Too Young To Go Stead...      1  0.999661     1\n",
            "80         Undecided [jazz1350], Satin Doll [jazz1350]      1  1.000000     0\n",
            "81              Billy Boy [jazz1350], Elora [jazz1350]      1  1.000000     1\n",
            "82        Dearly Beloved [jazz1350], We See [jazz1350]      1  1.000000     2\n",
            "83   Alone Together [jazz1350], A Night In Tunisia ...      1  1.000000     0\n",
            "84   A Night In Tunisia [jazz1350], Segment [jazz1350]      1  1.000000     2\n",
            "85   Oh! Lady Be Good [trad], Sentimental Journey [...      1  1.000000     0\n",
            "86    You Can Depend On Me [jazz1350], Move [jazz1350]      1  1.000000     0\n",
            "87   I Want To Be Happy [jazz1350], A Beautiful Fri...      1  1.000000     0\n",
            "88   Flying Home [jazz1350], Down For Double [jazz1...      1  1.000000     0\n",
            "89   Cheek To Cheek [jazz1350], Violets For Your Fu...      1  0.976340     3\n",
            "90   Let's Fall In Love [jazz1350], At Last [jazz1350]      1  0.982309     4\n",
            "91   Don't Be That Way [jazz1350], Long Ago And Far...      1  0.974051     4\n",
            "92   On The Sunny Side Of The Street [jazz1350], I'...      1  1.000000     0\n",
            "93   On The Sunny Side Of The Street [jazz1350], Ec...      1  0.943000     4\n",
            "94   On The Sunny Side Of The Street [jazz1350], Yo...      1  0.913713     8\n",
            "95         Satin Doll [jazz1350], Undecided [jazz1350]      1  1.000000     1\n",
            "96   I Like The Likes Of You [jazz1350], Mountain G...      1  0.970775     3\n",
            "97   My Secret Love [jazz1350], Samba De Orfeu [jaz...      1  0.973243    13\n",
            "98   Let's Call The Whole Thing Off [jazz1350], Fin...      1  0.937846     9\n",
            "99   Folks Who Live On The Hill, The [jazz1350], My...      1  0.881706     3\n",
            "100  As Long As I Live [trad], I'm Glad There Is Yo...      0  0.504537     0\n",
            "101  I May Be Wrong [jazz1350], Teach Me Tonight [j...      1  0.961041     1\n",
            "102   Am I Blue [jazz1350], Come Back To Me [jazz1350]      1  0.979339     1\n",
            "103  My One And Only Love [jazz1350], Am I Blue [ja...      1  0.962273     1\n",
            "104  On The Sunny Side Of The Street [jazz1350], Se...      1  0.924145     7\n",
            "105  On The Sunny Side Of The Street [jazz1350], Mo...      1  0.898440    10\n",
            "106  On The Sunny Side Of The Street [jazz1350], Th...      1  0.930175     5\n",
            "107  These Foolish Things [jazz1350], Embraceable Y...      1  0.807075     9\n",
            "108  These Foolish Things [jazz1350], Rosetta [jazz...      1  0.895053     2\n",
            "109  Bill Bailey [jazz1350], Bourbon Street Parade ...      1  1.000000     1\n",
            "110  Woody'n You [jazz1350], Stella By Starlight [j...      1  1.000000     0\n",
            "111       Tangerine [jazz1350], Tea For Two [jazz1350]      1  0.957406     6\n",
            "112  I Can't Give You Anything But Love [jazz1350],...      1  0.926961     3\n",
            "113  This Year's Kisses [jazz1350], My Monday Date ...      0  0.653340     0\n",
            "114  A Blossom Fell [jazz1350], Among My Souvenirs ...      1  0.965724     1\n"
          ]
        }
      ]
    },
    {
      "cell_type": "code",
      "source": [
        "fig, ax = plt.subplots(nrows=1, ncols=2, figsize=(12, 5))\n",
        "sns.histplot(ax=ax[0],\n",
        "             data=df_sim, \n",
        "             x='score', \n",
        "             hue='found', \n",
        "             stat='count', \n",
        "             edgecolor=None)\n",
        "ax[0].set_title('LSI Scores for Contrafact Tunes')\n",
        "\n",
        "sns.histplot(ax=ax[1],\n",
        "             data=df_sim[df_sim.found==1], \n",
        "             x='rank', \n",
        "             stat='count', \n",
        "             edgecolor=None)\n",
        "ax[1].set_title('Rank for found tunes')\n",
        "\n",
        "plt.savefig('plot.png')"
      ],
      "metadata": {
        "colab": {
          "base_uri": "https://localhost:8080/",
          "height": 350
        },
        "id": "oYymnpdv_BJ1",
        "outputId": "71f98b71-9f7f-47cf-e780-823b3c70e7c2"
      },
      "execution_count": 76,
      "outputs": [
        {
          "output_type": "display_data",
          "data": {
            "image/png": "[encoded data removed]",
            "text/plain": [
              "<Figure size 864x360 with 2 Axes>"
            ]
          },
          "metadata": {
            "needs_background": "light"
          }
        }
      ]
    },
    {
      "cell_type": "code",
      "source": [
        "fig = px.histogram(df_sim, x=\"score\", color='found', title='LSI Scores for found tunes')\n",
        "fig.show()\n"
      ],
      "metadata": {
        "colab": {
          "base_uri": "https://localhost:8080/",
          "height": 542
        },
        "id": "m8LFrXRpqJQ5",
        "outputId": "19ed69a0-401e-4246-bb47-c42e696aaed9"
      },
      "execution_count": 77,
      "outputs": [
        {
          "output_type": "display_data",
          "data": {
            "text/html": [
              "<html>\n",
              "<head><meta charset=\"utf-8\" /></head>\n",
              "<body>\n",
              "    <div>\n",
              "            <script src=\"https://cdnjs.cloudflare.com/ajax/libs/mathjax/2.7.5/MathJax.js?config=TeX-AMS-MML_SVG\"></script><script type=\"text/javascript\">if (window.MathJax) {MathJax.Hub.Config({SVG: {font: \"STIX-Web\"}});}</script>\n",
              "                <script type=\"text/javascript\">window.PlotlyConfig = {MathJaxConfig: 'local'};</script>\n",
              "        <script src=\"https://cdn.plot.ly/plotly-latest.min.js\"></script>    \n",
              "            <div id=\"fea09361-d0c9-46a4-a6ed-c82fcd9c8d41\" class=\"plotly-graph-div\" style=\"height:525px; width:100%;\"></div>\n",
              "            <script type=\"text/javascript\">\n",
              "                \n",
              "                    window.PLOTLYENV=window.PLOTLYENV || {};\n",
              "                    \n",
              "                if (document.getElementById(\"fea09361-d0c9-46a4-a6ed-c82fcd9c8d41\")) {\n",
              "                    Plotly.newPlot(\n",
              "                        'fea09361-d0c9-46a4-a6ed-c82fcd9c8d41',\n",
              "                        [{\"alignmentgroup\": \"True\", \"bingroup\": \"x\", \"hoverlabel\": {\"namelength\": 0}, \"hovertemplate\": \"found=1<br>score=%{x}<br>count=%{y}\", \"legendgroup\": \"found=1\", \"marker\": {\"color\": \"#636efa\"}, \"name\": \"found=1\", \"offsetgroup\": \"found=1\", \"orientation\": \"v\", \"showlegend\": true, \"type\": \"histogram\", \"x\": [0.8577091693878174, 0.9208323955535889, 0.9999998211860657, 0.9999998211860657, 0.9999998211860657, 0.8242987394332886, 0.9999998211860657, 1.0000001192092896, 0.9560290575027466, 0.8054627180099487, 0.9999998211860657, 0.8485412001609802, 0.903854250907898, 0.9410579204559326, 1.0, 1.0, 0.929845929145813, 0.8566290736198425, 1.0000001192092896, 0.8837709426879883, 1.0000001192092896, 0.6564789414405823, 0.9142009019851685, 0.9999998211860657, 0.777583122253418, 0.819369912147522, 0.8925273418426514, 0.9682852625846863, 0.9170424342155457, 0.8772668838500977, 0.7606785297393799, 0.9079498648643494, 1.0, 1.0, 1.0000001192092896, 1.0, 0.9999998807907104, 1.0, 0.9999998211860657, 1.0, 0.982672929763794, 0.9025788903236389, 0.9999998211860657, 0.957351565361023, 1.0000001192092896, 0.9607894420623779, 0.9999999403953552, 1.0, 0.9999998807907104, 0.9999999403953552, 0.9999999403953552, 1.000000238418579, 0.9332336187362671, 0.9881250262260437, 0.9762639403343201, 1.0, 0.9999999403953552, 1.0000001192092896, 0.9996612071990967, 1.0, 0.9999999403953552, 1.000000238418579, 1.0, 1.0, 1.0000001192092896, 0.9999998807907104, 1.000000238418579, 1.000000238418579, 0.9763396382331848, 0.9823092222213745, 0.9740506410598755, 1.0000003576278687, 0.943000078201294, 0.9137133359909058, 1.0, 0.9707754254341125, 0.973242998123169, 0.9378456473350525, 0.881706178188324, 0.9610410928726196, 0.9793392419815063, 0.9622734785079956, 0.9241445660591125, 0.8984401822090149, 0.9301751852035522, 0.8070747256278992, 0.8950533270835876, 1.0, 1.000000238418579, 0.9574062824249268, 0.926960825920105, 0.9657240509986877], \"xaxis\": \"x\", \"yaxis\": \"y\"}, {\"alignmentgroup\": \"True\", \"bingroup\": \"x\", \"hoverlabel\": {\"namelength\": 0}, \"hovertemplate\": \"found=0<br>score=%{x}<br>count=%{y}\", \"legendgroup\": \"found=0\", \"marker\": {\"color\": \"#EF553B\"}, \"name\": \"found=0\", \"offsetgroup\": \"found=0\", \"orientation\": \"v\", \"showlegend\": true, \"type\": \"histogram\", \"x\": [0.896346926689148, 0.7109470367431641, 0.7079464197158813, 0.9078906178474426, 0.7750200033187866, 0.8909212946891785, 0.1987810581922531, 0.7772886753082275, 0.8924292325973511, 0.9191530346870422, 0.7334404587745667, 0.6099040508270264, 0.9509053826332092, 0.8949732780456543, 0.9067893028259277, 0.8688874244689941, 0.8089951276779175, 0.8457552194595337, 0.7177981734275818, 0.9485868215560913, 0.5691025853157043, 0.504536509513855, 0.6533399224281311], \"xaxis\": \"x\", \"yaxis\": \"y\"}],\n",
              "                        {\"barmode\": \"relative\", \"legend\": {\"tracegroupgap\": 0}, \"template\": {\"data\": {\"bar\": [{\"error_x\": {\"color\": \"#2a3f5f\"}, \"error_y\": {\"color\": \"#2a3f5f\"}, \"marker\": {\"line\": {\"color\": \"#E5ECF6\", \"width\": 0.5}}, \"type\": \"bar\"}], \"barpolar\": [{\"marker\": {\"line\": {\"color\": \"#E5ECF6\", \"width\": 0.5}}, \"type\": \"barpolar\"}], \"carpet\": [{\"aaxis\": {\"endlinecolor\": \"#2a3f5f\", \"gridcolor\": \"white\", \"linecolor\": \"white\", \"minorgridcolor\": \"white\", \"startlinecolor\": \"#2a3f5f\"}, \"baxis\": {\"endlinecolor\": \"#2a3f5f\", \"gridcolor\": \"white\", \"linecolor\": \"white\", \"minorgridcolor\": \"white\", \"startlinecolor\": \"#2a3f5f\"}, \"type\": \"carpet\"}], \"choropleth\": [{\"colorbar\": {\"outlinewidth\": 0, \"ticks\": \"\"}, \"type\": \"choropleth\"}], \"contour\": [{\"colorbar\": {\"outlinewidth\": 0, \"ticks\": \"\"}, \"colorscale\": [[0.0, \"#0d0887\"], [0.1111111111111111, \"#46039f\"], [0.2222222222222222, \"#7201a8\"], [0.3333333333333333, \"#9c179e\"], [0.4444444444444444, \"#bd3786\"], [0.5555555555555556, \"#d8576b\"], [0.6666666666666666, \"#ed7953\"], [0.7777777777777778, \"#fb9f3a\"], [0.8888888888888888, \"#fdca26\"], [1.0, \"#f0f921\"]], \"type\": \"contour\"}], \"contourcarpet\": [{\"colorbar\": {\"outlinewidth\": 0, \"ticks\": \"\"}, \"type\": \"contourcarpet\"}], \"heatmap\": [{\"colorbar\": {\"outlinewidth\": 0, \"ticks\": \"\"}, \"colorscale\": [[0.0, \"#0d0887\"], [0.1111111111111111, \"#46039f\"], [0.2222222222222222, \"#7201a8\"], [0.3333333333333333, \"#9c179e\"], [0.4444444444444444, \"#bd3786\"], [0.5555555555555556, \"#d8576b\"], [0.6666666666666666, \"#ed7953\"], [0.7777777777777778, \"#fb9f3a\"], [0.8888888888888888, \"#fdca26\"], [1.0, \"#f0f921\"]], \"type\": \"heatmap\"}], \"heatmapgl\": [{\"colorbar\": {\"outlinewidth\": 0, \"ticks\": \"\"}, \"colorscale\": [[0.0, \"#0d0887\"], [0.1111111111111111, \"#46039f\"], [0.2222222222222222, \"#7201a8\"], [0.3333333333333333, \"#9c179e\"], [0.4444444444444444, \"#bd3786\"], [0.5555555555555556, \"#d8576b\"], [0.6666666666666666, \"#ed7953\"], [0.7777777777777778, \"#fb9f3a\"], [0.8888888888888888, \"#fdca26\"], [1.0, \"#f0f921\"]], \"type\": \"heatmapgl\"}], \"histogram\": [{\"marker\": {\"colorbar\": {\"outlinewidth\": 0, \"ticks\": \"\"}}, \"type\": \"histogram\"}], \"histogram2d\": [{\"colorbar\": {\"outlinewidth\": 0, \"ticks\": \"\"}, \"colorscale\": [[0.0, \"#0d0887\"], [0.1111111111111111, \"#46039f\"], [0.2222222222222222, \"#7201a8\"], [0.3333333333333333, \"#9c179e\"], [0.4444444444444444, \"#bd3786\"], [0.5555555555555556, \"#d8576b\"], [0.6666666666666666, \"#ed7953\"], [0.7777777777777778, \"#fb9f3a\"], [0.8888888888888888, \"#fdca26\"], [1.0, \"#f0f921\"]], \"type\": \"histogram2d\"}], \"histogram2dcontour\": [{\"colorbar\": {\"outlinewidth\": 0, \"ticks\": \"\"}, \"colorscale\": [[0.0, \"#0d0887\"], [0.1111111111111111, \"#46039f\"], [0.2222222222222222, \"#7201a8\"], [0.3333333333333333, \"#9c179e\"], [0.4444444444444444, \"#bd3786\"], [0.5555555555555556, \"#d8576b\"], [0.6666666666666666, \"#ed7953\"], [0.7777777777777778, \"#fb9f3a\"], [0.8888888888888888, \"#fdca26\"], [1.0, \"#f0f921\"]], \"type\": \"histogram2dcontour\"}], \"mesh3d\": [{\"colorbar\": {\"outlinewidth\": 0, \"ticks\": \"\"}, \"type\": \"mesh3d\"}], \"parcoords\": [{\"line\": {\"colorbar\": {\"outlinewidth\": 0, \"ticks\": \"\"}}, \"type\": \"parcoords\"}], \"pie\": [{\"automargin\": true, \"type\": \"pie\"}], \"scatter\": [{\"marker\": {\"colorbar\": {\"outlinewidth\": 0, \"ticks\": \"\"}}, \"type\": \"scatter\"}], \"scatter3d\": [{\"line\": {\"colorbar\": {\"outlinewidth\": 0, \"ticks\": \"\"}}, \"marker\": {\"colorbar\": {\"outlinewidth\": 0, \"ticks\": \"\"}}, \"type\": \"scatter3d\"}], \"scattercarpet\": [{\"marker\": {\"colorbar\": {\"outlinewidth\": 0, \"ticks\": \"\"}}, \"type\": \"scattercarpet\"}], \"scattergeo\": [{\"marker\": {\"colorbar\": {\"outlinewidth\": 0, \"ticks\": \"\"}}, \"type\": \"scattergeo\"}], \"scattergl\": [{\"marker\": {\"colorbar\": {\"outlinewidth\": 0, \"ticks\": \"\"}}, \"type\": \"scattergl\"}], \"scattermapbox\": [{\"marker\": {\"colorbar\": {\"outlinewidth\": 0, \"ticks\": \"\"}}, \"type\": \"scattermapbox\"}], \"scatterpolar\": [{\"marker\": {\"colorbar\": {\"outlinewidth\": 0, \"ticks\": \"\"}}, \"type\": \"scatterpolar\"}], \"scatterpolargl\": [{\"marker\": {\"colorbar\": {\"outlinewidth\": 0, \"ticks\": \"\"}}, \"type\": \"scatterpolargl\"}], \"scatterternary\": [{\"marker\": {\"colorbar\": {\"outlinewidth\": 0, \"ticks\": \"\"}}, \"type\": \"scatterternary\"}], \"surface\": [{\"colorbar\": {\"outlinewidth\": 0, \"ticks\": \"\"}, \"colorscale\": [[0.0, \"#0d0887\"], [0.1111111111111111, \"#46039f\"], [0.2222222222222222, \"#7201a8\"], [0.3333333333333333, \"#9c179e\"], [0.4444444444444444, \"#bd3786\"], [0.5555555555555556, \"#d8576b\"], [0.6666666666666666, \"#ed7953\"], [0.7777777777777778, \"#fb9f3a\"], [0.8888888888888888, \"#fdca26\"], [1.0, \"#f0f921\"]], \"type\": \"surface\"}], \"table\": [{\"cells\": {\"fill\": {\"color\": \"#EBF0F8\"}, \"line\": {\"color\": \"white\"}}, \"header\": {\"fill\": {\"color\": \"#C8D4E3\"}, \"line\": {\"color\": \"white\"}}, \"type\": \"table\"}]}, \"layout\": {\"annotationdefaults\": {\"arrowcolor\": \"#2a3f5f\", \"arrowhead\": 0, \"arrowwidth\": 1}, \"coloraxis\": {\"colorbar\": {\"outlinewidth\": 0, \"ticks\": \"\"}}, \"colorscale\": {\"diverging\": [[0, \"#8e0152\"], [0.1, \"#c51b7d\"], [0.2, \"#de77ae\"], [0.3, \"#f1b6da\"], [0.4, \"#fde0ef\"], [0.5, \"#f7f7f7\"], [0.6, \"#e6f5d0\"], [0.7, \"#b8e186\"], [0.8, \"#7fbc41\"], [0.9, \"#4d9221\"], [1, \"#276419\"]], \"sequential\": [[0.0, \"#0d0887\"], [0.1111111111111111, \"#46039f\"], [0.2222222222222222, \"#7201a8\"], [0.3333333333333333, \"#9c179e\"], [0.4444444444444444, \"#bd3786\"], [0.5555555555555556, \"#d8576b\"], [0.6666666666666666, \"#ed7953\"], [0.7777777777777778, \"#fb9f3a\"], [0.8888888888888888, \"#fdca26\"], [1.0, \"#f0f921\"]], \"sequentialminus\": [[0.0, \"#0d0887\"], [0.1111111111111111, \"#46039f\"], [0.2222222222222222, \"#7201a8\"], [0.3333333333333333, \"#9c179e\"], [0.4444444444444444, \"#bd3786\"], [0.5555555555555556, \"#d8576b\"], [0.6666666666666666, \"#ed7953\"], [0.7777777777777778, \"#fb9f3a\"], [0.8888888888888888, \"#fdca26\"], [1.0, \"#f0f921\"]]}, \"colorway\": [\"#636efa\", \"#EF553B\", \"#00cc96\", \"#ab63fa\", \"#FFA15A\", \"#19d3f3\", \"#FF6692\", \"#B6E880\", \"#FF97FF\", \"#FECB52\"], \"font\": {\"color\": \"#2a3f5f\"}, \"geo\": {\"bgcolor\": \"white\", \"lakecolor\": \"white\", \"landcolor\": \"#E5ECF6\", \"showlakes\": true, \"showland\": true, \"subunitcolor\": \"white\"}, \"hoverlabel\": {\"align\": \"left\"}, \"hovermode\": \"closest\", \"mapbox\": {\"style\": \"light\"}, \"paper_bgcolor\": \"white\", \"plot_bgcolor\": \"#E5ECF6\", \"polar\": {\"angularaxis\": {\"gridcolor\": \"white\", \"linecolor\": \"white\", \"ticks\": \"\"}, \"bgcolor\": \"#E5ECF6\", \"radialaxis\": {\"gridcolor\": \"white\", \"linecolor\": \"white\", \"ticks\": \"\"}}, \"scene\": {\"xaxis\": {\"backgroundcolor\": \"#E5ECF6\", \"gridcolor\": \"white\", \"gridwidth\": 2, \"linecolor\": \"white\", \"showbackground\": true, \"ticks\": \"\", \"zerolinecolor\": \"white\"}, \"yaxis\": {\"backgroundcolor\": \"#E5ECF6\", \"gridcolor\": \"white\", \"gridwidth\": 2, \"linecolor\": \"white\", \"showbackground\": true, \"ticks\": \"\", \"zerolinecolor\": \"white\"}, \"zaxis\": {\"backgroundcolor\": \"#E5ECF6\", \"gridcolor\": \"white\", \"gridwidth\": 2, \"linecolor\": \"white\", \"showbackground\": true, \"ticks\": \"\", \"zerolinecolor\": \"white\"}}, \"shapedefaults\": {\"line\": {\"color\": \"#2a3f5f\"}}, \"ternary\": {\"aaxis\": {\"gridcolor\": \"white\", \"linecolor\": \"white\", \"ticks\": \"\"}, \"baxis\": {\"gridcolor\": \"white\", \"linecolor\": \"white\", \"ticks\": \"\"}, \"bgcolor\": \"#E5ECF6\", \"caxis\": {\"gridcolor\": \"white\", \"linecolor\": \"white\", \"ticks\": \"\"}}, \"title\": {\"x\": 0.05}, \"xaxis\": {\"automargin\": true, \"gridcolor\": \"white\", \"linecolor\": \"white\", \"ticks\": \"\", \"title\": {\"standoff\": 15}, \"zerolinecolor\": \"white\", \"zerolinewidth\": 2}, \"yaxis\": {\"automargin\": true, \"gridcolor\": \"white\", \"linecolor\": \"white\", \"ticks\": \"\", \"title\": {\"standoff\": 15}, \"zerolinecolor\": \"white\", \"zerolinewidth\": 2}}}, \"title\": {\"text\": \"LSI Scores for found tunes\"}, \"xaxis\": {\"anchor\": \"y\", \"domain\": [0.0, 1.0], \"title\": {\"text\": \"score\"}}, \"yaxis\": {\"anchor\": \"x\", \"domain\": [0.0, 1.0], \"title\": {\"text\": \"count\"}}},\n",
              "                        {\"responsive\": true}\n",
              "                    ).then(function(){\n",
              "                            \n",
              "var gd = document.getElementById('fea09361-d0c9-46a4-a6ed-c82fcd9c8d41');\n",
              "var x = new MutationObserver(function (mutations, observer) {{\n",
              "        var display = window.getComputedStyle(gd).display;\n",
              "        if (!display || display === 'none') {{\n",
              "            console.log([gd, 'removed!']);\n",
              "            Plotly.purge(gd);\n",
              "            observer.disconnect();\n",
              "        }}\n",
              "}});\n",
              "\n",
              "// Listen for the removal of the full notebook cells\n",
              "var notebookContainer = gd.closest('#notebook-container');\n",
              "if (notebookContainer) {{\n",
              "    x.observe(notebookContainer, {childList: true});\n",
              "}}\n",
              "\n",
              "// Listen for the clearing of the current output cell\n",
              "var outputEl = gd.closest('.output');\n",
              "if (outputEl) {{\n",
              "    x.observe(outputEl, {childList: true});\n",
              "}}\n",
              "\n",
              "                        })\n",
              "                };\n",
              "                \n",
              "            </script>\n",
              "        </div>\n",
              "</body>\n",
              "</html>"
            ]
          },
          "metadata": {}
        }
      ]
    },
    {
      "cell_type": "code",
      "source": [
        "fig = px.histogram(df_sim[df_sim.found==1], x=\"rank\", title='Rank on which tune is found')\n",
        "fig.show()"
      ],
      "metadata": {
        "colab": {
          "base_uri": "https://localhost:8080/",
          "height": 542
        },
        "id": "jXXXdqlWsSxp",
        "outputId": "3dfe281a-ccdf-4242-a0a6-dda722e476e4"
      },
      "execution_count": 78,
      "outputs": [
        {
          "output_type": "display_data",
          "data": {
            "text/html": [
              "<html>\n",
              "<head><meta charset=\"utf-8\" /></head>\n",
              "<body>\n",
              "    <div>\n",
              "            <script src=\"https://cdnjs.cloudflare.com/ajax/libs/mathjax/2.7.5/MathJax.js?config=TeX-AMS-MML_SVG\"></script><script type=\"text/javascript\">if (window.MathJax) {MathJax.Hub.Config({SVG: {font: \"STIX-Web\"}});}</script>\n",
              "                <script type=\"text/javascript\">window.PlotlyConfig = {MathJaxConfig: 'local'};</script>\n",
              "        <script src=\"https://cdn.plot.ly/plotly-latest.min.js\"></script>    \n",
              "            <div id=\"626d83b1-876a-4c0f-a563-fc208ad9e9ae\" class=\"plotly-graph-div\" style=\"height:525px; width:100%;\"></div>\n",
              "            <script type=\"text/javascript\">\n",
              "                \n",
              "                    window.PLOTLYENV=window.PLOTLYENV || {};\n",
              "                    \n",
              "                if (document.getElementById(\"626d83b1-876a-4c0f-a563-fc208ad9e9ae\")) {\n",
              "                    Plotly.newPlot(\n",
              "                        '626d83b1-876a-4c0f-a563-fc208ad9e9ae',\n",
              "                        [{\"alignmentgroup\": \"True\", \"bingroup\": \"x\", \"hoverlabel\": {\"namelength\": 0}, \"hovertemplate\": \"rank=%{x}<br>count=%{y}\", \"legendgroup\": \"\", \"marker\": {\"color\": \"#636efa\"}, \"name\": \"\", \"offsetgroup\": \"\", \"orientation\": \"v\", \"showlegend\": false, \"type\": \"histogram\", \"x\": [1, 1, 5, 5, 5, 2, 5, 1, 2, 1, 5, 12, 10, 1, 6, 22, 12, 29, 0, 13, 0, 5, 16, 5, 16, 14, 1, 21, 1, 4, 21, 22, 2, 3, 0, 0, 2, 2, 1, 0, 1, 3, 6, 8, 0, 2, 0, 1, 0, 3, 0, 4, 22, 9, 2, 2, 2, 0, 1, 0, 1, 2, 0, 2, 0, 0, 0, 0, 3, 4, 4, 0, 4, 8, 1, 3, 13, 9, 3, 1, 1, 1, 7, 10, 5, 9, 2, 1, 0, 6, 3, 1], \"xaxis\": \"x\", \"yaxis\": \"y\"}],\n",
              "                        {\"barmode\": \"relative\", \"legend\": {\"tracegroupgap\": 0}, \"template\": {\"data\": {\"bar\": [{\"error_x\": {\"color\": \"#2a3f5f\"}, \"error_y\": {\"color\": \"#2a3f5f\"}, \"marker\": {\"line\": {\"color\": \"#E5ECF6\", \"width\": 0.5}}, \"type\": \"bar\"}], \"barpolar\": [{\"marker\": {\"line\": {\"color\": \"#E5ECF6\", \"width\": 0.5}}, \"type\": \"barpolar\"}], \"carpet\": [{\"aaxis\": {\"endlinecolor\": \"#2a3f5f\", \"gridcolor\": \"white\", \"linecolor\": \"white\", \"minorgridcolor\": \"white\", \"startlinecolor\": \"#2a3f5f\"}, \"baxis\": {\"endlinecolor\": \"#2a3f5f\", \"gridcolor\": \"white\", \"linecolor\": \"white\", \"minorgridcolor\": \"white\", \"startlinecolor\": \"#2a3f5f\"}, \"type\": \"carpet\"}], \"choropleth\": [{\"colorbar\": {\"outlinewidth\": 0, \"ticks\": \"\"}, \"type\": \"choropleth\"}], \"contour\": [{\"colorbar\": {\"outlinewidth\": 0, \"ticks\": \"\"}, \"colorscale\": [[0.0, \"#0d0887\"], [0.1111111111111111, \"#46039f\"], [0.2222222222222222, \"#7201a8\"], [0.3333333333333333, \"#9c179e\"], [0.4444444444444444, \"#bd3786\"], [0.5555555555555556, \"#d8576b\"], [0.6666666666666666, \"#ed7953\"], [0.7777777777777778, \"#fb9f3a\"], [0.8888888888888888, \"#fdca26\"], [1.0, \"#f0f921\"]], \"type\": \"contour\"}], \"contourcarpet\": [{\"colorbar\": {\"outlinewidth\": 0, \"ticks\": \"\"}, \"type\": \"contourcarpet\"}], \"heatmap\": [{\"colorbar\": {\"outlinewidth\": 0, \"ticks\": \"\"}, \"colorscale\": [[0.0, \"#0d0887\"], [0.1111111111111111, \"#46039f\"], [0.2222222222222222, \"#7201a8\"], [0.3333333333333333, \"#9c179e\"], [0.4444444444444444, \"#bd3786\"], [0.5555555555555556, \"#d8576b\"], [0.6666666666666666, \"#ed7953\"], [0.7777777777777778, \"#fb9f3a\"], [0.8888888888888888, \"#fdca26\"], [1.0, \"#f0f921\"]], \"type\": \"heatmap\"}], \"heatmapgl\": [{\"colorbar\": {\"outlinewidth\": 0, \"ticks\": \"\"}, \"colorscale\": [[0.0, \"#0d0887\"], [0.1111111111111111, \"#46039f\"], [0.2222222222222222, \"#7201a8\"], [0.3333333333333333, \"#9c179e\"], [0.4444444444444444, \"#bd3786\"], [0.5555555555555556, \"#d8576b\"], [0.6666666666666666, \"#ed7953\"], [0.7777777777777778, \"#fb9f3a\"], [0.8888888888888888, \"#fdca26\"], [1.0, \"#f0f921\"]], \"type\": \"heatmapgl\"}], \"histogram\": [{\"marker\": {\"colorbar\": {\"outlinewidth\": 0, \"ticks\": \"\"}}, \"type\": \"histogram\"}], \"histogram2d\": [{\"colorbar\": {\"outlinewidth\": 0, \"ticks\": \"\"}, \"colorscale\": [[0.0, \"#0d0887\"], [0.1111111111111111, \"#46039f\"], [0.2222222222222222, \"#7201a8\"], [0.3333333333333333, \"#9c179e\"], [0.4444444444444444, \"#bd3786\"], [0.5555555555555556, \"#d8576b\"], [0.6666666666666666, \"#ed7953\"], [0.7777777777777778, \"#fb9f3a\"], [0.8888888888888888, \"#fdca26\"], [1.0, \"#f0f921\"]], \"type\": \"histogram2d\"}], \"histogram2dcontour\": [{\"colorbar\": {\"outlinewidth\": 0, \"ticks\": \"\"}, \"colorscale\": [[0.0, \"#0d0887\"], [0.1111111111111111, \"#46039f\"], [0.2222222222222222, \"#7201a8\"], [0.3333333333333333, \"#9c179e\"], [0.4444444444444444, \"#bd3786\"], [0.5555555555555556, \"#d8576b\"], [0.6666666666666666, \"#ed7953\"], [0.7777777777777778, \"#fb9f3a\"], [0.8888888888888888, \"#fdca26\"], [1.0, \"#f0f921\"]], \"type\": \"histogram2dcontour\"}], \"mesh3d\": [{\"colorbar\": {\"outlinewidth\": 0, \"ticks\": \"\"}, \"type\": \"mesh3d\"}], \"parcoords\": [{\"line\": {\"colorbar\": {\"outlinewidth\": 0, \"ticks\": \"\"}}, \"type\": \"parcoords\"}], \"pie\": [{\"automargin\": true, \"type\": \"pie\"}], \"scatter\": [{\"marker\": {\"colorbar\": {\"outlinewidth\": 0, \"ticks\": \"\"}}, \"type\": \"scatter\"}], \"scatter3d\": [{\"line\": {\"colorbar\": {\"outlinewidth\": 0, \"ticks\": \"\"}}, \"marker\": {\"colorbar\": {\"outlinewidth\": 0, \"ticks\": \"\"}}, \"type\": \"scatter3d\"}], \"scattercarpet\": [{\"marker\": {\"colorbar\": {\"outlinewidth\": 0, \"ticks\": \"\"}}, \"type\": \"scattercarpet\"}], \"scattergeo\": [{\"marker\": {\"colorbar\": {\"outlinewidth\": 0, \"ticks\": \"\"}}, \"type\": \"scattergeo\"}], \"scattergl\": [{\"marker\": {\"colorbar\": {\"outlinewidth\": 0, \"ticks\": \"\"}}, \"type\": \"scattergl\"}], \"scattermapbox\": [{\"marker\": {\"colorbar\": {\"outlinewidth\": 0, \"ticks\": \"\"}}, \"type\": \"scattermapbox\"}], \"scatterpolar\": [{\"marker\": {\"colorbar\": {\"outlinewidth\": 0, \"ticks\": \"\"}}, \"type\": \"scatterpolar\"}], \"scatterpolargl\": [{\"marker\": {\"colorbar\": {\"outlinewidth\": 0, \"ticks\": \"\"}}, \"type\": \"scatterpolargl\"}], \"scatterternary\": [{\"marker\": {\"colorbar\": {\"outlinewidth\": 0, \"ticks\": \"\"}}, \"type\": \"scatterternary\"}], \"surface\": [{\"colorbar\": {\"outlinewidth\": 0, \"ticks\": \"\"}, \"colorscale\": [[0.0, \"#0d0887\"], [0.1111111111111111, \"#46039f\"], [0.2222222222222222, \"#7201a8\"], [0.3333333333333333, \"#9c179e\"], [0.4444444444444444, \"#bd3786\"], [0.5555555555555556, \"#d8576b\"], [0.6666666666666666, \"#ed7953\"], [0.7777777777777778, \"#fb9f3a\"], [0.8888888888888888, \"#fdca26\"], [1.0, \"#f0f921\"]], \"type\": \"surface\"}], \"table\": [{\"cells\": {\"fill\": {\"color\": \"#EBF0F8\"}, \"line\": {\"color\": \"white\"}}, \"header\": {\"fill\": {\"color\": \"#C8D4E3\"}, \"line\": {\"color\": \"white\"}}, \"type\": \"table\"}]}, \"layout\": {\"annotationdefaults\": {\"arrowcolor\": \"#2a3f5f\", \"arrowhead\": 0, \"arrowwidth\": 1}, \"coloraxis\": {\"colorbar\": {\"outlinewidth\": 0, \"ticks\": \"\"}}, \"colorscale\": {\"diverging\": [[0, \"#8e0152\"], [0.1, \"#c51b7d\"], [0.2, \"#de77ae\"], [0.3, \"#f1b6da\"], [0.4, \"#fde0ef\"], [0.5, \"#f7f7f7\"], [0.6, \"#e6f5d0\"], [0.7, \"#b8e186\"], [0.8, \"#7fbc41\"], [0.9, \"#4d9221\"], [1, \"#276419\"]], \"sequential\": [[0.0, \"#0d0887\"], [0.1111111111111111, \"#46039f\"], [0.2222222222222222, \"#7201a8\"], [0.3333333333333333, \"#9c179e\"], [0.4444444444444444, \"#bd3786\"], [0.5555555555555556, \"#d8576b\"], [0.6666666666666666, \"#ed7953\"], [0.7777777777777778, \"#fb9f3a\"], [0.8888888888888888, \"#fdca26\"], [1.0, \"#f0f921\"]], \"sequentialminus\": [[0.0, \"#0d0887\"], [0.1111111111111111, \"#46039f\"], [0.2222222222222222, \"#7201a8\"], [0.3333333333333333, \"#9c179e\"], [0.4444444444444444, \"#bd3786\"], [0.5555555555555556, \"#d8576b\"], [0.6666666666666666, \"#ed7953\"], [0.7777777777777778, \"#fb9f3a\"], [0.8888888888888888, \"#fdca26\"], [1.0, \"#f0f921\"]]}, \"colorway\": [\"#636efa\", \"#EF553B\", \"#00cc96\", \"#ab63fa\", \"#FFA15A\", \"#19d3f3\", \"#FF6692\", \"#B6E880\", \"#FF97FF\", \"#FECB52\"], \"font\": {\"color\": \"#2a3f5f\"}, \"geo\": {\"bgcolor\": \"white\", \"lakecolor\": \"white\", \"landcolor\": \"#E5ECF6\", \"showlakes\": true, \"showland\": true, \"subunitcolor\": \"white\"}, \"hoverlabel\": {\"align\": \"left\"}, \"hovermode\": \"closest\", \"mapbox\": {\"style\": \"light\"}, \"paper_bgcolor\": \"white\", \"plot_bgcolor\": \"#E5ECF6\", \"polar\": {\"angularaxis\": {\"gridcolor\": \"white\", \"linecolor\": \"white\", \"ticks\": \"\"}, \"bgcolor\": \"#E5ECF6\", \"radialaxis\": {\"gridcolor\": \"white\", \"linecolor\": \"white\", \"ticks\": \"\"}}, \"scene\": {\"xaxis\": {\"backgroundcolor\": \"#E5ECF6\", \"gridcolor\": \"white\", \"gridwidth\": 2, \"linecolor\": \"white\", \"showbackground\": true, \"ticks\": \"\", \"zerolinecolor\": \"white\"}, \"yaxis\": {\"backgroundcolor\": \"#E5ECF6\", \"gridcolor\": \"white\", \"gridwidth\": 2, \"linecolor\": \"white\", \"showbackground\": true, \"ticks\": \"\", \"zerolinecolor\": \"white\"}, \"zaxis\": {\"backgroundcolor\": \"#E5ECF6\", \"gridcolor\": \"white\", \"gridwidth\": 2, \"linecolor\": \"white\", \"showbackground\": true, \"ticks\": \"\", \"zerolinecolor\": \"white\"}}, \"shapedefaults\": {\"line\": {\"color\": \"#2a3f5f\"}}, \"ternary\": {\"aaxis\": {\"gridcolor\": \"white\", \"linecolor\": \"white\", \"ticks\": \"\"}, \"baxis\": {\"gridcolor\": \"white\", \"linecolor\": \"white\", \"ticks\": \"\"}, \"bgcolor\": \"#E5ECF6\", \"caxis\": {\"gridcolor\": \"white\", \"linecolor\": \"white\", \"ticks\": \"\"}}, \"title\": {\"x\": 0.05}, \"xaxis\": {\"automargin\": true, \"gridcolor\": \"white\", \"linecolor\": \"white\", \"ticks\": \"\", \"title\": {\"standoff\": 15}, \"zerolinecolor\": \"white\", \"zerolinewidth\": 2}, \"yaxis\": {\"automargin\": true, \"gridcolor\": \"white\", \"linecolor\": \"white\", \"ticks\": \"\", \"title\": {\"standoff\": 15}, \"zerolinecolor\": \"white\", \"zerolinewidth\": 2}}}, \"title\": {\"text\": \"Rank on which tune is found\"}, \"xaxis\": {\"anchor\": \"y\", \"domain\": [0.0, 1.0], \"title\": {\"text\": \"rank\"}}, \"yaxis\": {\"anchor\": \"x\", \"domain\": [0.0, 1.0], \"title\": {\"text\": \"count\"}}},\n",
              "                        {\"responsive\": true}\n",
              "                    ).then(function(){\n",
              "                            \n",
              "var gd = document.getElementById('626d83b1-876a-4c0f-a563-fc208ad9e9ae');\n",
              "var x = new MutationObserver(function (mutations, observer) {{\n",
              "        var display = window.getComputedStyle(gd).display;\n",
              "        if (!display || display === 'none') {{\n",
              "            console.log([gd, 'removed!']);\n",
              "            Plotly.purge(gd);\n",
              "            observer.disconnect();\n",
              "        }}\n",
              "}});\n",
              "\n",
              "// Listen for the removal of the full notebook cells\n",
              "var notebookContainer = gd.closest('#notebook-container');\n",
              "if (notebookContainer) {{\n",
              "    x.observe(notebookContainer, {childList: true});\n",
              "}}\n",
              "\n",
              "// Listen for the clearing of the current output cell\n",
              "var outputEl = gd.closest('.output');\n",
              "if (outputEl) {{\n",
              "    x.observe(outputEl, {childList: true});\n",
              "}}\n",
              "\n",
              "                        })\n",
              "                };\n",
              "                \n",
              "            </script>\n",
              "        </div>\n",
              "</body>\n",
              "</html>"
            ]
          },
          "metadata": {}
        }
      ]
    },
    {
      "cell_type": "code",
      "metadata": {
        "id": "RS7LsLASi5-f"
      },
      "source": [
        "model_name = 'lsi'\n",
        "if use_wandb:\n",
        "  wandb.log(\n",
        "      {model_name: {\n",
        "                'contrafacts': {\n",
        "                    'topN': topN,\n",
        "                    'success': matches/len(contrafacts),\n",
        "                    'results': wandb.Table(data=df_sim),\n",
        "                    'score_histogram': wandb.Image('plot.png'),\n",
        "                    },\n",
        "                'model': {\n",
        "                    'remove_tokens_below': no_below,\n",
        "                }\n",
        "                   },\n",
        "       })"
      ],
      "execution_count": 79,
      "outputs": []
    },
    {
      "cell_type": "markdown",
      "metadata": {
        "id": "AjZArSmyooWt"
      },
      "source": [
        "### Get Recommender Data for WebApp"
      ]
    },
    {
      "cell_type": "code",
      "source": [
        "test_data = [\n",
        "  \"Sweet Sue, Just You [jazz1350]\",\n",
        "  \"On The Sunny Side Of The Street [jazz1350]\",\n",
        "  \"These Foolish Things [jazz1350]\", \n",
        "  \"Blue Moon [jazz1350]\",\n",
        "  \"I Got Rhythm [jazz1350]\",\n",
        "  \"Old Fashioned Love [trad]\",\n",
        "  \"Exactly Like You [jazz1350]\",\n",
        "  \"Honeysuckle Rose [jazz1350]\",\n",
        "  \"Misty [jazz1350]\",\n",
        "  \"Wow [jazz1350]\",\n",
        "  \"Take The A Train [jazz1350]\"\n",
        "]\n",
        "\n",
        "test_data = sorted(test_data)"
      ],
      "metadata": {
        "id": "xk7UxddN8QkA"
      },
      "execution_count": 80,
      "outputs": []
    },
    {
      "cell_type": "code",
      "metadata": {
        "colab": {
          "base_uri": "https://localhost:8080/"
        },
        "id": "JfMygz-ejgXG",
        "outputId": "5c52d152-c533-4b8b-cac3-33118fa5d306"
      },
      "source": [
        "%%time\n",
        "if False:\n",
        "  #_tunes = list(tunes['title_playlist'].values())\n",
        "  _tunes = test_data\n",
        "\n",
        "  method = 'lsi'\n",
        "\n",
        "  # save the mapping between titleid and title to disk\n",
        "  pd.DataFrame.from_dict(tunes).to_csv(f'output/index_{method}.csv', index_label='titleid')\n",
        "  with zipfile.ZipFile(f'output/index_{method}.zip', 'w') as zf:\n",
        "    zf.write(f'output/index_{method}.csv')\n",
        "\n",
        "  df_sim = get_sim_scores(_tunes, index_lsi, lsi, topn=30)\n",
        "\n",
        "  # save to file\n",
        "  (df_sim\n",
        "   .loc[:,[#'reference_title',\n",
        "           'reference_titleid',\n",
        "           #'similar_title',\n",
        "           'similar_titleid',\n",
        "           'ref_section_label',\n",
        "           'similar_section_label',\n",
        "           'score'\n",
        "           ]]\n",
        "   .groupby(['reference_titleid', \n",
        "          #'reference_title', \n",
        "          'similar_titleid',\n",
        "          #'similar_title', \n",
        "          'ref_section_label', \n",
        "          'similar_section_label'])\n",
        "   .max('score')\n",
        "   .reset_index()\n",
        "   .to_csv(f'output/recommender_{method}.csv', encoding='utf8', index=False)\n",
        "  )\n",
        "  \n",
        "  with zipfile.ZipFile(f'output/recommender_{method}.zip', 'w') as zf:\n",
        "    zf.write(f'output/recommender_{method}.csv')\n",
        "\n",
        "  # save to wandb\n",
        "  if use_wandb:\n",
        "    model_artifact = wandb.Artifact(\n",
        "        f\"recommender_{method}\", \n",
        "        type=\"csv\",\n",
        "        description=f\"Recommendations for each Tune using {method} Model (csv file)\",\n",
        "        metadata=\"\")\n",
        "\n",
        "    model_artifact.add_file(f'output/recommender_{method}.zip')\n",
        "    model_artifact.add_file(f'output/index_{method}.zip')\n",
        "    wandb.log_artifact(model_artifact)"
      ],
      "execution_count": 81,
      "outputs": [
        {
          "output_type": "stream",
          "name": "stdout",
          "text": [
            "CPU times: user 5 µs, sys: 0 ns, total: 5 µs\n",
            "Wall time: 11.2 µs\n"
          ]
        }
      ]
    },
    {
      "cell_type": "markdown",
      "metadata": {
        "id": "lTQKfd0xQQ65"
      },
      "source": [
        "## Store Model to W&B"
      ]
    },
    {
      "cell_type": "code",
      "metadata": {
        "id": "RfAYF7ArQUXo"
      },
      "source": [
        "if use_wandb:\n",
        "  model_artifact = wandb.Artifact(\n",
        "      \"model_lsi\", \n",
        "      type=\"model\",\n",
        "      description=\"LSI model\",\n",
        "      metadata=\"\")\n",
        "\n",
        "  model_artifact.add_file(\"/content/index/lsi.model\")\n",
        "  model_artifact.add_file(\"/content/index/lsi_matrixsim.index\")\n",
        "  model_artifact.add_file(\"/content/index/lsi.model.projection\")\n",
        "  wandb.log_artifact(model_artifact)"
      ],
      "execution_count": 82,
      "outputs": []
    },
    {
      "cell_type": "markdown",
      "metadata": {
        "id": "asScIocQRMPA"
      },
      "source": [
        "## Determine Number of Topics for LSI Model\n",
        "\n",
        "This sample comes from Datacamp: \n",
        "\n",
        "https://www.datacamp.com/community/tutorials/discovering-hidden-topics-python\n"
      ]
    },
    {
      "cell_type": "markdown",
      "metadata": {
        "id": "1TPNWFEPSxZ-"
      },
      "source": [
        "What is the best way to determine k (number of topics) in topic modeling? Identify the optimum number of topics in the given corpus text is a challenging task. We can use the following options for determining the optimum number of topics:\n",
        "\n",
        "* One way to determine the optimum number of topics is to consider each topic as a cluster and find out the effectiveness of a cluster using the Silhouette coefficient.\n",
        "* Topic coherence measure is a realistic measure for identifying the number of topics.\n",
        "\n",
        "Topic Coherence measure is a widely used metric to evaluate topic models. It uses the latent variable models. Each generated topic has a list of words. In topic coherence measure, you will find average/median of pairwise word similarity scores of the words in a topic. The high value of topic coherence score model will be considered as a good topic model. "
      ]
    },
    {
      "cell_type": "code",
      "metadata": {
        "id": "aS2wxIEERcul"
      },
      "source": [
        "def compute_coherence_values(dictionary, doc_term_matrix, doc_clean, stop, start=2, step=3):\n",
        "    \"\"\"\n",
        "    Input   : dictionary : Gensim dictionary\n",
        "              corpus : Gensim corpus\n",
        "              texts : List of input texts\n",
        "              stop : Max num of topics\n",
        "    purpose : Compute c_v coherence for various number of topics\n",
        "    Output  : model_list : List of LSA topic models\n",
        "              coherence_values : Coherence values corresponding to the LDA model with respective number of topics\n",
        "    \"\"\"\n",
        "    coherence_values = []\n",
        "    model_list = []\n",
        "    for num_topics in range(start, stop, step):\n",
        "        # generate LSA model\n",
        "        model = LsiModel(doc_term_matrix, num_topics=num_topics, id2word = dictionary)  # train model\n",
        "        model_list.append(model)\n",
        "        coherencemodel = CoherenceModel(model=model, texts=doc_clean, dictionary=dictionary, coherence='c_v')\n",
        "        coherence_values.append(coherencemodel.get_coherence())\n",
        "    return model_list, coherence_values"
      ],
      "execution_count": 83,
      "outputs": []
    },
    {
      "cell_type": "code",
      "metadata": {
        "id": "DjyzAzWBRfrH"
      },
      "source": [
        "def plot_graph(doc_clean,start, stop, step):\n",
        "    dictionary, doc_term_matrix = prepare_corpus(doc_clean)\n",
        "\n",
        "    runs = 5\n",
        "    for i in range(runs):\n",
        "      model_list, coherence_values = compute_coherence_values(dictionary, \n",
        "                                                              doc_term_matrix,\n",
        "                                                              doc_clean,\n",
        "                                                              stop, start, step)\n",
        "      # Show graph\n",
        "      x = range(start, stop, step)\n",
        "      plt.plot(x, coherence_values, color='blue')\n",
        "\n",
        "    plt.xlabel(\"Number of Topics\")\n",
        "    plt.ylabel(\"Coherence score\")\n",
        "    plt.show()"
      ],
      "execution_count": 84,
      "outputs": []
    },
    {
      "cell_type": "code",
      "metadata": {
        "id": "qy9ZjdcmRhxs"
      },
      "source": [
        "# evaluate a good number of topics for the LSI Model. This takes some time.\n",
        "\n",
        "if False:\n",
        "  start, stop, step = 10, 300, 10\n",
        "  plot_graph(test_corpus, start, stop, step)"
      ],
      "execution_count": 85,
      "outputs": []
    },
    {
      "cell_type": "markdown",
      "metadata": {
        "id": "Qo5NgBHFlqgg"
      },
      "source": [
        "For unigrams, the best number of topics that is most consistently for the 5 runs seems to be around 22.\n",
        "\n",
        "For unigrams plus bigrams, the coherence score drops down until 100 and then continuously rises until 500 and continues to rise. Same for bigrams-only."
      ]
    },
    {
      "cell_type": "markdown",
      "metadata": {
        "id": "RhOWHSEU0DQH"
      },
      "source": [
        "# W&B Logging and Finish"
      ]
    },
    {
      "cell_type": "code",
      "metadata": {
        "id": "YMUDRHkm0aMV",
        "colab": {
          "base_uri": "https://localhost:8080/",
          "height": 125,
          "referenced_widgets": [
            "e4d3699a258a4ea9ab7981d1367640c8",
            "1884562661c74820b075bfe39627604f",
            "06092f8b5f1d462eafc8110d678b5e65",
            "8162921e75bf4b6b84f967caf2d3125b",
            "7b26faa6f9994d2faebea250263c1088",
            "c617fba1e961454bb31d8497cfa97928",
            "a35f39666eaf479ebebc1ea94a04f72a",
            "ceee11fe360540e78a197f25232e4d37"
          ]
        },
        "outputId": "06c82e4e-e9eb-4de8-af17-47f965840b0b"
      },
      "source": [
        "if use_wandb:\n",
        "  wandb.finish()"
      ],
      "execution_count": 86,
      "outputs": [
        {
          "output_type": "display_data",
          "data": {
            "text/html": [
              "<br/>Waiting for W&B process to finish, PID 19988... <strong style=\"color:green\">(success).</strong>"
            ],
            "text/plain": [
              "<IPython.core.display.HTML object>"
            ]
          },
          "metadata": {}
        },
        {
          "output_type": "display_data",
          "data": {
            "application/vnd.jupyter.widget-view+json": {
              "model_id": "e4d3699a258a4ea9ab7981d1367640c8",
              "version_minor": 0,
              "version_major": 2
            },
            "text/plain": [
              "VBox(children=(Label(value=' 0.73MB of 0.73MB uploaded (0.00MB deduped)\\r'), FloatProgress(value=1.0, max=1.0)…"
            ]
          },
          "metadata": {}
        },
        {
          "output_type": "display_data",
          "data": {
            "text/html": [
              "<style>\n",
              "    table.wandb td:nth-child(1) { padding: 0 10px; text-align: right }\n",
              "    .wandb-row { display: flex; flex-direction: row; flex-wrap: wrap; width: 100% }\n",
              "    .wandb-col { display: flex; flex-direction: column; flex-basis: 100%; flex: 1; padding: 10px; }\n",
              "    </style>\n",
              "<div class=\"wandb-row\"><div class=\"wandb-col\">\n",
              "</div><div class=\"wandb-col\">\n",
              "</div></div>\n",
              "Synced 5 W&B file(s), 3 media file(s), 4 artifact file(s) and 0 other file(s)\n",
              "<br/>Synced <strong style=\"color:#cdcd00\">amber-sun-64</strong>: <a href=\"https://wandb.ai/doris/lsi_model/runs/2twf6w5a\" target=\"_blank\">https://wandb.ai/doris/lsi_model/runs/2twf6w5a</a><br/>\n",
              "Find logs at: <code>./wandb/run-20211227_203133-2twf6w5a/logs</code><br/>\n"
            ],
            "text/plain": [
              "<IPython.core.display.HTML object>"
            ]
          },
          "metadata": {}
        }
      ]
    },
    {
      "cell_type": "code",
      "metadata": {
        "id": "Vn_SFyKt0bYx"
      },
      "source": [
        "\n"
      ],
      "execution_count": 86,
      "outputs": []
    }
  ]
}