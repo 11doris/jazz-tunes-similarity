{
  "nbformat": 4,
  "nbformat_minor": 0,
  "metadata": {
    "colab": {
      "name": "colab_g_recommender_score",
      "provenance": [],
      "toc_visible": true,
      "authorship_tag": "ABX9TyO5qizQnLFZRS83wKgxFYmc",
      "include_colab_link": true
    },
    "kernelspec": {
      "name": "python3",
      "display_name": "Python 3"
    },
    "language_info": {
      "name": "python"
    },
    "widgets": {
      "application/vnd.jupyter.widget-state+json": {
        "c00a953800a94d428b3afcae25e3f6f3": {
          "model_module": "@jupyter-widgets/controls",
          "model_name": "VBoxModel",
          "model_module_version": "1.5.0",
          "state": {
            "_view_name": "VBoxView",
            "_dom_classes": [],
            "_model_name": "VBoxModel",
            "_view_module": "@jupyter-widgets/controls",
            "_model_module_version": "1.5.0",
            "_view_count": null,
            "_view_module_version": "1.5.0",
            "box_style": "",
            "layout": "IPY_MODEL_831a6b3860e8420eac769743cda48f3b",
            "_model_module": "@jupyter-widgets/controls",
            "children": [
              "IPY_MODEL_d9ef8e0dccc346b98b849665745e9a61",
              "IPY_MODEL_94b650d35a4047c8bde83845e97a63f7"
            ]
          }
        },
        "831a6b3860e8420eac769743cda48f3b": {
          "model_module": "@jupyter-widgets/base",
          "model_name": "LayoutModel",
          "model_module_version": "1.2.0",
          "state": {
            "_view_name": "LayoutView",
            "grid_template_rows": null,
            "right": null,
            "justify_content": null,
            "_view_module": "@jupyter-widgets/base",
            "overflow": null,
            "_model_module_version": "1.2.0",
            "_view_count": null,
            "flex_flow": null,
            "width": null,
            "min_width": null,
            "border": null,
            "align_items": null,
            "bottom": null,
            "_model_module": "@jupyter-widgets/base",
            "top": null,
            "grid_column": null,
            "overflow_y": null,
            "overflow_x": null,
            "grid_auto_flow": null,
            "grid_area": null,
            "grid_template_columns": null,
            "flex": null,
            "_model_name": "LayoutModel",
            "justify_items": null,
            "grid_row": null,
            "max_height": null,
            "align_content": null,
            "visibility": null,
            "align_self": null,
            "height": null,
            "min_height": null,
            "padding": null,
            "grid_auto_rows": null,
            "grid_gap": null,
            "max_width": null,
            "order": null,
            "_view_module_version": "1.2.0",
            "grid_template_areas": null,
            "object_position": null,
            "object_fit": null,
            "grid_auto_columns": null,
            "margin": null,
            "display": null,
            "left": null
          }
        },
        "d9ef8e0dccc346b98b849665745e9a61": {
          "model_module": "@jupyter-widgets/controls",
          "model_name": "LabelModel",
          "model_module_version": "1.5.0",
          "state": {
            "_view_name": "LabelView",
            "style": "IPY_MODEL_584c3ee12888464f999499a2f98a54cf",
            "_dom_classes": [],
            "description": "",
            "_model_name": "LabelModel",
            "placeholder": "​",
            "_view_module": "@jupyter-widgets/controls",
            "_model_module_version": "1.5.0",
            "value": " 0.93MB of 0.93MB uploaded (0.00MB deduped)\r",
            "_view_count": null,
            "_view_module_version": "1.5.0",
            "description_tooltip": null,
            "_model_module": "@jupyter-widgets/controls",
            "layout": "IPY_MODEL_4741ef8771da443db9818191a51353fe"
          }
        },
        "94b650d35a4047c8bde83845e97a63f7": {
          "model_module": "@jupyter-widgets/controls",
          "model_name": "FloatProgressModel",
          "model_module_version": "1.5.0",
          "state": {
            "_view_name": "ProgressView",
            "style": "IPY_MODEL_068c526276e5424e87111f241075d215",
            "_dom_classes": [],
            "description": "",
            "_model_name": "FloatProgressModel",
            "bar_style": "",
            "max": 1,
            "_view_module": "@jupyter-widgets/controls",
            "_model_module_version": "1.5.0",
            "value": 1,
            "_view_count": null,
            "_view_module_version": "1.5.0",
            "orientation": "horizontal",
            "min": 0,
            "description_tooltip": null,
            "_model_module": "@jupyter-widgets/controls",
            "layout": "IPY_MODEL_e33af2d04fdc45bb9c63957f7e2472dc"
          }
        },
        "584c3ee12888464f999499a2f98a54cf": {
          "model_module": "@jupyter-widgets/controls",
          "model_name": "DescriptionStyleModel",
          "model_module_version": "1.5.0",
          "state": {
            "_view_name": "StyleView",
            "_model_name": "DescriptionStyleModel",
            "description_width": "",
            "_view_module": "@jupyter-widgets/base",
            "_model_module_version": "1.5.0",
            "_view_count": null,
            "_view_module_version": "1.2.0",
            "_model_module": "@jupyter-widgets/controls"
          }
        },
        "4741ef8771da443db9818191a51353fe": {
          "model_module": "@jupyter-widgets/base",
          "model_name": "LayoutModel",
          "model_module_version": "1.2.0",
          "state": {
            "_view_name": "LayoutView",
            "grid_template_rows": null,
            "right": null,
            "justify_content": null,
            "_view_module": "@jupyter-widgets/base",
            "overflow": null,
            "_model_module_version": "1.2.0",
            "_view_count": null,
            "flex_flow": null,
            "width": null,
            "min_width": null,
            "border": null,
            "align_items": null,
            "bottom": null,
            "_model_module": "@jupyter-widgets/base",
            "top": null,
            "grid_column": null,
            "overflow_y": null,
            "overflow_x": null,
            "grid_auto_flow": null,
            "grid_area": null,
            "grid_template_columns": null,
            "flex": null,
            "_model_name": "LayoutModel",
            "justify_items": null,
            "grid_row": null,
            "max_height": null,
            "align_content": null,
            "visibility": null,
            "align_self": null,
            "height": null,
            "min_height": null,
            "padding": null,
            "grid_auto_rows": null,
            "grid_gap": null,
            "max_width": null,
            "order": null,
            "_view_module_version": "1.2.0",
            "grid_template_areas": null,
            "object_position": null,
            "object_fit": null,
            "grid_auto_columns": null,
            "margin": null,
            "display": null,
            "left": null
          }
        },
        "068c526276e5424e87111f241075d215": {
          "model_module": "@jupyter-widgets/controls",
          "model_name": "ProgressStyleModel",
          "model_module_version": "1.5.0",
          "state": {
            "_view_name": "StyleView",
            "_model_name": "ProgressStyleModel",
            "description_width": "",
            "_view_module": "@jupyter-widgets/base",
            "_model_module_version": "1.5.0",
            "_view_count": null,
            "_view_module_version": "1.2.0",
            "bar_color": null,
            "_model_module": "@jupyter-widgets/controls"
          }
        },
        "e33af2d04fdc45bb9c63957f7e2472dc": {
          "model_module": "@jupyter-widgets/base",
          "model_name": "LayoutModel",
          "model_module_version": "1.2.0",
          "state": {
            "_view_name": "LayoutView",
            "grid_template_rows": null,
            "right": null,
            "justify_content": null,
            "_view_module": "@jupyter-widgets/base",
            "overflow": null,
            "_model_module_version": "1.2.0",
            "_view_count": null,
            "flex_flow": null,
            "width": null,
            "min_width": null,
            "border": null,
            "align_items": null,
            "bottom": null,
            "_model_module": "@jupyter-widgets/base",
            "top": null,
            "grid_column": null,
            "overflow_y": null,
            "overflow_x": null,
            "grid_auto_flow": null,
            "grid_area": null,
            "grid_template_columns": null,
            "flex": null,
            "_model_name": "LayoutModel",
            "justify_items": null,
            "grid_row": null,
            "max_height": null,
            "align_content": null,
            "visibility": null,
            "align_self": null,
            "height": null,
            "min_height": null,
            "padding": null,
            "grid_auto_rows": null,
            "grid_gap": null,
            "max_width": null,
            "order": null,
            "_view_module_version": "1.2.0",
            "grid_template_areas": null,
            "object_position": null,
            "object_fit": null,
            "grid_auto_columns": null,
            "margin": null,
            "display": null,
            "left": null
          }
        }
      }
    }
  },
  "cells": [
    {
      "cell_type": "markdown",
      "metadata": {
        "id": "view-in-github",
        "colab_type": "text"
      },
      "source": [
        "<a href=\"https://colab.research.google.com/github/11doris/jazz-maestro/blob/colab_word_embeddings/model_01_lsi_sections.ipynb\" target=\"_parent\"><img src=\"https://colab.research.google.com/assets/colab-badge.svg\" alt=\"Open In Colab\"/></a>"
      ]
    },
    {
      "cell_type": "markdown",
      "metadata": {
        "id": "YGhakKpa8Dtf"
      },
      "source": [
        "# Sections as Input"
      ]
    },
    {
      "cell_type": "code",
      "metadata": {
        "colab": {
          "base_uri": "https://localhost:8080/"
        },
        "id": "dm5QehpXxo31",
        "outputId": "ebfcaa1a-50cd-4530-d34a-a64a7b3532be"
      },
      "source": [
        "pip install wandb"
      ],
      "execution_count": 1,
      "outputs": [
        {
          "output_type": "stream",
          "name": "stdout",
          "text": [
            "Requirement already satisfied: wandb in /usr/local/lib/python3.7/dist-packages (0.12.9)\n",
            "Requirement already satisfied: six>=1.13.0 in /usr/local/lib/python3.7/dist-packages (from wandb) (1.15.0)\n",
            "Requirement already satisfied: python-dateutil>=2.6.1 in /usr/local/lib/python3.7/dist-packages (from wandb) (2.8.2)\n",
            "Requirement already satisfied: sentry-sdk>=1.0.0 in /usr/local/lib/python3.7/dist-packages (from wandb) (1.5.1)\n",
            "Requirement already satisfied: pathtools in /usr/local/lib/python3.7/dist-packages (from wandb) (0.1.2)\n",
            "Requirement already satisfied: yaspin>=1.0.0 in /usr/local/lib/python3.7/dist-packages (from wandb) (2.1.0)\n",
            "Requirement already satisfied: protobuf>=3.12.0 in /usr/local/lib/python3.7/dist-packages (from wandb) (3.17.3)\n",
            "Requirement already satisfied: GitPython>=1.0.0 in /usr/local/lib/python3.7/dist-packages (from wandb) (3.1.24)\n",
            "Requirement already satisfied: psutil>=5.0.0 in /usr/local/lib/python3.7/dist-packages (from wandb) (5.4.8)\n",
            "Requirement already satisfied: Click!=8.0.0,>=7.0 in /usr/local/lib/python3.7/dist-packages (from wandb) (7.1.2)\n",
            "Requirement already satisfied: configparser>=3.8.1 in /usr/local/lib/python3.7/dist-packages (from wandb) (5.2.0)\n",
            "Requirement already satisfied: requests<3,>=2.0.0 in /usr/local/lib/python3.7/dist-packages (from wandb) (2.23.0)\n",
            "Requirement already satisfied: docker-pycreds>=0.4.0 in /usr/local/lib/python3.7/dist-packages (from wandb) (0.4.0)\n",
            "Requirement already satisfied: subprocess32>=3.5.3 in /usr/local/lib/python3.7/dist-packages (from wandb) (3.5.4)\n",
            "Requirement already satisfied: promise<3,>=2.0 in /usr/local/lib/python3.7/dist-packages (from wandb) (2.3)\n",
            "Requirement already satisfied: shortuuid>=0.5.0 in /usr/local/lib/python3.7/dist-packages (from wandb) (1.0.8)\n",
            "Requirement already satisfied: PyYAML in /usr/local/lib/python3.7/dist-packages (from wandb) (3.13)\n",
            "Requirement already satisfied: gitdb<5,>=4.0.1 in /usr/local/lib/python3.7/dist-packages (from GitPython>=1.0.0->wandb) (4.0.9)\n",
            "Requirement already satisfied: typing-extensions>=3.7.4.3 in /usr/local/lib/python3.7/dist-packages (from GitPython>=1.0.0->wandb) (3.10.0.2)\n",
            "Requirement already satisfied: smmap<6,>=3.0.1 in /usr/local/lib/python3.7/dist-packages (from gitdb<5,>=4.0.1->GitPython>=1.0.0->wandb) (5.0.0)\n",
            "Requirement already satisfied: certifi>=2017.4.17 in /usr/local/lib/python3.7/dist-packages (from requests<3,>=2.0.0->wandb) (2021.10.8)\n",
            "Requirement already satisfied: chardet<4,>=3.0.2 in /usr/local/lib/python3.7/dist-packages (from requests<3,>=2.0.0->wandb) (3.0.4)\n",
            "Requirement already satisfied: idna<3,>=2.5 in /usr/local/lib/python3.7/dist-packages (from requests<3,>=2.0.0->wandb) (2.10)\n",
            "Requirement already satisfied: urllib3!=1.25.0,!=1.25.1,<1.26,>=1.21.1 in /usr/local/lib/python3.7/dist-packages (from requests<3,>=2.0.0->wandb) (1.24.3)\n",
            "Requirement already satisfied: termcolor<2.0.0,>=1.1.0 in /usr/local/lib/python3.7/dist-packages (from yaspin>=1.0.0->wandb) (1.1.0)\n"
          ]
        }
      ]
    },
    {
      "cell_type": "code",
      "metadata": {
        "colab": {
          "base_uri": "https://localhost:8080/"
        },
        "id": "HZG8BDT-xrv3",
        "outputId": "065ac6c9-083d-42a7-a595-48dd3dd278a6"
      },
      "source": [
        "!wandb login"
      ],
      "execution_count": 2,
      "outputs": [
        {
          "output_type": "stream",
          "name": "stdout",
          "text": [
            "\u001b[34m\u001b[1mwandb\u001b[0m: Currently logged in as: \u001b[33mdoris\u001b[0m (use `wandb login --relogin` to force relogin)\n"
          ]
        }
      ]
    },
    {
      "cell_type": "code",
      "metadata": {
        "id": "WHZBzAXjxz1J"
      },
      "source": [
        "import wandb"
      ],
      "execution_count": 3,
      "outputs": []
    },
    {
      "cell_type": "code",
      "metadata": {
        "colab": {
          "base_uri": "https://localhost:8080/"
        },
        "id": "MUy1ta4_782n",
        "outputId": "2dbccf9a-21f9-401a-c3e8-fae7a1e6ecc8"
      },
      "source": [
        "!pip uninstall gensim -y"
      ],
      "execution_count": 4,
      "outputs": [
        {
          "output_type": "stream",
          "name": "stdout",
          "text": [
            "Found existing installation: gensim 4.1.2\n",
            "Uninstalling gensim-4.1.2:\n",
            "  Successfully uninstalled gensim-4.1.2\n"
          ]
        }
      ]
    },
    {
      "cell_type": "code",
      "metadata": {
        "colab": {
          "base_uri": "https://localhost:8080/"
        },
        "id": "oAroxmvO8GQj",
        "outputId": "c11808c2-8ef2-4947-b280-91ef683ea0e9"
      },
      "source": [
        "!pip install gensim"
      ],
      "execution_count": 5,
      "outputs": [
        {
          "output_type": "stream",
          "name": "stdout",
          "text": [
            "Collecting gensim\n",
            "  Using cached gensim-4.1.2-cp37-cp37m-manylinux_2_12_x86_64.manylinux2010_x86_64.whl (24.1 MB)\n",
            "Requirement already satisfied: numpy>=1.17.0 in /usr/local/lib/python3.7/dist-packages (from gensim) (1.19.5)\n",
            "Requirement already satisfied: scipy>=0.18.1 in /usr/local/lib/python3.7/dist-packages (from gensim) (1.4.1)\n",
            "Requirement already satisfied: smart-open>=1.8.1 in /usr/local/lib/python3.7/dist-packages (from gensim) (5.2.1)\n",
            "Installing collected packages: gensim\n",
            "Successfully installed gensim-4.1.2\n"
          ]
        }
      ]
    },
    {
      "cell_type": "code",
      "metadata": {
        "id": "6SZ0zrKX8H-D"
      },
      "source": [
        "import gensim\n",
        "from sklearn.manifold import TSNE\n",
        "import matplotlib.pyplot as plt\n",
        "import seaborn as sns\n",
        "import pprint\n",
        "import pandas as pd\n",
        "import numpy as np\n",
        "from collections import Counter\n",
        "import plotly.express as px\n",
        "from tqdm import tqdm \n",
        "from gensim.models.doc2vec import Doc2Vec\n",
        "from gensim.models.tfidfmodel import TfidfModel\n",
        "from gensim.models.lsimodel import LsiModel\n",
        "from gensim.models import CoherenceModel\n",
        "from gensim import corpora\n",
        "from gensim import similarities\n",
        "import pickle\n",
        "import os\n",
        "import zipfile\n"
      ],
      "execution_count": 6,
      "outputs": []
    },
    {
      "cell_type": "code",
      "metadata": {
        "id": "znWar-PK8KHT"
      },
      "source": [
        "import logging\n",
        "logging.basicConfig(format='%(asctime)s : %(levelname)s : %(message)s', level=logging.INFO)"
      ],
      "execution_count": 7,
      "outputs": []
    },
    {
      "cell_type": "code",
      "metadata": {
        "colab": {
          "base_uri": "https://localhost:8080/"
        },
        "id": "kjCf_Abf8MCc",
        "outputId": "38d13f60-bde7-44ec-b68c-7e316cb26226"
      },
      "source": [
        "print(gensim.__version__)"
      ],
      "execution_count": 8,
      "outputs": [
        {
          "output_type": "stream",
          "name": "stdout",
          "text": [
            "4.1.2\n"
          ]
        }
      ]
    },
    {
      "cell_type": "code",
      "metadata": {
        "id": "_aEonlx-CT6r"
      },
      "source": [
        "!rm data.csv"
      ],
      "execution_count": 9,
      "outputs": []
    },
    {
      "cell_type": "code",
      "metadata": {
        "id": "Xhfwd9iMZ99Q"
      },
      "source": [
        "pd.set_option('display.max_rows', 500)\n",
        "pd.set_option('display.max_columns', 500)\n",
        "pd.set_option('display.width', 1000)"
      ],
      "execution_count": 10,
      "outputs": []
    },
    {
      "cell_type": "markdown",
      "metadata": {
        "id": "Nk5pPZqk0Pn7"
      },
      "source": [
        "# Configuration\n"
      ]
    },
    {
      "cell_type": "code",
      "metadata": {
        "id": "wcZ18xhgU7MZ"
      },
      "source": [
        "use_wandb = True"
      ],
      "execution_count": 11,
      "outputs": []
    },
    {
      "cell_type": "code",
      "metadata": {
        "id": "A-AD1gxGLYxp"
      },
      "source": [
        "generate_webapp_data = False"
      ],
      "execution_count": 12,
      "outputs": []
    },
    {
      "cell_type": "code",
      "metadata": {
        "id": "GfQbJQmexlxI"
      },
      "source": [
        "docu = 'sections'\n",
        "chords_preprocessing = 'rootAndDegreesPlus'"
      ],
      "execution_count": 13,
      "outputs": []
    },
    {
      "cell_type": "code",
      "metadata": {
        "id": "buoyWNl0F48Y"
      },
      "source": [
        "ngrams_for_input = [1]"
      ],
      "execution_count": 14,
      "outputs": []
    },
    {
      "cell_type": "code",
      "metadata": {
        "id": "H9AFlUZ1lpGC"
      },
      "source": [
        "remove_repetitions = False"
      ],
      "execution_count": 15,
      "outputs": []
    },
    {
      "cell_type": "code",
      "metadata": {
        "id": "K7qB2_sBvKpB"
      },
      "source": [
        "input_files = {\n",
        "    'sections': {\n",
        "        # M7 and 6 reduced to major triad, m7 reduced to m, dominant 7, m7b5, diminished, and all (b5) left as they are.\n",
        "        'rootAndDegreesPlus': '1NP6trpfnEPnFqJbmcuClvkBB28PNdF8c',\n",
        "        'rootAndDegrees7': '',\n",
        "        'rootAndDegreesSimplified': '1vyC9voFf2vpcKmS5kZBJ9Rafm7wuuzD8',\n",
        "    },\n",
        "}"
      ],
      "execution_count": 16,
      "outputs": []
    },
    {
      "cell_type": "code",
      "metadata": {
        "id": "uiI0h4ef0PCD"
      },
      "source": [
        "contrafacts = [\n",
        "               (\"26-2 [jazz1350]\", \"Confirmation [jazz1350]\"),\n",
        "               (\"52nd Street Theme [jazz1350]\", \"I Got Rhythm [jazz1350]\"), # not a good match\n",
        "               (\"Ablution [jazz1350]\", \"All The Things You Are [jazz1350]\"),\n",
        "               (\"Anthropology [jazz1350]\", \"I Got Rhythm [jazz1350]\"),\n",
        "               (\"Bright Mississippi [jazz1350]\", \"Sweet Georgia Brown [jazz1350]\"),\n",
        "               (\"C.T.A. [jazz1350]\", \"I Got Rhythm [jazz1350]\"),\n",
        "               #( \"Celia [jazz1350]\", \"I Got Rhythm [jazz1350]\"),\n",
        "               (\"Cottontail [jazz1350]\", \"I Got Rhythm [jazz1350]\"),\n",
        "               (\"Countdown [jazz1350]\", \"Tune Up [jazz1350]\"),\n",
        "               (\"Dewey Square [jazz1350]\", \"Oh, Lady Be Good [jazz1350]\"),\n",
        "               (\"Dexterity [jazz1350]\", \"I Got Rhythm [jazz1350]\"),\n",
        "               (\"Dig [jazz1350]\", \"Sweet Georgia Brown [jazz1350]\"),\n",
        "               (\"Donna Lee [jazz1350]\", \"Indiana (Back Home Again In) [jazz1350]\"),\n",
        "               (\"Don't Be That Way [jazz1350]\", \"I Got Rhythm [jazz1350]\"),  # cannot be found; bridge in different key\n",
        "               #(\"Eternal Triangle [jazz1350]\", \"I Got Rhythm [jazz1350]\"),\n",
        "               (\"Evidence [jazz1350]\", \"Just You, Just Me [jazz1350]\"),\n",
        "               (\"Flintstones [jazz1350]\", \"I Got Rhythm [jazz1350]\"),\n",
        "               (\"Four On Six [jazz1350]\", \"Summertime [jazz1350]\"),\n",
        "               (\"Freight Train [jazz1350]\", \"Blues For Alice [jazz1350]\"),\n",
        "               (\"Good Bait [jazz1350]\", \"I Got Rhythm [jazz1350]\"),  # A sections\n",
        "               (\"Hackensack [jazz1350]\", \"Oh, Lady Be Good [jazz1350]\"),\n",
        "               (\"Half Nelson [jazz1350]\", \"Lady Bird [jazz1350]\"),\n",
        "               (\"Hot House [jazz1350]\", \"What Is This Thing Called Love [jazz1350]\"),\n",
        "               (\"Impressions [jazz1350]\", \"So What [jazz1350]\"),\n",
        "               (\"In A Mellow Tone (In A Mellotone) [jazz1350]\", \"Rose Room [jazz1350]\"),\n",
        "               (\"In Walked Bud [jazz1350]\", \"Blue Skies [jazz1350]\"),\n",
        "               (\"Ko Ko [jazz1350]\", \"Cherokee [jazz1350]\"),\n",
        "               (\"Lennie's Pennies [jazz1350]\", \"Pennies From Heaven [jazz1350]\"),   ## Lennie's Pennies is in minor and therefore transposed to Amin... not possible to recognize like that\n",
        "               #( \"Let's Call This [jazz1350]\", \"Honeysuckle Rose [jazz1350]\"),\n",
        "               (\"Little Rootie Tootie [jazz1350]\", \"I Got Rhythm [jazz1350]\"),\n",
        "               (\"Little Willie Leaps [jazz1350]\", \"All God's Chillun Got Rhythm [jazz1350]\"),\n",
        "               (\"Lullaby Of Birdland [jazz1350]\", \"Love Me Or Leave Me [jazz1350]\"),\n",
        "               #(\"Moose The Mooche [jazz1350]\", \"I Got Rhythm [jazz1350]\"),\n",
        "               (\"My Little Suede Shoes [jazz1350]\", \"Jeepers Creepers [jazz1350]\"),\n",
        "               #(\"Oleo [jazz1350]\", \"I Got Rhythm [jazz1350]\"),\n",
        "               (\"Ornithology [jazz1350]\", \"How High The Moon [jazz1350]\"),\n",
        "               #(\"Passport [jazz1350]\", \"I Got Rhythm [jazz1350]\"),\n",
        "               (\"Quasimodo (Theme) [jazz1350]\", \"Embraceable You [jazz1350]\"),\n",
        "               #(\"Rhythm-a-ning [jazz1350]\", \"I Got Rhythm [jazz1350]\"),\n",
        "               (\"Room 608 [jazz1350]\", \"I Got Rhythm [jazz1350]\"),\n",
        "               #(\"Salt Peanuts [jazz1350]\", \"I Got Rhythm [jazz1350]\"),\n",
        "               (\"Satellite [jazz1350]\", \"How High The Moon [jazz1350]\"),\n",
        "               (\"Scrapple From The Apple [jazz1350]\", \"Honeysuckle Rose [jazz1350]\"), # A section\n",
        "               (\"Scrapple From The Apple [jazz1350]\", \"I Got Rhythm [jazz1350]\"), # B section\n",
        "               #(\"Segment [jazz1350]\", \"I Got Rhythm [jazz1350]\"),\n",
        "               #(\"Seven Come Eleven [jazz1350]\", \"I Got Rhythm [jazz1350]\"),\n",
        "               #(\"Shaw 'Nuff [jazz1350]\", \"I Got Rhythm [jazz1350]\"),\n",
        "               #(\"Theme, The [jazz1350]\", \"I Got Rhythm [jazz1350]\"),\n",
        "               (\"Tour De Force [jazz1350]\", \"Jeepers Creepers [jazz1350]\"),\n",
        "               (\"Wow [jazz1350]\", \"You Can Depend On Me [jazz1350]\"),\n",
        "               (\"Yardbird Suite [jazz1350]\", \"Rosetta [jazz1350]\"),\n",
        "\n",
        "               # following tunes are not from wikipedia),\n",
        "               (\"Sweet Sue, Just You [jazz1350]\", \"Honeysuckle Rose [jazz1350]\"),  # A section\n",
        "               #(\"All Of Me [jazz1350]\", \"Pennies From Heaven [jazz1350]\"), # bars 25-28 of All of Me are same as bars 17-20 of Pennies From Heaven, but different key!\n",
        "               (\"Sweet Sue, Just You [jazz1350]\", \"Bye Bye Blackbird [jazz1350]\"), # Bridge same\n",
        "               (\"These Foolish Things [jazz1350]\", \"Blue Moon [jazz1350]\"), # first 8 bars same\n",
        "               (\"These Foolish Things [jazz1350]\", \"More Than You Know [jazz1350]\"),\n",
        "               (\"These Foolish Things [jazz1350]\", \"Isn't It A Pity [jazz1350]\"),\n",
        "               (\"These Foolish Things [jazz1350]\", \"Soultrane [jazz1350]\"),\n",
        "               (\"These Foolish Things [jazz1350]\", \"Why Do I Love You [jazz1350]\"),\n",
        "               (\"Misty [jazz1350]\", \"Portrait Of Jennie [jazz1350]\"),\n",
        "               (\"Misty [jazz1350]\", \"September In The Rain [jazz1350]\"),\n",
        "               (\"Misty [jazz1350]\", \"I May Be Wrong [jazz1350]\"),  \n",
        "\n",
        "               # identical tunes\n",
        "               (\"Five Foot Two [trad]\", \"Please Don't Talk About Me When I'm Gone [trad]\"),\n",
        "               (\"What Is This Thing Called Love [jazz1350]\", \"Subconscious Lee [jazz1350]\"),\n",
        "               (\"Sweet Georgia Brown [jazz1350]\", \"Dig [jazz1350]\"),\n",
        "\n",
        "\n",
        "               # almost identical tunes\n",
        "               (\"What Is This Thing Called Love [jazz1350]\", \"Hot House [jazz1350]\"),\n",
        "               (\"Jeannie's Song [jazz1350]\", \"Shiny Stockings [jazz1350]\"),\n",
        "               (\"Alone Together [jazz1350]\", \"Segment [jazz1350]\"),\n",
        "               (\"Baubles, Bangles and Beads [jazz1350]\", \"Bossa Antigua [jazz1350]\"),\n",
        "               (\"There Will Never Be Another You [jazz1350]\", \"A Weaver Of Dreams [jazz1350]\"),\n",
        "               (\"Moten Swing [jazz1350]\", \"Once In A While (Ballad) [trad]\"), # same bridge, similar A\n",
        "               (\"All I Do Is Dream Of You [trad]\", \"L-O-V-E [jazz1350]\"),\n",
        "\n",
        "\n",
        "               # same A section\n",
        "               (\"Nancy (With The Laughing Face) [jazz1350]\", \"Body And Soul [jazz1350]\"),\n",
        "               (\"Exactly Like You [jazz1350]\", \"True (You Don't Love Me ) [trad]\"),\n",
        "               (\"Exactly Like You [jazz1350]\", \"Jersey Bounce [jazz1350]\"),\n",
        "               (\"Take The A Train [jazz1350]\", \"Girl From Ipanema, The [jazz1350]\"),\n",
        "               (\"My Heart Stood Still [jazz1350]\", \"All Too Soon [jazz1350]\"),\n",
        "               (\"Undecided [jazz1350]\", \"Broadway [jazz1350]\"),\n",
        "               (\"Let's Fall In Love [jazz1350]\", \"Heart And Soul [jazz1350]\"),\n",
        "               (\"Come Back To Me [jazz1350]\", \"I Wish I Knew [jazz1350]\"),\n",
        "               (\"Wait Till You See Her [jazz1350]\", \"A Certain Smile [jazz1350]\"),\n",
        "               (\"Killer Joe [jazz1350]\", \"Straight Life [jazz1350]\"),\n",
        "               (\"Softly, As In A Morning Sunrise [jazz1350]\", \"Segment [jazz1350]\"),\n",
        "               (\"Bei Mir Bist Du Schon (Root Hog Or Die) [trad]\", \"Egyptian Fantasy [trad]\"),\n",
        "               (\"Bei Mir Bist Du Schon (Root Hog Or Die) [trad]\", \"Puttin' On The Ritz [jazz1350]\"),\n",
        "               (\"Coquette [trad]\", \"Pretend You're Happy When You're Blue [trad]\"),\n",
        "               (\"Softly, As In A Morning Sunrise [jazz1350]\", \"Strode Rode [jazz1350]\"),\n",
        "               (\"Glory Of Love, The [jazz1350]\", \"I've Got My Fingers Crossed [trad]\"),\n",
        "               (\"Charleston, The [jazz1350]\", \"As Long As I Live [trad]\"),\n",
        "               (\"Fine And Dandy [jazz1350]\", \"I Can't Give You Anything But Love [jazz1350]\"),\n",
        "               (\"I'll Close My Eyes [jazz1350]\", \"Bluesette [jazz1350]\"),\n",
        "               (\"I'll Close My Eyes [jazz1350]\", \"There Will Never Be Another You [jazz1350]\"),\n",
        "\n",
        "\n",
        "\n",
        "               # same bridge\n",
        "               (\"If I Had You [jazz1350]\", \"Too Young To Go Steady [jazz1350]\"),\n",
        "               (\"Undecided [jazz1350]\", \"Satin Doll [jazz1350]\"),\n",
        "               (\"Billy Boy [jazz1350]\", \"Elora [jazz1350]\"),\n",
        "               (\"Dearly Beloved [jazz1350]\", \"We See [jazz1350]\"),\n",
        "               (\"Alone Together [jazz1350]\", \"A Night In Tunisia [jazz1350]\"),\n",
        "               (\"A Night In Tunisia [jazz1350]\", \"Segment [jazz1350]\"),\n",
        "               (\"Oh! Lady Be Good [trad]\", \"Sentimental Journey [jazz1350]\"),\n",
        "               (\"You Can Depend On Me [jazz1350]\", \"Move [jazz1350]\"),\n",
        "               (\"I Want To Be Happy [jazz1350]\", \"A Beautiful Friendship [jazz1350]\"),\n",
        "               (\"Flying Home [jazz1350]\", \"Down For Double [jazz1350]\"),\n",
        "               (\"Cheek To Cheek [jazz1350]\", \"Violets For Your Furs [jazz1350]\"),\n",
        "               (\"Let's Fall In Love [jazz1350]\", \"At Last [jazz1350]\"),\n",
        "               (\"Don't Be That Way [jazz1350]\", \"Long Ago And Far Away [jazz1350]\"),\n",
        "               (\"On The Sunny Side Of The Street [jazz1350]\", \"I'm Confessin' That I Love You [jazz1350]\"),\n",
        "               (\"On The Sunny Side Of The Street [jazz1350]\", \"Eclypso [jazz1350]\"),\n",
        "               (\"On The Sunny Side Of The Street [jazz1350]\", \"You Stepped Out Of A Dream [jazz1350]\"),\n",
        "               (\"Satin Doll [jazz1350]\", \"Undecided [jazz1350]\"),\n",
        "               \n",
        "\n",
        "               \n",
        "\n",
        "               # similar A section\n",
        "               (\"I Like The Likes Of You [jazz1350]\", \"Mountain Greenery [jazz1350]\"),\n",
        "               (\"My Secret Love [jazz1350]\", \"Samba De Orfeu [jazz1350]\"),\n",
        "               (\"Let's Call The Whole Thing Off [jazz1350]\", \"Fine And Dandy [jazz1350]\"),\n",
        "\n",
        "\n",
        "               # similar B section\n",
        "               (\"Folks Who Live On The Hill, The [jazz1350]\", \"My One And Only Love [jazz1350]\"),\n",
        "               (\"As Long As I Live [trad]\", \"I'm Glad There Is You [jazz1350]\"),\n",
        "               (\"I May Be Wrong [jazz1350]\", \"Teach Me Tonight [jazz1350]\"),\n",
        "               (\"Am I Blue [jazz1350]\", \"Come Back To Me [jazz1350]\"),\n",
        "               (\"My One And Only Love [jazz1350]\", \"Am I Blue [jazz1350]\"),\n",
        "               (\"On The Sunny Side Of The Street [jazz1350]\", \"September In The Rain [jazz1350]\"),\n",
        "               (\"On The Sunny Side Of The Street [jazz1350]\", \"Mountain Greenery [jazz1350]\"),\n",
        "               (\"On The Sunny Side Of The Street [jazz1350]\", \"There's No You [jazz1350]\"),\n",
        "               (\"These Foolish Things [jazz1350]\", \"Embraceable You [jazz1350]\"),\n",
        "               (\"These Foolish Things [jazz1350]\", \"Rosetta [jazz1350]\"),\n",
        "\n",
        "               # same C section\n",
        "               (\"Bill Bailey [jazz1350]\", \"Bourbon Street Parade [jazz1350]\"),\n",
        "\n",
        "               # Stella C is like Woody B\n",
        "               (\"Woody'n You [jazz1350]\", \"Stella By Starlight [jazz1350]\"),\n",
        "\n",
        "               # similar vocabulary, different progressions\n",
        "               (\"Tangerine [jazz1350]\", \"Tea For Two [jazz1350]\"),\n",
        "               (\"I Can't Give You Anything But Love [jazz1350]\", \"You Can Depend On Me [jazz1350]\"),\n",
        "               (\"This Year's Kisses [jazz1350]\", \"My Monday Date [trad]\"),\n",
        "               (\"A Blossom Fell [jazz1350]\", \"Among My Souvenirs [jazz1350]\"),\n",
        "\n",
        "]"
      ],
      "execution_count": 17,
      "outputs": []
    },
    {
      "cell_type": "code",
      "source": [
        "test_tunes = []\n",
        "for ref, sim in contrafacts:\n",
        "  if ref not in test_tunes:\n",
        "    test_tunes.append(ref)\n",
        "  if sim not in test_tunes:\n",
        "    test_tunes.append(sim)\n",
        "\n",
        "test_tunes.sort()\n",
        "len(test_tunes)"
      ],
      "metadata": {
        "colab": {
          "base_uri": "https://localhost:8080/"
        },
        "id": "0z7wMyZhEfCv",
        "outputId": "023f9346-327d-4f4e-a4d2-5689c3f6fa85"
      },
      "execution_count": 18,
      "outputs": [
        {
          "output_type": "execute_result",
          "data": {
            "text/plain": [
              "168"
            ]
          },
          "metadata": {},
          "execution_count": 18
        }
      ]
    },
    {
      "cell_type": "code",
      "source": [
        "test_contrafacts = [\n",
        "               (\"These Foolish Things [jazz1350]\", \"Why Do I Love You [jazz1350]\"),\n",
        "]"
      ],
      "metadata": {
        "id": "DgYe9Rscvg_o"
      },
      "execution_count": 19,
      "outputs": []
    },
    {
      "cell_type": "code",
      "metadata": {
        "colab": {
          "base_uri": "https://localhost:8080/"
        },
        "id": "V2OXaDW9R31b",
        "outputId": "bf783f5d-b67a-4453-d9e1-526a258c6a2f"
      },
      "source": [
        "len(contrafacts)"
      ],
      "execution_count": 20,
      "outputs": [
        {
          "output_type": "execute_result",
          "data": {
            "text/plain": [
              "115"
            ]
          },
          "metadata": {},
          "execution_count": 20
        }
      ]
    },
    {
      "cell_type": "markdown",
      "metadata": {
        "id": "gcexO7zK8Pn6"
      },
      "source": [
        "# Initialization\n",
        "\n",
        "## Download the Data"
      ]
    },
    {
      "cell_type": "code",
      "metadata": {
        "id": "JwVJo3Vat8iF"
      },
      "source": [
        "input_data = input_files['sections'][chords_preprocessing]\n",
        "\n",
        "input_path = f\"https://docs.google.com/uc?export=download&id={input_data}\"\n",
        "data_file_name = 'data.csv'\n"
      ],
      "execution_count": 21,
      "outputs": []
    },
    {
      "cell_type": "code",
      "metadata": {
        "colab": {
          "base_uri": "https://localhost:8080/",
          "height": 1000
        },
        "id": "_Dp-fijjB-pU",
        "outputId": "f5a5d738-6d35-4368-9f6c-ae7d632c887e"
      },
      "source": [
        "input_path"
      ],
      "execution_count": 22,
      "outputs": [
        {
          "output_type": "execute_result",
          "data": {
            "application/vnd.google.colaboratory.intrinsic+json": {
              "type": "string"
            },
            "text/plain": [
              "'https://docs.google.com/uc?export=download&id=1NP6trpfnEPnFqJbmcuClvkBB28PNdF8c'"
            ]
          },
          "metadata": {},
          "execution_count": 22
        }
      ]
    },
    {
      "cell_type": "code",
      "metadata": {
        "colab": {
          "base_uri": "https://localhost:8080/"
        },
        "id": "1ZVAYUH5t9Li",
        "outputId": "e6f969e7-6066-4e6c-d154-6d832687de66"
      },
      "source": [
        "!wget --no-check-certificate \"$input_path\" -O \"$data_file_name\""
      ],
      "execution_count": 23,
      "outputs": [
        {
          "output_type": "stream",
          "name": "stdout",
          "text": [
            "--2021-12-27 16:55:03--  https://docs.google.com/uc?export=download&id=1NP6trpfnEPnFqJbmcuClvkBB28PNdF8c\n",
            "Resolving docs.google.com (docs.google.com)... 108.177.125.113, 108.177.125.101, 108.177.125.102, ...\n",
            "Connecting to docs.google.com (docs.google.com)|108.177.125.113|:443... connected.\n",
            "HTTP request sent, awaiting response... 302 Moved Temporarily\n",
            "Location: https://doc-0g-4c-docs.googleusercontent.com/docs/securesc/ha0ro937gcuc7l7deffksulhg5h7mbp1/en6llfkkdco9j3u8i842p2brhgsd5m4m/1640624100000/14329102864480165501/*/1NP6trpfnEPnFqJbmcuClvkBB28PNdF8c?e=download [following]\n",
            "Warning: wildcards not supported in HTTP.\n",
            "--2021-12-27 16:55:04--  https://doc-0g-4c-docs.googleusercontent.com/docs/securesc/ha0ro937gcuc7l7deffksulhg5h7mbp1/en6llfkkdco9j3u8i842p2brhgsd5m4m/1640624100000/14329102864480165501/*/1NP6trpfnEPnFqJbmcuClvkBB28PNdF8c?e=download\n",
            "Resolving doc-0g-4c-docs.googleusercontent.com (doc-0g-4c-docs.googleusercontent.com)... 74.125.204.132, 2404:6800:4008:c04::84\n",
            "Connecting to doc-0g-4c-docs.googleusercontent.com (doc-0g-4c-docs.googleusercontent.com)|74.125.204.132|:443... connected.\n",
            "HTTP request sent, awaiting response... 200 OK\n",
            "Length: 817619 (798K) [text/csv]\n",
            "Saving to: ‘data.csv’\n",
            "\n",
            "data.csv            100%[===================>] 798.46K  --.-KB/s    in 0.008s  \n",
            "\n",
            "2021-12-27 16:55:04 (95.3 MB/s) - ‘data.csv’ saved [817619/817619]\n",
            "\n"
          ]
        }
      ]
    },
    {
      "cell_type": "markdown",
      "metadata": {
        "id": "Ljs21B7h8YvC"
      },
      "source": [
        "### Read Chords Input Data"
      ]
    },
    {
      "cell_type": "code",
      "metadata": {
        "colab": {
          "base_uri": "https://localhost:8080/",
          "height": 791
        },
        "id": "B7kK418L8aac",
        "outputId": "6e42ad98-0bea-4ada-aa7d-264fb68610d7"
      },
      "source": [
        "df = pd.read_csv(data_file_name, sep='\\t', index_col=\"id\")\n",
        "df = df.reset_index()\n",
        "df.head(5)"
      ],
      "execution_count": 24,
      "outputs": [
        {
          "output_type": "execute_result",
          "data": {
            "text/html": [
              "\n",
              "  <div id=\"df-49ef6184-9e8c-42b7-8a86-479c3c9aee6d\">\n",
              "    <div class=\"colab-df-container\">\n",
              "      <div>\n",
              "<style scoped>\n",
              "    .dataframe tbody tr th:only-of-type {\n",
              "        vertical-align: middle;\n",
              "    }\n",
              "\n",
              "    .dataframe tbody tr th {\n",
              "        vertical-align: top;\n",
              "    }\n",
              "\n",
              "    .dataframe thead th {\n",
              "        text-align: right;\n",
              "    }\n",
              "</style>\n",
              "<table border=\"1\" class=\"dataframe\">\n",
              "  <thead>\n",
              "    <tr style=\"text-align: right;\">\n",
              "      <th></th>\n",
              "      <th>id</th>\n",
              "      <th>file_name</th>\n",
              "      <th>title</th>\n",
              "      <th>title_playlist</th>\n",
              "      <th>tune_mode</th>\n",
              "      <th>tune_id</th>\n",
              "      <th>section_name</th>\n",
              "      <th>section_id</th>\n",
              "      <th>chords</th>\n",
              "    </tr>\n",
              "  </thead>\n",
              "  <tbody>\n",
              "    <tr>\n",
              "      <th>0</th>\n",
              "      <td>0</td>\n",
              "      <td>dataset/jazz1350/26-2.xml</td>\n",
              "      <td>26-2</td>\n",
              "      <td>26-2 [jazz1350]</td>\n",
              "      <td>major</td>\n",
              "      <td>0</td>\n",
              "      <td>A</td>\n",
              "      <td>1</td>\n",
              "      <td>C Eb7 G# B7 E G7 Gm C7 F G#7 C# E7 Am D7 Dm G7</td>\n",
              "    </tr>\n",
              "    <tr>\n",
              "      <th>1</th>\n",
              "      <td>1</td>\n",
              "      <td>dataset/jazz1350/26-2.xml</td>\n",
              "      <td>26-2</td>\n",
              "      <td>26-2 [jazz1350]</td>\n",
              "      <td>major</td>\n",
              "      <td>0</td>\n",
              "      <td>A</td>\n",
              "      <td>2</td>\n",
              "      <td>C Eb7 G# B7 E G7 Gm C7 F Eb7 G# B7 E G7 C</td>\n",
              "    </tr>\n",
              "    <tr>\n",
              "      <th>2</th>\n",
              "      <td>2</td>\n",
              "      <td>dataset/jazz1350/26-2.xml</td>\n",
              "      <td>26-2</td>\n",
              "      <td>26-2 [jazz1350]</td>\n",
              "      <td>major</td>\n",
              "      <td>0</td>\n",
              "      <td>B</td>\n",
              "      <td>3</td>\n",
              "      <td>Gm C7 Bm E7 A C7 F Bbm Eb7 G# Dm G7</td>\n",
              "    </tr>\n",
              "    <tr>\n",
              "      <th>3</th>\n",
              "      <td>3</td>\n",
              "      <td>dataset/jazz1350/26-2.xml</td>\n",
              "      <td>26-2</td>\n",
              "      <td>26-2 [jazz1350]</td>\n",
              "      <td>major</td>\n",
              "      <td>0</td>\n",
              "      <td>A</td>\n",
              "      <td>4</td>\n",
              "      <td>C Eb7 G# B7 E G7 Gm C7 F Eb7 G# B7 E G7 C</td>\n",
              "    </tr>\n",
              "    <tr>\n",
              "      <th>4</th>\n",
              "      <td>4</td>\n",
              "      <td>dataset/jazz1350/500 Miles High.xml</td>\n",
              "      <td>500 Miles High</td>\n",
              "      <td>500 Miles High [jazz1350]</td>\n",
              "      <td>minor</td>\n",
              "      <td>1</td>\n",
              "      <td>A</td>\n",
              "      <td>1</td>\n",
              "      <td>Am Am Cm Cm Eb Eb Em7b5 A7 Dm Dm Bm7b5 Bm7b5 B...</td>\n",
              "    </tr>\n",
              "  </tbody>\n",
              "</table>\n",
              "</div>\n",
              "      <button class=\"colab-df-convert\" onclick=\"convertToInteractive('df-49ef6184-9e8c-42b7-8a86-479c3c9aee6d')\"\n",
              "              title=\"Convert this dataframe to an interactive table.\"\n",
              "              style=\"display:none;\">\n",
              "        \n",
              "  <svg xmlns=\"http://www.w3.org/2000/svg\" height=\"24px\"viewBox=\"0 0 24 24\"\n",
              "       width=\"24px\">\n",
              "    <path d=\"M0 0h24v24H0V0z\" fill=\"none\"/>\n",
              "    <path d=\"M18.56 5.44l.94 2.06.94-2.06 2.06-.94-2.06-.94-.94-2.06-.94 2.06-2.06.94zm-11 1L8.5 8.5l.94-2.06 2.06-.94-2.06-.94L8.5 2.5l-.94 2.06-2.06.94zm10 10l.94 2.06.94-2.06 2.06-.94-2.06-.94-.94-2.06-.94 2.06-2.06.94z\"/><path d=\"M17.41 7.96l-1.37-1.37c-.4-.4-.92-.59-1.43-.59-.52 0-1.04.2-1.43.59L10.3 9.45l-7.72 7.72c-.78.78-.78 2.05 0 2.83L4 21.41c.39.39.9.59 1.41.59.51 0 1.02-.2 1.41-.59l7.78-7.78 2.81-2.81c.8-.78.8-2.07 0-2.86zM5.41 20L4 18.59l7.72-7.72 1.47 1.35L5.41 20z\"/>\n",
              "  </svg>\n",
              "      </button>\n",
              "      \n",
              "  <style>\n",
              "    .colab-df-container {\n",
              "      display:flex;\n",
              "      flex-wrap:wrap;\n",
              "      gap: 12px;\n",
              "    }\n",
              "\n",
              "    .colab-df-convert {\n",
              "      background-color: #E8F0FE;\n",
              "      border: none;\n",
              "      border-radius: 50%;\n",
              "      cursor: pointer;\n",
              "      display: none;\n",
              "      fill: #1967D2;\n",
              "      height: 32px;\n",
              "      padding: 0 0 0 0;\n",
              "      width: 32px;\n",
              "    }\n",
              "\n",
              "    .colab-df-convert:hover {\n",
              "      background-color: #E2EBFA;\n",
              "      box-shadow: 0px 1px 2px rgba(60, 64, 67, 0.3), 0px 1px 3px 1px rgba(60, 64, 67, 0.15);\n",
              "      fill: #174EA6;\n",
              "    }\n",
              "\n",
              "    [theme=dark] .colab-df-convert {\n",
              "      background-color: #3B4455;\n",
              "      fill: #D2E3FC;\n",
              "    }\n",
              "\n",
              "    [theme=dark] .colab-df-convert:hover {\n",
              "      background-color: #434B5C;\n",
              "      box-shadow: 0px 1px 3px 1px rgba(0, 0, 0, 0.15);\n",
              "      filter: drop-shadow(0px 1px 2px rgba(0, 0, 0, 0.3));\n",
              "      fill: #FFFFFF;\n",
              "    }\n",
              "  </style>\n",
              "\n",
              "      <script>\n",
              "        const buttonEl =\n",
              "          document.querySelector('#df-49ef6184-9e8c-42b7-8a86-479c3c9aee6d button.colab-df-convert');\n",
              "        buttonEl.style.display =\n",
              "          google.colab.kernel.accessAllowed ? 'block' : 'none';\n",
              "\n",
              "        async function convertToInteractive(key) {\n",
              "          const element = document.querySelector('#df-49ef6184-9e8c-42b7-8a86-479c3c9aee6d');\n",
              "          const dataTable =\n",
              "            await google.colab.kernel.invokeFunction('convertToInteractive',\n",
              "                                                     [key], {});\n",
              "          if (!dataTable) return;\n",
              "\n",
              "          const docLinkHtml = 'Like what you see? Visit the ' +\n",
              "            '<a target=\"_blank\" href=https://colab.research.google.com/notebooks/data_table.ipynb>data table notebook</a>'\n",
              "            + ' to learn more about interactive tables.';\n",
              "          element.innerHTML = '';\n",
              "          dataTable['output_type'] = 'display_data';\n",
              "          await google.colab.output.renderOutput(dataTable, element);\n",
              "          const docLink = document.createElement('div');\n",
              "          docLink.innerHTML = docLinkHtml;\n",
              "          element.appendChild(docLink);\n",
              "        }\n",
              "      </script>\n",
              "    </div>\n",
              "  </div>\n",
              "  "
            ],
            "text/plain": [
              "   id                            file_name           title             title_playlist tune_mode  tune_id section_name  section_id                                             chords\n",
              "0   0            dataset/jazz1350/26-2.xml            26-2            26-2 [jazz1350]     major        0            A           1     C Eb7 G# B7 E G7 Gm C7 F G#7 C# E7 Am D7 Dm G7\n",
              "1   1            dataset/jazz1350/26-2.xml            26-2            26-2 [jazz1350]     major        0            A           2          C Eb7 G# B7 E G7 Gm C7 F Eb7 G# B7 E G7 C\n",
              "2   2            dataset/jazz1350/26-2.xml            26-2            26-2 [jazz1350]     major        0            B           3                Gm C7 Bm E7 A C7 F Bbm Eb7 G# Dm G7\n",
              "3   3            dataset/jazz1350/26-2.xml            26-2            26-2 [jazz1350]     major        0            A           4          C Eb7 G# B7 E G7 Gm C7 F Eb7 G# B7 E G7 C\n",
              "4   4  dataset/jazz1350/500 Miles High.xml  500 Miles High  500 Miles High [jazz1350]     minor        1            A           1  Am Am Cm Cm Eb Eb Em7b5 A7 Dm Dm Bm7b5 Bm7b5 B..."
            ]
          },
          "metadata": {},
          "execution_count": 24
        }
      ]
    },
    {
      "cell_type": "markdown",
      "metadata": {
        "id": "OsPcEFbg8gu6"
      },
      "source": [
        "### Meta Data"
      ]
    },
    {
      "cell_type": "code",
      "metadata": {
        "colab": {
          "base_uri": "https://localhost:8080/",
          "height": 305
        },
        "id": "_62YlEVJXOCL",
        "outputId": "cf017a8f-dd0b-41d8-9d55-788d254926cb"
      },
      "source": [
        "titles = df.loc[:, ['id', 'tune_id', 'section_id', 'section_name', 'title', 'title_playlist', 'tune_mode']]\n",
        "titles[:5]"
      ],
      "execution_count": 25,
      "outputs": [
        {
          "output_type": "execute_result",
          "data": {
            "text/html": [
              "\n",
              "  <div id=\"df-69d8cf64-3f6e-448f-97e5-08d0e5756034\">\n",
              "    <div class=\"colab-df-container\">\n",
              "      <div>\n",
              "<style scoped>\n",
              "    .dataframe tbody tr th:only-of-type {\n",
              "        vertical-align: middle;\n",
              "    }\n",
              "\n",
              "    .dataframe tbody tr th {\n",
              "        vertical-align: top;\n",
              "    }\n",
              "\n",
              "    .dataframe thead th {\n",
              "        text-align: right;\n",
              "    }\n",
              "</style>\n",
              "<table border=\"1\" class=\"dataframe\">\n",
              "  <thead>\n",
              "    <tr style=\"text-align: right;\">\n",
              "      <th></th>\n",
              "      <th>id</th>\n",
              "      <th>tune_id</th>\n",
              "      <th>section_id</th>\n",
              "      <th>section_name</th>\n",
              "      <th>title</th>\n",
              "      <th>title_playlist</th>\n",
              "      <th>tune_mode</th>\n",
              "    </tr>\n",
              "  </thead>\n",
              "  <tbody>\n",
              "    <tr>\n",
              "      <th>0</th>\n",
              "      <td>0</td>\n",
              "      <td>0</td>\n",
              "      <td>1</td>\n",
              "      <td>A</td>\n",
              "      <td>26-2</td>\n",
              "      <td>26-2 [jazz1350]</td>\n",
              "      <td>major</td>\n",
              "    </tr>\n",
              "    <tr>\n",
              "      <th>1</th>\n",
              "      <td>1</td>\n",
              "      <td>0</td>\n",
              "      <td>2</td>\n",
              "      <td>A</td>\n",
              "      <td>26-2</td>\n",
              "      <td>26-2 [jazz1350]</td>\n",
              "      <td>major</td>\n",
              "    </tr>\n",
              "    <tr>\n",
              "      <th>2</th>\n",
              "      <td>2</td>\n",
              "      <td>0</td>\n",
              "      <td>3</td>\n",
              "      <td>B</td>\n",
              "      <td>26-2</td>\n",
              "      <td>26-2 [jazz1350]</td>\n",
              "      <td>major</td>\n",
              "    </tr>\n",
              "    <tr>\n",
              "      <th>3</th>\n",
              "      <td>3</td>\n",
              "      <td>0</td>\n",
              "      <td>4</td>\n",
              "      <td>A</td>\n",
              "      <td>26-2</td>\n",
              "      <td>26-2 [jazz1350]</td>\n",
              "      <td>major</td>\n",
              "    </tr>\n",
              "    <tr>\n",
              "      <th>4</th>\n",
              "      <td>4</td>\n",
              "      <td>1</td>\n",
              "      <td>1</td>\n",
              "      <td>A</td>\n",
              "      <td>500 Miles High</td>\n",
              "      <td>500 Miles High [jazz1350]</td>\n",
              "      <td>minor</td>\n",
              "    </tr>\n",
              "  </tbody>\n",
              "</table>\n",
              "</div>\n",
              "      <button class=\"colab-df-convert\" onclick=\"convertToInteractive('df-69d8cf64-3f6e-448f-97e5-08d0e5756034')\"\n",
              "              title=\"Convert this dataframe to an interactive table.\"\n",
              "              style=\"display:none;\">\n",
              "        \n",
              "  <svg xmlns=\"http://www.w3.org/2000/svg\" height=\"24px\"viewBox=\"0 0 24 24\"\n",
              "       width=\"24px\">\n",
              "    <path d=\"M0 0h24v24H0V0z\" fill=\"none\"/>\n",
              "    <path d=\"M18.56 5.44l.94 2.06.94-2.06 2.06-.94-2.06-.94-.94-2.06-.94 2.06-2.06.94zm-11 1L8.5 8.5l.94-2.06 2.06-.94-2.06-.94L8.5 2.5l-.94 2.06-2.06.94zm10 10l.94 2.06.94-2.06 2.06-.94-2.06-.94-.94-2.06-.94 2.06-2.06.94z\"/><path d=\"M17.41 7.96l-1.37-1.37c-.4-.4-.92-.59-1.43-.59-.52 0-1.04.2-1.43.59L10.3 9.45l-7.72 7.72c-.78.78-.78 2.05 0 2.83L4 21.41c.39.39.9.59 1.41.59.51 0 1.02-.2 1.41-.59l7.78-7.78 2.81-2.81c.8-.78.8-2.07 0-2.86zM5.41 20L4 18.59l7.72-7.72 1.47 1.35L5.41 20z\"/>\n",
              "  </svg>\n",
              "      </button>\n",
              "      \n",
              "  <style>\n",
              "    .colab-df-container {\n",
              "      display:flex;\n",
              "      flex-wrap:wrap;\n",
              "      gap: 12px;\n",
              "    }\n",
              "\n",
              "    .colab-df-convert {\n",
              "      background-color: #E8F0FE;\n",
              "      border: none;\n",
              "      border-radius: 50%;\n",
              "      cursor: pointer;\n",
              "      display: none;\n",
              "      fill: #1967D2;\n",
              "      height: 32px;\n",
              "      padding: 0 0 0 0;\n",
              "      width: 32px;\n",
              "    }\n",
              "\n",
              "    .colab-df-convert:hover {\n",
              "      background-color: #E2EBFA;\n",
              "      box-shadow: 0px 1px 2px rgba(60, 64, 67, 0.3), 0px 1px 3px 1px rgba(60, 64, 67, 0.15);\n",
              "      fill: #174EA6;\n",
              "    }\n",
              "\n",
              "    [theme=dark] .colab-df-convert {\n",
              "      background-color: #3B4455;\n",
              "      fill: #D2E3FC;\n",
              "    }\n",
              "\n",
              "    [theme=dark] .colab-df-convert:hover {\n",
              "      background-color: #434B5C;\n",
              "      box-shadow: 0px 1px 3px 1px rgba(0, 0, 0, 0.15);\n",
              "      filter: drop-shadow(0px 1px 2px rgba(0, 0, 0, 0.3));\n",
              "      fill: #FFFFFF;\n",
              "    }\n",
              "  </style>\n",
              "\n",
              "      <script>\n",
              "        const buttonEl =\n",
              "          document.querySelector('#df-69d8cf64-3f6e-448f-97e5-08d0e5756034 button.colab-df-convert');\n",
              "        buttonEl.style.display =\n",
              "          google.colab.kernel.accessAllowed ? 'block' : 'none';\n",
              "\n",
              "        async function convertToInteractive(key) {\n",
              "          const element = document.querySelector('#df-69d8cf64-3f6e-448f-97e5-08d0e5756034');\n",
              "          const dataTable =\n",
              "            await google.colab.kernel.invokeFunction('convertToInteractive',\n",
              "                                                     [key], {});\n",
              "          if (!dataTable) return;\n",
              "\n",
              "          const docLinkHtml = 'Like what you see? Visit the ' +\n",
              "            '<a target=\"_blank\" href=https://colab.research.google.com/notebooks/data_table.ipynb>data table notebook</a>'\n",
              "            + ' to learn more about interactive tables.';\n",
              "          element.innerHTML = '';\n",
              "          dataTable['output_type'] = 'display_data';\n",
              "          await google.colab.output.renderOutput(dataTable, element);\n",
              "          const docLink = document.createElement('div');\n",
              "          docLink.innerHTML = docLinkHtml;\n",
              "          element.appendChild(docLink);\n",
              "        }\n",
              "      </script>\n",
              "    </div>\n",
              "  </div>\n",
              "  "
            ],
            "text/plain": [
              "   id  tune_id  section_id section_name           title             title_playlist tune_mode\n",
              "0   0        0           1            A            26-2            26-2 [jazz1350]     major\n",
              "1   1        0           2            A            26-2            26-2 [jazz1350]     major\n",
              "2   2        0           3            B            26-2            26-2 [jazz1350]     major\n",
              "3   3        0           4            A            26-2            26-2 [jazz1350]     major\n",
              "4   4        1           1            A  500 Miles High  500 Miles High [jazz1350]     minor"
            ]
          },
          "metadata": {},
          "execution_count": 25
        }
      ]
    },
    {
      "cell_type": "code",
      "metadata": {
        "id": "0vEOjvwt8jUu"
      },
      "source": [
        "titles_dict = titles.to_dict()\n",
        "\n",
        "sectionid_to_title = titles_dict['title_playlist']\n",
        "sectionid_to_titleid = titles_dict['tune_id']\n"
      ],
      "execution_count": 26,
      "outputs": []
    },
    {
      "cell_type": "code",
      "metadata": {
        "id": "Om7pbfnNGO_I"
      },
      "source": [
        "tunes = df.loc[:, ['tune_id', 'title_playlist']].drop_duplicates()\n",
        "tunes = tunes.set_index('tune_id').to_dict()\n",
        "titleid_to_title = tunes['title_playlist']"
      ],
      "execution_count": 27,
      "outputs": []
    },
    {
      "cell_type": "code",
      "metadata": {
        "colab": {
          "base_uri": "https://localhost:8080/"
        },
        "id": "MdUrEFKj7kVA",
        "outputId": "076f5481-66c2-42c1-cf9d-25fed50beaa7"
      },
      "source": [
        "len(titleid_to_title)"
      ],
      "execution_count": 28,
      "outputs": [
        {
          "output_type": "execute_result",
          "data": {
            "text/plain": [
              "1686"
            ]
          },
          "metadata": {},
          "execution_count": 28
        }
      ]
    },
    {
      "cell_type": "code",
      "metadata": {
        "id": "OvLyxrExxvew"
      },
      "source": [
        "title_to_titleid = {v: k for k, v in titleid_to_title.items()}\n"
      ],
      "execution_count": 29,
      "outputs": []
    },
    {
      "cell_type": "code",
      "metadata": {
        "id": "1H72Y3_d8uNu"
      },
      "source": [
        "titles_rows = titles.to_dict(orient='records')\n",
        "sectionid_to_section = []\n",
        "for i, row in enumerate(titles_rows):\n",
        "  name = f\"{row['title']}, section{row['section_id']} ({row['section_name']})\"\n",
        "  sectionid_to_section.append(name)\n",
        "  "
      ],
      "execution_count": 30,
      "outputs": []
    },
    {
      "cell_type": "code",
      "metadata": {
        "id": "1W7RfTQpaIEz"
      },
      "source": [
        "sectionid_to_sectionlabel = []\n",
        "for i, row in enumerate(titles_rows):\n",
        "  sectionid_to_sectionlabel.append(row['section_name'])\n",
        "  "
      ],
      "execution_count": 31,
      "outputs": []
    },
    {
      "cell_type": "code",
      "metadata": {
        "id": "HCeGUk818y8V"
      },
      "source": [
        "title_to_sectionid = {}\n",
        "\n",
        "for row in titles.iterrows():\n",
        "  title = row[1]['title_playlist']\n",
        "  if title not in title_to_sectionid:\n",
        "    title_to_sectionid[title] = [row[1]['id']]\n",
        "  else:\n",
        "    title_to_sectionid[title].append(row[1]['id'])"
      ],
      "execution_count": 32,
      "outputs": []
    },
    {
      "cell_type": "markdown",
      "metadata": {
        "id": "GWXGqImnoHdm"
      },
      "source": [
        "### Create Directories on Colab"
      ]
    },
    {
      "cell_type": "code",
      "metadata": {
        "id": "sDWIxDpIoJv1"
      },
      "source": [
        "!rm -R output\n",
        "!mkdir output"
      ],
      "execution_count": 33,
      "outputs": []
    },
    {
      "cell_type": "markdown",
      "metadata": {
        "id": "LvQ60s_owm82"
      },
      "source": [
        "## Initialization for wandb variables"
      ]
    },
    {
      "cell_type": "code",
      "metadata": {
        "id": "fw7FHHXfwagL"
      },
      "source": [
        "recommender_results_cols = ['reference', 'id', 'method', 'similar', 'score_div_max', 'score']\n",
        "recommender_results = pd.DataFrame(columns=recommender_results_cols)"
      ],
      "execution_count": 34,
      "outputs": []
    },
    {
      "cell_type": "code",
      "metadata": {
        "id": "PfvF20G1JZMa"
      },
      "source": [
        "lsi_config = {\n",
        "    'num_topics': 100, #22, # 100 gives a better value for the contrafacts test\n",
        "}"
      ],
      "execution_count": 35,
      "outputs": []
    },
    {
      "cell_type": "code",
      "metadata": {
        "id": "sxdJ97gdx70_",
        "colab": {
          "base_uri": "https://localhost:8080/",
          "height": 212
        },
        "outputId": "64607328-0113-46c5-cd7d-d97c5c3fa481"
      },
      "source": [
        "if use_wandb:\n",
        "  wandb.init(\n",
        "        # Set entity to specify your username or team name\n",
        "        # ex: entity=\"carey\",\n",
        "        # Set the project where this run will be logged\n",
        "        project=\"lsi_model\", \n",
        "        \n",
        "        # Track hyperparameters and run metadata\n",
        "        config={\n",
        "            \"input_data\": input_path,\n",
        "            \"ngrams_input\": ngrams_for_input,\n",
        "            \"comparison\": docu,\n",
        "            \"lsi\": lsi_config,\n",
        "            \"remove_repeated_chords\": remove_repetitions,\n",
        "            \"comment\": \"\"\n",
        "        }\n",
        "    )"
      ],
      "execution_count": 36,
      "outputs": [
        {
          "output_type": "stream",
          "name": "stderr",
          "text": [
            "\u001b[34m\u001b[1mwandb\u001b[0m: Currently logged in as: \u001b[33mdoris\u001b[0m (use `wandb login --relogin` to force relogin)\n"
          ]
        },
        {
          "output_type": "display_data",
          "data": {
            "text/html": [
              "\n",
              "                    Syncing run <strong><a href=\"https://wandb.ai/doris/lsi_model/runs/1giul6jc\" target=\"_blank\">likely-disco-42</a></strong> to <a href=\"https://wandb.ai/doris/lsi_model\" target=\"_blank\">Weights & Biases</a> (<a href=\"https://docs.wandb.com/integrations/jupyter.html\" target=\"_blank\">docs</a>).<br/>\n",
              "\n",
              "                "
            ],
            "text/plain": [
              "<IPython.core.display.HTML object>"
            ]
          },
          "metadata": {}
        }
      ]
    },
    {
      "cell_type": "code",
      "metadata": {
        "id": "xHOY4TKYVN-g"
      },
      "source": [
        "if use_wandb:\n",
        "  artifact = wandb.Artifact('input_data', type='dataset')\n",
        "  artifact.add_file('data.csv')\n",
        "  wandb.log_artifact(artifact)"
      ],
      "execution_count": 37,
      "outputs": []
    },
    {
      "cell_type": "markdown",
      "metadata": {
        "id": "wox-dMcz84Bt"
      },
      "source": [
        "## Helpers functions"
      ]
    },
    {
      "cell_type": "code",
      "metadata": {
        "id": "2964REdr80Gd"
      },
      "source": [
        "def ngrams(tokens, n=2, sep='-'):\n",
        "    return [sep.join(ngram) for ngram in zip(*[tokens[i:] for i in range(n)])]"
      ],
      "execution_count": 38,
      "outputs": []
    },
    {
      "cell_type": "code",
      "metadata": {
        "id": "W42rugQPNYVP"
      },
      "source": [
        "def raw_chords_to_df(tunes):\n",
        "  tunes_chords = [item for tune in tunes for item in tune]\n",
        "  counts = Counter(tunes_chords)\n",
        "  df = pd.DataFrame(counts.items(),\n",
        "                    columns=['chord', 'count']).sort_values(by='count', ascending=False)\n",
        "\n",
        "  return df"
      ],
      "execution_count": 39,
      "outputs": []
    },
    {
      "cell_type": "markdown",
      "metadata": {
        "id": "umfsNtAdF0jM"
      },
      "source": [
        "# Data Preparation"
      ]
    },
    {
      "cell_type": "code",
      "metadata": {
        "id": "FeRqVmphCS6m"
      },
      "source": [
        "def remove_chord_repetitions(chords):\n",
        "  previous = ''\n",
        "  chords_norep = []\n",
        "  for c in chords:\n",
        "    if c != previous:\n",
        "      chords_norep.append(c)\n",
        "      previous = c\n",
        "  return chords_norep\n",
        "  "
      ],
      "execution_count": 40,
      "outputs": []
    },
    {
      "cell_type": "code",
      "metadata": {
        "id": "dCLwnqoVGcMw"
      },
      "source": [
        "lines = df.loc[:, 'chords'].tolist()\n",
        "data = [line.split(' ') for line in lines]"
      ],
      "execution_count": 41,
      "outputs": []
    },
    {
      "cell_type": "code",
      "source": [
        "test_tunes[:5]"
      ],
      "metadata": {
        "colab": {
          "base_uri": "https://localhost:8080/"
        },
        "id": "AAe9lyH2FtDU",
        "outputId": "dc6a2192-47a3-4741-9271-0c21ee2f0ebf"
      },
      "execution_count": 42,
      "outputs": [
        {
          "output_type": "execute_result",
          "data": {
            "text/plain": [
              "['26-2 [jazz1350]',\n",
              " '52nd Street Theme [jazz1350]',\n",
              " 'A Beautiful Friendship [jazz1350]',\n",
              " 'A Blossom Fell [jazz1350]',\n",
              " 'A Certain Smile [jazz1350]']"
            ]
          },
          "metadata": {},
          "execution_count": 42
        }
      ]
    },
    {
      "cell_type": "code",
      "source": [
        "test_tune_sectionid = []\n",
        "for title in test_tunes:\n",
        "  test_tune_sectionid.extend(title_to_sectionid[title])\n",
        "\n",
        "test_tune_sectionid[:10]"
      ],
      "metadata": {
        "colab": {
          "base_uri": "https://localhost:8080/"
        },
        "id": "Nuy2POFOFwBZ",
        "outputId": "0d13f9c4-cdad-4153-9213-a50e294fa722"
      },
      "execution_count": 43,
      "outputs": [
        {
          "output_type": "execute_result",
          "data": {
            "text/plain": [
              "[0, 1, 2, 3, 7, 8, 9, 10, 19, 20]"
            ]
          },
          "metadata": {},
          "execution_count": 43
        }
      ]
    },
    {
      "cell_type": "code",
      "source": [
        "len(data)"
      ],
      "metadata": {
        "colab": {
          "base_uri": "https://localhost:8080/"
        },
        "id": "c1t9d9F3F8Gz",
        "outputId": "6c8aa173-c312-4ac9-aecf-388138b3c4e4"
      },
      "execution_count": 44,
      "outputs": [
        {
          "output_type": "execute_result",
          "data": {
            "text/plain": [
              "5536"
            ]
          },
          "metadata": {},
          "execution_count": 44
        }
      ]
    },
    {
      "cell_type": "code",
      "metadata": {
        "colab": {
          "base_uri": "https://localhost:8080/"
        },
        "id": "g7SmApW9F3K6",
        "outputId": "28609ea7-a3cc-48f8-e87e-81e33816d713"
      },
      "source": [
        "processed_corpus = []\n",
        "test_corpus = []\n",
        "\n",
        "#for line in data:\n",
        "for id, line in enumerate(data):  \n",
        "  tune_n = []\n",
        "  if remove_repetitions:\n",
        "    line = remove_chord_repetitions(line)\n",
        "  for n in ngrams_for_input:\n",
        "    tune_n.extend(ngrams(line, n=n))\n",
        "  processed_corpus.append(tune_n)\n",
        "  if id not in test_tune_sectionid:\n",
        "    test_corpus.append(tune_n)\n",
        "\n",
        "for line in processed_corpus[:10]:\n",
        "  print(line)"
      ],
      "execution_count": 45,
      "outputs": [
        {
          "output_type": "stream",
          "name": "stdout",
          "text": [
            "['C', 'Eb7', 'G#', 'B7', 'E', 'G7', 'Gm', 'C7', 'F', 'G#7', 'C#', 'E7', 'Am', 'D7', 'Dm', 'G7']\n",
            "['C', 'Eb7', 'G#', 'B7', 'E', 'G7', 'Gm', 'C7', 'F', 'Eb7', 'G#', 'B7', 'E', 'G7', 'C']\n",
            "['Gm', 'C7', 'Bm', 'E7', 'A', 'C7', 'F', 'Bbm', 'Eb7', 'G#', 'Dm', 'G7']\n",
            "['C', 'Eb7', 'G#', 'B7', 'E', 'G7', 'Gm', 'C7', 'F', 'Eb7', 'G#', 'B7', 'E', 'G7', 'C']\n",
            "['Am', 'Am', 'Cm', 'Cm', 'Eb', 'Eb', 'Em7b5', 'A7', 'Dm', 'Dm', 'Bm7b5', 'Bm7b5', 'Bbm', 'Bbm', 'Fm', 'Fm', 'E7', 'E7', 'Fm', 'Fm', 'C#', 'C#', 'Fm', 'Fm', 'C#', 'C#']\n",
            "['Am', 'C#', 'Bm7b5', 'E7', 'Am', 'C#', 'Bm7b5', 'E7', 'Cm', 'F7', 'Bb', 'G#m', 'C#7', 'F#m7b5', 'B7', 'E', 'E', 'E7']\n",
            "['Am', 'C#', 'Bm7b5', 'E7', 'Am', 'C#', 'Bm7b5', 'E7', 'Cm', 'F7', 'Bb', 'G#m', 'C#7', 'F#m7b5', 'B7', 'Em', 'Em']\n",
            "['C', 'Am', 'Dm', 'G7', 'C', 'Am', 'Dm', 'G7', 'C', 'Am', 'Dm', 'G7', 'C', 'G7', 'C']\n",
            "['C', 'Am', 'Dm', 'G7', 'C', 'Am', 'Dm', 'G7', 'C', 'Am', 'Dm', 'G7', 'C', 'G7', 'C']\n",
            "['C7', 'C7', 'F', 'F', 'D7', 'D7', 'G7', 'G7']\n"
          ]
        }
      ]
    },
    {
      "cell_type": "code",
      "metadata": {
        "colab": {
          "base_uri": "https://localhost:8080/"
        },
        "id": "iERQjgxNsV6Q",
        "outputId": "0998f915-132c-49c7-fdc8-50b08109d7c9"
      },
      "source": [
        "len(processed_corpus)"
      ],
      "execution_count": 46,
      "outputs": [
        {
          "output_type": "execute_result",
          "data": {
            "text/plain": [
              "5536"
            ]
          },
          "metadata": {},
          "execution_count": 46
        }
      ]
    },
    {
      "cell_type": "markdown",
      "metadata": {
        "id": "Sri0K2DhNagp"
      },
      "source": [
        "#### Corpus Overview"
      ]
    },
    {
      "cell_type": "code",
      "metadata": {
        "colab": {
          "base_uri": "https://localhost:8080/"
        },
        "id": "X2ZqA7IF4ufg",
        "outputId": "68f29092-525a-4851-c5a6-99c446cceb60"
      },
      "source": [
        "tokens = [item for l in processed_corpus for item in l]\n",
        "total_tokens = len(tokens)\n",
        "vocab_size = len(set(tokens))\n",
        "vocab_prop = 100*vocab_size/total_tokens\n",
        "\n",
        "print(f\"Total Number of tokens: {total_tokens}\")\n",
        "print(f\"Size of vocabulary: {vocab_size}\")\n",
        "print(f\"Proportion of vocabulary in corpus: {vocab_prop:.02f}%\")"
      ],
      "execution_count": 47,
      "outputs": [
        {
          "output_type": "stream",
          "name": "stdout",
          "text": [
            "Total Number of tokens: 76721\n",
            "Size of vocabulary: 83\n",
            "Proportion of vocabulary in corpus: 0.11%\n"
          ]
        }
      ]
    },
    {
      "cell_type": "code",
      "metadata": {
        "colab": {
          "base_uri": "https://localhost:8080/",
          "height": 363
        },
        "id": "rULq3jYVNh_x",
        "outputId": "389f0606-58ca-45d8-a8b1-16885113a6d3"
      },
      "source": [
        "df_chords = raw_chords_to_df(processed_corpus)\n",
        "df_chords.head(10)"
      ],
      "execution_count": 48,
      "outputs": [
        {
          "output_type": "execute_result",
          "data": {
            "text/html": [
              "\n",
              "  <div id=\"df-685f6370-7b6f-49ef-912e-054d2a438fc1\">\n",
              "    <div class=\"colab-df-container\">\n",
              "      <div>\n",
              "<style scoped>\n",
              "    .dataframe tbody tr th:only-of-type {\n",
              "        vertical-align: middle;\n",
              "    }\n",
              "\n",
              "    .dataframe tbody tr th {\n",
              "        vertical-align: top;\n",
              "    }\n",
              "\n",
              "    .dataframe thead th {\n",
              "        text-align: right;\n",
              "    }\n",
              "</style>\n",
              "<table border=\"1\" class=\"dataframe\">\n",
              "  <thead>\n",
              "    <tr style=\"text-align: right;\">\n",
              "      <th></th>\n",
              "      <th>chord</th>\n",
              "      <th>count</th>\n",
              "    </tr>\n",
              "  </thead>\n",
              "  <tbody>\n",
              "    <tr>\n",
              "      <th>0</th>\n",
              "      <td>C</td>\n",
              "      <td>12890</td>\n",
              "    </tr>\n",
              "    <tr>\n",
              "      <th>5</th>\n",
              "      <td>G7</td>\n",
              "      <td>9688</td>\n",
              "    </tr>\n",
              "    <tr>\n",
              "      <th>14</th>\n",
              "      <td>Dm</td>\n",
              "      <td>7498</td>\n",
              "    </tr>\n",
              "    <tr>\n",
              "      <th>12</th>\n",
              "      <td>Am</td>\n",
              "      <td>5443</td>\n",
              "    </tr>\n",
              "    <tr>\n",
              "      <th>21</th>\n",
              "      <td>A7</td>\n",
              "      <td>4128</td>\n",
              "    </tr>\n",
              "    <tr>\n",
              "      <th>13</th>\n",
              "      <td>D7</td>\n",
              "      <td>3578</td>\n",
              "    </tr>\n",
              "    <tr>\n",
              "      <th>8</th>\n",
              "      <td>F</td>\n",
              "      <td>3419</td>\n",
              "    </tr>\n",
              "    <tr>\n",
              "      <th>7</th>\n",
              "      <td>C7</td>\n",
              "      <td>3111</td>\n",
              "    </tr>\n",
              "    <tr>\n",
              "      <th>11</th>\n",
              "      <td>E7</td>\n",
              "      <td>2976</td>\n",
              "    </tr>\n",
              "    <tr>\n",
              "      <th>29</th>\n",
              "      <td>Em</td>\n",
              "      <td>2555</td>\n",
              "    </tr>\n",
              "  </tbody>\n",
              "</table>\n",
              "</div>\n",
              "      <button class=\"colab-df-convert\" onclick=\"convertToInteractive('df-685f6370-7b6f-49ef-912e-054d2a438fc1')\"\n",
              "              title=\"Convert this dataframe to an interactive table.\"\n",
              "              style=\"display:none;\">\n",
              "        \n",
              "  <svg xmlns=\"http://www.w3.org/2000/svg\" height=\"24px\"viewBox=\"0 0 24 24\"\n",
              "       width=\"24px\">\n",
              "    <path d=\"M0 0h24v24H0V0z\" fill=\"none\"/>\n",
              "    <path d=\"M18.56 5.44l.94 2.06.94-2.06 2.06-.94-2.06-.94-.94-2.06-.94 2.06-2.06.94zm-11 1L8.5 8.5l.94-2.06 2.06-.94-2.06-.94L8.5 2.5l-.94 2.06-2.06.94zm10 10l.94 2.06.94-2.06 2.06-.94-2.06-.94-.94-2.06-.94 2.06-2.06.94z\"/><path d=\"M17.41 7.96l-1.37-1.37c-.4-.4-.92-.59-1.43-.59-.52 0-1.04.2-1.43.59L10.3 9.45l-7.72 7.72c-.78.78-.78 2.05 0 2.83L4 21.41c.39.39.9.59 1.41.59.51 0 1.02-.2 1.41-.59l7.78-7.78 2.81-2.81c.8-.78.8-2.07 0-2.86zM5.41 20L4 18.59l7.72-7.72 1.47 1.35L5.41 20z\"/>\n",
              "  </svg>\n",
              "      </button>\n",
              "      \n",
              "  <style>\n",
              "    .colab-df-container {\n",
              "      display:flex;\n",
              "      flex-wrap:wrap;\n",
              "      gap: 12px;\n",
              "    }\n",
              "\n",
              "    .colab-df-convert {\n",
              "      background-color: #E8F0FE;\n",
              "      border: none;\n",
              "      border-radius: 50%;\n",
              "      cursor: pointer;\n",
              "      display: none;\n",
              "      fill: #1967D2;\n",
              "      height: 32px;\n",
              "      padding: 0 0 0 0;\n",
              "      width: 32px;\n",
              "    }\n",
              "\n",
              "    .colab-df-convert:hover {\n",
              "      background-color: #E2EBFA;\n",
              "      box-shadow: 0px 1px 2px rgba(60, 64, 67, 0.3), 0px 1px 3px 1px rgba(60, 64, 67, 0.15);\n",
              "      fill: #174EA6;\n",
              "    }\n",
              "\n",
              "    [theme=dark] .colab-df-convert {\n",
              "      background-color: #3B4455;\n",
              "      fill: #D2E3FC;\n",
              "    }\n",
              "\n",
              "    [theme=dark] .colab-df-convert:hover {\n",
              "      background-color: #434B5C;\n",
              "      box-shadow: 0px 1px 3px 1px rgba(0, 0, 0, 0.15);\n",
              "      filter: drop-shadow(0px 1px 2px rgba(0, 0, 0, 0.3));\n",
              "      fill: #FFFFFF;\n",
              "    }\n",
              "  </style>\n",
              "\n",
              "      <script>\n",
              "        const buttonEl =\n",
              "          document.querySelector('#df-685f6370-7b6f-49ef-912e-054d2a438fc1 button.colab-df-convert');\n",
              "        buttonEl.style.display =\n",
              "          google.colab.kernel.accessAllowed ? 'block' : 'none';\n",
              "\n",
              "        async function convertToInteractive(key) {\n",
              "          const element = document.querySelector('#df-685f6370-7b6f-49ef-912e-054d2a438fc1');\n",
              "          const dataTable =\n",
              "            await google.colab.kernel.invokeFunction('convertToInteractive',\n",
              "                                                     [key], {});\n",
              "          if (!dataTable) return;\n",
              "\n",
              "          const docLinkHtml = 'Like what you see? Visit the ' +\n",
              "            '<a target=\"_blank\" href=https://colab.research.google.com/notebooks/data_table.ipynb>data table notebook</a>'\n",
              "            + ' to learn more about interactive tables.';\n",
              "          element.innerHTML = '';\n",
              "          dataTable['output_type'] = 'display_data';\n",
              "          await google.colab.output.renderOutput(dataTable, element);\n",
              "          const docLink = document.createElement('div');\n",
              "          docLink.innerHTML = docLinkHtml;\n",
              "          element.appendChild(docLink);\n",
              "        }\n",
              "      </script>\n",
              "    </div>\n",
              "  </div>\n",
              "  "
            ],
            "text/plain": [
              "   chord  count\n",
              "0      C  12890\n",
              "5     G7   9688\n",
              "14    Dm   7498\n",
              "12    Am   5443\n",
              "21    A7   4128\n",
              "13    D7   3578\n",
              "8      F   3419\n",
              "7     C7   3111\n",
              "11    E7   2976\n",
              "29    Em   2555"
            ]
          },
          "metadata": {},
          "execution_count": 48
        }
      ]
    },
    {
      "cell_type": "code",
      "metadata": {
        "colab": {
          "base_uri": "https://localhost:8080/",
          "height": 560
        },
        "id": "G9fknTouNmKm",
        "outputId": "647cf97c-7aa1-49e0-ba28-640a4c36a991"
      },
      "source": [
        "df_chords = pd.DataFrame.from_dict(df_chords)\n",
        "df_chords.sort_values(by=['count'], ascending=False, inplace=True)\n",
        "df_chords_top = df_chords.query('count > 100')\n",
        "\n",
        "fig = px.bar(df_chords_top, x='chord', y='count', log_y=True)\n",
        "fig.update_layout(barmode='stack', xaxis={'categoryorder':'total descending'})\n",
        "fig.show()"
      ],
      "execution_count": 49,
      "outputs": [
        {
          "output_type": "stream",
          "name": "stderr",
          "text": [
            "2021-12-27 16:55:16,691 : INFO : NumExpr defaulting to 2 threads.\n"
          ]
        },
        {
          "output_type": "display_data",
          "data": {
            "text/html": [
              "<html>\n",
              "<head><meta charset=\"utf-8\" /></head>\n",
              "<body>\n",
              "    <div>\n",
              "            <script src=\"https://cdnjs.cloudflare.com/ajax/libs/mathjax/2.7.5/MathJax.js?config=TeX-AMS-MML_SVG\"></script><script type=\"text/javascript\">if (window.MathJax) {MathJax.Hub.Config({SVG: {font: \"STIX-Web\"}});}</script>\n",
              "                <script type=\"text/javascript\">window.PlotlyConfig = {MathJaxConfig: 'local'};</script>\n",
              "        <script src=\"https://cdn.plot.ly/plotly-latest.min.js\"></script>    \n",
              "            <div id=\"4d593902-17d3-49a3-9cc1-951bad83431b\" class=\"plotly-graph-div\" style=\"height:525px; width:100%;\"></div>\n",
              "            <script type=\"text/javascript\">\n",
              "                \n",
              "                    window.PLOTLYENV=window.PLOTLYENV || {};\n",
              "                    \n",
              "                if (document.getElementById(\"4d593902-17d3-49a3-9cc1-951bad83431b\")) {\n",
              "                    Plotly.newPlot(\n",
              "                        '4d593902-17d3-49a3-9cc1-951bad83431b',\n",
              "                        [{\"alignmentgroup\": \"True\", \"hoverlabel\": {\"namelength\": 0}, \"hovertemplate\": \"chord=%{x}<br>count=%{y}\", \"legendgroup\": \"\", \"marker\": {\"color\": \"#636efa\"}, \"name\": \"\", \"offsetgroup\": \"\", \"orientation\": \"v\", \"showlegend\": false, \"textposition\": \"auto\", \"type\": \"bar\", \"x\": [\"C\", \"G7\", \"Dm\", \"Am\", \"A7\", \"D7\", \"F\", \"C7\", \"E7\", \"Em\", \"Bb7\", \"F7\", \"Fm\", \"B7\", \"Gm\", \"Bm7b5\", \"G#7\", \"G\", \"Ebdim\", \"Cm\", \"Eb7\", \"F#m7b5\", \"G7sus4\", \"Bm\", \"C#7\", \"G#\", \"Em7b5\", \"Bb\", \"F#7\", \"F#m\", \"E\", \"Eb\", \"F#dim\", \"C#dim\", \"Ebm\", \"C#\", \"Dm7b5\", \"A\", \"Bbm\", \"D\", \"C#m\", \"Cdim\", \"B\", \"G#m\", \"C7sus4\", \"F#\"], \"xaxis\": \"x\", \"y\": [12890, 9688, 7498, 5443, 4128, 3578, 3419, 3111, 2976, 2555, 1605, 1602, 1517, 1340, 1225, 911, 902, 732, 634, 588, 558, 547, 510, 504, 493, 482, 468, 465, 453, 440, 436, 375, 374, 353, 347, 328, 312, 310, 293, 288, 237, 184, 148, 147, 146, 137], \"yaxis\": \"y\"}],\n",
              "                        {\"barmode\": \"stack\", \"legend\": {\"tracegroupgap\": 0}, \"margin\": {\"t\": 60}, \"template\": {\"data\": {\"bar\": [{\"error_x\": {\"color\": \"#2a3f5f\"}, \"error_y\": {\"color\": \"#2a3f5f\"}, \"marker\": {\"line\": {\"color\": \"#E5ECF6\", \"width\": 0.5}}, \"type\": \"bar\"}], \"barpolar\": [{\"marker\": {\"line\": {\"color\": \"#E5ECF6\", \"width\": 0.5}}, \"type\": \"barpolar\"}], \"carpet\": [{\"aaxis\": {\"endlinecolor\": \"#2a3f5f\", \"gridcolor\": \"white\", \"linecolor\": \"white\", \"minorgridcolor\": \"white\", \"startlinecolor\": \"#2a3f5f\"}, \"baxis\": {\"endlinecolor\": \"#2a3f5f\", \"gridcolor\": \"white\", \"linecolor\": \"white\", \"minorgridcolor\": \"white\", \"startlinecolor\": \"#2a3f5f\"}, \"type\": \"carpet\"}], \"choropleth\": [{\"colorbar\": {\"outlinewidth\": 0, \"ticks\": \"\"}, \"type\": \"choropleth\"}], \"contour\": [{\"colorbar\": {\"outlinewidth\": 0, \"ticks\": \"\"}, \"colorscale\": [[0.0, \"#0d0887\"], [0.1111111111111111, \"#46039f\"], [0.2222222222222222, \"#7201a8\"], [0.3333333333333333, \"#9c179e\"], [0.4444444444444444, \"#bd3786\"], [0.5555555555555556, \"#d8576b\"], [0.6666666666666666, \"#ed7953\"], [0.7777777777777778, \"#fb9f3a\"], [0.8888888888888888, \"#fdca26\"], [1.0, \"#f0f921\"]], \"type\": \"contour\"}], \"contourcarpet\": [{\"colorbar\": {\"outlinewidth\": 0, \"ticks\": \"\"}, \"type\": \"contourcarpet\"}], \"heatmap\": [{\"colorbar\": {\"outlinewidth\": 0, \"ticks\": \"\"}, \"colorscale\": [[0.0, \"#0d0887\"], [0.1111111111111111, \"#46039f\"], [0.2222222222222222, \"#7201a8\"], [0.3333333333333333, \"#9c179e\"], [0.4444444444444444, \"#bd3786\"], [0.5555555555555556, \"#d8576b\"], [0.6666666666666666, \"#ed7953\"], [0.7777777777777778, \"#fb9f3a\"], [0.8888888888888888, \"#fdca26\"], [1.0, \"#f0f921\"]], \"type\": \"heatmap\"}], \"heatmapgl\": [{\"colorbar\": {\"outlinewidth\": 0, \"ticks\": \"\"}, \"colorscale\": [[0.0, \"#0d0887\"], [0.1111111111111111, \"#46039f\"], [0.2222222222222222, \"#7201a8\"], [0.3333333333333333, \"#9c179e\"], [0.4444444444444444, \"#bd3786\"], [0.5555555555555556, \"#d8576b\"], [0.6666666666666666, \"#ed7953\"], [0.7777777777777778, \"#fb9f3a\"], [0.8888888888888888, \"#fdca26\"], [1.0, \"#f0f921\"]], \"type\": \"heatmapgl\"}], \"histogram\": [{\"marker\": {\"colorbar\": {\"outlinewidth\": 0, \"ticks\": \"\"}}, \"type\": \"histogram\"}], \"histogram2d\": [{\"colorbar\": {\"outlinewidth\": 0, \"ticks\": \"\"}, \"colorscale\": [[0.0, \"#0d0887\"], [0.1111111111111111, \"#46039f\"], [0.2222222222222222, \"#7201a8\"], [0.3333333333333333, \"#9c179e\"], [0.4444444444444444, \"#bd3786\"], [0.5555555555555556, \"#d8576b\"], [0.6666666666666666, \"#ed7953\"], [0.7777777777777778, \"#fb9f3a\"], [0.8888888888888888, \"#fdca26\"], [1.0, \"#f0f921\"]], \"type\": \"histogram2d\"}], \"histogram2dcontour\": [{\"colorbar\": {\"outlinewidth\": 0, \"ticks\": \"\"}, \"colorscale\": [[0.0, \"#0d0887\"], [0.1111111111111111, \"#46039f\"], [0.2222222222222222, \"#7201a8\"], [0.3333333333333333, \"#9c179e\"], [0.4444444444444444, \"#bd3786\"], [0.5555555555555556, \"#d8576b\"], [0.6666666666666666, \"#ed7953\"], [0.7777777777777778, \"#fb9f3a\"], [0.8888888888888888, \"#fdca26\"], [1.0, \"#f0f921\"]], \"type\": \"histogram2dcontour\"}], \"mesh3d\": [{\"colorbar\": {\"outlinewidth\": 0, \"ticks\": \"\"}, \"type\": \"mesh3d\"}], \"parcoords\": [{\"line\": {\"colorbar\": {\"outlinewidth\": 0, \"ticks\": \"\"}}, \"type\": \"parcoords\"}], \"pie\": [{\"automargin\": true, \"type\": \"pie\"}], \"scatter\": [{\"marker\": {\"colorbar\": {\"outlinewidth\": 0, \"ticks\": \"\"}}, \"type\": \"scatter\"}], \"scatter3d\": [{\"line\": {\"colorbar\": {\"outlinewidth\": 0, \"ticks\": \"\"}}, \"marker\": {\"colorbar\": {\"outlinewidth\": 0, \"ticks\": \"\"}}, \"type\": \"scatter3d\"}], \"scattercarpet\": [{\"marker\": {\"colorbar\": {\"outlinewidth\": 0, \"ticks\": \"\"}}, \"type\": \"scattercarpet\"}], \"scattergeo\": [{\"marker\": {\"colorbar\": {\"outlinewidth\": 0, \"ticks\": \"\"}}, \"type\": \"scattergeo\"}], \"scattergl\": [{\"marker\": {\"colorbar\": {\"outlinewidth\": 0, \"ticks\": \"\"}}, \"type\": \"scattergl\"}], \"scattermapbox\": [{\"marker\": {\"colorbar\": {\"outlinewidth\": 0, \"ticks\": \"\"}}, \"type\": \"scattermapbox\"}], \"scatterpolar\": [{\"marker\": {\"colorbar\": {\"outlinewidth\": 0, \"ticks\": \"\"}}, \"type\": \"scatterpolar\"}], \"scatterpolargl\": [{\"marker\": {\"colorbar\": {\"outlinewidth\": 0, \"ticks\": \"\"}}, \"type\": \"scatterpolargl\"}], \"scatterternary\": [{\"marker\": {\"colorbar\": {\"outlinewidth\": 0, \"ticks\": \"\"}}, \"type\": \"scatterternary\"}], \"surface\": [{\"colorbar\": {\"outlinewidth\": 0, \"ticks\": \"\"}, \"colorscale\": [[0.0, \"#0d0887\"], [0.1111111111111111, \"#46039f\"], [0.2222222222222222, \"#7201a8\"], [0.3333333333333333, \"#9c179e\"], [0.4444444444444444, \"#bd3786\"], [0.5555555555555556, \"#d8576b\"], [0.6666666666666666, \"#ed7953\"], [0.7777777777777778, \"#fb9f3a\"], [0.8888888888888888, \"#fdca26\"], [1.0, \"#f0f921\"]], \"type\": \"surface\"}], \"table\": [{\"cells\": {\"fill\": {\"color\": \"#EBF0F8\"}, \"line\": {\"color\": \"white\"}}, \"header\": {\"fill\": {\"color\": \"#C8D4E3\"}, \"line\": {\"color\": \"white\"}}, \"type\": \"table\"}]}, \"layout\": {\"annotationdefaults\": {\"arrowcolor\": \"#2a3f5f\", \"arrowhead\": 0, \"arrowwidth\": 1}, \"coloraxis\": {\"colorbar\": {\"outlinewidth\": 0, \"ticks\": \"\"}}, \"colorscale\": {\"diverging\": [[0, \"#8e0152\"], [0.1, \"#c51b7d\"], [0.2, \"#de77ae\"], [0.3, \"#f1b6da\"], [0.4, \"#fde0ef\"], [0.5, \"#f7f7f7\"], [0.6, \"#e6f5d0\"], [0.7, \"#b8e186\"], [0.8, \"#7fbc41\"], [0.9, \"#4d9221\"], [1, \"#276419\"]], \"sequential\": [[0.0, \"#0d0887\"], [0.1111111111111111, \"#46039f\"], [0.2222222222222222, \"#7201a8\"], [0.3333333333333333, \"#9c179e\"], [0.4444444444444444, \"#bd3786\"], [0.5555555555555556, \"#d8576b\"], [0.6666666666666666, \"#ed7953\"], [0.7777777777777778, \"#fb9f3a\"], [0.8888888888888888, \"#fdca26\"], [1.0, \"#f0f921\"]], \"sequentialminus\": [[0.0, \"#0d0887\"], [0.1111111111111111, \"#46039f\"], [0.2222222222222222, \"#7201a8\"], [0.3333333333333333, \"#9c179e\"], [0.4444444444444444, \"#bd3786\"], [0.5555555555555556, \"#d8576b\"], [0.6666666666666666, \"#ed7953\"], [0.7777777777777778, \"#fb9f3a\"], [0.8888888888888888, \"#fdca26\"], [1.0, \"#f0f921\"]]}, \"colorway\": [\"#636efa\", \"#EF553B\", \"#00cc96\", \"#ab63fa\", \"#FFA15A\", \"#19d3f3\", \"#FF6692\", \"#B6E880\", \"#FF97FF\", \"#FECB52\"], \"font\": {\"color\": \"#2a3f5f\"}, \"geo\": {\"bgcolor\": \"white\", \"lakecolor\": \"white\", \"landcolor\": \"#E5ECF6\", \"showlakes\": true, \"showland\": true, \"subunitcolor\": \"white\"}, \"hoverlabel\": {\"align\": \"left\"}, \"hovermode\": \"closest\", \"mapbox\": {\"style\": \"light\"}, \"paper_bgcolor\": \"white\", \"plot_bgcolor\": \"#E5ECF6\", \"polar\": {\"angularaxis\": {\"gridcolor\": \"white\", \"linecolor\": \"white\", \"ticks\": \"\"}, \"bgcolor\": \"#E5ECF6\", \"radialaxis\": {\"gridcolor\": \"white\", \"linecolor\": \"white\", \"ticks\": \"\"}}, \"scene\": {\"xaxis\": {\"backgroundcolor\": \"#E5ECF6\", \"gridcolor\": \"white\", \"gridwidth\": 2, \"linecolor\": \"white\", \"showbackground\": true, \"ticks\": \"\", \"zerolinecolor\": \"white\"}, \"yaxis\": {\"backgroundcolor\": \"#E5ECF6\", \"gridcolor\": \"white\", \"gridwidth\": 2, \"linecolor\": \"white\", \"showbackground\": true, \"ticks\": \"\", \"zerolinecolor\": \"white\"}, \"zaxis\": {\"backgroundcolor\": \"#E5ECF6\", \"gridcolor\": \"white\", \"gridwidth\": 2, \"linecolor\": \"white\", \"showbackground\": true, \"ticks\": \"\", \"zerolinecolor\": \"white\"}}, \"shapedefaults\": {\"line\": {\"color\": \"#2a3f5f\"}}, \"ternary\": {\"aaxis\": {\"gridcolor\": \"white\", \"linecolor\": \"white\", \"ticks\": \"\"}, \"baxis\": {\"gridcolor\": \"white\", \"linecolor\": \"white\", \"ticks\": \"\"}, \"bgcolor\": \"#E5ECF6\", \"caxis\": {\"gridcolor\": \"white\", \"linecolor\": \"white\", \"ticks\": \"\"}}, \"title\": {\"x\": 0.05}, \"xaxis\": {\"automargin\": true, \"gridcolor\": \"white\", \"linecolor\": \"white\", \"ticks\": \"\", \"title\": {\"standoff\": 15}, \"zerolinecolor\": \"white\", \"zerolinewidth\": 2}, \"yaxis\": {\"automargin\": true, \"gridcolor\": \"white\", \"linecolor\": \"white\", \"ticks\": \"\", \"title\": {\"standoff\": 15}, \"zerolinecolor\": \"white\", \"zerolinewidth\": 2}}}, \"xaxis\": {\"anchor\": \"y\", \"categoryorder\": \"total descending\", \"domain\": [0.0, 1.0], \"title\": {\"text\": \"chord\"}}, \"yaxis\": {\"anchor\": \"x\", \"domain\": [0.0, 1.0], \"title\": {\"text\": \"count\"}, \"type\": \"log\"}},\n",
              "                        {\"responsive\": true}\n",
              "                    ).then(function(){\n",
              "                            \n",
              "var gd = document.getElementById('4d593902-17d3-49a3-9cc1-951bad83431b');\n",
              "var x = new MutationObserver(function (mutations, observer) {{\n",
              "        var display = window.getComputedStyle(gd).display;\n",
              "        if (!display || display === 'none') {{\n",
              "            console.log([gd, 'removed!']);\n",
              "            Plotly.purge(gd);\n",
              "            observer.disconnect();\n",
              "        }}\n",
              "}});\n",
              "\n",
              "// Listen for the removal of the full notebook cells\n",
              "var notebookContainer = gd.closest('#notebook-container');\n",
              "if (notebookContainer) {{\n",
              "    x.observe(notebookContainer, {childList: true});\n",
              "}}\n",
              "\n",
              "// Listen for the clearing of the current output cell\n",
              "var outputEl = gd.closest('.output');\n",
              "if (outputEl) {{\n",
              "    x.observe(outputEl, {childList: true});\n",
              "}}\n",
              "\n",
              "                        })\n",
              "                };\n",
              "                \n",
              "            </script>\n",
              "        </div>\n",
              "</body>\n",
              "</html>"
            ]
          },
          "metadata": {}
        }
      ]
    },
    {
      "cell_type": "markdown",
      "metadata": {
        "id": "cG5dtDpkWwLE"
      },
      "source": [
        "Plot Distribution accoring to Zipf's Law\n",
        "\n",
        "source: https://stats.stackexchange.com/questions/331219/characterizing-fitting-word-count-data-into-zipf-power-law-lognormal"
      ]
    },
    {
      "cell_type": "code",
      "metadata": {
        "id": "tazf9QRST5NP"
      },
      "source": [
        "from collections import Counter\n",
        "\n",
        "counter_of_words = df_chords.set_index('chord').to_dict(orient='dict')\n",
        "counter_of_words = Counter(counter_of_words['count'])\n",
        "\n",
        "word_counts = sorted(counter_of_words.values(), reverse=True)\n",
        "frequency_rank = np.array(list(range(1, len(word_counts) + 1)))"
      ],
      "execution_count": 50,
      "outputs": []
    },
    {
      "cell_type": "code",
      "metadata": {
        "colab": {
          "base_uri": "https://localhost:8080/",
          "height": 223
        },
        "id": "Jc80DSe7QlkV",
        "outputId": "249b1baf-2686-4b41-ad07-c5a64f00ffd9"
      },
      "source": [
        "plt.figure(figsize=(20, 3))\n",
        "\n",
        "plt.subplot(1, 2, 1)\n",
        "\n",
        "n = 30\n",
        "df_top = df_chords_top.head(n)\n",
        "plt.bar(df_top['chord'], np.log(df_top['count']))\n",
        "plt.xlabel('')\n",
        "plt.ylabel('Absolute Counts (log)')\n",
        "plt.title(f'Top {n} Most Frequent Chords in the Corpus')\n",
        "ax = plt.gca()\n",
        "ax.set_xticklabels(labels=df_chords_top['chord'],rotation=90);\n",
        "\n",
        "plt.subplot(1, 2, 2)\n",
        "\n",
        "plt.scatter(np.log(frequency_rank), np.log(word_counts))\n",
        "plt.xlabel('Frequency Rank of Token (log)')\n",
        "plt.ylabel('Absolute Count of Token (log)')\n",
        "plt.title('Zipf Plot for Chord Frequencies')\n",
        "\n",
        "plt.savefig('plot.png')"
      ],
      "execution_count": 51,
      "outputs": [
        {
          "output_type": "display_data",
          "data": {
            "image/png": "[encoded data removed]",
            "text/plain": [
              "<Figure size 1440x216 with 2 Axes>"
            ]
          },
          "metadata": {
            "needs_background": "light"
          }
        }
      ]
    },
    {
      "cell_type": "code",
      "metadata": {
        "colab": {
          "base_uri": "https://localhost:8080/",
          "height": 205
        },
        "id": "g-hNqtE_sYBE",
        "outputId": "f5ee7af5-2e41-4843-8d5f-c280b63c6711"
      },
      "source": [
        "plt.figure(figsize=(22, 3))\n",
        "\n",
        "n = 100\n",
        "\n",
        "df_top = df_chords_top.head(n)\n",
        "plt.bar(df_top['chord'], np.log(df_top['count']))\n",
        "plt.xlabel('')\n",
        "plt.ylabel('Absolute Counts (log)')\n",
        "plt.title(f'Top {n} Most Frequent Chords and n-gram Chords in the Corpus')\n",
        "ax = plt.gca()\n",
        "ax.set_xticklabels(labels=df_chords_top['chord'],rotation=90);"
      ],
      "execution_count": 52,
      "outputs": [
        {
          "output_type": "display_data",
          "data": {
            "image/png": "[encoded data removed]",
            "text/plain": [
              "<Figure size 1584x216 with 1 Axes>"
            ]
          },
          "metadata": {
            "needs_background": "light"
          }
        }
      ]
    },
    {
      "cell_type": "code",
      "metadata": {
        "id": "a1IvM4wh7zOv"
      },
      "source": [
        "if use_wandb:\n",
        "  wandb.log(\n",
        "      {\"corpus\": {\n",
        "              \"total_tokens\": total_tokens,\n",
        "              \"vocab_size\": vocab_size,\n",
        "              \"vocab_proportion_in_corpus\": vocab_prop,\n",
        "              \"zipf_plot\": wandb.Image('plot.png'),\n",
        "              \"data_encoding\": \"bow\",\n",
        "              }\n",
        "      }\n",
        "  )"
      ],
      "execution_count": 53,
      "outputs": []
    },
    {
      "cell_type": "code",
      "metadata": {
        "id": "til5xlce_y1m"
      },
      "source": [
        "!rm -R index\n",
        "!mkdir index"
      ],
      "execution_count": 54,
      "outputs": []
    },
    {
      "cell_type": "markdown",
      "metadata": {
        "id": "ZLK0coIu9Tv5"
      },
      "source": [
        "## Test Functions\n"
      ]
    },
    {
      "cell_type": "code",
      "metadata": {
        "id": "Fzrj1qxwDpJT"
      },
      "source": [
        "def get_sim_scores(tunes, index, model, topn=50):\n",
        "\n",
        "    df_sim = pd.DataFrame(columns=['reference_title',\n",
        "                                   'reference_titleid',\n",
        "                                   'similar_title',\n",
        "                                   'similar_titleid',\n",
        "                                   'ref_section', \n",
        "                                   'ref_section_label',\n",
        "                                   'ref_sectionid',\n",
        "                                   'similar_section',\n",
        "                                   'similar_section_label',\n",
        "                                   'similar_sectionid',\n",
        "                                   'score', \n",
        "                                  ])\n",
        "\n",
        "    for tune in tqdm(tunes):\n",
        "      for s1 in title_to_sectionid[tune]:\n",
        "      \n",
        "          query = processed_corpus[s1]\n",
        "          query_bow = dictionary.doc2bow(query)\n",
        "\n",
        "          # perform a similarity query against the corpus\n",
        "          similarities = index[model[query_bow]]\n",
        "          sims = sorted(enumerate(similarities), key=lambda item: -item[1])\n",
        "          \n",
        "          n = 0\n",
        "          for s2, s2_score in sims:\n",
        "            \n",
        "            # store the top N best results\n",
        "            if n > topn:\n",
        "                break\n",
        "            # don't count self-similarity between sections of the same tune\n",
        "            if s2 not in title_to_sectionid[tune]:\n",
        "                # print(f\"\\t{s2_score:.3f} {sectionid_to_section[s2]}\")\n",
        "                n += 1\n",
        "                df_sim.loc[len(df_sim)] = [tune,\n",
        "                                           title_to_titleid[tune],\n",
        "                                           sectionid_to_title[s2],\n",
        "                                           sectionid_to_titleid[s2],\n",
        "                                           sectionid_to_section[s1],\n",
        "                                           sectionid_to_sectionlabel[s1],\n",
        "                                           s1,\n",
        "                                           sectionid_to_section[s2], \n",
        "                                           sectionid_to_sectionlabel[s2],\n",
        "                                           s2,\n",
        "                                           s2_score, \n",
        "                                           ]\n",
        "    return df_sim"
      ],
      "execution_count": 55,
      "outputs": []
    },
    {
      "cell_type": "markdown",
      "metadata": {
        "id": "wqaUEFqxXZYB"
      },
      "source": [
        "## Test Contrafacts"
      ]
    },
    {
      "cell_type": "markdown",
      "metadata": {
        "id": "563ncYqAfIyN"
      },
      "source": [
        "With the model, query the top N highest matches for each section. For a tune, if at least one section receives the recommendation  for the expected title, increase the match counter."
      ]
    },
    {
      "cell_type": "code",
      "metadata": {
        "id": "RVPtraR-hg0G"
      },
      "source": [
        "def test_contrafacts(tunes, index, model, N=15):\n",
        "  matches = 0\n",
        "  number_of_sections = 0\n",
        "  results = {}\n",
        "\n",
        "  for tune, similar_tune in tunes:\n",
        "\n",
        "    # loop over all sections of the tune\n",
        "    section_matches = 0\n",
        "    rank = 0\n",
        "    score = 0\n",
        "\n",
        "    for s1 in title_to_sectionid[tune]:\n",
        "      query = processed_corpus[s1]\n",
        "      query_bow = dictionary.doc2bow(query)\n",
        "\n",
        "      # perform a similarity query against the corpus\n",
        "      similarities = index[model[query_bow]]\n",
        "      sims = sorted(enumerate(similarities), key=lambda item: -item[1])\n",
        "      #print(f\"s1: {s1}\")\n",
        "      #print(f\"similar_tune: {similar_tune}, {title_to_sectionid[similar_tune]}\")\n",
        "      #print(sims)\n",
        "      #print(len(sims))\n",
        "      \n",
        "      # check if the section matches the expected title; consider only the first N recommendations\n",
        "      i = 0\n",
        "      for sectionid, value in sims:\n",
        "        if i >= N:\n",
        "          break\n",
        "        if sectionid_to_title[sectionid] == similar_tune:\n",
        "          section_matches += 1\n",
        "          print(f\"Found {tune} - {similar_tune} {sectionid_to_sectionlabel[sectionid]} with value {value}\")\n",
        "          if value > score:\n",
        "            rank = i\n",
        "            score = value\n",
        "          break\n",
        "        i += 1\n",
        "\n",
        "    # for each title, increase matches if at least one of the section matched the expected title\n",
        "    if section_matches > 0:\n",
        "      matches += 1  \n",
        "      results[f'{tune}, {similar_tune}'] = {'found': 1,\n",
        "                                            'score': score,\n",
        "                                            'rank': rank}\n",
        "    else:\n",
        "      score = 0\n",
        "      for sectionid in title_to_sectionid[similar_tune]:\n",
        "        sim_value = similarities[sectionid]\n",
        "        score = sim_value if sim_value > score else score\n",
        "\n",
        "      results[f'{tune}, {similar_tune}'] = {'found': 0,\n",
        "                                            'score': score,\n",
        "                                            'rank': rank}\n",
        "  \n",
        "  return matches, results\n"
      ],
      "execution_count": 56,
      "outputs": []
    },
    {
      "cell_type": "markdown",
      "metadata": {
        "id": "99xHBRsd--OB"
      },
      "source": [
        "# LSA (Latent Semantic Analysis), aka LSI (Latent Semantic Index) "
      ]
    },
    {
      "cell_type": "code",
      "metadata": {
        "id": "adsW9Uh9_JXs"
      },
      "source": [
        "from collections import defaultdict"
      ],
      "execution_count": 57,
      "outputs": []
    },
    {
      "cell_type": "markdown",
      "source": [
        "Use the Test Corpus to train the LSI Model."
      ],
      "metadata": {
        "id": "O_DVEF-hP0he"
      }
    },
    {
      "cell_type": "code",
      "source": [
        "no_below = 5"
      ],
      "metadata": {
        "id": "jYH6XfY8zmss"
      },
      "execution_count": 58,
      "outputs": []
    },
    {
      "cell_type": "code",
      "source": [
        "dictionary = corpora.Dictionary(processed_corpus)\n",
        "\n",
        "# Filter out words that occur less than 20 documents, or more than 50% of the documents.\n",
        "dictionary.filter_extremes(no_below=no_below, no_above=1.0)\n",
        "\n",
        "bow_corpus = [dictionary.doc2bow(text) for text in processed_corpus]"
      ],
      "metadata": {
        "colab": {
          "base_uri": "https://localhost:8080/"
        },
        "id": "A9ddieQTbHGD",
        "outputId": "c7f76a33-95e5-41dc-a338-5160a47ac71b"
      },
      "execution_count": 59,
      "outputs": [
        {
          "output_type": "stream",
          "name": "stderr",
          "text": [
            "2021-12-27 16:55:23,405 : INFO : adding document #0 to Dictionary(0 unique tokens: [])\n",
            "2021-12-27 16:55:23,771 : INFO : built Dictionary(83 unique tokens: ['Am', 'B7', 'C', 'C#', 'C7']...) from 5536 documents (total 76721 corpus positions)\n",
            "2021-12-27 16:55:23,778 : INFO : Dictionary lifecycle event {'msg': \"built Dictionary(83 unique tokens: ['Am', 'B7', 'C', 'C#', 'C7']...) from 5536 documents (total 76721 corpus positions)\", 'datetime': '2021-12-27T16:55:23.778827', 'gensim': '4.1.2', 'python': '3.7.12 (default, Sep 10 2021, 00:21:48) \\n[GCC 7.5.0]', 'platform': 'Linux-5.4.144+-x86_64-with-Ubuntu-18.04-bionic', 'event': 'created'}\n",
            "2021-12-27 16:55:23,785 : INFO : discarding 10 tokens: [('Ebsus4', 1), ('Asus4', 1), ('B11', 1), ('Csus4', 4), ('Esus4', 4), ('Fsus4', 1), ('Bsus4', 1), ('G#sus4', 1), ('Bbsus4', 1), ('G11', 3)]...\n",
            "2021-12-27 16:55:23,792 : INFO : keeping 73 tokens which were in no less than 5 and no more than 5536 (=100.0%) documents\n",
            "2021-12-27 16:55:23,797 : INFO : resulting dictionary: Dictionary(73 unique tokens: ['Am', 'B7', 'C', 'C#', 'C7']...)\n"
          ]
        }
      ]
    },
    {
      "cell_type": "code",
      "source": [
        "for doc in bow_corpus[:5]:\n",
        "   print([[dictionary[id], freq] for id, freq in doc])"
      ],
      "metadata": {
        "colab": {
          "base_uri": "https://localhost:8080/"
        },
        "id": "VJiStgTYbahs",
        "outputId": "07de01a9-8e65-4d8f-a3e3-cf48b2193c6e"
      },
      "execution_count": 60,
      "outputs": [
        {
          "output_type": "stream",
          "name": "stdout",
          "text": [
            "[['Am', 1], ['B7', 1], ['C', 1], ['C#', 1], ['C7', 1], ['D7', 1], ['Dm', 1], ['E', 1], ['E7', 1], ['Eb7', 1], ['F', 1], ['G#', 1], ['G#7', 1], ['G7', 2], ['Gm', 1]]\n",
            "[['B7', 2], ['C', 2], ['C7', 1], ['E', 2], ['Eb7', 2], ['F', 1], ['G#', 2], ['G7', 2], ['Gm', 1]]\n",
            "[['C7', 2], ['Dm', 1], ['E7', 1], ['Eb7', 1], ['F', 1], ['G#', 1], ['G7', 1], ['Gm', 1], ['A', 1], ['Bbm', 1], ['Bm', 1]]\n",
            "[['B7', 2], ['C', 2], ['C7', 1], ['E', 2], ['Eb7', 2], ['F', 1], ['G#', 2], ['G7', 2], ['Gm', 1]]\n",
            "[['Am', 2], ['C#', 4], ['Dm', 2], ['E7', 2], ['Bbm', 2], ['A7', 1], ['Bm7b5', 2], ['Cm', 2], ['Eb', 2], ['Em7b5', 1], ['Fm', 6]]\n"
          ]
        }
      ]
    },
    {
      "cell_type": "code",
      "source": [
        "#dictionary.token2id"
      ],
      "metadata": {
        "id": "Qk4me7Ogbl7H"
      },
      "execution_count": 61,
      "outputs": []
    },
    {
      "cell_type": "code",
      "source": [
        "test_dictionary = corpora.Dictionary(test_corpus)\n",
        "\n",
        "\n",
        "\n",
        "print(len(test_dictionary))\n",
        "# Filter out words that occur less than 20 documents, or more than 50% of the documents.\n",
        "test_dictionary.filter_extremes(no_below=no_below, no_above=1.0)\n",
        "print(len(test_dictionary))"
      ],
      "metadata": {
        "colab": {
          "base_uri": "https://localhost:8080/"
        },
        "id": "FjVs226FbJCR",
        "outputId": "1f9c75db-3805-4c70-c2a1-d7d3e9c38fdf"
      },
      "execution_count": 62,
      "outputs": [
        {
          "output_type": "stream",
          "name": "stderr",
          "text": [
            "2021-12-27 16:55:23,967 : INFO : adding document #0 to Dictionary(0 unique tokens: [])\n",
            "2021-12-27 16:55:24,223 : INFO : built Dictionary(83 unique tokens: ['A7', 'Am', 'Bbm', 'Bm7b5', 'C#']...) from 4915 documents (total 69116 corpus positions)\n",
            "2021-12-27 16:55:24,227 : INFO : Dictionary lifecycle event {'msg': \"built Dictionary(83 unique tokens: ['A7', 'Am', 'Bbm', 'Bm7b5', 'C#']...) from 4915 documents (total 69116 corpus positions)\", 'datetime': '2021-12-27T16:55:24.226948', 'gensim': '4.1.2', 'python': '3.7.12 (default, Sep 10 2021, 00:21:48) \\n[GCC 7.5.0]', 'platform': 'Linux-5.4.144+-x86_64-with-Ubuntu-18.04-bionic', 'event': 'created'}\n",
            "2021-12-27 16:55:24,231 : INFO : discarding 10 tokens: [('Ebsus4', 1), ('Asus4', 1), ('B11', 1), ('Csus4', 4), ('Esus4', 4), ('Fsus4', 1), ('Bsus4', 1), ('G#sus4', 1), ('Bbsus4', 1), ('G11', 3)]...\n",
            "2021-12-27 16:55:24,233 : INFO : keeping 73 tokens which were in no less than 5 and no more than 4915 (=100.0%) documents\n",
            "2021-12-27 16:55:24,236 : INFO : resulting dictionary: Dictionary(73 unique tokens: ['A7', 'Am', 'Bbm', 'Bm7b5', 'C#']...)\n"
          ]
        },
        {
          "output_type": "stream",
          "name": "stdout",
          "text": [
            "83\n",
            "73\n"
          ]
        }
      ]
    },
    {
      "cell_type": "code",
      "source": [
        "test_bow_corpus = [dictionary.doc2bow(text) for text in test_corpus]"
      ],
      "metadata": {
        "id": "d45Q1ZSyy_-t"
      },
      "execution_count": 63,
      "outputs": []
    },
    {
      "cell_type": "code",
      "metadata": {
        "colab": {
          "base_uri": "https://localhost:8080/"
        },
        "id": "s3AJZGRD_IHW",
        "outputId": "a7b38b43-4291-4cbb-da83-a876048efc9d"
      },
      "source": [
        "num_topics = lsi_config['num_topics']\n",
        "\n",
        "lsi = LsiModel(test_bow_corpus, \n",
        "               id2word=test_dictionary, \n",
        "               num_topics=num_topics)"
      ],
      "execution_count": 64,
      "outputs": [
        {
          "output_type": "stream",
          "name": "stderr",
          "text": [
            "2021-12-27 16:55:24,412 : INFO : using serial LSI version on this node\n",
            "2021-12-27 16:55:24,415 : INFO : updating model with new documents\n",
            "2021-12-27 16:55:24,418 : INFO : preparing a new chunk of documents\n",
            "2021-12-27 16:55:24,553 : INFO : using 100 extra samples and 2 power iterations\n",
            "2021-12-27 16:55:24,559 : INFO : 1st phase: constructing (73, 200) action matrix\n",
            "2021-12-27 16:55:24,692 : INFO : orthonormalizing (73, 200) action matrix\n",
            "2021-12-27 16:55:24,742 : INFO : 2nd phase: running dense svd on (73, 4915) matrix\n",
            "2021-12-27 16:55:24,832 : INFO : computing the final decomposition\n",
            "2021-12-27 16:55:24,836 : INFO : keeping 73 factors (discarding 0.000% of energy spectrum)\n",
            "2021-12-27 16:55:24,849 : INFO : processed documents up to #4915\n",
            "2021-12-27 16:55:24,861 : INFO : topic #0(308.579): 0.705*\"Bbm\" + 0.478*\"C#7\" + 0.331*\"Dm\" + 0.175*\"Em\" + 0.175*\"A7\" + 0.162*\"Fm\" + 0.153*\"Cm\" + 0.118*\"C#\" + 0.099*\"Eb\" + 0.096*\"C#m\"\n",
            "2021-12-27 16:55:24,871 : INFO : topic #1(150.531): 0.803*\"A7\" + -0.382*\"Bbm\" + 0.339*\"Eb\" + 0.197*\"Dm\" + 0.116*\"Bb7\" + 0.100*\"Cm\" + 0.072*\"D7\" + 0.065*\"C#m\" + 0.060*\"Am\" + 0.056*\"C#\"\n",
            "2021-12-27 16:55:24,893 : INFO : topic #2(111.700): 0.596*\"Dm\" + -0.458*\"Bbm\" + -0.337*\"A7\" + 0.311*\"C#7\" + 0.293*\"Em\" + 0.221*\"C#m\" + -0.210*\"Fm\" + -0.132*\"Eb\" + 0.075*\"C#\" + 0.074*\"F#7\"\n",
            "2021-12-27 16:55:24,898 : INFO : topic #3(99.909): 0.780*\"C#\" + -0.332*\"Dm\" + 0.251*\"Cm\" + 0.242*\"Fm\" + -0.207*\"Bbm\" + 0.168*\"D7\" + 0.167*\"C#7\" + -0.131*\"A7\" + 0.114*\"E\" + 0.099*\"F#7\"\n",
            "2021-12-27 16:55:24,904 : INFO : topic #4(86.943): 0.563*\"Cm\" + 0.446*\"C#7\" + -0.352*\"Fm\" + -0.340*\"Dm\" + -0.327*\"C#\" + -0.194*\"C#m\" + 0.176*\"Em\" + -0.130*\"Bbm\" + 0.130*\"Eb\" + -0.118*\"E\"\n",
            "2021-12-27 16:55:24,905 : INFO : LsiModel lifecycle event {'msg': 'trained LsiModel(num_terms=73, num_topics=100, decay=1.0, chunksize=20000) in 0.49s', 'datetime': '2021-12-27T16:55:24.905664', 'gensim': '4.1.2', 'python': '3.7.12 (default, Sep 10 2021, 00:21:48) \\n[GCC 7.5.0]', 'platform': 'Linux-5.4.144+-x86_64-with-Ubuntu-18.04-bionic', 'event': 'created'}\n"
          ]
        }
      ]
    },
    {
      "cell_type": "markdown",
      "source": [
        "Use the Full Corpus to calculate the similarity matrix."
      ],
      "metadata": {
        "id": "06b4OxcWP40s"
      }
    },
    {
      "cell_type": "code",
      "metadata": {
        "id": "EvxSQFfBBNMJ",
        "colab": {
          "base_uri": "https://localhost:8080/"
        },
        "outputId": "100b6625-f321-49e3-d821-b4a1763307f0"
      },
      "source": [
        "index_lsi = similarities.Similarity('/content/index/index_lsi', lsi[bow_corpus], num_features=len(dictionary))"
      ],
      "execution_count": 65,
      "outputs": [
        {
          "output_type": "stream",
          "name": "stderr",
          "text": [
            "2021-12-27 16:55:24,945 : INFO : starting similarity index under /content/index/index_lsi\n"
          ]
        }
      ]
    },
    {
      "cell_type": "code",
      "metadata": {
        "id": "3saA6NY5Tzer"
      },
      "source": [
        "#index_lsi = similarities.SparseMatrixSimilarity(lsi[bow_corpus], num_features = len(dictionary))\n",
        "#index_lsi = similarities.MatrixSimilarity(lsi[bow_corpus])  # transform corpus to LSI space and index it\n"
      ],
      "execution_count": 66,
      "outputs": []
    },
    {
      "cell_type": "code",
      "metadata": {
        "colab": {
          "base_uri": "https://localhost:8080/"
        },
        "id": "F5pbDMVyfEtS",
        "outputId": "b6e71674-ae58-4775-d493-3dd5b9e3425f"
      },
      "source": [
        "lsi.save('/content/index/lsi.model')\n",
        "index_lsi.save('/content/index/lsi_matrixsim.index')\n"
      ],
      "execution_count": 67,
      "outputs": [
        {
          "output_type": "stream",
          "name": "stderr",
          "text": [
            "2021-12-27 16:55:26,189 : INFO : Projection lifecycle event {'fname_or_handle': '/content/index/lsi.model.projection', 'separately': 'None', 'sep_limit': 10485760, 'ignore': frozenset(), 'datetime': '2021-12-27T16:55:26.188948', 'gensim': '4.1.2', 'python': '3.7.12 (default, Sep 10 2021, 00:21:48) \\n[GCC 7.5.0]', 'platform': 'Linux-5.4.144+-x86_64-with-Ubuntu-18.04-bionic', 'event': 'saving'}\n",
            "2021-12-27 16:55:26,231 : INFO : saved /content/index/lsi.model.projection\n",
            "2021-12-27 16:55:26,233 : INFO : LsiModel lifecycle event {'fname_or_handle': '/content/index/lsi.model', 'separately': 'None', 'sep_limit': 10485760, 'ignore': ['projection', 'dispatcher'], 'datetime': '2021-12-27T16:55:26.233206', 'gensim': '4.1.2', 'python': '3.7.12 (default, Sep 10 2021, 00:21:48) \\n[GCC 7.5.0]', 'platform': 'Linux-5.4.144+-x86_64-with-Ubuntu-18.04-bionic', 'event': 'saving'}\n",
            "2021-12-27 16:55:26,237 : INFO : not storing attribute projection\n",
            "2021-12-27 16:55:26,241 : INFO : not storing attribute dispatcher\n",
            "2021-12-27 16:55:26,245 : INFO : saved /content/index/lsi.model\n",
            "2021-12-27 16:55:26,254 : INFO : creating matrix with 5536 documents and 73 features\n",
            "2021-12-27 16:55:26,286 : INFO : creating dense shard #0\n",
            "2021-12-27 16:55:26,288 : INFO : saving index shard to /content/index/index_lsi.0\n",
            "2021-12-27 16:55:26,293 : INFO : MatrixSimilarity lifecycle event {'fname_or_handle': '/content/index/index_lsi.0', 'separately': 'None', 'sep_limit': 10485760, 'ignore': frozenset(), 'datetime': '2021-12-27T16:55:26.293719', 'gensim': '4.1.2', 'python': '3.7.12 (default, Sep 10 2021, 00:21:48) \\n[GCC 7.5.0]', 'platform': 'Linux-5.4.144+-x86_64-with-Ubuntu-18.04-bionic', 'event': 'saving'}\n",
            "2021-12-27 16:55:26,303 : INFO : saved /content/index/index_lsi.0\n",
            "2021-12-27 16:55:26,311 : INFO : loading MatrixSimilarity object from /content/index/index_lsi.0\n",
            "2021-12-27 16:55:26,318 : INFO : MatrixSimilarity lifecycle event {'fname': '/content/index/index_lsi.0', 'datetime': '2021-12-27T16:55:26.318628', 'gensim': '4.1.2', 'python': '3.7.12 (default, Sep 10 2021, 00:21:48) \\n[GCC 7.5.0]', 'platform': 'Linux-5.4.144+-x86_64-with-Ubuntu-18.04-bionic', 'event': 'loaded'}\n",
            "2021-12-27 16:55:26,328 : INFO : Similarity lifecycle event {'fname_or_handle': '/content/index/lsi_matrixsim.index', 'separately': 'None', 'sep_limit': 10485760, 'ignore': frozenset(), 'datetime': '2021-12-27T16:55:26.328596', 'gensim': '4.1.2', 'python': '3.7.12 (default, Sep 10 2021, 00:21:48) \\n[GCC 7.5.0]', 'platform': 'Linux-5.4.144+-x86_64-with-Ubuntu-18.04-bionic', 'event': 'saving'}\n",
            "2021-12-27 16:55:26,330 : INFO : saved /content/index/lsi_matrixsim.index\n"
          ]
        }
      ]
    },
    {
      "cell_type": "code",
      "metadata": {
        "colab": {
          "base_uri": "https://localhost:8080/"
        },
        "id": "1udPIceqYk6S",
        "outputId": "44f848a4-6841-46e0-b672-af961426fdf5"
      },
      "source": [
        "!ls -la /content/index"
      ],
      "execution_count": 68,
      "outputs": [
        {
          "output_type": "stream",
          "name": "stdout",
          "text": [
            "total 1640\n",
            "drwxr-xr-x 2 root root    4096 Dec 27 16:55 .\n",
            "drwxr-xr-x 1 root root    4096 Dec 27 16:55 ..\n",
            "-rw-r--r-- 1 root root 1617184 Dec 27 16:55 index_lsi.0\n",
            "-rw-r--r-- 1 root root     742 Dec 27 16:55 lsi_matrixsim.index\n",
            "-rw-r--r-- 1 root root    2743 Dec 27 16:55 lsi.model\n",
            "-rw-r--r-- 1 root root   43896 Dec 27 16:55 lsi.model.projection\n"
          ]
        }
      ]
    },
    {
      "cell_type": "markdown",
      "metadata": {
        "id": "u05KD64Ai1uo"
      },
      "source": [
        "## Tests"
      ]
    },
    {
      "cell_type": "markdown",
      "metadata": {
        "id": "Ojrjp11ni6Pl"
      },
      "source": [
        "### Tests for Contrafacts"
      ]
    },
    {
      "cell_type": "code",
      "metadata": {
        "colab": {
          "base_uri": "https://localhost:8080/"
        },
        "id": "KbjSJgwp02ED",
        "outputId": "3e0d02a1-adb4-49a8-b7a7-3b0bb6915233"
      },
      "source": [
        "len(contrafacts)"
      ],
      "execution_count": 69,
      "outputs": [
        {
          "output_type": "execute_result",
          "data": {
            "text/plain": [
              "115"
            ]
          },
          "metadata": {},
          "execution_count": 69
        }
      ]
    },
    {
      "cell_type": "code",
      "metadata": {
        "colab": {
          "base_uri": "https://localhost:8080/"
        },
        "id": "D0_7m1qji6A-",
        "outputId": "44157ec9-e3a3-4e48-9f7a-3cd270e55ed0"
      },
      "source": [
        "topN = 30\n",
        "matches, results = test_contrafacts(contrafacts, index_lsi, lsi, topN)\n",
        "\n",
        "print(f\"Found matches: {matches} out of {len(results)}: {100*matches/len(results):.3f}%\")\n",
        "print() \n",
        "for rr, val in results.items():\n",
        "  if val == 0:\n",
        "    print(f\"{val}: {rr}\")\n"
      ],
      "execution_count": 70,
      "outputs": [
        {
          "output_type": "stream",
          "name": "stdout",
          "text": [
            "Found 26-2 [jazz1350] - Confirmation [jazz1350] B with value 0.805823028087616\n",
            "Found Ablution [jazz1350] - All The Things You Are [jazz1350] A with value 0.9534624814987183\n",
            "Found Ablution [jazz1350] - All The Things You Are [jazz1350] B with value 0.8581163883209229\n",
            "Found Ablution [jazz1350] - All The Things You Are [jazz1350] C with value 0.8999999761581421\n",
            "Found Ablution [jazz1350] - All The Things You Are [jazz1350] D with value 0.8603089451789856\n",
            "Found Anthropology [jazz1350] - I Got Rhythm [jazz1350] B with value 0.9999999403953552\n",
            "Found Bright Mississippi [jazz1350] - Sweet Georgia Brown [jazz1350] A with value 0.8581162691116333\n",
            "Found C.T.A. [jazz1350] - I Got Rhythm [jazz1350] B with value 0.9999999403953552\n",
            "Found Cottontail [jazz1350] - I Got Rhythm [jazz1350] A with value 0.9428291916847229\n",
            "Found Cottontail [jazz1350] - I Got Rhythm [jazz1350] B with value 0.9999999403953552\n",
            "Found Cottontail [jazz1350] - I Got Rhythm [jazz1350] A with value 0.9428291916847229\n",
            "Found Countdown [jazz1350] - Tune Up [jazz1350] A with value 0.820347011089325\n",
            "Found Dexterity [jazz1350] - I Got Rhythm [jazz1350] B with value 0.9999999403953552\n",
            "Found Dig [jazz1350] - Sweet Georgia Brown [jazz1350] A with value 1.0\n",
            "Found Dig [jazz1350] - Sweet Georgia Brown [jazz1350] C with value 1.0\n",
            "Found Donna Lee [jazz1350] - Indiana (Back Home Again In) [jazz1350] A with value 0.9778023958206177\n",
            "Found Donna Lee [jazz1350] - Indiana (Back Home Again In) [jazz1350] B with value 0.9227979183197021\n",
            "Found Don't Be That Way [jazz1350] - I Got Rhythm [jazz1350] B with value 0.7276068329811096\n",
            "Found Evidence [jazz1350] - Just You, Just Me [jazz1350] B with value 0.9428090453147888\n",
            "Found Flintstones [jazz1350] - I Got Rhythm [jazz1350] B with value 0.9999999403953552\n",
            "Found Four On Six [jazz1350] - Summertime [jazz1350] A with value 0.9340808391571045\n",
            "Found Freight Train [jazz1350] - Blues For Alice [jazz1350] A with value 0.8928571343421936\n",
            "Found Hackensack [jazz1350] - Oh, Lady Be Good [jazz1350] A with value 0.9406400918960571\n",
            "Found Hackensack [jazz1350] - Oh, Lady Be Good [jazz1350] A with value 0.9406400918960571\n",
            "Found Half Nelson [jazz1350] - Lady Bird [jazz1350] A with value 0.9780192375183105\n",
            "Found Hot House [jazz1350] - What Is This Thing Called Love [jazz1350] A with value 1.0\n",
            "Found Hot House [jazz1350] - What Is This Thing Called Love [jazz1350] A with value 1.0\n",
            "Found Hot House [jazz1350] - What Is This Thing Called Love [jazz1350] B with value 0.9258201718330383\n",
            "Found Hot House [jazz1350] - What Is This Thing Called Love [jazz1350] A with value 1.0\n",
            "Found Impressions [jazz1350] - So What [jazz1350] A with value 0.9999999403953552\n",
            "Found Impressions [jazz1350] - So What [jazz1350] A with value 0.9999999403953552\n",
            "Found Impressions [jazz1350] - So What [jazz1350] B with value 0.9999999403953552\n",
            "Found Impressions [jazz1350] - So What [jazz1350] A with value 0.9999999403953552\n",
            "Found In A Mellow Tone (In A Mellotone) [jazz1350] - Rose Room [jazz1350] A with value 0.9258202314376831\n",
            "Found In A Mellow Tone (In A Mellotone) [jazz1350] - Rose Room [jazz1350] A with value 0.9258202314376831\n",
            "Found In Walked Bud [jazz1350] - Blue Skies [jazz1350] A with value 0.9380832314491272\n",
            "Found In Walked Bud [jazz1350] - Blue Skies [jazz1350] A with value 0.9449111223220825\n",
            "Found In Walked Bud [jazz1350] - Blue Skies [jazz1350] A with value 0.9380832314491272\n",
            "Found Ko Ko [jazz1350] - Cherokee [jazz1350] A with value 0.9999998807907104\n",
            "Found Ko Ko [jazz1350] - Cherokee [jazz1350] A with value 0.9999999403953552\n",
            "Found Ko Ko [jazz1350] - Cherokee [jazz1350] B with value 1.0\n",
            "Found Lullaby Of Birdland [jazz1350] - Love Me Or Leave Me [jazz1350] A with value 0.8740285038948059\n",
            "Found Lullaby Of Birdland [jazz1350] - Love Me Or Leave Me [jazz1350] A with value 0.8932596445083618\n",
            "Found Ornithology [jazz1350] - How High The Moon [jazz1350] A with value 1.0\n",
            "Found Ornithology [jazz1350] - How High The Moon [jazz1350] B with value 0.9444443583488464\n",
            "Found Ornithology [jazz1350] - How High The Moon [jazz1350] A with value 1.0\n",
            "Found Ornithology [jazz1350] - How High The Moon [jazz1350] C with value 0.9999999403953552\n",
            "Found Satellite [jazz1350] - How High The Moon [jazz1350] A with value 0.6454972624778748\n",
            "Found Satellite [jazz1350] - How High The Moon [jazz1350] B with value 0.835504412651062\n",
            "Found Satellite [jazz1350] - How High The Moon [jazz1350] A with value 0.6454972624778748\n",
            "Found Scrapple From The Apple [jazz1350] - Honeysuckle Rose [jazz1350] A with value 0.942990243434906\n",
            "Found Scrapple From The Apple [jazz1350] - I Got Rhythm [jazz1350] B with value 0.9999999403953552\n",
            "Found Tour De Force [jazz1350] - Jeepers Creepers [jazz1350] B with value 0.8206098675727844\n",
            "Found Wow [jazz1350] - You Can Depend On Me [jazz1350] B with value 0.9258200526237488\n",
            "Found Yardbird Suite [jazz1350] - Rosetta [jazz1350] A with value 0.8819170594215393\n",
            "Found Yardbird Suite [jazz1350] - Rosetta [jazz1350] A with value 0.8593378663063049\n",
            "Found Yardbird Suite [jazz1350] - Rosetta [jazz1350] A with value 0.8744746446609497\n",
            "Found These Foolish Things [jazz1350] - More Than You Know [jazz1350] B with value 0.9165151715278625\n",
            "Found These Foolish Things [jazz1350] - Isn't It A Pity [jazz1350] A with value 0.9106418490409851\n",
            "Found These Foolish Things [jazz1350] - Soultrane [jazz1350] B with value 0.7506519556045532\n",
            "Found Misty [jazz1350] - Portrait Of Jennie [jazz1350] A with value 0.9550230503082275\n",
            "Found Misty [jazz1350] - Portrait Of Jennie [jazz1350] A with value 0.9292837381362915\n",
            "Found Misty [jazz1350] - September In The Rain [jazz1350] A with value 0.9141380190849304\n",
            "Found Misty [jazz1350] - I May Be Wrong [jazz1350] A with value 0.9141380190849304\n",
            "Found Misty [jazz1350] - I May Be Wrong [jazz1350] A with value 0.9325048327445984\n",
            "Found Five Foot Two [trad] - Please Don't Talk About Me When I'm Gone [trad] A with value 1.0\n",
            "Found Five Foot Two [trad] - Please Don't Talk About Me When I'm Gone [trad] A with value 1.0\n",
            "Found Five Foot Two [trad] - Please Don't Talk About Me When I'm Gone [trad] B with value 0.9999999403953552\n",
            "Found Five Foot Two [trad] - Please Don't Talk About Me When I'm Gone [trad] A with value 1.0\n",
            "Found What Is This Thing Called Love [jazz1350] - Subconscious Lee [jazz1350] A with value 1.0\n",
            "Found What Is This Thing Called Love [jazz1350] - Subconscious Lee [jazz1350] A with value 1.0\n",
            "Found What Is This Thing Called Love [jazz1350] - Subconscious Lee [jazz1350] B with value 0.9258201122283936\n",
            "Found What Is This Thing Called Love [jazz1350] - Subconscious Lee [jazz1350] A with value 1.0\n",
            "Found Sweet Georgia Brown [jazz1350] - Dig [jazz1350] A with value 1.0\n",
            "Found Sweet Georgia Brown [jazz1350] - Dig [jazz1350] A with value 1.0\n",
            "Found Sweet Georgia Brown [jazz1350] - Dig [jazz1350] C with value 1.0\n",
            "Found What Is This Thing Called Love [jazz1350] - Hot House [jazz1350] A with value 1.0\n",
            "Found What Is This Thing Called Love [jazz1350] - Hot House [jazz1350] A with value 1.0\n",
            "Found What Is This Thing Called Love [jazz1350] - Hot House [jazz1350] B with value 0.9258201122283936\n",
            "Found What Is This Thing Called Love [jazz1350] - Hot House [jazz1350] A with value 1.0\n",
            "Found Jeannie's Song [jazz1350] - Shiny Stockings [jazz1350] A with value 1.0000001192092896\n",
            "Found Jeannie's Song [jazz1350] - Shiny Stockings [jazz1350] A with value 1.0000001192092896\n",
            "Found Jeannie's Song [jazz1350] - Shiny Stockings [jazz1350] C with value 0.9660916924476624\n",
            "Found Alone Together [jazz1350] - Segment [jazz1350] B with value 0.9999999403953552\n",
            "Found Alone Together [jazz1350] - Segment [jazz1350] A with value 0.9684959650039673\n",
            "Found Baubles, Bangles and Beads [jazz1350] - Bossa Antigua [jazz1350] A with value 0.9999998807907104\n",
            "Found Baubles, Bangles and Beads [jazz1350] - Bossa Antigua [jazz1350] C with value 0.771516740322113\n",
            "Found There Will Never Be Another You [jazz1350] - A Weaver Of Dreams [jazz1350] A with value 1.0\n",
            "Found There Will Never Be Another You [jazz1350] - A Weaver Of Dreams [jazz1350] A with value 1.0\n",
            "Found Moten Swing [jazz1350] - Once In A While (Ballad) [trad] B with value 0.9890706539154053\n",
            "Found All I Do Is Dream Of You [trad] - L-O-V-E [jazz1350] A with value 0.9866000413894653\n",
            "Found All I Do Is Dream Of You [trad] - L-O-V-E [jazz1350] A with value 0.9557783603668213\n",
            "Found Nancy (With The Laughing Face) [jazz1350] - Body And Soul [jazz1350] A with value 0.9464970827102661\n",
            "Found Nancy (With The Laughing Face) [jazz1350] - Body And Soul [jazz1350] A with value 0.9261585474014282\n",
            "Found Nancy (With The Laughing Face) [jazz1350] - Body And Soul [jazz1350] A with value 0.9464971423149109\n",
            "Found Exactly Like You [jazz1350] - True (You Don't Love Me ) [trad] A with value 0.9780192971229553\n",
            "Found Exactly Like You [jazz1350] - True (You Don't Love Me ) [trad] A with value 1.0\n",
            "Found Exactly Like You [jazz1350] - True (You Don't Love Me ) [trad] A with value 0.9780192971229553\n",
            "Found My Heart Stood Still [jazz1350] - All Too Soon [jazz1350] A with value 1.0\n",
            "Found My Heart Stood Still [jazz1350] - All Too Soon [jazz1350] A with value 0.9773757457733154\n",
            "Found My Heart Stood Still [jazz1350] - All Too Soon [jazz1350] A with value 0.9999999403953552\n",
            "Found Undecided [jazz1350] - Broadway [jazz1350] A with value 0.9780193567276001\n",
            "Found Undecided [jazz1350] - Broadway [jazz1350] A with value 0.9780192971229553\n",
            "Found Undecided [jazz1350] - Broadway [jazz1350] A with value 0.9780192971229553\n",
            "Found Let's Fall In Love [jazz1350] - Heart And Soul [jazz1350] A with value 0.9783990979194641\n",
            "Found Let's Fall In Love [jazz1350] - Heart And Soul [jazz1350] A with value 0.9130464196205139\n",
            "Found Let's Fall In Love [jazz1350] - Heart And Soul [jazz1350] A with value 0.9999999403953552\n",
            "Found Come Back To Me [jazz1350] - I Wish I Knew [jazz1350] C with value 1.0\n",
            "Found Wait Till You See Her [jazz1350] - A Certain Smile [jazz1350] A with value 0.9999999403953552\n",
            "Found Killer Joe [jazz1350] - Straight Life [jazz1350] A with value 1.0\n",
            "Found Killer Joe [jazz1350] - Straight Life [jazz1350] A with value 1.0\n",
            "Found Killer Joe [jazz1350] - Straight Life [jazz1350] A with value 1.0\n",
            "Found Softly, As In A Morning Sunrise [jazz1350] - Segment [jazz1350] A with value 0.9999999403953552\n",
            "Found Softly, As In A Morning Sunrise [jazz1350] - Segment [jazz1350] A with value 0.9622504115104675\n",
            "Found Softly, As In A Morning Sunrise [jazz1350] - Segment [jazz1350] A with value 0.9999999403953552\n",
            "Found Bei Mir Bist Du Schon (Root Hog Or Die) [trad] - Egyptian Fantasy [trad] A with value 0.9761870503425598\n",
            "Found Bei Mir Bist Du Schon (Root Hog Or Die) [trad] - Egyptian Fantasy [trad] A with value 0.9877294898033142\n",
            "Found Bei Mir Bist Du Schon (Root Hog Or Die) [trad] - Egyptian Fantasy [trad] A with value 1.0\n",
            "Found Bei Mir Bist Du Schon (Root Hog Or Die) [trad] - Puttin' On The Ritz [jazz1350] A with value 0.9861573576927185\n",
            "Found Bei Mir Bist Du Schon (Root Hog Or Die) [trad] - Puttin' On The Ritz [jazz1350] A with value 0.9756096601486206\n",
            "Found Bei Mir Bist Du Schon (Root Hog Or Die) [trad] - Puttin' On The Ritz [jazz1350] A with value 0.9877296090126038\n",
            "Found Coquette [trad] - Pretend You're Happy When You're Blue [trad] A with value 0.9701424837112427\n",
            "Found Coquette [trad] - Pretend You're Happy When You're Blue [trad] A with value 0.9847319722175598\n",
            "Found Coquette [trad] - Pretend You're Happy When You're Blue [trad] A with value 0.9938837289810181\n",
            "Found Softly, As In A Morning Sunrise [jazz1350] - Strode Rode [jazz1350] A with value 0.9847319722175598\n",
            "Found Softly, As In A Morning Sunrise [jazz1350] - Strode Rode [jazz1350] A with value 0.9750761389732361\n",
            "Found Softly, As In A Morning Sunrise [jazz1350] - Strode Rode [jazz1350] A with value 0.9847319722175598\n",
            "Found Glory Of Love, The [jazz1350] - I've Got My Fingers Crossed [trad] A with value 0.9791300296783447\n",
            "Found Glory Of Love, The [jazz1350] - I've Got My Fingers Crossed [trad] A with value 0.9633432030677795\n",
            "Found Glory Of Love, The [jazz1350] - I've Got My Fingers Crossed [trad] A with value 0.9719672799110413\n",
            "Found Charleston, The [jazz1350] - As Long As I Live [trad] A with value 1.0\n",
            "Found Charleston, The [jazz1350] - As Long As I Live [trad] A with value 1.0\n",
            "Found Fine And Dandy [jazz1350] - I Can't Give You Anything But Love [jazz1350] A with value 1.0\n",
            "Found Fine And Dandy [jazz1350] - I Can't Give You Anything But Love [jazz1350] A with value 1.0\n",
            "Found I'll Close My Eyes [jazz1350] - Bluesette [jazz1350] A with value 1.0\n",
            "Found I'll Close My Eyes [jazz1350] - Bluesette [jazz1350] A with value 1.0\n",
            "Found I'll Close My Eyes [jazz1350] - There Will Never Be Another You [jazz1350] A with value 0.9128709435462952\n",
            "Found I'll Close My Eyes [jazz1350] - There Will Never Be Another You [jazz1350] C with value 0.9078412652015686\n",
            "Found I'll Close My Eyes [jazz1350] - There Will Never Be Another You [jazz1350] A with value 0.9128709435462952\n",
            "Found If I Had You [jazz1350] - Too Young To Go Steady [jazz1350] B with value 0.9867544770240784\n",
            "Found Undecided [jazz1350] - Satin Doll [jazz1350] B with value 1.0\n",
            "Found Billy Boy [jazz1350] - Elora [jazz1350] B with value 0.9999999403953552\n",
            "Found Dearly Beloved [jazz1350] - We See [jazz1350] B with value 0.9999999403953552\n",
            "Found Dearly Beloved [jazz1350] - We See [jazz1350] B with value 0.9999999403953552\n",
            "Found Alone Together [jazz1350] - A Night In Tunisia [jazz1350] B with value 0.9999999403953552\n",
            "Found A Night In Tunisia [jazz1350] - Segment [jazz1350] B with value 0.9999999403953552\n",
            "Found Oh! Lady Be Good [trad] - Sentimental Journey [jazz1350] B with value 0.9999999403953552\n",
            "Found You Can Depend On Me [jazz1350] - Move [jazz1350] B with value 1.0\n",
            "Found I Want To Be Happy [jazz1350] - A Beautiful Friendship [jazz1350] B with value 1.0\n",
            "Found Flying Home [jazz1350] - Down For Double [jazz1350] B with value 1.0\n",
            "Found Cheek To Cheek [jazz1350] - Violets For Your Furs [jazz1350] A with value 0.9265083074569702\n",
            "Found Cheek To Cheek [jazz1350] - Violets For Your Furs [jazz1350] B with value 0.9829995632171631\n",
            "Found Let's Fall In Love [jazz1350] - At Last [jazz1350] A with value 0.962911069393158\n",
            "Found Let's Fall In Love [jazz1350] - At Last [jazz1350] B with value 0.8511025905609131\n",
            "Found Let's Fall In Love [jazz1350] - At Last [jazz1350] A with value 0.9832821488380432\n",
            "Found Don't Be That Way [jazz1350] - Long Ago And Far Away [jazz1350] A with value 0.9827587008476257\n",
            "Found Don't Be That Way [jazz1350] - Long Ago And Far Away [jazz1350] A with value 0.9559252262115479\n",
            "Found Don't Be That Way [jazz1350] - Long Ago And Far Away [jazz1350] A with value 0.9662405252456665\n",
            "Found On The Sunny Side Of The Street [jazz1350] - I'm Confessin' That I Love You [jazz1350] B with value 0.9999998807907104\n",
            "Found On The Sunny Side Of The Street [jazz1350] - Eclypso [jazz1350] B with value 0.9534626007080078\n",
            "Found On The Sunny Side Of The Street [jazz1350] - You Stepped Out Of A Dream [jazz1350] B with value 0.9128708839416504\n",
            "Found Satin Doll [jazz1350] - Undecided [jazz1350] B with value 1.0\n",
            "Found I Like The Likes Of You [jazz1350] - Mountain Greenery [jazz1350] A with value 0.9801959991455078\n",
            "Found I Like The Likes Of You [jazz1350] - Mountain Greenery [jazz1350] A with value 0.9909924268722534\n",
            "Found I Like The Likes Of You [jazz1350] - Mountain Greenery [jazz1350] A with value 0.9801959991455078\n",
            "Found My Secret Love [jazz1350] - Samba De Orfeu [jazz1350] A with value 0.9709096550941467\n",
            "Found My Secret Love [jazz1350] - Samba De Orfeu [jazz1350] A with value 0.9880235195159912\n",
            "Found Let's Call The Whole Thing Off [jazz1350] - Fine And Dandy [jazz1350] A with value 0.9296696782112122\n",
            "Found Folks Who Live On The Hill, The [jazz1350] - My One And Only Love [jazz1350] B with value 0.9261584281921387\n",
            "Found I May Be Wrong [jazz1350] - Teach Me Tonight [jazz1350] B with value 0.9837387800216675\n",
            "Found Am I Blue [jazz1350] - Come Back To Me [jazz1350] B with value 1.0\n",
            "Found My One And Only Love [jazz1350] - Am I Blue [jazz1350] B with value 0.9660917520523071\n",
            "Found On The Sunny Side Of The Street [jazz1350] - September In The Rain [jazz1350] B with value 0.9438797831535339\n",
            "Found On The Sunny Side Of The Street [jazz1350] - Mountain Greenery [jazz1350] B with value 0.953462541103363\n",
            "Found On The Sunny Side Of The Street [jazz1350] - There's No You [jazz1350] B with value 0.9128708243370056\n",
            "Found These Foolish Things [jazz1350] - Rosetta [jazz1350] B with value 0.8954430222511292\n",
            "Found Bill Bailey [jazz1350] - Bourbon Street Parade [jazz1350] B with value 0.8623488545417786\n",
            "Found Bill Bailey [jazz1350] - Bourbon Street Parade [jazz1350] C with value 0.9999999403953552\n",
            "Found Woody'n You [jazz1350] - Stella By Starlight [jazz1350] C with value 1.0\n",
            "Found Woody'n You [jazz1350] - Stella By Starlight [jazz1350] C with value 1.0\n",
            "Found Woody'n You [jazz1350] - Stella By Starlight [jazz1350] C with value 1.0\n",
            "Found Tangerine [jazz1350] - Tea For Two [jazz1350] A with value 0.9686650037765503\n",
            "Found Tangerine [jazz1350] - Tea For Two [jazz1350] B with value 0.7016464471817017\n",
            "Found Tangerine [jazz1350] - Tea For Two [jazz1350] A with value 0.961269199848175\n",
            "Found I Can't Give You Anything But Love [jazz1350] - You Can Depend On Me [jazz1350] A with value 0.9176629781723022\n",
            "Found I Can't Give You Anything But Love [jazz1350] - You Can Depend On Me [jazz1350] B with value 0.9607688188552856\n",
            "Found This Year's Kisses [jazz1350] - My Monday Date [trad] B with value 0.8401680588722229\n",
            "Found A Blossom Fell [jazz1350] - Among My Souvenirs [jazz1350] A with value 0.9761063456535339\n",
            "Found A Blossom Fell [jazz1350] - Among My Souvenirs [jazz1350] A with value 0.9527023434638977\n",
            "Found matches: 98 out of 115: 85.217%\n",
            "\n"
          ]
        }
      ]
    },
    {
      "cell_type": "code",
      "source": [
        "results"
      ],
      "metadata": {
        "colab": {
          "base_uri": "https://localhost:8080/"
        },
        "id": "Vyk8bhN0lBdX",
        "outputId": "73fe2fbd-dc1c-4d0f-9d1c-5b7d2ecc57af"
      },
      "execution_count": 71,
      "outputs": [
        {
          "output_type": "execute_result",
          "data": {
            "text/plain": [
              "{'26-2 [jazz1350], Confirmation [jazz1350]': {'found': 1,\n",
              "  'rank': 1,\n",
              "  'score': 0.805823},\n",
              " '52nd Street Theme [jazz1350], I Got Rhythm [jazz1350]': {'found': 0,\n",
              "  'rank': 0,\n",
              "  'score': 0.8901842},\n",
              " 'A Blossom Fell [jazz1350], Among My Souvenirs [jazz1350]': {'found': 1,\n",
              "  'rank': 2,\n",
              "  'score': 0.97610635},\n",
              " 'A Night In Tunisia [jazz1350], Segment [jazz1350]': {'found': 1,\n",
              "  'rank': 2,\n",
              "  'score': 0.99999994},\n",
              " 'Ablution [jazz1350], All The Things You Are [jazz1350]': {'found': 1,\n",
              "  'rank': 1,\n",
              "  'score': 0.9534625},\n",
              " 'All I Do Is Dream Of You [trad], L-O-V-E [jazz1350]': {'found': 1,\n",
              "  'rank': 6,\n",
              "  'score': 0.98660004},\n",
              " 'Alone Together [jazz1350], A Night In Tunisia [jazz1350]': {'found': 1,\n",
              "  'rank': 0,\n",
              "  'score': 0.99999994},\n",
              " 'Alone Together [jazz1350], Segment [jazz1350]': {'found': 1,\n",
              "  'rank': 2,\n",
              "  'score': 0.99999994},\n",
              " 'Am I Blue [jazz1350], Come Back To Me [jazz1350]': {'found': 1,\n",
              "  'rank': 1,\n",
              "  'score': 1.0},\n",
              " 'Anthropology [jazz1350], I Got Rhythm [jazz1350]': {'found': 1,\n",
              "  'rank': 5,\n",
              "  'score': 0.99999994},\n",
              " \"As Long As I Live [trad], I'm Glad There Is You [jazz1350]\": {'found': 0,\n",
              "  'rank': 0,\n",
              "  'score': 0.672214},\n",
              " 'Baubles, Bangles and Beads [jazz1350], Bossa Antigua [jazz1350]': {'found': 1,\n",
              "  'rank': 1,\n",
              "  'score': 0.9999999},\n",
              " 'Bei Mir Bist Du Schon (Root Hog Or Die) [trad], Egyptian Fantasy [trad]': {'found': 1,\n",
              "  'rank': 2,\n",
              "  'score': 1.0},\n",
              " \"Bei Mir Bist Du Schon (Root Hog Or Die) [trad], Puttin' On The Ritz [jazz1350]\": {'found': 1,\n",
              "  'rank': 7,\n",
              "  'score': 0.9877296},\n",
              " 'Bill Bailey [jazz1350], Bourbon Street Parade [jazz1350]': {'found': 1,\n",
              "  'rank': 1,\n",
              "  'score': 0.99999994},\n",
              " 'Billy Boy [jazz1350], Elora [jazz1350]': {'found': 1,\n",
              "  'rank': 1,\n",
              "  'score': 0.99999994},\n",
              " 'Bright Mississippi [jazz1350], Sweet Georgia Brown [jazz1350]': {'found': 1,\n",
              "  'rank': 17,\n",
              "  'score': 0.85811627},\n",
              " 'C.T.A. [jazz1350], I Got Rhythm [jazz1350]': {'found': 1,\n",
              "  'rank': 5,\n",
              "  'score': 0.99999994},\n",
              " 'Charleston, The [jazz1350], As Long As I Live [trad]': {'found': 1,\n",
              "  'rank': 2,\n",
              "  'score': 1.0},\n",
              " 'Cheek To Cheek [jazz1350], Violets For Your Furs [jazz1350]': {'found': 1,\n",
              "  'rank': 4,\n",
              "  'score': 0.98299956},\n",
              " 'Come Back To Me [jazz1350], I Wish I Knew [jazz1350]': {'found': 1,\n",
              "  'rank': 1,\n",
              "  'score': 1.0},\n",
              " \"Coquette [trad], Pretend You're Happy When You're Blue [trad]\": {'found': 1,\n",
              "  'rank': 9,\n",
              "  'score': 0.9938837},\n",
              " 'Cottontail [jazz1350], I Got Rhythm [jazz1350]': {'found': 1,\n",
              "  'rank': 5,\n",
              "  'score': 0.99999994},\n",
              " 'Countdown [jazz1350], Tune Up [jazz1350]': {'found': 1,\n",
              "  'rank': 2,\n",
              "  'score': 0.820347},\n",
              " 'Dearly Beloved [jazz1350], We See [jazz1350]': {'found': 1,\n",
              "  'rank': 2,\n",
              "  'score': 0.99999994},\n",
              " 'Dewey Square [jazz1350], Oh, Lady Be Good [jazz1350]': {'found': 0,\n",
              "  'rank': 0,\n",
              "  'score': 0.73029673},\n",
              " 'Dexterity [jazz1350], I Got Rhythm [jazz1350]': {'found': 1,\n",
              "  'rank': 5,\n",
              "  'score': 0.99999994},\n",
              " 'Dig [jazz1350], Sweet Georgia Brown [jazz1350]': {'found': 1,\n",
              "  'rank': 1,\n",
              "  'score': 1.0},\n",
              " \"Don't Be That Way [jazz1350], I Got Rhythm [jazz1350]\": {'found': 1,\n",
              "  'rank': 20,\n",
              "  'score': 0.72760683},\n",
              " \"Don't Be That Way [jazz1350], Long Ago And Far Away [jazz1350]\": {'found': 1,\n",
              "  'rank': 5,\n",
              "  'score': 0.9827587},\n",
              " 'Donna Lee [jazz1350], Indiana (Back Home Again In) [jazz1350]': {'found': 1,\n",
              "  'rank': 1,\n",
              "  'score': 0.9778024},\n",
              " 'Evidence [jazz1350], Just You, Just Me [jazz1350]': {'found': 1,\n",
              "  'rank': 1,\n",
              "  'score': 0.94280905},\n",
              " 'Exactly Like You [jazz1350], Jersey Bounce [jazz1350]': {'found': 0,\n",
              "  'rank': 0,\n",
              "  'score': 0.9335639},\n",
              " \"Exactly Like You [jazz1350], True (You Don't Love Me ) [trad]\": {'found': 1,\n",
              "  'rank': 6,\n",
              "  'score': 1.0},\n",
              " \"Fine And Dandy [jazz1350], I Can't Give You Anything But Love [jazz1350]\": {'found': 1,\n",
              "  'rank': 2,\n",
              "  'score': 1.0},\n",
              " \"Five Foot Two [trad], Please Don't Talk About Me When I'm Gone [trad]\": {'found': 1,\n",
              "  'rank': 4,\n",
              "  'score': 1.0},\n",
              " 'Flintstones [jazz1350], I Got Rhythm [jazz1350]': {'found': 1,\n",
              "  'rank': 5,\n",
              "  'score': 0.99999994},\n",
              " 'Flying Home [jazz1350], Down For Double [jazz1350]': {'found': 1,\n",
              "  'rank': 0,\n",
              "  'score': 1.0},\n",
              " 'Folks Who Live On The Hill, The [jazz1350], My One And Only Love [jazz1350]': {'found': 1,\n",
              "  'rank': 1,\n",
              "  'score': 0.9261584},\n",
              " 'Four On Six [jazz1350], Summertime [jazz1350]': {'found': 1,\n",
              "  'rank': 4,\n",
              "  'score': 0.93408084},\n",
              " 'Freight Train [jazz1350], Blues For Alice [jazz1350]': {'found': 1,\n",
              "  'rank': 2,\n",
              "  'score': 0.89285713},\n",
              " \"Glory Of Love, The [jazz1350], I've Got My Fingers Crossed [trad]\": {'found': 1,\n",
              "  'rank': 2,\n",
              "  'score': 0.97913},\n",
              " 'Good Bait [jazz1350], I Got Rhythm [jazz1350]': {'found': 0,\n",
              "  'rank': 0,\n",
              "  'score': 0.89337057},\n",
              " 'Hackensack [jazz1350], Oh, Lady Be Good [jazz1350]': {'found': 1,\n",
              "  'rank': 15,\n",
              "  'score': 0.9406401},\n",
              " 'Half Nelson [jazz1350], Lady Bird [jazz1350]': {'found': 1,\n",
              "  'rank': 1,\n",
              "  'score': 0.97801924},\n",
              " 'Hot House [jazz1350], What Is This Thing Called Love [jazz1350]': {'found': 1,\n",
              "  'rank': 6,\n",
              "  'score': 1.0},\n",
              " \"I Can't Give You Anything But Love [jazz1350], You Can Depend On Me [jazz1350]\": {'found': 1,\n",
              "  'rank': 2,\n",
              "  'score': 0.9607688},\n",
              " 'I Like The Likes Of You [jazz1350], Mountain Greenery [jazz1350]': {'found': 1,\n",
              "  'rank': 1,\n",
              "  'score': 0.9909924},\n",
              " 'I May Be Wrong [jazz1350], Teach Me Tonight [jazz1350]': {'found': 1,\n",
              "  'rank': 1,\n",
              "  'score': 0.9837388},\n",
              " 'I Want To Be Happy [jazz1350], A Beautiful Friendship [jazz1350]': {'found': 1,\n",
              "  'rank': 0,\n",
              "  'score': 1.0},\n",
              " \"I'll Close My Eyes [jazz1350], Bluesette [jazz1350]\": {'found': 1,\n",
              "  'rank': 0,\n",
              "  'score': 1.0},\n",
              " \"I'll Close My Eyes [jazz1350], There Will Never Be Another You [jazz1350]\": {'found': 1,\n",
              "  'rank': 5,\n",
              "  'score': 0.91287094},\n",
              " 'If I Had You [jazz1350], Too Young To Go Steady [jazz1350]': {'found': 1,\n",
              "  'rank': 1,\n",
              "  'score': 0.9867545},\n",
              " 'Impressions [jazz1350], So What [jazz1350]': {'found': 1,\n",
              "  'rank': 22,\n",
              "  'score': 0.99999994},\n",
              " 'In A Mellow Tone (In A Mellotone) [jazz1350], Rose Room [jazz1350]': {'found': 1,\n",
              "  'rank': 3,\n",
              "  'score': 0.92582023},\n",
              " 'In Walked Bud [jazz1350], Blue Skies [jazz1350]': {'found': 1,\n",
              "  'rank': 2,\n",
              "  'score': 0.9449111},\n",
              " \"Jeannie's Song [jazz1350], Shiny Stockings [jazz1350]\": {'found': 1,\n",
              "  'rank': 2,\n",
              "  'score': 1.0000001},\n",
              " 'Killer Joe [jazz1350], Straight Life [jazz1350]': {'found': 1,\n",
              "  'rank': 3,\n",
              "  'score': 1.0},\n",
              " 'Ko Ko [jazz1350], Cherokee [jazz1350]': {'found': 1,\n",
              "  'rank': 0,\n",
              "  'score': 1.0},\n",
              " \"Lennie's Pennies [jazz1350], Pennies From Heaven [jazz1350]\": {'found': 0,\n",
              "  'rank': 0,\n",
              "  'score': 0.2947532},\n",
              " \"Let's Call The Whole Thing Off [jazz1350], Fine And Dandy [jazz1350]\": {'found': 1,\n",
              "  'rank': 14,\n",
              "  'score': 0.9296697},\n",
              " \"Let's Fall In Love [jazz1350], At Last [jazz1350]\": {'found': 1,\n",
              "  'rank': 4,\n",
              "  'score': 0.98328215},\n",
              " \"Let's Fall In Love [jazz1350], Heart And Soul [jazz1350]\": {'found': 1,\n",
              "  'rank': 0,\n",
              "  'score': 0.99999994},\n",
              " 'Little Rootie Tootie [jazz1350], I Got Rhythm [jazz1350]': {'found': 0,\n",
              "  'rank': 0,\n",
              "  'score': 0.8664002},\n",
              " \"Little Willie Leaps [jazz1350], All God's Chillun Got Rhythm [jazz1350]\": {'found': 0,\n",
              "  'rank': 0,\n",
              "  'score': 0.9176629},\n",
              " 'Lullaby Of Birdland [jazz1350], Love Me Or Leave Me [jazz1350]': {'found': 1,\n",
              "  'rank': 16,\n",
              "  'score': 0.89325964},\n",
              " 'Misty [jazz1350], I May Be Wrong [jazz1350]': {'found': 1,\n",
              "  'rank': 18,\n",
              "  'score': 0.93250483},\n",
              " 'Misty [jazz1350], Portrait Of Jennie [jazz1350]': {'found': 1,\n",
              "  'rank': 2,\n",
              "  'score': 0.95502305},\n",
              " 'Misty [jazz1350], September In The Rain [jazz1350]': {'found': 1,\n",
              "  'rank': 18,\n",
              "  'score': 0.914138},\n",
              " 'Moten Swing [jazz1350], Once In A While (Ballad) [trad]': {'found': 1,\n",
              "  'rank': 1,\n",
              "  'score': 0.98907065},\n",
              " 'My Heart Stood Still [jazz1350], All Too Soon [jazz1350]': {'found': 1,\n",
              "  'rank': 0,\n",
              "  'score': 1.0},\n",
              " 'My Little Suede Shoes [jazz1350], Jeepers Creepers [jazz1350]': {'found': 0,\n",
              "  'rank': 0,\n",
              "  'score': 0.9508869},\n",
              " 'My One And Only Love [jazz1350], Am I Blue [jazz1350]': {'found': 1,\n",
              "  'rank': 1,\n",
              "  'score': 0.96609175},\n",
              " 'My Secret Love [jazz1350], Samba De Orfeu [jazz1350]': {'found': 1,\n",
              "  'rank': 23,\n",
              "  'score': 0.9880235},\n",
              " 'Nancy (With The Laughing Face) [jazz1350], Body And Soul [jazz1350]': {'found': 1,\n",
              "  'rank': 3,\n",
              "  'score': 0.94649714},\n",
              " 'Oh! Lady Be Good [trad], Sentimental Journey [jazz1350]': {'found': 1,\n",
              "  'rank': 0,\n",
              "  'score': 0.99999994},\n",
              " 'On The Sunny Side Of The Street [jazz1350], Eclypso [jazz1350]': {'found': 1,\n",
              "  'rank': 3,\n",
              "  'score': 0.9534626},\n",
              " \"On The Sunny Side Of The Street [jazz1350], I'm Confessin' That I Love You [jazz1350]\": {'found': 1,\n",
              "  'rank': 0,\n",
              "  'score': 0.9999999},\n",
              " 'On The Sunny Side Of The Street [jazz1350], Mountain Greenery [jazz1350]': {'found': 1,\n",
              "  'rank': 4,\n",
              "  'score': 0.95346254},\n",
              " 'On The Sunny Side Of The Street [jazz1350], September In The Rain [jazz1350]': {'found': 1,\n",
              "  'rank': 5,\n",
              "  'score': 0.9438798},\n",
              " \"On The Sunny Side Of The Street [jazz1350], There's No You [jazz1350]\": {'found': 1,\n",
              "  'rank': 11,\n",
              "  'score': 0.9128708},\n",
              " 'On The Sunny Side Of The Street [jazz1350], You Stepped Out Of A Dream [jazz1350]': {'found': 1,\n",
              "  'rank': 9,\n",
              "  'score': 0.9128709},\n",
              " 'Ornithology [jazz1350], How High The Moon [jazz1350]': {'found': 1,\n",
              "  'rank': 0,\n",
              "  'score': 1.0},\n",
              " 'Quasimodo (Theme) [jazz1350], Embraceable You [jazz1350]': {'found': 0,\n",
              "  'rank': 0,\n",
              "  'score': 0.7863571},\n",
              " 'Room 608 [jazz1350], I Got Rhythm [jazz1350]': {'found': 0,\n",
              "  'rank': 0,\n",
              "  'score': 0.79772407},\n",
              " 'Satellite [jazz1350], How High The Moon [jazz1350]': {'found': 1,\n",
              "  'rank': 3,\n",
              "  'score': 0.8355044},\n",
              " 'Satin Doll [jazz1350], Undecided [jazz1350]': {'found': 1,\n",
              "  'rank': 1,\n",
              "  'score': 1.0},\n",
              " 'Scrapple From The Apple [jazz1350], Honeysuckle Rose [jazz1350]': {'found': 1,\n",
              "  'rank': 7,\n",
              "  'score': 0.94299024},\n",
              " 'Scrapple From The Apple [jazz1350], I Got Rhythm [jazz1350]': {'found': 1,\n",
              "  'rank': 5,\n",
              "  'score': 0.99999994},\n",
              " 'Softly, As In A Morning Sunrise [jazz1350], Segment [jazz1350]': {'found': 1,\n",
              "  'rank': 2,\n",
              "  'score': 0.99999994},\n",
              " 'Softly, As In A Morning Sunrise [jazz1350], Strode Rode [jazz1350]': {'found': 1,\n",
              "  'rank': 7,\n",
              "  'score': 0.984732},\n",
              " 'Sweet Georgia Brown [jazz1350], Dig [jazz1350]': {'found': 1,\n",
              "  'rank': 0,\n",
              "  'score': 1.0},\n",
              " 'Sweet Sue, Just You [jazz1350], Bye Bye Blackbird [jazz1350]': {'found': 0,\n",
              "  'rank': 0,\n",
              "  'score': 0.898717},\n",
              " 'Sweet Sue, Just You [jazz1350], Honeysuckle Rose [jazz1350]': {'found': 0,\n",
              "  'rank': 0,\n",
              "  'score': 0.8492077},\n",
              " 'Take The A Train [jazz1350], Girl From Ipanema, The [jazz1350]': {'found': 0,\n",
              "  'rank': 0,\n",
              "  'score': 0.8374358},\n",
              " 'Tangerine [jazz1350], Tea For Two [jazz1350]': {'found': 1,\n",
              "  'rank': 14,\n",
              "  'score': 0.968665},\n",
              " 'There Will Never Be Another You [jazz1350], A Weaver Of Dreams [jazz1350]': {'found': 1,\n",
              "  'rank': 0,\n",
              "  'score': 1.0},\n",
              " 'These Foolish Things [jazz1350], Blue Moon [jazz1350]': {'found': 0,\n",
              "  'rank': 0,\n",
              "  'score': 0.9113362},\n",
              " 'These Foolish Things [jazz1350], Embraceable You [jazz1350]': {'found': 0,\n",
              "  'rank': 0,\n",
              "  'score': 0.75261784},\n",
              " \"These Foolish Things [jazz1350], Isn't It A Pity [jazz1350]\": {'found': 1,\n",
              "  'rank': 5,\n",
              "  'score': 0.91064185},\n",
              " 'These Foolish Things [jazz1350], More Than You Know [jazz1350]': {'found': 1,\n",
              "  'rank': 1,\n",
              "  'score': 0.9165152},\n",
              " 'These Foolish Things [jazz1350], Rosetta [jazz1350]': {'found': 1,\n",
              "  'rank': 2,\n",
              "  'score': 0.895443},\n",
              " 'These Foolish Things [jazz1350], Soultrane [jazz1350]': {'found': 1,\n",
              "  'rank': 27,\n",
              "  'score': 0.75065196},\n",
              " 'These Foolish Things [jazz1350], Why Do I Love You [jazz1350]': {'found': 0,\n",
              "  'rank': 0,\n",
              "  'score': 0.92669636},\n",
              " \"This Year's Kisses [jazz1350], My Monday Date [trad]\": {'found': 1,\n",
              "  'rank': 9,\n",
              "  'score': 0.84016806},\n",
              " 'Tour De Force [jazz1350], Jeepers Creepers [jazz1350]': {'found': 1,\n",
              "  'rank': 12,\n",
              "  'score': 0.82060987},\n",
              " 'Undecided [jazz1350], Broadway [jazz1350]': {'found': 1,\n",
              "  'rank': 1,\n",
              "  'score': 0.97801936},\n",
              " 'Undecided [jazz1350], Satin Doll [jazz1350]': {'found': 1,\n",
              "  'rank': 0,\n",
              "  'score': 1.0},\n",
              " 'Wait Till You See Her [jazz1350], A Certain Smile [jazz1350]': {'found': 1,\n",
              "  'rank': 0,\n",
              "  'score': 0.99999994},\n",
              " 'What Is This Thing Called Love [jazz1350], Hot House [jazz1350]': {'found': 1,\n",
              "  'rank': 0,\n",
              "  'score': 1.0},\n",
              " 'What Is This Thing Called Love [jazz1350], Subconscious Lee [jazz1350]': {'found': 1,\n",
              "  'rank': 3,\n",
              "  'score': 1.0},\n",
              " \"Woody'n You [jazz1350], Stella By Starlight [jazz1350]\": {'found': 1,\n",
              "  'rank': 0,\n",
              "  'score': 1.0},\n",
              " 'Wow [jazz1350], You Can Depend On Me [jazz1350]': {'found': 1,\n",
              "  'rank': 23,\n",
              "  'score': 0.92582005},\n",
              " 'Yardbird Suite [jazz1350], Rosetta [jazz1350]': {'found': 1,\n",
              "  'rank': 6,\n",
              "  'score': 0.88191706},\n",
              " 'You Can Depend On Me [jazz1350], Move [jazz1350]': {'found': 1,\n",
              "  'rank': 0,\n",
              "  'score': 1.0}}"
            ]
          },
          "metadata": {},
          "execution_count": 71
        }
      ]
    },
    {
      "cell_type": "code",
      "source": [
        "df_sim = pd.DataFrame.from_dict(results, orient='index')\n",
        "df_sim = df_sim.reset_index()\n",
        "df_sim.sort_values('index')\n",
        "print(df_sim)"
      ],
      "metadata": {
        "colab": {
          "base_uri": "https://localhost:8080/"
        },
        "id": "3TThAb70rqtu",
        "outputId": "53482fb6-902a-4d05-ee31-e7f86e04d293"
      },
      "execution_count": 72,
      "outputs": [
        {
          "output_type": "stream",
          "name": "stdout",
          "text": [
            "                                                 index  found     score  rank\n",
            "0             26-2 [jazz1350], Confirmation [jazz1350]      1  0.805823     1\n",
            "1    52nd Street Theme [jazz1350], I Got Rhythm [ja...      0  0.890184     0\n",
            "2    Ablution [jazz1350], All The Things You Are [j...      1  0.953462     1\n",
            "3     Anthropology [jazz1350], I Got Rhythm [jazz1350]      1  1.000000     5\n",
            "4    Bright Mississippi [jazz1350], Sweet Georgia B...      1  0.858116    17\n",
            "5           C.T.A. [jazz1350], I Got Rhythm [jazz1350]      1  1.000000     5\n",
            "6       Cottontail [jazz1350], I Got Rhythm [jazz1350]      1  1.000000     5\n",
            "7             Countdown [jazz1350], Tune Up [jazz1350]      1  0.820347     2\n",
            "8    Dewey Square [jazz1350], Oh, Lady Be Good [jaz...      0  0.730297     0\n",
            "9        Dexterity [jazz1350], I Got Rhythm [jazz1350]      1  1.000000     5\n",
            "10      Dig [jazz1350], Sweet Georgia Brown [jazz1350]      1  1.000000     1\n",
            "11   Donna Lee [jazz1350], Indiana (Back Home Again...      1  0.977802     1\n",
            "12   Don't Be That Way [jazz1350], I Got Rhythm [ja...      1  0.727607    20\n",
            "13   Evidence [jazz1350], Just You, Just Me [jazz1350]      1  0.942809     1\n",
            "14     Flintstones [jazz1350], I Got Rhythm [jazz1350]      1  1.000000     5\n",
            "15       Four On Six [jazz1350], Summertime [jazz1350]      1  0.934081     4\n",
            "16   Freight Train [jazz1350], Blues For Alice [jaz...      1  0.892857     2\n",
            "17       Good Bait [jazz1350], I Got Rhythm [jazz1350]      0  0.893371     0\n",
            "18   Hackensack [jazz1350], Oh, Lady Be Good [jazz1...      1  0.940640    15\n",
            "19        Half Nelson [jazz1350], Lady Bird [jazz1350]      1  0.978019     1\n",
            "20   Hot House [jazz1350], What Is This Thing Calle...      1  1.000000     6\n",
            "21          Impressions [jazz1350], So What [jazz1350]      1  1.000000    22\n",
            "22   In A Mellow Tone (In A Mellotone) [jazz1350], ...      1  0.925820     3\n",
            "23     In Walked Bud [jazz1350], Blue Skies [jazz1350]      1  0.944911     2\n",
            "24               Ko Ko [jazz1350], Cherokee [jazz1350]      1  1.000000     0\n",
            "25   Lennie's Pennies [jazz1350], Pennies From Heav...      0  0.294753     0\n",
            "26   Little Rootie Tootie [jazz1350], I Got Rhythm ...      0  0.866400     0\n",
            "27   Little Willie Leaps [jazz1350], All God's Chil...      0  0.917663     0\n",
            "28   Lullaby Of Birdland [jazz1350], Love Me Or Lea...      1  0.893260    16\n",
            "29   My Little Suede Shoes [jazz1350], Jeepers Cree...      0  0.950887     0\n",
            "30   Ornithology [jazz1350], How High The Moon [jaz...      1  1.000000     0\n",
            "31   Quasimodo (Theme) [jazz1350], Embraceable You ...      0  0.786357     0\n",
            "32        Room 608 [jazz1350], I Got Rhythm [jazz1350]      0  0.797724     0\n",
            "33   Satellite [jazz1350], How High The Moon [jazz1...      1  0.835504     3\n",
            "34   Scrapple From The Apple [jazz1350], Honeysuckl...      1  0.942990     7\n",
            "35   Scrapple From The Apple [jazz1350], I Got Rhyt...      1  1.000000     5\n",
            "36   Tour De Force [jazz1350], Jeepers Creepers [ja...      1  0.820610    12\n",
            "37     Wow [jazz1350], You Can Depend On Me [jazz1350]      1  0.925820    23\n",
            "38       Yardbird Suite [jazz1350], Rosetta [jazz1350]      1  0.881917     6\n",
            "39   Sweet Sue, Just You [jazz1350], Honeysuckle Ro...      0  0.849208     0\n",
            "40   Sweet Sue, Just You [jazz1350], Bye Bye Blackb...      0  0.898717     0\n",
            "41   These Foolish Things [jazz1350], Blue Moon [ja...      0  0.911336     0\n",
            "42   These Foolish Things [jazz1350], More Than You...      1  0.916515     1\n",
            "43   These Foolish Things [jazz1350], Isn't It A Pi...      1  0.910642     5\n",
            "44   These Foolish Things [jazz1350], Soultrane [ja...      1  0.750652    27\n",
            "45   These Foolish Things [jazz1350], Why Do I Love...      0  0.926696     0\n",
            "46     Misty [jazz1350], Portrait Of Jennie [jazz1350]      1  0.955023     2\n",
            "47   Misty [jazz1350], September In The Rain [jazz1...      1  0.914138    18\n",
            "48         Misty [jazz1350], I May Be Wrong [jazz1350]      1  0.932505    18\n",
            "49   Five Foot Two [trad], Please Don't Talk About ...      1  1.000000     4\n",
            "50   What Is This Thing Called Love [jazz1350], Sub...      1  1.000000     3\n",
            "51      Sweet Georgia Brown [jazz1350], Dig [jazz1350]      1  1.000000     0\n",
            "52   What Is This Thing Called Love [jazz1350], Hot...      1  1.000000     0\n",
            "53   Jeannie's Song [jazz1350], Shiny Stockings [ja...      1  1.000000     2\n",
            "54       Alone Together [jazz1350], Segment [jazz1350]      1  1.000000     2\n",
            "55   Baubles, Bangles and Beads [jazz1350], Bossa A...      1  1.000000     1\n",
            "56   There Will Never Be Another You [jazz1350], A ...      1  1.000000     0\n",
            "57   Moten Swing [jazz1350], Once In A While (Balla...      1  0.989071     1\n",
            "58   All I Do Is Dream Of You [trad], L-O-V-E [jazz...      1  0.986600     6\n",
            "59   Nancy (With The Laughing Face) [jazz1350], Bod...      1  0.946497     3\n",
            "60   Exactly Like You [jazz1350], True (You Don't L...      1  1.000000     6\n",
            "61   Exactly Like You [jazz1350], Jersey Bounce [ja...      0  0.933564     0\n",
            "62   Take The A Train [jazz1350], Girl From Ipanema...      0  0.837436     0\n",
            "63   My Heart Stood Still [jazz1350], All Too Soon ...      1  1.000000     0\n",
            "64           Undecided [jazz1350], Broadway [jazz1350]      1  0.978019     1\n",
            "65   Let's Fall In Love [jazz1350], Heart And Soul ...      1  1.000000     0\n",
            "66   Come Back To Me [jazz1350], I Wish I Knew [jaz...      1  1.000000     1\n",
            "67   Wait Till You See Her [jazz1350], A Certain Sm...      1  1.000000     0\n",
            "68     Killer Joe [jazz1350], Straight Life [jazz1350]      1  1.000000     3\n",
            "69   Softly, As In A Morning Sunrise [jazz1350], Se...      1  1.000000     2\n",
            "70   Bei Mir Bist Du Schon (Root Hog Or Die) [trad]...      1  1.000000     2\n",
            "71   Bei Mir Bist Du Schon (Root Hog Or Die) [trad]...      1  0.987730     7\n",
            "72   Coquette [trad], Pretend You're Happy When You...      1  0.993884     9\n",
            "73   Softly, As In A Morning Sunrise [jazz1350], St...      1  0.984732     7\n",
            "74   Glory Of Love, The [jazz1350], I've Got My Fin...      1  0.979130     2\n",
            "75   Charleston, The [jazz1350], As Long As I Live ...      1  1.000000     2\n",
            "76   Fine And Dandy [jazz1350], I Can't Give You An...      1  1.000000     2\n",
            "77   I'll Close My Eyes [jazz1350], Bluesette [jazz...      1  1.000000     0\n",
            "78   I'll Close My Eyes [jazz1350], There Will Neve...      1  0.912871     5\n",
            "79   If I Had You [jazz1350], Too Young To Go Stead...      1  0.986754     1\n",
            "80         Undecided [jazz1350], Satin Doll [jazz1350]      1  1.000000     0\n",
            "81              Billy Boy [jazz1350], Elora [jazz1350]      1  1.000000     1\n",
            "82        Dearly Beloved [jazz1350], We See [jazz1350]      1  1.000000     2\n",
            "83   Alone Together [jazz1350], A Night In Tunisia ...      1  1.000000     0\n",
            "84   A Night In Tunisia [jazz1350], Segment [jazz1350]      1  1.000000     2\n",
            "85   Oh! Lady Be Good [trad], Sentimental Journey [...      1  1.000000     0\n",
            "86    You Can Depend On Me [jazz1350], Move [jazz1350]      1  1.000000     0\n",
            "87   I Want To Be Happy [jazz1350], A Beautiful Fri...      1  1.000000     0\n",
            "88   Flying Home [jazz1350], Down For Double [jazz1...      1  1.000000     0\n",
            "89   Cheek To Cheek [jazz1350], Violets For Your Fu...      1  0.983000     4\n",
            "90   Let's Fall In Love [jazz1350], At Last [jazz1350]      1  0.983282     4\n",
            "91   Don't Be That Way [jazz1350], Long Ago And Far...      1  0.982759     5\n",
            "92   On The Sunny Side Of The Street [jazz1350], I'...      1  1.000000     0\n",
            "93   On The Sunny Side Of The Street [jazz1350], Ec...      1  0.953463     3\n",
            "94   On The Sunny Side Of The Street [jazz1350], Yo...      1  0.912871     9\n",
            "95         Satin Doll [jazz1350], Undecided [jazz1350]      1  1.000000     1\n",
            "96   I Like The Likes Of You [jazz1350], Mountain G...      1  0.990992     1\n",
            "97   My Secret Love [jazz1350], Samba De Orfeu [jaz...      1  0.988024    23\n",
            "98   Let's Call The Whole Thing Off [jazz1350], Fin...      1  0.929670    14\n",
            "99   Folks Who Live On The Hill, The [jazz1350], My...      1  0.926158     1\n",
            "100  As Long As I Live [trad], I'm Glad There Is Yo...      0  0.672214     0\n",
            "101  I May Be Wrong [jazz1350], Teach Me Tonight [j...      1  0.983739     1\n",
            "102   Am I Blue [jazz1350], Come Back To Me [jazz1350]      1  1.000000     1\n",
            "103  My One And Only Love [jazz1350], Am I Blue [ja...      1  0.966092     1\n",
            "104  On The Sunny Side Of The Street [jazz1350], Se...      1  0.943880     5\n",
            "105  On The Sunny Side Of The Street [jazz1350], Mo...      1  0.953463     4\n",
            "106  On The Sunny Side Of The Street [jazz1350], Th...      1  0.912871    11\n",
            "107  These Foolish Things [jazz1350], Embraceable Y...      0  0.752618     0\n",
            "108  These Foolish Things [jazz1350], Rosetta [jazz...      1  0.895443     2\n",
            "109  Bill Bailey [jazz1350], Bourbon Street Parade ...      1  1.000000     1\n",
            "110  Woody'n You [jazz1350], Stella By Starlight [j...      1  1.000000     0\n",
            "111       Tangerine [jazz1350], Tea For Two [jazz1350]      1  0.968665    14\n",
            "112  I Can't Give You Anything But Love [jazz1350],...      1  0.960769     2\n",
            "113  This Year's Kisses [jazz1350], My Monday Date ...      1  0.840168     9\n",
            "114  A Blossom Fell [jazz1350], Among My Souvenirs ...      1  0.976106     2\n"
          ]
        }
      ]
    },
    {
      "cell_type": "code",
      "source": [
        "fig, ax = plt.subplots(nrows=1, ncols=2, figsize=(12, 5))\n",
        "sns.histplot(ax=ax[0],\n",
        "             data=df_sim, \n",
        "             x='score', \n",
        "             hue='found', \n",
        "             stat='count', \n",
        "             edgecolor=None)\n",
        "ax[0].set_title('LSI Scores for Contrafact Tunes')\n",
        "\n",
        "sns.histplot(ax=ax[1],\n",
        "             data=df_sim[df_sim.found==1], \n",
        "             x='rank', \n",
        "             stat='count', \n",
        "             edgecolor=None)\n",
        "ax[1].set_title('Rank for found tunes')\n",
        "\n",
        "plt.savefig('plot.png')"
      ],
      "metadata": {
        "colab": {
          "base_uri": "https://localhost:8080/",
          "height": 350
        },
        "id": "oYymnpdv_BJ1",
        "outputId": "e07da103-c653-4782-9cff-30724f392fe8"
      },
      "execution_count": 73,
      "outputs": [
        {
          "output_type": "display_data",
          "data": {
            "image/png": "[encoded data removed]",
            "text/plain": [
              "<Figure size 864x360 with 2 Axes>"
            ]
          },
          "metadata": {
            "needs_background": "light"
          }
        }
      ]
    },
    {
      "cell_type": "code",
      "source": [
        "fig = px.histogram(df_sim, x=\"score\", color='found', title='LSI Scores for found tunes')\n",
        "fig.show()\n"
      ],
      "metadata": {
        "colab": {
          "base_uri": "https://localhost:8080/",
          "height": 542
        },
        "id": "m8LFrXRpqJQ5",
        "outputId": "da447134-bbe7-4005-da53-4327e2a12b72"
      },
      "execution_count": 74,
      "outputs": [
        {
          "output_type": "display_data",
          "data": {
            "text/html": [
              "<html>\n",
              "<head><meta charset=\"utf-8\" /></head>\n",
              "<body>\n",
              "    <div>\n",
              "            <script src=\"https://cdnjs.cloudflare.com/ajax/libs/mathjax/2.7.5/MathJax.js?config=TeX-AMS-MML_SVG\"></script><script type=\"text/javascript\">if (window.MathJax) {MathJax.Hub.Config({SVG: {font: \"STIX-Web\"}});}</script>\n",
              "                <script type=\"text/javascript\">window.PlotlyConfig = {MathJaxConfig: 'local'};</script>\n",
              "        <script src=\"https://cdn.plot.ly/plotly-latest.min.js\"></script>    \n",
              "            <div id=\"d7a18ade-5d00-4060-8379-1abc45b4648f\" class=\"plotly-graph-div\" style=\"height:525px; width:100%;\"></div>\n",
              "            <script type=\"text/javascript\">\n",
              "                \n",
              "                    window.PLOTLYENV=window.PLOTLYENV || {};\n",
              "                    \n",
              "                if (document.getElementById(\"d7a18ade-5d00-4060-8379-1abc45b4648f\")) {\n",
              "                    Plotly.newPlot(\n",
              "                        'd7a18ade-5d00-4060-8379-1abc45b4648f',\n",
              "                        [{\"alignmentgroup\": \"True\", \"bingroup\": \"x\", \"hoverlabel\": {\"namelength\": 0}, \"hovertemplate\": \"found=1<br>score=%{x}<br>count=%{y}\", \"legendgroup\": \"found=1\", \"marker\": {\"color\": \"#636efa\"}, \"name\": \"found=1\", \"offsetgroup\": \"found=1\", \"orientation\": \"v\", \"showlegend\": true, \"type\": \"histogram\", \"x\": [0.805823028087616, 0.9534624814987183, 0.9999999403953552, 0.8581162691116333, 0.9999999403953552, 0.9999999403953552, 0.820347011089325, 0.9999999403953552, 1.0, 0.9778023958206177, 0.7276068329811096, 0.9428090453147888, 0.9999999403953552, 0.9340808391571045, 0.8928571343421936, 0.9406400918960571, 0.9780192375183105, 1.0, 0.9999999403953552, 0.9258202314376831, 0.9449111223220825, 1.0, 0.8932596445083618, 1.0, 0.835504412651062, 0.942990243434906, 0.9999999403953552, 0.8206098675727844, 0.9258200526237488, 0.8819170594215393, 0.9165151715278625, 0.9106418490409851, 0.7506519556045532, 0.9550230503082275, 0.9141380190849304, 0.9325048327445984, 1.0, 1.0, 1.0, 1.0, 1.0000001192092896, 0.9999999403953552, 0.9999998807907104, 1.0, 0.9890706539154053, 0.9866000413894653, 0.9464971423149109, 1.0, 1.0, 0.9780193567276001, 0.9999999403953552, 1.0, 0.9999999403953552, 1.0, 0.9999999403953552, 1.0, 0.9877296090126038, 0.9938837289810181, 0.9847319722175598, 0.9791300296783447, 1.0, 1.0, 1.0, 0.9128709435462952, 0.9867544770240784, 1.0, 0.9999999403953552, 0.9999999403953552, 0.9999999403953552, 0.9999999403953552, 0.9999999403953552, 1.0, 1.0, 1.0, 0.9829995632171631, 0.9832821488380432, 0.9827587008476257, 0.9999998807907104, 0.9534626007080078, 0.9128708839416504, 1.0, 0.9909924268722534, 0.9880235195159912, 0.9296696782112122, 0.9261584281921387, 0.9837387800216675, 1.0, 0.9660917520523071, 0.9438797831535339, 0.953462541103363, 0.9128708243370056, 0.8954430222511292, 0.9999999403953552, 1.0, 0.9686650037765503, 0.9607688188552856, 0.8401680588722229, 0.9761063456535339], \"xaxis\": \"x\", \"yaxis\": \"y\"}, {\"alignmentgroup\": \"True\", \"bingroup\": \"x\", \"hoverlabel\": {\"namelength\": 0}, \"hovertemplate\": \"found=0<br>score=%{x}<br>count=%{y}\", \"legendgroup\": \"found=0\", \"marker\": {\"color\": \"#EF553B\"}, \"name\": \"found=0\", \"offsetgroup\": \"found=0\", \"orientation\": \"v\", \"showlegend\": true, \"type\": \"histogram\", \"x\": [0.890184223651886, 0.7302967309951782, 0.8933705687522888, 0.29475319385528564, 0.8664001822471619, 0.9176629185676575, 0.9508869051933289, 0.7863571047782898, 0.7977240681648254, 0.8492076992988586, 0.8987169861793518, 0.9113361835479736, 0.9266963601112366, 0.9335638880729675, 0.837435781955719, 0.6722139716148376, 0.7526178359985352], \"xaxis\": \"x\", \"yaxis\": \"y\"}],\n",
              "                        {\"barmode\": \"relative\", \"legend\": {\"tracegroupgap\": 0}, \"template\": {\"data\": {\"bar\": [{\"error_x\": {\"color\": \"#2a3f5f\"}, \"error_y\": {\"color\": \"#2a3f5f\"}, \"marker\": {\"line\": {\"color\": \"#E5ECF6\", \"width\": 0.5}}, \"type\": \"bar\"}], \"barpolar\": [{\"marker\": {\"line\": {\"color\": \"#E5ECF6\", \"width\": 0.5}}, \"type\": \"barpolar\"}], \"carpet\": [{\"aaxis\": {\"endlinecolor\": \"#2a3f5f\", \"gridcolor\": \"white\", \"linecolor\": \"white\", \"minorgridcolor\": \"white\", \"startlinecolor\": \"#2a3f5f\"}, \"baxis\": {\"endlinecolor\": \"#2a3f5f\", \"gridcolor\": \"white\", \"linecolor\": \"white\", \"minorgridcolor\": \"white\", \"startlinecolor\": \"#2a3f5f\"}, \"type\": \"carpet\"}], \"choropleth\": [{\"colorbar\": {\"outlinewidth\": 0, \"ticks\": \"\"}, \"type\": \"choropleth\"}], \"contour\": [{\"colorbar\": {\"outlinewidth\": 0, \"ticks\": \"\"}, \"colorscale\": [[0.0, \"#0d0887\"], [0.1111111111111111, \"#46039f\"], [0.2222222222222222, \"#7201a8\"], [0.3333333333333333, \"#9c179e\"], [0.4444444444444444, \"#bd3786\"], [0.5555555555555556, \"#d8576b\"], [0.6666666666666666, \"#ed7953\"], [0.7777777777777778, \"#fb9f3a\"], [0.8888888888888888, \"#fdca26\"], [1.0, \"#f0f921\"]], \"type\": \"contour\"}], \"contourcarpet\": [{\"colorbar\": {\"outlinewidth\": 0, \"ticks\": \"\"}, \"type\": \"contourcarpet\"}], \"heatmap\": [{\"colorbar\": {\"outlinewidth\": 0, \"ticks\": \"\"}, \"colorscale\": [[0.0, \"#0d0887\"], [0.1111111111111111, \"#46039f\"], [0.2222222222222222, \"#7201a8\"], [0.3333333333333333, \"#9c179e\"], [0.4444444444444444, \"#bd3786\"], [0.5555555555555556, \"#d8576b\"], [0.6666666666666666, \"#ed7953\"], [0.7777777777777778, \"#fb9f3a\"], [0.8888888888888888, \"#fdca26\"], [1.0, \"#f0f921\"]], \"type\": \"heatmap\"}], \"heatmapgl\": [{\"colorbar\": {\"outlinewidth\": 0, \"ticks\": \"\"}, \"colorscale\": [[0.0, \"#0d0887\"], [0.1111111111111111, \"#46039f\"], [0.2222222222222222, \"#7201a8\"], [0.3333333333333333, \"#9c179e\"], [0.4444444444444444, \"#bd3786\"], [0.5555555555555556, \"#d8576b\"], [0.6666666666666666, \"#ed7953\"], [0.7777777777777778, \"#fb9f3a\"], [0.8888888888888888, \"#fdca26\"], [1.0, \"#f0f921\"]], \"type\": \"heatmapgl\"}], \"histogram\": [{\"marker\": {\"colorbar\": {\"outlinewidth\": 0, \"ticks\": \"\"}}, \"type\": \"histogram\"}], \"histogram2d\": [{\"colorbar\": {\"outlinewidth\": 0, \"ticks\": \"\"}, \"colorscale\": [[0.0, \"#0d0887\"], [0.1111111111111111, \"#46039f\"], [0.2222222222222222, \"#7201a8\"], [0.3333333333333333, \"#9c179e\"], [0.4444444444444444, \"#bd3786\"], [0.5555555555555556, \"#d8576b\"], [0.6666666666666666, \"#ed7953\"], [0.7777777777777778, \"#fb9f3a\"], [0.8888888888888888, \"#fdca26\"], [1.0, \"#f0f921\"]], \"type\": \"histogram2d\"}], \"histogram2dcontour\": [{\"colorbar\": {\"outlinewidth\": 0, \"ticks\": \"\"}, \"colorscale\": [[0.0, \"#0d0887\"], [0.1111111111111111, \"#46039f\"], [0.2222222222222222, \"#7201a8\"], [0.3333333333333333, \"#9c179e\"], [0.4444444444444444, \"#bd3786\"], [0.5555555555555556, \"#d8576b\"], [0.6666666666666666, \"#ed7953\"], [0.7777777777777778, \"#fb9f3a\"], [0.8888888888888888, \"#fdca26\"], [1.0, \"#f0f921\"]], \"type\": \"histogram2dcontour\"}], \"mesh3d\": [{\"colorbar\": {\"outlinewidth\": 0, \"ticks\": \"\"}, \"type\": \"mesh3d\"}], \"parcoords\": [{\"line\": {\"colorbar\": {\"outlinewidth\": 0, \"ticks\": \"\"}}, \"type\": \"parcoords\"}], \"pie\": [{\"automargin\": true, \"type\": \"pie\"}], \"scatter\": [{\"marker\": {\"colorbar\": {\"outlinewidth\": 0, \"ticks\": \"\"}}, \"type\": \"scatter\"}], \"scatter3d\": [{\"line\": {\"colorbar\": {\"outlinewidth\": 0, \"ticks\": \"\"}}, \"marker\": {\"colorbar\": {\"outlinewidth\": 0, \"ticks\": \"\"}}, \"type\": \"scatter3d\"}], \"scattercarpet\": [{\"marker\": {\"colorbar\": {\"outlinewidth\": 0, \"ticks\": \"\"}}, \"type\": \"scattercarpet\"}], \"scattergeo\": [{\"marker\": {\"colorbar\": {\"outlinewidth\": 0, \"ticks\": \"\"}}, \"type\": \"scattergeo\"}], \"scattergl\": [{\"marker\": {\"colorbar\": {\"outlinewidth\": 0, \"ticks\": \"\"}}, \"type\": \"scattergl\"}], \"scattermapbox\": [{\"marker\": {\"colorbar\": {\"outlinewidth\": 0, \"ticks\": \"\"}}, \"type\": \"scattermapbox\"}], \"scatterpolar\": [{\"marker\": {\"colorbar\": {\"outlinewidth\": 0, \"ticks\": \"\"}}, \"type\": \"scatterpolar\"}], \"scatterpolargl\": [{\"marker\": {\"colorbar\": {\"outlinewidth\": 0, \"ticks\": \"\"}}, \"type\": \"scatterpolargl\"}], \"scatterternary\": [{\"marker\": {\"colorbar\": {\"outlinewidth\": 0, \"ticks\": \"\"}}, \"type\": \"scatterternary\"}], \"surface\": [{\"colorbar\": {\"outlinewidth\": 0, \"ticks\": \"\"}, \"colorscale\": [[0.0, \"#0d0887\"], [0.1111111111111111, \"#46039f\"], [0.2222222222222222, \"#7201a8\"], [0.3333333333333333, \"#9c179e\"], [0.4444444444444444, \"#bd3786\"], [0.5555555555555556, \"#d8576b\"], [0.6666666666666666, \"#ed7953\"], [0.7777777777777778, \"#fb9f3a\"], [0.8888888888888888, \"#fdca26\"], [1.0, \"#f0f921\"]], \"type\": \"surface\"}], \"table\": [{\"cells\": {\"fill\": {\"color\": \"#EBF0F8\"}, \"line\": {\"color\": \"white\"}}, \"header\": {\"fill\": {\"color\": \"#C8D4E3\"}, \"line\": {\"color\": \"white\"}}, \"type\": \"table\"}]}, \"layout\": {\"annotationdefaults\": {\"arrowcolor\": \"#2a3f5f\", \"arrowhead\": 0, \"arrowwidth\": 1}, \"coloraxis\": {\"colorbar\": {\"outlinewidth\": 0, \"ticks\": \"\"}}, \"colorscale\": {\"diverging\": [[0, \"#8e0152\"], [0.1, \"#c51b7d\"], [0.2, \"#de77ae\"], [0.3, \"#f1b6da\"], [0.4, \"#fde0ef\"], [0.5, \"#f7f7f7\"], [0.6, \"#e6f5d0\"], [0.7, \"#b8e186\"], [0.8, \"#7fbc41\"], [0.9, \"#4d9221\"], [1, \"#276419\"]], \"sequential\": [[0.0, \"#0d0887\"], [0.1111111111111111, \"#46039f\"], [0.2222222222222222, \"#7201a8\"], [0.3333333333333333, \"#9c179e\"], [0.4444444444444444, \"#bd3786\"], [0.5555555555555556, \"#d8576b\"], [0.6666666666666666, \"#ed7953\"], [0.7777777777777778, \"#fb9f3a\"], [0.8888888888888888, \"#fdca26\"], [1.0, \"#f0f921\"]], \"sequentialminus\": [[0.0, \"#0d0887\"], [0.1111111111111111, \"#46039f\"], [0.2222222222222222, \"#7201a8\"], [0.3333333333333333, \"#9c179e\"], [0.4444444444444444, \"#bd3786\"], [0.5555555555555556, \"#d8576b\"], [0.6666666666666666, \"#ed7953\"], [0.7777777777777778, \"#fb9f3a\"], [0.8888888888888888, \"#fdca26\"], [1.0, \"#f0f921\"]]}, \"colorway\": [\"#636efa\", \"#EF553B\", \"#00cc96\", \"#ab63fa\", \"#FFA15A\", \"#19d3f3\", \"#FF6692\", \"#B6E880\", \"#FF97FF\", \"#FECB52\"], \"font\": {\"color\": \"#2a3f5f\"}, \"geo\": {\"bgcolor\": \"white\", \"lakecolor\": \"white\", \"landcolor\": \"#E5ECF6\", \"showlakes\": true, \"showland\": true, \"subunitcolor\": \"white\"}, \"hoverlabel\": {\"align\": \"left\"}, \"hovermode\": \"closest\", \"mapbox\": {\"style\": \"light\"}, \"paper_bgcolor\": \"white\", \"plot_bgcolor\": \"#E5ECF6\", \"polar\": {\"angularaxis\": {\"gridcolor\": \"white\", \"linecolor\": \"white\", \"ticks\": \"\"}, \"bgcolor\": \"#E5ECF6\", \"radialaxis\": {\"gridcolor\": \"white\", \"linecolor\": \"white\", \"ticks\": \"\"}}, \"scene\": {\"xaxis\": {\"backgroundcolor\": \"#E5ECF6\", \"gridcolor\": \"white\", \"gridwidth\": 2, \"linecolor\": \"white\", \"showbackground\": true, \"ticks\": \"\", \"zerolinecolor\": \"white\"}, \"yaxis\": {\"backgroundcolor\": \"#E5ECF6\", \"gridcolor\": \"white\", \"gridwidth\": 2, \"linecolor\": \"white\", \"showbackground\": true, \"ticks\": \"\", \"zerolinecolor\": \"white\"}, \"zaxis\": {\"backgroundcolor\": \"#E5ECF6\", \"gridcolor\": \"white\", \"gridwidth\": 2, \"linecolor\": \"white\", \"showbackground\": true, \"ticks\": \"\", \"zerolinecolor\": \"white\"}}, \"shapedefaults\": {\"line\": {\"color\": \"#2a3f5f\"}}, \"ternary\": {\"aaxis\": {\"gridcolor\": \"white\", \"linecolor\": \"white\", \"ticks\": \"\"}, \"baxis\": {\"gridcolor\": \"white\", \"linecolor\": \"white\", \"ticks\": \"\"}, \"bgcolor\": \"#E5ECF6\", \"caxis\": {\"gridcolor\": \"white\", \"linecolor\": \"white\", \"ticks\": \"\"}}, \"title\": {\"x\": 0.05}, \"xaxis\": {\"automargin\": true, \"gridcolor\": \"white\", \"linecolor\": \"white\", \"ticks\": \"\", \"title\": {\"standoff\": 15}, \"zerolinecolor\": \"white\", \"zerolinewidth\": 2}, \"yaxis\": {\"automargin\": true, \"gridcolor\": \"white\", \"linecolor\": \"white\", \"ticks\": \"\", \"title\": {\"standoff\": 15}, \"zerolinecolor\": \"white\", \"zerolinewidth\": 2}}}, \"title\": {\"text\": \"LSI Scores for found tunes\"}, \"xaxis\": {\"anchor\": \"y\", \"domain\": [0.0, 1.0], \"title\": {\"text\": \"score\"}}, \"yaxis\": {\"anchor\": \"x\", \"domain\": [0.0, 1.0], \"title\": {\"text\": \"count\"}}},\n",
              "                        {\"responsive\": true}\n",
              "                    ).then(function(){\n",
              "                            \n",
              "var gd = document.getElementById('d7a18ade-5d00-4060-8379-1abc45b4648f');\n",
              "var x = new MutationObserver(function (mutations, observer) {{\n",
              "        var display = window.getComputedStyle(gd).display;\n",
              "        if (!display || display === 'none') {{\n",
              "            console.log([gd, 'removed!']);\n",
              "            Plotly.purge(gd);\n",
              "            observer.disconnect();\n",
              "        }}\n",
              "}});\n",
              "\n",
              "// Listen for the removal of the full notebook cells\n",
              "var notebookContainer = gd.closest('#notebook-container');\n",
              "if (notebookContainer) {{\n",
              "    x.observe(notebookContainer, {childList: true});\n",
              "}}\n",
              "\n",
              "// Listen for the clearing of the current output cell\n",
              "var outputEl = gd.closest('.output');\n",
              "if (outputEl) {{\n",
              "    x.observe(outputEl, {childList: true});\n",
              "}}\n",
              "\n",
              "                        })\n",
              "                };\n",
              "                \n",
              "            </script>\n",
              "        </div>\n",
              "</body>\n",
              "</html>"
            ]
          },
          "metadata": {}
        }
      ]
    },
    {
      "cell_type": "code",
      "source": [
        "fig = px.histogram(df_sim[df_sim.found==1], x=\"rank\", title='Rank on which tune is found')\n",
        "fig.show()"
      ],
      "metadata": {
        "colab": {
          "base_uri": "https://localhost:8080/",
          "height": 542
        },
        "id": "jXXXdqlWsSxp",
        "outputId": "0a9aacf3-0692-4890-b26a-44f72357c588"
      },
      "execution_count": 75,
      "outputs": [
        {
          "output_type": "display_data",
          "data": {
            "text/html": [
              "<html>\n",
              "<head><meta charset=\"utf-8\" /></head>\n",
              "<body>\n",
              "    <div>\n",
              "            <script src=\"https://cdnjs.cloudflare.com/ajax/libs/mathjax/2.7.5/MathJax.js?config=TeX-AMS-MML_SVG\"></script><script type=\"text/javascript\">if (window.MathJax) {MathJax.Hub.Config({SVG: {font: \"STIX-Web\"}});}</script>\n",
              "                <script type=\"text/javascript\">window.PlotlyConfig = {MathJaxConfig: 'local'};</script>\n",
              "        <script src=\"https://cdn.plot.ly/plotly-latest.min.js\"></script>    \n",
              "            <div id=\"fffc896b-13a7-4467-bc7c-a3b69943e729\" class=\"plotly-graph-div\" style=\"height:525px; width:100%;\"></div>\n",
              "            <script type=\"text/javascript\">\n",
              "                \n",
              "                    window.PLOTLYENV=window.PLOTLYENV || {};\n",
              "                    \n",
              "                if (document.getElementById(\"fffc896b-13a7-4467-bc7c-a3b69943e729\")) {\n",
              "                    Plotly.newPlot(\n",
              "                        'fffc896b-13a7-4467-bc7c-a3b69943e729',\n",
              "                        [{\"alignmentgroup\": \"True\", \"bingroup\": \"x\", \"hoverlabel\": {\"namelength\": 0}, \"hovertemplate\": \"rank=%{x}<br>count=%{y}\", \"legendgroup\": \"\", \"marker\": {\"color\": \"#636efa\"}, \"name\": \"\", \"offsetgroup\": \"\", \"orientation\": \"v\", \"showlegend\": false, \"type\": \"histogram\", \"x\": [1, 1, 5, 17, 5, 5, 2, 5, 1, 1, 20, 1, 5, 4, 2, 15, 1, 6, 22, 3, 2, 0, 16, 0, 3, 7, 5, 12, 23, 6, 1, 5, 27, 2, 18, 18, 4, 3, 0, 0, 2, 2, 1, 0, 1, 6, 3, 6, 0, 1, 0, 1, 0, 3, 2, 2, 7, 9, 7, 2, 2, 2, 0, 5, 1, 0, 1, 2, 0, 2, 0, 0, 0, 0, 4, 4, 5, 0, 3, 9, 1, 1, 23, 14, 1, 1, 1, 1, 5, 4, 11, 2, 1, 0, 14, 2, 9, 2], \"xaxis\": \"x\", \"yaxis\": \"y\"}],\n",
              "                        {\"barmode\": \"relative\", \"legend\": {\"tracegroupgap\": 0}, \"template\": {\"data\": {\"bar\": [{\"error_x\": {\"color\": \"#2a3f5f\"}, \"error_y\": {\"color\": \"#2a3f5f\"}, \"marker\": {\"line\": {\"color\": \"#E5ECF6\", \"width\": 0.5}}, \"type\": \"bar\"}], \"barpolar\": [{\"marker\": {\"line\": {\"color\": \"#E5ECF6\", \"width\": 0.5}}, \"type\": \"barpolar\"}], \"carpet\": [{\"aaxis\": {\"endlinecolor\": \"#2a3f5f\", \"gridcolor\": \"white\", \"linecolor\": \"white\", \"minorgridcolor\": \"white\", \"startlinecolor\": \"#2a3f5f\"}, \"baxis\": {\"endlinecolor\": \"#2a3f5f\", \"gridcolor\": \"white\", \"linecolor\": \"white\", \"minorgridcolor\": \"white\", \"startlinecolor\": \"#2a3f5f\"}, \"type\": \"carpet\"}], \"choropleth\": [{\"colorbar\": {\"outlinewidth\": 0, \"ticks\": \"\"}, \"type\": \"choropleth\"}], \"contour\": [{\"colorbar\": {\"outlinewidth\": 0, \"ticks\": \"\"}, \"colorscale\": [[0.0, \"#0d0887\"], [0.1111111111111111, \"#46039f\"], [0.2222222222222222, \"#7201a8\"], [0.3333333333333333, \"#9c179e\"], [0.4444444444444444, \"#bd3786\"], [0.5555555555555556, \"#d8576b\"], [0.6666666666666666, \"#ed7953\"], [0.7777777777777778, \"#fb9f3a\"], [0.8888888888888888, \"#fdca26\"], [1.0, \"#f0f921\"]], \"type\": \"contour\"}], \"contourcarpet\": [{\"colorbar\": {\"outlinewidth\": 0, \"ticks\": \"\"}, \"type\": \"contourcarpet\"}], \"heatmap\": [{\"colorbar\": {\"outlinewidth\": 0, \"ticks\": \"\"}, \"colorscale\": [[0.0, \"#0d0887\"], [0.1111111111111111, \"#46039f\"], [0.2222222222222222, \"#7201a8\"], [0.3333333333333333, \"#9c179e\"], [0.4444444444444444, \"#bd3786\"], [0.5555555555555556, \"#d8576b\"], [0.6666666666666666, \"#ed7953\"], [0.7777777777777778, \"#fb9f3a\"], [0.8888888888888888, \"#fdca26\"], [1.0, \"#f0f921\"]], \"type\": \"heatmap\"}], \"heatmapgl\": [{\"colorbar\": {\"outlinewidth\": 0, \"ticks\": \"\"}, \"colorscale\": [[0.0, \"#0d0887\"], [0.1111111111111111, \"#46039f\"], [0.2222222222222222, \"#7201a8\"], [0.3333333333333333, \"#9c179e\"], [0.4444444444444444, \"#bd3786\"], [0.5555555555555556, \"#d8576b\"], [0.6666666666666666, \"#ed7953\"], [0.7777777777777778, \"#fb9f3a\"], [0.8888888888888888, \"#fdca26\"], [1.0, \"#f0f921\"]], \"type\": \"heatmapgl\"}], \"histogram\": [{\"marker\": {\"colorbar\": {\"outlinewidth\": 0, \"ticks\": \"\"}}, \"type\": \"histogram\"}], \"histogram2d\": [{\"colorbar\": {\"outlinewidth\": 0, \"ticks\": \"\"}, \"colorscale\": [[0.0, \"#0d0887\"], [0.1111111111111111, \"#46039f\"], [0.2222222222222222, \"#7201a8\"], [0.3333333333333333, \"#9c179e\"], [0.4444444444444444, \"#bd3786\"], [0.5555555555555556, \"#d8576b\"], [0.6666666666666666, \"#ed7953\"], [0.7777777777777778, \"#fb9f3a\"], [0.8888888888888888, \"#fdca26\"], [1.0, \"#f0f921\"]], \"type\": \"histogram2d\"}], \"histogram2dcontour\": [{\"colorbar\": {\"outlinewidth\": 0, \"ticks\": \"\"}, \"colorscale\": [[0.0, \"#0d0887\"], [0.1111111111111111, \"#46039f\"], [0.2222222222222222, \"#7201a8\"], [0.3333333333333333, \"#9c179e\"], [0.4444444444444444, \"#bd3786\"], [0.5555555555555556, \"#d8576b\"], [0.6666666666666666, \"#ed7953\"], [0.7777777777777778, \"#fb9f3a\"], [0.8888888888888888, \"#fdca26\"], [1.0, \"#f0f921\"]], \"type\": \"histogram2dcontour\"}], \"mesh3d\": [{\"colorbar\": {\"outlinewidth\": 0, \"ticks\": \"\"}, \"type\": \"mesh3d\"}], \"parcoords\": [{\"line\": {\"colorbar\": {\"outlinewidth\": 0, \"ticks\": \"\"}}, \"type\": \"parcoords\"}], \"pie\": [{\"automargin\": true, \"type\": \"pie\"}], \"scatter\": [{\"marker\": {\"colorbar\": {\"outlinewidth\": 0, \"ticks\": \"\"}}, \"type\": \"scatter\"}], \"scatter3d\": [{\"line\": {\"colorbar\": {\"outlinewidth\": 0, \"ticks\": \"\"}}, \"marker\": {\"colorbar\": {\"outlinewidth\": 0, \"ticks\": \"\"}}, \"type\": \"scatter3d\"}], \"scattercarpet\": [{\"marker\": {\"colorbar\": {\"outlinewidth\": 0, \"ticks\": \"\"}}, \"type\": \"scattercarpet\"}], \"scattergeo\": [{\"marker\": {\"colorbar\": {\"outlinewidth\": 0, \"ticks\": \"\"}}, \"type\": \"scattergeo\"}], \"scattergl\": [{\"marker\": {\"colorbar\": {\"outlinewidth\": 0, \"ticks\": \"\"}}, \"type\": \"scattergl\"}], \"scattermapbox\": [{\"marker\": {\"colorbar\": {\"outlinewidth\": 0, \"ticks\": \"\"}}, \"type\": \"scattermapbox\"}], \"scatterpolar\": [{\"marker\": {\"colorbar\": {\"outlinewidth\": 0, \"ticks\": \"\"}}, \"type\": \"scatterpolar\"}], \"scatterpolargl\": [{\"marker\": {\"colorbar\": {\"outlinewidth\": 0, \"ticks\": \"\"}}, \"type\": \"scatterpolargl\"}], \"scatterternary\": [{\"marker\": {\"colorbar\": {\"outlinewidth\": 0, \"ticks\": \"\"}}, \"type\": \"scatterternary\"}], \"surface\": [{\"colorbar\": {\"outlinewidth\": 0, \"ticks\": \"\"}, \"colorscale\": [[0.0, \"#0d0887\"], [0.1111111111111111, \"#46039f\"], [0.2222222222222222, \"#7201a8\"], [0.3333333333333333, \"#9c179e\"], [0.4444444444444444, \"#bd3786\"], [0.5555555555555556, \"#d8576b\"], [0.6666666666666666, \"#ed7953\"], [0.7777777777777778, \"#fb9f3a\"], [0.8888888888888888, \"#fdca26\"], [1.0, \"#f0f921\"]], \"type\": \"surface\"}], \"table\": [{\"cells\": {\"fill\": {\"color\": \"#EBF0F8\"}, \"line\": {\"color\": \"white\"}}, \"header\": {\"fill\": {\"color\": \"#C8D4E3\"}, \"line\": {\"color\": \"white\"}}, \"type\": \"table\"}]}, \"layout\": {\"annotationdefaults\": {\"arrowcolor\": \"#2a3f5f\", \"arrowhead\": 0, \"arrowwidth\": 1}, \"coloraxis\": {\"colorbar\": {\"outlinewidth\": 0, \"ticks\": \"\"}}, \"colorscale\": {\"diverging\": [[0, \"#8e0152\"], [0.1, \"#c51b7d\"], [0.2, \"#de77ae\"], [0.3, \"#f1b6da\"], [0.4, \"#fde0ef\"], [0.5, \"#f7f7f7\"], [0.6, \"#e6f5d0\"], [0.7, \"#b8e186\"], [0.8, \"#7fbc41\"], [0.9, \"#4d9221\"], [1, \"#276419\"]], \"sequential\": [[0.0, \"#0d0887\"], [0.1111111111111111, \"#46039f\"], [0.2222222222222222, \"#7201a8\"], [0.3333333333333333, \"#9c179e\"], [0.4444444444444444, \"#bd3786\"], [0.5555555555555556, \"#d8576b\"], [0.6666666666666666, \"#ed7953\"], [0.7777777777777778, \"#fb9f3a\"], [0.8888888888888888, \"#fdca26\"], [1.0, \"#f0f921\"]], \"sequentialminus\": [[0.0, \"#0d0887\"], [0.1111111111111111, \"#46039f\"], [0.2222222222222222, \"#7201a8\"], [0.3333333333333333, \"#9c179e\"], [0.4444444444444444, \"#bd3786\"], [0.5555555555555556, \"#d8576b\"], [0.6666666666666666, \"#ed7953\"], [0.7777777777777778, \"#fb9f3a\"], [0.8888888888888888, \"#fdca26\"], [1.0, \"#f0f921\"]]}, \"colorway\": [\"#636efa\", \"#EF553B\", \"#00cc96\", \"#ab63fa\", \"#FFA15A\", \"#19d3f3\", \"#FF6692\", \"#B6E880\", \"#FF97FF\", \"#FECB52\"], \"font\": {\"color\": \"#2a3f5f\"}, \"geo\": {\"bgcolor\": \"white\", \"lakecolor\": \"white\", \"landcolor\": \"#E5ECF6\", \"showlakes\": true, \"showland\": true, \"subunitcolor\": \"white\"}, \"hoverlabel\": {\"align\": \"left\"}, \"hovermode\": \"closest\", \"mapbox\": {\"style\": \"light\"}, \"paper_bgcolor\": \"white\", \"plot_bgcolor\": \"#E5ECF6\", \"polar\": {\"angularaxis\": {\"gridcolor\": \"white\", \"linecolor\": \"white\", \"ticks\": \"\"}, \"bgcolor\": \"#E5ECF6\", \"radialaxis\": {\"gridcolor\": \"white\", \"linecolor\": \"white\", \"ticks\": \"\"}}, \"scene\": {\"xaxis\": {\"backgroundcolor\": \"#E5ECF6\", \"gridcolor\": \"white\", \"gridwidth\": 2, \"linecolor\": \"white\", \"showbackground\": true, \"ticks\": \"\", \"zerolinecolor\": \"white\"}, \"yaxis\": {\"backgroundcolor\": \"#E5ECF6\", \"gridcolor\": \"white\", \"gridwidth\": 2, \"linecolor\": \"white\", \"showbackground\": true, \"ticks\": \"\", \"zerolinecolor\": \"white\"}, \"zaxis\": {\"backgroundcolor\": \"#E5ECF6\", \"gridcolor\": \"white\", \"gridwidth\": 2, \"linecolor\": \"white\", \"showbackground\": true, \"ticks\": \"\", \"zerolinecolor\": \"white\"}}, \"shapedefaults\": {\"line\": {\"color\": \"#2a3f5f\"}}, \"ternary\": {\"aaxis\": {\"gridcolor\": \"white\", \"linecolor\": \"white\", \"ticks\": \"\"}, \"baxis\": {\"gridcolor\": \"white\", \"linecolor\": \"white\", \"ticks\": \"\"}, \"bgcolor\": \"#E5ECF6\", \"caxis\": {\"gridcolor\": \"white\", \"linecolor\": \"white\", \"ticks\": \"\"}}, \"title\": {\"x\": 0.05}, \"xaxis\": {\"automargin\": true, \"gridcolor\": \"white\", \"linecolor\": \"white\", \"ticks\": \"\", \"title\": {\"standoff\": 15}, \"zerolinecolor\": \"white\", \"zerolinewidth\": 2}, \"yaxis\": {\"automargin\": true, \"gridcolor\": \"white\", \"linecolor\": \"white\", \"ticks\": \"\", \"title\": {\"standoff\": 15}, \"zerolinecolor\": \"white\", \"zerolinewidth\": 2}}}, \"title\": {\"text\": \"Rank on which tune is found\"}, \"xaxis\": {\"anchor\": \"y\", \"domain\": [0.0, 1.0], \"title\": {\"text\": \"rank\"}}, \"yaxis\": {\"anchor\": \"x\", \"domain\": [0.0, 1.0], \"title\": {\"text\": \"count\"}}},\n",
              "                        {\"responsive\": true}\n",
              "                    ).then(function(){\n",
              "                            \n",
              "var gd = document.getElementById('fffc896b-13a7-4467-bc7c-a3b69943e729');\n",
              "var x = new MutationObserver(function (mutations, observer) {{\n",
              "        var display = window.getComputedStyle(gd).display;\n",
              "        if (!display || display === 'none') {{\n",
              "            console.log([gd, 'removed!']);\n",
              "            Plotly.purge(gd);\n",
              "            observer.disconnect();\n",
              "        }}\n",
              "}});\n",
              "\n",
              "// Listen for the removal of the full notebook cells\n",
              "var notebookContainer = gd.closest('#notebook-container');\n",
              "if (notebookContainer) {{\n",
              "    x.observe(notebookContainer, {childList: true});\n",
              "}}\n",
              "\n",
              "// Listen for the clearing of the current output cell\n",
              "var outputEl = gd.closest('.output');\n",
              "if (outputEl) {{\n",
              "    x.observe(outputEl, {childList: true});\n",
              "}}\n",
              "\n",
              "                        })\n",
              "                };\n",
              "                \n",
              "            </script>\n",
              "        </div>\n",
              "</body>\n",
              "</html>"
            ]
          },
          "metadata": {}
        }
      ]
    },
    {
      "cell_type": "code",
      "metadata": {
        "id": "RS7LsLASi5-f"
      },
      "source": [
        "model_name = 'lsi'\n",
        "if use_wandb:\n",
        "  wandb.log(\n",
        "      {model_name: {\n",
        "                'contrafacts': {\n",
        "                    'topN': topN,\n",
        "                    'success': matches/len(contrafacts),\n",
        "                    'results': wandb.Table(data=df_sim),\n",
        "                    'score_histogram': wandb.Image('plot.png'),\n",
        "                    },\n",
        "                'model': {\n",
        "                    'remove_tokens_below': no_below,\n",
        "                }\n",
        "                   },\n",
        "       })"
      ],
      "execution_count": 76,
      "outputs": []
    },
    {
      "cell_type": "markdown",
      "metadata": {
        "id": "AjZArSmyooWt"
      },
      "source": [
        "### Get Recommender Data for WebApp"
      ]
    },
    {
      "cell_type": "code",
      "source": [
        "test_data = [\n",
        "  \"Sweet Sue, Just You [jazz1350]\",\n",
        "  \"On The Sunny Side Of The Street [jazz1350]\",\n",
        "  \"These Foolish Things [jazz1350]\", \n",
        "  \"Blue Moon [jazz1350]\",\n",
        "  \"I Got Rhythm [jazz1350]\",\n",
        "  \"Old Fashioned Love [trad]\",\n",
        "  \"Exactly Like You [jazz1350]\",\n",
        "  \"Honeysuckle Rose [jazz1350]\",\n",
        "  \"Misty [jazz1350]\",\n",
        "  \"Wow [jazz1350]\",\n",
        "  \"Take The A Train [jazz1350]\"\n",
        "]\n",
        "\n",
        "test_data = sorted(test_data)"
      ],
      "metadata": {
        "id": "xk7UxddN8QkA"
      },
      "execution_count": 77,
      "outputs": []
    },
    {
      "cell_type": "code",
      "metadata": {
        "colab": {
          "base_uri": "https://localhost:8080/"
        },
        "id": "JfMygz-ejgXG",
        "outputId": "042bf0d9-c90b-44a7-9b6a-afa0c98b241c"
      },
      "source": [
        "%%time\n",
        "if False:\n",
        "  #_tunes = list(tunes['title_playlist'].values())\n",
        "  _tunes = test_data\n",
        "\n",
        "  method = 'lsi'\n",
        "\n",
        "  # save the mapping between titleid and title to disk\n",
        "  pd.DataFrame.from_dict(tunes).to_csv(f'output/index_{method}.csv', index_label='titleid')\n",
        "  with zipfile.ZipFile(f'output/index_{method}.zip', 'w') as zf:\n",
        "    zf.write(f'output/index_{method}.csv')\n",
        "\n",
        "  df_sim = get_sim_scores(_tunes, index_lsi, lsi, topn=30)\n",
        "\n",
        "  # save to file\n",
        "  (df_sim\n",
        "   .loc[:,[#'reference_title',\n",
        "           'reference_titleid',\n",
        "           #'similar_title',\n",
        "           'similar_titleid',\n",
        "           'ref_section_label',\n",
        "           'similar_section_label',\n",
        "           'score'\n",
        "           ]]\n",
        "   .groupby(['reference_titleid', \n",
        "          #'reference_title', \n",
        "          'similar_titleid',\n",
        "          #'similar_title', \n",
        "          'ref_section_label', \n",
        "          'similar_section_label'])\n",
        "   .max('score')\n",
        "   .reset_index()\n",
        "   .to_csv(f'output/recommender_{method}.csv', encoding='utf8', index=False)\n",
        "  )\n",
        "  \n",
        "  with zipfile.ZipFile(f'output/recommender_{method}.zip', 'w') as zf:\n",
        "    zf.write(f'output/recommender_{method}.csv')\n",
        "\n",
        "  # save to wandb\n",
        "  if use_wandb:\n",
        "    model_artifact = wandb.Artifact(\n",
        "        f\"recommender_{method}\", \n",
        "        type=\"csv\",\n",
        "        description=f\"Recommendations for each Tune using {method} Model (csv file)\",\n",
        "        metadata=\"\")\n",
        "\n",
        "    model_artifact.add_file(f'output/recommender_{method}.zip')\n",
        "    model_artifact.add_file(f'output/index_{method}.zip')\n",
        "    wandb.log_artifact(model_artifact)"
      ],
      "execution_count": 78,
      "outputs": [
        {
          "output_type": "stream",
          "name": "stdout",
          "text": [
            "CPU times: user 6 µs, sys: 0 ns, total: 6 µs\n",
            "Wall time: 11.7 µs\n"
          ]
        }
      ]
    },
    {
      "cell_type": "markdown",
      "metadata": {
        "id": "lTQKfd0xQQ65"
      },
      "source": [
        "## Store Model to W&B"
      ]
    },
    {
      "cell_type": "code",
      "metadata": {
        "id": "RfAYF7ArQUXo"
      },
      "source": [
        "if use_wandb:\n",
        "  model_artifact = wandb.Artifact(\n",
        "      \"model_lsi\", \n",
        "      type=\"model\",\n",
        "      description=\"LSI model\",\n",
        "      metadata=\"\")\n",
        "\n",
        "  model_artifact.add_file(\"/content/index/lsi.model\")\n",
        "  model_artifact.add_file(\"/content/index/lsi_matrixsim.index\")\n",
        "  model_artifact.add_file(\"/content/index/lsi.model.projection\")\n",
        "  wandb.log_artifact(model_artifact)"
      ],
      "execution_count": 79,
      "outputs": []
    },
    {
      "cell_type": "markdown",
      "metadata": {
        "id": "asScIocQRMPA"
      },
      "source": [
        "## Determine Number of Topics for LSI Model\n",
        "\n",
        "This sample comes from Datacamp: \n",
        "\n",
        "https://www.datacamp.com/community/tutorials/discovering-hidden-topics-python\n"
      ]
    },
    {
      "cell_type": "markdown",
      "metadata": {
        "id": "1TPNWFEPSxZ-"
      },
      "source": [
        "What is the best way to determine k (number of topics) in topic modeling? Identify the optimum number of topics in the given corpus text is a challenging task. We can use the following options for determining the optimum number of topics:\n",
        "\n",
        "* One way to determine the optimum number of topics is to consider each topic as a cluster and find out the effectiveness of a cluster using the Silhouette coefficient.\n",
        "* Topic coherence measure is a realistic measure for identifying the number of topics.\n",
        "\n",
        "Topic Coherence measure is a widely used metric to evaluate topic models. It uses the latent variable models. Each generated topic has a list of words. In topic coherence measure, you will find average/median of pairwise word similarity scores of the words in a topic. The high value of topic coherence score model will be considered as a good topic model. "
      ]
    },
    {
      "cell_type": "code",
      "metadata": {
        "id": "umpCyQQzRLgv"
      },
      "source": [
        "def prepare_corpus(doc_clean):\n",
        "    \"\"\"\n",
        "    Input  : clean document\n",
        "    Purpose: create term dictionary of our courpus and Converting list of documents (corpus) into Document Term Matrix\n",
        "    Output : term dictionary and Document Term Matrix\n",
        "    \"\"\"\n",
        "    # Creating the term dictionary of our courpus, where every unique term is assigned an index. dictionary = corpora.Dictionary(doc_clean)\n",
        "    dictionary = corpora.Dictionary(doc_clean)\n",
        "    # Converting list of documents (corpus) into Document Term Matrix using dictionary prepared above.\n",
        "    doc_term_matrix = [dictionary.doc2bow(doc) for doc in doc_clean]\n",
        "    # generate LDA model\n",
        "    return dictionary, doc_term_matrix"
      ],
      "execution_count": 80,
      "outputs": []
    },
    {
      "cell_type": "code",
      "metadata": {
        "id": "aS2wxIEERcul"
      },
      "source": [
        "def compute_coherence_values(dictionary, doc_term_matrix, doc_clean, stop, start=2, step=3):\n",
        "    \"\"\"\n",
        "    Input   : dictionary : Gensim dictionary\n",
        "              corpus : Gensim corpus\n",
        "              texts : List of input texts\n",
        "              stop : Max num of topics\n",
        "    purpose : Compute c_v coherence for various number of topics\n",
        "    Output  : model_list : List of LSA topic models\n",
        "              coherence_values : Coherence values corresponding to the LDA model with respective number of topics\n",
        "    \"\"\"\n",
        "    coherence_values = []\n",
        "    model_list = []\n",
        "    for num_topics in range(start, stop, step):\n",
        "        # generate LSA model\n",
        "        model = LsiModel(doc_term_matrix, num_topics=num_topics, id2word = dictionary)  # train model\n",
        "        model_list.append(model)\n",
        "        coherencemodel = CoherenceModel(model=model, texts=doc_clean, dictionary=dictionary, coherence='c_v')\n",
        "        coherence_values.append(coherencemodel.get_coherence())\n",
        "    return model_list, coherence_values"
      ],
      "execution_count": 81,
      "outputs": []
    },
    {
      "cell_type": "code",
      "metadata": {
        "id": "DjyzAzWBRfrH"
      },
      "source": [
        "def plot_graph(doc_clean,start, stop, step):\n",
        "    dictionary, doc_term_matrix = prepare_corpus(doc_clean)\n",
        "\n",
        "    runs = 5\n",
        "    for i in range(runs):\n",
        "      model_list, coherence_values = compute_coherence_values(dictionary, \n",
        "                                                              doc_term_matrix,\n",
        "                                                              doc_clean,\n",
        "                                                              stop, start, step)\n",
        "      # Show graph\n",
        "      x = range(start, stop, step)\n",
        "      plt.plot(x, coherence_values, color='blue')\n",
        "\n",
        "    plt.xlabel(\"Number of Topics\")\n",
        "    plt.ylabel(\"Coherence score\")\n",
        "    plt.show()"
      ],
      "execution_count": 82,
      "outputs": []
    },
    {
      "cell_type": "code",
      "metadata": {
        "id": "qy9ZjdcmRhxs"
      },
      "source": [
        "# evaluate a good number of topics for the LSI Model. This takes some time.\n",
        "\n",
        "if False:\n",
        "\n",
        "  start, stop, step = 2, 50, 2\n",
        "  plot_graph(data, start, stop, step)"
      ],
      "execution_count": 83,
      "outputs": []
    },
    {
      "cell_type": "markdown",
      "metadata": {
        "id": "Qo5NgBHFlqgg"
      },
      "source": [
        "For unigrams, the best number of topics that is most consistently for the 5 runs seems to be around 22.\n",
        "\n",
        "For unigrams plus bigrams, the coherence score drops down until 100 and then continuously rises until 500 and continues to rise. Same for bigrams-only."
      ]
    },
    {
      "cell_type": "markdown",
      "metadata": {
        "id": "RhOWHSEU0DQH"
      },
      "source": [
        "# W&B Logging and Finish"
      ]
    },
    {
      "cell_type": "code",
      "metadata": {
        "id": "YMUDRHkm0aMV",
        "colab": {
          "base_uri": "https://localhost:8080/",
          "height": 125,
          "referenced_widgets": [
            "c00a953800a94d428b3afcae25e3f6f3",
            "831a6b3860e8420eac769743cda48f3b",
            "d9ef8e0dccc346b98b849665745e9a61",
            "94b650d35a4047c8bde83845e97a63f7",
            "584c3ee12888464f999499a2f98a54cf",
            "4741ef8771da443db9818191a51353fe",
            "068c526276e5424e87111f241075d215",
            "e33af2d04fdc45bb9c63957f7e2472dc"
          ]
        },
        "outputId": "7fcd3247-77ba-4aff-bed0-6f567e1f9e29"
      },
      "source": [
        "if use_wandb:\n",
        "  wandb.finish()"
      ],
      "execution_count": 84,
      "outputs": [
        {
          "output_type": "display_data",
          "data": {
            "text/html": [
              "<br/>Waiting for W&B process to finish, PID 12781... <strong style=\"color:green\">(success).</strong>"
            ],
            "text/plain": [
              "<IPython.core.display.HTML object>"
            ]
          },
          "metadata": {}
        },
        {
          "output_type": "display_data",
          "data": {
            "application/vnd.jupyter.widget-view+json": {
              "model_id": "c00a953800a94d428b3afcae25e3f6f3",
              "version_minor": 0,
              "version_major": 2
            },
            "text/plain": [
              "VBox(children=(Label(value=' 0.89MB of 0.89MB uploaded (0.00MB deduped)\\r'), FloatProgress(value=1.0, max=1.0)…"
            ]
          },
          "metadata": {}
        },
        {
          "output_type": "display_data",
          "data": {
            "text/html": [
              "<style>\n",
              "    table.wandb td:nth-child(1) { padding: 0 10px; text-align: right }\n",
              "    .wandb-row { display: flex; flex-direction: row; flex-wrap: wrap; width: 100% }\n",
              "    .wandb-col { display: flex; flex-direction: column; flex-basis: 100%; flex: 1; padding: 10px; }\n",
              "    </style>\n",
              "<div class=\"wandb-row\"><div class=\"wandb-col\">\n",
              "</div><div class=\"wandb-col\">\n",
              "</div></div>\n",
              "Synced 5 W&B file(s), 3 media file(s), 5 artifact file(s) and 0 other file(s)\n",
              "<br/>Synced <strong style=\"color:#cdcd00\">likely-disco-42</strong>: <a href=\"https://wandb.ai/doris/lsi_model/runs/1giul6jc\" target=\"_blank\">https://wandb.ai/doris/lsi_model/runs/1giul6jc</a><br/>\n",
              "Find logs at: <code>./wandb/run-20211227_165508-1giul6jc/logs</code><br/>\n"
            ],
            "text/plain": [
              "<IPython.core.display.HTML object>"
            ]
          },
          "metadata": {}
        }
      ]
    },
    {
      "cell_type": "code",
      "metadata": {
        "id": "Vn_SFyKt0bYx"
      },
      "source": [
        "\n"
      ],
      "execution_count": 84,
      "outputs": []
    },
    {
      "cell_type": "code",
      "source": [
        ""
      ],
      "metadata": {
        "id": "NWF3zbYKi9YO"
      },
      "execution_count": 84,
      "outputs": []
    }
  ]
}