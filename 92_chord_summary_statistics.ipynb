{
 "cells": [
  {
   "cell_type": "code",
   "execution_count": 5,
   "metadata": {
    "collapsed": true
   },
   "outputs": [],
   "source": [
    "from data_preparation.utils import output_preprocessing_directory\n",
    "import pandas as pd\n",
    "from model.PrepareData import PrepareData\n",
    "import re"
   ]
  },
  {
   "cell_type": "code",
   "execution_count": 21,
   "outputs": [],
   "source": [
    "from collections import Counter\n",
    "\n",
    "def raw_chords_to_df(tunes, remove_root=False):\n",
    "  tunes_chords = [item for tune in tunes for item in tune]\n",
    "\n",
    "  if remove_root:\n",
    "    tunes_chords = [re.sub('^[A-G][#b]?', '', chord) for chord in tunes_chords]\n",
    "\n",
    "  counts = Counter(tunes_chords)\n",
    "  df = pd.DataFrame(counts.items(),\n",
    "                    columns=['chord', 'count']).sort_values(by='count', ascending=False)\n",
    "\n",
    "  return df"
   ],
   "metadata": {
    "collapsed": false,
    "pycharm": {
     "name": "#%%\n"
    }
   }
  },
  {
   "cell_type": "markdown",
   "source": [
    "# Read Data"
   ],
   "metadata": {
    "collapsed": false,
    "pycharm": {
     "name": "#%% md\n"
    }
   }
  },
  {
   "cell_type": "code",
   "execution_count": 22,
   "outputs": [
    {
     "name": "stdout",
     "output_type": "stream",
     "text": [
      "Train Corpus: 3078\n",
      "Test Corpus: 180\n"
     ]
    },
    {
     "data": {
      "text/plain": "0    [CM7, Eb7, AbM7, B7, EM7, G7, Gm7, C7, FM7, Ab...\n1    [Gm7, C7, Bm7, E7, AM7, C7, FM7, Bbm7, Eb7, Ab...\n2    [Am7, Am7, Cm7, Cm7, EbM7, EbM7, Em7b5, A7(+#9...\n3    [Am7, C#M7, Bm7b5, E7(+#9), Am7, C#M7, Bm7b5, ...\n4    [C, Am7, Dm7, G7, C, Am7, Dm7, G7, C, Am7, Dm7...\nName: chords, dtype: object"
     },
     "execution_count": 22,
     "metadata": {},
     "output_type": "execute_result"
    }
   ],
   "source": [
    "#df = pd.read_csv(f'{output_preprocessing_directory}/03b_input_wordembedding_sections_full.csv', sep='\\t')\n",
    "prep = PrepareData('chordsFull', ngrams=[1])\n",
    "df = prep.df_section['chords']\n",
    "df.head()"
   ],
   "metadata": {
    "collapsed": false,
    "pycharm": {
     "name": "#%%\n"
    }
   }
  },
  {
   "cell_type": "markdown",
   "source": [
    "### Prepare Overview for Full Chords, any Root"
   ],
   "metadata": {
    "collapsed": false,
    "pycharm": {
     "name": "#%% md\n"
    }
   }
  },
  {
   "cell_type": "code",
   "source": [
    "df_chords = raw_chords_to_df(df)\n",
    "df_chords.head()"
   ],
   "metadata": {
    "collapsed": false,
    "pycharm": {
     "name": "#%%\n"
    }
   },
   "execution_count": 23,
   "outputs": [
    {
     "data": {
      "text/plain": "   chord  count\n5     G7   4838\n14   Dm7   3960\n0    CM7   2590\n32     C   2129\n12   Am7   2013",
      "text/html": "<div>\n<style scoped>\n    .dataframe tbody tr th:only-of-type {\n        vertical-align: middle;\n    }\n\n    .dataframe tbody tr th {\n        vertical-align: top;\n    }\n\n    .dataframe thead th {\n        text-align: right;\n    }\n</style>\n<table border=\"1\" class=\"dataframe\">\n  <thead>\n    <tr style=\"text-align: right;\">\n      <th></th>\n      <th>chord</th>\n      <th>count</th>\n    </tr>\n  </thead>\n  <tbody>\n    <tr>\n      <th>5</th>\n      <td>G7</td>\n      <td>4838</td>\n    </tr>\n    <tr>\n      <th>14</th>\n      <td>Dm7</td>\n      <td>3960</td>\n    </tr>\n    <tr>\n      <th>0</th>\n      <td>CM7</td>\n      <td>2590</td>\n    </tr>\n    <tr>\n      <th>32</th>\n      <td>C</td>\n      <td>2129</td>\n    </tr>\n    <tr>\n      <th>12</th>\n      <td>Am7</td>\n      <td>2013</td>\n    </tr>\n  </tbody>\n</table>\n</div>"
     },
     "execution_count": 23,
     "metadata": {},
     "output_type": "execute_result"
    }
   ]
  },
  {
   "cell_type": "markdown",
   "source": [
    "### Prepare Overview for Full Chords, Roots removed"
   ],
   "metadata": {
    "collapsed": false,
    "pycharm": {
     "name": "#%% md\n"
    }
   }
  },
  {
   "cell_type": "code",
   "execution_count": 32,
   "outputs": [],
   "source": [
    "df_noroot = raw_chords_to_df(df, remove_root=True)"
   ],
   "metadata": {
    "collapsed": false,
    "pycharm": {
     "name": "#%%\n"
    }
   }
  },
  {
   "cell_type": "code",
   "execution_count": 33,
   "outputs": [
    {
     "data": {
      "text/plain": "           chord  count\n1              7  13830\n2             m7   9830\n0             M7   4905\n7                  3213\n8              6   1657\n5         7(+b9)   1653\n3           m7b5   1557\n15             m   1462\n11          dim7    775\n10            m6    553\n9              9    537\n16         7sus4    463\n13          aug7    374\n12       7(+#11)    355\n26            13    324\n14           dim    303\n4         7(+#9)    291\n28      M7(+#11)    269\n21            m9    237\n18       7(+b13)    234\n31           m11    163\n19           aug    160\n25           mM7    118\n17          7alt    109\n29         6(+9)     97\n22         9sus4     87\n36       9(+#11)     68\n33        7(+b5)     57\n27            M9     52\n41       13(+b9)     48\n40     aug7(+#9)     47\n23    7(+b9)sus4     38\n38        m(+b6)     33\n24     aug7(+b9)     25\n6          augM7     24\n34          aug9     21\n53        13sus4     19\n45          sus4     19\n35          (+9)     19\n20   7(+b5)(+b9)     17\n42        m6(+9)     15\n37      13(+#11)     14\n47  7(+b9)(+b13)     13\n48  7(+b9)(+#11)      9\n55   7(+b13)sus4      8\n32            11      6\n30   7(+b5)(+#9)      4\n39           M13      3\n43      M9(+#11)      3\n50        9(+b5)      3\n44   7(+b9)(+#9)      2\n46  7(+#9)(+#11)      2\n49       13(+#9)      2\n51           mM9      1\n52             5      1\n54          maug      1",
      "text/html": "<div>\n<style scoped>\n    .dataframe tbody tr th:only-of-type {\n        vertical-align: middle;\n    }\n\n    .dataframe tbody tr th {\n        vertical-align: top;\n    }\n\n    .dataframe thead th {\n        text-align: right;\n    }\n</style>\n<table border=\"1\" class=\"dataframe\">\n  <thead>\n    <tr style=\"text-align: right;\">\n      <th></th>\n      <th>chord</th>\n      <th>count</th>\n    </tr>\n  </thead>\n  <tbody>\n    <tr>\n      <th>1</th>\n      <td>7</td>\n      <td>13830</td>\n    </tr>\n    <tr>\n      <th>2</th>\n      <td>m7</td>\n      <td>9830</td>\n    </tr>\n    <tr>\n      <th>0</th>\n      <td>M7</td>\n      <td>4905</td>\n    </tr>\n    <tr>\n      <th>7</th>\n      <td></td>\n      <td>3213</td>\n    </tr>\n    <tr>\n      <th>8</th>\n      <td>6</td>\n      <td>1657</td>\n    </tr>\n    <tr>\n      <th>5</th>\n      <td>7(+b9)</td>\n      <td>1653</td>\n    </tr>\n    <tr>\n      <th>3</th>\n      <td>m7b5</td>\n      <td>1557</td>\n    </tr>\n    <tr>\n      <th>15</th>\n      <td>m</td>\n      <td>1462</td>\n    </tr>\n    <tr>\n      <th>11</th>\n      <td>dim7</td>\n      <td>775</td>\n    </tr>\n    <tr>\n      <th>10</th>\n      <td>m6</td>\n      <td>553</td>\n    </tr>\n    <tr>\n      <th>9</th>\n      <td>9</td>\n      <td>537</td>\n    </tr>\n    <tr>\n      <th>16</th>\n      <td>7sus4</td>\n      <td>463</td>\n    </tr>\n    <tr>\n      <th>13</th>\n      <td>aug7</td>\n      <td>374</td>\n    </tr>\n    <tr>\n      <th>12</th>\n      <td>7(+#11)</td>\n      <td>355</td>\n    </tr>\n    <tr>\n      <th>26</th>\n      <td>13</td>\n      <td>324</td>\n    </tr>\n    <tr>\n      <th>14</th>\n      <td>dim</td>\n      <td>303</td>\n    </tr>\n    <tr>\n      <th>4</th>\n      <td>7(+#9)</td>\n      <td>291</td>\n    </tr>\n    <tr>\n      <th>28</th>\n      <td>M7(+#11)</td>\n      <td>269</td>\n    </tr>\n    <tr>\n      <th>21</th>\n      <td>m9</td>\n      <td>237</td>\n    </tr>\n    <tr>\n      <th>18</th>\n      <td>7(+b13)</td>\n      <td>234</td>\n    </tr>\n    <tr>\n      <th>31</th>\n      <td>m11</td>\n      <td>163</td>\n    </tr>\n    <tr>\n      <th>19</th>\n      <td>aug</td>\n      <td>160</td>\n    </tr>\n    <tr>\n      <th>25</th>\n      <td>mM7</td>\n      <td>118</td>\n    </tr>\n    <tr>\n      <th>17</th>\n      <td>7alt</td>\n      <td>109</td>\n    </tr>\n    <tr>\n      <th>29</th>\n      <td>6(+9)</td>\n      <td>97</td>\n    </tr>\n    <tr>\n      <th>22</th>\n      <td>9sus4</td>\n      <td>87</td>\n    </tr>\n    <tr>\n      <th>36</th>\n      <td>9(+#11)</td>\n      <td>68</td>\n    </tr>\n    <tr>\n      <th>33</th>\n      <td>7(+b5)</td>\n      <td>57</td>\n    </tr>\n    <tr>\n      <th>27</th>\n      <td>M9</td>\n      <td>52</td>\n    </tr>\n    <tr>\n      <th>41</th>\n      <td>13(+b9)</td>\n      <td>48</td>\n    </tr>\n    <tr>\n      <th>40</th>\n      <td>aug7(+#9)</td>\n      <td>47</td>\n    </tr>\n    <tr>\n      <th>23</th>\n      <td>7(+b9)sus4</td>\n      <td>38</td>\n    </tr>\n    <tr>\n      <th>38</th>\n      <td>m(+b6)</td>\n      <td>33</td>\n    </tr>\n    <tr>\n      <th>24</th>\n      <td>aug7(+b9)</td>\n      <td>25</td>\n    </tr>\n    <tr>\n      <th>6</th>\n      <td>augM7</td>\n      <td>24</td>\n    </tr>\n    <tr>\n      <th>34</th>\n      <td>aug9</td>\n      <td>21</td>\n    </tr>\n    <tr>\n      <th>53</th>\n      <td>13sus4</td>\n      <td>19</td>\n    </tr>\n    <tr>\n      <th>45</th>\n      <td>sus4</td>\n      <td>19</td>\n    </tr>\n    <tr>\n      <th>35</th>\n      <td>(+9)</td>\n      <td>19</td>\n    </tr>\n    <tr>\n      <th>20</th>\n      <td>7(+b5)(+b9)</td>\n      <td>17</td>\n    </tr>\n    <tr>\n      <th>42</th>\n      <td>m6(+9)</td>\n      <td>15</td>\n    </tr>\n    <tr>\n      <th>37</th>\n      <td>13(+#11)</td>\n      <td>14</td>\n    </tr>\n    <tr>\n      <th>47</th>\n      <td>7(+b9)(+b13)</td>\n      <td>13</td>\n    </tr>\n    <tr>\n      <th>48</th>\n      <td>7(+b9)(+#11)</td>\n      <td>9</td>\n    </tr>\n    <tr>\n      <th>55</th>\n      <td>7(+b13)sus4</td>\n      <td>8</td>\n    </tr>\n    <tr>\n      <th>32</th>\n      <td>11</td>\n      <td>6</td>\n    </tr>\n    <tr>\n      <th>30</th>\n      <td>7(+b5)(+#9)</td>\n      <td>4</td>\n    </tr>\n    <tr>\n      <th>39</th>\n      <td>M13</td>\n      <td>3</td>\n    </tr>\n    <tr>\n      <th>43</th>\n      <td>M9(+#11)</td>\n      <td>3</td>\n    </tr>\n    <tr>\n      <th>50</th>\n      <td>9(+b5)</td>\n      <td>3</td>\n    </tr>\n    <tr>\n      <th>44</th>\n      <td>7(+b9)(+#9)</td>\n      <td>2</td>\n    </tr>\n    <tr>\n      <th>46</th>\n      <td>7(+#9)(+#11)</td>\n      <td>2</td>\n    </tr>\n    <tr>\n      <th>49</th>\n      <td>13(+#9)</td>\n      <td>2</td>\n    </tr>\n    <tr>\n      <th>51</th>\n      <td>mM9</td>\n      <td>1</td>\n    </tr>\n    <tr>\n      <th>52</th>\n      <td>5</td>\n      <td>1</td>\n    </tr>\n    <tr>\n      <th>54</th>\n      <td>maug</td>\n      <td>1</td>\n    </tr>\n  </tbody>\n</table>\n</div>"
     },
     "execution_count": 33,
     "metadata": {},
     "output_type": "execute_result"
    }
   ],
   "source": [
    "df_noroot.head(100)\n"
   ],
   "metadata": {
    "collapsed": false,
    "pycharm": {
     "name": "#%%\n"
    }
   }
  },
  {
   "cell_type": "code",
   "execution_count": null,
   "outputs": [],
   "source": [],
   "metadata": {
    "collapsed": false,
    "pycharm": {
     "name": "#%%\n"
    }
   }
  }
 ],
 "metadata": {
  "kernelspec": {
   "display_name": "Python 3",
   "language": "python",
   "name": "python3"
  },
  "language_info": {
   "codemirror_mode": {
    "name": "ipython",
    "version": 2
   },
   "file_extension": ".py",
   "mimetype": "text/x-python",
   "name": "python",
   "nbconvert_exporter": "python",
   "pygments_lexer": "ipython2",
   "version": "2.7.6"
  }
 },
 "nbformat": 4,
 "nbformat_minor": 0
}