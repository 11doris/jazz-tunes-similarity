{
 "cells": [
  {
   "cell_type": "code",
   "execution_count": 1036,
   "metadata": {
    "collapsed": true
   },
   "outputs": [],
   "source": [
    "import pandas as pd\n",
    "from model.PrepareData import PrepareData\n",
    "import re\n",
    "import plotly.express as px\n",
    "import matplotlib.pyplot as plt\n",
    "import numpy as np\n",
    "from collections import Counter\n"
   ]
  },
  {
   "cell_type": "code",
   "execution_count": 1037,
   "outputs": [],
   "source": [
    "topn = 50\n",
    "ngrams = [1,2]"
   ],
   "metadata": {
    "collapsed": false,
    "pycharm": {
     "name": "#%%\n"
    }
   }
  },
  {
   "cell_type": "code",
   "execution_count": 1038,
   "outputs": [],
   "source": [
    "def raw_chords_to_df(tunes, remove_root=False):\n",
    "  tunes_chords = [item for tune in tunes for item in tune]\n",
    "\n",
    "  if remove_root:\n",
    "    tunes_chords = [re.sub('[A-G][#b]?', '*', chord) for chord in tunes_chords]\n",
    "\n",
    "  counts = Counter(tunes_chords)\n",
    "  _df = pd.DataFrame(counts.items(),\n",
    "                    columns=['chord', 'count']).sort_values(by='count', ascending=False)\n",
    "\n",
    "  return _df\n"
   ],
   "metadata": {
    "collapsed": false,
    "pycharm": {
     "name": "#%%\n"
    }
   }
  },
  {
   "cell_type": "code",
   "execution_count": 1039,
   "outputs": [],
   "source": [
    "def plot_zipf(chords):\n",
    "    counter_of_words = chords.set_index('chord').to_dict(orient='dict')\n",
    "    counter_of_words = Counter(counter_of_words['count'])\n",
    "\n",
    "    word_counts = sorted(counter_of_words.values(), reverse=True)\n",
    "    frequency_rank = np.array(list(range(1, len(word_counts) + 1)))\n",
    "\n",
    "    plt.figure(figsize=(20, 3))\n",
    "\n",
    "    plt.subplot(1, 2, 1)\n",
    "\n",
    "    n = 30\n",
    "    df_top = chords.head(n)\n",
    "    plt.bar(df_top['chord'], np.log(df_top['count']))\n",
    "    plt.xlabel('')\n",
    "    plt.ylabel('Absolute Counts (log)')\n",
    "    plt.title(f'Top {n} Most Frequent Chords in the Corpus')\n",
    "    ax = plt.gca()\n",
    "    ax.set_xticklabels(labels=chords['chord'],rotation=90)\n",
    "\n",
    "    plt.subplot(1, 2, 2)\n",
    "\n",
    "    plt.scatter(np.log(frequency_rank), np.log(word_counts))\n",
    "    plt.xlabel('Frequency Rank of Token (log)')\n",
    "    plt.ylabel('Absolute Count of Token (log)')\n",
    "    plt.title('Zipf Plot for Chord Frequencies')\n",
    "\n",
    "    #plt.savefig('plot.png')\n",
    "    return plt\n"
   ],
   "metadata": {
    "collapsed": false,
    "pycharm": {
     "name": "#%%\n"
    }
   }
  },
  {
   "cell_type": "code",
   "execution_count": 1040,
   "outputs": [],
   "source": [
    "def corpus_chord_ngram(obj, ngrams):\n",
    "    _df = pd.DataFrame(columns=['sectionid', 'chords'])\n",
    "    list_corpus_chords = []\n",
    "    list_sectionid = []\n",
    "\n",
    "    # for each unique section of a tune, process the chords\n",
    "    for _id, line in obj.df_section.iterrows():\n",
    "        sectionid = line['sectionid']\n",
    "        tune_n = obj.preprocess_input(line['chords'], ngrams=ngrams)\n",
    "\n",
    "        list_corpus_chords.append(tune_n)\n",
    "        list_sectionid.append(sectionid)\n",
    "\n",
    "    _df = pd.DataFrame(list(zip(list_sectionid, list_corpus_chords)),\n",
    "                       columns=['sectionid', 'chords'])\n",
    "    _df = _df.set_index('sectionid')\n",
    "    return _df"
   ],
   "metadata": {
    "collapsed": false,
    "pycharm": {
     "name": "#%%\n"
    }
   }
  },
  {
   "cell_type": "code",
   "execution_count": 1041,
   "outputs": [],
   "source": [
    "def plot_distribution(df, root_removed=False):\n",
    "    df.sort_values(by=['count'], ascending=False, inplace=True)\n",
    "    df_top = df.head(topn)\n",
    "\n",
    "    if len(df_top) > topn:\n",
    "        text = f'Only the top {topn} chords are shown.'\n",
    "    else:\n",
    "        text = f'All chords are shown.'\n",
    "\n",
    "    if root_removed:\n",
    "        text2 = f', with Root removed.'\n",
    "    else:\n",
    "        text2 = ''\n",
    "\n",
    "    fig = px.bar(df_top,\n",
    "                 x='chord',\n",
    "                 y='count',\n",
    "                 log_y=True,\n",
    "                 width=600, height=300,\n",
    "                 )\n",
    "    fig.update_layout(\n",
    "        barmode='stack',\n",
    "        xaxis={'categoryorder':'total descending'},\n",
    "        title={'text': f\"Absolute Counts of {chords_preprocess} Chords{text2}<br><sup>{text}</sup>\",\n",
    "               'font': {'size': 12}\n",
    "               },\n",
    "        xaxis_title=\"\",\n",
    "        yaxis_title=\"Count (logarithmic)\",\n",
    "        margin=dict(l=0, r=20, t=20, b=20),\n",
    "        font=dict(\n",
    "            size=8,\n",
    "        ),\n",
    "        plot_bgcolor=\"white\",\n",
    "    )\n",
    "    fig.show()\n",
    "\n"
   ],
   "metadata": {
    "collapsed": false,
    "pycharm": {
     "name": "#%%\n"
    }
   }
  },
  {
   "cell_type": "markdown",
   "source": [
    "# Read Full Chords"
   ],
   "metadata": {
    "collapsed": false,
    "pycharm": {
     "name": "#%% md\n"
    }
   }
  },
  {
   "cell_type": "code",
   "execution_count": null,
   "outputs": [],
   "source": [
    "chords_preprocess = 'chordsFull'\n",
    "prep = PrepareData(chords_preprocess, ngrams=ngrams)\n",
    "df = corpus_chord_ngram(prep, prep.ngrams)\n",
    "df = df['chords']"
   ],
   "metadata": {
    "collapsed": false,
    "pycharm": {
     "name": "#%%\n",
     "is_executing": true
    }
   }
  },
  {
   "cell_type": "markdown",
   "source": [
    "### Prepare Overview for Full Chords, any Root"
   ],
   "metadata": {
    "collapsed": false,
    "pycharm": {
     "name": "#%% md\n"
    }
   }
  },
  {
   "cell_type": "code",
   "source": [
    "df_chords = raw_chords_to_df(df)\n",
    "df_chords.head()"
   ],
   "metadata": {
    "collapsed": false,
    "pycharm": {
     "name": "#%%\n",
     "is_executing": true
    }
   },
   "execution_count": null,
   "outputs": []
  },
  {
   "cell_type": "code",
   "execution_count": null,
   "outputs": [],
   "source": [
    "df_chords.tail()"
   ],
   "metadata": {
    "collapsed": false,
    "pycharm": {
     "name": "#%%\n",
     "is_executing": true
    }
   }
  },
  {
   "cell_type": "code",
   "execution_count": null,
   "outputs": [],
   "source": [
    "plot_zipf(df_chords)\n"
   ],
   "metadata": {
    "collapsed": false,
    "pycharm": {
     "name": "#%%\n",
     "is_executing": true
    }
   }
  },
  {
   "cell_type": "code",
   "execution_count": null,
   "outputs": [],
   "source": [
    "plot_distribution(df_chords)\n"
   ],
   "metadata": {
    "collapsed": false,
    "pycharm": {
     "name": "#%%\n",
     "is_executing": true
    }
   }
  },
  {
   "cell_type": "markdown",
   "source": [
    "### Prepare Overview for Full Chords, Roots removed"
   ],
   "metadata": {
    "collapsed": false,
    "pycharm": {
     "name": "#%% md\n"
    }
   }
  },
  {
   "cell_type": "code",
   "execution_count": null,
   "outputs": [],
   "source": [
    "df_noroot = raw_chords_to_df(df, remove_root=True)\n",
    "df_noroot.head(50)\n"
   ],
   "metadata": {
    "collapsed": false,
    "pycharm": {
     "name": "#%%\n",
     "is_executing": true
    }
   }
  },
  {
   "cell_type": "code",
   "execution_count": null,
   "outputs": [],
   "source": [
    "df_noroot.head(10)"
   ],
   "metadata": {
    "collapsed": false,
    "pycharm": {
     "name": "#%%\n",
     "is_executing": true
    }
   }
  },
  {
   "cell_type": "code",
   "execution_count": null,
   "outputs": [],
   "source": [
    "plot_distribution(df_noroot, root_removed=True)\n"
   ],
   "metadata": {
    "collapsed": false,
    "pycharm": {
     "name": "#%%\n",
     "is_executing": true
    }
   }
  },
  {
   "cell_type": "markdown",
   "source": [
    "# Read Simplified Chords"
   ],
   "metadata": {
    "collapsed": false,
    "pycharm": {
     "name": "#%% md\n"
    }
   }
  },
  {
   "cell_type": "code",
   "execution_count": null,
   "outputs": [],
   "source": [
    "chords_preprocess = 'chordsSimplified'\n",
    "prep = PrepareData(chords_preprocess, ngrams=ngrams)\n",
    "df = corpus_chord_ngram(prep, prep.ngrams)\n",
    "df = df['chords']"
   ],
   "metadata": {
    "collapsed": false,
    "pycharm": {
     "name": "#%%\n",
     "is_executing": true
    }
   }
  },
  {
   "cell_type": "markdown",
   "source": [
    "### Prepare Overview for Simplified Chords, any Root"
   ],
   "metadata": {
    "collapsed": false
   }
  },
  {
   "cell_type": "code",
   "execution_count": null,
   "outputs": [],
   "source": [
    "df_chords = raw_chords_to_df(df)\n",
    "df_chords.head()\n"
   ],
   "metadata": {
    "collapsed": false,
    "pycharm": {
     "name": "#%%\n",
     "is_executing": true
    }
   }
  },
  {
   "cell_type": "code",
   "execution_count": null,
   "outputs": [],
   "source": [
    "plot_zipf(df_chords)\n"
   ],
   "metadata": {
    "collapsed": false,
    "pycharm": {
     "name": "#%%\n",
     "is_executing": true
    }
   }
  },
  {
   "cell_type": "code",
   "execution_count": null,
   "outputs": [],
   "source": [
    "plot_distribution(df_chords)"
   ],
   "metadata": {
    "collapsed": false,
    "pycharm": {
     "name": "#%%\n",
     "is_executing": true
    }
   }
  },
  {
   "cell_type": "markdown",
   "source": [
    "### Prepare Overview for Simplified Chords, Roots removed"
   ],
   "metadata": {
    "collapsed": false
   }
  },
  {
   "cell_type": "code",
   "execution_count": null,
   "outputs": [],
   "source": [
    "df_noroot = raw_chords_to_df(df, remove_root=True)"
   ],
   "metadata": {
    "collapsed": false,
    "pycharm": {
     "name": "#%%\n",
     "is_executing": true
    }
   }
  },
  {
   "cell_type": "code",
   "execution_count": null,
   "outputs": [],
   "source": [
    "df_noroot.head(10)"
   ],
   "metadata": {
    "collapsed": false,
    "pycharm": {
     "name": "#%%\n",
     "is_executing": true
    }
   }
  },
  {
   "cell_type": "code",
   "execution_count": null,
   "outputs": [],
   "source": [
    "plot_distribution(df_noroot, root_removed=True)\n",
    "\n",
    "\n"
   ],
   "metadata": {
    "collapsed": false,
    "pycharm": {
     "name": "#%%\n",
     "is_executing": true
    }
   }
  },
  {
   "cell_type": "markdown",
   "source": [
    "# Read Basic Chords"
   ],
   "metadata": {
    "collapsed": false,
    "pycharm": {
     "name": "#%% md\n"
    }
   }
  },
  {
   "cell_type": "code",
   "execution_count": null,
   "outputs": [],
   "source": [
    "chords_preprocess = 'chordsBasic'\n",
    "prep = PrepareData(chords_preprocess, ngrams=ngrams)\n",
    "df = corpus_chord_ngram(prep, prep.ngrams)\n",
    "df = df['chords']"
   ],
   "metadata": {
    "collapsed": false,
    "pycharm": {
     "name": "#%%\n",
     "is_executing": true
    }
   }
  },
  {
   "cell_type": "markdown",
   "source": [
    "### Prepare Overview for Basic Chords, any Root"
   ],
   "metadata": {
    "collapsed": false
   }
  },
  {
   "cell_type": "code",
   "execution_count": null,
   "outputs": [],
   "source": [
    "df_chords = raw_chords_to_df(df)\n",
    "df_chords.head()\n"
   ],
   "metadata": {
    "collapsed": false,
    "pycharm": {
     "name": "#%%\n",
     "is_executing": true
    }
   }
  },
  {
   "cell_type": "code",
   "execution_count": null,
   "outputs": [],
   "source": [
    "plot_zipf(df_chords)\n"
   ],
   "metadata": {
    "collapsed": false,
    "pycharm": {
     "name": "#%%\n",
     "is_executing": true
    }
   }
  },
  {
   "cell_type": "code",
   "execution_count": null,
   "outputs": [],
   "source": [
    "plot_distribution(df_chords)"
   ],
   "metadata": {
    "collapsed": false,
    "pycharm": {
     "name": "#%%\n",
     "is_executing": true
    }
   }
  },
  {
   "cell_type": "markdown",
   "source": [
    "### Prepare Overview for Basic Chords, Roots removed"
   ],
   "metadata": {
    "collapsed": false
   }
  },
  {
   "cell_type": "code",
   "execution_count": null,
   "outputs": [],
   "source": [
    "df_noroot = raw_chords_to_df(df, remove_root=True)"
   ],
   "metadata": {
    "collapsed": false,
    "pycharm": {
     "name": "#%%\n",
     "is_executing": true
    }
   }
  },
  {
   "cell_type": "code",
   "execution_count": null,
   "outputs": [],
   "source": [
    "df_noroot.head(10)"
   ],
   "metadata": {
    "collapsed": false,
    "pycharm": {
     "name": "#%%\n",
     "is_executing": true
    }
   }
  },
  {
   "cell_type": "code",
   "execution_count": null,
   "outputs": [],
   "source": [
    "plot_distribution(df_noroot, root_removed=True)\n",
    "\n"
   ],
   "metadata": {
    "collapsed": false,
    "pycharm": {
     "name": "#%%\n",
     "is_executing": true
    }
   }
  }
 ],
 "metadata": {
  "kernelspec": {
   "display_name": "Python 3",
   "language": "python",
   "name": "python3"
  },
  "language_info": {
   "codemirror_mode": {
    "name": "ipython",
    "version": 2
   },
   "file_extension": ".py",
   "mimetype": "text/x-python",
   "name": "python",
   "nbconvert_exporter": "python",
   "pygments_lexer": "ipython2",
   "version": "2.7.6"
  }
 },
 "nbformat": 4,
 "nbformat_minor": 0
}