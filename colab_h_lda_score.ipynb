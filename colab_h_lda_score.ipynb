{
  "nbformat": 4,
  "nbformat_minor": 0,
  "metadata": {
    "colab": {
      "name": "colab_g_recommender_score",
      "provenance": [],
      "toc_visible": true,
      "authorship_tag": "ABX9TyNQUiI0klNJvZGb28+H1j+W",
      "include_colab_link": true
    },
    "kernelspec": {
      "name": "python3",
      "display_name": "Python 3"
    },
    "language_info": {
      "name": "python"
    },
    "accelerator": "TPU"
  },
  "cells": [
    {
      "cell_type": "markdown",
      "metadata": {
        "id": "view-in-github",
        "colab_type": "text"
      },
      "source": [
        "<a href=\"https://colab.research.google.com/github/11doris/jazz-maestro/blob/colab_word_embeddings/colab_h_lda_score.ipynb\" target=\"_parent\"><img src=\"https://colab.research.google.com/assets/colab-badge.svg\" alt=\"Open In Colab\"/></a>"
      ]
    },
    {
      "cell_type": "markdown",
      "metadata": {
        "id": "YGhakKpa8Dtf"
      },
      "source": [
        "# Sections as Input"
      ]
    },
    {
      "cell_type": "code",
      "metadata": {
        "colab": {
          "base_uri": "https://localhost:8080/"
        },
        "id": "dm5QehpXxo31",
        "outputId": "01e1ee3d-d4af-450a-a2bf-ffce4679ca25"
      },
      "source": [
        "pip install wandb"
      ],
      "execution_count": 1,
      "outputs": [
        {
          "output_type": "stream",
          "name": "stdout",
          "text": [
            "Requirement already satisfied: wandb in /usr/local/lib/python3.7/dist-packages (0.12.7)\n",
            "Requirement already satisfied: promise<3,>=2.0 in /usr/local/lib/python3.7/dist-packages (from wandb) (2.3)\n",
            "Requirement already satisfied: requests<3,>=2.0.0 in /usr/local/lib/python3.7/dist-packages (from wandb) (2.23.0)\n",
            "Requirement already satisfied: six>=1.13.0 in /usr/local/lib/python3.7/dist-packages (from wandb) (1.15.0)\n",
            "Requirement already satisfied: psutil>=5.0.0 in /usr/local/lib/python3.7/dist-packages (from wandb) (5.4.8)\n",
            "Requirement already satisfied: pathtools in /usr/local/lib/python3.7/dist-packages (from wandb) (0.1.2)\n",
            "Requirement already satisfied: shortuuid>=0.5.0 in /usr/local/lib/python3.7/dist-packages (from wandb) (1.0.8)\n",
            "Requirement already satisfied: Click!=8.0.0,>=7.0 in /usr/local/lib/python3.7/dist-packages (from wandb) (7.1.2)\n",
            "Requirement already satisfied: configparser>=3.8.1 in /usr/local/lib/python3.7/dist-packages (from wandb) (5.1.0)\n",
            "Requirement already satisfied: PyYAML in /usr/local/lib/python3.7/dist-packages (from wandb) (3.13)\n",
            "Requirement already satisfied: GitPython>=1.0.0 in /usr/local/lib/python3.7/dist-packages (from wandb) (3.1.24)\n",
            "Requirement already satisfied: subprocess32>=3.5.3 in /usr/local/lib/python3.7/dist-packages (from wandb) (3.5.4)\n",
            "Requirement already satisfied: sentry-sdk>=1.0.0 in /usr/local/lib/python3.7/dist-packages (from wandb) (1.5.0)\n",
            "Requirement already satisfied: python-dateutil>=2.6.1 in /usr/local/lib/python3.7/dist-packages (from wandb) (2.8.2)\n",
            "Requirement already satisfied: protobuf>=3.12.0 in /usr/local/lib/python3.7/dist-packages (from wandb) (3.17.3)\n",
            "Requirement already satisfied: yaspin>=1.0.0 in /usr/local/lib/python3.7/dist-packages (from wandb) (2.1.0)\n",
            "Requirement already satisfied: docker-pycreds>=0.4.0 in /usr/local/lib/python3.7/dist-packages (from wandb) (0.4.0)\n",
            "Requirement already satisfied: typing-extensions>=3.7.4.3 in /usr/local/lib/python3.7/dist-packages (from GitPython>=1.0.0->wandb) (3.10.0.2)\n",
            "Requirement already satisfied: gitdb<5,>=4.0.1 in /usr/local/lib/python3.7/dist-packages (from GitPython>=1.0.0->wandb) (4.0.9)\n",
            "Requirement already satisfied: smmap<6,>=3.0.1 in /usr/local/lib/python3.7/dist-packages (from gitdb<5,>=4.0.1->GitPython>=1.0.0->wandb) (5.0.0)\n",
            "Requirement already satisfied: urllib3!=1.25.0,!=1.25.1,<1.26,>=1.21.1 in /usr/local/lib/python3.7/dist-packages (from requests<3,>=2.0.0->wandb) (1.24.3)\n",
            "Requirement already satisfied: chardet<4,>=3.0.2 in /usr/local/lib/python3.7/dist-packages (from requests<3,>=2.0.0->wandb) (3.0.4)\n",
            "Requirement already satisfied: certifi>=2017.4.17 in /usr/local/lib/python3.7/dist-packages (from requests<3,>=2.0.0->wandb) (2021.10.8)\n",
            "Requirement already satisfied: idna<3,>=2.5 in /usr/local/lib/python3.7/dist-packages (from requests<3,>=2.0.0->wandb) (2.10)\n",
            "Requirement already satisfied: termcolor<2.0.0,>=1.1.0 in /usr/local/lib/python3.7/dist-packages (from yaspin>=1.0.0->wandb) (1.1.0)\n"
          ]
        }
      ]
    },
    {
      "cell_type": "code",
      "metadata": {
        "colab": {
          "base_uri": "https://localhost:8080/"
        },
        "id": "HZG8BDT-xrv3",
        "outputId": "aa40105a-4d05-48d5-e326-60ad650aa959"
      },
      "source": [
        "!wandb login"
      ],
      "execution_count": 2,
      "outputs": [
        {
          "output_type": "stream",
          "name": "stdout",
          "text": [
            "\u001b[34m\u001b[1mwandb\u001b[0m: Currently logged in as: \u001b[33mdoris\u001b[0m (use `wandb login --relogin` to force relogin)\n"
          ]
        }
      ]
    },
    {
      "cell_type": "code",
      "metadata": {
        "id": "WHZBzAXjxz1J"
      },
      "source": [
        "import wandb"
      ],
      "execution_count": 3,
      "outputs": []
    },
    {
      "cell_type": "code",
      "metadata": {
        "colab": {
          "base_uri": "https://localhost:8080/"
        },
        "id": "MUy1ta4_782n",
        "outputId": "e104f93b-3360-4dbc-ced3-e916631a43f4"
      },
      "source": [
        "!pip uninstall gensim -y"
      ],
      "execution_count": 4,
      "outputs": [
        {
          "output_type": "stream",
          "name": "stdout",
          "text": [
            "Found existing installation: gensim 4.1.2\n",
            "Uninstalling gensim-4.1.2:\n",
            "  Successfully uninstalled gensim-4.1.2\n"
          ]
        }
      ]
    },
    {
      "cell_type": "code",
      "metadata": {
        "colab": {
          "base_uri": "https://localhost:8080/"
        },
        "id": "oAroxmvO8GQj",
        "outputId": "767f1f31-f6da-4c17-bc06-e1991de4c800"
      },
      "source": [
        "!pip install gensim"
      ],
      "execution_count": 5,
      "outputs": [
        {
          "output_type": "stream",
          "name": "stdout",
          "text": [
            "Collecting gensim\n",
            "  Using cached gensim-4.1.2-cp37-cp37m-manylinux_2_12_x86_64.manylinux2010_x86_64.whl (24.1 MB)\n",
            "Requirement already satisfied: smart-open>=1.8.1 in /usr/local/lib/python3.7/dist-packages (from gensim) (5.2.1)\n",
            "Requirement already satisfied: scipy>=0.18.1 in /usr/local/lib/python3.7/dist-packages (from gensim) (1.4.1)\n",
            "Requirement already satisfied: numpy>=1.17.0 in /usr/local/lib/python3.7/dist-packages (from gensim) (1.19.5)\n",
            "Installing collected packages: gensim\n",
            "Successfully installed gensim-4.1.2\n"
          ]
        }
      ]
    },
    {
      "cell_type": "code",
      "metadata": {
        "id": "6SZ0zrKX8H-D"
      },
      "source": [
        "import gensim\n",
        "from sklearn.manifold import TSNE\n",
        "import matplotlib.pyplot as plt\n",
        "import pprint\n",
        "import pandas as pd\n",
        "import numpy as np\n",
        "from collections import Counter\n",
        "import plotly.express as px\n",
        "from tqdm import tqdm \n",
        "from gensim.models.doc2vec import Doc2Vec\n",
        "from gensim.models.tfidfmodel import TfidfModel\n",
        "from gensim.models.lsimodel import LsiModel\n",
        "from gensim.models import CoherenceModel\n",
        "from gensim import corpora\n",
        "from gensim import similarities\n",
        "import pickle\n",
        "import os\n",
        "import zipfile\n"
      ],
      "execution_count": 6,
      "outputs": []
    },
    {
      "cell_type": "code",
      "metadata": {
        "id": "znWar-PK8KHT"
      },
      "source": [
        "import logging\n",
        "logging.basicConfig(format='%(asctime)s : %(levelname)s : %(message)s', level=logging.INFO)"
      ],
      "execution_count": 7,
      "outputs": []
    },
    {
      "cell_type": "code",
      "metadata": {
        "colab": {
          "base_uri": "https://localhost:8080/"
        },
        "id": "kjCf_Abf8MCc",
        "outputId": "3ffed48e-dc11-44fe-adaf-1870d54fc252"
      },
      "source": [
        "print(gensim.__version__)"
      ],
      "execution_count": 8,
      "outputs": [
        {
          "output_type": "stream",
          "name": "stdout",
          "text": [
            "4.1.2\n"
          ]
        }
      ]
    },
    {
      "cell_type": "code",
      "metadata": {
        "id": "_aEonlx-CT6r"
      },
      "source": [
        "!rm data.csv"
      ],
      "execution_count": 9,
      "outputs": []
    },
    {
      "cell_type": "code",
      "metadata": {
        "id": "Xhfwd9iMZ99Q"
      },
      "source": [
        "pd.set_option('display.max_rows', 500)\n",
        "pd.set_option('display.max_columns', 500)\n",
        "pd.set_option('display.width', 1000)"
      ],
      "execution_count": 10,
      "outputs": []
    },
    {
      "cell_type": "markdown",
      "metadata": {
        "id": "Nk5pPZqk0Pn7"
      },
      "source": [
        "# Configuration\n"
      ]
    },
    {
      "cell_type": "code",
      "metadata": {
        "id": "wcZ18xhgU7MZ"
      },
      "source": [
        "use_wandb = True"
      ],
      "execution_count": 11,
      "outputs": []
    },
    {
      "cell_type": "code",
      "metadata": {
        "id": "A-AD1gxGLYxp"
      },
      "source": [
        "generate_webapp_data = True"
      ],
      "execution_count": 12,
      "outputs": []
    },
    {
      "cell_type": "code",
      "metadata": {
        "id": "GfQbJQmexlxI"
      },
      "source": [
        "chords_preprocessing = 'rootAndDegreesPlus'"
      ],
      "execution_count": 13,
      "outputs": []
    },
    {
      "cell_type": "code",
      "metadata": {
        "id": "buoyWNl0F48Y"
      },
      "source": [
        "ngrams_for_input = [1]"
      ],
      "execution_count": 14,
      "outputs": []
    },
    {
      "cell_type": "code",
      "metadata": {
        "id": "H9AFlUZ1lpGC"
      },
      "source": [
        "remove_repetitions = False"
      ],
      "execution_count": 15,
      "outputs": []
    },
    {
      "cell_type": "code",
      "metadata": {
        "id": "K7qB2_sBvKpB"
      },
      "source": [
        "input_files = {\n",
        "    'sections': {\n",
        "        # M7 and 6 reduced to major triad, m7 reduced to m, dominant 7, m7b5, diminished, and all (b5) left as they are.\n",
        "        'rootAndDegreesPlus': '1BDYukaIj72jmi9PqZVrCAqKbyxg8Z4yq',\n",
        "        'rootAndDegrees7': '',\n",
        "        'rootAndDegreesSimplified': ''\n",
        "    },\n",
        "    'tunes': {\n",
        "        'rootAndDegreesPlus': '',\n",
        "        'rootAndDegrees7': '',\n",
        "        'rootAndDegreesSimplified': '',\n",
        "    }\n",
        "}"
      ],
      "execution_count": 16,
      "outputs": []
    },
    {
      "cell_type": "code",
      "metadata": {
        "colab": {
          "base_uri": "https://localhost:8080/"
        },
        "id": "lM6eaQwnyWD3",
        "outputId": "299fb690-7bbc-4fa8-9f25-ddaccb05d681"
      },
      "source": [
        "tunes_eval_list = [\n",
        "  \"Sweet Sue, Just You [jazz1350]\",\n",
        "  \"On The Sunny Side Of The Street [jazz1350]\",\n",
        "  \"These Foolish Things [jazz1350]\", \n",
        "  \"Blue Moon [jazz1350]\",\n",
        "  \"All Of Me [jazz1350]\",\n",
        "  \"All God's Chillun Got Rhythm [jazz1350]\",\n",
        "  \"I Got Rhythm [jazz1350]\",\n",
        "  \"Bye Bye Blackbird [jazz1350]\",\n",
        "  \"Old Fashioned Love [trad]\",\n",
        "  \"Exactly Like You [jazz1350]\",\n",
        "  \"Honeysuckle Rose [jazz1350]\",\n",
        "  \"Misty [jazz1350]\",\n",
        "  \"Naima [jazz1350]\",\n",
        "]\n",
        "\n",
        "tunes_eval_list = sorted(tunes_eval_list)\n",
        "tunes_eval_list"
      ],
      "execution_count": 17,
      "outputs": [
        {
          "output_type": "execute_result",
          "data": {
            "text/plain": [
              "[\"All God's Chillun Got Rhythm [jazz1350]\",\n",
              " 'All Of Me [jazz1350]',\n",
              " 'Blue Moon [jazz1350]',\n",
              " 'Bye Bye Blackbird [jazz1350]',\n",
              " 'Exactly Like You [jazz1350]',\n",
              " 'Honeysuckle Rose [jazz1350]',\n",
              " 'I Got Rhythm [jazz1350]',\n",
              " 'Misty [jazz1350]',\n",
              " 'Naima [jazz1350]',\n",
              " 'Old Fashioned Love [trad]',\n",
              " 'On The Sunny Side Of The Street [jazz1350]',\n",
              " 'Sweet Sue, Just You [jazz1350]',\n",
              " 'These Foolish Things [jazz1350]']"
            ]
          },
          "metadata": {},
          "execution_count": 17
        }
      ]
    },
    {
      "cell_type": "code",
      "metadata": {
        "id": "uiI0h4ef0PCD"
      },
      "source": [
        "contrafacts = [\n",
        "               (\"26-2 [jazz1350]\", \"Confirmation [jazz1350]\"),\n",
        "               (\"52nd Street Theme [jazz1350]\", \"I Got Rhythm [jazz1350]\"),\n",
        "               (\"Ablution [jazz1350]\", \"All The Things You Are [jazz1350]\"),\n",
        "               (\"Anthropology [jazz1350]\", \"I Got Rhythm [jazz1350]\"),\n",
        "               (\"Ballade [jazz1350]\", \"As Long As I Live [jazz1350]\"),\n",
        "               (\"Bright Mississippi [jazz1350]\", \"Sweet Georgia Brown [jazz1350]\"),\n",
        "               (\"C.T.A. [jazz1350]\", \"I Got Rhythm [jazz1350]\"),\n",
        "               #( \"Celia [jazz1350]\", \"I Got Rhythm [jazz1350]\"),\n",
        "               (\"Cottontail [jazz1350]\", \"I Got Rhythm [jazz1350]\"),\n",
        "               (\"Countdown [jazz1350]\", \"Tune Up [jazz1350]\"),\n",
        "               (\"Dewey Square [jazz1350]\", \"Oh, Lady Be Good [jazz1350]\"),\n",
        "               (\"Dexterity [jazz1350]\", \"I Got Rhythm [jazz1350]\"),\n",
        "               (\"Dig [jazz1350]\", \"Sweet Georgia Brown [jazz1350]\"),\n",
        "               (\"Donna Lee [jazz1350]\", \"Indiana (Back Home Again In) [jazz1350]\"),\n",
        "               (\"Don't Be That Way [jazz1350]\", \"I Got Rhythm [jazz1350]\"),\n",
        "               #(\"Eternal Triangle [jazz1350]\", \"I Got Rhythm [jazz1350]\"),\n",
        "               (\"Evidence [jazz1350]\", \"Just You, Just Me [jazz1350]\"),\n",
        "               (\"Flintstones [jazz1350]\", \"I Got Rhythm [jazz1350]\"),\n",
        "               (\"Four On Six [jazz1350]\", \"Summertime [jazz1350]\"),\n",
        "               (\"Freight Train [jazz1350]\", \"Blues For Alice [jazz1350]\"),\n",
        "               (\"Good Bait [jazz1350]\", \"I Got Rhythm [jazz1350]\"),\n",
        "               (\"Hackensack [jazz1350]\", \"Oh, Lady Be Good [jazz1350]\"),\n",
        "               (\"Half Nelson [jazz1350]\", \"Lady Bird [jazz1350]\"),\n",
        "               (\"Hot House [jazz1350]\", \"What Is This Thing Called Love [jazz1350]\"),\n",
        "               (\"Impressions [jazz1350]\", \"So What [jazz1350]\"),\n",
        "               (\"In A Mellow Tone (In A Mellotone) [jazz1350]\", \"Rose Room [jazz1350]\"),\n",
        "               (\"In Walked Bud [jazz1350]\", \"Blue Skies [jazz1350]\"),\n",
        "               (\"Ko Ko [jazz1350]\", \"Cherokee [jazz1350]\"),\n",
        "               (\"Lennie's Pennies [jazz1350]\", \"Pennies From Heaven [jazz1350]\"),   ## Lennie's Pennies is in minor and therefore transposed to Amin... not possible to recognize like that\n",
        "               #( \"Let's Call This [jazz1350]\", \"Honeysuckle Rose [jazz1350]\"),\n",
        "               (\"Little Rootie Tootie [jazz1350]\", \"I Got Rhythm [jazz1350]\"),\n",
        "               (\"Little Willie Leaps [jazz1350]\", \"All God's Chillun Got Rhythm [jazz1350]\"),\n",
        "               (\"Lullaby Of Birdland [jazz1350]\", \"Love Me Or Leave Me [jazz1350]\"),\n",
        "               #(\"Moose The Mooche [jazz1350]\", \"I Got Rhythm [jazz1350]\"),\n",
        "               (\"My Little Suede Shoes [jazz1350]\", \"Jeepers Creepers [jazz1350]\"),\n",
        "               #(\"Oleo [jazz1350]\", \"I Got Rhythm [jazz1350]\"),\n",
        "               (\"Ornithology [jazz1350]\", \"How High The Moon [jazz1350]\"),\n",
        "               #(\"Passport [jazz1350]\", \"I Got Rhythm [jazz1350]\"),\n",
        "               (\"Quasimodo (Theme) [jazz1350]\", \"Embraceable You [jazz1350]\"),\n",
        "               #(\"Rhythm-a-ning [jazz1350]\", \"I Got Rhythm [jazz1350]\"),\n",
        "               (\"Room 608 [jazz1350]\", \"I Got Rhythm [jazz1350]\"),\n",
        "               #(\"Salt Peanuts [jazz1350]\", \"I Got Rhythm [jazz1350]\"),\n",
        "               (\"Satellite [jazz1350]\", \"How High The Moon [jazz1350]\"),\n",
        "               (\"Scrapple From The Apple [jazz1350]\", \"Honeysuckle Rose [jazz1350]\"), # A section\n",
        "               (\"Scrapple From The Apple [jazz1350]\", \"I Got Rhythm [jazz1350]\"), # B section\n",
        "               #(\"Segment [jazz1350]\", \"I Got Rhythm [jazz1350]\"),\n",
        "               #(\"Seven Come Eleven [jazz1350]\", \"I Got Rhythm [jazz1350]\"),\n",
        "               #(\"Shaw 'Nuff [jazz1350]\", \"I Got Rhythm [jazz1350]\"),\n",
        "               #(\"Theme, The [jazz1350]\", \"I Got Rhythm [jazz1350]\"),\n",
        "               (\"Tour De Force [jazz1350]\", \"Jeepers Creepers [jazz1350]\"),\n",
        "               (\"Wow [jazz1350]\", \"You Can Depend On Me [jazz1350]\"),\n",
        "               (\"Yardbird Suite [jazz1350]\", \"Rosetta [jazz1350]\"),\n",
        "\n",
        "               # following tunes are not from wikipedia),\n",
        "               (\"Sweet Sue, Just You [jazz1350]\", \"Honeysuckle Rose [jazz1350]\"),  # A section\n",
        "               #(\"All Of Me [jazz1350]\", \"Pennies From Heaven [jazz1350]\"), # bars 25-28 of All of Me are same as bars 17-20 of Pennies From Heaven, but different key!\n",
        "               (\"Sweet Sue, Just You [jazz1350]\", \"Bye Bye Blackbird [jazz1350]\"), # Bridge same\n",
        "               (\"These Foolish Things [jazz1350]\", \"Blue Moon [jazz1350]\"), # first 8 bars same\n",
        "               (\"These Foolish Things [jazz1350]\", \"More Than You Know [jazz1350]\"),\n",
        "               (\"These Foolish Things [jazz1350]\", \"Isn't It A Pity [jazz1350]\"),\n",
        "               (\"These Foolish Things [jazz1350]\", \"Soultrain [jazz1350]\"),\n",
        "               (\"These Foolish Things [jazz1350]\", \"Why Do I Love You [jazz1350]\"),\n",
        "               (\"Misty [jazz1350]\", \"Portrait Of Jennie [jazz1350]\"),\n",
        "               (\"Misty [jazz1350]\", \"September In The Rain [jazz1350]\"),\n",
        "               (\"Misty [jazz1350]\", \"I May Be Wrong [jazz1350]\"),  \n",
        "\n",
        "               # identical tunes\n",
        "               (\"Five Foot Two [trad]\", \"Please Don't Talk About Me When I'm Gone [trad]\"),\n",
        "               (\"What Is This Thing Called Love [jazz1350]\", \"Subconscious Lee [jazz1350]\"),\n",
        "               (\"Sweet Georgia Brown [jazz1350]\", \"Dig [jazz1350]\"),\n",
        "\n",
        "\n",
        "               # almost identical tunes\n",
        "               (\"What Is This Thing Called Love [jazz1350]\", \"Hot House [jazz1350]\"),\n",
        "               (\"Jeannie's Song [jazz1350]\", \"Shiny Stockings [jazz1350]\"),\n",
        "               (\"Alone Together [jazz1350]\", \"Segment [jazz1350]\"),\n",
        "               (\"Baubles, Bangles and Beads [jazz1350]\", \"Bossa Antigua [jazz1350]\"),\n",
        "               (\"There Will Never Be Another You [jazz1350]\", \"A Weaver Of Dreams [jazz1350]\"),\n",
        "               (\"Moten Swing [jazz1350]\", \"Once In A While (Ballad) [trad]\"), # same bridge, similar A\n",
        "               (\"All I Do Is Dream Of You [trad]\", \"L-O-V-E [jazz1350]\"),\n",
        "\n",
        "\n",
        "               # same A section\n",
        "               (\"Nancy (With The Laughing Face) [jazz1350]\", \"Body And Soul [jazz1350]\"),\n",
        "               (\"Exactly Like You [jazz1350]\", \"True (You Don't Love Me ) [trad]\"),\n",
        "               (\"Exactly Like You [jazz1350]\", \"True (You Don't Love Me ) [trad]\"),\n",
        "               (\"Exactly Like You [jazz1350]\", \"Jersey Bounce [trad]\"),\n",
        "               (\"Take The A Train [jazz1350]\", \"Girl From Ipanema, The [jazz1350]\"),\n",
        "               (\"My Heart Stood Still [jazz1350]\", \"All Too Soon [jazz1350]\"),\n",
        "               (\"Undecided [trad]\", \"Broadway [jazz1350]\"),\n",
        "               (\"My Heart Stood Still [jazz1350]\", \"All Too Soon [jazz1350]\"),\n",
        "               (\"Let's Fall In Love [jazz1350]\", \"Heart And Soul [jazz1350]\"),\n",
        "               (\"Come Back To Me [jazz1350]\", \"I Wish I Knew [jazz1350]\"),\n",
        "               (\"Wait Till You See Her [jazz1350]\", \"A Certain Smile [jazz1350]\"),\n",
        "               (\"Killer Joe [jazz1350]\", \"Straight Life [jazz1350]\"),\n",
        "               (\"Softly, As In A Morning Sunrise [jazz1350]\", \"Segment [jazz1350]\"),\n",
        "               (\"Bei Mir Bist Du Schon (Root Hog Or Die) [trad]\", \"Egyptian Fantasy [trad]\"),\n",
        "               (\"Bei Mir Bist Du Schon (Root Hog Or Die) [trad]\", \"Puttin' On The Ritz [jazz1350]\"),\n",
        "               (\"Coquette [trad]\", \"Pretend You're Happy When You're Blue [trad]\"),\n",
        "               (\"Softly, As In A Morning Sunrise [jazz1350]\", \"Strode Rode [jazz1350]\"),\n",
        "               (\"Glory Of Love, The [jazz1350]\", \"I've Got My Fingers Crossed [trad]\"),\n",
        "\n",
        "\n",
        "               # same bridge\n",
        "               (\"If I Had You [jazz1350]\", \"Too Young To Go Steady [jazz1350]\"),\n",
        "               (\"Undecided [jazz1350]\", \"Satin Doll [jazz1350]\"),\n",
        "               (\"Billy Boy [jazz1350]\", \"Elora [jazz1350]\"),\n",
        "               (\"Dearly Beloved [jazz1350]\", \"We See [jazz1350]\"),\n",
        "               (\"Alone Together [jazz1350]\", \"A Night In Tunisia [jazz1350]\"),\n",
        "               (\"A Night In Tunisia [jazz1350]\", \"Segment [jazz1350]\"),\n",
        "               (\"Oh! Lady Be Good [trad]\", \"Sentimental Journey [jazz1350]\"),\n",
        "               (\"You Can Depend On Me [jazz1350]\", \"Move [jazz1350]\"),\n",
        "               (\"I Want To Be Happy [jazz1350]\", \"A Beautiful Friendship [jazz1350]\"),\n",
        "               (\"Flying Home [jazz1350]\", \"Down For Double [jazz1350]\"),\n",
        "               (\"Cheek To Cheek [jazz1350]\", \"Violets For Your Furs [jazz1350]\"),\n",
        "               (\"Let's Fall In Love [jazz1350]\", \"At Last [jazz1350]\"),\n",
        "               (\"Don't Be That Way [jazz1350]\", \"Long Ago And Far Away [jazz1350]\"),\n",
        "               (\"On The Sunny Side Of The Street [jazz1350]\", \"I'm Confessin' That I Love You [jazz1350]\"),\n",
        "               (\"On The Sunny Side Of The Street [jazz1350]\", \"Eclypso [jazz1350]\"),\n",
        "               (\"On The Sunny Side Of The Street [jazz1350]\", \"You Stepped Out Of A Dream [jazz1350]\"),\n",
        "               \n",
        "\n",
        "               # similar A section\n",
        "               (\"I Like The Likes Of You [jazz1350]\", \"Mountain Greenery [jazz1350]\"),\n",
        "               (\"My Secret Love [jazz1350]\", \"Samba De Orfeu [jazz1350]\"),\n",
        "               (\"Let's Call The Whole Thing Off [jazz1350]\", \"Fine And Dandy [jazz1350]\"),\n",
        "\n",
        "\n",
        "               # similar B section\n",
        "               (\"Folks Who Live On The Hill, The [jazz1350]\", \"My One And Only Love [jazz1350]\"),\n",
        "               (\"As Long As I Live [jazz1350]\", \"I'm Glad There Is You [jazz1350]\"),\n",
        "               (\"I May Be Wrong [jazz1350]\", \"Teach Me Tonight [jazz1350]\"),\n",
        "               (\"Am I Blue [jazz1350]\", \"Come Back To Me [jazz1350]\"),\n",
        "               (\"My One And Only Love [jazz1350]\", \"Am I Blue [jazz1350]\"),\n",
        "               (\"On The Sunny Side Of The Street [jazz1350]\", \"September In The Rain [jazz1350]\"),\n",
        "               (\"On The Sunny Side Of The Street [jazz1350]\", \"Mountain Greenery [jazz1350]\"),\n",
        "               (\"On The Sunny Side Of The Street [jazz1350]\", \"There's No You [jazz1350]\"),\n",
        "               (\"These Foolish Things [jazz1350]\", \"Embraceable You [jazz1350]\"),\n",
        "               (\"These Foolish Things [jazz1350]\", \"Rosetta [jazz1350]\"),\n",
        "\n",
        "               # same C section\n",
        "               (\"Bill Bailey [jazz1350]\", \"Bourbon Street Parade [jazz1350]\"),\n",
        "\n",
        "               # Stella C is like Woody B\n",
        "               (\"Woody'n You [jazz1350]\", \"Stella By Starlight [jazz1350]\"),\n",
        "\n",
        "               # similar vocabulary, different progressions\n",
        "               (\"Tangerine [jazz1350]\", \"Tea For Two [jazz1350]\"),\n",
        "               (\"I Can't Give You Anything But Love [jazz1350]\", \"You Can Depend On Me [jazz1350]\"),\n",
        "               (\"This Year's Kisses [jazz1350]\", \"My Monday Date [trad]\"),\n",
        "               (\"A Blossom Fell [jazz1350]\", \"Among My Souvenirs [jazz1350]\"),\n",
        "\n",
        "\n",
        "\n",
        "]"
      ],
      "execution_count": 18,
      "outputs": []
    },
    {
      "cell_type": "markdown",
      "metadata": {
        "id": "gcexO7zK8Pn6"
      },
      "source": [
        "# Initialization\n",
        "\n",
        "## Download the Data"
      ]
    },
    {
      "cell_type": "code",
      "metadata": {
        "id": "JwVJo3Vat8iF"
      },
      "source": [
        "input_data = input_files['sections'][chords_preprocessing]\n",
        "\n",
        "input_path = f\"https://docs.google.com/uc?export=download&id={input_data}\"\n",
        "data_file_name = 'data.csv'\n"
      ],
      "execution_count": 19,
      "outputs": []
    },
    {
      "cell_type": "code",
      "metadata": {
        "colab": {
          "base_uri": "https://localhost:8080/",
          "height": 36
        },
        "id": "_Dp-fijjB-pU",
        "outputId": "0fb02273-057a-41d4-daee-60c85979ccfd"
      },
      "source": [
        "input_path"
      ],
      "execution_count": 20,
      "outputs": [
        {
          "output_type": "execute_result",
          "data": {
            "application/vnd.google.colaboratory.intrinsic+json": {
              "type": "string"
            },
            "text/plain": [
              "'https://docs.google.com/uc?export=download&id=1BDYukaIj72jmi9PqZVrCAqKbyxg8Z4yq'"
            ]
          },
          "metadata": {},
          "execution_count": 20
        }
      ]
    },
    {
      "cell_type": "code",
      "metadata": {
        "colab": {
          "base_uri": "https://localhost:8080/"
        },
        "id": "1ZVAYUH5t9Li",
        "outputId": "3d067dfd-5160-493d-b0cb-03f46ed22080"
      },
      "source": [
        "!wget --no-check-certificate \"$input_path\" -O \"$data_file_name\""
      ],
      "execution_count": 21,
      "outputs": [
        {
          "output_type": "stream",
          "name": "stdout",
          "text": [
            "--2021-11-28 14:02:29--  https://docs.google.com/uc?export=download&id=1BDYukaIj72jmi9PqZVrCAqKbyxg8Z4yq\n",
            "Resolving docs.google.com (docs.google.com)... 142.250.136.139, 142.250.136.101, 142.250.136.138, ...\n",
            "Connecting to docs.google.com (docs.google.com)|142.250.136.139|:443... connected.\n",
            "HTTP request sent, awaiting response... 302 Moved Temporarily\n",
            "Location: https://doc-0k-4c-docs.googleusercontent.com/docs/securesc/ha0ro937gcuc7l7deffksulhg5h7mbp1/ma48gaanhpbklfe8td60gmq8v50s8k35/1638108075000/14329102864480165501/*/1BDYukaIj72jmi9PqZVrCAqKbyxg8Z4yq?e=download [following]\n",
            "Warning: wildcards not supported in HTTP.\n",
            "--2021-11-28 14:02:29--  https://doc-0k-4c-docs.googleusercontent.com/docs/securesc/ha0ro937gcuc7l7deffksulhg5h7mbp1/ma48gaanhpbklfe8td60gmq8v50s8k35/1638108075000/14329102864480165501/*/1BDYukaIj72jmi9PqZVrCAqKbyxg8Z4yq?e=download\n",
            "Resolving doc-0k-4c-docs.googleusercontent.com (doc-0k-4c-docs.googleusercontent.com)... 173.194.193.132, 2607:f8b0:4001:c0f::84\n",
            "Connecting to doc-0k-4c-docs.googleusercontent.com (doc-0k-4c-docs.googleusercontent.com)|173.194.193.132|:443... connected.\n",
            "HTTP request sent, awaiting response... 200 OK\n",
            "Length: 813814 (795K) [text/csv]\n",
            "Saving to: ‘data.csv’\n",
            "\n",
            "data.csv            100%[===================>] 794.74K  --.-KB/s    in 0.009s  \n",
            "\n",
            "2021-11-28 14:02:29 (84.9 MB/s) - ‘data.csv’ saved [813814/813814]\n",
            "\n"
          ]
        }
      ]
    },
    {
      "cell_type": "markdown",
      "metadata": {
        "id": "Ljs21B7h8YvC"
      },
      "source": [
        "### Read Chords Input Data"
      ]
    },
    {
      "cell_type": "code",
      "metadata": {
        "colab": {
          "base_uri": "https://localhost:8080/",
          "height": 310
        },
        "id": "B7kK418L8aac",
        "outputId": "c16ea5ac-81a6-4d3d-a7a1-1abbb8ce9cc0"
      },
      "source": [
        "df = pd.read_csv(data_file_name, sep='\\t', index_col=\"id\")\n",
        "df = df.reset_index()\n",
        "df.head(5)"
      ],
      "execution_count": 22,
      "outputs": [
        {
          "output_type": "execute_result",
          "data": {
            "text/html": [
              "<div>\n",
              "<style scoped>\n",
              "    .dataframe tbody tr th:only-of-type {\n",
              "        vertical-align: middle;\n",
              "    }\n",
              "\n",
              "    .dataframe tbody tr th {\n",
              "        vertical-align: top;\n",
              "    }\n",
              "\n",
              "    .dataframe thead th {\n",
              "        text-align: right;\n",
              "    }\n",
              "</style>\n",
              "<table border=\"1\" class=\"dataframe\">\n",
              "  <thead>\n",
              "    <tr style=\"text-align: right;\">\n",
              "      <th></th>\n",
              "      <th>id</th>\n",
              "      <th>file_name</th>\n",
              "      <th>title</th>\n",
              "      <th>title_playlist</th>\n",
              "      <th>tune_mode</th>\n",
              "      <th>tune_id</th>\n",
              "      <th>section_name</th>\n",
              "      <th>section_id</th>\n",
              "      <th>chords</th>\n",
              "    </tr>\n",
              "  </thead>\n",
              "  <tbody>\n",
              "    <tr>\n",
              "      <th>0</th>\n",
              "      <td>0</td>\n",
              "      <td>dataset/jazz1350/26-2.xml</td>\n",
              "      <td>26-2</td>\n",
              "      <td>26-2 [jazz1350]</td>\n",
              "      <td>major</td>\n",
              "      <td>0</td>\n",
              "      <td>A</td>\n",
              "      <td>1</td>\n",
              "      <td>C Eb7 G# B7 E G7 Gm C7 F G#7 C# E7 Am D7 Dm G7</td>\n",
              "    </tr>\n",
              "    <tr>\n",
              "      <th>1</th>\n",
              "      <td>1</td>\n",
              "      <td>dataset/jazz1350/26-2.xml</td>\n",
              "      <td>26-2</td>\n",
              "      <td>26-2 [jazz1350]</td>\n",
              "      <td>major</td>\n",
              "      <td>0</td>\n",
              "      <td>A</td>\n",
              "      <td>2</td>\n",
              "      <td>C Eb7 G# B7 E G7 Gm C7 F Eb7 G# B7 E G7 C</td>\n",
              "    </tr>\n",
              "    <tr>\n",
              "      <th>2</th>\n",
              "      <td>2</td>\n",
              "      <td>dataset/jazz1350/26-2.xml</td>\n",
              "      <td>26-2</td>\n",
              "      <td>26-2 [jazz1350]</td>\n",
              "      <td>major</td>\n",
              "      <td>0</td>\n",
              "      <td>B</td>\n",
              "      <td>3</td>\n",
              "      <td>Gm C7 Bm E7 A C7 F Bbm Eb7 G# Dm G7</td>\n",
              "    </tr>\n",
              "    <tr>\n",
              "      <th>3</th>\n",
              "      <td>3</td>\n",
              "      <td>dataset/jazz1350/26-2.xml</td>\n",
              "      <td>26-2</td>\n",
              "      <td>26-2 [jazz1350]</td>\n",
              "      <td>major</td>\n",
              "      <td>0</td>\n",
              "      <td>A</td>\n",
              "      <td>4</td>\n",
              "      <td>C Eb7 G# B7 E G7 Gm C7 F Eb7 G# B7 E G7 C</td>\n",
              "    </tr>\n",
              "    <tr>\n",
              "      <th>4</th>\n",
              "      <td>4</td>\n",
              "      <td>dataset/jazz1350/500 Miles High.xml</td>\n",
              "      <td>500 Miles High</td>\n",
              "      <td>500 Miles High [jazz1350]</td>\n",
              "      <td>minor</td>\n",
              "      <td>1</td>\n",
              "      <td>NaN</td>\n",
              "      <td>0</td>\n",
              "      <td>Am Am Cm Cm Eb Eb Em7b5 A7 Dm Dm Bm7b5 Bm7b5 B...</td>\n",
              "    </tr>\n",
              "  </tbody>\n",
              "</table>\n",
              "</div>"
            ],
            "text/plain": [
              "   id                            file_name           title             title_playlist tune_mode  tune_id section_name  section_id                                             chords\n",
              "0   0            dataset/jazz1350/26-2.xml            26-2            26-2 [jazz1350]     major        0            A           1     C Eb7 G# B7 E G7 Gm C7 F G#7 C# E7 Am D7 Dm G7\n",
              "1   1            dataset/jazz1350/26-2.xml            26-2            26-2 [jazz1350]     major        0            A           2          C Eb7 G# B7 E G7 Gm C7 F Eb7 G# B7 E G7 C\n",
              "2   2            dataset/jazz1350/26-2.xml            26-2            26-2 [jazz1350]     major        0            B           3                Gm C7 Bm E7 A C7 F Bbm Eb7 G# Dm G7\n",
              "3   3            dataset/jazz1350/26-2.xml            26-2            26-2 [jazz1350]     major        0            A           4          C Eb7 G# B7 E G7 Gm C7 F Eb7 G# B7 E G7 C\n",
              "4   4  dataset/jazz1350/500 Miles High.xml  500 Miles High  500 Miles High [jazz1350]     minor        1          NaN           0  Am Am Cm Cm Eb Eb Em7b5 A7 Dm Dm Bm7b5 Bm7b5 B..."
            ]
          },
          "metadata": {},
          "execution_count": 22
        }
      ]
    },
    {
      "cell_type": "markdown",
      "metadata": {
        "id": "OsPcEFbg8gu6"
      },
      "source": [
        "### Meta Data"
      ]
    },
    {
      "cell_type": "code",
      "metadata": {
        "colab": {
          "base_uri": "https://localhost:8080/",
          "height": 206
        },
        "id": "_62YlEVJXOCL",
        "outputId": "7ccb2c7c-f1aa-468f-9b95-1098f10fe278"
      },
      "source": [
        "titles = df.loc[:, ['id', 'tune_id', 'section_id', 'section_name', 'title', 'title_playlist', 'tune_mode']]\n",
        "titles[:5]"
      ],
      "execution_count": 23,
      "outputs": [
        {
          "output_type": "execute_result",
          "data": {
            "text/html": [
              "<div>\n",
              "<style scoped>\n",
              "    .dataframe tbody tr th:only-of-type {\n",
              "        vertical-align: middle;\n",
              "    }\n",
              "\n",
              "    .dataframe tbody tr th {\n",
              "        vertical-align: top;\n",
              "    }\n",
              "\n",
              "    .dataframe thead th {\n",
              "        text-align: right;\n",
              "    }\n",
              "</style>\n",
              "<table border=\"1\" class=\"dataframe\">\n",
              "  <thead>\n",
              "    <tr style=\"text-align: right;\">\n",
              "      <th></th>\n",
              "      <th>id</th>\n",
              "      <th>tune_id</th>\n",
              "      <th>section_id</th>\n",
              "      <th>section_name</th>\n",
              "      <th>title</th>\n",
              "      <th>title_playlist</th>\n",
              "      <th>tune_mode</th>\n",
              "    </tr>\n",
              "  </thead>\n",
              "  <tbody>\n",
              "    <tr>\n",
              "      <th>0</th>\n",
              "      <td>0</td>\n",
              "      <td>0</td>\n",
              "      <td>1</td>\n",
              "      <td>A</td>\n",
              "      <td>26-2</td>\n",
              "      <td>26-2 [jazz1350]</td>\n",
              "      <td>major</td>\n",
              "    </tr>\n",
              "    <tr>\n",
              "      <th>1</th>\n",
              "      <td>1</td>\n",
              "      <td>0</td>\n",
              "      <td>2</td>\n",
              "      <td>A</td>\n",
              "      <td>26-2</td>\n",
              "      <td>26-2 [jazz1350]</td>\n",
              "      <td>major</td>\n",
              "    </tr>\n",
              "    <tr>\n",
              "      <th>2</th>\n",
              "      <td>2</td>\n",
              "      <td>0</td>\n",
              "      <td>3</td>\n",
              "      <td>B</td>\n",
              "      <td>26-2</td>\n",
              "      <td>26-2 [jazz1350]</td>\n",
              "      <td>major</td>\n",
              "    </tr>\n",
              "    <tr>\n",
              "      <th>3</th>\n",
              "      <td>3</td>\n",
              "      <td>0</td>\n",
              "      <td>4</td>\n",
              "      <td>A</td>\n",
              "      <td>26-2</td>\n",
              "      <td>26-2 [jazz1350]</td>\n",
              "      <td>major</td>\n",
              "    </tr>\n",
              "    <tr>\n",
              "      <th>4</th>\n",
              "      <td>4</td>\n",
              "      <td>1</td>\n",
              "      <td>0</td>\n",
              "      <td>NaN</td>\n",
              "      <td>500 Miles High</td>\n",
              "      <td>500 Miles High [jazz1350]</td>\n",
              "      <td>minor</td>\n",
              "    </tr>\n",
              "  </tbody>\n",
              "</table>\n",
              "</div>"
            ],
            "text/plain": [
              "   id  tune_id  section_id section_name           title             title_playlist tune_mode\n",
              "0   0        0           1            A            26-2            26-2 [jazz1350]     major\n",
              "1   1        0           2            A            26-2            26-2 [jazz1350]     major\n",
              "2   2        0           3            B            26-2            26-2 [jazz1350]     major\n",
              "3   3        0           4            A            26-2            26-2 [jazz1350]     major\n",
              "4   4        1           0          NaN  500 Miles High  500 Miles High [jazz1350]     minor"
            ]
          },
          "metadata": {},
          "execution_count": 23
        }
      ]
    },
    {
      "cell_type": "code",
      "metadata": {
        "id": "0vEOjvwt8jUu"
      },
      "source": [
        "titles_dict = titles.to_dict()\n",
        "\n",
        "sectionid_to_title = titles_dict['title_playlist']\n",
        "sectionid_to_titleid = titles_dict['tune_id']\n"
      ],
      "execution_count": 24,
      "outputs": []
    },
    {
      "cell_type": "code",
      "metadata": {
        "id": "Om7pbfnNGO_I"
      },
      "source": [
        "tunes = df.loc[:, ['tune_id', 'title_playlist']].drop_duplicates()\n",
        "tunes = tunes.set_index('tune_id').to_dict()\n",
        "titleid_to_title = tunes['title_playlist']"
      ],
      "execution_count": 25,
      "outputs": []
    },
    {
      "cell_type": "code",
      "metadata": {
        "id": "OvLyxrExxvew"
      },
      "source": [
        "title_to_titleid = {v: k for k, v in titleid_to_title.items()}\n"
      ],
      "execution_count": 26,
      "outputs": []
    },
    {
      "cell_type": "code",
      "metadata": {
        "id": "1H72Y3_d8uNu"
      },
      "source": [
        "titles_rows = titles.to_dict(orient='records')\n",
        "sectionid_to_section = []\n",
        "for i, row in enumerate(titles_rows):\n",
        "  name = f\"{row['title']}, section{row['section_id']} ({row['section_name']})\"\n",
        "  sectionid_to_section.append(name)\n",
        "  "
      ],
      "execution_count": 27,
      "outputs": []
    },
    {
      "cell_type": "code",
      "metadata": {
        "id": "HCeGUk818y8V"
      },
      "source": [
        "title_to_sectionid = {}\n",
        "\n",
        "for row in titles.iterrows():\n",
        "  title = row[1]['title_playlist']\n",
        "  if title not in title_to_sectionid:\n",
        "    title_to_sectionid[title] = [row[1]['id']]\n",
        "  else:\n",
        "    title_to_sectionid[title].append(row[1]['id'])"
      ],
      "execution_count": 28,
      "outputs": []
    },
    {
      "cell_type": "markdown",
      "metadata": {
        "id": "GWXGqImnoHdm"
      },
      "source": [
        "### Create Directories on Colab"
      ]
    },
    {
      "cell_type": "code",
      "metadata": {
        "id": "sDWIxDpIoJv1"
      },
      "source": [
        "!rm -R output\n",
        "!mkdir output"
      ],
      "execution_count": 29,
      "outputs": []
    },
    {
      "cell_type": "markdown",
      "metadata": {
        "id": "LvQ60s_owm82"
      },
      "source": [
        "## Initialization for wandb variables"
      ]
    },
    {
      "cell_type": "code",
      "metadata": {
        "id": "fw7FHHXfwagL"
      },
      "source": [
        "recommender_results_cols = ['reference', 'id', 'method', 'similar', 'score_div_max', 'score']\n",
        "recommender_results = pd.DataFrame(columns=recommender_results_cols)"
      ],
      "execution_count": 30,
      "outputs": []
    },
    {
      "cell_type": "code",
      "metadata": {
        "id": "PfvF20G1JZMa"
      },
      "source": [
        "lsi_config = {\n",
        "    'num_topics': 100,\n",
        "}"
      ],
      "execution_count": 31,
      "outputs": []
    },
    {
      "cell_type": "code",
      "metadata": {
        "id": "eW2f6BdAJl01"
      },
      "source": [
        "doc2vec_config = {\n",
        "    'general': {\n",
        "        'chords_preprocessing': chords_preprocessing,\n",
        "        'tag_sections_and_tunes': False,\n",
        "    },\n",
        "    'model': {\n",
        "        'dm': 1,\n",
        "        'vector_size': 100,\n",
        "        'window': 4,\n",
        "        'epochs': 40,\n",
        "        #'workers': 1,\n",
        "        'min_count': 1,\n",
        "        'negative': 10,\n",
        "        'sample': 0.001,\n",
        "        'seed': 42\n",
        "    }\n",
        "}"
      ],
      "execution_count": 32,
      "outputs": []
    },
    {
      "cell_type": "code",
      "metadata": {
        "id": "sxdJ97gdx70_",
        "colab": {
          "base_uri": "https://localhost:8080/",
          "height": 53
        },
        "outputId": "f7e5e8b0-d455-4103-a654-7bfd3016e525"
      },
      "source": [
        "if use_wandb:\n",
        "  wandb.init(\n",
        "        # Set entity to specify your username or team name\n",
        "        # ex: entity=\"carey\",\n",
        "        # Set the project where this run will be logged\n",
        "        project=\"jazztunes\", \n",
        "        \n",
        "        # Track hyperparameters and run metadata\n",
        "        config={\n",
        "            \"input_data\": input_path,\n",
        "            \"ngrams_input\": ngrams_for_input,\n",
        "            \"comparison\": \"sections\",\n",
        "            \"lsi\": lsi_config,\n",
        "            \"doc2vec\": doc2vec_config,\n",
        "            \"remove_repeated_chords\": remove_repetitions,\n",
        "        }\n",
        "    )"
      ],
      "execution_count": 33,
      "outputs": [
        {
          "output_type": "stream",
          "name": "stderr",
          "text": [
            "\u001b[34m\u001b[1mwandb\u001b[0m: Currently logged in as: \u001b[33mdoris\u001b[0m (use `wandb login --relogin` to force relogin)\n"
          ]
        },
        {
          "output_type": "display_data",
          "data": {
            "text/html": [
              "\n",
              "                    Syncing run <strong><a href=\"https://wandb.ai/doris/jazztunes/runs/17xcq7bw\" target=\"_blank\">solar-sound-7</a></strong> to <a href=\"https://wandb.ai/doris/jazztunes\" target=\"_blank\">Weights & Biases</a> (<a href=\"https://docs.wandb.com/integrations/jupyter.html\" target=\"_blank\">docs</a>).<br/>\n",
              "\n",
              "                "
            ],
            "text/plain": [
              "<IPython.core.display.HTML object>"
            ]
          },
          "metadata": {}
        }
      ]
    },
    {
      "cell_type": "code",
      "metadata": {
        "id": "xHOY4TKYVN-g"
      },
      "source": [
        "if use_wandb:\n",
        "  artifact = wandb.Artifact('input_data', type='dataset')\n",
        "  artifact.add_file('data.csv')\n",
        "  wandb.log_artifact(artifact)"
      ],
      "execution_count": 34,
      "outputs": []
    },
    {
      "cell_type": "markdown",
      "metadata": {
        "id": "wox-dMcz84Bt"
      },
      "source": [
        "## Helpers functions"
      ]
    },
    {
      "cell_type": "code",
      "metadata": {
        "id": "2964REdr80Gd"
      },
      "source": [
        "def ngrams(tokens, n=2, sep='-'):\n",
        "    return [sep.join(ngram) for ngram in zip(*[tokens[i:] for i in range(n)])]"
      ],
      "execution_count": 35,
      "outputs": []
    },
    {
      "cell_type": "code",
      "metadata": {
        "id": "W42rugQPNYVP"
      },
      "source": [
        "def raw_chords_to_df(tunes):\n",
        "  tunes_chords = [item for tune in tunes for item in tune]\n",
        "  counts = Counter(tunes_chords)\n",
        "  df = pd.DataFrame(counts.items(),\n",
        "                    columns=['chord', 'count']).sort_values(by='count', ascending=False)\n",
        "\n",
        "  return df"
      ],
      "execution_count": 36,
      "outputs": []
    },
    {
      "cell_type": "markdown",
      "metadata": {
        "id": "umfsNtAdF0jM"
      },
      "source": [
        "# Data Preparation"
      ]
    },
    {
      "cell_type": "code",
      "metadata": {
        "id": "FeRqVmphCS6m"
      },
      "source": [
        "def remove_chord_repetitions(chords):\n",
        "  previous = ''\n",
        "  chords_norep = []\n",
        "  for c in chords:\n",
        "    if c != previous:\n",
        "      chords_norep.append(c)\n",
        "      previous = c\n",
        "  return chords_norep\n",
        "  "
      ],
      "execution_count": 37,
      "outputs": []
    },
    {
      "cell_type": "code",
      "metadata": {
        "id": "dCLwnqoVGcMw"
      },
      "source": [
        "lines = df.loc[:, 'chords'].tolist()\n",
        "data = [line.split(' ') for line in lines]"
      ],
      "execution_count": 38,
      "outputs": []
    },
    {
      "cell_type": "code",
      "metadata": {
        "colab": {
          "base_uri": "https://localhost:8080/"
        },
        "id": "g7SmApW9F3K6",
        "outputId": "a102f3bf-b563-45da-c253-cde6f58c4ca6"
      },
      "source": [
        "processed_corpus = []\n",
        "for line in data:\n",
        "  tune_n = []\n",
        "  if remove_repetitions:\n",
        "    line = remove_chord_repetitions(line)\n",
        "  for n in ngrams_for_input:\n",
        "    tune_n.extend(ngrams(line, n=n))\n",
        "  processed_corpus.append(tune_n)\n",
        "\n",
        "for line in processed_corpus[:10]:\n",
        "  print(line)"
      ],
      "execution_count": 39,
      "outputs": [
        {
          "output_type": "stream",
          "name": "stdout",
          "text": [
            "['C', 'Eb7', 'G#', 'B7', 'E', 'G7', 'Gm', 'C7', 'F', 'G#7', 'C#', 'E7', 'Am', 'D7', 'Dm', 'G7']\n",
            "['C', 'Eb7', 'G#', 'B7', 'E', 'G7', 'Gm', 'C7', 'F', 'Eb7', 'G#', 'B7', 'E', 'G7', 'C']\n",
            "['Gm', 'C7', 'Bm', 'E7', 'A', 'C7', 'F', 'Bbm', 'Eb7', 'G#', 'Dm', 'G7']\n",
            "['C', 'Eb7', 'G#', 'B7', 'E', 'G7', 'Gm', 'C7', 'F', 'Eb7', 'G#', 'B7', 'E', 'G7', 'C']\n",
            "['Am', 'Am', 'Cm', 'Cm', 'Eb', 'Eb', 'Em7b5', 'A7', 'Dm', 'Dm', 'Bm7b5', 'Bm7b5', 'Bbm', 'Bbm', 'Fm', 'Fm', 'E7', 'E7', 'Fm', 'Fm', 'C#', 'C#', 'Fm', 'Fm', 'C#', 'C#']\n",
            "['Am', 'C#', 'Bm7b5', 'E7', 'Am', 'C#', 'Bm7b5', 'E7', 'Cm', 'F7', 'Bb', 'G#m', 'C#7', 'F#m7b5', 'B7', 'E', 'E', 'E7', 'Am', 'C#', 'Bm7b5', 'E7', 'Am', 'C#', 'Bm7b5', 'E7', 'Cm', 'F7', 'Bb', 'G#m', 'C#7', 'F#m7b5', 'B7', 'Em', 'Em']\n",
            "['C', 'Am', 'Dm', 'G7', 'C', 'Am', 'Dm', 'G7', 'C', 'Am', 'Dm', 'G7', 'C', 'G7', 'C']\n",
            "['C', 'Am', 'Dm', 'G7', 'C', 'Am', 'Dm', 'G7', 'C', 'Am', 'Dm', 'G7', 'C', 'G7', 'C']\n",
            "['C7', 'C7', 'F', 'F', 'D7', 'D7', 'G7', 'G7']\n",
            "['C', 'Am', 'Dm', 'G7', 'C', 'Am', 'Dm', 'G7', 'C', 'Am', 'Dm', 'G7', 'C', 'G7', 'C']\n"
          ]
        }
      ]
    },
    {
      "cell_type": "markdown",
      "metadata": {
        "id": "Sri0K2DhNagp"
      },
      "source": [
        "#### Corpus Overview"
      ]
    },
    {
      "cell_type": "code",
      "metadata": {
        "colab": {
          "base_uri": "https://localhost:8080/"
        },
        "id": "X2ZqA7IF4ufg",
        "outputId": "dfca0a84-7668-478e-c686-9260c6c6e2b2"
      },
      "source": [
        "tokens = [item for l in processed_corpus for item in l]\n",
        "total_tokens = len(tokens)\n",
        "vocab_size = len(set(tokens))\n",
        "vocab_prop = 100*vocab_size/total_tokens\n",
        "\n",
        "print(f\"Total Number of tokens: {total_tokens}\")\n",
        "print(f\"Size of vocabulary: {vocab_size}\")\n",
        "print(f\"Proportion of vocabulary in corpus: {vocab_prop:.02f}%\")"
      ],
      "execution_count": 40,
      "outputs": [
        {
          "output_type": "stream",
          "name": "stdout",
          "text": [
            "Total Number of tokens: 82622\n",
            "Size of vocabulary: 72\n",
            "Proportion of vocabulary in corpus: 0.09%\n"
          ]
        }
      ]
    },
    {
      "cell_type": "code",
      "metadata": {
        "colab": {
          "base_uri": "https://localhost:8080/",
          "height": 1000
        },
        "id": "rULq3jYVNh_x",
        "outputId": "911364d6-2262-4a8a-eb8d-07c9306f4382"
      },
      "source": [
        "df_chords = raw_chords_to_df(processed_corpus)\n",
        "df_chords"
      ],
      "execution_count": 41,
      "outputs": [
        {
          "output_type": "execute_result",
          "data": {
            "text/html": [
              "<div>\n",
              "<style scoped>\n",
              "    .dataframe tbody tr th:only-of-type {\n",
              "        vertical-align: middle;\n",
              "    }\n",
              "\n",
              "    .dataframe tbody tr th {\n",
              "        vertical-align: top;\n",
              "    }\n",
              "\n",
              "    .dataframe thead th {\n",
              "        text-align: right;\n",
              "    }\n",
              "</style>\n",
              "<table border=\"1\" class=\"dataframe\">\n",
              "  <thead>\n",
              "    <tr style=\"text-align: right;\">\n",
              "      <th></th>\n",
              "      <th>chord</th>\n",
              "      <th>count</th>\n",
              "    </tr>\n",
              "  </thead>\n",
              "  <tbody>\n",
              "    <tr>\n",
              "      <th>0</th>\n",
              "      <td>C</td>\n",
              "      <td>14387</td>\n",
              "    </tr>\n",
              "    <tr>\n",
              "      <th>5</th>\n",
              "      <td>G7</td>\n",
              "      <td>11144</td>\n",
              "    </tr>\n",
              "    <tr>\n",
              "      <th>14</th>\n",
              "      <td>Dm</td>\n",
              "      <td>7991</td>\n",
              "    </tr>\n",
              "    <tr>\n",
              "      <th>12</th>\n",
              "      <td>Am</td>\n",
              "      <td>5724</td>\n",
              "    </tr>\n",
              "    <tr>\n",
              "      <th>21</th>\n",
              "      <td>A7</td>\n",
              "      <td>4467</td>\n",
              "    </tr>\n",
              "    <tr>\n",
              "      <th>13</th>\n",
              "      <td>D7</td>\n",
              "      <td>3986</td>\n",
              "    </tr>\n",
              "    <tr>\n",
              "      <th>8</th>\n",
              "      <td>F</td>\n",
              "      <td>3746</td>\n",
              "    </tr>\n",
              "    <tr>\n",
              "      <th>7</th>\n",
              "      <td>C7</td>\n",
              "      <td>3428</td>\n",
              "    </tr>\n",
              "    <tr>\n",
              "      <th>11</th>\n",
              "      <td>E7</td>\n",
              "      <td>3175</td>\n",
              "    </tr>\n",
              "    <tr>\n",
              "      <th>29</th>\n",
              "      <td>Em</td>\n",
              "      <td>2710</td>\n",
              "    </tr>\n",
              "    <tr>\n",
              "      <th>24</th>\n",
              "      <td>F7</td>\n",
              "      <td>1722</td>\n",
              "    </tr>\n",
              "    <tr>\n",
              "      <th>31</th>\n",
              "      <td>Bb7</td>\n",
              "      <td>1639</td>\n",
              "    </tr>\n",
              "    <tr>\n",
              "      <th>23</th>\n",
              "      <td>Fm</td>\n",
              "      <td>1625</td>\n",
              "    </tr>\n",
              "    <tr>\n",
              "      <th>3</th>\n",
              "      <td>B7</td>\n",
              "      <td>1408</td>\n",
              "    </tr>\n",
              "    <tr>\n",
              "      <th>6</th>\n",
              "      <td>Gm</td>\n",
              "      <td>1283</td>\n",
              "    </tr>\n",
              "    <tr>\n",
              "      <th>9</th>\n",
              "      <td>G#7</td>\n",
              "      <td>975</td>\n",
              "    </tr>\n",
              "    <tr>\n",
              "      <th>22</th>\n",
              "      <td>Bm7b5</td>\n",
              "      <td>922</td>\n",
              "    </tr>\n",
              "    <tr>\n",
              "      <th>46</th>\n",
              "      <td>G</td>\n",
              "      <td>890</td>\n",
              "    </tr>\n",
              "    <tr>\n",
              "      <th>39</th>\n",
              "      <td>Ebdim</td>\n",
              "      <td>697</td>\n",
              "    </tr>\n",
              "    <tr>\n",
              "      <th>1</th>\n",
              "      <td>Eb7</td>\n",
              "      <td>622</td>\n",
              "    </tr>\n",
              "    <tr>\n",
              "      <th>18</th>\n",
              "      <td>Cm</td>\n",
              "      <td>606</td>\n",
              "    </tr>\n",
              "    <tr>\n",
              "      <th>28</th>\n",
              "      <td>F#m7b5</td>\n",
              "      <td>554</td>\n",
              "    </tr>\n",
              "    <tr>\n",
              "      <th>2</th>\n",
              "      <td>G#</td>\n",
              "      <td>519</td>\n",
              "    </tr>\n",
              "    <tr>\n",
              "      <th>15</th>\n",
              "      <td>Bm</td>\n",
              "      <td>511</td>\n",
              "    </tr>\n",
              "    <tr>\n",
              "      <th>27</th>\n",
              "      <td>C#7</td>\n",
              "      <td>498</td>\n",
              "    </tr>\n",
              "    <tr>\n",
              "      <th>25</th>\n",
              "      <td>Bb</td>\n",
              "      <td>494</td>\n",
              "    </tr>\n",
              "    <tr>\n",
              "      <th>20</th>\n",
              "      <td>Em7b5</td>\n",
              "      <td>480</td>\n",
              "    </tr>\n",
              "    <tr>\n",
              "      <th>4</th>\n",
              "      <td>E</td>\n",
              "      <td>474</td>\n",
              "    </tr>\n",
              "    <tr>\n",
              "      <th>37</th>\n",
              "      <td>F#m</td>\n",
              "      <td>453</td>\n",
              "    </tr>\n",
              "    <tr>\n",
              "      <th>34</th>\n",
              "      <td>F#7</td>\n",
              "      <td>443</td>\n",
              "    </tr>\n",
              "    <tr>\n",
              "      <th>19</th>\n",
              "      <td>Eb</td>\n",
              "      <td>407</td>\n",
              "    </tr>\n",
              "    <tr>\n",
              "      <th>32</th>\n",
              "      <td>F#dim</td>\n",
              "      <td>406</td>\n",
              "    </tr>\n",
              "    <tr>\n",
              "      <th>45</th>\n",
              "      <td>C#dim</td>\n",
              "      <td>388</td>\n",
              "    </tr>\n",
              "    <tr>\n",
              "      <th>30</th>\n",
              "      <td>Ebm</td>\n",
              "      <td>365</td>\n",
              "    </tr>\n",
              "    <tr>\n",
              "      <th>10</th>\n",
              "      <td>C#</td>\n",
              "      <td>342</td>\n",
              "    </tr>\n",
              "    <tr>\n",
              "      <th>16</th>\n",
              "      <td>A</td>\n",
              "      <td>329</td>\n",
              "    </tr>\n",
              "    <tr>\n",
              "      <th>50</th>\n",
              "      <td>Dm7b5</td>\n",
              "      <td>316</td>\n",
              "    </tr>\n",
              "    <tr>\n",
              "      <th>17</th>\n",
              "      <td>Bbm</td>\n",
              "      <td>305</td>\n",
              "    </tr>\n",
              "    <tr>\n",
              "      <th>40</th>\n",
              "      <td>D</td>\n",
              "      <td>293</td>\n",
              "    </tr>\n",
              "    <tr>\n",
              "      <th>33</th>\n",
              "      <td>C#m</td>\n",
              "      <td>266</td>\n",
              "    </tr>\n",
              "    <tr>\n",
              "      <th>54</th>\n",
              "      <td>Cdim</td>\n",
              "      <td>214</td>\n",
              "    </tr>\n",
              "    <tr>\n",
              "      <th>35</th>\n",
              "      <td>B</td>\n",
              "      <td>173</td>\n",
              "    </tr>\n",
              "    <tr>\n",
              "      <th>26</th>\n",
              "      <td>G#m</td>\n",
              "      <td>159</td>\n",
              "    </tr>\n",
              "    <tr>\n",
              "      <th>53</th>\n",
              "      <td>F#</td>\n",
              "      <td>144</td>\n",
              "    </tr>\n",
              "    <tr>\n",
              "      <th>41</th>\n",
              "      <td>G#dim</td>\n",
              "      <td>90</td>\n",
              "    </tr>\n",
              "    <tr>\n",
              "      <th>48</th>\n",
              "      <td>Am7b5</td>\n",
              "      <td>82</td>\n",
              "    </tr>\n",
              "    <tr>\n",
              "      <th>38</th>\n",
              "      <td>Fdim</td>\n",
              "      <td>63</td>\n",
              "    </tr>\n",
              "    <tr>\n",
              "      <th>52</th>\n",
              "      <td>Gdim</td>\n",
              "      <td>63</td>\n",
              "    </tr>\n",
              "    <tr>\n",
              "      <th>64</th>\n",
              "      <td>G7(+b5)</td>\n",
              "      <td>56</td>\n",
              "    </tr>\n",
              "    <tr>\n",
              "      <th>57</th>\n",
              "      <td>C#m7b5</td>\n",
              "      <td>51</td>\n",
              "    </tr>\n",
              "    <tr>\n",
              "      <th>47</th>\n",
              "      <td>E7(+b5)</td>\n",
              "      <td>46</td>\n",
              "    </tr>\n",
              "    <tr>\n",
              "      <th>42</th>\n",
              "      <td>Adim</td>\n",
              "      <td>44</td>\n",
              "    </tr>\n",
              "    <tr>\n",
              "      <th>60</th>\n",
              "      <td>F#7(+b5)</td>\n",
              "      <td>40</td>\n",
              "    </tr>\n",
              "    <tr>\n",
              "      <th>36</th>\n",
              "      <td>Gm7b5</td>\n",
              "      <td>40</td>\n",
              "    </tr>\n",
              "    <tr>\n",
              "      <th>51</th>\n",
              "      <td>A7(+b5)</td>\n",
              "      <td>37</td>\n",
              "    </tr>\n",
              "    <tr>\n",
              "      <th>49</th>\n",
              "      <td>Edim</td>\n",
              "      <td>36</td>\n",
              "    </tr>\n",
              "    <tr>\n",
              "      <th>68</th>\n",
              "      <td>B7(+b5)</td>\n",
              "      <td>36</td>\n",
              "    </tr>\n",
              "    <tr>\n",
              "      <th>58</th>\n",
              "      <td>G#m7b5</td>\n",
              "      <td>34</td>\n",
              "    </tr>\n",
              "    <tr>\n",
              "      <th>61</th>\n",
              "      <td>Bb7(+b5)</td>\n",
              "      <td>27</td>\n",
              "    </tr>\n",
              "    <tr>\n",
              "      <th>67</th>\n",
              "      <td>C#7(+b5)</td>\n",
              "      <td>27</td>\n",
              "    </tr>\n",
              "    <tr>\n",
              "      <th>56</th>\n",
              "      <td>Fm7b5</td>\n",
              "      <td>23</td>\n",
              "    </tr>\n",
              "    <tr>\n",
              "      <th>59</th>\n",
              "      <td>D7(+b5)</td>\n",
              "      <td>20</td>\n",
              "    </tr>\n",
              "    <tr>\n",
              "      <th>43</th>\n",
              "      <td>Bbdim</td>\n",
              "      <td>19</td>\n",
              "    </tr>\n",
              "    <tr>\n",
              "      <th>55</th>\n",
              "      <td>Bbm7b5</td>\n",
              "      <td>16</td>\n",
              "    </tr>\n",
              "    <tr>\n",
              "      <th>63</th>\n",
              "      <td>C7(+b5)</td>\n",
              "      <td>15</td>\n",
              "    </tr>\n",
              "    <tr>\n",
              "      <th>44</th>\n",
              "      <td>Bdim</td>\n",
              "      <td>15</td>\n",
              "    </tr>\n",
              "    <tr>\n",
              "      <th>66</th>\n",
              "      <td>Ebm7b5</td>\n",
              "      <td>13</td>\n",
              "    </tr>\n",
              "    <tr>\n",
              "      <th>62</th>\n",
              "      <td>Ddim</td>\n",
              "      <td>13</td>\n",
              "    </tr>\n",
              "    <tr>\n",
              "      <th>70</th>\n",
              "      <td>G#7(+b5)</td>\n",
              "      <td>12</td>\n",
              "    </tr>\n",
              "    <tr>\n",
              "      <th>65</th>\n",
              "      <td>F7(+b5)</td>\n",
              "      <td>9</td>\n",
              "    </tr>\n",
              "    <tr>\n",
              "      <th>69</th>\n",
              "      <td>Cm7b5</td>\n",
              "      <td>9</td>\n",
              "    </tr>\n",
              "    <tr>\n",
              "      <th>71</th>\n",
              "      <td>Eb7(+b5)</td>\n",
              "      <td>6</td>\n",
              "    </tr>\n",
              "  </tbody>\n",
              "</table>\n",
              "</div>"
            ],
            "text/plain": [
              "       chord  count\n",
              "0          C  14387\n",
              "5         G7  11144\n",
              "14        Dm   7991\n",
              "12        Am   5724\n",
              "21        A7   4467\n",
              "13        D7   3986\n",
              "8          F   3746\n",
              "7         C7   3428\n",
              "11        E7   3175\n",
              "29        Em   2710\n",
              "24        F7   1722\n",
              "31       Bb7   1639\n",
              "23        Fm   1625\n",
              "3         B7   1408\n",
              "6         Gm   1283\n",
              "9        G#7    975\n",
              "22     Bm7b5    922\n",
              "46         G    890\n",
              "39     Ebdim    697\n",
              "1        Eb7    622\n",
              "18        Cm    606\n",
              "28    F#m7b5    554\n",
              "2         G#    519\n",
              "15        Bm    511\n",
              "27       C#7    498\n",
              "25        Bb    494\n",
              "20     Em7b5    480\n",
              "4          E    474\n",
              "37       F#m    453\n",
              "34       F#7    443\n",
              "19        Eb    407\n",
              "32     F#dim    406\n",
              "45     C#dim    388\n",
              "30       Ebm    365\n",
              "10        C#    342\n",
              "16         A    329\n",
              "50     Dm7b5    316\n",
              "17       Bbm    305\n",
              "40         D    293\n",
              "33       C#m    266\n",
              "54      Cdim    214\n",
              "35         B    173\n",
              "26       G#m    159\n",
              "53        F#    144\n",
              "41     G#dim     90\n",
              "48     Am7b5     82\n",
              "38      Fdim     63\n",
              "52      Gdim     63\n",
              "64   G7(+b5)     56\n",
              "57    C#m7b5     51\n",
              "47   E7(+b5)     46\n",
              "42      Adim     44\n",
              "60  F#7(+b5)     40\n",
              "36     Gm7b5     40\n",
              "51   A7(+b5)     37\n",
              "49      Edim     36\n",
              "68   B7(+b5)     36\n",
              "58    G#m7b5     34\n",
              "61  Bb7(+b5)     27\n",
              "67  C#7(+b5)     27\n",
              "56     Fm7b5     23\n",
              "59   D7(+b5)     20\n",
              "43     Bbdim     19\n",
              "55    Bbm7b5     16\n",
              "63   C7(+b5)     15\n",
              "44      Bdim     15\n",
              "66    Ebm7b5     13\n",
              "62      Ddim     13\n",
              "70  G#7(+b5)     12\n",
              "65   F7(+b5)      9\n",
              "69     Cm7b5      9\n",
              "71  Eb7(+b5)      6"
            ]
          },
          "metadata": {},
          "execution_count": 41
        }
      ]
    },
    {
      "cell_type": "code",
      "metadata": {
        "colab": {
          "base_uri": "https://localhost:8080/",
          "height": 560
        },
        "id": "G9fknTouNmKm",
        "outputId": "5a9b75ee-c043-4dad-ae8f-68372f91eade"
      },
      "source": [
        "df_chords = pd.DataFrame.from_dict(df_chords)\n",
        "df_chords.sort_values(by=['count'], ascending=False, inplace=True)\n",
        "df_chords_top = df_chords.query('count > 100')\n",
        "\n",
        "fig = px.bar(df_chords_top, x='chord', y='count', log_y=True)\n",
        "fig.update_layout(barmode='stack', xaxis={'categoryorder':'total descending'})\n",
        "fig.show()"
      ],
      "execution_count": 42,
      "outputs": [
        {
          "output_type": "stream",
          "name": "stderr",
          "text": [
            "2021-11-28 14:02:36,483 : INFO : NumExpr defaulting to 2 threads.\n"
          ]
        },
        {
          "output_type": "display_data",
          "data": {
            "text/html": [
              "<html>\n",
              "<head><meta charset=\"utf-8\" /></head>\n",
              "<body>\n",
              "    <div>\n",
              "            <script src=\"https://cdnjs.cloudflare.com/ajax/libs/mathjax/2.7.5/MathJax.js?config=TeX-AMS-MML_SVG\"></script><script type=\"text/javascript\">if (window.MathJax) {MathJax.Hub.Config({SVG: {font: \"STIX-Web\"}});}</script>\n",
              "                <script type=\"text/javascript\">window.PlotlyConfig = {MathJaxConfig: 'local'};</script>\n",
              "        <script src=\"https://cdn.plot.ly/plotly-latest.min.js\"></script>    \n",
              "            <div id=\"b19854bc-8453-4c10-911d-a13c70a122af\" class=\"plotly-graph-div\" style=\"height:525px; width:100%;\"></div>\n",
              "            <script type=\"text/javascript\">\n",
              "                \n",
              "                    window.PLOTLYENV=window.PLOTLYENV || {};\n",
              "                    \n",
              "                if (document.getElementById(\"b19854bc-8453-4c10-911d-a13c70a122af\")) {\n",
              "                    Plotly.newPlot(\n",
              "                        'b19854bc-8453-4c10-911d-a13c70a122af',\n",
              "                        [{\"alignmentgroup\": \"True\", \"hoverlabel\": {\"namelength\": 0}, \"hovertemplate\": \"chord=%{x}<br>count=%{y}\", \"legendgroup\": \"\", \"marker\": {\"color\": \"#636efa\"}, \"name\": \"\", \"offsetgroup\": \"\", \"orientation\": \"v\", \"showlegend\": false, \"textposition\": \"auto\", \"type\": \"bar\", \"x\": [\"C\", \"G7\", \"Dm\", \"Am\", \"A7\", \"D7\", \"F\", \"C7\", \"E7\", \"Em\", \"F7\", \"Bb7\", \"Fm\", \"B7\", \"Gm\", \"G#7\", \"Bm7b5\", \"G\", \"Ebdim\", \"Eb7\", \"Cm\", \"F#m7b5\", \"G#\", \"Bm\", \"C#7\", \"Bb\", \"Em7b5\", \"E\", \"F#m\", \"F#7\", \"Eb\", \"F#dim\", \"C#dim\", \"Ebm\", \"C#\", \"A\", \"Dm7b5\", \"Bbm\", \"D\", \"C#m\", \"Cdim\", \"B\", \"G#m\", \"F#\"], \"xaxis\": \"x\", \"y\": [14387, 11144, 7991, 5724, 4467, 3986, 3746, 3428, 3175, 2710, 1722, 1639, 1625, 1408, 1283, 975, 922, 890, 697, 622, 606, 554, 519, 511, 498, 494, 480, 474, 453, 443, 407, 406, 388, 365, 342, 329, 316, 305, 293, 266, 214, 173, 159, 144], \"yaxis\": \"y\"}],\n",
              "                        {\"barmode\": \"stack\", \"legend\": {\"tracegroupgap\": 0}, \"margin\": {\"t\": 60}, \"template\": {\"data\": {\"bar\": [{\"error_x\": {\"color\": \"#2a3f5f\"}, \"error_y\": {\"color\": \"#2a3f5f\"}, \"marker\": {\"line\": {\"color\": \"#E5ECF6\", \"width\": 0.5}}, \"type\": \"bar\"}], \"barpolar\": [{\"marker\": {\"line\": {\"color\": \"#E5ECF6\", \"width\": 0.5}}, \"type\": \"barpolar\"}], \"carpet\": [{\"aaxis\": {\"endlinecolor\": \"#2a3f5f\", \"gridcolor\": \"white\", \"linecolor\": \"white\", \"minorgridcolor\": \"white\", \"startlinecolor\": \"#2a3f5f\"}, \"baxis\": {\"endlinecolor\": \"#2a3f5f\", \"gridcolor\": \"white\", \"linecolor\": \"white\", \"minorgridcolor\": \"white\", \"startlinecolor\": \"#2a3f5f\"}, \"type\": \"carpet\"}], \"choropleth\": [{\"colorbar\": {\"outlinewidth\": 0, \"ticks\": \"\"}, \"type\": \"choropleth\"}], \"contour\": [{\"colorbar\": {\"outlinewidth\": 0, \"ticks\": \"\"}, \"colorscale\": [[0.0, \"#0d0887\"], [0.1111111111111111, \"#46039f\"], [0.2222222222222222, \"#7201a8\"], [0.3333333333333333, \"#9c179e\"], [0.4444444444444444, \"#bd3786\"], [0.5555555555555556, \"#d8576b\"], [0.6666666666666666, \"#ed7953\"], [0.7777777777777778, \"#fb9f3a\"], [0.8888888888888888, \"#fdca26\"], [1.0, \"#f0f921\"]], \"type\": \"contour\"}], \"contourcarpet\": [{\"colorbar\": {\"outlinewidth\": 0, \"ticks\": \"\"}, \"type\": \"contourcarpet\"}], \"heatmap\": [{\"colorbar\": {\"outlinewidth\": 0, \"ticks\": \"\"}, \"colorscale\": [[0.0, \"#0d0887\"], [0.1111111111111111, \"#46039f\"], [0.2222222222222222, \"#7201a8\"], [0.3333333333333333, \"#9c179e\"], [0.4444444444444444, \"#bd3786\"], [0.5555555555555556, \"#d8576b\"], [0.6666666666666666, \"#ed7953\"], [0.7777777777777778, \"#fb9f3a\"], [0.8888888888888888, \"#fdca26\"], [1.0, \"#f0f921\"]], \"type\": \"heatmap\"}], \"heatmapgl\": [{\"colorbar\": {\"outlinewidth\": 0, \"ticks\": \"\"}, \"colorscale\": [[0.0, \"#0d0887\"], [0.1111111111111111, \"#46039f\"], [0.2222222222222222, \"#7201a8\"], [0.3333333333333333, \"#9c179e\"], [0.4444444444444444, \"#bd3786\"], [0.5555555555555556, \"#d8576b\"], [0.6666666666666666, \"#ed7953\"], [0.7777777777777778, \"#fb9f3a\"], [0.8888888888888888, \"#fdca26\"], [1.0, \"#f0f921\"]], \"type\": \"heatmapgl\"}], \"histogram\": [{\"marker\": {\"colorbar\": {\"outlinewidth\": 0, \"ticks\": \"\"}}, \"type\": \"histogram\"}], \"histogram2d\": [{\"colorbar\": {\"outlinewidth\": 0, \"ticks\": \"\"}, \"colorscale\": [[0.0, \"#0d0887\"], [0.1111111111111111, \"#46039f\"], [0.2222222222222222, \"#7201a8\"], [0.3333333333333333, \"#9c179e\"], [0.4444444444444444, \"#bd3786\"], [0.5555555555555556, \"#d8576b\"], [0.6666666666666666, \"#ed7953\"], [0.7777777777777778, \"#fb9f3a\"], [0.8888888888888888, \"#fdca26\"], [1.0, \"#f0f921\"]], \"type\": \"histogram2d\"}], \"histogram2dcontour\": [{\"colorbar\": {\"outlinewidth\": 0, \"ticks\": \"\"}, \"colorscale\": [[0.0, \"#0d0887\"], [0.1111111111111111, \"#46039f\"], [0.2222222222222222, \"#7201a8\"], [0.3333333333333333, \"#9c179e\"], [0.4444444444444444, \"#bd3786\"], [0.5555555555555556, \"#d8576b\"], [0.6666666666666666, \"#ed7953\"], [0.7777777777777778, \"#fb9f3a\"], [0.8888888888888888, \"#fdca26\"], [1.0, \"#f0f921\"]], \"type\": \"histogram2dcontour\"}], \"mesh3d\": [{\"colorbar\": {\"outlinewidth\": 0, \"ticks\": \"\"}, \"type\": \"mesh3d\"}], \"parcoords\": [{\"line\": {\"colorbar\": {\"outlinewidth\": 0, \"ticks\": \"\"}}, \"type\": \"parcoords\"}], \"pie\": [{\"automargin\": true, \"type\": \"pie\"}], \"scatter\": [{\"marker\": {\"colorbar\": {\"outlinewidth\": 0, \"ticks\": \"\"}}, \"type\": \"scatter\"}], \"scatter3d\": [{\"line\": {\"colorbar\": {\"outlinewidth\": 0, \"ticks\": \"\"}}, \"marker\": {\"colorbar\": {\"outlinewidth\": 0, \"ticks\": \"\"}}, \"type\": \"scatter3d\"}], \"scattercarpet\": [{\"marker\": {\"colorbar\": {\"outlinewidth\": 0, \"ticks\": \"\"}}, \"type\": \"scattercarpet\"}], \"scattergeo\": [{\"marker\": {\"colorbar\": {\"outlinewidth\": 0, \"ticks\": \"\"}}, \"type\": \"scattergeo\"}], \"scattergl\": [{\"marker\": {\"colorbar\": {\"outlinewidth\": 0, \"ticks\": \"\"}}, \"type\": \"scattergl\"}], \"scattermapbox\": [{\"marker\": {\"colorbar\": {\"outlinewidth\": 0, \"ticks\": \"\"}}, \"type\": \"scattermapbox\"}], \"scatterpolar\": [{\"marker\": {\"colorbar\": {\"outlinewidth\": 0, \"ticks\": \"\"}}, \"type\": \"scatterpolar\"}], \"scatterpolargl\": [{\"marker\": {\"colorbar\": {\"outlinewidth\": 0, \"ticks\": \"\"}}, \"type\": \"scatterpolargl\"}], \"scatterternary\": [{\"marker\": {\"colorbar\": {\"outlinewidth\": 0, \"ticks\": \"\"}}, \"type\": \"scatterternary\"}], \"surface\": [{\"colorbar\": {\"outlinewidth\": 0, \"ticks\": \"\"}, \"colorscale\": [[0.0, \"#0d0887\"], [0.1111111111111111, \"#46039f\"], [0.2222222222222222, \"#7201a8\"], [0.3333333333333333, \"#9c179e\"], [0.4444444444444444, \"#bd3786\"], [0.5555555555555556, \"#d8576b\"], [0.6666666666666666, \"#ed7953\"], [0.7777777777777778, \"#fb9f3a\"], [0.8888888888888888, \"#fdca26\"], [1.0, \"#f0f921\"]], \"type\": \"surface\"}], \"table\": [{\"cells\": {\"fill\": {\"color\": \"#EBF0F8\"}, \"line\": {\"color\": \"white\"}}, \"header\": {\"fill\": {\"color\": \"#C8D4E3\"}, \"line\": {\"color\": \"white\"}}, \"type\": \"table\"}]}, \"layout\": {\"annotationdefaults\": {\"arrowcolor\": \"#2a3f5f\", \"arrowhead\": 0, \"arrowwidth\": 1}, \"coloraxis\": {\"colorbar\": {\"outlinewidth\": 0, \"ticks\": \"\"}}, \"colorscale\": {\"diverging\": [[0, \"#8e0152\"], [0.1, \"#c51b7d\"], [0.2, \"#de77ae\"], [0.3, \"#f1b6da\"], [0.4, \"#fde0ef\"], [0.5, \"#f7f7f7\"], [0.6, \"#e6f5d0\"], [0.7, \"#b8e186\"], [0.8, \"#7fbc41\"], [0.9, \"#4d9221\"], [1, \"#276419\"]], \"sequential\": [[0.0, \"#0d0887\"], [0.1111111111111111, \"#46039f\"], [0.2222222222222222, \"#7201a8\"], [0.3333333333333333, \"#9c179e\"], [0.4444444444444444, \"#bd3786\"], [0.5555555555555556, \"#d8576b\"], [0.6666666666666666, \"#ed7953\"], [0.7777777777777778, \"#fb9f3a\"], [0.8888888888888888, \"#fdca26\"], [1.0, \"#f0f921\"]], \"sequentialminus\": [[0.0, \"#0d0887\"], [0.1111111111111111, \"#46039f\"], [0.2222222222222222, \"#7201a8\"], [0.3333333333333333, \"#9c179e\"], [0.4444444444444444, \"#bd3786\"], [0.5555555555555556, \"#d8576b\"], [0.6666666666666666, \"#ed7953\"], [0.7777777777777778, \"#fb9f3a\"], [0.8888888888888888, \"#fdca26\"], [1.0, \"#f0f921\"]]}, \"colorway\": [\"#636efa\", \"#EF553B\", \"#00cc96\", \"#ab63fa\", \"#FFA15A\", \"#19d3f3\", \"#FF6692\", \"#B6E880\", \"#FF97FF\", \"#FECB52\"], \"font\": {\"color\": \"#2a3f5f\"}, \"geo\": {\"bgcolor\": \"white\", \"lakecolor\": \"white\", \"landcolor\": \"#E5ECF6\", \"showlakes\": true, \"showland\": true, \"subunitcolor\": \"white\"}, \"hoverlabel\": {\"align\": \"left\"}, \"hovermode\": \"closest\", \"mapbox\": {\"style\": \"light\"}, \"paper_bgcolor\": \"white\", \"plot_bgcolor\": \"#E5ECF6\", \"polar\": {\"angularaxis\": {\"gridcolor\": \"white\", \"linecolor\": \"white\", \"ticks\": \"\"}, \"bgcolor\": \"#E5ECF6\", \"radialaxis\": {\"gridcolor\": \"white\", \"linecolor\": \"white\", \"ticks\": \"\"}}, \"scene\": {\"xaxis\": {\"backgroundcolor\": \"#E5ECF6\", \"gridcolor\": \"white\", \"gridwidth\": 2, \"linecolor\": \"white\", \"showbackground\": true, \"ticks\": \"\", \"zerolinecolor\": \"white\"}, \"yaxis\": {\"backgroundcolor\": \"#E5ECF6\", \"gridcolor\": \"white\", \"gridwidth\": 2, \"linecolor\": \"white\", \"showbackground\": true, \"ticks\": \"\", \"zerolinecolor\": \"white\"}, \"zaxis\": {\"backgroundcolor\": \"#E5ECF6\", \"gridcolor\": \"white\", \"gridwidth\": 2, \"linecolor\": \"white\", \"showbackground\": true, \"ticks\": \"\", \"zerolinecolor\": \"white\"}}, \"shapedefaults\": {\"line\": {\"color\": \"#2a3f5f\"}}, \"ternary\": {\"aaxis\": {\"gridcolor\": \"white\", \"linecolor\": \"white\", \"ticks\": \"\"}, \"baxis\": {\"gridcolor\": \"white\", \"linecolor\": \"white\", \"ticks\": \"\"}, \"bgcolor\": \"#E5ECF6\", \"caxis\": {\"gridcolor\": \"white\", \"linecolor\": \"white\", \"ticks\": \"\"}}, \"title\": {\"x\": 0.05}, \"xaxis\": {\"automargin\": true, \"gridcolor\": \"white\", \"linecolor\": \"white\", \"ticks\": \"\", \"title\": {\"standoff\": 15}, \"zerolinecolor\": \"white\", \"zerolinewidth\": 2}, \"yaxis\": {\"automargin\": true, \"gridcolor\": \"white\", \"linecolor\": \"white\", \"ticks\": \"\", \"title\": {\"standoff\": 15}, \"zerolinecolor\": \"white\", \"zerolinewidth\": 2}}}, \"xaxis\": {\"anchor\": \"y\", \"categoryorder\": \"total descending\", \"domain\": [0.0, 1.0], \"title\": {\"text\": \"chord\"}}, \"yaxis\": {\"anchor\": \"x\", \"domain\": [0.0, 1.0], \"title\": {\"text\": \"count\"}, \"type\": \"log\"}},\n",
              "                        {\"responsive\": true}\n",
              "                    ).then(function(){\n",
              "                            \n",
              "var gd = document.getElementById('b19854bc-8453-4c10-911d-a13c70a122af');\n",
              "var x = new MutationObserver(function (mutations, observer) {{\n",
              "        var display = window.getComputedStyle(gd).display;\n",
              "        if (!display || display === 'none') {{\n",
              "            console.log([gd, 'removed!']);\n",
              "            Plotly.purge(gd);\n",
              "            observer.disconnect();\n",
              "        }}\n",
              "}});\n",
              "\n",
              "// Listen for the removal of the full notebook cells\n",
              "var notebookContainer = gd.closest('#notebook-container');\n",
              "if (notebookContainer) {{\n",
              "    x.observe(notebookContainer, {childList: true});\n",
              "}}\n",
              "\n",
              "// Listen for the clearing of the current output cell\n",
              "var outputEl = gd.closest('.output');\n",
              "if (outputEl) {{\n",
              "    x.observe(outputEl, {childList: true});\n",
              "}}\n",
              "\n",
              "                        })\n",
              "                };\n",
              "                \n",
              "            </script>\n",
              "        </div>\n",
              "</body>\n",
              "</html>"
            ]
          },
          "metadata": {}
        }
      ]
    },
    {
      "cell_type": "markdown",
      "metadata": {
        "id": "cG5dtDpkWwLE"
      },
      "source": [
        "Plot Distribution accoring to Zipf's Law\n",
        "\n",
        "source: https://stats.stackexchange.com/questions/331219/characterizing-fitting-word-count-data-into-zipf-power-law-lognormal"
      ]
    },
    {
      "cell_type": "code",
      "metadata": {
        "id": "tazf9QRST5NP"
      },
      "source": [
        "from collections import Counter\n",
        "\n",
        "counter_of_words = df_chords.set_index('chord').to_dict(orient='dict')\n",
        "counter_of_words = Counter(counter_of_words['count'])\n",
        "counter_of_counts = Counter(counter_of_words.values())\n",
        "\n",
        "word_counts = np.array(list(counter_of_counts.keys()))\n",
        "freq_of_word_counts = np.array(list(counter_of_counts.values()))"
      ],
      "execution_count": 43,
      "outputs": []
    },
    {
      "cell_type": "code",
      "metadata": {
        "colab": {
          "base_uri": "https://localhost:8080/",
          "height": 295
        },
        "id": "Jc80DSe7QlkV",
        "outputId": "a5b3c7e4-aa96-41c9-8181-7011ef4927eb"
      },
      "source": [
        "plt.scatter(np.log(word_counts), np.log(freq_of_word_counts))\n",
        "plt.xlabel('Log of word frequency')\n",
        "plt.ylabel('Log of number of such words')\n",
        "plt.title('Power law for word frequencies')\n",
        "\n",
        "plt.savefig('plot.png')"
      ],
      "execution_count": 44,
      "outputs": [
        {
          "output_type": "display_data",
          "data": {
            "image/png": "[encoded data removed]",
            "text/plain": [
              "<Figure size 432x288 with 1 Axes>"
            ]
          },
          "metadata": {
            "needs_background": "light"
          }
        }
      ]
    },
    {
      "cell_type": "code",
      "metadata": {
        "colab": {
          "base_uri": "https://localhost:8080/"
        },
        "id": "TRQxnw3XXfit",
        "outputId": "e3057023-f8ee-4e82-9065-8d43c21182a9"
      },
      "source": [
        "def neg_zipf_likelihood(s):\n",
        "    n = sum(freq_of_word_counts)\n",
        "    # for each word count, find the probability that a random word has such word count\n",
        "    probas = word_counts ** (-s) / np.sum(np.arange(1, n+1) **(-s))\n",
        "    log_likelihood = sum(np.log(probas) * word_counts)\n",
        "    return -log_likelihood\n",
        "\n",
        "from scipy.optimize import minimize_scalar\n",
        "s_best = minimize_scalar(neg_zipf_likelihood, [0.1, 3.0] )\n",
        "print(s_best.x)"
      ],
      "execution_count": 45,
      "outputs": [
        {
          "output_type": "stream",
          "name": "stdout",
          "text": [
            "-399.3962569709492\n"
          ]
        },
        {
          "output_type": "stream",
          "name": "stderr",
          "text": [
            "/usr/local/lib/python3.7/dist-packages/ipykernel_launcher.py:4: RuntimeWarning:\n",
            "\n",
            "overflow encountered in power\n",
            "\n",
            "/usr/local/lib/python3.7/dist-packages/ipykernel_launcher.py:4: RuntimeWarning:\n",
            "\n",
            "invalid value encountered in true_divide\n",
            "\n",
            "/usr/local/lib/python3.7/dist-packages/scipy/optimize/optimize.py:1986: RuntimeWarning:\n",
            "\n",
            "invalid value encountered in double_scalars\n",
            "\n",
            "/usr/local/lib/python3.7/dist-packages/scipy/optimize/optimize.py:1987: RuntimeWarning:\n",
            "\n",
            "invalid value encountered in double_scalars\n",
            "\n",
            "/usr/local/lib/python3.7/dist-packages/ipykernel_launcher.py:5: RuntimeWarning:\n",
            "\n",
            "divide by zero encountered in log\n",
            "\n"
          ]
        }
      ]
    },
    {
      "cell_type": "code",
      "metadata": {
        "id": "a1IvM4wh7zOv"
      },
      "source": [
        "if use_wandb:\n",
        "  wandb.log(\n",
        "      {\"corpus\": {\n",
        "              \"total_tokens\": total_tokens,\n",
        "              \"vocab_size\": vocab_size,\n",
        "              \"vocab_proportion_in_corpus\": vocab_prop,\n",
        "              \"zipf_plot\": wandb.Image('plot.png'),\n",
        "              }\n",
        "      }\n",
        "  )"
      ],
      "execution_count": 46,
      "outputs": []
    },
    {
      "cell_type": "markdown",
      "metadata": {
        "id": "LeRGFeTn89Uc"
      },
      "source": [
        "# TF-IDF"
      ]
    },
    {
      "cell_type": "code",
      "metadata": {
        "colab": {
          "base_uri": "https://localhost:8080/"
        },
        "id": "pBdUdBNr9Gmu",
        "outputId": "84d2f893-65e7-4da8-beef-481ac648b130"
      },
      "source": [
        "dictionary = corpora.Dictionary(processed_corpus)\n",
        "bow_corpus = [dictionary.doc2bow(text) for text in processed_corpus]\n",
        "tfidf = TfidfModel(bow_corpus)"
      ],
      "execution_count": 47,
      "outputs": [
        {
          "output_type": "stream",
          "name": "stderr",
          "text": [
            "2021-11-28 14:02:37,677 : INFO : adding document #0 to Dictionary(0 unique tokens: [])\n",
            "2021-11-28 14:02:37,799 : INFO : built Dictionary(72 unique tokens: ['Am', 'B7', 'C', 'C#', 'C7']...) from 5391 documents (total 82622 corpus positions)\n",
            "2021-11-28 14:02:37,801 : INFO : Dictionary lifecycle event {'msg': \"built Dictionary(72 unique tokens: ['Am', 'B7', 'C', 'C#', 'C7']...) from 5391 documents (total 82622 corpus positions)\", 'datetime': '2021-11-28T14:02:37.801507', 'gensim': '4.1.2', 'python': '3.7.12 (default, Sep 10 2021, 00:21:48) \\n[GCC 7.5.0]', 'platform': 'Linux-5.4.104+-x86_64-with-Ubuntu-18.04-bionic', 'event': 'created'}\n",
            "2021-11-28 14:02:37,877 : INFO : collecting document frequencies\n",
            "2021-11-28 14:02:37,882 : INFO : PROGRESS: processing document #0\n",
            "2021-11-28 14:02:37,902 : INFO : TfidfModel lifecycle event {'msg': 'calculated IDF weights for 5391 documents and 72 features (41238 matrix non-zeros)', 'datetime': '2021-11-28T14:02:37.902028', 'gensim': '4.1.2', 'python': '3.7.12 (default, Sep 10 2021, 00:21:48) \\n[GCC 7.5.0]', 'platform': 'Linux-5.4.104+-x86_64-with-Ubuntu-18.04-bionic', 'event': 'initialize'}\n"
          ]
        }
      ]
    },
    {
      "cell_type": "code",
      "metadata": {
        "id": "9NK-cuax9Kqk"
      },
      "source": [
        "# dictionary.token2id"
      ],
      "execution_count": 48,
      "outputs": []
    },
    {
      "cell_type": "code",
      "metadata": {
        "id": "til5xlce_y1m"
      },
      "source": [
        "!rm -R index\n",
        "!mkdir index"
      ],
      "execution_count": 49,
      "outputs": []
    },
    {
      "cell_type": "code",
      "metadata": {
        "colab": {
          "base_uri": "https://localhost:8080/"
        },
        "id": "tn_fz2M090IM",
        "outputId": "b8c509c5-b6bc-4224-e157-bb0a2fd82084"
      },
      "source": [
        "# Note: SparseMatrixSimilarity crashes due to lacking memory\n",
        "#from gensim.test.utils import get_tmpfile\n",
        "#index_tmpfile = get_tmpfile(\"index\")\n",
        "#index_tfidf = similarities.Similarity('/content/index/index_tfidf', bow_corpus, num_features=len(dictionary))\n",
        "\n",
        "index_tfidf = similarities.SparseMatrixSimilarity(tfidf[bow_corpus], num_features = len(dictionary))"
      ],
      "execution_count": 50,
      "outputs": [
        {
          "output_type": "stream",
          "name": "stderr",
          "text": [
            "2021-11-28 14:02:38,186 : INFO : creating sparse index\n",
            "2021-11-28 14:02:38,195 : INFO : creating sparse matrix from corpus\n",
            "2021-11-28 14:02:38,198 : INFO : PROGRESS: at document #0\n",
            "2021-11-28 14:02:38,785 : INFO : created <5391x72 sparse matrix of type '<class 'numpy.float32'>'\n",
            "\twith 41238 stored elements in Compressed Sparse Row format>\n"
          ]
        }
      ]
    },
    {
      "cell_type": "code",
      "metadata": {
        "colab": {
          "base_uri": "https://localhost:8080/"
        },
        "id": "VRSUXNPTewqv",
        "outputId": "4608ba3a-72f9-4ab1-fd91-bc6145891deb"
      },
      "source": [
        "tfidf.save('/content/index/tfidf.model')  # save model\n",
        "index_tfidf.save('/content/index/tfidf.index') #save index"
      ],
      "execution_count": 51,
      "outputs": [
        {
          "output_type": "stream",
          "name": "stderr",
          "text": [
            "2021-11-28 14:02:38,797 : INFO : TfidfModel lifecycle event {'fname_or_handle': '/content/index/tfidf.model', 'separately': 'None', 'sep_limit': 10485760, 'ignore': frozenset(), 'datetime': '2021-11-28T14:02:38.797174', 'gensim': '4.1.2', 'python': '3.7.12 (default, Sep 10 2021, 00:21:48) \\n[GCC 7.5.0]', 'platform': 'Linux-5.4.104+-x86_64-with-Ubuntu-18.04-bionic', 'event': 'saving'}\n",
            "2021-11-28 14:02:38,801 : INFO : saved /content/index/tfidf.model\n",
            "2021-11-28 14:02:38,804 : INFO : SparseMatrixSimilarity lifecycle event {'fname_or_handle': '/content/index/tfidf.index', 'separately': 'None', 'sep_limit': 10485760, 'ignore': frozenset(), 'datetime': '2021-11-28T14:02:38.804621', 'gensim': '4.1.2', 'python': '3.7.12 (default, Sep 10 2021, 00:21:48) \\n[GCC 7.5.0]', 'platform': 'Linux-5.4.104+-x86_64-with-Ubuntu-18.04-bionic', 'event': 'saving'}\n",
            "2021-11-28 14:02:38,808 : INFO : saved /content/index/tfidf.index\n"
          ]
        }
      ]
    },
    {
      "cell_type": "markdown",
      "metadata": {
        "id": "ZLK0coIu9Tv5"
      },
      "source": [
        "## Tests"
      ]
    },
    {
      "cell_type": "code",
      "metadata": {
        "id": "Fzrj1qxwDpJT"
      },
      "source": [
        "def get_sim_scores(tunes, index, model):\n",
        "\n",
        "    df_sim = pd.DataFrame(columns=['reference_title',\n",
        "                                   'reference_titleid',\n",
        "                                   'similar_title',\n",
        "                                   'similar_titleid',\n",
        "                                   'ref_section', \n",
        "                                   'similar_section', \n",
        "                                   'score', \n",
        "                                  ])\n",
        "\n",
        "    for tune in tunes:\n",
        "      print()\n",
        "      print(\"-\"*50)\n",
        "      for s1 in title_to_sectionid[tune]:\n",
        "      \n",
        "          query = processed_corpus[s1]\n",
        "          query_bow = dictionary.doc2bow(query)\n",
        "\n",
        "          # perform a similarity query against the corpus\n",
        "          similarities = index[model[query_bow]]\n",
        "          sims = sorted(enumerate(similarities), key=lambda item: -item[1])\n",
        "          \n",
        "          print(s1, sectionid_to_section[s1])\n",
        "          n = 0\n",
        "          for s2, s2_score in sims:\n",
        "            \n",
        "            # store the top N best results\n",
        "            if n > 30:\n",
        "                break\n",
        "            # don't count self-similarity between sections of the same tune\n",
        "            if s2 not in title_to_sectionid[tune]:\n",
        "                n += 1\n",
        "            \n",
        "                # print(f\"\\t{s2_score:.3f} {sectionid_to_section[s2]}\")\n",
        "\n",
        "                df_sim.loc[len(df_sim)] = [tune,\n",
        "                                           title_to_titleid[tune],\n",
        "                                           sectionid_to_title[s2],\n",
        "                                           sectionid_to_titleid[s2],\n",
        "                                           sectionid_to_section[s1], \n",
        "                                           sectionid_to_section[s2], \n",
        "                                           s2_score, \n",
        "                                           ]\n",
        "    return df_sim"
      ],
      "execution_count": 52,
      "outputs": []
    },
    {
      "cell_type": "code",
      "metadata": {
        "id": "OZ0YfkIO9g5V"
      },
      "source": [
        "def recommend_tune(df, tune_name):\n",
        "\n",
        "  threshold = 0.5 # arbitrary value, selected based on distribution of max scores\n",
        "\n",
        "  df_tune = df.query(f'reference_title == \"{tune_name}\"')\n",
        "  ff = df_tune.iloc[:]\n",
        "\n",
        "  # get the maximum similarity score for each section and store in new column\n",
        "  ff['max'] = ff.groupby('ref_section')['score'].transform('max')\n",
        "\n",
        "  # consider only results for scores above threshold\n",
        "  ff = ff.loc[(ff['max'] > threshold)]\n",
        "\n",
        "  # scale the score with the maxmum value of each section\n",
        "  ff['score_div_max'] = ff['score'] / ff['max']\n",
        "\n",
        "  # for each similar title, aggregate all of its sections using the median value\n",
        "  result = ff.groupby('similar_title').median().sort_values('score_div_max', ascending=False)\n",
        "    \n",
        "  # if multiple rows from the same similar tune, keep only the similar_title with the highest score_div_max\n",
        "  result = result.groupby('similar_title').max('score_div_max').sort_values('score_div_max', ascending=False)\n",
        "\n",
        "  # add the name of the reference tune\n",
        "  result['reference'] = tune_name\n",
        "  result['reference_titleid'] = title_to_titleid[tune_name]\n",
        "\n",
        "  result = result.reset_index()\n",
        "  result = result.loc[:, ['reference', 'reference_titleid', 'similar_title', 'score', 'max', 'score_div_max']]\n",
        "  result['similar_titleid'] = result['similar_title'].apply(lambda x: title_to_titleid[x])\n",
        "  result = result.reset_index()\n",
        "  return result, ff"
      ],
      "execution_count": 53,
      "outputs": []
    },
    {
      "cell_type": "markdown",
      "metadata": {
        "id": "S4RKQCihX02Q"
      },
      "source": [
        "### Single Tunes"
      ]
    },
    {
      "cell_type": "code",
      "metadata": {
        "colab": {
          "base_uri": "https://localhost:8080/"
        },
        "id": "5Wz4ZQk_EKZy",
        "outputId": "0b2bb200-bd86-4394-c768-a69c4078f27e"
      },
      "source": [
        "%%time\n",
        "df_sim = get_sim_scores(tunes_eval_list, index_tfidf, tfidf)\n",
        "\n",
        "# save a copy of the results; all results will be concatenated at the end\n",
        "df_tfidf = df_sim[:]"
      ],
      "execution_count": 54,
      "outputs": [
        {
          "output_type": "stream",
          "name": "stdout",
          "text": [
            "\n",
            "--------------------------------------------------\n",
            "188 All God's Chillun Got Rhythm, section1 (A)\n",
            "189 All God's Chillun Got Rhythm, section2 (B)\n",
            "190 All God's Chillun Got Rhythm, section3 (A)\n",
            "191 All God's Chillun Got Rhythm, section4 (C)\n",
            "\n",
            "--------------------------------------------------\n",
            "198 All Of Me, section1 (A)\n",
            "199 All Of Me, section2 (B)\n",
            "200 All Of Me, section3 (A)\n",
            "201 All Of Me, section4 (C)\n",
            "\n",
            "--------------------------------------------------\n",
            "496 Blue Moon, section1 (A)\n",
            "497 Blue Moon, section2 (A)\n",
            "498 Blue Moon, section3 (B)\n",
            "499 Blue Moon, section4 (A)\n",
            "\n",
            "--------------------------------------------------\n",
            "653 Bye Bye Blackbird, section1 (A)\n",
            "654 Bye Bye Blackbird, section2 (B)\n",
            "\n",
            "--------------------------------------------------\n",
            "1220 Exactly Like You, section1 (A)\n",
            "1221 Exactly Like You, section2 (A)\n",
            "1222 Exactly Like You, section3 (B)\n",
            "1223 Exactly Like You, section4 (A)\n",
            "\n",
            "--------------------------------------------------\n",
            "1538 Honeysuckle Rose, section1 (A)\n",
            "1539 Honeysuckle Rose, section2 (A)\n",
            "1540 Honeysuckle Rose, section3 (B)\n",
            "1541 Honeysuckle Rose, section4 (A)\n",
            "\n",
            "--------------------------------------------------\n",
            "1647 I Got Rhythm, section1 (A)\n",
            "1648 I Got Rhythm, section2 (A)\n",
            "1649 I Got Rhythm, section3 (B)\n",
            "1650 I Got Rhythm, section4 (A)\n",
            "\n",
            "--------------------------------------------------\n",
            "2670 Misty, section1 (A)\n",
            "2671 Misty, section2 (A)\n",
            "2672 Misty, section3 (B)\n",
            "2673 Misty, section4 (A)\n",
            "\n",
            "--------------------------------------------------\n",
            "2857 Naima, section1 (A)\n",
            "2858 Naima, section2 (A)\n",
            "2859 Naima, section3 (B)\n",
            "2860 Naima, section4 (A)\n",
            "\n",
            "--------------------------------------------------\n",
            "5044 Old Fashioned Love, section0 (nan)\n",
            "\n",
            "--------------------------------------------------\n",
            "3006 On The Sunny Side Of The Street, section1 (A)\n",
            "3007 On The Sunny Side Of The Street, section2 (A)\n",
            "3008 On The Sunny Side Of The Street, section3 (B)\n",
            "3009 On The Sunny Side Of The Street, section4 (A)\n",
            "\n",
            "--------------------------------------------------\n",
            "3746 Sweet Sue, Just You, section1 (A)\n",
            "3747 Sweet Sue, Just You, section2 (A)\n",
            "3748 Sweet Sue, Just You, section3 (B)\n",
            "3749 Sweet Sue, Just You, section4 (A)\n",
            "\n",
            "--------------------------------------------------\n",
            "3860 These Foolish Things, section1 (A)\n",
            "3861 These Foolish Things, section2 (A)\n",
            "3862 These Foolish Things, section3 (B)\n",
            "3863 These Foolish Things, section4 (A)\n",
            "CPU times: user 8.54 s, sys: 183 ms, total: 8.72 s\n",
            "Wall time: 8.6 s\n"
          ]
        }
      ]
    },
    {
      "cell_type": "code",
      "metadata": {
        "colab": {
          "base_uri": "https://localhost:8080/",
          "height": 542
        },
        "id": "yzRuIKVh9c8g",
        "outputId": "bf711411-bd2a-4ea7-f9fd-6c6a25fc85e5"
      },
      "source": [
        "import plotly.express as px\n",
        "fig = px.histogram(df_sim, x=\"score\", nbins=50, title='Scores for TF-IDF')\n",
        "fig.show()"
      ],
      "execution_count": 55,
      "outputs": [
        {
          "output_type": "display_data",
          "data": {
            "text/html": [
              "<html>\n",
              "<head><meta charset=\"utf-8\" /></head>\n",
              "<body>\n",
              "    <div>\n",
              "            <script src=\"https://cdnjs.cloudflare.com/ajax/libs/mathjax/2.7.5/MathJax.js?config=TeX-AMS-MML_SVG\"></script><script type=\"text/javascript\">if (window.MathJax) {MathJax.Hub.Config({SVG: {font: \"STIX-Web\"}});}</script>\n",
              "                <script type=\"text/javascript\">window.PlotlyConfig = {MathJaxConfig: 'local'};</script>\n",
              "        <script src=\"https://cdn.plot.ly/plotly-latest.min.js\"></script>    \n",
              "            <div id=\"8701b8c0-3c57-409a-9cd7-77084f51e287\" class=\"plotly-graph-div\" style=\"height:525px; width:100%;\"></div>\n",
              "            <script type=\"text/javascript\">\n",
              "                \n",
              "                    window.PLOTLYENV=window.PLOTLYENV || {};\n",
              "                    \n",
              "                if (document.getElementById(\"8701b8c0-3c57-409a-9cd7-77084f51e287\")) {\n",
              "                    Plotly.newPlot(\n",
              "                        '8701b8c0-3c57-409a-9cd7-77084f51e287',\n",
              "                        [{\"alignmentgroup\": \"True\", \"bingroup\": \"x\", \"hoverlabel\": {\"namelength\": 0}, \"hovertemplate\": \"score=%{x}<br>count=%{y}\", \"legendgroup\": \"\", \"marker\": {\"color\": \"#636efa\"}, \"name\": \"\", \"nbinsx\": 50, \"offsetgroup\": \"\", \"orientation\": \"v\", \"showlegend\": false, \"type\": \"histogram\", \"x\": [0.9397115111351013, 0.9194867610931396, 0.9194867610931396, 0.892963707447052, 0.8918523788452148, 0.8917567729949951, 0.8863569498062134, 0.8863569498062134, 0.8836269378662109, 0.873469889163971, 0.8658664226531982, 0.863305389881134, 0.8624122142791748, 0.8454968333244324, 0.8454968333244324, 0.8427064418792725, 0.8335333466529846, 0.8250203132629395, 0.8226759433746338, 0.8206421136856079, 0.8198801279067993, 0.8148050904273987, 0.8144387006759644, 0.8143880367279053, 0.8139020800590515, 0.8115921020507812, 0.8063544631004333, 0.8053866624832153, 0.8049531579017639, 0.8035845756530762, 0.8021021485328674, 0.9380967617034912, 0.9201012849807739, 0.9108278155326843, 0.9017132520675659, 0.8984218239784241, 0.8892538547515869, 0.8833591938018799, 0.8819999694824219, 0.8748977184295654, 0.873773455619812, 0.8668359518051147, 0.8668359518051147, 0.8659693002700806, 0.8640252351760864, 0.8601872324943542, 0.8546648621559143, 0.8543300628662109, 0.8523354530334473, 0.8409455418586731, 0.8396477699279785, 0.8388117551803589, 0.8376345634460449, 0.8376345634460449, 0.8333179354667664, 0.8320283889770508, 0.8320283889770508, 0.8316603899002075, 0.8315098285675049, 0.8297417163848877, 0.8285934925079346, 0.825969934463501, 0.9397115111351013, 0.9194867610931396, 0.9194867610931396, 0.892963707447052, 0.8918523788452148, 0.8917567729949951, 0.8863569498062134, 0.8863569498062134, 0.8836269378662109, 0.873469889163971, 0.8658664226531982, 0.863305389881134, 0.8624122142791748, 0.8454968333244324, 0.8454968333244324, 0.8427064418792725, 0.8335333466529846, 0.8250203132629395, 0.8226759433746338, 0.8206421136856079, 0.8198801279067993, 0.8148050904273987, 0.8144387006759644, 0.8143880367279053, 0.8139020800590515, 0.8115921020507812, 0.8063544631004333, 0.8053866624832153, 0.8049531579017639, 0.8035845756530762, 0.8021021485328674, 0.9092954993247986, 0.8951758146286011, 0.8917471766471863, 0.8915888071060181, 0.8810214400291443, 0.8793514966964722, 0.8760710954666138, 0.8750938177108765, 0.8741723299026489, 0.8740540742874146, 0.8690007925033569, 0.8610731959342957, 0.8535624742507935, 0.845422625541687, 0.8442277908325195, 0.8442277908325195, 0.8438037633895874, 0.8438037633895874, 0.8424831628799438, 0.841221034526825, 0.8352027535438538, 0.8349018096923828, 0.8266713619232178, 0.8264580965042114, 0.8162604570388794, 0.8153887391090393, 0.8144327998161316, 0.8141549825668335, 0.8111577033996582, 0.8111577033996582, 0.8102318048477173, 0.9245520830154419, 0.9209256172180176, 0.9209256172180176, 0.9174246191978455, 0.8842459917068481, 0.8705299496650696, 0.8699769973754883, 0.8665006160736084, 0.8663963079452515, 0.8644928932189941, 0.8498772382736206, 0.8498772382736206, 0.8334197998046875, 0.8334197998046875, 0.8334197998046875, 0.8334197998046875, 0.8324093818664551, 0.8321807384490967, 0.8175874352455139, 0.799274206161499, 0.799274206161499, 0.799274206161499, 0.7957618832588196, 0.7942184805870056, 0.7938315868377686, 0.792604923248291, 0.7905980348587036, 0.7905980348587036, 0.7887603640556335, 0.7885164618492126, 0.7855602502822876, 0.9904404878616333, 0.9904404878616333, 0.9904404878616333, 0.9727900624275208, 0.9470866322517395, 0.935715913772583, 0.9347223043441772, 0.9347223043441772, 0.9341075420379639, 0.9341075420379639, 0.9324896931648254, 0.9278632998466492, 0.9278632998466492, 0.9274939894676208, 0.9267227053642273, 0.9218592047691345, 0.9183245897293091, 0.9152311682701111, 0.9132879376411438, 0.9110441207885742, 0.9109437465667725, 0.8839449286460876, 0.8726488351821899, 0.8680610060691833, 0.866985559463501, 0.8658866286277771, 0.8651968836784363, 0.8645103573799133, 0.8621498942375183, 0.8560949563980103, 0.853860080242157, 0.9245520830154419, 0.9209256172180176, 0.9209256172180176, 0.9174246191978455, 0.8842459917068481, 0.8705299496650696, 0.8699769973754883, 0.8665006160736084, 0.8663963079452515, 0.8644928932189941, 0.8498772382736206, 0.8498772382736206, 0.8334197998046875, 0.8334197998046875, 0.8334197998046875, 0.8334197998046875, 0.8324093818664551, 0.8321807384490967, 0.8175874352455139, 0.799274206161499, 0.799274206161499, 0.799274206161499, 0.7957618832588196, 0.7942184805870056, 0.7938315868377686, 0.792604923248291, 0.7905980348587036, 0.7905980348587036, 0.7887603640556335, 0.7885164618492126, 0.7855602502822876, 0.949884831905365, 0.9329653978347778, 0.9329653978347778, 0.9198912382125854, 0.8997784852981567, 0.8638937473297119, 0.8620119094848633, 0.86069655418396, 0.8592320680618286, 0.8592320680618286, 0.8582180738449097, 0.8524217009544373, 0.8524217009544373, 0.8512078523635864, 0.8474264144897461, 0.836890459060669, 0.8350417613983154, 0.8280481100082397, 0.8229798078536987, 0.8229163289070129, 0.8206647634506226, 0.8177601099014282, 0.8140424489974976, 0.8132263422012329, 0.8132263422012329, 0.813092827796936, 0.8130879402160645, 0.8112082481384277, 0.8103513717651367, 0.8101230263710022, 0.8079258799552917, 0.8933001756668091, 0.8388532400131226, 0.8309425115585327, 0.8306958675384521, 0.8306958675384521, 0.8018500804901123, 0.7803573608398438, 0.7798985242843628, 0.779406726360321, 0.779406726360321, 0.777599573135376, 0.7741724848747253, 0.7672023177146912, 0.7672023177146912, 0.7641288042068481, 0.7599989175796509, 0.7599989175796509, 0.7595903873443604, 0.7595903873443604, 0.7595138549804688, 0.7583276629447937, 0.754923939704895, 0.754923939704895, 0.754923939704895, 0.7545021772384644, 0.753126323223114, 0.7504846453666687, 0.7424701452255249, 0.7396420240402222, 0.7351247668266296, 0.7351247668266296, 0.8060271739959717, 0.7922964096069336, 0.790303111076355, 0.788456916809082, 0.7877241373062134, 0.7853943705558777, 0.7816245555877686, 0.7740349173545837, 0.764266848564148, 0.7627989649772644, 0.7555851340293884, 0.7555851340293884, 0.7422516345977783, 0.7422516345977783, 0.739075243473053, 0.739075243473053, 0.7362512350082397, 0.7362512350082397, 0.7355872392654419, 0.7342073917388916, 0.7342073917388916, 0.7257616519927979, 0.7240099906921387, 0.7157902717590332, 0.7123734354972839, 0.7116974592208862, 0.7115635871887207, 0.7077223062515259, 0.7076535820960999, 0.7068063616752625, 0.7058719396591187, 0.8240283131599426, 0.78410404920578, 0.7246643304824829, 0.7194687128067017, 0.7167586088180542, 0.7081409096717834, 0.7038677334785461, 0.6999416351318359, 0.6878319978713989, 0.6820310354232788, 0.6568054556846619, 0.6562180519104004, 0.6538599729537964, 0.6538599729537964, 0.6538599729537964, 0.6538202166557312, 0.6517043113708496, 0.6426697373390198, 0.641345739364624, 0.6390509009361267, 0.6301211714744568, 0.6291141510009766, 0.6281273365020752, 0.6264535188674927, 0.6226780414581299, 0.6209642291069031, 0.6185563802719116, 0.6152039766311646, 0.6144315600395203, 0.6130352020263672, 0.6130101084709167, 0.8933001756668091, 0.8388532400131226, 0.8309425115585327, 0.8306958675384521, 0.8306958675384521, 0.8018500804901123, 0.7803573608398438, 0.7798985242843628, 0.779406726360321, 0.779406726360321, 0.777599573135376, 0.7741724848747253, 0.7672023177146912, 0.7672023177146912, 0.7641288042068481, 0.7599989175796509, 0.7599989175796509, 0.7595903873443604, 0.7595903873443604, 0.7595138549804688, 0.7583276629447937, 0.754923939704895, 0.754923939704895, 0.754923939704895, 0.7545021772384644, 0.753126323223114, 0.7504846453666687, 0.7424701452255249, 0.7396420240402222, 0.7351247668266296, 0.7351247668266296, 0.9434819221496582, 0.928325891494751, 0.9075089693069458, 0.9021630883216858, 0.8466262221336365, 0.8431141972541809, 0.8429650068283081, 0.8428629636764526, 0.8427742719650269, 0.8290285468101501, 0.8272480964660645, 0.8261188268661499, 0.8261188268661499, 0.8214958906173706, 0.8147320747375488, 0.811813235282898, 0.8085433840751648, 0.808493435382843, 0.8063919544219971, 0.8063919544219971, 0.8019027709960938, 0.8019027709960938, 0.8011347055435181, 0.7975443005561829, 0.7961540818214417, 0.7936240434646606, 0.7934329509735107, 0.7916268110275269, 0.790030837059021, 0.7890666723251343, 0.7856588959693909, 0.9062701463699341, 0.9062701463699341, 0.8163251876831055, 0.8133508563041687, 0.7995826005935669, 0.7887556552886963, 0.7653709650039673, 0.764266848564148, 0.738884687423706, 0.7361241579055786, 0.7318238615989685, 0.7308263778686523, 0.7307897806167603, 0.7274258136749268, 0.7186199426651001, 0.7186199426651001, 0.7115868926048279, 0.7080963850021362, 0.7013696432113647, 0.7013488411903381, 0.7013488411903381, 0.699652373790741, 0.6991533041000366, 0.6978016495704651, 0.6943079829216003, 0.6922152042388916, 0.6876507997512817, 0.6872959136962891, 0.6872959136962891, 0.687239408493042, 0.685708224773407, 0.9999999403953552, 0.9865593910217285, 0.9865593910217285, 0.9865593910217285, 0.9824913740158081, 0.9824913740158081, 0.9824913740158081, 0.9824913740158081, 0.977997362613678, 0.977997362613678, 0.9756927490234375, 0.9756927490234375, 0.9756927490234375, 0.9688491821289062, 0.9688491821289062, 0.9388790726661682, 0.9324386715888977, 0.9324386715888977, 0.9324386715888977, 0.9272005558013916, 0.9263408780097961, 0.9202980399131775, 0.908778190612793, 0.9045268297195435, 0.9033188223838806, 0.9016116261482239, 0.8936172723770142, 0.8910703063011169, 0.8882864713668823, 0.8787546157836914, 0.8761980533599854, 1.0, 1.0, 0.9938274025917053, 0.9199109673500061, 0.9053522348403931, 0.8911493420600891, 0.8911493420600891, 0.8911493420600891, 0.8911493420600891, 0.889555811882019, 0.889555811882019, 0.8886833190917969, 0.8866472244262695, 0.8866472244262695, 0.8866472244262695, 0.8790228366851807, 0.8755466341972351, 0.8750368356704712, 0.8750368356704712, 0.8750368356704712, 0.8714597821235657, 0.8688483834266663, 0.8661041259765625, 0.8640391826629639, 0.8626843690872192, 0.8515047430992126, 0.8478254675865173, 0.8446239233016968, 0.8374657034873962, 0.8346245884895325, 0.8346245884895325, 0.9046269655227661, 0.8949522376060486, 0.8679291009902954, 0.8639620542526245, 0.86395663022995, 0.86069655418396, 0.8595438003540039, 0.830016016960144, 0.817451000213623, 0.8070329427719116, 0.8022201657295227, 0.8022201657295227, 0.7999622225761414, 0.799036979675293, 0.7973923683166504, 0.7960598468780518, 0.7944180965423584, 0.7933471202850342, 0.7932640314102173, 0.7915853261947632, 0.789992094039917, 0.7889664173126221, 0.7852299213409424, 0.7802151441574097, 0.7769569158554077, 0.7769569158554077, 0.7760765552520752, 0.7760765552520752, 0.7760050296783447, 0.7760050296783447, 0.7706714868545532, 0.9999999403953552, 0.9865593910217285, 0.9865593910217285, 0.9865593910217285, 0.9824913740158081, 0.9824913740158081, 0.9824913740158081, 0.9824913740158081, 0.977997362613678, 0.977997362613678, 0.9756927490234375, 0.9756927490234375, 0.9756927490234375, 0.9688491821289062, 0.9688491821289062, 0.9388790726661682, 0.9324386715888977, 0.9324386715888977, 0.9324386715888977, 0.9272005558013916, 0.9263408780097961, 0.9202980399131775, 0.908778190612793, 0.9045268297195435, 0.9033188223838806, 0.9016116261482239, 0.8936172723770142, 0.8910703063011169, 0.8882864713668823, 0.8787546157836914, 0.8761980533599854, 1.0, 1.0, 0.9468265175819397, 0.8947436809539795, 0.8796350955963135, 0.8687880039215088, 0.8620895743370056, 0.8613554239273071, 0.8588920831680298, 0.8544516563415527, 0.8496817350387573, 0.8496817350387573, 0.8496817350387573, 0.8496817350387573, 0.8482968807220459, 0.8419350385665894, 0.8419350385665894, 0.8397045731544495, 0.8397045731544495, 0.8371249437332153, 0.818954586982727, 0.818954586982727, 0.818654477596283, 0.8155856728553772, 0.8064849376678467, 0.8000234961509705, 0.7943310141563416, 0.7926051020622253, 0.7889665365219116, 0.7889665365219116, 0.7887517809867859, 1.0000001192092896, 0.8965716361999512, 0.865922749042511, 0.8526025414466858, 0.8503074645996094, 0.8375924825668335, 0.8375924825668335, 0.8375924825668335, 0.8374204635620117, 0.8342785835266113, 0.8304515480995178, 0.8304515480995178, 0.8304515480995178, 0.8221418261528015, 0.820572018623352, 0.8064778447151184, 0.794363260269165, 0.7855495810508728, 0.7855495810508728, 0.7855495810508728, 0.7838582992553711, 0.7823235988616943, 0.7823235988616943, 0.7823235988616943, 0.7746706008911133, 0.7746706008911133, 0.769792914390564, 0.769792914390564, 0.7693134546279907, 0.7682977318763733, 0.7680973410606384, 1.0000001192092896, 1.0000001192092896, 1.0000001192092896, 1.0000001192092896, 1.0000001192092896, 1.0000001192092896, 1.0000001192092896, 1.0000001192092896, 1.0000001192092896, 1.0000001192092896, 0.9927563071250916, 0.9452508687973022, 0.9452508687973022, 0.9452508687973022, 0.9452508687973022, 0.9251319169998169, 0.9200519919395447, 0.9200519919395447, 0.9136869311332703, 0.9054660797119141, 0.89763343334198, 0.8828694224357605, 0.8684292435646057, 0.8483601212501526, 0.8438881635665894, 0.8424009680747986, 0.8368710279464722, 0.8324595093727112, 0.8295950889587402, 0.8277209401130676, 0.8276130557060242, 1.0, 1.0, 0.9468265175819397, 0.8947436809539795, 0.8796350955963135, 0.8687880039215088, 0.8620895743370056, 0.8613554239273071, 0.8588920831680298, 0.8544516563415527, 0.8496817350387573, 0.8496817350387573, 0.8496817350387573, 0.8496817350387573, 0.8482968807220459, 0.8419350385665894, 0.8419350385665894, 0.8397045731544495, 0.8397045731544495, 0.8371249437332153, 0.818954586982727, 0.818954586982727, 0.818654477596283, 0.8155856728553772, 0.8064849376678467, 0.8000234961509705, 0.7943310141563416, 0.7926051020622253, 0.7889665365219116, 0.7889665365219116, 0.7887517809867859, 1.0, 0.9987550973892212, 0.9460849761962891, 0.8794457912445068, 0.8794457912445068, 0.8784847259521484, 0.8690253496170044, 0.8690253496170044, 0.867087185382843, 0.8662586212158203, 0.8596116900444031, 0.8596116900444031, 0.8540225028991699, 0.8497336506843567, 0.8497336506843567, 0.8483266830444336, 0.8338732719421387, 0.8336036801338196, 0.8328957557678223, 0.8291103839874268, 0.820695161819458, 0.820695161819458, 0.8134678602218628, 0.8062784075737, 0.7937476634979248, 0.7937476634979248, 0.7937476634979248, 0.7834206819534302, 0.7834206819534302, 0.7834206819534302, 0.7834206819534302, 0.9999999403953552, 0.9987550973892212, 0.944748044013977, 0.8834656476974487, 0.8790454864501953, 0.8790454864501953, 0.8716930747032166, 0.8682700395584106, 0.8682700395584106, 0.8663719892501831, 0.8607791662216187, 0.8607791662216187, 0.8588335514068604, 0.8502942323684692, 0.8452545404434204, 0.8452545404434204, 0.8396735787391663, 0.8351118564605713, 0.8334347009658813, 0.8315479159355164, 0.8227681517601013, 0.8227681517601013, 0.8181366920471191, 0.8102051615715027, 0.7941124439239502, 0.7941124439239502, 0.7941124439239502, 0.7872361540794373, 0.7872361540794373, 0.7872361540794373, 0.7872361540794373, 1.0, 1.0, 1.0, 1.0, 1.0, 1.0, 1.0, 1.0, 1.0, 1.0, 1.0, 1.0, 1.0, 1.0, 1.0, 1.0, 1.0, 1.0, 1.0, 1.0, 1.0, 1.0, 1.0, 0.9900484085083008, 0.9896509647369385, 0.9801968336105347, 0.9528630971908569, 0.9528630971908569, 0.9396994113922119, 0.9396994113922119, 0.9116767644882202, 0.9999999403953552, 0.9460849761962891, 0.944748044013977, 0.8436610102653503, 0.8436610102653503, 0.8433859348297119, 0.8369379043579102, 0.825229287147522, 0.8208569884300232, 0.8162757754325867, 0.8162757754325867, 0.8085585832595825, 0.8054484724998474, 0.7932051420211792, 0.7932051420211792, 0.7926450967788696, 0.7891616821289062, 0.7888342142105103, 0.7888342142105103, 0.7868662476539612, 0.7868215441703796, 0.7862323522567749, 0.7851698994636536, 0.7851698994636536, 0.7834347486495972, 0.7834347486495972, 0.7826142311096191, 0.7826142311096191, 0.7826142311096191, 0.7826142311096191, 0.7826142311096191, 0.9729369878768921, 0.9378409385681152, 0.9367839097976685, 0.930905282497406, 0.9194040298461914, 0.9139200448989868, 0.912841260433197, 0.912841260433197, 0.9076521396636963, 0.8859456777572632, 0.8813002705574036, 0.878834068775177, 0.878834068775177, 0.8779889941215515, 0.8763647079467773, 0.8728282451629639, 0.8700854778289795, 0.8693118691444397, 0.8668837547302246, 0.866553783416748, 0.857420802116394, 0.8569439649581909, 0.8539477586746216, 0.8539477586746216, 0.853687047958374, 0.8535317778587341, 0.8512336015701294, 0.844699501991272, 0.8439221382141113, 0.829987645149231, 0.829125702381134, 0.911231517791748, 0.9062024354934692, 0.9056870341300964, 0.9056870341300964, 0.8903895616531372, 0.8822072744369507, 0.8745130896568298, 0.8582799434661865, 0.8572845458984375, 0.8505495190620422, 0.8505495190620422, 0.8455908298492432, 0.8390945196151733, 0.8380390405654907, 0.830964207649231, 0.8300701975822449, 0.8290912508964539, 0.8287513256072998, 0.8227652907371521, 0.8224103450775146, 0.8194433450698853, 0.8180016875267029, 0.8176114559173584, 0.8159886598587036, 0.8141642808914185, 0.8121335506439209, 0.8121335506439209, 0.8115015625953674, 0.8101100325584412, 0.809411883354187, 0.807533860206604, 0.7814693450927734, 0.7363389730453491, 0.7363389730453491, 0.7363389730453491, 0.7263975739479065, 0.7252312302589417, 0.7178820371627808, 0.7177772521972656, 0.7172784209251404, 0.7121984958648682, 0.7039656639099121, 0.694223165512085, 0.6869242191314697, 0.6674089431762695, 0.6658279895782471, 0.6580877304077148, 0.6545461416244507, 0.6520233154296875, 0.6520233154296875, 0.6508787870407104, 0.6495074033737183, 0.6419552564620972, 0.6393580436706543, 0.6371086239814758, 0.6351751685142517, 0.6351751685142517, 0.6306595802307129, 0.6275777220726013, 0.6275777220726013, 0.6266812086105347, 0.624549925327301, 0.9427706003189087, 0.9062951803207397, 0.9047209024429321, 0.9047209024429321, 0.8993239998817444, 0.8981375098228455, 0.8829247951507568, 0.8659026026725769, 0.8511789441108704, 0.8504128456115723, 0.8497911095619202, 0.8497911095619202, 0.8471345901489258, 0.8471345901489258, 0.8447177410125732, 0.8410201668739319, 0.83957839012146, 0.8385570049285889, 0.8378322124481201, 0.8342377543449402, 0.8338267803192139, 0.8332780599594116, 0.8309563398361206, 0.8306030035018921, 0.82956463098526, 0.82956463098526, 0.8253822326660156, 0.8202883005142212, 0.8202623128890991, 0.8192474842071533, 0.8185029625892639, 0.9097391963005066, 0.8460469245910645, 0.8460469245910645, 0.8460469245910645, 0.802811861038208, 0.8005372285842896, 0.8005372285842896, 0.7937288284301758, 0.7434825897216797, 0.7234790325164795, 0.7182866334915161, 0.7143551111221313, 0.7059990763664246, 0.7023681402206421, 0.7023681402206421, 0.7023681402206421, 0.6977938413619995, 0.6840468645095825, 0.6840468645095825, 0.6840468645095825, 0.6840468645095825, 0.6840468645095825, 0.6840468645095825, 0.6833488941192627, 0.682421088218689, 0.682421088218689, 0.682421088218689, 0.6778498291969299, 0.6778498291969299, 0.6778498291969299, 0.6777706146240234, 0.9097391963005066, 0.8460469245910645, 0.8460469245910645, 0.8460469245910645, 0.802811861038208, 0.8005372285842896, 0.8005372285842896, 0.7937288284301758, 0.7434825897216797, 0.7234790325164795, 0.7182866334915161, 0.7143551111221313, 0.7059990763664246, 0.7023681402206421, 0.7023681402206421, 0.7023681402206421, 0.6977938413619995, 0.6840468645095825, 0.6840468645095825, 0.6840468645095825, 0.6840468645095825, 0.6840468645095825, 0.6840468645095825, 0.6833488941192627, 0.682421088218689, 0.682421088218689, 0.682421088218689, 0.6778498291969299, 0.6778498291969299, 0.6778498291969299, 0.6777706146240234, 0.9493467807769775, 0.9244412779808044, 0.9042685031890869, 0.9035261273384094, 0.896577000617981, 0.8941102623939514, 0.8837569355964661, 0.8783575892448425, 0.8668264746665955, 0.8628257513046265, 0.8594658374786377, 0.8473003506660461, 0.8402186632156372, 0.8380661010742188, 0.8347304463386536, 0.8234688639640808, 0.8110145926475525, 0.8080711364746094, 0.7955562472343445, 0.7902815937995911, 0.7651933431625366, 0.7450246810913086, 0.7424039244651794, 0.734421968460083, 0.7063576579093933, 0.705629825592041, 0.7025793194770813, 0.6987249255180359, 0.6933835744857788, 0.6888644099235535, 0.6811469197273254, 0.9352506995201111, 0.9062347412109375, 0.9062347412109375, 0.9062347412109375, 0.8485581874847412, 0.8131669759750366, 0.7897839546203613, 0.7897839546203613, 0.774122953414917, 0.7654568552970886, 0.7641631364822388, 0.7478988170623779, 0.7422770857810974, 0.7409576773643494, 0.7409576773643494, 0.7409576773643494, 0.738761842250824, 0.738761842250824, 0.738761842250824, 0.738761842250824, 0.738761842250824, 0.738761842250824, 0.7357392311096191, 0.717276930809021, 0.717276930809021, 0.7171168327331543, 0.7171168327331543, 0.7171168327331543, 0.716755747795105, 0.7047099471092224, 0.7047099471092224, 0.9177365303039551, 0.9119845628738403, 0.9096488952636719, 0.9096488952636719, 0.9081484079360962, 0.904251217842102, 0.9018292427062988, 0.9018292427062988, 0.8618725538253784, 0.8584439754486084, 0.8584439754486084, 0.8584439754486084, 0.8582825660705566, 0.8569478988647461, 0.8542189598083496, 0.8541035652160645, 0.8541035652160645, 0.8513533473014832, 0.8485958576202393, 0.8485958576202393, 0.8482905626296997, 0.8478075861930847, 0.8451354503631592, 0.8448294401168823, 0.8437269330024719, 0.8431684374809265, 0.8390293717384338, 0.8390293717384338, 0.8378759622573853, 0.8347932696342468, 0.8284028768539429, 1.0, 0.9063189029693604, 0.9004538059234619, 0.8975833654403687, 0.8922461867332458, 0.8922461867332458, 0.8857542276382446, 0.8573874235153198, 0.8482240438461304, 0.8395683765411377, 0.8363419771194458, 0.8295782804489136, 0.8231533765792847, 0.8187056183815002, 0.8182127475738525, 0.8182127475738525, 0.8176746368408203, 0.8099127411842346, 0.8031706213951111, 0.8031272888183594, 0.8000584840774536, 0.7999523878097534, 0.7990981936454773, 0.7953704595565796, 0.7951415777206421, 0.7942976951599121, 0.7936769127845764, 0.7906172275543213, 0.7904993295669556, 0.786744236946106, 0.7862891554832458, 1.0, 0.9969499707221985, 0.9400930404663086, 0.9379852414131165, 0.9187334775924683, 0.9090282320976257, 0.8975833654403687, 0.8771462440490723, 0.8746594786643982, 0.8679885864257812, 0.8601000308990479, 0.8601000308990479, 0.8541548848152161, 0.8541548848152161, 0.8537819981575012, 0.8510920405387878, 0.8510920405387878, 0.850989818572998, 0.850140392780304, 0.8481940031051636, 0.8479548692703247, 0.8415889739990234, 0.8383780717849731, 0.8378028273582458, 0.8366793990135193, 0.8366793990135193, 0.8366793990135193, 0.8351222276687622, 0.8351222276687622, 0.8351222276687622, 0.8335255980491638, 1.0, 1.0, 0.9881013035774231, 0.9737192392349243, 0.9668134450912476, 0.955929160118103, 0.955929160118103, 0.9486871957778931, 0.9486871957778931, 0.936320424079895, 0.9329264760017395, 0.9312571883201599, 0.9312571883201599, 0.9290380477905273, 0.9262930750846863, 0.9262930750846863, 0.9262930750846863, 0.9226598739624023, 0.9226598739624023, 0.9156743884086609, 0.9153488278388977, 0.9153488278388977, 0.9153488278388977, 0.9151146411895752, 0.9000314474105835, 0.8982498645782471, 0.8953664898872375, 0.8770718574523926, 0.8586084246635437, 0.8556811809539795, 0.8544595241546631, 1.0, 0.9969499707221985, 0.9426369667053223, 0.938210129737854, 0.9192161560058594, 0.9141108989715576, 0.9004538059234619, 0.8891223669052124, 0.8759503960609436, 0.873333215713501, 0.8726014494895935, 0.8623169660568237, 0.8623169660568237, 0.861918032169342, 0.8521343469619751, 0.8521343469619751, 0.849128782749176, 0.8484686613082886, 0.847374677658081, 0.847374677658081, 0.8454249501228333, 0.842006266117096, 0.8411886692047119, 0.8403597474098206, 0.8395597338676453, 0.8395597338676453, 0.8395597338676453, 0.8387207388877869, 0.8379778265953064, 0.8369179964065552, 0.835313618183136, 1.0, 1.0, 1.0, 1.0, 1.0, 1.0, 1.0, 1.0, 1.0, 1.0, 1.0, 1.0, 1.0, 1.0, 1.0, 1.0, 0.9944208860397339, 0.9905295968055725, 0.9905295968055725, 0.9905295968055725, 0.9905295968055725, 0.9905295968055725, 0.9808494448661804, 0.9808494448661804, 0.9808494448661804, 0.9798116683959961, 0.9744719862937927, 0.9744719862937927, 0.9669567346572876, 0.9669567346572876, 0.9545735120773315, 1.0, 1.0, 1.0, 1.0, 1.0, 1.0, 1.0, 1.0, 1.0, 1.0, 1.0, 1.0, 1.0, 1.0, 1.0, 1.0, 0.9944208860397339, 0.9905295968055725, 0.9905295968055725, 0.9905295968055725, 0.9905295968055725, 0.9905295968055725, 0.9808494448661804, 0.9808494448661804, 0.9808494448661804, 0.9798116683959961, 0.9744719862937927, 0.9744719862937927, 0.9669567346572876, 0.9669567346572876, 0.9545735120773315, 0.9398715496063232, 0.8832873106002808, 0.8832873106002808, 0.8765910863876343, 0.8765910863876343, 0.8613219261169434, 0.85297691822052, 0.8174898624420166, 0.8153170347213745, 0.8153170347213745, 0.8150414228439331, 0.8145659565925598, 0.7981322407722473, 0.796714723110199, 0.796714723110199, 0.7949091196060181, 0.7949091196060181, 0.7949091196060181, 0.7949091196060181, 0.789965033531189, 0.7816845774650574, 0.7759459614753723, 0.7740294933319092, 0.7740294933319092, 0.7737823128700256, 0.7737823128700256, 0.7715936899185181, 0.7668019533157349, 0.7651765942573547, 0.7616372108459473, 0.757994532585144, 1.0, 1.0, 1.0, 1.0, 1.0, 1.0, 1.0, 1.0, 1.0, 1.0, 1.0, 1.0, 1.0, 1.0, 1.0, 1.0, 0.9944208860397339, 0.9905295968055725, 0.9905295968055725, 0.9905295968055725, 0.9905295968055725, 0.9905295968055725, 0.9808494448661804, 0.9808494448661804, 0.9808494448661804, 0.9798116683959961, 0.9744719862937927, 0.9744719862937927, 0.9669567346572876, 0.9669567346572876, 0.9545735120773315, 0.9695177674293518, 0.9695177674293518, 0.8968499898910522, 0.8879124522209167, 0.8777036070823669, 0.869175136089325, 0.8608163595199585, 0.8548109531402588, 0.8498772978782654, 0.8450978994369507, 0.8372255563735962, 0.8372255563735962, 0.8274361491203308, 0.8272621035575867, 0.8272621035575867, 0.8248668313026428, 0.824647843837738, 0.824647843837738, 0.8227121233940125, 0.8139113187789917, 0.8139113187789917, 0.812803328037262, 0.8058006763458252, 0.8058006763458252, 0.8054883480072021, 0.8052049279212952, 0.8043004274368286, 0.8029115200042725, 0.8003694415092468, 0.8003694415092468, 0.8003694415092468, 0.9867261648178101, 0.8480928540229797, 0.8342849016189575, 0.8257077932357788, 0.8212882876396179, 0.8086245059967041, 0.798618733882904, 0.7955759763717651, 0.7851859331130981, 0.7785604596138, 0.7779886722564697, 0.776634693145752, 0.7725645303726196, 0.7713494300842285, 0.7709022760391235, 0.7678614854812622, 0.7662478089332581, 0.7602005004882812, 0.7544737458229065, 0.7533233165740967, 0.752949595451355, 0.7451817989349365, 0.7451817989349365, 0.739663302898407, 0.7380138635635376, 0.7329596877098083, 0.7327721118927002, 0.7304404973983765, 0.7293397188186646, 0.7261651754379272, 0.7261400818824768, 0.7964389324188232, 0.7625125646591187, 0.7480269074440002, 0.7442456483840942, 0.7374163866043091, 0.7337620258331299, 0.7055330276489258, 0.687975287437439, 0.687975287437439, 0.6707243323326111, 0.6684048175811768, 0.6684048175811768, 0.6594491004943848, 0.6571454405784607, 0.6276423931121826, 0.6224017143249512, 0.6144704818725586, 0.6094651818275452, 0.6092750430107117, 0.6071212291717529, 0.6071212291717529, 0.6040551662445068, 0.5886058211326599, 0.5878739356994629, 0.5872795581817627, 0.5863760709762573, 0.581099808216095, 0.5750330090522766, 0.5746109485626221, 0.5744403600692749, 0.5723339915275574, 0.9734591841697693, 0.9734591841697693, 0.8995101451873779, 0.8904274702072144, 0.8837052583694458, 0.8661141991615295, 0.8659798502922058, 0.8624164462089539, 0.8540998101234436, 0.8297935128211975, 0.8289399147033691, 0.8289399147033691, 0.8245093822479248, 0.8167781829833984, 0.8159909248352051, 0.8117789030075073, 0.8117789030075073, 0.810989260673523, 0.8050928115844727, 0.8050928115844727, 0.8044023513793945, 0.8034543395042419, 0.8024153709411621, 0.8024153709411621, 0.8023885488510132, 0.8021827340126038, 0.8015308380126953, 0.7979112267494202, 0.7947000861167908, 0.791430652141571, 0.791430652141571], \"xaxis\": \"x\", \"yaxis\": \"y\"}],\n",
              "                        {\"barmode\": \"relative\", \"legend\": {\"tracegroupgap\": 0}, \"template\": {\"data\": {\"bar\": [{\"error_x\": {\"color\": \"#2a3f5f\"}, \"error_y\": {\"color\": \"#2a3f5f\"}, \"marker\": {\"line\": {\"color\": \"#E5ECF6\", \"width\": 0.5}}, \"type\": \"bar\"}], \"barpolar\": [{\"marker\": {\"line\": {\"color\": \"#E5ECF6\", \"width\": 0.5}}, \"type\": \"barpolar\"}], \"carpet\": [{\"aaxis\": {\"endlinecolor\": \"#2a3f5f\", \"gridcolor\": \"white\", \"linecolor\": \"white\", \"minorgridcolor\": \"white\", \"startlinecolor\": \"#2a3f5f\"}, \"baxis\": {\"endlinecolor\": \"#2a3f5f\", \"gridcolor\": \"white\", \"linecolor\": \"white\", \"minorgridcolor\": \"white\", \"startlinecolor\": \"#2a3f5f\"}, \"type\": \"carpet\"}], \"choropleth\": [{\"colorbar\": {\"outlinewidth\": 0, \"ticks\": \"\"}, \"type\": \"choropleth\"}], \"contour\": [{\"colorbar\": {\"outlinewidth\": 0, \"ticks\": \"\"}, \"colorscale\": [[0.0, \"#0d0887\"], [0.1111111111111111, \"#46039f\"], [0.2222222222222222, \"#7201a8\"], [0.3333333333333333, \"#9c179e\"], [0.4444444444444444, \"#bd3786\"], [0.5555555555555556, \"#d8576b\"], [0.6666666666666666, \"#ed7953\"], [0.7777777777777778, \"#fb9f3a\"], [0.8888888888888888, \"#fdca26\"], [1.0, \"#f0f921\"]], \"type\": \"contour\"}], \"contourcarpet\": [{\"colorbar\": {\"outlinewidth\": 0, \"ticks\": \"\"}, \"type\": \"contourcarpet\"}], \"heatmap\": [{\"colorbar\": {\"outlinewidth\": 0, \"ticks\": \"\"}, \"colorscale\": [[0.0, \"#0d0887\"], [0.1111111111111111, \"#46039f\"], [0.2222222222222222, \"#7201a8\"], [0.3333333333333333, \"#9c179e\"], [0.4444444444444444, \"#bd3786\"], [0.5555555555555556, \"#d8576b\"], [0.6666666666666666, \"#ed7953\"], [0.7777777777777778, \"#fb9f3a\"], [0.8888888888888888, \"#fdca26\"], [1.0, \"#f0f921\"]], \"type\": \"heatmap\"}], \"heatmapgl\": [{\"colorbar\": {\"outlinewidth\": 0, \"ticks\": \"\"}, \"colorscale\": [[0.0, \"#0d0887\"], [0.1111111111111111, \"#46039f\"], [0.2222222222222222, \"#7201a8\"], [0.3333333333333333, \"#9c179e\"], [0.4444444444444444, \"#bd3786\"], [0.5555555555555556, \"#d8576b\"], [0.6666666666666666, \"#ed7953\"], [0.7777777777777778, \"#fb9f3a\"], [0.8888888888888888, \"#fdca26\"], [1.0, \"#f0f921\"]], \"type\": \"heatmapgl\"}], \"histogram\": [{\"marker\": {\"colorbar\": {\"outlinewidth\": 0, \"ticks\": \"\"}}, \"type\": \"histogram\"}], \"histogram2d\": [{\"colorbar\": {\"outlinewidth\": 0, \"ticks\": \"\"}, \"colorscale\": [[0.0, \"#0d0887\"], [0.1111111111111111, \"#46039f\"], [0.2222222222222222, \"#7201a8\"], [0.3333333333333333, \"#9c179e\"], [0.4444444444444444, \"#bd3786\"], [0.5555555555555556, \"#d8576b\"], [0.6666666666666666, \"#ed7953\"], [0.7777777777777778, \"#fb9f3a\"], [0.8888888888888888, \"#fdca26\"], [1.0, \"#f0f921\"]], \"type\": \"histogram2d\"}], \"histogram2dcontour\": [{\"colorbar\": {\"outlinewidth\": 0, \"ticks\": \"\"}, \"colorscale\": [[0.0, \"#0d0887\"], [0.1111111111111111, \"#46039f\"], [0.2222222222222222, \"#7201a8\"], [0.3333333333333333, \"#9c179e\"], [0.4444444444444444, \"#bd3786\"], [0.5555555555555556, \"#d8576b\"], [0.6666666666666666, \"#ed7953\"], [0.7777777777777778, \"#fb9f3a\"], [0.8888888888888888, \"#fdca26\"], [1.0, \"#f0f921\"]], \"type\": \"histogram2dcontour\"}], \"mesh3d\": [{\"colorbar\": {\"outlinewidth\": 0, \"ticks\": \"\"}, \"type\": \"mesh3d\"}], \"parcoords\": [{\"line\": {\"colorbar\": {\"outlinewidth\": 0, \"ticks\": \"\"}}, \"type\": \"parcoords\"}], \"pie\": [{\"automargin\": true, \"type\": \"pie\"}], \"scatter\": [{\"marker\": {\"colorbar\": {\"outlinewidth\": 0, \"ticks\": \"\"}}, \"type\": \"scatter\"}], \"scatter3d\": [{\"line\": {\"colorbar\": {\"outlinewidth\": 0, \"ticks\": \"\"}}, \"marker\": {\"colorbar\": {\"outlinewidth\": 0, \"ticks\": \"\"}}, \"type\": \"scatter3d\"}], \"scattercarpet\": [{\"marker\": {\"colorbar\": {\"outlinewidth\": 0, \"ticks\": \"\"}}, \"type\": \"scattercarpet\"}], \"scattergeo\": [{\"marker\": {\"colorbar\": {\"outlinewidth\": 0, \"ticks\": \"\"}}, \"type\": \"scattergeo\"}], \"scattergl\": [{\"marker\": {\"colorbar\": {\"outlinewidth\": 0, \"ticks\": \"\"}}, \"type\": \"scattergl\"}], \"scattermapbox\": [{\"marker\": {\"colorbar\": {\"outlinewidth\": 0, \"ticks\": \"\"}}, \"type\": \"scattermapbox\"}], \"scatterpolar\": [{\"marker\": {\"colorbar\": {\"outlinewidth\": 0, \"ticks\": \"\"}}, \"type\": \"scatterpolar\"}], \"scatterpolargl\": [{\"marker\": {\"colorbar\": {\"outlinewidth\": 0, \"ticks\": \"\"}}, \"type\": \"scatterpolargl\"}], \"scatterternary\": [{\"marker\": {\"colorbar\": {\"outlinewidth\": 0, \"ticks\": \"\"}}, \"type\": \"scatterternary\"}], \"surface\": [{\"colorbar\": {\"outlinewidth\": 0, \"ticks\": \"\"}, \"colorscale\": [[0.0, \"#0d0887\"], [0.1111111111111111, \"#46039f\"], [0.2222222222222222, \"#7201a8\"], [0.3333333333333333, \"#9c179e\"], [0.4444444444444444, \"#bd3786\"], [0.5555555555555556, \"#d8576b\"], [0.6666666666666666, \"#ed7953\"], [0.7777777777777778, \"#fb9f3a\"], [0.8888888888888888, \"#fdca26\"], [1.0, \"#f0f921\"]], \"type\": \"surface\"}], \"table\": [{\"cells\": {\"fill\": {\"color\": \"#EBF0F8\"}, \"line\": {\"color\": \"white\"}}, \"header\": {\"fill\": {\"color\": \"#C8D4E3\"}, \"line\": {\"color\": \"white\"}}, \"type\": \"table\"}]}, \"layout\": {\"annotationdefaults\": {\"arrowcolor\": \"#2a3f5f\", \"arrowhead\": 0, \"arrowwidth\": 1}, \"coloraxis\": {\"colorbar\": {\"outlinewidth\": 0, \"ticks\": \"\"}}, \"colorscale\": {\"diverging\": [[0, \"#8e0152\"], [0.1, \"#c51b7d\"], [0.2, \"#de77ae\"], [0.3, \"#f1b6da\"], [0.4, \"#fde0ef\"], [0.5, \"#f7f7f7\"], [0.6, \"#e6f5d0\"], [0.7, \"#b8e186\"], [0.8, \"#7fbc41\"], [0.9, \"#4d9221\"], [1, \"#276419\"]], \"sequential\": [[0.0, \"#0d0887\"], [0.1111111111111111, \"#46039f\"], [0.2222222222222222, \"#7201a8\"], [0.3333333333333333, \"#9c179e\"], [0.4444444444444444, \"#bd3786\"], [0.5555555555555556, \"#d8576b\"], [0.6666666666666666, \"#ed7953\"], [0.7777777777777778, \"#fb9f3a\"], [0.8888888888888888, \"#fdca26\"], [1.0, \"#f0f921\"]], \"sequentialminus\": [[0.0, \"#0d0887\"], [0.1111111111111111, \"#46039f\"], [0.2222222222222222, \"#7201a8\"], [0.3333333333333333, \"#9c179e\"], [0.4444444444444444, \"#bd3786\"], [0.5555555555555556, \"#d8576b\"], [0.6666666666666666, \"#ed7953\"], [0.7777777777777778, \"#fb9f3a\"], [0.8888888888888888, \"#fdca26\"], [1.0, \"#f0f921\"]]}, \"colorway\": [\"#636efa\", \"#EF553B\", \"#00cc96\", \"#ab63fa\", \"#FFA15A\", \"#19d3f3\", \"#FF6692\", \"#B6E880\", \"#FF97FF\", \"#FECB52\"], \"font\": {\"color\": \"#2a3f5f\"}, \"geo\": {\"bgcolor\": \"white\", \"lakecolor\": \"white\", \"landcolor\": \"#E5ECF6\", \"showlakes\": true, \"showland\": true, \"subunitcolor\": \"white\"}, \"hoverlabel\": {\"align\": \"left\"}, \"hovermode\": \"closest\", \"mapbox\": {\"style\": \"light\"}, \"paper_bgcolor\": \"white\", \"plot_bgcolor\": \"#E5ECF6\", \"polar\": {\"angularaxis\": {\"gridcolor\": \"white\", \"linecolor\": \"white\", \"ticks\": \"\"}, \"bgcolor\": \"#E5ECF6\", \"radialaxis\": {\"gridcolor\": \"white\", \"linecolor\": \"white\", \"ticks\": \"\"}}, \"scene\": {\"xaxis\": {\"backgroundcolor\": \"#E5ECF6\", \"gridcolor\": \"white\", \"gridwidth\": 2, \"linecolor\": \"white\", \"showbackground\": true, \"ticks\": \"\", \"zerolinecolor\": \"white\"}, \"yaxis\": {\"backgroundcolor\": \"#E5ECF6\", \"gridcolor\": \"white\", \"gridwidth\": 2, \"linecolor\": \"white\", \"showbackground\": true, \"ticks\": \"\", \"zerolinecolor\": \"white\"}, \"zaxis\": {\"backgroundcolor\": \"#E5ECF6\", \"gridcolor\": \"white\", \"gridwidth\": 2, \"linecolor\": \"white\", \"showbackground\": true, \"ticks\": \"\", \"zerolinecolor\": \"white\"}}, \"shapedefaults\": {\"line\": {\"color\": \"#2a3f5f\"}}, \"ternary\": {\"aaxis\": {\"gridcolor\": \"white\", \"linecolor\": \"white\", \"ticks\": \"\"}, \"baxis\": {\"gridcolor\": \"white\", \"linecolor\": \"white\", \"ticks\": \"\"}, \"bgcolor\": \"#E5ECF6\", \"caxis\": {\"gridcolor\": \"white\", \"linecolor\": \"white\", \"ticks\": \"\"}}, \"title\": {\"x\": 0.05}, \"xaxis\": {\"automargin\": true, \"gridcolor\": \"white\", \"linecolor\": \"white\", \"ticks\": \"\", \"title\": {\"standoff\": 15}, \"zerolinecolor\": \"white\", \"zerolinewidth\": 2}, \"yaxis\": {\"automargin\": true, \"gridcolor\": \"white\", \"linecolor\": \"white\", \"ticks\": \"\", \"title\": {\"standoff\": 15}, \"zerolinecolor\": \"white\", \"zerolinewidth\": 2}}}, \"title\": {\"text\": \"Scores for TF-IDF\"}, \"xaxis\": {\"anchor\": \"y\", \"domain\": [0.0, 1.0], \"title\": {\"text\": \"score\"}}, \"yaxis\": {\"anchor\": \"x\", \"domain\": [0.0, 1.0], \"title\": {\"text\": \"count\"}}},\n",
              "                        {\"responsive\": true}\n",
              "                    ).then(function(){\n",
              "                            \n",
              "var gd = document.getElementById('8701b8c0-3c57-409a-9cd7-77084f51e287');\n",
              "var x = new MutationObserver(function (mutations, observer) {{\n",
              "        var display = window.getComputedStyle(gd).display;\n",
              "        if (!display || display === 'none') {{\n",
              "            console.log([gd, 'removed!']);\n",
              "            Plotly.purge(gd);\n",
              "            observer.disconnect();\n",
              "        }}\n",
              "}});\n",
              "\n",
              "// Listen for the removal of the full notebook cells\n",
              "var notebookContainer = gd.closest('#notebook-container');\n",
              "if (notebookContainer) {{\n",
              "    x.observe(notebookContainer, {childList: true});\n",
              "}}\n",
              "\n",
              "// Listen for the clearing of the current output cell\n",
              "var outputEl = gd.closest('.output');\n",
              "if (outputEl) {{\n",
              "    x.observe(outputEl, {childList: true});\n",
              "}}\n",
              "\n",
              "                        })\n",
              "                };\n",
              "                \n",
              "            </script>\n",
              "        </div>\n",
              "</body>\n",
              "</html>"
            ]
          },
          "metadata": {}
        }
      ]
    },
    {
      "cell_type": "code",
      "metadata": {
        "id": "QIBvHL1aOnOT"
      },
      "source": [
        "if use_wandb:\n",
        "  wandb.log({\"scores_hist\": fig})"
      ],
      "execution_count": 56,
      "outputs": []
    },
    {
      "cell_type": "code",
      "metadata": {
        "colab": {
          "base_uri": "https://localhost:8080/",
          "height": 1000
        },
        "id": "ohaxVQ6d9iiD",
        "outputId": "c4d05665-422e-4169-f165-bef72542feda"
      },
      "source": [
        "result, details = recommend_tune(df_sim, \"Blue Moon [jazz1350]\")\n",
        "result.head(30)"
      ],
      "execution_count": 57,
      "outputs": [
        {
          "output_type": "execute_result",
          "data": {
            "text/html": [
              "<div>\n",
              "<style scoped>\n",
              "    .dataframe tbody tr th:only-of-type {\n",
              "        vertical-align: middle;\n",
              "    }\n",
              "\n",
              "    .dataframe tbody tr th {\n",
              "        vertical-align: top;\n",
              "    }\n",
              "\n",
              "    .dataframe thead th {\n",
              "        text-align: right;\n",
              "    }\n",
              "</style>\n",
              "<table border=\"1\" class=\"dataframe\">\n",
              "  <thead>\n",
              "    <tr style=\"text-align: right;\">\n",
              "      <th></th>\n",
              "      <th>index</th>\n",
              "      <th>reference</th>\n",
              "      <th>reference_titleid</th>\n",
              "      <th>similar_title</th>\n",
              "      <th>score</th>\n",
              "      <th>max</th>\n",
              "      <th>score_div_max</th>\n",
              "      <th>similar_titleid</th>\n",
              "    </tr>\n",
              "  </thead>\n",
              "  <tbody>\n",
              "    <tr>\n",
              "      <th>0</th>\n",
              "      <td>0</td>\n",
              "      <td>Blue Moon [jazz1350]</td>\n",
              "      <td>159</td>\n",
              "      <td>Home Cookin' [jazz1350]</td>\n",
              "      <td>0.824028</td>\n",
              "      <td>0.824028</td>\n",
              "      <td>1.000000</td>\n",
              "      <td>470</td>\n",
              "    </tr>\n",
              "    <tr>\n",
              "      <th>1</th>\n",
              "      <td>1</td>\n",
              "      <td>Blue Moon [jazz1350]</td>\n",
              "      <td>159</td>\n",
              "      <td>It Could Happen To You [jazz1350]</td>\n",
              "      <td>0.806027</td>\n",
              "      <td>0.806027</td>\n",
              "      <td>1.000000</td>\n",
              "      <td>621</td>\n",
              "    </tr>\n",
              "    <tr>\n",
              "      <th>2</th>\n",
              "      <td>2</td>\n",
              "      <td>Blue Moon [jazz1350]</td>\n",
              "      <td>159</td>\n",
              "      <td>You're Lucky To Me [trad]</td>\n",
              "      <td>0.791300</td>\n",
              "      <td>0.806027</td>\n",
              "      <td>0.981728</td>\n",
              "      <td>1805</td>\n",
              "    </tr>\n",
              "    <tr>\n",
              "      <th>3</th>\n",
              "      <td>3</td>\n",
              "      <td>Blue Moon [jazz1350]</td>\n",
              "      <td>159</td>\n",
              "      <td>Things We Did Last Summer, The [jazz1350]</td>\n",
              "      <td>0.787724</td>\n",
              "      <td>0.806027</td>\n",
              "      <td>0.977292</td>\n",
              "      <td>1175</td>\n",
              "    </tr>\n",
              "    <tr>\n",
              "      <th>4</th>\n",
              "      <td>4</td>\n",
              "      <td>Blue Moon [jazz1350]</td>\n",
              "      <td>159</td>\n",
              "      <td>Teach Me Tonight [jazz1350]</td>\n",
              "      <td>0.785394</td>\n",
              "      <td>0.806027</td>\n",
              "      <td>0.974402</td>\n",
              "      <td>1148</td>\n",
              "    </tr>\n",
              "    <tr>\n",
              "      <th>5</th>\n",
              "      <td>5</td>\n",
              "      <td>Blue Moon [jazz1350]</td>\n",
              "      <td>159</td>\n",
              "      <td>Nice 'n Easy [jazz1350]</td>\n",
              "      <td>0.781625</td>\n",
              "      <td>0.806027</td>\n",
              "      <td>0.969725</td>\n",
              "      <td>871</td>\n",
              "    </tr>\n",
              "    <tr>\n",
              "      <th>6</th>\n",
              "      <td>6</td>\n",
              "      <td>Blue Moon [jazz1350]</td>\n",
              "      <td>159</td>\n",
              "      <td>That Old Feeling [jazz1350]</td>\n",
              "      <td>0.768417</td>\n",
              "      <td>0.806027</td>\n",
              "      <td>0.953339</td>\n",
              "      <td>1156</td>\n",
              "    </tr>\n",
              "    <tr>\n",
              "      <th>7</th>\n",
              "      <td>7</td>\n",
              "      <td>Blue Moon [jazz1350]</td>\n",
              "      <td>159</td>\n",
              "      <td>Bye Bye Blackbird [jazz1350]</td>\n",
              "      <td>0.764267</td>\n",
              "      <td>0.806027</td>\n",
              "      <td>0.948190</td>\n",
              "      <td>206</td>\n",
              "    </tr>\n",
              "    <tr>\n",
              "      <th>8</th>\n",
              "      <td>8</td>\n",
              "      <td>Blue Moon [jazz1350]</td>\n",
              "      <td>159</td>\n",
              "      <td>Don't Be That Way [jazz1350]</td>\n",
              "      <td>0.838853</td>\n",
              "      <td>0.893300</td>\n",
              "      <td>0.939050</td>\n",
              "      <td>318</td>\n",
              "    </tr>\n",
              "    <tr>\n",
              "      <th>9</th>\n",
              "      <td>9</td>\n",
              "      <td>Blue Moon [jazz1350]</td>\n",
              "      <td>159</td>\n",
              "      <td>Sophisticated Lady [jazz1350]</td>\n",
              "      <td>0.755585</td>\n",
              "      <td>0.806027</td>\n",
              "      <td>0.937419</td>\n",
              "      <td>1080</td>\n",
              "    </tr>\n",
              "    <tr>\n",
              "      <th>10</th>\n",
              "      <td>10</td>\n",
              "      <td>Blue Moon [jazz1350]</td>\n",
              "      <td>159</td>\n",
              "      <td>Look For The Silver Lining [jazz1350]</td>\n",
              "      <td>0.830943</td>\n",
              "      <td>0.893300</td>\n",
              "      <td>0.930194</td>\n",
              "      <td>740</td>\n",
              "    </tr>\n",
              "    <tr>\n",
              "      <th>11</th>\n",
              "      <td>11</td>\n",
              "      <td>Blue Moon [jazz1350]</td>\n",
              "      <td>159</td>\n",
              "      <td>Moonlight In Vermont [jazz1350]</td>\n",
              "      <td>0.830696</td>\n",
              "      <td>0.893300</td>\n",
              "      <td>0.929918</td>\n",
              "      <td>823</td>\n",
              "    </tr>\n",
              "    <tr>\n",
              "      <th>12</th>\n",
              "      <td>12</td>\n",
              "      <td>Blue Moon [jazz1350]</td>\n",
              "      <td>159</td>\n",
              "      <td>Touch Of Your Lips, The [jazz1350]</td>\n",
              "      <td>0.742252</td>\n",
              "      <td>0.806027</td>\n",
              "      <td>0.920877</td>\n",
              "      <td>1205</td>\n",
              "    </tr>\n",
              "    <tr>\n",
              "      <th>13</th>\n",
              "      <td>13</td>\n",
              "      <td>Blue Moon [jazz1350]</td>\n",
              "      <td>159</td>\n",
              "      <td>It's You Or No One [jazz1350]</td>\n",
              "      <td>0.749947</td>\n",
              "      <td>0.815028</td>\n",
              "      <td>0.919799</td>\n",
              "      <td>643</td>\n",
              "    </tr>\n",
              "    <tr>\n",
              "      <th>14</th>\n",
              "      <td>14</td>\n",
              "      <td>Blue Moon [jazz1350]</td>\n",
              "      <td>159</td>\n",
              "      <td>Don't Go To Strangers [jazz1350]</td>\n",
              "      <td>0.739075</td>\n",
              "      <td>0.806027</td>\n",
              "      <td>0.916936</td>\n",
              "      <td>323</td>\n",
              "    </tr>\n",
              "    <tr>\n",
              "      <th>15</th>\n",
              "      <td>15</td>\n",
              "      <td>Blue Moon [jazz1350]</td>\n",
              "      <td>159</td>\n",
              "      <td>At Last [jazz1350]</td>\n",
              "      <td>0.817885</td>\n",
              "      <td>0.893300</td>\n",
              "      <td>0.915577</td>\n",
              "      <td>92</td>\n",
              "    </tr>\n",
              "    <tr>\n",
              "      <th>16</th>\n",
              "      <td>16</td>\n",
              "      <td>Blue Moon [jazz1350]</td>\n",
              "      <td>159</td>\n",
              "      <td>All God's Chillun Got Rhythm [jazz1350]</td>\n",
              "      <td>0.736251</td>\n",
              "      <td>0.806027</td>\n",
              "      <td>0.913432</td>\n",
              "      <td>57</td>\n",
              "    </tr>\n",
              "    <tr>\n",
              "      <th>17</th>\n",
              "      <td>17</td>\n",
              "      <td>Blue Moon [jazz1350]</td>\n",
              "      <td>159</td>\n",
              "      <td>Old Folks [jazz1350]</td>\n",
              "      <td>0.734207</td>\n",
              "      <td>0.806027</td>\n",
              "      <td>0.910897</td>\n",
              "      <td>898</td>\n",
              "    </tr>\n",
              "    <tr>\n",
              "      <th>18</th>\n",
              "      <td>18</td>\n",
              "      <td>Blue Moon [jazz1350]</td>\n",
              "      <td>159</td>\n",
              "      <td>Day By Day [jazz1350]</td>\n",
              "      <td>0.725762</td>\n",
              "      <td>0.806027</td>\n",
              "      <td>0.900418</td>\n",
              "      <td>283</td>\n",
              "    </tr>\n",
              "    <tr>\n",
              "      <th>19</th>\n",
              "      <td>19</td>\n",
              "      <td>Blue Moon [jazz1350]</td>\n",
              "      <td>159</td>\n",
              "      <td>Try A Little Tenderness [jazz1350]</td>\n",
              "      <td>0.712373</td>\n",
              "      <td>0.806027</td>\n",
              "      <td>0.883808</td>\n",
              "      <td>1216</td>\n",
              "    </tr>\n",
              "    <tr>\n",
              "      <th>20</th>\n",
              "      <td>20</td>\n",
              "      <td>Blue Moon [jazz1350]</td>\n",
              "      <td>159</td>\n",
              "      <td>It Was So Good While It Lasted [jazz1350]</td>\n",
              "      <td>0.711697</td>\n",
              "      <td>0.806027</td>\n",
              "      <td>0.882970</td>\n",
              "      <td>627</td>\n",
              "    </tr>\n",
              "    <tr>\n",
              "      <th>21</th>\n",
              "      <td>21</td>\n",
              "      <td>Blue Moon [jazz1350]</td>\n",
              "      <td>159</td>\n",
              "      <td>I've Got You Under My Skin [jazz1350]</td>\n",
              "      <td>0.711564</td>\n",
              "      <td>0.806027</td>\n",
              "      <td>0.882803</td>\n",
              "      <td>568</td>\n",
              "    </tr>\n",
              "    <tr>\n",
              "      <th>22</th>\n",
              "      <td>22</td>\n",
              "      <td>Blue Moon [jazz1350]</td>\n",
              "      <td>159</td>\n",
              "      <td>Don't Take Your Love From Me [jazz1350]</td>\n",
              "      <td>0.707722</td>\n",
              "      <td>0.806027</td>\n",
              "      <td>0.878038</td>\n",
              "      <td>326</td>\n",
              "    </tr>\n",
              "    <tr>\n",
              "      <th>23</th>\n",
              "      <td>23</td>\n",
              "      <td>Blue Moon [jazz1350]</td>\n",
              "      <td>159</td>\n",
              "      <td>It's Been A Long Long Time [jazz1350]</td>\n",
              "      <td>0.707654</td>\n",
              "      <td>0.806027</td>\n",
              "      <td>0.877953</td>\n",
              "      <td>635</td>\n",
              "    </tr>\n",
              "    <tr>\n",
              "      <th>24</th>\n",
              "      <td>24</td>\n",
              "      <td>Blue Moon [jazz1350]</td>\n",
              "      <td>159</td>\n",
              "      <td>Tea For Two [jazz1350]</td>\n",
              "      <td>0.705872</td>\n",
              "      <td>0.806027</td>\n",
              "      <td>0.875742</td>\n",
              "      <td>1147</td>\n",
              "    </tr>\n",
              "    <tr>\n",
              "      <th>25</th>\n",
              "      <td>25</td>\n",
              "      <td>Blue Moon [jazz1350]</td>\n",
              "      <td>159</td>\n",
              "      <td>It's Just Talk [jazz1350]</td>\n",
              "      <td>0.780357</td>\n",
              "      <td>0.893300</td>\n",
              "      <td>0.873567</td>\n",
              "      <td>639</td>\n",
              "    </tr>\n",
              "    <tr>\n",
              "      <th>26</th>\n",
              "      <td>26</td>\n",
              "      <td>Blue Moon [jazz1350]</td>\n",
              "      <td>159</td>\n",
              "      <td>Idaho [trad]</td>\n",
              "      <td>0.719469</td>\n",
              "      <td>0.824028</td>\n",
              "      <td>0.873112</td>\n",
              "      <td>1551</td>\n",
              "    </tr>\n",
              "    <tr>\n",
              "      <th>27</th>\n",
              "      <td>27</td>\n",
              "      <td>Blue Moon [jazz1350]</td>\n",
              "      <td>159</td>\n",
              "      <td>Jody Grind, The [jazz1350]</td>\n",
              "      <td>0.779899</td>\n",
              "      <td>0.893300</td>\n",
              "      <td>0.873053</td>\n",
              "      <td>655</td>\n",
              "    </tr>\n",
              "    <tr>\n",
              "      <th>28</th>\n",
              "      <td>28</td>\n",
              "      <td>Blue Moon [jazz1350]</td>\n",
              "      <td>159</td>\n",
              "      <td>Long Ago And Far Away [jazz1350]</td>\n",
              "      <td>0.779407</td>\n",
              "      <td>0.893300</td>\n",
              "      <td>0.872503</td>\n",
              "      <td>738</td>\n",
              "    </tr>\n",
              "    <tr>\n",
              "      <th>29</th>\n",
              "      <td>29</td>\n",
              "      <td>Blue Moon [jazz1350]</td>\n",
              "      <td>159</td>\n",
              "      <td>Can't Help Lovin' Dat Man [jazz1350]</td>\n",
              "      <td>0.777600</td>\n",
              "      <td>0.893300</td>\n",
              "      <td>0.870480</td>\n",
              "      <td>215</td>\n",
              "    </tr>\n",
              "  </tbody>\n",
              "</table>\n",
              "</div>"
            ],
            "text/plain": [
              "    index             reference  reference_titleid                              similar_title     score       max  score_div_max  similar_titleid\n",
              "0       0  Blue Moon [jazz1350]                159                    Home Cookin' [jazz1350]  0.824028  0.824028       1.000000              470\n",
              "1       1  Blue Moon [jazz1350]                159          It Could Happen To You [jazz1350]  0.806027  0.806027       1.000000              621\n",
              "2       2  Blue Moon [jazz1350]                159                  You're Lucky To Me [trad]  0.791300  0.806027       0.981728             1805\n",
              "3       3  Blue Moon [jazz1350]                159  Things We Did Last Summer, The [jazz1350]  0.787724  0.806027       0.977292             1175\n",
              "4       4  Blue Moon [jazz1350]                159                Teach Me Tonight [jazz1350]  0.785394  0.806027       0.974402             1148\n",
              "5       5  Blue Moon [jazz1350]                159                    Nice 'n Easy [jazz1350]  0.781625  0.806027       0.969725              871\n",
              "6       6  Blue Moon [jazz1350]                159                That Old Feeling [jazz1350]  0.768417  0.806027       0.953339             1156\n",
              "7       7  Blue Moon [jazz1350]                159               Bye Bye Blackbird [jazz1350]  0.764267  0.806027       0.948190              206\n",
              "8       8  Blue Moon [jazz1350]                159               Don't Be That Way [jazz1350]  0.838853  0.893300       0.939050              318\n",
              "9       9  Blue Moon [jazz1350]                159              Sophisticated Lady [jazz1350]  0.755585  0.806027       0.937419             1080\n",
              "10     10  Blue Moon [jazz1350]                159      Look For The Silver Lining [jazz1350]  0.830943  0.893300       0.930194              740\n",
              "11     11  Blue Moon [jazz1350]                159            Moonlight In Vermont [jazz1350]  0.830696  0.893300       0.929918              823\n",
              "12     12  Blue Moon [jazz1350]                159         Touch Of Your Lips, The [jazz1350]  0.742252  0.806027       0.920877             1205\n",
              "13     13  Blue Moon [jazz1350]                159              It's You Or No One [jazz1350]  0.749947  0.815028       0.919799              643\n",
              "14     14  Blue Moon [jazz1350]                159           Don't Go To Strangers [jazz1350]  0.739075  0.806027       0.916936              323\n",
              "15     15  Blue Moon [jazz1350]                159                         At Last [jazz1350]  0.817885  0.893300       0.915577               92\n",
              "16     16  Blue Moon [jazz1350]                159    All God's Chillun Got Rhythm [jazz1350]  0.736251  0.806027       0.913432               57\n",
              "17     17  Blue Moon [jazz1350]                159                       Old Folks [jazz1350]  0.734207  0.806027       0.910897              898\n",
              "18     18  Blue Moon [jazz1350]                159                      Day By Day [jazz1350]  0.725762  0.806027       0.900418              283\n",
              "19     19  Blue Moon [jazz1350]                159         Try A Little Tenderness [jazz1350]  0.712373  0.806027       0.883808             1216\n",
              "20     20  Blue Moon [jazz1350]                159  It Was So Good While It Lasted [jazz1350]  0.711697  0.806027       0.882970              627\n",
              "21     21  Blue Moon [jazz1350]                159      I've Got You Under My Skin [jazz1350]  0.711564  0.806027       0.882803              568\n",
              "22     22  Blue Moon [jazz1350]                159    Don't Take Your Love From Me [jazz1350]  0.707722  0.806027       0.878038              326\n",
              "23     23  Blue Moon [jazz1350]                159      It's Been A Long Long Time [jazz1350]  0.707654  0.806027       0.877953              635\n",
              "24     24  Blue Moon [jazz1350]                159                     Tea For Two [jazz1350]  0.705872  0.806027       0.875742             1147\n",
              "25     25  Blue Moon [jazz1350]                159                  It's Just Talk [jazz1350]  0.780357  0.893300       0.873567              639\n",
              "26     26  Blue Moon [jazz1350]                159                               Idaho [trad]  0.719469  0.824028       0.873112             1551\n",
              "27     27  Blue Moon [jazz1350]                159                 Jody Grind, The [jazz1350]  0.779899  0.893300       0.873053              655\n",
              "28     28  Blue Moon [jazz1350]                159           Long Ago And Far Away [jazz1350]  0.779407  0.893300       0.872503              738\n",
              "29     29  Blue Moon [jazz1350]                159       Can't Help Lovin' Dat Man [jazz1350]  0.777600  0.893300       0.870480              215"
            ]
          },
          "metadata": {},
          "execution_count": 57
        }
      ]
    },
    {
      "cell_type": "markdown",
      "metadata": {
        "id": "UveSDI6QWALe"
      },
      "source": [
        "Copy results into a dataframe for later logging to W&B"
      ]
    },
    {
      "cell_type": "code",
      "metadata": {
        "id": "AEEqdXBiT5bl"
      },
      "source": [
        "dd = pd.DataFrame(columns = recommender_results_cols)\n",
        "\n",
        "for tune in tunes_eval_list:\n",
        "  result, details = recommend_tune(df_sim, tune)\n",
        "  dd['id'] = result['index']\n",
        "  dd['method'] = 'tfidf'\n",
        "  dd['reference'] = tune\n",
        "  dd['similar'] = result['similar_title']\n",
        "  dd['score_div_max'] = result['score_div_max']\n",
        "  dd['score'] = result['score']\n",
        "\n",
        "recommender_results = recommender_results.append(dd)"
      ],
      "execution_count": 58,
      "outputs": []
    },
    {
      "cell_type": "markdown",
      "metadata": {
        "id": "wqaUEFqxXZYB"
      },
      "source": [
        "### Test Contrafacts"
      ]
    },
    {
      "cell_type": "markdown",
      "metadata": {
        "id": "563ncYqAfIyN"
      },
      "source": [
        "With the model, query the top N highest matches for each section. For a tune, if at least one section receives the recommendation  for the expected title, increase the match counter."
      ]
    },
    {
      "cell_type": "code",
      "metadata": {
        "id": "RVPtraR-hg0G"
      },
      "source": [
        "def test_contrafacts(tunes, index, model, N=15):\n",
        "  matches = 0\n",
        "  number_of_sections = 0\n",
        "  results = {}\n",
        "\n",
        "  for tune, similar_tune in tunes:\n",
        "\n",
        "    # loop over all sections of the tune\n",
        "    section_matches = 0\n",
        "    for s1 in title_to_sectionid[tune]:\n",
        "      query = processed_corpus[s1]\n",
        "      query_bow = dictionary.doc2bow(query)\n",
        "\n",
        "      # perform a similarity query against the corpus\n",
        "      similarities = index[model[query_bow]]\n",
        "      sims = sorted(enumerate(similarities), key=lambda item: -item[1])\n",
        "\n",
        "      # check if the section matches the expected title; consider only the first 15 recommendations\n",
        "      i = 0\n",
        "      for sectionid, value in sims:\n",
        "        if i >= N:\n",
        "          break\n",
        "        i += 1\n",
        "        if sectionid_to_title[sectionid] == similar_tune:\n",
        "          section_matches += 1\n",
        "\n",
        "    # for each title, increase matches if at least one of the section matched the expected title\n",
        "    if section_matches > 0:\n",
        "      matches += 1  \n",
        "      results[f'{tune}, {similar_tune}'] = 1\n",
        "    else:\n",
        "      results[f'{tune}, {similar_tune}'] = 0\n",
        "  \n",
        "  return matches, results\n"
      ],
      "execution_count": 59,
      "outputs": []
    },
    {
      "cell_type": "code",
      "metadata": {
        "colab": {
          "base_uri": "https://localhost:8080/"
        },
        "id": "Q628rO5DhxWD",
        "outputId": "e5216849-6771-4a22-ccea-f54a08e3d095"
      },
      "source": [
        "topN = 15\n",
        "matches, results = test_contrafacts(contrafacts, index_tfidf, tfidf, topN)\n",
        "\n",
        "print(f\"Found matches: {matches} out of {len(results)}: {100*matches/len(results):.3f}%\")\n",
        "print() \n",
        "for rr, val in results.items():\n",
        "  if val == 0:\n",
        "    print(f\"{val}: {rr}\")"
      ],
      "execution_count": 60,
      "outputs": [
        {
          "output_type": "stream",
          "name": "stdout",
          "text": [
            "Found matches: 85 out of 111: 76.577%\n",
            "\n",
            "0: 26-2 [jazz1350], Confirmation [jazz1350]\n",
            "0: 52nd Street Theme [jazz1350], I Got Rhythm [jazz1350]\n",
            "0: Ballade [jazz1350], As Long As I Live [jazz1350]\n",
            "0: Dewey Square [jazz1350], Oh, Lady Be Good [jazz1350]\n",
            "0: Don't Be That Way [jazz1350], I Got Rhythm [jazz1350]\n",
            "0: Four On Six [jazz1350], Summertime [jazz1350]\n",
            "0: Good Bait [jazz1350], I Got Rhythm [jazz1350]\n",
            "0: In A Mellow Tone (In A Mellotone) [jazz1350], Rose Room [jazz1350]\n",
            "0: Lennie's Pennies [jazz1350], Pennies From Heaven [jazz1350]\n",
            "0: Little Rootie Tootie [jazz1350], I Got Rhythm [jazz1350]\n",
            "0: Little Willie Leaps [jazz1350], All God's Chillun Got Rhythm [jazz1350]\n",
            "0: Lullaby Of Birdland [jazz1350], Love Me Or Leave Me [jazz1350]\n",
            "0: My Little Suede Shoes [jazz1350], Jeepers Creepers [jazz1350]\n",
            "0: Quasimodo (Theme) [jazz1350], Embraceable You [jazz1350]\n",
            "0: Room 608 [jazz1350], I Got Rhythm [jazz1350]\n",
            "0: Scrapple From The Apple [jazz1350], Honeysuckle Rose [jazz1350]\n",
            "0: Sweet Sue, Just You [jazz1350], Honeysuckle Rose [jazz1350]\n",
            "0: Sweet Sue, Just You [jazz1350], Bye Bye Blackbird [jazz1350]\n",
            "0: These Foolish Things [jazz1350], Blue Moon [jazz1350]\n",
            "0: These Foolish Things [jazz1350], Soultrain [jazz1350]\n",
            "0: These Foolish Things [jazz1350], Why Do I Love You [jazz1350]\n",
            "0: Misty [jazz1350], September In The Rain [jazz1350]\n",
            "0: Exactly Like You [jazz1350], Jersey Bounce [trad]\n",
            "0: Take The A Train [jazz1350], Girl From Ipanema, The [jazz1350]\n",
            "0: On The Sunny Side Of The Street [jazz1350], You Stepped Out Of A Dream [jazz1350]\n",
            "0: My Secret Love [jazz1350], Samba De Orfeu [jazz1350]\n",
            "0: On The Sunny Side Of The Street [jazz1350], Mountain Greenery [jazz1350]\n",
            "0: These Foolish Things [jazz1350], Embraceable You [jazz1350]\n"
          ]
        }
      ]
    },
    {
      "cell_type": "code",
      "metadata": {
        "id": "8lKZukYybvMJ"
      },
      "source": [
        "model_name = 'tfidf'\n",
        "if use_wandb:\n",
        "  wandb.log(\n",
        "      {model_name: {\n",
        "                'contrafacts': {\n",
        "                    'topN': topN,\n",
        "                    'success': matches/len(contrafacts),\n",
        "                    #'results': results\n",
        "                    }\n",
        "                   },\n",
        "       'all_models': {\n",
        "           model_name: wandb.Table(\n",
        "               columns=[\"Title\", \"Match\"],\n",
        "               data=[[key, value] for key, value in results.items()]),\n",
        "       }\n",
        "       })"
      ],
      "execution_count": 61,
      "outputs": []
    },
    {
      "cell_type": "markdown",
      "metadata": {
        "id": "Phw7fBDk0px7"
      },
      "source": [
        "## Store TF-IDF Model to W&B"
      ]
    },
    {
      "cell_type": "code",
      "metadata": {
        "id": "KdYWJX-60pdd"
      },
      "source": [
        "if use_wandb:\n",
        "  model_artifact = wandb.Artifact(\n",
        "      \"model_tfidf\", \n",
        "      type=\"model\",\n",
        "      description=\"TF-IDF Model\",\n",
        "      metadata=\"\")\n",
        "\n",
        "  model_artifact.add_file(\"/content/index/tfidf.model\")\n",
        "  model_artifact.add_file(\"/content/index/tfidf.index\")\n",
        "  wandb.log_artifact(model_artifact)"
      ],
      "execution_count": 62,
      "outputs": []
    },
    {
      "cell_type": "markdown",
      "metadata": {
        "id": "Pj0mpWpahPu1"
      },
      "source": [
        "## Get Recommender Data for WebApp\n",
        "\n"
      ]
    },
    {
      "cell_type": "code",
      "metadata": {
        "id": "buRbSTWehvPP"
      },
      "source": [
        "tune_test = [\"These Foolish Things [jazz1350]\",\n",
        "             \"Misty [jazz1350]\"]"
      ],
      "execution_count": 63,
      "outputs": []
    },
    {
      "cell_type": "code",
      "metadata": {
        "colab": {
          "base_uri": "https://localhost:8080/"
        },
        "id": "kwdXs-pZjKKD",
        "outputId": "c0042e09-3571-4c55-db78-894b6a1914ae"
      },
      "source": [
        "%%time\n",
        "if generate_webapp_data:\n",
        "  _tunes = list(tunes['title_playlist'].values())\n",
        "  #_tunes = tunes_eval_list\n",
        "\n",
        "  method = 'tfidf'\n",
        "\n",
        "  df_sim = get_sim_scores(_tunes, index_tfidf, tfidf)\n",
        "\n",
        "  result = None\n",
        "  for tune in _tunes:\n",
        "    tune_result, details = recommend_tune(df_sim, tune)\n",
        "    if result is None:\n",
        "      result = pd.DataFrame(columns=tune_result.columns)\n",
        "    result = result.append(tune_result)\n",
        "\n",
        "  # save to file\n",
        "  (result\n",
        "   .loc[:,['reference_titleid',\n",
        "           'similar_titleid',\n",
        "           'score']]\n",
        "   .to_csv(f'output/recommender_{method}.csv', encoding='utf8')\n",
        "  )\n",
        "  with zipfile.ZipFile(f'output/recommender_{method}.zip', 'w') as zf:\n",
        "    zf.write(f'output/recommender_{method}.csv')\n",
        "\n",
        "\n",
        "  # save to wandb\n",
        "  if use_wandb:\n",
        "    model_artifact = wandb.Artifact(\n",
        "        f\"recommender_{method}\", \n",
        "        type=\"csv\",\n",
        "        description=f\"Recommendations for each Tune using {method} Model (csv file)\",\n",
        "        metadata=\"\")\n",
        "\n",
        "    model_artifact.add_file(f'output/recommender_{method}.zip')\n",
        "    wandb.log_artifact(model_artifact)"
      ],
      "execution_count": null,
      "outputs": [
        {
          "output_type": "stream",
          "name": "stdout",
          "text": [
            "\n",
            "--------------------------------------------------\n",
            "0 26-2, section1 (A)\n",
            "1 26-2, section2 (A)\n",
            "2 26-2, section3 (B)\n",
            "3 26-2, section4 (A)\n",
            "\n",
            "--------------------------------------------------\n",
            "4 500 Miles High, section0 (nan)\n",
            "\n",
            "--------------------------------------------------\n",
            "5 502 Blues, section0 (nan)\n",
            "\n",
            "--------------------------------------------------\n",
            "6 52nd Street Theme, section1 (A)\n",
            "7 52nd Street Theme, section2 (A)\n",
            "8 52nd Street Theme, section3 (B)\n",
            "9 52nd Street Theme, section4 (A)\n",
            "\n",
            "--------------------------------------------------\n",
            "10 9.20 Special, section1 (A)\n",
            "11 9.20 Special, section2 (A)\n",
            "12 9.20 Special, section3 (B)\n",
            "13 9.20 Special, section4 (A)\n",
            "\n",
            "--------------------------------------------------\n",
            "14 A Ballad, section1 (A)\n",
            "15 A Ballad, section2 (A)\n",
            "16 A Ballad, section3 (B)\n",
            "17 A Ballad, section4 (A)\n",
            "\n",
            "--------------------------------------------------\n",
            "18 A Beautiful Friendship, section1 (A)\n",
            "19 A Beautiful Friendship, section2 (A)\n",
            "20 A Beautiful Friendship, section3 (B)\n",
            "21 A Beautiful Friendship, section4 (A)\n",
            "\n",
            "--------------------------------------------------\n",
            "22 A Blossom Fell, section1 (A)\n",
            "23 A Blossom Fell, section2 (B)\n",
            "\n",
            "--------------------------------------------------\n",
            "24 A Certain Smile, section1 (A)\n",
            "25 A Certain Smile, section2 (B)\n",
            "26 A Certain Smile, section3 (A)\n",
            "27 A Certain Smile, section4 (C)\n",
            "\n",
            "--------------------------------------------------\n",
            "28 A Child Is Born, section1 (A)\n",
            "29 A Child Is Born, section2 (B)\n",
            "\n",
            "--------------------------------------------------\n",
            "30 A Felicidade, section1 (A)\n",
            "31 A Felicidade, section2 (A)\n",
            "32 A Felicidade, section3 (B)\n",
            "33 A Felicidade, section4 (C)\n",
            "34 A Felicidade, section5 (D)\n",
            "\n",
            "--------------------------------------------------\n",
            "35 A Fine Romance, section1 (A)\n",
            "36 A Fine Romance, section2 (B)\n",
            "37 A Fine Romance, section3 (A)\n",
            "38 A Fine Romance, section4 (C)\n",
            "\n",
            "--------------------------------------------------\n",
            "39 A Flower Is A Lovesome Thing, section1 (A)\n",
            "40 A Flower Is A Lovesome Thing, section2 (A)\n",
            "41 A Flower Is A Lovesome Thing, section3 (B)\n",
            "42 A Flower Is A Lovesome Thing, section4 (A)\n",
            "\n",
            "--------------------------------------------------\n",
            "43 A Foggy Day, section1 (A)\n",
            "44 A Foggy Day, section2 (B)\n",
            "45 A Foggy Day, section3 (A)\n",
            "46 A Foggy Day, section4 (C)\n",
            "\n",
            "--------------------------------------------------\n",
            "47 A Ghost Of A Chance, section1 (A)\n",
            "48 A Ghost Of A Chance, section2 (A)\n",
            "49 A Ghost Of A Chance, section3 (B)\n",
            "50 A Ghost Of A Chance, section4 (A)\n",
            "\n",
            "--------------------------------------------------\n",
            "51 A Kiss To Build A Dream On, section1 (A)\n",
            "52 A Kiss To Build A Dream On, section2 (A)\n",
            "53 A Kiss To Build A Dream On, section3 (B)\n",
            "54 A Kiss To Build A Dream On, section4 (A)\n",
            "\n",
            "--------------------------------------------------\n",
            "55 A Little Tear, section1 (A)\n",
            "56 A Little Tear, section2 (B)\n",
            "\n",
            "--------------------------------------------------\n",
            "57 A Lovely Way To Spend An Evening, section1 (A)\n",
            "58 A Lovely Way To Spend An Evening, section2 (A)\n",
            "59 A Lovely Way To Spend An Evening, section3 (B)\n",
            "60 A Lovely Way To Spend An Evening, section4 (A)\n",
            "\n",
            "--------------------------------------------------\n",
            "61 A Night In Tunisia, section1 (A)\n",
            "62 A Night In Tunisia, section2 (A)\n",
            "63 A Night In Tunisia, section3 (B)\n",
            "64 A Night In Tunisia, section4 (A)\n",
            "\n",
            "--------------------------------------------------\n",
            "65 A Nightingale Sang In Berkeley Square, section1 (A)\n",
            "66 A Nightingale Sang In Berkeley Square, section2 (A)\n",
            "67 A Nightingale Sang In Berkeley Square, section3 (B)\n",
            "68 A Nightingale Sang In Berkeley Square, section4 (A)\n",
            "\n",
            "--------------------------------------------------\n",
            "69 A Pretty Girl Is Like A Melody, section1 (A)\n",
            "70 A Pretty Girl Is Like A Melody, section2 (B)\n",
            "\n",
            "--------------------------------------------------\n",
            "71 A Sleepin' Bee, section1 (A)\n",
            "72 A Sleepin' Bee, section2 (B)\n",
            "73 A Sleepin' Bee, section3 (A)\n",
            "74 A Sleepin' Bee, section4 (C)\n",
            "\n",
            "--------------------------------------------------\n",
            "75 A Smooth One, section1 (A)\n",
            "76 A Smooth One, section2 (A)\n",
            "77 A Smooth One, section3 (B)\n",
            "78 A Smooth One, section4 (A)\n",
            "\n",
            "--------------------------------------------------\n",
            "79 A Sound For Sore Ears, section1 (A)\n",
            "80 A Sound For Sore Ears, section2 (B)\n",
            "81 A Sound For Sore Ears, section3 (C)\n",
            "\n",
            "--------------------------------------------------\n",
            "82 A Sunday Kind Of Love, section1 (A)\n",
            "83 A Sunday Kind Of Love, section2 (A)\n",
            "84 A Sunday Kind Of Love, section3 (B)\n",
            "85 A Sunday Kind Of Love, section4 (A)\n",
            "\n",
            "--------------------------------------------------\n",
            "86 A Taste Of Honey, section1 (A)\n",
            "87 A Taste Of Honey, section2 (B)\n",
            "\n",
            "--------------------------------------------------\n",
            "88 A Time For Love, section1 (A)\n",
            "89 A Time For Love, section2 (B)\n",
            "90 A Time For Love, section3 (C)\n",
            "91 A Time For Love, section4 (D)\n",
            "\n",
            "--------------------------------------------------\n",
            "92 A Tisket A Tasket, section1 (A)\n",
            "93 A Tisket A Tasket, section2 (A)\n",
            "94 A Tisket A Tasket, section3 (B)\n",
            "95 A Tisket A Tasket, section4 (A)\n",
            "\n",
            "--------------------------------------------------\n",
            "96 A Weaver Of Dreams, section1 (A)\n",
            "97 A Weaver Of Dreams, section2 (B)\n",
            "98 A Weaver Of Dreams, section3 (A)\n",
            "99 A Weaver Of Dreams, section4 (C)\n",
            "\n",
            "--------------------------------------------------\n",
            "100 A Wonderful Day Like Today, section1 (A)\n",
            "101 A Wonderful Day Like Today, section2 (A)\n",
            "102 A Wonderful Day Like Today, section3 (B)\n",
            "103 A Wonderful Day Like Today, section4 (A)\n",
            "\n",
            "--------------------------------------------------\n",
            "104 Ablution, section1 (A)\n",
            "105 Ablution, section2 (B)\n",
            "106 Ablution, section3 (C)\n",
            "107 Ablution, section4 (D)\n",
            "\n",
            "--------------------------------------------------\n",
            "108 Ac-Cent-Tchu-Ate The Positive, section1 (A)\n",
            "109 Ac-Cent-Tchu-Ate The Positive, section2 (A)\n",
            "110 Ac-Cent-Tchu-Ate The Positive, section3 (B)\n",
            "111 Ac-Cent-Tchu-Ate The Positive, section4 (A)\n",
            "\n",
            "--------------------------------------------------\n",
            "112 Across The Alley From The Alamo, section1 (A)\n",
            "113 Across The Alley From The Alamo, section2 (A)\n",
            "114 Across The Alley From The Alamo, section3 (B)\n",
            "115 Across The Alley From The Alamo, section4 (A)\n",
            "\n",
            "--------------------------------------------------\n",
            "116 Adam's Apple, section0 (nan)\n",
            "\n",
            "--------------------------------------------------\n",
            "117 Affirmation, section1 (A)\n",
            "118 Affirmation, section2 (A)\n",
            "119 Affirmation, section3 (B)\n",
            "\n",
            "--------------------------------------------------\n",
            "120 African Queen, The, section1 (A)\n",
            "121 African Queen, The, section2 (A)\n",
            "122 African Queen, The, section3 (B)\n",
            "\n",
            "--------------------------------------------------\n",
            "123 Afro Blue, section0 (nan)\n",
            "\n",
            "--------------------------------------------------\n",
            "124 Afro Centric, section0 (nan)\n",
            "\n",
            "--------------------------------------------------\n",
            "125 After You've Gone, section1 (A)\n",
            "126 After You've Gone, section2 (B)\n",
            "127 After You've Gone, section3 (A)\n",
            "128 After You've Gone, section4 (C)\n",
            "\n",
            "--------------------------------------------------\n",
            "129 After You, section1 (A)\n",
            "130 After You, section2 (B)\n",
            "131 After You, section3 (C)\n",
            "\n",
            "--------------------------------------------------\n",
            "132 Afternoon In Paris, section1 (A)\n",
            "133 Afternoon In Paris, section2 (A)\n",
            "134 Afternoon In Paris, section3 (B)\n",
            "135 Afternoon In Paris, section4 (A)\n",
            "\n",
            "--------------------------------------------------\n",
            "136 Again, section1 (A)\n",
            "137 Again, section2 (A)\n",
            "138 Again, section3 (B)\n",
            "139 Again, section4 (C)\n",
            "\n",
            "--------------------------------------------------\n",
            "140 Agua De Beber, section1 (intro)\n",
            "141 Agua De Beber, section2 (intro)\n",
            "142 Agua De Beber, section3 (A)\n",
            "143 Agua De Beber, section4 (B)\n",
            "144 Agua De Beber, section5 (C)\n",
            "\n",
            "--------------------------------------------------\n",
            "145 Ahmid-6, section1 (A)\n",
            "146 Ahmid-6, section2 (B)\n",
            "\n",
            "--------------------------------------------------\n",
            "147 Ain't Misbehavin', section1 (A)\n",
            "148 Ain't Misbehavin', section2 (A)\n",
            "149 Ain't Misbehavin', section3 (B)\n",
            "150 Ain't Misbehavin', section4 (A)\n",
            "\n",
            "--------------------------------------------------\n",
            "151 Ain't She Sweet, section1 (A)\n",
            "152 Ain't She Sweet, section2 (A)\n",
            "153 Ain't She Sweet, section3 (B)\n",
            "154 Ain't She Sweet, section4 (A)\n",
            "\n",
            "--------------------------------------------------\n",
            "155 Airegin, section1 (A)\n",
            "156 Airegin, section2 (B)\n",
            "157 Airegin, section3 (A)\n",
            "158 Airegin, section4 (C)\n",
            "\n",
            "--------------------------------------------------\n",
            "159 Airmail Special, section1 (intro)\n",
            "160 Airmail Special, section2 (A)\n",
            "161 Airmail Special, section3 (A)\n",
            "162 Airmail Special, section4 (B)\n",
            "\n",
            "--------------------------------------------------\n",
            "163 Aisha, section1 (A)\n",
            "164 Aisha, section2 (A)\n",
            "165 Aisha, section3 (B)\n",
            "166 Aisha, section4 (A)\n",
            "\n",
            "--------------------------------------------------\n",
            "167 Alexander's Ragtime Band, section1 (A)\n",
            "168 Alexander's Ragtime Band, section2 (B)\n",
            "\n",
            "--------------------------------------------------\n",
            "169 Alfie's Theme, section1 (A)\n",
            "170 Alfie's Theme, section2 (A)\n",
            "171 Alfie's Theme, section3 (B)\n",
            "172 Alfie's Theme, section4 (A)\n",
            "\n",
            "--------------------------------------------------\n",
            "173 Alfie, section1 (A)\n",
            "174 Alfie, section2 (A)\n",
            "175 Alfie, section3 (B)\n",
            "176 Alfie, section4 (A)\n",
            "\n",
            "--------------------------------------------------\n",
            "177 Alice In Wonderland, section1 (A)\n",
            "178 Alice In Wonderland, section2 (A)\n",
            "179 Alice In Wonderland, section3 (B)\n",
            "\n",
            "--------------------------------------------------\n",
            "180 All About Ronnie, section1 (A)\n",
            "181 All About Ronnie, section2 (B)\n",
            "\n",
            "--------------------------------------------------\n",
            "182 All Alone, section0 (nan)\n",
            "\n",
            "--------------------------------------------------\n",
            "183 All Blues, section0 (nan)\n",
            "\n",
            "--------------------------------------------------\n",
            "184 All By Myself, section1 (A)\n",
            "185 All By Myself, section2 (B)\n",
            "186 All By Myself, section3 (A)\n",
            "187 All By Myself, section4 (C)\n",
            "\n",
            "--------------------------------------------------\n",
            "188 All God's Chillun Got Rhythm, section1 (A)\n",
            "189 All God's Chillun Got Rhythm, section2 (B)\n",
            "190 All God's Chillun Got Rhythm, section3 (A)\n",
            "191 All God's Chillun Got Rhythm, section4 (C)\n",
            "\n",
            "--------------------------------------------------\n",
            "192 All My Tomorrows, section1 (A)\n",
            "193 All My Tomorrows, section2 (A)\n",
            "194 All My Tomorrows, section3 (B)\n",
            "195 All My Tomorrows, section4 (A)\n",
            "\n",
            "--------------------------------------------------\n",
            "196 All Of A Sudden My Heart Sings, section1 (A)\n",
            "197 All Of A Sudden My Heart Sings, section2 (B)\n",
            "\n",
            "--------------------------------------------------\n",
            "198 All Of Me, section1 (A)\n",
            "199 All Of Me, section2 (B)\n",
            "200 All Of Me, section3 (A)\n",
            "201 All Of Me, section4 (C)\n",
            "\n",
            "--------------------------------------------------\n",
            "202 All Of You, section1 (A)\n",
            "203 All Of You, section2 (B)\n",
            "204 All Of You, section3 (A)\n",
            "205 All Of You, section4 (C)\n",
            "\n",
            "--------------------------------------------------\n",
            "206 All Or Nothing At All, section1 (A)\n",
            "207 All Or Nothing At All, section2 (A)\n",
            "208 All Or Nothing At All, section3 (B)\n",
            "\n",
            "--------------------------------------------------\n",
            "209 All The Things You Are, section1 (A)\n",
            "210 All The Things You Are, section2 (B)\n",
            "211 All The Things You Are, section3 (C)\n",
            "212 All The Things You Are, section4 (D)\n",
            "\n",
            "--------------------------------------------------\n",
            "213 All The Way, section1 (A)\n",
            "214 All The Way, section2 (B)\n",
            "\n",
            "--------------------------------------------------\n",
            "215 All Through The Day, section1 (A)\n",
            "216 All Through The Day, section2 (B)\n",
            "217 All Through The Day, section3 (C)\n",
            "218 All Through The Day, section4 (D)\n",
            "\n",
            "--------------------------------------------------\n",
            "219 All Through The Night, section1 (A)\n",
            "220 All Through The Night, section2 (A)\n",
            "221 All Through The Night, section3 (B)\n",
            "222 All Through The Night, section4 (C)\n",
            "\n",
            "--------------------------------------------------\n",
            "223 All Too Soon, section1 (A)\n",
            "224 All Too Soon, section2 (A)\n",
            "225 All Too Soon, section3 (B)\n",
            "226 All Too Soon, section4 (A)\n",
            "\n",
            "--------------------------------------------------\n",
            "227 Almost Like Being In Love, section1 (A)\n",
            "228 Almost Like Being In Love, section2 (A)\n",
            "229 Almost Like Being In Love, section3 (B)\n",
            "230 Almost Like Being In Love, section4 (A)\n",
            "\n",
            "--------------------------------------------------\n",
            "231 Alone Together, section1 (A)\n",
            "232 Alone Together, section2 (A)\n",
            "233 Alone Together, section3 (B)\n",
            "234 Alone Together, section4 (A)\n",
            "\n",
            "--------------------------------------------------\n",
            "235 Alone Too Long, section1 (A)\n",
            "236 Alone Too Long, section2 (A)\n",
            "237 Alone Too Long, section3 (B)\n",
            "238 Alone Too Long, section4 (A)\n",
            "\n",
            "--------------------------------------------------\n",
            "239 Along Came Betty, section1 (A)\n",
            "240 Along Came Betty, section2 (B)\n",
            "241 Along Came Betty, section3 (C)\n",
            "\n",
            "--------------------------------------------------\n",
            "242 Always And Forever, section1 (intro)\n",
            "243 Always And Forever, section2 (A)\n",
            "244 Always And Forever, section3 (B)\n",
            "245 Always And Forever, section4 (C)\n",
            "\n",
            "--------------------------------------------------\n",
            "246 Always, section1 (A)\n",
            "247 Always, section2 (B)\n",
            "248 Always, section3 (C)\n",
            "249 Always, section4 (D)\n",
            "\n",
            "--------------------------------------------------\n",
            "250 Am I Blue, section1 (A)\n",
            "251 Am I Blue, section2 (A)\n",
            "252 Am I Blue, section3 (B)\n",
            "253 Am I Blue, section4 (C)\n",
            "\n",
            "--------------------------------------------------\n",
            "254 Among My Souvenirs, section1 (A)\n",
            "255 Among My Souvenirs, section2 (A)\n",
            "256 Among My Souvenirs, section3 (B)\n",
            "257 Among My Souvenirs, section4 (A)\n",
            "\n",
            "--------------------------------------------------\n",
            "258 Ana Maria, section1 (A)\n",
            "259 Ana Maria, section2 (B)\n",
            "260 Ana Maria, section3 (C)\n",
            "\n",
            "--------------------------------------------------\n",
            "261 And On The Third Day, section1 (intro)\n",
            "262 And On The Third Day, section2 (A)\n",
            "263 And On The Third Day, section3 (A)\n",
            "264 And On The Third Day, section4 (A)\n",
            "\n",
            "--------------------------------------------------\n",
            "265 And The Angels Sing, section1 (A)\n",
            "266 And The Angels Sing, section2 (A)\n",
            "267 And The Angels Sing, section3 (B)\n",
            "\n",
            "--------------------------------------------------\n",
            "268 Angel Eyes, section1 (A)\n",
            "269 Angel Eyes, section2 (A)\n",
            "270 Angel Eyes, section3 (B)\n",
            "271 Angel Eyes, section4 (A)\n",
            "\n",
            "--------------------------------------------------\n",
            "272 Anthropology, section1 (A)\n",
            "273 Anthropology, section2 (A)\n",
            "274 Anthropology, section3 (B)\n",
            "275 Anthropology, section4 (A)\n",
            "\n",
            "--------------------------------------------------\n",
            "276 Anything Goes, section1 (A)\n",
            "277 Anything Goes, section2 (A)\n",
            "278 Anything Goes, section3 (B)\n",
            "279 Anything Goes, section4 (C)\n",
            "\n",
            "--------------------------------------------------\n",
            "280 April In Paris, section1 (A)\n",
            "281 April In Paris, section2 (B)\n",
            "282 April In Paris, section3 (C)\n",
            "283 April In Paris, section4 (D)\n",
            "\n",
            "--------------------------------------------------\n",
            "284 April Joy, section1 (A)\n",
            "285 April Joy, section2 (B)\n",
            "\n",
            "--------------------------------------------------\n",
            "286 April Skies, section1 (A)\n",
            "287 April Skies, section2 (B)\n",
            "\n",
            "--------------------------------------------------\n",
            "288 April, section1 (A)\n",
            "289 April, section2 (B)\n",
            "290 April, section3 (C)\n",
            "291 April, section4 (A)\n",
            "\n",
            "--------------------------------------------------\n",
            "292 Aren't You Glad You're You, section1 (A)\n",
            "293 Aren't You Glad You're You, section2 (B)\n",
            "\n",
            "--------------------------------------------------\n",
            "294 Arise, Her Eyes, section0 (nan)\n",
            "\n",
            "--------------------------------------------------\n",
            "295 Armando's Rhumba, section1 (A)\n",
            "296 Armando's Rhumba, section2 (B)\n",
            "\n",
            "--------------------------------------------------\n",
            "297 As Long As I Live, section1 (A)\n",
            "298 As Long As I Live, section2 (A)\n",
            "299 As Long As I Live, section3 (B)\n",
            "300 As Long As I Live, section4 (A)\n",
            "\n",
            "--------------------------------------------------\n",
            "301 As Time Goes By, section1 (A)\n",
            "302 As Time Goes By, section2 (A)\n",
            "303 As Time Goes By, section3 (B)\n",
            "304 As Time Goes By, section4 (A)\n",
            "\n",
            "--------------------------------------------------\n",
            "305 Ask Me Now, section1 (A)\n",
            "306 Ask Me Now, section2 (A)\n",
            "307 Ask Me Now, section3 (B)\n",
            "308 Ask Me Now, section4 (A)\n",
            "\n",
            "--------------------------------------------------\n",
            "309 At Last, section1 (A)\n",
            "310 At Last, section2 (A)\n",
            "311 At Last, section3 (B)\n",
            "312 At Last, section4 (A)\n",
            "\n",
            "--------------------------------------------------\n",
            "313 At Long Last Love, section1 (A)\n",
            "314 At Long Last Love, section2 (B)\n",
            "\n",
            "--------------------------------------------------\n",
            "315 Au Privave, section0 (nan)\n",
            "\n",
            "--------------------------------------------------\n",
            "316 Autumn In New York, section1 (A)\n",
            "317 Autumn In New York, section2 (B)\n",
            "318 Autumn In New York, section3 (C)\n",
            "319 Autumn In New York, section4 (D)\n",
            "\n",
            "--------------------------------------------------\n",
            "320 Autumn Leaves, section1 (A)\n",
            "321 Autumn Leaves, section2 (A)\n",
            "322 Autumn Leaves, section3 (B)\n",
            "323 Autumn Leaves, section4 (C)\n",
            "\n",
            "--------------------------------------------------\n",
            "324 Autumn Nocturne, section1 (A)\n",
            "325 Autumn Nocturne, section2 (A)\n",
            "326 Autumn Nocturne, section3 (B)\n",
            "327 Autumn Nocturne, section4 (C)\n",
            "\n",
            "--------------------------------------------------\n",
            "328 Avalon, section1 (A)\n",
            "329 Avalon, section2 (B)\n",
            "\n",
            "--------------------------------------------------\n",
            "330 Ba-lue Bolivar Ba-lues-are, section0 (nan)\n",
            "\n",
            "--------------------------------------------------\n",
            "331 Backstage Sally, section0 (nan)\n",
            "\n",
            "--------------------------------------------------\n",
            "332 Bags and Trane, section0 (nan)\n",
            "\n",
            "--------------------------------------------------\n",
            "333 Bags' Groove, section0 (nan)\n",
            "\n",
            "--------------------------------------------------\n",
            "334 Balance, The, section1 (A)\n",
            "\n",
            "--------------------------------------------------\n",
            "335 Ballade, section1 (A)\n",
            "336 Ballade, section2 (B)\n",
            "\n",
            "--------------------------------------------------\n",
            "337 Baltimore Oriole, section1 (A)\n",
            "338 Baltimore Oriole, section2 (B)\n",
            "\n",
            "--------------------------------------------------\n",
            "339 Barbados, section0 (nan)\n",
            "\n",
            "--------------------------------------------------\n",
            "340 Barbara, section1 (A)\n",
            "341 Barbara, section2 (B)\n",
            "342 Barbara, section3 (A)\n",
            "343 Barbara, section4 (B)\n",
            "\n",
            "--------------------------------------------------\n",
            "344 Bark For Barksdale, section1 (A)\n",
            "345 Bark For Barksdale, section2 (A)\n",
            "346 Bark For Barksdale, section3 (B)\n",
            "347 Bark For Barksdale, section4 (A)\n",
            "\n",
            "--------------------------------------------------\n",
            "348 Basin Street Blues, section1 (intro)\n",
            "349 Basin Street Blues, section2 (intro)\n",
            "350 Basin Street Blues, section3 (A)\n",
            "\n",
            "--------------------------------------------------\n",
            "351 Bat, The, section1 (B)\n",
            "352 Bat, The, section2 (C)\n",
            "353 Bat, The, section3 (B)\n",
            "354 Bat, The, section4 (C)\n",
            "\n",
            "--------------------------------------------------\n",
            "355 Baubles, Bangles and Beads, section1 (A)\n",
            "356 Baubles, Bangles and Beads, section2 (B)\n",
            "357 Baubles, Bangles and Beads, section3 (C)\n",
            "358 Baubles, Bangles and Beads, section4 (A)\n",
            "\n",
            "--------------------------------------------------\n",
            "359 Be Careful It's My Heart, section1 (A)\n",
            "360 Be Careful It's My Heart, section2 (B)\n",
            "361 Be Careful It's My Heart, section3 (A)\n",
            "362 Be Careful It's My Heart, section4 (C)\n",
            "\n",
            "--------------------------------------------------\n",
            "363 Be My Love, section1 (A)\n",
            "364 Be My Love, section2 (B)\n",
            "\n",
            "--------------------------------------------------\n",
            "365 Be-Bop, section1 (A)\n",
            "366 Be-Bop, section2 (A)\n",
            "367 Be-Bop, section3 (B)\n",
            "368 Be-Bop, section4 (A)\n",
            "\n",
            "--------------------------------------------------\n",
            "369 Beatrice, section0 (nan)\n",
            "\n",
            "--------------------------------------------------\n",
            "370 Beautiful Love, section1 (A)\n",
            "371 Beautiful Love, section2 (A)\n",
            "\n",
            "--------------------------------------------------\n",
            "372 Beauty And The Beast, section1 (intro)\n",
            "373 Beauty And The Beast, section2 (A)\n",
            "374 Beauty And The Beast, section3 (A)\n",
            "\n",
            "--------------------------------------------------\n",
            "375 Begin The Beguine, section1 (A)\n",
            "376 Begin The Beguine, section2 (A)\n",
            "377 Begin The Beguine, section3 (B)\n",
            "378 Begin The Beguine, section4 (A)\n",
            "379 Begin The Beguine, section5 (C)\n",
            "380 Begin The Beguine, section6 (A)\n",
            "\n",
            "--------------------------------------------------\n",
            "381 Bein' Green, section1 (A)\n",
            "382 Bein' Green, section2 (A)\n",
            "383 Bein' Green, section3 (B)\n",
            "384 Bein' Green, section4 (A)\n",
            "\n",
            "--------------------------------------------------\n",
            "385 Bemsha Swing, section0 (nan)\n",
            "\n",
            "--------------------------------------------------\n",
            "386 Benny's Tune, section1 (intro)\n",
            "387 Benny's Tune, section2 (intro)\n",
            "388 Benny's Tune, section3 (A)\n",
            "389 Benny's Tune, section4 (B)\n",
            "\n",
            "--------------------------------------------------\n",
            "390 Bernie's Tune, section1 (A)\n",
            "391 Bernie's Tune, section2 (A)\n",
            "392 Bernie's Tune, section3 (B)\n",
            "393 Bernie's Tune, section4 (A)\n",
            "\n",
            "--------------------------------------------------\n",
            "394 Besame Mucho, section1 (A)\n",
            "395 Besame Mucho, section2 (B)\n",
            "396 Besame Mucho, section3 (A)\n",
            "\n",
            "--------------------------------------------------\n",
            "397 Bess You Is My Woman, section1 (A)\n",
            "398 Bess You Is My Woman, section2 (B)\n",
            "399 Bess You Is My Woman, section3 (A)\n",
            "400 Bess You Is My Woman, section4 (B)\n",
            "\n",
            "--------------------------------------------------\n",
            "401 Bessie's Blues, section0 (nan)\n",
            "\n",
            "--------------------------------------------------\n",
            "402 Best Thing For You Is Me, The, section1 (A)\n",
            "403 Best Thing For You Is Me, The, section2 (A)\n",
            "404 Best Thing For You Is Me, The, section3 (B)\n",
            "405 Best Thing For You Is Me, The, section4 (C)\n",
            "\n",
            "--------------------------------------------------\n",
            "406 Best Things In Life Are Free, The, section1 (A)\n",
            "407 Best Things In Life Are Free, The, section2 (B)\n",
            "\n",
            "--------------------------------------------------\n",
            "408 Better Days Ahead, section1 (A)\n",
            "409 Better Days Ahead, section2 (B)\n",
            "410 Better Days Ahead, section3 (C)\n",
            "\n",
            "--------------------------------------------------\n",
            "411 Better Git It In Your Soul, section1 (A)\n",
            "412 Better Git It In Your Soul, section2 (A)\n",
            "413 Better Git It In Your Soul, section3 (B)\n",
            "414 Better Git It In Your Soul, section4 (A)\n",
            "\n",
            "--------------------------------------------------\n",
            "415 Better Than Anything, section0 (nan)\n",
            "\n",
            "--------------------------------------------------\n",
            "416 Between The Devil And The Deep Blue Sea, section1 (A)\n",
            "417 Between The Devil And The Deep Blue Sea, section2 (A)\n",
            "418 Between The Devil And The Deep Blue Sea, section3 (B)\n",
            "419 Between The Devil And The Deep Blue Sea, section4 (A)\n",
            "\n",
            "--------------------------------------------------\n",
            "420 Bewitched, section1 (A)\n",
            "421 Bewitched, section2 (A)\n",
            "422 Bewitched, section3 (B)\n",
            "423 Bewitched, section4 (A)\n",
            "\n",
            "--------------------------------------------------\n",
            "424 Beyond The Blue Horizon, section1 (A)\n",
            "425 Beyond The Blue Horizon, section2 (B)\n",
            "\n",
            "--------------------------------------------------\n",
            "426 Beyond The Sea, section1 (A)\n",
            "427 Beyond The Sea, section2 (A)\n",
            "428 Beyond The Sea, section3 (B)\n",
            "429 Beyond The Sea, section4 (A)\n",
            "\n",
            "--------------------------------------------------\n",
            "430 Bidin' My Time, section1 (A)\n",
            "431 Bidin' My Time, section2 (B)\n",
            "432 Bidin' My Time, section3 (A)\n",
            "\n",
            "--------------------------------------------------\n",
            "433 Bill Bailey, section1 (A)\n",
            "434 Bill Bailey, section2 (B)\n",
            "435 Bill Bailey, section3 (A)\n",
            "436 Bill Bailey, section4 (C)\n",
            "\n",
            "--------------------------------------------------\n",
            "437 Bill's Hit Tune, section1 (A)\n",
            "438 Bill's Hit Tune, section2 (B)\n",
            "\n",
            "--------------------------------------------------\n",
            "439 Billie's Bounce, section0 (nan)\n",
            "\n",
            "--------------------------------------------------\n",
            "440 Billy Boy, section1 (A)\n",
            "441 Billy Boy, section2 (A)\n",
            "442 Billy Boy, section3 (B)\n",
            "443 Billy Boy, section4 (A)\n",
            "\n",
            "--------------------------------------------------\n",
            "444 Birk's Works, section0 (nan)\n",
            "\n",
            "--------------------------------------------------\n",
            "445 Birth Of The Blues, The, section1 (A)\n",
            "446 Birth Of The Blues, The, section2 (A)\n",
            "447 Birth Of The Blues, The, section3 (B)\n",
            "448 Birth Of The Blues, The, section4 (A)\n",
            "\n",
            "--------------------------------------------------\n",
            "449 Black And Blue, section1 (A)\n",
            "450 Black And Blue, section2 (A)\n",
            "451 Black And Blue, section3 (B)\n",
            "452 Black And Blue, section4 (A)\n",
            "\n",
            "--------------------------------------------------\n",
            "453 Black And Tan Fantasy, section1 (A)\n",
            "454 Black And Tan Fantasy, section2 (B)\n",
            "455 Black And Tan Fantasy, section3 (B)\n",
            "\n",
            "--------------------------------------------------\n",
            "456 Black Coffee, section1 (A)\n",
            "457 Black Coffee, section2 (A)\n",
            "458 Black Coffee, section3 (B)\n",
            "459 Black Coffee, section4 (A)\n",
            "\n",
            "--------------------------------------------------\n",
            "460 Black Narcissus, section0 (nan)\n",
            "\n",
            "--------------------------------------------------\n",
            "461 Black Nile, section1 (intro)\n",
            "462 Black Nile, section2 (A)\n",
            "463 Black Nile, section3 (A)\n",
            "464 Black Nile, section4 (B)\n",
            "465 Black Nile, section5 (A)\n",
            "\n",
            "--------------------------------------------------\n",
            "466 Blackberry Winter, section1 (A)\n",
            "467 Blackberry Winter, section2 (A)\n",
            "468 Blackberry Winter, section3 (B)\n"
          ]
        }
      ]
    },
    {
      "cell_type": "markdown",
      "metadata": {
        "id": "99xHBRsd--OB"
      },
      "source": [
        "# LSA (Latent Semantic Analysis), aka LSI (Latent Semantic Index) "
      ]
    },
    {
      "cell_type": "code",
      "metadata": {
        "id": "adsW9Uh9_JXs"
      },
      "source": [
        "from collections import defaultdict"
      ],
      "execution_count": null,
      "outputs": []
    },
    {
      "cell_type": "code",
      "metadata": {
        "id": "s3AJZGRD_IHW"
      },
      "source": [
        "num_topics = lsi_config['num_topics']\n",
        "\n",
        "# remove words that appear only once\n",
        "frequency = defaultdict(int)\n",
        "for text in processed_corpus:\n",
        "    for token in text:\n",
        "        frequency[token] += 1\n",
        "\n",
        "data = [[token for token in text if frequency[token] > 1] for text in processed_corpus]\n",
        "dictionary = corpora.Dictionary(data)\n",
        "\n",
        "# doc2bow counts the number of occurences of each distinct word,\n",
        "# converts the word to its integer word id and returns the result\n",
        "# as a sparse vector\n",
        "\n",
        "bow_corpus = [dictionary.doc2bow(text) for text in data]\n",
        "lsi = LsiModel(bow_corpus, id2word=dictionary, num_topics=num_topics)  # num_topics can be maximum the size of the number of unique tokens"
      ],
      "execution_count": null,
      "outputs": []
    },
    {
      "cell_type": "code",
      "metadata": {
        "id": "EvxSQFfBBNMJ"
      },
      "source": [
        "index_lsi = similarities.Similarity('/content/index/index_lsi', lsi[bow_corpus], num_features=len(dictionary))"
      ],
      "execution_count": null,
      "outputs": []
    },
    {
      "cell_type": "code",
      "metadata": {
        "id": "3saA6NY5Tzer"
      },
      "source": [
        "#index_lsi = similarities.SparseMatrixSimilarity(lsi[bow_corpus], num_features = len(dictionary))\n",
        "#index_lsi = similarities.MatrixSimilarity(lsi[bow_corpus])  # transform corpus to LSI space and index it\n"
      ],
      "execution_count": null,
      "outputs": []
    },
    {
      "cell_type": "code",
      "metadata": {
        "id": "F5pbDMVyfEtS"
      },
      "source": [
        "lsi.save('/content/index/lsi.model')\n",
        "index_lsi.save('/content/index/lsi_matrixsim.index')\n"
      ],
      "execution_count": null,
      "outputs": []
    },
    {
      "cell_type": "code",
      "metadata": {
        "id": "1udPIceqYk6S"
      },
      "source": [
        "!ls -la /content/index"
      ],
      "execution_count": null,
      "outputs": []
    },
    {
      "cell_type": "markdown",
      "metadata": {
        "id": "u05KD64Ai1uo"
      },
      "source": [
        "## Tests"
      ]
    },
    {
      "cell_type": "markdown",
      "metadata": {
        "id": "pDxTCAGv9MmZ"
      },
      "source": [
        "### Test for single tunes"
      ]
    },
    {
      "cell_type": "code",
      "metadata": {
        "id": "khASSJ1eEuf5"
      },
      "source": [
        "%%time\n",
        "df_sim = get_sim_scores(tunes_eval_list, index=index_lsi, model=lsi)\n",
        "\n",
        "# save a copy of the results; all results will be concatenated at the end\n",
        "df_lsi = df_sim[:]"
      ],
      "execution_count": null,
      "outputs": []
    },
    {
      "cell_type": "code",
      "metadata": {
        "id": "X31lkvUsDAsU"
      },
      "source": [
        "import plotly.express as px\n",
        "fig = px.histogram(df_sim, x=\"score\", nbins=50, title='LSI Scores')\n",
        "fig.show()"
      ],
      "execution_count": null,
      "outputs": []
    },
    {
      "cell_type": "code",
      "metadata": {
        "id": "RX2JvEEGPGgS"
      },
      "source": [
        "if use_wandb:\n",
        "  wandb.log({\"scores_hist\": fig})"
      ],
      "execution_count": null,
      "outputs": []
    },
    {
      "cell_type": "code",
      "metadata": {
        "id": "7N81-XfdDFKV"
      },
      "source": [
        "result, details = recommend_tune(df_sim, 'These Foolish Things [jazz1350]')\n",
        "result.head(30)"
      ],
      "execution_count": null,
      "outputs": []
    },
    {
      "cell_type": "code",
      "metadata": {
        "id": "15ZsHOQmyyah"
      },
      "source": [
        "dd = pd.DataFrame(columns = recommender_results_cols)\n",
        "\n",
        "for tune in tunes_eval_list:\n",
        "  result, details = recommend_tune(df_sim, tune)\n",
        "  dd['id'] = result['index']\n",
        "  dd['reference'] = tune\n",
        "  dd['method'] = 'lsi'\n",
        "  dd['similar'] = result['similar_title']\n",
        "  dd['score_div_max'] = result['score_div_max']\n",
        "  dd['score'] = result['score']\n",
        "\n",
        "recommender_results = recommender_results.append(dd)"
      ],
      "execution_count": null,
      "outputs": []
    },
    {
      "cell_type": "markdown",
      "metadata": {
        "id": "Ojrjp11ni6Pl"
      },
      "source": [
        "### Tests for Contrafacts"
      ]
    },
    {
      "cell_type": "code",
      "metadata": {
        "id": "D0_7m1qji6A-"
      },
      "source": [
        "topN = 20\n",
        "matches, results = test_contrafacts(contrafacts, index_lsi, lsi, topN)\n",
        "\n",
        "print(f\"Found matches: {matches} out of {len(results)}: {100*matches/len(results):.3f}%\")\n",
        "print() \n",
        "for rr, val in results.items():\n",
        "  if val == 0:\n",
        "    print(f\"{val}: {rr}\")\n"
      ],
      "execution_count": null,
      "outputs": []
    },
    {
      "cell_type": "code",
      "metadata": {
        "id": "RS7LsLASi5-f"
      },
      "source": [
        "model_name = 'lsi'\n",
        "if use_wandb:\n",
        "  wandb.log(\n",
        "      {model_name: {\n",
        "                'contrafacts': {\n",
        "                    'topN': topN,\n",
        "                    'success': matches/len(contrafacts),\n",
        "                    #'results': results\n",
        "                    }\n",
        "                   },\n",
        "       'all_models': {\n",
        "           model_name: wandb.Table(\n",
        "               columns=[\"Title\", \"Match\"],\n",
        "               data=[[key, value] for key, value in results.items()]),\n",
        "       }\n",
        "       })"
      ],
      "execution_count": null,
      "outputs": []
    },
    {
      "cell_type": "markdown",
      "metadata": {
        "id": "AjZArSmyooWt"
      },
      "source": [
        "### Get Recommender Data for WebApp"
      ]
    },
    {
      "cell_type": "code",
      "metadata": {
        "id": "ezGqmkp5gMcf"
      },
      "source": [
        "%%time\n",
        "if generate_webapp_data:\n",
        "  _tunes = list(tunes['title_playlist'].values())\n",
        "  #_tunes = tunes_eval_list\n",
        "\n",
        "  method = 'lsi'\n",
        "\n",
        "  df_sim = get_sim_scores(_tunes, index_tfidf, tfidf)\n",
        "\n",
        "  result = None\n",
        "  for tune in _tunes:\n",
        "    tune_result, details = recommend_tune(df_sim, tune)\n",
        "    if result is None:\n",
        "      result = pd.DataFrame(columns=tune_result.columns)\n",
        "    result = result.append(tune_result)\n",
        "\n",
        "  # save to file\n",
        "  (result\n",
        "   .loc[:,['reference_titleid',\n",
        "           'similar_titleid',\n",
        "           'score']]\n",
        "   .to_csv(f'output/recommender_{method}.csv', encoding='utf8')\n",
        "  )\n",
        "  with zipfile.ZipFile(f'output/recommender_{method}.zip', 'w') as zf:\n",
        "    zf.write(f'output/recommender_{method}.csv')\n",
        "\n",
        "\n",
        "  # save to wandb\n",
        "  if use_wandb:\n",
        "    model_artifact = wandb.Artifact(\n",
        "        f\"recommender_{method}\", \n",
        "        type=\"csv\",\n",
        "        description=f\"Recommendations for each Tune using {method} Model (csv file)\",\n",
        "        metadata=\"\")\n",
        "\n",
        "    model_artifact.add_file(f'output/recommender_{method}.zip')\n",
        "    wandb.log_artifact(model_artifact)"
      ],
      "execution_count": null,
      "outputs": []
    },
    {
      "cell_type": "markdown",
      "metadata": {
        "id": "lTQKfd0xQQ65"
      },
      "source": [
        "## Store Model to W&B"
      ]
    },
    {
      "cell_type": "code",
      "metadata": {
        "id": "RfAYF7ArQUXo"
      },
      "source": [
        "if use_wandb:\n",
        "  model_artifact = wandb.Artifact(\n",
        "      \"model_lsi\", \n",
        "      type=\"model\",\n",
        "      description=\"LSI model\",\n",
        "      metadata=\"\")\n",
        "\n",
        "  model_artifact.add_file(\"/content/index/lsi.model\")\n",
        "  model_artifact.add_file(\"/content/index/lsi_matrixsim.index\")\n",
        "  model_artifact.add_file(\"/content/index/lsi.model.projection\")\n",
        "  wandb.log_artifact(model_artifact)"
      ],
      "execution_count": null,
      "outputs": []
    },
    {
      "cell_type": "markdown",
      "metadata": {
        "id": "asScIocQRMPA"
      },
      "source": [
        "## Determine Number of Topics for LSI Model\n",
        "\n",
        "This sample comes from Datacamp: \n",
        "\n",
        "https://www.datacamp.com/community/tutorials/discovering-hidden-topics-python\n"
      ]
    },
    {
      "cell_type": "markdown",
      "metadata": {
        "id": "1TPNWFEPSxZ-"
      },
      "source": [
        "What is the best way to determine k (number of topics) in topic modeling? Identify the optimum number of topics in the given corpus text is a challenging task. We can use the following options for determining the optimum number of topics:\n",
        "\n",
        "* One way to determine the optimum number of topics is to consider each topic as a cluster and find out the effectiveness of a cluster using the Silhouette coefficient.\n",
        "* Topic coherence measure is a realistic measure for identifying the number of topics.\n",
        "\n",
        "Topic Coherence measure is a widely used metric to evaluate topic models. It uses the latent variable models. Each generated topic has a list of words. In topic coherence measure, you will find average/median of pairwise word similarity scores of the words in a topic. The high value of topic coherence score model will be considered as a good topic model. "
      ]
    },
    {
      "cell_type": "code",
      "metadata": {
        "id": "umpCyQQzRLgv"
      },
      "source": [
        "def prepare_corpus(doc_clean):\n",
        "    \"\"\"\n",
        "    Input  : clean document\n",
        "    Purpose: create term dictionary of our courpus and Converting list of documents (corpus) into Document Term Matrix\n",
        "    Output : term dictionary and Document Term Matrix\n",
        "    \"\"\"\n",
        "    # Creating the term dictionary of our courpus, where every unique term is assigned an index. dictionary = corpora.Dictionary(doc_clean)\n",
        "    dictionary = corpora.Dictionary(doc_clean)\n",
        "    # Converting list of documents (corpus) into Document Term Matrix using dictionary prepared above.\n",
        "    doc_term_matrix = [dictionary.doc2bow(doc) for doc in doc_clean]\n",
        "    # generate LDA model\n",
        "    return dictionary, doc_term_matrix"
      ],
      "execution_count": null,
      "outputs": []
    },
    {
      "cell_type": "code",
      "metadata": {
        "id": "aS2wxIEERcul"
      },
      "source": [
        "def compute_coherence_values(dictionary, doc_term_matrix, doc_clean, stop, start=2, step=3):\n",
        "    \"\"\"\n",
        "    Input   : dictionary : Gensim dictionary\n",
        "              corpus : Gensim corpus\n",
        "              texts : List of input texts\n",
        "              stop : Max num of topics\n",
        "    purpose : Compute c_v coherence for various number of topics\n",
        "    Output  : model_list : List of LSA topic models\n",
        "              coherence_values : Coherence values corresponding to the LDA model with respective number of topics\n",
        "    \"\"\"\n",
        "    coherence_values = []\n",
        "    model_list = []\n",
        "    for num_topics in range(start, stop, step):\n",
        "        # generate LSA model\n",
        "        model = LsiModel(doc_term_matrix, num_topics=num_topics, id2word = dictionary)  # train model\n",
        "        model_list.append(model)\n",
        "        coherencemodel = CoherenceModel(model=model, texts=doc_clean, dictionary=dictionary, coherence='c_v')\n",
        "        coherence_values.append(coherencemodel.get_coherence())\n",
        "    return model_list, coherence_values"
      ],
      "execution_count": null,
      "outputs": []
    },
    {
      "cell_type": "code",
      "metadata": {
        "id": "DjyzAzWBRfrH"
      },
      "source": [
        "def plot_graph(doc_clean,start, stop, step):\n",
        "    dictionary, doc_term_matrix = prepare_corpus(doc_clean)\n",
        "    model_list, coherence_values = compute_coherence_values(dictionary, doc_term_matrix,doc_clean,\n",
        "                                                            stop, start, step)\n",
        "    # Show graph\n",
        "    x = range(start, stop, step)\n",
        "    plt.plot(x, coherence_values)\n",
        "    plt.xlabel(\"Number of Topics\")\n",
        "    plt.ylabel(\"Coherence score\")\n",
        "    plt.legend((\"coherence_values\"), loc='best')\n",
        "    plt.show()"
      ],
      "execution_count": null,
      "outputs": []
    },
    {
      "cell_type": "code",
      "metadata": {
        "id": "qy9ZjdcmRhxs"
      },
      "source": [
        "# evaluate a good number of topics for the LSI Model. This takes some time.\n",
        "\n",
        "if False:\n",
        "\n",
        "  start, stop, step = 1, 500, 10\n",
        "  plot_graph(data, start, stop, step)"
      ],
      "execution_count": null,
      "outputs": []
    },
    {
      "cell_type": "markdown",
      "metadata": {
        "id": "Qo5NgBHFlqgg"
      },
      "source": [
        "For unigrams, the best number of topics seems to be around 20.\n",
        "\n",
        "For unigrams plus bigrams, the coherence score drops down until 100 and then continuously rises until 500 and continues to rise. Same for bigrams-only."
      ]
    },
    {
      "cell_type": "markdown",
      "metadata": {
        "id": "rF_INicGhXKd"
      },
      "source": [
        "# Doc2Vec"
      ]
    },
    {
      "cell_type": "code",
      "metadata": {
        "id": "wflSccBshkIk"
      },
      "source": [
        "def get_tagged_documents(corpus, tag_sections_and_tunes=False):\n",
        "  if tag_sections_and_tunes:\n",
        "    print('Tagging input data with both section and tune information.')\n",
        "  else:\n",
        "    print('Tagging input data with section informaiton only.')\n",
        "    \n",
        "  for i, tokens in enumerate(corpus):\n",
        "    if tag_sections_and_tunes:\n",
        "      yield gensim.models.doc2vec.TaggedDocument(tokens, [i, f'titleid_{sectionid_to_titleid[i]}'])\n",
        "    else:\n",
        "      yield gensim.models.doc2vec.TaggedDocument(tokens, [i])  # diatonic chord distance is a bit better"
      ],
      "execution_count": null,
      "outputs": []
    },
    {
      "cell_type": "code",
      "metadata": {
        "id": "_u0RdBI1kYD9"
      },
      "source": [
        "train_corpus = list(get_tagged_documents(processed_corpus, doc2vec_config['general']['tag_sections_and_tunes']))\n",
        "train_corpus[1000]"
      ],
      "execution_count": null,
      "outputs": []
    },
    {
      "cell_type": "code",
      "metadata": {
        "id": "M9adPoy9reaw"
      },
      "source": [
        "import multiprocessing\n",
        "\n",
        "print(f\"CPU Count: {multiprocessing.cpu_count()}\")\n",
        "print(f\"Config:\")\n",
        "print(doc2vec_config['model'])\n",
        "\n",
        "model = Doc2Vec(train_corpus,\n",
        "                **doc2vec_config['model']\n",
        "                )"
      ],
      "execution_count": null,
      "outputs": []
    },
    {
      "cell_type": "code",
      "metadata": {
        "id": "G-cE7gug1Ct5"
      },
      "source": [
        "if use_wandb:\n",
        "  model_artifact = wandb.Artifact(\n",
        "      \"model_doc2vec\", \n",
        "      type=\"model\",\n",
        "      description=\"Doc2Vec model\",\n",
        "      metadata=\"\")\n",
        "\n",
        "  fname = 'doc2vec.model'\n",
        "  model.save(fname)\n",
        "\n",
        "  model_artifact.add_file(fname)\n",
        "  wandb.log_artifact(model_artifact)"
      ],
      "execution_count": null,
      "outputs": []
    },
    {
      "cell_type": "markdown",
      "metadata": {
        "id": "jJvq2K93xAO5"
      },
      "source": [
        "### Test the distance between C and the diatonic chords\n",
        "\n",
        "Test if the model can capture that the diatonic chords are closer to the root.\n",
        "\n",
        "Do this only if the input corpus contains the unigrams. "
      ]
    },
    {
      "cell_type": "code",
      "metadata": {
        "id": "cH3TJxCfvoFm"
      },
      "source": [
        "test_tokens = ['C',\n",
        "              'Dm',\n",
        "              'Em',\n",
        "              'F',\n",
        "              'G7',\n",
        "              'Am',\n",
        "              #'Bm7b5',\n",
        "              'F7',\n",
        "              'D7',\n",
        "              'A7',\n",
        "              'E7',\n",
        "              'B7',\n",
        "              'F#7',\n",
        "               'Cm',\n",
        "               'D']\n",
        "\n",
        "if 1 in ngrams_for_input:\n",
        "  ref = 'C'\n",
        "  for t in test_tokens:\n",
        "    print(f\"{model.wv.similarity(ref, t):.3f}: {ref} <-> {t}\")"
      ],
      "execution_count": null,
      "outputs": []
    },
    {
      "cell_type": "code",
      "metadata": {
        "id": "IfIRoWL4kpcB"
      },
      "source": [
        "if 1 in ngrams_for_input:\n",
        "  model.wv.similar_by_word('C', topn=20)"
      ],
      "execution_count": null,
      "outputs": []
    },
    {
      "cell_type": "markdown",
      "metadata": {
        "id": "ix4n9S3_xQzD"
      },
      "source": [
        "Plot the generated word vectors in 2D space"
      ]
    },
    {
      "cell_type": "code",
      "metadata": {
        "id": "JjT_uNh0wthj"
      },
      "source": [
        "from sklearn.manifold import TSNE\n",
        "\n",
        "# input data: vectors for all tokens\n",
        "weights = model.wv.vectors\n",
        "\n",
        "# only do this when the vocabulary is not too big....\n",
        "if len(weights) < 100:\n",
        "\n",
        "  # do T-SNE\n",
        "  tsne = TSNE(n_components=2, \n",
        "              random_state=42,\n",
        "              perplexity=30,\n",
        "              learning_rate='auto',\n",
        "              init='pca',\n",
        "              n_iter=2000\n",
        "              )\n",
        "  T = tsne.fit_transform(weights)\n",
        "\n",
        "  # plot\n",
        "  projected = pd.DataFrame(T)\n",
        "\n",
        "  fig = px.scatter(\n",
        "      projected, \n",
        "      x=0, y=1,\n",
        "      #color='mode',\n",
        "      text=model.wv.index_to_key,\n",
        "      width=800, height=600,\n",
        "      title=\"T-SNE applied to Chord Vectors for Tunes in Cmaj/Amin\"\n",
        "  )\n",
        "  fig.update_traces(textposition='top center')\n",
        "  fig.update_traces(textfont_size=12, selector=dict(type='scatter'))\n",
        "  fig.show()"
      ],
      "execution_count": null,
      "outputs": []
    },
    {
      "cell_type": "markdown",
      "metadata": {
        "id": "ajqb904KDwNV"
      },
      "source": [
        "## Section Similarity\n"
      ]
    },
    {
      "cell_type": "markdown",
      "metadata": {
        "id": "HS_k1g6ujjKP"
      },
      "source": [
        "### Single Tunes"
      ]
    },
    {
      "cell_type": "code",
      "metadata": {
        "id": "mPnEPL_k4TZn"
      },
      "source": [
        "def get_section_scores_doc2vec(tunes):\n",
        "\n",
        "  df_sim = pd.DataFrame(columns=['reference_title',\n",
        "                                 'reference_titleid',\n",
        "                                 'similar_title',\n",
        "                                 'similar_titleid',\n",
        "                                 'ref_section', \n",
        "                                 'similar_section', \n",
        "                                 'score', \n",
        "                                 ])\n",
        "\n",
        "  tag_sections_and_tunes = doc2vec_config['general']['tag_sections_and_tunes']\n",
        "\n",
        "  ### get titleid from tunes, use enumerate\n",
        "\n",
        "  for tune in tunes:\n",
        "    print()\n",
        "    print(\"-\"*50)\n",
        "    for s1 in title_to_sectionid[tune]:\n",
        "    \n",
        "      # sections are tagged with the numeric sectionid and can be used for querying\n",
        "      sims = model.dv.similar_by_key(s1, topn=20)\n",
        "      \n",
        "      print(s1, sectionid_to_section[s1])\n",
        "      n = 0\n",
        "      for s2, s2_score in sims:\n",
        "\n",
        "        # if the sections are tagged with both sectionid and tuneid:\n",
        "        if tag_sections_and_tunes:\n",
        "          # only consider similarities to tuneids, ignore sectionids\n",
        "          if type(s2) == str: \n",
        "            s2 = int(s2.replace('titleid_', ''))\n",
        "            # don't count self-similarity between sections of the same tune\n",
        "            if s2 not in title_to_sectionid[tune]:\n",
        "              n += 1\n",
        "          \n",
        "              # print(f\"\\t{s2_score:.3f} {sectionid_to_section[s2]}\")\n",
        "\n",
        "              df_sim.loc[len(df_sim)] = [tune,\n",
        "                                          title_to_titleid[tune],\n",
        "                                          sectionid_to_title[s2],\n",
        "                                          sectionid_to_titleid[s2],\n",
        "                                          sectionid_to_section[s1], \n",
        "                                          sectionid_to_section[s2], \n",
        "                                          s2_score, \n",
        "                                          ]\n",
        "        else:\n",
        "          if type(s2) == int: \n",
        "            # don't count self-similarity between sections of the same tune\n",
        "            if s2 not in title_to_sectionid[tune]:\n",
        "              n += 1\n",
        "          \n",
        "              # print(f\"\\t{s2_score:.3f} {sectionid_to_section[s2]}\")\n",
        "\n",
        "              df_sim.loc[len(df_sim)] = [tune,\n",
        "                                          title_to_titleid[tune],\n",
        "                                          sectionid_to_title[s2],\n",
        "                                          sectionid_to_titleid[s2],\n",
        "                                          sectionid_to_section[s1], \n",
        "                                          sectionid_to_section[s2], \n",
        "                                          s2_score, \n",
        "                                          ]            \n",
        "\n",
        "  print()\n",
        "  if tag_sections_and_tunes:\n",
        "    print(f\"Sections are tagged with the tune id, therefore only the tune similarity is evaluated.\")\n",
        "  else:\n",
        "    print(f\"Sections are tagged only with the section id, therefore only section similarity is evaluated.\")\n",
        "\n",
        "  return df_sim"
      ],
      "execution_count": null,
      "outputs": []
    },
    {
      "cell_type": "code",
      "metadata": {
        "id": "i_d92il649O9"
      },
      "source": [
        "_tunes = tunes_eval_list\n",
        "\n",
        "df_sim = get_section_scores_doc2vec(_tunes)\n",
        "\n",
        "result = None\n",
        "for tune in _tunes:\n",
        "  tune_result, details = recommend_tune(df_sim, tune)\n",
        "  if result is None:\n",
        "    result = pd.DataFrame(columns=tune_result.columns)\n",
        "  result = result.append(tune_result)\n",
        "\n",
        "print(f\"Result has {len(result)} rows.\")\n",
        "\n",
        "# save a copy of the results; all results will be concatenated at the end\n",
        "df_doc2vec = df_sim[:]"
      ],
      "execution_count": null,
      "outputs": []
    },
    {
      "cell_type": "code",
      "metadata": {
        "id": "n4dv7VVe5NT4"
      },
      "source": [
        "import plotly.express as px\n",
        "fig = px.histogram(df_sim, x=\"score\", nbins=50, title='doc2vec sections')\n",
        "fig.show()"
      ],
      "execution_count": null,
      "outputs": []
    },
    {
      "cell_type": "code",
      "metadata": {
        "id": "OKeaqYxGPMZj"
      },
      "source": [
        "if use_wandb:\n",
        "  wandb.log({\"scores_hist\": fig})"
      ],
      "execution_count": null,
      "outputs": []
    },
    {
      "cell_type": "code",
      "metadata": {
        "id": "DgV3ccDr5Ux4"
      },
      "source": [
        "result, details = recommend_tune(df_sim, 'On The Sunny Side Of The Street [jazz1350]')\n",
        "result.head(10)"
      ],
      "execution_count": null,
      "outputs": []
    },
    {
      "cell_type": "code",
      "metadata": {
        "id": "hLFaFo62XlMS"
      },
      "source": [
        "dd = pd.DataFrame(columns = recommender_results_cols)\n",
        "\n",
        "for tune in tunes_eval_list:\n",
        "  result, details = recommend_tune(df_sim, tune)\n",
        "  dd['id'] = result['index']\n",
        "  dd['reference'] = tune\n",
        "  dd['method'] = 'doc2vec'\n",
        "  dd['similar'] = result['similar_title']\n",
        "  dd['score_div_max'] = result['score_div_max']\n",
        "  dd['score'] = result['score']\n",
        "\n",
        "recommender_results = recommender_results.append(dd)\n",
        "len(recommender_results)"
      ],
      "execution_count": null,
      "outputs": []
    },
    {
      "cell_type": "markdown",
      "metadata": {
        "id": "aosPKEWljlm0"
      },
      "source": [
        "### Contrafacts"
      ]
    },
    {
      "cell_type": "code",
      "metadata": {
        "id": "SaYSqTJokGc5"
      },
      "source": [
        "def test_doc2vec_contrafacts(tunes, N=15):\n",
        "  \"\"\"\n",
        "  Evaluates if the expected tune matches by either a tune similarity or section similarity match.\n",
        "  \"\"\"\n",
        "\n",
        "  matches = 0\n",
        "  number_of_sections = 0\n",
        "  results = {}\n",
        "\n",
        "  for tune, similar_tune in contrafacts:\n",
        "    \n",
        "    # loop over all sections of the tune\n",
        "    sub_match = 0\n",
        "    for s1 in title_to_sectionid[tune]:\n",
        "      sims = model.dv.similar_by_key(s1, topn=N)\n",
        "      # check if the section matches the expected title; consider only the first N recommendations\n",
        "      i = 0\n",
        "      for match, value in sims:\n",
        "        # tune match\n",
        "        if (type(match) == str):\n",
        "          titleid = int(match.replace('titleid_', ''))\n",
        "          if titleid_to_title[titleid] == similar_tune:\n",
        "            sub_match += 1\n",
        "\n",
        "        # section match\n",
        "        else:\n",
        "          if sectionid_to_title[match] == similar_tune:\n",
        "            sub_match += 1\n",
        "\n",
        "    # for each title, increase matches if at least one of the section matched the expected title\n",
        "    if sub_match > 0:\n",
        "      matches += 1  \n",
        "      results[f'{tune}, {similar_tune}'] = 1\n",
        "    else:\n",
        "      results[f'{tune}, {similar_tune}'] = 0\n",
        "  \n",
        "  return matches, results"
      ],
      "execution_count": null,
      "outputs": []
    },
    {
      "cell_type": "code",
      "metadata": {
        "id": "eAjM3lU4ltzP"
      },
      "source": [
        "topN = 20\n",
        "matches, results = test_doc2vec_contrafacts(contrafacts, topN)\n",
        " \n",
        "print(f\"Found matches: {matches} out of {len(results)}: {100*matches/len(results):.3f}%\")\n",
        "print() \n",
        "for rr, val in results.items():\n",
        "  if val == 0:\n",
        "    print(f\"{val}: {rr}\")\n"
      ],
      "execution_count": null,
      "outputs": []
    },
    {
      "cell_type": "code",
      "metadata": {
        "id": "8C0kzj0Jp425"
      },
      "source": [
        "model_name = 'doc2vec'\n",
        "if use_wandb:\n",
        "  wandb.log(\n",
        "      {model_name: {\n",
        "                'contrafacts': {\n",
        "                    'topN': topN,\n",
        "                    'success': matches/len(contrafacts),\n",
        "                    #'results': results\n",
        "                    }\n",
        "                   },\n",
        "       'all_models': {\n",
        "           model_name: wandb.Table(\n",
        "               columns=[\"Title\", \"Match\"],\n",
        "               data=[[key, value] for key, value in results.items()]),\n",
        "       }\n",
        "       })"
      ],
      "execution_count": null,
      "outputs": []
    },
    {
      "cell_type": "markdown",
      "metadata": {
        "id": "_UzVV5yn4Q-K"
      },
      "source": [
        "### Save Results for WebApp"
      ]
    },
    {
      "cell_type": "code",
      "metadata": {
        "id": "nS_bRwHehOUr"
      },
      "source": [
        "%%time\n",
        "if generate_webapp_data:\n",
        "  _tunes = list(tunes['title_playlist'].values())\n",
        "  #_tunes = tunes_eval_list\n",
        "\n",
        "  method = 'doc2vec'\n",
        "\n",
        "  df_sim = get_section_scores_doc2vec(_tunes)\n",
        "\n",
        "  result = None\n",
        "  for tune in _tunes:\n",
        "    tune_result, details = recommend_tune(df_sim, tune)\n",
        "    if result is None:\n",
        "      result = pd.DataFrame(columns=tune_result.columns)\n",
        "    result = result.append(tune_result)\n",
        "\n",
        "  # save to file\n",
        "  (result\n",
        "   .loc[:,['reference_titleid',\n",
        "           'similar_titleid',\n",
        "           'score']]\n",
        "   .to_csv(f'output/recommender_{method}.csv', encoding='utf8')\n",
        "  )\n",
        "  with zipfile.ZipFile(f'output/recommender_{method}.zip', 'w') as zf:\n",
        "    zf.write(f'output/recommender_{method}.csv')\n",
        "\n",
        "\n",
        "  # save to wandb\n",
        "  if use_wandb:\n",
        "    model_artifact = wandb.Artifact(\n",
        "        f\"recommender_{method}\", \n",
        "        type=\"csv\",\n",
        "        description=f\"Recommendations for each Tune using {method} Model (csv file)\",\n",
        "        metadata=\"\")\n",
        "\n",
        "    model_artifact.add_file(f'output/recommender_{method}.zip')\n",
        "    wandb.log_artifact(model_artifact)"
      ],
      "execution_count": null,
      "outputs": []
    },
    {
      "cell_type": "markdown",
      "metadata": {
        "id": "XmDZT5t7gjgV"
      },
      "source": [
        "# Venn diagrams for Results"
      ]
    },
    {
      "cell_type": "code",
      "metadata": {
        "id": "U6WrsBcc00ar"
      },
      "source": [
        "import matplotlib.pyplot as plt\n",
        "from matplotlib_venn import venn3\n",
        "\n",
        "if False:\n",
        "  for tune in tunes_eval_list:\n",
        "    df, details = recommend_tune(df_tfidf, tune)\n",
        "    tfidf_tunes = list(df.head(30).loc[:,'similar_title'])\n",
        "\n",
        "    df, details = recommend_tune(df_lsi, tune)\n",
        "    lsi_tunes = list(df.head(30).loc[:,'similar_title'])\n",
        "\n",
        "    df, details = recommend_tune(df_doc2vec, tune)\n",
        "    word2vec_tunes = list(df.head(30).loc[:,'similar_title'])\n",
        "\n",
        "    set_tfidf = set(tfidf_tunes)\n",
        "    set_lsi = set(lsi_tunes)\n",
        "    set_word2vec = set(word2vec_tunes)\n",
        "\n",
        "    venn3([set_tfidf, set_lsi, set_word2vec], \n",
        "          set_labels=('TF-IDF', 'LSI', 'Doc2Vec'),\n",
        "          )\n",
        "    plt.title(f\"{tune}\")\n",
        "    plt.savefig('plot.png')\n",
        "    \n",
        "    if use_wandb:\n",
        "      wandb.log({\"venn_methods\": wandb.Image('plot.png')})\n",
        "    \n",
        "    plt.show()"
      ],
      "execution_count": null,
      "outputs": []
    },
    {
      "cell_type": "markdown",
      "metadata": {
        "id": "RhOWHSEU0DQH"
      },
      "source": [
        "# W&B Logging and Finish"
      ]
    },
    {
      "cell_type": "code",
      "metadata": {
        "id": "YMUDRHkm0aMV"
      },
      "source": [
        "if use_wandb:\n",
        "  wandb.finish()"
      ],
      "execution_count": null,
      "outputs": []
    },
    {
      "cell_type": "code",
      "metadata": {
        "id": "Vn_SFyKt0bYx"
      },
      "source": [
        "\n"
      ],
      "execution_count": null,
      "outputs": []
    },
    {
      "cell_type": "code",
      "metadata": {
        "id": "OaSXwXe9ptGr"
      },
      "source": [
        ""
      ],
      "execution_count": null,
      "outputs": []
    }
  ]
}